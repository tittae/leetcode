{
  "nbformat": 4,
  "nbformat_minor": 0,
  "metadata": {
    "colab": {
      "name": "Min Max Stack Construction (Medium).ipynb",
      "provenance": [],
      "collapsed_sections": [],
      "authorship_tag": "ABX9TyMAMPIOx1ha4xYgbEZcibYV",
      "include_colab_link": true
    },
    "kernelspec": {
      "name": "python3",
      "display_name": "Python 3"
    },
    "language_info": {
      "name": "python"
    }
  },
  "cells": [
    {
      "cell_type": "markdown",
      "metadata": {
        "id": "view-in-github",
        "colab_type": "text"
      },
      "source": [
        "<a href=\"https://colab.research.google.com/github/wisarootl/leetcode/blob/main/Min_Max_Stack_Construction_(Medium).ipynb\" target=\"_parent\"><img src=\"https://colab.research.google.com/assets/colab-badge.svg\" alt=\"Open In Colab\"/></a>"
      ]
    },
    {
      "cell_type": "markdown",
      "source": [
        "# Min Max Stack Construction"
      ],
      "metadata": {
        "id": "-IAFq-fzit6p"
      }
    },
    {
      "cell_type": "markdown",
      "source": [
        "Write a `MinMaxStack` class for a Min Max Stack. The class should support:\n",
        "\n",
        "- Pushing and popping values on and off the stack.\n",
        "- Peeking at the value at the top of the stack.\n",
        "- Getting both the minimum and the maximum values in the stack at any given point in time.\n",
        "All class methods, when considered independently, should run in constant time and with constant space."
      ],
      "metadata": {
        "id": "3WEoIbWpiwH8"
      }
    },
    {
      "cell_type": "markdown",
      "source": [
        "Sample Usage\n",
        "\n",
        "```\n",
        "// All operations below are performed sequentially.\n",
        "MinMaxStack(): - // instantiate a MinMaxStack\n",
        "push(5): -\n",
        "getMin(): 5\n",
        "getMax(): 5\n",
        "peek(): 5\n",
        "push(7): -\n",
        "getMin(): 5\n",
        "getMax(): 7\n",
        "peek(): 7\n",
        "push(2): -\n",
        "getMin(): 2\n",
        "getMax(): 7\n",
        "peek(): 2\n",
        "pop(): 2\n",
        "pop(): 7\n",
        "getMin(): 5\n",
        "getMax(): 5\n",
        "peek(): 5\n",
        "```\n",
        "\n"
      ],
      "metadata": {
        "id": "9DyPanyHizuF"
      }
    },
    {
      "cell_type": "code",
      "execution_count": 1,
      "metadata": {
        "id": "9ioQAMGpg9Oi"
      },
      "outputs": [],
      "source": [
        "# Feel free to add new properties and methods to the class.\n",
        "class MinMaxStack:\n",
        "  def __init__(self):\n",
        "    self.stack = []\n",
        "    self.min_max_stack = []\n",
        "\n",
        "  # O(1) time | O(1) space\n",
        "  def peek(self):\n",
        "    return self.stack[-1]\n",
        "\n",
        "  # O(1) time | O(1) space\n",
        "  def pop(self):\n",
        "    self.min_max_stack.pop()\n",
        "    return self.stack.pop()\n",
        "\n",
        "  # O(1) time | O(1) space\n",
        "  def push(self, number):\n",
        "    self.stack.append(number)\n",
        "    new_min_max = {'min': number, 'max': number}\n",
        "    if len(self.min_max_stack) > 0:\n",
        "      last_min_max = self.min_max_stack[-1]\n",
        "      new_min_max['min'] = min(last_min_max['min'], number)\n",
        "      new_min_max['max'] = max(last_min_max['max'], number)\n",
        "    self.min_max_stack.append(new_min_max)\n",
        "\n",
        "  # O(1) time | O(1) space\n",
        "  def getMin(self):\n",
        "    return self.min_max_stack[-1]['min']\n",
        "\n",
        "  # O(1) time | O(1) space\n",
        "  def getMax(self):\n",
        "    return self.min_max_stack[-1]['max']"
      ]
    },
    {
      "cell_type": "code",
      "source": [
        "stack = MinMaxStack()\n",
        "stack.push(5)"
      ],
      "metadata": {
        "id": "dT4y2sM5hckd"
      },
      "execution_count": 2,
      "outputs": []
    },
    {
      "cell_type": "code",
      "source": [
        "print(stack.getMin())\n",
        "print(stack.getMax())\n",
        "print(stack.peek())"
      ],
      "metadata": {
        "colab": {
          "base_uri": "https://localhost:8080/"
        },
        "id": "p_xcW6lWhmpT",
        "outputId": "d49faed6-088c-462f-b745-53ed44119035"
      },
      "execution_count": 3,
      "outputs": [
        {
          "output_type": "stream",
          "name": "stdout",
          "text": [
            "5\n",
            "5\n",
            "5\n"
          ]
        }
      ]
    },
    {
      "cell_type": "code",
      "source": [
        "print(stack.push(7))\n",
        "print(stack.getMin())\n",
        "print(stack.getMax())"
      ],
      "metadata": {
        "colab": {
          "base_uri": "https://localhost:8080/"
        },
        "id": "wso0XlP5iZR2",
        "outputId": "73afe443-28f4-42b9-c52c-43cd860768b6"
      },
      "execution_count": 4,
      "outputs": [
        {
          "output_type": "stream",
          "name": "stdout",
          "text": [
            "None\n",
            "5\n",
            "7\n"
          ]
        }
      ]
    },
    {
      "cell_type": "code",
      "source": [
        "print(stack.peek())\n",
        "print(stack.push(2))\n",
        "print(stack.getMin())\n",
        "print(stack.getMax())"
      ],
      "metadata": {
        "colab": {
          "base_uri": "https://localhost:8080/"
        },
        "id": "5_smCiNHicKw",
        "outputId": "de9306af-e735-4f16-d40a-2ab90862e3b9"
      },
      "execution_count": 5,
      "outputs": [
        {
          "output_type": "stream",
          "name": "stdout",
          "text": [
            "7\n",
            "None\n",
            "2\n",
            "7\n"
          ]
        }
      ]
    },
    {
      "cell_type": "code",
      "source": [
        "print(stack.peek())\n",
        "print(stack.pop())\n",
        "print(stack.pop())"
      ],
      "metadata": {
        "colab": {
          "base_uri": "https://localhost:8080/"
        },
        "id": "6Iu5xsRtiinN",
        "outputId": "a859c8b3-1741-4e84-c377-b33bc5fbd691"
      },
      "execution_count": 6,
      "outputs": [
        {
          "output_type": "stream",
          "name": "stdout",
          "text": [
            "2\n",
            "2\n",
            "7\n"
          ]
        }
      ]
    },
    {
      "cell_type": "code",
      "source": [
        "print(stack.getMin())\n",
        "print(stack.getMax())\n",
        "print(stack.peek())"
      ],
      "metadata": {
        "colab": {
          "base_uri": "https://localhost:8080/"
        },
        "id": "GKC-WJ3fipYa",
        "outputId": "c53be99d-9b93-4210-c6e1-69d40ba8a9c2"
      },
      "execution_count": 7,
      "outputs": [
        {
          "output_type": "stream",
          "name": "stdout",
          "text": [
            "5\n",
            "5\n",
            "5\n"
          ]
        }
      ]
    }
  ]
}