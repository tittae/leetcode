{
  "nbformat": 4,
  "nbformat_minor": 0,
  "metadata": {
    "colab": {
      "name": "Largest Range (Hard).ipynb",
      "provenance": [],
      "authorship_tag": "ABX9TyOoeyUIJiujt4VZcx8dTSbj",
      "include_colab_link": true
    },
    "kernelspec": {
      "name": "python3",
      "display_name": "Python 3"
    },
    "language_info": {
      "name": "python"
    }
  },
  "cells": [
    {
      "cell_type": "markdown",
      "metadata": {
        "id": "view-in-github",
        "colab_type": "text"
      },
      "source": [
        "<a href=\"https://colab.research.google.com/github/wisarootl/leetcode/blob/main/Largest_Range_(Hard).ipynb\" target=\"_parent\"><img src=\"https://colab.research.google.com/assets/colab-badge.svg\" alt=\"Open In Colab\"/></a>"
      ]
    },
    {
      "cell_type": "markdown",
      "source": [
        "# Largest Range"
      ],
      "metadata": {
        "id": "7jnswfu4ghm2"
      }
    },
    {
      "cell_type": "markdown",
      "source": [
        "Write a function that takes in an array of integers and returns an array of length 2 representing the largest range of integers contained in that array.\n",
        "\n",
        "The first number in the output array should be the first number in the range, while the second number should be the last number in the range.\n",
        "\n",
        "A range of numbers is defined as a set of numbers that come right after each other in the set of real integers. For instance, the output array `[2, 6]` represents the range `{2, 3, 4, 5, 6}`, which is a range of length 5. Note that numbers don't need to be sorted or adjacent in the input array in order to form a range.\n",
        "\n",
        "You can assume that there will only be one largest range."
      ],
      "metadata": {
        "id": "QaTN5NVagicH"
      }
    },
    {
      "cell_type": "markdown",
      "source": [
        "Sample Input\n",
        "\n",
        "```\n",
        "array = [1, 11, 3, 0, 15, 5, 2, 4, 10, 7, 12, 6]\n",
        "```\n",
        "\n"
      ],
      "metadata": {
        "id": "cmKixaURgmPq"
      }
    },
    {
      "cell_type": "markdown",
      "source": [
        "Sample Output\n",
        "\n",
        "```\n",
        "[0, 7]\n",
        "```\n",
        "\n"
      ],
      "metadata": {
        "id": "aPk3vUQTgoOl"
      }
    },
    {
      "cell_type": "code",
      "execution_count": 1,
      "metadata": {
        "id": "ScSlCRzefldx"
      },
      "outputs": [],
      "source": [
        "def largestRange(array):\n",
        "\tvisited = {}\n",
        "\tmax_range_lenght = 0\n",
        "\tmax_range = [None, None]\n",
        "\tfor i in range(len(array)):\n",
        "\t\tvisited[array[i]] = False\n",
        "\n",
        "\tfor i in range(len(array)):\n",
        "\t\tif visited[array[i]] == True:\n",
        "      continue\n",
        "    current_number = array[i]\n",
        "    visited[current_number] = True\n",
        "\n",
        "    left_value = array[i] - 1\n",
        "    while left_value in visited:\n",
        "      visited[left_value] = True\n",
        "      left_value -= 1\n",
        "    left_value += 1\n",
        "\n",
        "    right_value = array[i] + 1\n",
        "    while right_value in visited:\n",
        "      visited[right_value] = True\n",
        "      right_value += 1\n",
        "    right_value -= 1\n",
        "  \n",
        "    current_range_lenght = right_value - left_value + 1\n",
        "    if current_range_lenght > max_range_lenght:\n",
        "      max_range_lenght = current_range_lenght\n",
        "      max_range = [left_value, right_value]\n",
        "\treturn max_range"
      ]
    },
    {
      "cell_type": "code",
      "source": [
        "array = [1, 11, 3, 0, 15, 5, 2, 4, 10, 7, 12, 6]\n",
        "largestRange(array)"
      ],
      "metadata": {
        "colab": {
          "base_uri": "https://localhost:8080/"
        },
        "id": "AXWzM44ofpI9",
        "outputId": "5d174a49-99b3-46a6-b035-2947bda4c35e"
      },
      "execution_count": 3,
      "outputs": [
        {
          "output_type": "execute_result",
          "data": {
            "text/plain": [
              "[0, 7]"
            ]
          },
          "metadata": {},
          "execution_count": 3
        }
      ]
    }
  ]
}