{
 "cells": [
  {
   "cell_type": "markdown",
   "metadata": {},
   "source": [
    "# Deepest Leaves Sum"
   ]
  },
  {
   "cell_type": "markdown",
   "metadata": {},
   "source": [
    "Given the root of a binary tree, return the sum of values of its deepest leaves."
   ]
  },
  {
   "cell_type": "markdown",
   "metadata": {},
   "source": [
    "Example 1:\n",
    "\n",
    "```\n",
    "      1\n",
    "     / \\\n",
    "    2   3\n",
    "   / \\   \\\n",
    "  4   5   6\n",
    " /         \\\n",
    "7           8\n",
    "```\n",
    "\n",
    "\n",
    "```\n",
    "Input: root = [1,2,3,4,5,null,6,7,null,null,null,null,8]\n",
    "Output: 15\n",
    "```\n"
   ]
  },
  {
   "cell_type": "markdown",
   "metadata": {},
   "source": [
    "Example 2:\n",
    "\n",
    "```\n",
    "Input: root = [6,7,8,2,7,1,3,9,null,1,4,null,null,null,5]\n",
    "Output: 19\n",
    "```"
   ]
  },
  {
   "cell_type": "markdown",
   "metadata": {},
   "source": [
    "Constraints:\n",
    "\n",
    "```\n",
    "The number of nodes in the tree is in the range [1, 104].\n",
    "1 <= Node.val <= 100\n",
    "```"
   ]
  },
  {
   "cell_type": "code",
   "execution_count": 1,
   "metadata": {},
   "outputs": [],
   "source": [
    "# Definition for a binary tree node.\n",
    "class TreeNode:\n",
    "    def __init__(self, val=0, left=None, right=None):\n",
    "        self.val = val\n",
    "        self.left = left\n",
    "        self.right = right\n",
    "\n",
    "class Solution:\n",
    "    # time O(n)\n",
    "    # space O(d)\n",
    "    def deepestLeavesSum(self, root) -> int:\n",
    "        deepest_sum = depth = 0\n",
    "        stack = [(root, 0)]\n",
    "        \n",
    "        while stack:\n",
    "            node, curr_depth = stack.pop()\n",
    "            if node.left is None and node.right is None:\n",
    "                # if this leaf is the deepest one seen so far\n",
    "                if depth < curr_depth:\n",
    "                    deepest_sum = node.val      # start new sum\n",
    "                    depth = curr_depth          # note new depth\n",
    "                # if there were already leaves at this depth\n",
    "                elif depth == curr_depth:\n",
    "                    deepest_sum += node.val     # update existing sum\n",
    "                    \n",
    "            else:\n",
    "                if node.right:\n",
    "                    stack.append((node.right, curr_depth + 1))\n",
    "                if node.left:\n",
    "                    stack.append((node.left, curr_depth + 1))\n",
    "                        \n",
    "        return deepest_sum"
   ]
  },
  {
   "cell_type": "code",
   "execution_count": 3,
   "metadata": {},
   "outputs": [
    {
     "name": "stdout",
     "output_type": "stream",
     "text": [
      "15\n"
     ]
    }
   ],
   "source": [
    "root = TreeNode(1)\n",
    "root.left = TreeNode(2)\n",
    "root.right = TreeNode(3)\n",
    "root.left.left = TreeNode(4)\n",
    "root.left.right = TreeNode(5)\n",
    "root.right.right = TreeNode(6)\n",
    "root.left.left.left = TreeNode(7)\n",
    "root.right.right.right = TreeNode(8)\n",
    "\n",
    "expected = 15\n",
    "\n",
    "output = Solution().deepestLeavesSum(root)\n",
    "print(output)\n",
    "assert output == expected"
   ]
  }
 ],
 "metadata": {
  "interpreter": {
   "hash": "20ac7aad763b689ebdaff2f53a3073c7ed55a0f51860968fbf5603f714378c4e"
  },
  "kernelspec": {
   "display_name": "Python 3.10.0 64-bit",
   "language": "python",
   "name": "python3"
  },
  "language_info": {
   "codemirror_mode": {
    "name": "ipython",
    "version": 3
   },
   "file_extension": ".py",
   "mimetype": "text/x-python",
   "name": "python",
   "nbconvert_exporter": "python",
   "pygments_lexer": "ipython3",
   "version": "3.10.0"
  },
  "orig_nbformat": 4
 },
 "nbformat": 4,
 "nbformat_minor": 2
}
