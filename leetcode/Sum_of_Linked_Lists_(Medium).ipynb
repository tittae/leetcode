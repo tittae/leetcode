{
  "nbformat": 4,
  "nbformat_minor": 0,
  "metadata": {
    "colab": {
      "name": "Sum of Linked Lists (Medium).ipynb",
      "provenance": [],
      "authorship_tag": "ABX9TyNd54lGZvRIWX1/fgF14kfV",
      "include_colab_link": true
    },
    "kernelspec": {
      "name": "python3",
      "display_name": "Python 3"
    },
    "language_info": {
      "name": "python"
    }
  },
  "cells": [
    {
      "cell_type": "markdown",
      "metadata": {
        "id": "view-in-github",
        "colab_type": "text"
      },
      "source": [
        "<a href=\"https://colab.research.google.com/github/wisarootl/leetcode/blob/main/Sum_of_Linked_Lists_(Medium).ipynb\" target=\"_parent\"><img src=\"https://colab.research.google.com/assets/colab-badge.svg\" alt=\"Open In Colab\"/></a>"
      ]
    },
    {
      "cell_type": "markdown",
      "source": [
        "# Sum of Linked Lists"
      ],
      "metadata": {
        "id": "yFSRGj7KDHzx"
      }
    },
    {
      "cell_type": "markdown",
      "source": [
        "You're given two Linked Lists of potentially unequal length. Each Linked List represents a non-negative integer, where each node in the Linked List is a digit of that integer, and the first node in each Linked List always represents the least significant digit of the integer. Write a function that returns the head of a new Linked List that represents the sum of the integers represented by the two input Linked Lists.\n",
        "\n",
        "Each `LinkedList` node has an integer `value` as well as a `next` node pointing to the next node in the list or to `None` / `null` if it's the tail of the list. The `value` of each `LinkedList` node is always in the range of `0 - 9`.\n",
        "\n",
        "Note: your function must create and return a new Linked List, and you're not allowed to modify either of the input Linked Lists."
      ],
      "metadata": {
        "id": "2WXwZzfqDItb"
      }
    },
    {
      "cell_type": "markdown",
      "source": [
        "Sample Input\n",
        "\n",
        "```\n",
        "linkedListOne = 2 -> 4 -> 7 -> 1\n",
        "linkedListTwo = 9 -> 4 -> 5\n",
        "```\n",
        "\n"
      ],
      "metadata": {
        "id": "7B3s7iuHDroP"
      }
    },
    {
      "cell_type": "markdown",
      "source": [
        "Sample Output\n",
        "\n",
        "```\n",
        "1 -> 9 -> 2 -> 2\n",
        "// linkedListOne represents 1742\n",
        "// linkedListTwo represents 549\n",
        "// 1742 + 549 = 2291\n",
        "```\n",
        "\n"
      ],
      "metadata": {
        "id": "5MTfrAuQDtKF"
      }
    },
    {
      "cell_type": "code",
      "execution_count": 1,
      "metadata": {
        "id": "2n6-cj_UDFr_"
      },
      "outputs": [],
      "source": [
        "class LinkedList:\n",
        "  def __init__(self, value):\n",
        "    self.value = value\n",
        "    self.next = None\n",
        "\n",
        "  def __str__(self):\n",
        "    node = self\n",
        "    output_str = ''\n",
        "    while node != None:\n",
        "      output_str = output_str + str(node.value)\n",
        "      if node.next != None:\n",
        "        output_str = output_str + ' -> '\n",
        "      node = node.next\n",
        "    return output_str\n",
        "\n",
        "# Time O(max(n, m))\n",
        "# Space O(max(n, m))\n",
        "def sumOfLinkedLists(linkedListOne, linkedListTwo):\n",
        "  pointer1 = linkedListOne\n",
        "  pointer2 = linkedListTwo\n",
        "  \n",
        "  new_linked_list = LinkedList(0)\n",
        "  pointer3 = new_linked_list\n",
        "  carry = 0\n",
        "  \n",
        "  while pointer1 != None or pointer2 != None or carry != 0:\n",
        "    value1 = pointer1.value if pointer1 != None else 0\n",
        "    value2 = pointer2.value if pointer2 != None else 0\n",
        "    sum_value = value1 + value2 + carry\n",
        "\n",
        "    new_value = sum_value % 10\n",
        "    carry = sum_value // 10\n",
        "    pointer3.next = LinkedList(new_value)\n",
        "    pointer3 = pointer3.next\n",
        "\n",
        "    pointer1 = pointer1.next if pointer1 != None else None\n",
        "    pointer2 = pointer2.next if pointer2 != None else None\n",
        "\n",
        "  return new_linked_list.next"
      ]
    },
    {
      "cell_type": "code",
      "source": [
        "def create_link_list(array):\n",
        "  head = LinkedList(array[0])\n",
        "  node = head\n",
        "  for i in range(1, len(array)):\n",
        "    node.next = LinkedList(array[i])\n",
        "    node = node.next\n",
        "  return head"
      ],
      "metadata": {
        "id": "_Hw0Y8DWEGC_"
      },
      "execution_count": 2,
      "outputs": []
    },
    {
      "cell_type": "code",
      "source": [
        "linkedListOne = create_link_list([2, 4, 7, 1])\n",
        "linkedListTwo = create_link_list([9, 4, 5])\n",
        "print(linkedListOne)\n",
        "print(linkedListTwo)"
      ],
      "metadata": {
        "colab": {
          "base_uri": "https://localhost:8080/"
        },
        "id": "Rd7zSNg5D3FW",
        "outputId": "a91b3048-7793-4994-d5ea-e7f27b2695ec"
      },
      "execution_count": 3,
      "outputs": [
        {
          "output_type": "stream",
          "name": "stdout",
          "text": [
            "2 -> 4 -> 7 -> 1\n",
            "9 -> 4 -> 5\n"
          ]
        }
      ]
    },
    {
      "cell_type": "code",
      "source": [
        "new_linked_list = sumOfLinkedLists(linkedListOne, linkedListTwo)\n",
        "print(new_linked_list)"
      ],
      "metadata": {
        "colab": {
          "base_uri": "https://localhost:8080/"
        },
        "id": "ueUk8Y3bEKEf",
        "outputId": "d9fd79ad-93b0-427e-f3fd-f5803b85506e"
      },
      "execution_count": 4,
      "outputs": [
        {
          "output_type": "stream",
          "name": "stdout",
          "text": [
            "1 -> 9 -> 2 -> 2\n"
          ]
        }
      ]
    },
    {
      "cell_type": "code",
      "source": [
        "linkedListOne = create_link_list([2])\n",
        "linkedListTwo = create_link_list([9])\n",
        "print(linkedListOne)\n",
        "print(linkedListTwo)\n",
        "new_linked_list = sumOfLinkedLists(linkedListOne, linkedListTwo)\n",
        "print(new_linked_list)"
      ],
      "metadata": {
        "colab": {
          "base_uri": "https://localhost:8080/"
        },
        "id": "hBauY85ZEWGe",
        "outputId": "938f4864-4278-45b6-dc8b-ab3ef94b138b"
      },
      "execution_count": 5,
      "outputs": [
        {
          "output_type": "stream",
          "name": "stdout",
          "text": [
            "2\n",
            "9\n",
            "1 -> 1\n"
          ]
        }
      ]
    }
  ]
}