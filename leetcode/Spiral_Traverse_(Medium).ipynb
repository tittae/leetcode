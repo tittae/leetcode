{
  "nbformat": 4,
  "nbformat_minor": 0,
  "metadata": {
    "colab": {
      "name": "Spiral Traverse (Medium).ipynb",
      "provenance": [],
      "collapsed_sections": [],
      "authorship_tag": "ABX9TyNdH7AN4vAKBkqAGXPUzkVp",
      "include_colab_link": true
    },
    "kernelspec": {
      "name": "python3",
      "display_name": "Python 3"
    },
    "language_info": {
      "name": "python"
    }
  },
  "cells": [
    {
      "cell_type": "markdown",
      "metadata": {
        "id": "view-in-github",
        "colab_type": "text"
      },
      "source": [
        "<a href=\"https://colab.research.google.com/github/wisarootl/leetcode/blob/main/Spiral_Traverse_(Medium).ipynb\" target=\"_parent\"><img src=\"https://colab.research.google.com/assets/colab-badge.svg\" alt=\"Open In Colab\"/></a>"
      ]
    },
    {
      "cell_type": "markdown",
      "metadata": {
        "id": "0DRExAlnLD4J"
      },
      "source": [
        "# Spiral Traverse"
      ]
    },
    {
      "cell_type": "markdown",
      "metadata": {
        "id": "1lKHuSa8LFHv"
      },
      "source": [
        "Write a function that takes in an n x m two-dimensional array (that can be square-shaped when n == m) and returns a one-dimensional array of all the array's elements in spiral order.\n",
        "\n",
        "Spiral order starts at the top left corner of the two-dimensional array, goes to the right, and proceeds in a spiral pattern all the way until every element has been visited."
      ]
    },
    {
      "cell_type": "markdown",
      "metadata": {
        "id": "LEwS0tD3LGgY"
      },
      "source": [
        "Sample Input\n",
        "\n",
        "```\n",
        "array = [\n",
        "  [1,   2,  3, 4],\n",
        "  [12, 13, 14, 5],\n",
        "  [11, 16, 15, 6],\n",
        "  [10,  9,  8, 7],\n",
        "]\n",
        "```\n",
        "\n"
      ]
    },
    {
      "cell_type": "markdown",
      "metadata": {
        "id": "qmBRFQqqLJiT"
      },
      "source": [
        "Sample Output\n",
        "\n",
        "```\n",
        "[1, 2, 3, 4, 5, 6, 7, 8, 9, 10, 11, 12, 13, 14, 15, 16]\n",
        "```\n",
        "\n"
      ]
    },
    {
      "cell_type": "code",
      "metadata": {
        "id": "AfJ0t13jLA1A"
      },
      "source": [
        "# Time O(n)\n",
        "# Space O(n) to store resutls\n",
        "# n = total no. of elements\n",
        "\n",
        "def spiralTraverse(array):\n",
        "  start_row = 0\n",
        "  end_row = len(array) - 1\n",
        "  start_col = 0\n",
        "  end_col = len(array[0]) - 1\n",
        "\n",
        "  results = []\n",
        "\n",
        "  while start_row <= end_row and start_col <= end_col:\n",
        "    for i in range(start_col, end_col + 1):\n",
        "      results.append(array[start_row][i])\n",
        "\n",
        "    # handle the case where we end after leftward traversal\n",
        "    if start_row == end_row: break\n",
        "\n",
        "    for i in range(start_row + 1, end_row + 1):\n",
        "      results.append(array[i][end_col])\n",
        "      \n",
        "    # handle the case where we end after downard traversal\n",
        "    if start_col == end_col: break\n",
        "\n",
        "    for i in reversed(range(start_col, end_col)):\n",
        "      results.append(array[end_row][i])\n",
        "\n",
        "    for i in reversed(range(start_row + 1, end_row)):\n",
        "      results.append(array[i][start_col])\n",
        "\n",
        "    start_row += 1\n",
        "    end_row -= 1\n",
        "    start_col += 1\n",
        "    end_col -= 1\n",
        "  \n",
        "  return results"
      ],
      "execution_count": null,
      "outputs": []
    },
    {
      "cell_type": "code",
      "metadata": {
        "id": "povcBU2cgKm9"
      },
      "source": [
        "array = [\n",
        "  [1,   2,  3, 4],\n",
        "  [12, 13, 14, 5],\n",
        "  [11, 16, 15, 6],\n",
        "  [10,  9,  8, 7],\n",
        "]"
      ],
      "execution_count": null,
      "outputs": []
    },
    {
      "cell_type": "code",
      "metadata": {
        "colab": {
          "base_uri": "https://localhost:8080/"
        },
        "id": "hs9aYfrdgL08",
        "outputId": "8c28127d-57be-4b41-914f-66dea7dbbc3e"
      },
      "source": [
        "print(spiralTraverse(array))"
      ],
      "execution_count": null,
      "outputs": [
        {
          "output_type": "stream",
          "name": "stdout",
          "text": [
            "[1, 2, 3, 4, 5, 6, 7, 8, 9, 10, 11, 12, 13, 14, 15, 16]\n"
          ]
        }
      ]
    },
    {
      "cell_type": "code",
      "metadata": {
        "colab": {
          "base_uri": "https://localhost:8080/"
        },
        "id": "fhorn4Vtj3JP",
        "outputId": "39521ba3-7ce2-4056-aee4-c69a3f44b63d"
      },
      "source": [
        "# this case will end after leftward traversal\n",
        "array = [\n",
        "  [1,   2,  3, 4],\n",
        "  [10, 11, 12, 5],\n",
        "  [9,  8,  7, 6],\n",
        "]\n",
        "print(spiralTraverse(array))"
      ],
      "execution_count": null,
      "outputs": [
        {
          "output_type": "stream",
          "name": "stdout",
          "text": [
            "[1, 2, 3, 4, 5, 6, 7, 8, 9, 10, 11, 12]\n"
          ]
        }
      ]
    },
    {
      "cell_type": "code",
      "metadata": {
        "colab": {
          "base_uri": "https://localhost:8080/"
        },
        "id": "rqrdH3tDkZpE",
        "outputId": "fa20aefa-5738-450a-e39b-cd6c5c61d189"
      },
      "source": [
        "# this case will end after downward traversal\n",
        "\n",
        "array = [\n",
        "  [1,   2,  3],\n",
        "  [10, 11, 4],\n",
        "  [9, 12, 5],\n",
        "  [8,  7,  6],\n",
        "]\n",
        "\n",
        "print(spiralTraverse(array))"
      ],
      "execution_count": null,
      "outputs": [
        {
          "output_type": "stream",
          "name": "stdout",
          "text": [
            "[1, 2, 3, 4, 5, 6, 7, 8, 9, 10, 11, 12]\n"
          ]
        }
      ]
    }
  ]
}