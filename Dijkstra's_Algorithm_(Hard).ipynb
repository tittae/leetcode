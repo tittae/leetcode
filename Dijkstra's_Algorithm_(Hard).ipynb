{
  "nbformat": 4,
  "nbformat_minor": 0,
  "metadata": {
    "colab": {
      "name": "Dijkstra's Algorithm (Hard).ipynb",
      "provenance": [],
      "collapsed_sections": [],
      "authorship_tag": "ABX9TyO4R2ccZbAMpxVe2y057X0N",
      "include_colab_link": true
    },
    "kernelspec": {
      "name": "python3",
      "display_name": "Python 3"
    },
    "language_info": {
      "name": "python"
    }
  },
  "cells": [
    {
      "cell_type": "markdown",
      "metadata": {
        "id": "view-in-github",
        "colab_type": "text"
      },
      "source": [
        "<a href=\"https://colab.research.google.com/github/wisarootl/leetcode/blob/main/Dijkstra's_Algorithm_(Hard).ipynb\" target=\"_parent\"><img src=\"https://colab.research.google.com/assets/colab-badge.svg\" alt=\"Open In Colab\"/></a>"
      ]
    },
    {
      "cell_type": "code",
      "execution_count": 1,
      "metadata": {
        "id": "j5WEoq0yTHQc"
      },
      "outputs": [],
      "source": [
        "class MinHeap:\n",
        "  def __init__(self, array):\n",
        "    self.heap = self.build_heap(array)\n",
        "    self.node_position_in_heap = {node.id: idx for idx, node in enumerate(self.heap)}\n",
        "\n",
        "  def build_heap(self, array):\n",
        "    last_parent = (len(array) - 2) // 2\n",
        "    for idx in reversed(range(last_parent + 1)):\n",
        "      self.sift_down(idx, array)\n",
        "    return array\n",
        "  \n",
        "  def sift_down(self, idx, heap):\n",
        "    child_one_idx = (2 * idx) + 1\n",
        "    child_two_idx = (2 * idx) + 2\n",
        "    end_idx = len(heap) - 1\n",
        "    while child_one_idx <= end_idx:\n",
        "      if child_two_idx <= end_idx and heap[child_two_idx].f < heap[child_one_idx].f:\n",
        "        idx_to_swap = child_two_idx\n",
        "      else:\n",
        "        idx_to_swap = child_one_idx\n",
        "      \n",
        "      if heap[idx_to_swap].f < heap[idx].f:\n",
        "        self.swap(idx, idx_to_swap, heap)\n",
        "        idx = idx_to_swap\n",
        "        child_one_idx = (2 * idx) + 1\n",
        "        child_two_idx = (2 * idx) + 2\n",
        "      else:\n",
        "        return\n",
        "\n",
        "  def sift_up(self, idx, heap):\n",
        "    parent_idx = (idx - 1) // 2\n",
        "    while idx > 0 and heap[idx].f < heap[parent_idx].f:\n",
        "      self.swap(idx, parent_idx, heap)\n",
        "      idx = parent_idx\n",
        "      parent_idx = (idx - 1) // 2\n",
        "\n",
        "  def remove(self, idx = 0):\n",
        "    self.swap(idx, len(self.heap) - 1, self.heap)\n",
        "    removed_node = self.heap.pop()\n",
        "    del self.node_position_in_heap[removed_node.id]\n",
        "    self.sift_down(idx, self.heap)\n",
        "    return removed_node\n",
        "  \n",
        "  def insert(self, node):\n",
        "    self.heap.append(node)\n",
        "    self.node_position_in_heap[node.id] = len(self.heap) - 1\n",
        "    self.sift_up(len(self.heap) - 1, self.heap)\n",
        "  \n",
        "  def update(self, node):\n",
        "    self.sift_up(self.node_position_in_heap[node.id], self.heap)\n",
        "\n",
        "  def swap(self, i, j, heap):\n",
        "    self.node_position_in_heap[heap[i].id] = j\n",
        "    self.node_position_in_heap[heap[j].id] = i\n",
        "    heap[i], heap[j] = heap[j], heap[i]\n",
        "  \n",
        "  def is_contain(self, node):\n",
        "    return node.id in self.node_position_in_heap"
      ]
    },
    {
      "cell_type": "code",
      "source": [
        "\n",
        "# Time = O((V+E)*V*log(V))\n",
        "# Space = O(V)\n",
        "def dijkstrasAlgorithm(start, edges):\n",
        "  shortest_path = [float('inf')] * len(edges)\n",
        "  shortest_path[start] = 0\n",
        "  # init fringe\n",
        "  fringe = [[start, shortest_path[start]]]\n",
        "  visited = set()\n",
        "  \n",
        "  while True:\n",
        "    # is fringe empty?\n",
        "    if fringe == []:\n",
        "      return list(map(lambda x: -1 if x == float('inf') else x, shortest_path))\n",
        "\n",
        "    # remove front\n",
        "    front = fringe.pop()\n",
        "\n",
        "    # is goal?\n",
        "    if front[0] in visited:\n",
        "      continue\n",
        "\n",
        "    visited.add(front[0])\n",
        "\n",
        "    # gen & insert successor\n",
        "    for edge in edges[front[0]]:\n",
        "      # find shortest path\n",
        "      new_distance = shortest_path[front[0]] + edge[1]\n",
        "      if new_distance < shortest_path[edge[0]]:\n",
        "        shortest_path[edge[0]] = new_distance\n",
        "\n",
        "      fringe.append([edge[0], shortest_path[edge[0]]])\n",
        "  \n",
        "    fringe = sorted(fringe, key=lambda x: x[1], reverse=True)"
      ],
      "metadata": {
        "id": "k22ANiBfd1GD"
      },
      "execution_count": 7,
      "outputs": []
    },
    {
      "cell_type": "code",
      "source": [
        "start = 0\n",
        "edges = [\n",
        "  [[1, 7]],\n",
        "  [[2, 6], [3, 20], [4, 3]],\n",
        "  [[3, 14]],\n",
        "  [[4, 2]],\n",
        "  [],\n",
        "  [],\n",
        "]\n",
        "dijkstrasAlgorithm(start, edges)"
      ],
      "metadata": {
        "colab": {
          "base_uri": "https://localhost:8080/"
        },
        "id": "GzWbOt9Xd2U1",
        "outputId": "0fb445c0-c935-4db6-8a1d-043edf6ac1dd"
      },
      "execution_count": 8,
      "outputs": [
        {
          "output_type": "execute_result",
          "data": {
            "text/plain": [
              "[0, 7, 13, 27, 10, -1]"
            ]
          },
          "metadata": {},
          "execution_count": 8
        }
      ]
    }
  ]
}