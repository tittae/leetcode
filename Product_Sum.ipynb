{
  "nbformat": 4,
  "nbformat_minor": 0,
  "metadata": {
    "colab": {
      "name": "Product Sum.ipynb",
      "provenance": [],
      "authorship_tag": "ABX9TyNLRYj/67osCiERFLJQwiYr",
      "include_colab_link": true
    },
    "kernelspec": {
      "name": "python3",
      "display_name": "Python 3"
    },
    "language_info": {
      "name": "python"
    }
  },
  "cells": [
    {
      "cell_type": "markdown",
      "metadata": {
        "id": "view-in-github",
        "colab_type": "text"
      },
      "source": [
        "<a href=\"https://colab.research.google.com/github/tittae/leetcode/blob/main/Product_Sum.ipynb\" target=\"_parent\"><img src=\"https://colab.research.google.com/assets/colab-badge.svg\" alt=\"Open In Colab\"/></a>"
      ]
    },
    {
      "cell_type": "markdown",
      "metadata": {
        "id": "P2uy46MEBmB9"
      },
      "source": [
        "# Product Sum"
      ]
    },
    {
      "cell_type": "markdown",
      "metadata": {
        "id": "fGHbVUf4BnOr"
      },
      "source": [
        "Write a function that takes in a \"special\" array and returns its product sum.\n",
        "\n",
        "A \"special\" array is a non-empty array that contains either integers or other \"special\" arrays. The product sum of a \"special\" array is the sum of its elements, where \"special\" arrays inside it are summed themselves and then multiplied by their level of depth.\n",
        "\n",
        "The depth of a \"special\" array is how far nested it is. For instance, the depth of [] is 1; the depth of the inner array in [[]] is 2; the depth of the innermost array in [[[]]] is 3.\n",
        "\n",
        "Therefore, the product sum of [x, y] is x + y; the product sum of [x, [y, z]] is x + 2 * (y + z); the product sum of [x, [y, [z]]] is x + 2 * (y + 3z)."
      ]
    },
    {
      "cell_type": "markdown",
      "metadata": {
        "id": "xDt-UxMEBwsN"
      },
      "source": [
        "Sample Input\n",
        "\n",
        "```\n",
        "array = [5, 2, [7, -1], 3, [6, [-13, 8], 4]]\n",
        "```\n",
        "\n"
      ]
    },
    {
      "cell_type": "markdown",
      "metadata": {
        "id": "E8QwYZw0B0gm"
      },
      "source": [
        "Sample Output\n",
        "\n",
        "```\n",
        "12 // calculated as: 5 + 2 + 2 * (7 - 1) + 3 + 2 * (6 + 3 * (-13 + 8) + 4)\n",
        "```\n",
        "\n"
      ]
    },
    {
      "cell_type": "markdown",
      "metadata": {
        "id": "9vaRX_f9YoYP"
      },
      "source": [
        "## Solution"
      ]
    },
    {
      "cell_type": "code",
      "metadata": {
        "id": "ISD03iHCUGV4"
      },
      "source": [
        "array = [5, 2, [7, -1], 3, [6, [-13, 8], 4]]"
      ],
      "execution_count": 1,
      "outputs": []
    },
    {
      "cell_type": "code",
      "metadata": {
        "id": "buYvnxDzBZLs"
      },
      "source": [
        "# time = O(N), space = O(d)\n",
        "# N = No. of element including sub-element (12 in the example array)\n",
        "# D = depth\n",
        "def productSum(array, multiplier = 1):\n",
        "\tsum = 0\n",
        "\tfor element in array:\n",
        "\t\tif type(element) == list:\n",
        "\t\t\tsum += productSum(element, multiplier + 1)\n",
        "\t\telse:\n",
        "\t\t\tsum += element\n",
        "\treturn sum * multiplier\t"
      ],
      "execution_count": 2,
      "outputs": []
    },
    {
      "cell_type": "code",
      "metadata": {
        "colab": {
          "base_uri": "https://localhost:8080/"
        },
        "id": "rQNkEsFsUHzx",
        "outputId": "497b1616-7693-4383-9d47-1a437dcdbd42"
      },
      "source": [
        "print(productSum(array))"
      ],
      "execution_count": 3,
      "outputs": [
        {
          "output_type": "stream",
          "name": "stdout",
          "text": [
            "12\n"
          ]
        }
      ]
    }
  ]
}