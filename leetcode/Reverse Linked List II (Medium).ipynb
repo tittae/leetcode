{
 "cells": [
  {
   "cell_type": "markdown",
   "metadata": {},
   "source": [
    "# Reverse Linked List II"
   ]
  },
  {
   "cell_type": "code",
   "execution_count": 1,
   "metadata": {},
   "outputs": [],
   "source": [
    "# Definition for singly-linked list.\n",
    "from typing import *\n",
    "\n",
    "class ListNode:\n",
    "    def __init__(self, val=0, next=None):\n",
    "        self.val = val\n",
    "        self.next = next\n",
    "\n",
    "class Solution:\n",
    "    def reverseBetween(self, head: Optional[ListNode], left: int, right: int) -> Optional[ListNode]:\n",
    "        # Empty list\n",
    "        if not head:\n",
    "            return None\n",
    "\n",
    "        # Move the two pointers until they reach the proper starting point\n",
    "        # in the list.\n",
    "        cur, prev = head, None\n",
    "        while left > 1:\n",
    "            prev = cur\n",
    "            cur = cur.next\n",
    "            left, right = left - 1, right - 1\n",
    "\n",
    "        # The two pointers that will fix the final connections.\n",
    "        tail, con = cur, prev\n",
    "\n",
    "        # Iteratively reverse the nodes until right becomes 0.\n",
    "        while right:\n",
    "            third = cur.next\n",
    "            cur.next = prev\n",
    "            prev = cur\n",
    "            cur = third\n",
    "            right -= 1\n",
    "\n",
    "        # Adjust the final connections as explained in the algorithm\n",
    "        if con:\n",
    "            con.next = prev\n",
    "        else:\n",
    "            head = prev\n",
    "        tail.next = cur\n",
    "        return head\n",
    "        "
   ]
  },
  {
   "cell_type": "code",
   "execution_count": 2,
   "metadata": {},
   "outputs": [
    {
     "name": "stdout",
     "output_type": "stream",
     "text": [
      "1 4 3 2 5\n"
     ]
    }
   ],
   "source": [
    "head = ListNode(1)\n",
    "head.next = ListNode(2)\n",
    "head.next.next = ListNode(3)\n",
    "head.next.next.next = ListNode(4)\n",
    "head.next.next.next.next = ListNode(5)\n",
    "left = 2\n",
    "right = 4\n",
    "\n",
    "output = Solution().reverseBetween(head, left, right)\n",
    "print(output.val, \n",
    "      output.next.val, \n",
    "      output.next.next.val, \n",
    "      output.next.next.next.val, \n",
    "      output.next.next.next.next.val)\n",
    "\n",
    "assert output.next.val == 4\n",
    "assert output.next.next.next.val == 2"
   ]
  },
  {
   "cell_type": "code",
   "execution_count": 3,
   "metadata": {},
   "outputs": [
    {
     "name": "stdout",
     "output_type": "stream",
     "text": [
      "5\n"
     ]
    }
   ],
   "source": [
    "head = ListNode(5)\n",
    "left = 1\n",
    "right = 1\n",
    "\n",
    "output = Solution().reverseBetween(head, left, right)\n",
    "print(output.val)\n",
    "\n",
    "assert output.val == 5"
   ]
  }
 ],
 "metadata": {
  "kernelspec": {
   "display_name": "Python 3.10.5 64-bit ('3.10.5')",
   "language": "python",
   "name": "python3"
  },
  "language_info": {
   "codemirror_mode": {
    "name": "ipython",
    "version": 3
   },
   "file_extension": ".py",
   "mimetype": "text/x-python",
   "name": "python",
   "nbconvert_exporter": "python",
   "pygments_lexer": "ipython3",
   "version": "3.10.5"
  },
  "orig_nbformat": 4,
  "vscode": {
   "interpreter": {
    "hash": "dc2d830d89733278cb510121746799b806674abe1436eac19497ff768cf27c2d"
   }
  }
 },
 "nbformat": 4,
 "nbformat_minor": 2
}
