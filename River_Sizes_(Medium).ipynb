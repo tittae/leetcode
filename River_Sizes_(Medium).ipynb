{
  "nbformat": 4,
  "nbformat_minor": 0,
  "metadata": {
    "colab": {
      "name": "River Sizes (Medium).ipynb",
      "provenance": [],
      "authorship_tag": "ABX9TyMfgpUdFpnLtqP1fcIyHtz5",
      "include_colab_link": true
    },
    "kernelspec": {
      "name": "python3",
      "display_name": "Python 3"
    },
    "language_info": {
      "name": "python"
    }
  },
  "cells": [
    {
      "cell_type": "markdown",
      "metadata": {
        "id": "view-in-github",
        "colab_type": "text"
      },
      "source": [
        "<a href=\"https://colab.research.google.com/github/wisarootl/leetcode/blob/main/River_Sizes_(Medium).ipynb\" target=\"_parent\"><img src=\"https://colab.research.google.com/assets/colab-badge.svg\" alt=\"Open In Colab\"/></a>"
      ]
    },
    {
      "cell_type": "markdown",
      "source": [
        "# River Sizes"
      ],
      "metadata": {
        "id": "Q13Rxo6Koc3e"
      }
    },
    {
      "cell_type": "markdown",
      "source": [
        "You're given a two-dimensional array (a matrix) of potentially unequal height and width containing only `0`s and `1`s. Each `0` represents land, and each `1` represents part of a river. A river consists of any number of `1`s that are either horizontally or vertically adjacent (but not diagonally adjacent). The number of adjacent `1`s forming a river determine its size.\n",
        "\n",
        "Note that a river can twist. In other words, it doesn't have to be a straight vertical line or a straight horizontal line; it can be L-shaped, for example.\n",
        "\n",
        "Write a function that returns an array of the sizes of all rivers represented in the input matrix. The sizes don't need to be in any particular order."
      ],
      "metadata": {
        "id": "VMmwrStsoe7N"
      }
    },
    {
      "cell_type": "markdown",
      "source": [
        "Sample Input\n",
        "\n",
        "```\n",
        "matrix = [\n",
        "  [1, 0, 0, 1, 0],\n",
        "  [1, 0, 1, 0, 0],\n",
        "  [0, 0, 1, 0, 1],\n",
        "  [1, 0, 1, 0, 1],\n",
        "  [1, 0, 1, 1, 0],\n",
        "]\n",
        "```\n",
        "\n"
      ],
      "metadata": {
        "id": "yIdROZyeooDC"
      }
    },
    {
      "cell_type": "markdown",
      "source": [
        "Sample Output\n",
        "\n",
        "```\n",
        "[1, 2, 2, 2, 5] // The numbers could be ordered differently.\n",
        "\n",
        "// The rivers can be clearly seen here:\n",
        "// [\n",
        "//   [1,  ,  , 1,  ],\n",
        "//   [1,  , 1,  ,  ],\n",
        "//   [ ,  , 1,  , 1],\n",
        "//   [1,  , 1,  , 1],\n",
        "//   [1,  , 1, 1,  ],\n",
        "// ]\n",
        "```\n",
        "\n"
      ],
      "metadata": {
        "id": "znJ8S2pMoqTP"
      }
    },
    {
      "cell_type": "code",
      "execution_count": 3,
      "metadata": {
        "id": "x3OQh-sWkYcX"
      },
      "outputs": [],
      "source": [
        "def riverSizes(matrix):\n",
        "  height = len(matrix)\n",
        "  width = len(matrix[0])\n",
        "  visited = [[0 for _ in range(width)] for _ in range(height)]\n",
        "  river_sizes = []\n",
        "  for row in range(height):\n",
        "    for col in range(width):\n",
        "      if visited[row][col] == 1:\n",
        "        continue\n",
        "      elif matrix[row][col] == 0:\n",
        "        visited[row][col] = 1\n",
        "        continue\n",
        "      \n",
        "      dfs(row, col, matrix, visited, river_sizes)\n",
        "\n",
        "  return river_sizes\n",
        "\n",
        "# Time O(wh)\n",
        "# Space O(wh)\n",
        "def dfs(row, col, matrix, visited, river_sizes):\n",
        "  # init fringe\n",
        "  fringe = [[row, col]]\n",
        "  current_size = 0\n",
        "  while len(fringe) > 0:\n",
        "    front = fringe.pop()\n",
        "    i = front[0]\n",
        "    j = front[1]\n",
        "    if visited[i][j] == 1:\n",
        "      continue\n",
        "    visited[i][j] = 1\n",
        "    if matrix[i][j] == 0:\n",
        "      continue\n",
        "    current_size += 1\n",
        "\n",
        "    # gen / insert successor\n",
        "    if i > 0 and not visited[i - 1][j]:\n",
        "      fringe.append([i - 1, j])\n",
        "    if i < len(matrix) - 1 and not visited[i + 1][j]:\n",
        "      fringe.append([i + 1, j])\n",
        "    if j > 0 and not visited[i][j - 1]:\n",
        "      fringe.append([i, j - 1])\n",
        "    if j < len(matrix[0]) - 1 and not visited[i][j + 1]:\n",
        "      fringe.append([i, j + 1])\n",
        "  \n",
        "  river_sizes.append(current_size)"
      ]
    },
    {
      "cell_type": "code",
      "source": [
        "matrix = [\n",
        "  [1, 0, 0, 1, 0],\n",
        "  [1, 0, 1, 0, 0],\n",
        "  [0, 0, 1, 0, 1],\n",
        "  [1, 0, 1, 0, 1],\n",
        "  [1, 0, 1, 1, 0],\n",
        "]\n",
        "riverSizes(matrix)"
      ],
      "metadata": {
        "colab": {
          "base_uri": "https://localhost:8080/"
        },
        "id": "ViMxseTiktJy",
        "outputId": "c544b4bf-34a4-44b7-8354-91f4f3659b4f"
      },
      "execution_count": 2,
      "outputs": [
        {
          "output_type": "execute_result",
          "data": {
            "text/plain": [
              "[2, 1, 5, 2, 2]"
            ]
          },
          "metadata": {},
          "execution_count": 2
        }
      ]
    }
  ]
}