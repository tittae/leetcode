{
  "nbformat": 4,
  "nbformat_minor": 0,
  "metadata": {
    "colab": {
      "name": "Minimum Remove to Make Valid Parentheses (Medium).ipynb",
      "provenance": [],
      "authorship_tag": "ABX9TyMB3IlVj1Ee1vRE27lJNiy8",
      "include_colab_link": true
    },
    "kernelspec": {
      "name": "python3",
      "display_name": "Python 3"
    },
    "language_info": {
      "name": "python"
    }
  },
  "cells": [
    {
      "cell_type": "markdown",
      "metadata": {
        "id": "view-in-github",
        "colab_type": "text"
      },
      "source": [
        "<a href=\"https://colab.research.google.com/github/wisarootl/leetcode/blob/main/Minimum_Remove_to_Make_Valid_Parentheses_(Medium).ipynb\" target=\"_parent\"><img src=\"https://colab.research.google.com/assets/colab-badge.svg\" alt=\"Open In Colab\"/></a>"
      ]
    },
    {
      "cell_type": "markdown",
      "source": [
        "# Minimum Remove to Make Valid Parentheses"
      ],
      "metadata": {
        "id": "mzU_gLgsDjen"
      }
    },
    {
      "cell_type": "markdown",
      "source": [
        "Given a string s of '(' , ')' and lowercase English characters.\n",
        "\n",
        "Your task is to remove the minimum number of parentheses ( '(' or ')', in any positions ) so that the resulting parentheses string is valid and return any valid string.\n",
        "\n",
        "Formally, a parentheses string is valid if and only if:\n",
        "\n",
        "It is the empty string, contains only lowercase characters, or\n",
        "It can be written as AB (A concatenated with B), where A and B are valid strings, or\n",
        "It can be written as (A), where A is a valid string."
      ],
      "metadata": {
        "id": "AJrkVHegDlpV"
      }
    },
    {
      "cell_type": "markdown",
      "source": [
        "Example 1:\n",
        "\n",
        "\n",
        "```\n",
        "Input: s = \"lee(t(c)o)de)\"\n",
        "Output: \"lee(t(c)o)de\"\n",
        "Explanation: \"lee(t(co)de)\" , \"lee(t(c)ode)\" would also be accepted.\n",
        "```\n",
        "\n",
        "Example 2:\n",
        "\n",
        "\n",
        "```\n",
        "Input: s = \"a)b(c)d\"\n",
        "Output: \"ab(c)d\"\n",
        "```\n",
        "Example 3:\n",
        "```\n",
        "Input: s = \"))((\"\n",
        "Output: \"\"\n",
        "Explanation: An empty string is also valid.\n",
        "```"
      ],
      "metadata": {
        "id": "XHyMOOKUDoYp"
      }
    },
    {
      "cell_type": "markdown",
      "source": [
        "Constraints:\n",
        "\n",
        "\n",
        "```\n",
        "1 <= s.length <= 105\n",
        "s[i] is either'(' , ')', or lowercase English letter.\n",
        "```"
      ],
      "metadata": {
        "id": "twTQOtr6Dzl8"
      }
    },
    {
      "cell_type": "markdown",
      "source": [
        "# Solution"
      ],
      "metadata": {
        "id": "KxeHif-0D4wB"
      }
    },
    {
      "cell_type": "code",
      "execution_count": 1,
      "metadata": {
        "id": "UdQKw0OhDgYY"
      },
      "outputs": [],
      "source": [
        "# Time O(n)\n",
        "# Space O(n)\n",
        "\n",
        "class Solution:\n",
        "    def minRemoveToMakeValid(self, s: str) -> str:\n",
        "        open_parentheses_count = 0\n",
        "        idx_to_remove = set()\n",
        "        for idx in range(len(s)):\n",
        "            if s[idx] == '(':\n",
        "                open_parentheses_count += 1\n",
        "            elif s[idx] == ')':\n",
        "                if open_parentheses_count > 0:\n",
        "                    open_parentheses_count -= 1\n",
        "                else:\n",
        "                    idx_to_remove.add(idx)\n",
        "        \n",
        "        idx = len(s) - 1\n",
        "        while open_parentheses_count > 0:\n",
        "            if s[idx] == '(':\n",
        "                open_parentheses_count -= 1\n",
        "                idx_to_remove.add(idx)\n",
        "            idx -= 1\n",
        "        \n",
        "        output_string = []\n",
        "        for idx in range(len(s)):\n",
        "            if idx not in idx_to_remove:\n",
        "                output_string.append(s[idx])\n",
        "        \n",
        "        return ''.join(output_string)\n",
        "                    "
      ]
    },
    {
      "cell_type": "code",
      "source": [
        "s = \"lee(t(c)o)de)\"\n",
        "print(Solution().minRemoveToMakeValid(s))"
      ],
      "metadata": {
        "colab": {
          "base_uri": "https://localhost:8080/"
        },
        "id": "mmLx32TlD7d5",
        "outputId": "dc147794-7652-4e09-b7ea-6490a605d7ae"
      },
      "execution_count": 2,
      "outputs": [
        {
          "output_type": "stream",
          "name": "stdout",
          "text": [
            "lee(t(c)o)de\n"
          ]
        }
      ]
    },
    {
      "cell_type": "code",
      "source": [
        "s = \"a)b(c)d\"\n",
        "print(Solution().minRemoveToMakeValid(s))"
      ],
      "metadata": {
        "colab": {
          "base_uri": "https://localhost:8080/"
        },
        "id": "trdli9C2ECIx",
        "outputId": "1aa2f8ea-e0d3-429a-c134-aea930c2060d"
      },
      "execution_count": 3,
      "outputs": [
        {
          "output_type": "stream",
          "name": "stdout",
          "text": [
            "ab(c)d\n"
          ]
        }
      ]
    },
    {
      "cell_type": "code",
      "source": [
        "s = \"))((\"\n",
        "print(Solution().minRemoveToMakeValid(s))"
      ],
      "metadata": {
        "colab": {
          "base_uri": "https://localhost:8080/"
        },
        "id": "CTbPTk6EEDDJ",
        "outputId": "3a2d6ba0-e4d5-466b-dee6-965a5f3adc0b"
      },
      "execution_count": 4,
      "outputs": [
        {
          "output_type": "stream",
          "name": "stdout",
          "text": [
            "\n"
          ]
        }
      ]
    }
  ]
}