{
 "cells": [
  {
   "cell_type": "markdown",
   "metadata": {},
   "source": [
    "# Minimum Operations to Reduce X to Zero"
   ]
  },
  {
   "cell_type": "markdown",
   "metadata": {},
   "source": [
    "You are given an integer array nums and an integer x. In one operation, you can either remove the leftmost or the rightmost element from the array nums and subtract its value from x. Note that this modifies the array for future operations.\n",
    "\n",
    "Return the minimum number of operations to reduce x to exactly 0 if it is possible, otherwise, return -1."
   ]
  },
  {
   "cell_type": "markdown",
   "metadata": {},
   "source": [
    "Example 1:\n",
    "\n",
    "```\n",
    "Input: nums = [1,1,4,2,3], x = 5\n",
    "Output: 2\n",
    "Explanation: The optimal solution is to remove the last two elements to reduce x to zero.\n",
    "```"
   ]
  },
  {
   "cell_type": "markdown",
   "metadata": {},
   "source": [
    "Example 2:\n",
    "\n",
    "```\n",
    "Input: nums = [5,6,7,8,9], x = 4\n",
    "Output: -1\n",
    "```"
   ]
  },
  {
   "cell_type": "markdown",
   "metadata": {},
   "source": [
    "Example 3:\n",
    "\n",
    "```\n",
    "Input: nums = [3,2,20,1,1,3], x = 10\n",
    "Output: 5\n",
    "Explanation: The optimal solution is to remove the last three elements and the first two elements (5 operations in total) to reduce x to zero.\n",
    "```"
   ]
  },
  {
   "cell_type": "markdown",
   "metadata": {},
   "source": [
    "Constraints:\n",
    "\n",
    "```\n",
    "1 <= nums.length <= 105\n",
    "1 <= nums[i] <= 104\n",
    "1 <= x <= 109\n",
    "```"
   ]
  },
  {
   "cell_type": "code",
   "execution_count": 1,
   "metadata": {},
   "outputs": [],
   "source": [
    "class Solution:\n",
    "    # Time = O(n)\n",
    "    # Space = O(1)\n",
    "    def minOperations(self, nums, x):\n",
    "        total = sum(nums)\n",
    "        n = len(nums)\n",
    "        maxi = -1\n",
    "        left = 0\n",
    "        current = 0\n",
    "\n",
    "        for right in range(n):\n",
    "            # sum([left ,..., right]) = total - x\n",
    "            current += nums[right]\n",
    "            # if larger, move `left` to left\n",
    "            while current > total-x and left <= right:\n",
    "                current -= nums[left]\n",
    "                left += 1\n",
    "            # check if equal\n",
    "            if current == total-x:\n",
    "                maxi = max(maxi, right-left+1)\n",
    "\n",
    "        return n-maxi if maxi != -1 else -1"
   ]
  },
  {
   "cell_type": "code",
   "execution_count": 2,
   "metadata": {},
   "outputs": [
    {
     "name": "stdout",
     "output_type": "stream",
     "text": [
      "2\n"
     ]
    }
   ],
   "source": [
    "nums = [1,1,4,2,3]\n",
    "x = 5\n",
    "expected = 2\n",
    "\n",
    "output = Solution().minOperations(nums, x)\n",
    "print(output)\n",
    "assert output == expected"
   ]
  },
  {
   "cell_type": "code",
   "execution_count": 3,
   "metadata": {},
   "outputs": [
    {
     "name": "stdout",
     "output_type": "stream",
     "text": [
      "-1\n"
     ]
    }
   ],
   "source": [
    "nums = [5,6,7,8,9]\n",
    "x = 4\n",
    "expected = -1\n",
    "\n",
    "output = Solution().minOperations(nums, x)\n",
    "print(output)\n",
    "assert output == expected"
   ]
  },
  {
   "cell_type": "code",
   "execution_count": 4,
   "metadata": {},
   "outputs": [
    {
     "name": "stdout",
     "output_type": "stream",
     "text": [
      "5\n"
     ]
    }
   ],
   "source": [
    "nums = [3,2,20,1,1,3]\n",
    "x = 10\n",
    "expected = 5\n",
    "\n",
    "output = Solution().minOperations(nums, x)\n",
    "print(output)\n",
    "assert output == expected"
   ]
  }
 ],
 "metadata": {
  "interpreter": {
   "hash": "3822405be9f5fb329f7270cbdcf73e762c62b3f383c5e71390a1a4648678c1cb"
  },
  "kernelspec": {
   "display_name": "Python 3.10.5 64-bit (windows store)",
   "language": "python",
   "name": "python3"
  },
  "language_info": {
   "codemirror_mode": {
    "name": "ipython",
    "version": 3
   },
   "file_extension": ".py",
   "mimetype": "text/x-python",
   "name": "python",
   "nbconvert_exporter": "python",
   "pygments_lexer": "ipython3",
   "version": "3.10.5"
  },
  "orig_nbformat": 4
 },
 "nbformat": 4,
 "nbformat_minor": 2
}
