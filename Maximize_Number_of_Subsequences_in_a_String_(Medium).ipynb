{
  "nbformat": 4,
  "nbformat_minor": 0,
  "metadata": {
    "colab": {
      "name": "Maximize Number of Subsequences in a String (Medium).ipynb",
      "provenance": [],
      "authorship_tag": "ABX9TyOJ0AyE1OoA+ukATomgNJlF",
      "include_colab_link": true
    },
    "kernelspec": {
      "name": "python3",
      "display_name": "Python 3"
    },
    "language_info": {
      "name": "python"
    }
  },
  "cells": [
    {
      "cell_type": "markdown",
      "metadata": {
        "id": "view-in-github",
        "colab_type": "text"
      },
      "source": [
        "<a href=\"https://colab.research.google.com/github/wisarootl/leetcode/blob/main/Maximize_Number_of_Subsequences_in_a_String_(Medium).ipynb\" target=\"_parent\"><img src=\"https://colab.research.google.com/assets/colab-badge.svg\" alt=\"Open In Colab\"/></a>"
      ]
    },
    {
      "cell_type": "markdown",
      "source": [
        "# Maximize Number of Subsequences in a String"
      ],
      "metadata": {
        "id": "4aGko0S0AUkv"
      }
    },
    {
      "cell_type": "markdown",
      "source": [
        "You are given a 0-indexed string text and another 0-indexed string pattern of length 2, both of which consist of only lowercase English letters.\n",
        "\n",
        "You can add either pattern[0] or pattern[1] anywhere in text exactly once. Note that the character can be added even at the beginning or at the end of text.\n",
        "\n",
        "Return the maximum number of times pattern can occur as a subsequence of the modified text.\n",
        "\n",
        "A subsequence is a string that can be derived from another string by deleting some or no characters without changing the order of the remaining characters."
      ],
      "metadata": {
        "id": "gPOrry8wARGv"
      }
    },
    {
      "cell_type": "markdown",
      "source": [
        "Example 1:\n",
        "\n",
        "```\n",
        "Input: text = \"abdcdbc\", pattern = \"ac\"\n",
        "Output: 4\n",
        "Explanation:\n",
        "If we add pattern[0] = 'a' in between text[1] and text[2], we get \"abadcdbc\". Now, the number of times \"ac\" occurs as a subsequence is 4.\n",
        "Some other strings which have 4 subsequences \"ac\" after adding a character to text are \"aabdcdbc\" and \"abdacdbc\".\n",
        "However, strings such as \"abdcadbc\", \"abdccdbc\", and \"abdcdbcc\", although obtainable, have only 3 subsequences \"ac\" and are thus suboptimal.\n",
        "It can be shown that it is not possible to get more than 4 subsequences \"ac\" by adding only one character.\n",
        "```\n",
        "\n"
      ],
      "metadata": {
        "id": "cLauAE-eAXw8"
      }
    },
    {
      "cell_type": "markdown",
      "source": [
        "Example 2:\n",
        "\n",
        "```\n",
        "Input: text = \"aabb\", pattern = \"ab\"\n",
        "Output: 6\n",
        "Explanation:\n",
        "Some of the strings which can be obtained from text and have 6 subsequences \"ab\" are \"aaabb\", \"aaabb\", and \"aabbb\".\n",
        "```\n",
        "\n"
      ],
      "metadata": {
        "id": "EybtlXU9AaX1"
      }
    },
    {
      "cell_type": "markdown",
      "source": [
        "Constraints:\n",
        "\n",
        "```\n",
        "1 <= text.length <= 105\n",
        "pattern.length == 2\n",
        "text and pattern consist only of lowercase English letters.\n",
        "```\n",
        "\n"
      ],
      "metadata": {
        "id": "8ItdphJUAcuh"
      }
    },
    {
      "cell_type": "code",
      "source": [
        "# Time O(N)\n",
        "# Space O(1)\n",
        "\n",
        "class Solution:\n",
        "    def maximumSubsequenceCount(self, text, pattern):\n",
        "        \n",
        "        counter_1, counter_2 = 0, 0\n",
        "        subsequence_count = 0\n",
        "        for char in text:\n",
        "            if char == pattern[0]:\n",
        "                counter_1 += 1\n",
        "            if char == pattern[1]:\n",
        "                counter_2 += 1\n",
        "                if pattern[0] != pattern[1]:\n",
        "                  subsequence_count += counter_1\n",
        "                elif counter_1 >= 2:\n",
        "                  subsequence_count += (counter_1 - 1)\n",
        "        \n",
        "        subsequence_count += max(counter_1, counter_2)\n",
        "        return subsequence_count"
      ],
      "metadata": {
        "id": "dlB7Us_d_H-Z"
      },
      "execution_count": 1,
      "outputs": []
    },
    {
      "cell_type": "code",
      "source": [
        "text = 'abdcdbc'\n",
        "pattern = 'ac'\n",
        "expected = 4\n",
        "\n",
        "output = Solution().maximumSubsequenceCount(text, pattern)\n",
        "print(output)\n",
        "assert output == expected"
      ],
      "metadata": {
        "colab": {
          "base_uri": "https://localhost:8080/"
        },
        "id": "UERdvEl__mdv",
        "outputId": "3431d470-1e50-428f-b9e7-acc1d3060269"
      },
      "execution_count": 2,
      "outputs": [
        {
          "output_type": "stream",
          "name": "stdout",
          "text": [
            "4\n"
          ]
        }
      ]
    },
    {
      "cell_type": "code",
      "source": [
        "text = 'aabb'\n",
        "pattern = 'ab'\n",
        "expected = 6\n",
        "\n",
        "output = Solution().maximumSubsequenceCount(text, pattern)\n",
        "print(output)\n",
        "assert output == expected"
      ],
      "metadata": {
        "colab": {
          "base_uri": "https://localhost:8080/"
        },
        "id": "K7lkV6Xy_ram",
        "outputId": "1d949d28-cab2-4d15-f7b1-ee9f321e490b"
      },
      "execution_count": 3,
      "outputs": [
        {
          "output_type": "stream",
          "name": "stdout",
          "text": [
            "6\n"
          ]
        }
      ]
    },
    {
      "cell_type": "code",
      "source": [
        "text = 'rrrr'\n",
        "pattern = 'rr'\n",
        "expected = 10\n",
        "\n",
        "output = Solution().maximumSubsequenceCount(text, pattern)\n",
        "print(output)\n",
        "assert output == expected"
      ],
      "metadata": {
        "colab": {
          "base_uri": "https://localhost:8080/"
        },
        "id": "yx7PwVt8_Ipv",
        "outputId": "07551375-49a8-419b-f7bd-02b73b8f6d36"
      },
      "execution_count": 4,
      "outputs": [
        {
          "output_type": "stream",
          "name": "stdout",
          "text": [
            "10\n"
          ]
        }
      ]
    }
  ]
}