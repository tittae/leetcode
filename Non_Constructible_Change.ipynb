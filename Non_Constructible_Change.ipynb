{
  "nbformat": 4,
  "nbformat_minor": 0,
  "metadata": {
    "colab": {
      "name": "Non-Constructible Change.ipynb",
      "provenance": [],
      "authorship_tag": "ABX9TyP4WL6B+hBeQKIB08w3GAtk",
      "include_colab_link": true
    },
    "kernelspec": {
      "name": "python3",
      "display_name": "Python 3"
    },
    "language_info": {
      "name": "python"
    }
  },
  "cells": [
    {
      "cell_type": "markdown",
      "metadata": {
        "id": "view-in-github",
        "colab_type": "text"
      },
      "source": [
        "<a href=\"https://colab.research.google.com/github/tittae/leetcode/blob/main/Non_Constructible_Change.ipynb\" target=\"_parent\"><img src=\"https://colab.research.google.com/assets/colab-badge.svg\" alt=\"Open In Colab\"/></a>"
      ]
    },
    {
      "cell_type": "markdown",
      "metadata": {
        "id": "3lovwlDjk68Z"
      },
      "source": [
        "# Non-Constructible Change"
      ]
    },
    {
      "cell_type": "markdown",
      "metadata": {
        "id": "-yxXaFTgk9AR"
      },
      "source": [
        "Given an array of positive integers representing the values of coins in your possession, write a function that returns the minimum amount of change (the minimum sum of money) that you cannot create. The given coins can have any positive integer value and aren't necessarily unique (i.e., you can have multiple coins of the same value).\n",
        "\n",
        "For example, if you're given coins = [1, 2, 5], the minimum amount of change that you can't create is 4. If you're given no coins, the minimum amount of change that you can't create is 1."
      ]
    },
    {
      "cell_type": "markdown",
      "metadata": {
        "id": "DWsMpZ6mk9oM"
      },
      "source": [
        "Sample Input\n",
        "\n",
        "\n",
        "```\n",
        "coins = [5, 7, 1, 1, 2, 3, 22]\n",
        "```\n",
        "\n"
      ]
    },
    {
      "cell_type": "markdown",
      "metadata": {
        "id": "nOA039AdlAnQ"
      },
      "source": [
        "Sample Output\n",
        "\n",
        "```\n",
        "20\n",
        "```\n",
        "\n"
      ]
    },
    {
      "cell_type": "code",
      "metadata": {
        "id": "Al4jQrTNk8jD"
      },
      "source": [
        "# we must simplify the problem\n",
        "# sort the coin list\n",
        "# create the change list (the highest change that can create with the coin list at that position)\n",
        "# coin   = [1, 1, 4]\n",
        "# change = [1, 2, ]\n",
        "# We cannot create change at 3 because 4 > 2+1 (2 from previous max change we can create up to lastest coin)\n",
        "# It means that if next coin > change that can create up to precious coin + 1, min change that we cannot create will be latest max change + 1"
      ],
      "execution_count": null,
      "outputs": []
    },
    {
      "cell_type": "code",
      "metadata": {
        "id": "VybRPuUlk5ez"
      },
      "source": [
        "# time O(N log(N)), space O(1)\n",
        "\n",
        "def nonconstructible_change(coins):\n",
        "    coins.sort()\n",
        "    max_change_creation = 0\n",
        "\n",
        "    for coin in coins:\n",
        "      if coin <= max_change_creation + 1:\n",
        "        max_change_creation += coin\n",
        "      else:\n",
        "        break\n",
        "\n",
        "    return max_change_creation + 1"
      ],
      "execution_count": 1,
      "outputs": []
    },
    {
      "cell_type": "code",
      "metadata": {
        "id": "VODTF5aItBwo"
      },
      "source": [
        "coins = [5, 7, 1, 1, 2, 3, 22]"
      ],
      "execution_count": 2,
      "outputs": []
    },
    {
      "cell_type": "code",
      "metadata": {
        "colab": {
          "base_uri": "https://localhost:8080/"
        },
        "id": "7BUCyEyFtDhv",
        "outputId": "20858e5a-d182-4fb5-b75e-de4cc7dc18f1"
      },
      "source": [
        "nonconstructible_change(coins)"
      ],
      "execution_count": 3,
      "outputs": [
        {
          "output_type": "execute_result",
          "data": {
            "text/plain": [
              "20"
            ]
          },
          "metadata": {},
          "execution_count": 3
        }
      ]
    }
  ]
}