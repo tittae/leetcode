{
  "nbformat": 4,
  "nbformat_minor": 0,
  "metadata": {
    "colab": {
      "name": "Max Number of K-Sum Pairs (Medium).ipynb",
      "provenance": [],
      "authorship_tag": "ABX9TyN0CRne1mJ7wJUUlODlGAW7",
      "include_colab_link": true
    },
    "kernelspec": {
      "name": "python3",
      "display_name": "Python 3"
    },
    "language_info": {
      "name": "python"
    }
  },
  "cells": [
    {
      "cell_type": "markdown",
      "metadata": {
        "id": "view-in-github",
        "colab_type": "text"
      },
      "source": [
        "<a href=\"https://colab.research.google.com/github/wisarootl/leetcode/blob/main/Max_Number_of_K_Sum_Pairs_(Medium).ipynb\" target=\"_parent\"><img src=\"https://colab.research.google.com/assets/colab-badge.svg\" alt=\"Open In Colab\"/></a>"
      ]
    },
    {
      "cell_type": "markdown",
      "source": [
        "# Max Number of K-Sum Pairs"
      ],
      "metadata": {
        "id": "TOBCEfWpEksZ"
      }
    },
    {
      "cell_type": "markdown",
      "source": [
        "You are given an integer array nums and an integer k.\n",
        "\n",
        "In one operation, you can pick two numbers from the array whose sum equals k and remove them from the array.\n",
        "\n",
        "Return the maximum number of operations you can perform on the array."
      ],
      "metadata": {
        "id": "BELLwkXWEluX"
      }
    },
    {
      "cell_type": "markdown",
      "source": [
        "Example 1:\n",
        "\n",
        "```\n",
        "\n",
        "Input: nums = [1,2,3,4], k = 5\n",
        "Output: 2\n",
        "Explanation: Starting with nums = [1,2,3,4]:\n",
        "- Remove numbers 1 and 4, then nums = [2,3]\n",
        "- Remove numbers 2 and 3, then nums = []\n",
        "There are no more pairs that sum up to 5, hence a total of 2 operations.\n",
        "```\n",
        "\n"
      ],
      "metadata": {
        "id": "bimRwGuMGXnj"
      }
    },
    {
      "cell_type": "markdown",
      "source": [
        "Example 2:\n",
        "\n",
        "```\n",
        "\n",
        "Input: nums = [3,1,3,4,3], k = 6\n",
        "Output: 1\n",
        "Explanation: Starting with nums = [3,1,3,4,3]:\n",
        "- Remove the first two 3's, then nums = [1,4,3]\n",
        "There are no more pairs that sum up to 6, hence a total of 1 operation.\n",
        "```\n",
        "\n"
      ],
      "metadata": {
        "id": "8VBOj_Q2GaGW"
      }
    },
    {
      "cell_type": "markdown",
      "source": [
        "Constraints:\n",
        "\n",
        "```\n",
        "1 <= nums.length <= 105\n",
        "1 <= nums[i] <= 109\n",
        "1 <= k <= 109\n",
        "```\n",
        "\n"
      ],
      "metadata": {
        "id": "LfOJ4Z_TGckO"
      }
    },
    {
      "cell_type": "code",
      "execution_count": 1,
      "metadata": {
        "id": "Co6fo06OEjEW"
      },
      "outputs": [],
      "source": [
        "class Solution:\n",
        "    def maxOperations(self, nums, k):\n",
        "        b = {}\n",
        "        ans = 0\n",
        "        for i in nums:\n",
        "            if k - i in b and b[k - i] > 0:\n",
        "                ans += 1\n",
        "                b[k - i] -= 1  # used\n",
        "            elif i not in b:\n",
        "                b[i] = 1\n",
        "            else:\n",
        "                b[i] += 1\n",
        "        \n",
        "        return ans"
      ]
    },
    {
      "cell_type": "code",
      "source": [
        "nums = [1,2,3,4]\n",
        "k = 5\n",
        "expected = 2\n",
        "\n",
        "output = Solution().maxOperations(nums, k)\n",
        "print(output)\n",
        "assert output == expected"
      ],
      "metadata": {
        "colab": {
          "base_uri": "https://localhost:8080/"
        },
        "id": "nWDnOtPRGg-D",
        "outputId": "b48bfd12-cf25-456f-bd7d-ec3ff73fa8df"
      },
      "execution_count": 2,
      "outputs": [
        {
          "output_type": "stream",
          "name": "stdout",
          "text": [
            "2\n"
          ]
        }
      ]
    },
    {
      "cell_type": "code",
      "source": [
        "nums = [3,1,3,4,3]\n",
        "k = 6\n",
        "expected = 1\n",
        "\n",
        "output = Solution().maxOperations(nums, k)\n",
        "print(output)\n",
        "assert output == expected"
      ],
      "metadata": {
        "colab": {
          "base_uri": "https://localhost:8080/"
        },
        "id": "neOxVDnuHvtD",
        "outputId": "f1b14089-8f2c-4d15-dd1b-2f78356ddbc4"
      },
      "execution_count": 3,
      "outputs": [
        {
          "output_type": "stream",
          "name": "stdout",
          "text": [
            "1\n"
          ]
        }
      ]
    }
  ]
}