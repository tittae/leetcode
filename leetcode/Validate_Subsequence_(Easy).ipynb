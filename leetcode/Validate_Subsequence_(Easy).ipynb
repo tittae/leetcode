{
  "nbformat": 4,
  "nbformat_minor": 0,
  "metadata": {
    "colab": {
      "name": "Validate Subsequence (Easy).ipynb",
      "provenance": [],
      "collapsed_sections": [],
      "authorship_tag": "ABX9TyPe+mo+lhaA1Ze+O54Pgjo1",
      "include_colab_link": true
    },
    "kernelspec": {
      "name": "python3",
      "display_name": "Python 3"
    },
    "language_info": {
      "name": "python"
    }
  },
  "cells": [
    {
      "cell_type": "markdown",
      "metadata": {
        "id": "view-in-github",
        "colab_type": "text"
      },
      "source": [
        "<a href=\"https://colab.research.google.com/github/wisarootl/leetcode/blob/main/Validate_Subsequence_(Easy).ipynb\" target=\"_parent\"><img src=\"https://colab.research.google.com/assets/colab-badge.svg\" alt=\"Open In Colab\"/></a>"
      ]
    },
    {
      "cell_type": "markdown",
      "metadata": {
        "id": "gHz78gnI06H4"
      },
      "source": [
        "# Validate Subsequence"
      ]
    },
    {
      "cell_type": "markdown",
      "metadata": {
        "id": "M1ZUAC-H07Vh"
      },
      "source": [
        "Given two non-empty arrays of integers, write a function that determines whether the second array is a subsequence of the first one.\n",
        "\n",
        "A subsequence of an array is a set of numbers that aren't necessarily adjacent in the array but that are in the same order as they appear in the array. For instance, the numbers [1, 3, 4] form a subsequence of the array [1, 2, 3, 4], and so do the numbers [2, 4]. Note that a single number in an array and the array itself are both valid subsequences of the array.\n",
        "\n",
        "\n",
        "Sample Input\n",
        "```\n",
        "array = [5, 1, 22, 25, 6, -1, 8, 10]\n",
        "sequence = [1, 6, -1, 10]\n",
        "```\n",
        "\n",
        "\n",
        "\n",
        "Sample Output\n",
        "```\n",
        "true\n",
        "```\n",
        "\n",
        "\n"
      ]
    },
    {
      "cell_type": "code",
      "metadata": {
        "id": "Qa5P4DDQ05zK"
      },
      "source": [
        "array = [5, 1, 22, 25, 6, -1, 8, 10]\n",
        "sequence = [1, 6, -1, 10]"
      ],
      "execution_count": null,
      "outputs": []
    },
    {
      "cell_type": "code",
      "metadata": {
        "id": "u7CollMx7L9A"
      },
      "source": [
        "sequence = [25]"
      ],
      "execution_count": null,
      "outputs": []
    },
    {
      "cell_type": "code",
      "metadata": {
        "id": "IRyEkDqG7YAZ"
      },
      "source": [
        "# O(N) T, O(1) S\n",
        "def isSubsequence(array, sequence):\n",
        "\tarrayIdx = 0\n",
        "\tseqIdx = 0\n",
        "\t\n",
        "\twhile arrayIdx < len(array) and seqIdx < len(sequence):\n",
        "\t\tif sequence[seqIdx] == array[arrayIdx]:\n",
        "\t\t\tseqIdx += 1\n",
        "\t\tarrayIdx += 1\n",
        "\t\n",
        "\treturn seqIdx == len(sequence)"
      ],
      "execution_count": null,
      "outputs": []
    },
    {
      "cell_type": "code",
      "metadata": {
        "colab": {
          "base_uri": "https://localhost:8080/"
        },
        "id": "yFMbopGv-O2z",
        "outputId": "bf0e1828-6255-4bb1-e60a-9b5f39ce1a8f"
      },
      "source": [
        "print(isSubsequence(array, sequence))"
      ],
      "execution_count": null,
      "outputs": [
        {
          "output_type": "stream",
          "name": "stdout",
          "text": [
            "True\n"
          ]
        }
      ]
    },
    {
      "cell_type": "code",
      "metadata": {
        "id": "HSmhGc2uEAoe"
      },
      "source": [
        "# O(N) T, O(1) S\n",
        "def isSubsequence(array, sequence):\n",
        "  seqIdx = 0\n",
        "\t\n",
        "  for value in array:\n",
        "    if sequence[seqIdx] == value:\n",
        "      seqIdx += 1\n",
        "      if seqIdx == len(sequence):\n",
        "        break\n",
        "    \n",
        "  return seqIdx == len(sequence)"
      ],
      "execution_count": null,
      "outputs": []
    },
    {
      "cell_type": "code",
      "metadata": {
        "colab": {
          "base_uri": "https://localhost:8080/"
        },
        "id": "dygj0_A1EcSz",
        "outputId": "b5826153-8cbc-43cc-faed-a9842cb863c1"
      },
      "source": [
        "print(isSubsequence(array, sequence))"
      ],
      "execution_count": null,
      "outputs": [
        {
          "output_type": "stream",
          "name": "stdout",
          "text": [
            "True\n"
          ]
        }
      ]
    }
  ]
}