{
  "nbformat": 4,
  "nbformat_minor": 0,
  "metadata": {
    "colab": {
      "name": "Three Number Sum.ipynb",
      "provenance": [],
      "collapsed_sections": [],
      "authorship_tag": "ABX9TyNp/TMxd9+o0OVcdg7K+BPA",
      "include_colab_link": true
    },
    "kernelspec": {
      "name": "python3",
      "display_name": "Python 3"
    },
    "language_info": {
      "name": "python"
    }
  },
  "cells": [
    {
      "cell_type": "markdown",
      "metadata": {
        "id": "view-in-github",
        "colab_type": "text"
      },
      "source": [
        "<a href=\"https://colab.research.google.com/github/tittae/leetcode/blob/main/Three_Number_Sum.ipynb\" target=\"_parent\"><img src=\"https://colab.research.google.com/assets/colab-badge.svg\" alt=\"Open In Colab\"/></a>"
      ]
    },
    {
      "cell_type": "markdown",
      "metadata": {
        "id": "so0hWq2dYZ9D"
      },
      "source": [
        "# Three Number Sum"
      ]
    },
    {
      "cell_type": "markdown",
      "metadata": {
        "id": "yiVjGXotYbE3"
      },
      "source": [
        "Write a function that takes in a non-empty array of distinct integers and an integer representing a target sum. The function should find all triplets in the array that sum up to the target sum and return a two-dimensional array of all these triplets. The numbers in each triplet should be ordered in ascending order, and the triplets themselves should be ordered in ascending order with respect to the numbers they hold.\n",
        "\n",
        "If no three numbers sum up to the target sum, the function should return an empty array."
      ]
    },
    {
      "cell_type": "markdown",
      "metadata": {
        "id": "EpsiJRhWYeZ4"
      },
      "source": [
        "Sample Input\n",
        "\n",
        "```\n",
        "array = [12, 3, 1, 2, -6, 5, -8, 6]\n",
        "targetSum = 0\n",
        "```\n",
        "\n"
      ]
    },
    {
      "cell_type": "markdown",
      "metadata": {
        "id": "S76Qb4n1Yir6"
      },
      "source": [
        "Sample Output\n",
        "\n",
        "```\n",
        "[[-8, 2, 6], [-8, 3, 5], [-6, 1, 5]]\n",
        "```\n",
        "\n"
      ]
    },
    {
      "cell_type": "markdown",
      "metadata": {
        "id": "TUXlYpKnq3gg"
      },
      "source": [
        "## Solution (Brute Force / Triple loop)"
      ]
    },
    {
      "cell_type": "code",
      "metadata": {
        "id": "qUMozfbQqw59"
      },
      "source": [
        "# Time O(n^3), Space O(n) store output\n",
        "\n",
        "\n",
        "def threeNumberSum(array, targetSum):\n",
        "\tarray.sort()\n",
        "\tarray_threeNumberSum = []\n",
        "\tfor idx1, num1 in enumerate(array[:-2]):\n",
        "\t\tfor idx2, num2 in enumerate(array[idx1+1:]):\n",
        "\t\t\tfor idx3, num3 in enumerate(array[idx1+1+idx2+1:]):\n",
        "\t\t\t\tif targetSum == num1 + num2 + num3:\n",
        "\t\t\t\t\tarray_threeNumberSum.append([num1, num2, num3])\n",
        "\treturn array_threeNumberSum"
      ],
      "execution_count": 10,
      "outputs": []
    },
    {
      "cell_type": "code",
      "metadata": {
        "id": "n-lnX7khqyEC"
      },
      "source": [
        "array = [12, 3, 1, 2, -6, 5, -8, 6]\n",
        "targetSum = 0"
      ],
      "execution_count": 11,
      "outputs": []
    },
    {
      "cell_type": "code",
      "metadata": {
        "colab": {
          "base_uri": "https://localhost:8080/"
        },
        "id": "NtzRasJMqyfm",
        "outputId": "6e896369-33bb-4ed1-87a4-aab50344fb8a"
      },
      "source": [
        "print(threeNumberSum(array, targetSum))"
      ],
      "execution_count": 12,
      "outputs": [
        {
          "output_type": "stream",
          "name": "stdout",
          "text": [
            "[[-8, 2, 6], [-8, 3, 5], [-6, 1, 5]]\n"
          ]
        }
      ]
    },
    {
      "cell_type": "markdown",
      "metadata": {
        "id": "NnnVCQHcrCYS"
      },
      "source": [
        "## Solution (one loop with two pointer)"
      ]
    },
    {
      "cell_type": "code",
      "metadata": {
        "id": "sM0tep8bqi74"
      },
      "source": [
        "# Time O(n^2) and Space O(n) (store output)\n",
        "\n",
        "def threeNumberSum(array, targetSum):\n",
        "\tarray.sort()\n",
        "\tarray_threeNumberSum = []\n",
        "\tfor idx1 in range(len(array) - 2):\n",
        "\t\tleft = idx1 + 1\n",
        "\t\tright = len(array) - 1\n",
        "\t\twhile left < right:\n",
        "\t\t\tcurrent_sum = array[idx1] + array[left] + array[right]\n",
        "\t\t\tif targetSum == current_sum:\n",
        "\t\t\t\tarray_threeNumberSum.append([array[idx1], array[left], array[right]])\n",
        "\t\t\t\tleft += 1\n",
        "\t\t\t\tright -= 1\n",
        "\t\t\telif targetSum > current_sum:\n",
        "\t\t\t\tleft += 1\n",
        "\t\t\telif targetSum < current_sum:\n",
        "\t\t\t\tright -=1\n",
        "\treturn array_threeNumberSum"
      ],
      "execution_count": 13,
      "outputs": []
    },
    {
      "cell_type": "code",
      "metadata": {
        "id": "6GQ9NqO2q1Pi"
      },
      "source": [
        "array = [12, 3, 1, 2, -6, 5, -8, 6]\n",
        "targetSum = 0"
      ],
      "execution_count": 14,
      "outputs": []
    },
    {
      "cell_type": "code",
      "metadata": {
        "colab": {
          "base_uri": "https://localhost:8080/"
        },
        "id": "N9_Gf1r1q2KK",
        "outputId": "ef676751-4dc2-441f-df9d-3581f3ce159b"
      },
      "source": [
        "print(threeNumberSum(array, targetSum))"
      ],
      "execution_count": 15,
      "outputs": [
        {
          "output_type": "stream",
          "name": "stdout",
          "text": [
            "[[-8, 2, 6], [-8, 3, 5], [-6, 1, 5]]\n"
          ]
        }
      ]
    }
  ]
}