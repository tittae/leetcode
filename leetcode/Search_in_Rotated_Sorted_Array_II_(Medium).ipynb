{
  "cells": [
    {
      "cell_type": "markdown",
      "metadata": {
        "colab_type": "text",
        "id": "view-in-github"
      },
      "source": [
        "<a href=\"https://colab.research.google.com/github/wisarootl/leetcode/blob/main/Search_in_Rotated_Sorted_Array_II_(Medium).ipynb\" target=\"_parent\"><img src=\"https://colab.research.google.com/assets/colab-badge.svg\" alt=\"Open In Colab\"/></a>"
      ]
    },
    {
      "cell_type": "markdown",
      "metadata": {
        "id": "IMRBT_xle5GN"
      },
      "source": [
        "# Search in Rotated Sorted Array II"
      ]
    },
    {
      "cell_type": "markdown",
      "metadata": {
        "id": "No_1Gchze6H1"
      },
      "source": [
        "There is an integer array nums sorted in non-decreasing order (not necessarily with distinct values).\n",
        "\n",
        "Before being passed to your function, nums is rotated at an unknown pivot index k (0 <= k < nums.length) such that the resulting array is [nums[k], nums[k+1], ..., nums[n-1], nums[0], nums[1], ..., nums[k-1]] (0-indexed). For example, [0,1,2,4,4,4,5,6,6,7] might be rotated at pivot index 5 and become [4,5,6,6,7,0,1,2,4,4].\n",
        "\n",
        "Given the array nums after the rotation and an integer target, return true if target is in nums, or false if it is not in nums.\n",
        "\n",
        "You must decrease the overall operation steps as much as possible."
      ]
    },
    {
      "cell_type": "markdown",
      "metadata": {
        "id": "FfJlcYrle8D4"
      },
      "source": [
        "Example 1:\n",
        "\n",
        "```\n",
        "Input: nums = [2,5,6,0,0,1,2], target = 0\n",
        "Output: true\n",
        "```\n",
        "\n"
      ]
    },
    {
      "cell_type": "markdown",
      "metadata": {
        "id": "71Odfw2We-Zg"
      },
      "source": [
        "Example 2:\n",
        "\n",
        "```\n",
        "Input: nums = [2,5,6,0,0,1,2], target = 3\n",
        "Output: false\n",
        "```\n",
        "\n"
      ]
    },
    {
      "cell_type": "markdown",
      "metadata": {
        "id": "MstDPXnffBS0"
      },
      "source": [
        "Constraints:\n",
        "\n",
        "```\n",
        "1 <= nums.length <= 5000\n",
        "-104 <= nums[i] <= 104\n",
        "nums is guaranteed to be rotated at some pivot.\n",
        "-104 <= target <= 104\n",
        "```\n",
        "\n"
      ]
    },
    {
      "cell_type": "code",
      "execution_count": 1,
      "metadata": {
        "id": "-b0VYKZpenvs"
      },
      "outputs": [],
      "source": [
        "# Time = O(log n) for average case and O(n) for worst case\n",
        "# Space = O(1)\n",
        "# example worst case nums = [1, 2, 1, 1, 1, 1, 1, 1, 1, 1, 1, 1], target = 2\n",
        "\n",
        "class Solution:\n",
        "    def search(self, nums, target):\n",
        "        left_idx = 0\n",
        "        right_idx = len(nums) - 1\n",
        "        \n",
        "        while left_idx <= right_idx:\n",
        "            mid_idx = (left_idx + right_idx) // 2\n",
        "            if nums[mid_idx] == target:\n",
        "                return True\n",
        "            elif nums[mid_idx] < nums[right_idx]:\n",
        "                if target > nums[mid_idx] and target <= nums[right_idx]:\n",
        "                    left_idx = mid_idx + 1\n",
        "                else:\n",
        "                    right_idx = mid_idx - 1\n",
        "            elif nums[mid_idx] > nums[right_idx]:\n",
        "                if target >= nums[left_idx] and target < nums[mid_idx]:\n",
        "                    right_idx = mid_idx - 1\n",
        "                else:\n",
        "                    left_idx = mid_idx + 1\n",
        "            else: # nums[mid_idx] == nums[right_idx]\n",
        "                right_idx -= 1\n",
        "        return False"
      ]
    },
    {
      "cell_type": "code",
      "execution_count": 2,
      "metadata": {
        "colab": {
          "base_uri": "https://localhost:8080/"
        },
        "id": "ICGv0gmSfZeC",
        "outputId": "3e69b19d-8f7f-4435-cd56-59aecd5e9b9f"
      },
      "outputs": [
        {
          "name": "stdout",
          "output_type": "stream",
          "text": [
            "True\n"
          ]
        }
      ],
      "source": [
        "nums = [2,5,6,0,0,1,2]\n",
        "target = 0\n",
        "expected = True\n",
        "\n",
        "output = Solution().search(nums, target)\n",
        "print(output)\n",
        "assert output == expected"
      ]
    },
    {
      "cell_type": "code",
      "execution_count": 3,
      "metadata": {
        "colab": {
          "base_uri": "https://localhost:8080/"
        },
        "id": "1OjQ332-fcRr",
        "outputId": "d6ce46bc-c4e3-44f6-95fc-67eb92756328"
      },
      "outputs": [
        {
          "name": "stdout",
          "output_type": "stream",
          "text": [
            "False\n"
          ]
        }
      ],
      "source": [
        "nums = [2,5,6,0,0,1,2]\n",
        "target = 3\n",
        "expected = False\n",
        "\n",
        "output = Solution().search(nums, target)\n",
        "print(output)\n",
        "assert output == expected"
      ]
    },
    {
      "cell_type": "code",
      "execution_count": 4,
      "metadata": {
        "colab": {
          "base_uri": "https://localhost:8080/"
        },
        "id": "MV3Xe0EffHhc",
        "outputId": "67c01d2e-1c14-4d2b-d90b-a3dd6fc50e9f"
      },
      "outputs": [
        {
          "name": "stdout",
          "output_type": "stream",
          "text": [
            "True\n"
          ]
        }
      ],
      "source": [
        "nums = [1,1,1,1,1,1,1,1,1,1,1,1,1,2,1,1,1,1,1]\n",
        "target = 2\n",
        "expected = True\n",
        "\n",
        "output = Solution().search(nums, target)\n",
        "print(output)\n",
        "assert output == expected"
      ]
    },
    {
      "cell_type": "code",
      "execution_count": 5,
      "metadata": {
        "colab": {
          "base_uri": "https://localhost:8080/"
        },
        "id": "3544n8m-fW0H",
        "outputId": "3c7eb8c9-b84d-4e2b-bc17-0011a85998b2"
      },
      "outputs": [
        {
          "name": "stdout",
          "output_type": "stream",
          "text": [
            "True\n"
          ]
        }
      ],
      "source": [
        "nums = [1,2,1,1,1,1,1,1,1,1,1,1,1,1,1,1,1,1,1]\n",
        "target = 2\n",
        "expected = True\n",
        "\n",
        "output = Solution().search(nums, target)\n",
        "print(output)\n",
        "assert output == expected"
      ]
    }
  ],
  "metadata": {
    "colab": {
      "authorship_tag": "ABX9TyPCFGlGvzZ+tFWR8/fGHd1r",
      "include_colab_link": true,
      "name": "Search in Rotated Sorted Array II (Medium).ipynb",
      "provenance": []
    },
    "kernelspec": {
      "display_name": "Python 3",
      "name": "python3"
    },
    "language_info": {
      "name": "python"
    }
  },
  "nbformat": 4,
  "nbformat_minor": 0
}
