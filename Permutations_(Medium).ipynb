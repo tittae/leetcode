{
  "nbformat": 4,
  "nbformat_minor": 0,
  "metadata": {
    "colab": {
      "name": "Permutations (Medium).ipynb",
      "provenance": [],
      "authorship_tag": "ABX9TyM1VopucJsO91NOMdtVKUMO",
      "include_colab_link": true
    },
    "kernelspec": {
      "name": "python3",
      "display_name": "Python 3"
    },
    "language_info": {
      "name": "python"
    }
  },
  "cells": [
    {
      "cell_type": "markdown",
      "metadata": {
        "id": "view-in-github",
        "colab_type": "text"
      },
      "source": [
        "<a href=\"https://colab.research.google.com/github/wisarootl/leetcode/blob/main/Permutations_(Medium).ipynb\" target=\"_parent\"><img src=\"https://colab.research.google.com/assets/colab-badge.svg\" alt=\"Open In Colab\"/></a>"
      ]
    },
    {
      "cell_type": "markdown",
      "source": [
        "# Permutations"
      ],
      "metadata": {
        "id": "39vcuk390QnN"
      }
    },
    {
      "cell_type": "markdown",
      "source": [
        "Write a function that takes in an array of unique integers and returns an array of all permutations of those integers in no particular order.\n",
        "\n",
        "If the input array is empty, the function should return an empty array."
      ],
      "metadata": {
        "id": "WoOUSkav0SQA"
      }
    },
    {
      "cell_type": "markdown",
      "source": [
        "Sample Input\n",
        "\n",
        "```\n",
        "array = [1, 2, 3]\n",
        "```\n",
        "\n"
      ],
      "metadata": {
        "id": "8KBlEUAO0T1i"
      }
    },
    {
      "cell_type": "markdown",
      "source": [
        "Sample Output\n",
        "\n",
        "```\n",
        "[[1, 2, 3], [1, 3, 2], [2, 1, 3], [2, 3, 1], [3, 1, 2], [3, 2, 1]]\n",
        "```\n",
        "\n"
      ],
      "metadata": {
        "id": "tiz8Nu3H0Vt6"
      }
    },
    {
      "cell_type": "code",
      "execution_count": 1,
      "metadata": {
        "id": "zF5UfjwXyZZW"
      },
      "outputs": [],
      "source": [
        "# Upper Bound: \n",
        "# Time: O(n^2*n!) | Space: O(n*n!)\n",
        "\n",
        "# Roughly: \n",
        "# Time: O(n*n!) time | Space: O(n*n!)\n",
        "\n",
        "def getPermutations(array):\n",
        "  # init fringe\n",
        "  fringe = [[[], array]]\n",
        "  permutations = []\n",
        "  while True:\n",
        "    # is fringe empty\n",
        "    if len(fringe) == 0:\n",
        "      return permutations\n",
        "\n",
        "    #pop front\n",
        "    front = fringe.pop()\n",
        "    current_permutation, remaining_array = front\n",
        "    # is goal ?\n",
        "    if len(remaining_array) == 0 and len(current_permutation) > 0:\n",
        "      permutations.append(current_permutation)\n",
        "      continue\n",
        "    \n",
        "    # gen / insert successor\n",
        "    for i in range(len(remaining_array)):\n",
        "      new_current_permutation = current_permutation + [remaining_array[i]]\n",
        "      new_remaining_array = remaining_array[:i] + remaining_array[i + 1:]\n",
        "      fringe.append([new_current_permutation, new_remaining_array])"
      ]
    },
    {
      "cell_type": "code",
      "source": [
        "array = [1, 2, 3]\n",
        "getPermutations(array)"
      ],
      "metadata": {
        "colab": {
          "base_uri": "https://localhost:8080/"
        },
        "id": "FzDEbFUryd9S",
        "outputId": "3a0132f5-5f36-4574-a0df-f5db7b886cac"
      },
      "execution_count": 2,
      "outputs": [
        {
          "output_type": "execute_result",
          "data": {
            "text/plain": [
              "[[3, 2, 1], [3, 1, 2], [2, 3, 1], [2, 1, 3], [1, 3, 2], [1, 2, 3]]"
            ]
          },
          "metadata": {},
          "execution_count": 2
        }
      ]
    },
    {
      "cell_type": "code",
      "source": [
        "array = []\n",
        "getPermutations(array)"
      ],
      "metadata": {
        "colab": {
          "base_uri": "https://localhost:8080/"
        },
        "id": "xaFmFDGwzcG2",
        "outputId": "be61682b-e155-4546-b2f6-7c64e930bf97"
      },
      "execution_count": 3,
      "outputs": [
        {
          "output_type": "execute_result",
          "data": {
            "text/plain": [
              "[]"
            ]
          },
          "metadata": {},
          "execution_count": 3
        }
      ]
    }
  ]
}