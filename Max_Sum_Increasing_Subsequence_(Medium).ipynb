{
  "nbformat": 4,
  "nbformat_minor": 0,
  "metadata": {
    "colab": {
      "name": "Max Sum Increasing Subsequence (Medium).ipynb",
      "provenance": [],
      "authorship_tag": "ABX9TyP0l0mz8CXAIeq+vLJFzbpN",
      "include_colab_link": true
    },
    "kernelspec": {
      "name": "python3",
      "display_name": "Python 3"
    },
    "language_info": {
      "name": "python"
    }
  },
  "cells": [
    {
      "cell_type": "markdown",
      "metadata": {
        "id": "view-in-github",
        "colab_type": "text"
      },
      "source": [
        "<a href=\"https://colab.research.google.com/github/tittae/leetcode/blob/main/Max_Sum_Increasing_Subsequence_(Medium).ipynb\" target=\"_parent\"><img src=\"https://colab.research.google.com/assets/colab-badge.svg\" alt=\"Open In Colab\"/></a>"
      ]
    },
    {
      "cell_type": "markdown",
      "metadata": {
        "id": "42OBwOHNG3i0"
      },
      "source": [
        "# Max Sum Increasing Subsequence"
      ]
    },
    {
      "cell_type": "markdown",
      "metadata": {
        "id": "6fP96SB9G15L"
      },
      "source": [
        "Write a function that takes in a non-empty array of integers and returns the greatest sum that can be generated from a strictly-increasing subsequence in the array as well as an array of the numbers in that subsequence.\n",
        "\n",
        "A subsequence of an array is a set of numbers that aren't necessarily adjacent in the array but that are in the same order as they appear in the array. For instance, the numbers `[1, 3, 4]` form a subsequence of the array `[1, 2, 3, 4]`, and so do the numbers `[2, 4]`. Note that a single number in an array and the array itself are both valid subsequences of the array.\n",
        "\n",
        "You can assume that there will only be one increasing subsequence with the greatest sum."
      ]
    },
    {
      "cell_type": "markdown",
      "metadata": {
        "id": "JIlMpTOcG-W_"
      },
      "source": [
        "Sample Input\n",
        "\n",
        "```\n",
        "array = [10, 70, 20, 30, 50, 11, 30]\n",
        "```\n",
        "\n"
      ]
    },
    {
      "cell_type": "markdown",
      "metadata": {
        "id": "Miecnj-oHBEm"
      },
      "source": [
        "Sample Output\n",
        "\n",
        "```\n",
        "[110, [10, 20, 30, 50]] // The subsequence [10, 20, 30, 50] is strictly increasing and yields the greatest sum: 110.\n",
        "```\n",
        "\n"
      ]
    },
    {
      "cell_type": "code",
      "metadata": {
        "id": "z_5Qn1U0GzDK"
      },
      "source": [
        "def maxSumIncreasingSubsequence(array):\n",
        "\tsequences = [None] * len(array)\n",
        "\tsums = array[:]\n",
        "\tmax_sum_idx = 0\n",
        "\tfor i in range(len(array)):\n",
        "\t\tcurrent_num = array[i]\n",
        "\t\tfor j in range(0, i):\n",
        "\t\t\tother_num = array[j]\n",
        "\t\t\tif other_num < current_num and sums[j] + current_num >= sums[i]:\n",
        "\t\t\t\tsums[i] = sums[j] + current_num\n",
        "\t\t\t\tsequences[i] = j\n",
        "\t\tif sums[i] >= sums[max_sum_idx]:\n",
        "\t\t\tmax_sum_idx = i\n",
        "\treturn [sums[max_sum_idx], build_sequence(array, sequences, max_sum_idx)] \n",
        "\n",
        "def build_sequence(array, sequences, current_idx):\n",
        "\tsequence = []\n",
        "\twhile current_idx != None:\n",
        "\t\tsequence.append(array[current_idx])\n",
        "\t\tcurrent_idx = sequences[current_idx]\n",
        "\treturn list(reversed(sequence))"
      ],
      "execution_count": 1,
      "outputs": []
    },
    {
      "cell_type": "code",
      "metadata": {
        "colab": {
          "base_uri": "https://localhost:8080/"
        },
        "id": "3y6wBZa7Qs4g",
        "outputId": "b4b33a72-ab32-4d59-9aea-768f5c483717"
      },
      "source": [
        "array = [10, 70, 20, 30, 50, 11, 30]\n",
        "print(maxSumIncreasingSubsequence(array))"
      ],
      "execution_count": 2,
      "outputs": [
        {
          "output_type": "stream",
          "name": "stdout",
          "text": [
            "[110, [10, 20, 30, 50]]\n"
          ]
        }
      ]
    }
  ]
}