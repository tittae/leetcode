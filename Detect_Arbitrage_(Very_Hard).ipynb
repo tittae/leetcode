{
  "nbformat": 4,
  "nbformat_minor": 0,
  "metadata": {
    "colab": {
      "name": "Detect Arbitrage (Very Hard).ipynb",
      "provenance": [],
      "collapsed_sections": [],
      "authorship_tag": "ABX9TyOL3iacop89EQ1Ybh+8R7cd",
      "include_colab_link": true
    },
    "kernelspec": {
      "name": "python3",
      "display_name": "Python 3"
    },
    "language_info": {
      "name": "python"
    }
  },
  "cells": [
    {
      "cell_type": "markdown",
      "metadata": {
        "id": "view-in-github",
        "colab_type": "text"
      },
      "source": [
        "<a href=\"https://colab.research.google.com/github/wisarootl/leetcode/blob/main/Detect_Arbitrage_(Very_Hard).ipynb\" target=\"_parent\"><img src=\"https://colab.research.google.com/assets/colab-badge.svg\" alt=\"Open In Colab\"/></a>"
      ]
    },
    {
      "cell_type": "markdown",
      "source": [
        "You're given a two-dimensional array (a matrix) of equal height and width that represents the exchange rates of arbitrary currencies. The length of the array is the number of currencies, and every currency can be converted to every other currency. Each currency is represented by a row in the array, where values in that row are the floating-point exchange rates between the row's currency and all other currencies, as in the example below."
      ],
      "metadata": {
        "id": "UIx-hy0LrY9w"
      }
    },
    {
      "cell_type": "markdown",
      "source": [
        "\n",
        "\n",
        "```\n",
        "         0:USD 1:CAD  2:GBP \n",
        "  0:USD [  1.0, 1.27, 0.718] \n",
        "  1:CAD [ 0.74,  1.0,  0.56] \n",
        "  2:GBP [ 1.39, 1.77,   1.0]\n",
        "```\n",
        "\n"
      ],
      "metadata": {
        "id": "rSOsv0myrajh"
      }
    },
    {
      "cell_type": "markdown",
      "source": [
        "In the matrix above, you can see that row `0` represents USD, which means that row `0` contains the exchange rates for `1` USD to all other currencies. Since row `1` represents CAD, index `1` in the USD row contains the exchange for `1` USD to CAD. The currency labels are listed above to help you visualize the problem, but they won't actually be included in any inputs and aren't relevant to solving this problem.\n",
        "\n",
        "Write a function that returns a boolean representing whether an arbitrage opportunity exists with the given exchange rates. An arbitrage occurs if you can start with `C` units of one currency and execute a series of exchanges that lead you to having more than `C` units of the same currency you started with.\n",
        "\n",
        "Note: currency exchange rates won't represent real-world exchange rates, and there might be multiple ways to generate an arbitrage."
      ],
      "metadata": {
        "id": "fIzssiWEreyW"
      }
    },
    {
      "cell_type": "markdown",
      "source": [
        "Sample Input\n",
        "\n",
        "```\n",
        "exchangeRates = [\n",
        "  [   1.0, 0.8631, 0.5903],\n",
        "  [1.1586,    1.0, 0.6849],\n",
        "  [1.6939,   1.46,    1.0],\n",
        "]\n",
        "```\n",
        "\n"
      ],
      "metadata": {
        "id": "VHZsEKYdvp8F"
      }
    },
    {
      "cell_type": "markdown",
      "source": [
        "Sample Output\n",
        "\n",
        "```\n",
        "true \n",
        "```\n",
        "\n"
      ],
      "metadata": {
        "id": "tPyUuyaUvr0u"
      }
    },
    {
      "cell_type": "code",
      "source": [
        "import math\n",
        "def detectArbitrage(exchangeRates):\n",
        "  negative_log_exchange_rate = modify_exchange_rate(exchangeRates)\n",
        "  shortest_distance = find_shortest_distance(negative_log_exchange_rate, 0)\n",
        "  return find_shortest_distance(negative_log_exchange_rate, 0, shortest_distance, True)\n",
        "\n",
        "def find_shortest_distance(graph, start_idx, shortest_distance = [], detect_negative_cycle_mode = False):\n",
        "  if shortest_distance == []:\n",
        "    shortest_distance = [float('inf') for _ in range(len(graph))]\n",
        "    shortest_distance[start_idx] = 0\n",
        "\n",
        "  for _ in range(len(graph) - 1):\n",
        "    for source_idx, edge_weights in enumerate(graph):\n",
        "      for target_idx, edge_weight in enumerate(edge_weights):\n",
        "        if shortest_distance[source_idx] + edge_weight < shortest_distance[target_idx]:\n",
        "          # update\n",
        "          if detect_negative_cycle_mode == True:\n",
        "            return True\n",
        "          shortest_distance[target_idx] = shortest_distance[source_idx] + edge_weight\n",
        "  \n",
        "  if detect_negative_cycle_mode == False:\n",
        "    return shortest_distance\n",
        "  else:\n",
        "    return False\n",
        "\n",
        "def modify_exchange_rate(exchangeRates):\n",
        "  negative_log_exchange_rate = [[0 for _ in range(len(exchangeRates))] for _ in range(len(exchangeRates[0]))]\n",
        "  for i in range(len(exchangeRates)):\n",
        "    for j in range(len(exchangeRates[i])):\n",
        "      negative_log_exchange_rate[i][j] = -math.log(exchangeRates[i][j], 10)\n",
        "  return negative_log_exchange_rate"
      ],
      "metadata": {
        "id": "Ef4goJ2hmCNx"
      },
      "execution_count": 111,
      "outputs": []
    },
    {
      "cell_type": "code",
      "execution_count": 110,
      "metadata": {
        "id": "Ib2JmiQql6bD"
      },
      "outputs": [],
      "source": [
        "exchangeRates = [\n",
        "    [1, 0.8631, 0.5903],\n",
        "    [1.1586, 1, 0.6849],\n",
        "    [1.6939, 1.46, 1]\n",
        "  ]"
      ]
    },
    {
      "cell_type": "code",
      "source": [
        "detectArbitrage(exchangeRates)"
      ],
      "metadata": {
        "colab": {
          "base_uri": "https://localhost:8080/"
        },
        "id": "ZtBmey6nmD8G",
        "outputId": "292c39e8-3177-405f-b048-2f2369a9b121"
      },
      "execution_count": 74,
      "outputs": [
        {
          "output_type": "execute_result",
          "data": {
            "text/plain": [
              "True"
            ]
          },
          "metadata": {},
          "execution_count": 74
        }
      ]
    },
    {
      "cell_type": "code",
      "source": [
        "exchangeRates = [\n",
        "    [1, 2],\n",
        "    [0.6, 1]\n",
        "  ]"
      ],
      "metadata": {
        "id": "Ouu6SL67np61"
      },
      "execution_count": 112,
      "outputs": []
    },
    {
      "cell_type": "code",
      "source": [
        "detectArbitrage(exchangeRates)"
      ],
      "metadata": {
        "colab": {
          "base_uri": "https://localhost:8080/"
        },
        "id": "0kcV5WU-nsKy",
        "outputId": "08c73fea-542c-480f-eb91-8d1b6b34fca5"
      },
      "execution_count": 113,
      "outputs": [
        {
          "output_type": "execute_result",
          "data": {
            "text/plain": [
              "True"
            ]
          },
          "metadata": {},
          "execution_count": 113
        }
      ]
    }
  ]
}