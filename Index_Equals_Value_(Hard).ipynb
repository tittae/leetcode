{
  "nbformat": 4,
  "nbformat_minor": 0,
  "metadata": {
    "colab": {
      "name": "Index Equals Value (Hard).ipynb",
      "provenance": [],
      "collapsed_sections": [],
      "authorship_tag": "ABX9TyPxRmsznpFMskye6lNqkW67",
      "include_colab_link": true
    },
    "kernelspec": {
      "name": "python3",
      "display_name": "Python 3"
    },
    "language_info": {
      "name": "python"
    }
  },
  "cells": [
    {
      "cell_type": "markdown",
      "metadata": {
        "id": "view-in-github",
        "colab_type": "text"
      },
      "source": [
        "<a href=\"https://colab.research.google.com/github/wisarootl/leetcode/blob/main/Index_Equals_Value_(Hard).ipynb\" target=\"_parent\"><img src=\"https://colab.research.google.com/assets/colab-badge.svg\" alt=\"Open In Colab\"/></a>"
      ]
    },
    {
      "cell_type": "markdown",
      "source": [
        "# Index Equals Value"
      ],
      "metadata": {
        "id": "4yhbVxejDOrI"
      }
    },
    {
      "cell_type": "markdown",
      "source": [
        "Write a function that takes in a sorted array of distinct integers and returns the first index in the array that is equal to the value at that index. In other words, your function should return the minimum index where `index == array[index]`.\n",
        "\n",
        "If there is no such index, your function should return `-1`."
      ],
      "metadata": {
        "id": "03PAY90ODPoo"
      }
    },
    {
      "cell_type": "markdown",
      "source": [
        "Sample Input\n",
        "\n",
        "```\n",
        "array = [-5, -3, 0, 3, 4, 5, 9]\n",
        "```\n",
        "\n"
      ],
      "metadata": {
        "id": "RDSZ_rcFDSa2"
      }
    },
    {
      "cell_type": "markdown",
      "source": [
        "Sample Output\n",
        "\n",
        "```\n",
        "3 // 3 == array[3]\n",
        "```\n",
        "\n"
      ],
      "metadata": {
        "id": "VBSPR9M6DWDk"
      }
    },
    {
      "cell_type": "code",
      "execution_count": 1,
      "metadata": {
        "id": "XmIGIc2nBW5k"
      },
      "outputs": [],
      "source": [
        "# Time O(log n)\n",
        "# Space O(1)\n",
        "\n",
        "def indexEqualsValue(array):\n",
        "  left_idx = 0\n",
        "  right_idx = len(array) - 1\n",
        "  while left_idx <= right_idx:\n",
        "    middle_idx = (left_idx + right_idx) // 2\n",
        "    different_btw_idx_value = array[middle_idx] - middle_idx\n",
        "    if different_btw_idx_value < 0:\n",
        "      left_idx = middle_idx + 1\n",
        "    elif different_btw_idx_value > 0:\n",
        "      right_idx = middle_idx - 1\n",
        "    else:\n",
        "      if middle_idx == 0:\n",
        "        return middle_idx\n",
        "      different_btw_idx_value_of_left_element = array[middle_idx - 1] - (middle_idx - 1)\n",
        "      if different_btw_idx_value_of_left_element < 0:\n",
        "        return middle_idx\n",
        "      right_idx = middle_idx\n",
        "  return -1"
      ]
    },
    {
      "cell_type": "code",
      "source": [
        "array = [-5, -3, 0, 3, 4, 5, 9]\n",
        "indexEqualsValue(array)"
      ],
      "metadata": {
        "colab": {
          "base_uri": "https://localhost:8080/"
        },
        "id": "46_GhgrtBa9h",
        "outputId": "9450d3fc-859c-4949-84df-7789bb0510a5"
      },
      "execution_count": 2,
      "outputs": [
        {
          "output_type": "execute_result",
          "data": {
            "text/plain": [
              "3"
            ]
          },
          "metadata": {},
          "execution_count": 2
        }
      ]
    },
    {
      "cell_type": "code",
      "source": [
        "array = [-12, 1, 2, 3, 12]\n",
        "indexEqualsValue(array)"
      ],
      "metadata": {
        "colab": {
          "base_uri": "https://localhost:8080/"
        },
        "id": "gD2ISzRdBdow",
        "outputId": "ed07e3a7-1024-4fd5-fcb3-728f9533942c"
      },
      "execution_count": 3,
      "outputs": [
        {
          "output_type": "execute_result",
          "data": {
            "text/plain": [
              "1"
            ]
          },
          "metadata": {},
          "execution_count": 3
        }
      ]
    },
    {
      "cell_type": "code",
      "source": [
        "array = [0]\n",
        "indexEqualsValue(array)"
      ],
      "metadata": {
        "colab": {
          "base_uri": "https://localhost:8080/"
        },
        "id": "MDm-PX6_Cksa",
        "outputId": "28c3dae2-3d32-4a5a-ba0a-794c2135b498"
      },
      "execution_count": 4,
      "outputs": [
        {
          "output_type": "execute_result",
          "data": {
            "text/plain": [
              "0"
            ]
          },
          "metadata": {},
          "execution_count": 4
        }
      ]
    }
  ]
}