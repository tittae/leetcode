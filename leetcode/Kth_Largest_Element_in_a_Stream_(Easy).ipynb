{
  "nbformat": 4,
  "nbformat_minor": 0,
  "metadata": {
    "colab": {
      "name": "Kth Largest Element in a Stream (Easy).ipynb",
      "provenance": [],
      "authorship_tag": "ABX9TyNPyt/LUMO9G5QUHOwUI9K+",
      "include_colab_link": true
    },
    "kernelspec": {
      "name": "python3",
      "display_name": "Python 3"
    },
    "language_info": {
      "name": "python"
    }
  },
  "cells": [
    {
      "cell_type": "markdown",
      "metadata": {
        "id": "view-in-github",
        "colab_type": "text"
      },
      "source": [
        "<a href=\"https://colab.research.google.com/github/wisarootl/leetcode/blob/main/Kth_Largest_Element_in_a_Stream_(Easy).ipynb\" target=\"_parent\"><img src=\"https://colab.research.google.com/assets/colab-badge.svg\" alt=\"Open In Colab\"/></a>"
      ]
    },
    {
      "cell_type": "markdown",
      "source": [
        "# Kth Largest Element in a Stream"
      ],
      "metadata": {
        "id": "baPLPzbGnt7F"
      }
    },
    {
      "cell_type": "markdown",
      "source": [
        "Design a class to find the kth largest element in a stream. Note that it is the kth largest element in the sorted order, not the kth distinct element.\n",
        "\n",
        "Implement KthLargest class:\n",
        "\n",
        "- KthLargest(int k, int[] nums) Initializes the object with the integer k and the stream of integers nums.\n",
        "- int add(int val) Appends the integer val to the stream and returns the element representing the kth largest element in the stream."
      ],
      "metadata": {
        "id": "mQxw7YLynu50"
      }
    },
    {
      "cell_type": "markdown",
      "source": [
        "Example 1:\n",
        "\n",
        "```\n",
        "Input\n",
        "[\"KthLargest\", \"add\", \"add\", \"add\", \"add\", \"add\"]\n",
        "[[3, [4, 5, 8, 2]], [3], [5], [10], [9], [4]]\n",
        "Output\n",
        "[null, 4, 5, 5, 8, 8]\n",
        "\n",
        "Explanation\n",
        "KthLargest kthLargest = new KthLargest(3, [4, 5, 8, 2]);\n",
        "kthLargest.add(3);   // return 4\n",
        "kthLargest.add(5);   // return 5\n",
        "kthLargest.add(10);  // return 5\n",
        "kthLargest.add(9);   // return 8\n",
        "kthLargest.add(4);   // return 8\n",
        "```\n",
        "\n"
      ],
      "metadata": {
        "id": "FdyP-tvcny8r"
      }
    },
    {
      "cell_type": "markdown",
      "source": [
        "Constraints:\n",
        "\n",
        "```\n",
        "1 <= k <= 104\n",
        "0 <= nums.length <= 104\n",
        "-104 <= nums[i] <= 104\n",
        "-104 <= val <= 104\n",
        "At most 104 calls will be made to add.\n",
        "It is guaranteed that there will be at least k elements in the array when you search for the kth element.\n",
        "```\n",
        "\n"
      ],
      "metadata": {
        "id": "zhvwrEJzn3wy"
      }
    },
    {
      "cell_type": "code",
      "execution_count": 1,
      "metadata": {
        "id": "dD4i8RLnnqqi"
      },
      "outputs": [],
      "source": [
        "import heapq\n",
        "\n",
        "class KthLargest:\n",
        "    \n",
        "    # Time = O(N log K)\n",
        "    # Space = O(K)\n",
        "    def __init__(self, k, nums):\n",
        "        self.k = k\n",
        "        self.heap = []\n",
        "        for num in nums:\n",
        "            heapq.heappush(self.heap, num)\n",
        "            if len(self.heap) > self.k:\n",
        "                heapq.heappop(self.heap)\n",
        "    \n",
        "    # Time = O(log k)\n",
        "    # Space = O(1)\n",
        "    def add(self, val):\n",
        "        heapq.heappush(self.heap, val)\n",
        "        if len(self.heap) > self.k:\n",
        "            heapq.heappop(self.heap)\n",
        "        return self.heap[0]\n",
        "        \n",
        "\n",
        "\n",
        "# Your KthLargest object will be instantiated and called as such:\n",
        "# obj = KthLargest(k, nums)\n",
        "# param_1 = obj.add(val)"
      ]
    },
    {
      "cell_type": "code",
      "source": [
        "k = 3\n",
        "nums = [4, 5, 8, 2]\n",
        "\n",
        "k_largest = KthLargest(k, nums)\n",
        "print(k_largest.heap)\n",
        "print(k_largest.add(3))\n",
        "print(k_largest.add(5))\n",
        "print(k_largest.add(10))\n",
        "print(k_largest.add(9))\n",
        "print(k_largest.add(4))"
      ],
      "metadata": {
        "colab": {
          "base_uri": "https://localhost:8080/"
        },
        "id": "rvDhdEt1oDrl",
        "outputId": "f053592c-d733-4c7a-d6cd-03470f073475"
      },
      "execution_count": 2,
      "outputs": [
        {
          "output_type": "stream",
          "name": "stdout",
          "text": [
            "[4, 5, 8]\n",
            "4\n",
            "5\n",
            "5\n",
            "8\n",
            "8\n"
          ]
        }
      ]
    }
  ]
}