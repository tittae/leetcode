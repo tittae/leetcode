{
  "nbformat": 4,
  "nbformat_minor": 0,
  "metadata": {
    "colab": {
      "name": "Partition Labels (Medium).ipynb",
      "provenance": [],
      "authorship_tag": "ABX9TyNRKiVQfu7MwgzSHd2xvGb0",
      "include_colab_link": true
    },
    "kernelspec": {
      "name": "python3",
      "display_name": "Python 3"
    },
    "language_info": {
      "name": "python"
    }
  },
  "cells": [
    {
      "cell_type": "markdown",
      "metadata": {
        "id": "view-in-github",
        "colab_type": "text"
      },
      "source": [
        "<a href=\"https://colab.research.google.com/github/wisarootl/leetcode/blob/main/Partition_Labels_(Medium).ipynb\" target=\"_parent\"><img src=\"https://colab.research.google.com/assets/colab-badge.svg\" alt=\"Open In Colab\"/></a>"
      ]
    },
    {
      "cell_type": "markdown",
      "source": [
        "# Partition Labels"
      ],
      "metadata": {
        "id": "yJKta03uhcPy"
      }
    },
    {
      "cell_type": "markdown",
      "source": [
        "You are given a string s. We want to partition the string into as many parts as possible so that each letter appears in at most one part.\n",
        "\n",
        "Note that the partition is done so that after concatenating all the parts in order, the resultant string should be s.\n",
        "\n",
        "Return a list of integers representing the size of these parts."
      ],
      "metadata": {
        "id": "tW4zl9A4hdRV"
      }
    },
    {
      "cell_type": "markdown",
      "source": [
        "Example 1:\n",
        "\n",
        "```\n",
        "Input: s = \"ababcbacadefegdehijhklij\"\n",
        "Output: [9,7,8]\n",
        "Explanation:\n",
        "The partition is \"ababcbaca\", \"defegde\", \"hijhklij\".\n",
        "This is a partition so that each letter appears in at most one part.\n",
        "A partition like \"ababcbacadefegde\", \"hijhklij\" is incorrect, because it splits s into less parts.\n",
        "```\n",
        "\n"
      ],
      "metadata": {
        "id": "TLhCS5wBhe54"
      }
    },
    {
      "cell_type": "markdown",
      "source": [
        "Example 2:\n",
        "\n",
        "```\n",
        "Input: s = \"eccbbbbdec\"\n",
        "Output: [10]\n",
        "```\n",
        "\n"
      ],
      "metadata": {
        "id": "2BJoJZ3MhhGP"
      }
    },
    {
      "cell_type": "markdown",
      "source": [
        "Constraints:\n",
        "\n",
        "```\n",
        "1 <= s.length <= 500\n",
        "s consists of lowercase English letters.\n",
        "```\n",
        "\n"
      ],
      "metadata": {
        "id": "lFki49y6hku3"
      }
    },
    {
      "cell_type": "markdown",
      "source": [
        "# Solution 1"
      ],
      "metadata": {
        "id": "DWfnAa1Ehnyr"
      }
    },
    {
      "cell_type": "code",
      "execution_count": 1,
      "metadata": {
        "id": "3LoiH0hHhayA"
      },
      "outputs": [],
      "source": [
        "# Time = O(N)\n",
        "# Space = O(1)\n",
        "\n",
        "# Note: space for last_idx_dict is bounded by unique character (26)\n",
        "\n",
        "class Solution:\n",
        "    def partitionLabels(self, s):\n",
        "        last_idx_dict = {c: i for i, c in enumerate(s)}\n",
        "        output = []\n",
        "        idx = 0\n",
        "        while idx <= len(s) - 1:\n",
        "            end_idx = partitionLabels_helper(s, idx, last_idx_dict)\n",
        "            length = end_idx - idx + 1\n",
        "            output.append(length)\n",
        "            idx = end_idx + 1\n",
        "        return output\n",
        "    \n",
        "def partitionLabels_helper(s, start_idx, last_idx_dict):\n",
        "    idx = start_idx\n",
        "    end_idx = last_idx_dict[s[idx]]\n",
        "    while idx < end_idx:\n",
        "        idx += 1\n",
        "        end_idx = max(last_idx_dict[s[idx]], end_idx)\n",
        "        \n",
        "    return end_idx"
      ]
    },
    {
      "cell_type": "code",
      "source": [
        "s = \"ababcbacadefegdehijhklij\"\n",
        "expected = [9,7,8]\n",
        "\n",
        "output = Solution().partitionLabels(s)\n",
        "print(output)\n",
        "assert output == expected"
      ],
      "metadata": {
        "colab": {
          "base_uri": "https://localhost:8080/"
        },
        "id": "iFn12JxXhruJ",
        "outputId": "9fe9737b-3d2f-4ada-e454-2a2f4d2c8efc"
      },
      "execution_count": 2,
      "outputs": [
        {
          "output_type": "stream",
          "name": "stdout",
          "text": [
            "[9, 7, 8]\n"
          ]
        }
      ]
    },
    {
      "cell_type": "code",
      "source": [
        "s = \"eccbbbbdec\"\n",
        "expected = [10]\n",
        "\n",
        "output = Solution().partitionLabels(s)\n",
        "print(output)\n",
        "assert output == expected"
      ],
      "metadata": {
        "colab": {
          "base_uri": "https://localhost:8080/"
        },
        "id": "y2GFqGZ8h4wr",
        "outputId": "5fc23acc-a907-41bc-f2d3-5874a0f865c7"
      },
      "execution_count": 3,
      "outputs": [
        {
          "output_type": "stream",
          "name": "stdout",
          "text": [
            "[10]\n"
          ]
        }
      ]
    },
    {
      "cell_type": "markdown",
      "source": [
        "# Solution 2: refactor solution 1"
      ],
      "metadata": {
        "id": "HZ59c2L2h_0_"
      }
    },
    {
      "cell_type": "code",
      "source": [
        "# Time = O(N)\n",
        "# Space = O(1)\n",
        "\n",
        "# Note: space for last_idx_dict is bounded by unique character (26)\n",
        "\n",
        "class Solution:\n",
        "    def partitionLabels(self, s):\n",
        "        last_idx_dict = {c: i for i, c in enumerate(s)}\n",
        "        output = []\n",
        "        start_idx = 0\n",
        "        end_idx = last_idx_dict[s[start_idx]]\n",
        "        for idx in range(len(s)):\n",
        "          end_idx = max(last_idx_dict[s[idx]], end_idx)\n",
        "          if idx == end_idx:\n",
        "            output.append(end_idx - start_idx + 1)\n",
        "            start_idx = idx + 1\n",
        "        \n",
        "        return output"
      ],
      "metadata": {
        "id": "ktm64kgeh9_S"
      },
      "execution_count": 4,
      "outputs": []
    },
    {
      "cell_type": "code",
      "source": [
        "s = \"ababcbacadefegdehijhklij\"\n",
        "expected = [9,7,8]\n",
        "\n",
        "output = Solution().partitionLabels(s)\n",
        "print(output)\n",
        "assert output == expected"
      ],
      "metadata": {
        "colab": {
          "base_uri": "https://localhost:8080/"
        },
        "id": "70esI3Txinwk",
        "outputId": "022a9422-ae26-4b5b-ab5e-8b72e77ef4bb"
      },
      "execution_count": 5,
      "outputs": [
        {
          "output_type": "stream",
          "name": "stdout",
          "text": [
            "[9, 7, 8]\n"
          ]
        }
      ]
    },
    {
      "cell_type": "code",
      "source": [
        "s = \"eccbbbbdec\"\n",
        "expected = [10]\n",
        "\n",
        "output = Solution().partitionLabels(s)\n",
        "print(output)\n",
        "assert output == expected"
      ],
      "metadata": {
        "colab": {
          "base_uri": "https://localhost:8080/"
        },
        "id": "uWSqrtq_ippq",
        "outputId": "eec8fdf7-e60f-4e23-acf5-3078d6717f6f"
      },
      "execution_count": 6,
      "outputs": [
        {
          "output_type": "stream",
          "name": "stdout",
          "text": [
            "[10]\n"
          ]
        }
      ]
    }
  ]
}