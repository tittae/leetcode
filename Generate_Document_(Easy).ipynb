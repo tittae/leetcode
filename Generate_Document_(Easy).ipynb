{
  "nbformat": 4,
  "nbformat_minor": 0,
  "metadata": {
    "colab": {
      "name": "Generate Document (Easy).ipynb",
      "provenance": [],
      "collapsed_sections": [],
      "authorship_tag": "ABX9TyNFyb+xMldahD+QE6VY5QzZ",
      "include_colab_link": true
    },
    "kernelspec": {
      "name": "python3",
      "display_name": "Python 3"
    },
    "language_info": {
      "name": "python"
    }
  },
  "cells": [
    {
      "cell_type": "markdown",
      "metadata": {
        "id": "view-in-github",
        "colab_type": "text"
      },
      "source": [
        "<a href=\"https://colab.research.google.com/github/wisarootl/leetcode/blob/main/Generate_Document_(Easy).ipynb\" target=\"_parent\"><img src=\"https://colab.research.google.com/assets/colab-badge.svg\" alt=\"Open In Colab\"/></a>"
      ]
    },
    {
      "cell_type": "markdown",
      "metadata": {
        "id": "5ULeY-UL4q4I"
      },
      "source": [
        "# Generate Document"
      ]
    },
    {
      "cell_type": "markdown",
      "metadata": {
        "id": "GmW8oCju4sgH"
      },
      "source": [
        "You're given a string of available characters and a string representing a document that you need to generate. Write a function that determines if you can generate the document using the available characters. If you can generate the document, your function should return `true`; otherwise, it should return `false`.\n",
        "\n",
        "You're only able to generate the document if the frequency of unique characters in the characters string is greater than or equal to the frequency of unique characters in the document string. For example, if you're given `characters = \"abcabc\"` and `document = \"aabbccc\"` you cannot generate the document because you're missing one `c`.\n",
        "\n",
        "The document that you need to create may contain any characters, including special characters, capital letters, numbers, and spaces.\n",
        "\n",
        "Note: you can always generate the empty string (`\"\"`)."
      ]
    },
    {
      "cell_type": "markdown",
      "metadata": {
        "id": "yN9WEbT55GR5"
      },
      "source": [
        "Sample Input\n",
        "\n",
        "```\n",
        "characters = \"Bste!hetsi ogEAxpelrt x \"\n",
        "document = \"AlgoExpert is the Best!\"\n",
        "```\n",
        "\n"
      ]
    },
    {
      "cell_type": "markdown",
      "metadata": {
        "id": "V5_Wz_p85Ivu"
      },
      "source": [
        "Sample Output\n",
        "\n",
        "```\n",
        "true\n",
        "```\n",
        "\n"
      ]
    },
    {
      "cell_type": "markdown",
      "metadata": {
        "id": "tRq4G6wW-R6X"
      },
      "source": [
        "# Solution"
      ]
    },
    {
      "cell_type": "code",
      "metadata": {
        "id": "E3nv4GlQ4mGI"
      },
      "source": [
        "# O(m*n) Time, Space O(1) if allow to alter original array. If not Space = O(n)\n",
        "# m = lenght of document\n",
        "# n = lenght of character\n",
        "\n",
        "def generateDocument(characters, document):\n",
        "  characters = list(characters)\n",
        "  for letter in document:\n",
        "    found = False\n",
        "    for idx, char in enumerate(characters):\n",
        "      if letter == char:\n",
        "        characters[idx] = ''\n",
        "        found = True\n",
        "        break\n",
        "    if found == False: \n",
        "        return False\n",
        "  return True"
      ],
      "execution_count": null,
      "outputs": []
    },
    {
      "cell_type": "code",
      "metadata": {
        "id": "Q1upPRLv8zYh"
      },
      "source": [
        "characters = \"Bste!hetsi ogEAxpelrt x \"\n",
        "document = \"AlgoExpert is the Best!\""
      ],
      "execution_count": null,
      "outputs": []
    },
    {
      "cell_type": "code",
      "metadata": {
        "colab": {
          "base_uri": "https://localhost:8080/"
        },
        "id": "HKxZ0S3D80py",
        "outputId": "7cb56ee8-1f92-4e4e-87e1-8fa415e781cc"
      },
      "source": [
        "print(generateDocument(characters, document))"
      ],
      "execution_count": null,
      "outputs": [
        {
          "output_type": "stream",
          "name": "stdout",
          "text": [
            "True\n"
          ]
        }
      ]
    },
    {
      "cell_type": "markdown",
      "metadata": {
        "id": "9mWVpDW8MQ8O"
      },
      "source": [
        "## Solution (Create dictionary to store char count)"
      ]
    },
    {
      "cell_type": "code",
      "metadata": {
        "id": "ZtOPeGOSN-zE"
      },
      "source": [
        "# Time O(m+n), Space O(c)\n",
        "# m = lenght of document\n",
        "# n = lenght of characters string\n",
        "# c = unique char in characters string\n",
        "def generateDocument(characters, document):\n",
        "  characters_count = count_char(characters)\n",
        "  for char in document:\n",
        "    if char not in characters_count or characters_count[char] == 0:\n",
        "      return False\n",
        "    else:\n",
        "      characters_count[char] -= 1\n",
        "  return True\n",
        "\n",
        "def count_char(string):\n",
        "  count = {}\n",
        "  for char in string:\n",
        "    if char in count:\n",
        "      count[char] += 1\n",
        "    else:\n",
        "      count[char] = 1\n",
        "  return count"
      ],
      "execution_count": null,
      "outputs": []
    },
    {
      "cell_type": "code",
      "metadata": {
        "id": "U0uemIjZOIXD"
      },
      "source": [
        "characters = \"Bste!hetsi ogEAxpelrt x \"\n",
        "document = \"AlgoExpert is the Best!\""
      ],
      "execution_count": null,
      "outputs": []
    },
    {
      "cell_type": "code",
      "metadata": {
        "colab": {
          "base_uri": "https://localhost:8080/"
        },
        "id": "YaBvewMDOJuA",
        "outputId": "9280aef3-0951-46bc-ef95-a29c4c16cc63"
      },
      "source": [
        "print(generateDocument(characters, document))"
      ],
      "execution_count": null,
      "outputs": [
        {
          "output_type": "stream",
          "name": "stdout",
          "text": [
            "True\n"
          ]
        }
      ]
    }
  ]
}