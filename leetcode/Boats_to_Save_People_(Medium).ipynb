{
  "cells": [
    {
      "cell_type": "markdown",
      "metadata": {
        "colab_type": "text",
        "id": "view-in-github"
      },
      "source": [
        "<a href=\"https://colab.research.google.com/github/wisarootl/leetcode/blob/main/Boats_to_Save_People_(Medium).ipynb\" target=\"_parent\"><img src=\"https://colab.research.google.com/assets/colab-badge.svg\" alt=\"Open In Colab\"/></a>"
      ]
    },
    {
      "cell_type": "markdown",
      "metadata": {
        "id": "vk6uLUfLnmBk"
      },
      "source": [
        "# Boats to Save People"
      ]
    },
    {
      "cell_type": "markdown",
      "metadata": {
        "id": "rZ4W0MUKnnLo"
      },
      "source": [
        "You are given an array people where people[i] is the weight of the ith person, and an infinite number of boats where each boat can carry a maximum weight of limit. Each boat carries at most two people at the same time, provided the sum of the weight of those people is at most limit.\n",
        "\n",
        "Return the minimum number of boats to carry every given person."
      ]
    },
    {
      "cell_type": "markdown",
      "metadata": {
        "id": "Dm0k3edInoic"
      },
      "source": [
        "Example 1:\n",
        "\n",
        "```\n",
        "Input: people = [1,2], limit = 3\n",
        "Output: 1\n",
        "Explanation: 1 boat (1, 2)\n",
        "```\n",
        "\n"
      ]
    },
    {
      "cell_type": "markdown",
      "metadata": {
        "id": "6idRwjsinrQB"
      },
      "source": [
        "Example 2:\n",
        "\n",
        "```\n",
        "Input: people = [3,2,2,1], limit = 3\n",
        "Output: 3\n",
        "Explanation: 3 boats (1, 2), (2) and (3)\n",
        "```\n",
        "\n"
      ]
    },
    {
      "cell_type": "markdown",
      "metadata": {
        "id": "F5sdhDbjntkl"
      },
      "source": [
        "Example 3:\n",
        "\n",
        "```\n",
        "Input: people = [3,5,3,4], limit = 5\n",
        "Output: 4\n",
        "Explanation: 4 boats (3), (3), (4), (5)\n",
        "```\n",
        "\n"
      ]
    },
    {
      "cell_type": "markdown",
      "metadata": {
        "id": "J-et0k0cnvuO"
      },
      "source": [
        "Constraints:\n",
        "\n",
        "```\n",
        "1 <= people.length <= 5 * 104\n",
        "1 <= people[i] <= limit <= 3 * 104\n",
        "```\n",
        "\n"
      ]
    },
    {
      "cell_type": "code",
      "execution_count": 1,
      "metadata": {
        "id": "cG3k3gdalPS3"
      },
      "outputs": [],
      "source": [
        "# Time = O(NlogN)\n",
        "# due to sort\n",
        "# Space = O(N)\n",
        "# if we do not allowed to alter input array\n",
        "\n",
        "class Solution:\n",
        "    def numRescueBoats(self, people, limit):\n",
        "        people.sort()\n",
        "        left_idx = 0\n",
        "        right_idx = len(people) - 1\n",
        "        boat_count = 0\n",
        "        while left_idx <= right_idx:\n",
        "            boat_count += 1\n",
        "            remaining_wt = limit - people[right_idx]\n",
        "            if people[left_idx] <= remaining_wt:\n",
        "                left_idx += 1\n",
        "            right_idx -= 1\n",
        "        return boat_count   "
      ]
    },
    {
      "cell_type": "code",
      "execution_count": 2,
      "metadata": {
        "colab": {
          "base_uri": "https://localhost:8080/"
        },
        "id": "_82Tw8g2lQdg",
        "outputId": "0a134574-feb2-412e-9842-d913630243f6"
      },
      "outputs": [
        {
          "name": "stdout",
          "output_type": "stream",
          "text": [
            "1\n"
          ]
        }
      ],
      "source": [
        "people = [1,2]\n",
        "limit = 3\n",
        "expected = 1\n",
        "\n",
        "output = Solution().numRescueBoats(people, limit)\n",
        "print(output)\n",
        "assert output == expected"
      ]
    },
    {
      "cell_type": "code",
      "execution_count": 3,
      "metadata": {
        "colab": {
          "base_uri": "https://localhost:8080/"
        },
        "id": "HejTR7UnlwZa",
        "outputId": "f2300fba-3bca-48cc-dec9-991c106d1b88"
      },
      "outputs": [
        {
          "name": "stdout",
          "output_type": "stream",
          "text": [
            "3\n"
          ]
        }
      ],
      "source": [
        "people = [3,2,2,1]\n",
        "limit = 3\n",
        "expected = 3\n",
        "\n",
        "output = Solution().numRescueBoats(people, limit)\n",
        "print(output)\n",
        "assert output == expected"
      ]
    },
    {
      "cell_type": "code",
      "execution_count": 4,
      "metadata": {
        "colab": {
          "base_uri": "https://localhost:8080/"
        },
        "id": "92p9quDKmLgo",
        "outputId": "0d03e675-1260-45d7-a7a6-87771d97a828"
      },
      "outputs": [
        {
          "name": "stdout",
          "output_type": "stream",
          "text": [
            "4\n"
          ]
        }
      ],
      "source": [
        "people = [3,5,3,4]\n",
        "limit = 5\n",
        "expected = 4\n",
        "\n",
        "output = Solution().numRescueBoats(people, limit)\n",
        "print(output)\n",
        "assert output == expected"
      ]
    }
  ],
  "metadata": {
    "colab": {
      "authorship_tag": "ABX9TyP4wY77v7IQpq5zBalGRAq5",
      "collapsed_sections": [],
      "include_colab_link": true,
      "name": "Boats to Save People (Medium).ipynb",
      "provenance": []
    },
    "kernelspec": {
      "display_name": "Python 3.10.8 64-bit (microsoft store)",
      "language": "python",
      "name": "python3"
    },
    "language_info": {
      "codemirror_mode": {
        "name": "ipython",
        "version": 3
      },
      "file_extension": ".py",
      "mimetype": "text/x-python",
      "name": "python",
      "nbconvert_exporter": "python",
      "pygments_lexer": "ipython3",
      "version": "3.10.8"
    },
    "vscode": {
      "interpreter": {
        "hash": "3822405be9f5fb329f7270cbdcf73e762c62b3f383c5e71390a1a4648678c1cb"
      }
    }
  },
  "nbformat": 4,
  "nbformat_minor": 0
}
