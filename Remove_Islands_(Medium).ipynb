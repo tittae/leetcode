{
  "nbformat": 4,
  "nbformat_minor": 0,
  "metadata": {
    "colab": {
      "name": "Remove Islands (Medium).ipynb",
      "provenance": [],
      "authorship_tag": "ABX9TyPdGOhBp4Sb4myjnmah03Eb",
      "include_colab_link": true
    },
    "kernelspec": {
      "name": "python3",
      "display_name": "Python 3"
    },
    "language_info": {
      "name": "python"
    }
  },
  "cells": [
    {
      "cell_type": "markdown",
      "metadata": {
        "id": "view-in-github",
        "colab_type": "text"
      },
      "source": [
        "<a href=\"https://colab.research.google.com/github/wisarootl/leetcode/blob/main/Remove_Islands_(Medium).ipynb\" target=\"_parent\"><img src=\"https://colab.research.google.com/assets/colab-badge.svg\" alt=\"Open In Colab\"/></a>"
      ]
    },
    {
      "cell_type": "markdown",
      "source": [
        "# Remove Islands"
      ],
      "metadata": {
        "id": "ApEvQ5sG-pdU"
      }
    },
    {
      "cell_type": "markdown",
      "source": [
        "You're given a two-dimensional array (a matrix) of potentially unequal height and width containing only `0`s and `1`s. The matrix represents a two-toned image, where each `1` represents black and each `0` represents white. An island is defined as any number of `1`s that are horizontally or vertically adjacent (but not diagonally adjacent) and that don't touch the border of the image. In other words, a group of horizontally or vertically adjacent `1`s isn't an island if any of those `1`s are in the first row, last row, first column, or last column of the input matrix.\n",
        "\n",
        "Note that an island can twist. In other words, it doesn't have to be a straight vertical line or a straight horizontal line; it can be L-shaped, for example.\n",
        "\n",
        "You can think of islands as patches of black that don't touch the border of the two-toned image.\n",
        "\n",
        "Write a function that returns a modified version of the input matrix, where all of the islands are removed. You remove an island by replacing it with `0`s.\n",
        "\n",
        "Naturally, you're allowed to mutate the input matrix."
      ],
      "metadata": {
        "id": "IgyFsDKnWJXz"
      }
    },
    {
      "cell_type": "markdown",
      "source": [
        "Sample Input\n",
        "\n",
        "```\n",
        "matrix = \n",
        "[\n",
        "  [1, 0, 0, 0, 0, 0],\n",
        "  [0, 1, 0, 1, 1, 1],\n",
        "  [0, 0, 1, 0, 1, 0],\n",
        "  [1, 1, 0, 0, 1, 0],\n",
        "  [1, 0, 1, 1, 0, 0],\n",
        "  [1, 0, 0, 0, 0, 1],\n",
        "]\n",
        "```\n",
        "\n"
      ],
      "metadata": {
        "id": "WA7htEKhWUMt"
      }
    },
    {
      "cell_type": "markdown",
      "source": [
        "Sample Output\n",
        "\n",
        "```\n",
        "[\n",
        "  [1, 0, 0, 0, 0, 0],\n",
        "  [0, 0, 0, 1, 1, 1],\n",
        "  [0, 0, 0, 0, 1, 0],\n",
        "  [1, 1, 0, 0, 1, 0],\n",
        "  [1, 0, 0, 0, 0, 0],\n",
        "  [1, 0, 0, 0, 0, 1],\n",
        "] \n",
        "// The islands that were removed can be clearly seen here:\n",
        "// [\n",
        "//   [ ,  ,  ,  ,  , ],\n",
        "//   [ , 1,  ,  ,  , ],\n",
        "//   [ ,  , 1,  ,  , ],\n",
        "//   [ ,  ,  ,  ,  , ],\n",
        "//   [ ,  , 1, 1,  , ],\n",
        "//   [ ,  ,  ,  ,  , ], \n",
        "// ]\n",
        "```\n",
        "\n"
      ],
      "metadata": {
        "id": "3lMFYRuSWWOx"
      }
    },
    {
      "cell_type": "markdown",
      "source": [
        "# Solution 1"
      ],
      "metadata": {
        "id": "JR2xTp-rWA8G"
      }
    },
    {
      "cell_type": "code",
      "execution_count": 1,
      "metadata": {
        "id": "_BdvCe7i-iys"
      },
      "outputs": [],
      "source": [
        "# Time O(wh)\n",
        "# Spacce O(wh)\n",
        "\n",
        "def removeIslands(matrix):\n",
        "  visited = [[False for _ in range(len(matrix[0]))] for _ in range(len(matrix))]\n",
        "  remove_list = []\n",
        "  for row in range(len(matrix)):\n",
        "    for col in range(len(matrix[0])):\n",
        "      if matrix[row][col] == 0 or visited[row][col]:\n",
        "        visited[row][col] = True\n",
        "        continue\n",
        "      remove_list = dfs(row, col, matrix, visited, remove_list)\n",
        "      \n",
        "  for node in remove_list:\n",
        "    matrix[node[0]][node[1]] = 0\n",
        "\n",
        "  return matrix\n",
        "\n",
        "def dfs(row, col, matrix, visited, remove_list):\n",
        "  # init fringe\n",
        "  fringe = [[row, col]]\n",
        "  is_island = True\n",
        "  temp_remove_list = []\n",
        "  while True:\n",
        "    # is fringe empty?\n",
        "    if len(fringe) == 0:\n",
        "      if is_island:\n",
        "        remove_list = remove_list + temp_remove_list\n",
        "      return remove_list\n",
        "\n",
        "    # pop front\n",
        "    front = fringe.pop()\n",
        "    front_row, front_col = front\n",
        "\n",
        "    if visited[front_row][front_col]:\n",
        "      continue\n",
        "\n",
        "    visited[front_row][front_col] = True\n",
        "    if matrix[front_row][front_col] == 0:\n",
        "      continue\n",
        "\n",
        "    temp_remove_list.append(front)\n",
        "\n",
        "    # is goal?\n",
        "    if is_boarder(front_row, front_col, matrix):\n",
        "      is_island = False\n",
        "\n",
        "    # gen/insert successor\n",
        "    neighbors = get_neighbors(front_row, front_col, matrix)\n",
        "    for neighbor in neighbors:\n",
        "      neighbor_row, neighbor_col = neighbor\n",
        "      if not visited[neighbor_row][neighbor_col]:\n",
        "        fringe.append(neighbor)\n",
        "\n",
        "def is_boarder(row, col, matrix):\n",
        "  return row == 0 or row == len(matrix) - 1 or col == 0 or col == len(matrix[0]) - 1\n",
        "\n",
        "def get_neighbors(row, col, matrix):\n",
        "  neighbors = []\n",
        "  if row > 0:\n",
        "    neighbors.append([row - 1, col])\n",
        "  if row < len(matrix) - 1:\n",
        "    neighbors.append([row + 1, col])\n",
        "  if col > 0:\n",
        "    neighbors.append([row, col - 1])\n",
        "  if col < len(matrix[0]) - 1:\n",
        "    neighbors.append([row, col + 1])\n",
        "  \n",
        "  return neighbors"
      ]
    },
    {
      "cell_type": "code",
      "source": [
        "matrix = [\n",
        "  [1, 0, 0, 0, 0, 0],\n",
        "  [0, 1, 0, 1, 1, 1],\n",
        "  [0, 0, 1, 0, 1, 0],\n",
        "  [1, 1, 0, 0, 1, 0],\n",
        "  [1, 0, 1, 1, 0, 0],\n",
        "  [1, 0, 0, 0, 0, 1],\n",
        "]\n",
        "removeIslands(matrix)"
      ],
      "metadata": {
        "colab": {
          "base_uri": "https://localhost:8080/"
        },
        "id": "0YWZcu6N-tpo",
        "outputId": "baf4c933-18ce-416d-88ad-fdc852be4f60"
      },
      "execution_count": 2,
      "outputs": [
        {
          "output_type": "execute_result",
          "data": {
            "text/plain": [
              "[[1, 0, 0, 0, 0, 0],\n",
              " [0, 0, 0, 1, 1, 1],\n",
              " [0, 0, 0, 0, 1, 0],\n",
              " [1, 1, 0, 0, 1, 0],\n",
              " [1, 0, 0, 0, 0, 0],\n",
              " [1, 0, 0, 0, 0, 1]]"
            ]
          },
          "metadata": {},
          "execution_count": 2
        }
      ]
    },
    {
      "cell_type": "markdown",
      "source": [
        "# Solution 2"
      ],
      "metadata": {
        "id": "rqhimuOeVNFI"
      }
    },
    {
      "cell_type": "markdown",
      "source": [
        "not require addiontal visited matrix\n",
        "better avg space complexity but the worst space complexity is the same as soluion 1"
      ],
      "metadata": {
        "id": "ob312of5Vwtp"
      }
    },
    {
      "cell_type": "code",
      "source": [
        "# Time O(wh)\n",
        "# Spacce O(wh)\n",
        "\n",
        "def removeIslands(matrix):\n",
        "  for row in range(len(matrix)):\n",
        "    for col in range(len(matrix[0])):\n",
        "      if not is_boarder(row, col, matrix):\n",
        "        continue\n",
        "      if matrix[row][col] != 1:\n",
        "        continue\n",
        "      \n",
        "      dfs_change1to2(row, col, matrix)\n",
        "\n",
        "      \n",
        "  for row in range(len(matrix)):\n",
        "    for col in range(len(matrix[0])):\n",
        "      if matrix[row][col] == 1:\n",
        "        matrix[row][col] = 0\n",
        "      elif matrix[row][col] == 2:\n",
        "        matrix[row][col] = 1\n",
        "\n",
        "  return matrix\n",
        "\n",
        "def dfs_change1to2(row, col, matrix):\n",
        "  # init fringe\n",
        "  fringe = [[row, col]]\n",
        "\n",
        "  while len(fringe) > 0:\n",
        "\n",
        "    # pop front\n",
        "    front = fringe.pop()\n",
        "    front_row, front_col = front\n",
        "\n",
        "    matrix[front_row][front_col] = 2\n",
        "\n",
        "    neighbors = get_neighbors(front_row, front_col, matrix)\n",
        "    \n",
        "    for neighbor in neighbors:\n",
        "      neighbor_row, neighbor_col = neighbor\n",
        "      if matrix[neighbor_row][neighbor_col] == 1:\n",
        "        fringe.append(neighbor)\n",
        "      \n",
        "def is_boarder(row, col, matrix):\n",
        "  return row == 0 or row == len(matrix) - 1 or col == 0 or col == len(matrix[0]) - 1\n",
        "\n",
        "def get_neighbors(row, col, matrix):\n",
        "  neighbors = []\n",
        "  if row > 0:\n",
        "    neighbors.append([row - 1, col])\n",
        "  if row < len(matrix) - 1:\n",
        "    neighbors.append([row + 1, col])\n",
        "  if col > 0:\n",
        "    neighbors.append([row, col - 1])\n",
        "  if col < len(matrix[0]) - 1:\n",
        "    neighbors.append([row, col + 1])\n",
        "  \n",
        "  return neighbors"
      ],
      "metadata": {
        "id": "3QT-4DQAT7_f"
      },
      "execution_count": 3,
      "outputs": []
    },
    {
      "cell_type": "code",
      "source": [
        "matrix = [\n",
        "  [1, 0, 0, 0, 0, 0],\n",
        "  [0, 1, 0, 1, 1, 1],\n",
        "  [0, 0, 1, 0, 1, 0],\n",
        "  [1, 1, 0, 0, 1, 0],\n",
        "  [1, 0, 1, 1, 0, 0],\n",
        "  [1, 0, 0, 0, 0, 1],\n",
        "]\n",
        "removeIslands(matrix)"
      ],
      "metadata": {
        "colab": {
          "base_uri": "https://localhost:8080/"
        },
        "id": "vtO_9bwkVDyB",
        "outputId": "b2122d19-2290-4b53-8b55-0ab2ed504680"
      },
      "execution_count": 4,
      "outputs": [
        {
          "output_type": "execute_result",
          "data": {
            "text/plain": [
              "[[1, 0, 0, 0, 0, 0],\n",
              " [0, 0, 0, 1, 1, 1],\n",
              " [0, 0, 0, 0, 1, 0],\n",
              " [1, 1, 0, 0, 1, 0],\n",
              " [1, 0, 0, 0, 0, 0],\n",
              " [1, 0, 0, 0, 0, 1]]"
            ]
          },
          "metadata": {},
          "execution_count": 4
        }
      ]
    }
  ]
}