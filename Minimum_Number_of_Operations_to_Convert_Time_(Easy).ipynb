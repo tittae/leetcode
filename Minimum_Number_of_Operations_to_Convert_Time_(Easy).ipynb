{
  "nbformat": 4,
  "nbformat_minor": 0,
  "metadata": {
    "colab": {
      "name": "Minimum Number of Operations to Convert Time (Easy).ipynb",
      "provenance": [],
      "authorship_tag": "ABX9TyOmvBJQxherrTarH6b2xuyF",
      "include_colab_link": true
    },
    "kernelspec": {
      "name": "python3",
      "display_name": "Python 3"
    },
    "language_info": {
      "name": "python"
    }
  },
  "cells": [
    {
      "cell_type": "markdown",
      "metadata": {
        "id": "view-in-github",
        "colab_type": "text"
      },
      "source": [
        "<a href=\"https://colab.research.google.com/github/wisarootl/leetcode/blob/main/Minimum_Number_of_Operations_to_Convert_Time_(Easy).ipynb\" target=\"_parent\"><img src=\"https://colab.research.google.com/assets/colab-badge.svg\" alt=\"Open In Colab\"/></a>"
      ]
    },
    {
      "cell_type": "markdown",
      "source": [
        "# Minimum Number of Operations to Convert Time"
      ],
      "metadata": {
        "id": "erXrnCm_p5ZV"
      }
    },
    {
      "cell_type": "markdown",
      "source": [
        "You are given two strings current and correct representing two 24-hour times.\n",
        "\n",
        "24-hour times are formatted as \"HH:MM\", where HH is between 00 and 23, and MM is between 00 and 59. The earliest 24-hour time is 00:00, and the latest is 23:59.\n",
        "\n",
        "In one operation you can increase the time current by 1, 5, 15, or 60 minutes. You can perform this operation any number of times.\n",
        "\n",
        "Return the minimum number of operations needed to convert current to correct."
      ],
      "metadata": {
        "id": "fR1aXs_tp6Ql"
      }
    },
    {
      "cell_type": "markdown",
      "source": [
        "Example 1:\n",
        "\n",
        "```\n",
        "Input: current = \"02:30\", correct = \"04:35\"\n",
        "Output: 3\n",
        "Explanation:\n",
        "We can convert current to correct in 3 operations as follows:\n",
        "- Add 60 minutes to current. current becomes \"03:30\".\n",
        "- Add 60 minutes to current. current becomes \"04:30\".\n",
        "- Add 5 minutes to current. current becomes \"04:35\".\n",
        "It can be proven that it is not possible to convert current to correct in fewer than 3 operations.\n",
        "```\n",
        "\n"
      ],
      "metadata": {
        "id": "RyhBMTJrqJU_"
      }
    },
    {
      "cell_type": "markdown",
      "source": [
        "Example 2:\n",
        "\n",
        "```\n",
        "Input: current = \"11:00\", correct = \"11:01\"\n",
        "Output: 1\n",
        "Explanation: We only have to add one minute to current, so the minimum number of operations needed is 1.\n",
        "```\n",
        "\n"
      ],
      "metadata": {
        "id": "jUw0xJNVqMHV"
      }
    },
    {
      "cell_type": "markdown",
      "source": [
        "Constraints:\n",
        "\n",
        "```\n",
        "current and correct are in the format \"HH:MM\"\n",
        "current <= correct\n",
        "```\n",
        "\n"
      ],
      "metadata": {
        "id": "35nQD-tvqPmV"
      }
    },
    {
      "cell_type": "code",
      "execution_count": 1,
      "metadata": {
        "id": "J7bx01KMp2hW"
      },
      "outputs": [],
      "source": [
        "# Time = O(1)\n",
        "# Space = O(1)\n",
        "\n",
        "class Solution:\n",
        "    def convertTime(self, current: str, correct: str) -> int:\n",
        "        current = list(map(int, current.split(':')))\n",
        "        correct = list(map(int, correct.split(':')))\n",
        "        ops_count = 0\n",
        "        if current[1] > correct[1]:\n",
        "            correct[1] += 60\n",
        "            correct[0] -= 1\n",
        "        ops_count = correct[0] - current[0]\n",
        "        \n",
        "        min_diff = correct[1] - current[1]\n",
        "        ops_count += min_diff // 15\n",
        "        min_diff = min_diff % 15\n",
        "        ops_count += min_diff // 5\n",
        "        min_diff = min_diff % 5\n",
        "        ops_count +=  min_diff\n",
        "        \n",
        "        return ops_count"
      ]
    },
    {
      "cell_type": "code",
      "source": [
        "current = \"02:30\"\n",
        "correct = \"04:35\"\n",
        "expected = 3\n",
        "\n",
        "output = Solution().convertTime(current, correct)\n",
        "print(output)\n",
        "assert output == expected"
      ],
      "metadata": {
        "colab": {
          "base_uri": "https://localhost:8080/"
        },
        "id": "TajQ4IF3qUyQ",
        "outputId": "a15192e9-889a-4a40-ff94-818a384948d1"
      },
      "execution_count": 2,
      "outputs": [
        {
          "output_type": "stream",
          "name": "stdout",
          "text": [
            "3\n"
          ]
        }
      ]
    },
    {
      "cell_type": "code",
      "source": [
        "current = \"11:00\"\n",
        "correct = \"11:01\"\n",
        "expected = 1\n",
        "\n",
        "output = Solution().convertTime(current, correct)\n",
        "print(output)\n",
        "assert output == expected"
      ],
      "metadata": {
        "colab": {
          "base_uri": "https://localhost:8080/"
        },
        "id": "8MuGS3YmqjCd",
        "outputId": "36cd8768-61f9-477c-af15-0f5fdc5f9bf9"
      },
      "execution_count": 3,
      "outputs": [
        {
          "output_type": "stream",
          "name": "stdout",
          "text": [
            "1\n"
          ]
        }
      ]
    }
  ]
}