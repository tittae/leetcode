{
  "nbformat": 4,
  "nbformat_minor": 0,
  "metadata": {
    "colab": {
      "name": "Validate BST (Medium).ipynb",
      "provenance": [],
      "authorship_tag": "ABX9TyOQ17mZ9kf3IF7qwei6KCRC",
      "include_colab_link": true
    },
    "kernelspec": {
      "name": "python3",
      "display_name": "Python 3"
    },
    "language_info": {
      "name": "python"
    }
  },
  "cells": [
    {
      "cell_type": "markdown",
      "metadata": {
        "id": "view-in-github",
        "colab_type": "text"
      },
      "source": [
        "<a href=\"https://colab.research.google.com/github/wisarootl/leetcode/blob/main/Validate_BST_(Medium).ipynb\" target=\"_parent\"><img src=\"https://colab.research.google.com/assets/colab-badge.svg\" alt=\"Open In Colab\"/></a>"
      ]
    },
    {
      "cell_type": "markdown",
      "metadata": {
        "id": "9YDTTkYOF2Ak"
      },
      "source": [
        "# Validate BST"
      ]
    },
    {
      "cell_type": "markdown",
      "metadata": {
        "id": "DdFoDTJYF0tQ"
      },
      "source": [
        "Write a function that takes in a potentially invalid Binary Search Tree (BST) and returns a boolean representing whether the BST is valid.\n",
        "\n",
        "Each `BST` node has an integer `value`, a `left` child node, and a `right` child node. A node is said to be a valid `BST` node if and only if it satisfies the BST property: its `value` is strictly greater than the values of every node to its left; its `value` is less than or equal to the values of every node to its right; and its children nodes are either valid `BST` nodes themselves or `None` / `null`.\n",
        "\n",
        "A BST is valid if and only if all of its nodes are valid `BST` nodes."
      ]
    },
    {
      "cell_type": "markdown",
      "metadata": {
        "id": "UPreGsdKGFAd"
      },
      "source": [
        "Sample Input\n",
        "\n",
        "```\n",
        "tree =   10\n",
        "       /     \\\n",
        "      5      15\n",
        "    /   \\   /   \\\n",
        "   2     5 13   22\n",
        " /           \\\n",
        "1            14\n",
        "```\n",
        "\n"
      ]
    },
    {
      "cell_type": "markdown",
      "metadata": {
        "id": "RQ7BWKhsGIpe"
      },
      "source": [
        "Sample Output\n",
        "\n",
        "```\n",
        "true\n",
        "```\n",
        "\n"
      ]
    },
    {
      "cell_type": "code",
      "metadata": {
        "id": "wDUpHKtsFegA"
      },
      "source": [
        "# Time O(n)\n",
        "# Space O(d)\n",
        "\n",
        "# This is an input class. Do not edit.\n",
        "class BST:\n",
        "  def __init__(self, value):\n",
        "    self.value = value\n",
        "    self.left = None\n",
        "    self.right = None\n",
        "\n",
        "def validateBst(tree):\n",
        "  return dfs_validate_bst(tree)\n",
        "\n",
        "def dfs_validate_bst(tree, max_value=float('inf'), min_value=float('-inf')):\n",
        "  if tree == None:\n",
        "    return True\n",
        "  elif tree.value >= max_value or tree.value < min_value:\n",
        "    return False\n",
        "  valid_left = dfs_validate_bst(tree.left, max_value=tree.value, min_value=min_value)\n",
        "  valid_right = dfs_validate_bst(tree.right, max_value=max_value, min_value=tree.value)\n",
        "  return valid_left and valid_right"
      ],
      "execution_count": null,
      "outputs": []
    },
    {
      "cell_type": "code",
      "metadata": {
        "id": "KXjb-D_PGLnl"
      },
      "source": [
        "def input():\n",
        "  tree = BST(10)\n",
        "  tree.left = BST(5)\n",
        "  tree.right = BST(15)\n",
        "  tree.left.left = BST(2)\n",
        "  tree.left.right = BST(5)\n",
        "  tree.left.left.left = BST(1)\n",
        "  tree.right.left = BST(13)\n",
        "  tree.right.right = BST(22)\n",
        "  tree.right.left.right = BST(14)\n",
        "\n",
        "  return tree"
      ],
      "execution_count": null,
      "outputs": []
    },
    {
      "cell_type": "code",
      "metadata": {
        "colab": {
          "base_uri": "https://localhost:8080/"
        },
        "id": "TX73Ur9FGlto",
        "outputId": "1aa6cb15-807a-4236-9df7-0e2d7a0352ce"
      },
      "source": [
        "tree = input()\n",
        "print(validateBst(tree))"
      ],
      "execution_count": null,
      "outputs": [
        {
          "output_type": "stream",
          "name": "stdout",
          "text": [
            "True\n"
          ]
        }
      ]
    }
  ]
}