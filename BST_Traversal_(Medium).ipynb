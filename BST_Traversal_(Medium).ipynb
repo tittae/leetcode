{
  "nbformat": 4,
  "nbformat_minor": 0,
  "metadata": {
    "colab": {
      "name": "BST Traversal (Medium).ipynb",
      "provenance": [],
      "collapsed_sections": [],
      "authorship_tag": "ABX9TyMe99MPPl3yTcRAauR8jmQU",
      "include_colab_link": true
    },
    "kernelspec": {
      "name": "python3",
      "display_name": "Python 3"
    },
    "language_info": {
      "name": "python"
    }
  },
  "cells": [
    {
      "cell_type": "markdown",
      "metadata": {
        "id": "view-in-github",
        "colab_type": "text"
      },
      "source": [
        "<a href=\"https://colab.research.google.com/github/tittae/leetcode/blob/main/BST_Traversal_(Medium).ipynb\" target=\"_parent\"><img src=\"https://colab.research.google.com/assets/colab-badge.svg\" alt=\"Open In Colab\"/></a>"
      ]
    },
    {
      "cell_type": "markdown",
      "metadata": {
        "id": "IAcx6AKNb-IS"
      },
      "source": [
        "# BST Traversal"
      ]
    },
    {
      "cell_type": "markdown",
      "metadata": {
        "id": "mXrGyVjbcBe3"
      },
      "source": [
        "Write three functions that take in a Binary Search Tree (BST) and an empty array, traverse the BST, add its nodes' values to the input array, and return that array. The three functions should traverse the BST using the in-order, pre-order, and post-order tree-traversal techniques, respectively.\n",
        "\n",
        "If you're unfamiliar with tree-traversal techniques, we recommend watching the Conceptual Overview section of this question's video explanation before starting to code.\n",
        "\n",
        "Each `BST` node has an integer `value`, a `left` child node, and a `right` child node. A node is said to be a valid BST node if and only if it satisfies the BST property: its `value` is strictly greater than the values of every node to its left; its `value` is less than or equal to the values of every node to its right; and its children nodes are either valid `BST` nodes themselves or `None` / `null`"
      ]
    },
    {
      "cell_type": "markdown",
      "metadata": {
        "id": "FyGgaiYecG0t"
      },
      "source": [
        "Sample Input\n",
        "\n",
        "```\n",
        "tree =   10\n",
        "       /     \\\n",
        "      5      15\n",
        "    /   \\       \\\n",
        "   2     5       22\n",
        " /\n",
        "1\n",
        "array = []\n",
        "```\n",
        "\n"
      ]
    },
    {
      "cell_type": "markdown",
      "metadata": {
        "id": "PTD5GIKDcKIU"
      },
      "source": [
        "Sample Output\n",
        "\n",
        "```\n",
        "inOrderTraverse: [1, 2, 5, 5, 10, 15, 22] // where the array is the input array\n",
        "preOrderTraverse: [10, 5, 2, 1, 5, 15, 22] // where the array is the input array\n",
        "postOrderTraverse: [1, 2, 5, 5, 22, 15, 10] // where the array is the input array\n",
        "```\n",
        "\n"
      ]
    },
    {
      "cell_type": "code",
      "metadata": {
        "id": "pt96zwVeb9SM"
      },
      "source": [
        "def inOrderTraverse(tree, array):\n",
        "\tif tree != None:\n",
        "\t\tinOrderTraverse(tree.left, array)\n",
        "\t\tarray.append(tree.value)\n",
        "\t\tinOrderTraverse(tree.right, array)\n",
        "\treturn array\n",
        "\n",
        "\n",
        "def preOrderTraverse(tree, array):\n",
        "\tif tree != None:\n",
        "\t\tarray.append(tree.value)\n",
        "\t\tpreOrderTraverse(tree.left, array)\n",
        "\t\tpreOrderTraverse(tree.right, array)\n",
        "\treturn array\n",
        "\n",
        "\n",
        "\n",
        "def postOrderTraverse(tree, array):\n",
        "\tif tree != None:\n",
        "\t\tpostOrderTraverse(tree.left, array)\n",
        "\t\tpostOrderTraverse(tree.right, array)\n",
        "\t\tarray.append(tree.value)\n",
        "\treturn array\n"
      ],
      "execution_count": 1,
      "outputs": []
    },
    {
      "cell_type": "code",
      "metadata": {
        "id": "lEMQcgqUq2Io"
      },
      "source": [
        "class bst():\n",
        "\tdef __init__(self, value):\n",
        "\t\tself.value = value\n",
        "\t\tself.left = None\n",
        "\t\tself.right = None"
      ],
      "execution_count": 2,
      "outputs": []
    },
    {
      "cell_type": "code",
      "metadata": {
        "id": "LxFRRwnuq3gI"
      },
      "source": [
        "tree = bst(10)\n",
        "tree.left = bst(5)\n",
        "tree.right = bst(15)\n",
        "tree.right.right = bst(22)\n",
        "tree.left.left = bst(2)\n",
        "tree.left.right = bst(5)\n",
        "tree.left.left.left = bst(1)"
      ],
      "execution_count": 3,
      "outputs": []
    },
    {
      "cell_type": "code",
      "metadata": {
        "colab": {
          "base_uri": "https://localhost:8080/"
        },
        "id": "v-DEBIiBrVzW",
        "outputId": "4f35bcec-1553-4ab6-c12e-c308b0ef0571"
      },
      "source": [
        "array = []\n",
        "print(inOrderTraverse(tree, array))"
      ],
      "execution_count": 4,
      "outputs": [
        {
          "output_type": "stream",
          "name": "stdout",
          "text": [
            "[1, 2, 5, 5, 10, 15, 22]\n"
          ]
        }
      ]
    },
    {
      "cell_type": "code",
      "metadata": {
        "colab": {
          "base_uri": "https://localhost:8080/"
        },
        "id": "tqtqueLhrauk",
        "outputId": "2929ebe6-e6a7-48b1-855e-d54d734b5b8e"
      },
      "source": [
        "array = []\n",
        "print(preOrderTraverse(tree, array))"
      ],
      "execution_count": 5,
      "outputs": [
        {
          "output_type": "stream",
          "name": "stdout",
          "text": [
            "[10, 5, 2, 1, 5, 15, 22]\n"
          ]
        }
      ]
    },
    {
      "cell_type": "code",
      "metadata": {
        "colab": {
          "base_uri": "https://localhost:8080/"
        },
        "id": "jT0eiw3wrk2u",
        "outputId": "23728e3f-be6b-41aa-ab3c-093d4eeeedbd"
      },
      "source": [
        "array = []\n",
        "print(postOrderTraverse(tree, array))"
      ],
      "execution_count": 6,
      "outputs": [
        {
          "output_type": "stream",
          "name": "stdout",
          "text": [
            "[1, 2, 5, 5, 22, 15, 10]\n"
          ]
        }
      ]
    }
  ]
}