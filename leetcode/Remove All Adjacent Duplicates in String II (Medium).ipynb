{
 "cells": [
  {
   "cell_type": "markdown",
   "metadata": {},
   "source": [
    "# Remove All Adjacent Duplicates in String II"
   ]
  },
  {
   "cell_type": "markdown",
   "metadata": {},
   "source": [
    "You are given a string s and an integer k, a k duplicate removal consists of choosing k adjacent and equal letters from s and removing them, causing the left and the right side of the deleted substring to concatenate together.\n",
    "\n",
    "We repeatedly make k duplicate removals on s until we no longer can.\n",
    "\n",
    "Return the final string after all such duplicate removals have been made. It is guaranteed that the answer is unique."
   ]
  },
  {
   "cell_type": "markdown",
   "metadata": {},
   "source": [
    "Example 1:\n",
    "\n",
    "```\n",
    "Input: s = \"abcd\", k = 2\n",
    "Output: \"abcd\"\n",
    "Explanation: There's nothing to delete.\n",
    "```"
   ]
  },
  {
   "cell_type": "markdown",
   "metadata": {},
   "source": [
    "Example 2:\n",
    "\n",
    "```\n",
    "Input: s = \"deeedbbcccbdaa\", k = 3\n",
    "Output: \"aa\"\n",
    "Explanation: \n",
    "First delete \"eee\" and \"ccc\", get \"ddbbbdaa\"\n",
    "Then delete \"bbb\", get \"dddaa\"\n",
    "Finally delete \"ddd\", get \"aa\"\n",
    "```"
   ]
  },
  {
   "cell_type": "markdown",
   "metadata": {},
   "source": [
    "Example 3:\n",
    "\n",
    "```\n",
    "Input: s = \"pbbcggttciiippooaais\", k = 2\n",
    "Output: \"ps\"\n",
    "```"
   ]
  },
  {
   "cell_type": "markdown",
   "metadata": {},
   "source": [
    "Constraints:\n",
    "\n",
    "```\n",
    "1 <= s.length <= 105\n",
    "2 <= k <= 104\n",
    "s only contains lower case English letters.\n",
    "```"
   ]
  },
  {
   "cell_type": "code",
   "execution_count": 1,
   "metadata": {},
   "outputs": [],
   "source": [
    "class Solution:\n",
    "    # Time = O(n)\n",
    "    # Space = O(n)\n",
    "    def removeDuplicates(self, s: str, k: int) -> str:\n",
    "        stack = []\n",
    "        for ch in s:\n",
    "            if stack and stack[-1][0] == ch:  # current character belongs to the previous substring\n",
    "                stack[-1][1] += 1\n",
    "                if stack[-1][1] == k:  # k-length substring reached, remove substring\n",
    "                    _ = stack.pop()\n",
    "            else:  # current character is its own substring\n",
    "                stack.append([ch, 1])\n",
    "        return ''.join(ch*n for ch, n in stack)  # concatenate remaining substrings"
   ]
  },
  {
   "cell_type": "code",
   "execution_count": 2,
   "metadata": {},
   "outputs": [
    {
     "name": "stdout",
     "output_type": "stream",
     "text": [
      "abcd\n"
     ]
    }
   ],
   "source": [
    "s = \"abcd\"\n",
    "k = 2\n",
    "expected = \"abcd\"\n",
    "\n",
    "output = Solution().removeDuplicates(s, k)\n",
    "print(output)\n",
    "assert output == expected"
   ]
  },
  {
   "cell_type": "code",
   "execution_count": 3,
   "metadata": {},
   "outputs": [
    {
     "name": "stdout",
     "output_type": "stream",
     "text": [
      "aa\n"
     ]
    }
   ],
   "source": [
    "s = \"deeedbbcccbdaa\"\n",
    "k = 3\n",
    "expected = \"aa\"\n",
    "\n",
    "output = Solution().removeDuplicates(s, k)\n",
    "print(output)\n",
    "assert output == expected"
   ]
  },
  {
   "cell_type": "code",
   "execution_count": 4,
   "metadata": {},
   "outputs": [
    {
     "name": "stdout",
     "output_type": "stream",
     "text": [
      "ps\n"
     ]
    }
   ],
   "source": [
    "s = \"pbbcggttciiippooaais\"\n",
    "k = 2\n",
    "expected = \"ps\"\n",
    "\n",
    "output = Solution().removeDuplicates(s, k)\n",
    "print(output)\n",
    "assert output == expected"
   ]
  }
 ],
 "metadata": {
  "interpreter": {
   "hash": "20ac7aad763b689ebdaff2f53a3073c7ed55a0f51860968fbf5603f714378c4e"
  },
  "kernelspec": {
   "display_name": "Python 3.10.0 64-bit",
   "language": "python",
   "name": "python3"
  },
  "language_info": {
   "codemirror_mode": {
    "name": "ipython",
    "version": 3
   },
   "file_extension": ".py",
   "mimetype": "text/x-python",
   "name": "python",
   "nbconvert_exporter": "python",
   "pygments_lexer": "ipython3",
   "version": "3.10.4"
  },
  "orig_nbformat": 4
 },
 "nbformat": 4,
 "nbformat_minor": 2
}
