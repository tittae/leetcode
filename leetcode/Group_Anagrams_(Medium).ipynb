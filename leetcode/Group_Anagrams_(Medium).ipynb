{
  "cells": [
    {
      "cell_type": "markdown",
      "metadata": {
        "colab_type": "text",
        "id": "view-in-github"
      },
      "source": [
        "<a href=\"https://colab.research.google.com/github/wisarootl/leetcode/blob/main/Group_Anagrams_(Medium).ipynb\" target=\"_parent\"><img src=\"https://colab.research.google.com/assets/colab-badge.svg\" alt=\"Open In Colab\"/></a>"
      ]
    },
    {
      "cell_type": "markdown",
      "metadata": {
        "id": "QPe2678J7dha"
      },
      "source": [
        "# Group Anagrams"
      ]
    },
    {
      "cell_type": "markdown",
      "metadata": {
        "id": "zGCs6nSx7epo"
      },
      "source": [
        "Write a function that takes in an array of strings and groups anagrams together.\n",
        "\n",
        "Anagrams are strings made up of exactly the same letters, where order doesn't matter. For example, `\"cinema\"` and `\"iceman\"` are anagrams; similarly, `\"foo\"` and `\"ofo\"` are anagrams.\n",
        "\n",
        "Your function should return a list of anagram groups in no particular order."
      ]
    },
    {
      "cell_type": "markdown",
      "metadata": {
        "id": "x1ic8rmL7kM_"
      },
      "source": [
        "Sample Input\n",
        "\n",
        "```\n",
        "words = [\"yo\", \"act\", \"flop\", \"tac\", \"foo\", \"cat\", \"oy\", \"olfp\"]\n",
        "```\n",
        "\n"
      ]
    },
    {
      "cell_type": "markdown",
      "metadata": {
        "id": "dyveLZc57nET"
      },
      "source": [
        "Sample Output\n",
        "\n",
        "```\n",
        "[[\"yo\", \"oy\"], [\"flop\", \"olfp\"], [\"act\", \"tac\", \"cat\"], [\"foo\"]]\n",
        "```\n",
        "\n"
      ]
    },
    {
      "cell_type": "markdown",
      "metadata": {
        "id": "tNItrYsM75et"
      },
      "source": [
        "# Solution"
      ]
    },
    {
      "cell_type": "code",
      "execution_count": 1,
      "metadata": {
        "id": "oars4MNv6hhv"
      },
      "outputs": [],
      "source": [
        "# Time : O(wnlog(n))\n",
        "# space : O(wn)\n",
        "\n",
        "# n = len(word)\n",
        "# w = # of word\n",
        "\n",
        "def groupAnagrams(words):\n",
        "  anagrams = {}\n",
        "  for word in words:\n",
        "    sorted_word = ''.join(sorted(word))\n",
        "    if sorted_word not in anagrams:\n",
        "      anagrams[sorted_word] = []\n",
        "    anagrams[sorted_word].append(word)\n",
        "  return list(anagrams.values())"
      ]
    },
    {
      "cell_type": "code",
      "execution_count": 2,
      "metadata": {
        "colab": {
          "base_uri": "https://localhost:8080/"
        },
        "id": "rvodzob_6kP8",
        "outputId": "872ae2f8-0a97-43d9-a6fe-53e2ab92cb1d"
      },
      "outputs": [
        {
          "data": {
            "text/plain": [
              "[['yo', 'oy'], ['act', 'tac', 'cat'], ['flop', 'olfp'], ['foo']]"
            ]
          },
          "execution_count": 2,
          "metadata": {},
          "output_type": "execute_result"
        }
      ],
      "source": [
        "words = [\"yo\", \"act\", \"flop\", \"tac\", \"foo\", \"cat\", \"oy\", \"olfp\"]\n",
        "groupAnagrams(words)"
      ]
    }
  ],
  "metadata": {
    "colab": {
      "authorship_tag": "ABX9TyNgAP+MbVetGrWeRVKzRUU0",
      "include_colab_link": true,
      "name": "Group Anagrams (Medium).ipynb",
      "provenance": []
    },
    "kernelspec": {
      "display_name": "Python 3",
      "language": "python",
      "name": "python3"
    },
    "language_info": {
      "codemirror_mode": {
        "name": "ipython",
        "version": 3
      },
      "file_extension": ".py",
      "mimetype": "text/x-python",
      "name": "python",
      "nbconvert_exporter": "python",
      "pygments_lexer": "ipython3",
      "version": "3.10.5"
    },
    "vscode": {
      "interpreter": {
        "hash": "992441bd4bc11ab83c63537935ea198062f55180155eaba570b8d7c82e005e8c"
      }
    }
  },
  "nbformat": 4,
  "nbformat_minor": 0
}
