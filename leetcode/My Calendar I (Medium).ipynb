{
 "cells": [
  {
   "cell_type": "markdown",
   "metadata": {},
   "source": [
    "# My Calendar I"
   ]
  },
  {
   "cell_type": "markdown",
   "metadata": {},
   "source": [
    "You are implementing a program to use as your calendar. We can add a new event if adding the event will not cause a double booking.\n",
    "\n",
    "A double booking happens when two events have some non-empty intersection (i.e., some moment is common to both events.).\n",
    "\n",
    "The event can be represented as a pair of integers start and end that represents a booking on the half-open interval `[start, end)`, the range of real numbers `x` such that `start <= x < end`.\n",
    "\n",
    "Implement the `MyCalendar` class:\n",
    "\n",
    "- `MyCalendar()` Initializes the calendar object.\n",
    "- `boolean book(int start, int end)` Returns `true` if the event can be added to the calendar successfully without causing a double booking. Otherwise, return `false` and do not add the event to the calendar."
   ]
  },
  {
   "cell_type": "markdown",
   "metadata": {},
   "source": [
    "Example 1:\n",
    "\n",
    "```\n",
    "Input\n",
    "[\"MyCalendar\", \"book\", \"book\", \"book\"]\n",
    "[[], [10, 20], [15, 25], [20, 30]]\n",
    "Output\n",
    "[null, true, false, true]\n",
    "\n",
    "Explanation\n",
    "MyCalendar myCalendar = new MyCalendar();\n",
    "myCalendar.book(10, 20); // return True\n",
    "myCalendar.book(15, 25); // return False, It can not be booked because time 15 is already booked by another event.\n",
    "myCalendar.book(20, 30); // return True, The event can be booked, as the first event takes every time less than 20, but not including 20.\n",
    "```"
   ]
  },
  {
   "cell_type": "markdown",
   "metadata": {},
   "source": [
    "Constraints:\n",
    "\n",
    "```\n",
    "0 <= start < end <= 109\n",
    "At most 1000 calls will be made to book.\n",
    "```"
   ]
  },
  {
   "cell_type": "code",
   "execution_count": 1,
   "metadata": {},
   "outputs": [],
   "source": [
    "class Node:\n",
    "    # __slots__ = 'start', 'end', 'left', 'right'\n",
    "    def __init__(self, start, end):\n",
    "        self.start = start\n",
    "        self.end = end\n",
    "        self.left = self.right = None\n",
    "\n",
    "    def insert(self, node):\n",
    "        if node.start >= self.end:\n",
    "            if not self.right:\n",
    "                self.right = node\n",
    "                return True\n",
    "            return self.right.insert(node)\n",
    "        elif node.end <= self.start:\n",
    "            if not self.left:\n",
    "                self.left = node\n",
    "                return True\n",
    "            return self.left.insert(node)\n",
    "        else:\n",
    "            return False\n",
    "\n",
    "class MyCalendar(object):\n",
    "\n",
    "    # time = O(n log n) \n",
    "    # call book n times\n",
    "    # space = O(n)\n",
    "    def __init__(self):\n",
    "        self.root = None\n",
    "\n",
    "    # time = O(log n)\n",
    "    # space = O(1)\n",
    "    def book(self, start, end):\n",
    "        if self.root is None:\n",
    "            self.root = Node(start, end)\n",
    "            return True\n",
    "        return self.root.insert(Node(start, end))\n",
    "        \n",
    "\n",
    "\n",
    "# Your MyCalendar object will be instantiated and called as such:\n",
    "# obj = MyCalendar()\n",
    "# param_1 = obj.book(start,end)"
   ]
  },
  {
   "cell_type": "code",
   "execution_count": 2,
   "metadata": {},
   "outputs": [],
   "source": [
    "obj = MyCalendar()\n",
    "assert obj.book(10, 20) == True\n",
    "assert obj.book(15, 25) == False\n",
    "assert obj.book(20, 30) == True"
   ]
  }
 ],
 "metadata": {
  "kernelspec": {
   "display_name": "Python 3.10.5 64-bit ('3.10.5')",
   "language": "python",
   "name": "python3"
  },
  "language_info": {
   "codemirror_mode": {
    "name": "ipython",
    "version": 3
   },
   "file_extension": ".py",
   "mimetype": "text/x-python",
   "name": "python",
   "nbconvert_exporter": "python",
   "pygments_lexer": "ipython3",
   "version": "3.10.5"
  },
  "orig_nbformat": 4,
  "vscode": {
   "interpreter": {
    "hash": "992441bd4bc11ab83c63537935ea198062f55180155eaba570b8d7c82e005e8c"
   }
  }
 },
 "nbformat": 4,
 "nbformat_minor": 2
}
