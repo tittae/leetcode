{
  "nbformat": 4,
  "nbformat_minor": 0,
  "metadata": {
    "colab": {
      "name": "Binary Search.ipynb",
      "provenance": [],
      "authorship_tag": "ABX9TyOsdO/sj9Z8GB360WO6q5ko",
      "include_colab_link": true
    },
    "kernelspec": {
      "name": "python3",
      "display_name": "Python 3"
    },
    "language_info": {
      "name": "python"
    }
  },
  "cells": [
    {
      "cell_type": "markdown",
      "metadata": {
        "id": "view-in-github",
        "colab_type": "text"
      },
      "source": [
        "<a href=\"https://colab.research.google.com/github/tittae/leetcode/blob/main/Binary_Search.ipynb\" target=\"_parent\"><img src=\"https://colab.research.google.com/assets/colab-badge.svg\" alt=\"Open In Colab\"/></a>"
      ]
    },
    {
      "cell_type": "markdown",
      "metadata": {
        "id": "LlTeV-MGb86_"
      },
      "source": [
        "# Binary Search"
      ]
    },
    {
      "cell_type": "markdown",
      "metadata": {
        "id": "p_qhXbdyb-EZ"
      },
      "source": [
        "Write a function that takes in a sorted array of integers as well as a target integer. The function should use the Binary Search algorithm to determine if the target integer is contained in the array and should return its index if it is, otherwise -1.\n",
        "\n",
        "If you're unfamiliar with Binary Search, we recommend watching the Conceptual Overview section of this question's video explanation before starting to code."
      ]
    },
    {
      "cell_type": "markdown",
      "metadata": {
        "id": "JNTV7oE5cAdb"
      },
      "source": [
        "Sample Input\n",
        "\n",
        "```\n",
        "array = [0, 1, 21, 33, 45, 45, 61, 71, 72, 73]\n",
        "target = 33\n",
        "```\n",
        "\n"
      ]
    },
    {
      "cell_type": "markdown",
      "metadata": {
        "id": "HzFKUIXWcDPR"
      },
      "source": [
        "Sample Output\n",
        "\n",
        "```\n",
        "3\n",
        "```\n",
        "\n"
      ]
    },
    {
      "cell_type": "markdown",
      "metadata": {
        "id": "aOTMndfFgMaJ"
      },
      "source": [
        "## Solution (while loop)"
      ]
    },
    {
      "cell_type": "code",
      "metadata": {
        "id": "wjFsxNB2b5qg"
      },
      "source": [
        "def binarySearch(array, target):\n",
        "\tleft = 0\n",
        "\tright = len(array)\n",
        "\twhile left <= right:\n",
        "\t\tmiddle = int((left + right) / 2)\n",
        "\t\tif array[middle] > target:\n",
        "\t\t\tright = middle - 1\n",
        "\t\telif array[middle] < target:\n",
        "\t\t\tleft = middle + 1\n",
        "\t\telse: # array[middle] == target\n",
        "\t\t\treturn middle\n",
        "\treturn -1"
      ],
      "execution_count": 1,
      "outputs": []
    },
    {
      "cell_type": "code",
      "metadata": {
        "id": "qW2nv_pydQD0"
      },
      "source": [
        "array = [0, 1, 21, 33, 45, 45, 61, 71, 72, 73]\n",
        "target = 33"
      ],
      "execution_count": 2,
      "outputs": []
    },
    {
      "cell_type": "code",
      "metadata": {
        "colab": {
          "base_uri": "https://localhost:8080/"
        },
        "id": "xNkDuA_ndRT6",
        "outputId": "4441602f-a267-4d0c-ac48-dd2752e40745"
      },
      "source": [
        "print(binarySearch(array, target))"
      ],
      "execution_count": 3,
      "outputs": [
        {
          "output_type": "stream",
          "name": "stdout",
          "text": [
            "3\n"
          ]
        }
      ]
    },
    {
      "cell_type": "markdown",
      "metadata": {
        "id": "EiJFZbkcgJI2"
      },
      "source": [
        "## Solution (recursive fuction)"
      ]
    },
    {
      "cell_type": "code",
      "metadata": {
        "id": "h5SEWbe_gQG3"
      },
      "source": [
        "def binarySearch(array, target):\n",
        "\tleft = 0\n",
        "\tright = len(array) - 1\n",
        "\treturn binarySearch_recursive(array, target, left, right)\n",
        "\n",
        "def binarySearch_recursive(array, target, left, right):\n",
        "\n",
        "\tif left > right:\n",
        "\t\treturn -1\n",
        "\tmiddle = (left + right) // 2\n",
        "\n",
        "\tif array[middle] > target:\n",
        "\t\tright = middle - 1\n",
        "\t\treturn binarySearch_recursive(array, target, left, right)\n",
        "\n",
        "\telif array[middle] < target:\n",
        "\t\tleft = middle + 1\n",
        "\t\treturn binarySearch_recursive(array, target, left, right)\n",
        "\t\t\n",
        "\telse: # array[middle] == target\n",
        "\t\treturn middle"
      ],
      "execution_count": 4,
      "outputs": []
    },
    {
      "cell_type": "code",
      "metadata": {
        "id": "3WWRSwMsgVPX"
      },
      "source": [
        "array = [0, 1, 21, 33, 45, 45, 61, 71, 72, 73]\n",
        "target = 33"
      ],
      "execution_count": 5,
      "outputs": []
    },
    {
      "cell_type": "code",
      "metadata": {
        "colab": {
          "base_uri": "https://localhost:8080/"
        },
        "id": "wGjSUTvLgWmO",
        "outputId": "be1d20aa-77f9-4290-c236-27af09a00a72"
      },
      "source": [
        "print(binarySearch(array, target))"
      ],
      "execution_count": 6,
      "outputs": [
        {
          "output_type": "stream",
          "name": "stdout",
          "text": [
            "3\n"
          ]
        }
      ]
    }
  ]
}