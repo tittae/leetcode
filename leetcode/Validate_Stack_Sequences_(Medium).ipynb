{
  "nbformat": 4,
  "nbformat_minor": 0,
  "metadata": {
    "colab": {
      "name": "Validate Stack Sequences (Medium).ipynb",
      "provenance": [],
      "authorship_tag": "ABX9TyMWmZAkIBJ9hO8yW0EJVEjm",
      "include_colab_link": true
    },
    "kernelspec": {
      "name": "python3",
      "display_name": "Python 3"
    },
    "language_info": {
      "name": "python"
    }
  },
  "cells": [
    {
      "cell_type": "markdown",
      "metadata": {
        "id": "view-in-github",
        "colab_type": "text"
      },
      "source": [
        "<a href=\"https://colab.research.google.com/github/wisarootl/leetcode/blob/main/Validate_Stack_Sequences_(Medium).ipynb\" target=\"_parent\"><img src=\"https://colab.research.google.com/assets/colab-badge.svg\" alt=\"Open In Colab\"/></a>"
      ]
    },
    {
      "cell_type": "markdown",
      "source": [
        "# Validate Stack Sequences"
      ],
      "metadata": {
        "id": "cCLgYN1XW81x"
      }
    },
    {
      "cell_type": "markdown",
      "source": [
        "Given two integer arrays pushed and popped each with distinct values, return true if this could have been the result of a sequence of push and pop operations on an initially empty stack, or false otherwise."
      ],
      "metadata": {
        "id": "w1V7R8UBXB22"
      }
    },
    {
      "cell_type": "markdown",
      "source": [
        "Example 1:\n",
        "\n",
        "```\n",
        "Input: pushed = [1,2,3,4,5], popped = [4,5,3,2,1]\n",
        "Output: true\n",
        "Explanation: We might do the following sequence:\n",
        "push(1), push(2), push(3), push(4),\n",
        "pop() -> 4,\n",
        "push(5),\n",
        "pop() -> 5, pop() -> 3, pop() -> 2, pop() -> 1\n",
        "```\n",
        "\n"
      ],
      "metadata": {
        "id": "ZWr1uhMaXD6w"
      }
    },
    {
      "cell_type": "markdown",
      "source": [
        "Example 2:\n",
        "\n",
        "```\n",
        "Input: pushed = [1,2,3,4,5], popped = [4,3,5,1,2]\n",
        "Output: false\n",
        "Explanation: 1 cannot be popped before 2.\n",
        "```\n",
        "\n"
      ],
      "metadata": {
        "id": "iXCrKivDXHzg"
      }
    },
    {
      "cell_type": "markdown",
      "source": [
        "Constraints:\n",
        "\n",
        "```\n",
        "1 <= pushed.length <= 1000\n",
        "0 <= pushed[i] <= 1000\n",
        "All the elements of pushed are unique.\n",
        "popped.length == pushed.length\n",
        "popped is a permutation of pushed.\n",
        "```\n",
        "\n"
      ],
      "metadata": {
        "id": "iYF7l_-uXLSt"
      }
    },
    {
      "cell_type": "markdown",
      "source": [
        "# Solution"
      ],
      "metadata": {
        "id": "7YawtvyHZB4S"
      }
    },
    {
      "cell_type": "markdown",
      "source": [
        "- popped pointer and push pointer and stack"
      ],
      "metadata": {
        "id": "AK0h0qZzZDSp"
      }
    },
    {
      "cell_type": "code",
      "execution_count": null,
      "metadata": {
        "id": "GY6Bx6CRWzMv"
      },
      "outputs": [],
      "source": [
        "# Time = O(n)\n",
        "# Space = O(n)\n",
        "\n",
        "class Solution:\n",
        "    def validateStackSequences(self, pushed, popped):\n",
        "        stack = []\n",
        "        i, j = 0, 0\n",
        "        while i < len(pushed) or j < len(popped):\n",
        "            if (len(stack) == 0 or stack[-1] != popped[j]) and i < len(pushed):\n",
        "                stack.append(pushed[i])\n",
        "                i += 1\n",
        "            elif stack[-1] == popped[j]:\n",
        "                stack.pop()\n",
        "                j += 1\n",
        "            else:\n",
        "                return False\n",
        "        \n",
        "        return True"
      ]
    },
    {
      "cell_type": "code",
      "source": [
        "pushed = [1,2,3,4,5]\n",
        "popped = [4,5,3,2,1]\n",
        "expected = True\n",
        "\n",
        "output = Solution().validateStackSequences(pushed, popped)\n",
        "print(output)\n",
        "assert output == expected"
      ],
      "metadata": {
        "colab": {
          "base_uri": "https://localhost:8080/"
        },
        "id": "RY9T6Q8EX2Kg",
        "outputId": "cf8f4871-32c0-4d09-c8a0-b4e157677c17"
      },
      "execution_count": null,
      "outputs": [
        {
          "output_type": "stream",
          "name": "stdout",
          "text": [
            "True\n"
          ]
        }
      ]
    },
    {
      "cell_type": "code",
      "source": [
        "pushed = [1,2,3,4,5]\n",
        "popped = [4,3,5,1,2]\n",
        "expected = False\n",
        "\n",
        "output = Solution().validateStackSequences(pushed, popped)\n",
        "print(output)\n",
        "assert output == expected"
      ],
      "metadata": {
        "colab": {
          "base_uri": "https://localhost:8080/"
        },
        "id": "bX4zMVCOYQ5T",
        "outputId": "97910202-0792-439f-ac9e-1521ab3ec7a2"
      },
      "execution_count": null,
      "outputs": [
        {
          "output_type": "stream",
          "name": "stdout",
          "text": [
            "False\n"
          ]
        }
      ]
    },
    {
      "cell_type": "code",
      "source": [
        "pushed = [1, 0]\n",
        "popped = [1, 0]\n",
        "expected = True\n",
        "\n",
        "output = Solution().validateStackSequences(pushed, popped)\n",
        "print(output)\n",
        "assert output == expected"
      ],
      "metadata": {
        "colab": {
          "base_uri": "https://localhost:8080/"
        },
        "id": "onME97TCYXLX",
        "outputId": "0cac2175-3606-4fac-aeed-cd852519f2f2"
      },
      "execution_count": null,
      "outputs": [
        {
          "output_type": "stream",
          "name": "stdout",
          "text": [
            "True\n"
          ]
        }
      ]
    },
    {
      "cell_type": "markdown",
      "source": [
        "# Solution 2: Refactor"
      ],
      "metadata": {
        "id": "_9JVH85IY-29"
      }
    },
    {
      "cell_type": "code",
      "source": [
        "# Time = O(n)\n",
        "# Space = O(n)\n",
        "\n",
        "class Solution:\n",
        "    def validateStackSequences(self, pushed, popped):\n",
        "        stack = []\n",
        "        j = 0\n",
        "        for i in range(len(pushed)):\n",
        "            stack.append(pushed[i])\n",
        "            while len(stack) > 0 and j < len(popped) and stack[-1] == popped[j]:\n",
        "                stack.pop()\n",
        "                j += 1\n",
        "        \n",
        "        return True if len(stack) == 0 else False"
      ],
      "metadata": {
        "id": "0-HMu0-HYa8h"
      },
      "execution_count": null,
      "outputs": []
    },
    {
      "cell_type": "code",
      "source": [
        "pushed = [1,2,3,4,5]\n",
        "popped = [4,5,3,2,1]\n",
        "expected = True\n",
        "\n",
        "output = Solution().validateStackSequences(pushed, popped)\n",
        "print(output)\n",
        "assert output == expected"
      ],
      "metadata": {
        "colab": {
          "base_uri": "https://localhost:8080/"
        },
        "id": "PWvpmMIbYeUx",
        "outputId": "260af014-b914-4a7b-e321-a3c4bed9027f"
      },
      "execution_count": null,
      "outputs": [
        {
          "output_type": "stream",
          "name": "stdout",
          "text": [
            "True\n"
          ]
        }
      ]
    },
    {
      "cell_type": "code",
      "source": [
        "pushed = [1,2,3,4,5]\n",
        "popped = [4,3,5,1,2]\n",
        "expected = False\n",
        "\n",
        "output = Solution().validateStackSequences(pushed, popped)\n",
        "print(output)\n",
        "assert output == expected"
      ],
      "metadata": {
        "colab": {
          "base_uri": "https://localhost:8080/"
        },
        "id": "-iLYBKlPYf7q",
        "outputId": "c2aa90c6-f20f-422c-93fb-686c538ccef5"
      },
      "execution_count": null,
      "outputs": [
        {
          "output_type": "stream",
          "name": "stdout",
          "text": [
            "False\n"
          ]
        }
      ]
    },
    {
      "cell_type": "code",
      "source": [
        "pushed = [1, 0]\n",
        "popped = [1, 0]\n",
        "expected = True\n",
        "\n",
        "output = Solution().validateStackSequences(pushed, popped)\n",
        "print(output)\n",
        "assert output == expected"
      ],
      "metadata": {
        "colab": {
          "base_uri": "https://localhost:8080/"
        },
        "id": "TinR6MVTYhr5",
        "outputId": "2c7a2368-0330-4164-e0c0-d568ebac07a1"
      },
      "execution_count": null,
      "outputs": [
        {
          "output_type": "stream",
          "name": "stdout",
          "text": [
            "True\n"
          ]
        }
      ]
    }
  ]
}