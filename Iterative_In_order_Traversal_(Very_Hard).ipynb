{
  "nbformat": 4,
  "nbformat_minor": 0,
  "metadata": {
    "colab": {
      "name": "Iterative In-order Traversal (Very Hard).ipynb",
      "provenance": [],
      "authorship_tag": "ABX9TyPuU5+V8CdWAqxZ0zfeqM8k",
      "include_colab_link": true
    },
    "kernelspec": {
      "name": "python3",
      "display_name": "Python 3"
    },
    "language_info": {
      "name": "python"
    }
  },
  "cells": [
    {
      "cell_type": "markdown",
      "metadata": {
        "id": "view-in-github",
        "colab_type": "text"
      },
      "source": [
        "<a href=\"https://colab.research.google.com/github/wisarootl/leetcode/blob/main/Iterative_In_order_Traversal_(Very_Hard).ipynb\" target=\"_parent\"><img src=\"https://colab.research.google.com/assets/colab-badge.svg\" alt=\"Open In Colab\"/></a>"
      ]
    },
    {
      "cell_type": "markdown",
      "source": [
        "# Iterative In-order Traversal"
      ],
      "metadata": {
        "id": "jklFEBklnigu"
      }
    },
    {
      "cell_type": "markdown",
      "source": [
        "Write a function that takes in a Binary Tree (where nodes have an additional pointer to their parent node) and traverses it iteratively using the in-order tree-traversal technique; the traversal should specifically not use recursion. As the tree is being traversed, a callback function passed in as an argument to the main function should be called on each node (i.e., `callback(currentNode)`).\n",
        "\n",
        "Each `BinaryTree` node has an integer `value`, a `parent` node, a `left` child node, and a `right` child node. Children nodes can either be `BinaryTree` nodes themselves or `None` / `null`."
      ],
      "metadata": {
        "id": "DfklPzClvh2p"
      }
    },
    {
      "cell_type": "code",
      "source": [
        "class BinaryTree():\n",
        "  def __init__(self, value):\n",
        "    self.value = value\n",
        "    self.left = None\n",
        "    self.right = None\n",
        "    self.parent = None"
      ],
      "metadata": {
        "id": "IFRkZpHinjG-"
      },
      "execution_count": 1,
      "outputs": []
    },
    {
      "cell_type": "code",
      "execution_count": 2,
      "metadata": {
        "id": "CgtslxTVmPRZ"
      },
      "outputs": [],
      "source": [
        "# Time O(n)\n",
        "# Space O(h)\n",
        "\n",
        "def recursiveInOrderTraversal(tree, callback):\n",
        "  if tree == None:\n",
        "    return\n",
        "  recursiveInOrderTraversal(tree.left, callback)\n",
        "  callback(tree)\n",
        "  recursiveInOrderTraversal(tree.right, callback)\n",
        "  return"
      ]
    },
    {
      "cell_type": "code",
      "source": [
        "def callback(tree):\n",
        "  print(tree.value, end = ' ')"
      ],
      "metadata": {
        "id": "4hXNeBOloLj-"
      },
      "execution_count": 3,
      "outputs": []
    },
    {
      "cell_type": "code",
      "source": [
        "tree = BinaryTree(1)\n",
        "tree.left = BinaryTree(2)\n",
        "tree.left.parent = tree\n",
        "tree.left.left = BinaryTree(4)\n",
        "tree.left.left.parent = tree.left\n",
        "tree.left.left.right = BinaryTree(9)\n",
        "tree.left.left.right.parent = tree.left.left\n",
        "tree.right = BinaryTree(3)\n",
        "tree.right.parent = tree\n",
        "tree.right.left = BinaryTree(6)\n",
        "tree.right.left.parent = tree.right\n",
        "tree.right.right = BinaryTree(7)\n",
        "tree.right.right.parent = tree.right"
      ],
      "metadata": {
        "id": "-a_S2b0ToSCY"
      },
      "execution_count": 4,
      "outputs": []
    },
    {
      "cell_type": "code",
      "source": [
        "recursiveInOrderTraversal(tree, callback)"
      ],
      "metadata": {
        "colab": {
          "base_uri": "https://localhost:8080/"
        },
        "id": "GpQlVas2pRs3",
        "outputId": "5b222948-205b-43ac-ab2e-9651169d1809"
      },
      "execution_count": 6,
      "outputs": [
        {
          "output_type": "stream",
          "name": "stdout",
          "text": [
            "4 9 2 1 6 3 7 "
          ]
        }
      ]
    },
    {
      "cell_type": "code",
      "source": [
        "# Time O(n)\n",
        "# Space O(1)\n",
        "\n",
        "def iterativeInOrderTraversal(tree, callback):\n",
        "\tprevious_node = None\n",
        "\tcurrent_node = tree\n",
        "\twhile current_node != None:\n",
        "\t\tif previous_node == None or previous_node == current_node.parent:\n",
        "\t\t\tif current_node.left != None:\n",
        "\t\t\t\tnext_node = current_node.left\n",
        "\t\t\telse:\n",
        "\t\t\t\tcallback(current_node)\n",
        "\t\t\t\tnext_node = current_node.right if current_node.right != None else current_node.parent\n",
        "\n",
        "\t\telif previous_node == current_node.left:\n",
        "\t\t\tcallback(current_node)\n",
        "\t\t\tnext_node = current_node.right if current_node.right != None else current_node.parent\n",
        "\n",
        "\t\telif previous_node == current_node.right:\n",
        "\t\t\tnext_node = current_node.parent\n",
        "\n",
        "\t\tprevious_node = current_node\n",
        "\t\tcurrent_node = next_node"
      ],
      "metadata": {
        "id": "nyFOBLv5plPY"
      },
      "execution_count": 7,
      "outputs": []
    },
    {
      "cell_type": "code",
      "source": [
        "iterativeInOrderTraversal(tree, callback)"
      ],
      "metadata": {
        "colab": {
          "base_uri": "https://localhost:8080/"
        },
        "id": "EILWIHmrv_NZ",
        "outputId": "f630de5c-6f92-432b-ba63-0eb504592524"
      },
      "execution_count": 8,
      "outputs": [
        {
          "output_type": "stream",
          "name": "stdout",
          "text": [
            "4 9 2 1 6 3 7 "
          ]
        }
      ]
    }
  ]
}