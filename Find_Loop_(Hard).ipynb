{
  "nbformat": 4,
  "nbformat_minor": 0,
  "metadata": {
    "colab": {
      "name": "Find Loop (Hard).ipynb",
      "provenance": [],
      "collapsed_sections": [
        "U6iebXAnIP2E"
      ],
      "authorship_tag": "ABX9TyNoeTzOGWIeekvDHt3BQgn5",
      "include_colab_link": true
    },
    "kernelspec": {
      "name": "python3",
      "display_name": "Python 3"
    },
    "language_info": {
      "name": "python"
    }
  },
  "cells": [
    {
      "cell_type": "markdown",
      "metadata": {
        "id": "view-in-github",
        "colab_type": "text"
      },
      "source": [
        "<a href=\"https://colab.research.google.com/github/wisarootl/leetcode/blob/main/Find_Loop_(Hard).ipynb\" target=\"_parent\"><img src=\"https://colab.research.google.com/assets/colab-badge.svg\" alt=\"Open In Colab\"/></a>"
      ]
    },
    {
      "cell_type": "markdown",
      "source": [
        "# Find Loop"
      ],
      "metadata": {
        "id": "38chQ9FQI2XS"
      }
    },
    {
      "cell_type": "markdown",
      "source": [
        "Write a function that takes in the head of a Singly Linked List that contains a loop (in other words, the list's tail node points to some node in the list instead of `None` / `null`). The function should return the node (the actual node--not just its value) from which the loop originates in constant space.\n",
        "\n",
        "Each `LinkedList` node has an integer `value` as well as a `next` node pointing to the next node in the list."
      ],
      "metadata": {
        "id": "c8z8ckZtI0ji"
      }
    },
    {
      "cell_type": "markdown",
      "source": [
        "# Solution 1: hash table"
      ],
      "metadata": {
        "id": "U6iebXAnIP2E"
      }
    },
    {
      "cell_type": "code",
      "execution_count": 39,
      "metadata": {
        "id": "JS4hHV_D5sLf"
      },
      "outputs": [],
      "source": [
        "# This is an input class. Do not edit.\n",
        "class LinkedList:\n",
        "\tdef __init__(self, value):\n",
        "\t\tself.value = value\n",
        "\t\tself.next = None\n",
        "\n",
        "# time = O(n)\n",
        "# space = O(n)\n",
        "def findLoop(head):\n",
        "  visited_node = set()\n",
        "  node = head\n",
        "  while node != None:\n",
        "    if node in visited_node:\n",
        "      return node\n",
        "    visited_node.add(node)\n",
        "    node = node.next"
      ]
    },
    {
      "cell_type": "code",
      "source": [
        "def create_linked_list(tail, tail_pointer):\n",
        "  head = LinkedList(0)\n",
        "  node = head\n",
        "  for i in range(1, tail + 1):\n",
        "    node.next = LinkedList(i)\n",
        "    node = node.next\n",
        "  \n",
        "  tail = node\n",
        "  originated_loop = head\n",
        "  for i in range(1, tail_pointer + 1):\n",
        "    originated_loop = originated_loop.next\n",
        "  \n",
        "  tail.next = originated_loop\n",
        "  \n",
        "  return head"
      ],
      "metadata": {
        "id": "m7FEEFmZ5vT1"
      },
      "execution_count": 24,
      "outputs": []
    },
    {
      "cell_type": "code",
      "source": [
        "head = create_linked_list(9, 4)\n",
        "print(head.next.next.next.next.next.next.next.next.next.value)\n",
        "print(head.next.next.next.next.next.next.next.next.next.next.value)"
      ],
      "metadata": {
        "colab": {
          "base_uri": "https://localhost:8080/"
        },
        "id": "XroxHPH06_BD",
        "outputId": "d44f5dfd-891d-4119-92b8-3f9bf9141699"
      },
      "execution_count": 37,
      "outputs": [
        {
          "output_type": "stream",
          "name": "stdout",
          "text": [
            "9\n",
            "4\n"
          ]
        }
      ]
    },
    {
      "cell_type": "code",
      "source": [
        "originated_loop = findLoop(head)\n",
        "originated_loop.value"
      ],
      "metadata": {
        "colab": {
          "base_uri": "https://localhost:8080/"
        },
        "id": "iwmgyNGN8QSI",
        "outputId": "2c34946c-6b21-4bd6-b2af-a2c45c471c32"
      },
      "execution_count": 40,
      "outputs": [
        {
          "output_type": "execute_result",
          "data": {
            "text/plain": [
              "4"
            ]
          },
          "metadata": {},
          "execution_count": 40
        }
      ]
    },
    {
      "cell_type": "markdown",
      "source": [
        "# Solution 2: 2 pointer"
      ],
      "metadata": {
        "id": "7FYhdss9IMvN"
      }
    },
    {
      "cell_type": "code",
      "source": [
        "# Time O(n)\n",
        "# Space O(1)\n",
        "def findLoop(head):\n",
        "\tfirst = head.next\n",
        "\tsecond = head.next.next\n",
        "\twhile first != second:\n",
        "\t\tfirst = first.next\n",
        "\t\tsecond = second.next.next\n",
        "\tfirst = head\n",
        "\twhile first != second:\n",
        "\t\tfirst = first.next\n",
        "\t\tsecond = second.next\n",
        "\treturn first"
      ],
      "metadata": {
        "id": "2HYtvgDAIMMW"
      },
      "execution_count": 41,
      "outputs": []
    },
    {
      "cell_type": "code",
      "source": [
        "head = create_linked_list(9, 4)\n",
        "print(head.next.next.next.next.next.next.next.next.next.value)\n",
        "print(head.next.next.next.next.next.next.next.next.next.next.value)"
      ],
      "metadata": {
        "colab": {
          "base_uri": "https://localhost:8080/"
        },
        "id": "ucGZpe4GJj_M",
        "outputId": "fbbe8201-faff-4dcb-cfc0-79245e079ab1"
      },
      "execution_count": 42,
      "outputs": [
        {
          "output_type": "stream",
          "name": "stdout",
          "text": [
            "9\n",
            "4\n"
          ]
        }
      ]
    },
    {
      "cell_type": "code",
      "source": [
        "originated_loop = findLoop(head)\n",
        "originated_loop.value"
      ],
      "metadata": {
        "colab": {
          "base_uri": "https://localhost:8080/"
        },
        "id": "5d9hSAFfJk-g",
        "outputId": "10429274-79c9-4e85-fb7e-e1c5164a7fcf"
      },
      "execution_count": 43,
      "outputs": [
        {
          "output_type": "execute_result",
          "data": {
            "text/plain": [
              "4"
            ]
          },
          "metadata": {},
          "execution_count": 43
        }
      ]
    }
  ]
}