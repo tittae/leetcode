{
  "nbformat": 4,
  "nbformat_minor": 0,
  "metadata": {
    "colab": {
      "name": "First Non-Repeating Character.ipynb",
      "provenance": [],
      "authorship_tag": "ABX9TyMFBpvECOe+fe1EEEBIMHkw",
      "include_colab_link": true
    },
    "kernelspec": {
      "name": "python3",
      "display_name": "Python 3"
    },
    "language_info": {
      "name": "python"
    }
  },
  "cells": [
    {
      "cell_type": "markdown",
      "metadata": {
        "id": "view-in-github",
        "colab_type": "text"
      },
      "source": [
        "<a href=\"https://colab.research.google.com/github/tittae/leetcode/blob/main/First_Non_Repeating_Character.ipynb\" target=\"_parent\"><img src=\"https://colab.research.google.com/assets/colab-badge.svg\" alt=\"Open In Colab\"/></a>"
      ]
    },
    {
      "cell_type": "markdown",
      "metadata": {
        "id": "ILe7W6h1RwzT"
      },
      "source": [
        "# First Non-Repeating Character"
      ]
    },
    {
      "cell_type": "markdown",
      "metadata": {
        "id": "v7z45utZRyX3"
      },
      "source": [
        "Write a function that takes in a string of lowercase English-alphabet letters and returns the index of the string's first non-repeating character.\n",
        "\n",
        "The first non-repeating character is the first character in a string that occurs only once.\n",
        "\n",
        "If the input string doesn't have any non-repeating characters, your function should return `-1`."
      ]
    },
    {
      "cell_type": "markdown",
      "metadata": {
        "id": "qZiPct56R0PI"
      },
      "source": [
        "Sample Input\n",
        "\n",
        "```\n",
        "string = \"abcdcaf\"\n",
        "```\n",
        "\n"
      ]
    },
    {
      "cell_type": "markdown",
      "metadata": {
        "id": "-s54AuE4R2iV"
      },
      "source": [
        "Sample Output\n",
        "\n",
        "```\n",
        "1 // The first non-repeating character is \"b\" and is found at index 1.\n",
        "```\n",
        "\n"
      ]
    },
    {
      "cell_type": "code",
      "metadata": {
        "id": "w0u0MZBlRsm3"
      },
      "source": [
        "# Time O(N), Space O(26) = O(1) only unique char which is 23 lower English-alphabet in this case\n",
        "\n",
        "def firstNonRepeatingCharacter(string):\n",
        "\tstring_count = char_count(string)\n",
        "\t\n",
        "\tfor idx, char in enumerate(string):\n",
        "\t\tif string_count[char] == 1:\n",
        "\t\t\treturn idx\n",
        "\treturn -1\n",
        "\n",
        "def char_count(string):\n",
        "\tcount = {}\n",
        "\tfor char in string:\n",
        "\t\tif char in count:\n",
        "\t\t\tcount[char] += 1\n",
        "\t\telse:\n",
        "\t\t\tcount[char] = 1\n",
        "\treturn count"
      ],
      "execution_count": 1,
      "outputs": []
    },
    {
      "cell_type": "code",
      "metadata": {
        "id": "wAYVjnEWTz7s"
      },
      "source": [
        "string = \"abcdcaf\""
      ],
      "execution_count": 2,
      "outputs": []
    },
    {
      "cell_type": "code",
      "metadata": {
        "colab": {
          "base_uri": "https://localhost:8080/"
        },
        "id": "UzMMZagET0jf",
        "outputId": "26f697ba-8aca-4780-f7e0-a1ceee0fc5a0"
      },
      "source": [
        "print(firstNonRepeatingCharacter(string))"
      ],
      "execution_count": 3,
      "outputs": [
        {
          "output_type": "stream",
          "name": "stdout",
          "text": [
            "1\n"
          ]
        }
      ]
    }
  ]
}