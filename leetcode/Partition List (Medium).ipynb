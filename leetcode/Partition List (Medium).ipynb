{
 "cells": [
  {
   "cell_type": "markdown",
   "metadata": {},
   "source": [
    "# Partition List"
   ]
  },
  {
   "cell_type": "markdown",
   "metadata": {},
   "source": [
    "Given the `head` of a linked list and a value `x`, partition it such that all nodes less than `x` come before nodes greater than or equal to `x`.\n",
    "\n",
    "You should preserve the original relative order of the nodes in each of the two partitions."
   ]
  },
  {
   "cell_type": "markdown",
   "metadata": {},
   "source": [
    "Example 1:\n",
    "\n",
    "```python\n",
    "1 -> 4 -> 3 -> 2 -> 5 -> 2\n",
    "to...\n",
    "1 -> 2 -> 2 -> 3 -> 3 -> 5\n",
    "\n",
    "head = [1,4,3,2,5,2]\n",
    "x = 3\n",
    "expected = [1,2,2,4,3,5]\n",
    "```"
   ]
  },
  {
   "cell_type": "code",
   "execution_count": 1,
   "metadata": {},
   "outputs": [],
   "source": [
    "from typing import *\n",
    "\n",
    "# Definition for singly-linked list.\n",
    "class ListNode:\n",
    "    def __init__(self, val=0, next=None):\n",
    "        self.val = val\n",
    "        self.next = next\n",
    "\n",
    "class Solution:\n",
    "    # time = O(n)\n",
    "    # space = O(1)\n",
    "    # no need additional space\n",
    "    def partition(self, head: Optional[ListNode], x: int) -> Optional[ListNode]:\n",
    "        before = before_head = ListNode(0)\n",
    "        after = after_head = ListNode(0)\n",
    "\n",
    "        while head:\n",
    "            # If the original list node is lesser than the given x,\n",
    "            # assign it to the before list.\n",
    "            if head.val < x:\n",
    "                before.next = head\n",
    "                before = before.next\n",
    "            else:\n",
    "                # If the original list node is greater or equal to the given x,\n",
    "                # assign it to the after list.\n",
    "                after.next = head\n",
    "                after = after.next\n",
    "\n",
    "            # move ahead in the original list\n",
    "            head = head.next\n",
    "\n",
    "        # Last node of \"after\" list would also be ending node of the reformed list\n",
    "        after.next = None\n",
    "        # Once all the nodes are correctly assigned to the two lists,\n",
    "        # combine them to form a single list which would be returned.\n",
    "        before.next = after_head.next\n",
    "\n",
    "        return before_head.next"
   ]
  },
  {
   "cell_type": "code",
   "execution_count": 2,
   "metadata": {},
   "outputs": [
    {
     "name": "stdout",
     "output_type": "stream",
     "text": [
      "1 -> 2 -> 2 -> 4 -> 3 -> 5\n"
     ]
    }
   ],
   "source": [
    "head = ListNode(1)\n",
    "head.next = ListNode(4)\n",
    "head.next.next = ListNode(3)\n",
    "head.next.next.next = ListNode(2)\n",
    "head.next.next.next.next = ListNode(5)\n",
    "head.next.next.next.next.next = ListNode(2)\n",
    "x = 3\n",
    "\n",
    "output = Solution().partition(head, x)\n",
    "print(output.val, '->', \n",
    "      output.next.val, '->', \n",
    "      output.next.next.val, '->', \n",
    "      output.next.next.next.val, '->', \n",
    "      output.next.next.next.next.val, '->', \n",
    "      output.next.next.next.next.next.val)\n",
    "\n",
    "assert output.val == 1\n",
    "assert output.next.val == 2\n",
    "assert output.next.next.val == 2\n",
    "assert output.next.next.next.val == 4\n",
    "assert output.next.next.next.next.val == 3\n",
    "assert output.next.next.next.next.next.val == 5\n",
    "assert output.next.next.next.next.next.next == None"
   ]
  },
  {
   "cell_type": "code",
   "execution_count": 3,
   "metadata": {},
   "outputs": [
    {
     "name": "stdout",
     "output_type": "stream",
     "text": [
      "1 -> 2\n"
     ]
    }
   ],
   "source": [
    "head = ListNode(2)\n",
    "head.next = ListNode(1)\n",
    "x = 2\n",
    "\n",
    "output = Solution().partition(head, x)\n",
    "print(output.val, '->', \n",
    "      output.next.val)\n",
    "\n",
    "assert output.val == 1\n",
    "assert output.next.val == 2\n",
    "assert output.next.next == None"
   ]
  },
  {
   "cell_type": "code",
   "execution_count": null,
   "metadata": {},
   "outputs": [],
   "source": []
  }
 ],
 "metadata": {
  "kernelspec": {
   "display_name": "Python 3.8.9 64-bit",
   "language": "python",
   "name": "python3"
  },
  "language_info": {
   "codemirror_mode": {
    "name": "ipython",
    "version": 3
   },
   "file_extension": ".py",
   "mimetype": "text/x-python",
   "name": "python",
   "nbconvert_exporter": "python",
   "pygments_lexer": "ipython3",
   "version": "3.8.9"
  },
  "orig_nbformat": 4,
  "vscode": {
   "interpreter": {
    "hash": "31f2aee4e71d21fbe5cf8b01ff0e069b9275f58929596ceb00d14d90e3e16cd6"
   }
  }
 },
 "nbformat": 4,
 "nbformat_minor": 2
}
