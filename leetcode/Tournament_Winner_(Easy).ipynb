{
  "nbformat": 4,
  "nbformat_minor": 0,
  "metadata": {
    "colab": {
      "name": "Tournament Winner (Easy).ipynb",
      "provenance": [],
      "collapsed_sections": [],
      "authorship_tag": "ABX9TyOyBCey3h1ypxCQKth0putg",
      "include_colab_link": true
    },
    "kernelspec": {
      "name": "python3",
      "display_name": "Python 3"
    },
    "language_info": {
      "name": "python"
    }
  },
  "cells": [
    {
      "cell_type": "markdown",
      "metadata": {
        "id": "view-in-github",
        "colab_type": "text"
      },
      "source": [
        "<a href=\"https://colab.research.google.com/github/wisarootl/leetcode/blob/main/Tournament_Winner_(Easy).ipynb\" target=\"_parent\"><img src=\"https://colab.research.google.com/assets/colab-badge.svg\" alt=\"Open In Colab\"/></a>"
      ]
    },
    {
      "cell_type": "markdown",
      "metadata": {
        "id": "wR8mFLQ4JviI"
      },
      "source": [
        "# Tournament Winner"
      ]
    },
    {
      "cell_type": "markdown",
      "metadata": {
        "id": "mfuLL5lWJxST"
      },
      "source": [
        "There's an algorithms tournament taking place in which teams of programmers compete against each other to solve algorithmic problems as fast as possible. Teams compete in a round robin, where each team faces off against all other teams. Only two teams compete against each other at a time, and for each competition, one team is designated the home team, while the other team is the away team. In each competition there's always one winner and one loser; there are no ties. A team receives 3 points if it wins and 0 points if it loses. The winner of the tournament is the team that receives the most amount of points.\n",
        "\n",
        "Given an array of pairs representing the teams that have competed against each other and an array containing the results of each competition, write a function that returns the winner of the tournament. The input arrays are named competitions and results, respectively. The competitions array has elements in the form of [homeTeam, awayTeam], where each team is a string of at most 30 characters representing the name of the team. The results array contains information about the winner of each corresponding competition in the competitions array. Specifically, results[i] denotes the winner of competitions[i], where a 1 in the results array means that the home team in the corresponding competition won and a 0 means that the away team won.\n",
        "\n",
        "It's guaranteed that exactly one team will win the tournament and that each team will compete against all other teams exactly once. It's also guaranteed that the tournament will always have at least two teams."
      ]
    },
    {
      "cell_type": "markdown",
      "metadata": {
        "id": "uhe0bPhEJ2FM"
      },
      "source": [
        "\n",
        "Sample Input\n",
        "```\n",
        "competitions = [\n",
        "  [\"HTML\", \"C#\"],\n",
        "  [\"C#\", \"Python\"],\n",
        "  [\"Python\", \"HTML\"],\n",
        "]\n",
        "results = [0, 0, 1]\n",
        "```\n",
        "\n"
      ]
    },
    {
      "cell_type": "markdown",
      "metadata": {
        "id": "3Ahb3nt1J5iU"
      },
      "source": [
        "Sample Output\n",
        "\n",
        "\n",
        "```\n",
        "\"Python\"\n",
        "// C# beats HTML, Python Beats C#, and Python Beats HTML.\n",
        "// HTML - 0 points \n",
        "// C# -  3 points\n",
        "// Python -  6 points\n",
        "```\n",
        "\n"
      ]
    },
    {
      "cell_type": "code",
      "metadata": {
        "id": "URhElnU0Jw0I"
      },
      "source": [
        "competitions = [\n",
        "  [\"HTML\", \"C#\"],\n",
        "  [\"C#\", \"Python\"],\n",
        "  [\"Python\", \"HTML\"],\n",
        "]\n",
        "results = [0, 0, 1]"
      ],
      "execution_count": null,
      "outputs": []
    },
    {
      "cell_type": "code",
      "metadata": {
        "id": "hGt9XH9II9e8"
      },
      "source": [
        "# O(M) time (M = no. of competition) and O(N) space (N = no. of competition)\n",
        "def tournament_winner(competitions, results):\n",
        "\tscores = {}\n",
        "\tpoint = 3\n",
        "\tbest_team = None\n",
        "\tbest_score = 0\n",
        "\tfor i in range(len(results)):\n",
        "\t\tif results[i] == 0:\n",
        "\t\t\twinner_idx = 1\n",
        "\t\telse: # results[i] == 1\n",
        "\t\t\twinner_idx = 0\n",
        "\n",
        "    # update scores\n",
        "\t\tif competitions[i][winner_idx] in scores:\n",
        "\t\t\tscores[competitions[i][winner_idx]] = scores[competitions[i][winner_idx]] + point\n",
        "\t\telse:\n",
        "\t\t\tscores[competitions[i][winner_idx]] = point\n",
        "    \n",
        "    # update best team\n",
        "\t\tif scores[competitions[i][winner_idx]] > best_score:\n",
        "\t\t\tbest_team = competitions[i][winner_idx]\n",
        "\t\t\tbest_score = scores[competitions[i][winner_idx]]\n",
        "\t\n",
        "\treturn best_team"
      ],
      "execution_count": null,
      "outputs": []
    },
    {
      "cell_type": "code",
      "metadata": {
        "colab": {
          "base_uri": "https://localhost:8080/"
        },
        "id": "j59goXCfRgtv",
        "outputId": "2570b879-c076-46fe-9990-027ebab78c11"
      },
      "source": [
        "print(tournament_winner(competitions, results))"
      ],
      "execution_count": null,
      "outputs": [
        {
          "output_type": "stream",
          "name": "stdout",
          "text": [
            "Python\n"
          ]
        }
      ]
    }
  ]
}