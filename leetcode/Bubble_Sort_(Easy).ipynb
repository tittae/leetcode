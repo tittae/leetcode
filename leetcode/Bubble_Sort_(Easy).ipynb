{
  "cells": [
    {
      "cell_type": "markdown",
      "metadata": {
        "colab_type": "text",
        "id": "view-in-github"
      },
      "source": [
        "<a href=\"https://colab.research.google.com/github/wisarootl/leetcode/blob/main/Bubble_Sort_(Easy).ipynb\" target=\"_parent\"><img src=\"https://colab.research.google.com/assets/colab-badge.svg\" alt=\"Open In Colab\"/></a>"
      ]
    },
    {
      "cell_type": "markdown",
      "metadata": {
        "id": "_aDK7D2Am-gA"
      },
      "source": [
        "# Bubble Sort"
      ]
    },
    {
      "cell_type": "markdown",
      "metadata": {
        "id": "ymZxk9VbnAzz"
      },
      "source": [
        "Write a function that takes in an array of integers and returns a sorted version of that array. Use the Bubble Sort algorithm to sort the array.\n",
        "\n",
        "If you're unfamiliar with Bubble Sort, we recommend watching the Conceptual Overview section of this question's video explanation before starting to code."
      ]
    },
    {
      "cell_type": "markdown",
      "metadata": {
        "id": "d3Gbhh6lnCgI"
      },
      "source": [
        "Sample Input\n",
        "\n",
        "```\n",
        "array = [8, 5, 2, 9, 5, 6, 3]\n",
        "```\n",
        "\n"
      ]
    },
    {
      "cell_type": "markdown",
      "metadata": {
        "id": "T19PN0CNnGBM"
      },
      "source": [
        "Sample Output\n",
        "\n",
        "```\n",
        "[2, 3, 5, 5, 6, 8, 9]\n",
        "```\n",
        "\n"
      ]
    },
    {
      "cell_type": "code",
      "execution_count": 1,
      "metadata": {
        "id": "U6AFbrrAm6Dh"
      },
      "outputs": [],
      "source": [
        "array = [8, 5, 2, 9, 5, 6, 3]"
      ]
    },
    {
      "cell_type": "code",
      "execution_count": 2,
      "metadata": {
        "id": "5U6Mx91IofGw"
      },
      "outputs": [],
      "source": [
        "# Time: O(n^2), Space: O(1)\n",
        "\n",
        "def bubbleSort(array):\n",
        "\tisswap = True\n",
        "\tcounter = 0\n",
        "\n",
        "\twhile isswap == True:\n",
        "\t\tisswap = False\n",
        "\t\tfor i in range(len(array) - 1 - counter):\n",
        "\t\t\tif array[i] > array[i+1]:\n",
        "\t\t\t\tarray[i], array[i+1] = array[i+1], array[i]\n",
        "\t\t\t\tisswap = True\n",
        "\t\tcounter += 1\n",
        "\n",
        "\treturn array"
      ]
    },
    {
      "cell_type": "code",
      "execution_count": 3,
      "metadata": {
        "colab": {
          "base_uri": "https://localhost:8080/"
        },
        "id": "YnYuu2baqJ1f",
        "outputId": "47802c0c-2cca-4f74-f97d-e6884c314ece"
      },
      "outputs": [
        {
          "name": "stdout",
          "output_type": "stream",
          "text": [
            "[2, 3, 5, 5, 6, 8, 9]\n"
          ]
        }
      ],
      "source": [
        "print(bubbleSort(array))"
      ]
    }
  ],
  "metadata": {
    "colab": {
      "authorship_tag": "ABX9TyOX2DIqv1A6+ITAGgM/QUhz",
      "collapsed_sections": [],
      "include_colab_link": true,
      "name": "Bubble Sort (Easy).ipynb",
      "provenance": []
    },
    "kernelspec": {
      "display_name": "Python 3",
      "language": "python",
      "name": "python3"
    },
    "language_info": {
      "codemirror_mode": {
        "name": "ipython",
        "version": 3
      },
      "file_extension": ".py",
      "mimetype": "text/x-python",
      "name": "python",
      "nbconvert_exporter": "python",
      "pygments_lexer": "ipython3",
      "version": "3.10.9"
    },
    "vscode": {
      "interpreter": {
        "hash": "3822405be9f5fb329f7270cbdcf73e762c62b3f383c5e71390a1a4648678c1cb"
      }
    }
  },
  "nbformat": 4,
  "nbformat_minor": 0
}
