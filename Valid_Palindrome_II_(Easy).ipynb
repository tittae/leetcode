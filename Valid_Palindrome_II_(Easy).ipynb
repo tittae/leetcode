{
  "nbformat": 4,
  "nbformat_minor": 0,
  "metadata": {
    "colab": {
      "name": "Valid Palindrome II (Easy).ipynb",
      "provenance": [],
      "authorship_tag": "ABX9TyN0fS5JxPxKo4x1GqS4j8Ce",
      "include_colab_link": true
    },
    "kernelspec": {
      "name": "python3",
      "display_name": "Python 3"
    },
    "language_info": {
      "name": "python"
    }
  },
  "cells": [
    {
      "cell_type": "markdown",
      "metadata": {
        "id": "view-in-github",
        "colab_type": "text"
      },
      "source": [
        "<a href=\"https://colab.research.google.com/github/wisarootl/leetcode/blob/main/Valid_Palindrome_II_(Easy).ipynb\" target=\"_parent\"><img src=\"https://colab.research.google.com/assets/colab-badge.svg\" alt=\"Open In Colab\"/></a>"
      ]
    },
    {
      "cell_type": "markdown",
      "source": [
        "# Valid Palindrome II"
      ],
      "metadata": {
        "id": "EVeC1VtC2iM4"
      }
    },
    {
      "cell_type": "markdown",
      "source": [
        "Given a string s, return true if the s can be palindrome after deleting at most one character from it."
      ],
      "metadata": {
        "id": "Zog0KDX82jYR"
      }
    },
    {
      "cell_type": "markdown",
      "source": [
        "Example 1:\n",
        "\n",
        "```\n",
        "Input: s = \"aba\"\n",
        "Output: true\n",
        "```\n",
        "\n"
      ],
      "metadata": {
        "id": "-wfijk2t2krY"
      }
    },
    {
      "cell_type": "markdown",
      "source": [
        "Example 2:\n",
        "\n",
        "```\n",
        "Input: s = \"abca\"\n",
        "Output: true\n",
        "Explanation: You could delete the character 'c'.\n",
        "```\n",
        "\n"
      ],
      "metadata": {
        "id": "wckqs0oM2pCO"
      }
    },
    {
      "cell_type": "markdown",
      "source": [
        "Example 3:\n",
        "\n",
        "```\n",
        "Input: s = \"abc\"\n",
        "Output: false\n",
        "```\n",
        "\n"
      ],
      "metadata": {
        "id": "4mQo5HzA2rGM"
      }
    },
    {
      "cell_type": "markdown",
      "source": [
        "Constraints:\n",
        "\n",
        "```\n",
        "1 <= s.length <= 105\n",
        "s consists of lowercase English letters.\n",
        "```\n",
        "\n"
      ],
      "metadata": {
        "id": "SF1wkzVV2ttY"
      }
    },
    {
      "cell_type": "code",
      "execution_count": 1,
      "metadata": {
        "id": "cWyPchKj2gBr"
      },
      "outputs": [],
      "source": [
        "# Time = O(n)\n",
        "# Space = O(1)\n",
        "\n",
        "class Solution:\n",
        "    def validPalindrome(self, s):\n",
        "        left = 0\n",
        "        right = len(s) - 1\n",
        "        while left < right:\n",
        "            if s[left] != s[right]:\n",
        "                return check_palindrome(s, left + 1, right) or check_palindrome(s, left, right - 1)\n",
        "            left += 1\n",
        "            right -=1\n",
        "        return True\n",
        "\n",
        "def check_palindrome(s, left, right):\n",
        "    while left < right:\n",
        "        if s[left] != s[right]:\n",
        "            return False\n",
        "        left += 1\n",
        "        right -= 1\n",
        "        \n",
        "    return True"
      ]
    },
    {
      "cell_type": "code",
      "source": [
        "s = \"aba\"\n",
        "expected = True\n",
        "\n",
        "output = Solution().validPalindrome(s)\n",
        "print(output)\n",
        "assert output == expected"
      ],
      "metadata": {
        "colab": {
          "base_uri": "https://localhost:8080/"
        },
        "id": "IG7zNktA21Dz",
        "outputId": "c019fbaa-26ab-4795-bda4-7bcc98bdd18c"
      },
      "execution_count": 2,
      "outputs": [
        {
          "output_type": "stream",
          "name": "stdout",
          "text": [
            "True\n"
          ]
        }
      ]
    },
    {
      "cell_type": "code",
      "source": [
        "s = \"abca\"\n",
        "expected = True\n",
        "\n",
        "output = Solution().validPalindrome(s)\n",
        "print(output)\n",
        "assert output == expected"
      ],
      "metadata": {
        "colab": {
          "base_uri": "https://localhost:8080/"
        },
        "id": "WanhtleR3Jkq",
        "outputId": "0ebf9ab3-8a64-40f7-c869-d22fb3a324c9"
      },
      "execution_count": 3,
      "outputs": [
        {
          "output_type": "stream",
          "name": "stdout",
          "text": [
            "True\n"
          ]
        }
      ]
    },
    {
      "cell_type": "code",
      "source": [
        "s = \"abcga\"\n",
        "expected = False\n",
        "\n",
        "output = Solution().validPalindrome(s)\n",
        "print(output)\n",
        "assert output == expected"
      ],
      "metadata": {
        "colab": {
          "base_uri": "https://localhost:8080/"
        },
        "id": "i6kvdpj63LsB",
        "outputId": "1a30c67e-2a47-43d9-d398-7ddb634d8b20"
      },
      "execution_count": 4,
      "outputs": [
        {
          "output_type": "stream",
          "name": "stdout",
          "text": [
            "False\n"
          ]
        }
      ]
    },
    {
      "cell_type": "code",
      "source": [
        "s = \"abc\"\n",
        "expected = False\n",
        "\n",
        "output = Solution().validPalindrome(s)\n",
        "print(output)\n",
        "assert output == expected"
      ],
      "metadata": {
        "colab": {
          "base_uri": "https://localhost:8080/"
        },
        "id": "HBCpiPUc3U2P",
        "outputId": "19e5c74d-cc62-425d-c499-755878c9da5d"
      },
      "execution_count": 5,
      "outputs": [
        {
          "output_type": "stream",
          "name": "stdout",
          "text": [
            "False\n"
          ]
        }
      ]
    }
  ]
}