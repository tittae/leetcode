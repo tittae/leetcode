{
 "cells": [
  {
   "cell_type": "markdown",
   "metadata": {},
   "source": [
    "# Divide Two Integers"
   ]
  },
  {
   "cell_type": "markdown",
   "metadata": {},
   "source": [
    "Given two integers dividend and divisor, divide two integers without using multiplication, division, and mod operator.\n",
    "\n",
    "The integer division should truncate toward zero, which means losing its fractional part. For example, 8.345 would be truncated to 8, and -2.7335 would be truncated to -2.\n",
    "\n",
    "Return the quotient after dividing dividend by divisor.\n",
    "\n",
    "Note: Assume we are dealing with an environment that could only store integers within the 32-bit signed integer range: [−231, 231 − 1]. For this problem, if the quotient is strictly greater than 231 - 1, then return 231 - 1, and if the quotient is strictly less than -231, then return -231."
   ]
  },
  {
   "cell_type": "markdown",
   "metadata": {},
   "source": [
    "Example 1:\n",
    "```\n",
    "Input: dividend = 10, divisor = 3\n",
    "Output: 3\n",
    "Explanation: 10/3 = 3.33333.. which is truncated to 3\n",
    "```"
   ]
  },
  {
   "cell_type": "markdown",
   "metadata": {},
   "source": [
    "Example 2:\n",
    "```\n",
    "Input: dividend = 7, divisor = -3\n",
    "Output: -2\n",
    "Explanation: 7/-3 = -2.33333.. which is truncated to -2.\n",
    "```"
   ]
  },
  {
   "cell_type": "markdown",
   "metadata": {},
   "source": [
    "Constraints:\n",
    "```\n",
    "-231 <= dividend, divisor <= 231 - 1\n",
    "divisor != 0\n",
    "```"
   ]
  },
  {
   "cell_type": "code",
   "execution_count": 2,
   "metadata": {},
   "outputs": [],
   "source": [
    "class Solution:\n",
    "    def divide(self, dividend: int, divisor: int) -> int:\n",
    "\n",
    "        # Constants.\n",
    "        MAX_INT = 2147483647        # 2**31 - 1\n",
    "        MIN_INT = -2147483648       # -2**31\n",
    "        HALF_MIN_INT = -1073741824  # MIN_INT // 2\n",
    "\n",
    "        # Special case: overflow.\n",
    "        if dividend == MIN_INT and divisor == -1:\n",
    "            return MAX_INT\n",
    "\n",
    "        # We need to convert both numbers to negatives.\n",
    "        # Also, we count the number of negatives signs.\n",
    "        negatives = 2\n",
    "        if dividend > 0:\n",
    "            negatives -= 1\n",
    "            dividend = -dividend\n",
    "        if divisor > 0:\n",
    "            negatives -= 1\n",
    "            divisor = -divisor\n",
    "\n",
    "        doubles = []\n",
    "        powersOfTwo = []\n",
    "\n",
    "        # Nothing too exciting here, we're just making a list of doubles of 1 and\n",
    "        # the divisor. This is pretty much the same as Approach 2, except we're\n",
    "        # actually storing the values this time. */\n",
    "        powerOfTwo = 1\n",
    "        while divisor >= dividend:\n",
    "            doubles.append(divisor)\n",
    "            powersOfTwo.append(powerOfTwo)\n",
    "            # Prevent needless overflows from occurring...\n",
    "            if divisor < HALF_MIN_INT:\n",
    "                break\n",
    "            divisor += divisor # Double divisor\n",
    "            powerOfTwo += powerOfTwo\n",
    "\n",
    "        # Go from largest double to smallest, checking if the current double fits.\n",
    "        # into the remainder of the dividend.\n",
    "        quotient = 0\n",
    "        for i in reversed(range(len(doubles))):\n",
    "            if doubles[i] >= dividend:\n",
    "                # If it does fit, add the current powerOfTwo to the quotient.\n",
    "                quotient += powersOfTwo[i]\n",
    "                # Update dividend to take into account the bit we've now removed.\n",
    "                dividend -= doubles[i]\n",
    "        \n",
    "        return quotient if negatives != 1 else -quotient"
   ]
  },
  {
   "cell_type": "code",
   "execution_count": 3,
   "metadata": {},
   "outputs": [
    {
     "name": "stdout",
     "output_type": "stream",
     "text": [
      "3\n"
     ]
    }
   ],
   "source": [
    "dividend = 10\n",
    "divisor = 3\n",
    "expected = 3\n",
    "\n",
    "output = Solution().divide(dividend, divisor)\n",
    "print(output)\n",
    "assert output == expected"
   ]
  },
  {
   "cell_type": "code",
   "execution_count": 4,
   "metadata": {},
   "outputs": [
    {
     "name": "stdout",
     "output_type": "stream",
     "text": [
      "-2\n"
     ]
    }
   ],
   "source": [
    "dividend = 7\n",
    "divisor = -3\n",
    "expected = -2\n",
    "\n",
    "output = Solution().divide(dividend, divisor)\n",
    "print(output)\n",
    "assert output == expected\n",
    "\n",
    "\n",
    "\n"
   ]
  },
  {
   "cell_type": "markdown",
   "metadata": {},
   "source": [
    "## Conceptual Note"
   ]
  },
  {
   "cell_type": "markdown",
   "metadata": {},
   "source": [
    "divide(93706, 157)\n",
    "\n",
    "| Powers of two | Double | Note      |\n",
    "| ------------- | ------ | --------- |\n",
    "| 1             | 157    |           |\n",
    "| 2             | 314    | 157 + 157 |\n",
    "| 4             | 628    | 314 + 314 |\n",
    "| 8             | 1256   |           |\n",
    "| 16            | 2512   |           |\n",
    "| 32            | 5024   |           |\n",
    "| 64            | 10048  |           |\n",
    "| 128           | 20096  |           |\n",
    "| 256           | 40192  |           |\n",
    "| 512           | 80384  |           |\n",
    "| 1024          | 160768 | # too big |\n",
    "\n",
    "93706 - 80384 = 13322<br/>\n",
    "result = 512\n",
    "\n",
    "13322 - 10048 = 3274<br/>\n",
    "result = 512 + 64 = 576\n",
    "\n",
    "3274 - 2512 = 762<br/>\n",
    "result = 576 + 16 = 592\n",
    "\n",
    "762 - 628 = 134<br/>\n",
    "result = 592 + 4 = 596\n",
    "\n",
    "134 < 157 : STOP!!\n"
   ]
  }
 ],
 "metadata": {
  "interpreter": {
   "hash": "20ac7aad763b689ebdaff2f53a3073c7ed55a0f51860968fbf5603f714378c4e"
  },
  "kernelspec": {
   "display_name": "Python 3.10.4 64-bit",
   "language": "python",
   "name": "python3"
  },
  "language_info": {
   "codemirror_mode": {
    "name": "ipython",
    "version": 3
   },
   "file_extension": ".py",
   "mimetype": "text/x-python",
   "name": "python",
   "nbconvert_exporter": "python",
   "pygments_lexer": "ipython3",
   "version": "3.10.4"
  },
  "orig_nbformat": 4
 },
 "nbformat": 4,
 "nbformat_minor": 2
}
