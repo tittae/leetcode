{
  "nbformat": 4,
  "nbformat_minor": 0,
  "metadata": {
    "colab": {
      "name": "Ambiguous Measurements (Hard).ipynb",
      "provenance": [],
      "authorship_tag": "ABX9TyNssq6Zd8xClxDE/K9aYdiB",
      "include_colab_link": true
    },
    "kernelspec": {
      "name": "python3",
      "display_name": "Python 3"
    },
    "language_info": {
      "name": "python"
    }
  },
  "cells": [
    {
      "cell_type": "markdown",
      "metadata": {
        "id": "view-in-github",
        "colab_type": "text"
      },
      "source": [
        "<a href=\"https://colab.research.google.com/github/wisarootl/leetcode/blob/main/Ambiguous_Measurements_(Hard).ipynb\" target=\"_parent\"><img src=\"https://colab.research.google.com/assets/colab-badge.svg\" alt=\"Open In Colab\"/></a>"
      ]
    },
    {
      "cell_type": "markdown",
      "source": [
        "This problem deals with measuring cups that are missing important measuring labels. Specifically, a measuring cup only has two measuring lines, a Low (L) line and a High (H) line. This means that these cups can't precisely measure and can only guarantee that the substance poured into them will be between the L and H line. For example, you might have a measuring cup that has a Low line at `400ml` and a high line at `435ml`. This means that when you use this measuring cup, you can only be sure that what you're measuring is between `400ml` and `435ml`.\n",
        "\n",
        "You're given a list of measuring cups containing their `low` and `high` lines as well as one low integer and one high integer representing a range for a target measurement. Write a function that returns a boolean representing whether you can use the cups to accurately measure a volume in the specified `[low, high]` range (the range is inclusive).\n",
        "\n",
        "Note that:\n",
        "- Each measuring cup will be represented by a pair of positive integers `[L, H]`, where `0 <= L <= H`.\n",
        "- You'll always be given at least one measuring cup, and the `low` and `high` input parameters will always satisfy the following constraint: `0 <= low <= high`.\n",
        "- Once you've measured some liquid, it will immediately be transferred to a larger bowl that will eventually (possibly) contain the target measurement.\n",
        "- You can't pour the contents of one measuring cup into another cup."
      ],
      "metadata": {
        "id": "wt7OJ13xQKGL"
      }
    },
    {
      "cell_type": "markdown",
      "source": [
        "Sample Input\n",
        "\n",
        "```\n",
        "measuringCups = [\n",
        "  [200, 210],\n",
        "  [450, 465],\n",
        "  [800, 850],\n",
        "] \n",
        "low = 2100\n",
        "high = 2300\n",
        "```\n",
        "\n"
      ],
      "metadata": {
        "id": "zxxISeNwQddv"
      }
    },
    {
      "cell_type": "markdown",
      "source": [
        "Sample Output\n",
        "\n",
        "```\n",
        "true\n",
        "// We use cup [450, 465] to measure four volumes:\n",
        "// First measurement: Low = 450, High = 465\n",
        "// Second measurement: Low = 450 + 450 = 900, High = 465 + 465 = 930\n",
        "// Third measurement: Low = 900 + 450 = 1350, High = 930 + 465 = 1395\n",
        "// Fourth measurement: Low = 1350 + 450 = 1800, High = 1395 + 465 = 1860\n",
        "\n",
        "// Then we use cup [200, 210] to measure two volumes:\n",
        "// Fifth measurement: Low = 1800 + 200 = 2000, High = 1860 + 210 = 2070\n",
        "// Sixth measurement: Low = 2000 + 200 = 2200, High = 2070 + 210 = 2280\n",
        "\n",
        "// We've measured a volume in the range [2200, 2280].\n",
        "// This is within our target range, so we return `true`.\n",
        "\n",
        "// Note: there are other ways to measure a volume in the target range.\n",
        "```\n",
        "\n"
      ],
      "metadata": {
        "id": "d07NZ7zRQftP"
      }
    },
    {
      "cell_type": "code",
      "execution_count": 1,
      "metadata": {
        "id": "aYRACS0bPf5J"
      },
      "outputs": [],
      "source": [
        "def ambiguousMeasurements(measuringCups, low, high):\n",
        "\tmemoization = {}\n",
        "\treturn can_measure_in_range(measuringCups, low, high, memoization)\n",
        "\n",
        "def can_measure_in_range(measuringCups, low, high, memoization):\n",
        "\tmemoize_key = create_memoize_key(low, high)\n",
        "\tif memoize_key in memoization:\n",
        "\t\treturn memoization[memoize_key]\n",
        "\n",
        "\t# base case\n",
        "\tif low < 0 and high < 0:\n",
        "\t\treturn False\n",
        "\t\n",
        "\t# recursive case\n",
        "\tcan_measure = False\n",
        "\tfor cup in measuringCups:\n",
        "\t\tcup_low, cup_high = cup\n",
        "\t\tif low <= cup_low and cup_high <= high:\n",
        "\t\t\tcan_measure = True\n",
        "\t\t\tbreak\n",
        "\n",
        "\t\tcan_measure = can_measure_in_range(measuringCups, low - cup_low, high - cup_high, memoization)\n",
        "\t\tif can_measure:\n",
        "\t\t\tbreak\n",
        "\tmemoization[memoize_key] = can_measure\n",
        "\treturn can_measure\n",
        "\t\n",
        "def create_memoize_key(low, high):\n",
        "\treturn (low, high)"
      ]
    },
    {
      "cell_type": "code",
      "source": [
        "measuringCups = [\n",
        "  [200, 210],\n",
        "  [450, 465],\n",
        "  [800, 850],\n",
        "] \n",
        "low = 2100\n",
        "high = 2300\n",
        "ambiguousMeasurements(measuringCups, low, high)"
      ],
      "metadata": {
        "colab": {
          "base_uri": "https://localhost:8080/"
        },
        "id": "8ie36PLFQk_I",
        "outputId": "897042d1-cc66-452c-ca34-bb6cc66d95ac"
      },
      "execution_count": 2,
      "outputs": [
        {
          "output_type": "execute_result",
          "data": {
            "text/plain": [
              "True"
            ]
          },
          "metadata": {},
          "execution_count": 2
        }
      ]
    }
  ]
}