{
  "nbformat": 4,
  "nbformat_minor": 0,
  "metadata": {
    "colab": {
      "name": "Invert Binary Tree (Medium).ipynb",
      "provenance": [],
      "authorship_tag": "ABX9TyMexmqlmxeLjcS8csEkX9Ic",
      "include_colab_link": true
    },
    "kernelspec": {
      "name": "python3",
      "display_name": "Python 3"
    },
    "language_info": {
      "name": "python"
    }
  },
  "cells": [
    {
      "cell_type": "markdown",
      "metadata": {
        "id": "view-in-github",
        "colab_type": "text"
      },
      "source": [
        "<a href=\"https://colab.research.google.com/github/wisarootl/leetcode/blob/main/Invert_Binary_Tree_(Medium).ipynb\" target=\"_parent\"><img src=\"https://colab.research.google.com/assets/colab-badge.svg\" alt=\"Open In Colab\"/></a>"
      ]
    },
    {
      "cell_type": "markdown",
      "source": [
        "Write a function that takes in a Binary Tree and inverts it. In other words, the function should swap every left node in the tree for its corresponding right node.\n",
        "\n",
        "Each `BinaryTree` node has an integer `value`, a `left` child node, and a `right` child node. Children nodes can either be `BinaryTree` nodes themselves or `None` / `null`."
      ],
      "metadata": {
        "id": "r92so-imxFwT"
      }
    },
    {
      "cell_type": "markdown",
      "source": [
        "Sample Input\n",
        "\n",
        "```\n",
        "tree =    1\n",
        "       /     \\\n",
        "      2       3\n",
        "    /   \\   /   \\\n",
        "   4     5 6     7\n",
        " /   \\\n",
        "8     9\n",
        "```\n",
        "\n"
      ],
      "metadata": {
        "id": "yi-nxZ7txT6n"
      }
    },
    {
      "cell_type": "markdown",
      "source": [
        "Sample Output\n",
        "\n",
        "```\n",
        "       1\n",
        "    /     \\\n",
        "   3       2\n",
        " /   \\   /   \\\n",
        "7     6 5     4\n",
        "            /   \\\n",
        "           9     8\n",
        "```\n",
        "\n"
      ],
      "metadata": {
        "id": "1SJGZTyOxWXX"
      }
    },
    {
      "cell_type": "code",
      "execution_count": 1,
      "metadata": {
        "id": "JId8hsBDw6gw"
      },
      "outputs": [],
      "source": [
        "# Time O(n)\n",
        "# Space O(d)\n",
        "def invertBinaryTree(tree):\n",
        "\tif tree == None:\n",
        "\t\treturn None\n",
        "\tinvertBinaryTree(tree.left)\n",
        "\tinvertBinaryTree(tree.right)\n",
        "\ttree.left, tree.right =tree.right, tree.left\n",
        "\treturn tree\n",
        "\n",
        "# This is the class of the input binary tree.\n",
        "class BinaryTree:\n",
        "    def __init__(self, value):\n",
        "        self.value = value\n",
        "        self.left = None\n",
        "        self.right = None"
      ]
    },
    {
      "cell_type": "code",
      "source": [
        "tree = BinaryTree(1)\n",
        "tree.left = BinaryTree(2)\n",
        "tree.right = BinaryTree(3)\n",
        "tree.left.left = BinaryTree(4)\n",
        "tree.left.right = BinaryTree(5)\n",
        "tree.right.left = BinaryTree(6)\n",
        "tree.right.right = BinaryTree(7)\n",
        "tree.left.left.left = BinaryTree(8)\n",
        "tree.left.left.right = BinaryTree(9)"
      ],
      "metadata": {
        "id": "uKBvu-6QxguA"
      },
      "execution_count": 3,
      "outputs": []
    },
    {
      "cell_type": "code",
      "source": [
        "invertBinaryTree(tree)\n",
        "print(tree.value)\n",
        "print(tree.left.value)\n",
        "print(tree.right.value)"
      ],
      "metadata": {
        "colab": {
          "base_uri": "https://localhost:8080/"
        },
        "id": "mcky_i0Nx2y8",
        "outputId": "a9b7b079-e586-48ac-b533-160fb5539dbe"
      },
      "execution_count": 4,
      "outputs": [
        {
          "output_type": "stream",
          "name": "stdout",
          "text": [
            "1\n",
            "3\n",
            "2\n"
          ]
        }
      ]
    }
  ]
}