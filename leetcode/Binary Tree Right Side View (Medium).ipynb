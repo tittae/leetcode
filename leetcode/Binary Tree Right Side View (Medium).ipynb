{
 "cells": [
  {
   "cell_type": "markdown",
   "metadata": {},
   "source": [
    "Binary Tree Right Side View"
   ]
  },
  {
   "cell_type": "markdown",
   "metadata": {},
   "source": [
    "Given the `root` of a binary tree, imagine yourself standing on the right side of it, return the values of the nodes you can see ordered from top to bottom."
   ]
  },
  {
   "cell_type": "markdown",
   "metadata": {},
   "source": [
    "Example 1:\n",
    "\n",
    "```\n",
    "    1\n",
    "   / \\\n",
    "  2   3\n",
    "   \\   \\\n",
    "    5   4\n",
    "\n",
    "Input: root = [1,2,3,null,5,null,4]\n",
    "Output: [1,3,4]\n",
    "```"
   ]
  },
  {
   "cell_type": "markdown",
   "metadata": {},
   "source": [
    "Example 2:\n",
    "```\n",
    "Input: root = [1,null,3]\n",
    "Output: [1,3]\n",
    "```"
   ]
  },
  {
   "cell_type": "markdown",
   "metadata": {},
   "source": [
    "Example 3:\n",
    "```\n",
    "Input: root = []\n",
    "Output: []\n",
    "```"
   ]
  },
  {
   "cell_type": "markdown",
   "metadata": {},
   "source": [
    "Constraints:\n",
    "```\n",
    "The number of nodes in the tree is in the range [0, 100].\n",
    "-100 <= Node.val <= 100\n",
    "```"
   ]
  },
  {
   "cell_type": "code",
   "execution_count": 1,
   "metadata": {},
   "outputs": [],
   "source": [
    "# Definition for a binary tree node.\n",
    "from typing import *\n",
    "from collections import deque\n",
    "\n",
    "class TreeNode:\n",
    "    def __init__(self, val=0, left=None, right=None):\n",
    "        self.val = val\n",
    "        self.left = left\n",
    "        self.right = right\n",
    "\n",
    "class Solution:\n",
    "    # time = O(n)\n",
    "    # space = O(D+H)\n",
    "    # D = tree diameter (to store queue for BFS)\n",
    "    # H = tree height (to store output)\n",
    "    def rightSideView(self, root: Optional[TreeNode]) -> List[int]:\n",
    "        if root is None:\n",
    "            return []\n",
    "        \n",
    "        queue = deque([root,])\n",
    "        rightside = []\n",
    "        \n",
    "        while queue:\n",
    "            level_length = len(queue)\n",
    "\n",
    "            for i in range(level_length):\n",
    "                node = queue.popleft()\n",
    "                # if it's the rightmost element\n",
    "                if i == level_length - 1:\n",
    "                    rightside.append(node.val)\n",
    "                    \n",
    "                # add child nodes in the queue \n",
    "                if node.left:\n",
    "                    queue.append(node.left)\n",
    "                if node.right:\n",
    "                    queue.append(node.right)\n",
    "        \n",
    "        return rightside"
   ]
  },
  {
   "cell_type": "code",
   "execution_count": 2,
   "metadata": {},
   "outputs": [
    {
     "name": "stdout",
     "output_type": "stream",
     "text": [
      "[1, 3, 4]\n"
     ]
    }
   ],
   "source": [
    "  #   1\n",
    "  #  / \\\n",
    "  # 2   3\n",
    "  #  \\   \\\n",
    "  #   5   4\n",
    "\n",
    "root = TreeNode(1)\n",
    "root.left = TreeNode(2)\n",
    "root.right = TreeNode(3)\n",
    "root.left.right = TreeNode(5)\n",
    "root.right.right = TreeNode(4)\n",
    "\n",
    "expected = [1,3,4]\n",
    "output = Solution().rightSideView(root)\n",
    "print(output)\n",
    "\n",
    "assert output == expected"
   ]
  },
  {
   "cell_type": "code",
   "execution_count": 3,
   "metadata": {},
   "outputs": [
    {
     "name": "stdout",
     "output_type": "stream",
     "text": [
      "[1, 3, 4, 6]\n"
     ]
    }
   ],
   "source": [
    "  #   1\n",
    "  #  / \\\n",
    "  # 2   3\n",
    "  #  \\   \\\n",
    "  #   5   4\n",
    "  #  /\n",
    "  # 6\n",
    "\n",
    "root = TreeNode(1)\n",
    "root.left = TreeNode(2)\n",
    "root.right = TreeNode(3)\n",
    "root.left.right = TreeNode(5)\n",
    "root.right.right = TreeNode(4)\n",
    "root.left.right.left = TreeNode(6)\n",
    "\n",
    "expected = [1,3,4,6]\n",
    "output = Solution().rightSideView(root)\n",
    "print(output)\n",
    "\n",
    "assert output == expected"
   ]
  },
  {
   "cell_type": "code",
   "execution_count": 4,
   "metadata": {},
   "outputs": [
    {
     "name": "stdout",
     "output_type": "stream",
     "text": [
      "[1, 3]\n"
     ]
    }
   ],
   "source": [
    "root = TreeNode(1)\n",
    "root.right = TreeNode(3)\n",
    "\n",
    "expected = [1,3]\n",
    "output = Solution().rightSideView(root)\n",
    "print(output)\n",
    "\n",
    "assert output == expected"
   ]
  },
  {
   "cell_type": "code",
   "execution_count": 5,
   "metadata": {},
   "outputs": [
    {
     "name": "stdout",
     "output_type": "stream",
     "text": [
      "[]\n"
     ]
    }
   ],
   "source": [
    "root = None\n",
    "\n",
    "expected = []\n",
    "output = Solution().rightSideView(root)\n",
    "print(output)\n",
    "\n",
    "assert output == expected\n"
   ]
  }
 ],
 "metadata": {
  "kernelspec": {
   "display_name": "Python 3.10.5 64-bit ('3.10.5')",
   "language": "python",
   "name": "python3"
  },
  "language_info": {
   "codemirror_mode": {
    "name": "ipython",
    "version": 3
   },
   "file_extension": ".py",
   "mimetype": "text/x-python",
   "name": "python",
   "nbconvert_exporter": "python",
   "pygments_lexer": "ipython3",
   "version": "3.10.5"
  },
  "orig_nbformat": 4,
  "vscode": {
   "interpreter": {
    "hash": "dc2d830d89733278cb510121746799b806674abe1436eac19497ff768cf27c2d"
   }
  }
 },
 "nbformat": 4,
 "nbformat_minor": 2
}
