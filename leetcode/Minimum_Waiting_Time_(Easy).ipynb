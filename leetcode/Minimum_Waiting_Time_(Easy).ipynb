{
  "nbformat": 4,
  "nbformat_minor": 0,
  "metadata": {
    "colab": {
      "name": "Minimum Waiting Time (Easy).ipynb",
      "provenance": [],
      "collapsed_sections": [],
      "authorship_tag": "ABX9TyMq/YHzvSILTGipLQJ5HAUg",
      "include_colab_link": true
    },
    "kernelspec": {
      "name": "python3",
      "display_name": "Python 3"
    },
    "language_info": {
      "name": "python"
    }
  },
  "cells": [
    {
      "cell_type": "markdown",
      "metadata": {
        "id": "view-in-github",
        "colab_type": "text"
      },
      "source": [
        "<a href=\"https://colab.research.google.com/github/wisarootl/leetcode/blob/main/Minimum_Waiting_Time_(Easy).ipynb\" target=\"_parent\"><img src=\"https://colab.research.google.com/assets/colab-badge.svg\" alt=\"Open In Colab\"/></a>"
      ]
    },
    {
      "cell_type": "markdown",
      "metadata": {
        "id": "64M2HsvZBwtA"
      },
      "source": [
        "# Minimum Waiting Time"
      ]
    },
    {
      "cell_type": "markdown",
      "metadata": {
        "id": "vrs6MmtgBy0x"
      },
      "source": [
        "You're given a non-empty array of positive integers representing the amounts of time that specific queries take to execute. Only one query can be executed at a time, but the queries can be executed in any order.\n",
        "\n",
        "A query's waiting time is defined as the amount of time that it must wait before its execution starts. In other words, if a query is executed second, then its waiting time is the duration of the first query; if a query is executed third, then its waiting time is the sum of the durations of the first two queries.\n",
        "\n",
        "Write a function that returns the minimum amount of total waiting time for all of the queries. For example, if you're given the queries of durations [1, 4, 5], then the total waiting time if the queries were executed in the order of [5, 1, 4] would be (0) + (5) + (5 + 1) = 11. The first query of duration 5 would be executed immediately, so its waiting time would be 0, the second query of duration 1 would have to wait 5 seconds (the duration of the first query) to be executed, and the last query would have to wait the duration of the first two queries before being executed.\n",
        "\n",
        "Note: you're allowed to mutate the input array."
      ]
    },
    {
      "cell_type": "markdown",
      "metadata": {
        "id": "r6VloTSTByth"
      },
      "source": [
        "Sample Input\n",
        "\n",
        "```\n",
        "queries = [3, 2, 1, 2, 6]\n",
        "```\n",
        "\n"
      ]
    },
    {
      "cell_type": "markdown",
      "metadata": {
        "id": "KCMtY9S5B4yr"
      },
      "source": [
        "Sample Output\n",
        "\n",
        "```\n",
        "17\n",
        "```\n",
        "\n"
      ]
    },
    {
      "cell_type": "markdown",
      "metadata": {
        "id": "ejHThmdHB7Ko"
      },
      "source": [
        "## Solution"
      ]
    },
    {
      "cell_type": "code",
      "metadata": {
        "id": "aN-F6JjyBOva"
      },
      "source": [
        "queries = [3, 2, 1, 2, 6]"
      ],
      "execution_count": null,
      "outputs": []
    },
    {
      "cell_type": "code",
      "metadata": {
        "id": "Q7kRrkyADkfP"
      },
      "source": [
        "# O(nlog(n)) Time, O(1) space\n",
        "def minimumWaitingTime(queries):\n",
        "    # Write your code here.\n",
        "    waiting_time = 0\n",
        "    queries.sort()\n",
        "    for idx, duration in enumerate(queries):\n",
        "      multiplier = len(queries) - idx - 1\n",
        "      waiting_time = waiting_time + duration*multiplier\n",
        "    return waiting_time"
      ],
      "execution_count": null,
      "outputs": []
    },
    {
      "cell_type": "code",
      "metadata": {
        "colab": {
          "base_uri": "https://localhost:8080/"
        },
        "id": "R0ixnqPqGJ37",
        "outputId": "1f94428f-f24f-414d-bc4e-bfcce19121f8"
      },
      "source": [
        "print(minimumWaitingTime(queries))"
      ],
      "execution_count": null,
      "outputs": [
        {
          "output_type": "stream",
          "name": "stdout",
          "text": [
            "17\n"
          ]
        }
      ]
    }
  ]
}