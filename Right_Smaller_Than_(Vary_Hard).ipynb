{
  "nbformat": 4,
  "nbformat_minor": 0,
  "metadata": {
    "colab": {
      "name": "Right Smaller Than (Vary Hard).ipynb",
      "provenance": [],
      "authorship_tag": "ABX9TyN2pqyrvui2FyP8BiiQjKwx",
      "include_colab_link": true
    },
    "kernelspec": {
      "name": "python3",
      "display_name": "Python 3"
    },
    "language_info": {
      "name": "python"
    }
  },
  "cells": [
    {
      "cell_type": "markdown",
      "metadata": {
        "id": "view-in-github",
        "colab_type": "text"
      },
      "source": [
        "<a href=\"https://colab.research.google.com/github/tittae/leetcode/blob/main/Right_Smaller_Than_(Vary_Hard).ipynb\" target=\"_parent\"><img src=\"https://colab.research.google.com/assets/colab-badge.svg\" alt=\"Open In Colab\"/></a>"
      ]
    },
    {
      "cell_type": "markdown",
      "metadata": {
        "id": "KWHxBTwKWj5D"
      },
      "source": [
        "Write a function that takes in an array of integers and returns an array of the same length, where each element in the output array corresponds to the number of integers in the input array that are to the right of the relevant index and that are strictly smaller than the integer at that index.\n",
        "\n",
        "In other words, the value at `output[i]` represents the number of integers that are to the right of `i` and that are strictly smaller than `input[i]`."
      ]
    },
    {
      "cell_type": "markdown",
      "metadata": {
        "id": "bVUzk-z7WpXf"
      },
      "source": [
        "Sample Input\n",
        "\n",
        "```\n",
        "array = [8, 5, 11, -1, 3, 4, 2]\n",
        "```\n",
        "\n"
      ]
    },
    {
      "cell_type": "markdown",
      "metadata": {
        "id": "i2zxWM-WWrHM"
      },
      "source": [
        "Sample Output\n",
        "\n",
        "```\n",
        "[5, 4, 4, 0, 1, 1, 0]\n",
        "// There are 5 integers smaller than 8 to the right of it.\n",
        "// There are 4 integers smaller than 5 to the right of it.\n",
        "// There are 4 integers smaller than 11 to the right of it.\n",
        "// Etc..\n",
        "```\n",
        "\n"
      ]
    },
    {
      "cell_type": "markdown",
      "metadata": {
        "id": "QtwVRTeMu6Hp"
      },
      "source": [
        "## Solution (Brute Force)"
      ]
    },
    {
      "cell_type": "code",
      "metadata": {
        "id": "o5riA3yVu_Pz"
      },
      "source": [
        "# Time O(n^2)\n",
        "# Space O(n)\n",
        "def rightSmallerThan(array):\n",
        "\tresults = [0] * len(array)\n",
        "\tfor i in range(len(array) - 1):\n",
        "\t\tcount = 0\n",
        "\t\tfor j in range(i + 1, len(array)):\n",
        "\t\t\tif array[i] > array[j]:\n",
        "\t\t\t\tcount += 1\n",
        "\t\t\t\n",
        "\t\tresults[i] = count\n",
        "\n",
        "\treturn results"
      ],
      "execution_count": 1,
      "outputs": []
    },
    {
      "cell_type": "code",
      "metadata": {
        "id": "q8CXjf3fvKRg"
      },
      "source": [
        "array = [8, 5, 11, -1, 3, 4, 2]"
      ],
      "execution_count": 2,
      "outputs": []
    },
    {
      "cell_type": "code",
      "metadata": {
        "id": "xpuEHr2RvMD3",
        "outputId": "110f743c-dd60-4f97-be5a-d0ff2fa9f48f",
        "colab": {
          "base_uri": "https://localhost:8080/"
        }
      },
      "source": [
        "print(rightSmallerThan(array))"
      ],
      "execution_count": 3,
      "outputs": [
        {
          "output_type": "stream",
          "name": "stdout",
          "text": [
            "[5, 4, 4, 0, 1, 1, 0]\n"
          ]
        }
      ]
    },
    {
      "cell_type": "markdown",
      "metadata": {
        "id": "hii60eyDu2pv"
      },
      "source": [
        "## Solution (BST)"
      ]
    },
    {
      "cell_type": "code",
      "metadata": {
        "id": "FlSQHri6Wgfw"
      },
      "source": [
        "# Time O(nlog(n))\n",
        "# Space O(n)\n",
        "\n",
        "def rightSmallerThan(array):\n",
        "\tif len(array) == 0:\n",
        "\t\treturn []\n",
        "\t\n",
        "\tright_smaller_count = array[:]\n",
        "\tlast_idx = len(array) - 1\n",
        "\tbst = special_bst(array[last_idx])\n",
        "\tright_smaller_count[last_idx] = 0\n",
        "\tfor i in reversed(range(len(array) - 1)):\n",
        "\t\tbst.insert(array[i], i, right_smaller_count)\n",
        "\n",
        "\treturn right_smaller_count\n",
        "\n",
        "class special_bst():\n",
        "\tdef __init__(self, value):\n",
        "\t\tself.value = value\n",
        "\t\tself.left = None\n",
        "\t\tself.right = None\n",
        "\t\tself.left_node_count = 0\n",
        "\n",
        "\tdef insert(self, value, idx, right_smaller_count, smaller_count_at_insertion = 0):\n",
        "\t\tif value < self.value:\n",
        "\t\t\tself.left_node_count += 1\n",
        "\t\t\tif self.left == None:\n",
        "\t\t\t\tself.left = special_bst(value)\n",
        "\t\t\t\tright_smaller_count[idx] = smaller_count_at_insertion\n",
        "\t\t\telse:\t\n",
        "\t\t\t\tself.left.insert(value, idx, right_smaller_count, smaller_count_at_insertion)\n",
        "\n",
        "\t\telse:\n",
        "\t\t\tsmaller_count_at_insertion += self.left_node_count\n",
        "\t\t\tif value > self.value:\n",
        "\t\t\t\tsmaller_count_at_insertion += 1\n",
        "\t\t\tif self.right == None:\n",
        "\t\t\t\tself.right = special_bst(value)\n",
        "\t\t\t\tright_smaller_count[idx] = smaller_count_at_insertion\n",
        "\t\t\telse:\n",
        "\t\t\t\tself.right.insert(value, idx, right_smaller_count, smaller_count_at_insertion)"
      ],
      "execution_count": 4,
      "outputs": []
    },
    {
      "cell_type": "code",
      "metadata": {
        "id": "fl5hLysKuKu9"
      },
      "source": [
        "array = [8, 5, 11, -1, 3, 4, 2]"
      ],
      "execution_count": 5,
      "outputs": []
    },
    {
      "cell_type": "code",
      "metadata": {
        "colab": {
          "base_uri": "https://localhost:8080/"
        },
        "id": "QtyIpQSquMJL",
        "outputId": "c9ac37d5-6b92-4457-d9fb-b802c6c35aeb"
      },
      "source": [
        "print(rightSmallerThan(array))"
      ],
      "execution_count": 6,
      "outputs": [
        {
          "output_type": "stream",
          "name": "stdout",
          "text": [
            "[5, 4, 4, 0, 1, 1, 0]\n"
          ]
        }
      ]
    },
    {
      "cell_type": "code",
      "metadata": {
        "colab": {
          "base_uri": "https://localhost:8080/"
        },
        "id": "Faxj0OKLubJ8",
        "outputId": "575c4ac9-6653-46f7-a47d-7fa4035c84d7"
      },
      "source": [
        "# ---------- Test Case 1 ----------\n",
        "array = [8, 5, 11, -1, 3, 4, 2]\n",
        "print(rightSmallerThan(array))\n",
        "\n",
        "# ---------- Test Case 2 ----------\n",
        "array = []\n",
        "print(rightSmallerThan(array))\n",
        "\n",
        "# ---------- Test Case 3 ----------\n",
        "array = [1]\n",
        "print(rightSmallerThan(array))\n",
        "\n",
        "# ---------- Test Case 4 ----------\n",
        "array = [0, 1, 1, 2, 3, 5, 8, 13]\n",
        "print(rightSmallerThan(array))\n",
        "\n",
        "# ---------- Test Case 5 ----------\n",
        "array = [13, 8, 5, 3, 2, 1, 1, 0]\n",
        "print(rightSmallerThan(array))\n",
        "\n",
        "# ---------- Test Case 6 ----------\n",
        "array = [8, 5, 2, 9, 5, 6, 3]\n",
        "print(rightSmallerThan(array))"
      ],
      "execution_count": 7,
      "outputs": [
        {
          "output_type": "stream",
          "name": "stdout",
          "text": [
            "[5, 4, 4, 0, 1, 1, 0]\n",
            "[]\n",
            "[0]\n",
            "[0, 0, 0, 0, 0, 0, 0, 0]\n",
            "[7, 6, 5, 4, 3, 1, 1, 0]\n",
            "[5, 2, 0, 3, 1, 1, 0]\n"
          ]
        }
      ]
    }
  ]
}