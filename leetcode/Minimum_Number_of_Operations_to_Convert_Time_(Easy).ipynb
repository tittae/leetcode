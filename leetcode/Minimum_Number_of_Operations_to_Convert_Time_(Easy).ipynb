{
  "cells": [
    {
      "cell_type": "markdown",
      "metadata": {
        "colab_type": "text",
        "id": "view-in-github"
      },
      "source": [
        "<a href=\"https://colab.research.google.com/github/wisarootl/leetcode/blob/main/Minimum_Number_of_Operations_to_Convert_Time_(Easy).ipynb\" target=\"_parent\"><img src=\"https://colab.research.google.com/assets/colab-badge.svg\" alt=\"Open In Colab\"/></a>"
      ]
    },
    {
      "cell_type": "markdown",
      "metadata": {
        "id": "erXrnCm_p5ZV"
      },
      "source": [
        "# Minimum Number of Operations to Convert Time"
      ]
    },
    {
      "cell_type": "markdown",
      "metadata": {
        "id": "fR1aXs_tp6Ql"
      },
      "source": [
        "You are given two strings current and correct representing two 24-hour times.\n",
        "\n",
        "24-hour times are formatted as \"HH:MM\", where HH is between 00 and 23, and MM is between 00 and 59. The earliest 24-hour time is 00:00, and the latest is 23:59.\n",
        "\n",
        "In one operation you can increase the time current by 1, 5, 15, or 60 minutes. You can perform this operation any number of times.\n",
        "\n",
        "Return the minimum number of operations needed to convert current to correct."
      ]
    },
    {
      "cell_type": "markdown",
      "metadata": {
        "id": "RyhBMTJrqJU_"
      },
      "source": [
        "Example 1:\n",
        "\n",
        "```\n",
        "Input: current = \"02:30\", correct = \"04:35\"\n",
        "Output: 3\n",
        "Explanation:\n",
        "We can convert current to correct in 3 operations as follows:\n",
        "- Add 60 minutes to current. current becomes \"03:30\".\n",
        "- Add 60 minutes to current. current becomes \"04:30\".\n",
        "- Add 5 minutes to current. current becomes \"04:35\".\n",
        "It can be proven that it is not possible to convert current to correct in fewer than 3 operations.\n",
        "```\n",
        "\n"
      ]
    },
    {
      "cell_type": "markdown",
      "metadata": {
        "id": "jUw0xJNVqMHV"
      },
      "source": [
        "Example 2:\n",
        "\n",
        "```\n",
        "Input: current = \"11:00\", correct = \"11:01\"\n",
        "Output: 1\n",
        "Explanation: We only have to add one minute to current, so the minimum number of operations needed is 1.\n",
        "```\n",
        "\n"
      ]
    },
    {
      "cell_type": "markdown",
      "metadata": {
        "id": "35nQD-tvqPmV"
      },
      "source": [
        "Constraints:\n",
        "\n",
        "```\n",
        "current and correct are in the format \"HH:MM\"\n",
        "current <= correct\n",
        "```\n",
        "\n"
      ]
    },
    {
      "cell_type": "code",
      "execution_count": 1,
      "metadata": {
        "id": "J7bx01KMp2hW"
      },
      "outputs": [],
      "source": [
        "# Time = O(1)\n",
        "# Space = O(1)\n",
        "\n",
        "class Solution:\n",
        "    def convertTime(self, current: str, correct: str) -> int:\n",
        "        current = list(map(int, current.split(':')))\n",
        "        correct = list(map(int, correct.split(':')))\n",
        "        ops_count = 0\n",
        "        if current[1] > correct[1]:\n",
        "            correct[1] += 60\n",
        "            correct[0] -= 1\n",
        "        ops_count = correct[0] - current[0]\n",
        "        \n",
        "        min_diff = correct[1] - current[1]\n",
        "        ops_count += min_diff // 15\n",
        "        min_diff = min_diff % 15\n",
        "        ops_count += min_diff // 5\n",
        "        min_diff = min_diff % 5\n",
        "        ops_count +=  min_diff\n",
        "        \n",
        "        return ops_count"
      ]
    },
    {
      "cell_type": "code",
      "execution_count": 2,
      "metadata": {
        "colab": {
          "base_uri": "https://localhost:8080/"
        },
        "id": "TajQ4IF3qUyQ",
        "outputId": "a15192e9-889a-4a40-ff94-818a384948d1"
      },
      "outputs": [
        {
          "name": "stdout",
          "output_type": "stream",
          "text": [
            "3\n"
          ]
        }
      ],
      "source": [
        "current = \"02:30\"\n",
        "correct = \"04:35\"\n",
        "expected = 3\n",
        "\n",
        "output = Solution().convertTime(current, correct)\n",
        "print(output)\n",
        "assert output == expected"
      ]
    },
    {
      "cell_type": "code",
      "execution_count": 3,
      "metadata": {
        "colab": {
          "base_uri": "https://localhost:8080/"
        },
        "id": "8MuGS3YmqjCd",
        "outputId": "36cd8768-61f9-477c-af15-0f5fdc5f9bf9"
      },
      "outputs": [
        {
          "name": "stdout",
          "output_type": "stream",
          "text": [
            "1\n"
          ]
        }
      ],
      "source": [
        "current = \"11:00\"\n",
        "correct = \"11:01\"\n",
        "expected = 1\n",
        "\n",
        "output = Solution().convertTime(current, correct)\n",
        "print(output)\n",
        "assert output == expected"
      ]
    }
  ],
  "metadata": {
    "colab": {
      "authorship_tag": "ABX9TyOmvBJQxherrTarH6b2xuyF",
      "include_colab_link": true,
      "name": "Minimum Number of Operations to Convert Time (Easy).ipynb",
      "provenance": []
    },
    "kernelspec": {
      "display_name": "Python 3.10.8 64-bit (microsoft store)",
      "language": "python",
      "name": "python3"
    },
    "language_info": {
      "codemirror_mode": {
        "name": "ipython",
        "version": 3
      },
      "file_extension": ".py",
      "mimetype": "text/x-python",
      "name": "python",
      "nbconvert_exporter": "python",
      "pygments_lexer": "ipython3",
      "version": "3.10.8"
    },
    "vscode": {
      "interpreter": {
        "hash": "3822405be9f5fb329f7270cbdcf73e762c62b3f383c5e71390a1a4648678c1cb"
      }
    }
  },
  "nbformat": 4,
  "nbformat_minor": 0
}
