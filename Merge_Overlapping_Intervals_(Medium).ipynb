{
  "nbformat": 4,
  "nbformat_minor": 0,
  "metadata": {
    "colab": {
      "name": "Merge Overlapping Intervals (Medium).ipynb",
      "provenance": [],
      "authorship_tag": "ABX9TyPWj63OvzvyO4ZCiD9DLZ2+",
      "include_colab_link": true
    },
    "kernelspec": {
      "name": "python3",
      "display_name": "Python 3"
    },
    "language_info": {
      "name": "python"
    }
  },
  "cells": [
    {
      "cell_type": "markdown",
      "metadata": {
        "id": "view-in-github",
        "colab_type": "text"
      },
      "source": [
        "<a href=\"https://colab.research.google.com/github/tittae/leetcode/blob/main/Merge_Overlapping_Intervals_(Medium).ipynb\" target=\"_parent\"><img src=\"https://colab.research.google.com/assets/colab-badge.svg\" alt=\"Open In Colab\"/></a>"
      ]
    },
    {
      "cell_type": "markdown",
      "metadata": {
        "id": "qg3mYi2NdOFs"
      },
      "source": [
        "# Merge Overlapping Intervals"
      ]
    },
    {
      "cell_type": "markdown",
      "metadata": {
        "id": "VrogtBLtdPgB"
      },
      "source": [
        "Write a function that takes in a non-empty array of arbitrary intervals, merges any overlapping intervals, and returns the new intervals in no particular order.\n",
        "\n",
        "Each interval `interval` is an array of two integers, with `interval[0]` as the start of the interval and `interval[1]` as the end of the interval.\n",
        "\n",
        "Note that back-to-back intervals aren't considered to be overlapping. For example, `[1, 5]` and `[6, 7]` aren't overlapping; however, `[1, 6]` and `[6, 7]` are indeed overlapping.\n",
        "\n",
        "Also note that the start of any particular interval will always be less than or equal to the end of that interval."
      ]
    },
    {
      "cell_type": "markdown",
      "metadata": {
        "id": "wYhXZJ5OdToD"
      },
      "source": [
        "Sample Input\n",
        "\n",
        "```\n",
        "intervals = [[1, 2], [3, 5], [4, 7], [6, 8], [9, 10]]\n",
        "```\n",
        "\n"
      ]
    },
    {
      "cell_type": "markdown",
      "metadata": {
        "id": "lz03fBsJdVtG"
      },
      "source": [
        "Sample Output\n",
        "\n",
        "```\n",
        "[[1, 2], [3, 8], [9, 10]]\n",
        "// Merge the intervals [3, 5], [4, 7], and [6, 8].\n",
        "// The intervals could be ordered differently.\n",
        "```\n",
        "\n"
      ]
    },
    {
      "cell_type": "code",
      "metadata": {
        "id": "is1trk15dNNy"
      },
      "source": [
        "# Time O(nlog(n))\n",
        "# Space O(n)\n",
        "\n",
        "def mergeOverlappingIntervals(intervals):\n",
        "\tsorted_intervals = sorted(intervals, key=lambda x: x[0])\n",
        "\tresults = []\n",
        "\tcurrent_interval = sorted_intervals[0]\n",
        "\tresults.append(current_interval)\n",
        "\n",
        "\tfor next_interval in sorted_intervals:\n",
        "\t\t_, current_interval_end = current_interval\n",
        "\t\tnext_interval_start, next_interval_end = next_interval\n",
        "\n",
        "\t\tif current_interval_end >= next_interval_start:\n",
        "\t\t\tcurrent_interval[1] = max(current_interval_end, next_interval_end)\n",
        "\t\telse:\n",
        "\t\t\tcurrent_interval = next_interval\n",
        "\t\t\tresults.append(current_interval)\n",
        "\n",
        "\treturn results"
      ],
      "execution_count": 1,
      "outputs": []
    },
    {
      "cell_type": "code",
      "metadata": {
        "colab": {
          "base_uri": "https://localhost:8080/"
        },
        "id": "Olw2fXCQoly6",
        "outputId": "3f914e8c-e84d-4e7b-c81e-7689906b1591"
      },
      "source": [
        "intervals = [[1, 2], [3, 5], [4, 7], [6, 8], [9, 10]]\n",
        "print(mergeOverlappingIntervals(intervals))"
      ],
      "execution_count": 2,
      "outputs": [
        {
          "output_type": "stream",
          "name": "stdout",
          "text": [
            "[[1, 2], [3, 8], [9, 10]]\n"
          ]
        }
      ]
    },
    {
      "cell_type": "code",
      "metadata": {
        "colab": {
          "base_uri": "https://localhost:8080/"
        },
        "id": "80-jGnvfo_e9",
        "outputId": "61b3a93f-4f8c-4ab2-bf8c-88f026ababde"
      },
      "source": [
        "intervals = [[1, 10], [10, 20], [20, 30], [30, 40], [40, 50], [50, 60], [60, 70], [70, 80], [80, 90], [90, 100]]\n",
        "print(mergeOverlappingIntervals(intervals))"
      ],
      "execution_count": 3,
      "outputs": [
        {
          "output_type": "stream",
          "name": "stdout",
          "text": [
            "[[1, 100]]\n"
          ]
        }
      ]
    },
    {
      "cell_type": "code",
      "metadata": {
        "colab": {
          "base_uri": "https://localhost:8080/"
        },
        "id": "198Rn0wlpCQ9",
        "outputId": "a4c2e849-a4e6-436f-8af4-96f295a7f291"
      },
      "source": [
        "intervals = [[100, 105], [1, 104]]\n",
        "print(mergeOverlappingIntervals(intervals))"
      ],
      "execution_count": 4,
      "outputs": [
        {
          "output_type": "stream",
          "name": "stdout",
          "text": [
            "[[1, 105]]\n"
          ]
        }
      ]
    },
    {
      "cell_type": "code",
      "metadata": {
        "colab": {
          "base_uri": "https://localhost:8080/"
        },
        "id": "GUvFIi_CpGt5",
        "outputId": "3a23a878-e346-4a41-c746-7a2d297cc942"
      },
      "source": [
        "intervals = [[-5, -4], [-4, -3], [-3, -2], [-2, -1], [-1, 0]]\n",
        "print(mergeOverlappingIntervals(intervals))"
      ],
      "execution_count": 5,
      "outputs": [
        {
          "output_type": "stream",
          "name": "stdout",
          "text": [
            "[[-5, 0]]\n"
          ]
        }
      ]
    },
    {
      "cell_type": "code",
      "metadata": {
        "colab": {
          "base_uri": "https://localhost:8080/"
        },
        "id": "Fsu5U6uvpJ13",
        "outputId": "d1d709ac-ffe3-4b24-d963-546040ece9b9"
      },
      "source": [
        "intervals = [[0, 0], [0, 0], [0, 0], [0, 0], [0, 0], [0, 0], [0, 1]]\n",
        "print(mergeOverlappingIntervals(intervals))"
      ],
      "execution_count": 6,
      "outputs": [
        {
          "output_type": "stream",
          "name": "stdout",
          "text": [
            "[[0, 1]]\n"
          ]
        }
      ]
    },
    {
      "cell_type": "code",
      "metadata": {
        "colab": {
          "base_uri": "https://localhost:8080/"
        },
        "id": "dpKDlnrUpM4Y",
        "outputId": "2e0ba6ec-4f4f-4379-b1da-12e5a3614055"
      },
      "source": [
        "intervals = [[2, 3], [4, 5], [6, 7], [8, 9], [1, 10]]\n",
        "print(mergeOverlappingIntervals(intervals))"
      ],
      "execution_count": 7,
      "outputs": [
        {
          "output_type": "stream",
          "name": "stdout",
          "text": [
            "[[1, 10]]\n"
          ]
        }
      ]
    }
  ]
}