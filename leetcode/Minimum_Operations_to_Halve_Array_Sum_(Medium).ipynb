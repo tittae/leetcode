{
  "nbformat": 4,
  "nbformat_minor": 0,
  "metadata": {
    "colab": {
      "name": "Minimum Operations to Halve Array Sum (Medium).ipynb",
      "provenance": [],
      "authorship_tag": "ABX9TyMZhpf+HNbjTCn58JZ8oiqq",
      "include_colab_link": true
    },
    "kernelspec": {
      "name": "python3",
      "display_name": "Python 3"
    },
    "language_info": {
      "name": "python"
    }
  },
  "cells": [
    {
      "cell_type": "markdown",
      "metadata": {
        "id": "view-in-github",
        "colab_type": "text"
      },
      "source": [
        "<a href=\"https://colab.research.google.com/github/wisarootl/leetcode/blob/main/Minimum_Operations_to_Halve_Array_Sum_(Medium).ipynb\" target=\"_parent\"><img src=\"https://colab.research.google.com/assets/colab-badge.svg\" alt=\"Open In Colab\"/></a>"
      ]
    },
    {
      "cell_type": "markdown",
      "source": [
        "# Minimum Operations to Halve Array Sum"
      ],
      "metadata": {
        "id": "n8ygxEYdBWOn"
      }
    },
    {
      "cell_type": "markdown",
      "source": [
        "You are given an array nums of positive integers. In one operation, you can choose any number from nums and reduce it to exactly half the number. (Note that you may choose this reduced number in future operations.)\n",
        "\n",
        "Return the minimum number of operations to reduce the sum of nums by at least half."
      ],
      "metadata": {
        "id": "srqRCDcNBUN2"
      }
    },
    {
      "cell_type": "markdown",
      "source": [
        "Example 1:\n",
        "\n",
        "```\n",
        "Input: nums = [5,19,8,1]\n",
        "Output: 3\n",
        "Explanation: The initial sum of nums is equal to 5 + 19 + 8 + 1 = 33.\n",
        "The following is one of the ways to reduce the sum by at least half:\n",
        "Pick the number 19 and reduce it to 9.5.\n",
        "Pick the number 9.5 and reduce it to 4.75.\n",
        "Pick the number 8 and reduce it to 4.\n",
        "The final array is [5, 4.75, 4, 1] with a total sum of 5 + 4.75 + 4 + 1 = 14.75. \n",
        "The sum of nums has been reduced by 33 - 14.75 = 18.25, which is at least half of the initial sum, 18.25 >= 33/2 = 16.5.\n",
        "Overall, 3 operations were used so we return 3.\n",
        "It can be shown that we cannot reduce the sum by at least half in less than 3 operations.\n",
        "```\n",
        "\n"
      ],
      "metadata": {
        "id": "rohXRkPoBXwP"
      }
    },
    {
      "cell_type": "markdown",
      "source": [
        "Example 2:\n",
        "\n",
        "```\n",
        "Input: nums = [3,8,20]\n",
        "Output: 3\n",
        "Explanation: The initial sum of nums is equal to 3 + 8 + 20 = 31.\n",
        "The following is one of the ways to reduce the sum by at least half:\n",
        "Pick the number 20 and reduce it to 10.\n",
        "Pick the number 10 and reduce it to 5.\n",
        "Pick the number 3 and reduce it to 1.5.\n",
        "The final array is [1.5, 8, 5] with a total sum of 1.5 + 8 + 5 = 14.5. \n",
        "The sum of nums has been reduced by 31 - 14.5 = 16.5, which is at least half of the initial sum, 16.5 >= 31/2 = 16.5.\n",
        "Overall, 3 operations were used so we return 3.\n",
        "It can be shown that we cannot reduce the sum by at least half in less than 3 operations.\n",
        "```\n",
        "\n"
      ],
      "metadata": {
        "id": "W8o3gXCmBae3"
      }
    },
    {
      "cell_type": "markdown",
      "source": [
        "Constraints:\n",
        "\n",
        "```\n",
        "1 <= nums.length <= 105\n",
        "1 <= nums[i] <= 107\n",
        "```\n",
        "\n"
      ],
      "metadata": {
        "id": "MjviR6wLBdpD"
      }
    },
    {
      "cell_type": "markdown",
      "source": [
        "# Solution"
      ],
      "metadata": {
        "id": "P-fWldHDB1p1"
      }
    },
    {
      "cell_type": "markdown",
      "source": [
        "- apply priority queue (max heap)"
      ],
      "metadata": {
        "id": "MNmCg2FUB3Tt"
      }
    },
    {
      "cell_type": "code",
      "execution_count": 1,
      "metadata": {
        "id": "0wUWt5MIBOdA"
      },
      "outputs": [],
      "source": [
        "import heapq\n",
        "\n",
        "# Time O(N log N)\n",
        "# Space O(1)\n",
        "\n",
        "class Solution:\n",
        "    def halveArray(self, nums):\n",
        "        heapq._heapify_max(nums)\n",
        "        target = sum(nums) / 2\n",
        "        cum_decreasing = 0\n",
        "        operation_count = 0\n",
        "        \n",
        "        while cum_decreasing < target:\n",
        "            operation_count += 1\n",
        "            \n",
        "            # heap pop\n",
        "            max_nums = heapq._heappop_max(nums)\n",
        "            \n",
        "            cum_decreasing += max_nums / 2\n",
        "            \n",
        "            # heap push\n",
        "            nums.append(max_nums / 2)\n",
        "            heapq._siftdown_max(nums, 0, len(nums) - 1)\n",
        "        \n",
        "        return operation_count"
      ]
    },
    {
      "cell_type": "code",
      "source": [
        "nums = [5,19,8,1]\n",
        "expected = 3\n",
        "\n",
        "output = Solution().halveArray(nums)\n",
        "print(output)\n",
        "assert output == expected"
      ],
      "metadata": {
        "colab": {
          "base_uri": "https://localhost:8080/"
        },
        "id": "0w1e3wotBRAr",
        "outputId": "334362d7-85d0-4425-b8e6-60f9b8d2c0ec"
      },
      "execution_count": 2,
      "outputs": [
        {
          "output_type": "stream",
          "name": "stdout",
          "text": [
            "3\n"
          ]
        }
      ]
    },
    {
      "cell_type": "code",
      "source": [
        "nums = [3,8,20]\n",
        "expected = 3\n",
        "\n",
        "output = Solution().halveArray(nums)\n",
        "print(output)\n",
        "assert output == expected"
      ],
      "metadata": {
        "colab": {
          "base_uri": "https://localhost:8080/"
        },
        "id": "TEUoyumyBtXs",
        "outputId": "5e6cf25a-9799-47e7-f6ac-6a385e72b1f6"
      },
      "execution_count": 3,
      "outputs": [
        {
          "output_type": "stream",
          "name": "stdout",
          "text": [
            "3\n"
          ]
        }
      ]
    }
  ]
}