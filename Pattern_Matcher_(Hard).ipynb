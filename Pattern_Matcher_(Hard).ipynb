{
  "nbformat": 4,
  "nbformat_minor": 0,
  "metadata": {
    "colab": {
      "name": "Pattern Matcher (Hard).ipynb",
      "provenance": [],
      "authorship_tag": "ABX9TyMAsR0DeYkqCg9d7YUsp0aX",
      "include_colab_link": true
    },
    "kernelspec": {
      "name": "python3",
      "display_name": "Python 3"
    },
    "language_info": {
      "name": "python"
    }
  },
  "cells": [
    {
      "cell_type": "markdown",
      "metadata": {
        "id": "view-in-github",
        "colab_type": "text"
      },
      "source": [
        "<a href=\"https://colab.research.google.com/github/wisarootl/leetcode/blob/main/Pattern_Matcher_(Hard).ipynb\" target=\"_parent\"><img src=\"https://colab.research.google.com/assets/colab-badge.svg\" alt=\"Open In Colab\"/></a>"
      ]
    },
    {
      "cell_type": "markdown",
      "source": [
        "# Pattern Matcher"
      ],
      "metadata": {
        "id": "E6v4RZmzwEyA"
      }
    },
    {
      "cell_type": "markdown",
      "source": [
        "You're given two non-empty strings. The first one is a pattern consisting of only `\"x\"`s and / or `\"y\"`s; the other one is a normal string of alphanumeric characters. Write a function that checks whether the normal string matches the pattern.\n",
        "\n",
        "A string `S0` is said to match a pattern if replacing all `\"x\"`s in the pattern with some non-empty substring `S1` of `S0` and replacing all `\"y\"`s in the pattern with some non-empty substring `S2` of `S0` yields the same string `S0`.\n",
        "\n",
        "If the input string doesn't match the input pattern, the function should return an empty array; otherwise, it should return an array holding the strings `S1` and `S2` that represent `\"x\"` and `\"y\"` in the normal string, in that order. If the pattern doesn't contain any `\"x\"`s or `\"y\"`s, the respective letter should be represented by an empty string in the final array that you return.\n",
        "\n",
        "You can assume that there will never be more than one pair of strings `S1` and `S2` that appropriately represent `\"x\"` and `\"y\"` in the normal string."
      ],
      "metadata": {
        "id": "7kinRkixwF2V"
      }
    },
    {
      "cell_type": "markdown",
      "source": [
        "Sample Input\n",
        "\n",
        "```\n",
        "pattern = \"xxyxxy\"\n",
        "string = \"gogopowerrangergogopowerranger\"\n",
        "```\n",
        "\n"
      ],
      "metadata": {
        "id": "T2_aYOWfwYDN"
      }
    },
    {
      "cell_type": "markdown",
      "source": [
        "Sample Output\n",
        "\n",
        "```\n",
        "[\"go\", \"powerranger\"]\n",
        "```\n",
        "\n"
      ],
      "metadata": {
        "id": "6AaeCj3GwbBP"
      }
    },
    {
      "cell_type": "code",
      "execution_count": 1,
      "metadata": {
        "id": "U-jB3nzewCpC"
      },
      "outputs": [],
      "source": [
        "# Time O(n^2 + m)\n",
        "# Space O(n + m)\n",
        "\n",
        "def patternMatcher(pattern, string):\n",
        "\tif len(pattern) > len(string):\n",
        "\t\treturn []\n",
        "\tnew_pattern = get_new_pattern(pattern)\n",
        "\tdid_switch = new_pattern[0] != pattern[0]\n",
        "\tcounts = {'x':0, 'y':0}\n",
        "\tfirst_y_position = get_count_and_first_y_position(new_pattern, counts)\n",
        "\t\n",
        "\tif counts['y'] != 0:\n",
        "\t\tfor len_x in range(1, len(string)):\n",
        "\t\t\tlen_y = (len(string) - len_x * counts['x']) / counts['y']\n",
        "\t\t\tif len_y <= 0 or len_y % 1 != 0:\n",
        "\t\t\t\tcontinue\n",
        "\t\t\t# len_y = 13.0 ==> 13\n",
        "\t\t\tlen_y = int(len_y)\n",
        "\t\t\ty_idx = first_y_position * len_x\n",
        "\t\t\tx = string[:len_x]\n",
        "\t\t\ty = string [y_idx:y_idx + len_y]\n",
        "\t\t\tcombined_string = map(lambda char: x if char == 'x' else y, new_pattern)\n",
        "\t\t\tif string == ''.join(combined_string):\n",
        "\t\t\t\treturn [x, y] if not did_switch else [y, x]\n",
        "\telse:\n",
        "\t\tlen_x = len(string) / counts['x']\n",
        "\t\tif len_x % 1 == 0:\n",
        "\t\t\tlen_x = int(len_x)\n",
        "\t\t\tx = string[:len_x]\n",
        "\t\t\tcombined_string = map(lambda char: x, new_pattern)\n",
        "\t\t\tif string == ''.join(combined_string):\n",
        "\t\t\t\treturn [x, ''] if not did_switch else ['', x]\n",
        "\treturn []\n",
        "\n",
        "def get_count_and_first_y_position(new_pattern, counts):\n",
        "\tfirst_y_position = None\n",
        "\tfor i, char in enumerate(new_pattern):\n",
        "\t\tcounts[char] += 1\n",
        "\t\tif char == 'y' and first_y_position == None:\n",
        "\t\t\tfirst_y_position = i\n",
        "\treturn first_y_position\n",
        "\n",
        "def get_new_pattern(pattern):\n",
        "\tpattern_letters = list(pattern)\n",
        "\tif pattern[0] == 'x':\n",
        "\t\treturn pattern_letters\n",
        "\telse:\n",
        "\t\treturn list(map(lambda char: 'x' if char == 'y' else 'y', pattern))\n",
        "\t"
      ]
    },
    {
      "cell_type": "code",
      "source": [
        "pattern = \"xxyxxy\"\n",
        "string = \"gogopowerrangergogopowerranger\"\n",
        "patternMatcher(pattern, string)"
      ],
      "metadata": {
        "colab": {
          "base_uri": "https://localhost:8080/"
        },
        "id": "jyuHYYR1wfcP",
        "outputId": "81633e41-df1a-47f4-be1d-02829482b6b5"
      },
      "execution_count": 2,
      "outputs": [
        {
          "output_type": "execute_result",
          "data": {
            "text/plain": [
              "['go', 'powerranger']"
            ]
          },
          "metadata": {},
          "execution_count": 2
        }
      ]
    }
  ]
}