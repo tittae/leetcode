{
 "cells": [
  {
   "cell_type": "markdown",
   "metadata": {},
   "source": [
    "# Course Schedule III"
   ]
  },
  {
   "cell_type": "markdown",
   "metadata": {},
   "source": [
    "There are n different online courses numbered from `1` to `n`. You are given an array `courses` where `courses[i] = [durationi, lastDayi]` indicate that the ith course should be taken continuously for `durationi` days and must be finished before or on `lastDayi`.\n",
    "\n",
    "You will start on the `1st` day and you cannot take two or more courses simultaneously.\n",
    "\n",
    "Return the maximum number of courses that you can take."
   ]
  },
  {
   "cell_type": "markdown",
   "metadata": {},
   "source": [
    "Example 1:\n",
    "\n",
    "```\n",
    "Input: courses = [[100,200],[200,1300],[1000,1250],[2000,3200]]\n",
    "Output: 3\n",
    "Explanation: \n",
    "There are totally 4 courses, but you can take 3 courses at most:\n",
    "First, take the 1st course, it costs 100 days so you will finish it on the 100th day, and ready to take the next course on the 101st day.\n",
    "Second, take the 3rd course, it costs 1000 days so you will finish it on the 1100th day, and ready to take the next course on the 1101st day. \n",
    "Third, take the 2nd course, it costs 200 days so you will finish it on the 1300th day. \n",
    "The 4th course cannot be taken now, since you will finish it on the 3300th day, which exceeds the closed date.\n",
    "```"
   ]
  },
  {
   "cell_type": "markdown",
   "metadata": {},
   "source": [
    "Example 2:\n",
    "\n",
    "```\n",
    "Input: courses = [[1,2]]\n",
    "Output: 1\n",
    "```"
   ]
  },
  {
   "cell_type": "markdown",
   "metadata": {},
   "source": [
    "Example 3:\n",
    "\n",
    "```\n",
    "Input: courses = [[3,2],[4,3]]\n",
    "Output: 0\n",
    "```"
   ]
  },
  {
   "cell_type": "markdown",
   "metadata": {},
   "source": [
    "Constraints:\n",
    "\n",
    "```\n",
    "1 <= courses.length <= 104\n",
    "1 <= durationi, lastDayi <= 104\n",
    "```"
   ]
  },
  {
   "cell_type": "code",
   "execution_count": 1,
   "metadata": {},
   "outputs": [],
   "source": [
    "import heapq\n",
    "from typing import *\n",
    "\n",
    "class Solution:\n",
    "    # time = O(nlog n)\n",
    "    # space = O(n)\n",
    "    def scheduleCourse(self, courses: List[List[int]]) -> int:\n",
    "        courses.sort(key = lambda x: x[1])\n",
    "        maxHeap = []\n",
    "        time = 0\n",
    "\n",
    "        for duration,lastDay in courses:\n",
    "            if duration<=lastDay:\n",
    "                if time+duration<=lastDay:\n",
    "                    time+=duration\n",
    "                    heapq.heappush(maxHeap,-duration)\n",
    "                elif -maxHeap[0]>duration:\n",
    "                        time+=duration+heapq.heappop(maxHeap)\n",
    "                        heapq.heappush(maxHeap,-duration)\n",
    "        return len(maxHeap)"
   ]
  },
  {
   "cell_type": "code",
   "execution_count": 2,
   "metadata": {},
   "outputs": [
    {
     "name": "stdout",
     "output_type": "stream",
     "text": [
      "3\n"
     ]
    }
   ],
   "source": [
    "courses = [[100,200],[200,1300],[1000,1250],[2000,3200]]\n",
    "expected = 3\n",
    "\n",
    "output = Solution().scheduleCourse(courses)\n",
    "print(output)\n",
    "assert output == expected"
   ]
  },
  {
   "cell_type": "code",
   "execution_count": 3,
   "metadata": {},
   "outputs": [
    {
     "name": "stdout",
     "output_type": "stream",
     "text": [
      "1\n"
     ]
    }
   ],
   "source": [
    "courses = [[1,2]]\n",
    "expected = 1\n",
    "\n",
    "output = Solution().scheduleCourse(courses)\n",
    "print(output)\n",
    "assert output == expected"
   ]
  },
  {
   "cell_type": "code",
   "execution_count": 4,
   "metadata": {},
   "outputs": [
    {
     "name": "stdout",
     "output_type": "stream",
     "text": [
      "0\n"
     ]
    }
   ],
   "source": [
    "courses = [[3,2],[4,3]]\n",
    "expected = 0\n",
    "\n",
    "output = Solution().scheduleCourse(courses)\n",
    "print(output)\n",
    "assert output == expected"
   ]
  }
 ],
 "metadata": {
  "kernelspec": {
   "display_name": "Python 3.10.5 64-bit (windows store)",
   "language": "python",
   "name": "python3"
  },
  "language_info": {
   "codemirror_mode": {
    "name": "ipython",
    "version": 3
   },
   "file_extension": ".py",
   "mimetype": "text/x-python",
   "name": "python",
   "nbconvert_exporter": "python",
   "pygments_lexer": "ipython3",
   "version": "3.10.5"
  },
  "orig_nbformat": 4,
  "vscode": {
   "interpreter": {
    "hash": "3822405be9f5fb329f7270cbdcf73e762c62b3f383c5e71390a1a4648678c1cb"
   }
  }
 },
 "nbformat": 4,
 "nbformat_minor": 2
}
