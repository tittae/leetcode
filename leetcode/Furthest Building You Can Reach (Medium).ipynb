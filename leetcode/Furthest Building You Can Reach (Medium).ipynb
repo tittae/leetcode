{
 "cells": [
  {
   "cell_type": "markdown",
   "metadata": {},
   "source": [
    "# Furthest Building You Can Reach"
   ]
  },
  {
   "cell_type": "markdown",
   "metadata": {},
   "source": [
    "You are given an integer array `heights` representing the heights of buildings, some bricks, and some ladders.\n",
    "\n",
    "You start your journey from building `0` and move to the next building by possibly using bricks or ladders.\n",
    "\n",
    "While moving from building `i` to building `i+1` (0-indexed),\n",
    "\n",
    "- If the current building's height is greater than or equal to the next building's height, you do not need a ladder or bricks.\n",
    "- If the current building's height is less than the next building's height, you can either use one ladder or (`h[i+1] - h[i]`) bricks.\n",
    "\n",
    "Return the furthest building index (0-indexed) you can reach if you use the given ladders and bricks optimally."
   ]
  },
  {
   "cell_type": "markdown",
   "metadata": {},
   "source": [
    "Example 1:\n",
    "\n",
    "```\n",
    "Input: heights = [4,2,7,6,9,14,12], bricks = 5, ladders = 1\n",
    "Output: 4\n",
    "Explanation: Starting at building 0, you can follow these steps:\n",
    "- Go to building 1 without using ladders nor bricks since 4 >= 2.\n",
    "- Go to building 2 using 5 bricks. You must use either bricks or ladders because 2 < 7.\n",
    "- Go to building 3 without using ladders nor bricks since 7 >= 6.\n",
    "- Go to building 4 using your only ladder. You must use either bricks or ladders because 6 < 9.\n",
    "It is impossible to go beyond building 4 because you do not have any more bricks or ladders.\n",
    "```"
   ]
  },
  {
   "cell_type": "markdown",
   "metadata": {},
   "source": [
    "Example 2:\n",
    "\n",
    "```\n",
    "Input: heights = [4,12,2,7,3,18,20,3,19], bricks = 10, ladders = 2\n",
    "Output: 7\n",
    "```"
   ]
  },
  {
   "cell_type": "markdown",
   "metadata": {},
   "source": [
    "Example 3:\n",
    "\n",
    "```\n",
    "Input: heights = [14,3,19,3], bricks = 17, ladders = 0\n",
    "Output: 3\n",
    "```"
   ]
  },
  {
   "cell_type": "markdown",
   "metadata": {},
   "source": [
    "Constraints:\n",
    "\n",
    "```\n",
    "1 <= heights.length <= 105\n",
    "1 <= heights[i] <= 106\n",
    "0 <= bricks <= 109\n",
    "0 <= ladders <= heights.length\n",
    "```"
   ]
  },
  {
   "cell_type": "code",
   "execution_count": 1,
   "metadata": {},
   "outputs": [],
   "source": [
    "import heapq\n",
    "\n",
    "class Solution:\n",
    "    # time = O(n log n)\n",
    "    # space = O(n)\n",
    "    def furthestBuilding(self, heights, bricks, ladders):\n",
    "        idx = 0\n",
    "        bricks_heap = []\n",
    "        while idx < len(heights) - 1:\n",
    "            diff = heights[idx + 1] - heights[idx]\n",
    "            if diff <= 0:\n",
    "                pass\n",
    "            elif diff <= bricks:\n",
    "                bricks -= diff\n",
    "                heapq.heappush(bricks_heap, -diff)\n",
    "            elif ladders > 0:\n",
    "                # if decide to use ladder\n",
    "                # we use ladder for the past move that use max bricks\n",
    "                # and use ladder for this move instead\n",
    "                heapq.heappush(bricks_heap, -diff)\n",
    "                max_bricks = -heapq.heappop(bricks_heap)\n",
    "                ladders -= 1\n",
    "                bricks += max_bricks - diff\n",
    "            else:\n",
    "                break\n",
    "            \n",
    "            idx += 1\n",
    "          \n",
    "        return idx"
   ]
  },
  {
   "cell_type": "code",
   "execution_count": 2,
   "metadata": {},
   "outputs": [
    {
     "name": "stdout",
     "output_type": "stream",
     "text": [
      "4\n"
     ]
    }
   ],
   "source": [
    "heights = [4,2,7,6,9,14,12]\n",
    "bricks = 5\n",
    "ladders = 1\n",
    "\n",
    "expected = 4\n",
    "output = Solution().furthestBuilding(heights, bricks, ladders)\n",
    "print(output)\n",
    "assert output == expected"
   ]
  },
  {
   "cell_type": "code",
   "execution_count": 3,
   "metadata": {},
   "outputs": [
    {
     "name": "stdout",
     "output_type": "stream",
     "text": [
      "7\n"
     ]
    }
   ],
   "source": [
    "heights = [4,12,2,7,3,18,20,3,19]\n",
    "bricks = 10\n",
    "ladders = 2\n",
    "\n",
    "expected = 7\n",
    "output = Solution().furthestBuilding(heights, bricks, ladders)\n",
    "print(output)\n",
    "assert output == expected"
   ]
  },
  {
   "cell_type": "code",
   "execution_count": 4,
   "metadata": {},
   "outputs": [
    {
     "name": "stdout",
     "output_type": "stream",
     "text": [
      "3\n"
     ]
    }
   ],
   "source": [
    "heights = [14,3,19,3]\n",
    "bricks = 17\n",
    "ladders = 0\n",
    "\n",
    "expected = 3\n",
    "output = Solution().furthestBuilding(heights, bricks, ladders)\n",
    "print(output)\n",
    "assert output == expected"
   ]
  }
 ],
 "metadata": {
  "kernelspec": {
   "display_name": "Python 3",
   "language": "python",
   "name": "python3"
  },
  "language_info": {
   "codemirror_mode": {
    "name": "ipython",
    "version": 3
   },
   "file_extension": ".py",
   "mimetype": "text/x-python",
   "name": "python",
   "nbconvert_exporter": "python",
   "pygments_lexer": "ipython3",
   "version": "3.10.5"
  },
  "orig_nbformat": 4,
  "vscode": {
   "interpreter": {
    "hash": "992441bd4bc11ab83c63537935ea198062f55180155eaba570b8d7c82e005e8c"
   }
  }
 },
 "nbformat": 4,
 "nbformat_minor": 2
}
