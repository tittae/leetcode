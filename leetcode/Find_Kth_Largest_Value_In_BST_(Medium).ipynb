{
  "cells": [
    {
      "cell_type": "markdown",
      "metadata": {
        "colab_type": "text",
        "id": "view-in-github"
      },
      "source": [
        "<a href=\"https://colab.research.google.com/github/wisarootl/leetcode/blob/main/Find_Kth_Largest_Value_In_BST_(Medium).ipynb\" target=\"_parent\"><img src=\"https://colab.research.google.com/assets/colab-badge.svg\" alt=\"Open In Colab\"/></a>"
      ]
    },
    {
      "cell_type": "markdown",
      "metadata": {
        "id": "nh2EAZKLqZkl"
      },
      "source": [
        "# Find Kth Largest Value In BST"
      ]
    },
    {
      "cell_type": "markdown",
      "metadata": {
        "id": "WpU29fVdqbeY"
      },
      "source": [
        "Write a function that takes in a Binary Search Tree (BST) and a positive integer `k` and returns the kth largest integer contained in the BST.\n",
        "\n",
        "You can assume that there will only be integer values in the BST and that `k` is less than or equal to the number of nodes in the tree.\n",
        "\n",
        "Also, for the purpose of this question, duplicate integers will be treated as distinct values. In other words, the second largest value in a BST containing values `{5, 7, 7}` will be `7`—not `5`.\n",
        "\n",
        "Each `BST` node has an integer `value`, a `left` child node, and a `right` child node. A node is said to be a valid `BST` node if and only if it satisfies the BST property: its `value` is strictly greater than the values of every node to its left; its `value` is less than or equal to the values of every node to its right; and its children nodes are either valid `BST` nodes themselves or `None` / `null`."
      ]
    },
    {
      "cell_type": "markdown",
      "metadata": {
        "id": "xC_lYXuSqw-f"
      },
      "source": [
        "Sample Input\n",
        "\n",
        "```\n",
        "tree =   15\n",
        "       /     \\\n",
        "      5      20\n",
        "    /   \\   /   \\\n",
        "   2     5 17   22\n",
        " /   \\         \n",
        "1     3       \n",
        "k = 3\n",
        "```\n",
        "\n"
      ]
    },
    {
      "cell_type": "markdown",
      "metadata": {
        "id": "qHuh3quyqzgA"
      },
      "source": [
        "Sample Output\n",
        "\n",
        "```\n",
        "17\n",
        "```\n",
        "\n"
      ]
    },
    {
      "cell_type": "code",
      "execution_count": 1,
      "metadata": {
        "id": "z2z806StjPXy"
      },
      "outputs": [],
      "source": [
        "# This is an input class. Do not edit.\n",
        "class BST:\n",
        "\tdef __init__(self, value, left=None, right=None):\n",
        "\t\tself.value = value\n",
        "\t\tself.left = left\n",
        "\t\tself.right = right\n",
        "\n",
        "# Time O(n)\n",
        "# Space O(n)\n",
        "def findKthLargestValueInBst(tree, k):\n",
        "\ttraversal_order = []\n",
        "\treversed_inorder_traversal(tree, traversal_order)\n",
        "\treturn traversal_order[-k]\n",
        "\n",
        "def reversed_inorder_traversal(tree, traversal_order):\n",
        "\tif tree == None:\n",
        "\t\treturn\n",
        "\treversed_inorder_traversal(tree.left, traversal_order)\n",
        "\ttraversal_order.append(tree.value)\n",
        "\treversed_inorder_traversal(tree.right, traversal_order)"
      ]
    },
    {
      "cell_type": "code",
      "execution_count": 2,
      "metadata": {
        "id": "-dtJ7bMEkZ3d"
      },
      "outputs": [],
      "source": [
        "# This is an input class. Do not edit.\n",
        "class BST:\n",
        "  def __init__(self, value, left=None, right=None):\n",
        "    self.value = value\n",
        "    self.left = left\n",
        "    self.right = right\n",
        "\n",
        "# Time O(max(h, k))\n",
        "# Space O(h)\n",
        "def findKthLargestValueInBst(tree, k):\n",
        "  tree_info = {'visited_count':0, 'k_largest_value':None}\n",
        "  reversed_inorder_traversal(tree, k, tree_info)\n",
        "  return tree_info['k_largest_value']\n",
        "\n",
        "def reversed_inorder_traversal(tree, k, tree_info):\n",
        "  if tree == None:\n",
        "    return\n",
        "  reversed_inorder_traversal(tree.right, k, tree_info)\n",
        "\n",
        "  tree_info['visited_count'] += 1\n",
        "  if tree_info['visited_count'] == k:\n",
        "    tree_info['k_largest_value'] = tree.value\n",
        "\n",
        "  reversed_inorder_traversal(tree.left, k, tree_info)"
      ]
    },
    {
      "cell_type": "code",
      "execution_count": 3,
      "metadata": {
        "id": "gSgRF-fCkclf"
      },
      "outputs": [],
      "source": [
        "tree = BST(15)\n",
        "tree.left = BST(5)\n",
        "tree.right = BST(20)\n",
        "tree.left.left = BST(2)\n",
        "tree.left.right = BST(5)\n",
        "tree.right.left = BST(17)\n",
        "tree.right.right = BST(22)\n",
        "tree.left.left.left = BST(1)\n",
        "tree.left.left.right = BST(3)"
      ]
    },
    {
      "cell_type": "code",
      "execution_count": 4,
      "metadata": {
        "colab": {
          "base_uri": "https://localhost:8080/"
        },
        "id": "LIecjaT8k4Fi",
        "outputId": "146fc563-d88b-45c4-b851-9696aa3fe1e2"
      },
      "outputs": [
        {
          "name": "stdout",
          "output_type": "stream",
          "text": [
            "17\n"
          ]
        }
      ],
      "source": [
        "print(findKthLargestValueInBst(tree, 3))"
      ]
    }
  ],
  "metadata": {
    "colab": {
      "authorship_tag": "ABX9TyN7mBafPhHjSMmU1DgNBO3s",
      "collapsed_sections": [],
      "include_colab_link": true,
      "name": "Find Kth Largest Value In BST (Medium).ipynb",
      "provenance": []
    },
    "kernelspec": {
      "display_name": "Python 3.10.5 64-bit ('3.10.5')",
      "language": "python",
      "name": "python3"
    },
    "language_info": {
      "codemirror_mode": {
        "name": "ipython",
        "version": 3
      },
      "file_extension": ".py",
      "mimetype": "text/x-python",
      "name": "python",
      "nbconvert_exporter": "python",
      "pygments_lexer": "ipython3",
      "version": "3.10.5"
    },
    "vscode": {
      "interpreter": {
        "hash": "992441bd4bc11ab83c63537935ea198062f55180155eaba570b8d7c82e005e8c"
      }
    }
  },
  "nbformat": 4,
  "nbformat_minor": 0
}
