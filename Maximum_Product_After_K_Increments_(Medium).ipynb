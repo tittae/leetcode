{
  "nbformat": 4,
  "nbformat_minor": 0,
  "metadata": {
    "colab": {
      "name": "Maximum Product After K Increments (Medium).ipynb",
      "provenance": [],
      "authorship_tag": "ABX9TyM1m4sgQ9smTrBrYbYta9yg",
      "include_colab_link": true
    },
    "kernelspec": {
      "name": "python3",
      "display_name": "Python 3"
    },
    "language_info": {
      "name": "python"
    }
  },
  "cells": [
    {
      "cell_type": "markdown",
      "metadata": {
        "id": "view-in-github",
        "colab_type": "text"
      },
      "source": [
        "<a href=\"https://colab.research.google.com/github/wisarootl/leetcode/blob/main/Maximum_Product_After_K_Increments_(Medium).ipynb\" target=\"_parent\"><img src=\"https://colab.research.google.com/assets/colab-badge.svg\" alt=\"Open In Colab\"/></a>"
      ]
    },
    {
      "cell_type": "markdown",
      "source": [
        "# Maximum Product After K Increments"
      ],
      "metadata": {
        "id": "IyI4V_vvn1Sd"
      }
    },
    {
      "cell_type": "markdown",
      "source": [
        "You are given an array of non-negative integers nums and an integer k. In one operation, you may choose any element from nums and increment it by 1.\n",
        "\n",
        "Return the maximum product of nums after at most k operations. Since the answer may be very large, return it modulo 109 + 7. Note that you should maximize the product before taking the modulo. \n",
        "\n",
        " "
      ],
      "metadata": {
        "id": "uUMaxfajn3ai"
      }
    },
    {
      "cell_type": "markdown",
      "source": [
        "Example 1:\n",
        "\n",
        "```\n",
        "\n",
        "Input: nums = [0,4], k = 5\n",
        "Output: 20\n",
        "Explanation: Increment the first number 5 times.\n",
        "Now nums = [5, 4], with a product of 5 * 4 = 20.\n",
        "It can be shown that 20 is maximum product possible, so we return 20.\n",
        "Note that there may be other ways to increment nums to have the maximum product.\n",
        "```\n",
        "\n"
      ],
      "metadata": {
        "id": "a9llbRs9n4ej"
      }
    },
    {
      "cell_type": "markdown",
      "source": [
        "Example 2:\n",
        "\n",
        "```\n",
        "Input: nums = [6,3,3,2], k = 2\n",
        "Output: 216\n",
        "Explanation: Increment the second number 1 time and increment the fourth number 1 time.\n",
        "Now nums = [6, 4, 3, 3], with a product of 6 * 4 * 3 * 3 = 216.\n",
        "It can be shown that 216 is maximum product possible, so we return 216.\n",
        "Note that there may be other ways to increment nums to have the maximum product.\n",
        "```\n",
        "\n"
      ],
      "metadata": {
        "id": "pQQ7TK92n6xo"
      }
    },
    {
      "cell_type": "markdown",
      "source": [
        "Constraints:\n",
        "\n",
        "```\n",
        "1 <= nums.length, k <= 105\n",
        "0 <= nums[i] <= 106\n",
        "```\n",
        "\n"
      ],
      "metadata": {
        "id": "Z7u2wIiln9ao"
      }
    },
    {
      "cell_type": "code",
      "execution_count": 1,
      "metadata": {
        "id": "onppa-vDnzhz"
      },
      "outputs": [],
      "source": [
        "# Time = O(n log n)\n",
        "# Sapce = O(n)\n",
        "\n",
        "import heapq\n",
        "\n",
        "class Solution:\n",
        "    def maximumProduct(self, nums, k):\n",
        "        heapq.heapify(nums)\n",
        "        \n",
        "        while k > 0:\n",
        "            current = heapq.heappop(nums)\n",
        "            heapq.heappush(nums, current + 1)\n",
        "            k -= 1\n",
        "            \n",
        "        result = 1\n",
        "        \n",
        "        while nums:\n",
        "            x = heapq.heappop(nums)\n",
        "            result = result * x  % (10**9 + 7)\n",
        "        \n",
        "        return result"
      ]
    },
    {
      "cell_type": "code",
      "source": [
        "nums = [0,4]\n",
        "k = 5\n",
        "expected = 20\n",
        "\n",
        "output = Solution().maximumProduct(nums, k)\n",
        "print(output)\n",
        "assert output == expected"
      ],
      "metadata": {
        "colab": {
          "base_uri": "https://localhost:8080/"
        },
        "id": "MxRyqPhgoLx2",
        "outputId": "73b02f9a-1efd-4ca3-8eb7-e96cad0abb97"
      },
      "execution_count": 2,
      "outputs": [
        {
          "output_type": "stream",
          "name": "stdout",
          "text": [
            "20\n"
          ]
        }
      ]
    },
    {
      "cell_type": "code",
      "source": [
        "nums = [6,3,3,2]\n",
        "k = 2\n",
        "expected = 216\n",
        "\n",
        "output = Solution().maximumProduct(nums, k)\n",
        "print(output)\n",
        "assert output == expected"
      ],
      "metadata": {
        "colab": {
          "base_uri": "https://localhost:8080/"
        },
        "id": "ESsWsxeSoZpe",
        "outputId": "1ab6408d-f231-4207-adfb-39afdba143c9"
      },
      "execution_count": 3,
      "outputs": [
        {
          "output_type": "stream",
          "name": "stdout",
          "text": [
            "216\n"
          ]
        }
      ]
    }
  ]
}