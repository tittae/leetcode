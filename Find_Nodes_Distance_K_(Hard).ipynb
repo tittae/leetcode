{
  "nbformat": 4,
  "nbformat_minor": 0,
  "metadata": {
    "colab": {
      "name": "Find Nodes Distance K (Hard).ipynb",
      "provenance": [],
      "collapsed_sections": [],
      "authorship_tag": "ABX9TyPCGlheEzTJgs9ldzQ4tBv3",
      "include_colab_link": true
    },
    "kernelspec": {
      "name": "python3",
      "display_name": "Python 3"
    },
    "language_info": {
      "name": "python"
    }
  },
  "cells": [
    {
      "cell_type": "markdown",
      "metadata": {
        "id": "view-in-github",
        "colab_type": "text"
      },
      "source": [
        "<a href=\"https://colab.research.google.com/github/wisarootl/leetcode/blob/main/Find_Nodes_Distance_K_(Hard).ipynb\" target=\"_parent\"><img src=\"https://colab.research.google.com/assets/colab-badge.svg\" alt=\"Open In Colab\"/></a>"
      ]
    },
    {
      "cell_type": "markdown",
      "source": [
        "# Find Nodes Distance K"
      ],
      "metadata": {
        "id": "krgIF6Oy5w4J"
      }
    },
    {
      "cell_type": "markdown",
      "source": [
        "You're given the root node of a Binary Tree, a `target` value of a node that's contained in the tree, and a positive integer `k`. Write a function that returns the values of all the nodes that are exactly distance `k` from the node with `target` value.\n",
        "\n",
        "The distance between two nodes is defined as the number of edges that must be traversed to go from one node to the other. For example, the distance between a node and its immediate left or right child is `1`. The same holds in reverse: the distance between a node and its parent is `1`. In a tree of three nodes where the root node has a left and right child, the left and right children are distance `2` from each other.\n",
        "\n",
        "Each `BinaryTree` node has an integer `value`, a `left` child node, and a `right` child node. Children nodes can either be `BinaryTree` nodes themselves or `None` / `null`.\n",
        "\n",
        "Note that all `BinaryTree` node values will be unique, and your function can return the output values in any order."
      ],
      "metadata": {
        "id": "91_lwHWW5x0F"
      }
    },
    {
      "cell_type": "markdown",
      "source": [
        "Sample Input\n",
        "\n",
        "```\n",
        "tree = 1\n",
        "     /   \\\n",
        "    2     3\n",
        "  /   \\     \\\n",
        " 4     5     6\n",
        "           /   \\\n",
        "          7     8\n",
        "target = 3\n",
        "k = 2\n",
        "```\n",
        "\n"
      ],
      "metadata": {
        "id": "U4jKpB4m6Ec4"
      }
    },
    {
      "cell_type": "markdown",
      "source": [
        "Sample Output\n",
        "\n",
        "```\n",
        "[2, 7, 8] // These values could be ordered differently.\n",
        "```\n",
        "\n"
      ],
      "metadata": {
        "id": "bE3mzRqO6GiI"
      }
    },
    {
      "cell_type": "markdown",
      "source": [
        "# Solution 1"
      ],
      "metadata": {
        "id": "d5Wtblgr6K2X"
      }
    },
    {
      "cell_type": "markdown",
      "source": [
        "- DFS"
      ],
      "metadata": {
        "id": "InJ6u1Hu6Mjm"
      }
    },
    {
      "cell_type": "code",
      "source": [
        "# This is an input class. Do not edit.\n",
        "class BinaryTree:\n",
        "\tdef __init__(self, value, left=None, right=None):\n",
        "\t\tself.value = value\n",
        "\t\tself.left = left\n",
        "\t\tself.right = right\n",
        "\n",
        "\n",
        "# Time O(n)\n",
        "# Space O(n)\n",
        "def findNodesDistanceK(tree, target, k):\n",
        "\tnodes_distance_k = []\n",
        "\tfind_distance_from_node_to_target(tree, target, k, nodes_distance_k)\n",
        "\treturn nodes_distance_k\n",
        "\n",
        "def find_distance_from_node_to_target(node, target, k, nodes_distance_k):\n",
        "\tif node == None:\n",
        "\t\treturn None\n",
        "\telif node.value == target:\n",
        "\t\tadd_subtree_nodes_at_distance_k(node, 0, k, nodes_distance_k)\n",
        "\t\treturn 1\n",
        "\n",
        "\tleft_distance = find_distance_from_node_to_target(node.left, target, k, nodes_distance_k)\n",
        "\tright_distance = find_distance_from_node_to_target(node.right, target, k, nodes_distance_k)\n",
        "\n",
        "\tif left_distance == k or right_distance == k:\n",
        "\t\tnodes_distance_k.append(node.value)\n",
        "\n",
        "\tif left_distance != None:\n",
        "\t\tadd_subtree_nodes_at_distance_k(node.right, left_distance + 1, k, nodes_distance_k)\n",
        "\t\treturn left_distance + 1\n",
        "\n",
        "\tif right_distance != None:\n",
        "\t\tadd_subtree_nodes_at_distance_k(node.left, right_distance + 1, k, nodes_distance_k)\n",
        "\t\treturn right_distance + 1\n",
        "\n",
        "\treturn None\n",
        "\n",
        "def add_subtree_nodes_at_distance_k(node, distance, k, nodes_distance_k):\n",
        "\tif node == None:\n",
        "\t\treturn None\n",
        "\tif distance == k:\n",
        "\t\tnodes_distance_k.append(node.value)\n",
        "\telse:\n",
        "\t\tadd_subtree_nodes_at_distance_k(node.left, distance + 1, k, nodes_distance_k)\n",
        "\t\tadd_subtree_nodes_at_distance_k(node.right, distance + 1, k, nodes_distance_k)"
      ],
      "metadata": {
        "id": "F0E__O8HihLw"
      },
      "execution_count": 1,
      "outputs": []
    },
    {
      "cell_type": "code",
      "source": [
        "tree = BinaryTree(1)\n",
        "tree.left = BinaryTree(2)\n",
        "tree.right = BinaryTree(3)\n",
        "tree.left.left = BinaryTree(4)\n",
        "tree.left.right = BinaryTree(5)\n",
        "tree.right.right = BinaryTree(6)\n",
        "tree.right.right.left = BinaryTree(7)\n",
        "tree.right.right.right = BinaryTree(8)\n",
        "\n",
        "target = 3\n",
        "k = 2"
      ],
      "metadata": {
        "id": "aUoGpRnch-Zg"
      },
      "execution_count": 2,
      "outputs": []
    },
    {
      "cell_type": "code",
      "source": [
        "findNodesDistanceK(tree, target, k)"
      ],
      "metadata": {
        "colab": {
          "base_uri": "https://localhost:8080/"
        },
        "id": "oLIPiX2ImU4_",
        "outputId": "36d0946c-3ede-447b-8605-264f8ecbb3a2"
      },
      "execution_count": 3,
      "outputs": [
        {
          "output_type": "execute_result",
          "data": {
            "text/plain": [
              "[7, 8, 2]"
            ]
          },
          "metadata": {},
          "execution_count": 3
        }
      ]
    },
    {
      "cell_type": "code",
      "source": [
        "tree = BinaryTree(1)\n",
        "tree.left = BinaryTree(2)\n",
        "tree.right = BinaryTree(3)\n",
        "tree.left.left = BinaryTree(4)\n",
        "tree.right.left  = BinaryTree(5)\n",
        "tree.right.right = BinaryTree(6)\n",
        "tree.right.right.right = BinaryTree(7)\n",
        "tree.right.right.right.right = BinaryTree(8)\n",
        "\n",
        "target = 8\n",
        "k = 6\n",
        "\n",
        "findNodesDistanceK(tree, target, k)"
      ],
      "metadata": {
        "colab": {
          "base_uri": "https://localhost:8080/"
        },
        "id": "eqzjOhU_o0-k",
        "outputId": "c9ca27c3-ab06-4d5f-da4c-6d41f55ae982"
      },
      "execution_count": 4,
      "outputs": [
        {
          "output_type": "execute_result",
          "data": {
            "text/plain": [
              "[4]"
            ]
          },
          "metadata": {},
          "execution_count": 4
        }
      ]
    },
    {
      "cell_type": "markdown",
      "source": [
        "# Solution 2"
      ],
      "metadata": {
        "id": "yq8XYXyF21Ya"
      }
    },
    {
      "cell_type": "markdown",
      "source": [
        "- Identify node to parent map\n",
        "- BFS"
      ],
      "metadata": {
        "id": "BvN37f7-24hm"
      }
    },
    {
      "cell_type": "code",
      "source": [
        "# This is an input class. Do not edit.\n",
        "class BinaryTree:\n",
        "\tdef __init__(self, value, left=None, right=None):\n",
        "\t\tself.value = value\n",
        "\t\tself.left = left\n",
        "\t\tself.right = right\n",
        "\n",
        "# Time O(n)\n",
        "# Space O(n)\n",
        "def findNodesDistanceK(tree, target, k):\n",
        "\tnodes_to_parents = {}\n",
        "\tpopulate_nodes_to_parents(tree, nodes_to_parents)\n",
        "\ttarget_node = get_node_from_value(target, nodes_to_parents, tree)\n",
        "\treturn BFS_for_node_distance_k(target_node, nodes_to_parents, k)\n",
        "\n",
        "def BFS_for_node_distance_k(target_node, nodes_to_parents, k):\n",
        "\t# init fringe\n",
        "\tfringe = [[target_node, 0]]\n",
        "\tseen = set()\n",
        "\tnodes_distance_k = []\n",
        "\twhile True:\n",
        "\t\t# is fringe empty?\n",
        "\t\tif len(fringe) == 0:\n",
        "\t\t\treturn nodes_distance_k\n",
        "\n",
        "\t\t# pop front\n",
        "\t\t# We could use the `deque` object instead of a standard Python list if we wanted to optimize our `.pop(0) operations.`\n",
        "\t\tfront = fringe.pop(0)\n",
        "\t\tfront_node, front_distance = front\n",
        "\t\tseen.add(front_node.value)\n",
        "\n",
        "\t\t# is goal\n",
        "\t\tif front_distance == k:\n",
        "\t\t\tnodes_distance_k.append(front_node.value)\n",
        "\n",
        "\t\t# gen / insert successor\n",
        "\t\tif front_distance + 1 > k:\n",
        "\t\t\tcontinue\n",
        "\t\tneightbor_nodes = [front_node.left, front_node.right, nodes_to_parents[front_node.value]]\n",
        "\t\tfor node in neightbor_nodes:\n",
        "\t\t\tif node == None or node.value in seen:\n",
        "\t\t\t\tcontinue\n",
        "\t\t\tfringe.append([node, front_distance + 1])\n",
        "\n",
        "def get_node_from_value(target, nodes_to_parents, tree):\n",
        "\tif tree.value == target:\n",
        "\t\treturn tree\n",
        "\n",
        "\tparent_node = nodes_to_parents[target]\n",
        "\tif parent_node.left != None and parent_node.left.value == target:\n",
        "\t\treturn parent_node.left\n",
        "\treturn parent_node.right\n",
        "\n",
        "def populate_nodes_to_parents(node, nodes_to_parents, parent = None):\n",
        "\tif node == None:\n",
        "\t\treturn\n",
        "\tnodes_to_parents[node.value] = parent\n",
        "\tpopulate_nodes_to_parents(node.left, nodes_to_parents, node)\n",
        "\tpopulate_nodes_to_parents(node.right, nodes_to_parents, node)"
      ],
      "metadata": {
        "id": "Idlmj0tl227Y"
      },
      "execution_count": 5,
      "outputs": []
    },
    {
      "cell_type": "code",
      "source": [
        "tree = BinaryTree(1)\n",
        "tree.left = BinaryTree(2)\n",
        "tree.right = BinaryTree(3)\n",
        "tree.left.left = BinaryTree(4)\n",
        "tree.left.right = BinaryTree(5)\n",
        "tree.right.right = BinaryTree(6)\n",
        "tree.right.right.left = BinaryTree(7)\n",
        "tree.right.right.right = BinaryTree(8)\n",
        "\n",
        "target = 3\n",
        "k = 2\n",
        "\n",
        "findNodesDistanceK(tree, target, k)"
      ],
      "metadata": {
        "colab": {
          "base_uri": "https://localhost:8080/"
        },
        "id": "txkUzJmq2_a-",
        "outputId": "4238361f-44dc-459b-e5e4-1c3c85a49d76"
      },
      "execution_count": 6,
      "outputs": [
        {
          "output_type": "execute_result",
          "data": {
            "text/plain": [
              "[7, 8, 2]"
            ]
          },
          "metadata": {},
          "execution_count": 6
        }
      ]
    },
    {
      "cell_type": "code",
      "source": [
        "tree = BinaryTree(1)\n",
        "tree.left = BinaryTree(2)\n",
        "tree.right = BinaryTree(3)\n",
        "tree.left.left = BinaryTree(4)\n",
        "tree.right.left  = BinaryTree(5)\n",
        "tree.right.right = BinaryTree(6)\n",
        "tree.right.right.right = BinaryTree(7)\n",
        "tree.right.right.right.right = BinaryTree(8)\n",
        "\n",
        "target = 8\n",
        "k = 6\n",
        "\n",
        "findNodesDistanceK(tree, target, k)"
      ],
      "metadata": {
        "colab": {
          "base_uri": "https://localhost:8080/"
        },
        "id": "h9-TlcAX3Cgx",
        "outputId": "6d204ffe-0f3e-45d1-80d2-bb7f4b37f21f"
      },
      "execution_count": 7,
      "outputs": [
        {
          "output_type": "execute_result",
          "data": {
            "text/plain": [
              "[4]"
            ]
          },
          "metadata": {},
          "execution_count": 7
        }
      ]
    }
  ]
}