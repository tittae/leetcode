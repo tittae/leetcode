{
  "nbformat": 4,
  "nbformat_minor": 0,
  "metadata": {
    "colab": {
      "name": "Merge Sorted Arrays (Very Hard).ipynb",
      "provenance": [],
      "authorship_tag": "ABX9TyPg1JJB5dFgTiMrHLfXr5Gl",
      "include_colab_link": true
    },
    "kernelspec": {
      "name": "python3",
      "display_name": "Python 3"
    },
    "language_info": {
      "name": "python"
    }
  },
  "cells": [
    {
      "cell_type": "markdown",
      "metadata": {
        "id": "view-in-github",
        "colab_type": "text"
      },
      "source": [
        "<a href=\"https://colab.research.google.com/github/wisarootl/leetcode/blob/main/Merge_Sorted_Arrays_(Very_Hard).ipynb\" target=\"_parent\"><img src=\"https://colab.research.google.com/assets/colab-badge.svg\" alt=\"Open In Colab\"/></a>"
      ]
    },
    {
      "cell_type": "markdown",
      "source": [
        "# Merge Sorted Arrays"
      ],
      "metadata": {
        "id": "4BtldnpHYkk9"
      }
    },
    {
      "cell_type": "markdown",
      "source": [
        "Write a function that takes in a non-empty list of non-empty sorted arrays of integers and returns a merged list of all of those arrays.\n",
        "\n",
        "The integers in the merged list should be in sorted order."
      ],
      "metadata": {
        "id": "eT6xt89I3zJ0"
      }
    },
    {
      "cell_type": "markdown",
      "source": [
        "Sample Input\n",
        "\n",
        "```\n",
        "arrays = [\n",
        "  [1, 5, 9, 21],\n",
        "  [-1, 0],\n",
        "  [-124, 81, 121],\n",
        "  [3, 6, 12, 20, 150],\n",
        "]\n",
        "```\n",
        "\n"
      ],
      "metadata": {
        "id": "DM3sEJuu30jO"
      }
    },
    {
      "cell_type": "markdown",
      "source": [
        "Sample Output\n",
        "\n",
        "```\n",
        "[-124, -1, 0, 1, 3, 5, 6, 9, 12, 20, 21, 81, 121, 150]\n",
        "```\n",
        "\n"
      ],
      "metadata": {
        "id": "ZM1VhDKa33AP"
      }
    },
    {
      "cell_type": "markdown",
      "source": [
        "# Solution 1"
      ],
      "metadata": {
        "id": "amNz4ju735_U"
      }
    },
    {
      "cell_type": "code",
      "source": [
        "# Time = O(nk + nlog(n))\n",
        "# Space = O(n)\n",
        "# k = number of array\n",
        "# n = total element in all array\n",
        "def mergeSortedArrays(arrays):\n",
        "\tmerged_array = [value for array in arrays for value in array]\n",
        "\treturn sorted(merged_array)"
      ],
      "metadata": {
        "id": "Z33Kx6KkYm2q"
      },
      "execution_count": null,
      "outputs": []
    },
    {
      "cell_type": "code",
      "execution_count": null,
      "metadata": {
        "id": "FoNlQT6TYhbR"
      },
      "outputs": [],
      "source": [
        "arrays = [\n",
        "  [1, 5, 9, 21],\n",
        "  [-1, 0],\n",
        "  [-124, 81, 121],\n",
        "  [3, 6, 12, 20, 150],\n",
        "]"
      ]
    },
    {
      "cell_type": "code",
      "source": [
        "mergeSortedArrays(arrays)"
      ],
      "metadata": {
        "colab": {
          "base_uri": "https://localhost:8080/"
        },
        "id": "MGG2-_o5YrF6",
        "outputId": "4a2ce680-109a-4507-d2dd-cd5cb1b8f71b"
      },
      "execution_count": null,
      "outputs": [
        {
          "output_type": "execute_result",
          "data": {
            "text/plain": [
              "[-124, -1, 0, 1, 3, 5, 6, 9, 12, 20, 21, 81, 121, 150]"
            ]
          },
          "metadata": {},
          "execution_count": 3
        }
      ]
    },
    {
      "cell_type": "markdown",
      "source": [
        "# Solution 2"
      ],
      "metadata": {
        "id": "SrRAKiUK387E"
      }
    },
    {
      "cell_type": "code",
      "source": [
        "# Time O(nk)\n",
        "# Space = O(nk + k) = O(n) since k is always < n\n",
        "# k = number of array\n",
        "# n = total element in all array\n",
        "def mergeSortedArrays(arrays):\n",
        "  pointers = [0 for _ in arrays]\n",
        "  sorted_list = []\n",
        "  while True:\n",
        "    min_value = float('inf')\n",
        "\n",
        "    for array_idx in range(len(arrays)):\n",
        "      if pointers[array_idx] == len(arrays[array_idx]):\n",
        "        continue\n",
        "      min_value_of_array = arrays[array_idx][pointers[array_idx]]\n",
        "      if min_value_of_array < min_value:\n",
        "        min_value = min_value_of_array\n",
        "        array_idx_of_min_value = array_idx\n",
        "\n",
        "    if min_value == float('inf'):\n",
        "      break\n",
        "    sorted_list.append(min_value)\n",
        "    pointers[array_idx_of_min_value] += 1\n",
        "  return sorted_list"
      ],
      "metadata": {
        "id": "GESNSytXhguo"
      },
      "execution_count": null,
      "outputs": []
    },
    {
      "cell_type": "code",
      "source": [
        "mergeSortedArrays(arrays)"
      ],
      "metadata": {
        "colab": {
          "base_uri": "https://localhost:8080/"
        },
        "id": "hAPCQILqhl6r",
        "outputId": "6cc588f7-35ea-435c-98f2-c2b37bb92ddc"
      },
      "execution_count": null,
      "outputs": [
        {
          "output_type": "execute_result",
          "data": {
            "text/plain": [
              "[-124, -1, 0, 1, 3, 5, 6, 9, 12, 20, 21, 81, 121, 150]"
            ]
          },
          "metadata": {},
          "execution_count": 5
        }
      ]
    },
    {
      "cell_type": "markdown",
      "source": [
        "# Solution 3 : min heap"
      ],
      "metadata": {
        "id": "7NrLpT4A4AQa"
      }
    },
    {
      "cell_type": "code",
      "source": [
        "# Do not edit the class below except for the buildHeap,\n",
        "# siftDown, siftUp, peek, remove, and insert methods.\n",
        "# Feel free to add new properties and methods to the class.\n",
        "class MinHeap:\n",
        "\tdef __init__(self, array):\n",
        "\t\tself.heap = self.buildHeap(array)\n",
        "\t\n",
        "\t# time = O(n), space = O(1)\n",
        "\tdef buildHeap(self, array):\n",
        "\t\tlast_parent_idx = (len(array) - 2) // 2\n",
        "\t\tfor idx in reversed(range(last_parent_idx + 1)):\n",
        "\t\t\tself.siftDown(idx, array)\n",
        "\t\treturn array\n",
        "\t\n",
        "\t# time = O(log n), space = O(1)\n",
        "\tdef siftDown(self, idx, heap):\n",
        "\t\tchild_one_idx = (2 * idx) + 1\n",
        "\t\tchild_two_idx = (2 * idx) + 2\n",
        "\t\tend_idx = len(heap) - 1\n",
        "\t\twhile child_one_idx <= end_idx:\n",
        "\t\t\tif child_two_idx <= end_idx and heap[child_two_idx]['num'] < heap[child_one_idx]['num']:\n",
        "\t\t\t\tidx_to_swap = child_two_idx\n",
        "\t\t\telse: \n",
        "\t\t\t\tidx_to_swap = child_one_idx\n",
        "\n",
        "\t\t\tif heap[idx_to_swap]['num'] < heap[idx]['num']:\n",
        "\t\t\t\tself.swap(idx, idx_to_swap, heap)\n",
        "\t\t\t\tidx = idx_to_swap\n",
        "\t\t\t\tchild_one_idx = (2 * idx) + 1\n",
        "\t\t\t\tchild_two_idx = (2 * idx) + 2\n",
        "\t\t\telse:\n",
        "\t\t\t\treturn\n",
        "\t\n",
        "\t# time = O(log n), space = O(1)\n",
        "\tdef siftUp(self, idx, heap):\n",
        "\t\tparent_idx = (idx - 1) // 2\n",
        "\t\twhile heap[idx]['num'] < heap[parent_idx]['num'] and idx > 0:\n",
        "\t\t\tself.swap(idx, parent_idx, heap)\n",
        "\t\t\tidx = parent_idx\n",
        "\t\t\tparent_idx = (idx - 1) // 2\n",
        "\n",
        "\t# time = O(1), space = O(1)\n",
        "\tdef peek(self):\n",
        "\t\treturn self.heap[0]\n",
        "\n",
        "\t# time = O(log n), space = O(1)\n",
        "\tdef remove(self, idx = 0):\n",
        "\t\tself.swap(idx, -1, self.heap)\n",
        "\t\tremoved_value = self.heap.pop()\n",
        "\t\tself.siftDown(idx, self.heap)\n",
        "\t\treturn removed_value\n",
        "\n",
        "\t# time = O(log n), space = O(1)\n",
        "\tdef insert(self, value):\n",
        "\t\tself.heap.append(value)\n",
        "\t\tself.siftUp(len(self.heap) - 1, self.heap)\n",
        "\t\n",
        "\tdef swap(self, i, j, heap):\n",
        "\t\theap[i], heap[j] = heap[j], heap[i]"
      ],
      "metadata": {
        "id": "quhi-m_0qtk9"
      },
      "execution_count": null,
      "outputs": []
    },
    {
      "cell_type": "code",
      "source": [
        "# Time O(nlog(k) + k) = O(nlog(k))\n",
        "# Space = O(n + k) = O(n) since k is always < n\n",
        "# k = number of array\n",
        "# n = total element in all array\n",
        "def mergeSortedArrays(arrays):\n",
        "  sorted_list = []\n",
        "  heap = MinHeap([])\n",
        "\n",
        "  for array_idx in range(len(arrays)):\n",
        "    heap.insert({'array_idx': array_idx, 'element_idx':0, 'num':arrays[array_idx][0]})\n",
        "\n",
        "  while heap.heap != []:\n",
        "    element = heap.remove()\n",
        "    array_idx, element_idx, num = element['array_idx'], element['element_idx'], element['num']\n",
        "    sorted_list.append(num)\n",
        "    if element_idx == len(arrays[array_idx]) - 1:\n",
        "      continue\n",
        "    \n",
        "    heap.insert({'array_idx': array_idx, 'element_idx':element_idx+1, 'num':arrays[array_idx][element_idx+1]})\n",
        "\n",
        "  return sorted_list"
      ],
      "metadata": {
        "id": "HQ_fhsyEqx1p"
      },
      "execution_count": null,
      "outputs": []
    },
    {
      "cell_type": "code",
      "source": [
        "mergeSortedArrays(arrays)"
      ],
      "metadata": {
        "colab": {
          "base_uri": "https://localhost:8080/"
        },
        "id": "zMaDwW873VT8",
        "outputId": "8e6d6c73-66a4-4525-cd6a-3ee22bc5c645"
      },
      "execution_count": null,
      "outputs": [
        {
          "output_type": "execute_result",
          "data": {
            "text/plain": [
              "[-124, -1, 0, 1, 3, 5, 6, 9, 12, 20, 21, 81, 121, 150]"
            ]
          },
          "metadata": {},
          "execution_count": 8
        }
      ]
    }
  ]
}