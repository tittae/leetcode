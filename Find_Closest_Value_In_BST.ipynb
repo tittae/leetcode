{
  "nbformat": 4,
  "nbformat_minor": 0,
  "metadata": {
    "colab": {
      "name": "Find Closest Value In BST.ipynb",
      "provenance": [],
      "collapsed_sections": [],
      "authorship_tag": "ABX9TyO4ET26YDoFHELzCvzR5KOY",
      "include_colab_link": true
    },
    "kernelspec": {
      "name": "python3",
      "display_name": "Python 3"
    },
    "language_info": {
      "name": "python"
    }
  },
  "cells": [
    {
      "cell_type": "markdown",
      "metadata": {
        "id": "view-in-github",
        "colab_type": "text"
      },
      "source": [
        "<a href=\"https://colab.research.google.com/github/tittae/leetcode/blob/main/Find_Closest_Value_In_BST.ipynb\" target=\"_parent\"><img src=\"https://colab.research.google.com/assets/colab-badge.svg\" alt=\"Open In Colab\"/></a>"
      ]
    },
    {
      "cell_type": "markdown",
      "metadata": {
        "id": "M39M1c8Kxfzg"
      },
      "source": [
        "# Find Closest Value In BST"
      ]
    },
    {
      "cell_type": "markdown",
      "metadata": {
        "id": "KX4LZkJKxgLh"
      },
      "source": [
        "Write a function that takes in a Binary Search Tree (BST) and a target integer value and returns the closest value to that target value contained in the BST.\n",
        "\n",
        "You can assume that there will only be one closest value.\n",
        "\n",
        "Each BST node has an integer value, a left child node, and a right child node. A node is said to be a valid BST node if and only if it satisfies the BST property: its value is strictly greater than the values of every node to its left; its value is less than or equal to the values of every node to its right; and its children nodes are either valid BST nodes themselves or None / null."
      ]
    },
    {
      "cell_type": "markdown",
      "metadata": {
        "id": "gvqwE7N4xjwy"
      },
      "source": [
        "Sample Input\n",
        "```\n",
        "tree =   10\n",
        "       /     \\\n",
        "      5      15\n",
        "    /   \\   /   \\\n",
        "   2     5 13   22\n",
        " /           \\\n",
        "1            14\n",
        "target = 12\n",
        "```\n",
        "\n"
      ]
    },
    {
      "cell_type": "markdown",
      "metadata": {
        "id": "UQLUvHN_xnvm"
      },
      "source": [
        "Sample Output\n",
        "```\n",
        "13\n",
        "```\n",
        "\n"
      ]
    },
    {
      "cell_type": "markdown",
      "metadata": {
        "id": "5tkx7qovELGU"
      },
      "source": [
        "# BST Class"
      ]
    },
    {
      "cell_type": "markdown",
      "metadata": {
        "id": "fW4o9ddxENKn"
      },
      "source": [
        "BST class from https://github.com/tittae/leetcode/blob/main/BST_Construction.ipynb"
      ]
    },
    {
      "cell_type": "code",
      "metadata": {
        "id": "9CRzbVVdxdHw"
      },
      "source": [
        "class BST:\n",
        "\tdef __init__(self, value):\n",
        "\t\tself.value = value\n",
        "\t\tself.left = None\n",
        "\t\tself.right = None\n",
        "\t\n",
        "\t# avg: O(log(n)) time and O(1) space\n",
        "\t# worst: O(n) time and O(1) space\n",
        "\tdef insert(self, value):\n",
        "\t\tcurrent_node = self\n",
        "\t\t\n",
        "\t\twhile True:\n",
        "\t\t\tif value < current_node.value:\n",
        "\t\t\t\tif current_node.left == None:\n",
        "\t\t\t\t\tcurrent_node.left = BST(value)\n",
        "\t\t\t\t\tbreak\n",
        "\t\t\t\telse:\n",
        "\t\t\t\t\tcurrent_node = current_node.left\n",
        "\t\t\telse:\n",
        "\t\t\t\tif current_node.right == None:\n",
        "\t\t\t\t\tcurrent_node.right = BST(value)\n",
        "\t\t\t\t\tbreak\n",
        "\t\t\t\telse:\n",
        "\t\t\t\t\tcurrent_node = current_node.right\n",
        "\t\t# return self\n",
        "\t\n",
        "\t# avg: O(log(n)) time and O(1) space\n",
        "\t# worst: O(n) time and O(1) space\n",
        "\tdef contains(self, value):\n",
        "\t\tcurrent_node = self\n",
        "\t\t\n",
        "\t\twhile current_node is not None:\n",
        "\t\t\tif value == current_node.value:\n",
        "\t\t\t\treturn True\n",
        "\n",
        "\t\t\telif value < current_node.value:\n",
        "\t\t\t\tcurrent_node = current_node.left\n",
        "\n",
        "\t\t\telse:\n",
        "\t\t\t\tcurrent_node = current_node.right\n",
        "\t\treturn False\n",
        "\t\n",
        "\t# avg: O(log(n)) time and O(1) space\n",
        "\t# worst: O(n) time and O(1) space\n",
        "\tdef remove(self, value, parent_node = None):\n",
        "\t\tcurrent_node = self\n",
        "\t\twhile current_node is not None:\n",
        "\t\t\tif  value < current_node.value:\n",
        "\t\t\t\tparent_node = current_node\n",
        "\t\t\t\tcurrent_node = current_node.left\n",
        "\t\t\telif  value > current_node.value:\n",
        "\t\t\t\tparent_node = current_node\n",
        "\t\t\t\tcurrent_node = current_node.right\n",
        "\t\t\t\n",
        "\t\t\t# found node to remove\n",
        "      # complex if-else with multiple events\n",
        "      # take a look on visualization below the cell\n",
        "\t\t\telse:\n",
        "\t\t\t\t# w/ 2 child nodes\n",
        "\t\t\t\tif current_node.left is not None and current_node.right is not None:\n",
        "          # do the same for all sub cases (inc. w/o & w/ parent)\n",
        "\t\t\t\t\tcurrent_node.value = current_node.right.get_min_value()\n",
        "\t\t\t\t\tcurrent_node.right.remove(current_node.value, current_node)\n",
        "\n",
        "\t\t\t\t# w/ 1 child node\n",
        "\t\t\t\telif current_node.left is not None or current_node.right is not None:\n",
        "\t\t\t\t\t# w/o parent node\n",
        "\t\t\t\t\tif parent_node == None:\n",
        "\t\t\t\t\t\tif current_node.left is not None:\n",
        "\t\t\t\t\t\t\tcurrent_node.value = current_node.left.value\n",
        "\t\t\t\t\t\t\tcurrent_node.right = current_node.left.right\n",
        "\t\t\t\t\t\t\tcurrent_node.left =  current_node.left.left\n",
        "\n",
        "\t\t\t\t\t\telif current_node.right is not None:\n",
        "\t\t\t\t\t\t\tcurrent_node.value = current_node.right.value\n",
        "\t\t\t\t\t\t\tcurrent_node.left =  current_node.right.left\n",
        "\t\t\t\t\t\t\tcurrent_node.right = current_node.right.right\n",
        "\n",
        "\t\t\t\t\t# w/ parent node\n",
        "\t\t\t\t\telse:\n",
        "\t\t\t\t\t\t# alternate parent node\n",
        "\t\t\t\t\t\tif parent_node.left == current_node:\n",
        "\t\t\t\t\t\t\tparent_node.left = current_node.left if current_node.left is not None else current_node.right\n",
        "\t\t\t\t\t\telif parent_node.right == current_node:\n",
        "\t\t\t\t\t\t\tparent_node.right = current_node.right if current_node.right is not None else current_node.left\n",
        "\n",
        "\t\t\t\t# w/o child node\n",
        "\t\t\t\telse:\n",
        "\t\t\t\t\t# w/o parent node\n",
        "\t\t\t\t\tif parent_node == None:\n",
        "\t\t\t\t\t\t# Do nothing\n",
        "\t\t\t\t\t\tpass\n",
        "\t\t\t\t\t# w/ parent node\n",
        "\t\t\t\t\telse:\n",
        "\t\t\t\t\t\t# alternate parent node\n",
        "\t\t\t\t\t\tif parent_node.left == current_node:\n",
        "\t\t\t\t\t\t\tparent_node.left = None\n",
        "\t\t\t\t\t\telif parent_node.right == current_node:\n",
        "\t\t\t\t\t\t\tparent_node.right = None\n",
        "\t\t\t\tbreak\n",
        "\t\t# return self\n",
        "\t\t\t\t\t\t\n",
        "\tdef get_min_value(self):\n",
        "\t\tcurrent_node = self\n",
        "\t\twhile current_node.left is not None:\n",
        "\t\t\tcurrent_node = current_node.left\n",
        "\t\treturn current_node.value"
      ],
      "execution_count": 1,
      "outputs": []
    },
    {
      "cell_type": "markdown",
      "metadata": {
        "id": "ZtcKzsN6EVTY"
      },
      "source": [
        "# Solution"
      ]
    },
    {
      "cell_type": "code",
      "metadata": {
        "id": "w8t_s7HG8LcK"
      },
      "source": [
        "def findClosestValueInBst(tree, target):\n",
        "\t# Write your code here.\n",
        "\tclosest_diff = float('inf')\n",
        "\tclosest_node = None\n",
        "\tcurrent_node = tree\n",
        "\twhile current_node is not None:\n",
        "\t\tif closest_diff > abs(target-current_node.value):\n",
        "\t\t\tclosest_diff = abs(target-current_node.value)\n",
        "\t\t\tclosest_node = current_node.value\n",
        "\n",
        "\t\tif target > current_node.value:\n",
        "\t\t\tcurrent_node = current_node.right\n",
        "\n",
        "\t\telif target < current_node.value:\n",
        "\t\t\tcurrent_node = current_node.left\n",
        "\n",
        "\t\telse: # target == current_node\n",
        "\t\t\tbreak\n",
        "\n",
        "\treturn closest_node"
      ],
      "execution_count": 2,
      "outputs": []
    },
    {
      "cell_type": "code",
      "metadata": {
        "id": "bSHAeUoZEakW"
      },
      "source": [
        "tree = BST(10)"
      ],
      "execution_count": 3,
      "outputs": []
    },
    {
      "cell_type": "code",
      "metadata": {
        "id": "r_epfRiVEf04"
      },
      "source": [
        "tree.insert(5)\n",
        "tree.insert(15)\n",
        "tree.insert(2)\n",
        "tree.insert(5)\n",
        "tree.insert(13)\n",
        "tree.insert(22)\n",
        "tree.insert(1)\n",
        "tree.insert(14)\n",
        "tree.insert(12)"
      ],
      "execution_count": 4,
      "outputs": []
    },
    {
      "cell_type": "code",
      "metadata": {
        "colab": {
          "base_uri": "https://localhost:8080/"
        },
        "id": "pyxLYqOHEkOJ",
        "outputId": "574b5b4d-05c1-40b6-8a0b-e463e86fbbc8"
      },
      "source": [
        "target = 16\n",
        "print(findClosestValueInBst(tree, target))"
      ],
      "execution_count": 5,
      "outputs": [
        {
          "output_type": "stream",
          "name": "stdout",
          "text": [
            "15\n"
          ]
        }
      ]
    }
  ]
}