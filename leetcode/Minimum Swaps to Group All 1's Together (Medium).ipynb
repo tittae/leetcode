{
 "cells": [
  {
   "cell_type": "markdown",
   "metadata": {},
   "source": [
    "# Minimum Swaps to Group All 1's Together"
   ]
  },
  {
   "cell_type": "markdown",
   "metadata": {},
   "source": [
    "Given a binary array data, return the minimum number of swaps required to group all 1’s present in the array together in any place in the array."
   ]
  },
  {
   "cell_type": "markdown",
   "metadata": {},
   "source": [
    "Example 1:\n",
    "```\n",
    "Input: data = [1,0,1,0,1]\n",
    "Output: 1\n",
    "Explanation: There are 3 ways to group all 1's together:\n",
    "[1,1,1,0,0] using 1 swap.\n",
    "[0,1,1,1,0] using 2 swaps.\n",
    "[0,0,1,1,1] using 1 swap.\n",
    "The minimum is 1.\n",
    "```"
   ]
  },
  {
   "cell_type": "markdown",
   "metadata": {},
   "source": [
    "Example 2:\n",
    "```\n",
    "Input: data = [0,0,0,1,0]\n",
    "Output: 0\n",
    "Explanation: Since there is only one 1 in the array, no swaps are needed.\n",
    "```"
   ]
  },
  {
   "cell_type": "markdown",
   "metadata": {},
   "source": [
    "Example 3:\n",
    "```\n",
    "Input: data = [1,0,1,0,1,0,0,1,1,0,1]\n",
    "Output: 3\n",
    "Explanation: One possible solution that uses 3 swaps is [0,0,0,0,0,1,1,1,1,1,1].\n",
    "```"
   ]
  },
  {
   "cell_type": "markdown",
   "metadata": {},
   "source": [
    "Constraints:\n",
    "```\n",
    "1 <= data.length <= 105\n",
    "data[i] is either 0 or 1.\n",
    "```"
   ]
  },
  {
   "cell_type": "code",
   "execution_count": 1,
   "metadata": {},
   "outputs": [],
   "source": [
    "class Solution:\n",
    "    def minSwaps(self, data):\n",
    "        ones = sum(data)\n",
    "        cnt_one = max_one = 0\n",
    "        left = right = 0\n",
    "        while right < len(data):\n",
    "            # updating the number of 1's by adding the new element\n",
    "            cnt_one += data[right]\n",
    "            right += 1\n",
    "            # maintain the length of the window to ones\n",
    "            if right - left > ones:\n",
    "                # updating the number of 1's by removing the oldest element\n",
    "                cnt_one -= data[left]\n",
    "                left += 1\n",
    "            # record the maximum number of 1's in the window\n",
    "            max_one = max(max_one, cnt_one)\n",
    "        return ones - max_one"
   ]
  },
  {
   "cell_type": "code",
   "execution_count": 2,
   "metadata": {},
   "outputs": [
    {
     "name": "stdout",
     "output_type": "stream",
     "text": [
      "1\n"
     ]
    }
   ],
   "source": [
    "data = [1,0,1,0,1]\n",
    "expected = 1\n",
    "\n",
    "output = Solution().minSwaps(data)\n",
    "print(output)\n",
    "assert output == expected\n",
    "\n"
   ]
  },
  {
   "cell_type": "markdown",
   "metadata": {},
   "source": [
    "# Conceptual Note"
   ]
  },
  {
   "cell_type": "markdown",
   "metadata": {},
   "source": [
    "```\n",
    " L     R\n",
    " |     |\n",
    "[1, 0, 1, 0, 1]\n",
    "\n",
    "R - L <= sums\n",
    "\n",
    "move sliding windows of R/L and find the one with highest number of 1\n",
    "```"
   ]
  }
 ],
 "metadata": {
  "interpreter": {
   "hash": "20ac7aad763b689ebdaff2f53a3073c7ed55a0f51860968fbf5603f714378c4e"
  },
  "kernelspec": {
   "display_name": "Python 3.10.4 64-bit",
   "language": "python",
   "name": "python3"
  },
  "language_info": {
   "codemirror_mode": {
    "name": "ipython",
    "version": 3
   },
   "file_extension": ".py",
   "mimetype": "text/x-python",
   "name": "python",
   "nbconvert_exporter": "python",
   "pygments_lexer": "ipython3",
   "version": "3.10.4"
  },
  "orig_nbformat": 4
 },
 "nbformat": 4,
 "nbformat_minor": 2
}
