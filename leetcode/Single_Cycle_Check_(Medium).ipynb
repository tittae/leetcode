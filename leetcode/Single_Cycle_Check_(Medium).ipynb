{
  "nbformat": 4,
  "nbformat_minor": 0,
  "metadata": {
    "colab": {
      "name": "Single Cycle Check (Medium).ipynb",
      "provenance": [],
      "collapsed_sections": [],
      "authorship_tag": "ABX9TyM5ha7W6rQCv8wGZZMdX2Nw",
      "include_colab_link": true
    },
    "kernelspec": {
      "name": "python3",
      "display_name": "Python 3"
    },
    "language_info": {
      "name": "python"
    }
  },
  "cells": [
    {
      "cell_type": "markdown",
      "metadata": {
        "id": "view-in-github",
        "colab_type": "text"
      },
      "source": [
        "<a href=\"https://colab.research.google.com/github/wisarootl/leetcode/blob/main/Single_Cycle_Check_(Medium).ipynb\" target=\"_parent\"><img src=\"https://colab.research.google.com/assets/colab-badge.svg\" alt=\"Open In Colab\"/></a>"
      ]
    },
    {
      "cell_type": "markdown",
      "source": [
        "# Single Cycle Check"
      ],
      "metadata": {
        "id": "ApotTQMEQSdR"
      }
    },
    {
      "cell_type": "markdown",
      "source": [
        "You're given an array of integers where each integer represents a jump of its value in the array. For instance, the integer `2` represents a jump of two indices forward in the array; the integer `-3` represents a jump of three indices backward in the array.\n",
        "\n",
        "If a jump spills past the array's bounds, it wraps over to the other side. For instance, a jump of `-1` at index `0` brings us to the last index in the array. Similarly, a jump of `1` at the last index in the array brings us to index `0`.\n",
        "\n",
        "Write a function that returns a boolean representing whether the jumps in the array form a single cycle. A single cycle occurs if, starting at any index in the array and following the jumps, every element in the array is visited exactly once before landing back on the starting index."
      ],
      "metadata": {
        "id": "ZaQhmgVHQVpO"
      }
    },
    {
      "cell_type": "markdown",
      "source": [
        "Sample Input\n",
        "\n",
        "```\n",
        "array = [2, 3, 1, -4, -4, 2]\n",
        "```\n",
        "\n"
      ],
      "metadata": {
        "id": "qtwHc3luQbba"
      }
    },
    {
      "cell_type": "markdown",
      "source": [
        "Sample Output\n",
        "\n",
        "```\n",
        "true\n",
        "```\n",
        "\n"
      ],
      "metadata": {
        "id": "HtgVBwlVQduh"
      }
    },
    {
      "cell_type": "code",
      "source": [
        "# Time O(n)\n",
        "# Space O(n)\n",
        "\n",
        "def hasSingleCycle(array):\n",
        "\tidx = 0\n",
        "\tvisited = set()\n",
        "\tlenght = len(array)\n",
        "\twhile idx not in visited:\n",
        "\t\tvisited.add(idx)\n",
        "\t\tidx += array[idx]\n",
        "\t\tidx = idx % lenght\n",
        "\n",
        "\treturn len(visited) == lenght and idx == 0"
      ],
      "metadata": {
        "id": "BEVMBqxxOPDy"
      },
      "execution_count": 1,
      "outputs": []
    },
    {
      "cell_type": "code",
      "source": [
        "array = [2, 3, 1, -4, -4, 2]\n",
        "hasSingleCycle(array)"
      ],
      "metadata": {
        "colab": {
          "base_uri": "https://localhost:8080/"
        },
        "id": "YjUBdDwAQFzt",
        "outputId": "f14fa727-794c-4c8f-cd0b-904655eee139"
      },
      "execution_count": 2,
      "outputs": [
        {
          "output_type": "execute_result",
          "data": {
            "text/plain": [
              "True"
            ]
          },
          "metadata": {},
          "execution_count": 2
        }
      ]
    },
    {
      "cell_type": "code",
      "execution_count": null,
      "metadata": {
        "id": "AWJwYjB-OBoG"
      },
      "outputs": [],
      "source": [
        "# Time O(n)\n",
        "# Space O(1)\n",
        "\n",
        "def hasSingleCycle(array):\n",
        "\tidx = 0\n",
        "\tlenght = len(array)\n",
        "\tfor jump in range(lenght):\n",
        "\t\tif jump > 0 and idx == 0:\n",
        "\t\t\treturn False\n",
        "\t\tidx = get_next_idx(idx, array)\n",
        "\treturn idx == 0\n",
        "\n",
        "def get_next_idx(idx, array):\n",
        "\tidx += array[idx]\n",
        "\tidx = idx % len(array)\n",
        "\t# return idx are actually enoung for python becasue python can handle negative idx but not other language\n",
        "\treturn idx if idx >= 0 else idx + len(array)"
      ]
    },
    {
      "cell_type": "code",
      "source": [
        "array = [2, 3, 1, -4, -4, 2]\n",
        "hasSingleCycle(array)"
      ],
      "metadata": {
        "colab": {
          "base_uri": "https://localhost:8080/"
        },
        "id": "SJDoEicHQH2S",
        "outputId": "a253c422-d49a-4141-ab43-4550b29cd45f"
      },
      "execution_count": 3,
      "outputs": [
        {
          "output_type": "execute_result",
          "data": {
            "text/plain": [
              "True"
            ]
          },
          "metadata": {},
          "execution_count": 3
        }
      ]
    },
    {
      "cell_type": "code",
      "source": [
        "array = [1, -1, 1, -1]\n",
        "hasSingleCycle(array)"
      ],
      "metadata": {
        "colab": {
          "base_uri": "https://localhost:8080/"
        },
        "id": "XQ9TVKpOQJxi",
        "outputId": "d41e3187-b1ea-4fdd-c849-b616555688e7"
      },
      "execution_count": 4,
      "outputs": [
        {
          "output_type": "execute_result",
          "data": {
            "text/plain": [
              "False"
            ]
          },
          "metadata": {},
          "execution_count": 4
        }
      ]
    }
  ]
}