{
  "nbformat": 4,
  "nbformat_minor": 0,
  "metadata": {
    "colab": {
      "name": "Maximize the Topmost Element After K Moves (Medium).ipynb",
      "provenance": [],
      "authorship_tag": "ABX9TyOtj+7ZDywpoekTjcAPbYWJ",
      "include_colab_link": true
    },
    "kernelspec": {
      "name": "python3",
      "display_name": "Python 3"
    },
    "language_info": {
      "name": "python"
    }
  },
  "cells": [
    {
      "cell_type": "markdown",
      "metadata": {
        "id": "view-in-github",
        "colab_type": "text"
      },
      "source": [
        "<a href=\"https://colab.research.google.com/github/wisarootl/leetcode/blob/main/Maximize_the_Topmost_Element_After_K_Moves_(Medium).ipynb\" target=\"_parent\"><img src=\"https://colab.research.google.com/assets/colab-badge.svg\" alt=\"Open In Colab\"/></a>"
      ]
    },
    {
      "cell_type": "markdown",
      "source": [
        "# Maximize the Topmost Element After K Moves"
      ],
      "metadata": {
        "id": "FaNbJoLk2J4o"
      }
    },
    {
      "cell_type": "markdown",
      "source": [
        "You are given a 0-indexed integer array nums representing the contents of a pile, where nums[0] is the topmost element of the pile.\n",
        "\n",
        "In one move, you can perform either of the following:\n",
        "\n",
        "If the pile is not empty, remove the topmost element of the pile.\n",
        "If there are one or more removed elements, add any one of them back onto the pile. This element becomes the new topmost element.\n",
        "You are also given an integer k, which denotes the total number of moves to be made.\n",
        "\n",
        "Return the maximum value of the topmost element of the pile possible after exactly k moves. In case it is not possible to obtain a non-empty pile after k moves, return -1."
      ],
      "metadata": {
        "id": "qfbxv8EO2MH6"
      }
    },
    {
      "cell_type": "markdown",
      "source": [
        "Example 1:\n",
        "\n",
        "```\n",
        "Input: nums = [5,2,2,4,0,6], k = 4\n",
        "Output: 5\n",
        "Explanation:\n",
        "One of the ways we can end with 5 at the top of the pile after 4 moves is as follows:\n",
        "- Step 1: Remove the topmost element = 5. The pile becomes [2,2,4,0,6].\n",
        "- Step 2: Remove the topmost element = 2. The pile becomes [2,4,0,6].\n",
        "- Step 3: Remove the topmost element = 2. The pile becomes [4,0,6].\n",
        "- Step 4: Add 5 back onto the pile. The pile becomes [5,4,0,6].\n",
        "Note that this is not the only way to end with 5 at the top of the pile. It can be shown that 5 is the largest answer possible after 4 moves.\n",
        "```\n",
        "\n"
      ],
      "metadata": {
        "id": "aAb4Atv62NeR"
      }
    },
    {
      "cell_type": "markdown",
      "source": [
        "Example 2:\n",
        "\n",
        "```\n",
        "Input: nums = [2], k = 1\n",
        "Output: -1\n",
        "Explanation: \n",
        "In the first move, our only option is to pop the topmost element of the pile.\n",
        "Since it is not possible to obtain a non-empty pile after one move, we return -1.\n",
        "```\n",
        "\n"
      ],
      "metadata": {
        "id": "r9KrB3n32P3n"
      }
    },
    {
      "cell_type": "markdown",
      "source": [
        "Constraints:\n",
        "\n",
        "```\n",
        "1 <= nums.length <= 105\n",
        "0 <= nums[i], k <= 109\n",
        "```\n",
        "\n"
      ],
      "metadata": {
        "id": "dE9fQySp2Sg4"
      }
    },
    {
      "cell_type": "code",
      "execution_count": 1,
      "metadata": {
        "id": "TouW82pH2HvM"
      },
      "outputs": [],
      "source": [
        "# Time = O(min(k, n))\n",
        "# Space = O(1)\n",
        "\n",
        "class Solution:\n",
        "    def maximumTop(self, nums, k):\n",
        "        if (len(nums) == 1) and (k % 2) == 1: \n",
        "            return -1\n",
        "        \n",
        "        maximum_value = -1\n",
        "        for i in range(min(len(nums), k-1)):\n",
        "            maximum_value = max(maximum_value, nums[i])\n",
        "        \n",
        "        if k < len(nums):\n",
        "            maximum_value = max(maximum_value, nums[k])\n",
        "            \n",
        "        return maximum_value"
      ]
    },
    {
      "cell_type": "code",
      "source": [
        "nums = [5,2,2,4,0,6]\n",
        "k = 4\n",
        "Solution().maximumTop(nums, k)"
      ],
      "metadata": {
        "colab": {
          "base_uri": "https://localhost:8080/"
        },
        "id": "KKQKWhcb2YrA",
        "outputId": "073ccf4c-761b-47b9-b8f1-0f8648a417d4"
      },
      "execution_count": 2,
      "outputs": [
        {
          "output_type": "execute_result",
          "data": {
            "text/plain": [
              "5"
            ]
          },
          "metadata": {},
          "execution_count": 2
        }
      ]
    },
    {
      "cell_type": "code",
      "source": [
        "nums = [2]\n",
        "k = 1\n",
        "Solution().maximumTop(nums, k)"
      ],
      "metadata": {
        "colab": {
          "base_uri": "https://localhost:8080/"
        },
        "id": "eQv9mRKZ2gkS",
        "outputId": "83f02d6d-29f4-419e-f590-80e24aa61738"
      },
      "execution_count": 3,
      "outputs": [
        {
          "output_type": "execute_result",
          "data": {
            "text/plain": [
              "-1"
            ]
          },
          "metadata": {},
          "execution_count": 3
        }
      ]
    }
  ]
}