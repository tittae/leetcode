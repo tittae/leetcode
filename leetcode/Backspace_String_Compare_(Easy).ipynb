{
  "nbformat": 4,
  "nbformat_minor": 0,
  "metadata": {
    "colab": {
      "name": "Backspace String Compare (Easy).ipynb",
      "provenance": [],
      "authorship_tag": "ABX9TyNXE4mKqpKUCNAZIDVzmOxV",
      "include_colab_link": true
    },
    "kernelspec": {
      "name": "python3",
      "display_name": "Python 3"
    },
    "language_info": {
      "name": "python"
    }
  },
  "cells": [
    {
      "cell_type": "markdown",
      "metadata": {
        "id": "view-in-github",
        "colab_type": "text"
      },
      "source": [
        "<a href=\"https://colab.research.google.com/github/wisarootl/leetcode/blob/main/Backspace_String_Compare_(Easy).ipynb\" target=\"_parent\"><img src=\"https://colab.research.google.com/assets/colab-badge.svg\" alt=\"Open In Colab\"/></a>"
      ]
    },
    {
      "cell_type": "markdown",
      "source": [
        "# Backspace String Compare"
      ],
      "metadata": {
        "id": "-Dvx84i5EEuQ"
      }
    },
    {
      "cell_type": "markdown",
      "source": [
        "Given two strings s and t, return true if they are equal when both are typed into empty text editors. '#' means a backspace character.\n",
        "\n",
        "Note that after backspacing an empty text, the text will continue empty."
      ],
      "metadata": {
        "id": "ijecRO7nE8Hk"
      }
    },
    {
      "cell_type": "markdown",
      "source": [
        "Example 1:\n",
        "\n",
        "```\n",
        "Input: s = \"ab#c\", t = \"ad#c\"\n",
        "Output: true\n",
        "Explanation: Both s and t become \"ac\".\n",
        "```\n",
        "\n"
      ],
      "metadata": {
        "id": "IVBP2A5oE8z5"
      }
    },
    {
      "cell_type": "markdown",
      "source": [
        "Example 2:\n",
        "\n",
        "```\n",
        "Input: s = \"ab##\", t = \"c#d#\"\n",
        "Output: true\n",
        "Explanation: Both s and t become \"\".\n",
        "```\n",
        "\n"
      ],
      "metadata": {
        "id": "cdMmcmH9FBX2"
      }
    },
    {
      "cell_type": "markdown",
      "source": [
        "Example 3:\n",
        "\n",
        "```\n",
        "Input: s = \"a#c\", t = \"b\"\n",
        "Output: false\n",
        "Explanation: s becomes \"c\" while t becomes \"b\".\n",
        "```\n",
        "\n"
      ],
      "metadata": {
        "id": "1zDHBOmxFIOd"
      }
    },
    {
      "cell_type": "markdown",
      "source": [
        "Constraints:\n",
        "\n",
        "```\n",
        "1 <= s.length, t.length <= 200\n",
        "s and t only contain lowercase letters and '#' characters.\n",
        "```\n",
        "\n"
      ],
      "metadata": {
        "id": "GTH50dMaFKa-"
      }
    },
    {
      "cell_type": "code",
      "execution_count": 1,
      "metadata": {
        "id": "S9ko7cmQEA-M"
      },
      "outputs": [],
      "source": [
        "class Solution:\n",
        "    # time = O(N + M)\n",
        "    # space = O(1)\n",
        "    # N = len(s)\n",
        "    # M = len(t)\n",
        "\n",
        "    def __init__(self):\n",
        "        self.backSpace = \"#\"\n",
        "\t\n",
        "    def getIndexAfterBackSpace(self, str, index):\n",
        "        backSpaceCount = 0\n",
        "        while(index >= 0):\n",
        "            if(str[index] == self.backSpace):\n",
        "                backSpaceCount += 1\n",
        "            elif(backSpaceCount > 0):\n",
        "                backSpaceCount -= 1\n",
        "            else:\n",
        "                break\n",
        "            index -= 1\n",
        "            \n",
        "        return index\n",
        "    \n",
        "    def backspaceCompare(self, s: str, t: str) -> bool:\n",
        "        p1, p2 = len(s) - 1, len(t) - 1\n",
        "        \n",
        "        while (p1 >= 0 or p2 >= 0):\n",
        "            p1 = self.getIndexAfterBackSpace(s, p1)\n",
        "            p2 = self.getIndexAfterBackSpace(t, p2)\n",
        "            if (p1 < 0 or p2 < 0):   \n",
        "                break\n",
        "            if (s[p1] != t[p2]): \n",
        "                return False\n",
        "            p1 -= 1\n",
        "            p2 -= 1\n",
        "        \n",
        "        p1 = self.getIndexAfterBackSpace(s, p1)\n",
        "        p2 = self.getIndexAfterBackSpace(t, p2)\n",
        "        if(p1 != p2):   \n",
        "            return False\n",
        "        \n",
        "        return True"
      ]
    },
    {
      "cell_type": "code",
      "source": [
        "s = \"ab#c\"\n",
        "t = \"ad#c\"\n",
        "expected = True\n",
        "\n",
        "output = Solution().backspaceCompare(s, t)\n",
        "print(output)\n",
        "assert  output == expected"
      ],
      "metadata": {
        "colab": {
          "base_uri": "https://localhost:8080/"
        },
        "id": "wLKNaHe2ER6Z",
        "outputId": "06d867d5-4b30-45e1-b5ae-915c91199cb8"
      },
      "execution_count": 3,
      "outputs": [
        {
          "output_type": "stream",
          "name": "stdout",
          "text": [
            "True\n"
          ]
        }
      ]
    },
    {
      "cell_type": "code",
      "source": [
        "s = \"aaa###a\"\n",
        "t = \"aaaa###a\"\n",
        "expected = False\n",
        "\n",
        "output = Solution().backspaceCompare(s, t)\n",
        "print(output)\n",
        "assert  output == expected"
      ],
      "metadata": {
        "colab": {
          "base_uri": "https://localhost:8080/"
        },
        "id": "atYcGK5MEUzG",
        "outputId": "7e2b1bcc-6dcf-44f0-8df5-348ff7140c10"
      },
      "execution_count": 5,
      "outputs": [
        {
          "output_type": "stream",
          "name": "stdout",
          "text": [
            "False\n"
          ]
        }
      ]
    }
  ]
}