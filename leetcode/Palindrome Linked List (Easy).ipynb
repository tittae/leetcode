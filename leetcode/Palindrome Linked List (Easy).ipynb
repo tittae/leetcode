{
 "cells": [
  {
   "cell_type": "markdown",
   "metadata": {},
   "source": [
    "# Palindrome Linked List (Easy for naive solution but Hard for optimal solution)"
   ]
  },
  {
   "cell_type": "markdown",
   "metadata": {},
   "source": [
    "Given the head of a singly linked list, return true if it is a palindrome."
   ]
  },
  {
   "cell_type": "markdown",
   "metadata": {},
   "source": [
    "Example 1:\n",
    "\n",
    "```\n",
    "1 -> 2 -> -> 2 -> 1\n",
    "\n",
    "Input: head = [1,2,2,1]\n",
    "Output: true\n",
    "```"
   ]
  },
  {
   "cell_type": "markdown",
   "metadata": {},
   "source": [
    "Example 2:\n",
    "\n",
    "```\n",
    "1 -> 2\n",
    "\n",
    "Input: head = [1,2]\n",
    "Output: false\n",
    "```"
   ]
  },
  {
   "cell_type": "markdown",
   "metadata": {},
   "source": [
    "Constraints:\n",
    "\n",
    "```\n",
    "The number of nodes in the list is in the range [1, 105].\n",
    "0 <= Node.val <= 9\n",
    "```"
   ]
  },
  {
   "cell_type": "markdown",
   "metadata": {},
   "source": [
    "## Solution(constant space)"
   ]
  },
  {
   "cell_type": "markdown",
   "metadata": {},
   "source": [
    "- Find the end of the first half.\n",
    "- Reverse the second half.\n",
    "- Determine whether or not there is a palindrome.\n",
    "- Restore the list.\n",
    "- Return the result."
   ]
  },
  {
   "cell_type": "code",
   "execution_count": 1,
   "metadata": {},
   "outputs": [],
   "source": [
    "# Definition for singly-linked list.\n",
    "class ListNode:\n",
    "    def __init__(self, val=0, next=None):\n",
    "        self.val = val\n",
    "        self.next = next\n",
    "\n",
    "class Solution:\n",
    "    # time = O(N)\n",
    "    # space = O(1)\n",
    "    def isPalindrome(self, head: ListNode) -> bool:\n",
    "        if head is None:\n",
    "            return True\n",
    "\n",
    "        # Find the end of first half and reverse second half.\n",
    "        first_half_end = self.end_of_first_half(head)\n",
    "        second_half_start = self.reverse_list(first_half_end.next)\n",
    "\n",
    "        # Check whether or not there's a palindrome.\n",
    "        result = True\n",
    "        first_position = head\n",
    "        second_position = second_half_start\n",
    "        while result and second_position is not None:\n",
    "            if first_position.val != second_position.val:\n",
    "                result = False\n",
    "            first_position = first_position.next\n",
    "            second_position = second_position.next\n",
    "\n",
    "        # Restore the list and return the result.\n",
    "        first_half_end.next = self.reverse_list(second_half_start)\n",
    "        return result    \n",
    "\n",
    "    def end_of_first_half(self, head):\n",
    "        fast = head\n",
    "        slow = head\n",
    "        while fast.next is not None and fast.next.next is not None:\n",
    "            fast = fast.next.next\n",
    "            slow = slow.next\n",
    "        return slow\n",
    "\n",
    "    def reverse_list(self, head):\n",
    "        previous = None\n",
    "        current = head\n",
    "        while current is not None:\n",
    "            next_node = current.next\n",
    "            current.next = previous\n",
    "            previous = current\n",
    "            current = next_node\n",
    "        return previous"
   ]
  },
  {
   "cell_type": "code",
   "execution_count": 2,
   "metadata": {},
   "outputs": [
    {
     "name": "stdout",
     "output_type": "stream",
     "text": [
      "True\n"
     ]
    }
   ],
   "source": [
    "head = ListNode(1)\n",
    "head.next = ListNode(2)\n",
    "head.next.next = ListNode(2)\n",
    "head.next.next.next = ListNode(1)\n",
    "\n",
    "expected = True\n",
    "output = Solution().isPalindrome(head)\n",
    "print(output)\n",
    "\n",
    "assert output == expected"
   ]
  },
  {
   "cell_type": "code",
   "execution_count": 3,
   "metadata": {},
   "outputs": [
    {
     "name": "stdout",
     "output_type": "stream",
     "text": [
      "False\n"
     ]
    }
   ],
   "source": [
    "head = ListNode(1)\n",
    "head.next = ListNode(2)\n",
    "\n",
    "expected = False\n",
    "output = Solution().isPalindrome(head)\n",
    "print(output)\n",
    "\n",
    "assert output == expected"
   ]
  }
 ],
 "metadata": {
  "kernelspec": {
   "display_name": "Python 3.10.5 64-bit ('3.10.5')",
   "language": "python",
   "name": "python3"
  },
  "language_info": {
   "codemirror_mode": {
    "name": "ipython",
    "version": 3
   },
   "file_extension": ".py",
   "mimetype": "text/x-python",
   "name": "python",
   "nbconvert_exporter": "python",
   "pygments_lexer": "ipython3",
   "version": "3.10.5"
  },
  "orig_nbformat": 4,
  "vscode": {
   "interpreter": {
    "hash": "992441bd4bc11ab83c63537935ea198062f55180155eaba570b8d7c82e005e8c"
   }
  }
 },
 "nbformat": 4,
 "nbformat_minor": 2
}
