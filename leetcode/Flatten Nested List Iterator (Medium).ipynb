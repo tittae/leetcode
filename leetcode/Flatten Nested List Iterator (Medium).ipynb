{
 "cells": [
  {
   "cell_type": "markdown",
   "metadata": {},
   "source": [
    "# Flatten Nested List Iterator"
   ]
  },
  {
   "cell_type": "markdown",
   "metadata": {},
   "source": [
    "You are given a nested list of integers nestedList. Each element is either an integer or a list whose elements may also be integers or other lists. Implement an iterator to flatten it.\n",
    "\n",
    "Implement the NestedIterator class:\n",
    "\n",
    "- NestedIterator(List<NestedInteger> nestedList) Initializes the iterator with the nested list nestedList.\n",
    "- int next() Returns the next integer in the nested list.\n",
    "- boolean hasNext() Returns true if there are still some integers in the nested list and false otherwise.\n",
    "Your code will be tested with the following pseudocode:\n",
    "\n",
    "initialize iterator with nestedList\n",
    "res = []\n",
    "while iterator.hasNext()\n",
    "    append iterator.next() to the end of res\n",
    "return res\n",
    "If res matches the expected flattened list, then your code will be judged as correct."
   ]
  },
  {
   "cell_type": "markdown",
   "metadata": {},
   "source": [
    "Example 1:\n",
    "\n",
    "```\n",
    "Input: nestedList = [[1,1],2,[1,1]]\n",
    "Output: [1,1,2,1,1]\n",
    "Explanation: By calling next repeatedly until hasNext returns false, the order of elements returned by next should be: [1,1,2,1,1].\n",
    "```"
   ]
  },
  {
   "cell_type": "markdown",
   "metadata": {},
   "source": [
    "Example 2:\n",
    "\n",
    "```\n",
    "Input: nestedList = [1,[4,[6]]]\n",
    "Output: [1,4,6]\n",
    "Explanation: By calling next repeatedly until hasNext returns false, the order of elements returned by next should be: [1,4,6].\n",
    "```"
   ]
  },
  {
   "cell_type": "markdown",
   "metadata": {},
   "source": [
    "Constraints:\n",
    "```\n",
    "1 <= nestedList.length <= 500\n",
    "The values of the integers in the nested list is in the range [-106, 106].\n",
    "```"
   ]
  },
  {
   "cell_type": "code",
   "execution_count": 1,
   "metadata": {},
   "outputs": [],
   "source": [
    "# \"\"\"\n",
    "# This is the interface that allows for creating nested lists.\n",
    "# You should not implement it, or speculate about its implementation\n",
    "# \"\"\"\n",
    "#class NestedInteger:\n",
    "#    def isInteger(self) -> bool:\n",
    "#        \"\"\"\n",
    "#        @return True if this NestedInteger holds a single integer, rather than a nested list.\n",
    "#        \"\"\"\n",
    "#\n",
    "#    def getInteger(self) -> int:\n",
    "#        \"\"\"\n",
    "#        @return the single integer that this NestedInteger holds, if it holds a single integer\n",
    "#        Return None if this NestedInteger holds a nested list\n",
    "#        \"\"\"\n",
    "#\n",
    "#    def getList(self) -> [NestedInteger]:\n",
    "#        \"\"\"\n",
    "#        @return the nested list that this NestedInteger holds, if it holds a nested list\n",
    "#        Return None if this NestedInteger holds a single integer\n",
    "#        \"\"\"\n",
    "\n",
    "class NestedIterator:\n",
    "    \n",
    "    def __init__(self, nestedList):\n",
    "        self.stack = [[nestedList, 0]]\n",
    "        \n",
    "    def make_stack_top_an_integer(self):\n",
    "        \n",
    "        while self.stack:\n",
    "            \n",
    "            # Essential for readability :)\n",
    "            current_list = self.stack[-1][0]\n",
    "            current_index = self.stack[-1][1]\n",
    "            \n",
    "            # If the top list is used up, pop it and its index.\n",
    "            if len(current_list) == current_index:\n",
    "                self.stack.pop()\n",
    "                continue\n",
    "            \n",
    "            # Otherwise, if it's already an integer, we don't need \n",
    "            # to do anything.\n",
    "            if current_list[current_index].isInteger():\n",
    "                break\n",
    "            \n",
    "            # Otherwise, it must be a list. We need to increment the index\n",
    "            # on the previous list, and add the new list.\n",
    "            new_list = current_list[current_index].getList()\n",
    "            self.stack[-1][1] += 1 # Increment old.\n",
    "            self.stack.append([new_list, 0])\n",
    "            \n",
    "    \n",
    "    def next(self) -> int:\n",
    "        self.make_stack_top_an_integer()\n",
    "        current_list = self.stack[-1][0]\n",
    "        current_index = self.stack[-1][1]\n",
    "        self.stack[-1][1] += 1\n",
    "        return current_list[current_index].getInteger()\n",
    "        \n",
    "    \n",
    "    def hasNext(self) -> bool:\n",
    "        self.make_stack_top_an_integer()\n",
    "        return len(self.stack) > 0\n",
    "\n"
   ]
  }
 ],
 "metadata": {
  "kernelspec": {
   "display_name": "Python 3",
   "language": "python",
   "name": "python3"
  },
  "language_info": {
   "codemirror_mode": {
    "name": "ipython",
    "version": 3
   },
   "file_extension": ".py",
   "mimetype": "text/x-python",
   "name": "python",
   "nbconvert_exporter": "python",
   "pygments_lexer": "ipython3",
   "version": "3.10.5"
  },
  "orig_nbformat": 4,
  "vscode": {
   "interpreter": {
    "hash": "992441bd4bc11ab83c63537935ea198062f55180155eaba570b8d7c82e005e8c"
   }
  }
 },
 "nbformat": 4,
 "nbformat_minor": 2
}
