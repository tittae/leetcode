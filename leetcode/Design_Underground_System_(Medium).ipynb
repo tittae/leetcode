{
  "nbformat": 4,
  "nbformat_minor": 0,
  "metadata": {
    "colab": {
      "name": "Design Underground System (Medium).ipynb",
      "provenance": [],
      "authorship_tag": "ABX9TyNl/8SPh8774K6DmCOzMwV+",
      "include_colab_link": true
    },
    "kernelspec": {
      "name": "python3",
      "display_name": "Python 3"
    },
    "language_info": {
      "name": "python"
    }
  },
  "cells": [
    {
      "cell_type": "markdown",
      "metadata": {
        "id": "view-in-github",
        "colab_type": "text"
      },
      "source": [
        "<a href=\"https://colab.research.google.com/github/wisarootl/leetcode/blob/main/Design_Underground_System_(Medium).ipynb\" target=\"_parent\"><img src=\"https://colab.research.google.com/assets/colab-badge.svg\" alt=\"Open In Colab\"/></a>"
      ]
    },
    {
      "cell_type": "markdown",
      "source": [
        "# Design Underground System"
      ],
      "metadata": {
        "id": "e0VtJXw6D4bh"
      }
    },
    {
      "cell_type": "markdown",
      "source": [
        "An underground railway system is keeping track of customer travel times between different stations. They are using this data to calculate the average time it takes to travel from one station to another.\n",
        "\n",
        "Implement the UndergroundSystem class:\n",
        "\n",
        "- void checkIn(int id, string stationName, int t)\n",
        "  - A customer with a card ID equal to id, checks in at the station stationName at time t.\n",
        "  - A customer can only be checked into one place at a time.\n",
        "- void checkOut(int id, string stationName, int t)\n",
        "  - A customer with a card ID equal to id, checks out from the station stationName at time t.\n",
        "- double getAverageTime(string startStation, string endStation)\n",
        "  - Returns the average time it takes to travel from startStation to endStation.\n",
        "  - The average time is computed from all the previous traveling times from startStation to endStation that happened directly, meaning a check in at startStation followed by a check out from endStation.\n",
        "  - The time it takes to travel from startStation to endStation may be different from the time it takes to travel from endStation to startStation.\n",
        "  - There will be at least one customer that has traveled from startStation to endStation before getAverageTime is called.\n",
        "\n",
        "You may assume all calls to the checkIn and checkOut methods are consistent. If a customer checks in at time t1 then checks out at time t2, then t1 < t2. All events happen in chronological order."
      ],
      "metadata": {
        "id": "7MaJgaTcD7iN"
      }
    },
    {
      "cell_type": "code",
      "execution_count": 1,
      "metadata": {
        "id": "erwca4dzD1IQ"
      },
      "outputs": [],
      "source": [
        "class UndergroundSystem:\n",
        "    \n",
        "    # Space = O(P + S^2)\n",
        "    def __init__(self):\n",
        "        self.check_in_data = {}\n",
        "        self.journey_data = {}\n",
        "    \n",
        "    # Time = O(1)\n",
        "    # Space = O(1)\n",
        "    def checkIn(self, id, stationName, t):\n",
        "        self.check_in_data[id] = [stationName, t]\n",
        "        \n",
        "\n",
        "    # Time = O(1)\n",
        "    # Space = O(1)\n",
        "    def checkOut(self, id, stationName, t):\n",
        "        start_station, start_time = self.check_in_data.pop(id)\n",
        "        end_station = stationName\n",
        "        if (start_station, end_station) not in self.journey_data:\n",
        "            self.journey_data[(start_station, end_station)] = [0, 0]\n",
        "        self.journey_data[(start_station, end_station)][0] += (t - start_time)\n",
        "        self.journey_data[(start_station, end_station)][1] += 1\n",
        "        \n",
        "\n",
        "    # Time = O(1)\n",
        "    # Space = O(1)\n",
        "    def getAverageTime(self, startStation, endStation):\n",
        "        total_time, total_trips = self.journey_data[(startStation, endStation)]\n",
        "        return total_time / total_trips\n",
        "        \n",
        "\n",
        "\n",
        "# Your UndergroundSystem object will be instantiated and called as such:\n",
        "# obj = UndergroundSystem()\n",
        "# obj.checkIn(id,stationName,t)\n",
        "# obj.checkOut(id,stationName,t)\n",
        "# param_3 = obj.getAverageTime(startStation,endStation)"
      ]
    },
    {
      "cell_type": "code",
      "source": [
        "undergroundSystem = UndergroundSystem()\n",
        "undergroundSystem.checkIn(45, \"Leyton\", 3)\n",
        "undergroundSystem.checkOut(45, \"Waterloo\", 15)\n",
        "undergroundSystem.getAverageTime(\"Leyton\", \"Waterloo\")"
      ],
      "metadata": {
        "colab": {
          "base_uri": "https://localhost:8080/"
        },
        "id": "C44nA49xFWq_",
        "outputId": "90884d53-d247-4863-d5db-cdbe6684dbdf"
      },
      "execution_count": 2,
      "outputs": [
        {
          "output_type": "execute_result",
          "data": {
            "text/plain": [
              "12.0"
            ]
          },
          "metadata": {},
          "execution_count": 2
        }
      ]
    }
  ]
}