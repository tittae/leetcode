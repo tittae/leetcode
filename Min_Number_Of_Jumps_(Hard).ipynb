{
  "nbformat": 4,
  "nbformat_minor": 0,
  "metadata": {
    "colab": {
      "name": "Min Number Of Jumps (Hard).ipynb",
      "provenance": [],
      "authorship_tag": "ABX9TyO6CL9iKisygaD67hMYmhO1",
      "include_colab_link": true
    },
    "kernelspec": {
      "name": "python3",
      "display_name": "Python 3"
    },
    "language_info": {
      "name": "python"
    }
  },
  "cells": [
    {
      "cell_type": "markdown",
      "metadata": {
        "id": "view-in-github",
        "colab_type": "text"
      },
      "source": [
        "<a href=\"https://colab.research.google.com/github/wisarootl/leetcode/blob/main/Min_Number_Of_Jumps_(Hard).ipynb\" target=\"_parent\"><img src=\"https://colab.research.google.com/assets/colab-badge.svg\" alt=\"Open In Colab\"/></a>"
      ]
    },
    {
      "cell_type": "markdown",
      "metadata": {
        "id": "E5tFOAYvkUuT"
      },
      "source": [
        "# Min Number Of Jumps\n"
      ]
    },
    {
      "cell_type": "markdown",
      "metadata": {
        "id": "aKYRXScMkT4i"
      },
      "source": [
        "You're given a non-empty array of positive integers where each integer represents the maximum number of steps you can take forward in the array. For example, if the element at index 1 is 3, you can go from index 1 to index 2, 3, or 4.\n",
        "\n",
        "Write a function that returns the minimum number of jumps needed to reach the final index.\n",
        "\n",
        "Note that jumping from index i to index i + x always constitutes one jump, no matter how large x is."
      ]
    },
    {
      "cell_type": "markdown",
      "metadata": {
        "id": "kSTrh3TWkXMB"
      },
      "source": [
        "Sample Input\n",
        "\n",
        "```\n",
        "array = [3, 4, 2, 1, 2, 3, 7, 1, 1, 1, 3]\n",
        "```\n",
        "\n"
      ]
    },
    {
      "cell_type": "code",
      "metadata": {
        "id": "TB5HHdBMzwoB"
      },
      "source": [
        "# Time O(n^2)\n",
        "# Space O(n)\n",
        "\n",
        "def minNumberOfJumps(array):\n",
        "  min_jumps = [float('inf') for _ in range(len(array))]\n",
        "  min_jumps[0] = 0\n",
        "\n",
        "  for start in range(len(array)):\n",
        "    for end in range(len(array)):\n",
        "      if start < end and end <= start + array[start]:\n",
        "        min_jumps[end] = min(min_jumps[start] + 1, min_jumps[end])\n",
        "    \n",
        "  return min_jumps[-1]"
      ],
      "execution_count": 1,
      "outputs": []
    },
    {
      "cell_type": "code",
      "metadata": {
        "colab": {
          "base_uri": "https://localhost:8080/"
        },
        "id": "4srpJ0AUxqPm",
        "outputId": "fe4758f4-6c4e-4c6a-bc72-065b90229214"
      },
      "source": [
        "array = [3, 4, 2, 1, 2, 3, 7, 1, 1, 1, 3]\n",
        "print(minNumberOfJumps(array))"
      ],
      "execution_count": 2,
      "outputs": [
        {
          "output_type": "stream",
          "name": "stdout",
          "text": [
            "4\n"
          ]
        }
      ]
    }
  ]
}