{
  "cells": [
    {
      "cell_type": "markdown",
      "metadata": {
        "colab_type": "text",
        "id": "view-in-github"
      },
      "source": [
        "<a href=\"https://colab.research.google.com/github/wisarootl/leetcode/blob/main/Find_the_Difference_of_Two_Arrays_(Easy).ipynb\" target=\"_parent\"><img src=\"https://colab.research.google.com/assets/colab-badge.svg\" alt=\"Open In Colab\"/></a>"
      ]
    },
    {
      "cell_type": "markdown",
      "metadata": {
        "id": "gWXuUVDT8l53"
      },
      "source": [
        "# Find the Difference of Two Arrays"
      ]
    },
    {
      "cell_type": "markdown",
      "metadata": {
        "id": "RBqflEMm8pUS"
      },
      "source": [
        "Given two 0-indexed integer arrays nums1 and nums2, return a list answer of size 2 where:\n",
        "\n",
        "- answer[0] is a list of all distinct integers in nums1 which are not present in nums2.\n",
        "- answer[1] is a list of all distinct integers in nums2 which are not present in nums1.\n",
        "\n",
        "Note that the integers in the lists may be returned in any order."
      ]
    },
    {
      "cell_type": "markdown",
      "metadata": {
        "id": "VS3fjPo08rdR"
      },
      "source": [
        "Example 1:\n",
        "\n",
        "```\n",
        "Input: nums1 = [1,2,3], nums2 = [2,4,6]\n",
        "Output: [[1,3],[4,6]]\n",
        "Explanation:\n",
        "For nums1, nums1[1] = 2 is present at index 0 of nums2, whereas nums1[0] = 1 and nums1[2] = 3 are not present in nums2. Therefore, answer[0] = [1,3].\n",
        "For nums2, nums2[0] = 2 is present at index 1 of nums1, whereas nums2[1] = 4 and nums2[2] = 6 are not present in nums2. Therefore, answer[1] = [4,6].\n",
        "```\n",
        "\n",
        "Example 2:\n",
        "\n",
        "```\n",
        "Input: nums1 = [1,2,3,3], nums2 = [1,1,2,2]\n",
        "Output: [[3],[]]\n",
        "Explanation:\n",
        "For nums1, nums1[2] and nums1[3] are not present in nums2. Since nums1[2] == nums1[3], their value is only included once and answer[0] = [3].\n",
        "Every integer in nums2 is present in nums1. Therefore, answer[1] = [].\n",
        "```\n",
        "\n",
        "\n"
      ]
    },
    {
      "cell_type": "markdown",
      "metadata": {
        "id": "IC7SjeI68wzy"
      },
      "source": [
        "Constraints:\n",
        "\n",
        "```\n",
        "1 <= nums1.length, nums2.length <= 1000\n",
        "-1000 <= nums1[i], nums2[i] <= 1000\n",
        "```\n",
        "\n"
      ]
    },
    {
      "cell_type": "code",
      "execution_count": 1,
      "metadata": {
        "id": "wZg8Mi7W8j38"
      },
      "outputs": [],
      "source": [
        "# Time O(n + m)\n",
        "# Space O(n + m)\n",
        "\n",
        "\n",
        "# n = len(nums1)\n",
        "# m = len(nums2)\n",
        "\n",
        "class Solution:\n",
        "    def findDifference(self, nums1, nums2):\n",
        "        nums1_set = set(nums1)\n",
        "        nums2_set = set(nums2)\n",
        "        \n",
        "        return [list(nums1_set.difference(nums2_set)), list(nums2_set.difference(nums1_set))]"
      ]
    },
    {
      "cell_type": "code",
      "execution_count": 2,
      "metadata": {
        "colab": {
          "base_uri": "https://localhost:8080/"
        },
        "id": "LdyWuE0v80Vc",
        "outputId": "a2c0e980-1e59-49b6-936f-0e3a5fb79cf5"
      },
      "outputs": [
        {
          "name": "stdout",
          "output_type": "stream",
          "text": [
            "[[3], []]\n"
          ]
        }
      ],
      "source": [
        "nums1 = [1,2,3,3]\n",
        "nums2 = [1,1,2,2]\n",
        "expected = [[3],[]]\n",
        "\n",
        "output = Solution().findDifference(nums1, nums2)\n",
        "print(output)\n",
        "assert output == expected"
      ]
    }
  ],
  "metadata": {
    "colab": {
      "authorship_tag": "ABX9TyPiwa1ftElC3A5enkFA2pKF",
      "include_colab_link": true,
      "name": "Find the Difference of Two Arrays (Easy).ipynb",
      "provenance": []
    },
    "kernelspec": {
      "display_name": "Python 3",
      "language": "python",
      "name": "python3"
    },
    "language_info": {
      "codemirror_mode": {
        "name": "ipython",
        "version": 3
      },
      "file_extension": ".py",
      "mimetype": "text/x-python",
      "name": "python",
      "nbconvert_exporter": "python",
      "pygments_lexer": "ipython3",
      "version": "3.9.13"
    },
    "vscode": {
      "interpreter": {
        "hash": "6f05791bcd95a9ad724fe6a4faa4da44a6b4649f2d2a76a6be6c390d12e6682d"
      }
    }
  },
  "nbformat": 4,
  "nbformat_minor": 0
}
