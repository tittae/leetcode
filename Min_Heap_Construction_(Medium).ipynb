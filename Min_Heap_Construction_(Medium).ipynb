{
  "nbformat": 4,
  "nbformat_minor": 0,
  "metadata": {
    "colab": {
      "name": "Min Heap Construction (Medium).ipynb",
      "provenance": [],
      "collapsed_sections": [],
      "authorship_tag": "ABX9TyMCo48eVYDwmLivW/6GOIN0",
      "include_colab_link": true
    },
    "kernelspec": {
      "name": "python3",
      "display_name": "Python 3"
    },
    "language_info": {
      "name": "python"
    }
  },
  "cells": [
    {
      "cell_type": "markdown",
      "metadata": {
        "id": "view-in-github",
        "colab_type": "text"
      },
      "source": [
        "<a href=\"https://colab.research.google.com/github/wisarootl/leetcode/blob/main/Min_Heap_Construction_(Medium).ipynb\" target=\"_parent\"><img src=\"https://colab.research.google.com/assets/colab-badge.svg\" alt=\"Open In Colab\"/></a>"
      ]
    },
    {
      "cell_type": "code",
      "source": [
        "# Do not edit the class below except for the buildHeap,\n",
        "# siftDown, siftUp, peek, remove, and insert methods.\n",
        "# Feel free to add new properties and methods to the class.\n",
        "class MinHeap:\n",
        "  def __init__(self, array):\n",
        "    self.heap = self.buildHeap(array)\n",
        "\n",
        "  # time = O(n), space = O(1)\n",
        "  def buildHeap(self, array):\n",
        "    first_parent_idx = (len(array) - 2) // 2\n",
        "    for idx in reversed(range(first_parent_idx + 1)):\n",
        "      self.siftDown(idx, array)\n",
        "    return array\n",
        "\n",
        "  # time = O(log n), space = O(1)\n",
        "  def siftDown(self, idx, heap):\n",
        "    child_one_idx = (2 * idx) + 1\n",
        "    child_two_idx = (2 * idx) + 2\n",
        "    end_idx = len(heap) - 1\n",
        "    while child_one_idx <= end_idx:\n",
        "      if child_two_idx <= end_idx and heap[child_one_idx] > heap[child_two_idx]:\n",
        "        idx_to_swap = child_two_idx\n",
        "      else:\n",
        "        idx_to_swap = child_one_idx\n",
        "      if heap[idx_to_swap] < heap[idx]:\n",
        "        heap[idx_to_swap], heap[idx] = heap[idx], heap[idx_to_swap]\n",
        "        idx = idx_to_swap\n",
        "        child_one_idx = (2 * idx) + 1\n",
        "        child_two_idx = (2 * idx) + 2\n",
        "      else:\n",
        "        return\n",
        "\n",
        "  # time = O(log n), space = O(1)\n",
        "  def siftUp(self, idx, heap):\n",
        "    parent_idx = (idx - 1) // 2\n",
        "    while idx > 0 and heap[idx] < heap[parent_idx]:\n",
        "      heap[idx], heap[parent_idx] = heap[parent_idx], heap[idx]\n",
        "      idx = parent_idx\n",
        "      parent_idx = (idx - 1) // 2\n",
        "\n",
        "  # time = O(1), space = O(1)\n",
        "  def peek(self):\n",
        "    return self.heap[0]\n",
        "\n",
        "  # time = O(log n), space = O(1)\n",
        "  def remove(self, idx = 0):\n",
        "    self.heap[idx], self.heap[-1] = self.heap[-1], self.heap[idx]\n",
        "    removed_value = self.heap.pop()\n",
        "    self.siftDown(idx, self.heap)\n",
        "    return removed_value\n",
        "\n",
        "  # time = O(log n), space = O(1)\n",
        "  def insert(self, value):\n",
        "    self.heap.append(value)\n",
        "    self.siftUp(len(self.heap) - 1, self.heap)"
      ],
      "metadata": {
        "id": "tcp0AioHsDlh"
      },
      "execution_count": 17,
      "outputs": []
    },
    {
      "cell_type": "code",
      "source": [
        "# Do not edit the class below except for the buildHeap,\n",
        "# siftDown, siftUp, peek, remove, and insert methods.\n",
        "# Feel free to add new properties and methods to the class.\n",
        "class MinHeap:\n",
        "\tdef __init__(self, array):\n",
        "\t\tself.heap = self.buildHeap(array)\n",
        "\t\n",
        "\t# time = O(n), space = O(1)\n",
        "\tdef buildHeap(self, array):\n",
        "\t\tlast_parent_idx = (len(array) - 2) // 2\n",
        "\t\tfor idx in reversed(range(last_parent_idx + 1)):\n",
        "\t\t\tself.siftDown(idx, array)\n",
        "\t\treturn array\n",
        "\t\n",
        "\t# time = O(log n), space = O(1)\n",
        "\tdef siftDown(self, idx, heap):\n",
        "\t\tchild_one_idx = (2 * idx) + 1\n",
        "\t\tchild_two_idx = (2 * idx) + 2\n",
        "\t\tend_idx = len(heap) - 1\n",
        "\t\twhile child_one_idx <= end_idx:\n",
        "\t\t\tif child_two_idx <= end_idx and heap[child_two_idx] < heap[child_one_idx]:\n",
        "\t\t\t\tidx_to_swap = child_two_idx\n",
        "\t\t\telse: \n",
        "\t\t\t\tidx_to_swap = child_one_idx\n",
        "\n",
        "\t\t\tif heap[idx_to_swap] < heap[idx]:\n",
        "\t\t\t\theap[idx_to_swap], heap[idx] = heap[idx],  heap[idx_to_swap]\n",
        "\t\t\t\tidx = idx_to_swap\n",
        "\t\t\t\tchild_one_idx = (2 * idx) + 1\n",
        "\t\t\t\tchild_two_idx = (2 * idx) + 2\n",
        "\t\t\telse:\n",
        "\t\t\t\treturn\n",
        "\t\n",
        "\t# time = O(log n), space = O(1)\n",
        "\tdef siftUp(self, idx, heap):\n",
        "\t\tparent_idx = (idx - 1) // 2\n",
        "\t\twhile heap[idx] < heap[parent_idx] and idx > 0:\n",
        "\t\t\theap[idx], heap[parent_idx] = heap[parent_idx], heap[idx]\n",
        "\t\t\tidx = parent_idx\n",
        "\t\t\tparent_idx = (idx - 1) // 2\n",
        "\n",
        "\t# time = O(1), space = O(1)\n",
        "\tdef peek(self):\n",
        "\t\treturn self.heap[0]\n",
        "\n",
        "\t# time = O(log n), space = O(1)\n",
        "\tdef remove(self, idx = 0):\n",
        "\t\tself.heap[idx], self.heap[-1] = self.heap[-1], self.heap[idx]\n",
        "\t\tremoved_value = self.heap.pop()\n",
        "\t\tself.siftDown(idx, self.heap)\n",
        "\t\treturn removed_value\n",
        "\n",
        "\t# time = O(log n), space = O(1)\n",
        "\tdef insert(self, value):\n",
        "\t\tself.heap.append(value)\n",
        "\t\tself.siftUp(len(self.heap) - 1, self.heap)\n"
      ],
      "metadata": {
        "id": "s3ao7sSZCL_x"
      },
      "execution_count": 30,
      "outputs": []
    },
    {
      "cell_type": "markdown",
      "source": [
        "## Test"
      ],
      "metadata": {
        "id": "AgwMhSvt3ETq"
      }
    },
    {
      "cell_type": "code",
      "execution_count": 31,
      "metadata": {
        "id": "c1XIW46gr-x0"
      },
      "outputs": [],
      "source": [
        "array = [48, 12, 24, 7, 8, -5, 24, 391, 24, 56, 2, 6, 8, 41]"
      ]
    },
    {
      "cell_type": "code",
      "source": [
        "heap = MinHeap(array)"
      ],
      "metadata": {
        "id": "3NjVnPC6sCSv"
      },
      "execution_count": 32,
      "outputs": []
    },
    {
      "cell_type": "code",
      "source": [
        "heap.heap"
      ],
      "metadata": {
        "colab": {
          "base_uri": "https://localhost:8080/"
        },
        "id": "qTRb7wU9sJzJ",
        "outputId": "7e1d4fc2-e363-4cb2-b1eb-aed155f579de"
      },
      "execution_count": 33,
      "outputs": [
        {
          "output_type": "execute_result",
          "data": {
            "text/plain": [
              "[-5, 2, 6, 7, 8, 8, 24, 391, 24, 56, 12, 24, 48, 41]"
            ]
          },
          "metadata": {},
          "execution_count": 33
        }
      ]
    },
    {
      "cell_type": "code",
      "source": [
        "heap.buildHeap(array)"
      ],
      "metadata": {
        "colab": {
          "base_uri": "https://localhost:8080/"
        },
        "id": "JR-SudQM1H26",
        "outputId": "1bea118e-2122-4ab2-ad46-5829b56c238d"
      },
      "execution_count": null,
      "outputs": [
        {
          "output_type": "execute_result",
          "data": {
            "text/plain": [
              "[-5, 2, 6, 7, 8, 8, 24, 391, 24, 56, 12, 24, 48, 41]"
            ]
          },
          "metadata": {},
          "execution_count": 5
        }
      ]
    },
    {
      "cell_type": "code",
      "source": [
        "heap.insert(76)\n",
        "heap.heap"
      ],
      "metadata": {
        "colab": {
          "base_uri": "https://localhost:8080/"
        },
        "id": "SLr_U61f1Qnv",
        "outputId": "6607c254-69cd-4eea-abaa-c5d45cd10ff7"
      },
      "execution_count": null,
      "outputs": [
        {
          "output_type": "execute_result",
          "data": {
            "text/plain": [
              "[-5, 2, 6, 7, 8, 8, 24, 391, 24, 56, 12, 24, 48, 41, 76]"
            ]
          },
          "metadata": {},
          "execution_count": 6
        }
      ]
    },
    {
      "cell_type": "code",
      "source": [
        "heap.peek()"
      ],
      "metadata": {
        "colab": {
          "base_uri": "https://localhost:8080/"
        },
        "id": "gVFwqxEX2E89",
        "outputId": "f297cbc0-0245-4676-9e72-7c922104b5bc"
      },
      "execution_count": null,
      "outputs": [
        {
          "output_type": "execute_result",
          "data": {
            "text/plain": [
              "-5"
            ]
          },
          "metadata": {},
          "execution_count": 7
        }
      ]
    },
    {
      "cell_type": "code",
      "source": [
        "heap.remove()"
      ],
      "metadata": {
        "colab": {
          "base_uri": "https://localhost:8080/"
        },
        "id": "eDKwPn-s2HM6",
        "outputId": "22997bbd-1df1-4dda-9eef-ac7944a7042f"
      },
      "execution_count": null,
      "outputs": [
        {
          "output_type": "execute_result",
          "data": {
            "text/plain": [
              "-5"
            ]
          },
          "metadata": {},
          "execution_count": 8
        }
      ]
    },
    {
      "cell_type": "code",
      "source": [
        "heap.heap"
      ],
      "metadata": {
        "colab": {
          "base_uri": "https://localhost:8080/"
        },
        "id": "xTCgZGsu2QDj",
        "outputId": "8d5f936f-d551-40f4-f12d-1cb9e946ecd3"
      },
      "execution_count": null,
      "outputs": [
        {
          "output_type": "execute_result",
          "data": {
            "text/plain": [
              "[2, 7, 6, 24, 8, 8, 24, 391, 76, 56, 12, 24, 48, 41]"
            ]
          },
          "metadata": {},
          "execution_count": 9
        }
      ]
    },
    {
      "cell_type": "code",
      "source": [
        "heap.peek()"
      ],
      "metadata": {
        "colab": {
          "base_uri": "https://localhost:8080/"
        },
        "id": "OhX-I4fr2S3n",
        "outputId": "5d32b1af-4062-4c0d-c8f5-eac5c1636870"
      },
      "execution_count": null,
      "outputs": [
        {
          "output_type": "execute_result",
          "data": {
            "text/plain": [
              "2"
            ]
          },
          "metadata": {},
          "execution_count": 10
        }
      ]
    },
    {
      "cell_type": "code",
      "source": [
        "heap.remove()"
      ],
      "metadata": {
        "colab": {
          "base_uri": "https://localhost:8080/"
        },
        "id": "WfWAXSpP2WUj",
        "outputId": "0960279d-d972-42ec-8e2e-df1d7fe6a1f7"
      },
      "execution_count": null,
      "outputs": [
        {
          "output_type": "execute_result",
          "data": {
            "text/plain": [
              "2"
            ]
          },
          "metadata": {},
          "execution_count": 11
        }
      ]
    },
    {
      "cell_type": "code",
      "source": [
        "heap.heap"
      ],
      "metadata": {
        "colab": {
          "base_uri": "https://localhost:8080/"
        },
        "id": "k6UHvqyn2XXA",
        "outputId": "f40a24db-608e-48be-d8a9-22b35a9d060b"
      },
      "execution_count": null,
      "outputs": [
        {
          "output_type": "execute_result",
          "data": {
            "text/plain": [
              "[6, 7, 8, 24, 8, 24, 24, 391, 76, 56, 12, 41, 48]"
            ]
          },
          "metadata": {},
          "execution_count": 12
        }
      ]
    },
    {
      "cell_type": "code",
      "source": [
        "heap.peek()"
      ],
      "metadata": {
        "colab": {
          "base_uri": "https://localhost:8080/"
        },
        "id": "7jvdDx6K2ZVg",
        "outputId": "da189771-2fbf-4ed7-a78c-5f4b623e14e4"
      },
      "execution_count": null,
      "outputs": [
        {
          "output_type": "execute_result",
          "data": {
            "text/plain": [
              "6"
            ]
          },
          "metadata": {},
          "execution_count": 13
        }
      ]
    },
    {
      "cell_type": "code",
      "source": [
        "heap.insert(87)\n",
        "heap.heap"
      ],
      "metadata": {
        "colab": {
          "base_uri": "https://localhost:8080/"
        },
        "id": "FDT7eFdR2Ued",
        "outputId": "ab19caaa-2548-4b63-c252-f62d2c9c1b83"
      },
      "execution_count": null,
      "outputs": [
        {
          "output_type": "execute_result",
          "data": {
            "text/plain": [
              "[6, 7, 8, 24, 8, 24, 24, 391, 76, 56, 12, 41, 48, 87]"
            ]
          },
          "metadata": {},
          "execution_count": 14
        }
      ]
    },
    {
      "cell_type": "code",
      "source": [
        "heap.insert(2)\n",
        "heap.heap"
      ],
      "metadata": {
        "colab": {
          "base_uri": "https://localhost:8080/"
        },
        "id": "1g52lFxL2eMV",
        "outputId": "c8e175af-fe3d-41ac-e447-812b12434abd"
      },
      "execution_count": null,
      "outputs": [
        {
          "output_type": "execute_result",
          "data": {
            "text/plain": [
              "[2, 7, 6, 24, 8, 24, 8, 391, 76, 56, 12, 41, 48, 87, 24]"
            ]
          },
          "metadata": {},
          "execution_count": 15
        }
      ]
    },
    {
      "cell_type": "markdown",
      "source": [
        "## Max Heap"
      ],
      "metadata": {
        "id": "JVbiDxXPFkWN"
      }
    },
    {
      "cell_type": "code",
      "source": [
        "# Do not edit the class below except for the buildHeap,\n",
        "# siftDown, siftUp, peek, remove, and insert methods.\n",
        "# Feel free to add new properties and methods to the class.\n",
        "class MaxHeap:\n",
        "\tdef __init__(self, array):\n",
        "\t\tself.heap = self.buildHeap(array)\n",
        "\t\n",
        "\t# time = O(n), space = O(1)\n",
        "\tdef buildHeap(self, array):\n",
        "\t\tlast_parent_idx = (len(array) - 2) // 2\n",
        "\t\tfor idx in reversed(range(last_parent_idx + 1)):\n",
        "\t\t\tself.siftDown(idx, array)\n",
        "\t\treturn array\n",
        "\t\n",
        "\t# time = O(log n), space = O(1)\n",
        "\tdef siftDown(self, idx, heap):\n",
        "\t\tchild_one_idx = (2 * idx) + 1\n",
        "\t\tchild_two_idx = (2 * idx) + 2\n",
        "\t\tend_idx = len(heap) - 1\n",
        "\t\twhile child_one_idx <= end_idx:\n",
        "\t\t\tif child_two_idx <= end_idx and heap[child_two_idx] > heap[child_one_idx]:\n",
        "\t\t\t\tidx_to_swap = child_two_idx\n",
        "\t\t\telse: \n",
        "\t\t\t\tidx_to_swap = child_one_idx\n",
        "\n",
        "\t\t\tif heap[idx_to_swap] > heap[idx]:\n",
        "\t\t\t\theap[idx_to_swap], heap[idx] = heap[idx],  heap[idx_to_swap]\n",
        "\t\t\t\tidx = idx_to_swap\n",
        "\t\t\t\tchild_one_idx = (2 * idx) + 1\n",
        "\t\t\t\tchild_two_idx = (2 * idx) + 2\n",
        "\t\t\telse:\n",
        "\t\t\t\treturn\n",
        "\t\n",
        "\t# time = O(log n), space = O(1)\n",
        "\tdef siftUp(self, idx, heap):\n",
        "\t\tparent_idx = (idx - 1) // 2\n",
        "\t\twhile heap[idx] > heap[parent_idx] and idx > 0:\n",
        "\t\t\theap[idx], heap[parent_idx] = heap[parent_idx], heap[idx]\n",
        "\t\t\tidx = parent_idx\n",
        "\t\t\tparent_idx = (idx - 1) // 2\n",
        "\n",
        "\t# time = O(1), space = O(1)\n",
        "\tdef peek(self):\n",
        "\t\treturn self.heap[0]\n",
        "\n",
        "\t# time = O(log n), space = O(1)\n",
        "\tdef remove(self, idx = 0):\n",
        "\t\tself.heap[idx], self.heap[-1] = self.heap[-1], self.heap[idx]\n",
        "\t\tremoved_value = self.heap.pop()\n",
        "\t\tself.siftDown(idx, self.heap)\n",
        "\t\treturn removed_value\n",
        "\n",
        "\t# time = O(log n), space = O(1)\n",
        "\tdef insert(self, value):\n",
        "\t\tself.heap.append(value)\n",
        "\t\tself.siftUp(len(self.heap) - 1, self.heap)\n"
      ],
      "metadata": {
        "id": "IzD2Rv6xELD5"
      },
      "execution_count": 34,
      "outputs": []
    },
    {
      "cell_type": "markdown",
      "source": [
        "### Test"
      ],
      "metadata": {
        "id": "3ewJpuj2FmgY"
      }
    },
    {
      "cell_type": "code",
      "source": [
        "array = [48, 12, 24, 7, 8, -5, 24, 391, 24, 56, 2, 6, 8, 41]"
      ],
      "metadata": {
        "id": "6Pog8sd8ENVN"
      },
      "execution_count": 35,
      "outputs": []
    },
    {
      "cell_type": "code",
      "source": [
        "heap = MaxHeap(array)"
      ],
      "metadata": {
        "id": "mQ2vrK0dEPb5"
      },
      "execution_count": 36,
      "outputs": []
    },
    {
      "cell_type": "code",
      "source": [
        "heap.heap"
      ],
      "metadata": {
        "colab": {
          "base_uri": "https://localhost:8080/"
        },
        "id": "SZ25IM9QESCp",
        "outputId": "944909ec-4f38-41c9-a7ef-2d596ff9030e"
      },
      "execution_count": 37,
      "outputs": [
        {
          "output_type": "execute_result",
          "data": {
            "text/plain": [
              "[391, 56, 41, 24, 48, 8, 24, 7, 12, 8, 2, 6, -5, 24]"
            ]
          },
          "metadata": {},
          "execution_count": 37
        }
      ]
    },
    {
      "cell_type": "code",
      "source": [
        "heap.buildHeap(array)"
      ],
      "metadata": {
        "colab": {
          "base_uri": "https://localhost:8080/"
        },
        "id": "SslvEAKwEgO1",
        "outputId": "e6286070-3c87-4728-dba6-ada03923f1bb"
      },
      "execution_count": 38,
      "outputs": [
        {
          "output_type": "execute_result",
          "data": {
            "text/plain": [
              "[391, 56, 41, 24, 48, 8, 24, 7, 12, 8, 2, 6, -5, 24]"
            ]
          },
          "metadata": {},
          "execution_count": 38
        }
      ]
    },
    {
      "cell_type": "code",
      "source": [
        "heap.insert(76)\n",
        "heap.heap"
      ],
      "metadata": {
        "colab": {
          "base_uri": "https://localhost:8080/"
        },
        "id": "t8vTdZGMEidS",
        "outputId": "4d3297cd-f5f7-475a-8a77-8a3d3b54afbe"
      },
      "execution_count": 39,
      "outputs": [
        {
          "output_type": "execute_result",
          "data": {
            "text/plain": [
              "[391, 56, 76, 24, 48, 8, 41, 7, 12, 8, 2, 6, -5, 24, 24]"
            ]
          },
          "metadata": {},
          "execution_count": 39
        }
      ]
    },
    {
      "cell_type": "code",
      "source": [
        "heap.peek()"
      ],
      "metadata": {
        "colab": {
          "base_uri": "https://localhost:8080/"
        },
        "id": "m-qCw6BpFOMG",
        "outputId": "d9e5f6fe-be4c-45d5-ff0d-9f6684f7bd93"
      },
      "execution_count": 40,
      "outputs": [
        {
          "output_type": "execute_result",
          "data": {
            "text/plain": [
              "391"
            ]
          },
          "metadata": {},
          "execution_count": 40
        }
      ]
    },
    {
      "cell_type": "code",
      "source": [
        "heap.remove()"
      ],
      "metadata": {
        "colab": {
          "base_uri": "https://localhost:8080/"
        },
        "id": "JjeLhVhuFQV1",
        "outputId": "10b25da1-28dd-4206-8d7f-189804706a4f"
      },
      "execution_count": 41,
      "outputs": [
        {
          "output_type": "execute_result",
          "data": {
            "text/plain": [
              "391"
            ]
          },
          "metadata": {},
          "execution_count": 41
        }
      ]
    },
    {
      "cell_type": "code",
      "source": [
        "heap.heap"
      ],
      "metadata": {
        "colab": {
          "base_uri": "https://localhost:8080/"
        },
        "id": "zBVMxJYrFRLF",
        "outputId": "bef68d98-aacd-4f8d-c0ad-5106f0c50179"
      },
      "execution_count": 42,
      "outputs": [
        {
          "output_type": "execute_result",
          "data": {
            "text/plain": [
              "[76, 56, 41, 24, 48, 8, 24, 7, 12, 8, 2, 6, -5, 24]"
            ]
          },
          "metadata": {},
          "execution_count": 42
        }
      ]
    },
    {
      "cell_type": "code",
      "source": [
        "heap.peek()"
      ],
      "metadata": {
        "colab": {
          "base_uri": "https://localhost:8080/"
        },
        "id": "lf0Dp9uNFUlI",
        "outputId": "0febc7ad-c346-4cf8-9699-948f7cd4c5f0"
      },
      "execution_count": 43,
      "outputs": [
        {
          "output_type": "execute_result",
          "data": {
            "text/plain": [
              "76"
            ]
          },
          "metadata": {},
          "execution_count": 43
        }
      ]
    },
    {
      "cell_type": "code",
      "source": [
        "heap.remove()"
      ],
      "metadata": {
        "colab": {
          "base_uri": "https://localhost:8080/"
        },
        "id": "lri-nt66FVXx",
        "outputId": "b0204d4d-d73a-4fe8-84d3-0a40e15b02a4"
      },
      "execution_count": 44,
      "outputs": [
        {
          "output_type": "execute_result",
          "data": {
            "text/plain": [
              "76"
            ]
          },
          "metadata": {},
          "execution_count": 44
        }
      ]
    },
    {
      "cell_type": "code",
      "source": [
        "heap.heap"
      ],
      "metadata": {
        "colab": {
          "base_uri": "https://localhost:8080/"
        },
        "id": "I0d_7nXlFXAG",
        "outputId": "e283a477-a488-4fa0-fad9-4ab3350b5e1f"
      },
      "execution_count": 45,
      "outputs": [
        {
          "output_type": "execute_result",
          "data": {
            "text/plain": [
              "[56, 48, 41, 24, 24, 8, 24, 7, 12, 8, 2, 6, -5]"
            ]
          },
          "metadata": {},
          "execution_count": 45
        }
      ]
    },
    {
      "cell_type": "code",
      "source": [
        "heap.peek()"
      ],
      "metadata": {
        "colab": {
          "base_uri": "https://localhost:8080/"
        },
        "id": "xob-wpi1FbR4",
        "outputId": "77c9a215-3e22-42e8-c944-f59c45e69f96"
      },
      "execution_count": 46,
      "outputs": [
        {
          "output_type": "execute_result",
          "data": {
            "text/plain": [
              "56"
            ]
          },
          "metadata": {},
          "execution_count": 46
        }
      ]
    },
    {
      "cell_type": "code",
      "source": [
        "heap.insert(87)\n",
        "heap.heap"
      ],
      "metadata": {
        "colab": {
          "base_uri": "https://localhost:8080/"
        },
        "id": "ZASvh6poFd5l",
        "outputId": "8a4d5f6e-cdb8-4ccc-cd8c-558dd1dc2a50"
      },
      "execution_count": 47,
      "outputs": [
        {
          "output_type": "execute_result",
          "data": {
            "text/plain": [
              "[87, 48, 56, 24, 24, 8, 41, 7, 12, 8, 2, 6, -5, 24]"
            ]
          },
          "metadata": {},
          "execution_count": 47
        }
      ]
    },
    {
      "cell_type": "code",
      "source": [
        "heap.insert(2)\n",
        "heap.heap"
      ],
      "metadata": {
        "colab": {
          "base_uri": "https://localhost:8080/"
        },
        "id": "1Ee41GEMFgMJ",
        "outputId": "658987a6-e38b-409a-83bc-bd95c2b3406e"
      },
      "execution_count": 48,
      "outputs": [
        {
          "output_type": "execute_result",
          "data": {
            "text/plain": [
              "[87, 48, 56, 24, 24, 8, 41, 7, 12, 8, 2, 6, -5, 24, 2]"
            ]
          },
          "metadata": {},
          "execution_count": 48
        }
      ]
    }
  ]
}