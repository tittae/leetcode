{
  "nbformat": 4,
  "nbformat_minor": 0,
  "metadata": {
    "colab": {
      "name": "Zip Linked List (Very Hard).ipynb",
      "provenance": [],
      "collapsed_sections": [],
      "authorship_tag": "ABX9TyMOROD0hpBkD45152jvYXGn",
      "include_colab_link": true
    },
    "kernelspec": {
      "name": "python3",
      "display_name": "Python 3"
    },
    "language_info": {
      "name": "python"
    }
  },
  "cells": [
    {
      "cell_type": "markdown",
      "metadata": {
        "id": "view-in-github",
        "colab_type": "text"
      },
      "source": [
        "<a href=\"https://colab.research.google.com/github/wisarootl/leetcode/blob/main/Zip_Linked_List_(Very_Hard).ipynb\" target=\"_parent\"><img src=\"https://colab.research.google.com/assets/colab-badge.svg\" alt=\"Open In Colab\"/></a>"
      ]
    },
    {
      "cell_type": "code",
      "source": [
        "# This is an input class. Do not edit.\n",
        "class LinkedList:\n",
        "  def __init__(self, value):\n",
        "    self.value = value\n",
        "    self.next = None\n",
        "          \n",
        "  def __str__(self):\n",
        "    node = self\n",
        "    output_str = ''\n",
        "    while node != None:\n",
        "      output_str = output_str + str(node.value)\n",
        "      if node.next != None:\n",
        "        output_str = output_str + ' -> '\n",
        "      node = node.next\n",
        "    return output_str"
      ],
      "metadata": {
        "id": "HYJYMacQFc2z"
      },
      "execution_count": 2,
      "outputs": []
    },
    {
      "cell_type": "code",
      "execution_count": 100,
      "metadata": {
        "id": "yyREwQuaFUpG"
      },
      "outputs": [],
      "source": [
        "# Time O(n)\n",
        "# Space O(1)\n",
        "def zipLinkedList(linkedList):\n",
        "  if linkedList.next == None:\n",
        "    return linkedList\n",
        "  first_head = linkedList\n",
        "  second_head = split_linkedlist(linkedList)\n",
        "  reversed_second_head = reverse_linkedlist(second_head)\n",
        "  head = alternate_linkedlist(first_head, reversed_second_head)\n",
        "  return head\n",
        "\n",
        "# Time O(n)\n",
        "# Space O(1)\n",
        "def split_linkedlist(linkedList):\n",
        "  node = linkedList\n",
        "  idx = 0\n",
        "  while node != None:\n",
        "    node = node.next\n",
        "    idx += 1\n",
        "\n",
        "  idx = round(idx/2)\n",
        "  second_head = linkedList\n",
        "  first_tail = None\n",
        "  for i in range(idx):\n",
        "    first_tail = second_head\n",
        "    second_head = second_head.next\n",
        "\n",
        "  first_tail.next = None\n",
        "  return second_head\n",
        "\n",
        "# Time O(n)\n",
        "# Space O(1)\n",
        "def reverse_linkedlist(head):\n",
        "\tp1 = None\n",
        "\tp2 = head\n",
        "\twhile p2 != None:\n",
        "\t\tp3 = p2.next\n",
        "\t\tp2.next = p1\n",
        "\t\tp1 = p2\n",
        "\t\tp2 = p3\n",
        "\n",
        "\treturn p1\n",
        "\n",
        "# Time O(n)\n",
        "# Space O(1)\n",
        "def alternate_linkedlist(first_head, second_head):\n",
        "  p1 = first_head.next\n",
        "  p2 = second_head\n",
        "  head = first_head\n",
        "  tail = first_head\n",
        "  while p1 != None or p2 != None:\n",
        "    if p2 != None:\n",
        "      tail.next = p2\n",
        "      tail = p2\n",
        "      p2 = p2.next\n",
        "\n",
        "    if p1 != None:\n",
        "      tail.next = p1\n",
        "      tail = p1\n",
        "      p1 = p1.next\n",
        "\n",
        "  return first_head"
      ]
    },
    {
      "cell_type": "code",
      "source": [
        "  # print('p1 : ', end='')\n",
        "  # print(p1)\n",
        "  # print('p2 : ', end='')\n",
        "  # print(p2)\n",
        "  # print('head : ', end='')\n",
        "  # print(head)"
      ],
      "metadata": {
        "id": "yfR93AWbPC8r"
      },
      "execution_count": null,
      "outputs": []
    },
    {
      "cell_type": "code",
      "source": [
        "def create_link_list(array):\n",
        "  head = LinkedList(array[0])\n",
        "  node = head\n",
        "  for i in range(1, len(array)):\n",
        "    node.next = LinkedList(array[i])\n",
        "    node = node.next\n",
        "  return head"
      ],
      "metadata": {
        "id": "tGsW2mLDFgMk"
      },
      "execution_count": 101,
      "outputs": []
    },
    {
      "cell_type": "code",
      "source": [
        "head = create_link_list(range(1, 7))\n",
        "print(head)"
      ],
      "metadata": {
        "colab": {
          "base_uri": "https://localhost:8080/"
        },
        "id": "t6unjym9Fh27",
        "outputId": "25211916-2a1a-4f83-e8f0-d2dd451ee702"
      },
      "execution_count": 102,
      "outputs": [
        {
          "output_type": "stream",
          "name": "stdout",
          "text": [
            "1 -> 2 -> 3 -> 4 -> 5 -> 6\n"
          ]
        }
      ]
    },
    {
      "cell_type": "code",
      "source": [
        "head = zipLinkedList(head)"
      ],
      "metadata": {
        "id": "_-39Utk0FyRj"
      },
      "execution_count": 103,
      "outputs": []
    },
    {
      "cell_type": "code",
      "source": [
        "print(head)"
      ],
      "metadata": {
        "colab": {
          "base_uri": "https://localhost:8080/"
        },
        "id": "CPq1-EpgF1cu",
        "outputId": "eaee743d-c61b-427a-f2a4-3d50ffa4414d"
      },
      "execution_count": 104,
      "outputs": [
        {
          "output_type": "stream",
          "name": "stdout",
          "text": [
            "1 -> 6 -> 2 -> 5 -> 3 -> 4\n"
          ]
        }
      ]
    }
  ]
}