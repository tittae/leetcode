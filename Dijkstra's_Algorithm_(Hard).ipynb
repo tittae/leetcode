{
  "nbformat": 4,
  "nbformat_minor": 0,
  "metadata": {
    "colab": {
      "name": "Dijkstra's Algorithm (Hard).ipynb",
      "provenance": [],
      "collapsed_sections": [],
      "authorship_tag": "ABX9TyNyJyVus6tFKDhUHRkYnNuc",
      "include_colab_link": true
    },
    "kernelspec": {
      "name": "python3",
      "display_name": "Python 3"
    },
    "language_info": {
      "name": "python"
    }
  },
  "cells": [
    {
      "cell_type": "markdown",
      "metadata": {
        "id": "view-in-github",
        "colab_type": "text"
      },
      "source": [
        "<a href=\"https://colab.research.google.com/github/wisarootl/leetcode/blob/main/Dijkstra's_Algorithm_(Hard).ipynb\" target=\"_parent\"><img src=\"https://colab.research.google.com/assets/colab-badge.svg\" alt=\"Open In Colab\"/></a>"
      ]
    },
    {
      "cell_type": "markdown",
      "source": [
        "# Dijkstra's Algorithm"
      ],
      "metadata": {
        "id": "0ONpPvuKewSU"
      }
    },
    {
      "cell_type": "markdown",
      "source": [
        "You're given an integer `start` and a list `edges` of pairs of integers.\n",
        "\n",
        "The list is what's called an adjacency list, and it represents a graph. The number of vertices in the graph is equal to the length of `edges`, where each index `i` in `edges` contains vertex `i`'s outbound edges, in no particular order. Each individual edge is represented by an pair of two numbers, `[destination, distance]`, where the destination is a positive integer denoting the destination vertex and the distance is a positive integer representing the length of the edge (the distance from vertex `i` to vertex `destination`). Note that these edges are directed, meaning that you can only travel from a particular vertex to its destination—not the other way around (unless the destination vertex itself has an outbound edge to the original vertex).\n",
        "\n",
        "Write a function that computes the lengths of the shortest paths between `start` and all of the other vertices in the graph using Dijkstra's algorithm and returns them in an array. Each index `i` in the output array should represent the length of the shortest path between `start` and vertex `i`. If no path is found from `start` to vertex `i`, then `output[i]` should be `-1`.\n",
        "\n",
        "Note that the graph represented by `edges` won't contain any self-loops (vertices that have an outbound edge to themselves) and will only have positively weighted edges (i.e., no negative distances).\n",
        "\n",
        "If you're unfamiliar with Dijkstra's algorithm, we recommend watching the Conceptual Overview section of this question's video explanation before starting to code."
      ],
      "metadata": {
        "id": "K6tQTM6texMP"
      }
    },
    {
      "cell_type": "markdown",
      "source": [
        "Sample Input\n",
        "\n",
        "```\n",
        "start = 0\n",
        "edges = [\n",
        "  [[1, 7]],\n",
        "  [[2, 6], [3, 20], [4, 3]],\n",
        "  [[3, 14]],\n",
        "  [[4, 2]],\n",
        "  [],\n",
        "  [],\n",
        "]\n",
        "```\n",
        "\n"
      ],
      "metadata": {
        "id": "LBZl0_qrfF2g"
      }
    },
    {
      "cell_type": "markdown",
      "source": [
        "Sample Output\n",
        "\n",
        "```\n",
        "[0, 7, 13, 27, 10, -1]\n",
        "```\n",
        "\n"
      ],
      "metadata": {
        "id": "owYtiwW6fIXE"
      }
    },
    {
      "cell_type": "markdown",
      "source": [
        "# Solution 1 : use array as fringe"
      ],
      "metadata": {
        "id": "ReezzazLdiWD"
      }
    },
    {
      "cell_type": "code",
      "source": [
        "# Time = O((V+E)*V*log(V))\n",
        "# Space = O(V)\n",
        "def dijkstrasAlgorithm(start, edges):\n",
        "  shortest_path = [float('inf')] * len(edges)\n",
        "  shortest_path[start] = 0\n",
        "  # init fringe\n",
        "  fringe = [[start, shortest_path[start]]]\n",
        "  visited = set()\n",
        "  \n",
        "  while True:\n",
        "    # is fringe empty?\n",
        "    if fringe == []:\n",
        "      return list(map(lambda x: -1 if x == float('inf') else x, shortest_path))\n",
        "\n",
        "    # remove front\n",
        "    front = fringe.pop()\n",
        "    visited.add(front[0])\n",
        "\n",
        "    # gen & insert successor\n",
        "    for edge in edges[front[0]]:\n",
        "      if edge[0] in visited:\n",
        "        continue\n",
        "      # find shortest path\n",
        "      new_distance = shortest_path[front[0]] + edge[1]\n",
        "      if new_distance < shortest_path[edge[0]]:\n",
        "        shortest_path[edge[0]] = new_distance\n",
        "\n",
        "      fringe.append([edge[0], shortest_path[edge[0]]])\n",
        "  \n",
        "    fringe = sorted(fringe, key=lambda x: x[1], reverse=True)"
      ],
      "metadata": {
        "id": "k22ANiBfd1GD"
      },
      "execution_count": 1,
      "outputs": []
    },
    {
      "cell_type": "code",
      "source": [
        "start = 0\n",
        "edges = [\n",
        "  [[1, 7]],\n",
        "  [[2, 6], [3, 20], [4, 3]],\n",
        "  [[3, 14]],\n",
        "  [[4, 2]],\n",
        "  [],\n",
        "  [],\n",
        "]\n",
        "dijkstrasAlgorithm(start, edges)"
      ],
      "metadata": {
        "colab": {
          "base_uri": "https://localhost:8080/"
        },
        "id": "bNUzcgNTYffF",
        "outputId": "3486da0b-e121-4f04-99e6-b2663ad61b36"
      },
      "execution_count": 2,
      "outputs": [
        {
          "output_type": "execute_result",
          "data": {
            "text/plain": [
              "[0, 7, 13, 27, 10, -1]"
            ]
          },
          "metadata": {},
          "execution_count": 2
        }
      ]
    },
    {
      "cell_type": "markdown",
      "source": [
        "# Solution 2 : use min heap as fringe"
      ],
      "metadata": {
        "id": "lgmOzZ-9dqKX"
      }
    },
    {
      "cell_type": "code",
      "source": [
        "# Apply heap\n",
        "# Time = O((V+E)*log(V))\n",
        "# Space = O(V)\n",
        "def dijkstrasAlgorithm(start, edges):\n",
        "  shortest_path = [float('inf')] * len(edges)\n",
        "  shortest_path[start] = 0\n",
        "  # init fringe\n",
        "  # fringe = [[start, shortest_path[start]]]\n",
        "  fringe = MinHeap([[start, shortest_path[start]]])\n",
        "  visited = set()\n",
        "  \n",
        "  while True:\n",
        "    # is fringe empty?\n",
        "    if fringe.heap == []:\n",
        "      return list(map(lambda x: -1 if x == float('inf') else x, shortest_path))\n",
        "\n",
        "    # remove front\n",
        "    front = fringe.remove()\n",
        "    visited.add(front[0])\n",
        "\n",
        "    # gen & insert successor\n",
        "    for edge in edges[front[0]]:\n",
        "      if edge[0] in visited:\n",
        "        continue\n",
        "      # find shortest path\n",
        "      new_distance = shortest_path[front[0]] + edge[1]\n",
        "      if new_distance < shortest_path[edge[0]]:\n",
        "        shortest_path[edge[0]] = new_distance\n",
        "      \n",
        "      fringe.insert([edge[0], shortest_path[edge[0]]])"
      ],
      "metadata": {
        "id": "l6tL49UISFlK"
      },
      "execution_count": 3,
      "outputs": []
    },
    {
      "cell_type": "code",
      "execution_count": 4,
      "metadata": {
        "id": "j5WEoq0yTHQc"
      },
      "outputs": [],
      "source": [
        "class MinHeap:\n",
        "  def __init__(self, array):\n",
        "    self.node_position_in_heap = {node[0]:node[0] for node in array}\n",
        "    self.heap = self.buildHeap(array)\n",
        "  \n",
        "  # time = O(n), space = O(1)\n",
        "  def buildHeap(self, array):\n",
        "    last_parent_idx = (len(array) - 2) // 2\n",
        "    for idx in reversed(range(last_parent_idx + 1)):\n",
        "      self.siftDown(idx, array)\n",
        "    return array\n",
        "  \n",
        "  # time = O(log n), space = O(1)\n",
        "  def siftDown(self, idx, heap):\n",
        "    child_one_idx = (2 * idx) + 1\n",
        "    child_two_idx = (2 * idx) + 2\n",
        "    end_idx = len(heap) - 1\n",
        "    while child_one_idx <= end_idx:\n",
        "      if child_two_idx <= end_idx and heap[child_two_idx][1] < heap[child_one_idx][1]: # modified heap\n",
        "        idx_to_swap = child_two_idx\n",
        "      else: \n",
        "        idx_to_swap = child_one_idx\n",
        "\n",
        "      if heap[idx_to_swap][1] < heap[idx][1]:\n",
        "        self.swap(idx, idx_to_swap, heap) # modified heap\n",
        "        idx = idx_to_swap\n",
        "        child_one_idx = (2 * idx) + 1\n",
        "        child_two_idx = (2 * idx) + 2\n",
        "      else:\n",
        "        return\n",
        "  \n",
        "  # time = O(log n), space = O(1)\n",
        "  def siftUp(self, idx, heap):\n",
        "    parent_idx = (idx - 1) // 2\n",
        "    while heap[idx][1] < heap[parent_idx][1] and idx > 0:\n",
        "      self.swap(idx, parent_idx, heap)\n",
        "      idx = parent_idx\n",
        "      parent_idx = (idx - 1) // 2\n",
        "\n",
        "  # time = O(1), space = O(1)\n",
        "  def peek(self):\n",
        "    return self.heap[0]\n",
        "\n",
        "  # time = O(log n), space = O(1)\n",
        "  def remove(self, idx = 0):\n",
        "    self.swap(idx, -1, self.heap)\n",
        "    removed_value = self.heap.pop()\n",
        "    self.node_position_in_heap.pop(removed_value[0]) # modified heap\n",
        "    self.siftDown(idx, self.heap)\n",
        "    return removed_value\n",
        "\n",
        "  # time = O(log n), space = O(1)\n",
        "  def insert(self, value):\n",
        "    self.heap.append(value)\n",
        "    self.siftUp(len(self.heap) - 1, self.heap)\n",
        "\n",
        "  # time = O(1), space = O(1)\n",
        "  # modified heap\n",
        "  def swap(self, i, j, heap):\n",
        "    self.node_position_in_heap[heap[i][0]] = j\n",
        "    self.node_position_in_heap[heap[j][0]] = i\n",
        "    heap[i], heap[j] = heap[j], heap[i]"
      ]
    },
    {
      "cell_type": "code",
      "source": [
        "start = 0\n",
        "edges = [\n",
        "  [[1, 7]],\n",
        "  [[2, 6], [3, 20], [4, 3]],\n",
        "  [[3, 14]],\n",
        "  [[4, 2]],\n",
        "  [],\n",
        "  [],\n",
        "]\n",
        "dijkstrasAlgorithm(start, edges)"
      ],
      "metadata": {
        "colab": {
          "base_uri": "https://localhost:8080/"
        },
        "id": "GzWbOt9Xd2U1",
        "outputId": "c241736a-3909-4233-bd0c-6bb2e58a3fd9"
      },
      "execution_count": 5,
      "outputs": [
        {
          "output_type": "execute_result",
          "data": {
            "text/plain": [
              "[0, 7, 13, 27, 10, -1]"
            ]
          },
          "metadata": {},
          "execution_count": 5
        }
      ]
    }
  ]
}