{
  "cells": [
    {
      "cell_type": "markdown",
      "metadata": {
        "colab_type": "text",
        "id": "view-in-github"
      },
      "source": [
        "<a href=\"https://colab.research.google.com/github/wisarootl/leetcode/blob/main/Monotonic_Array_(Medium).ipynb\" target=\"_parent\"><img src=\"https://colab.research.google.com/assets/colab-badge.svg\" alt=\"Open In Colab\"/></a>"
      ]
    },
    {
      "cell_type": "markdown",
      "metadata": {
        "id": "ziFRAFJtCAkr"
      },
      "source": [
        "# Monotonic Array"
      ]
    },
    {
      "cell_type": "markdown",
      "metadata": {
        "id": "ojdrDOI-CBx5"
      },
      "source": [
        "Write a function that takes in an array of integers and returns a boolean representing whether the array is monotonic.\n",
        "\n",
        "An array is said to be monotonic if its elements, from left to right, are entirely non-increasing or entirely non-decreasing.\n",
        "\n",
        "Non-increasing elements aren't necessarily exclusively decreasing; they simply don't increase. Similarly, non-decreasing elements aren't necessarily exclusively increasing; they simply don't decrease.\n",
        "\n",
        "Note that empty arrays and arrays of one element are monotonic."
      ]
    },
    {
      "cell_type": "markdown",
      "metadata": {
        "id": "t0aVn2qKCDPe"
      },
      "source": [
        "Sample Input\n",
        "\n",
        "```\n",
        "array = [-1, -5, -10, -1100, -1100, -1101, -1102, -9001]\n",
        "```\n",
        "\n"
      ]
    },
    {
      "cell_type": "markdown",
      "metadata": {
        "id": "VugstuLPCGPy"
      },
      "source": [
        "Sample Output\n",
        "\n",
        "```\n",
        "true\n",
        "```\n",
        "\n"
      ]
    },
    {
      "cell_type": "code",
      "execution_count": null,
      "metadata": {
        "id": "dSQesy4mB_ul"
      },
      "outputs": [],
      "source": [
        "# Time O(n)\n",
        "# Spece O(1)\n",
        "\n",
        "def isMonotonic(array):\n",
        "  if len(array) <= 2: return True\n",
        "  # non-increasing\n",
        "  for i in range(1, len(array)):\n",
        "    if array[i - 1] <= array[i]:\n",
        "      if i == len(array) - 1:  return True\n",
        "      continue\n",
        "    else:\n",
        "      break\n",
        "\n",
        "  # non-decreasing\n",
        "  for i in range(1, len(array)):\n",
        "    if array[i - 1] >= array[i]:\n",
        "      if i == len(array) - 1: return True\n",
        "      continue\n",
        "    else:\n",
        "      break\n",
        "\n",
        "  return False"
      ]
    },
    {
      "cell_type": "code",
      "execution_count": null,
      "metadata": {
        "id": "zYHxy16iD_nB"
      },
      "outputs": [],
      "source": [
        "array = [-1, -5, -10, -1100, -1100, -1101, -1102, -9001]"
      ]
    },
    {
      "cell_type": "code",
      "execution_count": null,
      "metadata": {
        "colab": {
          "base_uri": "https://localhost:8080/"
        },
        "id": "9o5VST4pEA8q",
        "outputId": "2c76ba27-ccbe-4ff0-bf73-9cedbd2a3f59"
      },
      "outputs": [
        {
          "name": "stdout",
          "output_type": "stream",
          "text": [
            "True\n"
          ]
        }
      ],
      "source": [
        "print(isMonotonic(array))\n",
        "\n"
      ]
    },
    {
      "cell_type": "markdown",
      "metadata": {
        "id": "-m9BygM-Kmyn"
      },
      "source": [
        "# Solution (cleaner solution w/ one for loop)"
      ]
    },
    {
      "cell_type": "code",
      "execution_count": null,
      "metadata": {
        "id": "caauVJv2KnaJ"
      },
      "outputs": [],
      "source": [
        "# Time O(n)\n",
        "# Spece O(1)\n",
        "\n",
        "def isMonotonic(array):\n",
        "\tis_non_decreasing = True\n",
        "\tis_non_increasing = True\n",
        "\tfor i in range(1, len(array)):\n",
        "\t\tif array[i - 1] > array[i]:\n",
        "\t\t\tis_non_decreasing = False\n",
        "\t\tif array[i - 1] < array[i]:\n",
        "\t\t\tis_non_increasing = False\n",
        "\n",
        "\treturn is_non_decreasing or is_non_increasing"
      ]
    },
    {
      "cell_type": "code",
      "execution_count": null,
      "metadata": {
        "colab": {
          "base_uri": "https://localhost:8080/"
        },
        "id": "prmveaw0KuDt",
        "outputId": "1a76ad90-cd7c-4a64-a564-3d397d749069"
      },
      "outputs": [
        {
          "name": "stdout",
          "output_type": "stream",
          "text": [
            "True\n"
          ]
        }
      ],
      "source": [
        "array = [-1, -5, -10, -1100, -1100, -1101, -1102, -9001]\n",
        "print(isMonotonic(array))"
      ]
    }
  ],
  "metadata": {
    "colab": {
      "authorship_tag": "ABX9TyOlP7fu46utt0E+VYkIyFnE",
      "collapsed_sections": [],
      "include_colab_link": true,
      "name": "Monotonic Array (Medium).ipynb",
      "provenance": []
    },
    "kernelspec": {
      "display_name": "Python 3",
      "name": "python3"
    },
    "language_info": {
      "name": "python"
    }
  },
  "nbformat": 4,
  "nbformat_minor": 0
}
