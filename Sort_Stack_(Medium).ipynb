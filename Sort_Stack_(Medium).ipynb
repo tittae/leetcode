{
  "nbformat": 4,
  "nbformat_minor": 0,
  "metadata": {
    "colab": {
      "name": "Sort Stack (Medium).ipynb",
      "provenance": [],
      "collapsed_sections": [],
      "authorship_tag": "ABX9TyOqg1P0I2kV204DGKRJWxFt",
      "include_colab_link": true
    },
    "kernelspec": {
      "name": "python3",
      "display_name": "Python 3"
    },
    "language_info": {
      "name": "python"
    }
  },
  "cells": [
    {
      "cell_type": "markdown",
      "metadata": {
        "id": "view-in-github",
        "colab_type": "text"
      },
      "source": [
        "<a href=\"https://colab.research.google.com/github/wisarootl/leetcode/blob/main/Sort_Stack_(Medium).ipynb\" target=\"_parent\"><img src=\"https://colab.research.google.com/assets/colab-badge.svg\" alt=\"Open In Colab\"/></a>"
      ]
    },
    {
      "cell_type": "markdown",
      "source": [
        "# Sort Stack"
      ],
      "metadata": {
        "id": "pAIR940VrLTl"
      }
    },
    {
      "cell_type": "markdown",
      "source": [
        "Write a function that takes in an array of integers representing a stack, recursively sorts the stack in place (i.e., doesn't create a brand new array), and returns it.\n",
        "\n",
        "The array must be treated as a stack, with the end of the array as the top of the stack. Therefore, you're only allowed to\n",
        "\n",
        "- Pop elements from the top of the stack by removing elements from the end of the array using the built-in `.pop()` method in your programming language of choice.\n",
        "- Push elements to the top of the stack by appending elements to the end of the array using the built-in `.append()` method in your programming language of choice.\n",
        "- Peek at the element on top of the stack by accessing the last element in the array.\n",
        "\n",
        "You're not allowed to perform any other operations on the input array, including accessing elements (except for the last element), moving elements, etc.. You're also not allowed to use any other data structures, and your solution must be recursive."
      ],
      "metadata": {
        "id": "2kMTV__WrM7w"
      }
    },
    {
      "cell_type": "markdown",
      "source": [
        "Sample Input\n",
        "\n",
        "```\n",
        "stack = [-5, 2, -2, 4, 3, 1]\n",
        "```\n",
        "\n"
      ],
      "metadata": {
        "id": "X8o5ZoE-rUyN"
      }
    },
    {
      "cell_type": "markdown",
      "source": [
        "Sample Output\n",
        "\n",
        "```\n",
        "[-5, -2, 1, 2, 3, 4]\n",
        "```\n",
        "\n"
      ],
      "metadata": {
        "id": "TZ76cIA7rWil"
      }
    },
    {
      "cell_type": "code",
      "execution_count": 1,
      "metadata": {
        "id": "bc7sZuL3o0fT"
      },
      "outputs": [],
      "source": [
        "# Time O(n^2)\n",
        "# Space O(n)\n",
        "\n",
        "def sortStack(stack):\n",
        "  if len(stack) == 0:\n",
        "    return stack\n",
        "  top = stack.pop()\n",
        "  sortStack(stack)\n",
        "  insert_to_sorted_stack(stack, top)\n",
        "  return stack\n",
        "\n",
        "def insert_to_sorted_stack(stack, value):\n",
        "  if len(stack) == 0 or stack[-1] <= value:\n",
        "    stack.append(value)\n",
        "  else:\n",
        "    top = stack.pop()\n",
        "    insert_to_sorted_stack(stack, value)\n",
        "    stack.append(top)"
      ]
    },
    {
      "cell_type": "code",
      "source": [
        "stack = [-5, 2, -2, 4, 3, 1]\n",
        "sortStack(stack)"
      ],
      "metadata": {
        "colab": {
          "base_uri": "https://localhost:8080/"
        },
        "id": "X0XMa1uTq_mw",
        "outputId": "018aa4d1-fda4-4c78-e8fe-f6dabf229327"
      },
      "execution_count": 3,
      "outputs": [
        {
          "output_type": "execute_result",
          "data": {
            "text/plain": [
              "[-5, -2, 1, 2, 3, 4]"
            ]
          },
          "metadata": {},
          "execution_count": 3
        }
      ]
    }
  ]
}