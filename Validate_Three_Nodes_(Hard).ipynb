{
  "nbformat": 4,
  "nbformat_minor": 0,
  "metadata": {
    "colab": {
      "name": "Validate Three Nodes (Hard).ipynb",
      "provenance": [],
      "authorship_tag": "ABX9TyMPt+WnqIryz3N5WNIqn6sP",
      "include_colab_link": true
    },
    "kernelspec": {
      "name": "python3",
      "display_name": "Python 3"
    },
    "language_info": {
      "name": "python"
    }
  },
  "cells": [
    {
      "cell_type": "markdown",
      "metadata": {
        "id": "view-in-github",
        "colab_type": "text"
      },
      "source": [
        "<a href=\"https://colab.research.google.com/github/wisarootl/leetcode/blob/main/Validate_Three_Nodes_(Hard).ipynb\" target=\"_parent\"><img src=\"https://colab.research.google.com/assets/colab-badge.svg\" alt=\"Open In Colab\"/></a>"
      ]
    },
    {
      "cell_type": "markdown",
      "source": [
        "# Validate Three Nodes"
      ],
      "metadata": {
        "id": "holCxffr42tz"
      }
    },
    {
      "cell_type": "markdown",
      "source": [
        "You're given three nodes that are contained in the same Binary Search Tree: `nodeOne`, `nodeTwo`, and `nodeThree`. Write a function that returns a boolean representing whether one of `nodeOne` or `nodeThree` is an ancestor of `nodeTwo` and the other node is a descendant of `nodeTwo`. For example, if your function determines that `nodeOne` is an ancestor of `nodeTwo`, then it needs to see if `nodeThree` is a descendant of `nodeTwo`. If your function determines that `nodeThree` is an ancestor, then it needs to see if `nodeOne` is a descendant.\n",
        "\n",
        "A descendant of a node `N` is defined as a node contained in the tree rooted at `N`. A node `N` is an ancestor of another node `M` if `M` is a descendant of `N`.\n",
        "\n",
        "It isn't guaranteed that `nodeOne` or `nodeThree` will be ancestors or descendants of `nodeTwo`, but it is guaranteed that all three nodes will be unique and will never be `None` / `null`. In other words, you'll be given valid input nodes.\n",
        "\n",
        "Each `BST` node has an integer `value`, a `left` child node, and a `right` child node. A node is said to be a valid `BST` node if and only if it satisfies the BST property: its `value` is strictly greater than the values of every node to its left; its `value` is less than or equal to the values of every node to its right; and its children nodes are either valid BST nodes themselves or `None` / `null`."
      ],
      "metadata": {
        "id": "88b9oO-j465I"
      }
    },
    {
      "cell_type": "markdown",
      "source": [
        ""
      ],
      "metadata": {
        "id": "tPPwo-2NAh_w"
      }
    },
    {
      "cell_type": "markdown",
      "source": [
        "# Solution 1 : Recursion"
      ],
      "metadata": {
        "id": "1fvt3nAM40jz"
      }
    },
    {
      "cell_type": "code",
      "execution_count": 1,
      "metadata": {
        "id": "VWJC9h4p3D26"
      },
      "outputs": [],
      "source": [
        "# This is an input class. Do not edit.\n",
        "class BST:\n",
        "    def __init__(self, value, left=None, right=None):\n",
        "        self.value = value\n",
        "        self.left = left\n",
        "        self.right = right\n",
        "\n",
        "# Time O(h) : h = height of tree\n",
        "# Space O(h)\n",
        "\n",
        "def validateThreeNodes(nodeOne, nodeTwo, nodeThree):\n",
        "  if is_ancestor_BST(nodeTwo, nodeOne):\n",
        "    if is_ancestor_BST(nodeThree, nodeTwo):\n",
        "      return True\n",
        "  elif is_ancestor_BST(nodeTwo, nodeThree):\n",
        "    if is_ancestor_BST(nodeOne, nodeTwo):\n",
        "      return True\n",
        "  return False\n",
        "\n",
        "def is_ancestor_BST(descendant, ancestor):\n",
        "  if ancestor == None:\n",
        "    return False\n",
        "  elif descendant.value > ancestor.value:\n",
        "    return is_ancestor_BST(descendant, ancestor.right)\n",
        "  elif descendant.value < ancestor.value:\n",
        "    return is_ancestor_BST(descendant, ancestor.left)\n",
        "  elif descendant.value == ancestor.value:\n",
        "    return True"
      ]
    },
    {
      "cell_type": "code",
      "source": [
        "tree = BST(5)\n",
        "tree.left = BST(2)\n",
        "tree.right = BST(7)\n",
        "tree.left.left = BST(1)\n",
        "tree.left.right = BST(4)\n",
        "tree.right.left = BST(6)\n",
        "tree.right.right = BST(8)\n",
        "tree.left.left.left = BST(0)\n",
        "tree.left.right.left = BST(3)"
      ],
      "metadata": {
        "id": "d4RiDY9r3M-Z"
      },
      "execution_count": 2,
      "outputs": []
    },
    {
      "cell_type": "code",
      "source": [
        "nodeOne = tree\n",
        "nodeTwo = tree.left\n",
        "nodeThree = tree.left.right.left\n",
        "validateThreeNodes(nodeOne, nodeTwo, nodeThree)"
      ],
      "metadata": {
        "colab": {
          "base_uri": "https://localhost:8080/"
        },
        "id": "DEX6hrDi3uNk",
        "outputId": "9ed8d162-900b-48c2-ee6d-e8953d2fe1b9"
      },
      "execution_count": 3,
      "outputs": [
        {
          "output_type": "execute_result",
          "data": {
            "text/plain": [
              "True"
            ]
          },
          "metadata": {},
          "execution_count": 3
        }
      ]
    },
    {
      "cell_type": "markdown",
      "source": [
        "# Solution 2 : Write iteratively"
      ],
      "metadata": {
        "id": "ZzkFD8BC4wm7"
      }
    },
    {
      "cell_type": "code",
      "source": [
        "# This is an input class. Do not edit.\n",
        "class BST:\n",
        "    def __init__(self, value, left=None, right=None):\n",
        "        self.value = value\n",
        "        self.left = left\n",
        "        self.right = right\n",
        "\n",
        "# Time O(h) : h = height of tree\n",
        "# Space O(1)\n",
        "\n",
        "def validateThreeNodes(nodeOne, nodeTwo, nodeThree):\n",
        "  if is_ancestor_BST(nodeTwo, nodeOne):\n",
        "    if is_ancestor_BST(nodeThree, nodeTwo):\n",
        "      return True\n",
        "  elif is_ancestor_BST(nodeTwo, nodeThree):\n",
        "    if is_ancestor_BST(nodeOne, nodeTwo):\n",
        "      return True\n",
        "  return False\n",
        "\n",
        "def is_ancestor_BST(descendant, ancestor):\n",
        "  while True:\n",
        "    if ancestor == None:\n",
        "      return False\n",
        "    elif descendant.value > ancestor.value:\n",
        "      ancestor = ancestor.right\n",
        "    elif descendant.value < ancestor.value:\n",
        "      ancestor = ancestor.left\n",
        "    elif descendant.value == ancestor.value:\n",
        "      return True"
      ],
      "metadata": {
        "id": "vrON3aSx4HRE"
      },
      "execution_count": 4,
      "outputs": []
    },
    {
      "cell_type": "code",
      "source": [
        "tree = BST(5)\n",
        "tree.left = BST(2)\n",
        "tree.right = BST(7)\n",
        "tree.left.left = BST(1)\n",
        "tree.left.right = BST(4)\n",
        "tree.right.left = BST(6)\n",
        "tree.right.right = BST(8)\n",
        "tree.left.left.left = BST(0)\n",
        "tree.left.right.left = BST(3)"
      ],
      "metadata": {
        "id": "82cg9Lgy4hUp"
      },
      "execution_count": 5,
      "outputs": []
    },
    {
      "cell_type": "code",
      "source": [
        "nodeOne = tree\n",
        "nodeTwo = tree.left\n",
        "nodeThree = tree.left.right.left\n",
        "validateThreeNodes(nodeOne, nodeTwo, nodeThree)"
      ],
      "metadata": {
        "colab": {
          "base_uri": "https://localhost:8080/"
        },
        "id": "gxQPbjhr4is4",
        "outputId": "89ce3cc3-32b7-4635-f7d9-1374478fec3d"
      },
      "execution_count": 6,
      "outputs": [
        {
          "output_type": "execute_result",
          "data": {
            "text/plain": [
              "True"
            ]
          },
          "metadata": {},
          "execution_count": 6
        }
      ]
    },
    {
      "cell_type": "markdown",
      "source": [
        "# Solution 3"
      ],
      "metadata": {
        "id": "4JHu3vsy_58e"
      }
    },
    {
      "cell_type": "markdown",
      "source": [
        "- find node 2 on the way from node 1 to node 3 or node 3 to node 1"
      ],
      "metadata": {
        "id": "WkryulwA_975"
      }
    },
    {
      "cell_type": "code",
      "source": [
        "# This is an input class. Do not edit.\n",
        "class BST:\n",
        "    def __init__(self, value, left=None, right=None):\n",
        "        self.value = value\n",
        "        self.left = left\n",
        "        self.right = right\n",
        "\n",
        "# Time O(d) : d = distance between node 1 and 3\n",
        "# Space O(1)\n",
        "\n",
        "def validateThreeNodes(nodeOne, nodeTwo, nodeThree):\n",
        "  search_1to3 = nodeOne\n",
        "  search_3to1 = nodeThree\n",
        "\n",
        "  found_node3_from_1to3 = False\n",
        "  found_node1_from_3to1 = False\n",
        "  found_node2_from_1to3 = False\n",
        "  found_node2_from_3to1 = False\n",
        "\n",
        "  while True:\n",
        "    if search_1to3 == nodeThree: found_node3_from_1to3 = True\n",
        "    if search_3to1 == nodeOne: found_node1_from_3to1 = True\n",
        "\n",
        "    if search_1to3 == nodeTwo: found_node2_from_1to3 = True\n",
        "    if search_3to1 == nodeTwo: found_node2_from_3to1 = True\n",
        "\n",
        "    finished_search = search_1to3 == None and search_3to1 == None\n",
        "    if found_node3_from_1to3 or found_node1_from_3to1 or finished_search:\n",
        "      break\n",
        "    \n",
        "    if search_1to3 != None:\n",
        "      search_1to3 = search_1to3.left if search_1to3.value > nodeThree.value else search_1to3.right\n",
        "\n",
        "    if search_3to1 != None:\n",
        "      search_3to1 = search_3to1.left if search_3to1.value > nodeOne.value else search_3to1.right\n",
        "\n",
        "  return (found_node3_from_1to3 and found_node2_from_1to3) or (found_node1_from_3to1 and found_node2_from_3to1)"
      ],
      "metadata": {
        "id": "L99IxcdX-PW2"
      },
      "execution_count": 7,
      "outputs": []
    },
    {
      "cell_type": "code",
      "source": [
        "tree = BST(5)\n",
        "tree.left = BST(2)\n",
        "tree.right = BST(7)\n",
        "tree.left.left = BST(1)\n",
        "tree.left.right = BST(4)\n",
        "tree.right.left = BST(6)\n",
        "tree.right.right = BST(8)\n",
        "tree.left.left.left = BST(0)\n",
        "tree.left.right.left = BST(3)"
      ],
      "metadata": {
        "id": "vWg70H3o_279"
      },
      "execution_count": 8,
      "outputs": []
    },
    {
      "cell_type": "code",
      "source": [
        "nodeOne = tree\n",
        "nodeTwo = tree.left\n",
        "nodeThree = tree.left.right.left\n",
        "validateThreeNodes(nodeOne, nodeTwo, nodeThree)"
      ],
      "metadata": {
        "colab": {
          "base_uri": "https://localhost:8080/"
        },
        "id": "itqSmct6_30d",
        "outputId": "484537e1-232a-4ac9-bbbe-41624be1b616"
      },
      "execution_count": 9,
      "outputs": [
        {
          "output_type": "execute_result",
          "data": {
            "text/plain": [
              "True"
            ]
          },
          "metadata": {},
          "execution_count": 9
        }
      ]
    }
  ]
}