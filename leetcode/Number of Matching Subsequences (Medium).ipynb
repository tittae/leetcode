{
 "cells": [
  {
   "cell_type": "markdown",
   "metadata": {},
   "source": [
    "# Number of Matching Subsequences"
   ]
  },
  {
   "cell_type": "markdown",
   "metadata": {},
   "source": [
    "Given a string `s` and an array of strings `words`, return the number of `words[i]` that is a subsequence of `s`.\n",
    "\n",
    "A subsequence of a string is a new string generated from the original string with some characters (can be none) deleted without changing the relative order of the remaining characters.\n",
    "\n",
    "- For example, `\"ace\"` is a subsequence of `\"abcde\"`."
   ]
  },
  {
   "cell_type": "markdown",
   "metadata": {},
   "source": [
    "Example 1:\n",
    "\n",
    "```\n",
    "Input: s = \"abcde\", words = [\"a\",\"bb\",\"acd\",\"ace\"]\n",
    "Output: 3\n",
    "Explanation: There are three strings in words that are a subsequence of s: \"a\", \"acd\", \"ace\".\n",
    "```"
   ]
  },
  {
   "cell_type": "markdown",
   "metadata": {},
   "source": [
    "Example 2:\n",
    "\n",
    "```\n",
    "Input: s = \"dsahjpjauf\", words = [\"ahjpjau\",\"ja\",\"ahbwzgqnuk\",\"tnmlanowax\"]\n",
    "Output: 2\n",
    "```"
   ]
  },
  {
   "cell_type": "markdown",
   "metadata": {},
   "source": [
    "Constraints:\n",
    "\n",
    "```\n",
    "1 <= s.length <= 5 * 104\n",
    "1 <= words.length <= 5000\n",
    "1 <= words[i].length <= 50\n",
    "s and words[i] consist of only lowercase English letters.\n",
    "```"
   ]
  },
  {
   "cell_type": "code",
   "execution_count": 1,
   "metadata": {},
   "outputs": [],
   "source": [
    "from collections import defaultdict\n",
    "\n",
    "class Solution(object):\n",
    "    def numMatchingSubseq(self, S: str, words: list[str]) -> int:\n",
    "        n_subsequences = 0\n",
    "        state = defaultdict(list)\n",
    "        \n",
    "        for word in words:\n",
    "            state[word[0]].append(word[1:])\n",
    "        \n",
    "        for char in S:\n",
    "            old_bucket = state[char]\n",
    "            state[char] = []\n",
    "            for suffix in old_bucket:\n",
    "                if not suffix:\n",
    "                    n_subsequences += 1\n",
    "                else:\n",
    "                    state[suffix[0]].append(suffix[1:])\n",
    "                    \n",
    "        return n_subsequences"
   ]
  },
  {
   "cell_type": "code",
   "execution_count": 2,
   "metadata": {},
   "outputs": [
    {
     "name": "stdout",
     "output_type": "stream",
     "text": [
      "3\n"
     ]
    }
   ],
   "source": [
    "s = \"abcde\"\n",
    "words = [\"a\",\"bb\",\"acd\",\"ace\"]\n",
    "\n",
    "expected = 3\n",
    "\n",
    "output = Solution().numMatchingSubseq(s, words)\n",
    "print(output)\n",
    "assert output == expected"
   ]
  },
  {
   "cell_type": "code",
   "execution_count": 3,
   "metadata": {},
   "outputs": [
    {
     "name": "stdout",
     "output_type": "stream",
     "text": [
      "2\n"
     ]
    }
   ],
   "source": [
    "s = \"dsahjpjauf\"\n",
    "words = [\"ahjpjau\",\"ja\",\"ahbwzgqnuk\",\"tnmlanowax\"]\n",
    "\n",
    "expected = 2\n",
    "\n",
    "output = Solution().numMatchingSubseq(s, words)\n",
    "print(output)\n",
    "assert output == expected\n"
   ]
  }
 ],
 "metadata": {
  "kernelspec": {
   "display_name": "Python 3.10.5 64-bit ('3.10.5')",
   "language": "python",
   "name": "python3"
  },
  "language_info": {
   "codemirror_mode": {
    "name": "ipython",
    "version": 3
   },
   "file_extension": ".py",
   "mimetype": "text/x-python",
   "name": "python",
   "nbconvert_exporter": "python",
   "pygments_lexer": "ipython3",
   "version": "3.10.5"
  },
  "orig_nbformat": 4,
  "vscode": {
   "interpreter": {
    "hash": "dc2d830d89733278cb510121746799b806674abe1436eac19497ff768cf27c2d"
   }
  }
 },
 "nbformat": 4,
 "nbformat_minor": 2
}
