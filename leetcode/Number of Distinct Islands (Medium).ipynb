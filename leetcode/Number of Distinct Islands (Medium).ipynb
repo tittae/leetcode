{
 "cells": [
  {
   "cell_type": "markdown",
   "metadata": {},
   "source": [
    "# Number of Distinct Islands"
   ]
  },
  {
   "cell_type": "markdown",
   "metadata": {},
   "source": [
    "You are given an m x n binary matrix grid. An island is a group of 1's (representing land) connected 4-directionally (horizontal or vertical.) You may assume all four edges of the grid are surrounded by water.\n",
    "\n",
    "An island is considered to be the same as another if and only if one island can be translated (and not rotated or reflected) to equal the other.\n",
    "\n",
    "Return the number of distinct islands."
   ]
  },
  {
   "cell_type": "markdown",
   "metadata": {},
   "source": [
    "Example 1:\n",
    "\n",
    "```\n",
    "Input: grid = [[1,1,0,0,0],\n",
    "               [1,1,0,0,0],\n",
    "               [0,0,0,1,1],\n",
    "               [0,0,0,1,1]]\n",
    "Output: 1\n",
    "2 island are the same shape\n",
    "```\n"
   ]
  },
  {
   "cell_type": "markdown",
   "metadata": {},
   "source": [
    "Example 2:\n",
    "```\n",
    "Input: grid = [[1,1,0,1,1],\n",
    "               [1,0,0,0,0],\n",
    "               [0,0,0,0,1],\n",
    "               [1,1,0,1,1]]\n",
    "Output: 3\n",
    "2 island on top-right and bottom-left are the same shape.\n",
    "there is 3 unique shape island\n",
    "```"
   ]
  },
  {
   "cell_type": "code",
   "execution_count": 2,
   "metadata": {},
   "outputs": [],
   "source": [
    "class Solution:\n",
    "    # time = O(n)\n",
    "    # space = O(n)\n",
    "    def numDistinctIslands(self, grid):\n",
    "\n",
    "        # Do a DFS to find all cells in the current island.\n",
    "        def dfs(row, col):\n",
    "            if row < 0 or col < 0 or row >= len(grid) or col >= len(grid[0]):\n",
    "                return\n",
    "            if (row, col) in seen or not grid[row][col]:\n",
    "                return\n",
    "            seen.add((row, col))\n",
    "            current_island.add((row - row_origin, col - col_origin))\n",
    "            dfs(row + 1, col)\n",
    "            dfs(row - 1, col)\n",
    "            dfs(row, col + 1)\n",
    "            dfs(row, col - 1)\n",
    "        \n",
    "        # Repeatedly start DFS's as long as there are islands remaining.\n",
    "        seen = set()\n",
    "        unique_islands = set()\n",
    "        for row in range(len(grid)):\n",
    "            for col in range(len(grid[0])):\n",
    "                current_island = set()\n",
    "                row_origin = row\n",
    "                col_origin = col\n",
    "                dfs(row, col)\n",
    "                if current_island:\n",
    "                    unique_islands.add(frozenset(current_island))\n",
    "        \n",
    "        return len(unique_islands)"
   ]
  },
  {
   "cell_type": "code",
   "execution_count": 6,
   "metadata": {},
   "outputs": [
    {
     "name": "stdout",
     "output_type": "stream",
     "text": [
      "1\n"
     ]
    }
   ],
   "source": [
    "grid = [[1,1,0,0,0],[1,1,0,0,0],[0,0,0,1,1],[0,0,0,1,1]]\n",
    "expected = 1\n",
    "\n",
    "output = Solution().numDistinctIslands(grid)\n",
    "print(output)\n",
    "assert output == expected"
   ]
  },
  {
   "cell_type": "code",
   "execution_count": 5,
   "metadata": {},
   "outputs": [
    {
     "name": "stdout",
     "output_type": "stream",
     "text": [
      "3\n"
     ]
    }
   ],
   "source": [
    "grid = [[1,1,0,1,1],[1,0,0,0,0],[0,0,0,0,1],[1,1,0,1,1]]\n",
    "expected = 3\n",
    "\n",
    "output = Solution().numDistinctIslands(grid)\n",
    "print(output)\n",
    "assert output == expected"
   ]
  }
 ],
 "metadata": {
  "interpreter": {
   "hash": "20ac7aad763b689ebdaff2f53a3073c7ed55a0f51860968fbf5603f714378c4e"
  },
  "kernelspec": {
   "display_name": "Python 3.10.0 64-bit",
   "language": "python",
   "name": "python3"
  },
  "language_info": {
   "codemirror_mode": {
    "name": "ipython",
    "version": 3
   },
   "file_extension": ".py",
   "mimetype": "text/x-python",
   "name": "python",
   "nbconvert_exporter": "python",
   "pygments_lexer": "ipython3",
   "version": "3.10.0"
  },
  "orig_nbformat": 4
 },
 "nbformat": 4,
 "nbformat_minor": 2
}
