{
  "nbformat": 4,
  "nbformat_minor": 0,
  "metadata": {
    "colab": {
      "name": "Score of Parentheses (Medium).ipynb",
      "provenance": [],
      "authorship_tag": "ABX9TyPqgR/XE1MDvSbPYT0NPvHz",
      "include_colab_link": true
    },
    "kernelspec": {
      "name": "python3",
      "display_name": "Python 3"
    },
    "language_info": {
      "name": "python"
    }
  },
  "cells": [
    {
      "cell_type": "markdown",
      "metadata": {
        "id": "view-in-github",
        "colab_type": "text"
      },
      "source": [
        "<a href=\"https://colab.research.google.com/github/wisarootl/leetcode/blob/main/Score_of_Parentheses_(Medium).ipynb\" target=\"_parent\"><img src=\"https://colab.research.google.com/assets/colab-badge.svg\" alt=\"Open In Colab\"/></a>"
      ]
    },
    {
      "cell_type": "markdown",
      "source": [
        "# Score of Parentheses"
      ],
      "metadata": {
        "id": "lEAMKpdglACM"
      }
    },
    {
      "cell_type": "markdown",
      "source": [
        "Given a balanced parentheses string s, return the score of the string.\n",
        "\n",
        "The score of a balanced parentheses string is based on the following rule:\n",
        "\n",
        "\"()\" has score 1.\n",
        "AB has score A + B, where A and B are balanced parentheses strings.\n",
        "(A) has score 2 * A, where A is a balanced parentheses string."
      ],
      "metadata": {
        "id": "sUPRawBqk2n2"
      }
    },
    {
      "cell_type": "markdown",
      "source": [
        "Example 1:\n",
        "\n",
        "```\n",
        "Input: s = \"()\"\n",
        "Output: 1\n",
        "```\n",
        "\n"
      ],
      "metadata": {
        "id": "uGSnJSs0lBnj"
      }
    },
    {
      "cell_type": "markdown",
      "source": [
        "Example 2:\n",
        "\n",
        "```\n",
        "Input: s = \"(())\"\n",
        "Output: 2\n",
        "```\n",
        "\n"
      ],
      "metadata": {
        "id": "GGg6kk7MlD8m"
      }
    },
    {
      "cell_type": "markdown",
      "source": [
        "Example 3:\n",
        "\n",
        "```\n",
        "Input: s = \"()()\"\n",
        "Output: 2\n",
        "```\n",
        "\n"
      ],
      "metadata": {
        "id": "oP1kiL5TlGQ6"
      }
    },
    {
      "cell_type": "markdown",
      "source": [
        "Constraints:\n",
        "\n",
        "```\n",
        "2 <= s.length <= 50\n",
        "s consists of only '(' and ')'.\n",
        "s is a balanced parentheses string.\n",
        "```\n",
        "\n"
      ],
      "metadata": {
        "id": "1lmp4GqwlIeS"
      }
    },
    {
      "cell_type": "markdown",
      "source": [
        "# Solution 1 : Stack"
      ],
      "metadata": {
        "id": "Y6vNnVY6eJFY"
      }
    },
    {
      "cell_type": "code",
      "execution_count": 1,
      "metadata": {
        "id": "r3AjjLu1cyRN"
      },
      "outputs": [],
      "source": [
        "# Time = O(n)\n",
        "# Space = O(n)\n",
        "\n",
        "class Solution:\n",
        "    def scoreOfParentheses(self, s):\n",
        "      stack = [0]\n",
        "\n",
        "      for char in s:\n",
        "        if char == '(':\n",
        "          stack.append(0)\n",
        "        elif char == ')':\n",
        "          temp = stack.pop()\n",
        "          stack[-1] += max(2 * temp, 1)\n",
        "      \n",
        "      return stack.pop()"
      ]
    },
    {
      "cell_type": "code",
      "source": [
        "s = '(()(()))'\n",
        "expected = 6\n",
        "\n",
        "output = Solution().scoreOfParentheses(s)\n",
        "print(output)\n",
        "assert output == expected"
      ],
      "metadata": {
        "colab": {
          "base_uri": "https://localhost:8080/"
        },
        "id": "5b5GijTDencT",
        "outputId": "23c10cc7-1632-44c0-a306-cf802ac37286"
      },
      "execution_count": 2,
      "outputs": [
        {
          "output_type": "stream",
          "name": "stdout",
          "text": [
            "6\n"
          ]
        }
      ]
    },
    {
      "cell_type": "markdown",
      "source": [
        "# Solution 2"
      ],
      "metadata": {
        "id": "j0lXGowBfBp_"
      }
    },
    {
      "cell_type": "code",
      "source": [
        "# Time = O(n)\n",
        "# Space = O(1)\n",
        "\n",
        "class Solution:\n",
        "    def scoreOfParentheses(self, s):\n",
        "      score = 0\n",
        "      open_parentheses_count = 0\n",
        "      for idx, char in enumerate(s):\n",
        "        if char == '(':\n",
        "          open_parentheses_count += 1\n",
        "        else:\n",
        "          open_parentheses_count -= 1\n",
        "          if s[idx - 1] == '(':\n",
        "            score += 2**(open_parentheses_count)\n",
        "      \n",
        "      return score"
      ],
      "metadata": {
        "id": "0EReOlHrfC4C"
      },
      "execution_count": 3,
      "outputs": []
    },
    {
      "cell_type": "code",
      "source": [
        "s = '(()(()))'\n",
        "expected = 6\n",
        "\n",
        "output = Solution().scoreOfParentheses(s)\n",
        "print(output)\n",
        "assert output == expected"
      ],
      "metadata": {
        "colab": {
          "base_uri": "https://localhost:8080/"
        },
        "id": "iOq1X3cukvDf",
        "outputId": "9bdb74cc-581d-48f3-a2b3-4b004a6a77a0"
      },
      "execution_count": 4,
      "outputs": [
        {
          "output_type": "stream",
          "name": "stdout",
          "text": [
            "6\n"
          ]
        }
      ]
    }
  ]
}