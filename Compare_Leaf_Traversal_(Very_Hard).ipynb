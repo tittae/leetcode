{
  "nbformat": 4,
  "nbformat_minor": 0,
  "metadata": {
    "colab": {
      "name": "Compare Leaf Traversal (Very Hard).ipynb",
      "provenance": [],
      "authorship_tag": "ABX9TyMeMHVbYodP55PErhYmYDLU",
      "include_colab_link": true
    },
    "kernelspec": {
      "name": "python3",
      "display_name": "Python 3"
    },
    "language_info": {
      "name": "python"
    }
  },
  "cells": [
    {
      "cell_type": "markdown",
      "metadata": {
        "id": "view-in-github",
        "colab_type": "text"
      },
      "source": [
        "<a href=\"https://colab.research.google.com/github/wisarootl/leetcode/blob/main/Compare_Leaf_Traversal_(Very_Hard).ipynb\" target=\"_parent\"><img src=\"https://colab.research.google.com/assets/colab-badge.svg\" alt=\"Open In Colab\"/></a>"
      ]
    },
    {
      "cell_type": "markdown",
      "metadata": {
        "id": "JBnwA7U80PrV"
      },
      "source": [
        "# Compare Leaf Traversal"
      ]
    },
    {
      "cell_type": "markdown",
      "metadata": {
        "id": "_m-C3ola0O_k"
      },
      "source": [
        "Write a function that takes in the root nodes of two Binary Trees and returns a boolean representing whether their leaf traversals are the same.\n",
        "\n",
        "The leaf traversal of a Binary Tree traverses only its leaf nodes from left to right. A leaf node is any node that has no left or right children.\n",
        "\n",
        "For example, the leaf traversal of the following Binary Tree is `1, 3, 2`.\n",
        "\n",
        "```\n",
        "   4\n",
        " /   \\\n",
        "1     5\n",
        "    /   \\\n",
        "   3     2\n",
        "```\n",
        "\n",
        "Each `BinaryTree` node has an integer `value`, a `left` child node, and a `right` child node. Children nodes can either be `BinaryTree` nodes themselves or `None` / `null`.\n"
      ]
    },
    {
      "cell_type": "markdown",
      "metadata": {
        "id": "_GdbnnlC0kMh"
      },
      "source": [
        "Sample Input\n",
        "\n",
        "```\n",
        "tree1 = 1\n",
        "      /   \\\n",
        "     2     3\n",
        "   /   \\     \\\n",
        "  4     5     6\n",
        "      /   \\\n",
        "     7     8\n",
        "tree2 = 1\n",
        "      /   \\\n",
        "     2     3\n",
        "   /   \\    \\\n",
        "  4     7    5\n",
        "            /  \\\n",
        "           8    6\n",
        "```\n",
        "\n"
      ]
    },
    {
      "cell_type": "markdown",
      "metadata": {
        "id": "_LKBokR60nxh"
      },
      "source": [
        "Sample Output\n",
        "\n",
        "```\n",
        "true\n",
        "```\n",
        "\n"
      ]
    },
    {
      "cell_type": "markdown",
      "metadata": {
        "id": "hFFoRkTN0tv9"
      },
      "source": [
        "## Solution 1 (Recursive DFS)"
      ]
    },
    {
      "cell_type": "code",
      "metadata": {
        "id": "_VO7Toc9ztIS"
      },
      "source": [
        "# Time O(n1+n2)\n",
        "# Space O(max(h1,h2) + w1 + w1)\n",
        "\n",
        "# This is an input class. Do not edit.\n",
        "class BinaryTree:\n",
        "    def __init__(self, value, left=None, right=None):\n",
        "        self.value = value\n",
        "        self.left = left\n",
        "        self.right = right\n",
        "\n",
        "\n",
        "def compareLeafTraversal(tree1, tree2):\n",
        "\ttree1_leaf_traversal = dfs_leaf_traversal(tree1)\n",
        "\ttree2_leaf_traversal = dfs_leaf_traversal(tree2)\n",
        "\n",
        "\treturn tree1_leaf_traversal == tree2_leaf_traversal\n",
        "\n",
        "def dfs_leaf_traversal(tree):\n",
        "\tif tree == None:\n",
        "\t\treturn []\n",
        "\telif tree.left == None and tree.right == None:\n",
        "\t\treturn [tree.value]\n",
        "\n",
        "\tleft_tree_leaf_traversal = dfs_leaf_traversal(tree.left)\n",
        "\tright_tree_leaf_traversal = dfs_leaf_traversal(tree.right)\n",
        "\n",
        "\treturn left_tree_leaf_traversal + right_tree_leaf_traversal"
      ],
      "execution_count": 1,
      "outputs": []
    },
    {
      "cell_type": "code",
      "metadata": {
        "id": "BYXb3v252JfM"
      },
      "source": [
        "def input_tree():\n",
        "  tree1 = BinaryTree(1)\n",
        "  tree1.left = BinaryTree(2)\n",
        "  tree1.right = BinaryTree(3)\n",
        "  tree1.left.left = BinaryTree(4)\n",
        "  tree1.left.right = BinaryTree(5)\n",
        "  tree1.right.right = BinaryTree(5)\n",
        "  tree1.left.right.left = BinaryTree(7)\n",
        "  tree1.left.right.right = BinaryTree(8)\n",
        "  tree1.right.right = BinaryTree(6)\n",
        "\n",
        "  tree2 = BinaryTree(1)\n",
        "  tree2.left = BinaryTree(2)\n",
        "  tree2.right = BinaryTree(3)\n",
        "  tree2.left.left = BinaryTree(4)\n",
        "  tree2.left.right = BinaryTree(7)\n",
        "  tree2.right.right = BinaryTree(5)\n",
        "  tree2.right.right.left = BinaryTree(8)\n",
        "  tree2.right.right.right = BinaryTree(6)\n",
        "  return tree1, tree2"
      ],
      "execution_count": 2,
      "outputs": []
    },
    {
      "cell_type": "code",
      "metadata": {
        "colab": {
          "base_uri": "https://localhost:8080/"
        },
        "id": "HegbWlh11Dz9",
        "outputId": "d3e47926-ccb0-48f8-9830-ed30c12e2cfa"
      },
      "source": [
        "tree1, tree2 = input_tree()\n",
        "\n",
        "print(compareLeafTraversal(tree1, tree2))"
      ],
      "execution_count": 3,
      "outputs": [
        {
          "output_type": "stream",
          "name": "stdout",
          "text": [
            "True\n"
          ]
        }
      ]
    },
    {
      "cell_type": "markdown",
      "metadata": {
        "id": "QUahTtYn028E"
      },
      "source": [
        "## Solution 2 (iterative DFS)"
      ]
    },
    {
      "cell_type": "code",
      "metadata": {
        "id": "cyg1VENX07aA"
      },
      "source": [
        "# Time O(n1+n2)\n",
        "# Space O(max(h1,h2))\n",
        "\n",
        "# This is an input class. Do not edit.\n",
        "class BinaryTree:\n",
        "    def __init__(self, value, left=None, right=None):\n",
        "        self.value = value\n",
        "        self.left = left\n",
        "        self.right = right\n",
        "\n",
        "def compareLeafTraversal(tree1, tree2):\n",
        "\ttree1_fringe = [tree1]\n",
        "\ttree2_fringe = [tree2]\n",
        "\t\n",
        "\twhile tree1_fringe != [] and tree2_fringe != []:\n",
        "\t\ttree1_next_leaf_node = dfs_leaf_traversal(tree1_fringe)\n",
        "\t\ttree2_next_leaf_node = dfs_leaf_traversal(tree2_fringe)\n",
        "\t\tif tree1_next_leaf_node == tree2_next_leaf_node:\n",
        "\t\t\tcontinue\n",
        "\t\telse:\n",
        "\t\t\treturn False\n",
        "\n",
        "\treturn True\n",
        "\n",
        "def dfs_leaf_traversal(fringe):\n",
        "\twhile True:\n",
        "\t\t# is fringe empty\n",
        "\t\tif fringe == []:\n",
        "\t\t\treturn None\n",
        "\t\t\n",
        "\t\t# remove front\n",
        "\t\tfront = fringe.pop()\n",
        "\t\n",
        "\t\t# is goal\n",
        "\t\tif front == None:\n",
        "\t\t\tcontinue\n",
        "\t\telif front.left == None and front.right == None:\n",
        "\t\t\treturn front.value\n",
        "\n",
        "\t\t# gen & insert successor\n",
        "\t\tfringe.append(front.left)\n",
        "\t\tfringe.append(front.right)"
      ],
      "execution_count": 4,
      "outputs": []
    },
    {
      "cell_type": "code",
      "metadata": {
        "colab": {
          "base_uri": "https://localhost:8080/"
        },
        "id": "g_68FczF2GB0",
        "outputId": "5409ffe2-a97e-4d7d-8340-3b2c840751c3"
      },
      "source": [
        "tree1, tree2 = input_tree()\n",
        "\n",
        "print(compareLeafTraversal(tree1, tree2))"
      ],
      "execution_count": 5,
      "outputs": [
        {
          "output_type": "stream",
          "name": "stdout",
          "text": [
            "True\n"
          ]
        }
      ]
    }
  ]
}