{
  "nbformat": 4,
  "nbformat_minor": 0,
  "metadata": {
    "colab": {
      "name": "Solve Sudoku (Hard).ipynb",
      "provenance": [],
      "collapsed_sections": [],
      "authorship_tag": "ABX9TyONKA5Bz+6RD1CbuQXBS8gE",
      "include_colab_link": true
    },
    "kernelspec": {
      "name": "python3",
      "display_name": "Python 3"
    },
    "language_info": {
      "name": "python"
    }
  },
  "cells": [
    {
      "cell_type": "markdown",
      "metadata": {
        "id": "view-in-github",
        "colab_type": "text"
      },
      "source": [
        "<a href=\"https://colab.research.google.com/github/wisarootl/leetcode/blob/main/Solve_Sudoku_(Hard).ipynb\" target=\"_parent\"><img src=\"https://colab.research.google.com/assets/colab-badge.svg\" alt=\"Open In Colab\"/></a>"
      ]
    },
    {
      "cell_type": "markdown",
      "source": [
        "# Solve Sudoku"
      ],
      "metadata": {
        "id": "zrextNfps3-U"
      }
    },
    {
      "cell_type": "markdown",
      "source": [
        "You're given a two-dimensional array that represents a 9x9 partially filled Sudoku board. Write a function that returns the solved Sudoku board.\n",
        "\n",
        "Sudoku is a famous number-placement puzzle in which you need to fill a `9x9` grid with integers in the range of 1-9. Each 9x9 Sudoku board is split into 9 3x3 subgrids, as seen in the illustration below, and starts out partially filled."
      ],
      "metadata": {
        "id": "yuGMAA5ys57-"
      }
    },
    {
      "cell_type": "markdown",
      "source": [
        "```\n",
        "- - 3 | - 2 - | 6 - - \n",
        "9 - - | 3 - 5 | - - 1 \n",
        "- - 1 | 8 - 6 | 4 - -\n",
        "- - - - - - - - - - - \n",
        "- - 8 | 1 - 2 | 9 - -\n",
        "7 - - | - - - | - - 8 \n",
        "- - 6 | 7 - 8 | 2 - -\n",
        "- - - - - - - - - - -\n",
        "- - 2 | 6 - 9 | 5 - - \n",
        "8 - - | 2 - 3 | - - 9\n",
        "- - 5 | - 1 - | 3 - -\n",
        "```\n",
        "\n"
      ],
      "metadata": {
        "id": "uE-_yjoCtAZl"
      }
    },
    {
      "cell_type": "markdown",
      "source": [
        "The objective is to fill the grid such that each row, column, and 3x3 subgrid contains the numbers `1-9` exactly once. In other words, no row may contain the same digit more than once, no column may contain the same digit more than once, and none of the 9 3x3 subgrids may contain the same digit more than once.\n",
        "\n",
        "Your input for this problem will always be a partially filled 9x9 two-dimensional array that represents a solvable Sudoku puzzle. Every element in the array will be an integer in the range of `0-9`, where a `0` represents an empty square that must be filled by your algorithm.\n",
        "\n",
        "Note that you may modify the input array and that there will always be exactly one solution to each input Sudoku board."
      ],
      "metadata": {
        "id": "zyHfi5-ntGYi"
      }
    },
    {
      "cell_type": "markdown",
      "source": [
        "Sample Input\n",
        "\n",
        "```\n",
        "board = \n",
        "[\n",
        "  [7, 8, 0, 4, 0, 0, 1, 2, 0],\n",
        "  [6, 0, 0, 0, 7, 5, 0, 0, 9],\n",
        "  [0, 0, 0, 6, 0, 1, 0, 7, 8],\n",
        "  [0, 0, 7, 0, 4, 0, 2, 6, 0],\n",
        "  [0, 0, 1, 0, 5, 0, 9, 3, 0],\n",
        "  [9, 0, 4, 0, 6, 0, 0, 0, 5],\n",
        "  [0, 7, 0, 3, 0, 0, 0, 1, 2],\n",
        "  [1, 2, 0, 0, 0, 7, 4, 0, 0],\n",
        "  [0, 4, 9, 2, 0, 6, 0, 0, 7],\n",
        "]\n",
        "```\n",
        "\n"
      ],
      "metadata": {
        "id": "4uDcr_f9tLWB"
      }
    },
    {
      "cell_type": "markdown",
      "source": [
        "Sample Output\n",
        "\n",
        "```\n",
        "[\n",
        "  [7, 8, 5, 4, 3, 9, 1, 2, 6],\n",
        "  [6, 1, 2, 8, 7, 5, 3, 4, 9],\n",
        "  [4, 9, 3, 6, 2, 1, 5, 7, 8],\n",
        "  [8, 5, 7, 9, 4, 3, 2, 6, 1],\n",
        "  [2, 6, 1, 7, 5, 8, 9, 3, 4],\n",
        "  [9, 3, 4, 1, 6, 2, 7, 8, 5],\n",
        "  [5, 7, 8, 3, 9, 4, 6, 1, 2],\n",
        "  [1, 2, 6, 5, 8, 7, 4, 9, 3],\n",
        "  [3, 4, 9, 2, 1, 6, 8, 5, 7],\n",
        "]\n",
        "```\n",
        "\n"
      ],
      "metadata": {
        "id": "ph9bl_m5tPkB"
      }
    },
    {
      "cell_type": "markdown",
      "source": [
        "# Solution"
      ],
      "metadata": {
        "id": "Qb4IJkBItoWo"
      }
    },
    {
      "cell_type": "markdown",
      "source": [
        "- try put no. 1 - 9 repalcing 0\n",
        "- if valid: try next position\n",
        "- if not valid: backtrack\n",
        "- loop until last element"
      ],
      "metadata": {
        "id": "YhfIdnwRtpzv"
      }
    },
    {
      "cell_type": "code",
      "execution_count": 33,
      "metadata": {
        "id": "OTV7MXPmi5_c"
      },
      "outputs": [],
      "source": [
        "def solveSudoku(board):\n",
        "  solvable = solve_partial_sudoku(0, 0, board)\n",
        "  return board if solvable else solvable\n",
        "  \n",
        "def solve_partial_sudoku(row, col, board):\n",
        "  if col == len(board[row]):\n",
        "    row += 1\n",
        "    col = 0\n",
        "    if row == len(board):\n",
        "      return True\n",
        "  if board[row][col] == 0:\n",
        "    return try_at_position(row, col, board)\n",
        "\n",
        "  return solve_partial_sudoku(row, col + 1, board)\n",
        "\n",
        "def try_at_position(row, col, board):\n",
        "  for digit in range(1, 10):\n",
        "    if is_valid_at_position(digit, row, col, board):\n",
        "      board[row][col] = digit\n",
        "      if solve_partial_sudoku(row, col + 1, board):\n",
        "        return True\n",
        "\n",
        "  board[row][col] = 0\n",
        "  return False\n",
        "\n",
        "def is_valid_at_position(value, row, col, board):\n",
        "  row_is_valid = value not in board[row]\n",
        "  col_is_valid = value not in map(lambda x: x[col], board)\n",
        "  \n",
        "  if not row_is_valid or not col_is_valid:\n",
        "    return False\n",
        "\n",
        "  subgrid_row_start = (row // 3) * 3 \n",
        "  subgrid_col_start = (col // 3) * 3\n",
        "  for subgrid_row_idx in range(3):\n",
        "    for subgrid_col_idx in range(3):\n",
        "      row_to_check = subgrid_row_start + subgrid_row_idx\n",
        "      col_to_check = subgrid_col_start + subgrid_col_idx\n",
        "      if value == board[row_to_check][col_to_check]:\n",
        "        return False\n",
        "\n",
        "  return True"
      ]
    },
    {
      "cell_type": "code",
      "source": [
        "# solvable\n",
        "\n",
        "board = [\n",
        "  [7, 8, 0, 4, 0, 0, 1, 2, 0],\n",
        "  [6, 0, 0, 0, 7, 5, 0, 0, 9],\n",
        "  [0, 0, 0, 6, 0, 1, 0, 7, 8],\n",
        "  [0, 0, 7, 0, 4, 0, 2, 6, 0],\n",
        "  [0, 0, 1, 0, 5, 0, 9, 3, 0],\n",
        "  [9, 0, 4, 0, 6, 0, 0, 0, 5],\n",
        "  [0, 7, 0, 3, 0, 0, 0, 1, 2],\n",
        "  [1, 2, 0, 0, 0, 7, 4, 0, 0],\n",
        "  [0, 4, 9, 2, 0, 6, 0, 0, 7],\n",
        "]\n",
        "solveSudoku(board)"
      ],
      "metadata": {
        "colab": {
          "base_uri": "https://localhost:8080/"
        },
        "id": "tjKioxS_jBDz",
        "outputId": "0fdaa3ad-cf40-412e-d34f-949f3fd33f3a"
      },
      "execution_count": 34,
      "outputs": [
        {
          "output_type": "execute_result",
          "data": {
            "text/plain": [
              "[[7, 8, 5, 4, 3, 9, 1, 2, 6],\n",
              " [6, 1, 2, 8, 7, 5, 3, 4, 9],\n",
              " [4, 9, 3, 6, 2, 1, 5, 7, 8],\n",
              " [8, 5, 7, 9, 4, 3, 2, 6, 1],\n",
              " [2, 6, 1, 7, 5, 8, 9, 3, 4],\n",
              " [9, 3, 4, 1, 6, 2, 7, 8, 5],\n",
              " [5, 7, 8, 3, 9, 4, 6, 1, 2],\n",
              " [1, 2, 6, 5, 8, 7, 4, 9, 3],\n",
              " [3, 4, 9, 2, 1, 6, 8, 5, 7]]"
            ]
          },
          "metadata": {},
          "execution_count": 34
        }
      ]
    },
    {
      "cell_type": "code",
      "source": [
        "# not solvable\n",
        "\n",
        "board = [\n",
        "  [7, 8, 6, 4, 0, 0, 1, 2, 0],\n",
        "  [6, 0, 0, 0, 7, 5, 0, 0, 9],\n",
        "  [0, 0, 0, 6, 0, 1, 0, 7, 8],\n",
        "  [0, 0, 7, 0, 4, 0, 2, 6, 0],\n",
        "  [0, 0, 1, 0, 5, 0, 9, 3, 0],\n",
        "  [9, 0, 4, 0, 6, 0, 0, 0, 5],\n",
        "  [0, 7, 0, 3, 0, 0, 0, 1, 2],\n",
        "  [1, 2, 0, 0, 0, 7, 4, 0, 0],\n",
        "  [0, 4, 9, 2, 0, 6, 0, 0, 7],\n",
        "]\n",
        "solveSudoku(board)"
      ],
      "metadata": {
        "colab": {
          "base_uri": "https://localhost:8080/"
        },
        "id": "6rdmpz1Eq5uB",
        "outputId": "6c21b9dd-d9e8-4830-d3da-3ac06453471f"
      },
      "execution_count": 37,
      "outputs": [
        {
          "output_type": "execute_result",
          "data": {
            "text/plain": [
              "False"
            ]
          },
          "metadata": {},
          "execution_count": 37
        }
      ]
    }
  ]
}