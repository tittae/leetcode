{
 "cells": [
  {
   "cell_type": "markdown",
   "metadata": {},
   "source": [
    "# Find Leaves of Binary Tree"
   ]
  },
  {
   "cell_type": "markdown",
   "metadata": {},
   "source": [
    "Given the `root` of a binary tree, collect a tree's nodes as if you were doing this:\n",
    "\n",
    "- Collect all the leaf nodes.\n",
    "- Remove all the leaf nodes.\n",
    "- Repeat until the tree is empty."
   ]
  },
  {
   "cell_type": "markdown",
   "metadata": {},
   "source": [
    "Example 1:\n",
    "\n",
    "```\n",
    "    1\n",
    "   / \\\n",
    "  2   3\n",
    " / \\\n",
    "4   5\n",
    "\n",
    "\n",
    "    1\n",
    "   /\n",
    "  2 \n",
    "\n",
    "\n",
    "  1\n",
    "```\n",
    "\n",
    "```\n",
    "Input: root = [1,2,3,4,5]\n",
    "Output: [[4,5,3],[2],[1]]\n",
    "Explanation:\n",
    "[[3,5,4],[2],[1]] and [[3,4,5],[2],[1]] are also considered correct answers since per each level it does not matter the order on which elements are returned.\n",
    "```"
   ]
  },
  {
   "cell_type": "markdown",
   "metadata": {},
   "source": [
    "Example 2:\n",
    "\n",
    "```\n",
    "Input: root = [1]\n",
    "Output: [[1]]\n",
    "```"
   ]
  },
  {
   "cell_type": "markdown",
   "metadata": {},
   "source": [
    "Constraints:\n",
    "\n",
    "```\n",
    "The number of nodes in the tree is in the range [1, 100].\n",
    "-100 <= Node.val <= 100\n",
    "```"
   ]
  },
  {
   "cell_type": "code",
   "execution_count": 1,
   "metadata": {},
   "outputs": [],
   "source": [
    "from typing import *\n",
    "\n",
    "# Definition for a binary tree node.\n",
    "class TreeNode:\n",
    "    def __init__(self, val=0, left=None, right=None):\n",
    "        self.val = val\n",
    "        self.left = left\n",
    "        self.right = right\n",
    "\n",
    "class Solution:\n",
    "    # time = O(N)\n",
    "    # space = O(N)\n",
    "    def findLeaves(self, root: Optional[TreeNode]) -> List[List[int]]:\n",
    "        ret = []\n",
    "        def dfs(node):\n",
    "            if not node:\n",
    "                return 0\n",
    "            depth = max(dfs(node.left),dfs(node.right))+1\n",
    "            if len(ret)<depth:\n",
    "                ret.append([])\n",
    "            ret[depth-1].append(node.val)\n",
    "            return depth\n",
    "        dfs(root)\n",
    "        return ret"
   ]
  },
  {
   "cell_type": "code",
   "execution_count": 2,
   "metadata": {},
   "outputs": [
    {
     "name": "stdout",
     "output_type": "stream",
     "text": [
      "[[4, 5, 3], [2], [1]]\n"
     ]
    }
   ],
   "source": [
    "root = TreeNode(1)\n",
    "root.left = TreeNode(2)\n",
    "root.right = TreeNode(3)\n",
    "root.left.left = TreeNode(4)\n",
    "root.left.right = TreeNode(5)\n",
    "\n",
    "expected = [[4,5,3],[2],[1]]\n",
    "\n",
    "output = Solution().findLeaves(root)\n",
    "print(output)\n",
    "assert output == expected"
   ]
  }
 ],
 "metadata": {
  "kernelspec": {
   "display_name": "Python 3.10.5 64-bit ('3.10.5')",
   "language": "python",
   "name": "python3"
  },
  "language_info": {
   "codemirror_mode": {
    "name": "ipython",
    "version": 3
   },
   "file_extension": ".py",
   "mimetype": "text/x-python",
   "name": "python",
   "nbconvert_exporter": "python",
   "pygments_lexer": "ipython3",
   "version": "3.10.5"
  },
  "orig_nbformat": 4,
  "vscode": {
   "interpreter": {
    "hash": "992441bd4bc11ab83c63537935ea198062f55180155eaba570b8d7c82e005e8c"
   }
  }
 },
 "nbformat": 4,
 "nbformat_minor": 2
}
