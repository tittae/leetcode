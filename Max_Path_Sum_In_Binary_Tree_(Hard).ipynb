{
  "nbformat": 4,
  "nbformat_minor": 0,
  "metadata": {
    "colab": {
      "name": "Max Path Sum In Binary Tree (Hard).ipynb",
      "provenance": [],
      "authorship_tag": "ABX9TyOe4HDQokl5JxPPH+xXe296",
      "include_colab_link": true
    },
    "kernelspec": {
      "name": "python3",
      "display_name": "Python 3"
    },
    "language_info": {
      "name": "python"
    }
  },
  "cells": [
    {
      "cell_type": "markdown",
      "metadata": {
        "id": "view-in-github",
        "colab_type": "text"
      },
      "source": [
        "<a href=\"https://colab.research.google.com/github/tittae/leetcode/blob/main/Max_Path_Sum_In_Binary_Tree_(Hard).ipynb\" target=\"_parent\"><img src=\"https://colab.research.google.com/assets/colab-badge.svg\" alt=\"Open In Colab\"/></a>"
      ]
    },
    {
      "cell_type": "markdown",
      "metadata": {
        "id": "NRNMMleRvccO"
      },
      "source": [
        "# Max Path Sum In Binary Tree"
      ]
    },
    {
      "cell_type": "markdown",
      "metadata": {
        "id": "LUsxMxKuvfnu"
      },
      "source": [
        "Write a function that takes in a Binary Tree and returns its max path sum.\n",
        "\n",
        "A path is a collection of connected nodes in a tree, where no node is connected to more than two other nodes; a path sum is the sum of the values of the nodes in a particular path.\n",
        "\n",
        "Each `BinaryTree` node has an integer `value`, a `left` child node, and a `right` child node. Children nodes can either be `BinaryTree` nodes themselves or `None` / `null`."
      ]
    },
    {
      "cell_type": "code",
      "metadata": {
        "id": "YobXIPJ4vTvv"
      },
      "source": [
        ""
      ],
      "execution_count": null,
      "outputs": []
    }
  ]
}