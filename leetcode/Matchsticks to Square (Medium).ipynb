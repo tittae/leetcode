{
 "cells": [
  {
   "cell_type": "markdown",
   "metadata": {},
   "source": [
    "# Matchsticks to Square"
   ]
  },
  {
   "cell_type": "markdown",
   "metadata": {},
   "source": [
    "You are given an integer array `matchsticks` where `matchsticks[i]` is the length of the `i th` matchstick. You want to use all the matchsticks to make one square. You should not break any stick, but you can link them up, and each matchstick must be used exactly one time.\n",
    "\n",
    "Return `true` if you can make this square and `false` otherwise."
   ]
  },
  {
   "cell_type": "markdown",
   "metadata": {},
   "source": [
    "Example 1:\n",
    "\n",
    "```\n",
    "Input: matchsticks = [1,1,2,2,2]\n",
    "Output: true\n",
    "Explanation: You can form a square with length 2, one side of the square came two sticks with length 1.\n",
    "```"
   ]
  },
  {
   "cell_type": "markdown",
   "metadata": {},
   "source": [
    "Example 2:\n",
    "\n",
    "```\n",
    "Input: matchsticks = [3,3,3,3,4]\n",
    "Output: false\n",
    "Explanation: You cannot find a way to form a square with all the matchsticks.\n",
    "```"
   ]
  },
  {
   "cell_type": "markdown",
   "metadata": {},
   "source": [
    "Constraints:\n",
    "\n",
    "```\n",
    "1 <= matchsticks.length <= 15\n",
    "1 <= matchsticks[i] <= 108\n",
    "```"
   ]
  },
  {
   "cell_type": "code",
   "execution_count": 1,
   "metadata": {},
   "outputs": [],
   "source": [
    "class Solution:\n",
    "    # time = O(n^n)\n",
    "    # space = O(n)\n",
    "    def makesquare(self, matchsticks: list[int]) -> bool:\n",
    "        total = sum(matchsticks)\n",
    "        if total % 4:\n",
    "            return False\n",
    "        target = total / 4\n",
    "        nums = []\n",
    "        for n in matchsticks:\n",
    "            if n > target:\n",
    "                return False\n",
    "            elif n < target:\n",
    "                nums.append(n)\n",
    "\n",
    "        if nums == []:\n",
    "            return True\n",
    "        k = 4 - (len(matchsticks) - len(nums))\n",
    "        nums.sort(reverse=True)\n",
    "        used = [False] * len(nums)\n",
    "\n",
    "        def helper(nums, used, start, target, sum, k):\n",
    "            if k == 1:\n",
    "                return True\n",
    "\n",
    "            i = start\n",
    "            while i < len(nums):\n",
    "                if not used[i]:\n",
    "                    used[i] = True\n",
    "                    if sum + nums[i] < target and helper(nums, used, i + 1, target, sum + nums[i], k):\n",
    "                        return True\n",
    "                    elif sum + nums[i] == target and helper(nums, used, 0, target, 0, k - 1):\n",
    "                        return True\n",
    "                    used[i] = False\n",
    "                    while i + 1 < len(nums) and nums[i + 1] == nums[i]:\n",
    "                        i += 1\n",
    "                    if sum == 0:\n",
    "                        return False\n",
    "                i += 1\n",
    "            return False\n",
    "\n",
    "        return helper(nums, used, 0, target, 0, k)"
   ]
  },
  {
   "cell_type": "code",
   "execution_count": 2,
   "metadata": {},
   "outputs": [
    {
     "name": "stdout",
     "output_type": "stream",
     "text": [
      "True\n"
     ]
    }
   ],
   "source": [
    "matchsticks = [1,1,2,2,2]\n",
    "expected = True\n",
    "\n",
    "output = Solution().makesquare(matchsticks)\n",
    "print(output)\n",
    "\n",
    "assert output == expected"
   ]
  },
  {
   "cell_type": "code",
   "execution_count": 3,
   "metadata": {},
   "outputs": [
    {
     "name": "stdout",
     "output_type": "stream",
     "text": [
      "False\n"
     ]
    }
   ],
   "source": [
    "matchsticks = [3,3,3,3,4]\n",
    "expected = False\n",
    "\n",
    "output = Solution().makesquare(matchsticks)\n",
    "print(output)\n",
    "\n",
    "assert output == expected"
   ]
  }
 ],
 "metadata": {
  "kernelspec": {
   "display_name": "Python 3.10.5 64-bit ('3.10.5')",
   "language": "python",
   "name": "python3"
  },
  "language_info": {
   "codemirror_mode": {
    "name": "ipython",
    "version": 3
   },
   "file_extension": ".py",
   "mimetype": "text/x-python",
   "name": "python",
   "nbconvert_exporter": "python",
   "pygments_lexer": "ipython3",
   "version": "3.10.5"
  },
  "orig_nbformat": 4,
  "vscode": {
   "interpreter": {
    "hash": "dc2d830d89733278cb510121746799b806674abe1436eac19497ff768cf27c2d"
   }
  }
 },
 "nbformat": 4,
 "nbformat_minor": 2
}
