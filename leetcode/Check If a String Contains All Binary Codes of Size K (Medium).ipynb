{
 "cells": [
  {
   "cell_type": "markdown",
   "metadata": {},
   "source": [
    "# Check If a String Contains All Binary Codes of Size K"
   ]
  },
  {
   "cell_type": "markdown",
   "metadata": {},
   "source": [
    "Given a binary string s and an integer k, return true if every binary code of length k is a substring of s. Otherwise, return false."
   ]
  },
  {
   "cell_type": "markdown",
   "metadata": {},
   "source": [
    "Example 1:\n",
    "```\n",
    "Input: s = \"00110110\", k = 2\n",
    "Output: true\n",
    "Explanation: The binary codes of length 2 are \"00\", \"01\", \"10\" and \"11\". They can be all found as substrings at indices 0, 1, 3 and 2 respectively.\n",
    "```"
   ]
  },
  {
   "cell_type": "markdown",
   "metadata": {},
   "source": [
    "Example 2:\n",
    "```\n",
    "Input: s = \"0110\", k = 1\n",
    "Output: true\n",
    "Explanation: The binary codes of length 1 are \"0\" and \"1\", it is clear that both exist as a substring. \n",
    "```"
   ]
  },
  {
   "cell_type": "markdown",
   "metadata": {},
   "source": [
    "Example 3:\n",
    "```\n",
    "Input: s = \"0110\", k = 2\n",
    "Output: false\n",
    "Explanation: The binary code \"00\" is of length 2 and does not exist in the array.\n",
    "```"
   ]
  },
  {
   "cell_type": "markdown",
   "metadata": {},
   "source": [
    "Constraints:\n",
    "```\n",
    "1 <= s.length <= 5 * 105\n",
    "s[i] is either '0' or '1'.\n",
    "1 <= k <= 20\n",
    "```"
   ]
  },
  {
   "cell_type": "markdown",
   "metadata": {},
   "source": [
    "# set"
   ]
  },
  {
   "cell_type": "code",
   "execution_count": 26,
   "metadata": {},
   "outputs": [],
   "source": [
    "class Solution:\n",
    "    # time = O(nk)\n",
    "    # space = O(nk)\n",
    "    def hasAllCodes(self, s: str, k: int) -> bool:\n",
    "        need = 2 ** k\n",
    "        got = set()\n",
    "        \n",
    "\n",
    "        for i in range(k, len(s) + 1):\n",
    "            tmp = s[i-k:i]\n",
    "            if tmp not in got:\n",
    "                got.add(tmp)\n",
    "                need -= 1\n",
    "                # return True when found all occurrences\n",
    "                if need == 0:\n",
    "                    return True\n",
    "        return False"
   ]
  },
  {
   "cell_type": "code",
   "execution_count": 27,
   "metadata": {},
   "outputs": [
    {
     "name": "stdout",
     "output_type": "stream",
     "text": [
      "True\n"
     ]
    }
   ],
   "source": [
    "s = \"00110110\"\n",
    "k = 2\n",
    "expected = True\n",
    "\n",
    "output = Solution().hasAllCodes(s, k)\n",
    "print(output)\n",
    "assert output == expected"
   ]
  },
  {
   "cell_type": "code",
   "execution_count": 28,
   "metadata": {},
   "outputs": [
    {
     "name": "stdout",
     "output_type": "stream",
     "text": [
      "True\n"
     ]
    }
   ],
   "source": [
    "s = \"0110\"\n",
    "k = 1\n",
    "expected = True\n",
    "\n",
    "output = Solution().hasAllCodes(s, k)\n",
    "print(output)\n",
    "assert output == expected"
   ]
  },
  {
   "cell_type": "code",
   "execution_count": 30,
   "metadata": {},
   "outputs": [
    {
     "name": "stdout",
     "output_type": "stream",
     "text": [
      "False\n"
     ]
    }
   ],
   "source": [
    "s = \"0110\"\n",
    "k = 2\n",
    "expected = False\n",
    "\n",
    "output = Solution().hasAllCodes(s, k)\n",
    "print(output)\n",
    "assert output == expected"
   ]
  },
  {
   "cell_type": "markdown",
   "metadata": {},
   "source": [
    "# hash & bitwise"
   ]
  },
  {
   "cell_type": "code",
   "execution_count": 24,
   "metadata": {},
   "outputs": [],
   "source": [
    "class Solution:\n",
    "    def hasAllCodes(self, s: str, k: int) -> bool:\n",
    "        need = 1 << k\n",
    "        got = [False]*need\n",
    "        all_one = need - 1\n",
    "        hash_val = 0\n",
    "\n",
    "        for i in range(len(s)):\n",
    "            # calculate hash for s[i-k+1:i+1]\n",
    "            hash_val = ((hash_val << 1) & all_one) | (int(s[i]))\n",
    "            \n",
    "            # hash only available when i-k+1 > 0\n",
    "            if i >= k-1 and got[hash_val] is False:\n",
    "                got[hash_val] = True\n",
    "                need -= 1\n",
    "                if need == 0:\n",
    "                    return True\n",
    "        return False"
   ]
  },
  {
   "cell_type": "code",
   "execution_count": 25,
   "metadata": {},
   "outputs": [
    {
     "name": "stdout",
     "output_type": "stream",
     "text": [
      "True\n"
     ]
    }
   ],
   "source": [
    "s = \"00110110\"\n",
    "k = 2\n",
    "expected = True\n",
    "\n",
    "output = Solution().hasAllCodes(s, k)\n",
    "print(output)\n",
    "assert output == expected"
   ]
  },
  {
   "cell_type": "code",
   "execution_count": 31,
   "metadata": {},
   "outputs": [
    {
     "name": "stdout",
     "output_type": "stream",
     "text": [
      "True\n"
     ]
    }
   ],
   "source": [
    "s = \"0110\"\n",
    "k = 1\n",
    "expected = True\n",
    "\n",
    "output = Solution().hasAllCodes(s, k)\n",
    "print(output)\n",
    "assert output == expected"
   ]
  },
  {
   "cell_type": "code",
   "execution_count": 32,
   "metadata": {},
   "outputs": [
    {
     "name": "stdout",
     "output_type": "stream",
     "text": [
      "False\n"
     ]
    }
   ],
   "source": [
    "s = \"0110\"\n",
    "k = 2\n",
    "expected = False\n",
    "\n",
    "output = Solution().hasAllCodes(s, k)\n",
    "print(output)\n",
    "assert output == expected"
   ]
  }
 ],
 "metadata": {
  "interpreter": {
   "hash": "20ac7aad763b689ebdaff2f53a3073c7ed55a0f51860968fbf5603f714378c4e"
  },
  "kernelspec": {
   "display_name": "Python 3.10.4 64-bit",
   "language": "python",
   "name": "python3"
  },
  "language_info": {
   "codemirror_mode": {
    "name": "ipython",
    "version": 3
   },
   "file_extension": ".py",
   "mimetype": "text/x-python",
   "name": "python",
   "nbconvert_exporter": "python",
   "pygments_lexer": "ipython3",
   "version": "3.10.4"
  },
  "orig_nbformat": 4
 },
 "nbformat": 4,
 "nbformat_minor": 2
}
