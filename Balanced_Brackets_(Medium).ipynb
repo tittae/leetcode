{
  "nbformat": 4,
  "nbformat_minor": 0,
  "metadata": {
    "colab": {
      "name": "Balanced Brackets (Medium).ipynb",
      "provenance": [],
      "authorship_tag": "ABX9TyNkeLxCNCKFZlH5GHAudU5Z",
      "include_colab_link": true
    },
    "kernelspec": {
      "name": "python3",
      "display_name": "Python 3"
    },
    "language_info": {
      "name": "python"
    }
  },
  "cells": [
    {
      "cell_type": "markdown",
      "metadata": {
        "id": "view-in-github",
        "colab_type": "text"
      },
      "source": [
        "<a href=\"https://colab.research.google.com/github/wisarootl/leetcode/blob/main/Balanced_Brackets_(Medium).ipynb\" target=\"_parent\"><img src=\"https://colab.research.google.com/assets/colab-badge.svg\" alt=\"Open In Colab\"/></a>"
      ]
    },
    {
      "cell_type": "markdown",
      "source": [
        "# Balanced Brackets\n"
      ],
      "metadata": {
        "id": "iai7Y-otUsQX"
      }
    },
    {
      "cell_type": "markdown",
      "source": [
        "Write a function that takes in a string made up of brackets (`(`, `[`, `{`, `)`, `]`, and `}`) and other optional characters. The function should return a boolean representing whether the string is balanced with regards to brackets.\n",
        "\n",
        "A string is said to be balanced if it has as many opening brackets of a certain type as it has closing brackets of that type and if no bracket is unmatched. Note that an opening bracket can't match a corresponding closing bracket that comes before it, and similarly, a closing bracket can't match a corresponding opening bracket that comes after it. Also, brackets can't overlap each other as in `[(])`."
      ],
      "metadata": {
        "id": "HuX8axwuU0we"
      }
    },
    {
      "cell_type": "markdown",
      "source": [
        "Sample Input\n",
        "\n",
        "```\n",
        "string = \"([])(){}(())()()\"\n",
        "```\n",
        "\n"
      ],
      "metadata": {
        "id": "ZcfKOJDjWSjR"
      }
    },
    {
      "cell_type": "markdown",
      "source": [
        "Sample Output\n",
        "\n",
        "```\n",
        "true // it's balanced\n",
        "```\n",
        "\n"
      ],
      "metadata": {
        "id": "uIX2d5pKWW5v"
      }
    },
    {
      "cell_type": "code",
      "execution_count": 1,
      "metadata": {
        "id": "PIJ8SpklS790"
      },
      "outputs": [],
      "source": [
        "def balancedBrackets(string):\n",
        "  close_to_open_brackets = {')':'(', ']':'[', '}':'{'}\n",
        "  open_brackets = {'(', '[', '{'}\n",
        "  open_brackets_stack = []\n",
        "  for i in range(len(string)):\n",
        "    if string[i] in open_brackets:\n",
        "      open_brackets_stack.append(string[i])\n",
        "\n",
        "    elif string[i] in close_to_open_brackets:\n",
        "      current_open_bracket = close_to_open_brackets[string[i]]\n",
        "      if len(open_brackets_stack) > 0 and current_open_bracket == open_brackets_stack[-1]:\n",
        "        open_brackets_stack.pop()\n",
        "      else:\n",
        "        return False\n",
        "\n",
        "  return len(open_brackets_stack) == 0"
      ]
    },
    {
      "cell_type": "code",
      "source": [
        "string = \"([])(){}(())()()\"\n",
        "balancedBrackets(string)"
      ],
      "metadata": {
        "colab": {
          "base_uri": "https://localhost:8080/"
        },
        "id": "skPJhHYYS99I",
        "outputId": "11dbd78c-4afb-42ce-9542-8393c290abd7"
      },
      "execution_count": 2,
      "outputs": [
        {
          "output_type": "execute_result",
          "data": {
            "text/plain": [
              "True"
            ]
          },
          "metadata": {},
          "execution_count": 2
        }
      ]
    },
    {
      "cell_type": "code",
      "source": [
        "string = \"()[]{}{\"\n",
        "balancedBrackets(string)"
      ],
      "metadata": {
        "colab": {
          "base_uri": "https://localhost:8080/"
        },
        "id": "6TLLZDpOTnLA",
        "outputId": "0392af50-573f-4c15-a301-6d2290df5b9d"
      },
      "execution_count": 3,
      "outputs": [
        {
          "output_type": "execute_result",
          "data": {
            "text/plain": [
              "False"
            ]
          },
          "metadata": {},
          "execution_count": 3
        }
      ]
    },
    {
      "cell_type": "code",
      "source": [
        "string = \"{[[[[({(}))]]]]}\"\n",
        "balancedBrackets(string)"
      ],
      "metadata": {
        "colab": {
          "base_uri": "https://localhost:8080/"
        },
        "id": "ZHxGB96qTknu",
        "outputId": "8f60e166-ca72-497c-8327-861e3f85b691"
      },
      "execution_count": 4,
      "outputs": [
        {
          "output_type": "execute_result",
          "data": {
            "text/plain": [
              "False"
            ]
          },
          "metadata": {},
          "execution_count": 4
        }
      ]
    }
  ]
}