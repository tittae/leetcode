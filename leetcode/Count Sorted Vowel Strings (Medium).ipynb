{
 "cells": [
  {
   "cell_type": "markdown",
   "metadata": {},
   "source": [
    "# Count Sorted Vowel Strings"
   ]
  },
  {
   "cell_type": "markdown",
   "metadata": {},
   "source": [
    "Given an integer n, return the number of strings of length n that consist only of vowels (a, e, i, o, u) and are lexicographically sorted.\n",
    "\n",
    "A string s is lexicographically sorted if for all valid i, s[i] is the same as or comes before s[i+1] in the alphabet.\n",
    "\n",
    " "
   ]
  },
  {
   "cell_type": "markdown",
   "metadata": {},
   "source": [
    "Example 1:\n",
    "\n",
    "```\n",
    "Input: n = 1\n",
    "Output: 5\n",
    "Explanation: The 5 sorted strings that consist of vowels only are [\"a\",\"e\",\"i\",\"o\",\"u\"].\n",
    "```"
   ]
  },
  {
   "cell_type": "markdown",
   "metadata": {},
   "source": [
    "Example 2:\n",
    "\n",
    "```\n",
    "Input: n = 2\n",
    "Output: 15\n",
    "Explanation: The 15 sorted strings that consist of vowels only are\n",
    "[\"aa\",\"ae\",\"ai\",\"ao\",\"au\",\"ee\",\"ei\",\"eo\",\"eu\",\"ii\",\"io\",\"iu\",\"oo\",\"ou\",\"uu\"].\n",
    "Note that \"ea\" is not a valid string since 'e' comes after 'a' in the alphabet.\n",
    "```"
   ]
  },
  {
   "cell_type": "markdown",
   "metadata": {},
   "source": [
    "Example 3:\n",
    "\n",
    "```\n",
    "Input: n = 33\n",
    "Output: 66045\n",
    "```\n"
   ]
  },
  {
   "cell_type": "markdown",
   "metadata": {},
   "source": [
    "Constraints:\n",
    "\n",
    "```\n",
    "1 <= n <= 50 \n",
    "```"
   ]
  },
  {
   "cell_type": "markdown",
   "metadata": {},
   "source": [
    "# Solution 1 : DP"
   ]
  },
  {
   "cell_type": "code",
   "execution_count": 1,
   "metadata": {},
   "outputs": [],
   "source": [
    "class Solution:\n",
    "    # time = O(n)\n",
    "    # space = O(1)\n",
    "    def countVowelStrings(self, n: int) -> int:\n",
    "        res = [1, 1, 1, 1, 1]\n",
    "        for _ in range(n - 1):\n",
    "            for i in range(5):\n",
    "                res[i] = sum(res[i:])\n",
    "        return sum(res)"
   ]
  },
  {
   "cell_type": "code",
   "execution_count": 2,
   "metadata": {},
   "outputs": [
    {
     "name": "stdout",
     "output_type": "stream",
     "text": [
      "5\n"
     ]
    }
   ],
   "source": [
    "n = 1\n",
    "expected = 5\n",
    "\n",
    "output = Solution().countVowelStrings(n)\n",
    "print(output)\n",
    "assert output == expected"
   ]
  },
  {
   "cell_type": "code",
   "execution_count": 3,
   "metadata": {},
   "outputs": [
    {
     "name": "stdout",
     "output_type": "stream",
     "text": [
      "15\n"
     ]
    }
   ],
   "source": [
    "n = 2\n",
    "expected = 15\n",
    "\n",
    "output = Solution().countVowelStrings(n)\n",
    "print(output)\n",
    "assert output == expected"
   ]
  },
  {
   "cell_type": "code",
   "execution_count": 4,
   "metadata": {},
   "outputs": [
    {
     "name": "stdout",
     "output_type": "stream",
     "text": [
      "66045\n"
     ]
    }
   ],
   "source": [
    "n = 33\n",
    "expected = 66045\n",
    "\n",
    "output = Solution().countVowelStrings(n)\n",
    "print(output)\n",
    "assert output == expected"
   ]
  },
  {
   "cell_type": "markdown",
   "metadata": {},
   "source": [
    "# Solution 2: Math"
   ]
  },
  {
   "cell_type": "markdown",
   "metadata": {},
   "source": [
    "- Apply combination with repetition formular\n",
    "- there is 5 thing choose k times each time push selected element to the pool"
   ]
  },
  {
   "cell_type": "markdown",
   "metadata": {},
   "source": [
    "$$\\left(\\binom{n}{k}\\right) = \\binom{n + k - 1}{k}\\ = \\dfrac{(n + k - 1)!}{k!(n-1)!}$$\n",
    "$$\\left(\\binom{5}{k}\\right) = \\dfrac{(5 + k - 1)!}{k!(5-1)!} = \\dfrac{(k + 4)!}{k!(4)!}$$\n",
    "$$\\left(\\binom{5}{k}\\right) = \\dfrac{(k + 4) * (k + 3) * (k + 2) * (k + 1) * (k)!}{24 * k!}"
   ]
  },
  {
   "cell_type": "code",
   "execution_count": 5,
   "metadata": {},
   "outputs": [],
   "source": [
    "class Solution:\n",
    "    def countVowelStrings(self, n: int) -> int:\n",
    "        return int((n + 4) * (n + 3) * (n + 2) * (n + 1) / 24)"
   ]
  },
  {
   "cell_type": "code",
   "execution_count": 6,
   "metadata": {},
   "outputs": [
    {
     "name": "stdout",
     "output_type": "stream",
     "text": [
      "5\n"
     ]
    }
   ],
   "source": [
    "n = 1\n",
    "expected = 5\n",
    "\n",
    "output = Solution().countVowelStrings(n)\n",
    "print(output)\n",
    "assert output == expected"
   ]
  },
  {
   "cell_type": "code",
   "execution_count": 7,
   "metadata": {},
   "outputs": [
    {
     "name": "stdout",
     "output_type": "stream",
     "text": [
      "15\n"
     ]
    }
   ],
   "source": [
    "n = 2\n",
    "expected = 15\n",
    "\n",
    "output = Solution().countVowelStrings(n)\n",
    "print(output)\n",
    "assert output == expected"
   ]
  },
  {
   "cell_type": "code",
   "execution_count": 8,
   "metadata": {},
   "outputs": [
    {
     "name": "stdout",
     "output_type": "stream",
     "text": [
      "66045\n"
     ]
    }
   ],
   "source": [
    "n = 33\n",
    "expected = 66045\n",
    "\n",
    "output = Solution().countVowelStrings(n)\n",
    "print(output)\n",
    "assert output == expected"
   ]
  },
  {
   "cell_type": "markdown",
   "metadata": {},
   "source": [
    "## how match approach guarantee lexicographically sorted?\n",
    "\n",
    "that is the beauty of combination. Let's say we pick letter 'a', 'e' and 'i'. There are six permutations: aei, aie, eai, eia, iae, iea. But there's only one combination: a, e, and i\n",
    "\n",
    "permutation counts unique orders, combination counts unique components.\n",
    "\n",
    "No matter what letters we choose in each combination, there's always one way to sort them correctly. Since combination does not count orders, it guarantees to give the correct count."
   ]
  }
 ],
 "metadata": {
  "interpreter": {
   "hash": "20ac7aad763b689ebdaff2f53a3073c7ed55a0f51860968fbf5603f714378c4e"
  },
  "kernelspec": {
   "display_name": "Python 3.10.0 64-bit",
   "language": "python",
   "name": "python3"
  },
  "language_info": {
   "codemirror_mode": {
    "name": "ipython",
    "version": 3
   },
   "file_extension": ".py",
   "mimetype": "text/x-python",
   "name": "python",
   "nbconvert_exporter": "python",
   "pygments_lexer": "ipython3",
   "version": "3.10.0"
  },
  "orig_nbformat": 4
 },
 "nbformat": 4,
 "nbformat_minor": 2
}
