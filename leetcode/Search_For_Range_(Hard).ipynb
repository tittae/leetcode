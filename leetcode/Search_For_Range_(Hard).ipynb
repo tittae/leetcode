{
  "nbformat": 4,
  "nbformat_minor": 0,
  "metadata": {
    "colab": {
      "name": "Search For Range (Hard).ipynb",
      "provenance": [],
      "authorship_tag": "ABX9TyP2CcEkGBqVumr3MpLn7cvG",
      "include_colab_link": true
    },
    "kernelspec": {
      "name": "python3",
      "display_name": "Python 3"
    },
    "language_info": {
      "name": "python"
    }
  },
  "cells": [
    {
      "cell_type": "markdown",
      "metadata": {
        "id": "view-in-github",
        "colab_type": "text"
      },
      "source": [
        "<a href=\"https://colab.research.google.com/github/wisarootl/leetcode/blob/main/Search_For_Range_(Hard).ipynb\" target=\"_parent\"><img src=\"https://colab.research.google.com/assets/colab-badge.svg\" alt=\"Open In Colab\"/></a>"
      ]
    },
    {
      "cell_type": "markdown",
      "source": [
        "# Search For Range"
      ],
      "metadata": {
        "id": "QLeGV9pG9Uqd"
      }
    },
    {
      "cell_type": "markdown",
      "source": [
        "Write a function that takes in a sorted array of integers as well as a target integer. The function should use a variation of the Binary Search algorithm to find a range of indices in between which the target number is contained in the array and should return this range in the form of an array.\n",
        "\n",
        "The first number in the output array should represent the first index at which the target number is located, while the second number should represent the last index at which the target number is located. The function should return `[-1, -1]` if the integer isn't contained in the array.\n",
        "\n",
        "If you're unfamiliar with Binary Search, we recommend watching the Conceptual Overview section of the Binary Search question's video explanation before starting to code."
      ],
      "metadata": {
        "id": "FiV93oIM9X3U"
      }
    },
    {
      "cell_type": "markdown",
      "source": [
        "Sample Input\n",
        "\n",
        "```\n",
        "array = [0, 1, 21, 33, 45, 45, 45, 45, 45, 45, 61, 71, 73]\n",
        "target = 45\n",
        "```\n",
        "\n"
      ],
      "metadata": {
        "id": "dzneOYVi9adb"
      }
    },
    {
      "cell_type": "markdown",
      "source": [
        "Sample Output\n",
        "\n",
        "```\n",
        "[4, 9]\n",
        "```\n",
        "\n"
      ],
      "metadata": {
        "id": "FicK23Mn9cpo"
      }
    },
    {
      "cell_type": "markdown",
      "source": [
        "# Solution 1: iterative binary search"
      ],
      "metadata": {
        "id": "6s0jq9Py9eh5"
      }
    },
    {
      "cell_type": "code",
      "execution_count": 1,
      "metadata": {
        "id": "00kUM9uw9SYh"
      },
      "outputs": [],
      "source": [
        "# Time O(log n)\n",
        "# Space O(1)\n",
        "\n",
        "def searchForRange(array, target):\n",
        "  left_idx = modified_binary_search(array, target, find_left_idx = True)\n",
        "  right_idx = modified_binary_search(array, target, find_left_idx = False)\n",
        "  return [left_idx, right_idx]\n",
        "\n",
        "def modified_binary_search(array, target, find_left_idx):\n",
        "  left_idx = 0\n",
        "  right_idx = len(array) - 1\n",
        "  while left_idx <= right_idx:\n",
        "    middle_idx = (left_idx + right_idx) // 2\n",
        "    if target > array[middle_idx]:\n",
        "      left_idx = middle_idx + 1\n",
        "    elif target < array[middle_idx]:\n",
        "      right_idx = middle_idx - 1\n",
        "    else:\n",
        "      if find_left_idx:\n",
        "        if middle_idx == 0 or array[middle_idx - 1] != target:\n",
        "          return middle_idx\n",
        "        else:\n",
        "          right_idx = middle_idx - 1\n",
        "      else:\n",
        "        if middle_idx == len(array) - 1 or array[middle_idx + 1] != target:\n",
        "          return middle_idx\n",
        "        else:\n",
        "          left_idx = middle_idx + 1\n",
        "  return -1"
      ]
    },
    {
      "cell_type": "code",
      "source": [
        "array = [0, 1, 21, 33, 45, 45, 45, 45, 45, 45, 61, 71, 73]\n",
        "target = 45\n",
        "searchForRange(array, target)"
      ],
      "metadata": {
        "colab": {
          "base_uri": "https://localhost:8080/"
        },
        "id": "8PW4OZG_9pHk",
        "outputId": "6edb008d-7560-4096-d4d4-fbedb42ab06e"
      },
      "execution_count": 2,
      "outputs": [
        {
          "output_type": "execute_result",
          "data": {
            "text/plain": [
              "[4, 9]"
            ]
          },
          "metadata": {},
          "execution_count": 2
        }
      ]
    },
    {
      "cell_type": "markdown",
      "source": [
        "# Solution 2: recursive binary search"
      ],
      "metadata": {
        "id": "6zqr8VoS9xgs"
      }
    },
    {
      "cell_type": "code",
      "source": [
        "# Time O(log n)\n",
        "# Space O(log n) # call stack in recursive\n",
        "\n",
        "def searchForRange(array, target):\n",
        "  left_idx = modified_binary_search(array, target, 0, len(array) - 1, find_left_idx = True)\n",
        "  right_idx = modified_binary_search(array, target, 0, len(array) - 1, find_left_idx = False)\n",
        "  return [left_idx, right_idx]\n",
        "\n",
        "def modified_binary_search(array, target, left_idx, right_idx, find_left_idx):\n",
        "  if left_idx > right_idx:\n",
        "    return -1\n",
        "  middle_idx = (left_idx + right_idx) // 2\n",
        "  if target > array[middle_idx]:\n",
        "    left_idx = middle_idx + 1\n",
        "    target_idx = modified_binary_search(array, target, left_idx, right_idx, find_left_idx)\n",
        "  elif target < array[middle_idx]:\n",
        "    right_idx = middle_idx - 1\n",
        "    target_idx = modified_binary_search(array, target, left_idx, right_idx, find_left_idx)\n",
        "  else:\n",
        "    if find_left_idx:\n",
        "      if middle_idx == 0 or array[middle_idx - 1] < target:\n",
        "        target_idx = middle_idx\n",
        "      else:\n",
        "        right_idx = middle_idx - 1\n",
        "        target_idx = modified_binary_search(array, target, left_idx, right_idx, find_left_idx)\n",
        "    else:\n",
        "      if middle_idx == len(array) - 1 or array[middle_idx + 1] > target:\n",
        "        target_idx = middle_idx\n",
        "      else:\n",
        "        left_idx = middle_idx + 1\n",
        "        target_idx = modified_binary_search(array, target, left_idx, right_idx, find_left_idx)\n",
        "\n",
        "  return target_idx"
      ],
      "metadata": {
        "id": "QJLrS4Z0914R"
      },
      "execution_count": 3,
      "outputs": []
    },
    {
      "cell_type": "code",
      "source": [
        "array = [0, 1, 21, 33, 45, 45, 45, 45, 45, 45, 61, 71, 73]\n",
        "target = 45\n",
        "searchForRange(array, target)"
      ],
      "metadata": {
        "colab": {
          "base_uri": "https://localhost:8080/"
        },
        "id": "M2Conm_Y99WO",
        "outputId": "566665fa-788d-4700-b94e-c1bdfcc1c016"
      },
      "execution_count": 4,
      "outputs": [
        {
          "output_type": "execute_result",
          "data": {
            "text/plain": [
              "[4, 9]"
            ]
          },
          "metadata": {},
          "execution_count": 4
        }
      ]
    }
  ]
}