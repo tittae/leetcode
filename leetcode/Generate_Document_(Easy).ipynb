{
  "cells": [
    {
      "cell_type": "markdown",
      "metadata": {
        "colab_type": "text",
        "id": "view-in-github"
      },
      "source": [
        "<a href=\"https://colab.research.google.com/github/wisarootl/leetcode/blob/main/Generate_Document_(Easy).ipynb\" target=\"_parent\"><img src=\"https://colab.research.google.com/assets/colab-badge.svg\" alt=\"Open In Colab\"/></a>"
      ]
    },
    {
      "cell_type": "markdown",
      "metadata": {
        "id": "5ULeY-UL4q4I"
      },
      "source": [
        "# Generate Document"
      ]
    },
    {
      "cell_type": "markdown",
      "metadata": {
        "id": "GmW8oCju4sgH"
      },
      "source": [
        "You're given a string of available characters and a string representing a document that you need to generate. Write a function that determines if you can generate the document using the available characters. If you can generate the document, your function should return `true`; otherwise, it should return `false`.\n",
        "\n",
        "You're only able to generate the document if the frequency of unique characters in the characters string is greater than or equal to the frequency of unique characters in the document string. For example, if you're given `characters = \"abcabc\"` and `document = \"aabbccc\"` you cannot generate the document because you're missing one `c`.\n",
        "\n",
        "The document that you need to create may contain any characters, including special characters, capital letters, numbers, and spaces.\n",
        "\n",
        "Note: you can always generate the empty string (`\"\"`)."
      ]
    },
    {
      "cell_type": "markdown",
      "metadata": {
        "id": "yN9WEbT55GR5"
      },
      "source": [
        "Sample Input\n",
        "\n",
        "```\n",
        "characters = \"Bste!hetsi ogEAxpelrt x \"\n",
        "document = \"AlgoExpert is the Best!\"\n",
        "```\n",
        "\n"
      ]
    },
    {
      "cell_type": "markdown",
      "metadata": {
        "id": "V5_Wz_p85Ivu"
      },
      "source": [
        "Sample Output\n",
        "\n",
        "```\n",
        "true\n",
        "```\n",
        "\n"
      ]
    },
    {
      "cell_type": "markdown",
      "metadata": {
        "id": "tRq4G6wW-R6X"
      },
      "source": [
        "# Solution"
      ]
    },
    {
      "cell_type": "code",
      "execution_count": 1,
      "metadata": {
        "id": "E3nv4GlQ4mGI"
      },
      "outputs": [],
      "source": [
        "# O(m*n) Time, Space O(1) if allow to alter original array. If not Space = O(n)\n",
        "# m = lenght of document\n",
        "# n = lenght of character\n",
        "\n",
        "def generateDocument(characters, document):\n",
        "  characters = list(characters)\n",
        "  for letter in document:\n",
        "    found = False\n",
        "    for idx, char in enumerate(characters):\n",
        "      if letter == char:\n",
        "        characters[idx] = ''\n",
        "        found = True\n",
        "        break\n",
        "    if found == False: \n",
        "        return False\n",
        "  return True"
      ]
    },
    {
      "cell_type": "code",
      "execution_count": 2,
      "metadata": {
        "id": "Q1upPRLv8zYh"
      },
      "outputs": [],
      "source": [
        "characters = \"Bste!hetsi ogEAxpelrt x \"\n",
        "document = \"AlgoExpert is the Best!\""
      ]
    },
    {
      "cell_type": "code",
      "execution_count": 3,
      "metadata": {
        "colab": {
          "base_uri": "https://localhost:8080/"
        },
        "id": "HKxZ0S3D80py",
        "outputId": "7cb56ee8-1f92-4e4e-87e1-8fa415e781cc"
      },
      "outputs": [
        {
          "name": "stdout",
          "output_type": "stream",
          "text": [
            "True\n"
          ]
        }
      ],
      "source": [
        "print(generateDocument(characters, document))"
      ]
    },
    {
      "cell_type": "markdown",
      "metadata": {
        "id": "9mWVpDW8MQ8O"
      },
      "source": [
        "## Solution (Create dictionary to store char count)"
      ]
    },
    {
      "cell_type": "code",
      "execution_count": 4,
      "metadata": {
        "id": "ZtOPeGOSN-zE"
      },
      "outputs": [],
      "source": [
        "# Time O(m+n), Space O(c)\n",
        "# m = lenght of document\n",
        "# n = lenght of characters string\n",
        "# c = unique char in characters string\n",
        "def generateDocument(characters, document):\n",
        "  characters_count = count_char(characters)\n",
        "  for char in document:\n",
        "    if char not in characters_count or characters_count[char] == 0:\n",
        "      return False\n",
        "    else:\n",
        "      characters_count[char] -= 1\n",
        "  return True\n",
        "\n",
        "def count_char(string):\n",
        "  count = {}\n",
        "  for char in string:\n",
        "    if char in count:\n",
        "      count[char] += 1\n",
        "    else:\n",
        "      count[char] = 1\n",
        "  return count"
      ]
    },
    {
      "cell_type": "code",
      "execution_count": 5,
      "metadata": {
        "id": "U0uemIjZOIXD"
      },
      "outputs": [],
      "source": [
        "characters = \"Bste!hetsi ogEAxpelrt x \"\n",
        "document = \"AlgoExpert is the Best!\""
      ]
    },
    {
      "cell_type": "code",
      "execution_count": 6,
      "metadata": {
        "colab": {
          "base_uri": "https://localhost:8080/"
        },
        "id": "YaBvewMDOJuA",
        "outputId": "9280aef3-0951-46bc-ef95-a29c4c16cc63"
      },
      "outputs": [
        {
          "name": "stdout",
          "output_type": "stream",
          "text": [
            "True\n"
          ]
        }
      ],
      "source": [
        "print(generateDocument(characters, document))"
      ]
    }
  ],
  "metadata": {
    "colab": {
      "authorship_tag": "ABX9TyNFyb+xMldahD+QE6VY5QzZ",
      "collapsed_sections": [],
      "include_colab_link": true,
      "name": "Generate Document (Easy).ipynb",
      "provenance": []
    },
    "kernelspec": {
      "display_name": "Python 3",
      "language": "python",
      "name": "python3"
    },
    "language_info": {
      "codemirror_mode": {
        "name": "ipython",
        "version": 3
      },
      "file_extension": ".py",
      "mimetype": "text/x-python",
      "name": "python",
      "nbconvert_exporter": "python",
      "pygments_lexer": "ipython3",
      "version": "3.10.5"
    },
    "vscode": {
      "interpreter": {
        "hash": "992441bd4bc11ab83c63537935ea198062f55180155eaba570b8d7c82e005e8c"
      }
    }
  },
  "nbformat": 4,
  "nbformat_minor": 0
}
