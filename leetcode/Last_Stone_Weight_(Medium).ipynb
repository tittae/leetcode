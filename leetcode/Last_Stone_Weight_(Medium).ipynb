{
  "nbformat": 4,
  "nbformat_minor": 0,
  "metadata": {
    "colab": {
      "name": "Last Stone Weight (Medium).ipynb",
      "provenance": [],
      "collapsed_sections": [],
      "authorship_tag": "ABX9TyNoVHs8gNkpV2rMAUEwZ48q",
      "include_colab_link": true
    },
    "kernelspec": {
      "name": "python3",
      "display_name": "Python 3"
    },
    "language_info": {
      "name": "python"
    }
  },
  "cells": [
    {
      "cell_type": "markdown",
      "metadata": {
        "id": "view-in-github",
        "colab_type": "text"
      },
      "source": [
        "<a href=\"https://colab.research.google.com/github/wisarootl/leetcode/blob/main/Last_Stone_Weight_(Medium).ipynb\" target=\"_parent\"><img src=\"https://colab.research.google.com/assets/colab-badge.svg\" alt=\"Open In Colab\"/></a>"
      ]
    },
    {
      "cell_type": "markdown",
      "source": [
        "# Last Stone Weight"
      ],
      "metadata": {
        "id": "y5q9OdX_gYoW"
      }
    },
    {
      "cell_type": "markdown",
      "source": [
        "You are given an array of integers stones where stones[i] is the weight of the ith stone.\n",
        "\n",
        "We are playing a game with the stones. On each turn, we choose the heaviest two stones and smash them together. Suppose the heaviest two stones have weights x and y with x <= y. The result of this smash is:\n",
        "\n",
        "- If x == y, both stones are destroyed, and\n",
        "- If x != y, the stone of weight x is destroyed, and the stone of weight y has new weight y - x.\n",
        "\n",
        "At the end of the game, there is at most one stone left.\n",
        "\n",
        "Return the smallest possible weight of the left stone. If there are no stones left, return 0."
      ],
      "metadata": {
        "id": "XwZSM9qXbViy"
      }
    },
    {
      "cell_type": "markdown",
      "source": [
        "Example 1:\n",
        "\n",
        "```\n",
        "Input: stones = [2,7,4,1,8,1]\n",
        "Output: 1\n",
        "Explanation: \n",
        "We combine 7 and 8 to get 1 so the array converts to [2,4,1,1,1] then,\n",
        "we combine 2 and 4 to get 2 so the array converts to [2,1,1,1] then,\n",
        "we combine 2 and 1 to get 1 so the array converts to [1,1,1] then,\n",
        "we combine 1 and 1 to get 0 so the array converts to [1] then that's the value of the last stone.\n",
        "```\n",
        "\n"
      ],
      "metadata": {
        "id": "66pb_I1XbZsZ"
      }
    },
    {
      "cell_type": "markdown",
      "source": [
        "Example 2:\n",
        "\n",
        "```\n",
        "Input: stones = [1]\n",
        "Output: 1\n",
        "```\n",
        "\n"
      ],
      "metadata": {
        "id": "KuCQJi5Cbc6D"
      }
    },
    {
      "cell_type": "markdown",
      "source": [
        "Constraints:\n",
        "\n",
        "```\n",
        "1 <= stones.length <= 30\n",
        "1 <= stones[i] <= 1000\n",
        "```\n",
        "\n"
      ],
      "metadata": {
        "id": "YbbiIFuHbgya"
      }
    },
    {
      "cell_type": "markdown",
      "source": [
        "# Solution 1 : Priority Queue"
      ],
      "metadata": {
        "id": "63u5ru2SceUL"
      }
    },
    {
      "cell_type": "code",
      "execution_count": 1,
      "metadata": {
        "id": "cDjG7Fy4bRKC"
      },
      "outputs": [],
      "source": [
        "import heapq\n",
        "\n",
        "# Time = O(n log n)\n",
        "# Space = O(1) if we are allowed to heapify in place\n",
        "# else Space = O(n)\n",
        "class Solution:\n",
        "    def lastStoneWeight(self, stones):\n",
        "        for i in range(len(stones)):\n",
        "            stones[i] *= -1\n",
        "        \n",
        "        heapq.heapify(stones)\n",
        "        \n",
        "        while len(stones) > 1:\n",
        "            stone_1 = heapq.heappop(stones)\n",
        "            stone_2 = heapq.heappop(stones)\n",
        "            if stone_1 != stone_2:\n",
        "                heapq.heappush(stones, stone_1 - stone_2)\n",
        "            \n",
        "        return -heapq.heappop(stones) if stones else 0"
      ]
    },
    {
      "cell_type": "code",
      "source": [
        "stones = [2,7,4,1,8,1]\n",
        "expected = 1\n",
        "\n",
        "output = Solution().lastStoneWeight(stones)\n",
        "print(output)\n",
        "assert output == expected"
      ],
      "metadata": {
        "colab": {
          "base_uri": "https://localhost:8080/"
        },
        "id": "kS1Lk8C8bxhM",
        "outputId": "ef3a41e7-4e40-4292-9112-440acf23325f"
      },
      "execution_count": 2,
      "outputs": [
        {
          "output_type": "stream",
          "name": "stdout",
          "text": [
            "1\n"
          ]
        }
      ]
    },
    {
      "cell_type": "code",
      "source": [
        "stones = [1]\n",
        "expected = 1\n",
        "\n",
        "output = Solution().lastStoneWeight(stones)\n",
        "print(output)\n",
        "assert output == expected"
      ],
      "metadata": {
        "colab": {
          "base_uri": "https://localhost:8080/"
        },
        "id": "GxPFDbf7cc1q",
        "outputId": "b2ba6d4e-128c-4273-b3ba-227f010487f4"
      },
      "execution_count": 3,
      "outputs": [
        {
          "output_type": "stream",
          "name": "stdout",
          "text": [
            "1\n"
          ]
        }
      ]
    },
    {
      "cell_type": "markdown",
      "source": [
        "# Solution: Counting Sort"
      ],
      "metadata": {
        "id": "TBdFMYHRdcQ4"
      }
    },
    {
      "cell_type": "code",
      "source": [
        "# Time = O(N + W)\n",
        "\n",
        "# N = len(stones)\n",
        "# W = max(stones)\n",
        "\n",
        "class Solution:\n",
        "    def lastStoneWeight(self, stones):\n",
        "        max_weight = max(stones)\n",
        "        buckets = [0] * (max_weight + 1)\n",
        "        \n",
        "        for weight in stones:\n",
        "            buckets[weight] += 1\n",
        "            \n",
        "        biggest_weight = 0\n",
        "        current_weight = max_weight\n",
        "        while current_weight > 0:\n",
        "            if buckets[current_weight] == 0:\n",
        "                current_weight -= 1\n",
        "            elif biggest_weight == 0:\n",
        "                buckets[current_weight] %= 2\n",
        "                if buckets[current_weight] == 1:\n",
        "                    biggest_weight = current_weight\n",
        "                current_weight -= 1\n",
        "            else:\n",
        "                buckets[current_weight] -= 1\n",
        "                new_weight = biggest_weight - current_weight\n",
        "                if new_weight <= current_weight:\n",
        "                    buckets[new_weight] += 1\n",
        "                    biggest_weight = 0\n",
        "                else:\n",
        "                    biggest_weight -= current_weight\n",
        "        return biggest_weight"
      ],
      "metadata": {
        "id": "rUNFsiUif5em"
      },
      "execution_count": 4,
      "outputs": []
    },
    {
      "cell_type": "code",
      "source": [
        "stones = [2,7,4,1,8,1]\n",
        "expected = 1\n",
        "\n",
        "output = Solution().lastStoneWeight(stones)\n",
        "print(output)\n",
        "assert output == expected"
      ],
      "metadata": {
        "colab": {
          "base_uri": "https://localhost:8080/"
        },
        "id": "R1n6w9gEf7Yk",
        "outputId": "7256480c-8e2e-461c-a2ed-90d750046845"
      },
      "execution_count": 5,
      "outputs": [
        {
          "output_type": "stream",
          "name": "stdout",
          "text": [
            "1\n"
          ]
        }
      ]
    },
    {
      "cell_type": "code",
      "source": [
        "stones = [1]\n",
        "expected = 1\n",
        "\n",
        "output = Solution().lastStoneWeight(stones)\n",
        "print(output)\n",
        "assert output == expected"
      ],
      "metadata": {
        "colab": {
          "base_uri": "https://localhost:8080/"
        },
        "id": "8Yte5FH-f8co",
        "outputId": "6bcf100d-9d19-4da2-9b6e-c9a03a744785"
      },
      "execution_count": 6,
      "outputs": [
        {
          "output_type": "stream",
          "name": "stdout",
          "text": [
            "1\n"
          ]
        }
      ]
    }
  ]
}