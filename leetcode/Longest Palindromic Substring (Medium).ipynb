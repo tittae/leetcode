{
 "cells": [
  {
   "cell_type": "markdown",
   "metadata": {},
   "source": [
    "# Longest Palindromic Substring"
   ]
  },
  {
   "cell_type": "markdown",
   "metadata": {},
   "source": [
    "Example 1:\n",
    "\n",
    "```\n",
    "Input: s = \"babad\"\n",
    "Output: \"bab\"\n",
    "Explanation: \"aba\" is also a valid answer.\n",
    "```"
   ]
  },
  {
   "cell_type": "markdown",
   "metadata": {},
   "source": [
    "Example 2:\n",
    "\n",
    "```\n",
    "Input: s = \"cbbd\"\n",
    "Output: \"bb\"\n",
    "```"
   ]
  },
  {
   "cell_type": "markdown",
   "metadata": {},
   "source": [
    "Constraints:\n",
    "\n",
    "```\n",
    "1 <= s.length <= 1000\n",
    "s consist of only digits and English letters.\n",
    "```"
   ]
  },
  {
   "cell_type": "code",
   "execution_count": 1,
   "metadata": {},
   "outputs": [],
   "source": [
    "class Solution:\n",
    "    def expand_palindrome(self, s, left, right):\n",
    "        longest_length = 0\n",
    "        longest_left = None\n",
    "        longest_right = None\n",
    "        while left >= 0 and right <= len(s) - 1 and s[left] == s[right]:\n",
    "            if right - left + 1 > longest_length:\n",
    "                longest_length = right - left + 1\n",
    "                longest_left = left\n",
    "                longest_right = right\n",
    "            left -= 1\n",
    "            right += 1\n",
    "        return longest_length, longest_left, longest_right\n",
    "\n",
    "    def longestPalindrome(self, s: str) -> str:\n",
    "        longest_length = 0\n",
    "        longest_left = None\n",
    "        longest_right = None\n",
    "        for idx in range(len(s)):\n",
    "            left = idx\n",
    "            right = idx\n",
    "            while left >= 0 and right <= len(s) - 1 and s[left] == s[right]:\n",
    "                if right - left + 1 > longest_length:\n",
    "                    longest_length = right - left + 1\n",
    "                    longest_left = left\n",
    "                    longest_right = right\n",
    "                left -= 1\n",
    "                right += 1\n",
    "\n",
    "                \n",
    "        for idx in range(len(s) - 1):\n",
    "            left = idx\n",
    "            right = idx + 1\n",
    "            while left >= 0 and right <= len(s) - 1 and s[left] == s[right]:\n",
    "                if right - left + 1 > longest_length:\n",
    "                    longest_length = right - left + 1\n",
    "                    longest_left = left\n",
    "                    longest_right = right\n",
    "                left -= 1\n",
    "                right += 1\n",
    "\n",
    "        return s[longest_left:longest_right + 1]"
   ]
  },
  {
   "cell_type": "code",
   "execution_count": 2,
   "metadata": {},
   "outputs": [],
   "source": [
    "class Solution:\n",
    "    def expand_palindrome(self, s, left, right):\n",
    "        longest_length = 0\n",
    "        longest_left = None\n",
    "        longest_right = None\n",
    "        while left >= 0 and right <= len(s) - 1 and s[left] == s[right]:\n",
    "            if right - left + 1 > longest_length:\n",
    "                longest_length = right - left + 1\n",
    "                longest_left = left\n",
    "                longest_right = right\n",
    "            left -= 1\n",
    "            right += 1\n",
    "\n",
    "        return longest_length, longest_left, longest_right\n",
    "    \n",
    "    def update_longest_length(self, longest_length, longest_left, longest_right, length, left, right):\n",
    "        if length > longest_length:\n",
    "            longest_length = length\n",
    "            longest_left = left\n",
    "            longest_right = right\n",
    "        return longest_length, longest_left, longest_right\n",
    "\n",
    "    # time = O(n^2)\n",
    "    # space = O(1)\n",
    "    def longestPalindrome(self, s: str) -> str:\n",
    "        longest_length = 0\n",
    "        longest_left = None\n",
    "        longest_right = None\n",
    "        for idx in range(len(s)):\n",
    "            length, left, right = self.expand_palindrome(s, idx, idx)\n",
    "            longest_length, longest_left, longest_right = self.update_longest_length(longest_length, longest_left, longest_right, length, left, right)\n",
    "            if idx < len(s) - 1:\n",
    "                length, left, right = self.expand_palindrome(s, idx, idx + 1)\n",
    "                longest_length, longest_left, longest_right = self.update_longest_length(longest_length, longest_left, longest_right, length, left, right)\n",
    "\n",
    "        return s[longest_left:longest_right + 1]"
   ]
  },
  {
   "cell_type": "code",
   "execution_count": 3,
   "metadata": {},
   "outputs": [
    {
     "name": "stdout",
     "output_type": "stream",
     "text": [
      "bab\n"
     ]
    }
   ],
   "source": [
    "s = \"babad\"\n",
    "expected = {\"bab\", \"aba\"}\n",
    "\n",
    "output = Solution().longestPalindrome(s)\n",
    "print(output)\n",
    "assert output in expected"
   ]
  },
  {
   "cell_type": "code",
   "execution_count": 4,
   "metadata": {},
   "outputs": [
    {
     "name": "stdout",
     "output_type": "stream",
     "text": [
      "bb\n"
     ]
    }
   ],
   "source": [
    "s = \"cbbd\"\n",
    "expected = {\"bb\"}\n",
    "\n",
    "output = Solution().longestPalindrome(s)\n",
    "print(output)\n",
    "assert output in expected"
   ]
  },
  {
   "cell_type": "code",
   "execution_count": 5,
   "metadata": {},
   "outputs": [],
   "source": [
    "class Solution:\n",
    "    # Time = O(N)\n",
    "    # Space= O(N)\n",
    "    def longestPalindrome(self, s: str) -> str:\n",
    "        ss = '|'\n",
    "        for c in s:\n",
    "            ss += c + '|'\n",
    "        poly_rad = [0] * len(ss)      \n",
    "        center = 0\n",
    "        radius = 0\n",
    "        m = 0\n",
    "        mi = 0\n",
    "\n",
    "        while center < len(ss):\n",
    "            while center - (radius + 1) >= 0 and center + (radius + 1) < len(ss) and ss[center - (radius + 1)] == ss[center + (radius + 1)]:\n",
    "                radius += 1\n",
    "            poly_rad[center] = radius\n",
    "            if m < poly_rad[center]:\n",
    "                m = poly_rad[center]\n",
    "                mi = center\n",
    "            oldcenter = center\n",
    "            oldradius = radius\n",
    "            center = center+1\n",
    "            radius = 0\n",
    "            while center <= oldcenter + oldradius:\n",
    "                mirrored_center = oldcenter - (center - oldcenter)\n",
    "                max_mirrored_radius = oldcenter + oldradius - center\n",
    "                if poly_rad[mirrored_center] < max_mirrored_radius:\n",
    "                    poly_rad[center] = poly_rad[mirrored_center]\n",
    "                    if m < poly_rad[center]:\n",
    "                        m = poly_rad[center]\n",
    "                        mi = center\n",
    "                    center = center+1\n",
    "                elif poly_rad[mirrored_center] > max_mirrored_radius:\n",
    "                    poly_rad[center] = max_mirrored_radius\n",
    "                    if m < poly_rad[center]:\n",
    "                        m = poly_rad[center]\n",
    "                        mi = center\n",
    "                    center = center+1 \n",
    "                else:\n",
    "                    radius = max_mirrored_radius\n",
    "                    break  \n",
    "        return s[mi // 2 - m // 2: mi // 2 - m // 2 + m]"
   ]
  },
  {
   "cell_type": "code",
   "execution_count": 6,
   "metadata": {},
   "outputs": [
    {
     "name": "stdout",
     "output_type": "stream",
     "text": [
      "bab\n"
     ]
    }
   ],
   "source": [
    "s = \"babad\"\n",
    "expected = {\"bab\", \"aba\"}\n",
    "\n",
    "output = Solution().longestPalindrome(s)\n",
    "print(output)\n",
    "assert output in expected"
   ]
  },
  {
   "cell_type": "code",
   "execution_count": 7,
   "metadata": {},
   "outputs": [
    {
     "name": "stdout",
     "output_type": "stream",
     "text": [
      "bb\n"
     ]
    }
   ],
   "source": [
    "s = \"cbbd\"\n",
    "expected = {\"bb\"}\n",
    "\n",
    "output = Solution().longestPalindrome(s)\n",
    "print(output)\n",
    "assert output in expected"
   ]
  },
  {
   "cell_type": "code",
   "execution_count": 8,
   "metadata": {},
   "outputs": [
    {
     "name": "stdout",
     "output_type": "stream",
     "text": [
      "ccc\n"
     ]
    }
   ],
   "source": [
    "s = \"ccc\"\n",
    "expected = {\"ccc\"}\n",
    "\n",
    "output = Solution().longestPalindrome(s)\n",
    "print(output)\n",
    "assert output in expected"
   ]
  },
  {
   "cell_type": "code",
   "execution_count": 9,
   "metadata": {},
   "outputs": [
    {
     "name": "stdout",
     "output_type": "stream",
     "text": [
      "aaaaa\n"
     ]
    }
   ],
   "source": [
    "s =\"aaaaa\"\n",
    "expected = {\"aaaaa\"}\n",
    "\n",
    "output = Solution().longestPalindrome(s)\n",
    "print(output)\n",
    "assert output in expected"
   ]
  },
  {
   "cell_type": "code",
   "execution_count": 10,
   "metadata": {},
   "outputs": [
    {
     "name": "stdout",
     "output_type": "stream",
     "text": [
      "ababababa\n"
     ]
    }
   ],
   "source": [
    "s = \"ababababa\"\n",
    "expected = {\"ababababa\"}\n",
    "\n",
    "output = Solution().longestPalindrome(s)\n",
    "print(output)\n",
    "assert output in expected"
   ]
  }
 ],
 "metadata": {
  "kernelspec": {
   "display_name": "Python 3.10.5 64-bit (windows store)",
   "language": "python",
   "name": "python3"
  },
  "language_info": {
   "codemirror_mode": {
    "name": "ipython",
    "version": 3
   },
   "file_extension": ".py",
   "mimetype": "text/x-python",
   "name": "python",
   "nbconvert_exporter": "python",
   "pygments_lexer": "ipython3",
   "version": "3.10.5"
  },
  "orig_nbformat": 4,
  "vscode": {
   "interpreter": {
    "hash": "3822405be9f5fb329f7270cbdcf73e762c62b3f383c5e71390a1a4648678c1cb"
   }
  }
 },
 "nbformat": 4,
 "nbformat_minor": 2
}
