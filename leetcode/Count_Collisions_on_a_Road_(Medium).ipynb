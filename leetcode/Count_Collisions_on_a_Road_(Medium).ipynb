{
  "nbformat": 4,
  "nbformat_minor": 0,
  "metadata": {
    "colab": {
      "name": "Count Collisions on a Road (Medium).ipynb",
      "provenance": [],
      "authorship_tag": "ABX9TyPUzRSjzcSWFTRhZhRP3Qwu",
      "include_colab_link": true
    },
    "kernelspec": {
      "name": "python3",
      "display_name": "Python 3"
    },
    "language_info": {
      "name": "python"
    }
  },
  "cells": [
    {
      "cell_type": "markdown",
      "metadata": {
        "id": "view-in-github",
        "colab_type": "text"
      },
      "source": [
        "<a href=\"https://colab.research.google.com/github/wisarootl/leetcode/blob/main/Count_Collisions_on_a_Road_(Medium).ipynb\" target=\"_parent\"><img src=\"https://colab.research.google.com/assets/colab-badge.svg\" alt=\"Open In Colab\"/></a>"
      ]
    },
    {
      "cell_type": "markdown",
      "source": [
        "# Count Collisions on a Road"
      ],
      "metadata": {
        "id": "2RHkfiK5k3Ik"
      }
    },
    {
      "cell_type": "markdown",
      "source": [
        "There are n cars on an infinitely long road. The cars are numbered from 0 to n - 1 from left to right and each car is present at a unique point.\n",
        "\n",
        "You are given a 0-indexed string directions of length n. directions[i] can be either 'L', 'R', or 'S' denoting whether the ith car is moving towards the left, towards the right, or staying at its current point respectively. Each moving car has the same speed.\n",
        "\n",
        "The number of collisions can be calculated as follows:\n",
        "\n",
        "- When two cars moving in opposite directions collide with each other, the number of collisions increases by 2.\n",
        "- When a moving car collides with a stationary car, the number of collisions increases by 1.\n",
        "\n",
        "After a collision, the cars involved can no longer move and will stay at the point where they collided. Other than that, cars cannot change their state or direction of motion.\n",
        "\n",
        "Return the total number of collisions that will happen on the road."
      ],
      "metadata": {
        "id": "Ho45-sRXk4Bx"
      }
    },
    {
      "cell_type": "markdown",
      "source": [
        "Example 1:\n",
        "\n",
        "```\n",
        "Input: directions = \"RLRSLL\"\n",
        "Output: 5\n",
        "Explanation:\n",
        "The collisions that will happen on the road are:\n",
        "- Cars 0 and 1 will collide with each other. Since they are moving in opposite directions, the number of collisions becomes 0 + 2 = 2.\n",
        "- Cars 2 and 3 will collide with each other. Since car 3 is stationary, the number of collisions becomes 2 + 1 = 3.\n",
        "- Cars 3 and 4 will collide with each other. Since car 3 is stationary, the number of collisions becomes 3 + 1 = 4.\n",
        "- Cars 4 and 5 will collide with each other. After car 4 collides with car 3, it will stay at the point of collision and get hit by car 5. The number of collisions becomes 4 + 1 = 5.\n",
        "Thus, the total number of collisions that will happen on the road is 5. \n",
        "```\n",
        "\n"
      ],
      "metadata": {
        "id": "oSkVAMyWk5zb"
      }
    },
    {
      "cell_type": "markdown",
      "source": [
        "Example 2:\n",
        "\n",
        "```\n",
        "Input: directions = \"LLRR\"\n",
        "Output: 0\n",
        "Explanation:\n",
        "No cars will collide with each other. Thus, the total number of collisions that will happen on the road is 0.\n",
        "```\n",
        "\n"
      ],
      "metadata": {
        "id": "EYyPcuhgk8fP"
      }
    },
    {
      "cell_type": "markdown",
      "source": [
        "# Soltuion"
      ],
      "metadata": {
        "id": "DgmicYdLlnzT"
      }
    },
    {
      "cell_type": "markdown",
      "source": [
        "- Traverse left to right"
      ],
      "metadata": {
        "id": "Ss7n9VlplsX2"
      }
    },
    {
      "cell_type": "code",
      "execution_count": 1,
      "metadata": {
        "id": "r2F4D6yNk1YG"
      },
      "outputs": [],
      "source": [
        "# Time O(N)\n",
        "# Space O(1)\n",
        "\n",
        "class Solution:\n",
        "    def countCollisions(self, directions: str) -> int:\n",
        "        last = None\n",
        "        right_car_count = 0\n",
        "        collision_count = 0\n",
        "        for direction in directions:\n",
        "            if direction == 'L':\n",
        "                if last == 'R':\n",
        "                    collision_count += right_car_count + 1\n",
        "                    last = 'S'\n",
        "                    right_car_count = 0\n",
        "                elif last == 'S':\n",
        "                    collision_count += 1\n",
        "                \n",
        "            elif direction == 'R':\n",
        "                if last == 'R':\n",
        "                    right_car_count += 1\n",
        "                else:\n",
        "                    last = 'R'\n",
        "                    right_car_count = 1\n",
        "                \n",
        "            elif direction == 'S':\n",
        "                if last == 'R':\n",
        "                    collision_count += right_car_count\n",
        "                    right_car_count = 0\n",
        "                last = 'S'\n",
        "\n",
        "        return collision_count"
      ]
    },
    {
      "cell_type": "code",
      "source": [
        "directions = \"RLRSLL\"\n",
        "expected = 5\n",
        "\n",
        "output = Solution().countCollisions(directions)\n",
        "print(output)\n",
        "assert output == expected"
      ],
      "metadata": {
        "colab": {
          "base_uri": "https://localhost:8080/"
        },
        "id": "L0wdfIyKlObx",
        "outputId": "01ccdd12-0d76-43c6-c866-3181d975c7e6"
      },
      "execution_count": 2,
      "outputs": [
        {
          "output_type": "stream",
          "name": "stdout",
          "text": [
            "5\n"
          ]
        }
      ]
    },
    {
      "cell_type": "code",
      "source": [
        "directions = \"LLRR\"\n",
        "expected = 0\n",
        "\n",
        "output = Solution().countCollisions(directions)\n",
        "print(output)\n",
        "assert output == expected"
      ],
      "metadata": {
        "colab": {
          "base_uri": "https://localhost:8080/"
        },
        "id": "QAh2xhCAlcMk",
        "outputId": "3f841370-0170-40ef-d280-18eedf166cbd"
      },
      "execution_count": 3,
      "outputs": [
        {
          "output_type": "stream",
          "name": "stdout",
          "text": [
            "0\n"
          ]
        }
      ]
    },
    {
      "cell_type": "code",
      "source": [
        "directions = \"RRRSLLL\"\n",
        "expected = 6\n",
        "\n",
        "output = Solution().countCollisions(directions)\n",
        "print(output)\n",
        "assert output == expected"
      ],
      "metadata": {
        "colab": {
          "base_uri": "https://localhost:8080/"
        },
        "id": "8pPtRfV7leZE",
        "outputId": "ee75c623-6313-4615-9c9c-a972a5d8822c"
      },
      "execution_count": 4,
      "outputs": [
        {
          "output_type": "stream",
          "name": "stdout",
          "text": [
            "6\n"
          ]
        }
      ]
    }
  ]
}