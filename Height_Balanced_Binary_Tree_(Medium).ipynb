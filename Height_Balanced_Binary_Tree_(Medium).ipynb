{
  "nbformat": 4,
  "nbformat_minor": 0,
  "metadata": {
    "colab": {
      "name": "Height Balanced Binary Tree (Medium).ipynb",
      "provenance": [],
      "collapsed_sections": [],
      "authorship_tag": "ABX9TyPUvVoA74WWVfJbAwsyg1GL",
      "include_colab_link": true
    },
    "kernelspec": {
      "name": "python3",
      "display_name": "Python 3"
    },
    "language_info": {
      "name": "python"
    }
  },
  "cells": [
    {
      "cell_type": "markdown",
      "metadata": {
        "id": "view-in-github",
        "colab_type": "text"
      },
      "source": [
        "<a href=\"https://colab.research.google.com/github/wisarootl/leetcode/blob/main/Height_Balanced_Binary_Tree_(Medium).ipynb\" target=\"_parent\"><img src=\"https://colab.research.google.com/assets/colab-badge.svg\" alt=\"Open In Colab\"/></a>"
      ]
    },
    {
      "cell_type": "markdown",
      "source": [
        "# Height Balanced Binary Tree"
      ],
      "metadata": {
        "id": "RiDkldeqyi5s"
      }
    },
    {
      "cell_type": "markdown",
      "source": [
        "You're given the root node of a Binary Tree. Write a function that returns `true `if this Binary Tree is height balanced and `false` if it isn't.\n",
        "\n",
        "A Binary Tree is height balanced if for each node in the tree, the difference between the height of its left subtree and the height of its right subtree is at most `1`.\n",
        "\n",
        "Each `BinaryTree` node has an integer `value`, a `left` child node, and a `right` child node. Children nodes can either be `BinaryTree` nodes themselves or `None` / `null`."
      ],
      "metadata": {
        "id": "i7lVajtXyiRP"
      }
    },
    {
      "cell_type": "markdown",
      "source": [
        "Sample Input\n",
        "\n",
        "```\n",
        "tree = 1\n",
        "     /   \\\n",
        "    2     3\n",
        "  /   \\     \\\n",
        " 4     5     6\n",
        "     /   \\\n",
        "    7     8\n",
        "```\n",
        "\n"
      ],
      "metadata": {
        "id": "HZA9Fwemy2l5"
      }
    },
    {
      "cell_type": "markdown",
      "source": [
        "Sample Output\n",
        "\n",
        "```\n",
        "true\n",
        "```\n",
        "\n"
      ],
      "metadata": {
        "id": "fquO0fvLy4Xl"
      }
    },
    {
      "cell_type": "code",
      "execution_count": 1,
      "metadata": {
        "id": "xo6eq46xxsIg"
      },
      "outputs": [],
      "source": [
        "# This is an input class. Do not edit.\n",
        "class BinaryTree:\n",
        "\tdef __init__(self, value, left=None, right=None):\n",
        "\t\tself.value = value\n",
        "\t\tself.left = left\n",
        "\t\tself.right = right\n",
        "\n",
        "# Time O(n)\n",
        "# Space O(h)\n",
        "def heightBalancedBinaryTree(tree):\n",
        "\theight, balance = get_tree_info(tree)\n",
        "\treturn balance\n",
        "\n",
        "def get_tree_info(node):\n",
        "\tif node == None:\n",
        "\t\theight = 0\n",
        "\t\tbalance = True\n",
        "\t\treturn height, balance\n",
        "\n",
        "\tleft_tree_height, left_tree_balance = get_tree_info(node.left)\n",
        "\tright_tree_height, right_tree_balance = get_tree_info(node.right)\n",
        "\tbalance = is_balance(left_tree_height, left_tree_balance, right_tree_height, right_tree_balance)\n",
        "\theight = max(left_tree_height, right_tree_height) + 1\n",
        "\treturn height, balance\n",
        "\n",
        "def is_balance(left_tree_height, left_tree_balance, right_tree_height, right_tree_balance):\n",
        "\tif abs(left_tree_height - right_tree_height) <= 1 and left_tree_balance and right_tree_balance:\n",
        "\t\treturn True\n",
        "\treturn False"
      ]
    },
    {
      "cell_type": "code",
      "source": [
        "tree = BinaryTree(1)\n",
        "tree.left = BinaryTree(2)\n",
        "tree.right = BinaryTree(3)\n",
        "tree.left.left = BinaryTree(4)\n",
        "tree.left.right = BinaryTree(5)\n",
        "tree.right.right = BinaryTree(6)\n",
        "tree.left.right.left = BinaryTree(7)\n",
        "tree.left.right.right = BinaryTree(8)\n",
        "heightBalancedBinaryTree(tree)"
      ],
      "metadata": {
        "colab": {
          "base_uri": "https://localhost:8080/"
        },
        "id": "hEbTT4aJxw3H",
        "outputId": "a0897108-32e9-4108-b841-1e6e880a3fdc"
      },
      "execution_count": 2,
      "outputs": [
        {
          "output_type": "execute_result",
          "data": {
            "text/plain": [
              "True"
            ]
          },
          "metadata": {},
          "execution_count": 2
        }
      ]
    },
    {
      "cell_type": "code",
      "source": [
        "tree = BinaryTree(1)\n",
        "tree.left = BinaryTree(2)\n",
        "tree.right = BinaryTree(3)\n",
        "tree.left.left = BinaryTree(4)\n",
        "tree.left.right = BinaryTree(5)\n",
        "tree.right.right = BinaryTree(6)\n",
        "tree.left.right.left = BinaryTree(7)\n",
        "tree.left.right.right = BinaryTree(8)\n",
        "tree.right.right.left = BinaryTree(9)\n",
        "tree.right.right.right = BinaryTree(10)\n",
        "heightBalancedBinaryTree(tree)"
      ],
      "metadata": {
        "colab": {
          "base_uri": "https://localhost:8080/"
        },
        "id": "zGYycPIHyICD",
        "outputId": "8c8987f3-526c-4ae2-f153-0d7edae4167e"
      },
      "execution_count": 4,
      "outputs": [
        {
          "output_type": "execute_result",
          "data": {
            "text/plain": [
              "False"
            ]
          },
          "metadata": {},
          "execution_count": 4
        }
      ]
    }
  ]
}