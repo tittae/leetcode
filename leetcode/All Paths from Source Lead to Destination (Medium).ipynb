{
 "cells": [
  {
   "cell_type": "markdown",
   "metadata": {},
   "source": [
    "# All Paths from Source Lead to Destination"
   ]
  },
  {
   "cell_type": "markdown",
   "metadata": {},
   "source": [
    "Given the `edges` of a directed graph where `edges[i] = [ai, bi]` indicates there is an edge between nodes `ai` and `bi`, and two nodes `source` and `destination` of this graph, determine whether or not all paths starting from `source` eventually, end at `destination`, that is:\n",
    "\n",
    "- At least one path exists from the `source` node to the `destination` node\n",
    "- If a path exists from the `source` node to a node with no outgoing edges, then that node is equal to `destination`.\n",
    "- The number of possible paths from `source` to `destination` is a finite number.\n",
    "\n",
    "Return `true` if and only if all roads from `source` lead to `destination`."
   ]
  },
  {
   "cell_type": "markdown",
   "metadata": {},
   "source": []
  },
  {
   "cell_type": "code",
   "execution_count": 1,
   "metadata": {},
   "outputs": [],
   "source": [
    "from typing import *\n",
    "from collections import defaultdict\n",
    "\n",
    "class Solution:\n",
    "    def leadsToDestination(self, n: int, edges: List[List[int]], source: int, destination: int) -> bool:\n",
    "        self.visited = []\n",
    "        \n",
    "        adj_list = defaultdict(list)\n",
    "        for src, des in edges:\n",
    "            adj_list[src].append(des)\n",
    "        \n",
    "        def dfs(curr):          \n",
    "            if len(adj_list[curr]) == 0:\n",
    "                return curr == destination\n",
    "            self.visited.append(curr)\n",
    "            for neighbor in adj_list[curr]:\n",
    "                # there is a loop\n",
    "                if neighbor in self.visited:\n",
    "                    return False\n",
    "                if not dfs(neighbor):\n",
    "                    return False\n",
    "            self.visited.remove(curr)\n",
    "            return True\n",
    "\n",
    "        res = dfs(source)\n",
    "        return res"
   ]
  },
  {
   "cell_type": "code",
   "execution_count": 2,
   "metadata": {},
   "outputs": [
    {
     "name": "stdout",
     "output_type": "stream",
     "text": [
      "False\n"
     ]
    }
   ],
   "source": [
    "n = 3\n",
    "edges = [[0,1],[0,2]]\n",
    "source = 0\n",
    "destination = 2\n",
    "\n",
    "expected = False\n",
    "\n",
    "output = Solution().leadsToDestination(n, edges, source, destination)\n",
    "print(output)\n",
    "assert output == expected"
   ]
  },
  {
   "cell_type": "code",
   "execution_count": 3,
   "metadata": {},
   "outputs": [
    {
     "name": "stdout",
     "output_type": "stream",
     "text": [
      "False\n"
     ]
    }
   ],
   "source": [
    "n = 4\n",
    "edges = [[0,1],[0,3],[1,2],[2,1]]\n",
    "source = 0\n",
    "destination = 3\n",
    "\n",
    "expected = False\n",
    "\n",
    "output = Solution().leadsToDestination(n, edges, source, destination)\n",
    "print(output)\n",
    "assert output == expected"
   ]
  },
  {
   "cell_type": "code",
   "execution_count": 4,
   "metadata": {},
   "outputs": [
    {
     "name": "stdout",
     "output_type": "stream",
     "text": [
      "True\n"
     ]
    }
   ],
   "source": [
    "n = 4\n",
    "edges = [[0,1],[0,2],[1,3],[2,3]]\n",
    "source = 0\n",
    "destination = 3\n",
    "\n",
    "expected = True\n",
    "\n",
    "output = Solution().leadsToDestination(n, edges, source, destination)\n",
    "print(output)\n",
    "assert output == expected"
   ]
  }
 ],
 "metadata": {
  "kernelspec": {
   "display_name": "Python 3.8.9 64-bit",
   "language": "python",
   "name": "python3"
  },
  "language_info": {
   "codemirror_mode": {
    "name": "ipython",
    "version": 3
   },
   "file_extension": ".py",
   "mimetype": "text/x-python",
   "name": "python",
   "nbconvert_exporter": "python",
   "pygments_lexer": "ipython3",
   "version": "3.8.9"
  },
  "orig_nbformat": 4,
  "vscode": {
   "interpreter": {
    "hash": "31f2aee4e71d21fbe5cf8b01ff0e069b9275f58929596ceb00d14d90e3e16cd6"
   }
  }
 },
 "nbformat": 4,
 "nbformat_minor": 2
}
