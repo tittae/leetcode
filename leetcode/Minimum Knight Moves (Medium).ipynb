{
 "cells": [
  {
   "cell_type": "markdown",
   "metadata": {},
   "source": [
    "# Minimum Knight Moves"
   ]
  },
  {
   "cell_type": "markdown",
   "metadata": {},
   "source": [
    "In an infinite chess board with coordinates from -infinity to +infinity, you have a knight at square [0, 0].\n",
    "\n",
    "A knight has 8 possible moves it can make, as illustrated below. Each move is two squares in a cardinal direction, then one square in an orthogonal direction.\n",
    "\n",
    "Return the minimum number of steps needed to move the knight to the square [x, y]. It is guaranteed the answer exists."
   ]
  },
  {
   "cell_type": "markdown",
   "metadata": {},
   "source": [
    "![image.png](data:image/png;base64,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)"
   ]
  },
  {
   "cell_type": "markdown",
   "metadata": {},
   "source": [
    "Example 1:\n",
    "```\n",
    "Input: x = 2, y = 1\n",
    "Output: 1\n",
    "Explanation: [0, 0] → [2, 1]\n",
    "```"
   ]
  },
  {
   "cell_type": "markdown",
   "metadata": {},
   "source": [
    "Example 2:\n",
    "```\n",
    "Input: x = 5, y = 5\n",
    "Output: 4\n",
    "Explanation: [0, 0] → [2, 1] → [4, 2] → [3, 4] → [5, 5]\n",
    "```"
   ]
  },
  {
   "cell_type": "markdown",
   "metadata": {},
   "source": [
    "Constraints:\n",
    "```\n",
    "-300 <= x, y <= 300\n",
    "0 <= |x| + |y| <= 300\n",
    "```"
   ]
  },
  {
   "cell_type": "markdown",
   "metadata": {},
   "source": [
    "# Solution 1: Math"
   ]
  },
  {
   "cell_type": "code",
   "execution_count": 1,
   "metadata": {},
   "outputs": [],
   "source": [
    "class Solution:\n",
    "    # Time O(1)\n",
    "    # Space O(1)\n",
    "    def minKnightMoves(self, x: int, y: int) -> int:\n",
    "        x = abs(x)\n",
    "        y = abs(y)\n",
    "        # x always >= y\n",
    "        x, y = max(x, y), min(x, y)\n",
    "        if x == 1 and y == 0:\n",
    "            return 3\n",
    "        if x == 2 and y == 2:\n",
    "            return 4\n",
    "        delta = x - y\n",
    "        if y > delta:\n",
    "            return delta - 2 * ((delta - y) // 3)\n",
    "        else:\n",
    "            return delta - 2 * ((delta - y) // 4)"
   ]
  },
  {
   "cell_type": "code",
   "execution_count": 2,
   "metadata": {},
   "outputs": [
    {
     "name": "stdout",
     "output_type": "stream",
     "text": [
      "1\n"
     ]
    }
   ],
   "source": [
    "x = 2\n",
    "y = 1\n",
    "expected = 1\n",
    "\n",
    "output = Solution().minKnightMoves(x, y)\n",
    "print(output)\n",
    "assert output == expected"
   ]
  },
  {
   "cell_type": "code",
   "execution_count": 3,
   "metadata": {},
   "outputs": [
    {
     "name": "stdout",
     "output_type": "stream",
     "text": [
      "4\n"
     ]
    }
   ],
   "source": [
    "x = 5\n",
    "y = 5\n",
    "expected = 4\n",
    "\n",
    "output = Solution().minKnightMoves(x, y)\n",
    "print(output)\n",
    "assert output == expected"
   ]
  },
  {
   "cell_type": "markdown",
   "metadata": {},
   "source": [
    "# DFS + Dynamic Programming"
   ]
  },
  {
   "cell_type": "code",
   "execution_count": 4,
   "metadata": {},
   "outputs": [],
   "source": [
    "from functools import lru_cache\n",
    "\n",
    "class Solution:\n",
    "    # time = O(abs(x*y))\n",
    "    # space = O(abs(x*y))\n",
    "    def minKnightMoves(self, x: int, y: int) -> int:\n",
    "        # decreases space by half (limit only haft that x > y)\n",
    "        x, y = max(x, y), min(x, y)\n",
    "\n",
    "        @lru_cache(maxsize=None)\n",
    "        def dfs(x, y):\n",
    "            if x + y == 0:\n",
    "                # base case: (0, 0)\n",
    "                return 0\n",
    "            elif x + y == 2:\n",
    "                # base case: (1, 1), (0, 2), (2, 0)\n",
    "                return 2\n",
    "            else:\n",
    "                return min(dfs(abs(x - 1), abs(y - 2)), dfs(abs(x - 2), abs(y - 1))) + 1\n",
    "\n",
    "        return dfs(abs(x), abs(y))"
   ]
  },
  {
   "cell_type": "code",
   "execution_count": 5,
   "metadata": {},
   "outputs": [
    {
     "name": "stdout",
     "output_type": "stream",
     "text": [
      "1\n"
     ]
    }
   ],
   "source": [
    "x = 2\n",
    "y = 1\n",
    "expected = 1\n",
    "\n",
    "output = Solution().minKnightMoves(x, y)\n",
    "print(output)\n",
    "assert output == expected"
   ]
  },
  {
   "cell_type": "code",
   "execution_count": 6,
   "metadata": {},
   "outputs": [
    {
     "name": "stdout",
     "output_type": "stream",
     "text": [
      "4\n"
     ]
    }
   ],
   "source": [
    "x = 5\n",
    "y = 5\n",
    "expected = 4\n",
    "\n",
    "output = Solution().minKnightMoves(x, y)\n",
    "print(output)\n",
    "assert output == expected"
   ]
  }
 ],
 "metadata": {
  "interpreter": {
   "hash": "20ac7aad763b689ebdaff2f53a3073c7ed55a0f51860968fbf5603f714378c4e"
  },
  "kernelspec": {
   "display_name": "Python 3.10.4 64-bit",
   "language": "python",
   "name": "python3"
  },
  "language_info": {
   "codemirror_mode": {
    "name": "ipython",
    "version": 3
   },
   "file_extension": ".py",
   "mimetype": "text/x-python",
   "name": "python",
   "nbconvert_exporter": "python",
   "pygments_lexer": "ipython3",
   "version": "3.10.4"
  },
  "orig_nbformat": 4
 },
 "nbformat": 4,
 "nbformat_minor": 2
}
