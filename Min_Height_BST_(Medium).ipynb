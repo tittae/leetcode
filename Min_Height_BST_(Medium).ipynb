{
  "nbformat": 4,
  "nbformat_minor": 0,
  "metadata": {
    "colab": {
      "name": "Min Height BST (Medium).ipynb",
      "provenance": [],
      "authorship_tag": "ABX9TyODfmqZM7gWqnWBEQOlRtSe",
      "include_colab_link": true
    },
    "kernelspec": {
      "name": "python3",
      "display_name": "Python 3"
    },
    "language_info": {
      "name": "python"
    }
  },
  "cells": [
    {
      "cell_type": "markdown",
      "metadata": {
        "id": "view-in-github",
        "colab_type": "text"
      },
      "source": [
        "<a href=\"https://colab.research.google.com/github/wisarootl/leetcode/blob/main/Min_Height_BST_(Medium).ipynb\" target=\"_parent\"><img src=\"https://colab.research.google.com/assets/colab-badge.svg\" alt=\"Open In Colab\"/></a>"
      ]
    },
    {
      "cell_type": "markdown",
      "metadata": {
        "id": "5WQkpUoFmoCy"
      },
      "source": [
        "# Min Height BST"
      ]
    },
    {
      "cell_type": "markdown",
      "metadata": {
        "id": "rKEj70wFmp3h"
      },
      "source": [
        "Write a function that takes in a non-empty sorted array of distinct integers, constructs a BST from the integers, and returns the root of the BST.\n",
        "\n",
        "The function should minimize the height of the BST.\n",
        "\n",
        "You've been provided with a `BST` class that you'll have to use to construct the BST.\n",
        "\n",
        "Each `BST` node has an integer `value`, a `left` child node, and a `right` child node. A node is said to be a valid `BST` node if and only if it satisfies the BST property: its `value` is strictly greater than the values of every node to its left; its `value` is less than or equal to the values of every node to its right; and its children nodes are either valid `BST` nodes themselves or `None` / `null`.\n",
        "\n",
        "A BST is valid if and only if all of its nodes are valid `BST` nodes.\n",
        "\n",
        "Note that the `BST` class already has an `insert` method which you can use if you want."
      ]
    },
    {
      "cell_type": "markdown",
      "metadata": {
        "id": "dVLk8grRm8vY"
      },
      "source": [
        "Sample Input\n",
        "\n",
        "```\n",
        "array = [1, 2, 5, 7, 10, 13, 14, 15, 22]\n",
        "```\n",
        "\n"
      ]
    },
    {
      "cell_type": "markdown",
      "metadata": {
        "id": "lUhUyRIgnL-o"
      },
      "source": [
        "Sample Output\n",
        "\n",
        "```\n",
        "         10\n",
        "       /     \\\n",
        "      2      14\n",
        "    /   \\   /   \\\n",
        "   1     5 13   15\n",
        "          \\       \\\n",
        "           7      22\n",
        "// This is one example of a BST with min height\n",
        "// that you could create from the input array.\n",
        "// You could create other BSTs with min height\n",
        "// from the same array; for example:\n",
        "         10\n",
        "       /     \\\n",
        "      5      15\n",
        "    /   \\   /   \\\n",
        "   2     7 13   22\n",
        " /           \\\n",
        "1            14\n",
        "```\n",
        "\n"
      ]
    },
    {
      "cell_type": "code",
      "metadata": {
        "id": "WlQepVUamlmB"
      },
      "source": [
        "# time O(n)\n",
        "# space O(n)\n",
        "\n",
        "def minHeightBst(array):\n",
        "\treturn construct_min_height_bst(array, 0, len(array) - 1)\n",
        "\n",
        "def construct_min_height_bst(array, start_idx, end_idx):\n",
        "\tif start_idx > end_idx:\n",
        "\t\treturn None\n",
        "\tmid_idx = (start_idx + end_idx) // 2\n",
        "\tbst = BST(array[mid_idx])\n",
        "\tbst.left = construct_min_height_bst(array, start_idx, mid_idx - 1)\n",
        "\tbst.right = construct_min_height_bst(array, mid_idx + 1, end_idx)\n",
        "\treturn bst\n",
        "\n",
        "\n",
        "class BST:\n",
        "    def __init__(self, value):\n",
        "        self.value = value\n",
        "        self.left = None\n",
        "        self.right = None\n",
        "\n",
        "    def insert(self, value):\n",
        "        if value < self.value:\n",
        "            if self.left is None:\n",
        "                self.left = BST(value)\n",
        "            else:\n",
        "                self.left.insert(value)\n",
        "        else:\n",
        "            if self.right is None:\n",
        "                self.right = BST(value)\n",
        "            else:\n",
        "                self.right.insert(value)"
      ],
      "execution_count": 1,
      "outputs": []
    },
    {
      "cell_type": "code",
      "metadata": {
        "colab": {
          "base_uri": "https://localhost:8080/"
        },
        "id": "v7VgmBjrnRPI",
        "outputId": "98111f57-3f9b-48ce-adf1-a29a78251c65"
      },
      "source": [
        "array = [1, 2, 5, 7, 10, 13, 14, 15, 22]\n",
        "print(minHeightBst(array).value)"
      ],
      "execution_count": 2,
      "outputs": [
        {
          "output_type": "stream",
          "name": "stdout",
          "text": [
            "10\n"
          ]
        }
      ]
    }
  ]
}