{
 "cells": [
  {
   "cell_type": "markdown",
   "metadata": {},
   "source": [
    "# Flatten 2D Vector"
   ]
  },
  {
   "cell_type": "markdown",
   "metadata": {},
   "source": [
    "Design an iterator to flatten a 2D vector. It should support the next and hasNext operations.\n",
    "\n",
    "Implement the Vector2D class:\n",
    "\n",
    "- `Vector2D(int[][] vec)` initializes the object with the 2D vector vec.\n",
    "- `next()` returns the next element from the 2D vector and moves the pointer one step forward. You may assume that all the calls to next are valid.\n",
    "- `hasNext()` returns true if there are still some elements in the vector, and false otherwise."
   ]
  },
  {
   "cell_type": "markdown",
   "metadata": {},
   "source": [
    "Example 1:\n",
    "\n",
    "```\n",
    "Input\n",
    "[\"Vector2D\", \"next\", \"next\", \"next\", \"hasNext\", \"hasNext\", \"next\", \"hasNext\"]\n",
    "[[[[1, 2], [3], [4]]], [], [], [], [], [], [], []]\n",
    "Output\n",
    "[null, 1, 2, 3, true, true, 4, false]\n",
    "\n",
    "Explanation\n",
    "Vector2D vector2D = new Vector2D([[1, 2], [3], [4]]);\n",
    "vector2D.next();    // return 1\n",
    "vector2D.next();    // return 2\n",
    "vector2D.next();    // return 3\n",
    "vector2D.hasNext(); // return True\n",
    "vector2D.hasNext(); // return True\n",
    "vector2D.next();    // return 4\n",
    "vector2D.hasNext(); // return False\n",
    "```"
   ]
  },
  {
   "cell_type": "markdown",
   "metadata": {},
   "source": [
    "Constraints:\n",
    "\n",
    "```\n",
    "0 <= vec.length <= 200\n",
    "0 <= vec[i].length <= 500\n",
    "-500 <= vec[i][j] <= 500\n",
    "At most 105 calls will be made to next and hasNext.\n",
    "```"
   ]
  },
  {
   "cell_type": "code",
   "execution_count": 3,
   "metadata": {},
   "outputs": [],
   "source": [
    "from typing import *\n",
    "\n",
    "class Vector2D:\n",
    "\n",
    "    # time = O(N)\n",
    "    # space = O(N)\n",
    "    # N = total num on integers in 2D vector\n",
    "    def __init__(self, v: List[List[int]]):\n",
    "        # We need to iterate over the 2D vector, getting all the integers\n",
    "        # out of it and putting them into the nums list.\n",
    "        self.nums = []\n",
    "        for inner_list in v:\n",
    "            for num in inner_list:\n",
    "                self.nums.append(num)\n",
    "        # We'll keep position 1 behind the next number to return.\n",
    "        self.position = -1\n",
    "\n",
    "    # time = O(1)\n",
    "    # space = O(1)\n",
    "    def next(self) -> int:\n",
    "        # Move up to the current element and return it.\n",
    "        self.position += 1\n",
    "        return self.nums[self.position]\n",
    "\n",
    "    # time = O(1)\n",
    "    # space = O(1)\n",
    "    def hasNext(self) -> bool:\n",
    "        # If the next position is a valid index of nums, return True.\n",
    "        return self.position + 1 < len(self.nums)\n",
    "        \n",
    "\n",
    "# Your Vector2D object will be instantiated and called as such:\n",
    "# obj = Vector2D(vec)\n",
    "# param_1 = obj.next()\n",
    "# param_2 = obj.hasNext()"
   ]
  },
  {
   "cell_type": "code",
   "execution_count": 4,
   "metadata": {},
   "outputs": [],
   "source": [
    "vec = Vector2D([[1, 2], [3], [4]])\n",
    "assert vec.next() == 1\n",
    "assert vec.next() == 2\n",
    "assert vec.next() == 3\n",
    "assert vec.hasNext() == True\n",
    "assert vec.hasNext() == True\n",
    "assert vec.next() == 4\n",
    "assert vec.hasNext() == False"
   ]
  }
 ],
 "metadata": {
  "kernelspec": {
   "display_name": "Python 3.10.5 64-bit ('3.10.5')",
   "language": "python",
   "name": "python3"
  },
  "language_info": {
   "codemirror_mode": {
    "name": "ipython",
    "version": 3
   },
   "file_extension": ".py",
   "mimetype": "text/x-python",
   "name": "python",
   "nbconvert_exporter": "python",
   "pygments_lexer": "ipython3",
   "version": "3.10.5"
  },
  "orig_nbformat": 4,
  "vscode": {
   "interpreter": {
    "hash": "992441bd4bc11ab83c63537935ea198062f55180155eaba570b8d7c82e005e8c"
   }
  }
 },
 "nbformat": 4,
 "nbformat_minor": 2
}
