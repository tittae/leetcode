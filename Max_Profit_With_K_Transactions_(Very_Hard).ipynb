{
  "nbformat": 4,
  "nbformat_minor": 0,
  "metadata": {
    "colab": {
      "name": "Max Profit With K Transactions (Very Hard).ipynb",
      "provenance": [],
      "authorship_tag": "ABX9TyN4uQ+MXMM6FhJKoQIo8zGa",
      "include_colab_link": true
    },
    "kernelspec": {
      "name": "python3",
      "display_name": "Python 3"
    },
    "language_info": {
      "name": "python"
    }
  },
  "cells": [
    {
      "cell_type": "markdown",
      "metadata": {
        "id": "view-in-github",
        "colab_type": "text"
      },
      "source": [
        "<a href=\"https://colab.research.google.com/github/wisarootl/leetcode/blob/main/Max_Profit_With_K_Transactions_(Very_Hard).ipynb\" target=\"_parent\"><img src=\"https://colab.research.google.com/assets/colab-badge.svg\" alt=\"Open In Colab\"/></a>"
      ]
    },
    {
      "cell_type": "markdown",
      "metadata": {
        "id": "WNncYLHW09o3"
      },
      "source": [
        "# Max Profit With K Transactions"
      ]
    },
    {
      "cell_type": "markdown",
      "metadata": {
        "id": "Aw93Njw50-2V"
      },
      "source": [
        "You're given an array of positive integers representing the prices of a single stock on various days (each index in the array represents a different day). You're also given an integer k, which represents the number of transactions you're allowed to make. One transaction consists of buying the stock on a given day and selling it on another, later day.\n",
        "\n",
        "Write a function that returns the maximum profit that you can make by buying and selling the stock, given `k` transactions.\n",
        "\n",
        "Note that you can only hold one share of the stock at a time; in other words, you can't buy more than one share of the stock on any given day, and you can't buy a share of the stock if you're still holding another share. Also, you don't need to use all k transactions that you're allowed."
      ]
    },
    {
      "cell_type": "markdown",
      "metadata": {
        "id": "VWYfMIXE1By8"
      },
      "source": [
        "Sample Input\n",
        "\n",
        "```\n",
        "prices = [5, 11, 3, 50, 60, 90]\n",
        "k = 2\n",
        "```\n",
        "\n"
      ]
    },
    {
      "cell_type": "markdown",
      "metadata": {
        "id": "6n_QvZDO1DhD"
      },
      "source": [
        "Sample Output\n",
        "\n",
        "```\n",
        "93 // Buy: 5, Sell: 11; Buy: 3, Sell: 90\n",
        "```\n",
        "\n"
      ]
    },
    {
      "cell_type": "code",
      "metadata": {
        "id": "cipdXJpE0n3l"
      },
      "source": [
        "def maxProfitWithKTransactions(prices, k):\n",
        "  if len(prices) == 0:\n",
        "    return 0\n",
        "  previous_profit = [0 for _ in range(len(prices))]\n",
        "  current_profit = [0 for _ in range(len(prices))]\n",
        "\n",
        "  for t in range(1, k + 1):\n",
        "    max_profit_of_previous_transaction = float('-inf')\n",
        "    for d in range(1, len(prices)):\n",
        "      max_profit_of_previous_transaction = max(max_profit_of_previous_transaction, previous_profit[d - 1] - prices[d - 1])\n",
        "      current_profit[d] = max(current_profit[d - 1], prices[d] + max_profit_of_previous_transaction)\n",
        "    previous_profit = current_profit[:]\n",
        "\n",
        "  return current_profit[-1]"
      ],
      "execution_count": 1,
      "outputs": []
    },
    {
      "cell_type": "code",
      "metadata": {
        "colab": {
          "base_uri": "https://localhost:8080/"
        },
        "id": "nEzB2lKV1KeS",
        "outputId": "5a95cc12-9e33-4c8d-933b-b2d2b4158697"
      },
      "source": [
        "prices = [5, 11, 3, 50, 60, 90]\n",
        "k = 2\n",
        "print(maxProfitWithKTransactions(prices, k))"
      ],
      "execution_count": 2,
      "outputs": [
        {
          "output_type": "stream",
          "name": "stdout",
          "text": [
            "93\n"
          ]
        }
      ]
    }
  ]
}