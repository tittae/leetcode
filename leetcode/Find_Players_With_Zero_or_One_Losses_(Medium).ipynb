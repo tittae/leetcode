{
  "cells": [
    {
      "cell_type": "markdown",
      "metadata": {
        "colab_type": "text",
        "id": "view-in-github"
      },
      "source": [
        "<a href=\"https://colab.research.google.com/github/wisarootl/leetcode/blob/main/Find_Players_With_Zero_or_One_Losses_(Medium).ipynb\" target=\"_parent\"><img src=\"https://colab.research.google.com/assets/colab-badge.svg\" alt=\"Open In Colab\"/></a>"
      ]
    },
    {
      "cell_type": "markdown",
      "metadata": {
        "id": "IPQ85jaUrgMd"
      },
      "source": [
        "# Find Players With Zero or One Losses"
      ]
    },
    {
      "cell_type": "markdown",
      "metadata": {
        "id": "o2qhmn6xrhW9"
      },
      "source": [
        "You are given an integer array matches where matches[i] = [winneri, loseri] indicates that the player winneri defeated player loseri in a match.\n",
        "\n",
        "Return a list answer of size 2 where:\n",
        "\n",
        "- answer[0] is a list of all players that have not lost any matches.\n",
        "- answer[1] is a list of all players that have lost exactly one match.\n",
        "\n",
        "The values in the two lists should be returned in increasing order.\n",
        "\n",
        "Note:\n",
        "\n",
        "- You should only consider the players that have played at least one match.\n",
        "- The testcases will be generated such that no two matches will have the same outcome."
      ]
    },
    {
      "cell_type": "markdown",
      "metadata": {
        "id": "JKG3HoI9rm_B"
      },
      "source": [
        "Example 1:\n",
        "\n",
        "```\n",
        "Input: matches = [[1,3],[2,3],[3,6],[5,6],[5,7],[4,5],[4,8],[4,9],[10,4],[10,9]]\n",
        "Output: [[1,2,10],[4,5,7,8]]\n",
        "Explanation:\n",
        "Players 1, 2, and 10 have not lost any matches.\n",
        "Players 4, 5, 7, and 8 each have lost one match.\n",
        "Players 3, 6, and 9 each have lost two matches.\n",
        "Thus, answer[0] = [1,2,10] and answer[1] = [4,5,7,8].\n",
        "```\n",
        "\n"
      ]
    },
    {
      "cell_type": "markdown",
      "metadata": {
        "id": "fg6R6kdqroyu"
      },
      "source": [
        "Example 2:\n",
        "\n",
        "```\n",
        "Input: matches = [[2,3],[1,3],[5,4],[6,4]]\n",
        "Output: [[1,2,5,6],[]]\n",
        "Explanation:\n",
        "Players 1, 2, 5, and 6 have not lost any matches.\n",
        "Players 3 and 4 each have lost two matches.\n",
        "Thus, answer[0] = [1,2,5,6] and answer[1] = [].\n",
        "```\n",
        "\n"
      ]
    },
    {
      "cell_type": "markdown",
      "metadata": {
        "id": "93H3FKHrrrCf"
      },
      "source": [
        "Constraints:\n",
        "\n",
        "```\n",
        "1 <= matches.length <= 105\n",
        "matches[i].length == 2\n",
        "1 <= winneri, loseri <= 105\n",
        "winneri != loseri\n",
        "All matches[i] are unique.\n",
        "```\n",
        "\n"
      ]
    },
    {
      "cell_type": "code",
      "execution_count": 1,
      "metadata": {
        "id": "3zs7Yw40reS-"
      },
      "outputs": [],
      "source": [
        "# Time = O(N Log N) (bottleneck by sorting)\n",
        "# Space = O(N)\n",
        "\n",
        "# N = len(matches)\n",
        "\n",
        "class Solution:\n",
        "    def findWinners(self, matches):\n",
        "        lost_count = count_lost(matches)\n",
        "        ans = [[], []]\n",
        "        for player in sorted(lost_count.keys()):\n",
        "            if lost_count[player] == 0:\n",
        "                ans[0].append(player)\n",
        "            elif lost_count[player] == 1:\n",
        "                ans[1].append(player)\n",
        "        \n",
        "        return ans\n",
        "\n",
        "def count_lost(matches):\n",
        "    lost_count = {}\n",
        "    for winner, loser in matches:\n",
        "        if loser not in lost_count:\n",
        "            lost_count[loser] = 0\n",
        "        lost_count[loser] += 1\n",
        "        \n",
        "        if winner not in lost_count:\n",
        "            lost_count[winner] = 0\n",
        "            \n",
        "    return lost_count"
      ]
    },
    {
      "cell_type": "code",
      "execution_count": 2,
      "metadata": {
        "colab": {
          "base_uri": "https://localhost:8080/"
        },
        "id": "4aYcSLrerv4E",
        "outputId": "7570e4ee-8e45-4753-e6bb-d1cff736ba02"
      },
      "outputs": [
        {
          "name": "stdout",
          "output_type": "stream",
          "text": [
            "[[1, 2, 10], [4, 5, 7, 8]]\n"
          ]
        }
      ],
      "source": [
        "matches = [[1,3],[2,3],[3,6],[5,6],[5,7],[4,5],[4,8],[4,9],[10,4],[10,9]]\n",
        "expected = [[1,2,10],[4,5,7,8]]\n",
        "\n",
        "output = Solution().findWinners(matches)\n",
        "print(output)\n",
        "assert output == expected"
      ]
    },
    {
      "cell_type": "code",
      "execution_count": 3,
      "metadata": {
        "colab": {
          "base_uri": "https://localhost:8080/"
        },
        "id": "oHFEehN8r807",
        "outputId": "1c391b60-5706-4f8c-df65-e6d38c2e715a"
      },
      "outputs": [
        {
          "name": "stdout",
          "output_type": "stream",
          "text": [
            "[[1, 2, 5, 6], []]\n"
          ]
        }
      ],
      "source": [
        "matches = [[2,3],[1,3],[5,4],[6,4]]\n",
        "expected = [[1,2,5,6],[]]\n",
        "\n",
        "output = Solution().findWinners(matches)\n",
        "print(output)\n",
        "assert output == expected"
      ]
    }
  ],
  "metadata": {
    "colab": {
      "authorship_tag": "ABX9TyOVBmVruw5ZX9JaOhFxAtS9",
      "include_colab_link": true,
      "name": "Find Players With Zero or One Losses (Medium).ipynb",
      "provenance": []
    },
    "kernelspec": {
      "display_name": "Python 3.10.5 64-bit ('3.10.5')",
      "language": "python",
      "name": "python3"
    },
    "language_info": {
      "codemirror_mode": {
        "name": "ipython",
        "version": 3
      },
      "file_extension": ".py",
      "mimetype": "text/x-python",
      "name": "python",
      "nbconvert_exporter": "python",
      "pygments_lexer": "ipython3",
      "version": "3.10.5"
    },
    "vscode": {
      "interpreter": {
        "hash": "992441bd4bc11ab83c63537935ea198062f55180155eaba570b8d7c82e005e8c"
      }
    }
  },
  "nbformat": 4,
  "nbformat_minor": 0
}
