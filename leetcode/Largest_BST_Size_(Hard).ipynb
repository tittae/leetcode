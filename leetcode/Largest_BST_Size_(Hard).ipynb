{
  "nbformat": 4,
  "nbformat_minor": 0,
  "metadata": {
    "colab": {
      "name": "Largest BST Size (Hard).ipynb",
      "provenance": [],
      "authorship_tag": "ABX9TyODzM0LEozRP/zgPWTs6K4i",
      "include_colab_link": true
    },
    "kernelspec": {
      "name": "python3",
      "display_name": "Python 3"
    },
    "language_info": {
      "name": "python"
    }
  },
  "cells": [
    {
      "cell_type": "markdown",
      "metadata": {
        "id": "view-in-github",
        "colab_type": "text"
      },
      "source": [
        "<a href=\"https://colab.research.google.com/github/wisarootl/leetcode/blob/main/Largest_BST_Size_(Hard).ipynb\" target=\"_parent\"><img src=\"https://colab.research.google.com/assets/colab-badge.svg\" alt=\"Open In Colab\"/></a>"
      ]
    },
    {
      "cell_type": "markdown",
      "source": [
        "# Largest BST Size"
      ],
      "metadata": {
        "id": "YR6IfS7MyUKv"
      }
    },
    {
      "cell_type": "markdown",
      "source": [
        "Write a function that takes in a Binary Tree and returns the size of the largest Binary Search Tree (BST) contained in it.\n",
        "\n",
        "Each `BinaryTree` node has an integer `value`, a `left` child node, and a `right` child node. Children nodes can either be `BinaryTree` nodes themselves or `None` / `null`.\n",
        "\n",
        "A BST is a special type of Binary Tree whose nodes all satisfy the BST property. A node satisfies the BST property if its `value` is strictly greater than the values of every node to its left; its `value` is less than or equal to the values of every node to its right; and its children nodes are either valid `BST` nodes themselves or `None` / `null`."
      ],
      "metadata": {
        "id": "Z22Wc6CqyWjR"
      }
    },
    {
      "cell_type": "markdown",
      "source": [
        "Sample Input\n",
        "\n",
        "```\n",
        "tree =            20\n",
        "          /                \\ \n",
        "         7                 10\n",
        "       /   \\             /     \\\n",
        "      0     8           5      15\n",
        "          /   \\       /   \\   /   \\\n",
        "         7     9     2     5 13   22\n",
        "                   /           \\\n",
        "                  1             14\n",
        "```\n",
        "\n"
      ],
      "metadata": {
        "id": "RNPol3B-ykVA"
      }
    },
    {
      "cell_type": "markdown",
      "source": [
        "Sample Output\n",
        "\n",
        "```\n",
        "9 // The subtree rooted at 10 is the largest BST in the tree, with 9 nodes.\n",
        "```\n",
        "\n"
      ],
      "metadata": {
        "id": "9LJK4aQlynvo"
      }
    },
    {
      "cell_type": "markdown",
      "source": [
        "# Solution 1"
      ],
      "metadata": {
        "id": "KmrF1VGixM8k"
      }
    },
    {
      "cell_type": "code",
      "execution_count": 1,
      "metadata": {
        "id": "KiCzi1kfpYta"
      },
      "outputs": [],
      "source": [
        "# Time = O(n)\n",
        "# Space = O(h)\n",
        "\n",
        "# n = no. of node\n",
        "# h = height of tree\n",
        "\n",
        "def largestBstSize(tree):\n",
        "\ttree_info = is_valid_bst(tree)\n",
        "\treturn tree_info['max_size']\n",
        "\n",
        "def is_valid_bst(tree):\n",
        "\tif tree == None:\n",
        "\t\treturn {'min':float('inf'), 'max':float('-inf'), 'size':0, 'max_size':0}\n",
        "\tleft_tree_info = is_valid_bst(tree.left)\n",
        "\tright_tree_info = is_valid_bst(tree.right)\n",
        "\tif left_tree_info['size'] != float('-inf') and right_tree_info['size'] != float('-inf') and left_tree_info['max'] < tree.value and right_tree_info['min'] >= tree.value:\n",
        "\t\tsize = left_tree_info['size'] + right_tree_info['size'] + 1\n",
        "\t\ttree_min = min(tree.value, left_tree_info['min'])\n",
        "\t\ttree_max = max(tree.value, right_tree_info['max'])\n",
        "\telse:\n",
        "\t\tsize = float('-inf')\n",
        "\t\ttree_min = None\n",
        "\t\ttree_max = None\n",
        "\tmax_size = max(size, left_tree_info['max_size'], right_tree_info['max_size'])\n",
        "\treturn {'min':tree_min, 'max':tree_max, 'size':size, 'max_size':max_size}\n",
        "\t\n",
        "# This is an input class. Do not edit.\n",
        "class BinaryTree:\n",
        "\tdef __init__(self, value):\n",
        "\t\tself.value = value\n",
        "\t\tself.left = None\n",
        "\t\tself.right = None"
      ]
    },
    {
      "cell_type": "code",
      "source": [
        "tree = BinaryTree(20)\n",
        "tree.left = BinaryTree(7)\n",
        "tree.right = BinaryTree(10)\n",
        "tree.left.left = BinaryTree(0)\n",
        "tree.left.right = BinaryTree(8)\n",
        "tree.left.right.left = BinaryTree(7)\n",
        "tree.left.right.right = BinaryTree(9)\n",
        "tree.right.left = BinaryTree(5)\n",
        "tree.right.right = BinaryTree(15)\n",
        "tree.right.left.left = BinaryTree(2)\n",
        "tree.right.left.right = BinaryTree(5)\n",
        "tree.right.left.left.left = BinaryTree(1)\n",
        "tree.right.right.left = BinaryTree(13)\n",
        "tree.right.right.right = BinaryTree(22)\n",
        "tree.right.right.left.right = BinaryTree(14)"
      ],
      "metadata": {
        "id": "JQHnZgm5ryiq"
      },
      "execution_count": 2,
      "outputs": []
    },
    {
      "cell_type": "code",
      "source": [
        "largestBstSize(tree)"
      ],
      "metadata": {
        "colab": {
          "base_uri": "https://localhost:8080/"
        },
        "id": "8zstmE8IsXZG",
        "outputId": "fa0f0c68-a285-40ef-9028-46a0f0afc7bd"
      },
      "execution_count": 3,
      "outputs": [
        {
          "output_type": "execute_result",
          "data": {
            "text/plain": [
              "9"
            ]
          },
          "metadata": {},
          "execution_count": 3
        }
      ]
    },
    {
      "cell_type": "markdown",
      "source": [
        "![photo_2022-02-23_11-13-28.jpg](data:image/jpeg;base64,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)"
      ],
      "metadata": {
        "id": "tAJaLYJ-yPV7"
      }
    },
    {
      "cell_type": "markdown",
      "source": [
        "# Solution 2"
      ],
      "metadata": {
        "id": "AhXdiZRaxLVO"
      }
    },
    {
      "cell_type": "markdown",
      "source": [
        "same as solution 1. just refactor"
      ],
      "metadata": {
        "id": "bP9-N-XBxQta"
      }
    },
    {
      "cell_type": "code",
      "source": [
        "# Time = O(n)\n",
        "# Space = O(h)\n",
        "\n",
        "# n = no. of node\n",
        "# h = height of tree\n",
        "\n",
        "def largestBstSize(tree):\n",
        "  tree_info = is_valid_bst(tree)\n",
        "  return tree_info.max_bst_size\n",
        "\n",
        "def is_valid_bst(tree):\n",
        "  if tree == None:\n",
        "    return TreeInfo(True, float('-inf'), float('inf'), 0, 0)\n",
        "  left_tree_info = is_valid_bst(tree.left)\n",
        "  right_tree_info = is_valid_bst(tree.right)\n",
        "  current_size = left_tree_info.current_size + right_tree_info.current_size + 1\n",
        "\n",
        "  satisfied_bst_properties = left_tree_info.max_value < tree.value and right_tree_info.min_value >= tree.value\n",
        "  is_bst = left_tree_info.is_bst and right_tree_info.is_bst and satisfied_bst_properties\n",
        "  if is_bst:\n",
        "      max_bst_size = current_size\n",
        "  else:\n",
        "      max_bst_size = max(left_tree_info.max_bst_size , right_tree_info.max_bst_size)\n",
        "\n",
        "  min_value = min(tree.value, left_tree_info.min_value, right_tree_info.min_value)\n",
        "  max_value = max(tree.value, left_tree_info.max_value, right_tree_info.max_value)\n",
        "\n",
        "  return TreeInfo(is_bst, max_value, min_value, current_size, max_bst_size)\n",
        "\n",
        "class TreeInfo:\n",
        "  def __init__(self, is_bst, max_value, min_value, current_size, max_bst_size):\n",
        "    self.is_bst = is_bst\n",
        "    self.max_value = max_value\n",
        "    self.min_value = min_value\n",
        "    self.current_size = current_size\n",
        "    self.max_bst_size = max_bst_size\n",
        "  \n",
        "# This is an input class. Do not edit.\n",
        "class BinaryTree:\n",
        "  def __init__(self, value):\n",
        "    self.value = value\n",
        "    self.left = None\n",
        "    self.right = None"
      ],
      "metadata": {
        "id": "kEsa5-gmsbHP"
      },
      "execution_count": 4,
      "outputs": []
    },
    {
      "cell_type": "code",
      "source": [
        "tree = BinaryTree(20)\n",
        "tree.left = BinaryTree(7)\n",
        "tree.right = BinaryTree(10)\n",
        "tree.left.left = BinaryTree(0)\n",
        "tree.left.right = BinaryTree(8)\n",
        "tree.left.right.left = BinaryTree(7)\n",
        "tree.left.right.right = BinaryTree(9)\n",
        "tree.right.left = BinaryTree(5)\n",
        "tree.right.right = BinaryTree(15)\n",
        "tree.right.left.left = BinaryTree(2)\n",
        "tree.right.left.right = BinaryTree(5)\n",
        "tree.right.left.left.left = BinaryTree(1)\n",
        "tree.right.right.left = BinaryTree(13)\n",
        "tree.right.right.right = BinaryTree(22)\n",
        "tree.right.right.left.right = BinaryTree(14)"
      ],
      "metadata": {
        "id": "eDPCfHiLv7m_"
      },
      "execution_count": 5,
      "outputs": []
    },
    {
      "cell_type": "code",
      "source": [
        "largestBstSize(tree)"
      ],
      "metadata": {
        "colab": {
          "base_uri": "https://localhost:8080/"
        },
        "id": "niT2GZoav9M8",
        "outputId": "cbf13d9c-1a7d-4862-8099-970a3f4e0200"
      },
      "execution_count": 6,
      "outputs": [
        {
          "output_type": "execute_result",
          "data": {
            "text/plain": [
              "9"
            ]
          },
          "metadata": {},
          "execution_count": 6
        }
      ]
    }
  ]
}