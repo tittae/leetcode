{
  "nbformat": 4,
  "nbformat_minor": 0,
  "metadata": {
    "colab": {
      "name": "Remove Duplicates From Linked List (Easy).ipynb",
      "provenance": [],
      "collapsed_sections": [],
      "authorship_tag": "ABX9TyPCcUNLbO1TtHfm0QGmi+gF",
      "include_colab_link": true
    },
    "kernelspec": {
      "name": "python3",
      "display_name": "Python 3"
    },
    "language_info": {
      "name": "python"
    }
  },
  "cells": [
    {
      "cell_type": "markdown",
      "metadata": {
        "id": "view-in-github",
        "colab_type": "text"
      },
      "source": [
        "<a href=\"https://colab.research.google.com/github/wisarootl/leetcode/blob/main/Remove_Duplicates_From_Linked_List_(Easy).ipynb\" target=\"_parent\"><img src=\"https://colab.research.google.com/assets/colab-badge.svg\" alt=\"Open In Colab\"/></a>"
      ]
    },
    {
      "cell_type": "markdown",
      "metadata": {
        "id": "fJxLfRGehDU6"
      },
      "source": [
        "# Remove Duplicates From Linked List"
      ]
    },
    {
      "cell_type": "markdown",
      "metadata": {
        "id": "uijOon-khFTS"
      },
      "source": [
        "You're given the head of a Singly Linked List whose nodes are in sorted order with respect to their values. Write a function that returns a modified version of the Linked List that doesn't contain any nodes with duplicate values. The Linked List should be modified in place (i.e., you shouldn't create a brand new list), and the modified Linked List should still have its nodes sorted with respect to their values.\n",
        "\n",
        "Each LinkedList node has an integer value as well as a next node pointing to the next node in the list or to None / null if it's the tail of the list."
      ]
    },
    {
      "cell_type": "markdown",
      "metadata": {
        "id": "mh-314crhF5w"
      },
      "source": [
        "Sample Input\n",
        "\n",
        "```\n",
        "linkedList = 1 -> 1 -> 3 -> 4 -> 4 -> 4 -> 5 -> 6 -> 6 // the head node with value 1\n",
        "```\n",
        "\n"
      ]
    },
    {
      "cell_type": "markdown",
      "metadata": {
        "id": "1totgVHshJoZ"
      },
      "source": [
        "Sample Output\n",
        "\n",
        "```\n",
        "1 -> 3 -> 4 -> 5 -> 6 // the head node with value 1\n",
        "```\n",
        "\n"
      ]
    },
    {
      "cell_type": "markdown",
      "metadata": {
        "id": "Gw9P3rgWqYkK"
      },
      "source": [
        "## LinkedList Class"
      ]
    },
    {
      "cell_type": "code",
      "metadata": {
        "id": "JS0jVgCjhEZs"
      },
      "source": [
        "class LinkedList:\n",
        "    def __init__(self, value):\n",
        "        self.value = value\n",
        "        self.next = None\n",
        "    \n",
        "    def append(self, value):\n",
        "        self.next = LinkedList(value)\n",
        "    \n",
        "    def __str__(self):\n",
        "        print_linkedlist = ''\n",
        "        current_node = self\n",
        "        while current_node != None:\n",
        "          print_linkedlist += str(current_node.value)\n",
        "          if current_node.next != None:\n",
        "            print_linkedlist += ' -> '\n",
        "          current_node = current_node.next\n",
        "        return print_linkedlist"
      ],
      "execution_count": null,
      "outputs": []
    },
    {
      "cell_type": "code",
      "metadata": {
        "id": "fc58VNPqq-nd"
      },
      "source": [
        "def generate_linkedlist(desire_linklist):\n",
        "  linkedList = LinkedList(desire_linklist[0])\n",
        "\n",
        "  current_node = linkedList\n",
        "  for node in desire_linklist[1:]:\n",
        "    current_node.append(node)\n",
        "    current_node = current_node.next\n",
        "  \n",
        "  return linkedList"
      ],
      "execution_count": null,
      "outputs": []
    },
    {
      "cell_type": "markdown",
      "metadata": {
        "id": "3nvuX69jmmPz"
      },
      "source": [
        "## Solution"
      ]
    },
    {
      "cell_type": "code",
      "metadata": {
        "id": "52-LNw3vg_EL"
      },
      "source": [
        "# Time O(n), Space O(1)\n",
        "\n",
        "def removeDuplicatesFromLinkedList(linkedList):\n",
        "\t# Write your code here.\n",
        "\tcurrent_node = linkedList\n",
        "\n",
        "\twhile current_node != None:\n",
        "\t\t\n",
        "\t\twhile current_node.next != None and current_node.value == current_node.next.value:\n",
        "\t\t\tcurrent_node.next = current_node.next.next\n",
        "\t\t\n",
        "\t\tcurrent_node = current_node.next\n",
        "\n",
        "\treturn linkedList"
      ],
      "execution_count": null,
      "outputs": []
    },
    {
      "cell_type": "code",
      "metadata": {
        "id": "xicmJEKfms4s"
      },
      "source": [
        "desire_linklist = [1, 1, 3, 4, 4, 4, 5, 6, 6]\n",
        "linkedList = generate_linkedlist(desire_linklist)"
      ],
      "execution_count": null,
      "outputs": []
    },
    {
      "cell_type": "code",
      "metadata": {
        "colab": {
          "base_uri": "https://localhost:8080/"
        },
        "id": "-XFWsVkEoeOS",
        "outputId": "88f219e0-b0fe-4268-b1b8-ae7f472dcabf"
      },
      "source": [
        "print(linkedList)"
      ],
      "execution_count": null,
      "outputs": [
        {
          "output_type": "stream",
          "name": "stdout",
          "text": [
            "1 -> 1 -> 3 -> 4 -> 4 -> 4 -> 5 -> 6 -> 6\n"
          ]
        }
      ]
    },
    {
      "cell_type": "code",
      "metadata": {
        "colab": {
          "base_uri": "https://localhost:8080/"
        },
        "id": "LULlz4rsndRb",
        "outputId": "851d84e2-0948-44be-d7bc-ef87cda1ce0e"
      },
      "source": [
        "print(removeDuplicatesFromLinkedList(linkedList))"
      ],
      "execution_count": null,
      "outputs": [
        {
          "output_type": "stream",
          "name": "stdout",
          "text": [
            "1 -> 3 -> 4 -> 5 -> 6\n"
          ]
        }
      ]
    }
  ]
}