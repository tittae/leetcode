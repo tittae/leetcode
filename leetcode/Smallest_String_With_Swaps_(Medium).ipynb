{
  "nbformat": 4,
  "nbformat_minor": 0,
  "metadata": {
    "colab": {
      "name": "Smallest String With Swaps (Medium).ipynb",
      "provenance": [],
      "authorship_tag": "ABX9TyNTJ6+aJGT74vTHQp6gkvzR",
      "include_colab_link": true
    },
    "kernelspec": {
      "name": "python3",
      "display_name": "Python 3"
    },
    "language_info": {
      "name": "python"
    }
  },
  "cells": [
    {
      "cell_type": "markdown",
      "metadata": {
        "id": "view-in-github",
        "colab_type": "text"
      },
      "source": [
        "<a href=\"https://colab.research.google.com/github/wisarootl/leetcode/blob/main/Smallest_String_With_Swaps_(Medium).ipynb\" target=\"_parent\"><img src=\"https://colab.research.google.com/assets/colab-badge.svg\" alt=\"Open In Colab\"/></a>"
      ]
    },
    {
      "cell_type": "markdown",
      "source": [
        "# Smallest String With Swaps"
      ],
      "metadata": {
        "id": "3Q10h39Kdl6y"
      }
    },
    {
      "cell_type": "markdown",
      "source": [
        "You are given a string s, and an array of pairs of indices in the string pairs where pairs[i] = [a, b] indicates 2 indices(0-indexed) of the string.\n",
        "\n",
        "You can swap the characters at any pair of indices in the given pairs any number of times.\n",
        "\n",
        "Return the lexicographically smallest string that s can be changed to after using the swaps."
      ],
      "metadata": {
        "id": "eVy2KQEsdFyg"
      }
    },
    {
      "cell_type": "markdown",
      "source": [
        "Example 1:\n",
        "\n",
        "```\n",
        "Input: s = \"dcab\", pairs = [[0,3],[1,2]]\n",
        "Output: \"bacd\"\n",
        "Explaination: \n",
        "Swap s[0] and s[3], s = \"bcad\"\n",
        "Swap s[1] and s[2], s = \"bacd\"\n",
        "```\n",
        "\n"
      ],
      "metadata": {
        "id": "bGmSN2bodHMi"
      }
    },
    {
      "cell_type": "markdown",
      "source": [
        "Example 2:\n",
        "\n",
        "```\n",
        "Input: s = \"dcab\", pairs = [[0,3],[1,2],[0,2]]\n",
        "Output: \"abcd\"\n",
        "Explaination: \n",
        "Swap s[0] and s[3], s = \"bcad\"\n",
        "Swap s[0] and s[2], s = \"acbd\"\n",
        "Swap s[1] and s[2], s = \"abcd\"\n",
        "```\n",
        "\n"
      ],
      "metadata": {
        "id": "Fj7lQCUedJZ5"
      }
    },
    {
      "cell_type": "markdown",
      "source": [
        "Example 3:\n",
        "\n",
        "```\n",
        "Input: s = \"cba\", pairs = [[0,1],[1,2]]\n",
        "Output: \"abc\"\n",
        "Explaination: \n",
        "Swap s[0] and s[1], s = \"bca\"\n",
        "Swap s[1] and s[2], s = \"bac\"\n",
        "Swap s[0] and s[1], s = \"abc\"\n",
        "```\n",
        "\n"
      ],
      "metadata": {
        "id": "he52ScTudMZ8"
      }
    },
    {
      "cell_type": "markdown",
      "source": [
        "Constraints:\n",
        "\n",
        "```\n",
        "1 <= s.length <= 10^5\n",
        "0 <= pairs.length <= 10^5\n",
        "0 <= pairs[i][0], pairs[i][1] < s.length\n",
        "s only contains lower case English letters.\n",
        "```\n",
        "\n"
      ],
      "metadata": {
        "id": "T-HRk_fXdPoZ"
      }
    },
    {
      "cell_type": "code",
      "execution_count": 1,
      "metadata": {
        "id": "TlJuiXB4dBje"
      },
      "outputs": [],
      "source": [
        "### Solution 1 - DFS\n",
        "class Solution(object):\n",
        "    # Time = O(E + V log V)\n",
        "    # Space = O(E + V)\n",
        "    # Space O(E) to store adjacency list\n",
        "    # Space O(V) to track visited\n",
        "    # Time O(E+V) for DFS\n",
        "    # Time O(V log V) for sort\n",
        "    def smallestStringWithSwaps(self, s, pairs):\n",
        "        d = {}\n",
        "        s = list(s)\n",
        "        visited = [False for _ in range(len(s))]\n",
        "\n",
        "        for source, destination in pairs:\n",
        "            if source not in d:\n",
        "                d[source] = []\n",
        "            if destination not in d:\n",
        "                d[destination] = []\n",
        "            d[source].append(destination)\n",
        "            d[destination].append(source)\n",
        "\n",
        "        def dfs(s, i, chars, indices):\n",
        "            if visited[i]:\n",
        "                return\n",
        "            chars.append(s[i])\n",
        "            indices.append(i)\n",
        "            visited[i] = True\n",
        "            \n",
        "            if i in d:\n",
        "                for neigh in d[i]:\n",
        "                    dfs(s, neigh, chars, indices)\n",
        "\n",
        "        for i in range(len(s)):\n",
        "            if not visited[i]:\n",
        "                chars = []\n",
        "                indices = []\n",
        "\n",
        "                dfs(s, i, chars, indices)\n",
        "                chars = sorted(chars)\n",
        "                indices = sorted(indices)\n",
        "                for c, i in zip(chars, indices):\n",
        "                    s[i] = c\n",
        "\n",
        "        return \"\".join(s)\n",
        "        "
      ]
    },
    {
      "cell_type": "code",
      "source": [
        "s = \"dcab\"\n",
        "pairs = [[0,3],[1,2]]\n",
        "expected = \"bacd\"\n",
        "\n",
        "output = Solution().smallestStringWithSwaps(s, pairs)\n",
        "print(output)\n",
        "\n",
        "assert output == expected"
      ],
      "metadata": {
        "colab": {
          "base_uri": "https://localhost:8080/"
        },
        "id": "H20KoZvFdTbz",
        "outputId": "4d306035-14c1-406d-cbfe-429d93e3e31f"
      },
      "execution_count": 2,
      "outputs": [
        {
          "output_type": "stream",
          "name": "stdout",
          "text": [
            "bacd\n"
          ]
        }
      ]
    },
    {
      "cell_type": "code",
      "source": [
        "s = \"dcab\"\n",
        "pairs = []\n",
        "expected = \"dcab\"\n",
        "\n",
        "output = Solution().smallestStringWithSwaps(s, pairs)\n",
        "print(output)\n",
        "\n",
        "assert output == expected"
      ],
      "metadata": {
        "colab": {
          "base_uri": "https://localhost:8080/"
        },
        "id": "EyFpbwYodg1E",
        "outputId": "63fefe44-603c-46c1-cb34-eb96fa9f5b35"
      },
      "execution_count": 3,
      "outputs": [
        {
          "output_type": "stream",
          "name": "stdout",
          "text": [
            "dcab\n"
          ]
        }
      ]
    }
  ]
}