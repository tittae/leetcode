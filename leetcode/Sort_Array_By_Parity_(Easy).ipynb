{
  "nbformat": 4,
  "nbformat_minor": 0,
  "metadata": {
    "colab": {
      "name": "Sort Array By Parity (Easy).ipynb",
      "provenance": [],
      "authorship_tag": "ABX9TyN0Sp6IlRNm6Jkc6btWfYyw",
      "include_colab_link": true
    },
    "kernelspec": {
      "name": "python3",
      "display_name": "Python 3"
    },
    "language_info": {
      "name": "python"
    }
  },
  "cells": [
    {
      "cell_type": "markdown",
      "metadata": {
        "id": "view-in-github",
        "colab_type": "text"
      },
      "source": [
        "<a href=\"https://colab.research.google.com/github/wisarootl/leetcode/blob/main/Sort_Array_By_Parity_(Easy).ipynb\" target=\"_parent\"><img src=\"https://colab.research.google.com/assets/colab-badge.svg\" alt=\"Open In Colab\"/></a>"
      ]
    },
    {
      "cell_type": "markdown",
      "source": [
        "# Sort Array By Parity"
      ],
      "metadata": {
        "id": "6ipi84yCHOMJ"
      }
    },
    {
      "cell_type": "markdown",
      "source": [
        "Given an integer array nums, move all the even integers at the beginning of the array followed by all the odd integers.\n",
        "\n",
        "Return any array that satisfies this condition."
      ],
      "metadata": {
        "id": "P8aJU9YYIPab"
      }
    },
    {
      "cell_type": "markdown",
      "source": [
        "Example 1:\n",
        "\n",
        "```\n",
        "Input: nums = [3,1,2,4]\n",
        "Output: [2,4,3,1]\n",
        "Explanation: The outputs [4,2,3,1], [2,4,1,3], and [4,2,1,3] would also be accepted.\n",
        "```\n",
        "\n"
      ],
      "metadata": {
        "id": "Asze7-2eIQMV"
      }
    },
    {
      "cell_type": "markdown",
      "source": [
        "Example 2:\n",
        "\n",
        "```\n",
        "Input: nums = [0]\n",
        "Output: [0]\n",
        "```\n",
        "\n"
      ],
      "metadata": {
        "id": "70D19gYXISgl"
      }
    },
    {
      "cell_type": "markdown",
      "source": [
        "Constraints:\n",
        "\n",
        "```\n",
        "1 <= nums.length <= 5000\n",
        "0 <= nums[i] <= 5000\n",
        "```\n",
        "\n"
      ],
      "metadata": {
        "id": "Q6h7_VpnIWmQ"
      }
    },
    {
      "cell_type": "code",
      "execution_count": 1,
      "metadata": {
        "id": "4Gl0FZjpHLh-"
      },
      "outputs": [],
      "source": [
        "class Solution:\n",
        "    # time = O(N)\n",
        "    # space = O(1)\n",
        "    def sortArrayByParity(self, nums):\n",
        "        i, j = 0, len(nums) - 1\n",
        "        while i < j:\n",
        "            if nums[i] % 2 == 1 and nums[j] % 2 == 0:\n",
        "                nums[i], nums[j] = nums[j], nums[i]\n",
        "\n",
        "            if nums[i] % 2 == 0: i += 1\n",
        "            if nums[j] % 2 == 1: j -= 1\n",
        "\n",
        "        return nums"
      ]
    },
    {
      "cell_type": "code",
      "source": [
        "nums = [3,1,2,4]\n",
        "expected = [4, 2, 1, 3]\n",
        "\n",
        "output = Solution().sortArrayByParity(nums)\n",
        "print(output)\n",
        "assert output == expected"
      ],
      "metadata": {
        "colab": {
          "base_uri": "https://localhost:8080/"
        },
        "id": "H6yB4WWBHRsG",
        "outputId": "8fd39326-cfa8-4096-fd6d-bd37dd39c16e"
      },
      "execution_count": 5,
      "outputs": [
        {
          "output_type": "stream",
          "name": "stdout",
          "text": [
            "[4, 2, 1, 3]\n"
          ]
        }
      ]
    }
  ]
}