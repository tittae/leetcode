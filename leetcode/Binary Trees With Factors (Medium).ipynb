{
 "cells": [
  {
   "cell_type": "markdown",
   "metadata": {},
   "source": [
    "# Binary Trees With Factors"
   ]
  },
  {
   "cell_type": "markdown",
   "metadata": {},
   "source": [
    "Given an array of unique integers, `arr`, where each integer `arr[i]` is strictly greater than 1.\n",
    "\n",
    "We make a binary tree using these integers, and each number may be used for any number of times. Each non-leaf node's value should be equal to the product of the values of its children.\n",
    "\n",
    "Return the number of binary trees we can make. The answer may be too large so return the answer modulo `10^9 + 7`."
   ]
  },
  {
   "cell_type": "markdown",
   "metadata": {},
   "source": [
    "Example 1:\n",
    "\n",
    "```\n",
    "Input: arr = [2,4]\n",
    "Output: 3\n",
    "Explanation: We can make these trees: [2], [4], [4, 2, 2]\n",
    "```"
   ]
  },
  {
   "cell_type": "markdown",
   "metadata": {},
   "source": [
    "Example 2:\n",
    "\n",
    "```\n",
    "Input: arr = [2,4,5,10]\n",
    "Output: 7\n",
    "Explanation: We can make these trees: [2], [4], [5], [10], [4, 2, 2], [10, 2, 5], [10, 5, 2].\n",
    "```"
   ]
  },
  {
   "cell_type": "code",
   "execution_count": 1,
   "metadata": {},
   "outputs": [],
   "source": [
    "from typing import *\n",
    "\n",
    "class Solution:\n",
    "    # time = O(N^2)\n",
    "    # space = O(N)\n",
    "    def numFactoredBinaryTrees(self, arr: List[int]) -> int:\n",
    "        MOD = 10 ** 9 + 7\n",
    "        N = len(arr)\n",
    "        arr.sort()\n",
    "        dp = [1] * N\n",
    "        index = {x: i for i, x in enumerate(arr)}\n",
    "        for i, x in enumerate(arr):\n",
    "            for j in range(i):\n",
    "                if x % arr[j] == 0: #arr[j] will be left child\n",
    "                    right = x / arr[j]\n",
    "                    if right in index:\n",
    "                        dp[i] += dp[j] * dp[index[right]]\n",
    "                        dp[i] %= MOD\n",
    "\n",
    "        return sum(dp) % MOD"
   ]
  },
  {
   "cell_type": "code",
   "execution_count": 2,
   "metadata": {},
   "outputs": [
    {
     "name": "stdout",
     "output_type": "stream",
     "text": [
      "3\n"
     ]
    }
   ],
   "source": [
    "arr = [2,4]\n",
    "expected = 3\n",
    "\n",
    "output = Solution().numFactoredBinaryTrees(arr)\n",
    "print(output)\n",
    "assert output == expected"
   ]
  },
  {
   "cell_type": "code",
   "execution_count": 3,
   "metadata": {},
   "outputs": [
    {
     "name": "stdout",
     "output_type": "stream",
     "text": [
      "7\n"
     ]
    }
   ],
   "source": [
    "arr = [2,4,5,10]\n",
    "expected = 7\n",
    "\n",
    "output = Solution().numFactoredBinaryTrees(arr)\n",
    "print(output)\n",
    "assert output == expected"
   ]
  }
 ],
 "metadata": {
  "kernelspec": {
   "display_name": "Python 3.10.5 64-bit ('3.10.5')",
   "language": "python",
   "name": "python3"
  },
  "language_info": {
   "codemirror_mode": {
    "name": "ipython",
    "version": 3
   },
   "file_extension": ".py",
   "mimetype": "text/x-python",
   "name": "python",
   "nbconvert_exporter": "python",
   "pygments_lexer": "ipython3",
   "version": "3.10.5"
  },
  "orig_nbformat": 4,
  "vscode": {
   "interpreter": {
    "hash": "992441bd4bc11ab83c63537935ea198062f55180155eaba570b8d7c82e005e8c"
   }
  }
 },
 "nbformat": 4,
 "nbformat_minor": 2
}
