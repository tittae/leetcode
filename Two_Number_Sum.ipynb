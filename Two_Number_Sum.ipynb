{
  "nbformat": 4,
  "nbformat_minor": 0,
  "metadata": {
    "colab": {
      "name": "Two Number Sum.ipynb",
      "provenance": [],
      "authorship_tag": "ABX9TyMQrp4HJuKy2PUdYzHisBr6",
      "include_colab_link": true
    },
    "kernelspec": {
      "name": "python3",
      "display_name": "Python 3"
    },
    "language_info": {
      "name": "python"
    }
  },
  "cells": [
    {
      "cell_type": "markdown",
      "metadata": {
        "id": "view-in-github",
        "colab_type": "text"
      },
      "source": [
        "<a href=\"https://colab.research.google.com/github/tittae/leetcode/blob/main/Two_Number_Sum.ipynb\" target=\"_parent\"><img src=\"https://colab.research.google.com/assets/colab-badge.svg\" alt=\"Open In Colab\"/></a>"
      ]
    },
    {
      "cell_type": "markdown",
      "metadata": {
        "id": "T6MxN7mz0IyY"
      },
      "source": [
        "# Two Number Sum"
      ]
    },
    {
      "cell_type": "markdown",
      "metadata": {
        "id": "YdlAWWuh0kY1"
      },
      "source": [
        "Write a function that takes in a non-empty array of distinct integers and an integer representing a target sum. If any two numbers in the input array sum up to the target sum, the function should return them in an array, in any order. If no two numbers sum up to the target sum, the function should return an empty array.\n",
        "\n",
        "Note that the target sum has to be obtained by summing two different integers in the array; you can't add a single integer to itself in order to obtain the target sum.\n",
        "\n",
        "You can assume that there will be at most one pair of numbers summing up to the target sum.\n",
        "\n",
        "\n",
        "\n",
        "Sample Input\n",
        "\n",
        "```\n",
        "array = [3, 5, -4, 8, 11, 1, -1, 6]\n",
        "targetSum = 10\n",
        "```\n",
        "\n",
        "Sample output\n",
        "\n",
        "\n",
        "\n",
        "```\n",
        "[-1, 11] // the numbers could be in reverse order\n",
        "```"
      ]
    },
    {
      "cell_type": "code",
      "metadata": {
        "id": "B6N6zbi2a2oQ"
      },
      "source": [
        "# array = [3, 5, -4, 8, 11, 1, -1, 6]\n",
        "array = [3, 5, -4, 8, 11, 1, 5, 6]\n",
        "# array = [3, 5, -4, 8, 11, 1, 6]\n",
        "targetSum = 10"
      ],
      "execution_count": null,
      "outputs": []
    },
    {
      "cell_type": "code",
      "metadata": {
        "id": "bDSWBqfthoSp"
      },
      "source": [
        "# double for loop\n",
        "# O(n^2) time and O(1) space\n",
        "def twoNumberSum(array, targetSum):\n",
        "\tfor i in range(len(array) - 1):\n",
        "\t\tfirstNum = array[i]\n",
        "\t\tfor j in range(i + 1, len(array)):\n",
        "\t\t\tsecondNum = array[j]\n",
        "\t\t\tif firstNum + secondNum == targetSum:\n",
        "\t\t\t\treturn [firstNum, secondNum]\n",
        "\treturn []"
      ],
      "execution_count": null,
      "outputs": []
    },
    {
      "cell_type": "code",
      "metadata": {
        "colab": {
          "base_uri": "https://localhost:8080/"
        },
        "id": "2R31fxQrlPxQ",
        "outputId": "60575900-dbc5-49a0-acac-a38c0a0411dd"
      },
      "source": [
        "print(twoNumberSum(array, targetSum))"
      ],
      "execution_count": null,
      "outputs": [
        {
          "output_type": "stream",
          "name": "stdout",
          "text": [
            "[5, 5]\n"
          ]
        }
      ]
    },
    {
      "cell_type": "code",
      "metadata": {
        "id": "BSbV3OmqlWXG"
      },
      "source": [
        "# hash table\n",
        "# O(n) time and O(n) space\n",
        "def twoNumberSum(array, targetSum):\n",
        "\tnums_dict = {}\n",
        "\tfor num in array:\n",
        "\t\ttargetNum = targetSum - num\n",
        "\t\tif targetNum in nums_dict:\n",
        "\t\t\treturn [num, targetNum]\n",
        "\t\telse:\n",
        "\t\t\tnums_dict[num] = True\n",
        "\treturn []"
      ],
      "execution_count": null,
      "outputs": []
    },
    {
      "cell_type": "code",
      "metadata": {
        "colab": {
          "base_uri": "https://localhost:8080/"
        },
        "id": "eQuGlWiSlXWr",
        "outputId": "428cbe3d-303c-4c1f-df84-76f78a1e229b"
      },
      "source": [
        "print(twoNumberSum(array, targetSum))"
      ],
      "execution_count": null,
      "outputs": [
        {
          "output_type": "stream",
          "name": "stdout",
          "text": [
            "[5, 5]\n"
          ]
        }
      ]
    },
    {
      "cell_type": "code",
      "metadata": {
        "id": "BLI1E48pqdBz"
      },
      "source": [
        "# binary search\n",
        "# O(n log(n)) time and O(1) space\n",
        "def twoNumberSum(array, targetSum):\n",
        "\tarray.sort()\n",
        "\tfor i in range(len(array)):\n",
        "\t\tleft = i + 1\n",
        "\t\tright = len(array) - 1\n",
        "\t\tfirstNum = array[i]\n",
        "\t\ttargetNum = targetSum - firstNum\n",
        "\t\twhile left <= right:\n",
        "\t\t\tmiddle = int((left + right) / 2)\n",
        "\t\t\tif array[middle] > targetNum:\n",
        "\t\t\t\tright = middle - 1\n",
        "\t\t\telif array[middle] < targetNum:\n",
        "\t\t\t\tleft = middle + 1\n",
        "\t\t\telse: # array[middle] == targetNum\n",
        "\t\t\t\treturn [firstNum, targetNum]\n",
        "\treturn []"
      ],
      "execution_count": null,
      "outputs": []
    },
    {
      "cell_type": "code",
      "metadata": {
        "colab": {
          "base_uri": "https://localhost:8080/"
        },
        "id": "MpBiRKdqsJFZ",
        "outputId": "93e1fd70-0410-4bdb-cb02-eeb7f6dd3a95"
      },
      "source": [
        "print(twoNumberSum(array, targetSum))"
      ],
      "execution_count": null,
      "outputs": [
        {
          "output_type": "stream",
          "name": "stdout",
          "text": [
            "[5, 5]\n"
          ]
        }
      ]
    },
    {
      "cell_type": "code",
      "metadata": {
        "id": "EX9CahHesy5w"
      },
      "source": [
        "# two pointer\n",
        "# O(n log(n)) time and O(1) space\n",
        "def twoNumberSum(array, targetSum):\n",
        "\t# optimal sort algorithm e.g., quick sort, merge sort which is O(n log(n)) time and O(1) space\n",
        "\tarray.sort()\n",
        "\t\n",
        "\t# two pointer O(n) time and O(1) space\n",
        "\tleft = 0\n",
        "\tright = len(array) - 1\n",
        "\twhile left < right:\n",
        "\t\tcurrentSum = array[left] + array[right]\n",
        "\t\tif currentSum == targetSum:\n",
        "\t\t\treturn [array[left], array[right]]\n",
        "\t\telif currentSum > targetSum:\n",
        "\t\t\tright -= 1\n",
        "\t\telse: # currentSum < targetSum:\n",
        "\t\t\tleft += 1\n",
        "\t\n",
        "\treturn []"
      ],
      "execution_count": null,
      "outputs": []
    },
    {
      "cell_type": "code",
      "metadata": {
        "colab": {
          "base_uri": "https://localhost:8080/"
        },
        "id": "9NIfZsflvgWP",
        "outputId": "3372ec10-e475-4159-a618-0fb0a6536f81"
      },
      "source": [
        "print(twoNumberSum(array, targetSum))"
      ],
      "execution_count": null,
      "outputs": [
        {
          "output_type": "stream",
          "name": "stdout",
          "text": [
            "[5, 5]\n"
          ]
        }
      ]
    }
  ]
}