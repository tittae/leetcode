{
  "cells": [
    {
      "cell_type": "markdown",
      "metadata": {
        "colab_type": "text",
        "id": "view-in-github"
      },
      "source": [
        "<a href=\"https://colab.research.google.com/github/wisarootl/leetcode/blob/main/Minimum_Bit_Flips_to_Convert_Number_(Easy).ipynb\" target=\"_parent\"><img src=\"https://colab.research.google.com/assets/colab-badge.svg\" alt=\"Open In Colab\"/></a>"
      ]
    },
    {
      "cell_type": "markdown",
      "metadata": {
        "id": "MWyU4o4EKGlD"
      },
      "source": [
        "# Minimum Bit Flips to Convert Number"
      ]
    },
    {
      "cell_type": "markdown",
      "metadata": {
        "id": "V4gUscKEKI1V"
      },
      "source": [
        "A bit flip of a number x is choosing a bit in the binary representation of x and flipping it from either 0 to 1 or 1 to 0.\n",
        "\n",
        "- For example, for x = 7, the binary representation is 111 and we may choose any bit (including any leading zeros not shown) and flip it. We can flip the first bit from the right to get 110, flip the second bit from the right to get 101, flip the fifth bit from the right (a leading zero) to get 10111, etc.\n",
        "\n",
        "Given two integers start and goal, return the minimum number of bit flips to convert start to goal."
      ]
    },
    {
      "cell_type": "markdown",
      "metadata": {
        "id": "ZYhh9v_XKLe6"
      },
      "source": [
        "Example 1:\n",
        "\n",
        "```\n",
        "Input: start = 10, goal = 7\n",
        "Output: 3\n",
        "Explanation: The binary representation of 10 and 7 are 1010 and 0111 respectively. We can convert 10 to 7 in 3 steps:\n",
        "- Flip the first bit from the right: 1010 -> 1011.\n",
        "- Flip the third bit from the right: 1011 -> 1111.\n",
        "- Flip the fourth bit from the right: 1111 -> 0111.\n",
        "It can be shown we cannot convert 10 to 7 in less than 3 steps. Hence, we return 3.\n",
        "```\n",
        "\n"
      ]
    },
    {
      "cell_type": "markdown",
      "metadata": {
        "id": "gFFWt0ilKOdN"
      },
      "source": [
        "Example 2:\n",
        "\n",
        "```\n",
        "Input: start = 3, goal = 4\n",
        "Output: 3\n",
        "Explanation: The binary representation of 3 and 4 are 011 and 100 respectively. We can convert 3 to 4 in 3 steps:\n",
        "- Flip the first bit from the right: 011 -> 010.\n",
        "- Flip the second bit from the right: 010 -> 000.\n",
        "- Flip the third bit from the right: 000 -> 100.\n",
        "It can be shown we cannot convert 3 to 4 in less than 3 steps. Hence, we return 3.\n",
        "```\n",
        "\n"
      ]
    },
    {
      "cell_type": "markdown",
      "metadata": {
        "id": "9bznkVuEKQ1q"
      },
      "source": [
        "Constraints:\n",
        "\n",
        "```\n",
        "0 <= start, goal <= 109\n",
        "```\n",
        "\n"
      ]
    },
    {
      "cell_type": "markdown",
      "metadata": {
        "id": "I6d5BI_DJIlq"
      },
      "source": [
        "# Solution"
      ]
    },
    {
      "cell_type": "markdown",
      "metadata": {
        "id": "EJdUywJ8JKb9"
      },
      "source": [
        "- Apply XOR (Exclusive OR) operation (a ^ b in python = bitwise XOR)\n",
        "- XOR = not XNOR (if and only if, <-->)"
      ]
    },
    {
      "cell_type": "code",
      "execution_count": 1,
      "metadata": {
        "id": "YpJjujaoFm3F"
      },
      "outputs": [],
      "source": [
        "# Time = O(max(N, M))\n",
        "# Space = O(max(N, M))\n",
        "\n",
        "# N = binary length of start\n",
        "# M = binary length of goal\n",
        "\n",
        "class Solution:\n",
        "    def minBitFlips(self, start: int, goal: int) -> int:\n",
        "        return bin(start ^ goal).count('1')"
      ]
    },
    {
      "cell_type": "code",
      "execution_count": 2,
      "metadata": {
        "colab": {
          "base_uri": "https://localhost:8080/"
        },
        "id": "YCg9bQZjFwGj",
        "outputId": "d40a6811-df19-4957-b595-1274cf3a6e06"
      },
      "outputs": [
        {
          "name": "stdout",
          "output_type": "stream",
          "text": [
            "3\n"
          ]
        }
      ],
      "source": [
        "start = 10\n",
        "goal = 7\n",
        "expected = 3\n",
        "\n",
        "output = Solution().minBitFlips(start, goal)\n",
        "print(output)\n",
        "assert output == expected"
      ]
    },
    {
      "cell_type": "code",
      "execution_count": 3,
      "metadata": {
        "colab": {
          "base_uri": "https://localhost:8080/"
        },
        "id": "Vj77Dh0FJCRP",
        "outputId": "a6f0b2ef-8b0f-4e35-b597-9f9934fd9e36"
      },
      "outputs": [
        {
          "name": "stdout",
          "output_type": "stream",
          "text": [
            "3\n"
          ]
        }
      ],
      "source": [
        "start = 3\n",
        "goal = 4\n",
        "expected = 3\n",
        "\n",
        "output = Solution().minBitFlips(start, goal)\n",
        "print(output)\n",
        "assert output == expected"
      ]
    }
  ],
  "metadata": {
    "colab": {
      "authorship_tag": "ABX9TyMs+NM+mTZmN1gplqfvBMVI",
      "include_colab_link": true,
      "name": "Minimum Bit Flips to Convert Number (Easy).ipynb",
      "provenance": []
    },
    "kernelspec": {
      "display_name": "Python 3.10.8 64-bit (microsoft store)",
      "language": "python",
      "name": "python3"
    },
    "language_info": {
      "codemirror_mode": {
        "name": "ipython",
        "version": 3
      },
      "file_extension": ".py",
      "mimetype": "text/x-python",
      "name": "python",
      "nbconvert_exporter": "python",
      "pygments_lexer": "ipython3",
      "version": "3.10.8"
    },
    "vscode": {
      "interpreter": {
        "hash": "3822405be9f5fb329f7270cbdcf73e762c62b3f383c5e71390a1a4648678c1cb"
      }
    }
  },
  "nbformat": 4,
  "nbformat_minor": 0
}
