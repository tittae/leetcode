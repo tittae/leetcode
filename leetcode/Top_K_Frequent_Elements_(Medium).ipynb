{
  "nbformat": 4,
  "nbformat_minor": 0,
  "metadata": {
    "colab": {
      "name": "Top K Frequent Elements (Medium).ipynb",
      "provenance": [],
      "authorship_tag": "ABX9TyORiFTCz7+mHX7Qr8bfPwlz",
      "include_colab_link": true
    },
    "kernelspec": {
      "name": "python3",
      "display_name": "Python 3"
    },
    "language_info": {
      "name": "python"
    }
  },
  "cells": [
    {
      "cell_type": "markdown",
      "metadata": {
        "id": "view-in-github",
        "colab_type": "text"
      },
      "source": [
        "<a href=\"https://colab.research.google.com/github/wisarootl/leetcode/blob/main/Top_K_Frequent_Elements_(Medium).ipynb\" target=\"_parent\"><img src=\"https://colab.research.google.com/assets/colab-badge.svg\" alt=\"Open In Colab\"/></a>"
      ]
    },
    {
      "cell_type": "markdown",
      "source": [
        "# Top K Frequent Elements"
      ],
      "metadata": {
        "id": "xdLowe0-D1mQ"
      }
    },
    {
      "cell_type": "markdown",
      "source": [
        "Given an integer array nums and an integer k, return the k most frequent elements. You may return the answer in any order.\n",
        "\n",
        " \n",
        "\n",
        "Example 1:\n",
        "\n",
        "```\n",
        "Input: nums = [1,1,1,2,2,3], k = 2\n",
        "Output: [1,2]\n",
        "```\n",
        "\n",
        "\n",
        "Example 2:\n",
        "\n",
        "```\n",
        "Input: nums = [1], k = 1\n",
        "Output: [1]\n",
        "```\n",
        "\n",
        "Constraints:\n",
        "```\n",
        "1 <= nums.length <= 105\n",
        "k is in the range [1, the number of unique elements in the array].\n",
        "It is guaranteed that the answer is unique.\n",
        "```\n",
        "\n",
        "Follow up: Your algorithm's time complexity must be better than O(n log n), where n is the array's size."
      ],
      "metadata": {
        "id": "zIZMfqEjD2h-"
      }
    },
    {
      "cell_type": "code",
      "execution_count": 1,
      "metadata": {
        "id": "ZdB4yq7zDgf7"
      },
      "outputs": [],
      "source": [
        "from collections import Counter\n",
        "\n",
        "# Time O(N log K)\n",
        "# Space O(N + k)\n",
        "\n",
        "# N= len(nums)\n",
        "\n",
        "import heapq\n",
        "\n",
        "class Solution:\n",
        "    def topKFrequent(self, nums, k):\n",
        "        count = Counter(nums)\n",
        "        heap = []\n",
        "\n",
        "        for value, count in count.items():\n",
        "            heapq.heappush(heap, [count, value])\n",
        "            if len(heap) > k:\n",
        "                heapq.heappop(heap)\n",
        "\n",
        "        ans = []\n",
        "        for _ in range(k):\n",
        "            ans.append(heapq.heappop(heap)[1])\n",
        "        \n",
        "        return list(reversed(ans))"
      ]
    },
    {
      "cell_type": "code",
      "source": [
        "nums = [1,1,1,2,2,3]\n",
        "k = 2\n",
        "expected = [1,2]\n",
        "\n",
        "output = Solution().topKFrequent(nums, k)\n",
        "print(output)\n",
        "assert output == expected"
      ],
      "metadata": {
        "colab": {
          "base_uri": "https://localhost:8080/"
        },
        "id": "vK-0RR8AEO5A",
        "outputId": "2f21829b-40ec-4cb0-8548-4c575d474e3a"
      },
      "execution_count": 2,
      "outputs": [
        {
          "output_type": "stream",
          "name": "stdout",
          "text": [
            "[1, 2]\n"
          ]
        }
      ]
    },
    {
      "cell_type": "code",
      "source": [
        "nums = [1]\n",
        "k = 1\n",
        "expected = [1]\n",
        "\n",
        "output = Solution().topKFrequent(nums, k)\n",
        "print(output)\n",
        "assert output == expected"
      ],
      "metadata": {
        "colab": {
          "base_uri": "https://localhost:8080/"
        },
        "id": "pr5QQinQEuiA",
        "outputId": "fc4a2fc2-5d05-476d-e564-d9cc52586594"
      },
      "execution_count": 3,
      "outputs": [
        {
          "output_type": "stream",
          "name": "stdout",
          "text": [
            "[1]\n"
          ]
        }
      ]
    }
  ]
}