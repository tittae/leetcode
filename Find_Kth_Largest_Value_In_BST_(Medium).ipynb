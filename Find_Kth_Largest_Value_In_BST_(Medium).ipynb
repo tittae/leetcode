{
  "nbformat": 4,
  "nbformat_minor": 0,
  "metadata": {
    "colab": {
      "name": "Find Kth Largest Value In BST (Medium).ipynb",
      "provenance": [],
      "collapsed_sections": [],
      "authorship_tag": "ABX9TyPcOYPgjOdX16Zv47FJxc5Y",
      "include_colab_link": true
    },
    "kernelspec": {
      "name": "python3",
      "display_name": "Python 3"
    },
    "language_info": {
      "name": "python"
    }
  },
  "cells": [
    {
      "cell_type": "markdown",
      "metadata": {
        "id": "view-in-github",
        "colab_type": "text"
      },
      "source": [
        "<a href=\"https://colab.research.google.com/github/wisarootl/leetcode/blob/main/Find_Kth_Largest_Value_In_BST_(Medium).ipynb\" target=\"_parent\"><img src=\"https://colab.research.google.com/assets/colab-badge.svg\" alt=\"Open In Colab\"/></a>"
      ]
    },
    {
      "cell_type": "code",
      "execution_count": null,
      "metadata": {
        "id": "z2z806StjPXy"
      },
      "outputs": [],
      "source": [
        "# This is an input class. Do not edit.\n",
        "class BST:\n",
        "\tdef __init__(self, value, left=None, right=None):\n",
        "\t\tself.value = value\n",
        "\t\tself.left = left\n",
        "\t\tself.right = right\n",
        "\n",
        "# Time O(n)\n",
        "# Space O(n)\n",
        "def findKthLargestValueInBst(tree, k):\n",
        "\ttraversal_order = []\n",
        "\treversed_inorder_traversal(tree, traversal_order)\n",
        "\treturn traversal_order[-k]\n",
        "\n",
        "def reversed_inorder_traversal(tree, traversal_order):\n",
        "\tif tree == None:\n",
        "\t\treturn\n",
        "\treversed_inorder_traversal(tree.left, traversal_order)\n",
        "\ttraversal_order.append(tree.value)\n",
        "\treversed_inorder_traversal(tree.right, traversal_order)"
      ]
    },
    {
      "cell_type": "code",
      "source": [
        "# This is an input class. Do not edit.\n",
        "class BST:\n",
        "  def __init__(self, value, left=None, right=None):\n",
        "    self.value = value\n",
        "    self.left = left\n",
        "    self.right = right\n",
        "\n",
        "# Time O(max(h, k))\n",
        "# Space O(h)\n",
        "def findKthLargestValueInBst(tree, k):\n",
        "  visited_count = 0\n",
        "  k_largest_value = None\n",
        "  k_largest_value, visited_count = reversed_inorder_traversal(tree, visited_count, k, k_largest_value)\n",
        "  return k_largest_value\n",
        "\n",
        "def reversed_inorder_traversal(tree, visited_count, k, k_largest_value):\n",
        "  if tree == None:\n",
        "    return k_largest_value, visited_count\n",
        "  k_largest_value, n = reversed_inorder_traversal(tree.right, visited_count, k, k_largest_value)\n",
        "  visited_count += 1\n",
        "  if visited_count == k:\n",
        "    k_largest_value = tree.value\n",
        "    return k_largest_value, visited_count\n",
        "  k_largest_value, n = reversed_inorder_traversal(tree.left, n, k, k_largest_value)\n",
        "  return k_largest_value, visited_count"
      ],
      "metadata": {
        "id": "-dtJ7bMEkZ3d"
      },
      "execution_count": 41,
      "outputs": []
    },
    {
      "cell_type": "code",
      "source": [
        "tree = BST(15)\n",
        "tree.left = BST(5)\n",
        "tree.right = BST(20)\n",
        "tree.left.left = BST(2)\n",
        "tree.left.right = BST(5)\n",
        "tree.right.left = BST(17)\n",
        "tree.right.right = BST(22)\n",
        "tree.left.left.left = BST(1)\n",
        "tree.left.left.right = BST(3)"
      ],
      "metadata": {
        "id": "gSgRF-fCkclf"
      },
      "execution_count": 42,
      "outputs": []
    },
    {
      "cell_type": "code",
      "source": [
        "print(findKthLargestValueInBst(tree, 3))"
      ],
      "metadata": {
        "colab": {
          "base_uri": "https://localhost:8080/"
        },
        "id": "LIecjaT8k4Fi",
        "outputId": "325169a9-fd7c-4aa3-803b-2f55c82560e3"
      },
      "execution_count": 43,
      "outputs": [
        {
          "output_type": "stream",
          "name": "stdout",
          "text": [
            "2\n"
          ]
        }
      ]
    }
  ]
}