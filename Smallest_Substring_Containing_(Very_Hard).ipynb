{
  "nbformat": 4,
  "nbformat_minor": 0,
  "metadata": {
    "colab": {
      "name": "Smallest Substring Containing (Very Hard).ipynb",
      "provenance": [],
      "collapsed_sections": [],
      "authorship_tag": "ABX9TyPXeEAcjsBt1fzLuMYEy8X2",
      "include_colab_link": true
    },
    "kernelspec": {
      "name": "python3",
      "display_name": "Python 3"
    },
    "language_info": {
      "name": "python"
    }
  },
  "cells": [
    {
      "cell_type": "markdown",
      "metadata": {
        "id": "view-in-github",
        "colab_type": "text"
      },
      "source": [
        "<a href=\"https://colab.research.google.com/github/wisarootl/leetcode/blob/main/Smallest_Substring_Containing_(Very_Hard).ipynb\" target=\"_parent\"><img src=\"https://colab.research.google.com/assets/colab-badge.svg\" alt=\"Open In Colab\"/></a>"
      ]
    },
    {
      "cell_type": "markdown",
      "source": [
        "# Smallest Substring Containing"
      ],
      "metadata": {
        "id": "zClknmMS_Np1"
      }
    },
    {
      "cell_type": "markdown",
      "source": [
        "You're given two non-empty strings: a big string and a small string. Write a function that returns the smallest substring in the big string that contains all of the small string's characters.\n",
        "\n",
        "Note that:\n",
        "\n",
        "- The substring can contain other characters not found in the small string.\n",
        "- The characters in the substring don't have to be in the same order as they appear in the small string.\n",
        "- If the small string has duplicate characters, the substring has to contain those duplicate characters (it can also contain more, but not fewer).\n",
        "\n",
        "You can assume that there will only be one relevant smallest substring."
      ],
      "metadata": {
        "id": "hwCn4rzQ_Q1-"
      }
    },
    {
      "cell_type": "markdown",
      "source": [
        "Sample Input\n",
        "\n",
        "```\n",
        "bigString = \"abcd$ef$axb$c$\"\n",
        "smallString = \"$$abf\"\n",
        "```\n",
        "\n"
      ],
      "metadata": {
        "id": "p0IuUsKw_YBB"
      }
    },
    {
      "cell_type": "markdown",
      "source": [
        "Sample Output\n",
        "\n",
        "```\n",
        "\"f$axb$\"\n",
        "```\n",
        "\n"
      ],
      "metadata": {
        "id": "wSLeTBg__ZsD"
      }
    },
    {
      "cell_type": "markdown",
      "source": [
        "# Solution 1"
      ],
      "metadata": {
        "id": "KpPGyUWh_L5h"
      }
    },
    {
      "cell_type": "code",
      "source": [
        "# Time O(B + S) ===> However, becasue B > S. \n",
        "# So, ===> Time O(B) <====\n",
        "# O(S) : for the first small string couter\n",
        "# O(B) : for the loop right_idx and left_idx\n",
        "\n",
        "# Space O(min(B, S) + S) ===> However, becasue B > S. ===> So, O(S)\n",
        "# O(S) : store char count of small string (small_string_count)\n",
        "# O(min(B, S)) : store char count of big string (substring_count). \n",
        "#                It shoud be min(B, S) becasue it will store only char that in both small string and big string\n",
        "#                Thus, becasue B > S.\n",
        "# So, ===> Time O(S) <====\n",
        "\n",
        "# B = no of element in big_string\n",
        "# S = no of element in small_string\n",
        "\n",
        "def smallestSubstringContaining(bigString, smallString):\n",
        "  small_string_count = count_character(smallString)\n",
        "  total_unique_char = len(small_string_count)\n",
        "  completed_unique_char = 0\n",
        "  lenght_of_smallest_substring = float('inf')\n",
        "  left_idx_of_smallest_substring = None\n",
        "  right_idx_of_smallest_substring = None\n",
        "  right_idx = 0\n",
        "  left_idx = 0\n",
        "  big_string_count = {}\n",
        "  right_move = True\n",
        "  while right_idx < len(bigString):\n",
        "    if right_move:\n",
        "      current_char = bigString[right_idx]\n",
        "      if current_char in small_string_count:\n",
        "        increase_char_count(current_char, big_string_count)\n",
        "\n",
        "        if big_string_count[current_char] == small_string_count[current_char]:\n",
        "          completed_unique_char += 1\n",
        "    else:\n",
        "      current_char = bigString[left_idx - 1]\n",
        "      if current_char in big_string_count:\n",
        "        decrease_char_count(current_char, big_string_count)\n",
        "        if big_string_count[current_char] == small_string_count[current_char] - 1:\n",
        "          completed_unique_char -= 1\n",
        "    \n",
        "    if completed_unique_char == total_unique_char:\n",
        "      lenght_of_current_substring = right_idx - left_idx + 1\n",
        "      if lenght_of_current_substring < lenght_of_smallest_substring:\n",
        "        lenght_of_smallest_substring = lenght_of_current_substring\n",
        "        left_idx_of_smallest_substring = left_idx\n",
        "        right_idx_of_smallest_substring = right_idx\n",
        "\n",
        "      right_move = False\n",
        "      left_idx += 1\n",
        "    else:\n",
        "      right_move =True\n",
        "      right_idx += 1\n",
        "\n",
        "  if left_idx_of_smallest_substring == None:\n",
        "    return ''\n",
        "\n",
        "  return bigString[left_idx_of_smallest_substring:right_idx_of_smallest_substring+1]\n",
        "\n",
        "def increase_char_count(char, char_count):\n",
        "  if char not in char_count:\n",
        "    char_count[char] = 0\n",
        "  char_count[char] += 1\n",
        "\n",
        "def decrease_char_count(char, char_count):\n",
        "  char_count[char] -= 1\n",
        "\n",
        "def count_character(string):\n",
        "  counter = {}\n",
        "  for s in string:\n",
        "    if s not in counter:\n",
        "      counter[s] = 0\n",
        "    counter[s] += 1\n",
        "  return counter"
      ],
      "metadata": {
        "id": "RJgf2Q6q2QgX"
      },
      "execution_count": 32,
      "outputs": []
    },
    {
      "cell_type": "markdown",
      "source": [
        "# Solution 2: same algorithm. Just refactoring the code for more readability"
      ],
      "metadata": {
        "id": "fjkvYL5Z_E7b"
      }
    },
    {
      "cell_type": "code",
      "source": [
        "# Time O(B + S) ===> However, becasue B > S. \n",
        "# So, ===> Time O(B) <====\n",
        "# O(S) : for the first small string couter\n",
        "# O(B) : for the loop right_idx and left_idx\n",
        "\n",
        "# Space O(min(B, S) + S) ===> However, becasue B > S. ===> So, O(S)\n",
        "# O(S) : store char count of small string (small_string_count)\n",
        "# O(min(B, S)) : store char count of big string (substring_count). \n",
        "#                It shoud be min(B, S) becasue it will store only char that in both small string and big string\n",
        "#                Thus, becasue B > S.\n",
        "# So, ===> Time O(S) <====\n",
        "\n",
        "# B = no of element in big_string\n",
        "# S = no of element in small_string\n",
        "\n",
        "def smallestSubstringContaining(bigString, smallString):\n",
        "  small_string_count = count_character(smallString)\n",
        "  total_unique_char = len(small_string_count)\n",
        "  completed_unique_char = 0\n",
        "  substring_bound = [0, float('inf')]\n",
        "  right_idx = 0\n",
        "  left_idx = 0\n",
        "  substring_count = {}\n",
        "\n",
        "  while right_idx < len(bigString):\n",
        "    right_char = bigString[right_idx]\n",
        "    if right_char not in small_string_count:\n",
        "      right_idx += 1\n",
        "      continue\n",
        "\n",
        "    increase_char_count(right_char, substring_count)\n",
        "    if substring_count[right_char] == small_string_count[right_char]:\n",
        "      completed_unique_char += 1\n",
        "\n",
        "    # move left_idx if completed_unique_char == total_unique_char\n",
        "    while completed_unique_char == total_unique_char and left_idx <= right_idx:\n",
        "      substring_bound = get_smaller_bound(left_idx, right_idx, substring_bound[0], substring_bound[1])\n",
        "      left_char = bigString[left_idx]\n",
        "      if left_char not in small_string_count:\n",
        "        left_idx += 1\n",
        "        continue\n",
        "      if substring_count[left_char] == small_string_count[left_char]:\n",
        "        completed_unique_char -= 1\n",
        "      decrease_char_count(left_char, substring_count)\n",
        "      left_idx += 1\n",
        "\n",
        "    right_idx += 1\n",
        "\n",
        "  return get_string_from_bound(bigString, substring_bound)\n",
        "\n",
        "def get_string_from_bound(string, bound):\n",
        "  start, end = bound\n",
        "  if end == float('inf'):\n",
        "    return ''\n",
        "  return string[start:end + 1]\n",
        "\n",
        "def get_smaller_bound(left_idx1, right_idx1, left_idx2, right_idx2):\n",
        "  return [left_idx1, right_idx1] if right_idx1 - left_idx1 < right_idx2 - left_idx2 else [left_idx2, right_idx2]\n",
        "\n",
        "def increase_char_count(char, char_count):\n",
        "  if char not in char_count:\n",
        "    char_count[char] = 0\n",
        "  char_count[char] += 1\n",
        "\n",
        "def decrease_char_count(char, char_count):\n",
        "  char_count[char] -= 1\n",
        "\n",
        "def count_character(string):\n",
        "  counter = {}\n",
        "  for s in string:\n",
        "    if s not in counter:\n",
        "      counter[s] = 0\n",
        "    counter[s] += 1\n",
        "  return counter"
      ],
      "metadata": {
        "id": "gz63DmhN3iRQ"
      },
      "execution_count": 40,
      "outputs": []
    },
    {
      "cell_type": "code",
      "source": [
        "bigString = \"abcd$ef$axb$c$\"\n",
        "smallString = \"$$abf\"\n",
        "smallestSubstringContaining(bigString, smallString)"
      ],
      "metadata": {
        "colab": {
          "base_uri": "https://localhost:8080/",
          "height": 35
        },
        "id": "XGcKq3P1zYjI",
        "outputId": "6801bfa1-b66b-43d9-9107-e199fa2de3aa"
      },
      "execution_count": 41,
      "outputs": [
        {
          "output_type": "execute_result",
          "data": {
            "application/vnd.google.colaboratory.intrinsic+json": {
              "type": "string"
            },
            "text/plain": [
              "'f$axb$'"
            ]
          },
          "metadata": {},
          "execution_count": 41
        }
      ]
    },
    {
      "cell_type": "code",
      "source": [
        "bigString = 'aaaa+a$+aaa++$+++++++aaa'\n",
        "smallString = 'a+$aaAaaaa$++'\n",
        "smallestSubstringContaining(bigString, smallString)"
      ],
      "metadata": {
        "colab": {
          "base_uri": "https://localhost:8080/",
          "height": 35
        },
        "id": "oupQ8ZjA0Vfr",
        "outputId": "438eed69-4291-4782-c69a-616f8305b7ae"
      },
      "execution_count": 42,
      "outputs": [
        {
          "output_type": "execute_result",
          "data": {
            "application/vnd.google.colaboratory.intrinsic+json": {
              "type": "string"
            },
            "text/plain": [
              "''"
            ]
          },
          "metadata": {},
          "execution_count": 42
        }
      ]
    },
    {
      "cell_type": "code",
      "source": [
        "bigString = \"$$abfabcd$ef$axb$c$\"\n",
        "smallString = \"$$abf\"\n",
        "smallestSubstringContaining(bigString, smallString)"
      ],
      "metadata": {
        "colab": {
          "base_uri": "https://localhost:8080/",
          "height": 35
        },
        "id": "dBk6jD791MJy",
        "outputId": "afeb1fc6-5eba-4444-81a0-d5a0a7797520"
      },
      "execution_count": 43,
      "outputs": [
        {
          "output_type": "execute_result",
          "data": {
            "application/vnd.google.colaboratory.intrinsic+json": {
              "type": "string"
            },
            "text/plain": [
              "'$$abf'"
            ]
          },
          "metadata": {},
          "execution_count": 43
        }
      ]
    }
  ]
}