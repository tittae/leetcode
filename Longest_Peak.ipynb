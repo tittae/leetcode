{
  "nbformat": 4,
  "nbformat_minor": 0,
  "metadata": {
    "colab": {
      "name": "Longest Peak.ipynb",
      "provenance": [],
      "authorship_tag": "ABX9TyPFc//A9TbxsFeglmz/bstF",
      "include_colab_link": true
    },
    "kernelspec": {
      "name": "python3",
      "display_name": "Python 3"
    },
    "language_info": {
      "name": "python"
    }
  },
  "cells": [
    {
      "cell_type": "markdown",
      "metadata": {
        "id": "view-in-github",
        "colab_type": "text"
      },
      "source": [
        "<a href=\"https://colab.research.google.com/github/tittae/leetcode/blob/main/Longest_Peak.ipynb\" target=\"_parent\"><img src=\"https://colab.research.google.com/assets/colab-badge.svg\" alt=\"Open In Colab\"/></a>"
      ]
    },
    {
      "cell_type": "markdown",
      "metadata": {
        "id": "nXHYOlr_Yfge"
      },
      "source": [
        "# Longest Peak"
      ]
    },
    {
      "cell_type": "markdown",
      "metadata": {
        "id": "9a06FT6gYix9"
      },
      "source": [
        "Write a function that takes in an array of integers and returns the length of the longest peak in the array.\n",
        "\n",
        "A peak is defined as adjacent integers in the array that are strictly increasing until they reach a tip (the highest value in the peak), at which point they become strictly decreasing. At least three integers are required to form a peak.\n",
        "\n",
        "For example, the integers `1, 4, 10, 2` form a peak, but the integers `4, 0, 10` don't and neither do the integers `1, 2, 2, 0`. Similarly, the integers `1, 2, 3` don't form a peak because there aren't any strictly decreasing integers after the `3`."
      ]
    },
    {
      "cell_type": "markdown",
      "metadata": {
        "id": "zKXdsrO-YpHW"
      },
      "source": [
        "Sample Input\n",
        "\n",
        "```\n",
        "array = [1, 2, 3, 3, 4, 0, 10, 6, 5, -1, -3, 2, 3]\n",
        "```\n",
        "\n"
      ]
    },
    {
      "cell_type": "markdown",
      "metadata": {
        "id": "i3gJNLvAYry4"
      },
      "source": [
        "Sample Output\n",
        "\n",
        "```\n",
        "6 // 0, 10, 6, 5, -1, -3\n",
        "```\n",
        "\n"
      ]
    },
    {
      "cell_type": "code",
      "metadata": {
        "id": "yJ4U7K8VYbL8"
      },
      "source": [
        "def longestPeak(array):\n",
        "\tmax_lenght = 0\n",
        "\ti = 1\n",
        "\twhile i <= len(array) - 2:\n",
        "\t\t# is peak?\n",
        "\t\tis_peak = array[i - 1] < array[i] and array[i] > array[i + 1]\n",
        "\t\tif not is_peak:\n",
        "\t\t\ti += 1\n",
        "\t\t\tcontinue\n",
        "\t\t\n",
        "\t\tleft = i - 2\n",
        "\t\twhile left >= 0 and array[left] < array[left + 1]:\n",
        "\t\t\tleft -= 1\n",
        "\n",
        "\t\tright = i + 2\n",
        "\t\twhile right <= len(array) - 1 and array[right - 1] > array[right]:\n",
        "\t\t\tright += 1\n",
        "\n",
        "\t\tlength = right - left - 1\n",
        "\t\tmax_lenght = max(max_lenght, length)\n",
        "\t\ti = right\n",
        "\n",
        "\treturn max_lenght"
      ],
      "execution_count": 1,
      "outputs": []
    },
    {
      "cell_type": "code",
      "metadata": {
        "id": "WORbCCCgjgM6"
      },
      "source": [
        "array = [1, 2, 3, 3, 4, 0, 10, 6, 5, -1, -3, 2, 3]"
      ],
      "execution_count": 2,
      "outputs": []
    },
    {
      "cell_type": "code",
      "metadata": {
        "colab": {
          "base_uri": "https://localhost:8080/"
        },
        "id": "RYf-x3xGjeme",
        "outputId": "67509d21-c310-4d5a-95f5-38d1c38c7d82"
      },
      "source": [
        "print(longestPeak(array))"
      ],
      "execution_count": 3,
      "outputs": [
        {
          "output_type": "stream",
          "name": "stdout",
          "text": [
            "6\n"
          ]
        }
      ]
    }
  ]
}