{
  "nbformat": 4,
  "nbformat_minor": 0,
  "metadata": {
    "colab": {
      "name": "Merge Sorted Arrays (Very Hard).ipynb",
      "provenance": [],
      "authorship_tag": "ABX9TyMtpOpycildj0EwwgrulinS",
      "include_colab_link": true
    },
    "kernelspec": {
      "name": "python3",
      "display_name": "Python 3"
    },
    "language_info": {
      "name": "python"
    }
  },
  "cells": [
    {
      "cell_type": "markdown",
      "metadata": {
        "id": "view-in-github",
        "colab_type": "text"
      },
      "source": [
        "<a href=\"https://colab.research.google.com/github/wisarootl/leetcode/blob/main/Merge_Sorted_Arrays_(Very_Hard).ipynb\" target=\"_parent\"><img src=\"https://colab.research.google.com/assets/colab-badge.svg\" alt=\"Open In Colab\"/></a>"
      ]
    },
    {
      "cell_type": "markdown",
      "source": [
        ""
      ],
      "metadata": {
        "id": "4BtldnpHYkk9"
      }
    },
    {
      "cell_type": "code",
      "source": [
        "# Time = O(nk + n log(n))\n",
        "# Space = O(n)\n",
        "# k = number of array\n",
        "# n = total element in all array\n",
        "def mergeSortedArrays(arrays):\n",
        "\tmerged_array = [value for array in arrays for value in array]\n",
        "\treturn merged_array.sort()"
      ],
      "metadata": {
        "id": "Z33Kx6KkYm2q"
      },
      "execution_count": 16,
      "outputs": []
    },
    {
      "cell_type": "code",
      "execution_count": 17,
      "metadata": {
        "id": "FoNlQT6TYhbR"
      },
      "outputs": [],
      "source": [
        "arrays = [\n",
        "  [1, 5, 9, 21],\n",
        "  [-1, 0],\n",
        "  [-124, 81, 121],\n",
        "  [3, 6, 12, 20, 150],\n",
        "]"
      ]
    },
    {
      "cell_type": "code",
      "source": [
        "mergeSortedArrays(arrays)"
      ],
      "metadata": {
        "id": "MGG2-_o5YrF6"
      },
      "execution_count": 18,
      "outputs": []
    },
    {
      "cell_type": "code",
      "source": [
        "# Time O(nk)\n",
        "# Space = O(n + k) = O(n) since k is always < n\n",
        "# k = number of array\n",
        "# n = total element in all array\n",
        "def mergeSortedArrays(arrays):\n",
        "  pointers = [0 for _ in arrays]\n",
        "  sorted_list = []\n",
        "  while True:\n",
        "    min_value = float('inf')\n",
        "\n",
        "    for array_idx in range(len(arrays)):\n",
        "      if pointers[array_idx] == len(arrays[array_idx]):\n",
        "        continue\n",
        "      min_value_of_array = arrays[array_idx][pointers[array_idx]]\n",
        "      if min_value_of_array < min_value:\n",
        "        min_value = min_value_of_array\n",
        "        array_idx_of_min_value = array_idx\n",
        "\n",
        "    if min_value == float('inf'):\n",
        "      break\n",
        "    sorted_list.append(min_value)\n",
        "    pointers[array_idx_of_min_value] += 1\n",
        "  return sorted_list"
      ],
      "metadata": {
        "id": "GESNSytXhguo"
      },
      "execution_count": 33,
      "outputs": []
    },
    {
      "cell_type": "code",
      "source": [
        "mergeSortedArrays(arrays)"
      ],
      "metadata": {
        "colab": {
          "base_uri": "https://localhost:8080/"
        },
        "id": "hAPCQILqhl6r",
        "outputId": "3eaf0454-6b9a-4737-9208-b6b7e089b223"
      },
      "execution_count": 32,
      "outputs": [
        {
          "output_type": "stream",
          "name": "stdout",
          "text": [
            "[]\n",
            "[0, 0, 0, 0]\n",
            "[-124]\n",
            "[0, 0, 1, 0]\n",
            "[-124, -1]\n",
            "[0, 1, 1, 0]\n",
            "[-124, -1, 0]\n",
            "[0, 2, 1, 0]\n",
            "[-124, -1, 0, 1]\n",
            "[1, 2, 1, 0]\n",
            "[-124, -1, 0, 1, 3]\n",
            "[1, 2, 1, 1]\n",
            "[-124, -1, 0, 1, 3, 5]\n",
            "[2, 2, 1, 1]\n",
            "[-124, -1, 0, 1, 3, 5, 6]\n",
            "[2, 2, 1, 2]\n",
            "[-124, -1, 0, 1, 3, 5, 6, 9]\n",
            "[3, 2, 1, 2]\n",
            "[-124, -1, 0, 1, 3, 5, 6, 9, 12]\n",
            "[3, 2, 1, 3]\n",
            "[-124, -1, 0, 1, 3, 5, 6, 9, 12, 20]\n",
            "[3, 2, 1, 4]\n",
            "[-124, -1, 0, 1, 3, 5, 6, 9, 12, 20, 21]\n",
            "[4, 2, 1, 4]\n",
            "[-124, -1, 0, 1, 3, 5, 6, 9, 12, 20, 21, 81]\n",
            "[4, 2, 2, 4]\n",
            "[-124, -1, 0, 1, 3, 5, 6, 9, 12, 20, 21, 81, 121]\n",
            "[4, 2, 3, 4]\n",
            "[-124, -1, 0, 1, 3, 5, 6, 9, 12, 20, 21, 81, 121, 150]\n",
            "[4, 2, 3, 5]\n"
          ]
        },
        {
          "output_type": "execute_result",
          "data": {
            "text/plain": [
              "[-124, -1, 0, 1, 3, 5, 6, 9, 12, 20, 21, 81, 121, 150]"
            ]
          },
          "metadata": {},
          "execution_count": 32
        }
      ]
    }
  ]
}