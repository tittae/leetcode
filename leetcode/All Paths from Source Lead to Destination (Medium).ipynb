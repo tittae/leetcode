{
 "cells": [
  {
   "cell_type": "markdown",
   "metadata": {},
   "source": [
    "# All Paths from Source Lead to Destination"
   ]
  },
  {
   "cell_type": "markdown",
   "metadata": {},
   "source": [
    "Given the `edges` of a directed graph where `edges[i] = [ai, bi]` indicates there is an edge between nodes `ai` and `bi`, and two nodes `source` and `destination` of this graph, determine whether or not all paths starting from `source` eventually, end at `destination`, that is:\n",
    "\n",
    "- At least one path exists from the `source` node to the `destination` node\n",
    "- If a path exists from the `source` node to a node with no outgoing edges, then that node is equal to `destination`.\n",
    "- The number of possible paths from `source` to `destination` is a finite number.\n",
    "\n",
    "Return `true` if and only if all roads from `source` lead to `destination`."
   ]
  },
  {
   "cell_type": "code",
   "execution_count": 1,
   "metadata": {},
   "outputs": [],
   "source": [
    "import networkx as nx\n",
    "import matplotlib.pyplot as plt"
   ]
  },
  {
   "cell_type": "code",
   "execution_count": 2,
   "metadata": {},
   "outputs": [
    {
     "data": {
      "image/png": "[encoded data removed]",
      "text/plain": [
       "<Figure size 216x216 with 1 Axes>"
      ]
     },
     "metadata": {},
     "output_type": "display_data"
    }
   ],
   "source": [
    "G = nx.DiGraph()\n",
    "G.add_edges_from([['0 source',1],['0 source','2 dest']])\n",
    "\n",
    "plt.figure(figsize=(3,3))\n",
    "plt.title('Example 1:')\n",
    "nx.draw(G, with_labels = True)"
   ]
  },
  {
   "cell_type": "markdown",
   "metadata": {},
   "source": [
    "Example 1:\n",
    "      \n",
    "```\n",
    "Input: n = 3, edges = [[0,1],[0,2]], source = 0, destination = 2\n",
    "Output: false\n",
    "Explanation: It is possible to reach and get stuck on both node 1 and node 2.\n",
    "```"
   ]
  },
  {
   "cell_type": "code",
   "execution_count": 3,
   "metadata": {},
   "outputs": [
    {
     "data": {
      "image/png": "[encoded data removed]",
      "text/plain": [
       "<Figure size 216x216 with 1 Axes>"
      ]
     },
     "metadata": {},
     "output_type": "display_data"
    }
   ],
   "source": [
    "G = nx.DiGraph()\n",
    "G.add_edges_from([['0 source',1],['0 source','3 dest'],[1,2],[2,1]])\n",
    "\n",
    "plt.figure(figsize=(3,3))\n",
    "plt.title('Example 2:')\n",
    "nx.draw(G, with_labels = True)"
   ]
  },
  {
   "cell_type": "markdown",
   "metadata": {},
   "source": [
    "Example 2:\n",
    "\n",
    "```\n",
    "Input: n = 4, edges = [[0,1],[0,3],[1,2],[2,1]], source = 0, destination = 3\n",
    "Output: false\n",
    "Explanation: We have two possibilities: to end at node 3, or to loop over node 1 and node 2 indefinitely.\n",
    "```"
   ]
  },
  {
   "cell_type": "code",
   "execution_count": 4,
   "metadata": {},
   "outputs": [
    {
     "data": {
      "image/png": "[encoded data removed]",
      "text/plain": [
       "<Figure size 216x216 with 1 Axes>"
      ]
     },
     "metadata": {},
     "output_type": "display_data"
    }
   ],
   "source": [
    "G = nx.DiGraph()\n",
    "G.add_edges_from([['0 source',1],['0 source',2],[1,'3 dest'],[2,'3 dest']])\n",
    "\n",
    "plt.figure(figsize=(3,3))\n",
    "plt.title('Example 3:')\n",
    "nx.draw(G, with_labels = True)"
   ]
  },
  {
   "cell_type": "markdown",
   "metadata": {},
   "source": [
    "Example 3:\n",
    "\n",
    "```\n",
    "Input: n = 4, edges = [[0,1],[0,2],[1,3],[2,3]], source = 0, destination = 3\n",
    "Output: true\n",
    "```"
   ]
  },
  {
   "cell_type": "code",
   "execution_count": 5,
   "metadata": {},
   "outputs": [],
   "source": [
    "from typing import *\n",
    "from collections import defaultdict\n",
    "\n",
    "class Solution:\n",
    "    def leadsToDestination(self, n: int, edges: List[List[int]], source: int, destination: int) -> bool:\n",
    "        self.visited = []\n",
    "        \n",
    "        adj_list = defaultdict(list)\n",
    "        for src, des in edges:\n",
    "            adj_list[src].append(des)\n",
    "        \n",
    "        def dfs(curr):          \n",
    "            if len(adj_list[curr]) == 0:\n",
    "                return curr == destination\n",
    "            self.visited.append(curr)\n",
    "            for neighbor in adj_list[curr]:\n",
    "                # there is a loop\n",
    "                if neighbor in self.visited:\n",
    "                    return False\n",
    "                if not dfs(neighbor):\n",
    "                    return False\n",
    "            self.visited.remove(curr)\n",
    "            return True\n",
    "\n",
    "        res = dfs(source)\n",
    "        return res"
   ]
  },
  {
   "cell_type": "code",
   "execution_count": 6,
   "metadata": {},
   "outputs": [
    {
     "name": "stdout",
     "output_type": "stream",
     "text": [
      "False\n"
     ]
    }
   ],
   "source": [
    "n = 3\n",
    "edges = [[0,1],[0,2]]\n",
    "source = 0\n",
    "destination = 2\n",
    "\n",
    "expected = False\n",
    "\n",
    "output = Solution().leadsToDestination(n, edges, source, destination)\n",
    "print(output)\n",
    "assert output == expected"
   ]
  },
  {
   "cell_type": "code",
   "execution_count": 7,
   "metadata": {},
   "outputs": [
    {
     "name": "stdout",
     "output_type": "stream",
     "text": [
      "False\n"
     ]
    }
   ],
   "source": [
    "n = 4\n",
    "edges = [[0,1],[0,3],[1,2],[2,1]]\n",
    "source = 0\n",
    "destination = 3\n",
    "\n",
    "expected = False\n",
    "\n",
    "output = Solution().leadsToDestination(n, edges, source, destination)\n",
    "print(output)\n",
    "assert output == expected"
   ]
  },
  {
   "cell_type": "code",
   "execution_count": 8,
   "metadata": {},
   "outputs": [
    {
     "name": "stdout",
     "output_type": "stream",
     "text": [
      "True\n"
     ]
    }
   ],
   "source": [
    "n = 4\n",
    "edges = [[0,1],[0,2],[1,3],[2,3]]\n",
    "source = 0\n",
    "destination = 3\n",
    "\n",
    "expected = True\n",
    "\n",
    "output = Solution().leadsToDestination(n, edges, source, destination)\n",
    "print(output)\n",
    "assert output == expected"
   ]
  }
 ],
 "metadata": {
  "kernelspec": {
   "display_name": "Python 3.8.9 64-bit",
   "language": "python",
   "name": "python3"
  },
  "language_info": {
   "codemirror_mode": {
    "name": "ipython",
    "version": 3
   },
   "file_extension": ".py",
   "mimetype": "text/x-python",
   "name": "python",
   "nbconvert_exporter": "python",
   "pygments_lexer": "ipython3",
   "version": "3.8.9"
  },
  "orig_nbformat": 4,
  "vscode": {
   "interpreter": {
    "hash": "31f2aee4e71d21fbe5cf8b01ff0e069b9275f58929596ceb00d14d90e3e16cd6"
   }
  }
 },
 "nbformat": 4,
 "nbformat_minor": 2
}
