{
 "cells": [
  {
   "cell_type": "markdown",
   "metadata": {},
   "source": [
    "# Construct Target Array With Multiple Sums"
   ]
  },
  {
   "cell_type": "markdown",
   "metadata": {},
   "source": [
    "You are given an array target of n integers. From a starting array arr consisting of n 1's, you may perform the following procedure :\n",
    "\n",
    "- let x be the sum of all elements currently in your array.\n",
    "- choose index i, such that 0 <= i < n and set the value of arr at index i to x.\n",
    "- You may repeat this procedure as many times as needed.\n",
    "\n",
    "Return true if it is possible to construct the target array from arr, otherwise, return false.\n",
    "\n",
    " "
   ]
  },
  {
   "cell_type": "markdown",
   "metadata": {},
   "source": []
  },
  {
   "cell_type": "code",
   "execution_count": null,
   "metadata": {},
   "outputs": [],
   "source": []
  }
 ],
 "metadata": {
  "language_info": {
   "name": "python"
  },
  "orig_nbformat": 4
 },
 "nbformat": 4,
 "nbformat_minor": 2
}
