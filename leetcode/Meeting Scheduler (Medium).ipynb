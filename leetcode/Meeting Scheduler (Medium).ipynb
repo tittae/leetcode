{
 "cells": [
  {
   "cell_type": "markdown",
   "metadata": {},
   "source": [
    "# Meeting Scheduler"
   ]
  },
  {
   "cell_type": "markdown",
   "metadata": {},
   "source": [
    "Given the availability time slots arrays `slots1` and `slots2` of two people and a meeting duration duration, return the earliest time slot that works for both of them and is of duration duration.\n",
    "\n",
    "If there is no common time slot that satisfies the requirements, return an empty array.\n",
    "\n",
    "The format of a time slot is an array of two elements `[start, end]` representing an inclusive time range from `start` to `end`.\n",
    "\n",
    "It is guaranteed that no two availability slots of the same person intersect with each other. That is, for any two time slots `[start1, end1]` and `[start2, end2]` of the same person, either start1 > end2 or start2 > end1.\n",
    "\n",
    " "
   ]
  },
  {
   "cell_type": "markdown",
   "metadata": {},
   "source": [
    "Example 1:\n",
    "```\n",
    "Input: slots1 = [[10,50],[60,120],[140,210]], slots2 = [[0,15],[60,70]], duration = 8\n",
    "Output: [60,68]\n",
    "```"
   ]
  },
  {
   "cell_type": "markdown",
   "metadata": {},
   "source": [
    "Example 2:\n",
    "```\n",
    "Input: slots1 = [[10,50],[60,120],[140,210]], slots2 = [[0,15],[60,70]], duration = 12\n",
    "Output: []\n",
    "```"
   ]
  },
  {
   "cell_type": "markdown",
   "metadata": {},
   "source": [
    "Constraints:\n",
    "```\n",
    "1 <= slots1.length, slots2.length <= 104\n",
    "slots1[i].length, slots2[i].length == 2\n",
    "slots1[i][0] < slots1[i][1]\n",
    "slots2[i][0] < slots2[i][1]\n",
    "0 <= slots1[i][j], slots2[i][j] <= 109\n",
    "1 <= duration <= 106\n",
    "```"
   ]
  },
  {
   "cell_type": "code",
   "execution_count": 1,
   "metadata": {},
   "outputs": [],
   "source": [
    "class Solution:\n",
    "    # time = O(m log m + n log n) for sorting\n",
    "    # space = O(1)\n",
    "    def minAvailableDuration(self, slots1, slots2, duration):\n",
    "\n",
    "        slots1.sort()\n",
    "        slots2.sort()\n",
    "        pointer1 = pointer2 = 0\n",
    "\n",
    "        while pointer1 < len(slots1) and pointer2 < len(slots2):\n",
    "            # find the boundaries of the intersection, or the common slot\n",
    "            intersect_right = min(slots1[pointer1][1], slots2[pointer2][1])\n",
    "            intersect_left = max(slots1[pointer1][0],slots2[pointer2][0])\n",
    "            if intersect_right - intersect_left >= duration:\n",
    "                return [intersect_left, intersect_left + duration]\n",
    "            # always move the one that ends earlier\n",
    "            if slots1[pointer1][1]< slots2[pointer2][1]:\n",
    "                pointer1 += 1\n",
    "            else:\n",
    "                pointer2 += 1\n",
    "        return []"
   ]
  },
  {
   "cell_type": "code",
   "execution_count": 2,
   "metadata": {},
   "outputs": [
    {
     "name": "stdout",
     "output_type": "stream",
     "text": [
      "[60, 68]\n"
     ]
    }
   ],
   "source": [
    "slots1 = [[10,50],[60,120],[140,210]]\n",
    "slots2 = [[0,15],[60,70]]\n",
    "duration = 8\n",
    "\n",
    "expected = [60, 68]\n",
    "output = Solution().minAvailableDuration(slots1, slots2, duration)\n",
    "print(output)\n",
    "assert output == expected"
   ]
  },
  {
   "cell_type": "code",
   "execution_count": 3,
   "metadata": {},
   "outputs": [
    {
     "name": "stdout",
     "output_type": "stream",
     "text": [
      "[]\n"
     ]
    }
   ],
   "source": [
    "slots1 = [[10,50],[60,120],[140,210]]\n",
    "slots2 = [[0,15],[60,70]]\n",
    "duration = 12\n",
    "\n",
    "expected = []\n",
    "output = Solution().minAvailableDuration(slots1, slots2, duration)\n",
    "print(output)\n",
    "assert output == expected"
   ]
  }
 ],
 "metadata": {
  "kernelspec": {
   "display_name": "Python 3.10.5 64-bit (windows store)",
   "language": "python",
   "name": "python3"
  },
  "language_info": {
   "codemirror_mode": {
    "name": "ipython",
    "version": 3
   },
   "file_extension": ".py",
   "mimetype": "text/x-python",
   "name": "python",
   "nbconvert_exporter": "python",
   "pygments_lexer": "ipython3",
   "version": "3.10.5"
  },
  "orig_nbformat": 4,
  "vscode": {
   "interpreter": {
    "hash": "3822405be9f5fb329f7270cbdcf73e762c62b3f383c5e71390a1a4648678c1cb"
   }
  }
 },
 "nbformat": 4,
 "nbformat_minor": 2
}
