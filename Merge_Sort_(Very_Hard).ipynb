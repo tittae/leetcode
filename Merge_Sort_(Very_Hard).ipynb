{
  "nbformat": 4,
  "nbformat_minor": 0,
  "metadata": {
    "colab": {
      "name": "Merge Sort (Very Hard).ipynb",
      "provenance": [],
      "collapsed_sections": [],
      "authorship_tag": "ABX9TyObFY5cCesqA8WYtX3gjbM7",
      "include_colab_link": true
    },
    "kernelspec": {
      "name": "python3",
      "display_name": "Python 3"
    },
    "language_info": {
      "name": "python"
    }
  },
  "cells": [
    {
      "cell_type": "markdown",
      "metadata": {
        "id": "view-in-github",
        "colab_type": "text"
      },
      "source": [
        "<a href=\"https://colab.research.google.com/github/wisarootl/leetcode/blob/main/Merge_Sort_(Very_Hard).ipynb\" target=\"_parent\"><img src=\"https://colab.research.google.com/assets/colab-badge.svg\" alt=\"Open In Colab\"/></a>"
      ]
    },
    {
      "cell_type": "markdown",
      "source": [
        "# Merge Sort"
      ],
      "metadata": {
        "id": "Mi5dWd1OD-iY"
      }
    },
    {
      "cell_type": "markdown",
      "source": [
        "Write a function that takes in an array of integers and returns a sorted version of that array. Use the Merge Sort algorithm to sort the array.\n",
        "\n",
        "If you're unfamiliar with Merge Sort, we recommend watching the Conceptual Overview section of this question's video explanation before starting to code."
      ],
      "metadata": {
        "id": "M5L9leiwEBQq"
      }
    },
    {
      "cell_type": "markdown",
      "source": [
        "Sample Input\n",
        "\n",
        "```\n",
        "array = [8, 5, 2, 9, 5, 6, 3]\n",
        "```\n",
        "\n"
      ],
      "metadata": {
        "id": "yIDXBoTQED5R"
      }
    },
    {
      "cell_type": "markdown",
      "source": [
        "Sample Output\n",
        "\n",
        "```\n",
        "[2, 3, 5, 5, 6, 8, 9]\n",
        "```\n",
        "\n"
      ],
      "metadata": {
        "id": "u8AhEoxSEGVW"
      }
    },
    {
      "cell_type": "code",
      "execution_count": 1,
      "metadata": {
        "id": "mcjgunfiD9r3"
      },
      "outputs": [],
      "source": [
        "# Best  : Time O(nlog n) | Space O(n)\n",
        "# Avg   : Time O(nlog n) | Space O(n)\n",
        "# Worst : Time O(nlog n) | Space O(n)\n",
        "\n",
        "def mergeSort(array):\n",
        "\tif len(array) <= 1:\n",
        "\t\treturn array\n",
        "\tauxiliary_array = array[:]\n",
        "\tmerge_sort_helper(array, auxiliary_array, 0, len(array) - 1)\n",
        "\treturn array\n",
        "\n",
        "def merge_sort_helper(main_array, auxiliary_array, start_idx, end_idx):\n",
        "\tif start_idx == end_idx:\n",
        "\t\treturn\n",
        "\n",
        "\tmiddle_idx = (start_idx + end_idx) // 2\n",
        "\tmerge_sort_helper(auxiliary_array, main_array, start_idx, middle_idx)\n",
        "\tmerge_sort_helper(auxiliary_array, main_array, middle_idx + 1, end_idx)\n",
        "\t# auxiliary_array is consist of 2 sorted array now\n",
        "\t# put 2 pointer in auxiliary_array and alter main_array to sort\n",
        "\tmerge(main_array, auxiliary_array, start_idx, middle_idx, end_idx)\n",
        "\n",
        "def merge(main_array, auxiliary_array, start_idx, middle_idx, end_idx):\n",
        "\tk = start_idx\n",
        "\ti = start_idx\n",
        "\tj = middle_idx + 1\n",
        "\twhile k <= end_idx:\n",
        "\t\tif i <= middle_idx and j <= end_idx:\n",
        "\t\t\tif auxiliary_array[i] <= auxiliary_array[j]:\n",
        "\t\t\t\tmain_array[k] = auxiliary_array[i]\n",
        "\t\t\t\ti += 1\n",
        "\t\t\telse:\n",
        "\t\t\t\tmain_array[k] = auxiliary_array[j]\n",
        "\t\t\t\tj += 1\n",
        "\t\telif i <= middle_idx:\n",
        "\t\t\tmain_array[k] = auxiliary_array[i]\n",
        "\t\t\ti += 1\n",
        "\t\telif j <= end_idx:\n",
        "\t\t\tmain_array[k] = auxiliary_array[j]\n",
        "\t\t\tj += 1\n",
        "\t\tk += 1"
      ]
    },
    {
      "cell_type": "code",
      "source": [
        "array = [8, 5, 2, 9, 5, 6, 3]\n",
        "mergeSort(array)"
      ],
      "metadata": {
        "colab": {
          "base_uri": "https://localhost:8080/"
        },
        "id": "V8acJTwSEOQf",
        "outputId": "8d20ce5c-3d15-42c9-8c77-673e4399b345"
      },
      "execution_count": 2,
      "outputs": [
        {
          "output_type": "execute_result",
          "data": {
            "text/plain": [
              "[2, 3, 5, 5, 6, 8, 9]"
            ]
          },
          "metadata": {},
          "execution_count": 2
        }
      ]
    }
  ]
}