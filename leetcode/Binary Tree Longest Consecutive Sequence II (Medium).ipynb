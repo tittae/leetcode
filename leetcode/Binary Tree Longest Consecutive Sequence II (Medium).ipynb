{
 "cells": [
  {
   "cell_type": "markdown",
   "metadata": {},
   "source": [
    "# Binary Tree Longest Consecutive Sequence II"
   ]
  },
  {
   "cell_type": "markdown",
   "metadata": {},
   "source": [
    "Given the root of a binary tree, return the length of the longest consecutive path in the tree.\n",
    "\n",
    "A consecutive path is a path where the values of the consecutive nodes in the path differ by one. This path can be either increasing or decreasing.\n",
    "\n",
    "- For example, `[1,2,3,4]` and `[4,3,2,1]` are both considered valid, but the path `[1,2,4,3]` is not valid.\n",
    "\n",
    "On the other hand, the path can be in the child-Parent-child order, where not necessarily be parent-child order."
   ]
  },
  {
   "cell_type": "markdown",
   "metadata": {},
   "source": [
    "Example 1:\n",
    "\n",
    "```\n",
    "  1\n",
    " / \\\n",
    "2   3\n",
    "\n",
    "Input: root = [1,2,3]\n",
    "Output: 2\n",
    "Explanation: The longest consecutive path is [1, 2] or [2, 1].\n",
    "```"
   ]
  },
  {
   "cell_type": "markdown",
   "metadata": {},
   "source": [
    "Example 2:\n",
    "\n",
    "```\n",
    "  2\n",
    " / \\\n",
    "1   3\n",
    "\n",
    "Input: root = [2,1,3]\n",
    "Output: 3\n",
    "Explanation: The longest consecutive path is [1, 2, 3] or [3, 2, 1].\n",
    "```"
   ]
  },
  {
   "cell_type": "markdown",
   "metadata": {},
   "source": [
    "Constraints:\n",
    "\n",
    "```\n",
    "The number of nodes in the tree is in the range [1, 3 * 10^4].\n",
    "-3 * 10^4 <= Node.val <= 3 * 10^4\n",
    "```"
   ]
  },
  {
   "cell_type": "code",
   "execution_count": 1,
   "metadata": {},
   "outputs": [],
   "source": [
    "from typing import *\n",
    "\n",
    "# Definition for a binary tree node.\n",
    "class TreeNode:\n",
    "    def __init__(self, val=0, left=None, right=None):\n",
    "        self.val = val\n",
    "        self.left = left\n",
    "        self.right = right\n",
    "\n",
    "class Solution:\n",
    "    # time = O(N)\n",
    "    # space = O(N)\n",
    "    def longestConsecutive(self, root: TreeNode) -> int:\n",
    "                \n",
    "        def longest_path(root: TreeNode) -> List[int]:\n",
    "            nonlocal maxval\n",
    "            \n",
    "            if not root:\n",
    "                return [0, 0]\n",
    "            \n",
    "            inr = dcr = 1\n",
    "            if root.left:\n",
    "                left = longest_path(root.left)\n",
    "                if (root.val == root.left.val + 1):\n",
    "                    dcr = left[1] + 1\n",
    "                elif (root.val == root.left.val - 1):\n",
    "                    inr = left[0] + 1\n",
    "            \n",
    "            if root.right:\n",
    "                right = longest_path(root.right)\n",
    "                if (root.val == root.right.val + 1):\n",
    "                    dcr = max(dcr, right[1] + 1)\n",
    "                elif (root.val == root.right.val - 1):\n",
    "                    inr = max(inr, right[0] + 1)\n",
    "                    \n",
    "            maxval = max(maxval, dcr + inr - 1)\n",
    "            return [inr, dcr]\n",
    "        \n",
    "        maxval = 0\n",
    "        longest_path(root)\n",
    "        return maxval"
   ]
  },
  {
   "cell_type": "code",
   "execution_count": 2,
   "metadata": {},
   "outputs": [
    {
     "name": "stdout",
     "output_type": "stream",
     "text": [
      "2\n"
     ]
    }
   ],
   "source": [
    "root = TreeNode(1)\n",
    "root.left = TreeNode(2)\n",
    "root.right = TreeNode(3)\n",
    "\n",
    "expected = 2\n",
    "output = Solution().longestConsecutive(root)\n",
    "print(output)\n",
    "assert output == expected"
   ]
  },
  {
   "cell_type": "code",
   "execution_count": 3,
   "metadata": {},
   "outputs": [
    {
     "name": "stdout",
     "output_type": "stream",
     "text": [
      "3\n"
     ]
    }
   ],
   "source": [
    "root = TreeNode(2)\n",
    "root.left = TreeNode(1)\n",
    "root.right = TreeNode(3)\n",
    "\n",
    "expected = 3\n",
    "output = Solution().longestConsecutive(root)\n",
    "print(output)\n",
    "assert output == expected"
   ]
  }
 ],
 "metadata": {
  "kernelspec": {
   "display_name": "Python 3.10.5 64-bit ('3.10.5')",
   "language": "python",
   "name": "python3"
  },
  "language_info": {
   "codemirror_mode": {
    "name": "ipython",
    "version": 3
   },
   "file_extension": ".py",
   "mimetype": "text/x-python",
   "name": "python",
   "nbconvert_exporter": "python",
   "pygments_lexer": "ipython3",
   "version": "3.10.5"
  },
  "orig_nbformat": 4,
  "vscode": {
   "interpreter": {
    "hash": "992441bd4bc11ab83c63537935ea198062f55180155eaba570b8d7c82e005e8c"
   }
  }
 },
 "nbformat": 4,
 "nbformat_minor": 2
}
