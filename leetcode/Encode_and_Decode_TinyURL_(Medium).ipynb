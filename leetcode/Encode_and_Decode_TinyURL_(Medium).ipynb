{
  "nbformat": 4,
  "nbformat_minor": 0,
  "metadata": {
    "colab": {
      "name": "Encode and Decode TinyURL (Medium).ipynb",
      "provenance": [],
      "authorship_tag": "ABX9TyNkkHJRh5NzsYe6wDcUqfFW",
      "include_colab_link": true
    },
    "kernelspec": {
      "name": "python3",
      "display_name": "Python 3"
    },
    "language_info": {
      "name": "python"
    }
  },
  "cells": [
    {
      "cell_type": "markdown",
      "metadata": {
        "id": "view-in-github",
        "colab_type": "text"
      },
      "source": [
        "<a href=\"https://colab.research.google.com/github/wisarootl/leetcode/blob/main/Encode_and_Decode_TinyURL_(Medium).ipynb\" target=\"_parent\"><img src=\"https://colab.research.google.com/assets/colab-badge.svg\" alt=\"Open In Colab\"/></a>"
      ]
    },
    {
      "cell_type": "markdown",
      "source": [
        "# Encode and Decode TinyURL"
      ],
      "metadata": {
        "id": "BPYN3m2vMnPP"
      }
    },
    {
      "cell_type": "markdown",
      "source": [
        "Note: This is a companion problem to the System Design problem: Design TinyURL.\n",
        "TinyURL is a URL shortening service where you enter a URL such as https://leetcode.com/problems/design-tinyurl and it returns a short URL such as http://tinyurl.com/4e9iAk. Design a class to encode a URL and decode a tiny URL.\n",
        "\n",
        "There is no restriction on how your encode/decode algorithm should work. You just need to ensure that a URL can be encoded to a tiny URL and the tiny URL can be decoded to the original URL.\n",
        "\n",
        "Implement the Solution class:\n",
        "\n",
        "- Solution() Initializes the object of the system.\n",
        "- String encode(String longUrl) Returns a tiny URL for the given longUrl.\n",
        "- String decode(String shortUrl) Returns the original long URL for the given shortUrl. It is guaranteed that the given shortUrl was encoded by the same object.\n",
        " "
      ],
      "metadata": {
        "id": "qtd8tzCoMq4C"
      }
    },
    {
      "cell_type": "markdown",
      "source": [
        "Example 1:\n",
        "\n",
        "```\n",
        "Input: url = \"https://leetcode.com/problems/design-tinyurl\"\n",
        "Output: \"https://leetcode.com/problems/design-tinyurl\"\n",
        "\n",
        "Explanation:\n",
        "Solution obj = new Solution();\n",
        "string tiny = obj.encode(url); // returns the encoded tiny url.\n",
        "string ans = obj.decode(tiny); // returns the original url after deconding it.\n",
        "```\n",
        "\n"
      ],
      "metadata": {
        "id": "dlpGtWmlNIUC"
      }
    },
    {
      "cell_type": "markdown",
      "source": [
        "Constraints:\n",
        "\n",
        "```\n",
        "1 <= url.length <= 104\n",
        "url is guranteed to be a valid URL.\n",
        "```\n",
        "\n"
      ],
      "metadata": {
        "id": "9bHKKHOzNL5R"
      }
    },
    {
      "cell_type": "code",
      "execution_count": 1,
      "metadata": {
        "id": "pDkSw_ucMhD7"
      },
      "outputs": [],
      "source": [
        "class Codec:\n",
        "\n",
        "    # Space = O(n * l)\n",
        "    # n = number of url\n",
        "    # l = lenght of longUrl\n",
        "    def __init__(self):\n",
        "        self.count = 0\n",
        "        self.hashmap = {}\n",
        "        self.baseurl = \"http://tinyurl.com/\"\n",
        "\n",
        "    # Time = O(1)\n",
        "    # Space = O(1)\n",
        "    def encode(self, longUrl: str) -> str:\n",
        "        \"\"\"Encodes a URL to a shortened URL.\n",
        "        \"\"\"\n",
        "        self.count += 1\n",
        "        self.hashmap[self.count] = longUrl\n",
        "        return self.baseurl + str(self.count)\n",
        "        \n",
        "    # Time = O(1)\n",
        "    # Space = O(1)\n",
        "    def decode(self, shortUrl: str) -> str:\n",
        "        \"\"\"Decodes a shortened URL to its original URL.\n",
        "        \"\"\"\n",
        "        return self.hashmap[int(shortUrl.replace(self.baseurl, \"\"))]\n",
        "        \n",
        "\n",
        "# Your Codec object will be instantiated and called as such:\n",
        "# codec = Codec()\n",
        "# codec.decode(codec.encode(url))"
      ]
    },
    {
      "cell_type": "code",
      "source": [
        "codec = Codec()\n",
        "shortUrl = codec.encode(\"https://leetcode.com/problems/design-tinyurl\")\n",
        "print(shortUrl)\n",
        "print(codec.decode(shortUrl))"
      ],
      "metadata": {
        "colab": {
          "base_uri": "https://localhost:8080/"
        },
        "id": "5AyL3PblNQiB",
        "outputId": "a3ded010-b090-4d4a-e08a-d08fc44ce6f1"
      },
      "execution_count": 2,
      "outputs": [
        {
          "output_type": "stream",
          "name": "stdout",
          "text": [
            "http://tinyurl.com/1\n",
            "https://leetcode.com/problems/design-tinyurl\n"
          ]
        }
      ]
    }
  ]
}