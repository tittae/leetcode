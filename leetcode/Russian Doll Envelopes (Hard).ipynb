{
 "cells": [
  {
   "cell_type": "markdown",
   "metadata": {},
   "source": [
    "# Russian Doll Envelopes"
   ]
  },
  {
   "cell_type": "markdown",
   "metadata": {},
   "source": [
    "You are given a 2D array of integers envelopes where envelopes[i] = [wi, hi] represents the width and the height of an envelope.\n",
    "\n",
    "One envelope can fit into another if and only if both the width and height of one envelope are greater than the other envelope's width and height.\n",
    "\n",
    "Return the maximum number of envelopes you can Russian doll (i.e., put one inside the other).\n",
    "\n",
    "Note: You cannot rotate an envelope."
   ]
  },
  {
   "cell_type": "markdown",
   "metadata": {},
   "source": [
    "Example 1:\n",
    "```\n",
    "Input: envelopes = [[5,4],[6,4],[6,7],[2,3]]\n",
    "Output: 3\n",
    "Explanation: The maximum number of envelopes you can Russian doll is 3 ([2,3] => [5,4] => [6,7]).\n",
    "```"
   ]
  },
  {
   "cell_type": "markdown",
   "metadata": {},
   "source": [
    "Example 2:\n",
    "```\n",
    "Input: envelopes = [[1,1],[1,1],[1,1]]\n",
    "Output: 1\n",
    "```"
   ]
  },
  {
   "cell_type": "markdown",
   "metadata": {},
   "source": [
    "Constraints:\n",
    "```\n",
    "1 <= envelopes.length <= 105\n",
    "envelopes[i].length == 2\n",
    "1 <= wi, hi <= 105\n",
    "```"
   ]
  },
  {
   "cell_type": "code",
   "execution_count": 1,
   "metadata": {},
   "outputs": [],
   "source": [
    "from bisect import bisect_left\n",
    "\n",
    "class Solution:\n",
    "    def maxEnvelopes(self, envelopes):\n",
    "        # sort increasing in first dimension and decreasing on second\n",
    "        envelopes.sort(key=lambda x: (x[0], -x[1]))\n",
    "        \n",
    "        def longest_increasing_subsequence(nums):\n",
    "            dp = []\n",
    "            for i in range(len(nums)):\n",
    "                idx = bisect_left(dp, nums[i])\n",
    "                if idx == len(dp):\n",
    "                    dp.append(nums[i])\n",
    "                else:\n",
    "                    dp[idx] = nums[i]\n",
    "\n",
    "            return len(dp)\n",
    "        \n",
    "        # extract the second dimension and run the LIS\n",
    "        return longest_increasing_subsequence([i[1] for i in envelopes])"
   ]
  },
  {
   "cell_type": "code",
   "execution_count": 2,
   "metadata": {},
   "outputs": [
    {
     "name": "stdout",
     "output_type": "stream",
     "text": [
      "3\n"
     ]
    }
   ],
   "source": [
    "envelopes = [[5,4],[6,4],[6,7],[2,3]]\n",
    "expected = 3\n",
    "\n",
    "output = Solution().maxEnvelopes(envelopes)\n",
    "print(output)\n",
    "assert output == expected\n"
   ]
  }
 ],
 "metadata": {
  "interpreter": {
   "hash": "3822405be9f5fb329f7270cbdcf73e762c62b3f383c5e71390a1a4648678c1cb"
  },
  "kernelspec": {
   "display_name": "Python 3.10.4 64-bit (windows store)",
   "language": "python",
   "name": "python3"
  },
  "language_info": {
   "codemirror_mode": {
    "name": "ipython",
    "version": 3
   },
   "file_extension": ".py",
   "mimetype": "text/x-python",
   "name": "python",
   "nbconvert_exporter": "python",
   "pygments_lexer": "ipython3",
   "version": "3.10.4"
  },
  "orig_nbformat": 4
 },
 "nbformat": 4,
 "nbformat_minor": 2
}
