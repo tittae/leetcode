{
  "cells": [
    {
      "cell_type": "markdown",
      "metadata": {
        "colab_type": "text",
        "id": "view-in-github"
      },
      "source": [
        "<a href=\"https://colab.research.google.com/github/wisarootl/leetcode/blob/main/Valid_IP_Addresses_(Medium).ipynb\" target=\"_parent\"><img src=\"https://colab.research.google.com/assets/colab-badge.svg\" alt=\"Open In Colab\"/></a>"
      ]
    },
    {
      "cell_type": "markdown",
      "metadata": {
        "id": "xFaZezdhgkEE"
      },
      "source": [
        "# Valid IP Addresses"
      ]
    },
    {
      "cell_type": "markdown",
      "metadata": {
        "id": "U_Udue7Zgk_Y"
      },
      "source": [
        "You're given a string of length 12 or smaller, containing only digits. Write a function that returns all the possible IP addresses that can be created by inserting three `.`s in the string.\n",
        "\n",
        "An IP address is a sequence of four positive integers that are separated by `.`s, where each individual integer is within the range `0 - 255`, inclusive.\n",
        "\n",
        "An IP address isn't valid if any of the individual integers contains leading `0`s. For example, `\"192.168.0.1\"` is a valid IP address, but `\"192.168.00.1\"` and `\"192.168.0.01\"` aren't, because they contain `\"00\"` and `\"01\"`, respectively. Another example of a valid IP address is \"99.1.1.10\"; conversely, `\"991.1.1.0\"` isn't valid, because `\"991\"` is greater than `255`.\n",
        "\n",
        "Your function should return the IP addresses in string format and in no particular order. If no valid IP addresses can be created from the string, your function should return an empty list.\n",
        "\n",
        "Note: check out our Systems Design Fundamentals on SystemsExpert to learn more about IP addresses!"
      ]
    },
    {
      "cell_type": "markdown",
      "metadata": {
        "id": "PybnyXLdg1X6"
      },
      "source": [
        "Sample Input\n",
        "\n",
        "```\n",
        "string = \"1921680\"\n",
        "```\n",
        "\n"
      ]
    },
    {
      "cell_type": "markdown",
      "metadata": {
        "id": "oj3RErd9g3Wt"
      },
      "source": [
        "Sample Output\n",
        "\n",
        "```\n",
        "[\n",
        "  \"1.9.216.80\",\n",
        "  \"1.92.16.80\",\n",
        "  \"1.92.168.0\",\n",
        "  \"19.2.16.80\",\n",
        "  \"19.2.168.0\",\n",
        "  \"19.21.6.80\",\n",
        "  \"19.21.68.0\",\n",
        "  \"19.216.8.0\",\n",
        "  \"192.1.6.80\",\n",
        "  \"192.1.68.0\",\n",
        "  \"192.16.8.0\"\n",
        "]\n",
        "// The IP addresses could be ordered differently.\n",
        "```\n",
        "\n"
      ]
    },
    {
      "cell_type": "code",
      "execution_count": 1,
      "metadata": {
        "id": "08Cn_jJgZ-19"
      },
      "outputs": [],
      "source": [
        "# Time O(1)\n",
        "# Sapce O(1)\n",
        "\n",
        "def validIPAddresses(string):\n",
        "  valid_ip_address = []\n",
        "  for idx1 in range(1, min(len(string), 4)):\n",
        "    current_part = ['','','','']\n",
        "\n",
        "    current_part[0] = string[:idx1]\n",
        "\n",
        "    if not is_valid_part(current_part[0]):\n",
        "      continue\n",
        "\n",
        "    for idx2 in range(idx1 + 1, idx1 + min(len(string) - idx1, 4)):\n",
        "      current_part[1] = string[idx1:idx2]\n",
        "      if not is_valid_part(current_part[1]):\n",
        "        continue\n",
        "\n",
        "      for idx3 in range(idx2 + 1, idx2 + min(len(string) - idx2, 4)):\n",
        "        current_part[2] = string[idx2:idx3]\n",
        "        current_part[3] = string[idx3:]\n",
        "\n",
        "        if is_valid_part(current_part[2]) and is_valid_part(current_part[3]):\n",
        "          valid_ip_address.append('.'.join(current_part))\n",
        "  return valid_ip_address\n",
        "\n",
        "\n",
        "def is_valid_part(string):\n",
        "  string_as_integer = int(string)\n",
        "  if string_as_integer > 255:\n",
        "    return False\n",
        "  \n",
        "  # '01', '00' is not valid\n",
        "  return len(string) == len(str(string_as_integer))"
      ]
    },
    {
      "cell_type": "code",
      "execution_count": 2,
      "metadata": {
        "colab": {
          "base_uri": "https://localhost:8080/"
        },
        "id": "WnBWiHr3aCX1",
        "outputId": "5145b7e0-990b-4c38-eb39-a7c56c5a4258"
      },
      "outputs": [
        {
          "data": {
            "text/plain": [
              "['1.9.216.80',\n",
              " '1.92.16.80',\n",
              " '1.92.168.0',\n",
              " '19.2.16.80',\n",
              " '19.2.168.0',\n",
              " '19.21.6.80',\n",
              " '19.21.68.0',\n",
              " '19.216.8.0',\n",
              " '192.1.6.80',\n",
              " '192.1.68.0',\n",
              " '192.16.8.0']"
            ]
          },
          "execution_count": 2,
          "metadata": {},
          "output_type": "execute_result"
        }
      ],
      "source": [
        "string = \"1921680\"\n",
        "validIPAddresses(string)"
      ]
    },
    {
      "cell_type": "markdown",
      "metadata": {
        "id": "PoTBFk9_jFDT"
      },
      "source": [
        "![photo_2022-01-19_20-34-41.jpg](data:image/jpeg;base64,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)"
      ]
    }
  ],
  "metadata": {
    "colab": {
      "authorship_tag": "ABX9TyNk7L3F922A/al5pz/0D0Gg",
      "collapsed_sections": [],
      "include_colab_link": true,
      "name": "Valid IP Addresses (Medium).ipynb",
      "provenance": []
    },
    "kernelspec": {
      "display_name": "Python 3.10.5 64-bit ('3.10.5')",
      "language": "python",
      "name": "python3"
    },
    "language_info": {
      "codemirror_mode": {
        "name": "ipython",
        "version": 3
      },
      "file_extension": ".py",
      "mimetype": "text/x-python",
      "name": "python",
      "nbconvert_exporter": "python",
      "pygments_lexer": "ipython3",
      "version": "3.10.5"
    },
    "vscode": {
      "interpreter": {
        "hash": "992441bd4bc11ab83c63537935ea198062f55180155eaba570b8d7c82e005e8c"
      }
    }
  },
  "nbformat": 4,
  "nbformat_minor": 0
}
