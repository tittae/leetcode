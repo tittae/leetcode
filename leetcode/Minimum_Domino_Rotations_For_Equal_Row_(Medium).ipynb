{
  "cells": [
    {
      "cell_type": "markdown",
      "metadata": {
        "colab_type": "text",
        "id": "view-in-github"
      },
      "source": [
        "<a href=\"https://colab.research.google.com/github/wisarootl/leetcode/blob/main/Minimum_Domino_Rotations_For_Equal_Row_(Medium).ipynb\" target=\"_parent\"><img src=\"https://colab.research.google.com/assets/colab-badge.svg\" alt=\"Open In Colab\"/></a>"
      ]
    },
    {
      "cell_type": "markdown",
      "metadata": {
        "id": "_30td6sKCsBN"
      },
      "source": [
        "# Minimum Domino Rotations For Equal Row"
      ]
    },
    {
      "cell_type": "markdown",
      "metadata": {
        "id": "729-fO4jCs6H"
      },
      "source": [
        "In a row of dominoes, tops[i] and bottoms[i] represent the top and bottom halves of the ith domino. (A domino is a tile with two numbers from 1 to 6 - one on each half of the tile.)\n",
        "\n",
        "We may rotate the ith domino, so that tops[i] and bottoms[i] swap values.\n",
        "\n",
        "Return the minimum number of rotations so that all the values in tops are the same, or all the values in bottoms are the same.\n",
        "\n",
        "If it cannot be done, return -1."
      ]
    },
    {
      "cell_type": "markdown",
      "metadata": {
        "id": "3cqlUlrpCvH6"
      },
      "source": [
        "https://leetcode.com/problems/minimum-domino-rotations-for-equal-row/"
      ]
    },
    {
      "cell_type": "markdown",
      "metadata": {
        "id": "BE6XYlYKCzVp"
      },
      "source": [
        "Example 1:\n",
        "\n",
        "```\n",
        "Input: tops = [2,1,2,4,2,2], bottoms = [5,2,6,2,3,2]\n",
        "Output: 2\n",
        "Explanation: \n",
        "The first figure represents the dominoes as given by tops and bottoms: before we do any rotations.\n",
        "If we rotate the second and fourth dominoes, we can make every value in the top row equal to 2, as indicated by the second figure.\n",
        "```\n",
        "\n"
      ]
    },
    {
      "cell_type": "markdown",
      "metadata": {
        "id": "-I-SjcgSC2dC"
      },
      "source": [
        "Example 2:\n",
        "\n",
        "```\n",
        "Input: tops = [3,5,1,2,3], bottoms = [3,6,3,3,4]\n",
        "Output: -1\n",
        "Explanation: \n",
        "In this case, it is not possible to rotate the dominoes to make one row of values equal.\n",
        "```\n",
        "\n"
      ]
    },
    {
      "cell_type": "markdown",
      "metadata": {
        "id": "pnLALtr1C7Ey"
      },
      "source": [
        "Constraints:\n",
        "\n",
        "```\n",
        "2 <= tops.length <= 2 * 104\n",
        "bottoms.length == tops.length\n",
        "1 <= tops[i], bottoms[i] <= 6\n",
        "```\n",
        "\n"
      ]
    },
    {
      "cell_type": "code",
      "execution_count": 1,
      "metadata": {
        "id": "0dUwsqofCmuC"
      },
      "outputs": [],
      "source": [
        "# Time O(N)\n",
        "# Space O(1)\n",
        "\n",
        "class Solution:\n",
        "    def minDominoRotations(self, tops, bottoms):\n",
        "        rotation_count1 = minDominoRotations_helper(tops[0], tops, bottoms)\n",
        "        rotation_count2 = minDominoRotations_helper(bottoms[0], tops, bottoms)\n",
        "        min_rotation_count = min(rotation_count1, rotation_count2)\n",
        "        return min_rotation_count if min_rotation_count != float('inf') else -1\n",
        "        \n",
        "def minDominoRotations_helper(value, tops, bottom):\n",
        "    count_top = 0\n",
        "    count_bottom = 0\n",
        "    for idx in range(len(tops)):\n",
        "        if value == tops[idx] and value == bottom[idx]:\n",
        "            continue\n",
        "        elif value == tops[idx]:\n",
        "            count_top += 1\n",
        "        elif value == bottom[idx]:\n",
        "            count_bottom += 1\n",
        "        else:\n",
        "            return float('inf')\n",
        "    return min(count_top, count_bottom)"
      ]
    },
    {
      "cell_type": "code",
      "execution_count": 2,
      "metadata": {
        "colab": {
          "base_uri": "https://localhost:8080/"
        },
        "id": "PFSULjvWCxk7",
        "outputId": "b3489f95-a191-4be4-82e5-3375b54b4626"
      },
      "outputs": [
        {
          "name": "stdout",
          "output_type": "stream",
          "text": [
            "2\n"
          ]
        }
      ],
      "source": [
        "tops = [2,1,2,4,2,2]\n",
        "bottoms = [5,2,6,2,3,2]\n",
        "expected = 2\n",
        "\n",
        "output = Solution().minDominoRotations(tops, bottoms)\n",
        "print(output)\n",
        "assert output == expected"
      ]
    },
    {
      "cell_type": "code",
      "execution_count": 3,
      "metadata": {
        "colab": {
          "base_uri": "https://localhost:8080/"
        },
        "id": "OXW7WmqEDMKd",
        "outputId": "97f0fb84-e04f-44ae-f44d-e1e667ad6115"
      },
      "outputs": [
        {
          "name": "stdout",
          "output_type": "stream",
          "text": [
            "-1\n"
          ]
        }
      ],
      "source": [
        "tops = [3,5,1,2,3]\n",
        "bottoms = [3,6,3,3,4]\n",
        "expected = -1\n",
        "\n",
        "output = Solution().minDominoRotations(tops, bottoms)\n",
        "print(output)\n",
        "assert output == expected"
      ]
    }
  ],
  "metadata": {
    "colab": {
      "authorship_tag": "ABX9TyNhCrvIWiI+kPtOhGPGNn4S",
      "include_colab_link": true,
      "name": "Minimum Domino Rotations For Equal Row (Medium).ipynb",
      "provenance": []
    },
    "kernelspec": {
      "display_name": "Python 3.10.8 64-bit (microsoft store)",
      "language": "python",
      "name": "python3"
    },
    "language_info": {
      "codemirror_mode": {
        "name": "ipython",
        "version": 3
      },
      "file_extension": ".py",
      "mimetype": "text/x-python",
      "name": "python",
      "nbconvert_exporter": "python",
      "pygments_lexer": "ipython3",
      "version": "3.10.8"
    },
    "vscode": {
      "interpreter": {
        "hash": "3822405be9f5fb329f7270cbdcf73e762c62b3f383c5e71390a1a4648678c1cb"
      }
    }
  },
  "nbformat": 4,
  "nbformat_minor": 0
}
