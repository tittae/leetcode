{
  "nbformat": 4,
  "nbformat_minor": 0,
  "metadata": {
    "colab": {
      "name": "Subarray Sort (Hard).ipynb",
      "provenance": [],
      "collapsed_sections": [],
      "authorship_tag": "ABX9TyOgLYzpbz8doLHAbrD/wPAG",
      "include_colab_link": true
    },
    "kernelspec": {
      "name": "python3",
      "display_name": "Python 3"
    },
    "language_info": {
      "name": "python"
    }
  },
  "cells": [
    {
      "cell_type": "markdown",
      "metadata": {
        "id": "view-in-github",
        "colab_type": "text"
      },
      "source": [
        "<a href=\"https://colab.research.google.com/github/wisarootl/leetcode/blob/main/Subarray_Sort_(Hard).ipynb\" target=\"_parent\"><img src=\"https://colab.research.google.com/assets/colab-badge.svg\" alt=\"Open In Colab\"/></a>"
      ]
    },
    {
      "cell_type": "markdown",
      "metadata": {
        "id": "AfkK6rvwx5n5"
      },
      "source": [
        "# Subarray Sort"
      ]
    },
    {
      "cell_type": "markdown",
      "metadata": {
        "id": "aEAnd74wx7Wv"
      },
      "source": [
        "Write a function that takes in an array of at least two integers and that returns an array of the starting and ending indices of the smallest subarray in the input array that needs to be sorted in place in order for the entire input array to be sorted (in ascending order).\n",
        "\n",
        "If the input array is already sorted, the function should return `[-1, -1]`."
      ]
    },
    {
      "cell_type": "markdown",
      "metadata": {
        "id": "JmpRCtWbx9j8"
      },
      "source": [
        "Sample Input\n",
        "\n",
        "```\n",
        "array = [1, 2, 4, 7, 10, 11, 7, 12, 6, 7, 16, 18, 19]\n",
        "```\n",
        "\n"
      ]
    },
    {
      "cell_type": "markdown",
      "metadata": {
        "id": "R5h4hTJEyAfn"
      },
      "source": [
        "Sample Output\n",
        "\n",
        "```\n",
        "[3, 9]\n",
        "```\n",
        "\n"
      ]
    },
    {
      "cell_type": "code",
      "metadata": {
        "id": "MOSMBCqqx3v9"
      },
      "source": [
        "# Time O(n)\n",
        "# Space O(1)\n",
        "\n",
        "def subarraySort(array):\n",
        "\tmax_out_of_order = float('-inf')\n",
        "\tmin_out_of_order = float('inf')\n",
        "\n",
        "\tfor i in range(len(array)):\n",
        "\t\tif not is_in_order(i, array):\n",
        "\t\t\tmax_out_of_order = max(max_out_of_order, array[i])\n",
        "\t\t\tmin_out_of_order = min(min_out_of_order, array[i])\n",
        "\n",
        "\tif max_out_of_order == float('-inf'):\n",
        "\t\treturn [-1, -1]\n",
        "\n",
        "\t# find left\n",
        "\tleft = 0\n",
        "\twhile array[left] <= min_out_of_order:\n",
        "\t\tleft += 1\n",
        "\t\n",
        "\t# find right\n",
        "\tright = len(array) - 1\n",
        "\twhile array[right] >= max_out_of_order:\n",
        "\t\tright -= 1\n",
        "\n",
        "\treturn [left, right]\n",
        "\n",
        "def is_in_order(i, array):\n",
        "\tif i == 0:\n",
        "\t\treturn array[i] <= array[i + 1]\n",
        "\telif i == len(array) - 1:\n",
        "\t\treturn array[i - 1] <= array[i]\n",
        "\telse:\n",
        "\t\treturn array[i - 1] <= array[i] and array[i] <= array[i + 1]"
      ],
      "execution_count": null,
      "outputs": []
    },
    {
      "cell_type": "code",
      "metadata": {
        "id": "-k1RO4PQKEe4"
      },
      "source": [
        "array = [1, 2, 4, 7, 10, 11, 7, 12, 6, 7, 16, 18, 19]"
      ],
      "execution_count": null,
      "outputs": []
    },
    {
      "cell_type": "code",
      "metadata": {
        "colab": {
          "base_uri": "https://localhost:8080/"
        },
        "id": "-NTt1DixKGQR",
        "outputId": "e116b4fa-618b-4e9a-fa2b-089591189441"
      },
      "source": [
        "print(subarraySort(array))"
      ],
      "execution_count": null,
      "outputs": [
        {
          "output_type": "stream",
          "name": "stdout",
          "text": [
            "[3, 9]\n"
          ]
        }
      ]
    }
  ]
}