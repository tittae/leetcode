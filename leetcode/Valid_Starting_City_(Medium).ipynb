{
  "nbformat": 4,
  "nbformat_minor": 0,
  "metadata": {
    "colab": {
      "name": "Valid Starting City (Medium).ipynb",
      "provenance": [],
      "authorship_tag": "ABX9TyM/u85l0saRPCHckl0+tI4g",
      "include_colab_link": true
    },
    "kernelspec": {
      "name": "python3",
      "display_name": "Python 3"
    },
    "language_info": {
      "name": "python"
    }
  },
  "cells": [
    {
      "cell_type": "markdown",
      "metadata": {
        "id": "view-in-github",
        "colab_type": "text"
      },
      "source": [
        "<a href=\"https://colab.research.google.com/github/wisarootl/leetcode/blob/main/Valid_Starting_City_(Medium).ipynb\" target=\"_parent\"><img src=\"https://colab.research.google.com/assets/colab-badge.svg\" alt=\"Open In Colab\"/></a>"
      ]
    },
    {
      "cell_type": "markdown",
      "source": [
        "# Valid Starting City"
      ],
      "metadata": {
        "id": "urBnseXUuTf5"
      }
    },
    {
      "cell_type": "markdown",
      "source": [
        "Imagine you have a set of cities that are laid out in a circle, connected by a circular road that runs clockwise. Each city has a gas station that provides gallons of fuel, and each city is some distance away from the next city.\n",
        "\n",
        "You have a car that can drive some number of miles per gallon of fuel, and your goal is to pick a starting city such that you can fill up your car with that city's fuel, drive to the next city, refill up your car with that city's fuel, drive to the next city, and so on and so forth until you return back to the starting city with 0 or more gallons of fuel left.\n",
        "\n",
        "This city is called a valid starting city, and it's guaranteed that there will always be exactly one valid starting city.\n",
        "\n",
        "For the actual problem, you'll be given an array of distances such that city `i` is `distances[i]` away from city `i + 1`. Since the cities are connected via a circular road, the last city is connected to the first city. In other words, the last distance in the `distances` array is equal to the distance from the last city to the first city. You'll also be given an array of fuel available at each city, where `fuel[i]` is equal to the fuel available at city `i`. The total amount of fuel available (from all cities combined) is exactly enough to travel to all cities. Your fuel tank always starts out empty, and you're given a positive integer value for the number of miles that your car can travel per gallon of fuel (miles per gallon, or MPG). You can assume that you will always be given at least two cities.\n",
        "\n",
        "Write a function that returns the index of the valid starting city."
      ],
      "metadata": {
        "id": "2BZTsE9i3RNJ"
      }
    },
    {
      "cell_type": "markdown",
      "source": [
        "Sample Input\n",
        "\n",
        "```\n",
        "distances = [5, 25, 15, 10, 15]\n",
        "fuel = [1, 2, 1, 0, 3]\n",
        "mpg = 10\n",
        "```\n",
        "\n"
      ],
      "metadata": {
        "id": "15ajbOqS3fn4"
      }
    },
    {
      "cell_type": "markdown",
      "source": [
        "Sample Output\n",
        "\n",
        "```\n",
        "4\n",
        "```\n",
        "\n"
      ],
      "metadata": {
        "id": "vG4ab5Zt3h8t"
      }
    },
    {
      "cell_type": "code",
      "execution_count": null,
      "metadata": {
        "id": "Er-AxRtQuRXC"
      },
      "outputs": [],
      "source": [
        "# Time O(n)\n",
        "# Space O(1)\n",
        "\n",
        "def validStartingCity(distances, fuel, mpg):\n",
        "  start_city = 0\n",
        "  cumulative_remaining_mile = 0\n",
        "  for i in range(len(distances)):\n",
        "    mile_from_fuel = fuel[i] * mpg\n",
        "    remaining_mile = mile_from_fuel - distances[i]\n",
        "    cumulative_remaining_mile += remaining_mile\n",
        "    if cumulative_remaining_mile < 0:\n",
        "      start_city = i + 1\n",
        "      cumulative_remaining_mile = 0\n",
        "  return start_city"
      ]
    },
    {
      "cell_type": "code",
      "source": [
        "distances = [5, 25, 15, 10, 15]\n",
        "fuel = [1, 2, 1, 0, 3]\n",
        "mpg = 10\n",
        "validStartingCity(distances, fuel, mpg)"
      ],
      "metadata": {
        "colab": {
          "base_uri": "https://localhost:8080/"
        },
        "id": "EF2F3LzVuT41",
        "outputId": "16b1f84e-fa85-466a-f32a-7064c6fc61f1"
      },
      "execution_count": null,
      "outputs": [
        {
          "output_type": "execute_result",
          "data": {
            "text/plain": [
              "4"
            ]
          },
          "metadata": {},
          "execution_count": 2
        }
      ]
    },
    {
      "cell_type": "code",
      "source": [
        "distances = [30, 40, 10, 10, 17, 13, 50, 30, 10, 40]\n",
        "fuel = [1, 2, 0, 1, 1, 0, 3, 1, 0, 1]\n",
        "mpg = 25\n",
        "validStartingCity(distances, fuel, mpg)"
      ],
      "metadata": {
        "colab": {
          "base_uri": "https://localhost:8080/"
        },
        "id": "D_lsoHI2usxU",
        "outputId": "b56d0c35-89b0-4cf0-df8a-4c6e49ca88c8"
      },
      "execution_count": null,
      "outputs": [
        {
          "output_type": "execute_result",
          "data": {
            "text/plain": [
              "1"
            ]
          },
          "metadata": {},
          "execution_count": 3
        }
      ]
    }
  ]
}