{
  "nbformat": 4,
  "nbformat_minor": 0,
  "metadata": {
    "colab": {
      "name": "Number Of Binary Tree Topologies (Very Hard).ipynb",
      "provenance": [],
      "authorship_tag": "ABX9TyM23C8skqhRkDfoIPVJcQWy",
      "include_colab_link": true
    },
    "kernelspec": {
      "name": "python3",
      "display_name": "Python 3"
    },
    "language_info": {
      "name": "python"
    }
  },
  "cells": [
    {
      "cell_type": "markdown",
      "metadata": {
        "id": "view-in-github",
        "colab_type": "text"
      },
      "source": [
        "<a href=\"https://colab.research.google.com/github/wisarootl/leetcode/blob/main/Number_Of_Binary_Tree_Topologies_(Very_Hard).ipynb\" target=\"_parent\"><img src=\"https://colab.research.google.com/assets/colab-badge.svg\" alt=\"Open In Colab\"/></a>"
      ]
    },
    {
      "cell_type": "markdown",
      "source": [
        "# Number Of Binary Tree Topologies"
      ],
      "metadata": {
        "id": "xiFs1BLxkqkE"
      }
    },
    {
      "cell_type": "markdown",
      "source": [
        "Write a function that takes in a non-negative integer `n` and returns the number of possible Binary Tree topologies that can be created with exactly n nodes.\n",
        "\n",
        "A Binary Tree topology is defined as any Binary Tree configuration, irrespective of node values. For instance, there exist only two Binary Tree topologies when `n` is equal to `2`: a root node with a left node, and a root node with a right node.\n",
        "\n",
        "Note that when `n` is equal to `0`, there's one topology that can be created: the `None` / `null` node."
      ],
      "metadata": {
        "id": "EUFwYox5kuMl"
      }
    },
    {
      "cell_type": "markdown",
      "source": [
        "Sample Input\n",
        "\n",
        "```\n",
        "n = 3\n",
        "```\n",
        "\n"
      ],
      "metadata": {
        "id": "zuQogGBakzUs"
      }
    },
    {
      "cell_type": "markdown",
      "source": [
        "Sample Output\n",
        "\n",
        "```\n",
        "5\n",
        "```\n",
        "\n"
      ],
      "metadata": {
        "id": "erTgIzQik1po"
      }
    },
    {
      "cell_type": "markdown",
      "source": [
        "# Solution 1 : recursive"
      ],
      "metadata": {
        "id": "rdv5jfh5knwA"
      }
    },
    {
      "cell_type": "code",
      "execution_count": null,
      "metadata": {
        "id": "rEFFsATZkbS9"
      },
      "outputs": [],
      "source": [
        "# Time O(n^2)\n",
        "# Space O(n)\n",
        "def numberOfBinaryTreeTopologies(n, cache = {0: 1}):\n",
        "\tif n in cache:\n",
        "\t\treturn cache[n]\n",
        "\tnumber_of_tree = 0\n",
        "\tfor left_tree_size in range(n):\n",
        "\t\tright_tree_size = n - left_tree_size - 1\n",
        "\t\tnumber_of_left_tree = numberOfBinaryTreeTopologies(left_tree_size, cache)\n",
        "\t\tnumber_of_right_tree = numberOfBinaryTreeTopologies(right_tree_size, cache)\n",
        "\t\tnumber_of_tree += number_of_left_tree * number_of_right_tree\n",
        "\tcache[n] = number_of_tree\n",
        "\treturn number_of_tree"
      ]
    },
    {
      "cell_type": "code",
      "source": [
        "numberOfBinaryTreeTopologies(5)"
      ],
      "metadata": {
        "colab": {
          "base_uri": "https://localhost:8080/"
        },
        "id": "i28swG1ukfK_",
        "outputId": "9fe083a6-ddb0-4943-bc49-95ae505c2a9d"
      },
      "execution_count": null,
      "outputs": [
        {
          "output_type": "execute_result",
          "data": {
            "text/plain": [
              "42"
            ]
          },
          "metadata": {},
          "execution_count": 2
        }
      ]
    },
    {
      "cell_type": "markdown",
      "source": [
        "# Solution 2 : iterative (bottom up)"
      ],
      "metadata": {
        "id": "clw2mb2Xp1YM"
      }
    },
    {
      "cell_type": "code",
      "source": [
        "# Time O(n^2)\n",
        "# Space O(n)\n",
        "def numberOfBinaryTreeTopologies(n):\n",
        "\tcache = [1]\n",
        "\tfor m in range(1, n+1):\n",
        "\t\tnumber_of_tree = 0\n",
        "\t\tfor left_tree_size in range(m):\n",
        "\t\t\tright_tree_size = m - left_tree_size - 1\n",
        "\t\t\tnumber_of_left_tree = cache[left_tree_size]\n",
        "\t\t\tnumber_of_right_tree = cache[right_tree_size]\n",
        "\t\t\tnumber_of_tree += number_of_left_tree * number_of_right_tree\n",
        "\t\tcache.append(number_of_tree)\n",
        "\treturn cache[n]"
      ],
      "metadata": {
        "id": "MUeQ5035p5zJ"
      },
      "execution_count": null,
      "outputs": []
    },
    {
      "cell_type": "code",
      "source": [
        "numberOfBinaryTreeTopologies(5)"
      ],
      "metadata": {
        "colab": {
          "base_uri": "https://localhost:8080/"
        },
        "id": "aB1_azAvp62Q",
        "outputId": "17f315a0-7624-48b1-bd2a-813665d8214e"
      },
      "execution_count": null,
      "outputs": [
        {
          "output_type": "execute_result",
          "data": {
            "text/plain": [
              "42"
            ]
          },
          "metadata": {},
          "execution_count": 4
        }
      ]
    }
  ]
}