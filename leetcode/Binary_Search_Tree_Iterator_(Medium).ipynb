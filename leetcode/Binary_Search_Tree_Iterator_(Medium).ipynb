{
  "cells": [
    {
      "cell_type": "markdown",
      "metadata": {
        "colab_type": "text",
        "id": "view-in-github"
      },
      "source": [
        "<a href=\"https://colab.research.google.com/github/wisarootl/leetcode/blob/main/Binary_Search_Tree_Iterator_(Medium).ipynb\" target=\"_parent\"><img src=\"https://colab.research.google.com/assets/colab-badge.svg\" alt=\"Open In Colab\"/></a>"
      ]
    },
    {
      "cell_type": "markdown",
      "metadata": {
        "id": "KF72LDcXd4Fr"
      },
      "source": [
        "# Binary Search Tree Iterator"
      ]
    },
    {
      "cell_type": "markdown",
      "metadata": {
        "id": "D3csWd-GeEwO"
      },
      "source": [
        "Implement the BSTIterator class that represents an iterator over the in-order traversal of a binary search tree (BST):\n",
        "\n",
        "- BSTIterator(TreeNode root) Initializes an object of the BSTIterator class. The root of the BST is given as part of the constructor. The pointer should be initialized to a non-existent number smaller than any element in the BST.\n",
        "- boolean hasNext() Returns true if there exists a number in the traversal to the right of the pointer, otherwise returns false.\n",
        "- int next() Moves the pointer to the right, then returns the number at the pointer.\n",
        "\n",
        "Notice that by initializing the pointer to a non-existent smallest number, the first call to next() will return the smallest element in the BST.\n",
        "\n",
        "You may assume that next() calls will always be valid. That is, there will be at least a next number in the in-order traversal when next() is called."
      ]
    },
    {
      "cell_type": "markdown",
      "metadata": {
        "id": "jNmVkhd4eJSF"
      },
      "source": [
        "Example 1:\n",
        "\n",
        "\n",
        "\n",
        "```\n",
        "  7\n",
        " / \\\n",
        "3   15\n",
        "   /  \\\n",
        "  9   20\n",
        "```\n",
        "\n",
        "\n",
        "\n",
        "```\n",
        "Input\n",
        "[\"BSTIterator\", \"next\", \"next\", \"hasNext\", \"next\", \"hasNext\", \"next\", \"hasNext\", \"next\", \"hasNext\"]\n",
        "[[[7, 3, 15, null, null, 9, 20]], [], [], [], [], [], [], [], [], []]\n",
        "Output\n",
        "[null, 3, 7, true, 9, true, 15, true, 20, false]\n",
        "\n",
        "Explanation\n",
        "BSTIterator bSTIterator = new BSTIterator([7, 3, 15, null, null, 9, 20]);\n",
        "bSTIterator.next();    // return 3\n",
        "bSTIterator.next();    // return 7\n",
        "bSTIterator.hasNext(); // return True\n",
        "bSTIterator.next();    // return 9\n",
        "bSTIterator.hasNext(); // return True\n",
        "bSTIterator.next();    // return 15\n",
        "bSTIterator.hasNext(); // return True\n",
        "bSTIterator.next();    // return 20\n",
        "bSTIterator.hasNext(); // return False\n",
        "```\n",
        "\n"
      ]
    },
    {
      "cell_type": "markdown",
      "metadata": {
        "id": "qIb_fx-feYat"
      },
      "source": [
        "Constraints:\n",
        "\n",
        "```\n",
        "The number of nodes in the tree is in the range [1, 105].\n",
        "0 <= Node.val <= 106\n",
        "At most 105 calls will be made to hasNext, and next.\n",
        "```\n",
        "\n"
      ]
    },
    {
      "cell_type": "code",
      "execution_count": 3,
      "metadata": {
        "id": "lCBWIB57d2Yh"
      },
      "outputs": [],
      "source": [
        "# Definition for a binary tree node.\n",
        "class TreeNode:\n",
        "    def __init__(self, val=0, left=None, right=None):\n",
        "        self.val = val\n",
        "        self.left = left\n",
        "        self.right = right\n",
        "\n",
        "class BSTIterator:\n",
        "    \n",
        "    # Time O(N)\n",
        "    # Space O(N)\n",
        "    def __init__(self, root):\n",
        "        self.inorder_array = []\n",
        "        self.index = -1\n",
        "        self._inorder(root)\n",
        "\n",
        "    def _inorder(self, root):\n",
        "        if not root:\n",
        "            return\n",
        "        self._inorder(root.left)\n",
        "        self.inorder_array.append(root.val)\n",
        "        self._inorder(root.right)\n",
        "        \n",
        "    \n",
        "    # Time O(1)\n",
        "    # Space O(1)\n",
        "    def next(self) -> int:\n",
        "        \"\"\"\n",
        "        @return the next smallest number\n",
        "        \"\"\"\n",
        "        self.index += 1\n",
        "        return self.inorder_array[self.index]\n",
        "        \n",
        "    # Time = O(1)\n",
        "    # Space = O(1)\n",
        "    def hasNext(self) -> bool:\n",
        "        return self.index < len(self.inorder_array) - 1\n",
        "        \n",
        "\n",
        "\n",
        "# Your BSTIterator object will be instantiated and called as such:\n",
        "# obj = BSTIterator(root)\n",
        "# param_1 = obj.next()\n",
        "# param_2 = obj.hasNext()"
      ]
    },
    {
      "cell_type": "code",
      "execution_count": 4,
      "metadata": {
        "colab": {
          "base_uri": "https://localhost:8080/"
        },
        "id": "2DhvWd-ZeiIA",
        "outputId": "b9e7ee5e-47a9-4dea-cc94-2789ac3d63c8"
      },
      "outputs": [
        {
          "name": "stdout",
          "output_type": "stream",
          "text": [
            "3\n",
            "7\n",
            "True\n",
            "9\n",
            "True\n",
            "15\n",
            "True\n",
            "20\n",
            "False\n"
          ]
        }
      ],
      "source": [
        "root = TreeNode(7)\n",
        "root.left = TreeNode(3)\n",
        "root.right = TreeNode(15)\n",
        "root.right.left = TreeNode(9)\n",
        "root.right.right = TreeNode(20)\n",
        "\n",
        "bst_iterator = BSTIterator(root)\n",
        "print(bst_iterator.next())\n",
        "print(bst_iterator.next())\n",
        "print(bst_iterator.hasNext())\n",
        "print(bst_iterator.next())\n",
        "print(bst_iterator.hasNext())\n",
        "print(bst_iterator.next())\n",
        "print(bst_iterator.hasNext())\n",
        "print(bst_iterator.next())\n",
        "print(bst_iterator.hasNext())"
      ]
    }
  ],
  "metadata": {
    "colab": {
      "authorship_tag": "ABX9TyNlqCDCAbRKHDIMtmGCIlJU",
      "include_colab_link": true,
      "name": "Binary Search Tree Iterator (Medium).ipynb",
      "provenance": []
    },
    "kernelspec": {
      "display_name": "Python 3.10.5 64-bit ('3.10.5')",
      "language": "python",
      "name": "python3"
    },
    "language_info": {
      "codemirror_mode": {
        "name": "ipython",
        "version": 3
      },
      "file_extension": ".py",
      "mimetype": "text/x-python",
      "name": "python",
      "nbconvert_exporter": "python",
      "pygments_lexer": "ipython3",
      "version": "3.10.5"
    },
    "vscode": {
      "interpreter": {
        "hash": "992441bd4bc11ab83c63537935ea198062f55180155eaba570b8d7c82e005e8c"
      }
    }
  },
  "nbformat": 4,
  "nbformat_minor": 0
}
