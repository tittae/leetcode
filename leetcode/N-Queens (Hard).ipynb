{
 "cells": [
  {
   "cell_type": "markdown",
   "metadata": {},
   "source": [
    "# N-Queens"
   ]
  },
  {
   "cell_type": "markdown",
   "metadata": {},
   "source": [
    "The n-queens puzzle is the problem of placing n queens on an n x n chessboard such that no two queens attack each other.\n",
    "\n",
    "Given an integer n, return all distinct solutions to the n-queens puzzle. You may return the answer in any order.\n",
    "\n",
    "Each solution contains a distinct board configuration of the n-queens' placement, where 'Q' and '.' both indicate a queen and an empty space, respectively."
   ]
  },
  {
   "cell_type": "markdown",
   "metadata": {},
   "source": [
    "Example 1:\n",
    "\n",
    "```\n",
    "+--+--+--+--+   +--+--+--+--+ \n",
    "|  |Q |  |  |   |  |  |Q |  |\n",
    "+--+--+--+--+   +--+--+--+--+ \n",
    "|  |  |  |Q |   |Q |  |  |  |\n",
    "+--+--+--+--+   +--+--+--+--+ \n",
    "|Q |  |  |  |   |  |  |  |Q |\n",
    "+--+--+--+--+   +--+--+--+--+ \n",
    "|  |  |Q |  |   |  |Q |  |  |\n",
    "+--+--+--+--+   +--+--+--+--+ \n",
    "```\n",
    "```\n",
    "Input: n = 4\n",
    "Output: [[\".Q..\",\"...Q\",\"Q...\",\"..Q.\"],[\"..Q.\",\"Q...\",\"...Q\",\".Q..\"]]\n",
    "Explanation: There exist two distinct solutions to the 4-queens puzzle as shown above\n",
    "```\n",
    "\n"
   ]
  },
  {
   "cell_type": "markdown",
   "metadata": {},
   "source": [
    "Example 2:\n",
    "```\n",
    "Input: n = 1\n",
    "Output: [[\"Q\"]]\n",
    "```"
   ]
  },
  {
   "cell_type": "markdown",
   "metadata": {},
   "source": [
    "Constraints:\n",
    "```\n",
    "1 <= n <= 9\n",
    "```"
   ]
  },
  {
   "cell_type": "code",
   "execution_count": 1,
   "metadata": {},
   "outputs": [],
   "source": [
    "class Solution:\n",
    "    # Time = O(n!)\n",
    "    # Space = O(n^2)\n",
    "    def solveNQueens(self, n: int) -> list[list[str]]:\n",
    "        # Making use of a helper function to get the\n",
    "        # solutions in the correct output format\n",
    "        def create_board(state):\n",
    "            board = []\n",
    "            for row in state:\n",
    "                board.append(\"\".join(row))\n",
    "            return board\n",
    "        \n",
    "        def backtrack(row, diagonals, anti_diagonals, cols, state):\n",
    "            # Base case - N queens have been placed\n",
    "            if row == n:\n",
    "                ans.append(create_board(state))\n",
    "                return\n",
    "\n",
    "            for col in range(n):\n",
    "                curr_diagonal = row - col\n",
    "                curr_anti_diagonal = row + col\n",
    "                # If the queen is not placeable\n",
    "                if (col in cols \n",
    "                      or curr_diagonal in diagonals \n",
    "                      or curr_anti_diagonal in anti_diagonals):\n",
    "                    continue\n",
    "\n",
    "                # \"Add\" the queen to the board\n",
    "                cols.add(col)\n",
    "                diagonals.add(curr_diagonal)\n",
    "                anti_diagonals.add(curr_anti_diagonal)\n",
    "                state[row][col] = \"Q\"\n",
    "\n",
    "                # Move on to the next row with the updated board state\n",
    "                backtrack(row + 1, diagonals, anti_diagonals, cols, state)\n",
    "\n",
    "                # \"Remove\" the queen from the board since we have already\n",
    "                # explored all valid paths using the above function call\n",
    "                cols.remove(col)\n",
    "                diagonals.remove(curr_diagonal)\n",
    "                anti_diagonals.remove(curr_anti_diagonal)\n",
    "                state[row][col] = \".\"\n",
    "\n",
    "        ans = []\n",
    "        empty_board = [[\".\"] * n for _ in range(n)]\n",
    "        backtrack(0, set(), set(), set(), empty_board)\n",
    "        return ans"
   ]
  },
  {
   "cell_type": "code",
   "execution_count": 2,
   "metadata": {},
   "outputs": [
    {
     "name": "stdout",
     "output_type": "stream",
     "text": [
      "[['.Q..', '...Q', 'Q...', '..Q.'], ['..Q.', 'Q...', '...Q', '.Q..']]\n"
     ]
    }
   ],
   "source": [
    "n = 4\n",
    "expected = [[\".Q..\",\"...Q\",\"Q...\",\"..Q.\"],[\"..Q.\",\"Q...\",\"...Q\",\".Q..\"]]\n",
    "\n",
    "output = Solution().solveNQueens(n)\n",
    "print(output)\n",
    "assert output == expected"
   ]
  },
  {
   "cell_type": "code",
   "execution_count": 3,
   "metadata": {},
   "outputs": [
    {
     "name": "stdout",
     "output_type": "stream",
     "text": [
      "[['Q']]\n"
     ]
    }
   ],
   "source": [
    "n = 1\n",
    "expected = [[\"Q\"]]\n",
    "\n",
    "output = Solution().solveNQueens(n)\n",
    "print(output)\n",
    "assert output == expected"
   ]
  },
  {
   "cell_type": "code",
   "execution_count": 4,
   "metadata": {},
   "outputs": [
    {
     "name": "stdout",
     "output_type": "stream",
     "text": [
      "[]\n"
     ]
    }
   ],
   "source": [
    "n = 2\n",
    "expected = []\n",
    "\n",
    "output = Solution().solveNQueens(n)\n",
    "print(output)\n",
    "assert output == expected"
   ]
  }
 ],
 "metadata": {
  "interpreter": {
   "hash": "20ac7aad763b689ebdaff2f53a3073c7ed55a0f51860968fbf5603f714378c4e"
  },
  "kernelspec": {
   "display_name": "Python 3.10.4 64-bit",
   "language": "python",
   "name": "python3"
  },
  "language_info": {
   "codemirror_mode": {
    "name": "ipython",
    "version": 3
   },
   "file_extension": ".py",
   "mimetype": "text/x-python",
   "name": "python",
   "nbconvert_exporter": "python",
   "pygments_lexer": "ipython3",
   "version": "3.10.4"
  },
  "orig_nbformat": 4
 },
 "nbformat": 4,
 "nbformat_minor": 2
}
