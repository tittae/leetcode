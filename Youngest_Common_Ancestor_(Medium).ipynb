{
  "nbformat": 4,
  "nbformat_minor": 0,
  "metadata": {
    "colab": {
      "name": "Youngest Common Ancestor (Medium).ipynb",
      "provenance": [],
      "authorship_tag": "ABX9TyP6YGEYwV8i636czdB7qLOD",
      "include_colab_link": true
    },
    "kernelspec": {
      "name": "python3",
      "display_name": "Python 3"
    },
    "language_info": {
      "name": "python"
    }
  },
  "cells": [
    {
      "cell_type": "markdown",
      "metadata": {
        "id": "view-in-github",
        "colab_type": "text"
      },
      "source": [
        "<a href=\"https://colab.research.google.com/github/wisarootl/leetcode/blob/main/Youngest_Common_Ancestor_(Medium).ipynb\" target=\"_parent\"><img src=\"https://colab.research.google.com/assets/colab-badge.svg\" alt=\"Open In Colab\"/></a>"
      ]
    },
    {
      "cell_type": "markdown",
      "source": [
        "# Youngest Common Ancestor"
      ],
      "metadata": {
        "id": "8JjpRYIZ4Brt"
      }
    },
    {
      "cell_type": "markdown",
      "source": [
        "You're given three inputs, all of which are instances of an `AncestralTree` class that have an `ancestor` property pointing to their youngest `ancestor`. The first input is the top ancestor in an ancestral tree (i.e., the only instance that has no ancestor--its ancestor property points to `None` / `null`), and the other two inputs are descendants in the ancestral tree.\n",
        "\n",
        "Write a function that returns the youngest common ancestor to the two descendants.\n",
        "\n",
        "Note that a descendant is considered its own ancestor. So in the simple ancestral tree below, the youngest common ancestor to nodes A and B is node A."
      ],
      "metadata": {
        "id": "j-Kcu2ec_tqO"
      }
    },
    {
      "cell_type": "markdown",
      "source": [
        "\n",
        "\n",
        "```\n",
        "// The youngest common ancestor to nodes A and B is node A.\n",
        "  A\n",
        " /\n",
        "B\n",
        "```\n",
        "\n"
      ],
      "metadata": {
        "id": "BZvFcQC__1k-"
      }
    },
    {
      "cell_type": "markdown",
      "source": [
        "Sample Input\n",
        "\n",
        "```\n",
        "// The nodes are from the ancestral tree below.\n",
        "topAncestor = node A\n",
        "descendantOne = node E\n",
        "descendantTwo = node I\n",
        "          A\n",
        "       /     \\\n",
        "      B       C\n",
        "    /   \\   /   \\\n",
        "   D     E F     G\n",
        " /   \\\n",
        "H     I\n",
        "```\n",
        "\n"
      ],
      "metadata": {
        "id": "RrpKnUyU_35F"
      }
    },
    {
      "cell_type": "markdown",
      "source": [
        "Sample Output\n",
        "\n",
        "```\n",
        "node B\n",
        "```\n",
        "\n"
      ],
      "metadata": {
        "id": "aqrqJM3w_6m9"
      }
    },
    {
      "cell_type": "markdown",
      "source": [
        "# Solution 1: track path of both descendant to top ancestor"
      ],
      "metadata": {
        "id": "55aFZ_2PALtM"
      }
    },
    {
      "cell_type": "code",
      "execution_count": 1,
      "metadata": {
        "id": "k1JVqLSO3958"
      },
      "outputs": [],
      "source": [
        "# This is an input class. Do not edit.\n",
        "class AncestralTree:\n",
        "\tdef __init__(self, name):\n",
        "\t\tself.name = name\n",
        "\t\tself.ancestor = None\n",
        "\n",
        "# Time O(d)\n",
        "# Space O(d)\n",
        "def getYoungestCommonAncestor(topAncestor, descendantOne, descendantTwo):\n",
        "\tdescendantOne_branch = traverse_to_root(descendantOne)\n",
        "\tdescendantTwo_branch = traverse_to_root(descendantTwo)\n",
        "\tpointer1 = len(descendantOne_branch) - 1\n",
        "\tpointer2 = len(descendantTwo_branch) - 1\n",
        "\twhile descendantOne_branch[pointer1] == descendantTwo_branch[pointer2]:\n",
        "\t\tpointer1 -= 1\n",
        "\t\tpointer2 -= 1\n",
        "\treturn descendantOne_branch[pointer1 + 1]\n",
        "\n",
        "def traverse_to_root(descendantOne):\n",
        "\tnode = descendantOne\n",
        "\tbranch = []\n",
        "\twhile node != None:\n",
        "\t\tbranch.append(node)\n",
        "\t\tnode = node.ancestor\n",
        "\treturn branch"
      ]
    },
    {
      "cell_type": "code",
      "source": [
        "node = {}\n",
        "node_list = ['A', 'B', 'C', 'D', 'E', 'F', 'G', 'H', 'I']\n",
        "for i in node_list:\n",
        "  node[i] = AncestralTree(i)\n",
        "\n",
        "node['G'].ancestor = node['C']\n",
        "node['F'].ancestor = node['C']\n",
        "node['C'].ancestor = node['A']\n",
        "node['I'].ancestor = node['D']\n",
        "node['H'].ancestor = node['D']\n",
        "node['D'].ancestor = node['B']\n",
        "node['E'].ancestor = node['B']\n",
        "node['B'].ancestor = node['A']\n",
        "\n",
        "topAncestor = node['A']\n",
        "descendantOne = node['E']\n",
        "descendantTwo = node['I']"
      ],
      "metadata": {
        "id": "5gf_6-nL4vv2"
      },
      "execution_count": 2,
      "outputs": []
    },
    {
      "cell_type": "code",
      "source": [
        "result = getYoungestCommonAncestor(topAncestor, descendantOne, descendantTwo)\n",
        "result.name"
      ],
      "metadata": {
        "colab": {
          "base_uri": "https://localhost:8080/",
          "height": 35
        },
        "id": "C6VkvIbd6DSV",
        "outputId": "4cc45c4d-97f7-4f2c-c88f-d091ec7f3cb5"
      },
      "execution_count": 3,
      "outputs": [
        {
          "output_type": "execute_result",
          "data": {
            "application/vnd.google.colaboratory.intrinsic+json": {
              "type": "string"
            },
            "text/plain": [
              "'B'"
            ]
          },
          "metadata": {},
          "execution_count": 3
        }
      ]
    },
    {
      "cell_type": "markdown",
      "source": [
        "# Solution 2: move both descendant to the same level"
      ],
      "metadata": {
        "id": "ikSJDvb8AEfh"
      }
    },
    {
      "cell_type": "code",
      "source": [
        "# This is an input class. Do not edit.\n",
        "class AncestralTree:\n",
        "\tdef __init__(self, name):\n",
        "\t\tself.name = name\n",
        "\t\tself.ancestor = None\n",
        "\n",
        "# Time O(d)\n",
        "# Space O(1)\n",
        "def getYoungestCommonAncestor(topAncestor, descendantOne, descendantTwo):\n",
        "\tdescendantOne_depth = count_depth(descendantOne)\n",
        "\tdescendantTwo_depth = count_depth(descendantTwo)\n",
        "\tdepth = min(descendantOne_depth, descendantTwo_depth)\n",
        "\tdescendantOne = traverse_up_to_depth(descendantOne, depth, descendantOne_depth)\n",
        "\tdescendantTwo = traverse_up_to_depth(descendantTwo, depth, descendantTwo_depth)\n",
        "\tyoungest_common_ancestor = traverse_up_to_common_ancestor(descendantOne, descendantTwo)\n",
        "\treturn youngest_common_ancestor\n",
        "\n",
        "def traverse_up_to_common_ancestor(descendantOne, descendantTwo):\n",
        "\twhile descendantOne != descendantTwo:\n",
        "\t\tdescendantOne = descendantOne.ancestor\n",
        "\t\tdescendantTwo = descendantTwo.ancestor\n",
        "\treturn descendantOne\n",
        "\n",
        "def traverse_up_to_depth(descendant, target_depth, current_depth):\n",
        "\twhile current_depth > target_depth:\n",
        "\t\tdescendant = descendant.ancestor\n",
        "\t\tcurrent_depth -= 1\n",
        "\treturn descendant\n",
        "\n",
        "def count_depth(descendant):\n",
        "\tdepth = 0\n",
        "\tnode = descendant\n",
        "\twhile node != None:\n",
        "\t\tdepth += 1\n",
        "\t\tnode = node.ancestor\n",
        "\treturn depth - 1"
      ],
      "metadata": {
        "id": "-XZOHMWZ-G0I"
      },
      "execution_count": 4,
      "outputs": []
    },
    {
      "cell_type": "code",
      "source": [
        "node = {}\n",
        "node_list = ['A', 'B', 'C', 'D', 'E', 'F', 'G', 'H', 'I']\n",
        "for i in node_list:\n",
        "  node[i] = AncestralTree(i)\n",
        "\n",
        "node['G'].ancestor = node['C']\n",
        "node['F'].ancestor = node['C']\n",
        "node['C'].ancestor = node['A']\n",
        "node['I'].ancestor = node['D']\n",
        "node['H'].ancestor = node['D']\n",
        "node['D'].ancestor = node['B']\n",
        "node['E'].ancestor = node['B']\n",
        "node['B'].ancestor = node['A']\n",
        "\n",
        "topAncestor = node['A']\n",
        "descendantOne = node['E']\n",
        "descendantTwo = node['I']"
      ],
      "metadata": {
        "id": "CMDCTIvnACHA"
      },
      "execution_count": 5,
      "outputs": []
    },
    {
      "cell_type": "code",
      "source": [
        "result = getYoungestCommonAncestor(topAncestor, descendantOne, descendantTwo)\n",
        "result.name"
      ],
      "metadata": {
        "colab": {
          "base_uri": "https://localhost:8080/",
          "height": 35
        },
        "id": "7_8uv_V3ADrT",
        "outputId": "854a5409-982c-4c11-9a7e-7db4b33dfd17"
      },
      "execution_count": 6,
      "outputs": [
        {
          "output_type": "execute_result",
          "data": {
            "application/vnd.google.colaboratory.intrinsic+json": {
              "type": "string"
            },
            "text/plain": [
              "'B'"
            ]
          },
          "metadata": {},
          "execution_count": 6
        }
      ]
    }
  ]
}