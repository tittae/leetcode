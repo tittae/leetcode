{
  "cells": [
    {
      "cell_type": "markdown",
      "metadata": {
        "colab_type": "text",
        "id": "view-in-github"
      },
      "source": [
        "<a href=\"https://colab.research.google.com/github/wisarootl/leetcode/blob/main/Broken_Calculator_(Medium).ipynb\" target=\"_parent\"><img src=\"https://colab.research.google.com/assets/colab-badge.svg\" alt=\"Open In Colab\"/></a>"
      ]
    },
    {
      "cell_type": "markdown",
      "metadata": {
        "id": "QlKoWxcAVxjM"
      },
      "source": [
        "# Broken Calculator"
      ]
    },
    {
      "cell_type": "markdown",
      "metadata": {
        "id": "iUvfZ-e0Vt0z"
      },
      "source": [
        "There is a broken calculator that has the integer startValue on its display initially. In one operation, you can:\n",
        "\n",
        "- multiply the number on display by 2, or\n",
        "- subtract 1 from the number on display.\n",
        "\n",
        "Given two integers startValue and target, return the minimum number of operations needed to display target on the calculator."
      ]
    },
    {
      "cell_type": "markdown",
      "metadata": {
        "id": "2r-_DP_bV3Zy"
      },
      "source": [
        "Example 1:\n",
        "\n",
        "```\n",
        "Input: startValue = 2, target = 3\n",
        "Output: 2\n",
        "Explanation: Use double operation and then decrement operation {2 -> 4 -> 3}.\n",
        "```\n",
        "\n"
      ]
    },
    {
      "cell_type": "markdown",
      "metadata": {
        "id": "WfHqQTFjV5HE"
      },
      "source": [
        "Example 2:\n",
        "\n",
        "```\n",
        "Input: startValue = 5, target = 8\n",
        "Output: 2\n",
        "Explanation: Use decrement and then double {5 -> 4 -> 8}.\n",
        "```\n",
        "\n"
      ]
    },
    {
      "cell_type": "markdown",
      "metadata": {
        "id": "r0-PwDH7V7cQ"
      },
      "source": [
        "Example 3:\n",
        "\n",
        "```\n",
        "Input: startValue = 3, target = 10\n",
        "Output: 3\n",
        "Explanation: Use double, decrement and double {3 -> 6 -> 5 -> 10}.\n",
        "```\n",
        "\n"
      ]
    },
    {
      "cell_type": "markdown",
      "metadata": {
        "id": "ljRk1d-GWE9X"
      },
      "source": [
        "Constraints:\n",
        "\n",
        "```\n",
        "1 <= x, y <= 109\n",
        "```\n",
        "\n"
      ]
    },
    {
      "cell_type": "markdown",
      "metadata": {
        "id": "IpNopFs_V-MK"
      },
      "source": [
        "# Solution"
      ]
    },
    {
      "cell_type": "markdown",
      "metadata": {
        "id": "nBIfOBJiV_xj"
      },
      "source": [
        "- operate backward"
      ]
    },
    {
      "cell_type": "code",
      "execution_count": 1,
      "metadata": {
        "id": "quCboU2LRjs5"
      },
      "outputs": [],
      "source": [
        "# Time = O(log(target))\n",
        "# Space = O(1)\n",
        "\n",
        "class Solution:\n",
        "    def brokenCalc(self, startValue: int, target: int) -> int:\n",
        "        value = target\n",
        "        count = 0\n",
        "        while startValue < value:\n",
        "            count += 1\n",
        "            if value % 2 == 1:\n",
        "                value += 1\n",
        "            else:\n",
        "                value //= 2\n",
        "        \n",
        "        return count + (startValue - value)"
      ]
    },
    {
      "cell_type": "code",
      "execution_count": 2,
      "metadata": {
        "colab": {
          "base_uri": "https://localhost:8080/"
        },
        "id": "2sE0wAbJWH-F",
        "outputId": "51e8ce2f-8117-4c4a-d885-77a916dcfbbf"
      },
      "outputs": [
        {
          "name": "stdout",
          "output_type": "stream",
          "text": [
            "2\n"
          ]
        }
      ],
      "source": [
        "startValue = 2\n",
        "target = 3\n",
        "expected = 2\n",
        "\n",
        "output = Solution().brokenCalc(startValue, target)\n",
        "print(output)\n",
        "assert output == expected"
      ]
    },
    {
      "cell_type": "code",
      "execution_count": 3,
      "metadata": {
        "colab": {
          "base_uri": "https://localhost:8080/"
        },
        "id": "6Ojgu_RyWa1K",
        "outputId": "17dfab07-d7bc-4597-b792-4386ae9332e7"
      },
      "outputs": [
        {
          "name": "stdout",
          "output_type": "stream",
          "text": [
            "2\n"
          ]
        }
      ],
      "source": [
        "startValue = 5\n",
        "target = 8\n",
        "expected = 2\n",
        "\n",
        "output = Solution().brokenCalc(startValue, target)\n",
        "print(output)\n",
        "assert output == expected"
      ]
    },
    {
      "cell_type": "code",
      "execution_count": 4,
      "metadata": {
        "colab": {
          "base_uri": "https://localhost:8080/"
        },
        "id": "79tlqBwcWftv",
        "outputId": "50946330-e42f-429d-d94c-3f9c803290fb"
      },
      "outputs": [
        {
          "name": "stdout",
          "output_type": "stream",
          "text": [
            "3\n"
          ]
        }
      ],
      "source": [
        "startValue = 3\n",
        "target = 10\n",
        "expected = 3\n",
        "\n",
        "output = Solution().brokenCalc(startValue, target)\n",
        "print(output)\n",
        "assert output == expected"
      ]
    }
  ],
  "metadata": {
    "colab": {
      "authorship_tag": "ABX9TyOvhxhwRzg0flzSbP+Q1fdb",
      "include_colab_link": true,
      "name": "Broken Calculator (Medium).ipynb",
      "provenance": []
    },
    "kernelspec": {
      "display_name": "Python 3.10.8 64-bit (microsoft store)",
      "language": "python",
      "name": "python3"
    },
    "language_info": {
      "codemirror_mode": {
        "name": "ipython",
        "version": 3
      },
      "file_extension": ".py",
      "mimetype": "text/x-python",
      "name": "python",
      "nbconvert_exporter": "python",
      "pygments_lexer": "ipython3",
      "version": "3.10.8"
    },
    "vscode": {
      "interpreter": {
        "hash": "3822405be9f5fb329f7270cbdcf73e762c62b3f383c5e71390a1a4648678c1cb"
      }
    }
  },
  "nbformat": 4,
  "nbformat_minor": 0
}
