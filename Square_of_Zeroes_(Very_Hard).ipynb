{
  "nbformat": 4,
  "nbformat_minor": 0,
  "metadata": {
    "colab": {
      "name": "Square of Zeroes (Very Hard).ipynb",
      "provenance": [],
      "collapsed_sections": [],
      "authorship_tag": "ABX9TyNFbGCgR/xkIczYEdUMGlO+",
      "include_colab_link": true
    },
    "kernelspec": {
      "name": "python3",
      "display_name": "Python 3"
    },
    "language_info": {
      "name": "python"
    }
  },
  "cells": [
    {
      "cell_type": "markdown",
      "metadata": {
        "id": "view-in-github",
        "colab_type": "text"
      },
      "source": [
        "<a href=\"https://colab.research.google.com/github/wisarootl/leetcode/blob/main/Square_of_Zeroes_(Very_Hard).ipynb\" target=\"_parent\"><img src=\"https://colab.research.google.com/assets/colab-badge.svg\" alt=\"Open In Colab\"/></a>"
      ]
    },
    {
      "cell_type": "code",
      "metadata": {
        "id": "sp6Is85X7AgK"
      },
      "source": [
        "def squareOfZeroes(matrix):\n",
        "  potential_square_from_valid_rows = set()\n",
        "  \n",
        "  # identify valid rows\n",
        "  # Time O(n^3)\n",
        "  # Space O(n^3)\n",
        "  for i in range(len(matrix)):\n",
        "    for j in range(i + 1, len(matrix)):\n",
        "      square_size = j - i + 1\n",
        "      for k in range(len(matrix[0]) - square_size + 1):\n",
        "        if matrix[i][k:k + square_size] == [0] * square_size and matrix[j][k:k + square_size] == [0] * square_size:\n",
        "          potential_square_from_valid_rows.add((i, j, k, k + square_size - 1))\n",
        "\n",
        "  # check valid col\n",
        "  # Time O(n^4)\n",
        "  for potential_square in potential_square_from_valid_rows:\n",
        "    row1 = potential_square[0]\n",
        "    row2 = potential_square[1]\n",
        "    col1 = potential_square[2]\n",
        "    col2 = potential_square[3]\n",
        "    for row in range(row1, row2 + 1):\n",
        "      if matrix[row][col1] == 0 and matrix[row][col2] == 0:\n",
        "        if row == row2:\n",
        "          return True\n",
        "      elif matrix[row][col1] != 0 or matrix[row][col2] != 0:\n",
        "        break\n",
        "  return False"
      ],
      "execution_count": null,
      "outputs": []
    },
    {
      "cell_type": "code",
      "metadata": {
        "colab": {
          "base_uri": "https://localhost:8080/"
        },
        "id": "MgbOhZ3n7Fjw",
        "outputId": "e0cd75bc-8de0-48ef-c8e8-7c717b8a1d08"
      },
      "source": [
        "matrix = [\n",
        "  [1, 1, 1, 0, 1, 0],\n",
        "  [0, 0, 0, 0, 0, 1],\n",
        "  [0, 1, 1, 1, 0, 1],\n",
        "  [0, 0, 0, 1, 0, 1],\n",
        "  [0, 1, 1, 1, 0, 1],\n",
        "  [0, 0, 0, 0, 0, 1],\n",
        "]\n",
        "print(squareOfZeroes(matrix))"
      ],
      "execution_count": null,
      "outputs": [
        {
          "output_type": "stream",
          "name": "stdout",
          "text": [
            "True\n"
          ]
        }
      ]
    },
    {
      "cell_type": "code",
      "metadata": {
        "colab": {
          "base_uri": "https://localhost:8080/"
        },
        "id": "oLZDFL-59bbO",
        "outputId": "9cbac41b-4c4b-43bd-b0ed-89593661b543"
      },
      "source": [
        "matrix = [\n",
        "    [1, 1, 1, 0, 1, 0],\n",
        "    [0, 0, 0, 0, 0, 1],\n",
        "    [0, 1, 1, 1, 0, 1],\n",
        "    [0, 0, 0, 1, 1, 1],\n",
        "    [0, 1, 1, 1, 0, 1],\n",
        "    [0, 0, 0, 0, 0, 1]\n",
        "  ]\n",
        "print(squareOfZeroes(matrix))"
      ],
      "execution_count": null,
      "outputs": [
        {
          "output_type": "stream",
          "name": "stdout",
          "text": [
            "False\n"
          ]
        }
      ]
    },
    {
      "cell_type": "markdown",
      "metadata": {
        "id": "0TZXlkQ9EwRX"
      },
      "source": [
        "## Solution 1"
      ]
    },
    {
      "cell_type": "markdown",
      "metadata": {
        "id": "ojQpmpI8FAqd"
      },
      "source": [
        "- iterate 3 nested loop to identify all square\n",
        "- each square iterate 2 series for loop O(n) to check all perimeter whert it is all 0 or not."
      ]
    },
    {
      "cell_type": "code",
      "metadata": {
        "id": "dtKRRueDEzl2"
      },
      "source": [
        "# Time O(n^4)\n",
        "# Space O(1)\n",
        "\n",
        "def squareOfZeroes(matrix):\n",
        "  n = len(matrix)\n",
        "  for row1 in range(n):\n",
        "    for col1 in range(n):\n",
        "      square_size = 2\n",
        "      while square_size <= n - col1 and square_size <= n - row1:\n",
        "        row2 = row1 + square_size - 1\n",
        "        col2 = col1 + square_size - 1\n",
        "        # time O(n)\n",
        "        if is_zeros_perimeter(matrix, row1, row2, col1, col2):\n",
        "          return True\n",
        "        square_size += 1\n",
        "  return False\n",
        "\n",
        "def is_zeros_perimeter(matrix, row1, row2, col1, col2):\n",
        "  for row in range(row1, row2 + 1):\n",
        "    if matrix[row][col1] != 0 or matrix[row][col2] != 0:\n",
        "      return False\n",
        "  for col in range(col1, col2 + 1):\n",
        "    if matrix[row1][col] != 0 or matrix[row2][col] != 0:\n",
        "      return False\n",
        "  return True"
      ],
      "execution_count": 1,
      "outputs": []
    },
    {
      "cell_type": "code",
      "metadata": {
        "colab": {
          "base_uri": "https://localhost:8080/"
        },
        "id": "j_2VLHEdE2Rw",
        "outputId": "b22faa81-6bbe-451e-e0e8-50d02d7f3412"
      },
      "source": [
        "matrix = [\n",
        "  [1, 1, 1, 0, 1, 0],\n",
        "  [0, 0, 0, 0, 0, 1],\n",
        "  [0, 1, 1, 1, 0, 1],\n",
        "  [0, 0, 0, 1, 0, 1],\n",
        "  [0, 1, 1, 1, 0, 1],\n",
        "  [0, 0, 0, 0, 0, 1],\n",
        "]\n",
        "print(squareOfZeroes(matrix))"
      ],
      "execution_count": 2,
      "outputs": [
        {
          "output_type": "stream",
          "name": "stdout",
          "text": [
            "True\n"
          ]
        }
      ]
    }
  ]
}