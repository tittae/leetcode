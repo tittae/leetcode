{
  "nbformat": 4,
  "nbformat_minor": 0,
  "metadata": {
    "colab": {
      "name": "Smallest Difference (Medium).ipynb",
      "provenance": [],
      "collapsed_sections": [],
      "authorship_tag": "ABX9TyNyhpu1Nb4tB2wfgfwvswoj",
      "include_colab_link": true
    },
    "kernelspec": {
      "name": "python3",
      "display_name": "Python 3"
    },
    "language_info": {
      "name": "python"
    }
  },
  "cells": [
    {
      "cell_type": "markdown",
      "metadata": {
        "id": "view-in-github",
        "colab_type": "text"
      },
      "source": [
        "<a href=\"https://colab.research.google.com/github/wisarootl/leetcode/blob/main/Smallest_Difference_(Medium).ipynb\" target=\"_parent\"><img src=\"https://colab.research.google.com/assets/colab-badge.svg\" alt=\"Open In Colab\"/></a>"
      ]
    },
    {
      "cell_type": "markdown",
      "metadata": {
        "id": "a5OsIu9mgcrr"
      },
      "source": [
        "# Smallest Difference"
      ]
    },
    {
      "cell_type": "markdown",
      "metadata": {
        "id": "Z4-endiAge65"
      },
      "source": [
        "Write a function that takes in two non-empty arrays of integers, finds the pair of numbers (one from each array) whose absolute difference is closest to zero, and returns an array containing these two numbers, with the number from the first array in the first position.\n",
        "\n",
        "Note that the absolute difference of two integers is the distance between them on the real number line. For example, the absolute difference of -5 and 5 is 10, and the absolute difference of -5 and -4 is 1.\n",
        "\n",
        "You can assume that there will only be one pair of numbers with the smallest difference."
      ]
    },
    {
      "cell_type": "markdown",
      "metadata": {
        "id": "a0s3DVzOgiSo"
      },
      "source": [
        "Sample Input\n",
        "\n",
        "```\n",
        "arrayOne = [-1, 5, 10, 20, 28, 3]\n",
        "arrayTwo = [26, 134, 135, 15, 17]\n",
        "```\n",
        "\n"
      ]
    },
    {
      "cell_type": "markdown",
      "metadata": {
        "id": "2LOEQOXEgkRL"
      },
      "source": [
        "Sample Output\n",
        "\n",
        "```\n",
        "[28, 26]\n",
        "```\n",
        "\n"
      ]
    },
    {
      "cell_type": "code",
      "metadata": {
        "id": "jf0EyPRIgahT"
      },
      "source": [
        "# Time O(nlogn + mlogm)\n",
        "# Space O(1)\n",
        "\n",
        "def smallestDifference(arrayOne, arrayTwo):\n",
        "\tarrayOne.sort()\n",
        "\tarrayTwo.sort()\n",
        "\tsmallest_diff = float('inf')\n",
        "\ti = 0\n",
        "\tj = 0\n",
        "\twhile i < len(arrayOne) and j < len(arrayTwo):\n",
        "\t\tdiff = arrayOne[i] - arrayTwo[j]\n",
        "\n",
        "\t\tif abs(diff) < smallest_diff:\n",
        "\t\t\tpair = [arrayOne[i], arrayTwo[j]]\n",
        "\t\t\tsmallest_diff = abs(diff)\n",
        "\n",
        "\t\tif diff > 0:\n",
        "\t\t\tj += 1\n",
        "\t\telif diff < 0:\n",
        "\t\t\ti += 1\n",
        "\t\telse: # diff == 0\n",
        "\t\t\tpair = [arrayOne[i], arrayTwo[j]]\n",
        "\t\t\tbreak\n",
        "\t\n",
        "\treturn pair"
      ],
      "execution_count": null,
      "outputs": []
    },
    {
      "cell_type": "code",
      "metadata": {
        "id": "Wkr4V7NHok8h"
      },
      "source": [
        "arrayOne = [-1, 5, 10, 20, 28, 3]\n",
        "arrayTwo = [26, 134, 135, 15, 17]"
      ],
      "execution_count": null,
      "outputs": []
    },
    {
      "cell_type": "code",
      "metadata": {
        "colab": {
          "base_uri": "https://localhost:8080/"
        },
        "id": "7zNcYqDJomEJ",
        "outputId": "86afcde5-073a-490d-a069-0f71cdfbca45"
      },
      "source": [
        "print(smallestDifference(arrayOne, arrayTwo))"
      ],
      "execution_count": null,
      "outputs": [
        {
          "output_type": "stream",
          "name": "stdout",
          "text": [
            "[28, 26]\n"
          ]
        }
      ]
    }
  ]
}