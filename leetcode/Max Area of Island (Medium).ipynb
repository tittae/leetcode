{
 "cells": [
  {
   "cell_type": "markdown",
   "metadata": {},
   "source": [
    "# Max Area of Island"
   ]
  },
  {
   "cell_type": "markdown",
   "metadata": {},
   "source": [
    "You are given an `m x n` binary matrix `grid`. An island is a group of 1's (representing land) connected 4-directionally (horizontal or vertical.) You may assume all four edges of the grid are surrounded by water.\n",
    "\n",
    "The area of an island is the number of cells with a value `1` in the island.\n",
    "\n",
    "Return the maximum area of an island in `grid`. If there is no island, return `0`."
   ]
  },
  {
   "cell_type": "markdown",
   "metadata": {},
   "source": [
    "Example 1:\n",
    "\n",
    "```\n",
    "grid = [[_,_,_,_,_,_,_,_,_,_,_,_,_],\n",
    "        [_,_,_,_,_,_,_,_,_,_,_,_,_],\n",
    "        [_,_,_,_,_,_,_,_,_,_,_,_,_],\n",
    "        [_,_,_,_,_,_,_,_,1,_,1,_,_],\n",
    "        [_,_,_,_,_,_,_,_,1,1,1,_,_],\n",
    "        [_,_,_,_,_,_,_,_,_,_,1,_,_],\n",
    "        [_,_,_,_,_,_,_,_,_,_,_,_,_],\n",
    "        [_,_,_,_,_,_,_,_,_,_,_,_,_]]\n",
    "```\n",
    "\n",
    "```\n",
    "Input: grid = [[0,0,1,0,0,0,0,1,0,0,0,0,0],\n",
    "               [0,0,0,0,0,0,0,1,1,1,0,0,0],\n",
    "               [0,1,1,0,1,0,0,0,0,0,0,0,0],\n",
    "               [0,1,0,0,1,1,0,0,1,0,1,0,0],\n",
    "               [0,1,0,0,1,1,0,0,1,1,1,0,0],\n",
    "               [0,0,0,0,0,0,0,0,0,0,1,0,0],\n",
    "               [0,0,0,0,0,0,0,1,1,1,0,0,0],\n",
    "               [0,0,0,0,0,0,0,1,1,0,0,0,0]]\n",
    "\n",
    "Output: 6\n",
    "Explanation: The answer is not 11, because the island must be connected 4-directionally.\n",
    "```"
   ]
  },
  {
   "cell_type": "markdown",
   "metadata": {},
   "source": [
    "Example 2:\n",
    "\n",
    "```\n",
    "Input: grid = [[0,0,0,0,0,0,0,0]]\n",
    "Output: 0\n",
    "```"
   ]
  },
  {
   "cell_type": "markdown",
   "metadata": {},
   "source": [
    "Constraints:\n",
    "\n",
    "```\n",
    "m == grid.length\n",
    "n == grid[i].length\n",
    "1 <= m, n <= 50\n",
    "grid[i][j] is either 0 or 1.\n",
    "```"
   ]
  },
  {
   "cell_type": "code",
   "execution_count": 1,
   "metadata": {},
   "outputs": [],
   "source": [
    "class Solution:\n",
    "    def maxAreaOfIsland(self, grid) -> int:\n",
    "        seen = set()\n",
    "        def area(r, c):\n",
    "            if not (0 <= r < len(grid) and 0 <= c < len(grid[0])\n",
    "                    and (r, c) not in seen and grid[r][c]):\n",
    "                return 0\n",
    "            seen.add((r, c))\n",
    "            return (1 + area(r+1, c) + area(r-1, c) +\n",
    "                    area(r, c-1) + area(r, c+1))\n",
    "\n",
    "        return max(area(r, c)\n",
    "                   for r in range(len(grid))\n",
    "                   for c in range(len(grid[0])))"
   ]
  },
  {
   "cell_type": "code",
   "execution_count": 2,
   "metadata": {},
   "outputs": [
    {
     "name": "stdout",
     "output_type": "stream",
     "text": [
      "6\n"
     ]
    }
   ],
   "source": [
    "grid = [[0,0,1,0,0,0,0,1,0,0,0,0,0],\n",
    "        [0,0,0,0,0,0,0,1,1,1,0,0,0],\n",
    "        [0,1,1,0,1,0,0,0,0,0,0,0,0],\n",
    "        [0,1,0,0,1,1,0,0,1,0,1,0,0],\n",
    "        [0,1,0,0,1,1,0,0,1,1,1,0,0],\n",
    "        [0,0,0,0,0,0,0,0,0,0,1,0,0],\n",
    "        [0,0,0,0,0,0,0,1,1,1,0,0,0],\n",
    "        [0,0,0,0,0,0,0,1,1,0,0,0,0]]\n",
    "expected = 6\n",
    "\n",
    "output = Solution().maxAreaOfIsland(grid)\n",
    "print(output)\n",
    "assert output == expected\n"
   ]
  },
  {
   "cell_type": "code",
   "execution_count": 3,
   "metadata": {},
   "outputs": [
    {
     "name": "stdout",
     "output_type": "stream",
     "text": [
      "0\n"
     ]
    }
   ],
   "source": [
    "grid = [[0,0,0,0,0,0,0,0]]\n",
    "expected = 0\n",
    "\n",
    "output = Solution().maxAreaOfIsland(grid)\n",
    "print(output)\n",
    "assert output == expected"
   ]
  }
 ],
 "metadata": {
  "kernelspec": {
   "display_name": "Python 3.10.5 64-bit ('3.10.5')",
   "language": "python",
   "name": "python3"
  },
  "language_info": {
   "codemirror_mode": {
    "name": "ipython",
    "version": 3
   },
   "file_extension": ".py",
   "mimetype": "text/x-python",
   "name": "python",
   "nbconvert_exporter": "python",
   "pygments_lexer": "ipython3",
   "version": "3.10.5"
  },
  "orig_nbformat": 4,
  "vscode": {
   "interpreter": {
    "hash": "dc2d830d89733278cb510121746799b806674abe1436eac19497ff768cf27c2d"
   }
  }
 },
 "nbformat": 4,
 "nbformat_minor": 2
}
