{
  "nbformat": 4,
  "nbformat_minor": 0,
  "metadata": {
    "colab": {
      "name": "Suffix Trie Construction (Medium).ipynb",
      "provenance": [],
      "authorship_tag": "ABX9TyP0egJF8imPNdBfr4vt50Qo",
      "include_colab_link": true
    },
    "kernelspec": {
      "name": "python3",
      "display_name": "Python 3"
    },
    "language_info": {
      "name": "python"
    }
  },
  "cells": [
    {
      "cell_type": "markdown",
      "metadata": {
        "id": "view-in-github",
        "colab_type": "text"
      },
      "source": [
        "<a href=\"https://colab.research.google.com/github/wisarootl/leetcode/blob/main/Suffix_Trie_Construction_(Medium).ipynb\" target=\"_parent\"><img src=\"https://colab.research.google.com/assets/colab-badge.svg\" alt=\"Open In Colab\"/></a>"
      ]
    },
    {
      "cell_type": "markdown",
      "metadata": {
        "id": "yd4h_2siSgr_"
      },
      "source": [
        "# Suffix Trie Construction"
      ]
    },
    {
      "cell_type": "markdown",
      "metadata": {
        "id": "zR-HNNbiSitO"
      },
      "source": [
        "Write a `SuffixTrie` class for a Suffix-Trie-like data structure. The class should have a `root` property set to be the root node of the trie and should support:\n",
        "\n",
        "Creating the trie from a string; this will be done by calling the `populateSuffixTrieFrom` method upon class instantiation, which should populate the `root` of the class.\n",
        "Searching for strings in the trie.\n",
        "Note that every string added to the trie should end with the special `endSymbol` character: `\"*\"`.\n",
        "\n",
        "If you're unfamiliar with Suffix Tries, we recommend watching the Conceptual Overview section of this question's video explanation before starting to code."
      ]
    },
    {
      "cell_type": "markdown",
      "metadata": {
        "id": "IOohirOlS-c6"
      },
      "source": [
        "Sample Input (for creation)\n",
        "\n",
        "```\n",
        "string = \"babc\"\n",
        "```\n",
        "\n"
      ]
    },
    {
      "cell_type": "markdown",
      "metadata": {
        "id": "ypCCiC4mTAyF"
      },
      "source": [
        "Sample Output (for creation)\n",
        "\n",
        "```\n",
        "The structure below is the root of the trie.\n",
        "{\n",
        "  \"c\": {\"*\": true},\n",
        "  \"b\": {\n",
        "    \"c\": {\"*\": true},\n",
        "    \"a\": {\"b\": {\"c\": {\"*\": true}}},\n",
        "  },\n",
        "  \"a\": {\"b\": {\"c\": {\"*\": true}}},\n",
        "}\n",
        "```\n",
        "\n"
      ]
    },
    {
      "cell_type": "markdown",
      "metadata": {
        "id": "ra4WENdiTDvE"
      },
      "source": [
        "Sample Input (for searching in the suffix trie above)\n",
        "\n",
        "```\n",
        "string = \"abc\"\n",
        "```\n",
        "\n"
      ]
    },
    {
      "cell_type": "markdown",
      "metadata": {
        "id": "LdL_OQuOTF1x"
      },
      "source": [
        "Sample Output (for searching in the suffix trie above)\n",
        "\n",
        "```\n",
        "true\n",
        "```\n",
        "\n"
      ]
    },
    {
      "cell_type": "code",
      "metadata": {
        "id": "KnqC-GcoSber"
      },
      "source": [
        "# Do not edit the class below except for the\n",
        "# populateSuffixTrieFrom and contains methods.\n",
        "# Feel free to add new properties and methods\n",
        "# to the class.\n",
        "class SuffixTrie:\n",
        "\tdef __init__(self, string):\n",
        "\t\tself.root = {}\n",
        "\t\tself.endSymbol = \"*\"\n",
        "\t\tself.populateSuffixTrieFrom(string)\n",
        "\t\n",
        "\t# Time = O(n^2)\n",
        "\t# Space = O(n^2)\n",
        "\tdef populateSuffixTrieFrom(self, string):\n",
        "\t\tfor i in range(len(string)):\n",
        "\t\t\tnode = self.root\n",
        "\t\t\tfor j in range(i, len(string)):\n",
        "\t\t\t\tletter = string[j]\n",
        "\t\t\t\tif letter not in node:\n",
        "\t\t\t\t\tnode[letter] = {}\n",
        "\t\t\t\tnode = node[letter]\n",
        "\t\t\tnode[self.endSymbol] = True\n",
        "\n",
        "\t# Time = O(m) where m = no. fo searching string\n",
        "\t# Space = O(1)\n",
        "\tdef contains(self, string):\n",
        "\t\tnode = self.root\n",
        "\t\tfor letter in string:\n",
        "\t\t\tif letter not in node:\n",
        "\t\t\t\treturn False\n",
        "\t\t\tnode = node[letter]\n",
        "\t\treturn self.endSymbol in node"
      ],
      "execution_count": 1,
      "outputs": []
    },
    {
      "cell_type": "code",
      "metadata": {
        "colab": {
          "base_uri": "https://localhost:8080/"
        },
        "id": "fQ5DhI4uTagE",
        "outputId": "c02b8765-8916-4300-c41d-f9d1be30f6cc"
      },
      "source": [
        "string = \"babc\"\n",
        "suffix_tree = SuffixTrie(string)\n",
        "print(suffix_tree.root)"
      ],
      "execution_count": 2,
      "outputs": [
        {
          "output_type": "stream",
          "name": "stdout",
          "text": [
            "{'b': {'a': {'b': {'c': {'*': True}}}, 'c': {'*': True}}, 'a': {'b': {'c': {'*': True}}}, 'c': {'*': True}}\n"
          ]
        }
      ]
    },
    {
      "cell_type": "code",
      "metadata": {
        "colab": {
          "base_uri": "https://localhost:8080/"
        },
        "id": "ZqkKjttWTtS-",
        "outputId": "497a3bb9-5866-4737-99b7-9ebd16b08d58"
      },
      "source": [
        "string = \"abc\"\n",
        "print(suffix_tree.contains(string))"
      ],
      "execution_count": 3,
      "outputs": [
        {
          "output_type": "stream",
          "name": "stdout",
          "text": [
            "True\n"
          ]
        }
      ]
    }
  ]
}