{
 "cells": [
  {
   "cell_type": "markdown",
   "metadata": {},
   "source": [
    "# N-Queens II"
   ]
  },
  {
   "cell_type": "markdown",
   "metadata": {},
   "source": [
    "The n-queens puzzle is the problem of placing n queens on an n x n chessboard such that no two queens attack each other.\n",
    "\n",
    "Given an integer n, return the number of distinct solutions to the n-queens puzzle."
   ]
  },
  {
   "cell_type": "markdown",
   "metadata": {},
   "source": [
    "Example 1:\n",
    "\n",
    "```\n",
    "+--+--+--+--+   +--+--+--+--+ \n",
    "|  |Q |  |  |   |  |  |Q |  |\n",
    "+--+--+--+--+   +--+--+--+--+ \n",
    "|  |  |  |Q |   |Q |  |  |  |\n",
    "+--+--+--+--+   +--+--+--+--+ \n",
    "|Q |  |  |  |   |  |  |  |Q |\n",
    "+--+--+--+--+   +--+--+--+--+ \n",
    "|  |  |Q |  |   |  |Q |  |  |\n",
    "+--+--+--+--+   +--+--+--+--+ \n",
    "```\n",
    "```\n",
    "Input: n = 4\n",
    "Output: 2\n",
    "Explanation: There are two distinct solutions to the 4-queens puzzle as shown.\n",
    "```"
   ]
  },
  {
   "cell_type": "markdown",
   "metadata": {},
   "source": [
    "Example 2:\n",
    "```\n",
    "Input: n = 1\n",
    "Output: 1\n",
    "```\n"
   ]
  },
  {
   "cell_type": "markdown",
   "metadata": {},
   "source": [
    "Constraints:\n",
    "```\n",
    "1 <= n <= 9\n",
    "```"
   ]
  },
  {
   "cell_type": "code",
   "execution_count": 1,
   "metadata": {},
   "outputs": [],
   "source": [
    "class Solution:\n",
    "    def totalNQueens(self, n: int) -> int:\n",
    "        def backtrack(row, diagonals, anti_diagonals, cols):\n",
    "            # Base case - N queens have been placed\n",
    "            if row == n:\n",
    "                return 1\n",
    "\n",
    "            solutions = 0\n",
    "            for col in range(n):\n",
    "                curr_diagonal = row - col\n",
    "                curr_anti_diagonal = row + col\n",
    "                # If the queen is not placeable\n",
    "                if (col in cols \n",
    "                      or curr_diagonal in diagonals \n",
    "                      or curr_anti_diagonal in anti_diagonals):\n",
    "                    continue\n",
    "\n",
    "                # \"Add\" the queen to the board\n",
    "                cols.add(col)\n",
    "                diagonals.add(curr_diagonal)\n",
    "                anti_diagonals.add(curr_anti_diagonal)\n",
    "\n",
    "                # Move on to the next row with the updated board state\n",
    "                solutions += backtrack(row + 1, diagonals, anti_diagonals, cols)\n",
    "\n",
    "                # \"Remove\" the queen from the board since we have already\n",
    "                # explored all valid paths using the above function call\n",
    "                cols.remove(col)\n",
    "                diagonals.remove(curr_diagonal)\n",
    "                anti_diagonals.remove(curr_anti_diagonal)\n",
    "\n",
    "            return solutions\n",
    "\n",
    "        return backtrack(0, set(), set(), set())"
   ]
  },
  {
   "cell_type": "code",
   "execution_count": 2,
   "metadata": {},
   "outputs": [
    {
     "name": "stdout",
     "output_type": "stream",
     "text": [
      "2\n"
     ]
    }
   ],
   "source": [
    "n = 4\n",
    "expected = 2\n",
    "\n",
    "output = Solution().totalNQueens(n)\n",
    "print(output)"
   ]
  },
  {
   "cell_type": "code",
   "execution_count": 3,
   "metadata": {},
   "outputs": [
    {
     "name": "stdout",
     "output_type": "stream",
     "text": [
      "1\n"
     ]
    }
   ],
   "source": [
    "n = 1\n",
    "expected = 1\n",
    "\n",
    "output = Solution().totalNQueens(n)\n",
    "print(output)"
   ]
  }
 ],
 "metadata": {
  "interpreter": {
   "hash": "20ac7aad763b689ebdaff2f53a3073c7ed55a0f51860968fbf5603f714378c4e"
  },
  "kernelspec": {
   "display_name": "Python 3.10.4 64-bit",
   "language": "python",
   "name": "python3"
  },
  "language_info": {
   "codemirror_mode": {
    "name": "ipython",
    "version": 3
   },
   "file_extension": ".py",
   "mimetype": "text/x-python",
   "name": "python",
   "nbconvert_exporter": "python",
   "pygments_lexer": "ipython3",
   "version": "3.10.4"
  },
  "orig_nbformat": 4
 },
 "nbformat": 4,
 "nbformat_minor": 2
}
