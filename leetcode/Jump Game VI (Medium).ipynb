{
 "cells": [
  {
   "cell_type": "markdown",
   "metadata": {},
   "source": [
    "# Jump Game VI"
   ]
  },
  {
   "cell_type": "markdown",
   "metadata": {},
   "source": [
    "You are given a `0-indexed` integer array nums and an integer k.\n",
    "\n",
    "You are initially standing at index `0`. In one move, you can jump at most k steps forward without going outside the boundaries of the array. That is, you can jump from index i to any index in the range `[i + 1, min(n - 1, i + k)]` inclusive.\n",
    "\n",
    "You want to reach the last index of the array (index `n - 1`). Your score is the sum of all `nums[j]` for each index `j` you visited in the array.\n",
    "\n",
    "Return the **maximum score** you can get.\n"
   ]
  },
  {
   "cell_type": "markdown",
   "metadata": {},
   "source": [
    "Example 1:\n",
    "\n",
    "```\n",
    "Input: nums = [1,-1,-2,4,-7,3], k = 2\n",
    "Output: 7\n",
    "Explanation: You can choose your jumps forming the subsequence [1,-1,4,3] (underlined above). The sum is 7.\n",
    "```"
   ]
  },
  {
   "cell_type": "markdown",
   "metadata": {},
   "source": [
    "Example 2:\n",
    "\n",
    "```\n",
    "Input: nums = [10,-5,-2,4,0,3], k = 3\n",
    "Output: 17\n",
    "Explanation: You can choose your jumps forming the subsequence [10,4,3] (underlined above). The sum is 17.\n",
    "```"
   ]
  },
  {
   "cell_type": "markdown",
   "metadata": {},
   "source": [
    "Example 3:\n",
    "\n",
    "```\n",
    "Input: nums = [1,-5,-20,4,-1,3,-6,-3], k = 2\n",
    "Output: 0\n",
    "```"
   ]
  },
  {
   "cell_type": "code",
   "execution_count": null,
   "metadata": {},
   "outputs": [],
   "source": [
    "class Solution:\n",
    "    def maxResult(self, nums: list[int], k: int) -> int:\n",
    "        n = len(nums)\n",
    "        score = [0]*n\n",
    "        score[0] = nums[0]\n",
    "        dq = deque()\n",
    "        dq.append(0)\n",
    "        for i in range(1, n):\n",
    "            # pop the old index\n",
    "            while dq and dq[0] < i-k:\n",
    "                dq.popleft()\n",
    "            score[i] = score[dq[0]] + nums[i]\n",
    "            # pop the smaller value\n",
    "            while dq and score[i] >= score[dq[-1]]:\n",
    "                dq.pop()\n",
    "            dq.append(i)\n",
    "        return score[-1]\n",
    "        "
   ]
  },
  {
   "cell_type": "code",
   "execution_count": null,
   "metadata": {},
   "outputs": [],
   "source": [
    "nums = [1,-1,-2,4,-7,3]\n",
    "k = 2\n",
    "expected = 7\n",
    "\n",
    "output = Solution()."
   ]
  }
 ],
 "metadata": {
  "kernelspec": {
   "display_name": "Python 3.10.5 64-bit (windows store)",
   "language": "python",
   "name": "python3"
  },
  "language_info": {
   "name": "python",
   "version": "3.10.5"
  },
  "orig_nbformat": 4,
  "vscode": {
   "interpreter": {
    "hash": "3822405be9f5fb329f7270cbdcf73e762c62b3f383c5e71390a1a4648678c1cb"
   }
  }
 },
 "nbformat": 4,
 "nbformat_minor": 2
}
