{
 "cells": [
  {
   "cell_type": "markdown",
   "metadata": {},
   "source": [
    "# Find First and Last Position of Element in Sorted Array"
   ]
  },
  {
   "cell_type": "markdown",
   "metadata": {},
   "source": [
    "Given an array of integers nums sorted in non-decreasing order, find the starting and ending position of a given target value.\n",
    "\n",
    "If target is not found in the array, return [-1, -1].\n",
    "\n",
    "You must write an algorithm with O(log n) runtime complexity."
   ]
  },
  {
   "cell_type": "markdown",
   "metadata": {},
   "source": [
    "Example 1:\n",
    "```\n",
    "Input: nums = [5,7,7,8,8,10], target = 8\n",
    "Output: [3,4]\n",
    "```"
   ]
  },
  {
   "cell_type": "code",
   "execution_count": null,
   "metadata": {},
   "outputs": [],
   "source": [
    "from typing import *\n",
    "\n",
    "class Solution:\n",
    "    # time = O(log n)\n",
    "    # space = O(1)\n",
    "    def searchRange(self, nums: List[int], target: int) -> List[int]:\n",
    "        \n",
    "        lower_bound = self.findBound(nums, target, True)\n",
    "        if (lower_bound == -1):\n",
    "            return [-1, -1]\n",
    "        \n",
    "        upper_bound = self.findBound(nums, target, False)\n",
    "        \n",
    "        return [lower_bound, upper_bound]\n",
    "        \n",
    "    def findBound(self, nums: List[int], target: int, isFirst: bool) -> int:\n",
    "        \n",
    "        N = len(nums)\n",
    "        begin, end = 0, N - 1\n",
    "        while begin <= end:\n",
    "            mid = int((begin + end) / 2)    \n",
    "            \n",
    "            if nums[mid] == target:\n",
    "                \n",
    "                if isFirst:\n",
    "                    # This means we found our lower bound.\n",
    "                    if mid == begin or nums[mid - 1] < target:\n",
    "                        return mid\n",
    "\n",
    "                    # Search on the left side for the bound.\n",
    "                    end = mid - 1\n",
    "                else:\n",
    "                    \n",
    "                    # This means we found our upper bound.\n",
    "                    if mid == end or nums[mid + 1] > target:\n",
    "                        return mid\n",
    "                    \n",
    "                    # Search on the right side for the bound.\n",
    "                    begin = mid + 1\n",
    "            \n",
    "            elif nums[mid] > target:\n",
    "                end = mid - 1\n",
    "            else:\n",
    "                begin = mid + 1\n",
    "        \n",
    "        return -1"
   ]
  },
  {
   "cell_type": "code",
   "execution_count": null,
   "metadata": {},
   "outputs": [],
   "source": []
  }
 ],
 "metadata": {
  "language_info": {
   "name": "python"
  },
  "orig_nbformat": 4
 },
 "nbformat": 4,
 "nbformat_minor": 2
}
