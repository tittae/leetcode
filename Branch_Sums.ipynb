{
  "nbformat": 4,
  "nbformat_minor": 0,
  "metadata": {
    "colab": {
      "name": "Branch Sums.ipynb",
      "provenance": [],
      "collapsed_sections": [],
      "authorship_tag": "ABX9TyP9k0dR0HAjNkEl9PkHqIR9",
      "include_colab_link": true
    },
    "kernelspec": {
      "name": "python3",
      "display_name": "Python 3"
    },
    "language_info": {
      "name": "python"
    }
  },
  "cells": [
    {
      "cell_type": "markdown",
      "metadata": {
        "id": "view-in-github",
        "colab_type": "text"
      },
      "source": [
        "<a href=\"https://colab.research.google.com/github/tittae/leetcode/blob/main/Branch_Sums.ipynb\" target=\"_parent\"><img src=\"https://colab.research.google.com/assets/colab-badge.svg\" alt=\"Open In Colab\"/></a>"
      ]
    },
    {
      "cell_type": "markdown",
      "metadata": {
        "id": "WoQh8BBce_Sk"
      },
      "source": [
        "# Branch Sums"
      ]
    },
    {
      "cell_type": "markdown",
      "metadata": {
        "id": "oeihh67qfC6R"
      },
      "source": [
        "Write a function that takes in a Binary Tree and returns a list of its branch sums ordered from leftmost branch sum to rightmost branch sum.\n",
        "\n",
        "A branch sum is the sum of all values in a Binary Tree branch. A Binary Tree branch is a path of nodes in a tree that starts at the root node and ends at any leaf node.\n",
        "\n",
        "Each BinaryTree node has an integer value, a left child node, and a right child node. Children nodes can either be BinaryTree nodes themselves or None / null."
      ]
    },
    {
      "cell_type": "markdown",
      "metadata": {
        "id": "JVf7KBJ7fDrA"
      },
      "source": [
        "Sample Input\n",
        "\n",
        "```\n",
        "tree =     1\n",
        "        /     \\\n",
        "       2       3\n",
        "     /   \\    /  \\\n",
        "    4     5  6    7\n",
        "  /   \\  /\n",
        " 8    9 10\n",
        "```\n",
        "\n"
      ]
    },
    {
      "cell_type": "markdown",
      "metadata": {
        "id": "BlRY_V31fIAJ"
      },
      "source": [
        "Sample Output\n",
        "\n",
        "```\n",
        "[15, 16, 18, 10, 11]\n",
        "// 15 == 1 + 2 + 4 + 8\n",
        "// 16 == 1 + 2 + 4 + 9\n",
        "// 18 == 1 + 2 + 5 + 10\n",
        "// 10 == 1 + 3 + 6\n",
        "// 11 == 1 + 3 + 7\n",
        "```\n",
        "\n"
      ]
    },
    {
      "cell_type": "markdown",
      "metadata": {
        "id": "0eFiOBxkfVSY"
      },
      "source": [
        "## BST class"
      ]
    },
    {
      "cell_type": "code",
      "metadata": {
        "id": "oBhPLw0FfHo7"
      },
      "source": [
        "class BST:\n",
        "\tdef __init__(self, value):\n",
        "\t\tself.value = value\n",
        "\t\tself.left = None\n",
        "\t\tself.right = None\n",
        "\t\n",
        "\t# avg: O(log(n)) time and O(1) space\n",
        "\t# worst: O(n) time and O(1) space\n",
        "\tdef insert(self, value):\n",
        "\t\tcurrent_node = self\n",
        "\t\t\n",
        "\t\twhile True:\n",
        "\t\t\tif value < current_node.value:\n",
        "\t\t\t\tif current_node.left == None:\n",
        "\t\t\t\t\tcurrent_node.left = BST(value)\n",
        "\t\t\t\t\tbreak\n",
        "\t\t\t\telse:\n",
        "\t\t\t\t\tcurrent_node = current_node.left\n",
        "\t\t\telse:\n",
        "\t\t\t\tif current_node.right == None:\n",
        "\t\t\t\t\tcurrent_node.right = BST(value)\n",
        "\t\t\t\t\tbreak\n",
        "\t\t\t\telse:\n",
        "\t\t\t\t\tcurrent_node = current_node.right\n",
        "\t\t# return self\n",
        "\t\n",
        "\t# avg: O(log(n)) time and O(1) space\n",
        "\t# worst: O(n) time and O(1) space\n",
        "\tdef contains(self, value):\n",
        "\t\tcurrent_node = self\n",
        "\t\t\n",
        "\t\twhile current_node is not None:\n",
        "\t\t\tif value == current_node.value:\n",
        "\t\t\t\treturn True\n",
        "\n",
        "\t\t\telif value < current_node.value:\n",
        "\t\t\t\tcurrent_node = current_node.left\n",
        "\n",
        "\t\t\telse:\n",
        "\t\t\t\tcurrent_node = current_node.right\n",
        "\t\treturn False\n",
        "\t\n",
        "\t# avg: O(log(n)) time and O(1) space\n",
        "\t# worst: O(n) time and O(1) space\n",
        "\tdef remove(self, value, parent_node = None):\n",
        "\t\tcurrent_node = self\n",
        "\t\twhile current_node is not None:\n",
        "\t\t\tif  value < current_node.value:\n",
        "\t\t\t\tparent_node = current_node\n",
        "\t\t\t\tcurrent_node = current_node.left\n",
        "\t\t\telif  value > current_node.value:\n",
        "\t\t\t\tparent_node = current_node\n",
        "\t\t\t\tcurrent_node = current_node.right\n",
        "\t\t\t\n",
        "\t\t\t# found node to remove\n",
        "      # complex if-else with multiple events\n",
        "      # take a look on visualization below the cell\n",
        "\t\t\telse:\n",
        "\t\t\t\t# w/ 2 child nodes\n",
        "\t\t\t\tif current_node.left is not None and current_node.right is not None:\n",
        "          # do the same for all sub cases (inc. w/o & w/ parent)\n",
        "\t\t\t\t\tcurrent_node.value = current_node.right.get_min_value()\n",
        "\t\t\t\t\tcurrent_node.right.remove(current_node.value, current_node)\n",
        "\n",
        "\t\t\t\t# w/ 1 child node\n",
        "\t\t\t\telif current_node.left is not None or current_node.right is not None:\n",
        "\t\t\t\t\t# w/o parent node\n",
        "\t\t\t\t\tif parent_node == None:\n",
        "\t\t\t\t\t\tif current_node.left is not None:\n",
        "\t\t\t\t\t\t\tcurrent_node.value = current_node.left.value\n",
        "\t\t\t\t\t\t\tcurrent_node.right = current_node.left.right\n",
        "\t\t\t\t\t\t\tcurrent_node.left =  current_node.left.left\n",
        "\n",
        "\t\t\t\t\t\telif current_node.right is not None:\n",
        "\t\t\t\t\t\t\tcurrent_node.value = current_node.right.value\n",
        "\t\t\t\t\t\t\tcurrent_node.left =  current_node.right.left\n",
        "\t\t\t\t\t\t\tcurrent_node.right = current_node.right.right\n",
        "\n",
        "\t\t\t\t\t# w/ parent node\n",
        "\t\t\t\t\telse:\n",
        "\t\t\t\t\t\t# alternate parent node\n",
        "\t\t\t\t\t\tif parent_node.left == current_node:\n",
        "\t\t\t\t\t\t\tparent_node.left = current_node.left if current_node.left is not None else current_node.right\n",
        "\t\t\t\t\t\telif parent_node.right == current_node:\n",
        "\t\t\t\t\t\t\tparent_node.right = current_node.right if current_node.right is not None else current_node.left\n",
        "\n",
        "\t\t\t\t# w/o child node\n",
        "\t\t\t\telse:\n",
        "\t\t\t\t\t# w/o parent node\n",
        "\t\t\t\t\tif parent_node == None:\n",
        "\t\t\t\t\t\t# Do nothing\n",
        "\t\t\t\t\t\tpass\n",
        "\t\t\t\t\t# w/ parent node\n",
        "\t\t\t\t\telse:\n",
        "\t\t\t\t\t\t# alternate parent node\n",
        "\t\t\t\t\t\tif parent_node.left == current_node:\n",
        "\t\t\t\t\t\t\tparent_node.left = None\n",
        "\t\t\t\t\t\telif parent_node.right == current_node:\n",
        "\t\t\t\t\t\t\tparent_node.right = None\n",
        "\t\t\t\tbreak\n",
        "\t\t# return self\n",
        "\t\t\t\t\t\t\n",
        "\tdef get_min_value(self):\n",
        "\t\tcurrent_node = self\n",
        "\t\twhile current_node.left is not None:\n",
        "\t\t\tcurrent_node = current_node.left\n",
        "\t\treturn current_node.value"
      ],
      "execution_count": 1,
      "outputs": []
    },
    {
      "cell_type": "markdown",
      "metadata": {
        "id": "19FS3X6CfYv7"
      },
      "source": [
        "## Solution (recursive)"
      ]
    },
    {
      "cell_type": "code",
      "metadata": {
        "id": "Qev4McTse_Dq"
      },
      "source": [
        "# O(n) time, O(n) space\n",
        "def branchSums(root):\n",
        "\tbranch_sums = []\n",
        "\tcalculate_branch_sums(root, branch_sums, 0)\n",
        "\treturn branch_sums\n",
        "\n",
        "\n",
        "def calculate_branch_sums(node, branch_sums, moving_sum):\n",
        "\t# is none?\n",
        "\tif node == None:\n",
        "\t\treturn\n",
        "\n",
        "\t# update moving sum\n",
        "\tmoving_sum += node.value\n",
        "\t\n",
        "\t# is leaf node?\n",
        "\tif node.left == None and node.right == None:\n",
        "\t\tbranch_sums.append(moving_sum)\n",
        "\t\treturn\n",
        "\t\n",
        "\t# recursive\n",
        "\tcalculate_branch_sums(node.left, branch_sums, moving_sum)\n",
        "\tcalculate_branch_sums(node.right, branch_sums, moving_sum)"
      ],
      "execution_count": 2,
      "outputs": []
    },
    {
      "cell_type": "code",
      "metadata": {
        "id": "OQLaSXttfeqF"
      },
      "source": [
        "tree = BST(10)"
      ],
      "execution_count": 3,
      "outputs": []
    },
    {
      "cell_type": "code",
      "metadata": {
        "id": "mojlsr1rffrk"
      },
      "source": [
        "tree.insert(5)\n",
        "tree.insert(15)\n",
        "tree.insert(2)\n",
        "tree.insert(5)\n",
        "tree.insert(13)\n",
        "tree.insert(22)\n",
        "tree.insert(1)\n",
        "tree.insert(14)\n",
        "tree.insert(12)"
      ],
      "execution_count": 4,
      "outputs": []
    },
    {
      "cell_type": "code",
      "metadata": {
        "colab": {
          "base_uri": "https://localhost:8080/"
        },
        "id": "NATiXxuZYLaZ",
        "outputId": "210f1834-a2d9-4b9b-ab49-d31f82f2db13"
      },
      "source": [
        "print(branchSums(tree))"
      ],
      "execution_count": 5,
      "outputs": [
        {
          "output_type": "stream",
          "name": "stdout",
          "text": [
            "[18, 20, 50, 52, 47]\n"
          ]
        }
      ]
    },
    {
      "cell_type": "markdown",
      "metadata": {
        "id": "zflYF79ofxmy"
      },
      "source": [
        "## Solution (DFS)"
      ]
    },
    {
      "cell_type": "code",
      "metadata": {
        "id": "b1HtLtYtf-s7"
      },
      "source": [
        "# O(n) time, O(n) space\n",
        "def branchSums(root):\n",
        "  branch_sums = []\n",
        "\n",
        "  # initialize fringe (node, moving_sums) \n",
        "  # moving_sum = branch_sum up to parent of the node\n",
        "  fringe = [[root, 0]]\n",
        "\n",
        "  while True:\n",
        "\n",
        "    # is fringe empty ?\n",
        "    if fringe == []:\n",
        "      return branch_sums\n",
        "\n",
        "    # remove front\n",
        "    front = fringe[0]\n",
        "    fringe = fringe[1:]\n",
        "\n",
        "    # skip from if it is none\n",
        "    if front[0] == None:\n",
        "      continue\n",
        "\n",
        "    # update moving sum\n",
        "    front[1] += front[0].value\n",
        "\n",
        "    # is front leaf node?\n",
        "    if front[0].left == None and front[0].right == None:\n",
        "      branch_sums.append(front[1])\n",
        "\n",
        "    # gen successor\n",
        "    successor = [[front[0].left, front[1]], [front[0].right, front[1]]]\n",
        "\n",
        "    # insert all successor\n",
        "    # DFS insert all succesor in front of stack\n",
        "    # fringe = successor + fringe\n",
        "    fringe[0:0] = successor"
      ],
      "execution_count": 6,
      "outputs": []
    },
    {
      "cell_type": "code",
      "metadata": {
        "id": "kyrAzt-ikycs"
      },
      "source": [
        "tree = BST(10)"
      ],
      "execution_count": 7,
      "outputs": []
    },
    {
      "cell_type": "code",
      "metadata": {
        "id": "WExkqZY-kzUU"
      },
      "source": [
        "tree.insert(5)\n",
        "tree.insert(15)\n",
        "tree.insert(2)\n",
        "tree.insert(5)\n",
        "tree.insert(13)\n",
        "tree.insert(22)\n",
        "tree.insert(1)\n",
        "tree.insert(14)\n",
        "tree.insert(12)"
      ],
      "execution_count": 8,
      "outputs": []
    },
    {
      "cell_type": "code",
      "metadata": {
        "colab": {
          "base_uri": "https://localhost:8080/"
        },
        "id": "R0TnNS2rk0cY",
        "outputId": "0bee3543-99f3-47f0-86e0-40232b8e035f"
      },
      "source": [
        "print(branchSums(tree))"
      ],
      "execution_count": 9,
      "outputs": [
        {
          "output_type": "stream",
          "name": "stdout",
          "text": [
            "[18, 20, 50, 52, 47]\n"
          ]
        }
      ]
    }
  ]
}