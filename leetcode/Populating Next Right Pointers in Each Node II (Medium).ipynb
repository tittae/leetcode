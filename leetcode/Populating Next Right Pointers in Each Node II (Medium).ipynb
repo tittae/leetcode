{
 "cells": [
  {
   "cell_type": "markdown",
   "metadata": {},
   "source": [
    "# Populating Next Right Pointers in Each Node II"
   ]
  },
  {
   "cell_type": "markdown",
   "metadata": {},
   "source": [
    "Given a binary tree\n",
    "\n",
    "```\n",
    "struct Node {\n",
    "  int val;\n",
    "  Node *left;\n",
    "  Node *right;\n",
    "  Node *next;\n",
    "}\n",
    "```\n",
    "\n",
    "Populate each next pointer to point to its next right node. If there is no next right node, the next pointer should be set to NULL.\n",
    "\n",
    "Initially, all next pointers are set to NULL."
   ]
  },
  {
   "cell_type": "markdown",
   "metadata": {},
   "source": [
    "Example 1:\n",
    "\n",
    "```\n",
    "Input: root = [1,2,3,4,5,null,7]\n",
    "Output: [1,#,2,3,#,4,5,7,#]\n",
    "Explanation: Given the above binary tree (Figure A), your function should populate each next pointer to point to its next right node, just like in Figure B. The serialized output is in level order as connected by the next pointers, with '#' signifying the end of each level\n",
    "```"
   ]
  },
  {
   "cell_type": "markdown",
   "metadata": {},
   "source": [
    "Example 2:\n",
    "\n",
    "```\n",
    "Input: root = []\n",
    "Output: []\n",
    "```"
   ]
  },
  {
   "cell_type": "markdown",
   "metadata": {},
   "source": [
    "Constraints:\n",
    "\n",
    "```\n",
    "The number of nodes in the tree is in the range [0, 6000].\n",
    "-100 <= Node.val <= 100\n",
    "```"
   ]
  },
  {
   "cell_type": "markdown",
   "metadata": {},
   "source": [
    "Follow-up:\n",
    "\n",
    "```\n",
    "You may only use constant extra space.\n",
    "The recursive approach is fine. You may assume implicit stack space does not count as extra space for this problem.\n",
    "```"
   ]
  },
  {
   "cell_type": "code",
   "execution_count": null,
   "metadata": {},
   "outputs": [],
   "source": [
    "class Node:\n",
    "    def __init__(self, val: int = 0, left: 'Node' = None, right: 'Node' = None, next: 'Node' = None):\n",
    "        self.val = val\n",
    "        self.left = left\n",
    "        self.right = right\n",
    "        self.next = next\n",
    "\n",
    "class Solution:\n",
    "    \n",
    "    def processChild(self, childNode, prev, leftmost):\n",
    "        if childNode:\n",
    "            if prev:\n",
    "                prev.next = childNode\n",
    "            else:\n",
    "                leftmost = childNode\n",
    "            prev = childNode \n",
    "        return prev, leftmost\n",
    "    \n",
    "    def connect(self, root: Optional['Node']) -> Optional['Node']:\n",
    "        if not root:\n",
    "            return root\n",
    "        \n",
    "        leftmost = root\n",
    "        while leftmost:\n",
    "            prev, curr = None, leftmost\n",
    "            leftmost = None\n",
    "            \n",
    "            while curr:\n",
    "                prev, leftmost = self.processChild(curr.left, prev, leftmost)\n",
    "                prev, leftmost = self.processChild(curr.right, prev, leftmost)\n",
    "                curr = curr.next\n",
    "                \n",
    "        return root"
   ]
  }
 ],
 "metadata": {
  "interpreter": {
   "hash": "20ac7aad763b689ebdaff2f53a3073c7ed55a0f51860968fbf5603f714378c4e"
  },
  "kernelspec": {
   "display_name": "Python 3.10.0 64-bit",
   "language": "python",
   "name": "python3"
  },
  "language_info": {
   "name": "python",
   "version": "3.10.0"
  },
  "orig_nbformat": 4
 },
 "nbformat": 4,
 "nbformat_minor": 2
}
