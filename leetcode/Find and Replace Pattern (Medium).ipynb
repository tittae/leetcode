{
 "cells": [
  {
   "cell_type": "markdown",
   "metadata": {},
   "source": [
    "# Find and Replace Pattern"
   ]
  },
  {
   "cell_type": "markdown",
   "metadata": {},
   "source": [
    "Given a list of strings words and a string pattern, return a list of words[i] that match pattern. You may return the answer in any order.\n",
    "\n",
    "A word matches the pattern if there exists a permutation of letters p so that after replacing every letter x in the pattern with p(x), we get the desired word.\n",
    "\n",
    "Recall that a permutation of letters is a bijection from letters to letters: every letter maps to another letter, and no two letters map to the same letter."
   ]
  },
  {
   "cell_type": "markdown",
   "metadata": {},
   "source": [
    "Example 1:\n",
    "\n",
    "```\n",
    "Input: words = [\"abc\",\"deq\",\"mee\",\"aqq\",\"dkd\",\"ccc\"], pattern = \"abb\"\n",
    "Output: [\"mee\",\"aqq\"]\n",
    "Explanation: \"mee\" matches the pattern because there is a permutation {a -> m, b -> e, ...}. \n",
    "\"ccc\" does not match the pattern because {a -> c, b -> c, ...} is not a permutation, since a and b map to the same letter.\n",
    "```"
   ]
  },
  {
   "cell_type": "markdown",
   "metadata": {},
   "source": [
    "Example 2:\n",
    "\n",
    "```\n",
    "Input: words = [\"a\",\"b\",\"c\"], pattern = \"a\"\n",
    "Output: [\"a\",\"b\",\"c\"]\n",
    "```"
   ]
  },
  {
   "cell_type": "markdown",
   "metadata": {},
   "source": [
    "Constraints:\n",
    "\n",
    "```\n",
    "1 <= pattern.length <= 20\n",
    "1 <= words.length <= 50\n",
    "words[i].length == pattern.length\n",
    "pattern and words[i] are lowercase English letters.\n",
    "```"
   ]
  },
  {
   "cell_type": "code",
   "execution_count": 1,
   "metadata": {},
   "outputs": [],
   "source": [
    "from typing import *\n",
    "\n",
    "class Solution:\n",
    "    # time = O(n * k)\n",
    "    # space = O(n * k)\n",
    "    # space used by answer\n",
    "    # n = len(words)\n",
    "    # k = max len of word in words\n",
    "    def findAndReplacePattern(self, words: List[str], pattern: str) -> List[str]:\n",
    "        def match(word):\n",
    "            m1, m2 = {}, {}\n",
    "            for w, p in zip(word, pattern):\n",
    "                if w not in m1: m1[w] = p\n",
    "                if p not in m2: m2[p] = w\n",
    "                if (m1[w], m2[p]) != (p, w):\n",
    "                    return False\n",
    "            return True\n",
    "\n",
    "        return list(filter(match, words))"
   ]
  },
  {
   "cell_type": "code",
   "execution_count": 2,
   "metadata": {},
   "outputs": [
    {
     "name": "stdout",
     "output_type": "stream",
     "text": [
      "['mee', 'aqq']\n"
     ]
    }
   ],
   "source": [
    "words = [\"abc\",\"deq\",\"mee\",\"aqq\",\"dkd\",\"ccc\"]\n",
    "pattern = \"abb\"\n",
    "\n",
    "expected = [\"mee\",\"aqq\"]\n",
    "\n",
    "output = Solution().findAndReplacePattern(words, pattern)\n",
    "print(output)\n",
    "assert output == expected"
   ]
  },
  {
   "cell_type": "code",
   "execution_count": 3,
   "metadata": {},
   "outputs": [
    {
     "name": "stdout",
     "output_type": "stream",
     "text": [
      "['a', 'b', 'c']\n"
     ]
    }
   ],
   "source": [
    "words = [\"a\",\"b\",\"c\"]\n",
    "pattern = \"a\"\n",
    "\n",
    "expected = [\"a\",\"b\",\"c\"]\n",
    "\n",
    "output = Solution().findAndReplacePattern(words, pattern)\n",
    "print(output)\n",
    "assert output == expected"
   ]
  }
 ],
 "metadata": {
  "kernelspec": {
   "display_name": "Python 3.10.5 64-bit ('3.10.5')",
   "language": "python",
   "name": "python3"
  },
  "language_info": {
   "codemirror_mode": {
    "name": "ipython",
    "version": 3
   },
   "file_extension": ".py",
   "mimetype": "text/x-python",
   "name": "python",
   "nbconvert_exporter": "python",
   "pygments_lexer": "ipython3",
   "version": "3.10.5"
  },
  "orig_nbformat": 4,
  "vscode": {
   "interpreter": {
    "hash": "992441bd4bc11ab83c63537935ea198062f55180155eaba570b8d7c82e005e8c"
   }
  }
 },
 "nbformat": 4,
 "nbformat_minor": 2
}
