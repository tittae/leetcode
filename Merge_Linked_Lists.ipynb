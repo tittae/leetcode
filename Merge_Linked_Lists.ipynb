{
  "nbformat": 4,
  "nbformat_minor": 0,
  "metadata": {
    "colab": {
      "name": "Merge Linked Lists.ipynb",
      "provenance": [],
      "collapsed_sections": [],
      "authorship_tag": "ABX9TyNQZ7G2cUysF/ZmXUblUXBl",
      "include_colab_link": true
    },
    "kernelspec": {
      "name": "python3",
      "display_name": "Python 3"
    },
    "language_info": {
      "name": "python"
    }
  },
  "cells": [
    {
      "cell_type": "markdown",
      "metadata": {
        "id": "view-in-github",
        "colab_type": "text"
      },
      "source": [
        "<a href=\"https://colab.research.google.com/github/wisarootl/leetcode/blob/main/Merge_Linked_Lists.ipynb\" target=\"_parent\"><img src=\"https://colab.research.google.com/assets/colab-badge.svg\" alt=\"Open In Colab\"/></a>"
      ]
    },
    {
      "cell_type": "code",
      "execution_count": 29,
      "metadata": {
        "id": "SNYQinexk2kB"
      },
      "outputs": [],
      "source": [
        "# This is an input class. Do not edit.\n",
        "class LinkedList:\n",
        "  def __init__(self, value):\n",
        "    self.value = value\n",
        "    self.next = None\n",
        "\n",
        "  def __str__(self):\n",
        "    node = self\n",
        "    output_str = ''\n",
        "    while node != None:\n",
        "      output_str = output_str + str(node.value)\n",
        "      if node.next != None:\n",
        "        output_str = output_str + ' -> '\n",
        "      node = node.next\n",
        "    return output_str\n",
        "\n",
        "# Time O(n + m)\n",
        "# Space O(1)\n",
        "# n = no of element in headOne\n",
        "# m = no of element in headTwo\n",
        "def mergeLinkedLists(headOne, headTwo, report = False):\n",
        "  pointer1 = headOne\n",
        "  pointer2 = headTwo\n",
        "  merged_head = None\n",
        "  while pointer1 != None or pointer2 != None:\n",
        "    if report:\n",
        "      print(pointer1)\n",
        "      print(pointer2)\n",
        "      print(merged_head)\n",
        "      print('*'*40)\n",
        "    if pointer1 == None:\n",
        "      current_node = pointer2\n",
        "      pointer2 = pointer2.next\n",
        "    elif pointer2 == None:\n",
        "      current_node = pointer1\n",
        "      pointer1 = pointer1.next\n",
        "    else:\n",
        "      if pointer1.value < pointer2.value:\n",
        "        current_node = pointer1\n",
        "        pointer1 = pointer1.next\n",
        "      else:\n",
        "        current_node = pointer2\n",
        "        pointer2 = pointer2.next\n",
        "    \n",
        "    if merged_head == None:\n",
        "      merged_head = current_node\n",
        "      merged_tail = merged_head\n",
        "    else:\n",
        "      merged_tail.next = current_node\n",
        "      merged_tail = current_node\n",
        "  \n",
        "  return merged_head"
      ]
    },
    {
      "cell_type": "code",
      "source": [
        "def create_link_list(array):\n",
        "  head = LinkedList(array[0])\n",
        "  node = head\n",
        "  for i in range(1, len(array)):\n",
        "    node.next = LinkedList(array[i])\n",
        "    node = node.next\n",
        "  return head"
      ],
      "metadata": {
        "id": "lK9LXId5lJFY"
      },
      "execution_count": 30,
      "outputs": []
    },
    {
      "cell_type": "code",
      "source": [
        "headOne = create_link_list([2, 6, 7, 8])\n",
        "headTwo = create_link_list([1, 3, 4, 5, 9, 10])\n",
        "print(headOne)\n",
        "print(headTwo)"
      ],
      "metadata": {
        "colab": {
          "base_uri": "https://localhost:8080/"
        },
        "id": "LifHRVB1lhdz",
        "outputId": "9d7de760-00c0-43fb-fb5c-cd64bcd597a8"
      },
      "execution_count": 31,
      "outputs": [
        {
          "output_type": "stream",
          "name": "stdout",
          "text": [
            "2 -> 6 -> 7 -> 8\n",
            "1 -> 3 -> 4 -> 5 -> 9 -> 10\n"
          ]
        }
      ]
    },
    {
      "cell_type": "code",
      "source": [
        "head = mergeLinkedLists(headOne, headTwo)"
      ],
      "metadata": {
        "id": "tv-rOyJZm49D"
      },
      "execution_count": 32,
      "outputs": []
    },
    {
      "cell_type": "code",
      "source": [
        "print(head)"
      ],
      "metadata": {
        "colab": {
          "base_uri": "https://localhost:8080/"
        },
        "id": "nvA8j_tUm7vI",
        "outputId": "204836f3-8021-4db3-9d71-e3e286d77fed"
      },
      "execution_count": 33,
      "outputs": [
        {
          "output_type": "stream",
          "name": "stdout",
          "text": [
            "1 -> 2 -> 3 -> 4 -> 5 -> 6 -> 7 -> 8\n"
          ]
        }
      ]
    }
  ]
}