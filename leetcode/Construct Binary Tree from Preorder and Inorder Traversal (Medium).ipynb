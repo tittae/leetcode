{
 "cells": [
  {
   "cell_type": "markdown",
   "metadata": {},
   "source": [
    "# Construct Binary Tree from Preorder and Inorder Traversal"
   ]
  },
  {
   "cell_type": "markdown",
   "metadata": {},
   "source": [
    "Given two integer arrays `preorder` and `inorder` where `preorder` is the preorder traversal of a binary tree and `inorder` is the inorder traversal of the same tree, construct and return the binary tree."
   ]
  },
  {
   "cell_type": "markdown",
   "metadata": {},
   "source": [
    "Example 1:\n",
    "\n",
    "```\n",
    "  1\n",
    " / \\\n",
    "9  20\n",
    "   / \\\n",
    "  15  7\n",
    "\n",
    "Input: preorder = [3,9,20,15,7], inorder = [9,3,15,20,7]\n",
    "Output: [3,9,20,null,null,15,7]\n",
    "```"
   ]
  },
  {
   "cell_type": "markdown",
   "metadata": {},
   "source": [
    "Example 2:\n",
    "\n",
    "```\n",
    "Input: preorder = [-1], inorder = [-1]\n",
    "Output: [-1]\n",
    "```"
   ]
  },
  {
   "cell_type": "markdown",
   "metadata": {},
   "source": [
    "Constraints:\n",
    "\n",
    "```\n",
    "1 <= preorder.length <= 3000\n",
    "inorder.length == preorder.length\n",
    "-3000 <= preorder[i], inorder[i] <= 3000\n",
    "preorder and inorder consist of unique values.\n",
    "Each value of inorder also appears in preorder.\n",
    "preorder is guaranteed to be the preorder traversal of the tree.\n",
    "inorder is guaranteed to be the inorder traversal of the tree.\n",
    "```"
   ]
  },
  {
   "cell_type": "code",
   "execution_count": 1,
   "metadata": {},
   "outputs": [],
   "source": [
    "from typing import *\n",
    "\n",
    "# Definition for a binary tree node.\n",
    "class TreeNode:\n",
    "    def __init__(self, val=0, left=None, right=None):\n",
    "        self.val = val\n",
    "        self.left = left\n",
    "        self.right = right\n",
    "\n",
    "class Solution:\n",
    "    # time = O(N)\n",
    "    # space = O(N)\n",
    "    def buildTree(self, preorder: List[int], inorder: List[int]) -> Optional[TreeNode]:\n",
    "\n",
    "        def array_to_tree(left, right):\n",
    "            nonlocal preorder_index\n",
    "            # if there are no elements to construct the tree\n",
    "            if left > right: return None\n",
    "\n",
    "            # select the preorder_index element as the root and increment it\n",
    "            root_value = preorder[preorder_index]\n",
    "            root = TreeNode(root_value)\n",
    "\n",
    "\n",
    "            preorder_index += 1\n",
    "\n",
    "            # build left and right subtree\n",
    "            # excluding inorder_index_map[root_value] element because it's the root\n",
    "            root.left = array_to_tree(left, inorder_index_map[root_value] - 1)\n",
    "            root.right = array_to_tree(inorder_index_map[root_value] + 1, right)\n",
    "\n",
    "            return root\n",
    "\n",
    "        preorder_index = 0\n",
    "\n",
    "        # build a hashmap to store value -> its index relations\n",
    "        inorder_index_map = {}\n",
    "        for index, value in enumerate(inorder):\n",
    "            inorder_index_map[value] = index\n",
    "\n",
    "        return array_to_tree(0, len(preorder) - 1)"
   ]
  },
  {
   "cell_type": "code",
   "execution_count": 2,
   "metadata": {},
   "outputs": [],
   "source": [
    "def is_same_tree(tree1, tree2):\n",
    "  if tree1 == None and tree2 == None:\n",
    "    return True\n",
    "  elif tree1 and tree2 and tree1.val == tree2.val:\n",
    "    left_same_tree = is_same_tree(tree1.left, tree2.left)\n",
    "    right_same_tree = is_same_tree(tree1.right, tree2.right)\n",
    "    return left_same_tree and right_same_tree\n",
    "  \n",
    "  return False"
   ]
  },
  {
   "cell_type": "code",
   "execution_count": 3,
   "metadata": {},
   "outputs": [
    {
     "name": "stdout",
     "output_type": "stream",
     "text": [
      "3\n"
     ]
    }
   ],
   "source": [
    "preorder = [3,9,20,15,7]\n",
    "inorder = [9,3,15,20,7]\n",
    "\n",
    "\n",
    "expected = TreeNode(3)\n",
    "expected.left = TreeNode(9)\n",
    "expected.right = TreeNode(20)\n",
    "expected.right.left = TreeNode(15)\n",
    "expected.right.right = TreeNode(7)\n",
    "\n",
    "output = Solution().buildTree(preorder, inorder)\n",
    "print(output.val)\n",
    "x = is_same_tree(output, expected)\n"
   ]
  },
  {
   "cell_type": "code",
   "execution_count": 4,
   "metadata": {},
   "outputs": [
    {
     "name": "stdout",
     "output_type": "stream",
     "text": [
      "-1\n"
     ]
    }
   ],
   "source": [
    "preorder = [-1]\n",
    "inorder = [-1]\n",
    "\n",
    "\n",
    "expected = TreeNode(-1)\n",
    "\n",
    "output = Solution().buildTree(preorder, inorder)\n",
    "print(output.val)\n",
    "x = is_same_tree(output, expected)"
   ]
  }
 ],
 "metadata": {
  "kernelspec": {
   "display_name": "Python 3.10.5 64-bit ('3.10.5')",
   "language": "python",
   "name": "python3"
  },
  "language_info": {
   "codemirror_mode": {
    "name": "ipython",
    "version": 3
   },
   "file_extension": ".py",
   "mimetype": "text/x-python",
   "name": "python",
   "nbconvert_exporter": "python",
   "pygments_lexer": "ipython3",
   "version": "3.10.5"
  },
  "orig_nbformat": 4,
  "vscode": {
   "interpreter": {
    "hash": "dc2d830d89733278cb510121746799b806674abe1436eac19497ff768cf27c2d"
   }
  }
 },
 "nbformat": 4,
 "nbformat_minor": 2
}
