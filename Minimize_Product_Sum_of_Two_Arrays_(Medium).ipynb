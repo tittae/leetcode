{
  "nbformat": 4,
  "nbformat_minor": 0,
  "metadata": {
    "colab": {
      "name": "Minimize Product Sum of Two Arrays (Medium).ipynb",
      "provenance": [],
      "authorship_tag": "ABX9TyOJWs0ToNfhH3aV2rr67Odv",
      "include_colab_link": true
    },
    "kernelspec": {
      "name": "python3",
      "display_name": "Python 3"
    },
    "language_info": {
      "name": "python"
    }
  },
  "cells": [
    {
      "cell_type": "markdown",
      "metadata": {
        "id": "view-in-github",
        "colab_type": "text"
      },
      "source": [
        "<a href=\"https://colab.research.google.com/github/wisarootl/leetcode/blob/main/Minimize_Product_Sum_of_Two_Arrays_(Medium).ipynb\" target=\"_parent\"><img src=\"https://colab.research.google.com/assets/colab-badge.svg\" alt=\"Open In Colab\"/></a>"
      ]
    },
    {
      "cell_type": "markdown",
      "source": [
        "# Minimize Product Sum of Two Arrays"
      ],
      "metadata": {
        "id": "Vfr8dixvvaao"
      }
    },
    {
      "cell_type": "markdown",
      "source": [
        "The product sum of two equal-length arrays a and b is equal to the sum of a[i] * b[i] for all 0 <= i < a.length (0-indexed).\n",
        "\n",
        "- For example, if a = [1,2,3,4] and b = [5,2,3,1], the product sum would be 1*5 + 2*2 + 3*3 + 4*1 = 22.\n",
        "\n",
        "Given two arrays nums1 and nums2 of length n, return the minimum product sum if you are allowed to rearrange the order of the elements in nums1. "
      ],
      "metadata": {
        "id": "7joyUOv_vHK_"
      }
    },
    {
      "cell_type": "markdown",
      "source": [
        "Example 1:\n",
        "\n",
        "```\n",
        "Input: nums1 = [5,3,4,2], nums2 = [4,2,2,5]\n",
        "Output: 40\n",
        "Explanation: We can rearrange nums1 to become [3,5,4,2]. The product sum of [3,5,4,2] and [4,2,2,5] is 3*4 + 5*2 + 4*2 + 2*5 = 40.\n",
        "```\n",
        "\n"
      ],
      "metadata": {
        "id": "gx70gibZvJr3"
      }
    },
    {
      "cell_type": "markdown",
      "source": [
        "Example 2:\n",
        "\n",
        "```\n",
        "Input: nums1 = [2,1,4,5,7], nums2 = [3,2,4,8,6]\n",
        "Output: 65\n",
        "Explanation: We can rearrange nums1 to become [5,7,4,1,2]. The product sum of [5,7,4,1,2] and [3,2,4,8,6] is 5*3 + 7*2 + 4*4 + 1*8 + 2*6 = 65.\n",
        "```\n",
        "\n"
      ],
      "metadata": {
        "id": "pTfkC-Z5vLj0"
      }
    },
    {
      "cell_type": "markdown",
      "source": [
        "Constraints:\n",
        "\n",
        "```\n",
        "n == nums1.length == nums2.length\n",
        "1 <= n <= 105\n",
        "1 <= nums1[i], nums2[i] <= 100\n",
        "```\n",
        "\n"
      ],
      "metadata": {
        "id": "fR1HONVlvQrz"
      }
    },
    {
      "cell_type": "markdown",
      "source": [
        "# Solution 1: sorting"
      ],
      "metadata": {
        "id": "QQgbsFZhvTBn"
      }
    },
    {
      "cell_type": "code",
      "execution_count": 1,
      "metadata": {
        "id": "x-0aT10lrEr2"
      },
      "outputs": [],
      "source": [
        "class Solution:\n",
        "    # Time = O(n log n)\n",
        "    # space = O(n) if not allowed inplace sorting\n",
        "    def minProductSum(self, nums1, nums2):\n",
        "        nums1.sort()\n",
        "        nums2.sort(reverse=True)\n",
        "        product_sum = 0\n",
        "        for idx in range(len(nums1)):\n",
        "            product_sum += nums1[idx] * nums2[idx]\n",
        "        return product_sum\n",
        "    "
      ]
    },
    {
      "cell_type": "code",
      "source": [
        "nums1 = [5,3,4,2]\n",
        "nums2 = [4,2,2,5]\n",
        "expected = 40\n",
        "\n",
        "output = Solution().minProductSum(nums1, nums2)\n",
        "print(output)\n",
        "assert output == expected"
      ],
      "metadata": {
        "colab": {
          "base_uri": "https://localhost:8080/"
        },
        "id": "75njnIGgrHcb",
        "outputId": "cabd9ba7-cb8a-483c-e8e8-b020f75f25d5"
      },
      "execution_count": 2,
      "outputs": [
        {
          "output_type": "stream",
          "name": "stdout",
          "text": [
            "40\n"
          ]
        }
      ]
    },
    {
      "cell_type": "code",
      "source": [
        "nums1 = [2,1,4,5,7]\n",
        "nums2 = [3,2,4,8,6]\n",
        "expected = 65\n",
        "\n",
        "output = Solution().minProductSum(nums1, nums2)\n",
        "print(output)\n",
        "assert output == expected"
      ],
      "metadata": {
        "colab": {
          "base_uri": "https://localhost:8080/"
        },
        "id": "vXxuGHFYsLki",
        "outputId": "4a89cb79-b565-48ec-f07f-cbffa219b06f"
      },
      "execution_count": 3,
      "outputs": [
        {
          "output_type": "stream",
          "name": "stdout",
          "text": [
            "65\n"
          ]
        }
      ]
    },
    {
      "cell_type": "markdown",
      "source": [
        "# Solution 2: counting Sort"
      ],
      "metadata": {
        "id": "iZuGbZCwuLXD"
      }
    },
    {
      "cell_type": "code",
      "source": [
        "class Solution:\n",
        "    # Time = \n",
        "    # space = \n",
        "    def minProductSum(self, nums1, nums2):\n",
        "        counter_length = max(max(nums1), max(nums2))\n",
        "        counter1 = [0] * (counter_length + 1)\n",
        "        counter2 = [0] * (counter_length + 1)\n",
        "        \n",
        "        for num in nums1:\n",
        "            counter1[num] += 1\n",
        "        for num in nums2:\n",
        "            counter2[num] += 1\n",
        "        \n",
        "        p1 = 1\n",
        "        p2 = counter_length\n",
        "        \n",
        "        product_sum = 0\n",
        "        \n",
        "        while p1 <= counter_length and p2 > 0:\n",
        "            \n",
        "            while p1 <= counter_length and counter1[p1] == 0:\n",
        "                p1 += 1\n",
        "                \n",
        "            while p2 > 0 and counter2[p2] == 0:\n",
        "                p2 -= 1\n",
        "            \n",
        "            if p1 == counter_length + 1 or p2 == 0:\n",
        "                break\n",
        "\n",
        "            pair_count = min(counter1[p1], counter2[p2])\n",
        "            product_sum += pair_count * p1 * p2\n",
        "            counter1[p1] -= pair_count\n",
        "            counter2[p2] -= pair_count\n",
        "        \n",
        "        return product_sum\n",
        "    "
      ],
      "metadata": {
        "id": "GwHMS9A8sO5t"
      },
      "execution_count": 4,
      "outputs": []
    },
    {
      "cell_type": "code",
      "source": [
        "nums1 = [5,3,4,2]\n",
        "nums2 = [4,2,2,5]\n",
        "expected = 40\n",
        "\n",
        "output = Solution().minProductSum(nums1, nums2)\n",
        "print(output)\n",
        "assert output == expected"
      ],
      "metadata": {
        "colab": {
          "base_uri": "https://localhost:8080/"
        },
        "id": "XcbTGI-9uJSq",
        "outputId": "acb267d0-d080-4b53-ddc8-980af389a799"
      },
      "execution_count": 5,
      "outputs": [
        {
          "output_type": "stream",
          "name": "stdout",
          "text": [
            "40\n"
          ]
        }
      ]
    },
    {
      "cell_type": "code",
      "source": [
        "nums1 = [2,1,4,5,7]\n",
        "nums2 = [3,2,4,8,6]\n",
        "expected = 65\n",
        "\n",
        "output = Solution().minProductSum(nums1, nums2)\n",
        "print(output)\n",
        "assert output == expected"
      ],
      "metadata": {
        "colab": {
          "base_uri": "https://localhost:8080/"
        },
        "id": "941CuMUHvD3F",
        "outputId": "e87c4029-81d1-4df4-fae9-c529925ec34b"
      },
      "execution_count": 6,
      "outputs": [
        {
          "output_type": "stream",
          "name": "stdout",
          "text": [
            "65\n"
          ]
        }
      ]
    }
  ]
}