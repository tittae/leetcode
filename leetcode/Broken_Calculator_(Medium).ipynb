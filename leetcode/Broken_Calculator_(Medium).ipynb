{
  "nbformat": 4,
  "nbformat_minor": 0,
  "metadata": {
    "colab": {
      "name": "Broken Calculator (Medium).ipynb",
      "provenance": [],
      "authorship_tag": "ABX9TyOvhxhwRzg0flzSbP+Q1fdb",
      "include_colab_link": true
    },
    "kernelspec": {
      "name": "python3",
      "display_name": "Python 3"
    },
    "language_info": {
      "name": "python"
    }
  },
  "cells": [
    {
      "cell_type": "markdown",
      "metadata": {
        "id": "view-in-github",
        "colab_type": "text"
      },
      "source": [
        "<a href=\"https://colab.research.google.com/github/wisarootl/leetcode/blob/main/Broken_Calculator_(Medium).ipynb\" target=\"_parent\"><img src=\"https://colab.research.google.com/assets/colab-badge.svg\" alt=\"Open In Colab\"/></a>"
      ]
    },
    {
      "cell_type": "markdown",
      "source": [
        "# Broken Calculator"
      ],
      "metadata": {
        "id": "QlKoWxcAVxjM"
      }
    },
    {
      "cell_type": "markdown",
      "source": [
        "There is a broken calculator that has the integer startValue on its display initially. In one operation, you can:\n",
        "\n",
        "- multiply the number on display by 2, or\n",
        "- subtract 1 from the number on display.\n",
        "\n",
        "Given two integers startValue and target, return the minimum number of operations needed to display target on the calculator."
      ],
      "metadata": {
        "id": "iUvfZ-e0Vt0z"
      }
    },
    {
      "cell_type": "markdown",
      "source": [
        "Example 1:\n",
        "\n",
        "```\n",
        "Input: startValue = 2, target = 3\n",
        "Output: 2\n",
        "Explanation: Use double operation and then decrement operation {2 -> 4 -> 3}.\n",
        "```\n",
        "\n"
      ],
      "metadata": {
        "id": "2r-_DP_bV3Zy"
      }
    },
    {
      "cell_type": "markdown",
      "source": [
        "Example 2:\n",
        "\n",
        "```\n",
        "Input: startValue = 5, target = 8\n",
        "Output: 2\n",
        "Explanation: Use decrement and then double {5 -> 4 -> 8}.\n",
        "```\n",
        "\n"
      ],
      "metadata": {
        "id": "WfHqQTFjV5HE"
      }
    },
    {
      "cell_type": "markdown",
      "source": [
        "Example 3:\n",
        "\n",
        "```\n",
        "Input: startValue = 3, target = 10\n",
        "Output: 3\n",
        "Explanation: Use double, decrement and double {3 -> 6 -> 5 -> 10}.\n",
        "```\n",
        "\n"
      ],
      "metadata": {
        "id": "r0-PwDH7V7cQ"
      }
    },
    {
      "cell_type": "markdown",
      "source": [
        "Constraints:\n",
        "\n",
        "```\n",
        "1 <= x, y <= 109\n",
        "```\n",
        "\n"
      ],
      "metadata": {
        "id": "ljRk1d-GWE9X"
      }
    },
    {
      "cell_type": "markdown",
      "source": [
        "# Solution"
      ],
      "metadata": {
        "id": "IpNopFs_V-MK"
      }
    },
    {
      "cell_type": "markdown",
      "source": [
        "- operate backward"
      ],
      "metadata": {
        "id": "nBIfOBJiV_xj"
      }
    },
    {
      "cell_type": "code",
      "execution_count": 1,
      "metadata": {
        "id": "quCboU2LRjs5"
      },
      "outputs": [],
      "source": [
        "# Time = O(log(target))\n",
        "# Space = O(1)\n",
        "\n",
        "class Solution:\n",
        "    def brokenCalc(self, startValue: int, target: int) -> int:\n",
        "        value = target\n",
        "        count = 0\n",
        "        while startValue < value:\n",
        "            count += 1\n",
        "            if value % 2 == 1:\n",
        "                value += 1\n",
        "            else:\n",
        "                value //= 2\n",
        "        \n",
        "        return count + (startValue - value)"
      ]
    },
    {
      "cell_type": "code",
      "source": [
        "startValue = 2\n",
        "target = 3\n",
        "expected = 2\n",
        "\n",
        "output = Solution().brokenCalc(startValue, target)\n",
        "print(output)\n",
        "assert output == expected"
      ],
      "metadata": {
        "colab": {
          "base_uri": "https://localhost:8080/"
        },
        "id": "2sE0wAbJWH-F",
        "outputId": "51e8ce2f-8117-4c4a-d885-77a916dcfbbf"
      },
      "execution_count": 2,
      "outputs": [
        {
          "output_type": "stream",
          "name": "stdout",
          "text": [
            "2\n"
          ]
        }
      ]
    },
    {
      "cell_type": "code",
      "source": [
        "startValue = 5\n",
        "target = 8\n",
        "expected = 2\n",
        "\n",
        "output = Solution().brokenCalc(startValue, target)\n",
        "print(output)\n",
        "assert output == expected"
      ],
      "metadata": {
        "colab": {
          "base_uri": "https://localhost:8080/"
        },
        "id": "6Ojgu_RyWa1K",
        "outputId": "17dfab07-d7bc-4597-b792-4386ae9332e7"
      },
      "execution_count": 3,
      "outputs": [
        {
          "output_type": "stream",
          "name": "stdout",
          "text": [
            "2\n"
          ]
        }
      ]
    },
    {
      "cell_type": "code",
      "source": [
        "startValue = 3\n",
        "target = 10\n",
        "expected = 3\n",
        "\n",
        "output = Solution().brokenCalc(startValue, target)\n",
        "print(output)\n",
        "assert output == expected"
      ],
      "metadata": {
        "colab": {
          "base_uri": "https://localhost:8080/"
        },
        "id": "79tlqBwcWftv",
        "outputId": "50946330-e42f-429d-d94c-3f9c803290fb"
      },
      "execution_count": 4,
      "outputs": [
        {
          "output_type": "stream",
          "name": "stdout",
          "text": [
            "3\n"
          ]
        }
      ]
    }
  ]
}