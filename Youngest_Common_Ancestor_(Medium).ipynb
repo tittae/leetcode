{
  "nbformat": 4,
  "nbformat_minor": 0,
  "metadata": {
    "colab": {
      "name": "Youngest Common Ancestor (Medium).ipynb",
      "provenance": [],
      "authorship_tag": "ABX9TyPWHqWxKq+sZVyM7pLc6VSc",
      "include_colab_link": true
    },
    "kernelspec": {
      "name": "python3",
      "display_name": "Python 3"
    },
    "language_info": {
      "name": "python"
    }
  },
  "cells": [
    {
      "cell_type": "markdown",
      "metadata": {
        "id": "view-in-github",
        "colab_type": "text"
      },
      "source": [
        "<a href=\"https://colab.research.google.com/github/wisarootl/leetcode/blob/main/Youngest_Common_Ancestor_(Medium).ipynb\" target=\"_parent\"><img src=\"https://colab.research.google.com/assets/colab-badge.svg\" alt=\"Open In Colab\"/></a>"
      ]
    },
    {
      "cell_type": "markdown",
      "source": [
        "# Youngest Common Ancestor"
      ],
      "metadata": {
        "id": "8JjpRYIZ4Brt"
      }
    },
    {
      "cell_type": "code",
      "execution_count": 1,
      "metadata": {
        "id": "k1JVqLSO3958"
      },
      "outputs": [],
      "source": [
        "# This is an input class. Do not edit.\n",
        "class AncestralTree:\n",
        "\tdef __init__(self, name):\n",
        "\t\tself.name = name\n",
        "\t\tself.ancestor = None\n",
        "\n",
        "# Time O(d)\n",
        "# Space O(d)\n",
        "def getYoungestCommonAncestor(topAncestor, descendantOne, descendantTwo):\n",
        "\tdescendantOne_branch = traverse_to_root(descendantOne)\n",
        "\tdescendantTwo_branch = traverse_to_root(descendantTwo)\n",
        "\tpointer1 = len(descendantOne_branch) - 1\n",
        "\tpointer2 = len(descendantTwo_branch) - 1\n",
        "\twhile descendantOne_branch[pointer1] == descendantTwo_branch[pointer2]:\n",
        "\t\tpointer1 -= 1\n",
        "\t\tpointer2 -= 1\n",
        "\treturn descendantOne_branch[pointer1 + 1]\n",
        "\n",
        "def traverse_to_root(descendantOne):\n",
        "\tnode = descendantOne\n",
        "\tbranch = []\n",
        "\twhile node != None:\n",
        "\t\tbranch.append(node)\n",
        "\t\tnode = node.ancestor\n",
        "\treturn branch"
      ]
    },
    {
      "cell_type": "code",
      "source": [
        "node = {}\n",
        "node_list = ['A', 'B', 'C', 'D', 'E', 'F', 'G', 'H', 'I']\n",
        "for i in node_list:\n",
        "  node[i] = AncestralTree(i)\n",
        "\n",
        "node['G'].ancestor = node['C']\n",
        "node['F'].ancestor = node['C']\n",
        "node['C'].ancestor = node['A']\n",
        "node['I'].ancestor = node['D']\n",
        "node['H'].ancestor = node['D']\n",
        "node['D'].ancestor = node['B']\n",
        "node['E'].ancestor = node['B']\n",
        "node['B'].ancestor = node['A']\n",
        "\n",
        "topAncestor = node['A']\n",
        "descendantOne = node['E']\n",
        "descendantTwo = node['I']"
      ],
      "metadata": {
        "id": "5gf_6-nL4vv2"
      },
      "execution_count": 2,
      "outputs": []
    },
    {
      "cell_type": "code",
      "source": [
        "result = getYoungestCommonAncestor(topAncestor, descendantOne, descendantTwo)\n",
        "result.name"
      ],
      "metadata": {
        "colab": {
          "base_uri": "https://localhost:8080/",
          "height": 35
        },
        "id": "C6VkvIbd6DSV",
        "outputId": "4cc45c4d-97f7-4f2c-c88f-d091ec7f3cb5"
      },
      "execution_count": 3,
      "outputs": [
        {
          "output_type": "execute_result",
          "data": {
            "application/vnd.google.colaboratory.intrinsic+json": {
              "type": "string"
            },
            "text/plain": [
              "'B'"
            ]
          },
          "metadata": {},
          "execution_count": 3
        }
      ]
    }
  ]
}