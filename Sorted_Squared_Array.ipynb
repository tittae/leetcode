{
  "nbformat": 4,
  "nbformat_minor": 0,
  "metadata": {
    "colab": {
      "name": "Sorted Squared Array.ipynb",
      "provenance": [],
      "authorship_tag": "ABX9TyOzg8s2NwaMuN/rgF36ZVaw",
      "include_colab_link": true
    },
    "kernelspec": {
      "name": "python3",
      "display_name": "Python 3"
    },
    "language_info": {
      "name": "python"
    }
  },
  "cells": [
    {
      "cell_type": "markdown",
      "metadata": {
        "id": "view-in-github",
        "colab_type": "text"
      },
      "source": [
        "<a href=\"https://colab.research.google.com/github/tittae/leetcode/blob/main/Sorted_Squared_Array.ipynb\" target=\"_parent\"><img src=\"https://colab.research.google.com/assets/colab-badge.svg\" alt=\"Open In Colab\"/></a>"
      ]
    },
    {
      "cell_type": "markdown",
      "metadata": {
        "id": "U7oFdPcAR2Nh"
      },
      "source": [
        "# Sorted Squared Array"
      ]
    },
    {
      "cell_type": "markdown",
      "metadata": {
        "id": "D2wja7MQR37E"
      },
      "source": [
        "Write a function that takes in a non-empty array of integers that are sorted in ascending order and returns a new array of the same length with the squares of the original integers also sorted in ascending order.\n",
        "\n",
        "Sample Input\n",
        "```\n",
        "array = [1, 2, 3, 5, 6, 8, 9]\n",
        "```\n",
        "\n",
        "\n",
        "Sample Output\n",
        "```\n",
        "[1, 4, 9, 25, 36, 64, 81]\n",
        "```\n",
        "\n",
        "\n"
      ]
    },
    {
      "cell_type": "code",
      "metadata": {
        "id": "4qnmX9gzE5do"
      },
      "source": [
        "# square each element and sort\n",
        "# O(nlog(n)) time and O(n) space \n",
        "def sortedSquaredArray(array):\n",
        "  sq_array = [0] * len(array)\n",
        "  for i in range(len(array)):\n",
        "    sq_array[i] = array[i]**2\n",
        "  sq_array.sort()\n",
        "\t\n",
        "  return sq_array"
      ],
      "execution_count": null,
      "outputs": []
    },
    {
      "cell_type": "code",
      "metadata": {
        "id": "ATaRIKiXFY6x"
      },
      "source": [
        "array = [1, 2, 3, 5, 6, 8, 9]"
      ],
      "execution_count": null,
      "outputs": []
    },
    {
      "cell_type": "code",
      "metadata": {
        "colab": {
          "base_uri": "https://localhost:8080/"
        },
        "id": "Y1j1xrTrFaif",
        "outputId": "2ed8aa3d-5a50-4633-d5b6-77c5f43773d0"
      },
      "source": [
        "print(sortedSquaredArray(array))"
      ],
      "execution_count": null,
      "outputs": [
        {
          "output_type": "stream",
          "name": "stdout",
          "text": [
            "[1, 4, 9, 25, 36, 64, 81]\n"
          ]
        }
      ]
    },
    {
      "cell_type": "code",
      "metadata": {
        "id": "T1JQ-3M3OL0N"
      },
      "source": [
        "# two pointer while loop\n",
        "# O(n)T & O(n)S\n",
        "def sortedSquaredArray(array):\n",
        "\tsq_array = [0] * len(array)\n",
        "\tleft = 0\n",
        "\tright = len(array) - 1\n",
        "\tsq_array_idx = len(array) - 1\n",
        "\t\n",
        "\twhile left <= right:\n",
        "\t\tif abs(array[left]) > abs(array[right]):\n",
        "\t\t\tsq_array[sq_array_idx] = array[left]**2\n",
        "\t\t\tsq_array_idx -= 1\n",
        "\t\t\tleft += 1\n",
        "\n",
        "\t\telse:\n",
        "\t\t\tsq_array[sq_array_idx] = array[right]**2\n",
        "\t\t\tsq_array_idx -= 1\n",
        "\t\t\tright -= 1\n",
        "\n",
        "\n",
        "\treturn sq_array"
      ],
      "execution_count": null,
      "outputs": []
    },
    {
      "cell_type": "code",
      "metadata": {
        "colab": {
          "base_uri": "https://localhost:8080/"
        },
        "id": "qOYJb_EwOX4z",
        "outputId": "ce3d3ce1-838a-4958-a902-b1b99ce5b537"
      },
      "source": [
        "print(sortedSquaredArray(array))"
      ],
      "execution_count": null,
      "outputs": [
        {
          "output_type": "stream",
          "name": "stdout",
          "text": [
            "[1, 4, 9, 25, 36, 64, 81]\n"
          ]
        }
      ]
    },
    {
      "cell_type": "code",
      "metadata": {
        "id": "3cd4ibLtRUxM"
      },
      "source": [
        "# two pointer for loop\n",
        "# O(n)T & O(n)S\n",
        "def sortedSquaredArray(array):\n",
        "\tsq_array = [0] * len(array)\n",
        "\tleft = 0\n",
        "\tright = len(array) - 1\n",
        "\t\n",
        "\tfor idx in reversed(range(len(array))):\n",
        "\t\tif abs(array[left]) > abs(array[right]):\n",
        "\t\t\tsq_array[idx] = array[left]**2\n",
        "\t\t\tleft += 1\n",
        "\t\telse:\n",
        "\t\t\tsq_array[idx] = array[right]**2\n",
        "\t\t\tright -= 1\n",
        "\n",
        "\treturn sq_array"
      ],
      "execution_count": null,
      "outputs": []
    },
    {
      "cell_type": "code",
      "metadata": {
        "colab": {
          "base_uri": "https://localhost:8080/"
        },
        "id": "xAEsTCb9RWC2",
        "outputId": "6415ed1a-8c40-48c3-ddbf-512ee1d141ac"
      },
      "source": [
        "print(sortedSquaredArray(array))"
      ],
      "execution_count": null,
      "outputs": [
        {
          "output_type": "stream",
          "name": "stdout",
          "text": [
            "[1, 4, 9, 25, 36, 64, 81]\n"
          ]
        }
      ]
    }
  ]
}