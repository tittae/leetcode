{
  "nbformat": 4,
  "nbformat_minor": 0,
  "metadata": {
    "colab": {
      "name": "Levenshtein Distance (Medium).ipynb",
      "provenance": [],
      "authorship_tag": "ABX9TyOqEgLQ9YYXPbnhARVWRGn4",
      "include_colab_link": true
    },
    "kernelspec": {
      "name": "python3",
      "display_name": "Python 3"
    },
    "language_info": {
      "name": "python"
    }
  },
  "cells": [
    {
      "cell_type": "markdown",
      "metadata": {
        "id": "view-in-github",
        "colab_type": "text"
      },
      "source": [
        "<a href=\"https://colab.research.google.com/github/wisarootl/leetcode/blob/main/Levenshtein_Distance_(Medium).ipynb\" target=\"_parent\"><img src=\"https://colab.research.google.com/assets/colab-badge.svg\" alt=\"Open In Colab\"/></a>"
      ]
    },
    {
      "cell_type": "markdown",
      "metadata": {
        "id": "Mi6G-iRXGdHg"
      },
      "source": [
        "# Levenshtein Distance"
      ]
    },
    {
      "cell_type": "markdown",
      "metadata": {
        "id": "3KhHnWb-GiIQ"
      },
      "source": [
        "Write a function that takes in two strings and returns the minimum number of edit operations that need to be performed on the first string to obtain the second string.\n",
        "\n",
        "There are three edit operations: insertion of a character, deletion of a character, and substitution of a character for another."
      ]
    },
    {
      "cell_type": "markdown",
      "metadata": {
        "id": "Uhk-6wUoGkhr"
      },
      "source": [
        "Sample Input\n",
        "\n",
        "```\n",
        "str1 = \"abc\"\n",
        "str2 = \"yabd\"\n",
        "```\n",
        "\n"
      ]
    },
    {
      "cell_type": "markdown",
      "metadata": {
        "id": "rHGdK6L3GmXF"
      },
      "source": [
        "Sample Output\n",
        "\n",
        "```\n",
        "2 // insert \"y\"; substitute \"c\" for \"d\"\n",
        "```\n",
        "\n"
      ]
    },
    {
      "cell_type": "code",
      "metadata": {
        "id": "wYQvuF7KGaR-"
      },
      "source": [
        "# Time O(nm)\n",
        "# Space O(min(n, m))\n",
        "\n",
        "def levenshteinDistance(str1, str2):\n",
        "  if len(str1) > len(str2):\n",
        "    long_str, short_str = str1, str2\n",
        "  else:\n",
        "    long_str, short_str = str2, str1\n",
        "\n",
        "  previous_row = list(range(len(short_str) + 1))\n",
        "  current_row = list(range(len(short_str) + 1))\n",
        "\n",
        "  for long_str_idx in range(1, len(long_str) + 1):\n",
        "    current_row[0] = previous_row[0] + 1\n",
        "    for short_str_idx in range(1, len(short_str) + 1):\n",
        "      if short_str[short_str_idx - 1] == long_str[long_str_idx - 1]:\n",
        "        current_row[short_str_idx] = previous_row[short_str_idx - 1]\n",
        "      else:\n",
        "        current_row[short_str_idx] = 1 + min(current_row[short_str_idx - 1], previous_row[short_str_idx - 1], previous_row[short_str_idx])\n",
        "        \n",
        "    previous_row = current_row[:]\n",
        "\n",
        "  return current_row[-1]"
      ],
      "execution_count": 33,
      "outputs": []
    },
    {
      "cell_type": "code",
      "metadata": {
        "colab": {
          "base_uri": "https://localhost:8080/"
        },
        "id": "MrzKwdo2fzf_",
        "outputId": "52d034de-2e0e-4699-c99c-60e0ea27dd14"
      },
      "source": [
        "str1 = \"abc\"\n",
        "str2 = \"yabd\"\n",
        "print(levenshteinDistance(str1, str2))"
      ],
      "execution_count": 34,
      "outputs": [
        {
          "output_type": "stream",
          "name": "stdout",
          "text": [
            "2\n"
          ]
        }
      ]
    }
  ]
}