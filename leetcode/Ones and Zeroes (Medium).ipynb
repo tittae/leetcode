{
 "cells": [
  {
   "cell_type": "markdown",
   "metadata": {},
   "source": [
    "# Ones and Zeroes\n"
   ]
  },
  {
   "cell_type": "markdown",
   "metadata": {},
   "source": [
    "You are given an array of binary strings strs and two integers m and n.\n",
    "\n",
    "Return the size of the largest subset of strs such that there are at most m 0's and n 1's in the subset.\n",
    "\n",
    "A set x is a subset of a set y if all elements of x are also elements of y.\n"
   ]
  },
  {
   "cell_type": "markdown",
   "metadata": {},
   "source": [
    "Example 1:\n",
    "\n",
    "```\n",
    "Input: strs = [\"10\",\"0001\",\"111001\",\"1\",\"0\"], m = 5, n = 3\n",
    "Output: 4\n",
    "Explanation: The largest subset with at most 5 0's and 3 1's is {\"10\", \"0001\", \"1\", \"0\"}, so the answer is 4.\n",
    "Other valid but smaller subsets include {\"0001\", \"1\"} and {\"10\", \"1\", \"0\"}.\n",
    "{\"111001\"} is an invalid subset because it contains 4 1's, greater than the maximum of 3.\n",
    "```\n"
   ]
  },
  {
   "cell_type": "markdown",
   "metadata": {},
   "source": [
    "Example 2:\n",
    "\n",
    "```\n",
    "Input: strs = [\"10\",\"0\",\"1\"], m = 1, n = 1\n",
    "Output: 2\n",
    "Explanation: The largest subset is {\"0\", \"1\"}, so the answer is 2.\n",
    "```\n"
   ]
  },
  {
   "cell_type": "markdown",
   "metadata": {},
   "source": [
    "Constraints:\n",
    "\n",
    "```\n",
    "1 <= strs.length <= 600\n",
    "1 <= strs[i].length <= 100\n",
    "strs[i] consists only of digits '0' and '1'.\n",
    "1 <= m, n <= 100\n",
    "```\n"
   ]
  },
  {
   "cell_type": "code",
   "execution_count": 1,
   "metadata": {},
   "outputs": [],
   "source": [
    "from collections import Counter, defaultdict\n",
    "\n",
    "\n",
    "class Solution:\n",
    "    # time = O(l* m*n)\n",
    "    # space = O(m*n)\n",
    "    def findMaxForm(self, strs, m, n):\n",
    "        counter = Counter([(s.count('0'), s.count('1')) for s in strs])\n",
    "        print(counter)\n",
    "        d = defaultdict(lambda: -1)\n",
    "        def dfs(m, n, count):\n",
    "            if d[(m, n)] >= count:\n",
    "                return d[(m, n)]\n",
    "            max_count = count\n",
    "            d[(m, n)] = count\n",
    "\n",
    "            for k, v in counter.items():\n",
    "                if v <= 0:\n",
    "                    continue\n",
    "                zeros, ones = k[0], k[1]\n",
    "                if zeros <= m and ones <= n:\n",
    "                    counter[k] -= 1\n",
    "                    max_count = max(max_count, dfs(\n",
    "                        m - zeros, n - ones, count + 1))\n",
    "                    counter[k] += 1\n",
    "            return max_count\n",
    "        result = dfs(m, n, 0)\n",
    "        return result\n"
   ]
  },
  {
   "cell_type": "code",
   "execution_count": 2,
   "metadata": {},
   "outputs": [
    {
     "name": "stdout",
     "output_type": "stream",
     "text": [
      "Counter({(1, 1): 1, (3, 1): 1, (2, 4): 1, (0, 1): 1, (1, 0): 1})\n",
      "4\n"
     ]
    }
   ],
   "source": [
    "strs = [\"10\", \"0001\", \"111001\", \"1\", \"0\"]\n",
    "m = 5\n",
    "n = 3\n",
    "expected = 4\n",
    "\n",
    "output = Solution().findMaxForm(strs, m, n)\n",
    "print(output)\n",
    "assert output == expected\n"
   ]
  },
  {
   "cell_type": "code",
   "execution_count": 3,
   "metadata": {},
   "outputs": [
    {
     "name": "stdout",
     "output_type": "stream",
     "text": [
      "Counter({(1, 1): 1, (1, 0): 1, (0, 1): 1})\n",
      "2\n"
     ]
    }
   ],
   "source": [
    "strs = [\"10\",\"0\",\"1\"]\n",
    "m = 1\n",
    "n = 1\n",
    "expected = 2\n",
    "\n",
    "output = Solution().findMaxForm(strs, m, n)\n",
    "print(output)\n",
    "assert output == expected\n",
    "\n"
   ]
  }
 ],
 "metadata": {
  "interpreter": {
   "hash": "3822405be9f5fb329f7270cbdcf73e762c62b3f383c5e71390a1a4648678c1cb"
  },
  "kernelspec": {
   "display_name": "Python 3.10.4 64-bit (windows store)",
   "language": "python",
   "name": "python3"
  },
  "language_info": {
   "codemirror_mode": {
    "name": "ipython",
    "version": 3
   },
   "file_extension": ".py",
   "mimetype": "text/x-python",
   "name": "python",
   "nbconvert_exporter": "python",
   "pygments_lexer": "ipython3",
   "version": "3.10.4"
  },
  "orig_nbformat": 4
 },
 "nbformat": 4,
 "nbformat_minor": 2
}
