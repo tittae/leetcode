{
 "cells": [
  {
   "cell_type": "markdown",
   "metadata": {},
   "source": [
    "# Permutations II"
   ]
  },
  {
   "cell_type": "markdown",
   "metadata": {},
   "source": [
    "Given a collection of numbers, nums, that might contain duplicates, return all possible unique permutations in any order."
   ]
  },
  {
   "cell_type": "markdown",
   "metadata": {},
   "source": [
    "Example 1:\n",
    "\n",
    "```\n",
    "Input: nums = [1,1,2]\n",
    "Output:\n",
    "[[1,1,2],\n",
    " [1,2,1],\n",
    " [2,1,1]]\n",
    "```"
   ]
  },
  {
   "cell_type": "markdown",
   "metadata": {},
   "source": [
    "Example 2:\n",
    "\n",
    "```\n",
    "Input: nums = [1,2,3]\n",
    "Output: [[1,2,3],[1,3,2],[2,1,3],[2,3,1],[3,1,2],[3,2,1]]\n",
    "```"
   ]
  },
  {
   "cell_type": "markdown",
   "metadata": {},
   "source": [
    "Constraints:\n",
    "\n",
    "```\n",
    "1 <= nums.length <= 8\n",
    "-10 <= nums[i] <= 10\n",
    "```"
   ]
  },
  {
   "cell_type": "code",
   "execution_count": 5,
   "metadata": {},
   "outputs": [],
   "source": [
    "from collections import Counter"
   ]
  },
  {
   "cell_type": "markdown",
   "metadata": {},
   "source": [
    "\n",
    "![image.png](data:image/png;base64,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)"
   ]
  },
  {
   "cell_type": "code",
   "execution_count": 7,
   "metadata": {},
   "outputs": [],
   "source": [
    "class Solution:\n",
    "    # time = in the picture above\n",
    "    # time (approx.) = O(N*N!)\n",
    "    # space = O(N) excluing output\n",
    "    # space = O(N*N!) incluing output\n",
    "    def permuteUnique(self, nums: list[int]) -> list[list[int]]:\n",
    "        results = []\n",
    "        def backtrack(comb, counter):\n",
    "            if len(comb) == len(nums):\n",
    "                # make a deep copy of the resulting permutation,\n",
    "                # since the permutation would be backtracked later.\n",
    "                results.append(list(comb))\n",
    "                return\n",
    "\n",
    "            for num in counter:\n",
    "                if counter[num] > 0:\n",
    "                    # add this number into the current combination\n",
    "                    comb.append(num)\n",
    "                    counter[num] -= 1\n",
    "                    # continue the exploration\n",
    "                    backtrack(comb, counter)\n",
    "                    # revert the choice for the next exploration\n",
    "                    comb.pop()\n",
    "                    counter[num] += 1\n",
    "\n",
    "        backtrack([], Counter(nums))\n",
    "\n",
    "        return results"
   ]
  },
  {
   "cell_type": "code",
   "execution_count": 10,
   "metadata": {},
   "outputs": [
    {
     "name": "stdout",
     "output_type": "stream",
     "text": [
      "[[1, 1, 2], [1, 2, 1], [2, 1, 1]]\n"
     ]
    }
   ],
   "source": [
    "nums = [1,1,2]\n",
    "expected = [[1, 1, 2], [1, 2, 1], [2, 1, 1]]\n",
    "\n",
    "output = Solution().permuteUnique(nums)\n",
    "print(output)\n",
    "assert output == expected"
   ]
  },
  {
   "cell_type": "code",
   "execution_count": 11,
   "metadata": {},
   "outputs": [
    {
     "name": "stdout",
     "output_type": "stream",
     "text": [
      "[[1, 2, 3], [1, 3, 2], [2, 1, 3], [2, 3, 1], [3, 1, 2], [3, 2, 1]]\n"
     ]
    }
   ],
   "source": [
    "nums = [1,2,3]\n",
    "expected = [[1,2,3],[1,3,2],[2,1,3],[2,3,1],[3,1,2],[3,2,1]]\n",
    "\n",
    "output = Solution().permuteUnique(nums)\n",
    "print(output)\n",
    "assert output == expected"
   ]
  }
 ],
 "metadata": {
  "interpreter": {
   "hash": "20ac7aad763b689ebdaff2f53a3073c7ed55a0f51860968fbf5603f714378c4e"
  },
  "kernelspec": {
   "display_name": "Python 3.10.0 64-bit",
   "language": "python",
   "name": "python3"
  },
  "language_info": {
   "codemirror_mode": {
    "name": "ipython",
    "version": 3
   },
   "file_extension": ".py",
   "mimetype": "text/x-python",
   "name": "python",
   "nbconvert_exporter": "python",
   "pygments_lexer": "ipython3",
   "version": "3.10.0"
  },
  "orig_nbformat": 4
 },
 "nbformat": 4,
 "nbformat_minor": 2
}
