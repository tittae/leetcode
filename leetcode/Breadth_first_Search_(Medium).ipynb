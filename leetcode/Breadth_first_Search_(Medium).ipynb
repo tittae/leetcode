{
  "nbformat": 4,
  "nbformat_minor": 0,
  "metadata": {
    "colab": {
      "name": "Breadth-first Search (Medium).ipynb",
      "provenance": [],
      "authorship_tag": "ABX9TyPfo8eJYRzp1WLxSjGMhXtR",
      "include_colab_link": true
    },
    "kernelspec": {
      "name": "python3",
      "display_name": "Python 3"
    },
    "language_info": {
      "name": "python"
    }
  },
  "cells": [
    {
      "cell_type": "markdown",
      "metadata": {
        "id": "view-in-github",
        "colab_type": "text"
      },
      "source": [
        "<a href=\"https://colab.research.google.com/github/wisarootl/leetcode/blob/main/Breadth_first_Search_(Medium).ipynb\" target=\"_parent\"><img src=\"https://colab.research.google.com/assets/colab-badge.svg\" alt=\"Open In Colab\"/></a>"
      ]
    },
    {
      "cell_type": "markdown",
      "source": [
        "# Breadth-first Search"
      ],
      "metadata": {
        "id": "xa--pq_gS9LH"
      }
    },
    {
      "cell_type": "markdown",
      "source": [
        "You're given a `Node` class that has a `name` and an array of optional `children `nodes. When put together, nodes form an acyclic tree-like structure.\n",
        "\n",
        "Implement the `breadthFirstSearch` method on the `Node` class, which takes in an empty array, traverses the tree using the Breadth-first Search approach (specifically navigating the tree from left to right), stores all of the nodes' names in the input array, and returns it.\n",
        "\n",
        "If you're unfamiliar with Breadth-first Search, we recommend watching the Conceptual Overview section of this question's video explanation before starting to code."
      ],
      "metadata": {
        "id": "MfYATmDWS-L7"
      }
    },
    {
      "cell_type": "markdown",
      "source": [
        "Sample Input\n",
        "\n",
        "```\n",
        "graph = A\n",
        "     /  |  \\\n",
        "    B   C   D\n",
        "   / \\     / \\\n",
        "  E   F   G   H\n",
        "     / \\   \\\n",
        "    I   J   K\n",
        "```\n",
        "\n"
      ],
      "metadata": {
        "id": "UoQ6Usy_TD0T"
      }
    },
    {
      "cell_type": "markdown",
      "source": [
        "Sample Output\n",
        "\n",
        "```\n",
        "[\"A\", \"B\", \"C\", \"D\", \"E\", \"F\", \"G\", \"H\", \"I\", \"J\", \"K\"]\n",
        "```\n",
        "\n"
      ],
      "metadata": {
        "id": "7u2DwlOiTF0m"
      }
    },
    {
      "cell_type": "code",
      "execution_count": 1,
      "metadata": {
        "id": "gDxtzeH2S7IV"
      },
      "outputs": [],
      "source": [
        "# Do not edit the class below except\n",
        "# for the breadthFirstSearch method.\n",
        "# Feel free to add new properties\n",
        "# and methods to the class.\n",
        "class Node:\n",
        "\tdef __init__(self, name):\n",
        "\t\tself.children = []\n",
        "\t\tself.name = name\n",
        "\n",
        "\tdef addChild(self, name):\n",
        "\t\tself.children.append(Node(name))\n",
        "\t\treturn self\n",
        "\t\n",
        "\t# Time O(v + e)\n",
        "\t# Space O(v)\n",
        "\tdef breadthFirstSearch(self, array = []):\n",
        "\t\tfringe = [self]\n",
        "\t\twhile len(fringe) > 0:\n",
        "\t\t\tfront = fringe.pop(0)\n",
        "\t\t\tarray.append(front.name)\n",
        "\t\t\tfor child in front.children:\n",
        "\t\t\t\tfringe.append(child)\n",
        "\t\treturn array"
      ]
    },
    {
      "cell_type": "code",
      "source": [
        "root = Node('A')\n",
        "root.children.append(Node('B'))\n",
        "root.children.append(Node('C'))\n",
        "root.children.append(Node('D'))\n",
        "root.children[0].children.append(Node('E'))\n",
        "root.children[0].children.append(Node('F'))\n",
        "root.children[0].children[1].children.append(Node('I'))\n",
        "root.children[0].children[1].children.append(Node('J'))\n",
        "root.children[2].children.append(Node('G'))\n",
        "root.children[2].children.append(Node('H'))\n",
        "root.children[2].children[0].children.append(Node('K'))\n",
        "\n",
        "root.breadthFirstSearch()"
      ],
      "metadata": {
        "colab": {
          "base_uri": "https://localhost:8080/"
        },
        "id": "zTz6zhruTPNv",
        "outputId": "6468ead3-0d47-4751-99ce-ae172a2495c7"
      },
      "execution_count": 2,
      "outputs": [
        {
          "output_type": "execute_result",
          "data": {
            "text/plain": [
              "['A', 'B', 'C', 'D', 'E', 'F', 'G', 'H', 'I', 'J', 'K']"
            ]
          },
          "metadata": {},
          "execution_count": 2
        }
      ]
    }
  ]
}