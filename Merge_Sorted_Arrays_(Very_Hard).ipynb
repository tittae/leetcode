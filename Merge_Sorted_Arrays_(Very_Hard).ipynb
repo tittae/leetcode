{
  "nbformat": 4,
  "nbformat_minor": 0,
  "metadata": {
    "colab": {
      "name": "Merge Sorted Arrays (Very Hard).ipynb",
      "provenance": [],
      "authorship_tag": "ABX9TyOk4MTB8cAAt8RArG9lMW+w",
      "include_colab_link": true
    },
    "kernelspec": {
      "name": "python3",
      "display_name": "Python 3"
    },
    "language_info": {
      "name": "python"
    }
  },
  "cells": [
    {
      "cell_type": "markdown",
      "metadata": {
        "id": "view-in-github",
        "colab_type": "text"
      },
      "source": [
        "<a href=\"https://colab.research.google.com/github/wisarootl/leetcode/blob/main/Merge_Sorted_Arrays_(Very_Hard).ipynb\" target=\"_parent\"><img src=\"https://colab.research.google.com/assets/colab-badge.svg\" alt=\"Open In Colab\"/></a>"
      ]
    },
    {
      "cell_type": "markdown",
      "source": [
        ""
      ],
      "metadata": {
        "id": "4BtldnpHYkk9"
      }
    },
    {
      "cell_type": "code",
      "source": [
        "# Time = O(nk + n log(n))\n",
        "# Space = O(n)\n",
        "# k = number of array\n",
        "# n = total element in all array\n",
        "def mergeSortedArrays(arrays):\n",
        "\tmerged_array = [value for array in arrays for value in array]\n",
        "\treturn sorted(merged_array)"
      ],
      "metadata": {
        "id": "Z33Kx6KkYm2q"
      },
      "execution_count": 39,
      "outputs": []
    },
    {
      "cell_type": "code",
      "execution_count": 40,
      "metadata": {
        "id": "FoNlQT6TYhbR"
      },
      "outputs": [],
      "source": [
        "arrays = [\n",
        "  [1, 5, 9, 21],\n",
        "  [-1, 0],\n",
        "  [-124, 81, 121],\n",
        "  [3, 6, 12, 20, 150],\n",
        "]"
      ]
    },
    {
      "cell_type": "code",
      "source": [
        "mergeSortedArrays(arrays)"
      ],
      "metadata": {
        "colab": {
          "base_uri": "https://localhost:8080/"
        },
        "id": "MGG2-_o5YrF6",
        "outputId": "d09f9083-75d1-4ce3-f826-89a875f94ed7"
      },
      "execution_count": 41,
      "outputs": [
        {
          "output_type": "execute_result",
          "data": {
            "text/plain": [
              "[-124, -1, 0, 1, 3, 5, 6, 9, 12, 20, 21, 81, 121, 150]"
            ]
          },
          "metadata": {},
          "execution_count": 41
        }
      ]
    },
    {
      "cell_type": "code",
      "source": [
        "# Time O(nk)\n",
        "# Space = O(n + k) = O(n) since k is always < n\n",
        "# k = number of array\n",
        "# n = total element in all array\n",
        "def mergeSortedArrays(arrays):\n",
        "  pointers = [0 for _ in arrays]\n",
        "  sorted_list = []\n",
        "  while True:\n",
        "    min_value = float('inf')\n",
        "\n",
        "    for array_idx in range(len(arrays)):\n",
        "      if pointers[array_idx] == len(arrays[array_idx]):\n",
        "        continue\n",
        "      min_value_of_array = arrays[array_idx][pointers[array_idx]]\n",
        "      if min_value_of_array < min_value:\n",
        "        min_value = min_value_of_array\n",
        "        array_idx_of_min_value = array_idx\n",
        "\n",
        "    if min_value == float('inf'):\n",
        "      break\n",
        "    sorted_list.append(min_value)\n",
        "    pointers[array_idx_of_min_value] += 1\n",
        "  return sorted_list"
      ],
      "metadata": {
        "id": "GESNSytXhguo"
      },
      "execution_count": 34,
      "outputs": []
    },
    {
      "cell_type": "code",
      "source": [
        "mergeSortedArrays(arrays)"
      ],
      "metadata": {
        "colab": {
          "base_uri": "https://localhost:8080/"
        },
        "id": "hAPCQILqhl6r",
        "outputId": "9c6c3db1-acb5-4bc9-e920-3a30b9f1220e"
      },
      "execution_count": 35,
      "outputs": [
        {
          "output_type": "execute_result",
          "data": {
            "text/plain": [
              "[-124, -1, 0, 1, 3, 5, 6, 9, 12, 20, 21, 81, 121, 150]"
            ]
          },
          "metadata": {},
          "execution_count": 35
        }
      ]
    }
  ]
}