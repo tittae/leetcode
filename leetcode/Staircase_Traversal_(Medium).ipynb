{
  "nbformat": 4,
  "nbformat_minor": 0,
  "metadata": {
    "colab": {
      "name": "Staircase Traversal (Medium).ipynb",
      "provenance": [],
      "collapsed_sections": [],
      "authorship_tag": "ABX9TyP2+mbl/dAuwC4FtY50ubR5",
      "include_colab_link": true
    },
    "kernelspec": {
      "name": "python3",
      "display_name": "Python 3"
    },
    "language_info": {
      "name": "python"
    }
  },
  "cells": [
    {
      "cell_type": "markdown",
      "metadata": {
        "id": "view-in-github",
        "colab_type": "text"
      },
      "source": [
        "<a href=\"https://colab.research.google.com/github/wisarootl/leetcode/blob/main/Staircase_Traversal_(Medium).ipynb\" target=\"_parent\"><img src=\"https://colab.research.google.com/assets/colab-badge.svg\" alt=\"Open In Colab\"/></a>"
      ]
    },
    {
      "cell_type": "markdown",
      "source": [
        "# Staircase Traversal"
      ],
      "metadata": {
        "id": "vxZWcSv9t8wo"
      }
    },
    {
      "cell_type": "markdown",
      "source": [
        "You're given two positive integers representing the height of a staircase and the maximum number of steps that you can advance up the staircase at a time. Write a function that returns the number of ways in which you can climb the staircase.\n",
        "\n",
        "For example, if you were given a staircase of `height = 3` and `maxSteps = 2` you could climb the staircase in 3 ways. You could take 1 step, 1 step, then 1 step, you could also take 1 step, then 2 steps, and you could take 2 steps, then 1 step.\n",
        "\n",
        "Note that `maxSteps <= height` will always be true."
      ],
      "metadata": {
        "id": "uglh-P3et9j3"
      }
    },
    {
      "cell_type": "markdown",
      "source": [
        "Sample Input\n",
        "\n",
        "```\n",
        "height = 4\n",
        "maxSteps = 2\n",
        "```\n",
        "\n"
      ],
      "metadata": {
        "id": "P8dcrsmauDBA"
      }
    },
    {
      "cell_type": "markdown",
      "source": [
        "Sample Output\n",
        "\n",
        "```\n",
        "5\n",
        "// You can climb the staircase in the following ways: \n",
        "// 1, 1, 1, 1\n",
        "// 1, 1, 2\n",
        "// 1, 2, 1\n",
        "// 2, 1, 1\n",
        "// 2, 2\n",
        "```\n",
        "\n"
      ],
      "metadata": {
        "id": "IJZzdHJTuE91"
      }
    },
    {
      "cell_type": "markdown",
      "source": [
        "# Solution 1: Bottom up"
      ],
      "metadata": {
        "id": "fA5s-Ftyg4P1"
      }
    },
    {
      "cell_type": "code",
      "execution_count": 1,
      "metadata": {
        "id": "UfxqXsf6rSh8"
      },
      "outputs": [],
      "source": [
        "# time O(height * maxSteps)\n",
        "# space O(max(height, maxSteps))\n",
        "\n",
        "def staircaseTraversal(height, maxSteps):\n",
        "  num_ways = [1]\n",
        "  for current_height in range(1, height + 1):\n",
        "    num_ways.append(0)\n",
        "    for step in range(1, maxSteps + 1):\n",
        "      previous_height = current_height - step\n",
        "      if previous_height >= 0:\n",
        "        num_ways[current_height] += num_ways[previous_height]\n",
        "  return num_ways[height]"
      ]
    },
    {
      "cell_type": "code",
      "source": [
        "height = 4\n",
        "maxSteps = 2\n",
        "staircaseTraversal(height, maxSteps)"
      ],
      "metadata": {
        "colab": {
          "base_uri": "https://localhost:8080/"
        },
        "id": "JVy8j-W2rnpq",
        "outputId": "56d2a076-4cdc-43a4-9bb5-50bb4245a865"
      },
      "execution_count": 2,
      "outputs": [
        {
          "output_type": "execute_result",
          "data": {
            "text/plain": [
              "5"
            ]
          },
          "metadata": {},
          "execution_count": 2
        }
      ]
    },
    {
      "cell_type": "markdown",
      "source": [
        "# Solution 2: store value only for required sliding windows"
      ],
      "metadata": {
        "id": "9EP-1h5Bgu4o"
      }
    },
    {
      "cell_type": "code",
      "source": [
        "# time O(height * maxSteps)\n",
        "# space O(min(height, maxSteps))\n",
        "\n",
        "def staircaseTraversal(height, maxSteps):\n",
        "  num_ways = [1]\n",
        "  for current_height in range(1, height + 1):\n",
        "    num_ways.append(0)\n",
        "    for step in range(1, maxSteps + 1):\n",
        "      previous_height = current_height - step\n",
        "      if previous_height >= 0:\n",
        "        num_ways[-1] += num_ways[-step-1]\n",
        "    if len(num_ways) > maxSteps:\n",
        "      num_ways.pop(0)\n",
        "  return num_ways[-1]"
      ],
      "metadata": {
        "id": "4SWOW_f-sUDy"
      },
      "execution_count": 3,
      "outputs": []
    },
    {
      "cell_type": "code",
      "source": [
        "height = 4\n",
        "maxSteps = 2\n",
        "staircaseTraversal(height, maxSteps)"
      ],
      "metadata": {
        "colab": {
          "base_uri": "https://localhost:8080/"
        },
        "id": "Zegqp6SNs3K4",
        "outputId": "22fac1b5-70dc-455a-c367-15c8987fedd2"
      },
      "execution_count": 4,
      "outputs": [
        {
          "output_type": "execute_result",
          "data": {
            "text/plain": [
              "5"
            ]
          },
          "metadata": {},
          "execution_count": 4
        }
      ]
    },
    {
      "cell_type": "code",
      "source": [
        "height = 1\n",
        "maxSteps = 5\n",
        "staircaseTraversal(height, maxSteps)"
      ],
      "metadata": {
        "colab": {
          "base_uri": "https://localhost:8080/"
        },
        "id": "OMwHc6Ece8-q",
        "outputId": "64a1ca6e-c845-41d1-b2fd-68e486bb480c"
      },
      "execution_count": 5,
      "outputs": [
        {
          "output_type": "execute_result",
          "data": {
            "text/plain": [
              "1"
            ]
          },
          "metadata": {},
          "execution_count": 5
        }
      ]
    },
    {
      "cell_type": "code",
      "source": [
        "height = 10\n",
        "maxSteps = 5\n",
        "staircaseTraversal(height, maxSteps)"
      ],
      "metadata": {
        "colab": {
          "base_uri": "https://localhost:8080/"
        },
        "id": "W9Bfb8CJe5O3",
        "outputId": "3d936ee9-37e5-44de-b8ac-ab5ec6a1c3f6"
      },
      "execution_count": 6,
      "outputs": [
        {
          "output_type": "execute_result",
          "data": {
            "text/plain": [
              "464"
            ]
          },
          "metadata": {},
          "execution_count": 6
        }
      ]
    },
    {
      "cell_type": "code",
      "source": [
        "height = 2\n",
        "maxSteps = 5\n",
        "staircaseTraversal(height, maxSteps)"
      ],
      "metadata": {
        "colab": {
          "base_uri": "https://localhost:8080/"
        },
        "id": "V3WTTWbSfLIs",
        "outputId": "f2b03cf2-d109-44b9-e1c9-12f012494fe0"
      },
      "execution_count": 7,
      "outputs": [
        {
          "output_type": "execute_result",
          "data": {
            "text/plain": [
              "2"
            ]
          },
          "metadata": {},
          "execution_count": 7
        }
      ]
    },
    {
      "cell_type": "markdown",
      "source": [
        "# Solution 3: applied +/- on sliding windows "
      ],
      "metadata": {
        "id": "yqk85ay-gpVi"
      }
    },
    {
      "cell_type": "code",
      "source": [
        "# time O(height)\n",
        "# space O(max(height, maxSteps))\n",
        "\n",
        "def staircaseTraversal(height, maxSteps):\n",
        "  num_ways = [1, 1]\n",
        "  for current_height in range(2, height + 1):\n",
        "    current_num_ways = num_ways[-1]\n",
        "    start_window = current_height - maxSteps - 1\n",
        "    end_window = current_height - 1\n",
        "    if start_window >= 0:\n",
        "      current_num_ways -= num_ways[start_window]\n",
        "\n",
        "    current_num_ways += num_ways[end_window]\n",
        "    num_ways.append(current_num_ways)\n",
        "\n",
        "  return num_ways[height]"
      ],
      "metadata": {
        "id": "VsewFROh-Jqv"
      },
      "execution_count": 8,
      "outputs": []
    },
    {
      "cell_type": "code",
      "source": [
        "height = 4\n",
        "maxSteps = 2\n",
        "staircaseTraversal(height, maxSteps)"
      ],
      "metadata": {
        "colab": {
          "base_uri": "https://localhost:8080/"
        },
        "id": "F4GFobiU_gYs",
        "outputId": "962e4817-65ba-4a88-a9d1-573c81461283"
      },
      "execution_count": 9,
      "outputs": [
        {
          "output_type": "execute_result",
          "data": {
            "text/plain": [
              "5"
            ]
          },
          "metadata": {},
          "execution_count": 9
        }
      ]
    },
    {
      "cell_type": "code",
      "source": [
        "height = 10\n",
        "maxSteps = 5\n",
        "staircaseTraversal(height, maxSteps)"
      ],
      "metadata": {
        "colab": {
          "base_uri": "https://localhost:8080/"
        },
        "id": "E1Q2g3y7_gSw",
        "outputId": "256b004b-0524-4dde-ab24-0634eedd2629"
      },
      "execution_count": 10,
      "outputs": [
        {
          "output_type": "execute_result",
          "data": {
            "text/plain": [
              "464"
            ]
          },
          "metadata": {},
          "execution_count": 10
        }
      ]
    },
    {
      "cell_type": "code",
      "source": [
        "height = 1\n",
        "maxSteps = 5\n",
        "staircaseTraversal(height, maxSteps)"
      ],
      "metadata": {
        "colab": {
          "base_uri": "https://localhost:8080/"
        },
        "id": "-TfWCVsLe_kT",
        "outputId": "b3db8cd9-0d55-4af9-aae7-2ea308d4db87"
      },
      "execution_count": 11,
      "outputs": [
        {
          "output_type": "execute_result",
          "data": {
            "text/plain": [
              "1"
            ]
          },
          "metadata": {},
          "execution_count": 11
        }
      ]
    },
    {
      "cell_type": "code",
      "source": [
        "height = 2\n",
        "maxSteps = 5\n",
        "staircaseTraversal(height, maxSteps)"
      ],
      "metadata": {
        "colab": {
          "base_uri": "https://localhost:8080/"
        },
        "id": "tmo0FMBTfNoi",
        "outputId": "bf1b22aa-111a-4dc7-9fe6-a17cb77e8dfa"
      },
      "execution_count": 12,
      "outputs": [
        {
          "output_type": "execute_result",
          "data": {
            "text/plain": [
              "2"
            ]
          },
          "metadata": {},
          "execution_count": 12
        }
      ]
    },
    {
      "cell_type": "markdown",
      "source": [
        "# Conceptual Note"
      ],
      "metadata": {
        "id": "lK0YLiTyhlaP"
      }
    },
    {
      "cell_type": "markdown",
      "source": [
        "![photo_2022-01-14_14-36-43.jpg](data:image/jpeg;base64,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)"
      ],
      "metadata": {
        "id": "KI3yy9SYhdGT"
      }
    }
  ]
}