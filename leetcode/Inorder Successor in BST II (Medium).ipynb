{
 "cells": [
  {
   "cell_type": "markdown",
   "metadata": {},
   "source": [
    "# Inorder Successor in BST II"
   ]
  },
  {
   "cell_type": "markdown",
   "metadata": {},
   "source": [
    "Given a `node` in a binary search tree, return the in-order successor of that node in the BST. If that node has no in-order successor, return null.\n",
    "\n",
    "The successor of a `node` is the node with the smallest key greater than `node.val`.\n",
    "\n",
    "You will have direct access to the node but not to the root of the tree. Each node will have a reference to its parent node. Below is the definition for `Node`:"
   ]
  },
  {
   "cell_type": "markdown",
   "metadata": {},
   "source": [
    "```\n",
    "class Node {\n",
    "    public int val;\n",
    "    public Node left;\n",
    "    public Node right;\n",
    "    public Node parent;\n",
    "}\n",
    "```"
   ]
  },
  {
   "cell_type": "markdown",
   "metadata": {},
   "source": [
    "Note: return the next node of in-order traversal"
   ]
  },
  {
   "cell_type": "markdown",
   "metadata": {},
   "source": [
    "Example 1:\n",
    "\n",
    "  2\n",
    " / \\\n",
    "1   3\n",
    "\n",
    "```\n",
    "Input: tree = [2,1,3], node = 1\n",
    "Output: 2\n",
    "Explanation: 1's in-order successor node is 2. Note that both the node and the return value is of Node type.\n",
    "```"
   ]
  },
  {
   "cell_type": "markdown",
   "metadata": {},
   "source": [
    "Example 2:\n",
    "\n",
    "      5\n",
    "     / \\\n",
    "    3   6\n",
    "   / \\\n",
    "  2   4\n",
    " /\n",
    "1\n",
    "\n",
    "```\n",
    "Input: tree = [5,3,6,2,4,null,null,1], node = 6\n",
    "Output: null\n",
    "Explanation: There is no in-order successor of the current node, so the answer is null.\n",
    "```"
   ]
  },
  {
   "cell_type": "markdown",
   "metadata": {},
   "source": [
    "Constraints:\n",
    "\n",
    "```\n",
    "The number of nodes in the tree is in the range [1, 104].\n",
    "-105 <= Node.val <= 105\n",
    "All Nodes will have unique values.\n",
    "```"
   ]
  },
  {
   "cell_type": "code",
   "execution_count": 1,
   "metadata": {},
   "outputs": [],
   "source": [
    "# Definition for a Node.\n",
    "class Node:\n",
    "    def __init__(self, val):\n",
    "        self.val = val\n",
    "        self.left = None\n",
    "        self.right = None\n",
    "        self.parent = None\n",
    "\n",
    "class Solution:\n",
    "    def inorderSuccessor(self, node: Node) -> Node:\n",
    "        # the successor is somewhere lower in the right subtree\n",
    "        if node.right:\n",
    "            node = node.right\n",
    "            while node.left:\n",
    "                node = node.left\n",
    "            return node\n",
    "        \n",
    "        # the successor is somewhere upper in the tree\n",
    "        while node.parent and node == node.parent.right:\n",
    "            node = node.parent\n",
    "        return node.parent"
   ]
  },
  {
   "cell_type": "code",
   "execution_count": 2,
   "metadata": {},
   "outputs": [
    {
     "name": "stdout",
     "output_type": "stream",
     "text": [
      "2\n"
     ]
    }
   ],
   "source": [
    "bst = Node(2)\n",
    "bst.left = Node(1)\n",
    "bst.left.parent = bst\n",
    "bst.right = Node(3)\n",
    "bst.right.parent = bst\n",
    "\n",
    "node = bst.left\n",
    "expected = bst\n",
    "output = Solution().inorderSuccessor(node)\n",
    "\n",
    "print(output.val)\n",
    "assert output == expected"
   ]
  },
  {
   "cell_type": "code",
   "execution_count": 3,
   "metadata": {},
   "outputs": [
    {
     "name": "stdout",
     "output_type": "stream",
     "text": [
      "2\n"
     ]
    }
   ],
   "source": [
    "#   2\n",
    "#  / \\\n",
    "# 1   3\n",
    "\n",
    "bst = Node(2)\n",
    "bst.left = Node(1)\n",
    "bst.left.parent = bst\n",
    "bst.right = Node(3)\n",
    "bst.right.parent = bst\n",
    "\n",
    "node = bst.left\n",
    "expected = bst\n",
    "output = Solution().inorderSuccessor(node)\n",
    "\n",
    "print(output.val)\n",
    "assert output == expected"
   ]
  },
  {
   "cell_type": "code",
   "execution_count": 4,
   "metadata": {},
   "outputs": [
    {
     "name": "stdout",
     "output_type": "stream",
     "text": [
      "None\n"
     ]
    }
   ],
   "source": [
    "#       5\n",
    "#      / \\\n",
    "#     3   6\n",
    "#    / \\\n",
    "#   2   4\n",
    "#  /\n",
    "# 1\n",
    "\n",
    "bst = Node(5)\n",
    "bst.left = Node(3)\n",
    "bst.left.parent = bst\n",
    "bst.right = Node(6)\n",
    "bst.right.parent = bst\n",
    "bst.left.left = Node(2)\n",
    "bst.left.left.parent = bst.left\n",
    "bst.left.right = Node(4)\n",
    "bst.left.right.parent = bst.left\n",
    "bst.left.left.left = Node(1)\n",
    "bst.left.left.left.parent = bst.left.left\n",
    "\n",
    "node = bst.right\n",
    "expected = None\n",
    "output = Solution().inorderSuccessor(node)\n",
    "print(output)\n",
    "\n",
    "assert output == expected"
   ]
  },
  {
   "cell_type": "code",
   "execution_count": 5,
   "metadata": {},
   "outputs": [
    {
     "name": "stdout",
     "output_type": "stream",
     "text": [
      "5\n"
     ]
    }
   ],
   "source": [
    "#       5\n",
    "#      / \\\n",
    "#     3   6\n",
    "#    / \\\n",
    "#   2   4\n",
    "#  /\n",
    "# 1\n",
    "\n",
    "bst = Node(5)\n",
    "bst.left = Node(3)\n",
    "bst.left.parent = bst\n",
    "bst.right = Node(6)\n",
    "bst.right.parent = bst\n",
    "bst.left.left = Node(2)\n",
    "bst.left.left.parent = bst.left\n",
    "bst.left.right = Node(4)\n",
    "bst.left.right.parent = bst.left\n",
    "bst.left.left.left = Node(1)\n",
    "bst.left.left.left.parent = bst.left.left\n",
    "\n",
    "node = bst.left.right\n",
    "expected = bst\n",
    "output = Solution().inorderSuccessor(node)\n",
    "print(output.val)\n",
    "\n",
    "assert output == expected\n",
    "\n",
    "\n",
    "\n",
    "\n"
   ]
  }
 ],
 "metadata": {
  "kernelspec": {
   "display_name": "Python 3.10.5 64-bit (windows store)",
   "language": "python",
   "name": "python3"
  },
  "language_info": {
   "codemirror_mode": {
    "name": "ipython",
    "version": 3
   },
   "file_extension": ".py",
   "mimetype": "text/x-python",
   "name": "python",
   "nbconvert_exporter": "python",
   "pygments_lexer": "ipython3",
   "version": "3.10.5"
  },
  "orig_nbformat": 4,
  "vscode": {
   "interpreter": {
    "hash": "3822405be9f5fb329f7270cbdcf73e762c62b3f383c5e71390a1a4648678c1cb"
   }
  }
 },
 "nbformat": 4,
 "nbformat_minor": 2
}
