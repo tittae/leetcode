{
  "nbformat": 4,
  "nbformat_minor": 0,
  "metadata": {
    "colab": {
      "name": "Class Photos.ipynb",
      "provenance": [],
      "collapsed_sections": [],
      "authorship_tag": "ABX9TyMRgjAoNmqEBEsyagLEWnoM",
      "include_colab_link": true
    },
    "kernelspec": {
      "name": "python3",
      "display_name": "Python 3"
    },
    "language_info": {
      "name": "python"
    }
  },
  "cells": [
    {
      "cell_type": "markdown",
      "metadata": {
        "id": "view-in-github",
        "colab_type": "text"
      },
      "source": [
        "<a href=\"https://colab.research.google.com/github/tittae/leetcode/blob/main/Class_Photos.ipynb\" target=\"_parent\"><img src=\"https://colab.research.google.com/assets/colab-badge.svg\" alt=\"Open In Colab\"/></a>"
      ]
    },
    {
      "cell_type": "markdown",
      "metadata": {
        "id": "yWDwAz4rKgPj"
      },
      "source": [
        "# Class Photos"
      ]
    },
    {
      "cell_type": "markdown",
      "metadata": {
        "id": "fET5Q1RJKiae"
      },
      "source": [
        "It's photo day at the local school, and you're the photographer assigned to take class photos. The class that you'll be photographing has an even number of students, and all these students are wearing red or blue shirts. In fact, exactly half of the class is wearing red shirts, and the other half is wearing blue shirts. You're responsible for arranging the students in two rows before taking the photo. Each row should contain the same number of the students and should adhere to the following guidelines:\n",
        "\n",
        "- All students wearing red shirts must be in the same row.\n",
        "- All students wearing blue shirts must be in the same row.\n",
        "- Each student in the back row must be strictly taller than the student directly in front of them in the front row.\n",
        "\n",
        "You're given two input arrays: one containing the heights of all the students with red shirts and another one containing the heights of all the students with blue shirts. These arrays will always have the same length, and each height will be a positive integer. Write a function that returns whether or not a class photo that follows the stated guidelines can be taken.\n",
        "\n",
        "Note: you can assume that each class has at least 2 students."
      ]
    },
    {
      "cell_type": "markdown",
      "metadata": {
        "id": "zQsy1sDuKoF8"
      },
      "source": [
        "Sample Input\n",
        "\n",
        "```\n",
        "redShirtHeights = [5, 8, 1, 3, 4]\n",
        "blueShirtHeights = [6, 9, 2, 4, 5]\n",
        "```\n",
        "\n"
      ]
    },
    {
      "cell_type": "markdown",
      "metadata": {
        "id": "pGj1woXhKq6x"
      },
      "source": [
        "Sample Output\n",
        "\n",
        "```\n",
        "true // Place all students with blue shirts in the back row.\n",
        "```\n",
        "\n"
      ]
    },
    {
      "cell_type": "markdown",
      "metadata": {
        "id": "uG5yyIg9OjHp"
      },
      "source": [
        "## Solution"
      ]
    },
    {
      "cell_type": "code",
      "metadata": {
        "id": "T5Y2NDUkKRKj"
      },
      "source": [
        "# Time = O(b*log(b) + r*log(r)), space = O(1)\n",
        "\n",
        "def classPhotos(redShirtHeights, blueShirtHeights):\n",
        "\t# Write your code here.\n",
        "\tredShirtHeights.sort()\n",
        "\tblueShirtHeights.sort()\n",
        "\t\n",
        "\tif blueShirtHeights[0] > redShirtHeights[0]:\n",
        "\t\tfront_row = 'red'\n",
        "\telif blueShirtHeights[0] < redShirtHeights[0]:\n",
        "\t\tfront_row = 'blue'\n",
        "\telse:\n",
        "\t\treturn False\n",
        "\t\n",
        "\tfor i in range(len(redShirtHeights)):\n",
        "\t\tif front_row == 'red':\n",
        "\t\t\tif blueShirtHeights[i] < redShirtHeights[i]:\n",
        "\t\t\t\treturn False\n",
        "\t\t# front_row == 'blue'\n",
        "\t\telse:\n",
        "\t\t\tif blueShirtHeights[i] > redShirtHeights[i]:\n",
        "\t\t\t\treturn False\n",
        "\t\n",
        "\treturn True"
      ],
      "execution_count": 1,
      "outputs": []
    },
    {
      "cell_type": "code",
      "metadata": {
        "id": "wA-MAjVFKnuB"
      },
      "source": [
        "redShirtHeights = [5, 8, 1, 3, 4]\n",
        "blueShirtHeights = [6, 9, 2, 4, 5]"
      ],
      "execution_count": 2,
      "outputs": []
    },
    {
      "cell_type": "code",
      "metadata": {
        "colab": {
          "base_uri": "https://localhost:8080/"
        },
        "id": "qXtW0V7YOmJo",
        "outputId": "f74f56c2-2ca9-485d-ca7e-a110b81ce975"
      },
      "source": [
        "print(classPhotos(redShirtHeights, blueShirtHeights))"
      ],
      "execution_count": 3,
      "outputs": [
        {
          "output_type": "stream",
          "name": "stdout",
          "text": [
            "True\n"
          ]
        }
      ]
    }
  ]
}