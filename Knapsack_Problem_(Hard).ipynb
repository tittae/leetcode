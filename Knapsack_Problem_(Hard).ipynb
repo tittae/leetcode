{
  "nbformat": 4,
  "nbformat_minor": 0,
  "metadata": {
    "colab": {
      "name": "Knapsack Problem (Hard).ipynb",
      "provenance": [],
      "collapsed_sections": [],
      "authorship_tag": "ABX9TyMLm1bqQ/lGL9KYcezLusNm",
      "include_colab_link": true
    },
    "kernelspec": {
      "name": "python3",
      "display_name": "Python 3"
    },
    "language_info": {
      "name": "python"
    }
  },
  "cells": [
    {
      "cell_type": "markdown",
      "metadata": {
        "id": "view-in-github",
        "colab_type": "text"
      },
      "source": [
        "<a href=\"https://colab.research.google.com/github/wisarootl/leetcode/blob/main/Knapsack_Problem_(Hard).ipynb\" target=\"_parent\"><img src=\"https://colab.research.google.com/assets/colab-badge.svg\" alt=\"Open In Colab\"/></a>"
      ]
    },
    {
      "cell_type": "markdown",
      "metadata": {
        "id": "thba8ZMB1CdA"
      },
      "source": [
        "# Knapsack Problem"
      ]
    },
    {
      "cell_type": "markdown",
      "metadata": {
        "id": "BBUFON_m1Dm9"
      },
      "source": [
        "You're given an array of arrays where each subarray holds two integer values and represents an item; the first integer is the item's value, and the second integer is the item's weight. You're also given an integer representing the maximum capacity of a knapsack that you have.\n",
        "\n",
        "Your goal is to fit items in your knapsack without having the sum of their weights exceed the knapsack's capacity, all the while maximizing their combined value. Note that you only have one of each item at your disposal.\n",
        "\n",
        "Write a function that returns the maximized combined value of the items that you should pick as well as an array of the indices of each item picked.\n",
        "\n",
        "If there are multiple combinations of items that maximize the total value in the knapsack, your function can return any of them."
      ]
    },
    {
      "cell_type": "markdown",
      "metadata": {
        "id": "AqoqMjse1FfS"
      },
      "source": [
        "Sample Input\n",
        "\n",
        "```\n",
        "items = [[1, 2], [4, 3], [5, 6], [6, 7]]\n",
        "capacity = 10\n",
        "```\n",
        "\n"
      ]
    },
    {
      "cell_type": "markdown",
      "metadata": {
        "id": "3yhHVydi1IgC"
      },
      "source": [
        "Sample Output\n",
        "\n",
        "```\n",
        "[10, [1, 3]] // items [4, 3] and [6, 7]\n",
        "```\n",
        "\n"
      ]
    },
    {
      "cell_type": "code",
      "metadata": {
        "id": "TwFjbR6109gr"
      },
      "source": [
        "# Time O(n*capacity)\n",
        "# Space O(n*capacity)\n",
        "\n",
        "def knapsackProblem(items, capacity):\n",
        "\tknapsack_value = [[0 for _ in range(capacity + 1)] for _ in range(len(items) + 1)]\n",
        "\n",
        "\tfor row in range(1, len(items) + 1):\n",
        "\t\titem_idx = row - 1\n",
        "\t\tcurrent_item_value, current_item_wt = items[item_idx]\n",
        "\t\tfor current_capacity in range(capacity + 1):\n",
        "\t\t\tif current_capacity - current_item_wt >= 0:\n",
        "\t\t\t\tknapsack_value[row][current_capacity] = max(knapsack_value[row - 1][current_capacity], current_item_value + knapsack_value[row - 1][current_capacity - current_item_wt])\n",
        "\t\t\telse:\n",
        "\t\t\t\tknapsack_value[row][current_capacity] = knapsack_value[row - 1][current_capacity]\n",
        "\n",
        "\n",
        "\toptimized_value = knapsack_value[-1][-1]\n",
        "\toptimized_items_idx_list = get_items_idx_list(knapsack_value, items)\n",
        "\n",
        "\treturn [optimized_value, optimized_items_idx_list]\n",
        "\n",
        "\n",
        "def get_items_idx_list(knapsack_value, items):\n",
        "\toptimized_items_idx_list = []\n",
        "\tcurrent_capacity = len(knapsack_value[0]) - 1\n",
        "\trow = len(knapsack_value) - 1\n",
        "\t\n",
        "\twhile current_capacity > 0:\n",
        "\t\twhile knapsack_value[row][current_capacity] == knapsack_value[row - 1][current_capacity]:\n",
        "\t\t\trow -= 1\n",
        "\t\titem_idx = row - 1\n",
        "\t\toptimized_items_idx_list.append(item_idx)\n",
        "\t\tcurrent_capacity -= items[item_idx][1]\n",
        "\n",
        "\treturn list(reversed(optimized_items_idx_list))"
      ],
      "execution_count": 1,
      "outputs": []
    },
    {
      "cell_type": "code",
      "metadata": {
        "colab": {
          "base_uri": "https://localhost:8080/"
        },
        "id": "XqNpYsPmSDoJ",
        "outputId": "b153c01c-1b95-4b58-c041-1d589a9fa216"
      },
      "source": [
        "items = [[1, 2], [4, 3], [5, 6], [6, 7]]\n",
        "capacity = 10\n",
        "knapsackProblem(items, capacity)"
      ],
      "execution_count": 3,
      "outputs": [
        {
          "output_type": "execute_result",
          "data": {
            "text/plain": [
              "[10, [1, 3]]"
            ]
          },
          "metadata": {},
          "execution_count": 3
        }
      ]
    }
  ]
}