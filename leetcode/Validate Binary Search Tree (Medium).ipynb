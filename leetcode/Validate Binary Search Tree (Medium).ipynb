{
 "cells": [
  {
   "cell_type": "markdown",
   "metadata": {},
   "source": [
    "# Validate Binary Search Tree"
   ]
  },
  {
   "cell_type": "markdown",
   "metadata": {},
   "source": [
    "Given the `root` of a binary tree, determine if it is a valid binary search tree (BST).\n",
    "\n",
    "A valid BST is defined as follows:\n",
    "\n",
    "- The left subtree of a node contains only nodes with keys **less than** the node's key.\n",
    "- The right subtree of a node contains only nodes with keys **greater than** the node's key.\n",
    "- Both the left and right subtrees must also be binary search trees."
   ]
  },
  {
   "cell_type": "markdown",
   "metadata": {},
   "source": [
    "Example 1:\n",
    "\n",
    "```\n",
    "  2\n",
    " / \\\n",
    "1   3 \n",
    "\n",
    "Input: root = [2,1,3]\n",
    "Output: true\n",
    "```"
   ]
  },
  {
   "cell_type": "markdown",
   "metadata": {},
   "source": [
    "Example 2:\n",
    "\n",
    "```\n",
    "  5\n",
    " / \\\n",
    "1   4\n",
    "   / \\\n",
    "  3   6\n",
    "\n",
    "Input: root = [5,1,4,null,null,3,6]\n",
    "Output: false\n",
    "Explanation: The root node's value is 5 but its right child's value is 4.\n",
    "```"
   ]
  },
  {
   "cell_type": "markdown",
   "metadata": {},
   "source": [
    "Constraints:\n",
    "\n",
    "```\n",
    "The number of nodes in the tree is in the range [1, 104].\n",
    "-231 <= Node.val <= 231 - 1\n",
    "```"
   ]
  },
  {
   "cell_type": "code",
   "execution_count": 1,
   "metadata": {},
   "outputs": [],
   "source": [
    "# Definition for a binary tree node.\n",
    "class TreeNode:\n",
    "    def __init__(self, val=0, left=None, right=None):\n",
    "        self.val = val\n",
    "        self.left = left\n",
    "        self.right = right\n",
    "\n",
    "class Solution:\n",
    "    # time = O(N)\n",
    "    # space = O(N)\n",
    "    def isValidBST(self, root: TreeNode) -> bool:\n",
    "\n",
    "        def validate(node, low=-float(\"inf\"), high=float(\"inf\")):\n",
    "            # Empty trees are valid BSTs.\n",
    "            if not node:\n",
    "                return True\n",
    "            # The current node's value must be between low and high.\n",
    "            if node.val <= low or node.val >= high:\n",
    "                return False\n",
    "\n",
    "            # The left and right subtree must also be valid.\n",
    "            return (validate(node.right, node.val, high) and\n",
    "                   validate(node.left, low, node.val))\n",
    "\n",
    "        return validate(root)"
   ]
  },
  {
   "cell_type": "code",
   "execution_count": 2,
   "metadata": {},
   "outputs": [
    {
     "name": "stdout",
     "output_type": "stream",
     "text": [
      "True\n"
     ]
    }
   ],
   "source": [
    "  root = TreeNode(2)\n",
    "  root.left = TreeNode(1)\n",
    "  root.right = TreeNode(3)\n",
    "\n",
    "  expected = True\n",
    "\n",
    "  output = Solution().isValidBST(root)\n",
    "  print(output)\n",
    "\n",
    "  assert output == expected"
   ]
  },
  {
   "cell_type": "code",
   "execution_count": 3,
   "metadata": {},
   "outputs": [
    {
     "name": "stdout",
     "output_type": "stream",
     "text": [
      "False\n"
     ]
    }
   ],
   "source": [
    "root = TreeNode(5)\n",
    "root.left = TreeNode(1)\n",
    "root.right = TreeNode(4)\n",
    "root.right.left = TreeNode(3)\n",
    "root.right.right = TreeNode(6)\n",
    "\n",
    "expected = False\n",
    "\n",
    "output = Solution().isValidBST(root)\n",
    "print(output)\n",
    "\n",
    "assert output == expected"
   ]
  }
 ],
 "metadata": {
  "kernelspec": {
   "display_name": "Python 3.10.5 64-bit ('3.10.5')",
   "language": "python",
   "name": "python3"
  },
  "language_info": {
   "codemirror_mode": {
    "name": "ipython",
    "version": 3
   },
   "file_extension": ".py",
   "mimetype": "text/x-python",
   "name": "python",
   "nbconvert_exporter": "python",
   "pygments_lexer": "ipython3",
   "version": "3.10.5"
  },
  "orig_nbformat": 4,
  "vscode": {
   "interpreter": {
    "hash": "992441bd4bc11ab83c63537935ea198062f55180155eaba570b8d7c82e005e8c"
   }
  }
 },
 "nbformat": 4,
 "nbformat_minor": 2
}
