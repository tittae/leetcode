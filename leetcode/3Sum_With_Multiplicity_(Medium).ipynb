{
  "cells": [
    {
      "cell_type": "markdown",
      "metadata": {
        "colab_type": "text",
        "id": "view-in-github"
      },
      "source": [
        "<a href=\"https://colab.research.google.com/github/wisarootl/leetcode/blob/main/3Sum_With_Multiplicity_(Medium).ipynb\" target=\"_parent\"><img src=\"https://colab.research.google.com/assets/colab-badge.svg\" alt=\"Open In Colab\"/></a>"
      ]
    },
    {
      "cell_type": "markdown",
      "metadata": {
        "id": "Cqw_BgHNfIYp"
      },
      "source": [
        "# 3Sum With Multiplicity"
      ]
    },
    {
      "cell_type": "markdown",
      "metadata": {
        "id": "lnYaJOjnfGfd"
      },
      "source": [
        "Given an integer array arr, and an integer target, return the number of tuples i, j, k such that i < j < k and arr[i] + arr[j] + arr[k] == target.\n",
        "\n",
        "As the answer can be very large, return it modulo 10**9 + 7."
      ]
    },
    {
      "cell_type": "markdown",
      "metadata": {
        "id": "6F_1-0A-fKgR"
      },
      "source": [
        "Example 1:\n",
        "\n",
        "```\n",
        "Input: arr = [1,1,2,2,3,3,4,4,5,5], target = 8\n",
        "Output: 20\n",
        "Explanation: \n",
        "Enumerating by the values (arr[i], arr[j], arr[k]):\n",
        "(1, 2, 5) occurs 8 times;\n",
        "(1, 3, 4) occurs 8 times;\n",
        "(2, 2, 4) occurs 2 times;\n",
        "(2, 3, 3) occurs 2 times.\n",
        "```\n",
        "\n"
      ]
    },
    {
      "cell_type": "markdown",
      "metadata": {
        "id": "hTBG3yUwfNIQ"
      },
      "source": [
        "Example 2:\n",
        "\n",
        "```\n",
        "Input: arr = [1,1,2,2,2,2], target = 5\n",
        "Output: 12\n",
        "Explanation: \n",
        "arr[i] = 1, arr[j] = arr[k] = 2 occurs 12 times:\n",
        "We choose one 1 from [1,1] in 2 ways,\n",
        "and two 2s from [2,2,2,2] in 6 ways.\n",
        "```\n",
        "\n"
      ]
    },
    {
      "cell_type": "markdown",
      "metadata": {
        "id": "5LzFbKKofQOr"
      },
      "source": [
        "# Solution 1: Three Pointers"
      ]
    },
    {
      "cell_type": "code",
      "execution_count": 1,
      "metadata": {
        "id": "UYjTT9ygatQ1"
      },
      "outputs": [],
      "source": [
        "# Time O(N^2)\n",
        "# Space O(1)\n",
        "\n",
        "class Solution:\n",
        "    def threeSumMulti(self, arr, target):\n",
        "        mod = 10**9 + 7\n",
        "        ans = 0\n",
        "        arr.sort()\n",
        "        \n",
        "        for i in range(len(arr)):\n",
        "            remaining = target - arr[i]\n",
        "            j = i + 1\n",
        "            k = len(arr) - 1\n",
        "            while j < k:\n",
        "                if arr[j] + arr[k] < remaining:\n",
        "                    j += 1\n",
        "                elif arr[j] + arr[k] > remaining:\n",
        "                    k -= 1\n",
        "                elif arr[j] != arr[k]:\n",
        "                    left = 1\n",
        "                    right = 1\n",
        "                    while j + 1 < k and arr[j] == arr[j + 1]:\n",
        "                        left += 1\n",
        "                        j += 1\n",
        "                    \n",
        "                    while k - 1 > j and arr[k] == arr[k - 1]:\n",
        "                        right += 1\n",
        "                        k -= 1\n",
        "                    \n",
        "                    ans += left * right\n",
        "                    j += 1\n",
        "                    k -= 1\n",
        "                else:\n",
        "                    ans += (k - j + 1) * (k - j) / 2\n",
        "                    break\n",
        "                    \n",
        "        return int(ans % mod)"
      ]
    },
    {
      "cell_type": "code",
      "execution_count": 2,
      "metadata": {
        "colab": {
          "base_uri": "https://localhost:8080/"
        },
        "id": "WVP2PHasfWAN",
        "outputId": "56f521f7-e367-4568-a02f-fbc10244a456"
      },
      "outputs": [
        {
          "name": "stdout",
          "output_type": "stream",
          "text": [
            "20\n"
          ]
        }
      ],
      "source": [
        "arr = [1,1,2,2,3,3,4,4,5,5]\n",
        "target = 8\n",
        "expected = 20\n",
        "\n",
        "output = Solution().threeSumMulti(arr, target)\n",
        "print(output)\n",
        "assert output == expected"
      ]
    },
    {
      "cell_type": "code",
      "execution_count": 3,
      "metadata": {
        "colab": {
          "base_uri": "https://localhost:8080/"
        },
        "id": "b3E_XXzSfkRm",
        "outputId": "cdaf39ac-cd01-49af-d250-563e003c6907"
      },
      "outputs": [
        {
          "name": "stdout",
          "output_type": "stream",
          "text": [
            "12\n"
          ]
        }
      ],
      "source": [
        "arr = [1,1,2,2,2,2]\n",
        "target = 5\n",
        "expected = 12\n",
        "\n",
        "output = Solution().threeSumMulti(arr, target)\n",
        "print(output)\n",
        "assert output == expected"
      ]
    },
    {
      "cell_type": "markdown",
      "metadata": {
        "id": "hxFsjfO8fpao"
      },
      "source": [
        "# Solution 2"
      ]
    },
    {
      "cell_type": "code",
      "execution_count": 4,
      "metadata": {
        "id": "P8T1I9Tnf0Rx"
      },
      "outputs": [],
      "source": [
        "import collections\n",
        "import itertools\n",
        "\n",
        "\n",
        "# Time = O(N + W^2)\n",
        "# Sapce = O(W)\n",
        "\n",
        "# W = distint value in arr. Therefore W is bounded by N.\n",
        "class Solution:\n",
        "    def threeSumMulti(self, A, target):\n",
        "        c = collections.Counter(A)\n",
        "        res = 0\n",
        "        for i, j in itertools.combinations_with_replacement(c, 2):\n",
        "            k = target - i - j\n",
        "            if i == j == k: \n",
        "              res += c[i] * (c[i] - 1) * (c[i] - 2) / 6\n",
        "              # combincation (n choose 3) = (n)!/(3)!(n-3)! = n(n-1)(n-2) / 6\n",
        "            elif i == j != k: \n",
        "              res += c[i] * (c[i] - 1) / 2 * c[k]\n",
        "              # combincation (n choos 2) = n!/2!(n-2)! = n(n-1)/2\n",
        "            elif k > i and k > j: \n",
        "              res += c[i] * c[j] * c[k]\n",
        "\n",
        "        return int(res % (10**9 + 7))"
      ]
    },
    {
      "cell_type": "code",
      "execution_count": 5,
      "metadata": {
        "colab": {
          "base_uri": "https://localhost:8080/"
        },
        "id": "FxE75atdf3Oi",
        "outputId": "28a42b72-36fc-4ca1-fb4f-884eebf00fce"
      },
      "outputs": [
        {
          "name": "stdout",
          "output_type": "stream",
          "text": [
            "20\n"
          ]
        }
      ],
      "source": [
        "arr = [1,1,2,2,3,3,4,4,5,5]\n",
        "target = 8\n",
        "expected = 20\n",
        "\n",
        "output = Solution().threeSumMulti(arr, target)\n",
        "print(output)\n",
        "assert output == expected"
      ]
    },
    {
      "cell_type": "code",
      "execution_count": 6,
      "metadata": {
        "colab": {
          "base_uri": "https://localhost:8080/"
        },
        "id": "PqqOk3ingBT1",
        "outputId": "68d7b2dc-7471-4f81-876a-77c9900e71ea"
      },
      "outputs": [
        {
          "name": "stdout",
          "output_type": "stream",
          "text": [
            "12\n"
          ]
        }
      ],
      "source": [
        "arr = [1,1,2,2,2,2]\n",
        "target = 5\n",
        "expected = 12\n",
        "\n",
        "output = Solution().threeSumMulti(arr, target)\n",
        "print(output)\n",
        "assert output == expected"
      ]
    }
  ],
  "metadata": {
    "colab": {
      "authorship_tag": "ABX9TyO0ZHnzuGrzRgji6khBw+fQ",
      "include_colab_link": true,
      "name": "3Sum With Multiplicity (Medium).ipynb",
      "provenance": []
    },
    "kernelspec": {
      "display_name": "Python 3.10.6 64-bit (windows store)",
      "language": "python",
      "name": "python3"
    },
    "language_info": {
      "codemirror_mode": {
        "name": "ipython",
        "version": 3
      },
      "file_extension": ".py",
      "mimetype": "text/x-python",
      "name": "python",
      "nbconvert_exporter": "python",
      "pygments_lexer": "ipython3",
      "version": "3.10.6"
    },
    "vscode": {
      "interpreter": {
        "hash": "3822405be9f5fb329f7270cbdcf73e762c62b3f383c5e71390a1a4648678c1cb"
      }
    }
  },
  "nbformat": 4,
  "nbformat_minor": 0
}
