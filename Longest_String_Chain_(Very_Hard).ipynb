{
  "nbformat": 4,
  "nbformat_minor": 0,
  "metadata": {
    "colab": {
      "name": "Longest String Chain (Very Hard).ipynb",
      "provenance": [],
      "authorship_tag": "ABX9TyO2YAGahumeckPpY8WRIhc2",
      "include_colab_link": true
    },
    "kernelspec": {
      "name": "python3",
      "display_name": "Python 3"
    },
    "language_info": {
      "name": "python"
    }
  },
  "cells": [
    {
      "cell_type": "markdown",
      "metadata": {
        "id": "view-in-github",
        "colab_type": "text"
      },
      "source": [
        "<a href=\"https://colab.research.google.com/github/wisarootl/leetcode/blob/main/Longest_String_Chain_(Very_Hard).ipynb\" target=\"_parent\"><img src=\"https://colab.research.google.com/assets/colab-badge.svg\" alt=\"Open In Colab\"/></a>"
      ]
    },
    {
      "cell_type": "markdown",
      "source": [
        "# Longest String Chain"
      ],
      "metadata": {
        "id": "S1hiagAMauWQ"
      }
    },
    {
      "cell_type": "markdown",
      "source": [
        "Given a list of strings, write a function that returns the longest string chain that can be built from those strings.\n",
        "\n",
        "A string chain is defined as follows: let string `A` be a string in the initial array; if removing any single character from string `A` yields a new string `B` that's contained in the initial array of strings, then strings `A` and `B` form a string chain of length 2. Similarly, if removing any single character from string` B` yields a new string `C` that's contained in the initial array of strings, then strings `A`, `B`, and `C` form a string chain of length 3.\n",
        "\n",
        "The function should return the string chain in descending order (i.e., from the longest string to the shortest one). Note that string chains of length 1 don't exist; if the list of strings doesn't contain any string chain formed by two or more strings, the function should return an empty array.\n",
        "\n",
        "You can assume that there will only be one longest string chain."
      ],
      "metadata": {
        "id": "HE6nLbDOavfD"
      }
    },
    {
      "cell_type": "markdown",
      "source": [
        "Sample Input\n",
        "\n",
        "```\n",
        "strings = [\"abde\", \"abc\", \"abd\", \"abcde\", \"ade\", \"ae\", \"1abde\", \"abcdef\"]\n",
        "```\n",
        "\n"
      ],
      "metadata": {
        "id": "POg8h0n3a7oe"
      }
    },
    {
      "cell_type": "markdown",
      "source": [
        "Sample Output\n",
        "\n",
        "```\n",
        "[\"abcdef\", \"abcde\", \"abde\", \"ade\", \"ae\"]\n",
        "```\n",
        "\n"
      ],
      "metadata": {
        "id": "iuO82Egka9pN"
      }
    },
    {
      "cell_type": "code",
      "execution_count": 1,
      "metadata": {
        "id": "DFkXhSuZYXVc"
      },
      "outputs": [],
      "source": [
        "# Time = O(nm^2 + nlog n)\n",
        "# Space = O(nm)\n",
        "# n = length of array\n",
        "# m = length of longest string\n",
        "\n",
        "def longestStringChain(strings):\n",
        "  string_chains = {}\n",
        "  for string in strings:\n",
        "    # S = O(n*m)\n",
        "    string_chains[string] = {'next_string': '', 'max_chain_length': 1}\n",
        "  # T O(nlog n)\n",
        "  sorted_strings = sorted(strings, key = len)\n",
        "  # T O(n)\n",
        "  for string in sorted_strings:\n",
        "    find_longest_string_chain(string, string_chains)\n",
        "  return build_longest_string_chain(sorted_strings, string_chains)\n",
        "\n",
        "def find_longest_string_chain(string, string_chains):\n",
        "  # T O(m)\n",
        "  for i in range(len(string)):\n",
        "    # T O(m)\n",
        "    smaller_string = get_smaller_string(string, i)\n",
        "    if smaller_string not in string_chains:\n",
        "      continue\n",
        "    updated_chain_length = string_chains[smaller_string]['max_chain_length'] + 1\n",
        "    current_chain_length = string_chains[string]['max_chain_length']\n",
        "    if updated_chain_length > current_chain_length:\n",
        "      string_chains[string]['max_chain_length'] = updated_chain_length\n",
        "      string_chains[string]['next_string'] = smaller_string\n",
        "\n",
        "def get_smaller_string(string, idx):\n",
        "  return string[:idx] + string[idx + 1:]\n",
        "\n",
        "def build_longest_string_chain(strings, string_chains):\n",
        "  max_chain_lenth = 0\n",
        "  starting_string = ''\n",
        "  for string in strings:\n",
        "    if string_chains[string]['max_chain_length'] > max_chain_lenth:\n",
        "      max_chain_lenth = string_chains[string]['max_chain_length']\n",
        "      starting_string = string\n",
        "  \n",
        "  longest_string_chain = []\n",
        "  current_string = starting_string\n",
        "  while current_string != '':\n",
        "    longest_string_chain.append(current_string)\n",
        "    current_string = string_chains[current_string]['next_string']\n",
        "\n",
        "  return [] if len(longest_string_chain) <= 1 else longest_string_chain"
      ]
    },
    {
      "cell_type": "code",
      "source": [
        "strings = [\"abde\", \"abc\", \"abd\", \"abcde\", \"ade\", \"ae\", \"1abde\", \"abcdef\"]\n",
        "longestStringChain(strings)"
      ],
      "metadata": {
        "colab": {
          "base_uri": "https://localhost:8080/"
        },
        "id": "2fMe5Jw0ZE9z",
        "outputId": "b8589ad4-2482-4551-e9cb-fe9b3189754e"
      },
      "execution_count": 2,
      "outputs": [
        {
          "output_type": "execute_result",
          "data": {
            "text/plain": [
              "['abcdef', 'abcde', 'abde', 'ade', 'ae']"
            ]
          },
          "metadata": {},
          "execution_count": 2
        }
      ]
    },
    {
      "cell_type": "code",
      "source": [
        "strings = [\"f\"]\n",
        "longestStringChain(strings)"
      ],
      "metadata": {
        "colab": {
          "base_uri": "https://localhost:8080/"
        },
        "id": "ggxB7oVXapUa",
        "outputId": "29dc48c3-566f-44dc-ec4a-1ae04e2f3dc9"
      },
      "execution_count": 3,
      "outputs": [
        {
          "output_type": "execute_result",
          "data": {
            "text/plain": [
              "[]"
            ]
          },
          "metadata": {},
          "execution_count": 3
        }
      ]
    }
  ]
}