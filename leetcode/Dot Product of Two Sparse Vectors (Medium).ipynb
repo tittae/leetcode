{
 "cells": [
  {
   "cell_type": "markdown",
   "metadata": {},
   "source": [
    "# Dot Product of Two Sparse Vectors"
   ]
  },
  {
   "cell_type": "markdown",
   "metadata": {},
   "source": [
    "Given two sparse vectors, compute their dot product.\n",
    "\n",
    "Implement class `SparseVector`:\n",
    "\n",
    "- `SparseVector(nums)` Initializes the object with the vector `nums`\n",
    "- `dotProduct(vec)` Compute the dot product between the instance of SparseVector and `vec`\n",
    "\n",
    "A sparse vector is a vector that has mostly zero values, you should store the sparse vector efficiently and compute the dot product between two SparseVector.\n",
    "\n",
    "Follow up: What if only one of the vectors is sparse?"
   ]
  },
  {
   "cell_type": "markdown",
   "metadata": {},
   "source": [
    "Example 1:\n",
    "\n",
    "```\n",
    "Input: nums1 = [1,0,0,2,3], nums2 = [0,3,0,4,0]\n",
    "Output: 8\n",
    "Explanation: v1 = SparseVector(nums1) , v2 = SparseVector(nums2)\n",
    "v1.dotProduct(v2) = 1*0 + 0*3 + 0*0 + 2*4 + 3*0 = 8\n",
    "```"
   ]
  },
  {
   "cell_type": "markdown",
   "metadata": {},
   "source": [
    "Example 2:\n",
    "\n",
    "```\n",
    "Input: nums1 = [0,1,0,0,0], nums2 = [0,0,0,0,2]\n",
    "Output: 0\n",
    "Explanation: v1 = SparseVector(nums1) , v2 = SparseVector(nums2)\n",
    "v1.dotProduct(v2) = 0*0 + 1*0 + 0*0 + 0*0 + 0*2 = 0\n",
    "```"
   ]
  },
  {
   "cell_type": "markdown",
   "metadata": {},
   "source": [
    "Example 3:\n",
    "\n",
    "```\n",
    "Input: nums1 = [0,1,0,0,2,0,0], nums2 = [1,0,0,0,3,0,4]\n",
    "Output: 6\n",
    "```"
   ]
  },
  {
   "cell_type": "markdown",
   "metadata": {},
   "source": [
    "Constraints:\n",
    "\n",
    "```\n",
    "n == nums1.length == nums2.length\n",
    "1 <= n <= 10^5\n",
    "0 <= nums1[i], nums2[i] <= 100\n",
    "```"
   ]
  },
  {
   "cell_type": "code",
   "execution_count": 1,
   "metadata": {},
   "outputs": [],
   "source": [
    "from typing import *\n",
    "\n",
    "class SparseVector:\n",
    "\n",
    "    # time = O(n)\n",
    "    # space = O(n)\n",
    "    def __init__(self, nums: List[int]):\n",
    "        self.nonzeros = {}\n",
    "        for i, n in enumerate(nums):\n",
    "            if n != 0:\n",
    "                self.nonzeros[i] = n              \n",
    "\n",
    "    # time = O(n)\n",
    "    # space = O(1)\n",
    "    def dotProduct(self, vec: 'SparseVector') -> int:\n",
    "        result = 0\n",
    "        # iterate through each non-zero element in this sparse vector\n",
    "        # update the dot product if the corresponding index has a non-zero value in the other vector\n",
    "        for i, n in self.nonzeros.items():\n",
    "            if i in vec.nonzeros:\n",
    "                result += n * vec.nonzeros[i]\n",
    "        return result\n",
    "        \n",
    "\n",
    "# Your SparseVector object will be instantiated and called as such:\n",
    "# v1 = SparseVector(nums1)\n",
    "# v2 = SparseVector(nums2)\n",
    "# ans = v1.dotProduct(v2)"
   ]
  },
  {
   "cell_type": "code",
   "execution_count": 2,
   "metadata": {},
   "outputs": [
    {
     "name": "stdout",
     "output_type": "stream",
     "text": [
      "8\n"
     ]
    }
   ],
   "source": [
    "nums1 = [1,0,0,2,3]\n",
    "nums2 = [0,3,0,4,0]\n",
    "expected = 8\n",
    "\n",
    "v1 = SparseVector(nums1)\n",
    "v2 = SparseVector(nums2)\n",
    "output = v1.dotProduct(v2)\n",
    "print(output)\n",
    "assert output == expected"
   ]
  },
  {
   "cell_type": "code",
   "execution_count": 3,
   "metadata": {},
   "outputs": [
    {
     "name": "stdout",
     "output_type": "stream",
     "text": [
      "0\n"
     ]
    }
   ],
   "source": [
    "nums1 = [0,1,0,0,0]\n",
    "nums2 = [0,0,0,0,2]\n",
    "expected = 0\n",
    "\n",
    "v1 = SparseVector(nums1)\n",
    "v2 = SparseVector(nums2)\n",
    "output = v1.dotProduct(v2)\n",
    "print(output)\n",
    "assert output == expected"
   ]
  },
  {
   "cell_type": "code",
   "execution_count": 4,
   "metadata": {},
   "outputs": [
    {
     "name": "stdout",
     "output_type": "stream",
     "text": [
      "6\n"
     ]
    }
   ],
   "source": [
    "nums1 = [0,1,0,0,2,0,0]\n",
    "nums2 = [1,0,0,0,3,0,4]\n",
    "expected = 6\n",
    "\n",
    "v1 = SparseVector(nums1)\n",
    "v2 = SparseVector(nums2)\n",
    "output = v1.dotProduct(v2)\n",
    "print(output)\n",
    "assert output == expected"
   ]
  }
 ],
 "metadata": {
  "kernelspec": {
   "display_name": "Python 3.10.5 64-bit ('3.10.5')",
   "language": "python",
   "name": "python3"
  },
  "language_info": {
   "codemirror_mode": {
    "name": "ipython",
    "version": 3
   },
   "file_extension": ".py",
   "mimetype": "text/x-python",
   "name": "python",
   "nbconvert_exporter": "python",
   "pygments_lexer": "ipython3",
   "version": "3.10.5"
  },
  "orig_nbformat": 4,
  "vscode": {
   "interpreter": {
    "hash": "992441bd4bc11ab83c63537935ea198062f55180155eaba570b8d7c82e005e8c"
   }
  }
 },
 "nbformat": 4,
 "nbformat_minor": 2
}
