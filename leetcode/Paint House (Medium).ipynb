{
 "cells": [
  {
   "cell_type": "markdown",
   "metadata": {},
   "source": [
    "# Paint House"
   ]
  },
  {
   "cell_type": "markdown",
   "metadata": {},
   "source": [
    "There is a row of `n` houses, where each house can be painted one of three colors: red, blue, or green. The cost of painting each house with a certain color is different. You have to paint all the houses such that no two adjacent houses have the same color.\n",
    "\n",
    "The cost of painting each house with a certain color is represented by an `n x 3` cost matrix costs.\n",
    "\n",
    "- For example, `costs[0][0]` is the cost of painting house 0 with the color red; `costs[1][2]` is the cost of painting house 1 with color green, and so on...\n",
    "\n",
    "Return the minimum cost to paint all houses."
   ]
  },
  {
   "cell_type": "markdown",
   "metadata": {},
   "source": [
    "Example 1:\n",
    "```\n",
    "Input: costs = [[17,2,17],[16,16,5],[14,3,19]]\n",
    "Output: 10\n",
    "Explanation: Paint house 0 into blue, paint house 1 into green, paint house 2 into blue.\n",
    "Minimum cost: 2 + 5 + 3 = 10.\n",
    "```"
   ]
  },
  {
   "cell_type": "markdown",
   "metadata": {},
   "source": [
    "Example 2:\n",
    "```\n",
    "Input: costs = [[7,6,2]]\n",
    "Output: 2\n",
    "```\n"
   ]
  },
  {
   "cell_type": "markdown",
   "metadata": {},
   "source": [
    "Constraints:\n",
    "```\n",
    "costs.length == n\n",
    "costs[i].length == 3\n",
    "1 <= n <= 100\n",
    "1 <= costs[i][j] <= 20\n",
    "```"
   ]
  },
  {
   "cell_type": "code",
   "execution_count": 2,
   "metadata": {},
   "outputs": [],
   "source": [
    "from typing import *\n",
    "\n",
    "class Solution:\n",
    "    # time = O(n)\n",
    "    # sapce = O(1) if allow mutation of input\n",
    "    # space = O(n) if not allow mutation of input\n",
    "    def minCost(self, costs: List[List[int]]) -> int:\n",
    "        for n in reversed(range(len(costs) - 1)):\n",
    "            # Total cost of painting nth house red.\n",
    "            costs[n][0] += min(costs[n + 1][1], costs[n + 1][2])\n",
    "            # Total cost of painting nth house green.\n",
    "            costs[n][1] += min(costs[n + 1][0], costs[n + 1][2])\n",
    "            # Total cost of painting nth house blue.\n",
    "            costs[n][2] += min(costs[n + 1][0], costs[n + 1][1])\n",
    "\n",
    "        if len(costs) == 0: return 0\n",
    "        return min(costs[0]) # Return the minimum in the first row.\n",
    "        "
   ]
  },
  {
   "cell_type": "code",
   "execution_count": 5,
   "metadata": {},
   "outputs": [
    {
     "name": "stdout",
     "output_type": "stream",
     "text": [
      "10\n"
     ]
    }
   ],
   "source": [
    "costs = [[17,2,17],[16,16,5],[14,3,19]]\n",
    "expected = 10\n",
    "\n",
    "output = Solution().minCost(costs)\n",
    "print(output)\n",
    "assert output == expected"
   ]
  },
  {
   "cell_type": "code",
   "execution_count": 6,
   "metadata": {},
   "outputs": [
    {
     "name": "stdout",
     "output_type": "stream",
     "text": [
      "2\n"
     ]
    }
   ],
   "source": [
    "costs = [[7,6,2]]\n",
    "expected = 2\n",
    "\n",
    "output = Solution().minCost(costs)\n",
    "print(output)\n",
    "assert output == expected"
   ]
  }
 ],
 "metadata": {
  "kernelspec": {
   "display_name": "Python 3.10.5 64-bit (windows store)",
   "language": "python",
   "name": "python3"
  },
  "language_info": {
   "codemirror_mode": {
    "name": "ipython",
    "version": 3
   },
   "file_extension": ".py",
   "mimetype": "text/x-python",
   "name": "python",
   "nbconvert_exporter": "python",
   "pygments_lexer": "ipython3",
   "version": "3.10.5"
  },
  "orig_nbformat": 4,
  "vscode": {
   "interpreter": {
    "hash": "3822405be9f5fb329f7270cbdcf73e762c62b3f383c5e71390a1a4648678c1cb"
   }
  }
 },
 "nbformat": 4,
 "nbformat_minor": 2
}
