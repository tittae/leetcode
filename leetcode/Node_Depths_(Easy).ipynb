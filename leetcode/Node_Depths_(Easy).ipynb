{
  "nbformat": 4,
  "nbformat_minor": 0,
  "metadata": {
    "colab": {
      "name": "Node Depths (Easy).ipynb",
      "provenance": [],
      "authorship_tag": "ABX9TyNR90GY+SZ/FgwPFdI1kVdI",
      "include_colab_link": true
    },
    "kernelspec": {
      "name": "python3",
      "display_name": "Python 3"
    },
    "language_info": {
      "name": "python"
    }
  },
  "cells": [
    {
      "cell_type": "markdown",
      "metadata": {
        "id": "view-in-github",
        "colab_type": "text"
      },
      "source": [
        "<a href=\"https://colab.research.google.com/github/wisarootl/leetcode/blob/main/Node_Depths_(Easy).ipynb\" target=\"_parent\"><img src=\"https://colab.research.google.com/assets/colab-badge.svg\" alt=\"Open In Colab\"/></a>"
      ]
    },
    {
      "cell_type": "markdown",
      "metadata": {
        "id": "E7FdAfeGeTvV"
      },
      "source": [
        "# Node Depths"
      ]
    },
    {
      "cell_type": "markdown",
      "metadata": {
        "id": "aSlMm7uTeVC6"
      },
      "source": [
        "The distance between a node in a Binary Tree and the tree's root is called the node's depth.\n",
        "\n",
        "Write a function that takes in a Binary Tree and returns the sum of its nodes' depths.\n",
        "\n",
        "Each BinaryTree node has an integer value, a left child node, and a right child node. Children nodes can either be BinaryTree nodes themselves or None / null."
      ]
    },
    {
      "cell_type": "markdown",
      "metadata": {
        "id": "vuVNndwTeWuW"
      },
      "source": [
        "Sample Input\n",
        "\n",
        "```\n",
        "tree =    1\n",
        "       /     \\\n",
        "      2       3\n",
        "    /   \\   /   \\\n",
        "   4     5 6     7\n",
        " /   \\\n",
        "8     9\n",
        "```\n",
        "\n"
      ]
    },
    {
      "cell_type": "markdown",
      "metadata": {
        "id": "QjurxXL8eaCl"
      },
      "source": [
        "Sample Output\n",
        "\n",
        "```\n",
        "16\n",
        "// The depth of the node with value 2 is 1.\n",
        "// The depth of the node with value 3 is 1.\n",
        "// The depth of the node with value 4 is 2.\n",
        "// The depth of the node with value 5 is 2.\n",
        "// Etc..\n",
        "// Summing all of these depths yields 16.\n",
        "```\n",
        "\n"
      ]
    },
    {
      "cell_type": "markdown",
      "metadata": {
        "id": "OpapvFU4iqWv"
      },
      "source": [
        "## BST Class"
      ]
    },
    {
      "cell_type": "code",
      "metadata": {
        "id": "BwfzMGeRir2R"
      },
      "source": [
        "class BST:\n",
        "\tdef __init__(self, value):\n",
        "\t\tself.value = value\n",
        "\t\tself.left = None\n",
        "\t\tself.right = None\n",
        "\t\n",
        "\t# avg: O(log(n)) time and O(1) space\n",
        "\t# worst: O(n) time and O(1) space\n",
        "\tdef insert(self, value):\n",
        "\t\tcurrent_node = self\n",
        "\t\t\n",
        "\t\twhile True:\n",
        "\t\t\tif value < current_node.value:\n",
        "\t\t\t\tif current_node.left == None:\n",
        "\t\t\t\t\tcurrent_node.left = BST(value)\n",
        "\t\t\t\t\tbreak\n",
        "\t\t\t\telse:\n",
        "\t\t\t\t\tcurrent_node = current_node.left\n",
        "\t\t\telse:\n",
        "\t\t\t\tif current_node.right == None:\n",
        "\t\t\t\t\tcurrent_node.right = BST(value)\n",
        "\t\t\t\t\tbreak\n",
        "\t\t\t\telse:\n",
        "\t\t\t\t\tcurrent_node = current_node.right\n",
        "\t\t# return self\n",
        "\t\n",
        "\t# avg: O(log(n)) time and O(1) space\n",
        "\t# worst: O(n) time and O(1) space\n",
        "\tdef contains(self, value):\n",
        "\t\tcurrent_node = self\n",
        "\t\t\n",
        "\t\twhile current_node is not None:\n",
        "\t\t\tif value == current_node.value:\n",
        "\t\t\t\treturn True\n",
        "\n",
        "\t\t\telif value < current_node.value:\n",
        "\t\t\t\tcurrent_node = current_node.left\n",
        "\n",
        "\t\t\telse:\n",
        "\t\t\t\tcurrent_node = current_node.right\n",
        "\t\treturn False\n",
        "\t\n",
        "\t# avg: O(log(n)) time and O(1) space\n",
        "\t# worst: O(n) time and O(1) space\n",
        "\tdef remove(self, value, parent_node = None):\n",
        "\t\tcurrent_node = self\n",
        "\t\twhile current_node is not None:\n",
        "\t\t\tif  value < current_node.value:\n",
        "\t\t\t\tparent_node = current_node\n",
        "\t\t\t\tcurrent_node = current_node.left\n",
        "\t\t\telif  value > current_node.value:\n",
        "\t\t\t\tparent_node = current_node\n",
        "\t\t\t\tcurrent_node = current_node.right\n",
        "\t\t\t\n",
        "\t\t\t# found node to remove\n",
        "      # complex if-else with multiple events\n",
        "      # take a look on visualization below the cell\n",
        "\t\t\telse:\n",
        "\t\t\t\t# w/ 2 child nodes\n",
        "\t\t\t\tif current_node.left is not None and current_node.right is not None:\n",
        "          # do the same for all sub cases (inc. w/o & w/ parent)\n",
        "\t\t\t\t\tcurrent_node.value = current_node.right.get_min_value()\n",
        "\t\t\t\t\tcurrent_node.right.remove(current_node.value, current_node)\n",
        "\n",
        "\t\t\t\t# w/ 1 child node\n",
        "\t\t\t\telif current_node.left is not None or current_node.right is not None:\n",
        "\t\t\t\t\t# w/o parent node\n",
        "\t\t\t\t\tif parent_node == None:\n",
        "\t\t\t\t\t\tif current_node.left is not None:\n",
        "\t\t\t\t\t\t\tcurrent_node.value = current_node.left.value\n",
        "\t\t\t\t\t\t\tcurrent_node.right = current_node.left.right\n",
        "\t\t\t\t\t\t\tcurrent_node.left =  current_node.left.left\n",
        "\n",
        "\t\t\t\t\t\telif current_node.right is not None:\n",
        "\t\t\t\t\t\t\tcurrent_node.value = current_node.right.value\n",
        "\t\t\t\t\t\t\tcurrent_node.left =  current_node.right.left\n",
        "\t\t\t\t\t\t\tcurrent_node.right = current_node.right.right\n",
        "\n",
        "\t\t\t\t\t# w/ parent node\n",
        "\t\t\t\t\telse:\n",
        "\t\t\t\t\t\t# alternate parent node\n",
        "\t\t\t\t\t\tif parent_node.left == current_node:\n",
        "\t\t\t\t\t\t\tparent_node.left = current_node.left if current_node.left is not None else current_node.right\n",
        "\t\t\t\t\t\telif parent_node.right == current_node:\n",
        "\t\t\t\t\t\t\tparent_node.right = current_node.right if current_node.right is not None else current_node.left\n",
        "\n",
        "\t\t\t\t# w/o child node\n",
        "\t\t\t\telse:\n",
        "\t\t\t\t\t# w/o parent node\n",
        "\t\t\t\t\tif parent_node == None:\n",
        "\t\t\t\t\t\t# Do nothing\n",
        "\t\t\t\t\t\tpass\n",
        "\t\t\t\t\t# w/ parent node\n",
        "\t\t\t\t\telse:\n",
        "\t\t\t\t\t\t# alternate parent node\n",
        "\t\t\t\t\t\tif parent_node.left == current_node:\n",
        "\t\t\t\t\t\t\tparent_node.left = None\n",
        "\t\t\t\t\t\telif parent_node.right == current_node:\n",
        "\t\t\t\t\t\t\tparent_node.right = None\n",
        "\t\t\t\tbreak\n",
        "\t\t# return self\n",
        "\t\t\t\t\t\t\n",
        "\tdef get_min_value(self):\n",
        "\t\tcurrent_node = self\n",
        "\t\twhile current_node.left is not None:\n",
        "\t\t\tcurrent_node = current_node.left\n",
        "\t\treturn current_node.value"
      ],
      "execution_count": null,
      "outputs": []
    },
    {
      "cell_type": "markdown",
      "metadata": {
        "id": "oN12CC47iscD"
      },
      "source": [
        "## Solution"
      ]
    },
    {
      "cell_type": "code",
      "metadata": {
        "id": "EvVs8798eSKl"
      },
      "source": [
        "# O(N) Time, O(height) space => O(log n) space if the tree is balance.\n",
        "\n",
        "def nodeDepths(root):\n",
        "\t# initialize fringe [node, depth of that node]\n",
        "\tfringe = [[root, 0]]\n",
        "\tdepths_sum = 0\n",
        "\t\n",
        "\twhile True:\n",
        "\n",
        "\t\t# is fringe empty?\n",
        "\t\tif fringe == []:\n",
        "\t\t\treturn depths_sum\n",
        "\t\t\n",
        "\t\t# remove front\n",
        "\t\tfront = fringe.pop()\n",
        "\t\tif front[0] == None: continue\n",
        "\t\tdepths_sum += front[1]\n",
        "\n",
        "\t\t# gen successors\n",
        "\t\tchild_depth = front[1] + 1\n",
        "\t\tsuccessors = [[front[0].right, child_depth], [front[0].left, child_depth]]\n",
        "\n",
        "\t\t# insert sucessors\n",
        "\t\tfringe = fringe + successors"
      ],
      "execution_count": null,
      "outputs": []
    },
    {
      "cell_type": "code",
      "metadata": {
        "id": "i5lgEywXixpt"
      },
      "source": [
        "tree = BST(10)"
      ],
      "execution_count": null,
      "outputs": []
    },
    {
      "cell_type": "code",
      "metadata": {
        "id": "KiWgPuyGiyc9"
      },
      "source": [
        "tree.insert(5)\n",
        "tree.insert(15)\n",
        "tree.insert(2)\n",
        "tree.insert(5)\n",
        "tree.insert(13)\n",
        "tree.insert(22)\n",
        "tree.insert(1)\n",
        "tree.insert(14)\n",
        "tree.insert(12)"
      ],
      "execution_count": null,
      "outputs": []
    },
    {
      "cell_type": "code",
      "metadata": {
        "colab": {
          "base_uri": "https://localhost:8080/"
        },
        "id": "FE06Y8Jpizb6",
        "outputId": "8945a85f-3721-4e52-e111-059a8048d310"
      },
      "source": [
        "print(nodeDepths(tree))"
      ],
      "execution_count": null,
      "outputs": [
        {
          "output_type": "stream",
          "name": "stdout",
          "text": [
            "19\n"
          ]
        }
      ]
    },
    {
      "cell_type": "markdown",
      "metadata": {
        "id": "h0dLKJre0wn4"
      },
      "source": [
        "## Solution (recursive)"
      ]
    },
    {
      "cell_type": "code",
      "metadata": {
        "id": "Z1xpSBja01S9"
      },
      "source": [
        "def nodeDepths(root, depth = 0):\n",
        "  # handle base case\n",
        "  if root is None:\n",
        "    return 0\n",
        "  return depth + nodeDepths(root.left, depth + 1) + nodeDepths(root.right, depth + 1)"
      ],
      "execution_count": null,
      "outputs": []
    },
    {
      "cell_type": "code",
      "metadata": {
        "id": "pT4wezk21MOd"
      },
      "source": [
        "tree = BST(10)"
      ],
      "execution_count": null,
      "outputs": []
    },
    {
      "cell_type": "code",
      "metadata": {
        "id": "fnZsCN0w1OeW"
      },
      "source": [
        "tree.insert(5)\n",
        "tree.insert(15)\n",
        "tree.insert(2)\n",
        "tree.insert(5)\n",
        "tree.insert(13)\n",
        "tree.insert(22)\n",
        "tree.insert(1)\n",
        "tree.insert(14)\n",
        "tree.insert(12)"
      ],
      "execution_count": null,
      "outputs": []
    },
    {
      "cell_type": "code",
      "metadata": {
        "colab": {
          "base_uri": "https://localhost:8080/"
        },
        "id": "kyHuqqpb1Ple",
        "outputId": "f7db0823-77d7-442b-a6d5-89ee52e59bc8"
      },
      "source": [
        "print(nodeDepths(tree))"
      ],
      "execution_count": null,
      "outputs": [
        {
          "output_type": "stream",
          "name": "stdout",
          "text": [
            "19\n"
          ]
        }
      ]
    }
  ]
}