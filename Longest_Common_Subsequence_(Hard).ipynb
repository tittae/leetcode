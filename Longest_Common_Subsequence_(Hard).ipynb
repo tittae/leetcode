{
  "nbformat": 4,
  "nbformat_minor": 0,
  "metadata": {
    "colab": {
      "name": "Longest Common Subsequence (Hard).ipynb",
      "provenance": [],
      "collapsed_sections": [],
      "authorship_tag": "ABX9TyNBE9PRNwlcCp03GcqwDb3F",
      "include_colab_link": true
    },
    "kernelspec": {
      "name": "python3",
      "display_name": "Python 3"
    },
    "language_info": {
      "name": "python"
    }
  },
  "cells": [
    {
      "cell_type": "markdown",
      "metadata": {
        "id": "view-in-github",
        "colab_type": "text"
      },
      "source": [
        "<a href=\"https://colab.research.google.com/github/wisarootl/leetcode/blob/main/Longest_Common_Subsequence_(Hard).ipynb\" target=\"_parent\"><img src=\"https://colab.research.google.com/assets/colab-badge.svg\" alt=\"Open In Colab\"/></a>"
      ]
    },
    {
      "cell_type": "markdown",
      "metadata": {
        "id": "fk-pMgyPfaUG"
      },
      "source": [
        "# Longest Common Subsequence"
      ]
    },
    {
      "cell_type": "markdown",
      "metadata": {
        "id": "JERdRzbQfi6-"
      },
      "source": [
        "Write a function that takes in two strings and returns their longest common subsequence.\n",
        "\n",
        "A subsequence of a string is a set of characters that aren't necessarily adjacent in the string but that are in the same order as they appear in the string. For instance, the characters `[\"a\", \"c\", \"d\"]` form a subsequence of the string `\"abcd\"`, and so do the characters `[\"b\", \"d\"]`. Note that a single character in a string and the string itself are both valid subsequences of the string.\n",
        "\n",
        "You can assume that there will only be one longest common subsequence."
      ]
    },
    {
      "cell_type": "markdown",
      "metadata": {
        "id": "ipRDDB5yfoUU"
      },
      "source": [
        "Sample Input\n",
        "\n",
        "```\n",
        "str1 = \"ZXVVYZW\"\n",
        "str2 = \"XKYKZPW\"\n",
        "```\n",
        "\n"
      ]
    },
    {
      "cell_type": "markdown",
      "metadata": {
        "id": "qjwntBqNfqsh"
      },
      "source": [
        "Sample Output\n",
        "\n",
        "```\n",
        "[\"X\", \"Y\", \"Z\", \"W\"]\n",
        "```\n",
        "\n"
      ]
    },
    {
      "cell_type": "code",
      "metadata": {
        "id": "0x1mlOXbfV6n"
      },
      "source": [
        "\n",
        "\n",
        "def longestCommonSubsequence(str1, str2):\n",
        "  # lcs = longest_common_subsequence\n",
        "  lcs = [[{'letter':None, 'lcs':0, 'previos_i':None, 'previos_j':None} for _ in range(len(str1) + 1)] for _ in range(len(str2) + 1)]\n",
        "  \n",
        "  for j in range(1, len(str2) + 1):\n",
        "    for i in range(1, len(str1) + 1):\n",
        "      if str1[i - 1] == str2[j - 1]:\n",
        "        lcs[j][i]['letter'] = str1[i - 1]\n",
        "        lcs[j][i]['lcs'] = lcs[j - 1][i - 1]['lcs'] + 1\n",
        "        lcs[j][i]['previos_i'] = i - 1\n",
        "        lcs[j][i]['previos_j'] = j - 1\n",
        "\n",
        "      else:\n",
        "        if lcs[j - 1][i]['lcs'] > lcs[j][i - 1]['lcs']:\n",
        "          lcs[j][i]['letter'] = None\n",
        "          lcs[j][i]['lcs'] = lcs[j - 1][i]['lcs']\n",
        "          lcs[j][i]['previos_i'] = i\n",
        "          lcs[j][i]['previos_j'] = j - 1\n",
        "        else:\n",
        "          lcs[j][i]['letter'] = None\n",
        "          lcs[j][i]['lcs'] = lcs[j][i - 1]['lcs']\n",
        "          lcs[j][i]['previos_i'] = i - 1\n",
        "          lcs[j][i]['previos_j'] = j\n",
        "\n",
        "  # display(lcs)\n",
        "  \n",
        "  return get_sequence(lcs)\n",
        "\n",
        "def get_sequence(lcs):\n",
        "  i = len(lcs[0]) - 1\n",
        "  j = len(lcs) - 1\n",
        "  sequence = []\n",
        "\n",
        "  while i != 0 and j != 0:\n",
        "    if lcs[j][i]['letter'] != None:\n",
        "      sequence.append(lcs[j][i]['letter'])\n",
        "    i, j = lcs[j][i]['previos_i'], lcs[j][i]['previos_j']\n",
        "\n",
        "  return list(reversed(sequence))"
      ],
      "execution_count": 157,
      "outputs": []
    },
    {
      "cell_type": "code",
      "metadata": {
        "id": "29E7-ga9J2HF"
      },
      "source": [
        "def display(lcs):\n",
        "  print(' ', end=' ')\n",
        "  for i in range(len(str1)):\n",
        "    print('%2s' % str1[i], end=' ')\n",
        "  print('\\n', end='')\n",
        "  for j in range(1, len(str2) + 1):\n",
        "    if j == 0:\n",
        "      print(' ', end=' ')\n",
        "    else:\n",
        "      print(str2[j - 1], end=' ')\n",
        "\n",
        "    for i in range(1, len(str1) + 1):\n",
        "      print('%2s' % lcs[j][i]['lcs'], end=' ')\n",
        "\n",
        "    print('\\n', end='')"
      ],
      "execution_count": 158,
      "outputs": []
    },
    {
      "cell_type": "code",
      "metadata": {
        "colab": {
          "base_uri": "https://localhost:8080/"
        },
        "id": "Z8d7CV8_s70v",
        "outputId": "7536f940-b62b-4388-fad5-b4b3fc153220"
      },
      "source": [
        "str1 = \"ZXVVYZW\"\n",
        "str2 = \"XKYKZPW\"\n",
        "print(longestCommonSubsequence(str1, str2))"
      ],
      "execution_count": 159,
      "outputs": [
        {
          "output_type": "stream",
          "name": "stdout",
          "text": [
            "['X', 'Y', 'Z', 'W']\n"
          ]
        }
      ]
    },
    {
      "cell_type": "code",
      "metadata": {
        "colab": {
          "base_uri": "https://localhost:8080/"
        },
        "id": "mrZmdKUhw4oR",
        "outputId": "9b9cd97c-a26a-4599-8715-5b6a627294b0"
      },
      "source": [
        "str1 = \"ABCDEFG\"\n",
        "str2 = \"ABCDEFG\"\n",
        "print(longestCommonSubsequence(str1, str2))"
      ],
      "execution_count": 160,
      "outputs": [
        {
          "output_type": "stream",
          "name": "stdout",
          "text": [
            "['A', 'B', 'C', 'D', 'E', 'F', 'G']\n"
          ]
        }
      ]
    },
    {
      "cell_type": "code",
      "metadata": {
        "colab": {
          "base_uri": "https://localhost:8080/"
        },
        "id": "wHD6SMK30ozo",
        "outputId": "d6ae0dce-0f4b-46c6-cb8f-12a5892ad13e"
      },
      "source": [
        "str1 = \"clement\"\n",
        "str2 = \"antoine\"\n",
        "print(longestCommonSubsequence(str1, str2))"
      ],
      "execution_count": 161,
      "outputs": [
        {
          "output_type": "stream",
          "name": "stdout",
          "text": [
            "['n', 't']\n"
          ]
        }
      ]
    },
    {
      "cell_type": "code",
      "metadata": {
        "colab": {
          "base_uri": "https://localhost:8080/"
        },
        "id": "S_ywgMfrIN3R",
        "outputId": "9dc8a99f-ffac-44b1-9c03-7d301b25c501"
      },
      "source": [
        "str1 = \"ABCDEFGHIJKLMNOPQRSTUVWXYZ\"\n",
        "str2 =\"CCCDDEGDHAGKGLWAJWKJAWGKGWJAKLGGWAFWLFFWAGJWKAGTUV\"\n",
        "print(longestCommonSubsequence(str1, str2))"
      ],
      "execution_count": 162,
      "outputs": [
        {
          "output_type": "stream",
          "name": "stdout",
          "text": [
            "['C', 'D', 'E', 'G', 'H', 'J', 'K', 'L', 'T', 'U', 'V']\n"
          ]
        }
      ]
    }
  ]
}