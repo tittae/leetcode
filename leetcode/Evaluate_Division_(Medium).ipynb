{
  "nbformat": 4,
  "nbformat_minor": 0,
  "metadata": {
    "colab": {
      "name": "Evaluate Division (Medium).ipynb",
      "provenance": [],
      "authorship_tag": "ABX9TyMOCttpsO/4CutXcXTLl7mG",
      "include_colab_link": true
    },
    "kernelspec": {
      "name": "python3",
      "display_name": "Python 3"
    },
    "language_info": {
      "name": "python"
    }
  },
  "cells": [
    {
      "cell_type": "markdown",
      "metadata": {
        "id": "view-in-github",
        "colab_type": "text"
      },
      "source": [
        "<a href=\"https://colab.research.google.com/github/wisarootl/leetcode/blob/main/Evaluate_Division_(Medium).ipynb\" target=\"_parent\"><img src=\"https://colab.research.google.com/assets/colab-badge.svg\" alt=\"Open In Colab\"/></a>"
      ]
    },
    {
      "cell_type": "markdown",
      "source": [
        "# Evaluate Division"
      ],
      "metadata": {
        "id": "4t8qeGOqi711"
      }
    },
    {
      "cell_type": "markdown",
      "source": [
        "You are given an array of variable pairs equations and an array of real numbers values, where equations[i] = [Ai, Bi] and values[i] represent the equation Ai / Bi = values[i]. Each Ai or Bi is a string that represents a single variable.\n",
        "\n",
        "You are also given some queries, where queries[j] = [Cj, Dj] represents the jth query where you must find the answer for Cj / Dj = ?.\n",
        "\n",
        "Return the answers to all queries. If a single answer cannot be determined, return -1.0.\n",
        "\n",
        "Note: The input is always valid. You may assume that evaluating the queries will not result in division by zero and that there is no contradiction.\n",
        "\n",
        " "
      ],
      "metadata": {
        "id": "tntWlQdXi-Py"
      }
    },
    {
      "cell_type": "markdown",
      "source": [
        "Example 1:\n",
        "\n",
        "```\n",
        "Input: equations = [[\"a\",\"b\"],[\"b\",\"c\"]], values = [2.0,3.0], queries = [[\"a\",\"c\"],[\"b\",\"a\"],[\"a\",\"e\"],[\"a\",\"a\"],[\"x\",\"x\"]]\n",
        "Output: [6.00000,0.50000,-1.00000,1.00000,-1.00000]\n",
        "Explanation: \n",
        "Given: a / b = 2.0, b / c = 3.0\n",
        "queries are: a / c = ?, b / a = ?, a / e = ?, a / a = ?, x / x = ?\n",
        "return: [6.0, 0.5, -1.0, 1.0, -1.0 ]\n",
        "```\n",
        "\n"
      ],
      "metadata": {
        "id": "7Xfb1OyHi_YY"
      }
    },
    {
      "cell_type": "markdown",
      "source": [
        "Example 2:\n",
        "\n",
        "```\n",
        "Input: equations = [[\"a\",\"b\"],[\"b\",\"c\"],[\"bc\",\"cd\"]], values = [1.5,2.5,5.0], queries = [[\"a\",\"c\"],[\"c\",\"b\"],[\"bc\",\"cd\"],[\"cd\",\"bc\"]]\n",
        "Output: [3.75000,0.40000,5.00000,0.20000]\n",
        "```\n",
        "\n"
      ],
      "metadata": {
        "id": "MaVwVy4wjBxP"
      }
    },
    {
      "cell_type": "markdown",
      "source": [
        "Example 3:\n",
        "\n",
        "```\n",
        "Input: equations = [[\"a\",\"b\"]], values = [0.5], queries = [[\"a\",\"b\"],[\"b\",\"a\"],[\"a\",\"c\"],[\"x\",\"y\"]]\n",
        "Output: [0.50000,2.00000,-1.00000,-1.00000]\n",
        "```\n",
        "\n"
      ],
      "metadata": {
        "id": "BXbCgIQjjESL"
      }
    },
    {
      "cell_type": "markdown",
      "source": [
        "Constraints:\n",
        "\n",
        "```\n",
        "1 <= equations.length <= 20\n",
        "equations[i].length == 2\n",
        "1 <= Ai.length, Bi.length <= 5\n",
        "values.length == equations.length\n",
        "0.0 < values[i] <= 20.0\n",
        "1 <= queries.length <= 20\n",
        "queries[i].length == 2\n",
        "1 <= Cj.length, Dj.length <= 5\n",
        "Ai, Bi, Cj, Dj consist of lower case English letters and digits.\n",
        "```\n",
        "\n"
      ],
      "metadata": {
        "id": "JepOcT6ljGsw"
      }
    },
    {
      "cell_type": "markdown",
      "source": [
        "# Solution 1 : DFS"
      ],
      "metadata": {
        "id": "jxjgBp_bjMJF"
      }
    },
    {
      "cell_type": "code",
      "execution_count": 1,
      "metadata": {
        "id": "MzAHXOQgilqW"
      },
      "outputs": [],
      "source": [
        "from collections import defaultdict\n",
        "\n",
        "class Solution:\n",
        "    def calcEquation(self, equations, values, queries):\n",
        "        \n",
        "        def answer(curr: str, value: float) -> float:\n",
        "            # required: self.graph, self.goal, self.seen\n",
        "            if curr == self.goal:\n",
        "                return value\n",
        "            for adj, adj_value in self.graph[curr].items():\n",
        "                if adj not in self.seen:\n",
        "                    self.seen.add(adj)\n",
        "                    result = answer(adj, value*adj_value)  # orig/adj = (orig/curr) * (curr/adj) = value*adj_value\n",
        "                    if result != -1:\n",
        "                        return result\n",
        "                    self.seen.remove(adj)  # backtrack\n",
        "            return -1\n",
        "        \n",
        "        self.graph = defaultdict(dict)\n",
        "        self.seen = set()  # all visited expressions\n",
        "        for (a, b), value in zip(equations, values):\n",
        "            self.graph[a][b] = value  # a/b = value, given\n",
        "            self.graph[b][a] = 1/value  # b/a = 1/(a/b) = 1/value\n",
        "        result = []\n",
        "        for orig, self.goal in queries:\n",
        "            result.append(answer(orig, 1) if orig in self.graph else -1)\n",
        "            self.seen.clear()\n",
        "        return result"
      ]
    },
    {
      "cell_type": "code",
      "source": [
        "equations = [[\"a\",\"b\"],[\"b\",\"c\"]]\n",
        "values = [2.0, 3.0]\n",
        "queries = [[\"a\",\"c\"],[\"b\",\"a\"],[\"a\",\"e\"],[\"a\",\"a\"],[\"x\",\"x\"]]\n",
        "expected = [6.00000,0.50000,-1.00000,1.00000,-1.00000]\n",
        "\n",
        "output = Solution().calcEquation(equations, values, queries)\n",
        "print(output)\n",
        "assert output == expected"
      ],
      "metadata": {
        "colab": {
          "base_uri": "https://localhost:8080/"
        },
        "id": "C4ksObJ0jZVK",
        "outputId": "d96bbb13-c8c2-4ec3-dcf3-f5fa38975b6c"
      },
      "execution_count": 2,
      "outputs": [
        {
          "output_type": "stream",
          "name": "stdout",
          "text": [
            "[6.0, 0.5, -1, 1, -1]\n"
          ]
        }
      ]
    },
    {
      "cell_type": "code",
      "source": [
        "equations = [[\"a\",\"b\"],[\"b\",\"c\"],[\"bc\",\"cd\"]]\n",
        "values = [1.5,2.5,5.0]\n",
        "queries = [[\"a\",\"c\"],[\"c\",\"b\"],[\"bc\",\"cd\"],[\"cd\",\"bc\"]]\n",
        "expected = [3.75000,0.40000,5.00000,0.20000]\n",
        "\n",
        "output = Solution().calcEquation(equations, values, queries)\n",
        "print(output)\n",
        "assert output == expected"
      ],
      "metadata": {
        "colab": {
          "base_uri": "https://localhost:8080/"
        },
        "id": "gFtPQWeHlhAv",
        "outputId": "2a53a118-1e90-4988-931f-27e25807744e"
      },
      "execution_count": 3,
      "outputs": [
        {
          "output_type": "stream",
          "name": "stdout",
          "text": [
            "[3.75, 0.4, 5.0, 0.2]\n"
          ]
        }
      ]
    },
    {
      "cell_type": "code",
      "source": [
        "equations = [[\"a\",\"b\"]]\n",
        "values = [0.5]\n",
        "queries = [[\"a\",\"b\"],[\"b\",\"a\"],[\"a\",\"c\"],[\"x\",\"y\"]]\n",
        "expected = [0.50000,2.00000,-1.00000,-1.00000]\n",
        "\n",
        "output = Solution().calcEquation(equations, values, queries)\n",
        "print(output)\n",
        "assert output == expected"
      ],
      "metadata": {
        "colab": {
          "base_uri": "https://localhost:8080/"
        },
        "id": "aiJLxXVblm2I",
        "outputId": "32d66259-bb0a-4f2e-bce9-608c40ae45c3"
      },
      "execution_count": 4,
      "outputs": [
        {
          "output_type": "stream",
          "name": "stdout",
          "text": [
            "[0.5, 2.0, -1, -1]\n"
          ]
        }
      ]
    },
    {
      "cell_type": "markdown",
      "source": [
        "# Solution 2 : BFS"
      ],
      "metadata": {
        "id": "QG3iolCxjWZD"
      }
    },
    {
      "cell_type": "code",
      "source": [
        "from collections import deque\n",
        "\n",
        "class Solution:\n",
        "    # time = O(q * N)\n",
        "    # space = O(N)\n",
        "    # q = number of queries\n",
        "    # N = number of equations\n",
        "    def calcEquation(self, equations, values, queries):\n",
        "        graph = defaultdict(dict)\n",
        "        for (a, b), value in zip(equations, values):\n",
        "            graph[a][b] = value  # a/b = value, given\n",
        "            graph[b][a] = 1/value  # b/a = 1/(a/b) = 1/value\n",
        "        result = []\n",
        "        for a, b in queries:\n",
        "            queue = deque()  # for BFS traversion\n",
        "            seen = set()  # all visited expressions\n",
        "            curr = -1  # the current result\n",
        "            if a in graph:\n",
        "                queue.append((a, 1))\n",
        "                seen.add(a)\n",
        "            while queue:\n",
        "                i, value = queue.popleft()\n",
        "                if i == b:\n",
        "                    curr = value  # the resultant value of a/b\n",
        "                    break\n",
        "                for adj, adj_value in graph[i].items():\n",
        "                    if adj not in seen:\n",
        "                        queue.append((adj, value*adj_value))  # a/adj = (a/i) * (i/adj) = value*adj_value\n",
        "                        seen.add(adj)\n",
        "            result.append(curr)\n",
        "        return result"
      ],
      "metadata": {
        "id": "bz9bJrcDjVHr"
      },
      "execution_count": 5,
      "outputs": []
    },
    {
      "cell_type": "code",
      "source": [
        "equations = [[\"a\",\"b\"],[\"b\",\"c\"]]\n",
        "values = [2.0, 3.0]\n",
        "queries = [[\"a\",\"c\"],[\"b\",\"a\"],[\"a\",\"e\"],[\"a\",\"a\"],[\"x\",\"x\"]]\n",
        "expected = [6.00000,0.50000,-1.00000,1.00000,-1.00000]\n",
        "\n",
        "output = Solution().calcEquation(equations, values, queries)\n",
        "print(output)\n",
        "assert output == expected"
      ],
      "metadata": {
        "colab": {
          "base_uri": "https://localhost:8080/"
        },
        "id": "pfwGBxknj_3b",
        "outputId": "0ee6fb56-2986-4da6-989b-dc76c8be98af"
      },
      "execution_count": 6,
      "outputs": [
        {
          "output_type": "stream",
          "name": "stdout",
          "text": [
            "[6.0, 0.5, -1, 1, -1]\n"
          ]
        }
      ]
    },
    {
      "cell_type": "code",
      "source": [
        "equations = [[\"a\",\"b\"],[\"b\",\"c\"],[\"bc\",\"cd\"]]\n",
        "values = [1.5,2.5,5.0]\n",
        "queries = [[\"a\",\"c\"],[\"c\",\"b\"],[\"bc\",\"cd\"],[\"cd\",\"bc\"]]\n",
        "expected = [3.75000,0.40000,5.00000,0.20000]\n",
        "\n",
        "output = Solution().calcEquation(equations, values, queries)\n",
        "print(output)\n",
        "assert output == expected"
      ],
      "metadata": {
        "colab": {
          "base_uri": "https://localhost:8080/"
        },
        "id": "oW61gQNultoF",
        "outputId": "2510ea51-70ce-4f97-8706-8deda6a12867"
      },
      "execution_count": 7,
      "outputs": [
        {
          "output_type": "stream",
          "name": "stdout",
          "text": [
            "[3.75, 0.4, 5.0, 0.2]\n"
          ]
        }
      ]
    },
    {
      "cell_type": "code",
      "source": [
        "equations = [[\"a\",\"b\"]]\n",
        "values = [0.5]\n",
        "queries = [[\"a\",\"b\"],[\"b\",\"a\"],[\"a\",\"c\"],[\"x\",\"y\"]]\n",
        "expected = [0.50000,2.00000,-1.00000,-1.00000]\n",
        "\n",
        "output = Solution().calcEquation(equations, values, queries)\n",
        "print(output)\n",
        "assert output == expected"
      ],
      "metadata": {
        "colab": {
          "base_uri": "https://localhost:8080/"
        },
        "id": "vxAChk9hlumY",
        "outputId": "31acf84c-c2e3-4c20-b840-5c155e60b5a2"
      },
      "execution_count": 8,
      "outputs": [
        {
          "output_type": "stream",
          "name": "stdout",
          "text": [
            "[0.5, 2.0, -1, -1]\n"
          ]
        }
      ]
    }
  ]
}