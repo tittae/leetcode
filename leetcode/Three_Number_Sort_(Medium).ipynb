{
  "nbformat": 4,
  "nbformat_minor": 0,
  "metadata": {
    "colab": {
      "name": "Three Number Sort (Medium).ipynb",
      "provenance": [],
      "authorship_tag": "ABX9TyO54lEtYUAEFdMkq+Euvwb6",
      "include_colab_link": true
    },
    "kernelspec": {
      "name": "python3",
      "display_name": "Python 3"
    },
    "language_info": {
      "name": "python"
    }
  },
  "cells": [
    {
      "cell_type": "markdown",
      "metadata": {
        "id": "view-in-github",
        "colab_type": "text"
      },
      "source": [
        "<a href=\"https://colab.research.google.com/github/wisarootl/leetcode/blob/main/Three_Number_Sort_(Medium).ipynb\" target=\"_parent\"><img src=\"https://colab.research.google.com/assets/colab-badge.svg\" alt=\"Open In Colab\"/></a>"
      ]
    },
    {
      "cell_type": "markdown",
      "source": [
        "# Three Number Sort"
      ],
      "metadata": {
        "id": "sg4Io0JDUDrr"
      }
    },
    {
      "cell_type": "markdown",
      "source": [
        "You're given an array of integers and another array of three distinct integers. The first array is guaranteed to only contain integers that are in the second array, and the second array represents a desired order for the integers in the first array. For example, a second array of `[x, y, z]` represents a desired order of `[x, x, ..., x, y, y, ..., y, z, z, ..., z]` in the first array.\n",
        "\n",
        "Write a function that sorts the first array according to the desired order in the second array.\n",
        "\n",
        "The function should perform this in place (i.e., it should mutate the input array), and it shouldn't use any auxiliary space (i.e., it should run with constant space: `O(1)` space).\n",
        "\n",
        "Note that the desired order won't necessarily be ascending or descending and that the first array won't necessarily contain all three integers found in the second array—it might only contain one or two."
      ],
      "metadata": {
        "id": "0L_fndoNUEwp"
      }
    },
    {
      "cell_type": "markdown",
      "source": [
        "Sample Input\n",
        "\n",
        "```\n",
        "array = [1, 0, 0, -1, -1, 0, 1, 1]\n",
        "order = [0, 1, -1]\n",
        "```\n",
        "\n"
      ],
      "metadata": {
        "id": "WFnmHzQuUI55"
      }
    },
    {
      "cell_type": "markdown",
      "source": [
        "Sample Output\n",
        "\n",
        "```\n",
        "[0, 0, 0, 1, 1, 1, -1, -1]\n",
        "```\n",
        "\n"
      ],
      "metadata": {
        "id": "QgR_GBeBUKV7"
      }
    },
    {
      "cell_type": "code",
      "execution_count": null,
      "metadata": {
        "id": "K42I5mPFPkD-"
      },
      "outputs": [],
      "source": [
        "# Time O(n)\n",
        "# Space O(1)\n",
        "\n",
        "def threeNumberSort(array, order):\n",
        "\tsorted_idx = 0\n",
        "  # not loop to the last element becasue it will be automatically sort \n",
        "  # if we complete all order earlier \n",
        "\tfor current_idx_for_order in range(len(order) - 1): \n",
        "\t\tfor current_idx in range(sorted_idx, len(array)):\n",
        "\t\t\tif order[current_idx_for_order] == array[current_idx]:\n",
        "\t\t\t\tarray[current_idx], array[sorted_idx] = array[sorted_idx], array[current_idx]\n",
        "\t\t\t\tsorted_idx += 1\n",
        "\treturn array"
      ]
    },
    {
      "cell_type": "code",
      "source": [
        "array = [1, 0, 0, -1, -1, 0, 1, 1]\n",
        "order = [0, 1, -1]\n",
        "threeNumberSort(array, order)"
      ],
      "metadata": {
        "colab": {
          "base_uri": "https://localhost:8080/"
        },
        "id": "_jEeycjZUPdp",
        "outputId": "e4263876-7f67-44c9-9da0-b33cdeaa1929"
      },
      "execution_count": null,
      "outputs": [
        {
          "output_type": "execute_result",
          "data": {
            "text/plain": [
              "[0, 0, 0, 1, 1, 1, -1, -1]"
            ]
          },
          "metadata": {},
          "execution_count": 2
        }
      ]
    }
  ]
}