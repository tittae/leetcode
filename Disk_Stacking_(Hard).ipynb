{
  "nbformat": 4,
  "nbformat_minor": 0,
  "metadata": {
    "colab": {
      "name": "Disk Stacking (Hard).ipynb",
      "provenance": [],
      "authorship_tag": "ABX9TyPc3vnEiD7xLY4kmgKFxcc9",
      "include_colab_link": true
    },
    "kernelspec": {
      "name": "python3",
      "display_name": "Python 3"
    },
    "language_info": {
      "name": "python"
    }
  },
  "cells": [
    {
      "cell_type": "markdown",
      "metadata": {
        "id": "view-in-github",
        "colab_type": "text"
      },
      "source": [
        "<a href=\"https://colab.research.google.com/github/wisarootl/leetcode/blob/main/Disk_Stacking_(Hard).ipynb\" target=\"_parent\"><img src=\"https://colab.research.google.com/assets/colab-badge.svg\" alt=\"Open In Colab\"/></a>"
      ]
    },
    {
      "cell_type": "markdown",
      "metadata": {
        "id": "n2wDtx2mOZkj"
      },
      "source": [
        "# Disk Stacking"
      ]
    },
    {
      "cell_type": "markdown",
      "metadata": {
        "id": "HQJ7DhktObzE"
      },
      "source": [
        "You're given a non-empty array of arrays where each subarray holds three integers and represents a disk. These integers denote each disk's width, depth, and height, respectively. Your goal is to stack up the disks and to maximize the total height of the stack. A disk must have a strictly smaller width, depth, and height than any other disk below it.\n",
        "\n",
        "Write a function that returns an array of the disks in the final stack, starting with the top disk and ending with the bottom disk. Note that you can't rotate disks; in other words, the integers in each subarray must represent `[width, depth, height]` at all times.\n",
        "\n",
        "You can assume that there will only be one stack with the greatest total height."
      ]
    },
    {
      "cell_type": "markdown",
      "metadata": {
        "id": "7gtqt_HWOdwR"
      },
      "source": [
        "Sample Input\n",
        "\n",
        "```\n",
        "disks = [[2, 1, 2], [3, 2, 3], [2, 2, 8], [2, 3, 4], [1, 3, 1], [4, 4, 5]]\n",
        "```\n",
        "\n"
      ]
    },
    {
      "cell_type": "markdown",
      "metadata": {
        "id": "JmKR1yvYOgGf"
      },
      "source": [
        "Sample Output\n",
        "\n",
        "```\n",
        "[[2, 1, 2], [3, 2, 3], [4, 4, 5]]\n",
        "// 10 (2 + 3 + 5) is the tallest height we can get by\n",
        "// stacking disks following the rules laid out above.\n",
        "```\n",
        "\n"
      ]
    },
    {
      "cell_type": "code",
      "metadata": {
        "id": "42YKnc5eOPOs"
      },
      "source": [
        "def diskStacking(disks):\n",
        "  # sort height ascending\n",
        "  disks = sorted(disks, key=lambda x: x[2])\n",
        "  heights = [0 for _ in range(len(disks))]\n",
        "  top_disk = [None for _ in range(len(disks))]\n",
        "  max_height_idx = 0\n",
        "\n",
        "  for i in range(len(disks)):\n",
        "    heights[i] = disks[i][2]\n",
        "    for j in range(i, 0 - 1, -1):\n",
        "      if is_valid_stack(disks[i], disks[j]):\n",
        "        if heights[j] + disks[i][2] > heights[i]:\n",
        "          heights[i] = heights[j] + disks[i][2]\n",
        "          top_disk[i] = j\n",
        "    if heights[i] > heights[max_height_idx]:\n",
        "      max_height_idx = i\n",
        "  \n",
        "  return build_sequence(top_disk, disks, max_height_idx)\n",
        "  \n",
        "def is_valid_stack(bottom_disks, top_disks):\n",
        "  return bottom_disks[0] > top_disks[0] and bottom_disks[1] > top_disks[1] and bottom_disks[2] > top_disks[2]\n",
        "\n",
        "def build_sequence(top_disk, disks, current_idx):\n",
        "  sequence = []\n",
        "  while current_idx != None:\n",
        "    sequence.append(disks[current_idx])\n",
        "    current_idx = top_disk[current_idx]\n",
        "  return list(reversed(sequence))"
      ],
      "execution_count": 1,
      "outputs": []
    },
    {
      "cell_type": "code",
      "metadata": {
        "colab": {
          "base_uri": "https://localhost:8080/"
        },
        "id": "yDBSaM0cJeka",
        "outputId": "cc9bbb65-8243-4254-8bd1-31472287d121"
      },
      "source": [
        "disks = [[2, 1, 2], [3, 2, 3], [2, 2, 8], [2, 3, 4], [1, 3, 1], [4, 4, 5]]\n",
        "print(diskStacking(disks))"
      ],
      "execution_count": 2,
      "outputs": [
        {
          "output_type": "stream",
          "name": "stdout",
          "text": [
            "[[2, 1, 2], [3, 2, 3], [4, 4, 5]]\n"
          ]
        }
      ]
    },
    {
      "cell_type": "code",
      "metadata": {
        "colab": {
          "base_uri": "https://localhost:8080/"
        },
        "id": "6johudxrJjKd",
        "outputId": "c20d9268-3cff-41fe-854c-f4d4af043329"
      },
      "source": [
        "disks = [[2, 1, 2], [3, 2, 3], [2, 2, 8]]\n",
        "print(diskStacking(disks))"
      ],
      "execution_count": 3,
      "outputs": [
        {
          "output_type": "stream",
          "name": "stdout",
          "text": [
            "[[2, 2, 8]]\n"
          ]
        }
      ]
    }
  ]
}