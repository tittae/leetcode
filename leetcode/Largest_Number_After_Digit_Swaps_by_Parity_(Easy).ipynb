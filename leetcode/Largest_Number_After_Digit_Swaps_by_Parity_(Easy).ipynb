{
  "nbformat": 4,
  "nbformat_minor": 0,
  "metadata": {
    "colab": {
      "name": "Largest Number After Digit Swaps by Parity (Easy).ipynb",
      "provenance": [],
      "authorship_tag": "ABX9TyNkBOba5pmpdn96rkbQBnUp",
      "include_colab_link": true
    },
    "kernelspec": {
      "name": "python3",
      "display_name": "Python 3"
    },
    "language_info": {
      "name": "python"
    }
  },
  "cells": [
    {
      "cell_type": "markdown",
      "metadata": {
        "id": "view-in-github",
        "colab_type": "text"
      },
      "source": [
        "<a href=\"https://colab.research.google.com/github/wisarootl/leetcode/blob/main/Largest_Number_After_Digit_Swaps_by_Parity_(Easy).ipynb\" target=\"_parent\"><img src=\"https://colab.research.google.com/assets/colab-badge.svg\" alt=\"Open In Colab\"/></a>"
      ]
    },
    {
      "cell_type": "markdown",
      "source": [
        "# Largest Number After Digit Swaps by Parity"
      ],
      "metadata": {
        "id": "H9LcG3UKUy-0"
      }
    },
    {
      "cell_type": "markdown",
      "source": [
        "You are given a positive integer num. You may swap any two digits of num that have the same parity (i.e. both odd digits or both even digits).\n",
        "\n",
        "Return the largest possible value of num after any number of swaps."
      ],
      "metadata": {
        "id": "zV9H3synUwSm"
      }
    },
    {
      "cell_type": "markdown",
      "source": [
        "Example 1:\n",
        "\n",
        "```\n",
        "Input: num = 1234\n",
        "Output: 3412\n",
        "Explanation: Swap the digit 3 with the digit 1, this results in the number 3214.\n",
        "Swap the digit 2 with the digit 4, this results in the number 3412.\n",
        "Note that there may be other sequences of swaps but it can be shown that 3412 is the largest possible number.\n",
        "Also note that we may not swap the digit 4 with the digit 1 since they are of different parities.\n",
        "```\n",
        "\n"
      ],
      "metadata": {
        "id": "9DTJf_roU1ri"
      }
    },
    {
      "cell_type": "markdown",
      "source": [
        "Example 2:\n",
        "\n",
        "```\n",
        "Input: num = 65875\n",
        "Output: 87655\n",
        "Explanation: Swap the digit 8 with the digit 6, this results in the number 85675.\n",
        "Swap the first digit 5 with the digit 7, this results in the number 87655.\n",
        "Note that there may be other sequences of swaps but it can be shown that 87655 is the largest possible number.\n",
        "```\n",
        "\n"
      ],
      "metadata": {
        "id": "u5vnK5gDU3-m"
      }
    },
    {
      "cell_type": "markdown",
      "source": [
        "Constraints:\n",
        "\n",
        "```\n",
        "1 <= num <= 109\n",
        "```\n",
        "\n"
      ],
      "metadata": {
        "id": "ysCv2b_NU7vg"
      }
    },
    {
      "cell_type": "code",
      "execution_count": 1,
      "metadata": {
        "id": "fUuVsnsUUmU4"
      },
      "outputs": [],
      "source": [
        "# Time = O(n)\n",
        "# Space = O(n)\n",
        "\n",
        "class Solution:\n",
        "    def largestInteger(self, num):\n",
        "        num = list(str(num))\n",
        "        num_odd = []\n",
        "        num_even = []\n",
        "        \n",
        "        for idx in range(len(num)):\n",
        "            if int(num[idx]) % 2 == 0:\n",
        "                num_even.append(num[idx])\n",
        "            else:\n",
        "                num_odd.append(num[idx])\n",
        "                \n",
        "        num_odd.sort()\n",
        "        num_even.sort()\n",
        "        \n",
        "        new_num = []        \n",
        "        \n",
        "        for idx in range(len(num)):\n",
        "            if int(num[idx]) % 2 == 0:\n",
        "                new_num.append(num_even.pop())\n",
        "            else:\n",
        "                new_num.append(num_odd.pop())\n",
        "        \n",
        "        return int(''.join(new_num))"
      ]
    },
    {
      "cell_type": "code",
      "source": [
        "num = 1234\n",
        "expected = 3412\n",
        "\n",
        "output = Solution().largestInteger(num)\n",
        "print(output)\n",
        "assert output == expected"
      ],
      "metadata": {
        "colab": {
          "base_uri": "https://localhost:8080/"
        },
        "id": "qNvwRx7HVB2Q",
        "outputId": "cfd4a821-9da5-4de4-c0d2-3db26907ac58"
      },
      "execution_count": 2,
      "outputs": [
        {
          "output_type": "stream",
          "name": "stdout",
          "text": [
            "3412\n"
          ]
        }
      ]
    },
    {
      "cell_type": "code",
      "source": [
        "num = 65875\n",
        "expected = 87655\n",
        "\n",
        "output = Solution().largestInteger(num)\n",
        "print(output)\n",
        "assert output == expected"
      ],
      "metadata": {
        "colab": {
          "base_uri": "https://localhost:8080/"
        },
        "id": "fhzAQRljVRWc",
        "outputId": "2c8bd9a7-a500-42b0-ba3f-991a2892c56e"
      },
      "execution_count": 3,
      "outputs": [
        {
          "output_type": "stream",
          "name": "stdout",
          "text": [
            "87655\n"
          ]
        }
      ]
    },
    {
      "cell_type": "code",
      "source": [
        "num = 247\n",
        "expected = 427\n",
        "\n",
        "output = Solution().largestInteger(num)\n",
        "print(output)\n",
        "assert output == expected"
      ],
      "metadata": {
        "colab": {
          "base_uri": "https://localhost:8080/"
        },
        "id": "Yrw1x2bfVYKb",
        "outputId": "2d134ce6-fcaa-4273-b12e-8a3bc979db01"
      },
      "execution_count": 4,
      "outputs": [
        {
          "output_type": "stream",
          "name": "stdout",
          "text": [
            "427\n"
          ]
        }
      ]
    }
  ]
}