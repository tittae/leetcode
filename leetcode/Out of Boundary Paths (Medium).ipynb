{
 "cells": [
  {
   "cell_type": "code",
   "execution_count": null,
   "metadata": {},
   "outputs": [],
   "source": []
  },
  {
   "cell_type": "code",
   "execution_count": 1,
   "metadata": {},
   "outputs": [],
   "source": [
    "from functools import cache\n",
    "\n",
    "class Solution:\n",
    "    # time = O(m*n*maxMoves)\n",
    "    # space = O(m*n*maxMoves)\n",
    "    def findPaths(self, m: int, n: int, maxMove: int, startRow: int, startColumn: int) -> int:\n",
    "        MOD = int(1e9+7)\n",
    "        dirs = [(1,0),(0,1),(-1,0),(0,-1)]\n",
    "        \n",
    "        @cache\n",
    "        def dfs(row, col, moves):\n",
    "            if row < 0 or row >= m or col < 0 or col >= n:\n",
    "                return 1\n",
    "            if moves == 0:\n",
    "                return 0\n",
    "            ret = 0\n",
    "            for dr, dc in dirs:\n",
    "                ret += dfs(row+dr, col+dc, moves-1)\n",
    "                ret %= MOD\n",
    "            return ret\n",
    "        \n",
    "        return dfs(startRow, startColumn, maxMove)"
   ]
  },
  {
   "cell_type": "code",
   "execution_count": 2,
   "metadata": {},
   "outputs": [
    {
     "name": "stdout",
     "output_type": "stream",
     "text": [
      "6\n"
     ]
    }
   ],
   "source": [
    "m = 2\n",
    "n = 2\n",
    "maxMove = 2\n",
    "startRow = 0\n",
    "startColumn = 0\n",
    "\n",
    "expected = 6\n",
    "\n",
    "output =Solution().findPaths(m, n, maxMove, startRow, startColumn)\n",
    "print(output)\n",
    "\n",
    "assert output == expected\n"
   ]
  },
  {
   "cell_type": "code",
   "execution_count": 3,
   "metadata": {},
   "outputs": [
    {
     "name": "stdout",
     "output_type": "stream",
     "text": [
      "12\n"
     ]
    }
   ],
   "source": [
    "m = 1\n",
    "n = 3\n",
    "maxMove = 3\n",
    "startRow = 0\n",
    "startColumn = 1\n",
    "\n",
    "expected = 12\n",
    "\n",
    "output =Solution().findPaths(m, n, maxMove, startRow, startColumn)\n",
    "print(output)\n",
    "\n",
    "assert output == expected\n"
   ]
  },
  {
   "cell_type": "code",
   "execution_count": 4,
   "metadata": {},
   "outputs": [],
   "source": [
    "from functools import cache\n",
    "\n",
    "class Solution:\n",
    "    # time = O(m*n*maxMoves)\n",
    "    # space = O(m*n)\n",
    "    def findPaths(self, m: int, n: int, maxMove: int, startRow: int, startColumn: int) -> int:\n",
    "        mod = 10**9 + 7\n",
    "        dp = [[0 for _ in range(n)] for _ in range(m)]\n",
    "        dp[startRow][startColumn] = 1\n",
    "        count = 0\n",
    "        for move in range(maxMove):\n",
    "            temp = [[0 for _ in range(n)] for _ in range(m)]\n",
    "            for i in range(m):\n",
    "                for j in range(n):\n",
    "                    if i == m - 1: count += dp[i][j] % mod\n",
    "                    if j == n - 1: count += dp[i][j] % mod\n",
    "                    if i == 0: count += dp[i][j] % mod\n",
    "                    if j == 0: count += dp[i][j] % mod\n",
    "                    \n",
    "                    temp[i][j] = ((dp[i - 1][j] if i > 0 else 0) + (dp[i + 1][j] if i < m - 1 else 0) + \\\n",
    "                                 (dp[i][j - 1] if j > 0 else 0) + (dp[i][j + 1] if j < n - 1 else 0)) % mod\n",
    "            \n",
    "            dp = temp\n",
    "        \n",
    "        return count\n",
    "\n"
   ]
  },
  {
   "cell_type": "code",
   "execution_count": 5,
   "metadata": {},
   "outputs": [
    {
     "name": "stdout",
     "output_type": "stream",
     "text": [
      "6\n"
     ]
    }
   ],
   "source": [
    "m = 2\n",
    "n = 2\n",
    "maxMove = 2\n",
    "startRow = 0\n",
    "startColumn = 0\n",
    "\n",
    "expected = 6\n",
    "\n",
    "output =Solution().findPaths(m, n, maxMove, startRow, startColumn)\n",
    "print(output)\n",
    "\n",
    "assert output == expected\n"
   ]
  },
  {
   "cell_type": "code",
   "execution_count": 6,
   "metadata": {},
   "outputs": [
    {
     "name": "stdout",
     "output_type": "stream",
     "text": [
      "12\n"
     ]
    }
   ],
   "source": [
    "m = 1\n",
    "n = 3\n",
    "maxMove = 3\n",
    "startRow = 0\n",
    "startColumn = 1\n",
    "\n",
    "expected = 12\n",
    "\n",
    "output =Solution().findPaths(m, n, maxMove, startRow, startColumn)\n",
    "print(output)\n",
    "\n",
    "assert output == expected\n"
   ]
  }
 ],
 "metadata": {
  "kernelspec": {
   "display_name": "Python 3.10.5 64-bit (windows store)",
   "language": "python",
   "name": "python3"
  },
  "language_info": {
   "codemirror_mode": {
    "name": "ipython",
    "version": 3
   },
   "file_extension": ".py",
   "mimetype": "text/x-python",
   "name": "python",
   "nbconvert_exporter": "python",
   "pygments_lexer": "ipython3",
   "version": "3.10.5"
  },
  "orig_nbformat": 4,
  "vscode": {
   "interpreter": {
    "hash": "3822405be9f5fb329f7270cbdcf73e762c62b3f383c5e71390a1a4648678c1cb"
   }
  }
 },
 "nbformat": 4,
 "nbformat_minor": 2
}
