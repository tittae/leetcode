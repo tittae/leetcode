{
  "cells": [
    {
      "cell_type": "markdown",
      "metadata": {
        "colab_type": "text",
        "id": "view-in-github"
      },
      "source": [
        "<a href=\"https://colab.research.google.com/github/wisarootl/leetcode/blob/main/Minimum_Deletions_to_Make_Array_Beautiful_(Medium).ipynb\" target=\"_parent\"><img src=\"https://colab.research.google.com/assets/colab-badge.svg\" alt=\"Open In Colab\"/></a>"
      ]
    },
    {
      "cell_type": "markdown",
      "metadata": {
        "id": "wA4NyUwk70la"
      },
      "source": [
        "#  Minimum Deletions to Make Array Beautiful"
      ]
    },
    {
      "cell_type": "markdown",
      "metadata": {
        "id": "ckdvO2JH73su"
      },
      "source": [
        "You are given a 0-indexed integer array nums. The array nums is beautiful if:\n",
        "\n",
        "- nums.length is even.\n",
        "- nums[i] != nums[i + 1] for all i % 2 == 0.\n",
        "\n",
        "Note that an empty array is considered beautiful.\n",
        "\n",
        "You can delete any number of elements from nums. When you delete an element, all the elements to the right of the deleted element will be shifted one unit to the left to fill the gap created and all the elements to the left of the deleted element will remain unchanged.\n",
        "\n",
        "Return the minimum number of elements to delete from nums to make it beautiful."
      ]
    },
    {
      "cell_type": "markdown",
      "metadata": {
        "id": "h-4hhwwY769P"
      },
      "source": [
        "Example 1:\n",
        "\n",
        "```\n",
        "Input: nums = [1,1,2,3,5]\n",
        "Output: 1\n",
        "Explanation: You can delete either nums[0] or nums[1] to make nums = [1,2,3,5] which is beautiful. It can be proven you need at least 1 deletion to make nums beautiful.\n",
        "```\n",
        "\n"
      ]
    },
    {
      "cell_type": "markdown",
      "metadata": {
        "id": "dBKqb_vm78qM"
      },
      "source": [
        "Example 2:\n",
        "\n",
        "```\n",
        "Input: nums = [1,1,2,2,3,3]\n",
        "Output: 2\n",
        "Explanation: You can delete nums[0] and nums[5] to make nums = [1,2,2,3] which is beautiful. It can be proven you need at least 2 deletions to make nums beautiful.\n",
        "```\n",
        "\n"
      ]
    },
    {
      "cell_type": "markdown",
      "metadata": {
        "id": "ie61YRFV7-t1"
      },
      "source": [
        "Constraints:\n",
        "\n",
        "```\n",
        "1 <= nums.length <= 105\n",
        "0 <= nums[i] <= 105\n",
        "```\n",
        "\n"
      ]
    },
    {
      "cell_type": "code",
      "execution_count": 7,
      "metadata": {
        "id": "ZuAn9koS7wZB"
      },
      "outputs": [],
      "source": [
        "class Solution:\n",
        "    def minDeletion(self, nums):\n",
        "        count = 0\n",
        "        len_after_deletion = 0\n",
        "        last_num = None\n",
        "        \n",
        "        for idx in range(len(nums)):\n",
        "            if len_after_deletion % 2 == 0:\n",
        "                last_num = nums[idx]\n",
        "                len_after_deletion += 1\n",
        "            elif len_after_deletion % 2 == 1:\n",
        "                if nums[idx] == last_num:\n",
        "                    count += 1\n",
        "                else:\n",
        "                    len_after_deletion += 1\n",
        "        \n",
        "        return count if len_after_deletion % 2 == 0 else count + 1\n",
        "                "
      ]
    },
    {
      "cell_type": "code",
      "execution_count": 8,
      "metadata": {
        "colab": {
          "base_uri": "https://localhost:8080/"
        },
        "id": "cd0DSPak8C4A",
        "outputId": "3ce425fc-2c41-4f01-cd07-6b2b33969261"
      },
      "outputs": [
        {
          "name": "stdout",
          "output_type": "stream",
          "text": [
            "1\n"
          ]
        }
      ],
      "source": [
        "nums = [1,1,2,3,5]\n",
        "expected = 1\n",
        "\n",
        "output = Solution().minDeletion(nums)\n",
        "print(output)\n",
        "assert output == expected"
      ]
    },
    {
      "cell_type": "code",
      "execution_count": 9,
      "metadata": {
        "colab": {
          "base_uri": "https://localhost:8080/"
        },
        "id": "X55feOBN8RWV",
        "outputId": "0a44d194-f010-49bd-ecd2-63e779a33be3"
      },
      "outputs": [
        {
          "name": "stdout",
          "output_type": "stream",
          "text": [
            "2\n"
          ]
        }
      ],
      "source": [
        "nums = [1,1,2,2,3,3]\n",
        "expected = 2\n",
        "\n",
        "output = Solution().minDeletion(nums)\n",
        "print(output)\n",
        "assert output == expected"
      ]
    }
  ],
  "metadata": {
    "colab": {
      "authorship_tag": "ABX9TyN/yoLcx1isEnLOjXrvb6Vc",
      "include_colab_link": true,
      "name": "Minimum Deletions to Make Array Beautiful (Medium).ipynb",
      "provenance": []
    },
    "kernelspec": {
      "display_name": "Python 3.10.8 64-bit (microsoft store)",
      "language": "python",
      "name": "python3"
    },
    "language_info": {
      "codemirror_mode": {
        "name": "ipython",
        "version": 3
      },
      "file_extension": ".py",
      "mimetype": "text/x-python",
      "name": "python",
      "nbconvert_exporter": "python",
      "pygments_lexer": "ipython3",
      "version": "3.10.8"
    },
    "vscode": {
      "interpreter": {
        "hash": "3822405be9f5fb329f7270cbdcf73e762c62b3f383c5e71390a1a4648678c1cb"
      }
    }
  },
  "nbformat": 4,
  "nbformat_minor": 0
}
