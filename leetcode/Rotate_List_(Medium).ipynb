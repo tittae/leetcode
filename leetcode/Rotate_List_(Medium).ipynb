{
  "nbformat": 4,
  "nbformat_minor": 0,
  "metadata": {
    "colab": {
      "name": "Rotate List (Medium).ipynb",
      "provenance": [],
      "authorship_tag": "ABX9TyN2ttqEQAdSzZKdKKR3+klO",
      "include_colab_link": true
    },
    "kernelspec": {
      "name": "python3",
      "display_name": "Python 3"
    },
    "language_info": {
      "name": "python"
    }
  },
  "cells": [
    {
      "cell_type": "markdown",
      "metadata": {
        "id": "view-in-github",
        "colab_type": "text"
      },
      "source": [
        "<a href=\"https://colab.research.google.com/github/wisarootl/leetcode/blob/main/Rotate_List_(Medium).ipynb\" target=\"_parent\"><img src=\"https://colab.research.google.com/assets/colab-badge.svg\" alt=\"Open In Colab\"/></a>"
      ]
    },
    {
      "cell_type": "markdown",
      "source": [
        "# Rotate List"
      ],
      "metadata": {
        "id": "18EvlQSbnlV2"
      }
    },
    {
      "cell_type": "markdown",
      "source": [
        "Given the head of a linked list, rotate the list to the right by k places."
      ],
      "metadata": {
        "id": "WFpTzixYnsY-"
      }
    },
    {
      "cell_type": "markdown",
      "source": [
        "```\n",
        "Input: head = [1,2,3,4,5], k = 2\n",
        "Output: [4,5,1,2,3]\n",
        "```\n",
        "\n"
      ],
      "metadata": {
        "id": "BTUCjxNynvi-"
      }
    },
    {
      "cell_type": "markdown",
      "source": [
        "```\n",
        "Input: head = [0,1,2], k = 4\n",
        "Output: [2,0,1]\n",
        "```\n",
        "\n"
      ],
      "metadata": {
        "id": "oUeFpYnbnxee"
      }
    },
    {
      "cell_type": "code",
      "source": [
        "class LinkedList:\n",
        "  def __init__(self, value):\n",
        "    self.value = value\n",
        "    self.next = None\n",
        "    \n",
        "  def __str__(self):\n",
        "      print_linkedlist = ''\n",
        "      current_node = self\n",
        "      while current_node != None:\n",
        "        print_linkedlist += str(current_node.value)\n",
        "        if current_node.next != None:\n",
        "          print_linkedlist += ' -> '\n",
        "        current_node = current_node.next\n",
        "      return print_linkedlist\n",
        "\n",
        "def create_link_list(array):\n",
        "  head = LinkedList(array[0])\n",
        "  node = head\n",
        "  for i in range(1, len(array)):\n",
        "    node.next = LinkedList(array[i])\n",
        "    node = node.next\n",
        "  return head"
      ],
      "metadata": {
        "id": "xA8onx8SXSPG"
      },
      "execution_count": 1,
      "outputs": []
    },
    {
      "cell_type": "code",
      "execution_count": 2,
      "metadata": {
        "id": "45cGPT-zV29y"
      },
      "outputs": [],
      "source": [
        "# Time = O(n)\n",
        "# Space = O(1)\n",
        "\n",
        "# n = number of node in the linked list\n",
        "\n",
        "def rotateRight(head, k):\n",
        "  if head == None:\n",
        "    return head\n",
        "  \n",
        "  current = head\n",
        "  count = 1\n",
        "  while current.next != None:\n",
        "    current = current.next\n",
        "    count += 1\n",
        "  \n",
        "  current.next = head\n",
        "\n",
        "  tail = current\n",
        "  new_head = head\n",
        "  mod_k = k % count\n",
        "  for _ in range(count - mod_k):\n",
        "    tail = tail.next\n",
        "    new_head = new_head.next\n",
        "  \n",
        "  tail.next = None\n",
        "  return new_head"
      ]
    },
    {
      "cell_type": "code",
      "source": [
        "head = create_link_list([1])\n",
        "print('input : ', head)\n",
        "k = 0\n",
        "expected = create_link_list([1])\n",
        "print('expected :' , expected)\n",
        "head = rotateRight(head, k)\n",
        "print('output : ', head)\n",
        "\n",
        "assert expected.__str__() == head.__str__()"
      ],
      "metadata": {
        "colab": {
          "base_uri": "https://localhost:8080/"
        },
        "id": "8O9RFBRkbwOv",
        "outputId": "375954c2-721f-455c-8fbc-f8aa30f06329"
      },
      "execution_count": 3,
      "outputs": [
        {
          "output_type": "stream",
          "name": "stdout",
          "text": [
            "input :  1\n",
            "expected : 1\n",
            "output :  1\n"
          ]
        }
      ]
    },
    {
      "cell_type": "code",
      "source": [
        "head = create_link_list(range(6))\n",
        "print('input : ', head)\n",
        "k = 1\n",
        "expected = create_link_list([5, 0, 1, 2, 3, 4])\n",
        "print('expected :' , expected)\n",
        "head = rotateRight(head, k)\n",
        "print('output : ', head)\n",
        "\n",
        "assert expected.__str__() == head.__str__()"
      ],
      "metadata": {
        "colab": {
          "base_uri": "https://localhost:8080/"
        },
        "id": "I-Y_CsFkZBOu",
        "outputId": "6832df70-0d98-4efb-b1c4-3333acf0b732"
      },
      "execution_count": 4,
      "outputs": [
        {
          "output_type": "stream",
          "name": "stdout",
          "text": [
            "input :  0 -> 1 -> 2 -> 3 -> 4 -> 5\n",
            "expected : 5 -> 0 -> 1 -> 2 -> 3 -> 4\n",
            "output :  5 -> 0 -> 1 -> 2 -> 3 -> 4\n"
          ]
        }
      ]
    },
    {
      "cell_type": "markdown",
      "source": [
        "\n",
        "\n",
        "```\n",
        "Input: head = [1,2,3,4,5], k = 2\n",
        "Output: [4,5,1,2,3]\n",
        "```\n",
        "\n"
      ],
      "metadata": {
        "id": "6RnUb3R3Xdea"
      }
    },
    {
      "cell_type": "code",
      "source": [
        "head = create_link_list(range(6))\n",
        "print('input : ', head)\n",
        "k = 2\n",
        "expected = create_link_list([4, 5, 0, 1, 2, 3])\n",
        "print('expected :' , expected)\n",
        "head = rotateRight(head, k)\n",
        "print('output : ', head)\n",
        "\n",
        "assert expected.__str__() == head.__str__()"
      ],
      "metadata": {
        "colab": {
          "base_uri": "https://localhost:8080/"
        },
        "id": "xYeA26gAYFkL",
        "outputId": "5eae4cde-399c-41f5-9b6f-4b15b03787fd"
      },
      "execution_count": 5,
      "outputs": [
        {
          "output_type": "stream",
          "name": "stdout",
          "text": [
            "input :  0 -> 1 -> 2 -> 3 -> 4 -> 5\n",
            "expected : 4 -> 5 -> 0 -> 1 -> 2 -> 3\n",
            "output :  4 -> 5 -> 0 -> 1 -> 2 -> 3\n"
          ]
        }
      ]
    },
    {
      "cell_type": "markdown",
      "source": [
        "\n",
        "\n",
        "```\n",
        "Input: head = [0,1,2], k = 4\n",
        "Output: [2,0,1]\n",
        "```\n",
        "\n"
      ],
      "metadata": {
        "id": "PX-iU1rkbFKQ"
      }
    },
    {
      "cell_type": "code",
      "source": [
        "head = create_link_list(range(3))\n",
        "print('input : ', head)\n",
        "k = 4\n",
        "expected = create_link_list([2, 0, 1])\n",
        "print('expected :' , expected)\n",
        "head = rotateRight(head, k)\n",
        "print('output : ', head)\n",
        "\n",
        "assert expected.__str__() == head.__str__()"
      ],
      "metadata": {
        "colab": {
          "base_uri": "https://localhost:8080/"
        },
        "id": "cdAxgHMlXb4u",
        "outputId": "0b97a516-5684-440b-f899-1115b6d20a7e"
      },
      "execution_count": 6,
      "outputs": [
        {
          "output_type": "stream",
          "name": "stdout",
          "text": [
            "input :  0 -> 1 -> 2\n",
            "expected : 2 -> 0 -> 1\n",
            "output :  2 -> 0 -> 1\n"
          ]
        }
      ]
    },
    {
      "cell_type": "code",
      "source": [
        "head = create_link_list(range(3))\n",
        "print('input : ', head)\n",
        "k = 0\n",
        "expected = create_link_list([0, 1, 2])\n",
        "head = rotateRight(head, k)\n",
        "print('output : ', head)\n",
        "\n",
        "assert expected.__str__() == head.__str__()"
      ],
      "metadata": {
        "colab": {
          "base_uri": "https://localhost:8080/"
        },
        "id": "d9iyyL_2cdQ0",
        "outputId": "df96aaa3-6249-4081-ca6b-9cfa9a592e97"
      },
      "execution_count": 7,
      "outputs": [
        {
          "output_type": "stream",
          "name": "stdout",
          "text": [
            "input :  0 -> 1 -> 2\n",
            "output :  0 -> 1 -> 2\n"
          ]
        }
      ]
    },
    {
      "cell_type": "code",
      "source": [
        "head = create_link_list(range(3))\n",
        "k = 200000000000000000000000\n",
        "mod_k = k % 3\n",
        "expected = rotateRight(head, mod_k)\n",
        "\n",
        "head = create_link_list(range(3))\n",
        "print('head:', head)\n",
        "print('expected :' , expected)\n",
        "head = rotateRight(head, k)\n",
        "print('output:', head)\n",
        "\n",
        "assert expected.__str__() == head.__str__()"
      ],
      "metadata": {
        "colab": {
          "base_uri": "https://localhost:8080/"
        },
        "id": "vcW_Dzn0fQDA",
        "outputId": "5a239b1a-4dde-4a2d-a3e0-37d5699aaacf"
      },
      "execution_count": 8,
      "outputs": [
        {
          "output_type": "stream",
          "name": "stdout",
          "text": [
            "head: 0 -> 1 -> 2\n",
            "expected : 1 -> 2 -> 0\n",
            "output: 1 -> 2 -> 0\n"
          ]
        }
      ]
    }
  ]
}