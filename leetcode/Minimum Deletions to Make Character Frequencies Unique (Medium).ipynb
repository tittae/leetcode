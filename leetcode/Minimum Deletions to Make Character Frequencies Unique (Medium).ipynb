{
 "cells": [
  {
   "cell_type": "markdown",
   "metadata": {},
   "source": [
    "# Minimum Deletions to Make Character Frequencies Unique"
   ]
  },
  {
   "cell_type": "markdown",
   "metadata": {},
   "source": [
    "A string `s` is called good if there are no two different characters in `s` that have the same frequency.\n",
    "\n",
    "Given a string `s`, return the minimum number of characters you need to delete to make `s` good.\n",
    "\n",
    "The frequency of a character in a string is the number of times it appears in the string. For example, in the string \"aab\", the frequency of `'a'` is `2`, while the frequency of `'b'` is `1`."
   ]
  },
  {
   "cell_type": "markdown",
   "metadata": {},
   "source": [
    "Example 1:\n",
    "```\n",
    "Input: s = \"aab\"\n",
    "Output: 0\n",
    "Explanation: s is already good.\n",
    "```"
   ]
  },
  {
   "cell_type": "markdown",
   "metadata": {},
   "source": [
    "Example 2:\n",
    "```\n",
    "Input: s = \"aaabbbcc\"\n",
    "Output: 2\n",
    "Explanation: You can delete two 'b's resulting in the good string \"aaabcc\".\n",
    "Another way it to delete one 'b' and one 'c' resulting in the good string \"aaabbc\".\n",
    "```"
   ]
  },
  {
   "cell_type": "markdown",
   "metadata": {},
   "source": [
    "Example 3:\n",
    "```\n",
    "Input: s = \"ceabaacb\"\n",
    "Output: 2\n",
    "Explanation: You can delete both 'c's resulting in the good string \"eabaab\".\n",
    "Note that we only care about characters that are still in the string at the end (i.e. frequency of 0 is ignored).\n",
    "```"
   ]
  },
  {
   "cell_type": "markdown",
   "metadata": {},
   "source": [
    "Constraints:\n",
    "```\n",
    "1 <= s.length <= 105\n",
    "s contains only lowercase English letters.\n",
    "```"
   ]
  },
  {
   "cell_type": "code",
   "execution_count": 1,
   "metadata": {},
   "outputs": [],
   "source": [
    "class Solution:\n",
    "    def minDeletions(self, s: str) -> int:\n",
    "        # Store the frequency of each character\n",
    "        frequency = [0] * 26\n",
    "        for char in s:\n",
    "            frequency[ord(char) - ord('a')] += 1\n",
    "        frequency.sort(reverse=True)\n",
    "        \n",
    "        delete_count = 0\n",
    "        # Maximum frequency the current character can have\n",
    "        max_freq_allowed = len(s)\n",
    "        \n",
    "        # Iterate over the frequencies in descending order\n",
    "        for freq in frequency:\n",
    "            # Delete characters to make the frequency equal the maximum frequency allowed\n",
    "            if freq > max_freq_allowed:\n",
    "                delete_count += freq - max_freq_allowed\n",
    "                freq = max_freq_allowed\n",
    "\n",
    "            # Update the maximum allowed frequency\n",
    "            max_freq_allowed = max(0, freq - 1)\n",
    "            \n",
    "        return delete_count"
   ]
  },
  {
   "cell_type": "code",
   "execution_count": 2,
   "metadata": {},
   "outputs": [
    {
     "name": "stdout",
     "output_type": "stream",
     "text": [
      "0\n"
     ]
    }
   ],
   "source": [
    "s = \"aab\"\n",
    "expected = 0\n",
    "\n",
    "output = Solution().minDeletions(s)\n",
    "print(output)\n",
    "assert output == expected"
   ]
  },
  {
   "cell_type": "code",
   "execution_count": 3,
   "metadata": {},
   "outputs": [
    {
     "name": "stdout",
     "output_type": "stream",
     "text": [
      "2\n"
     ]
    }
   ],
   "source": [
    "s = \"aaabbbcc\"\n",
    "expected = 2\n",
    "\n",
    "output = Solution().minDeletions(s)\n",
    "print(output)\n",
    "assert output == expected"
   ]
  },
  {
   "cell_type": "code",
   "execution_count": 4,
   "metadata": {},
   "outputs": [
    {
     "name": "stdout",
     "output_type": "stream",
     "text": [
      "2\n"
     ]
    }
   ],
   "source": [
    "s = \"ceabaacb\"\n",
    "expected = 2\n",
    "\n",
    "output = Solution().minDeletions(s)\n",
    "print(output)\n",
    "assert output == expected"
   ]
  }
 ],
 "metadata": {
  "kernelspec": {
   "display_name": "Python 3.10.5 64-bit (windows store)",
   "language": "python",
   "name": "python3"
  },
  "language_info": {
   "codemirror_mode": {
    "name": "ipython",
    "version": 3
   },
   "file_extension": ".py",
   "mimetype": "text/x-python",
   "name": "python",
   "nbconvert_exporter": "python",
   "pygments_lexer": "ipython3",
   "version": "3.10.5"
  },
  "orig_nbformat": 4,
  "vscode": {
   "interpreter": {
    "hash": "3822405be9f5fb329f7270cbdcf73e762c62b3f383c5e71390a1a4648678c1cb"
   }
  }
 },
 "nbformat": 4,
 "nbformat_minor": 2
}
