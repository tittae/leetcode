{
 "cells": [
  {
   "cell_type": "markdown",
   "metadata": {},
   "source": [
    "# Combination Sum III"
   ]
  },
  {
   "cell_type": "markdown",
   "metadata": {},
   "source": [
    "Find all valid combinations of k numbers that sum up to n such that the following conditions are true:\n",
    "\n",
    "- Only numbers 1 through 9 are used.\n",
    "- Each number is used at most once.\n",
    "\n",
    "Return a list of all possible valid combinations. The list must not contain the same combination twice, and the combinations may be returned in any order."
   ]
  },
  {
   "cell_type": "markdown",
   "metadata": {},
   "source": [
    "Example 1:\n",
    "\n",
    "```\n",
    "Input: k = 3, n = 7\n",
    "Output: [[1,2,4]]\n",
    "Explanation:\n",
    "1 + 2 + 4 = 7\n",
    "There are no other valid combinations.\n",
    "```"
   ]
  },
  {
   "cell_type": "markdown",
   "metadata": {},
   "source": [
    "Example 2:\n",
    "\n",
    "```\n",
    "Input: k = 3, n = 9\n",
    "Output: [[1,2,6],[1,3,5],[2,3,4]]\n",
    "Explanation:\n",
    "1 + 2 + 6 = 9\n",
    "1 + 3 + 5 = 9\n",
    "2 + 3 + 4 = 9\n",
    "There are no other valid combinations.\n",
    "```"
   ]
  },
  {
   "cell_type": "markdown",
   "metadata": {},
   "source": [
    "Example 3:\n",
    "\n",
    "```\n",
    "Input: k = 4, n = 1\n",
    "Output: []\n",
    "Explanation: There are no valid combinations.\n",
    "Using 4 different numbers in the range [1,9], the smallest sum we can get is 1+2+3+4 = 10 and since 10 > 1, there are no valid combination.\n",
    "```"
   ]
  },
  {
   "cell_type": "markdown",
   "metadata": {},
   "source": [
    "Constraints:\n",
    "\n",
    "```\n",
    "2 <= k <= 9\n",
    "1 <= n <= 60\n",
    "```"
   ]
  },
  {
   "cell_type": "code",
   "execution_count": 5,
   "metadata": {},
   "outputs": [],
   "source": [
    "class Solution:\n",
    "    # time = O(9!/(9-k)! * k)\n",
    "    # space = O(k) excluding output\n",
    "    # space = O(kn) including output\n",
    "    def combinationSum3(self, k: int, n: int) -> list[list[int]]:\n",
    "        results = []\n",
    "        def backtrack(remain, comb, next_start):\n",
    "            if remain == 0 and len(comb) == k:\n",
    "                # make a copy of current combination\n",
    "                # Otherwise the combination would be reverted in other branch of backtracking.\n",
    "                results.append(list(comb))\n",
    "                return\n",
    "            elif remain < 0 or len(comb) == k:\n",
    "                # exceed the scope, no need to explore further.\n",
    "                return\n",
    "\n",
    "            # Iterate through the reduced list of candidates.\n",
    "            for i in range(next_start, 9):\n",
    "                comb.append(i+1)\n",
    "                backtrack(remain-i-1, comb, i+1)\n",
    "                # backtrack the current choice\n",
    "                comb.pop()\n",
    "\n",
    "        backtrack(n, [], 0)\n",
    "\n",
    "        return results"
   ]
  },
  {
   "cell_type": "code",
   "execution_count": 6,
   "metadata": {},
   "outputs": [
    {
     "name": "stdout",
     "output_type": "stream",
     "text": [
      "[[1, 2, 4]]\n"
     ]
    }
   ],
   "source": [
    "k = 3\n",
    "n = 7\n",
    "expected = [[1,2,4]]\n",
    "\n",
    "output = Solution().combinationSum3(k, n)\n",
    "print(output)\n",
    "assert output == expected"
   ]
  }
 ],
 "metadata": {
  "interpreter": {
   "hash": "20ac7aad763b689ebdaff2f53a3073c7ed55a0f51860968fbf5603f714378c4e"
  },
  "kernelspec": {
   "display_name": "Python 3.10.0 64-bit",
   "language": "python",
   "name": "python3"
  },
  "language_info": {
   "codemirror_mode": {
    "name": "ipython",
    "version": 3
   },
   "file_extension": ".py",
   "mimetype": "text/x-python",
   "name": "python",
   "nbconvert_exporter": "python",
   "pygments_lexer": "ipython3",
   "version": "3.10.0"
  },
  "orig_nbformat": 4
 },
 "nbformat": 4,
 "nbformat_minor": 2
}
