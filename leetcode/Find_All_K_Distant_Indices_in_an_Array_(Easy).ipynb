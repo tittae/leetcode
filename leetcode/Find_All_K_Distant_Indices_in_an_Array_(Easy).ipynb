{
  "cells": [
    {
      "cell_type": "markdown",
      "metadata": {
        "colab_type": "text",
        "id": "view-in-github"
      },
      "source": [
        "<a href=\"https://colab.research.google.com/github/wisarootl/leetcode/blob/main/Find_All_K_Distant_Indices_in_an_Array_(Easy).ipynb\" target=\"_parent\"><img src=\"https://colab.research.google.com/assets/colab-badge.svg\" alt=\"Open In Colab\"/></a>"
      ]
    },
    {
      "cell_type": "markdown",
      "metadata": {
        "id": "f-cUSfJUeqWX"
      },
      "source": [
        "# Find All K-Distant Indices in an Array"
      ]
    },
    {
      "cell_type": "markdown",
      "metadata": {
        "id": "KK3gYTw7enRM"
      },
      "source": [
        "You are given a 0-indexed integer array nums and two integers key and k. A k-distant index is an index i of nums for which there exists at least one index j such that |i - j| <= k and nums[j] == key.\n",
        "\n",
        "Return a list of all k-distant indices sorted in increasing order."
      ]
    },
    {
      "cell_type": "markdown",
      "metadata": {
        "id": "8tIQfbW3epgK"
      },
      "source": []
    },
    {
      "cell_type": "markdown",
      "metadata": {
        "id": "F5B4J9qXes6N"
      },
      "source": [
        "Example 1:\n",
        "\n",
        "```\n",
        "Input: nums = [3,4,9,1,3,9,5], key = 9, k = 1\n",
        "Output: [1,2,3,4,5,6]\n",
        "Explanation: Here, nums[2] == key and nums[5] == key.\n",
        "- For index 0, |0 - 2| > k and |0 - 5| > k, so there is no j where |0 - j| <= k and nums[j] == key. Thus, 0 is not a k-distant index.\n",
        "- For index 1, |1 - 2| <= k and nums[2] == key, so 1 is a k-distant index.\n",
        "- For index 2, |2 - 2| <= k and nums[2] == key, so 2 is a k-distant index.\n",
        "- For index 3, |3 - 2| <= k and nums[2] == key, so 3 is a k-distant index.\n",
        "- For index 4, |4 - 5| <= k and nums[5] == key, so 4 is a k-distant index.\n",
        "- For index 5, |5 - 5| <= k and nums[5] == key, so 5 is a k-distant index.\n",
        "- For index 6, |6 - 5| <= k and nums[5] == key, so 6 is a k-distant index.\n",
        "Thus, we return [1,2,3,4,5,6] which is sorted in increasing order.\n",
        "```\n",
        "\n"
      ]
    },
    {
      "cell_type": "markdown",
      "metadata": {
        "id": "uY26ilRJev05"
      },
      "source": [
        "Example 2:\n",
        "\n",
        "```\n",
        "Input: nums = [2,2,2,2,2], key = 2, k = 2\n",
        "Output: [0,1,2,3,4]\n",
        "Explanation: For all indices i in nums, there exists some index j such that |i - j| <= k and nums[j] == key, so every index is a k-distant index. \n",
        "Hence, we return [0,1,2,3,4].\n",
        "```\n",
        "\n"
      ]
    },
    {
      "cell_type": "markdown",
      "metadata": {
        "id": "rF1o9cJQeyHD"
      },
      "source": [
        "Constraints:\n",
        "\n",
        "```\n",
        "1 <= nums.length <= 1000\n",
        "1 <= nums[i] <= 1000\n",
        "key is an integer from the array nums.\n",
        "1 <= k <= nums.length\n",
        "```\n",
        "\n"
      ]
    },
    {
      "cell_type": "code",
      "execution_count": 1,
      "metadata": {
        "id": "jNkrHdJReVHh"
      },
      "outputs": [],
      "source": [
        "# Time = O(N)\n",
        "# Space = O(N)\n",
        "\n",
        "\n",
        "class Solution:\n",
        "    def findKDistantIndices(self, nums, key, k):\n",
        "        keys_idx = set()\n",
        "        for idx in range(len(nums)):\n",
        "            if nums[idx] == key:\n",
        "                keys_idx.add(idx)\n",
        "        \n",
        "        distances = [float('inf') for _ in nums]\n",
        "        min_distance = float('inf')\n",
        "        # left traverse\n",
        "        for idx in range(len(nums)):\n",
        "            if idx in keys_idx:\n",
        "                min_distance = 0\n",
        "            else:\n",
        "                min_distance += 1\n",
        "            distances[idx] = min(min_distance, distances[idx])\n",
        "        \n",
        "        # right traverse\n",
        "        for idx in reversed(range(len(nums))):\n",
        "            if idx in keys_idx:\n",
        "                min_distance = 0\n",
        "            else:\n",
        "                min_distance += 1\n",
        "            distances[idx] = min(min_distance, distances[idx])\n",
        "        output = []\n",
        "        \n",
        "        for idx in range(len(distances)):\n",
        "            if distances[idx] <= k:\n",
        "                output.append(idx)\n",
        "        \n",
        "        return output"
      ]
    },
    {
      "cell_type": "code",
      "execution_count": 2,
      "metadata": {
        "colab": {
          "base_uri": "https://localhost:8080/"
        },
        "id": "L9Y9wmOFe4S_",
        "outputId": "e4cfece6-2ff7-44dd-857e-95d3a9e78f78"
      },
      "outputs": [
        {
          "name": "stdout",
          "output_type": "stream",
          "text": [
            "[1, 2, 3, 4, 5, 6]\n"
          ]
        }
      ],
      "source": [
        "nums = [3,4,9,1,3,9,5]\n",
        "key = 9\n",
        "k = 1\n",
        "expected = [1,2,3,4,5,6]\n",
        "\n",
        "output = Solution().findKDistantIndices(nums, key, k)\n",
        "print(output)\n",
        "assert output == expected"
      ]
    },
    {
      "cell_type": "code",
      "execution_count": 3,
      "metadata": {
        "colab": {
          "base_uri": "https://localhost:8080/"
        },
        "id": "6lQ_P5g7fIFx",
        "outputId": "410b6251-28f9-4510-cb86-54dd5fd114a6"
      },
      "outputs": [
        {
          "name": "stdout",
          "output_type": "stream",
          "text": [
            "[0, 1, 2, 3, 4]\n"
          ]
        }
      ],
      "source": [
        "nums = [2,2,2,2,2]\n",
        "key = 2\n",
        "k = 2\n",
        "expected = [0,1,2,3,4]\n",
        "\n",
        "output = Solution().findKDistantIndices(nums, key, k)\n",
        "print(output)\n",
        "assert output == expected"
      ]
    }
  ],
  "metadata": {
    "colab": {
      "authorship_tag": "ABX9TyOza04e/PzYvlVPb4n4Rh8J",
      "include_colab_link": true,
      "name": "Find All K-Distant Indices in an Array (Easy).ipynb",
      "provenance": []
    },
    "kernelspec": {
      "display_name": "Python 3.10.5 64-bit ('3.10.5')",
      "language": "python",
      "name": "python3"
    },
    "language_info": {
      "codemirror_mode": {
        "name": "ipython",
        "version": 3
      },
      "file_extension": ".py",
      "mimetype": "text/x-python",
      "name": "python",
      "nbconvert_exporter": "python",
      "pygments_lexer": "ipython3",
      "version": "3.10.5"
    },
    "vscode": {
      "interpreter": {
        "hash": "992441bd4bc11ab83c63537935ea198062f55180155eaba570b8d7c82e005e8c"
      }
    }
  },
  "nbformat": 4,
  "nbformat_minor": 0
}
