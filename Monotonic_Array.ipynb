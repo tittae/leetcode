{
  "nbformat": 4,
  "nbformat_minor": 0,
  "metadata": {
    "colab": {
      "name": "Monotonic Array.ipynb",
      "provenance": [],
      "collapsed_sections": [],
      "authorship_tag": "ABX9TyOLJsIUNOpoKxR2GLjVohYO",
      "include_colab_link": true
    },
    "kernelspec": {
      "name": "python3",
      "display_name": "Python 3"
    },
    "language_info": {
      "name": "python"
    }
  },
  "cells": [
    {
      "cell_type": "markdown",
      "metadata": {
        "id": "view-in-github",
        "colab_type": "text"
      },
      "source": [
        "<a href=\"https://colab.research.google.com/github/tittae/leetcode/blob/main/Monotonic_Array.ipynb\" target=\"_parent\"><img src=\"https://colab.research.google.com/assets/colab-badge.svg\" alt=\"Open In Colab\"/></a>"
      ]
    },
    {
      "cell_type": "markdown",
      "metadata": {
        "id": "ziFRAFJtCAkr"
      },
      "source": [
        "# Monotonic Array"
      ]
    },
    {
      "cell_type": "markdown",
      "metadata": {
        "id": "ojdrDOI-CBx5"
      },
      "source": [
        "Write a function that takes in an array of integers and returns a boolean representing whether the array is monotonic.\n",
        "\n",
        "An array is said to be monotonic if its elements, from left to right, are entirely non-increasing or entirely non-decreasing.\n",
        "\n",
        "Non-increasing elements aren't necessarily exclusively decreasing; they simply don't increase. Similarly, non-decreasing elements aren't necessarily exclusively increasing; they simply don't decrease.\n",
        "\n",
        "Note that empty arrays and arrays of one element are monotonic."
      ]
    },
    {
      "cell_type": "markdown",
      "metadata": {
        "id": "t0aVn2qKCDPe"
      },
      "source": [
        "Sample Input\n",
        "\n",
        "```\n",
        "array = [-1, -5, -10, -1100, -1100, -1101, -1102, -9001]\n",
        "```\n",
        "\n"
      ]
    },
    {
      "cell_type": "markdown",
      "metadata": {
        "id": "VugstuLPCGPy"
      },
      "source": [
        "Sample Output\n",
        "\n",
        "```\n",
        "true\n",
        "```\n",
        "\n"
      ]
    },
    {
      "cell_type": "code",
      "metadata": {
        "id": "dSQesy4mB_ul"
      },
      "source": [
        "# Time O(n)\n",
        "# Spece O(1)\n",
        "\n",
        "def isMonotonic(array):\n",
        "  if len(array) <= 2: return True\n",
        "  # non-increasing\n",
        "  for i in range(1, len(array)):\n",
        "    if array[i - 1] <= array[i]:\n",
        "      if i == len(array) - 1:  return True\n",
        "      continue\n",
        "    else:\n",
        "      break\n",
        "\n",
        "  # non-decreasing\n",
        "  for i in range(1, len(array)):\n",
        "    if array[i - 1] >= array[i]:\n",
        "      if i == len(array) - 1: return True\n",
        "      continue\n",
        "    else:\n",
        "      break\n",
        "\n",
        "  return False"
      ],
      "execution_count": 1,
      "outputs": []
    },
    {
      "cell_type": "code",
      "metadata": {
        "id": "zYHxy16iD_nB"
      },
      "source": [
        "array = [-1, -5, -10, -1100, -1100, -1101, -1102, -9001]"
      ],
      "execution_count": 2,
      "outputs": []
    },
    {
      "cell_type": "code",
      "metadata": {
        "colab": {
          "base_uri": "https://localhost:8080/"
        },
        "id": "9o5VST4pEA8q",
        "outputId": "ce7ec8fd-7f75-433a-e43a-3a6c9cc9cd3b"
      },
      "source": [
        "print(isMonotonic(array))"
      ],
      "execution_count": 3,
      "outputs": [
        {
          "output_type": "stream",
          "name": "stdout",
          "text": [
            "True\n"
          ]
        }
      ]
    }
  ]
}