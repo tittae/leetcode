{
 "cells": [
  {
   "cell_type": "markdown",
   "metadata": {},
   "source": [
    "# Kth Smallest Element in a Sorted Matrix"
   ]
  },
  {
   "cell_type": "markdown",
   "metadata": {},
   "source": [
    "Given an `n x n matrix` where each of the rows and columns is sorted in ascending order, return the kth smallest element in the matrix.\n",
    "\n",
    "Note that it is the k<sup>th</sup> smallest element in the sorted order, not the k<sup>th</sup> distinct element.\n",
    "\n",
    "You must find a solution with a memory complexity better than `O(n^2)`."
   ]
  },
  {
   "cell_type": "markdown",
   "metadata": {},
   "source": [
    "Example 1:\n",
    "\n",
    "```\n",
    "Input: matrix = [[1,5,9],[10,11,13],[12,13,15]], k = 8\n",
    "Output: 13\n",
    "Explanation: The elements in the matrix are [1,5,9,10,11,12,13,13,15], and the 8th smallest number is 13\n",
    "```"
   ]
  },
  {
   "cell_type": "markdown",
   "metadata": {},
   "source": [
    "Example 2:\n",
    "\n",
    "```\n",
    "Input: matrix = [[-5]], k = 1\n",
    "Output: -5\n",
    "```"
   ]
  },
  {
   "cell_type": "markdown",
   "metadata": {},
   "source": [
    "Constraints:\n",
    "\n",
    "```\n",
    "n == matrix.length == matrix[i].length\n",
    "1 <= n <= 300\n",
    "-109 <= matrix[i][j] <= 109\n",
    "All the rows and columns of matrix are guaranteed to be sorted in non-decreasing order.\n",
    "1 <= k <= n2\n",
    "```"
   ]
  },
  {
   "cell_type": "code",
   "execution_count": 4,
   "metadata": {},
   "outputs": [],
   "source": [
    "from typing import *\n",
    "import heapq\n",
    "\n",
    "class Solution:\n",
    "    # time = O(x + k * log(x))\n",
    "    # space = O(min(n, k))\n",
    "    # n = len(matrix)\n",
    "    # n*n = matrix size\n",
    "    # x = min(n, k)\n",
    "    def kthSmallest(self, matrix: List[List[int]], k: int) -> int:\n",
    "        \n",
    "        # The size of the matrix\n",
    "        N = len(matrix)\n",
    "        \n",
    "        # Preparing our min-heap\n",
    "        minHeap = []\n",
    "        for r in range(min(k, N)):\n",
    "            \n",
    "            # We add triplets of information for each cell\n",
    "            minHeap.append((matrix[r][0], r, 0))\n",
    "        \n",
    "        # Heapify our list\n",
    "        heapq.heapify(minHeap)    \n",
    "        \n",
    "        # Until we find k elements\n",
    "        while k:\n",
    "            \n",
    "            # Extract-Min\n",
    "            element, r, c = heapq.heappop(minHeap)\n",
    "            \n",
    "            # If we have any new elements in the current row, add them\n",
    "            if c < N - 1:\n",
    "                heapq.heappush(minHeap, (matrix[r][c+1], r, c+1))\n",
    "            \n",
    "            # Decrement k\n",
    "            k -= 1\n",
    "        \n",
    "        return element  \n",
    "        "
   ]
  },
  {
   "cell_type": "code",
   "execution_count": 6,
   "metadata": {},
   "outputs": [
    {
     "name": "stdout",
     "output_type": "stream",
     "text": [
      "13\n"
     ]
    }
   ],
   "source": [
    "matrix = [[1,5,9],[10,11,13],[12,13,15]]\n",
    "k = 8\n",
    "expected = 13\n",
    "\n",
    "output = Solution().kthSmallest(matrix, k)\n",
    "print(output)\n",
    "assert output == expected"
   ]
  },
  {
   "cell_type": "code",
   "execution_count": 7,
   "metadata": {},
   "outputs": [
    {
     "name": "stdout",
     "output_type": "stream",
     "text": [
      "-5\n"
     ]
    }
   ],
   "source": [
    "matrix = [[-5]]\n",
    "k = 1\n",
    "expected = -5\n",
    "\n",
    "output = Solution().kthSmallest(matrix, k)\n",
    "print(output)\n",
    "assert output == expected"
   ]
  }
 ],
 "metadata": {
  "kernelspec": {
   "display_name": "Python 3.10.5 64-bit ('3.10.5')",
   "language": "python",
   "name": "python3"
  },
  "language_info": {
   "codemirror_mode": {
    "name": "ipython",
    "version": 3
   },
   "file_extension": ".py",
   "mimetype": "text/x-python",
   "name": "python",
   "nbconvert_exporter": "python",
   "pygments_lexer": "ipython3",
   "version": "3.10.5"
  },
  "orig_nbformat": 4,
  "vscode": {
   "interpreter": {
    "hash": "992441bd4bc11ab83c63537935ea198062f55180155eaba570b8d7c82e005e8c"
   }
  }
 },
 "nbformat": 4,
 "nbformat_minor": 2
}
