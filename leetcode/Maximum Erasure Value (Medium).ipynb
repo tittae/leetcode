{
 "cells": [
  {
   "cell_type": "markdown",
   "metadata": {},
   "source": [
    "# Maximum Erasure Value"
   ]
  },
  {
   "cell_type": "markdown",
   "metadata": {},
   "source": [
    "You are given an array of positive integers nums and want to erase a subarray containing unique elements. The score you get by erasing the subarray is equal to the sum of its elements.\n",
    "\n",
    "Return the maximum score you can get by erasing exactly one subarray.\n",
    "\n",
    "An array b is called to be a subarray of a if it forms a contiguous subsequence of a, that is, if it is equal to `a[l],a[l+1],...,a[r]` for some `(l,r)`."
   ]
  },
  {
   "cell_type": "markdown",
   "metadata": {},
   "source": [
    "Example 1:\n",
    "```\n",
    "Input: nums = [4,2,4,5,6]\n",
    "Output: 17\n",
    "Explanation: The optimal subarray here is [2,4,5,6].\n",
    "```"
   ]
  },
  {
   "cell_type": "markdown",
   "metadata": {},
   "source": [
    "Example 2:\n",
    "```\n",
    "Input: nums = [5,2,1,2,5,2,1,2,5]\n",
    "Output: 8\n",
    "Explanation: The optimal subarray here is [5,2,1] or [1,2,5].\n",
    "```"
   ]
  },
  {
   "cell_type": "markdown",
   "metadata": {},
   "source": [
    "Constraints:\n",
    "\n",
    "```\n",
    "1 <= nums.length <= 105\n",
    "1 <= nums[i] <= 104\n",
    "```"
   ]
  },
  {
   "cell_type": "code",
   "execution_count": 4,
   "metadata": {},
   "outputs": [],
   "source": [
    "class Solution:\n",
    "    # Time O(n)\n",
    "    # Space = O(k)\n",
    "    # n = len(nums)\n",
    "    # k = len(unique(nums))\n",
    "    def maximumUniqueSubarray(self, nums):\n",
    "        seen = set()\n",
    "        curr_sum, max_sum, l = 0, 0, 0\n",
    "        for num in nums:\n",
    "            while num in seen:\n",
    "                curr_sum -= nums[l]\n",
    "                seen.remove(nums[l])\n",
    "                l += 1\n",
    "            curr_sum += num\n",
    "            seen.add(num)\n",
    "            max_sum = max(max_sum, curr_sum)\n",
    "\n",
    "        return max_sum\n"
   ]
  },
  {
   "cell_type": "code",
   "execution_count": 5,
   "metadata": {},
   "outputs": [
    {
     "name": "stdout",
     "output_type": "stream",
     "text": [
      "17\n"
     ]
    }
   ],
   "source": [
    "nums = [4,2,4,5,6]\n",
    "expected = 17\n",
    "\n",
    "output = Solution().maximumUniqueSubarray(nums)\n",
    "print(output)\n",
    "assert output == expected "
   ]
  },
  {
   "cell_type": "code",
   "execution_count": 6,
   "metadata": {},
   "outputs": [
    {
     "name": "stdout",
     "output_type": "stream",
     "text": [
      "8\n"
     ]
    }
   ],
   "source": [
    "nums = [5,2,1,2,5,2,1,2,5]\n",
    "expected = 8\n",
    "\n",
    "output = Solution().maximumUniqueSubarray(nums)\n",
    "print(output)\n",
    "assert output == expected "
   ]
  }
 ],
 "metadata": {
  "kernelspec": {
   "display_name": "Python 3.10.5 64-bit (windows store)",
   "language": "python",
   "name": "python3"
  },
  "language_info": {
   "codemirror_mode": {
    "name": "ipython",
    "version": 3
   },
   "file_extension": ".py",
   "mimetype": "text/x-python",
   "name": "python",
   "nbconvert_exporter": "python",
   "pygments_lexer": "ipython3",
   "version": "3.10.5"
  },
  "orig_nbformat": 4,
  "vscode": {
   "interpreter": {
    "hash": "3822405be9f5fb329f7270cbdcf73e762c62b3f383c5e71390a1a4648678c1cb"
   }
  }
 },
 "nbformat": 4,
 "nbformat_minor": 2
}
