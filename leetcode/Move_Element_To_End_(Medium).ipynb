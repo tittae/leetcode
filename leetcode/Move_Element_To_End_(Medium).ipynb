{
  "cells": [
    {
      "cell_type": "markdown",
      "metadata": {
        "colab_type": "text",
        "id": "view-in-github"
      },
      "source": [
        "<a href=\"https://colab.research.google.com/github/wisarootl/leetcode/blob/main/Move_Element_To_End_(Medium).ipynb\" target=\"_parent\"><img src=\"https://colab.research.google.com/assets/colab-badge.svg\" alt=\"Open In Colab\"/></a>"
      ]
    },
    {
      "cell_type": "markdown",
      "metadata": {
        "id": "82EB5PoQpQLp"
      },
      "source": [
        "# Move Element To End"
      ]
    },
    {
      "cell_type": "markdown",
      "metadata": {
        "id": "tPofLkTApRN1"
      },
      "source": [
        "You're given an array of integers and an integer. Write a function that moves all instances of that integer in the array to the end of the array and returns the array.\n",
        "\n",
        "The function should perform this in place (i.e., it should mutate the input array) and doesn't need to maintain the order of the other integers."
      ]
    },
    {
      "cell_type": "markdown",
      "metadata": {
        "id": "yKhtCueEpS3z"
      },
      "source": [
        "Sample Input\n",
        "\n",
        "```\n",
        "array = [2, 1, 2, 2, 2, 3, 4, 2]\n",
        "toMove = 2\n",
        "```\n",
        "\n"
      ]
    },
    {
      "cell_type": "markdown",
      "metadata": {
        "id": "OV19p4dBpUpH"
      },
      "source": [
        "Sample Output\n",
        "\n",
        "```\n",
        "[1, 3, 4, 2, 2, 2, 2, 2] // the numbers 1, 3, and 4 could be ordered differently\n",
        "```\n",
        "\n"
      ]
    },
    {
      "cell_type": "markdown",
      "metadata": {
        "id": "zx65jkrmw38t"
      },
      "source": [
        "## Solution (first thought)"
      ]
    },
    {
      "cell_type": "code",
      "execution_count": null,
      "metadata": {
        "id": "1G6_1GRapK0S"
      },
      "outputs": [],
      "source": [
        "# Time O(n)\n",
        "# Space O(1)\n",
        "\n",
        "def moveElementToEnd(array, toMove):\n",
        "\tk = 0\n",
        "\tfor i in range(len(array)):\n",
        "\t\tif array[i] != toMove:\n",
        "\t\t\tarray[k] = array[i]\n",
        "\t\t\tk += 1\n",
        "\tfor i in range(k, len(array)):\n",
        "\t\tarray[i] = toMove\n",
        "\t\t\n",
        "\t\n",
        "\treturn array\n"
      ]
    },
    {
      "cell_type": "code",
      "execution_count": null,
      "metadata": {
        "id": "fQwUDCgXxMW7"
      },
      "outputs": [],
      "source": [
        "array = [2, 1, 2, 2, 2, 3, 4, 2]\n",
        "toMove = 2"
      ]
    },
    {
      "cell_type": "code",
      "execution_count": null,
      "metadata": {
        "colab": {
          "base_uri": "https://localhost:8080/"
        },
        "id": "lrsyNiqXxMyz",
        "outputId": "8c87e9bd-5fa0-4fc0-83c2-101f9f3af473"
      },
      "outputs": [
        {
          "name": "stdout",
          "output_type": "stream",
          "text": [
            "[1, 3, 4, 2, 2, 2, 2, 2]\n"
          ]
        }
      ],
      "source": [
        "print(moveElementToEnd(array, toMove))"
      ]
    },
    {
      "cell_type": "markdown",
      "metadata": {
        "id": "etqyqWxSxCIp"
      },
      "source": [
        "## Solution (two pointer)"
      ]
    },
    {
      "cell_type": "code",
      "execution_count": null,
      "metadata": {
        "id": "5s8yFb6uxKKu"
      },
      "outputs": [],
      "source": [
        "# Time O(n)\n",
        "# Space O(1)\n",
        "\n",
        "def moveElementToEnd(array, toMove):\n",
        "\tk = 0\n",
        "\tfor i in range(len(array)):\n",
        "\t\tif array[i] != toMove:\n",
        "\t\t\tarray[k] = array[i]\n",
        "\t\t\tk += 1\n",
        "\tfor i in range(k, len(array)):\n",
        "\t\tarray[i] = toMove\n",
        "\t\t\n",
        "\t\n",
        "\treturn array"
      ]
    },
    {
      "cell_type": "code",
      "execution_count": null,
      "metadata": {
        "id": "5iBqghT1xQaf"
      },
      "outputs": [],
      "source": [
        "array = [2, 1, 2, 2, 2, 3, 4, 2]\n",
        "toMove = 2"
      ]
    },
    {
      "cell_type": "code",
      "execution_count": null,
      "metadata": {
        "colab": {
          "base_uri": "https://localhost:8080/"
        },
        "id": "pDqB7VC_xRSj",
        "outputId": "6b429165-cef2-499d-e793-b1d8322dc184"
      },
      "outputs": [
        {
          "name": "stdout",
          "output_type": "stream",
          "text": [
            "[1, 3, 4, 2, 2, 2, 2, 2]\n"
          ]
        }
      ],
      "source": [
        "print(moveElementToEnd(array, toMove))"
      ]
    }
  ],
  "metadata": {
    "colab": {
      "authorship_tag": "ABX9TyNbKbOCwgW8AB7vRQDac0ym",
      "include_colab_link": true,
      "name": "Move Element To End (Medium).ipynb",
      "provenance": []
    },
    "kernelspec": {
      "display_name": "Python 3.10.5 64-bit ('3.10.5')",
      "language": "python",
      "name": "python3"
    },
    "language_info": {
      "name": "python",
      "version": "3.10.5"
    },
    "vscode": {
      "interpreter": {
        "hash": "dc2d830d89733278cb510121746799b806674abe1436eac19497ff768cf27c2d"
      }
    }
  },
  "nbformat": 4,
  "nbformat_minor": 0
}
