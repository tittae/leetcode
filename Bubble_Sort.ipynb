{
  "nbformat": 4,
  "nbformat_minor": 0,
  "metadata": {
    "colab": {
      "name": "Bubble Sort.ipynb",
      "provenance": [],
      "authorship_tag": "ABX9TyOX2DIqv1A6+ITAGgM/QUhz",
      "include_colab_link": true
    },
    "kernelspec": {
      "name": "python3",
      "display_name": "Python 3"
    },
    "language_info": {
      "name": "python"
    }
  },
  "cells": [
    {
      "cell_type": "markdown",
      "metadata": {
        "id": "view-in-github",
        "colab_type": "text"
      },
      "source": [
        "<a href=\"https://colab.research.google.com/github/tittae/leetcode/blob/main/Bubble_Sort.ipynb\" target=\"_parent\"><img src=\"https://colab.research.google.com/assets/colab-badge.svg\" alt=\"Open In Colab\"/></a>"
      ]
    },
    {
      "cell_type": "markdown",
      "metadata": {
        "id": "_aDK7D2Am-gA"
      },
      "source": [
        "# Bubble Sort"
      ]
    },
    {
      "cell_type": "markdown",
      "metadata": {
        "id": "ymZxk9VbnAzz"
      },
      "source": [
        "Write a function that takes in an array of integers and returns a sorted version of that array. Use the Bubble Sort algorithm to sort the array.\n",
        "\n",
        "If you're unfamiliar with Bubble Sort, we recommend watching the Conceptual Overview section of this question's video explanation before starting to code."
      ]
    },
    {
      "cell_type": "markdown",
      "metadata": {
        "id": "d3Gbhh6lnCgI"
      },
      "source": [
        "Sample Input\n",
        "\n",
        "```\n",
        "array = [8, 5, 2, 9, 5, 6, 3]\n",
        "```\n",
        "\n"
      ]
    },
    {
      "cell_type": "markdown",
      "metadata": {
        "id": "T19PN0CNnGBM"
      },
      "source": [
        "Sample Output\n",
        "\n",
        "```\n",
        "[2, 3, 5, 5, 6, 8, 9]\n",
        "```\n",
        "\n"
      ]
    },
    {
      "cell_type": "code",
      "metadata": {
        "id": "U6AFbrrAm6Dh"
      },
      "source": [
        "array = [8, 5, 2, 9, 5, 6, 3]"
      ],
      "execution_count": 1,
      "outputs": []
    },
    {
      "cell_type": "code",
      "metadata": {
        "id": "5U6Mx91IofGw"
      },
      "source": [
        "# Time: O(n^2), Space: O(1)\n",
        "\n",
        "def bubbleSort(array):\n",
        "\tisswap = True\n",
        "\tcounter = 0\n",
        "\n",
        "\twhile isswap == True:\n",
        "\t\tisswap = False\n",
        "\t\tfor i in range(len(array) - 1 - counter):\n",
        "\t\t\tif array[i] > array[i+1]:\n",
        "\t\t\t\tarray[i], array[i+1] = array[i+1], array[i]\n",
        "\t\t\t\tisswap = True\n",
        "\t\tcounter += 1\n",
        "\n",
        "\treturn array"
      ],
      "execution_count": 2,
      "outputs": []
    },
    {
      "cell_type": "code",
      "metadata": {
        "colab": {
          "base_uri": "https://localhost:8080/"
        },
        "id": "YnYuu2baqJ1f",
        "outputId": "47802c0c-2cca-4f74-f97d-e6884c314ece"
      },
      "source": [
        "print(bubbleSort(array))"
      ],
      "execution_count": 3,
      "outputs": [
        {
          "output_type": "stream",
          "name": "stdout",
          "text": [
            "[2, 3, 5, 5, 6, 8, 9]\n"
          ]
        }
      ]
    }
  ]
}