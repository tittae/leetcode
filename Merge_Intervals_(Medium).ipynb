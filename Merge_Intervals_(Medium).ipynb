{
  "nbformat": 4,
  "nbformat_minor": 0,
  "metadata": {
    "colab": {
      "name": "Merge Intervals (Medium).ipynb",
      "provenance": [],
      "authorship_tag": "ABX9TyPw5Ix7LVzmSBeC9HDmVeU7",
      "include_colab_link": true
    },
    "kernelspec": {
      "name": "python3",
      "display_name": "Python 3"
    },
    "language_info": {
      "name": "python"
    }
  },
  "cells": [
    {
      "cell_type": "markdown",
      "metadata": {
        "id": "view-in-github",
        "colab_type": "text"
      },
      "source": [
        "<a href=\"https://colab.research.google.com/github/wisarootl/leetcode/blob/main/Merge_Intervals_(Medium).ipynb\" target=\"_parent\"><img src=\"https://colab.research.google.com/assets/colab-badge.svg\" alt=\"Open In Colab\"/></a>"
      ]
    },
    {
      "cell_type": "markdown",
      "source": [
        "# Merge Intervals"
      ],
      "metadata": {
        "id": "4-c7mEyn5p8U"
      }
    },
    {
      "cell_type": "markdown",
      "source": [
        "Given an array of `intervals` where i`ntervals[i] = [starti, endi]`, merge all overlapping intervals, and return an array of the non-overlapping intervals that cover all the intervals in the input."
      ],
      "metadata": {
        "id": "f3xDcZXZ141e"
      }
    },
    {
      "cell_type": "markdown",
      "source": [
        "Example 1:\n",
        "\n",
        "```\n",
        "Input: intervals = [[1,3],[2,6],[8,10],[15,18]]\n",
        "Output: [[1,6],[8,10],[15,18]]\n",
        "Explanation: Since intervals [1,3] and [2,6] overlaps, merge them into [1,6].\n",
        "```\n",
        "\n"
      ],
      "metadata": {
        "id": "XcGqOrle17Qz"
      }
    },
    {
      "cell_type": "markdown",
      "source": [
        "Example 2:\n",
        "\n",
        "```\n",
        "Input: intervals = [[1,4],[4,5]]\n",
        "Output: [[1,5]]\n",
        "Explanation: Intervals [1,4] and [4,5] are considered overlapping.\n",
        "```\n",
        "\n"
      ],
      "metadata": {
        "id": "buqDGqyC1-gc"
      }
    },
    {
      "cell_type": "markdown",
      "source": [
        "Constraints:\n",
        "\n",
        "```\n",
        "1 <= intervals.length <= 104\n",
        "intervals[i].length == 2\n",
        "0 <= starti <= endi <= 104\n",
        "```\n",
        "\n"
      ],
      "metadata": {
        "id": "R3Tl7HIi2Arp"
      }
    },
    {
      "cell_type": "code",
      "execution_count": 1,
      "metadata": {
        "id": "4H2kVhw3xdoj"
      },
      "outputs": [],
      "source": [
        "# Time = O(n log n) (sorting)\n",
        "# Space = O(n)\n",
        "# n = number of interval in intervals\n",
        "\n",
        "class Solution:\n",
        "\n",
        "    def merge(self, intervals: list) -> list:\n",
        "\n",
        "        intervals.sort(key=lambda x: x[0])\n",
        "\n",
        "        merged = []\n",
        "        for interval in intervals:\n",
        "            if len(merged) == 0 or merged[-1][1] < interval[0]:\n",
        "                merged.append(interval)\n",
        "            else:\n",
        "                merged[-1][1] = max(merged[-1][1], interval[1])\n",
        "\n",
        "        return merged"
      ]
    },
    {
      "cell_type": "code",
      "source": [
        "intervals = [[1, 3], [2, 6], [8, 10], [15, 18]]\n",
        "expected = [[1, 6], [8, 10], [15, 18]]\n",
        "output = Solution().merge(intervals)\n",
        "print(output)\n",
        "assert output == expected"
      ],
      "metadata": {
        "colab": {
          "base_uri": "https://localhost:8080/"
        },
        "id": "rJBHEIXOxwon",
        "outputId": "402dbb83-8c92-414f-b0a3-27972f399547"
      },
      "execution_count": 2,
      "outputs": [
        {
          "output_type": "stream",
          "name": "stdout",
          "text": [
            "[[1, 6], [8, 10], [15, 18]]\n"
          ]
        }
      ]
    },
    {
      "cell_type": "code",
      "source": [
        "intervals = [[8, 9], [0, 0]]\n",
        "expected = [[0, 0], [8, 9]]\n",
        "\n",
        "output = Solution().merge(intervals)\n",
        "print(output)\n",
        "assert output == expected"
      ],
      "metadata": {
        "colab": {
          "base_uri": "https://localhost:8080/"
        },
        "id": "e3hzHzJq5Ezq",
        "outputId": "94d4483e-240c-4e17-b3b1-2e5a60aef1db"
      },
      "execution_count": 3,
      "outputs": [
        {
          "output_type": "stream",
          "name": "stdout",
          "text": [
            "[[0, 0], [8, 9]]\n"
          ]
        }
      ]
    }
  ]
}