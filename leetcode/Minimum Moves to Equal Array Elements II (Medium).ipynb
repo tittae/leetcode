{
 "cells": [
  {
   "cell_type": "markdown",
   "metadata": {},
   "source": [
    "# Minimum Moves to Equal Array Elements II"
   ]
  },
  {
   "cell_type": "markdown",
   "metadata": {},
   "source": [
    "Given an integer array nums of size n, return the minimum number of moves required to make all array elements equal.\n",
    "\n",
    "In one move, you can increment or decrement an element of the array by 1.\n",
    "\n",
    "Test cases are designed so that the answer will fit in a 32-bit integer."
   ]
  },
  {
   "cell_type": "markdown",
   "metadata": {},
   "source": [
    "Example 1:\n",
    "```\n",
    "Input: nums = [1,2,3]\n",
    "Output: 2\n",
    "Explanation:\n",
    "Only two moves are needed (remember each move increments or decrements one element):\n",
    "[1,2,3]  =>  [2,2,3]  =>  [2,2,2]\n",
    "```"
   ]
  },
  {
   "cell_type": "markdown",
   "metadata": {},
   "source": [
    "Example 2:\n",
    "```\n",
    "Input: nums = [1,10,2,9]\n",
    "Output: 16\n",
    "```"
   ]
  },
  {
   "cell_type": "markdown",
   "metadata": {},
   "source": [
    "Constraints:\n",
    "```\n",
    "n == nums.length\n",
    "1 <= nums.length <= 105\n",
    "-109 <= nums[i] <= 109\n",
    "```"
   ]
  },
  {
   "cell_type": "code",
   "execution_count": 1,
   "metadata": {},
   "outputs": [],
   "source": [
    "from typing import *\n",
    "\n",
    "class Solution:\n",
    "    def minMoves2(self, nums: List[int]) -> int:\n",
    "        n = len (nums)\n",
    "        mid = sorted (nums) [n // 2]\n",
    "        res = sum (abs (i - mid) for i in nums)\n",
    "        return res\n",
    "        "
   ]
  },
  {
   "cell_type": "code",
   "execution_count": 2,
   "metadata": {},
   "outputs": [
    {
     "name": "stdout",
     "output_type": "stream",
     "text": [
      "2\n"
     ]
    }
   ],
   "source": [
    "nums = [1,2,3]\n",
    "expected = 2\n",
    "\n",
    "output = Solution().minMoves2(nums)\n",
    "print(output)\n",
    "assert output == expected"
   ]
  },
  {
   "cell_type": "code",
   "execution_count": 3,
   "metadata": {},
   "outputs": [
    {
     "name": "stdout",
     "output_type": "stream",
     "text": [
      "16\n"
     ]
    }
   ],
   "source": [
    "nums = [1,10,2,9]\n",
    "expected = 16\n",
    "\n",
    "output = Solution().minMoves2(nums)\n",
    "print(output)\n",
    "assert output == expected\n",
    "\n"
   ]
  }
 ],
 "metadata": {
  "kernelspec": {
   "display_name": "Python 3.10.5 64-bit (windows store)",
   "language": "python",
   "name": "python3"
  },
  "language_info": {
   "codemirror_mode": {
    "name": "ipython",
    "version": 3
   },
   "file_extension": ".py",
   "mimetype": "text/x-python",
   "name": "python",
   "nbconvert_exporter": "python",
   "pygments_lexer": "ipython3",
   "version": "3.10.5"
  },
  "orig_nbformat": 4,
  "vscode": {
   "interpreter": {
    "hash": "3822405be9f5fb329f7270cbdcf73e762c62b3f383c5e71390a1a4648678c1cb"
   }
  }
 },
 "nbformat": 4,
 "nbformat_minor": 2
}
