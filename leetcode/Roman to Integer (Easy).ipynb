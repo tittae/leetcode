{
 "cells": [
  {
   "cell_type": "markdown",
   "metadata": {},
   "source": [
    "# Roman to Integer"
   ]
  },
  {
   "cell_type": "markdown",
   "metadata": {},
   "source": [
    "Roman numerals are represented by seven different symbols: I, V, X, L, C, D and M.\n",
    "\n",
    "```\n",
    "Symbol       Value\n",
    "I             1\n",
    "V             5\n",
    "X             10\n",
    "L             50\n",
    "C             100\n",
    "D             500\n",
    "M             1000\n",
    "```\n",
    "\n",
    "For example, 2 is written as II in Roman numeral, just two ones added together. 12 is written as XII, which is simply X + II. The number 27 is written as XXVII, which is XX + V + II.\n",
    "\n",
    "Roman numerals are usually written largest to smallest from left to right. However, the numeral for four is not IIII. Instead, the number four is written as IV. Because the one is before the five we subtract it making four. The same principle applies to the number nine, which is written as IX. There are six instances where subtraction is used:\n",
    "\n",
    "- I can be placed before V (5) and X (10) to make 4 and 9. \n",
    "- X can be placed before L (50) and C (100) to make 40 and 90. \n",
    "- C can be placed before D (500) and M (1000) to make 400 and 900.\n",
    "\n",
    "Given a roman numeral, convert it to an integer.\n",
    "\n"
   ]
  },
  {
   "cell_type": "markdown",
   "metadata": {},
   "source": [
    "Example 1:\n",
    "\n",
    "```\n",
    "Input: s = \"III\"\n",
    "Output: 3\n",
    "Explanation: III = 3.\n",
    "```"
   ]
  },
  {
   "cell_type": "markdown",
   "metadata": {},
   "source": [
    "Example 2:\n",
    "\n",
    "```\n",
    "Input: s = \"LVIII\"\n",
    "Output: 58\n",
    "Explanation: L = 50, V= 5, III = 3.\n",
    "```"
   ]
  },
  {
   "cell_type": "markdown",
   "metadata": {},
   "source": [
    "Example 3:\n",
    "\n",
    "```\n",
    "Input: s = \"MCMXCIV\"\n",
    "Output: 1994\n",
    "Explanation: M = 1000, CM = 900, XC = 90 and IV = 4.\n",
    "```"
   ]
  },
  {
   "cell_type": "markdown",
   "metadata": {},
   "source": [
    "Constraints:\n",
    "\n",
    "```\n",
    "1 <= s.length <= 15\n",
    "s contains only the characters ('I', 'V', 'X', 'L', 'C', 'D', 'M').\n",
    "It is guaranteed that s is a valid roman numeral in the range [1, 3999].\n",
    "```"
   ]
  },
  {
   "cell_type": "code",
   "execution_count": 1,
   "metadata": {},
   "outputs": [],
   "source": [
    "values = {\n",
    "    \"I\": 1,\n",
    "    \"V\": 5,\n",
    "    \"X\": 10,\n",
    "    \"L\": 50,\n",
    "    \"C\": 100,\n",
    "    \"D\": 500,\n",
    "    \"M\": 1000,\n",
    "}\n",
    "\n",
    "class Solution:\n",
    "    # time = O(1) if we consider that Roman num is finite.\n",
    "    # the longest Roman num is MMMCMXCIX (3999)\n",
    "    # time = O(n) If roman numerals had an arbitrary number of symbols.\n",
    "    # space = O(1)\n",
    "    def romanToInt(self, s: str) -> int:\n",
    "        total = 0\n",
    "        i = 0\n",
    "        while i < len(s):\n",
    "            # If this is the subtractive case.\n",
    "            if i + 1 < len(s) and values[s[i]] < values[s[i + 1]]:\n",
    "                total += values[s[i + 1]] - values[s[i]]\n",
    "                i += 2\n",
    "            # Else this is NOT the subtractive case.\n",
    "            else:\n",
    "                total += values[s[i]]\n",
    "                i += 1\n",
    "        return total"
   ]
  },
  {
   "cell_type": "code",
   "execution_count": 2,
   "metadata": {},
   "outputs": [
    {
     "name": "stdout",
     "output_type": "stream",
     "text": [
      "3\n"
     ]
    }
   ],
   "source": [
    "s = \"III\"\n",
    "expected = 3\n",
    "\n",
    "output = Solution().romanToInt(s)\n",
    "print(output)\n",
    "assert output == expected"
   ]
  },
  {
   "cell_type": "code",
   "execution_count": 3,
   "metadata": {},
   "outputs": [
    {
     "name": "stdout",
     "output_type": "stream",
     "text": [
      "58\n"
     ]
    }
   ],
   "source": [
    "s = \"LVIII\"\n",
    "expected = 58\n",
    "\n",
    "output = Solution().romanToInt(s)\n",
    "print(output)\n",
    "assert output == expected"
   ]
  },
  {
   "cell_type": "code",
   "execution_count": 4,
   "metadata": {},
   "outputs": [
    {
     "name": "stdout",
     "output_type": "stream",
     "text": [
      "1994\n"
     ]
    }
   ],
   "source": [
    "s = \"MCMXCIV\"\n",
    "expected = 1994\n",
    "\n",
    "output = Solution().romanToInt(s)\n",
    "print(output)\n",
    "assert output == expected"
   ]
  },
  {
   "cell_type": "code",
   "execution_count": 5,
   "metadata": {},
   "outputs": [
    {
     "name": "stdout",
     "output_type": "stream",
     "text": [
      "3999\n"
     ]
    }
   ],
   "source": [
    "s = \"MMMCMXCIX\"\n",
    "expected = 3999\n",
    "\n",
    "output = Solution().romanToInt(s)\n",
    "print(output)\n",
    "assert output == expected"
   ]
  }
 ],
 "metadata": {
  "kernelspec": {
   "display_name": "Python 3.10.5 64-bit ('3.10.5')",
   "language": "python",
   "name": "python3"
  },
  "language_info": {
   "codemirror_mode": {
    "name": "ipython",
    "version": 3
   },
   "file_extension": ".py",
   "mimetype": "text/x-python",
   "name": "python",
   "nbconvert_exporter": "python",
   "pygments_lexer": "ipython3",
   "version": "3.10.5"
  },
  "orig_nbformat": 4,
  "vscode": {
   "interpreter": {
    "hash": "992441bd4bc11ab83c63537935ea198062f55180155eaba570b8d7c82e005e8c"
   }
  }
 },
 "nbformat": 4,
 "nbformat_minor": 2
}
