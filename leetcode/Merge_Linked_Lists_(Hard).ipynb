{
  "nbformat": 4,
  "nbformat_minor": 0,
  "metadata": {
    "colab": {
      "name": "Merge Linked Lists (Hard).ipynb",
      "provenance": [],
      "collapsed_sections": [],
      "authorship_tag": "ABX9TyMyT77OzRcD1X4Lg1EnQ91Y",
      "include_colab_link": true
    },
    "kernelspec": {
      "name": "python3",
      "display_name": "Python 3"
    },
    "language_info": {
      "name": "python"
    }
  },
  "cells": [
    {
      "cell_type": "markdown",
      "metadata": {
        "id": "view-in-github",
        "colab_type": "text"
      },
      "source": [
        "<a href=\"https://colab.research.google.com/github/wisarootl/leetcode/blob/main/Merge_Linked_Lists_(Hard).ipynb\" target=\"_parent\"><img src=\"https://colab.research.google.com/assets/colab-badge.svg\" alt=\"Open In Colab\"/></a>"
      ]
    },
    {
      "cell_type": "markdown",
      "source": [
        "# Merge Linked Lists"
      ],
      "metadata": {
        "id": "v6dfHLR940Mb"
      }
    },
    {
      "cell_type": "markdown",
      "source": [
        "Write a function that takes in the heads of two Singly Linked Lists that are in sorted order, respectively. The function should merge the lists in place (i.e., it shouldn't create a brand new list) and return the head of the merged list; the merged list should be in sorted order.\n",
        "\n",
        "Each `LinkedList` node has an integer `value` as well as a `next` node pointing to the next node in the list or to `None` / `null` if it's the tail of the list.\n",
        "\n",
        "You can assume that the input linked lists will always have at least one node; in other words, the heads will never be `None` / `null`.\n",
        "\n"
      ],
      "metadata": {
        "id": "yKakIcQe42pC"
      }
    },
    {
      "cell_type": "markdown",
      "source": [
        "Sample Input\n",
        "\n",
        "```\n",
        "headOne = 2 -> 6 -> 7 -> 8 // the head node with value 2\n",
        "headTwo = 1 -> 3 -> 4 -> 5 -> 9 -> 10 // the head node with value 1\n",
        "```\n",
        "\n"
      ],
      "metadata": {
        "id": "A2vuyq6-5DQQ"
      }
    },
    {
      "cell_type": "markdown",
      "source": [
        "Sample Output\n",
        "\n",
        "```\n",
        "1 -> 2 -> 3 -> 4 -> 5 -> 6 -> 7 -> 8 -> 9 -> 10 // the new head node with value 1\n",
        "```\n",
        "\n"
      ],
      "metadata": {
        "id": "2u_Q_NBA5F0M"
      }
    },
    {
      "cell_type": "code",
      "execution_count": 1,
      "metadata": {
        "id": "SNYQinexk2kB"
      },
      "outputs": [],
      "source": [
        "# This is an input class. Do not edit.\n",
        "class LinkedList:\n",
        "  def __init__(self, value):\n",
        "    self.value = value\n",
        "    self.next = None\n",
        "\n",
        "  def __str__(self):\n",
        "    node = self\n",
        "    output_str = ''\n",
        "    while node != None:\n",
        "      output_str = output_str + str(node.value)\n",
        "      if node.next != None:\n",
        "        output_str = output_str + ' -> '\n",
        "      node = node.next\n",
        "    return output_str\n",
        "\n",
        "# Time O(n + m)\n",
        "# Space O(1)\n",
        "# n = no of element in headOne\n",
        "# m = no of element in headTwo\n",
        "def mergeLinkedLists(headOne, headTwo, report = False):\n",
        "  pointer1 = headOne\n",
        "  pointer2 = headTwo\n",
        "  merged_head = None\n",
        "  while pointer1 != None or pointer2 != None:\n",
        "    if report:\n",
        "      print(pointer1)\n",
        "      print(pointer2)\n",
        "      print(merged_head)\n",
        "      print('*'*40)\n",
        "    if pointer1 == None:\n",
        "      current_node = pointer2\n",
        "      pointer2 = pointer2.next\n",
        "    elif pointer2 == None:\n",
        "      current_node = pointer1\n",
        "      pointer1 = pointer1.next\n",
        "    else:\n",
        "      if pointer1.value < pointer2.value:\n",
        "        current_node = pointer1\n",
        "        pointer1 = pointer1.next\n",
        "      else:\n",
        "        current_node = pointer2\n",
        "        pointer2 = pointer2.next\n",
        "    \n",
        "    if merged_head == None:\n",
        "      merged_head = current_node\n",
        "      merged_tail = merged_head\n",
        "    else:\n",
        "      merged_tail.next = current_node\n",
        "      merged_tail = current_node\n",
        "  \n",
        "  return merged_head"
      ]
    },
    {
      "cell_type": "code",
      "source": [
        "def create_link_list(array):\n",
        "  head = LinkedList(array[0])\n",
        "  node = head\n",
        "  for i in range(1, len(array)):\n",
        "    node.next = LinkedList(array[i])\n",
        "    node = node.next\n",
        "  return head"
      ],
      "metadata": {
        "id": "lK9LXId5lJFY"
      },
      "execution_count": 2,
      "outputs": []
    },
    {
      "cell_type": "code",
      "source": [
        "headOne = create_link_list([2, 6, 7, 8])\n",
        "headTwo = create_link_list([1, 3, 4, 5, 9, 10])\n",
        "print(headOne)\n",
        "print(headTwo)"
      ],
      "metadata": {
        "colab": {
          "base_uri": "https://localhost:8080/"
        },
        "id": "LifHRVB1lhdz",
        "outputId": "0fcc7f43-5921-400d-e082-d816139a820e"
      },
      "execution_count": 3,
      "outputs": [
        {
          "output_type": "stream",
          "name": "stdout",
          "text": [
            "2 -> 6 -> 7 -> 8\n",
            "1 -> 3 -> 4 -> 5 -> 9 -> 10\n"
          ]
        }
      ]
    },
    {
      "cell_type": "code",
      "source": [
        "head = mergeLinkedLists(headOne, headTwo)"
      ],
      "metadata": {
        "id": "tv-rOyJZm49D"
      },
      "execution_count": 4,
      "outputs": []
    },
    {
      "cell_type": "code",
      "source": [
        "print(head)"
      ],
      "metadata": {
        "colab": {
          "base_uri": "https://localhost:8080/"
        },
        "id": "nvA8j_tUm7vI",
        "outputId": "96ae0507-09cb-4b07-ad90-345d0b3fecd4"
      },
      "execution_count": 5,
      "outputs": [
        {
          "output_type": "stream",
          "name": "stdout",
          "text": [
            "1 -> 2 -> 3 -> 4 -> 5 -> 6 -> 7 -> 8 -> 9 -> 10\n"
          ]
        }
      ]
    },
    {
      "cell_type": "code",
      "source": [
        "headOne = create_link_list([2, 6, 7, 8])\n",
        "headTwo = create_link_list([1, 3, 4, 5, 9, 10])\n",
        "print(headOne)\n",
        "print(headTwo)"
      ],
      "metadata": {
        "colab": {
          "base_uri": "https://localhost:8080/"
        },
        "id": "J2B99UBqoKdf",
        "outputId": "d08d435f-95a9-434a-e1ca-de872d76fe50"
      },
      "execution_count": 6,
      "outputs": [
        {
          "output_type": "stream",
          "name": "stdout",
          "text": [
            "2 -> 6 -> 7 -> 8\n",
            "1 -> 3 -> 4 -> 5 -> 9 -> 10\n"
          ]
        }
      ]
    },
    {
      "cell_type": "code",
      "source": [
        "head = mergeLinkedLists(headOne, headTwo, report = True)"
      ],
      "metadata": {
        "colab": {
          "base_uri": "https://localhost:8080/"
        },
        "id": "2j6B7ZetoWSb",
        "outputId": "cee952b2-1667-4888-e459-640303e87575"
      },
      "execution_count": 7,
      "outputs": [
        {
          "output_type": "stream",
          "name": "stdout",
          "text": [
            "2 -> 6 -> 7 -> 8\n",
            "1 -> 3 -> 4 -> 5 -> 9 -> 10\n",
            "None\n",
            "****************************************\n",
            "2 -> 6 -> 7 -> 8\n",
            "3 -> 4 -> 5 -> 9 -> 10\n",
            "1 -> 3 -> 4 -> 5 -> 9 -> 10\n",
            "****************************************\n",
            "6 -> 7 -> 8\n",
            "3 -> 4 -> 5 -> 9 -> 10\n",
            "1 -> 2 -> 6 -> 7 -> 8\n",
            "****************************************\n",
            "6 -> 7 -> 8\n",
            "4 -> 5 -> 9 -> 10\n",
            "1 -> 2 -> 3 -> 4 -> 5 -> 9 -> 10\n",
            "****************************************\n",
            "6 -> 7 -> 8\n",
            "5 -> 9 -> 10\n",
            "1 -> 2 -> 3 -> 4 -> 5 -> 9 -> 10\n",
            "****************************************\n",
            "6 -> 7 -> 8\n",
            "9 -> 10\n",
            "1 -> 2 -> 3 -> 4 -> 5 -> 9 -> 10\n",
            "****************************************\n",
            "7 -> 8\n",
            "9 -> 10\n",
            "1 -> 2 -> 3 -> 4 -> 5 -> 6 -> 7 -> 8\n",
            "****************************************\n",
            "8\n",
            "9 -> 10\n",
            "1 -> 2 -> 3 -> 4 -> 5 -> 6 -> 7 -> 8\n",
            "****************************************\n",
            "None\n",
            "9 -> 10\n",
            "1 -> 2 -> 3 -> 4 -> 5 -> 6 -> 7 -> 8\n",
            "****************************************\n",
            "None\n",
            "10\n",
            "1 -> 2 -> 3 -> 4 -> 5 -> 6 -> 7 -> 8 -> 9 -> 10\n",
            "****************************************\n"
          ]
        }
      ]
    }
  ]
}