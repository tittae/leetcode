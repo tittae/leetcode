{
 "cells": [
  {
   "cell_type": "markdown",
   "metadata": {},
   "source": [
    "# Convert Sorted Array to Binary Search Tree"
   ]
  },
  {
   "cell_type": "markdown",
   "metadata": {},
   "source": [
    "Given an integer array nums where the elements are sorted in ascending order, convert it to a height-balanced binary search tree.\n",
    "\n",
    "A height-balanced binary tree is a binary tree in which the depth of the two subtrees of every node never differs by more than one."
   ]
  },
  {
   "cell_type": "markdown",
   "metadata": {},
   "source": [
    "Example 1:\n",
    "\n",
    "```\n",
    "     0\n",
    "    / \\\n",
    "  -3   9\n",
    "  /   /\n",
    "-10  5\n",
    "```\n",
    "\n",
    "```\n",
    "   0\n",
    "  / \\\n",
    "-10  5\n",
    "  \\   \\\n",
    "  -3   9\n",
    "```\n",
    "\n",
    "\n",
    "```\n",
    "Input: nums = [-10,-3,0,5,9]\n",
    "Output: [0,-3,9,-10,null,5]\n",
    "Explanation: [0,-10,5,null,-3,null,9] is also accepted:\n",
    "```"
   ]
  },
  {
   "cell_type": "markdown",
   "metadata": {},
   "source": [
    "Example 2:\n",
    "\n",
    "```\n",
    "  3    1\n",
    " /      \\\n",
    "1        3\n",
    "```\n",
    "\n",
    "```\n",
    "Input: nums = [1,3]\n",
    "Output: [3,1]\n",
    "Explanation: [1,null,3] and [3,1] are both height-balanced BSTs.\n",
    "```"
   ]
  },
  {
   "cell_type": "markdown",
   "metadata": {},
   "source": [
    "Constraints:\n",
    "\n",
    "```\n",
    "1 <= nums.length <= 104\n",
    "-104 <= nums[i] <= 104\n",
    "nums is sorted in a strictly increasing order.\n",
    "```"
   ]
  },
  {
   "cell_type": "code",
   "execution_count": 1,
   "metadata": {},
   "outputs": [],
   "source": [
    "# Definition for a binary tree node.\n",
    "class TreeNode:\n",
    "    def __init__(self, val=0, left=None, right=None):\n",
    "        self.val = val\n",
    "        self.left = left\n",
    "        self.right = right\n",
    "\n",
    "class Solution:\n",
    "    # time = O(N)\n",
    "    # space = O(log N)\n",
    "    def sortedArrayToBST(self, nums: list[int]) -> TreeNode:        \n",
    "        def helper(left, right):\n",
    "            if left > right:\n",
    "                return None\n",
    "            \n",
    "            # always choose right middle node as a root\n",
    "            p = (left + right) // 2 \n",
    "            if (left + right) % 2:\n",
    "                p += 1 \n",
    "\n",
    "            # preorder traversal: node -> left -> right\n",
    "            root = TreeNode(nums[p])\n",
    "            root.left = helper(left, p - 1)\n",
    "            root.right = helper(p + 1, right)\n",
    "            return root\n",
    "        \n",
    "        return helper(0, len(nums) - 1)"
   ]
  },
  {
   "cell_type": "code",
   "execution_count": 5,
   "metadata": {},
   "outputs": [
    {
     "name": "stdout",
     "output_type": "stream",
     "text": [
      "0\n"
     ]
    }
   ],
   "source": [
    "nums = [-10,-3,0,5,9]\n",
    "\n",
    "output = Solution().sortedArrayToBST(nums)\n",
    "print(output.val)\n",
    "\n",
    "assert output.val == 0\n",
    "assert output.left.val == -3\n",
    "assert output.left.left.val == -10\n",
    "\n"
   ]
  }
 ],
 "metadata": {
  "kernelspec": {
   "display_name": "Python 3.10.5 64-bit ('3.10.5')",
   "language": "python",
   "name": "python3"
  },
  "language_info": {
   "codemirror_mode": {
    "name": "ipython",
    "version": 3
   },
   "file_extension": ".py",
   "mimetype": "text/x-python",
   "name": "python",
   "nbconvert_exporter": "python",
   "pygments_lexer": "ipython3",
   "version": "3.10.5"
  },
  "orig_nbformat": 4,
  "vscode": {
   "interpreter": {
    "hash": "992441bd4bc11ab83c63537935ea198062f55180155eaba570b8d7c82e005e8c"
   }
  }
 },
 "nbformat": 4,
 "nbformat_minor": 2
}
