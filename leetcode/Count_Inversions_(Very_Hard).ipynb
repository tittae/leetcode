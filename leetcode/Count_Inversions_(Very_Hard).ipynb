{
  "nbformat": 4,
  "nbformat_minor": 0,
  "metadata": {
    "colab": {
      "name": "Count Inversions (Very Hard).ipynb",
      "provenance": [],
      "authorship_tag": "ABX9TyNiEQpAeCsJ9qZuF4y7cxov",
      "include_colab_link": true
    },
    "kernelspec": {
      "name": "python3",
      "display_name": "Python 3"
    },
    "language_info": {
      "name": "python"
    }
  },
  "cells": [
    {
      "cell_type": "markdown",
      "metadata": {
        "id": "view-in-github",
        "colab_type": "text"
      },
      "source": [
        "<a href=\"https://colab.research.google.com/github/wisarootl/leetcode/blob/main/Count_Inversions_(Very_Hard).ipynb\" target=\"_parent\"><img src=\"https://colab.research.google.com/assets/colab-badge.svg\" alt=\"Open In Colab\"/></a>"
      ]
    },
    {
      "cell_type": "markdown",
      "source": [
        "# Count Inversions"
      ],
      "metadata": {
        "id": "z5sXdwixz03P"
      }
    },
    {
      "cell_type": "markdown",
      "source": [
        "Write a function that takes in an array of integers and returns the number of inversions in the array. An inversion occurs if for any valid indices `i` and `j`, `i < j` and `array[i] > array[j]`.\n",
        "\n",
        "For example, given `array = [3, 4, 1, 2]`, there are `4` inversions. The following pairs of indices represent inversions: `[0, 2], [0, 3], [1, 2], [1, 3]`.\n",
        "\n",
        "Intuitively, the number of inversions is a measure of how unsorted the array is."
      ],
      "metadata": {
        "id": "DVpy0SPqz1s6"
      }
    },
    {
      "cell_type": "markdown",
      "source": [
        "Sample Input\n",
        "\n",
        "```\n",
        "array = [2, 3, 3, 1, 9, 5, 6]\n",
        "```\n",
        "\n"
      ],
      "metadata": {
        "id": "DHPW32xsz_XG"
      }
    },
    {
      "cell_type": "markdown",
      "source": [
        "Sample Output\n",
        "\n",
        "```\n",
        "5\n",
        "// The following pairs of indices represent inversions:\n",
        "// [0, 3], [1, 3], [2, 3], [4, 5], [4, 6]\n",
        "```\n",
        "\n"
      ],
      "metadata": {
        "id": "BM1ZOY9w0Bu0"
      }
    },
    {
      "cell_type": "markdown",
      "source": [
        "# Solution 1 : Brute-Force"
      ],
      "metadata": {
        "id": "DrL8Y2SOvzIC"
      }
    },
    {
      "cell_type": "code",
      "execution_count": 1,
      "metadata": {
        "id": "fT4HovwmrUpt"
      },
      "outputs": [],
      "source": [
        "# time O(n^2)\n",
        "# sapce O(1)\n",
        "\n",
        "def countInversions(array):\n",
        "\tcount_inversion = 0\n",
        "\tfor i in range(len(array)):\n",
        "\t\tfor j in range(i, len(array)):\n",
        "\t\t\tif array[i] > array[j]:\n",
        "\t\t\t\tcount_inversion += 1\n",
        "\treturn count_inversion"
      ]
    },
    {
      "cell_type": "code",
      "source": [
        "array = [2, 3, 3, 1, 9, 5, 6]\n",
        "countInversions(array)"
      ],
      "metadata": {
        "colab": {
          "base_uri": "https://localhost:8080/"
        },
        "id": "gEzSviKevc2t",
        "outputId": "cfbc95a9-a12a-48c9-9f5c-2d01127ecca7"
      },
      "execution_count": 2,
      "outputs": [
        {
          "output_type": "execute_result",
          "data": {
            "text/plain": [
              "5"
            ]
          },
          "metadata": {},
          "execution_count": 2
        }
      ]
    },
    {
      "cell_type": "markdown",
      "source": [
        "# Solution 2"
      ],
      "metadata": {
        "id": "oleRUAFM3wB8"
      }
    },
    {
      "cell_type": "markdown",
      "source": [
        "- apply mergesot and count inversion during merging"
      ],
      "metadata": {
        "id": "5MlqLP2NA4up"
      }
    },
    {
      "cell_type": "code",
      "source": [
        "# time : O(nlog n)\n",
        "# space : O(n)\n",
        "\n",
        "def countInversions(array):\n",
        "  return count_subarray_inversions(array, 0, len(array))\n",
        "\n",
        "def count_subarray_inversions(array, start, end):\n",
        "  if end - start <= 1:\n",
        "    return 0\n",
        "\n",
        "  middle = start + (end - start) // 2\n",
        "  left_inversions_count = count_subarray_inversions(array, start, middle)\n",
        "  right_inversions_count = count_subarray_inversions(array, middle, end)\n",
        "  merged_array_inversions = merge_sort_and_count_inversion(array, start, middle, end)\n",
        "  return left_inversions_count + right_inversions_count + merged_array_inversions\n",
        "\n",
        "\n",
        "def merge_sort_and_count_inversion(array, start, middle, end):\n",
        "  sorted_array = []\n",
        "  left = start\n",
        "  right = middle\n",
        "  inversions = 0\n",
        "  while left < middle and right < end:\n",
        "    if array[left] <= array[right]:\n",
        "      sorted_array.append(array[left])\n",
        "      left += 1\n",
        "    else:\n",
        "      inversions += middle - left\n",
        "      sorted_array.append(array[right])\n",
        "      right += 1\n",
        "  sorted_array += array[left:middle] + array[right:end]\n",
        "  for idx, num in enumerate(sorted_array):\n",
        "    array[start + idx] = num\n",
        "  return inversions"
      ],
      "metadata": {
        "id": "Q0KQiv1Y3ynD"
      },
      "execution_count": 3,
      "outputs": []
    },
    {
      "cell_type": "code",
      "source": [
        "array = [2, 3, 3, 1, 9, 5, 6]\n",
        "countInversions(array)"
      ],
      "metadata": {
        "colab": {
          "base_uri": "https://localhost:8080/"
        },
        "id": "bZ8iR5YC31GC",
        "outputId": "5ebf70d2-bc28-47cb-aa2c-4979b8c3d2e1"
      },
      "execution_count": 4,
      "outputs": [
        {
          "output_type": "execute_result",
          "data": {
            "text/plain": [
              "5"
            ]
          },
          "metadata": {},
          "execution_count": 4
        }
      ]
    },
    {
      "cell_type": "code",
      "source": [
        "array = [1, 2, 3, 4, 5, 6, -1]\n",
        "countInversions(array)"
      ],
      "metadata": {
        "colab": {
          "base_uri": "https://localhost:8080/"
        },
        "id": "QBV7-oAq4AIt",
        "outputId": "4a62a85f-f561-48d0-fd40-62e9ce2c7c60"
      },
      "execution_count": 5,
      "outputs": [
        {
          "output_type": "execute_result",
          "data": {
            "text/plain": [
              "6"
            ]
          },
          "metadata": {},
          "execution_count": 5
        }
      ]
    },
    {
      "cell_type": "markdown",
      "source": [
        "## Conceptual Note"
      ],
      "metadata": {
        "id": "eP044SvXA0wK"
      }
    },
    {
      "cell_type": "markdown",
      "source": [
        "![photo_2022-01-28_11-55-19.jpg](data:image/jpeg;base64,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)"
      ],
      "metadata": {
        "id": "gm7--2OFA2_6"
      }
    },
    {
      "cell_type": "markdown",
      "source": [
        "## Solution 3"
      ],
      "metadata": {
        "id": "pI0kkyXT73xM"
      }
    },
    {
      "cell_type": "markdown",
      "source": [
        "- same as solution 2 but refactoring"
      ],
      "metadata": {
        "id": "OT5k19gzAus8"
      }
    },
    {
      "cell_type": "code",
      "source": [
        "# time : O(nlog n)\n",
        "# space : O(n)\n",
        "\n",
        "def countInversions(array):\n",
        "  return count_subarray_inversions(array, 0, len(array) - 1)\n",
        "\n",
        "def count_subarray_inversions(array, start, end):\n",
        "  if end <= start:\n",
        "    return 0\n",
        "\n",
        "  middle = (start + end) // 2\n",
        "  left_inversions_count = count_subarray_inversions(array, start, middle)\n",
        "  right_inversions_count = count_subarray_inversions(array, middle + 1, end)\n",
        "  merged_array_inversions = merge_sort_and_count_inversion(array, start, middle, end)\n",
        "  return left_inversions_count + right_inversions_count + merged_array_inversions\n",
        "\n",
        "\n",
        "def merge_sort_and_count_inversion(array, start, middle, end):\n",
        "  sorted_array = []\n",
        "  left = start\n",
        "  right = middle + 1\n",
        "  inversions = 0\n",
        "  while len(sorted_array) < end - start + 1:\n",
        "    if left <= middle and right <= end:\n",
        "      if array[left] <= array[right]:\n",
        "        sorted_array.append(array[left])\n",
        "        left += 1\n",
        "      else:\n",
        "        inversions += middle + 1 - left\n",
        "        sorted_array.append(array[right])\n",
        "        right += 1\n",
        "    elif left <= middle:\n",
        "        sorted_array.append(array[left])\n",
        "        left += 1\n",
        "    elif right <= end:\n",
        "        sorted_array.append(array[right])\n",
        "        right += 1\n",
        "\n",
        "  for idx, num in enumerate(sorted_array):\n",
        "    array[start + idx] = num\n",
        "  return inversions"
      ],
      "metadata": {
        "id": "GjrpzPJy7JhX"
      },
      "execution_count": 6,
      "outputs": []
    },
    {
      "cell_type": "code",
      "source": [
        "array = [2, 3, 3, 1, 9, 5, 6]\n",
        "countInversions(array)"
      ],
      "metadata": {
        "colab": {
          "base_uri": "https://localhost:8080/"
        },
        "id": "7KHdP5Nk7KcC",
        "outputId": "87fa7685-d209-4dc5-c949-6162cac4004b"
      },
      "execution_count": 7,
      "outputs": [
        {
          "output_type": "execute_result",
          "data": {
            "text/plain": [
              "5"
            ]
          },
          "metadata": {},
          "execution_count": 7
        }
      ]
    },
    {
      "cell_type": "code",
      "source": [
        "array = [1, 2, 3, 4, 5, 6, -1]\n",
        "countInversions(array)"
      ],
      "metadata": {
        "colab": {
          "base_uri": "https://localhost:8080/"
        },
        "id": "XE457yia7LXu",
        "outputId": "b15ad339-34c9-4276-9e4a-2440bbdc412f"
      },
      "execution_count": 8,
      "outputs": [
        {
          "output_type": "execute_result",
          "data": {
            "text/plain": [
              "6"
            ]
          },
          "metadata": {},
          "execution_count": 8
        }
      ]
    }
  ]
}