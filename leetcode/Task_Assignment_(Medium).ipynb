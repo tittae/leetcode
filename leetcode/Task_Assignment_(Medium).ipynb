{
  "nbformat": 4,
  "nbformat_minor": 0,
  "metadata": {
    "colab": {
      "name": "Task Assignment (Medium).ipynb",
      "provenance": [],
      "authorship_tag": "ABX9TyMZjjjzJBVZIPr7SouUjLgs",
      "include_colab_link": true
    },
    "kernelspec": {
      "name": "python3",
      "display_name": "Python 3"
    },
    "language_info": {
      "name": "python"
    }
  },
  "cells": [
    {
      "cell_type": "markdown",
      "metadata": {
        "id": "view-in-github",
        "colab_type": "text"
      },
      "source": [
        "<a href=\"https://colab.research.google.com/github/wisarootl/leetcode/blob/main/Task_Assignment_(Medium).ipynb\" target=\"_parent\"><img src=\"https://colab.research.google.com/assets/colab-badge.svg\" alt=\"Open In Colab\"/></a>"
      ]
    },
    {
      "cell_type": "markdown",
      "source": [
        "# Task Assignment"
      ],
      "metadata": {
        "id": "pQNnQlbVh7VY"
      }
    },
    {
      "cell_type": "markdown",
      "source": [
        "You're given an integer `k` representing a number of workers and an array of positive integers representing durations of tasks that must be completed by the workers. Specifically, each worker must complete two unique tasks and can only work on one task at a time. The number of tasks will always be equal to `2k` such that each worker always has exactly two tasks to complete. All tasks are independent of one another and can be completed in any order. Workers will complete their assigned tasks in parallel, and the time taken to complete all tasks will be equal to the time taken to complete the longest pair of tasks (see the sample output for an explanation).\n",
        "\n",
        "Write a function that returns the optimal assignment of tasks to each worker such that the tasks are completed as fast as possible. Your function should return a list of pairs, where each pair stores the indices of the tasks that should be completed by one worker. The pairs should be in the following format: `[task1, task2]`, where the order of `task1` and `task2` doesn't matter. Your function can return the pairs in any order. If multiple optimal assignments exist, any correct answer will be accepted.\n",
        "\n",
        "Note: you'll always be given at least one worker (i.e., `k` will always be greater than 0)."
      ],
      "metadata": {
        "id": "P7dij9wmh897"
      }
    },
    {
      "cell_type": "markdown",
      "source": [
        "Sample Input\n",
        "\n",
        "```\n",
        "k = 3\n",
        "tasks = [1, 3, 5, 3, 1, 4]\n",
        "```\n",
        "\n"
      ],
      "metadata": {
        "id": "81dRMHcLiFq9"
      }
    },
    {
      "cell_type": "markdown",
      "source": [
        "Sample Output\n",
        "\n",
        "```\n",
        "[\n",
        "  [0, 2], // tasks[0] = 1, tasks[2] = 5 | 1 + 5 = 6\n",
        "  [4, 5], // tasks[4] = 1, tasks[5] = 4 | 1 + 4 = 5\n",
        "  [1, 3], // tasks[1] = 3, tasks[3] = 3 | 3 + 3 = 6\n",
        "] // The fastest time to complete all tasks is 6.\n",
        "\n",
        "// Note: there are multiple correct answers for this sample input.\n",
        "// The following is an example of another correct answer:\n",
        "// [\n",
        "//   [2, 4],\n",
        "//   [0, 5],\n",
        "//   [1, 3]\n",
        "// [\n",
        "```\n",
        "\n"
      ],
      "metadata": {
        "id": "TmRwfpwEiIHy"
      }
    },
    {
      "cell_type": "markdown",
      "source": [
        "# Solution 1"
      ],
      "metadata": {
        "id": "-42hPHlUof2t"
      }
    },
    {
      "cell_type": "code",
      "execution_count": 1,
      "metadata": {
        "id": "tU7ypu0Jg5fI"
      },
      "outputs": [],
      "source": [
        "# Time O(nlog n)\n",
        "# Space O(n)\n",
        "\n",
        "def taskAssignment(k, tasks):\n",
        "  idx_tasks = []\n",
        "  for idx, task in enumerate(tasks):\n",
        "    idx_tasks.append([idx, task])\n",
        "  idx_tasks.sort(key=lambda x: x[1])\n",
        "  left_pointer = 0\n",
        "  right_pointer = len(tasks) - 1\n",
        "  assignments = []\n",
        "  while left_pointer < right_pointer:\n",
        "    assignments.append([idx_tasks[left_pointer][0], idx_tasks[right_pointer][0]])\n",
        "    left_pointer += 1\n",
        "    right_pointer -= 1\n",
        "  return assignments"
      ]
    },
    {
      "cell_type": "code",
      "source": [
        "# Time O(nlog n)\n",
        "# Space O(n)\n",
        "\n",
        "k = 3\n",
        "tasks = [1, 3, 5, 3, 1, 4]\n",
        "taskAssignment(k, tasks)"
      ],
      "metadata": {
        "colab": {
          "base_uri": "https://localhost:8080/"
        },
        "id": "E01apAVeg7Gk",
        "outputId": "c9ab6feb-6335-4f52-f6ad-918fd46bbba2"
      },
      "execution_count": 2,
      "outputs": [
        {
          "output_type": "execute_result",
          "data": {
            "text/plain": [
              "[[0, 2], [4, 5], [1, 3]]"
            ]
          },
          "metadata": {},
          "execution_count": 2
        }
      ]
    },
    {
      "cell_type": "markdown",
      "source": [
        "# Solution 2"
      ],
      "metadata": {
        "id": "tYo7CFbJoh-1"
      }
    },
    {
      "cell_type": "markdown",
      "source": [
        "Refactor solution 1"
      ],
      "metadata": {
        "id": "FoC4QcPjojiH"
      }
    },
    {
      "cell_type": "code",
      "source": [
        "def taskAssignment(k, tasks):\n",
        "  task_to_idxs = get_task_to_idx(tasks)\n",
        "  tasks.sort()\n",
        "  left_pointer = 0\n",
        "  right_pointer = len(tasks) - 1\n",
        "  assignments = []\n",
        "  while left_pointer < right_pointer:\n",
        "    task1 = tasks[left_pointer]\n",
        "    task1_idx = task_to_idxs[task1].pop()\n",
        "    task2 = tasks[right_pointer]\n",
        "    task2_idx = task_to_idxs[task2].pop()\n",
        "    assignments.append([task1_idx, task2_idx])\n",
        "    left_pointer += 1\n",
        "    right_pointer -= 1\n",
        "  return assignments\n",
        "\n",
        "def get_task_to_idx(tasks):\n",
        "  task_to_idxs = {}\n",
        "  for idx in range(len(tasks)):\n",
        "    task = tasks[idx]\n",
        "    if task not in task_to_idxs:\n",
        "      task_to_idxs[task] = []\n",
        "    task_to_idxs[task].append(idx)\n",
        "  return task_to_idxs"
      ],
      "metadata": {
        "id": "16MeglgmknV8"
      },
      "execution_count": 3,
      "outputs": []
    },
    {
      "cell_type": "code",
      "source": [
        "k = 3\n",
        "tasks = [1, 3, 5, 3, 1, 4]\n",
        "taskAssignment(k, tasks)"
      ],
      "metadata": {
        "colab": {
          "base_uri": "https://localhost:8080/"
        },
        "id": "CcW823A1kqED",
        "outputId": "9c231d27-1671-49a7-e15f-4c8fc926dddb"
      },
      "execution_count": 4,
      "outputs": [
        {
          "output_type": "execute_result",
          "data": {
            "text/plain": [
              "[[4, 2], [0, 5], [3, 1]]"
            ]
          },
          "metadata": {},
          "execution_count": 4
        }
      ]
    }
  ]
}