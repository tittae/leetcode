{
 "cells": [
  {
   "cell_type": "markdown",
   "metadata": {},
   "source": [
    "# Put Boxes Into the Warehouse I"
   ]
  },
  {
   "cell_type": "markdown",
   "metadata": {},
   "source": [
    "You are given two arrays of positive integers, boxes and warehouse, representing the heights of some boxes of unit width and the heights of n rooms in a warehouse respectively. The warehouse's rooms are labelled from 0 to n - 1 from left to right where warehouse[i] (0-indexed) is the height of the ith room.\n",
    "\n",
    "Boxes are put into the warehouse by the following rules:\n",
    "\n",
    "- Boxes cannot be stacked.\n",
    "- You can rearrange the insertion order of the boxes.\n",
    "- Boxes can only be pushed into the warehouse from left to right only.\n",
    "- If the height of some room in the warehouse is less than the height of a box, then that box and all other boxes behind it will be stopped before that room.\n",
    "\n",
    "Return the maximum number of boxes you can put into the warehouse."
   ]
  },
  {
   "cell_type": "markdown",
   "metadata": {},
   "source": [
    "Example 1:\n",
    "```\n",
    "Input: boxes = [4,3,4,1], warehouse = [5,3,3,4,1]\n",
    "Output: 3\n",
    "Explanation: \n",
    "We can first put the box of height 1 in room 4. Then we can put the box of height 3 in either of the 3 rooms 1, 2, or 3. Lastly, we can put one box of height 4 in room 0.\n",
    "There is no way we can fit all 4 boxes in the warehouse.\n",
    "```"
   ]
  },
  {
   "cell_type": "markdown",
   "metadata": {},
   "source": [
    "Example 2:\n",
    "```\n",
    "Input: boxes = [1,2,2,3,4], warehouse = [3,4,1,2]\n",
    "Output: 3\n",
    "Explanation: \n",
    "Notice that it's not possible to put the box of height 4 into the warehouse since it cannot pass the first room of height 3.\n",
    "Also, for the last two rooms, 2 and 3, only boxes of height 1 can fit.\n",
    "We can fit 3 boxes maximum as shown above. The yellow box can also be put in room 2 instead.\n",
    "Swapping the orange and green boxes is also valid, or swapping one of them with the red box.\n",
    "```"
   ]
  },
  {
   "cell_type": "markdown",
   "metadata": {},
   "source": [
    "Example 3:\n",
    "```\n",
    "Input: boxes = [1,2,3], warehouse = [1,2,3,4]\n",
    "Output: 1\n",
    "Explanation: Since the first room in the warehouse is of height 1, we can only put boxes of height 1.\n",
    "```"
   ]
  },
  {
   "cell_type": "markdown",
   "metadata": {},
   "source": [
    "Constraints:\n",
    "```\n",
    "n == warehouse.length\n",
    "1 <= boxes.length, warehouse.length <= 105\n",
    "1 <= boxes[i], warehouse[i] <= 109\n",
    "```"
   ]
  },
  {
   "cell_type": "code",
   "execution_count": 1,
   "metadata": {},
   "outputs": [],
   "source": [
    "from typing import *\n",
    "\n",
    "class Solution:\n",
    "    def maxBoxesInWarehouse(self, boxes: List[int], warehouse: List[int]) -> int:\n",
    "\n",
    "        i = 0\n",
    "        count = 0\n",
    "        boxes.sort(reverse = True)\n",
    "\n",
    "        for room in warehouse:\n",
    "            # Iterate through boxes from largest to smallest\n",
    "            # Discard boxes that doesn't fit in the current warehouse\n",
    "            while i < len(boxes) and boxes[i] > room:\n",
    "                i += 1\n",
    "            if i == len(boxes):\n",
    "                return count\n",
    "            count += 1\n",
    "            i += 1\n",
    "\n",
    "        return count"
   ]
  },
  {
   "cell_type": "code",
   "execution_count": 2,
   "metadata": {},
   "outputs": [
    {
     "name": "stdout",
     "output_type": "stream",
     "text": [
      "3\n"
     ]
    }
   ],
   "source": [
    "boxes = [4,3,4,1]\n",
    "warehouse = [5,3,3,4,1]\n",
    "expected = 3\n",
    "\n",
    "output = Solution().maxBoxesInWarehouse(boxes, warehouse)\n",
    "print(output)\n",
    "assert output == expected"
   ]
  },
  {
   "cell_type": "code",
   "execution_count": 3,
   "metadata": {},
   "outputs": [
    {
     "name": "stdout",
     "output_type": "stream",
     "text": [
      "3\n"
     ]
    }
   ],
   "source": [
    "boxes = [1,2,2,3,4]\n",
    "warehouse = [3,4,1,2]\n",
    "expected = 3\n",
    "\n",
    "output = Solution().maxBoxesInWarehouse(boxes, warehouse)\n",
    "print(output)\n",
    "assert output == expected"
   ]
  },
  {
   "cell_type": "code",
   "execution_count": 4,
   "metadata": {},
   "outputs": [
    {
     "name": "stdout",
     "output_type": "stream",
     "text": [
      "1\n"
     ]
    }
   ],
   "source": [
    "boxes = [1,2,3]\n",
    "warehouse = [1,2,3,4]\n",
    "expected = 1\n",
    "\n",
    "output = Solution().maxBoxesInWarehouse(boxes, warehouse)\n",
    "print(output)\n",
    "assert output == expected"
   ]
  }
 ],
 "metadata": {
  "kernelspec": {
   "display_name": "Python 3.10.5 64-bit (windows store)",
   "language": "python",
   "name": "python3"
  },
  "language_info": {
   "codemirror_mode": {
    "name": "ipython",
    "version": 3
   },
   "file_extension": ".py",
   "mimetype": "text/x-python",
   "name": "python",
   "nbconvert_exporter": "python",
   "pygments_lexer": "ipython3",
   "version": "3.10.5"
  },
  "orig_nbformat": 4,
  "vscode": {
   "interpreter": {
    "hash": "3822405be9f5fb329f7270cbdcf73e762c62b3f383c5e71390a1a4648678c1cb"
   }
  }
 },
 "nbformat": 4,
 "nbformat_minor": 2
}
