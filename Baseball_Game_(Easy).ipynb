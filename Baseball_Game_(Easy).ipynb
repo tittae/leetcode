{
  "nbformat": 4,
  "nbformat_minor": 0,
  "metadata": {
    "colab": {
      "name": "Baseball Game (Easy).ipynb",
      "provenance": [],
      "authorship_tag": "ABX9TyOf1GqGciaC2B+YZnXAxyOs",
      "include_colab_link": true
    },
    "kernelspec": {
      "name": "python3",
      "display_name": "Python 3"
    },
    "language_info": {
      "name": "python"
    }
  },
  "cells": [
    {
      "cell_type": "markdown",
      "metadata": {
        "id": "view-in-github",
        "colab_type": "text"
      },
      "source": [
        "<a href=\"https://colab.research.google.com/github/wisarootl/leetcode/blob/main/Baseball_Game_(Easy).ipynb\" target=\"_parent\"><img src=\"https://colab.research.google.com/assets/colab-badge.svg\" alt=\"Open In Colab\"/></a>"
      ]
    },
    {
      "cell_type": "markdown",
      "source": [
        "# Baseball Game"
      ],
      "metadata": {
        "id": "Y8OCICc-O8Ed"
      }
    },
    {
      "cell_type": "markdown",
      "source": [
        "You are keeping score for a baseball game with strange rules. The game consists of several rounds, where the scores of past rounds may affect future rounds' scores.\n",
        "\n",
        "At the beginning of the game, you start with an empty record. You are given a list of strings ops, where ops[i] is the ith operation you must apply to the record and is one of the following:\n",
        "\n",
        "1. n integer x - Record a new score of x.\n",
        "2. \"+\" - Record a new score that is the sum of the previous two scores. It is guaranteed there will always be two previous scores.\n",
        "3. \"D\" - Record a new score that is double the previous score. It is guaranteed there will always be a previous score.\n",
        "4. \"C\" - Invalidate the previous score, removing it from the record. It is guaranteed there will always be a previous score.\n",
        "\n",
        "Return the sum of all the scores on the record."
      ],
      "metadata": {
        "id": "UsqbyOtMO9E6"
      }
    },
    {
      "cell_type": "markdown",
      "source": [
        "Example 1:\n",
        "\n",
        "```\n",
        "Input: ops = [\"5\",\"2\",\"C\",\"D\",\"+\"]\n",
        "Output: 30\n",
        "Explanation:\n",
        "\"5\" - Add 5 to the record, record is now [5].\n",
        "\"2\" - Add 2 to the record, record is now [5, 2].\n",
        "\"C\" - Invalidate and remove the previous score, record is now [5].\n",
        "\"D\" - Add 2 * 5 = 10 to the record, record is now [5, 10].\n",
        "\"+\" - Add 5 + 10 = 15 to the record, record is now [5, 10, 15].\n",
        "The total sum is 5 + 10 + 15 = 30.\n",
        "```\n",
        "\n"
      ],
      "metadata": {
        "id": "ZOWwrGuOPIKb"
      }
    },
    {
      "cell_type": "markdown",
      "source": [
        "Example 2:\n",
        "\n",
        "```\n",
        "Input: ops = [\"5\",\"-2\",\"4\",\"C\",\"D\",\"9\",\"+\",\"+\"]\n",
        "Output: 27\n",
        "Explanation:\n",
        "\"5\" - Add 5 to the record, record is now [5].\n",
        "\"-2\" - Add -2 to the record, record is now [5, -2].\n",
        "\"4\" - Add 4 to the record, record is now [5, -2, 4].\n",
        "\"C\" - Invalidate and remove the previous score, record is now [5, -2].\n",
        "\"D\" - Add 2 * -2 = -4 to the record, record is now [5, -2, -4].\n",
        "\"9\" - Add 9 to the record, record is now [5, -2, -4, 9].\n",
        "\"+\" - Add -4 + 9 = 5 to the record, record is now [5, -2, -4, 9, 5].\n",
        "\"+\" - Add 9 + 5 = 14 to the record, record is now [5, -2, -4, 9, 5, 14].\n",
        "The total sum is 5 + -2 + -4 + 9 + 5 + 14 = 27.\n",
        "```\n",
        "\n"
      ],
      "metadata": {
        "id": "_lnP-T1VPL7V"
      }
    },
    {
      "cell_type": "markdown",
      "source": [
        "Example 3:\n",
        "\n",
        "```\n",
        "Input: ops = [\"1\"]\n",
        "Output: 1\n",
        "```\n",
        "\n"
      ],
      "metadata": {
        "id": "zMauEy0_PPJ2"
      }
    },
    {
      "cell_type": "markdown",
      "source": [
        "Constraints:\n",
        "\n",
        "```\n",
        "1 <= ops.length <= 1000\n",
        "ops[i] is \"C\", \"D\", \"+\", or a string representing an integer in the range [-3 * 104, 3 * 104].\n",
        "For operation \"+\", there will always be at least two previous scores on the record.\n",
        "For operations \"C\" and \"D\", there will always be at least one previous score on the record.\n",
        "```\n",
        "\n"
      ],
      "metadata": {
        "id": "vWSO28iaPRmW"
      }
    },
    {
      "cell_type": "code",
      "execution_count": 1,
      "metadata": {
        "id": "_3zC7itLO6j-"
      },
      "outputs": [],
      "source": [
        "# Time = O(N)\n",
        "# Space = O(N)\n",
        "\n",
        "class Solution:\n",
        "    def calPoints(self, ops):\n",
        "        stack = []\n",
        "        for op in ops:\n",
        "            if op == '+':\n",
        "                stack.append(stack[-1] + stack[-2])\n",
        "            elif op == 'C':\n",
        "                stack.pop()\n",
        "            elif op == 'D':\n",
        "                stack.append(2 * stack[-1])\n",
        "            else:\n",
        "                stack.append(int(op))\n",
        "\n",
        "        return sum(stack)"
      ]
    },
    {
      "cell_type": "code",
      "source": [
        "ops = [\"5\",\"2\",\"C\",\"D\",\"+\"]\n",
        "expected = 30\n",
        "\n",
        "output = Solution().calPoints(ops)\n",
        "print(output)\n",
        "assert output == expected"
      ],
      "metadata": {
        "colab": {
          "base_uri": "https://localhost:8080/"
        },
        "id": "65w03BJ3PZSg",
        "outputId": "c08da185-8244-4eba-d459-5fec16103841"
      },
      "execution_count": 2,
      "outputs": [
        {
          "output_type": "stream",
          "name": "stdout",
          "text": [
            "30\n"
          ]
        }
      ]
    },
    {
      "cell_type": "code",
      "source": [
        "ops = [\"5\",\"-2\",\"4\",\"C\",\"D\",\"9\",\"+\",\"+\"]\n",
        "expected = 27\n",
        "\n",
        "output = Solution().calPoints(ops)\n",
        "print(output)\n",
        "assert output == expected"
      ],
      "metadata": {
        "colab": {
          "base_uri": "https://localhost:8080/"
        },
        "id": "au4YR0BnPqa8",
        "outputId": "5fc96d03-0142-4f19-c6d2-86d3e68faf72"
      },
      "execution_count": 3,
      "outputs": [
        {
          "output_type": "stream",
          "name": "stdout",
          "text": [
            "27\n"
          ]
        }
      ]
    },
    {
      "cell_type": "code",
      "source": [
        "ops = [\"1\"]\n",
        "expected = 1\n",
        "\n",
        "output = Solution().calPoints(ops)\n",
        "print(output)\n",
        "assert output == expected"
      ],
      "metadata": {
        "colab": {
          "base_uri": "https://localhost:8080/"
        },
        "id": "AzIAw3dWPtA8",
        "outputId": "12fabaab-39e8-4644-e527-28d6fdb3dd16"
      },
      "execution_count": 4,
      "outputs": [
        {
          "output_type": "stream",
          "name": "stdout",
          "text": [
            "1\n"
          ]
        }
      ]
    }
  ]
}