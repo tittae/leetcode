{
  "nbformat": 4,
  "nbformat_minor": 0,
  "metadata": {
    "colab": {
      "name": "Find Three Largest Number.ipynb",
      "provenance": [],
      "authorship_tag": "ABX9TyPhYkGOUEO/Y9fnBOeaCr2R",
      "include_colab_link": true
    },
    "kernelspec": {
      "name": "python3",
      "display_name": "Python 3"
    },
    "language_info": {
      "name": "python"
    }
  },
  "cells": [
    {
      "cell_type": "markdown",
      "metadata": {
        "id": "view-in-github",
        "colab_type": "text"
      },
      "source": [
        "<a href=\"https://colab.research.google.com/github/tittae/leetcode/blob/main/Find_Three_Largest_Number.ipynb\" target=\"_parent\"><img src=\"https://colab.research.google.com/assets/colab-badge.svg\" alt=\"Open In Colab\"/></a>"
      ]
    },
    {
      "cell_type": "markdown",
      "metadata": {
        "id": "J4agFLCypIKY"
      },
      "source": [
        "# Find Three Largest Number"
      ]
    },
    {
      "cell_type": "markdown",
      "metadata": {
        "id": "qx8F4crvpJSZ"
      },
      "source": [
        "Write a function that takes in an array of at least three integers and, without sorting the input array, returns a sorted array of the three largest integers in the input array.\n",
        "\n",
        "The function should return duplicate integers if necessary; for example, it should return [10, 10, 12] for an input array of [10, 5, 9, 10, 12]."
      ]
    },
    {
      "cell_type": "markdown",
      "metadata": {
        "id": "H9YFfheypLiD"
      },
      "source": [
        "Sample Input\n",
        "\n",
        "```\n",
        "array = [141, 1, 17, -7, -17, -27, 18, 541, 8, 7, 7]\n",
        "```\n",
        "\n"
      ]
    },
    {
      "cell_type": "markdown",
      "metadata": {
        "id": "9PhvwZYhpNp3"
      },
      "source": [
        "Sample Output\n",
        "\n",
        "```\n",
        "[18, 141, 541]\n",
        "```\n",
        "\n"
      ]
    },
    {
      "cell_type": "markdown",
      "metadata": {
        "id": "K9HY8Aypy20h"
      },
      "source": [
        "# Solution (replace & sort)"
      ]
    },
    {
      "cell_type": "code",
      "metadata": {
        "id": "sRvg3sZopHN7"
      },
      "source": [
        "# Time: O(n), Space O(1)\n",
        "def findThreeLargestNumbers(array):\n",
        "\tlargest_three = [float('-inf')] * 3\n",
        "\tfor i in range(len(array)):\n",
        "\t\tif array[i] > largest_three[0]:\n",
        "      # we replace the min value in largest_three and sort\n",
        "      # this sort will be take constant time as largest_three is only 3 element array and will not growth with n\n",
        "\t\t\tlargest_three[0] = array[i]\n",
        "\t\t\tlargest_three.sort()\n",
        "\treturn largest_three"
      ],
      "execution_count": 1,
      "outputs": []
    },
    {
      "cell_type": "code",
      "metadata": {
        "id": "CFxPq1y1rO1k"
      },
      "source": [
        "array = [141, 1, 17, -7, -17, -27, 18, 541, 8, 7, 7]"
      ],
      "execution_count": 2,
      "outputs": []
    },
    {
      "cell_type": "code",
      "metadata": {
        "colab": {
          "base_uri": "https://localhost:8080/"
        },
        "id": "Y6icSjrMriRv",
        "outputId": "1677822b-5673-4f17-faba-52b5fdf32337"
      },
      "source": [
        "print(findThreeLargestNumbers(array))"
      ],
      "execution_count": 3,
      "outputs": [
        {
          "output_type": "stream",
          "name": "stdout",
          "text": [
            "[18, 141, 541]\n"
          ]
        }
      ]
    },
    {
      "cell_type": "markdown",
      "metadata": {
        "id": "v2NWcbJrxXgA"
      },
      "source": [
        "## Solution (shift & update)"
      ]
    },
    {
      "cell_type": "code",
      "metadata": {
        "id": "D6zMhM18xWca"
      },
      "source": [
        "def findThreeLargestNumbers(array):\n",
        "  lasgest_three = [float('-inf')] * 3\n",
        "  for num in array:\n",
        "    if num > lasgest_three[2]:\n",
        "      lasgest_three = shift_and_update(lasgest_three, num, 2)\n",
        "\n",
        "    elif num > lasgest_three[1]:\n",
        "      lasgest_three = shift_and_update(lasgest_three, num, 1)\n",
        "\n",
        "    elif num > lasgest_three[0]:\n",
        "      lasgest_three = shift_and_update(lasgest_three, num, 0)\n",
        "  \n",
        "  return lasgest_three\n",
        "\n",
        "def shift_and_update(array, num, idx):\n",
        "  for i in range(idx + 1):\n",
        "    if i == idx:\n",
        "      array[i] = num\n",
        "    else:\n",
        "      array[i] = array[i+1]\n",
        "  return array"
      ],
      "execution_count": 4,
      "outputs": []
    },
    {
      "cell_type": "code",
      "metadata": {
        "id": "MEgrD5IfyrJz"
      },
      "source": [
        "array = [141, 1, 17, -7, -17, -27, 18, 541, 8, 7, 7]"
      ],
      "execution_count": 5,
      "outputs": []
    },
    {
      "cell_type": "code",
      "metadata": {
        "colab": {
          "base_uri": "https://localhost:8080/"
        },
        "id": "xaD5GDLUysKk",
        "outputId": "7e422559-f675-439b-8f20-b7a54717ee62"
      },
      "source": [
        "print(findThreeLargestNumbers(array))"
      ],
      "execution_count": 6,
      "outputs": [
        {
          "output_type": "stream",
          "name": "stdout",
          "text": [
            "[18, 141, 541]\n"
          ]
        }
      ]
    }
  ]
}