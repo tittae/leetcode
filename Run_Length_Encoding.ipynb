{
  "nbformat": 4,
  "nbformat_minor": 0,
  "metadata": {
    "colab": {
      "name": "Run-Length Encoding.ipynb",
      "provenance": [],
      "collapsed_sections": [],
      "authorship_tag": "ABX9TyOWDLvNzzM4ScwOf7q8X58r",
      "include_colab_link": true
    },
    "kernelspec": {
      "name": "python3",
      "display_name": "Python 3"
    },
    "language_info": {
      "name": "python"
    }
  },
  "cells": [
    {
      "cell_type": "markdown",
      "metadata": {
        "id": "view-in-github",
        "colab_type": "text"
      },
      "source": [
        "<a href=\"https://colab.research.google.com/github/tittae/leetcode/blob/main/Run_Length_Encoding.ipynb\" target=\"_parent\"><img src=\"https://colab.research.google.com/assets/colab-badge.svg\" alt=\"Open In Colab\"/></a>"
      ]
    },
    {
      "cell_type": "markdown",
      "metadata": {
        "id": "ure-0lvpOMSt"
      },
      "source": [
        "# Run-Length Encoding"
      ]
    },
    {
      "cell_type": "markdown",
      "metadata": {
        "id": "Xk6-xdW_OOhp"
      },
      "source": [
        "Write a function that takes in a non-empty string and returns its run-length encoding.\n",
        "\n",
        "From Wikipedia, \"run-length encoding is a form of lossless data compression in which runs of data are stored as a single data value and count, rather than as the original run.\" For this problem, a run of data is any sequence of consecutive, identical characters. So the run \"AAA\" would be run-length-encoded as \"3A\".\n",
        "\n",
        "To make things more complicated, however, the input string can contain all sorts of special characters, including numbers. And since encoded data must be decodable, this means that we can't naively run-length-encode long runs. For example, the run \"AAAAAAAAAAAA\" (12 As), can't naively be encoded as \"12A\", since this string can be decoded as either \"AAAAAAAAAAAA\" or \"1AA\". Thus, long runs (runs of 10 or more characters) should be encoded in a split fashion; the aforementioned run should be encoded as \"9A3A\"."
      ]
    },
    {
      "cell_type": "markdown",
      "metadata": {
        "id": "2G_fblVfOPbF"
      },
      "source": [
        "Sample Input\n",
        "\n",
        "```\n",
        "string = \"AAAAAAAAAAAAABBCCCCDD\"\n",
        "```\n",
        "\n"
      ]
    },
    {
      "cell_type": "markdown",
      "metadata": {
        "id": "nKyPCoryOVmy"
      },
      "source": [
        "Sample Output\n",
        "\n",
        "```\n",
        "\"9A4A2B4C2D\"\n",
        "```\n",
        "\n"
      ]
    },
    {
      "cell_type": "code",
      "metadata": {
        "id": "eqd68HR3ONV1"
      },
      "source": [
        "# Time O(n), Space O(n)\n",
        "\n",
        "def runLengthEncoding(string):\n",
        "\tencoded_string = []\n",
        "\tcurrent_char = string[0]\n",
        "\tcounter = 0\n",
        "\tfor char in string:\n",
        "\t\tif current_char == char and counter < 9:\n",
        "\t\t\tcounter += 1\n",
        "\t\telse:\n",
        "\t\t\tencoded_string.append(str(counter))\n",
        "\t\t\tencoded_string.append(current_char)\n",
        "\t\t\tcurrent_char = char\n",
        "\t\t\tcounter = 1\n",
        "\t# handle last char\n",
        "\tencoded_string.append(str(counter))\n",
        "\tencoded_string.append(current_char)\n",
        "\n",
        "\treturn ''.join(encoded_string)"
      ],
      "execution_count": 1,
      "outputs": []
    },
    {
      "cell_type": "code",
      "metadata": {
        "id": "uTZ7JKNCN8Wv"
      },
      "source": [
        "string = \"AAAAAAAAAAAAABBCCCCDD\""
      ],
      "execution_count": 2,
      "outputs": []
    },
    {
      "cell_type": "code",
      "metadata": {
        "colab": {
          "base_uri": "https://localhost:8080/"
        },
        "id": "sjcwJBj6Uuxb",
        "outputId": "80a3194a-206e-4d1b-9354-0fbb0017555e"
      },
      "source": [
        "print(runLengthEncoding(string))"
      ],
      "execution_count": 3,
      "outputs": [
        {
          "output_type": "stream",
          "name": "stdout",
          "text": [
            "9A4A2B4C2D\n"
          ]
        }
      ]
    }
  ]
}