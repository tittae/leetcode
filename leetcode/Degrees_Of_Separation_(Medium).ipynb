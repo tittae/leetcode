{
  "cells": [
    {
      "cell_type": "markdown",
      "metadata": {
        "colab_type": "text",
        "id": "view-in-github"
      },
      "source": [
        "<a href=\"https://colab.research.google.com/github/wisarootl/leetcode/blob/main/Degrees_Of_Separation_(Medium).ipynb\" target=\"_parent\"><img src=\"https://colab.research.google.com/assets/colab-badge.svg\" alt=\"Open In Colab\"/></a>"
      ]
    },
    {
      "cell_type": "markdown",
      "metadata": {
        "id": "sMtIO-wv93vK"
      },
      "source": [
        "# Degrees Of Separation"
      ]
    },
    {
      "cell_type": "markdown",
      "metadata": {
        "id": "J5sVbEcjoehT"
      },
      "source": [
        "From Wikipedia, the concept of six degrees of separation \"is the idea that all people are six, or fewer, social connections away from each other.\"\n",
        "\n",
        "For example, if Clement and Antoine are friends, they share one degree of separation. If Simon is Antoine's friend but not Clement's friend, then Clement and Simon share two degrees of separation, since they're connected by Antoine.\n",
        "\n",
        "You're given a directory of friends lists (a map of people's names pointing to lists of their friends' names) as well as the names of two people (found in the directory).\n",
        "\n",
        "Write a function that returns the name of the person (one of the two input names) that is more than six degrees of separation away from the fewest amount of people (in the directory).\n",
        "\n",
        "If both input persons have the same number of people who are more than six degrees of separation away, your function should return the empty string `\"\"`.\n",
        "\n",
        "Note that if Antoine is Clement's friend, it follows that Clement is Antoine's friend. Thus, if person A's name is found in person B's friends list, then person B's name will be found in person A's friends list."
      ]
    },
    {
      "cell_type": "markdown",
      "metadata": {
        "id": "dt0-oVn69cUU"
      },
      "source": [
        "Sample Input\n",
        "\n",
        "```\n",
        "friendsList = {\n",
        "  \"Aaron\": [\"Paul\"],\n",
        "  \"Akshay\": [],\n",
        "  \"Alex\": [\"Antoine\", \"Clement\", \"Ryan\", \"Simon\"],\n",
        "  \"Antoine\": [\"Alex\", \"Clement\", \"Simon\"],\n",
        "  \"Ayushi\": [\"Lee\"],\n",
        "  \"Changpeng\": [\"Kelly\", \"Sandeep\"],\n",
        "  \"Clement\": [\"Alex\", \"Antoine\", \"Sandeep\", \"Simon\"],\n",
        "  \"Hannah\": [\"Lexi\", \"Paul\", \"Sandeep\"],\n",
        "  \"James\": [\"Paul\"],\n",
        "  \"Kelly\": [\"Changpeng\", \"Molly\"],\n",
        "  \"Lee\": [\"Ayushi\", \"Molly\"],\n",
        "  \"Lexi\": [\"Hannah\"],\n",
        "  \"Molly\": [\"Kelly\", \"Lee\"],\n",
        "  \"Paul\": [\"Aaron\", \"James\", \"Hannah\"],\n",
        "  \"Ryan\": [\"Alex\"],\n",
        "  \"Sandeep\": [\"Changpeng\", \"Clement\", \"Hannah\"],\n",
        "  \"Simon\": [\"Alex\", \"Antoine\", \"Clement\"]\n",
        "},\n",
        "personOne = \"Antoine\"\n",
        "personTwo = \"Clement\"\n",
        "```\n",
        "\n"
      ]
    },
    {
      "cell_type": "markdown",
      "metadata": {
        "id": "KBe8XLCm9kHu"
      },
      "source": [
        "Sample Output\n",
        "\n",
        "```\n",
        "\"Clement\"\n",
        "// Neither Antoine nor Clement have any connection to Akshay.\n",
        "// Antoine is seven degrees of separation away from Ayushi.\n",
        "// So Clement only has one person who is more than six degrees of\n",
        "// separation away (Akshay), whereas Antoine has two (Akshay and Ayushi).\n",
        "```\n",
        "\n"
      ]
    },
    {
      "cell_type": "markdown",
      "metadata": {
        "id": "-CqSDCSk9nd5"
      },
      "source": [
        "# Solution"
      ]
    },
    {
      "cell_type": "markdown",
      "metadata": {
        "id": "tWEzzYkY9FTG"
      },
      "source": [
        "Apply BFS"
      ]
    },
    {
      "cell_type": "code",
      "execution_count": 1,
      "metadata": {
        "id": "jZu-k9FHs7yR"
      },
      "outputs": [],
      "source": [
        "# O(v + e) time | O(v) space\n",
        "# v = no. of people\n",
        "# e = no. of edge\n",
        "\n",
        "def degreesOfSeparation(friendsList, personOne, personTwo):\n",
        "  shortest_path_one = find_shortest_path(friendsList, personOne)\n",
        "  six_degree_count_one = count_more_than(shortest_path_one, 6)\n",
        "  shortest_path_two = find_shortest_path(friendsList, personTwo)\n",
        "  six_degree_count_two = count_more_than(shortest_path_two, 6)\n",
        "\n",
        "  if six_degree_count_one == six_degree_count_two: return ''\n",
        "  \n",
        "  return personOne if six_degree_count_one < six_degree_count_two else personTwo\n",
        "\n",
        "def count_more_than(shortest_path, threshold):\n",
        "  count = 0\n",
        "  for key, value in shortest_path.items():\n",
        "    if value > threshold:\n",
        "      count += 1\n",
        "  return count\n",
        "\n",
        "def find_shortest_path(friendsList, origin):\n",
        "  shortest_path = {key:float('inf') for key, value in friendsList.items()}\n",
        "\n",
        "  # we could use 'deque' (queue) to optimize pop(0)\n",
        "  fringe = [[origin, 0]]\n",
        "  visited = set()\n",
        "  while len(fringe) > 0:\n",
        "    front = fringe.pop(0)\n",
        "    shortest_path[front[0]] = front[1]\n",
        "\n",
        "    for friend in friendsList[front[0]]:\n",
        "      if friend in visited:\n",
        "        continue\n",
        "      visited.add(friend)\n",
        "      fringe.append([friend, front[1] + 1])\n",
        "  return shortest_path"
      ]
    },
    {
      "cell_type": "code",
      "execution_count": 2,
      "metadata": {
        "colab": {
          "base_uri": "https://localhost:8080/",
          "height": 35
        },
        "id": "lpyWPUYy8oYB",
        "outputId": "bb78c982-349f-40c5-a7d1-45ff9f0b4354"
      },
      "outputs": [
        {
          "data": {
            "application/vnd.google.colaboratory.intrinsic+json": {
              "type": "string"
            },
            "text/plain": [
              "'Clement'"
            ]
          },
          "execution_count": 2,
          "metadata": {},
          "output_type": "execute_result"
        }
      ],
      "source": [
        "friendsList = {\n",
        "  \"Aaron\": [\"Paul\"],\n",
        "  \"Akshay\": [],\n",
        "  \"Alex\": [\"Antoine\", \"Clement\", \"Ryan\", \"Simon\"],\n",
        "  \"Antoine\": [\"Alex\", \"Clement\", \"Simon\"],\n",
        "  \"Ayushi\": [\"Lee\"],\n",
        "  \"Changpeng\": [\"Kelly\", \"Sandeep\"],\n",
        "  \"Clement\": [\"Alex\", \"Antoine\", \"Sandeep\", \"Simon\"],\n",
        "  \"Hannah\": [\"Lexi\", \"Paul\", \"Sandeep\"],\n",
        "  \"James\": [\"Paul\"],\n",
        "  \"Kelly\": [\"Changpeng\", \"Molly\"],\n",
        "  \"Lee\": [\"Ayushi\", \"Molly\"],\n",
        "  \"Lexi\": [\"Hannah\"],\n",
        "  \"Molly\": [\"Kelly\", \"Lee\"],\n",
        "  \"Paul\": [\"Aaron\", \"James\", \"Hannah\"],\n",
        "  \"Ryan\": [\"Alex\"],\n",
        "  \"Sandeep\": [\"Changpeng\", \"Clement\", \"Hannah\"],\n",
        "  \"Simon\": [\"Alex\", \"Antoine\", \"Clement\"]\n",
        "}\n",
        "personOne = \"Antoine\"\n",
        "personTwo = \"Clement\"\n",
        "degreesOfSeparation(friendsList, personOne, personTwo)"
      ]
    },
    {
      "cell_type": "code",
      "execution_count": 3,
      "metadata": {
        "colab": {
          "base_uri": "https://localhost:8080/",
          "height": 35
        },
        "id": "vUb6QiQbxyde",
        "outputId": "b66c4c64-e538-4497-e01e-2e2e0923506f"
      },
      "outputs": [
        {
          "data": {
            "application/vnd.google.colaboratory.intrinsic+json": {
              "type": "string"
            },
            "text/plain": [
              "''"
            ]
          },
          "execution_count": 3,
          "metadata": {},
          "output_type": "execute_result"
        }
      ],
      "source": [
        "friendsList = {\n",
        "    \"Aaron\": [\"Amanda\", \"James\", \"Aditya\", \"Ryan\"],\n",
        "    \"Aditya\": [\"Aaron\", \"Jon\", \"Mei\", \"Sam\", \"Sandeep\"],\n",
        "    \"Akshay\": [\"Hannah\"],\n",
        "    \"Alex\": [\"Amanda\", \"Xi\"],\n",
        "    \"Amanda\": [\"Alex\", \"Eric\", \"Aaron\"],\n",
        "    \"Antoine\": [],\n",
        "    \"Ayushi\": [\"Eric\"],\n",
        "    \"Beyonce\": [\"Justin\", \"Lee\", \"Molly\"],\n",
        "    \"Brandon\": [\"Clement\", \"Tony\", \"Sam\"],\n",
        "    \"Changpeng\": [\"Charlie\"],\n",
        "    \"Charlie\": [\"Changpeng\", \"Sam\"],\n",
        "    \"Clement\": [\"Brandon\"],\n",
        "    \"Eric\": [\"Ayushi\", \"Amanda\", \"Kelly\"],\n",
        "    \"Hannah\": [\"Simon\", \"Akshay\"],\n",
        "    \"James\": [\"Aaron\", \"Shakira\", \"Xi\"],\n",
        "    \"Jean\": [\"Justin\", \"Ryan\"],\n",
        "    \"Jon\": [\"Kelly\", \"Aditya\", \"Sam\"],\n",
        "    \"Justin\": [\"Beyonce\", \"Mei\", \"Jean\"],\n",
        "    \"Kelly\": [\"Eric\", \"Jon\", \"Steve\"],\n",
        "    \"Kunal\": [\"Lexi\"],\n",
        "    \"Lee\": [\"Beyonce\", \"Ryan\", \"Steve\"],\n",
        "    \"Lexi\": [\"Kunal\"],\n",
        "    \"Mei\": [\"Pedro\", \"Aditya\", \"Justin\", \"Penny\"],\n",
        "    \"Molly\": [\"Beyonce\", \"Muhammad\", \"Pedro\"],\n",
        "    \"Muhammad\": [\"Molly\"],\n",
        "    \"Nirali\": [\"Sam\"],\n",
        "    \"Pedro\": [\"Molly\", \"Tony\", \"Mei\"],\n",
        "    \"Penny\": [\"Mei\"],\n",
        "    \"Ryan\": [\"Aaron\", \"Jean\", \"Lee\"],\n",
        "    \"Sam\": [\"Aditya\", \"Brandon\", \"Charlie\", \"Jon\", \"Nirali\"],\n",
        "    \"Sandeep\": [\"Aditya\", \"Xi\", \"Shakira\"],\n",
        "    \"Saurabh\": [],\n",
        "    \"Shakira\": [\"James\", \"Sandeep\"],\n",
        "    \"Simon\": [\"Hannah\", \"Tony\"],\n",
        "    \"Steve\": [\"Kelly\", \"Lee\"],\n",
        "    \"Tony\": [\"Simon\", \"Brandon\", \"Pedro\"],\n",
        "    \"Xi\": [\"Alex\", \"James\", \"Sandeep\"]\n",
        "}\n",
        "personOne = \"James\"\n",
        "personTwo = \"Xi\"\n",
        "degreesOfSeparation(friendsList, personOne, personTwo)"
      ]
    }
  ],
  "metadata": {
    "colab": {
      "authorship_tag": "ABX9TyPf1Cd16wK2p4waonFFfT3j",
      "include_colab_link": true,
      "name": "Degrees Of Separation (Medium).ipynb",
      "provenance": []
    },
    "kernelspec": {
      "display_name": "Python 3",
      "name": "python3"
    },
    "language_info": {
      "name": "python"
    }
  },
  "nbformat": 4,
  "nbformat_minor": 0
}
