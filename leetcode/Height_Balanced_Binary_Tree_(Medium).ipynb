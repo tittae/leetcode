{
  "cells": [
    {
      "cell_type": "markdown",
      "metadata": {
        "colab_type": "text",
        "id": "view-in-github"
      },
      "source": [
        "<a href=\"https://colab.research.google.com/github/wisarootl/leetcode/blob/main/Height_Balanced_Binary_Tree_(Medium).ipynb\" target=\"_parent\"><img src=\"https://colab.research.google.com/assets/colab-badge.svg\" alt=\"Open In Colab\"/></a>"
      ]
    },
    {
      "cell_type": "markdown",
      "metadata": {
        "id": "RiDkldeqyi5s"
      },
      "source": [
        "# Height Balanced Binary Tree"
      ]
    },
    {
      "cell_type": "markdown",
      "metadata": {
        "id": "i7lVajtXyiRP"
      },
      "source": [
        "You're given the root node of a Binary Tree. Write a function that returns `true `if this Binary Tree is height balanced and `false` if it isn't.\n",
        "\n",
        "A Binary Tree is height balanced if for each node in the tree, the difference between the height of its left subtree and the height of its right subtree is at most `1`.\n",
        "\n",
        "Each `BinaryTree` node has an integer `value`, a `left` child node, and a `right` child node. Children nodes can either be `BinaryTree` nodes themselves or `None` / `null`."
      ]
    },
    {
      "cell_type": "markdown",
      "metadata": {
        "id": "HZA9Fwemy2l5"
      },
      "source": [
        "Sample Input\n",
        "\n",
        "```\n",
        "tree = 1\n",
        "     /   \\\n",
        "    2     3\n",
        "  /   \\     \\\n",
        " 4     5     6\n",
        "     /   \\\n",
        "    7     8\n",
        "```\n",
        "\n"
      ]
    },
    {
      "cell_type": "markdown",
      "metadata": {
        "id": "fquO0fvLy4Xl"
      },
      "source": [
        "Sample Output\n",
        "\n",
        "```\n",
        "true\n",
        "```\n",
        "\n"
      ]
    },
    {
      "cell_type": "code",
      "execution_count": 1,
      "metadata": {
        "id": "xo6eq46xxsIg"
      },
      "outputs": [],
      "source": [
        "# This is an input class. Do not edit.\n",
        "class BinaryTree:\n",
        "\tdef __init__(self, value, left=None, right=None):\n",
        "\t\tself.value = value\n",
        "\t\tself.left = left\n",
        "\t\tself.right = right\n",
        "\n",
        "# Time O(n)\n",
        "# Space O(h)\n",
        "def heightBalancedBinaryTree(tree):\n",
        "\theight, balance = get_tree_info(tree)\n",
        "\treturn balance\n",
        "\n",
        "def get_tree_info(node):\n",
        "\tif node == None:\n",
        "\t\theight = 0\n",
        "\t\tbalance = True\n",
        "\t\treturn height, balance\n",
        "\n",
        "\tleft_tree_height, left_tree_balance = get_tree_info(node.left)\n",
        "\tright_tree_height, right_tree_balance = get_tree_info(node.right)\n",
        "\tbalance = is_balance(left_tree_height, left_tree_balance, right_tree_height, right_tree_balance)\n",
        "\theight = max(left_tree_height, right_tree_height) + 1\n",
        "\treturn height, balance\n",
        "\n",
        "def is_balance(left_tree_height, left_tree_balance, right_tree_height, right_tree_balance):\n",
        "\tif abs(left_tree_height - right_tree_height) <= 1 and left_tree_balance and right_tree_balance:\n",
        "\t\treturn True\n",
        "\treturn False"
      ]
    },
    {
      "cell_type": "code",
      "execution_count": 2,
      "metadata": {
        "colab": {
          "base_uri": "https://localhost:8080/"
        },
        "id": "hEbTT4aJxw3H",
        "outputId": "dc18cbde-111e-46dd-d1c2-dbacab2f313b"
      },
      "outputs": [
        {
          "data": {
            "text/plain": [
              "True"
            ]
          },
          "execution_count": 2,
          "metadata": {},
          "output_type": "execute_result"
        }
      ],
      "source": [
        "tree = BinaryTree(1)\n",
        "tree.left = BinaryTree(2)\n",
        "tree.right = BinaryTree(3)\n",
        "tree.left.left = BinaryTree(4)\n",
        "tree.left.right = BinaryTree(5)\n",
        "tree.right.right = BinaryTree(6)\n",
        "tree.left.right.left = BinaryTree(7)\n",
        "tree.left.right.right = BinaryTree(8)\n",
        "heightBalancedBinaryTree(tree)"
      ]
    },
    {
      "cell_type": "code",
      "execution_count": 3,
      "metadata": {
        "colab": {
          "base_uri": "https://localhost:8080/"
        },
        "id": "zGYycPIHyICD",
        "outputId": "1cc209e1-995f-432c-a02b-f4f167b61d66"
      },
      "outputs": [
        {
          "data": {
            "text/plain": [
              "False"
            ]
          },
          "execution_count": 3,
          "metadata": {},
          "output_type": "execute_result"
        }
      ],
      "source": [
        "tree = BinaryTree(1)\n",
        "tree.left = BinaryTree(2)\n",
        "tree.right = BinaryTree(3)\n",
        "tree.left.left = BinaryTree(4)\n",
        "tree.left.right = BinaryTree(5)\n",
        "tree.right.right = BinaryTree(6)\n",
        "tree.left.right.left = BinaryTree(7)\n",
        "tree.left.right.right = BinaryTree(8)\n",
        "tree.right.right.left = BinaryTree(9)\n",
        "tree.right.right.right = BinaryTree(10)\n",
        "heightBalancedBinaryTree(tree)"
      ]
    }
  ],
  "metadata": {
    "colab": {
      "authorship_tag": "ABX9TyPUvVoA74WWVfJbAwsyg1GL",
      "collapsed_sections": [],
      "include_colab_link": true,
      "name": "Height Balanced Binary Tree (Medium).ipynb",
      "provenance": []
    },
    "kernelspec": {
      "display_name": "Python 3",
      "language": "python",
      "name": "python3"
    },
    "language_info": {
      "codemirror_mode": {
        "name": "ipython",
        "version": 3
      },
      "file_extension": ".py",
      "mimetype": "text/x-python",
      "name": "python",
      "nbconvert_exporter": "python",
      "pygments_lexer": "ipython3",
      "version": "3.10.5"
    },
    "vscode": {
      "interpreter": {
        "hash": "992441bd4bc11ab83c63537935ea198062f55180155eaba570b8d7c82e005e8c"
      }
    }
  },
  "nbformat": 4,
  "nbformat_minor": 0
}
