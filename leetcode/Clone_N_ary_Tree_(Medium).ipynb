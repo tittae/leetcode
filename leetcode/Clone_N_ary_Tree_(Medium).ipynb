{
  "nbformat": 4,
  "nbformat_minor": 0,
  "metadata": {
    "colab": {
      "name": "Clone N-ary Tree (Medium).ipynb",
      "provenance": [],
      "authorship_tag": "ABX9TyP0ihp9UC5AyeTm5MYVuLdi",
      "include_colab_link": true
    },
    "kernelspec": {
      "name": "python3",
      "display_name": "Python 3"
    },
    "language_info": {
      "name": "python"
    }
  },
  "cells": [
    {
      "cell_type": "markdown",
      "metadata": {
        "id": "view-in-github",
        "colab_type": "text"
      },
      "source": [
        "<a href=\"https://colab.research.google.com/github/wisarootl/leetcode/blob/main/Clone_N_ary_Tree_(Medium).ipynb\" target=\"_parent\"><img src=\"https://colab.research.google.com/assets/colab-badge.svg\" alt=\"Open In Colab\"/></a>"
      ]
    },
    {
      "cell_type": "markdown",
      "source": [
        "# Clone N-ary Tree"
      ],
      "metadata": {
        "id": "80W-wAiuyjKV"
      }
    },
    {
      "cell_type": "markdown",
      "source": [
        "Given a root of an N-ary tree, return a deep copy (clone) of the tree.\n",
        "\n",
        "Each node in the n-ary tree contains a val (int) and a list (List[Node]) of its children.\n",
        "\n",
        "```\n",
        "class Node {\n",
        "    public int val;\n",
        "    public List<Node> children;\n",
        "}\n",
        "```\n",
        "\n",
        "\n",
        "Nary-Tree input serialization is represented in their level order traversal, each group of children is separated by the null value (See examples)."
      ],
      "metadata": {
        "id": "Tr4FGCzOypwS"
      }
    },
    {
      "cell_type": "markdown",
      "source": [
        "# Solution 1: Recursive"
      ],
      "metadata": {
        "id": "RxSkXGUCvIw-"
      }
    },
    {
      "cell_type": "code",
      "execution_count": 1,
      "metadata": {
        "id": "ABZg6GFcvHE0"
      },
      "outputs": [],
      "source": [
        "class Node:\n",
        "    def __init__(self, val=None, children=None):\n",
        "        self.val = val\n",
        "        self.children = children if children is not None else []\n",
        "\n",
        "# Time = O(N)\n",
        "# Space = O(N) for imbalance tree (tree is line)\n",
        "# N is number of node in tree\n",
        "class Solution:\n",
        "    def cloneTree(self, root: 'Node') -> 'Node':\n",
        "        if root == None:\n",
        "            return root\n",
        "        copied_node = Node(root.val)\n",
        "        for child in root.children:\n",
        "            copied_node.children.append(self.cloneTree(child))\n",
        "        return copied_node"
      ]
    },
    {
      "cell_type": "markdown",
      "source": [
        "# Solution 2: DFS"
      ],
      "metadata": {
        "id": "6B0XiGR7x-Mj"
      }
    },
    {
      "cell_type": "code",
      "source": [
        "class Node:\n",
        "    def __init__(self, val=None, children=None):\n",
        "        self.val = val\n",
        "        self.children = children if children is not None else []\n",
        "\n",
        "# Time = O(M)\n",
        "# Space = O(log M, base N) = O(log M)\n",
        "# Exclude space in output for space complexity analysis (common convention)\n",
        "# Space = depth of tree\n",
        "# When N-ary tree is imbalance (tree is a line) Space is constant for DFS\n",
        "\n",
        "class Solution:\n",
        "    def cloneTree(self, root: 'Node') -> 'Node':\n",
        "        if root == None:\n",
        "            return root\n",
        "        \n",
        "        copied_root = Node(root.val)\n",
        "        fringe = [[root, copied_root]]\n",
        "        \n",
        "        while len(fringe) > 0:\n",
        "            old_node, copied_node = fringe.pop()\n",
        "            for child in old_node.children:\n",
        "                copied_children_node = Node(child.val)\n",
        "                copied_node.children.append(copied_children_node)\n",
        "                fringe.append([child, copied_children_node])\n",
        "        \n",
        "        return copied_root"
      ],
      "metadata": {
        "id": "jsJ0byBevRq5"
      },
      "execution_count": 2,
      "outputs": []
    }
  ]
}