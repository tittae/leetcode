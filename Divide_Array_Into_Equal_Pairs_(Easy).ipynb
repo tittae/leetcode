{
  "nbformat": 4,
  "nbformat_minor": 0,
  "metadata": {
    "colab": {
      "name": "Divide Array Into Equal Pairs (Easy).ipynb",
      "provenance": [],
      "authorship_tag": "ABX9TyNGfOy9dAbvlUqMO3UU2KGj",
      "include_colab_link": true
    },
    "kernelspec": {
      "name": "python3",
      "display_name": "Python 3"
    },
    "language_info": {
      "name": "python"
    }
  },
  "cells": [
    {
      "cell_type": "markdown",
      "metadata": {
        "id": "view-in-github",
        "colab_type": "text"
      },
      "source": [
        "<a href=\"https://colab.research.google.com/github/wisarootl/leetcode/blob/main/Divide_Array_Into_Equal_Pairs_(Easy).ipynb\" target=\"_parent\"><img src=\"https://colab.research.google.com/assets/colab-badge.svg\" alt=\"Open In Colab\"/></a>"
      ]
    },
    {
      "cell_type": "markdown",
      "source": [
        "# Divide Array Into Equal Pairs"
      ],
      "metadata": {
        "id": "jLoHdzf18Xgs"
      }
    },
    {
      "cell_type": "markdown",
      "source": [
        "You are given an integer array nums consisting of 2 * n integers.\n",
        "\n",
        "You need to divide nums into n pairs such that:\n",
        "\n",
        "- Each element belongs to exactly one pair.\n",
        "- The elements present in a pair are equal.\n",
        "\n",
        "Return true if nums can be divided into n pairs, otherwise return false."
      ],
      "metadata": {
        "id": "D9_jTEAO8aV2"
      }
    },
    {
      "cell_type": "markdown",
      "source": [
        "Example 1:\n",
        "\n",
        "```\n",
        "Input: nums = [3,2,3,2,2,2]\n",
        "Output: true\n",
        "Explanation: \n",
        "There are 6 elements in nums, so they should be divided into 6 / 2 = 3 pairs.\n",
        "If nums is divided into the pairs (2, 2), (3, 3), and (2, 2), it will satisfy all the conditions.\n",
        "```\n",
        "\n"
      ],
      "metadata": {
        "id": "91cQX9jN8cvF"
      }
    },
    {
      "cell_type": "markdown",
      "source": [
        "Example 2:\n",
        "\n",
        "```\n",
        "Input: nums = [1,2,3,4]\n",
        "Output: false\n",
        "Explanation: \n",
        "There is no way to divide nums into 4 / 2 = 2 pairs such that the pairs satisfy every condition.\n",
        "```\n",
        "\n"
      ],
      "metadata": {
        "id": "ss9UZgHZ8fGz"
      }
    },
    {
      "cell_type": "markdown",
      "source": [
        "Constraints:\n",
        "\n",
        "```\n",
        "nums.length == 2 * n\n",
        "1 <= n <= 500\n",
        "1 <= nums[i] <= 500\n",
        "```\n",
        "\n"
      ],
      "metadata": {
        "id": "I5kaC1WX8iCR"
      }
    },
    {
      "cell_type": "markdown",
      "source": [
        "# Solution"
      ],
      "metadata": {
        "id": "ACRzlRgg8261"
      }
    },
    {
      "cell_type": "code",
      "execution_count": 1,
      "metadata": {
        "id": "1vaMnQCq8AAq"
      },
      "outputs": [],
      "source": [
        "class Solution:\n",
        "    def divideArray(self, nums):\n",
        "        counter = {}\n",
        "        for num in nums:\n",
        "            if num not in counter:\n",
        "                counter[num] = 0\n",
        "            counter[num] += 1\n",
        "        \n",
        "        for key, value in counter.items():\n",
        "            if value%2 != 0:\n",
        "                return False\n",
        "        \n",
        "        return True"
      ]
    },
    {
      "cell_type": "code",
      "source": [
        "nums = [3,2,3,2,2,2]\n",
        "expected = True\n",
        "\n",
        "output = Solution().divideArray(nums)\n",
        "print(output)\n",
        "assert output == expected"
      ],
      "metadata": {
        "colab": {
          "base_uri": "https://localhost:8080/"
        },
        "id": "7v-PxBu88lnb",
        "outputId": "6bfc5e61-cd6a-4277-c36e-078535478748"
      },
      "execution_count": 2,
      "outputs": [
        {
          "output_type": "stream",
          "name": "stdout",
          "text": [
            "True\n"
          ]
        }
      ]
    },
    {
      "cell_type": "code",
      "source": [
        "nums = [1,2,3,4]\n",
        "expected = False\n",
        "\n",
        "output = Solution().divideArray(nums)\n",
        "print(output)\n",
        "assert output == expected"
      ],
      "metadata": {
        "colab": {
          "base_uri": "https://localhost:8080/"
        },
        "id": "H9dm4pLg80BG",
        "outputId": "fa65c5e2-c4c3-40fa-c8cc-0ec87f75c83e"
      },
      "execution_count": 3,
      "outputs": [
        {
          "output_type": "stream",
          "name": "stdout",
          "text": [
            "False\n"
          ]
        }
      ]
    }
  ]
}