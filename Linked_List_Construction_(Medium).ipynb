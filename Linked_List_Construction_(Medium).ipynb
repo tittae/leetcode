{
  "nbformat": 4,
  "nbformat_minor": 0,
  "metadata": {
    "colab": {
      "name": "Linked List Construction (Medium).ipynb",
      "provenance": [],
      "collapsed_sections": [],
      "authorship_tag": "ABX9TyOHw5nMy11YbkpIozenNWUj",
      "include_colab_link": true
    },
    "kernelspec": {
      "name": "python3",
      "display_name": "Python 3"
    },
    "language_info": {
      "name": "python"
    }
  },
  "cells": [
    {
      "cell_type": "markdown",
      "metadata": {
        "id": "view-in-github",
        "colab_type": "text"
      },
      "source": [
        "<a href=\"https://colab.research.google.com/github/wisarootl/leetcode/blob/main/Linked_List_Construction_(Medium).ipynb\" target=\"_parent\"><img src=\"https://colab.research.google.com/assets/colab-badge.svg\" alt=\"Open In Colab\"/></a>"
      ]
    },
    {
      "cell_type": "markdown",
      "source": [
        "# Linked List Construction"
      ],
      "metadata": {
        "id": "_Pjz0lqN3LDM"
      }
    },
    {
      "cell_type": "markdown",
      "source": [
        "Write a `DoublyLinkedList` class that has a `head` and a `tail`, both of which point to either a linked list `Node` or `None` / `null`. The class should support:\n",
        "\n",
        "- Setting the head and tail of the linked list.\n",
        "- Inserting nodes before and after other nodes as well as at given positions (the position of the head node is `1`).\n",
        "- Removing given nodes and removing nodes with given values.\n",
        "- Searching for nodes with given values.\n",
        "\n",
        "Note that the `setHead`, `setTail`, `insertBefore`, `insertAfter`, `insertAtPosition`, and `remove` methods all take in actual Nodes as input parameters—not integers (except for `insertAtPosition`, which also takes in an integer representing the position); this means that you don't need to create any new `Node`s in these methods. The input nodes can be either stand-alone nodes or nodes that are already in the linked list. If they're nodes that are already in the linked list, the methods will effectively be moving the nodes within the linked list. You won't be told if the input nodes are already in the linked list, so your code will have to defensively handle this scenario.\n",
        "\n",
        "If you're doing this problem in an untyped language like Python or JavaScript, you may want to look at the various function signatures in a typed language like Java or TypeScript to get a better idea of what each input parameter is.\n",
        "\n",
        "Each `Node` has an integer `value` as well as a `prev` node and a `next` node, both of which can point to either another node or `None` / `null`."
      ],
      "metadata": {
        "id": "5PeguEd43MRw"
      }
    },
    {
      "cell_type": "markdown",
      "source": [
        "Sample Usage\n",
        "\n",
        "```\n",
        "// Assume the following linked list has already been created:\n",
        "1 <-> 2 <-> 3 <-> 4 <-> 5\n",
        "// Assume that we also have the following stand-alone nodes:\n",
        "3, 3, 6\n",
        "setHead(4): 4 <-> 1 <-> 2 <-> 3 <-> 5 // set the existing node with value 4 as the head\n",
        "setTail(6): 4 <-> 1 <-> 2 <-> 3 <-> 5 <-> 6 // set the stand-alone node with value 6 as the tail\n",
        "insertBefore(6, 3): 4 <-> 1 <-> 2 <-> 5 <-> 3 <-> 6 // move the existing node with value 3 before the existing node with value 6\n",
        "insertAfter(6, 3): 4 <-> 1 <-> 2 <-> 5 <-> 3 <-> 6 <-> 3 // insert a stand-alone node with value 3 after the existing node with value 6\n",
        "insertAtPosition(1, 3): 3 <-> 4 <-> 1 <-> 2 <-> 5 <-> 3 <-> 6 <-> 3 // insert a stand-alone node with value 3 in position 1\n",
        "removeNodesWithValue(3): 4 <-> 1 <-> 2 <-> 5 <-> 6 // remove all nodes with value 3\n",
        "remove(2): 4 <-> 1 <-> 5 <-> 6 // remove the existing node with value 2\n",
        "containsNodeWithValue(5): true\n",
        "```\n",
        "\n"
      ],
      "metadata": {
        "id": "T9bbKeBH3qj-"
      }
    },
    {
      "cell_type": "code",
      "execution_count": 1,
      "metadata": {
        "id": "DgcHmL6rhjEC"
      },
      "outputs": [],
      "source": [
        "# This is an input class. Do not edit.\n",
        "class Node:\n",
        "    def __init__(self, value):\n",
        "        self.value = value\n",
        "        self.prev = None\n",
        "        self.next = None\n",
        "\n",
        "# Feel free to add new properties and methods to the class.\n",
        "class DoublyLinkedList:\n",
        "    def __init__(self):\n",
        "        self.head = None\n",
        "        self.tail = None\n",
        "\n",
        "    def setHead(self, node):\n",
        "        if self.head == None:\n",
        "          self.head = node\n",
        "          self.tail = node\n",
        "        else:\n",
        "          self.insertBefore(self.head, node)\n",
        "\n",
        "    def setTail(self, node):\n",
        "        if self.tail == None:\n",
        "          self.setHead(node)\n",
        "        else:\n",
        "          self.insertAfter(self.tail, node)\n",
        "\n",
        "    def insertBefore(self, node, nodeToInsert):\n",
        "        self.remove(nodeToInsert)\n",
        "        nodeToInsert.prev = node.prev\n",
        "        nodeToInsert.next = node\n",
        "        if node == self.head:\n",
        "          self.head = nodeToInsert\n",
        "        else:\n",
        "          node.prev.next = nodeToInsert\n",
        "        node.prev = nodeToInsert\n",
        "\n",
        "    def insertAfter(self, node, nodeToInsert):\n",
        "        self.remove(nodeToInsert)\n",
        "        nodeToInsert.next = node.next\n",
        "        nodeToInsert.prev = node\n",
        "        if node == self.tail:\n",
        "          self.tail = nodeToInsert\n",
        "        else:\n",
        "          node.next.prev = nodeToInsert\n",
        "        node.next = nodeToInsert\n",
        "\n",
        "    def insertAtPosition(self, position, nodeToInsert):\n",
        "        if position == 1:\n",
        "          self.setHead(nodeToInsert)\n",
        "          return\n",
        "        node = self.head\n",
        "        current_position = 1\n",
        "        while node != None and current_position < position:\n",
        "          node = node.next\n",
        "          current_position += 1\n",
        "        if node != None:\n",
        "          self.insertBefore(node, nodeToInsert)\n",
        "        else:\n",
        "          self.setTail(nodeToInsert)\n",
        "\n",
        "    def removeNodesWithValue(self, value):\n",
        "        node = self.head\n",
        "        while node != None:\n",
        "          node_to_remove = node\n",
        "          node = node.next\n",
        "          if node_to_remove.value == value:\n",
        "            self.remove(node_to_remove)\n",
        "\n",
        "    def remove(self, node):\n",
        "        if node == self.head:\n",
        "          self.head = node.next\n",
        "        if node == self.tail:\n",
        "          self.tail = node.prev\n",
        "        if node.prev != None:\n",
        "          node.prev.next = node.next\n",
        "        if node.next != None:\n",
        "          node.next.prev = node.prev\n",
        "        node.next = None\n",
        "        node.prev = None\n",
        "\n",
        "    def containsNodeWithValue(self, value):\n",
        "        node = self.head\n",
        "        while node != None:\n",
        "          if node.value == value:\n",
        "            return True\n",
        "          node = node.next\n",
        "        return False"
      ]
    },
    {
      "cell_type": "code",
      "source": [
        "def print_doubly_linked_list(doubly_linked_list):\n",
        "  print('head to tail')\n",
        "  node = doubly_linked_list.head\n",
        "  while node != None:\n",
        "    print(node.value, end = '')\n",
        "    node = node.next\n",
        "    if node != None:\n",
        "      print(' <-> ', end = '')\n",
        "  \n",
        "  print('\\n')\n",
        "  print('tail to head')\n",
        "  node = doubly_linked_list.tail\n",
        "  while node != None:\n",
        "    print(node.value, end = '')\n",
        "    node = node.prev\n",
        "    if node != None:\n",
        "      print(' <-> ', end = '')\n"
      ],
      "metadata": {
        "id": "MsEPPksG0AK_"
      },
      "execution_count": 2,
      "outputs": []
    },
    {
      "cell_type": "code",
      "source": [
        "# // Assume the following linked list has already been created:\n",
        "# 1 <-> 2 <-> 3 <-> 4 <-> 5\n",
        "\n",
        "liked_list = DoublyLinkedList()\n",
        "liked_list.setHead(Node(1))\n",
        "liked_list.insertAfter(liked_list.head, Node(2))\n",
        "liked_list.insertAfter(liked_list.head.next, Node(3))\n",
        "liked_list.insertAfter(liked_list.head.next.next, Node(4))\n",
        "liked_list.insertAfter(liked_list.head.next.next.next, Node(5))\n",
        "print_doubly_linked_list(liked_list)"
      ],
      "metadata": {
        "colab": {
          "base_uri": "https://localhost:8080/"
        },
        "id": "mpyD1kJVtKYz",
        "outputId": "a5b92dcd-9f62-4702-dab2-3cee678b1c0e"
      },
      "execution_count": 3,
      "outputs": [
        {
          "output_type": "stream",
          "name": "stdout",
          "text": [
            "head to tail\n",
            "1 <-> 2 <-> 3 <-> 4 <-> 5\n",
            "\n",
            "tail to head\n",
            "5 <-> 4 <-> 3 <-> 2 <-> 1"
          ]
        }
      ]
    },
    {
      "cell_type": "code",
      "source": [
        "# setHead(4): 4 <-> 1 <-> 2 <-> 3 <-> 5 // set the existing node with value 4 as the head\n",
        "liked_list.setHead(liked_list.head.next.next.next)\n",
        "print_doubly_linked_list(liked_list)"
      ],
      "metadata": {
        "colab": {
          "base_uri": "https://localhost:8080/"
        },
        "id": "8HUB5a9u07bQ",
        "outputId": "7f3c89d8-f60c-4d2b-df4d-50e04041cde7"
      },
      "execution_count": 4,
      "outputs": [
        {
          "output_type": "stream",
          "name": "stdout",
          "text": [
            "head to tail\n",
            "4 <-> 1 <-> 2 <-> 3 <-> 5\n",
            "\n",
            "tail to head\n",
            "5 <-> 3 <-> 2 <-> 1 <-> 4"
          ]
        }
      ]
    },
    {
      "cell_type": "code",
      "source": [
        "# setTail(6): 4 <-> 1 <-> 2 <-> 3 <-> 5 <-> 6 // set the stand-alone node with value 6 as the tail\n",
        "liked_list.setTail(Node(6))\n",
        "print_doubly_linked_list(liked_list)"
      ],
      "metadata": {
        "colab": {
          "base_uri": "https://localhost:8080/"
        },
        "id": "TVCkYXXX1u8-",
        "outputId": "847469f0-4ffa-48df-fcf0-82879dbbbd23"
      },
      "execution_count": 5,
      "outputs": [
        {
          "output_type": "stream",
          "name": "stdout",
          "text": [
            "head to tail\n",
            "4 <-> 1 <-> 2 <-> 3 <-> 5 <-> 6\n",
            "\n",
            "tail to head\n",
            "6 <-> 5 <-> 3 <-> 2 <-> 1 <-> 4"
          ]
        }
      ]
    },
    {
      "cell_type": "code",
      "source": [
        "# insertBefore(6, 3): 4 <-> 1 <-> 2 <-> 5 <-> 3 <-> 6 // move the existing node with value 3 before the existing node with value 6\n",
        "liked_list.insertBefore(liked_list.tail, liked_list.tail.prev.prev)\n",
        "print_doubly_linked_list(liked_list)"
      ],
      "metadata": {
        "colab": {
          "base_uri": "https://localhost:8080/"
        },
        "id": "OruAyFKZ1TON",
        "outputId": "5ef55b61-0873-4627-d43c-cb88f0baecb2"
      },
      "execution_count": 6,
      "outputs": [
        {
          "output_type": "stream",
          "name": "stdout",
          "text": [
            "head to tail\n",
            "4 <-> 1 <-> 2 <-> 5 <-> 3 <-> 6\n",
            "\n",
            "tail to head\n",
            "6 <-> 3 <-> 5 <-> 2 <-> 1 <-> 4"
          ]
        }
      ]
    },
    {
      "cell_type": "code",
      "source": [
        "# insertAfter(6, 3): 4 <-> 1 <-> 2 <-> 5 <-> 3 <-> 6 <-> 3 // insert a stand-alone node with value 3 after the existing node with value 6\n",
        "liked_list.insertAfter(liked_list.tail, Node(3))\n",
        "print_doubly_linked_list(liked_list)"
      ],
      "metadata": {
        "colab": {
          "base_uri": "https://localhost:8080/"
        },
        "id": "7o-g_CuT2Xv0",
        "outputId": "cf06cafb-2a80-4736-db15-73212ddee59a"
      },
      "execution_count": 7,
      "outputs": [
        {
          "output_type": "stream",
          "name": "stdout",
          "text": [
            "head to tail\n",
            "4 <-> 1 <-> 2 <-> 5 <-> 3 <-> 6 <-> 3\n",
            "\n",
            "tail to head\n",
            "3 <-> 6 <-> 3 <-> 5 <-> 2 <-> 1 <-> 4"
          ]
        }
      ]
    },
    {
      "cell_type": "code",
      "source": [
        "# insertAtPosition(1, 3): 3 <-> 4 <-> 1 <-> 2 <-> 5 <-> 3 <-> 6 <-> 3 // insert a stand-alone node with value 3 in position 1\n",
        "liked_list.insertAtPosition(1, Node(3))\n",
        "print_doubly_linked_list(liked_list)"
      ],
      "metadata": {
        "colab": {
          "base_uri": "https://localhost:8080/"
        },
        "id": "Bgy0u7IY2iWK",
        "outputId": "1bc63dce-aa0b-48ce-c122-19385cfceea7"
      },
      "execution_count": 8,
      "outputs": [
        {
          "output_type": "stream",
          "name": "stdout",
          "text": [
            "head to tail\n",
            "3 <-> 4 <-> 1 <-> 2 <-> 5 <-> 3 <-> 6 <-> 3\n",
            "\n",
            "tail to head\n",
            "3 <-> 6 <-> 3 <-> 5 <-> 2 <-> 1 <-> 4 <-> 3"
          ]
        }
      ]
    },
    {
      "cell_type": "code",
      "source": [
        "# removeNodesWithValue(3): 4 <-> 1 <-> 2 <-> 5 <-> 6 // remove all nodes with value 3\n",
        "liked_list.removeNodesWithValue(3)\n",
        "print_doubly_linked_list(liked_list)"
      ],
      "metadata": {
        "colab": {
          "base_uri": "https://localhost:8080/"
        },
        "id": "USCz2gKd2rCf",
        "outputId": "95dda856-0b48-465e-8486-81ef8ab603f5"
      },
      "execution_count": 9,
      "outputs": [
        {
          "output_type": "stream",
          "name": "stdout",
          "text": [
            "head to tail\n",
            "4 <-> 1 <-> 2 <-> 5 <-> 6\n",
            "\n",
            "tail to head\n",
            "6 <-> 5 <-> 2 <-> 1 <-> 4"
          ]
        }
      ]
    },
    {
      "cell_type": "code",
      "source": [
        "# remove(2): 4 <-> 1 <-> 5 <-> 6 // remove the existing node with value 2\n",
        "liked_list.remove(liked_list.head.next.next)\n",
        "print_doubly_linked_list(liked_list)"
      ],
      "metadata": {
        "colab": {
          "base_uri": "https://localhost:8080/"
        },
        "id": "jcJ__PE42wS9",
        "outputId": "96907059-d9a5-4445-a8b1-6d531b582cc4"
      },
      "execution_count": 10,
      "outputs": [
        {
          "output_type": "stream",
          "name": "stdout",
          "text": [
            "head to tail\n",
            "4 <-> 1 <-> 5 <-> 6\n",
            "\n",
            "tail to head\n",
            "6 <-> 5 <-> 1 <-> 4"
          ]
        }
      ]
    },
    {
      "cell_type": "code",
      "source": [
        "# containsNodeWithValue(5): true\n",
        "liked_list.containsNodeWithValue(5)"
      ],
      "metadata": {
        "colab": {
          "base_uri": "https://localhost:8080/"
        },
        "id": "lfXZYDUP2-KZ",
        "outputId": "1972baf0-6139-46b8-cbe6-0b107a58b451"
      },
      "execution_count": 11,
      "outputs": [
        {
          "output_type": "execute_result",
          "data": {
            "text/plain": [
              "True"
            ]
          },
          "metadata": {},
          "execution_count": 11
        }
      ]
    }
  ]
}