{
  "nbformat": 4,
  "nbformat_minor": 0,
  "metadata": {
    "colab": {
      "name": "Apartment Hunting.ipynb",
      "provenance": [],
      "collapsed_sections": [],
      "authorship_tag": "ABX9TyN9Lr/dB7ahKIURYTgTl0m6",
      "include_colab_link": true
    },
    "kernelspec": {
      "name": "python3",
      "display_name": "Python 3"
    },
    "language_info": {
      "name": "python"
    }
  },
  "cells": [
    {
      "cell_type": "markdown",
      "metadata": {
        "id": "view-in-github",
        "colab_type": "text"
      },
      "source": [
        "<a href=\"https://colab.research.google.com/github/tittae/leetcode/blob/main/Apartment_Hunting.ipynb\" target=\"_parent\"><img src=\"https://colab.research.google.com/assets/colab-badge.svg\" alt=\"Open In Colab\"/></a>"
      ]
    },
    {
      "cell_type": "markdown",
      "metadata": {
        "id": "AwVDpfs3B2w6"
      },
      "source": [
        "# Apartment Hunting"
      ]
    },
    {
      "cell_type": "markdown",
      "metadata": {
        "id": "OqWSXdZFB42D"
      },
      "source": [
        "You're looking to move into a new apartment on specific street, and you're given a list of contiguous blocks on that street where each block contains an apartment that you could move into.\n",
        "\n",
        "You also have a list of requirements: a list of buildings that are important to you. For instance, you might value having a school and a gym near your apartment. The list of blocks that you have contains information at every block about all of the buildings that are present and absent at the block in question. For instance, for every block, you might know whether a school, a pool, an office, and a gym are present.\n",
        "\n",
        "In order to optimize your life, you want to pick an apartment block such that you minimize the farthest distance you'd have to walk from your apartment to reach any of your required buildings.\n",
        "\n",
        "Write a function that takes in a list of contiguous blocks on a specific street and a list of your required buildings and that returns the location (the index) of the block that's most optimal for you.\n",
        "\n",
        "If there are multiple most optimal blocks, your function can return the index of any one of them."
      ]
    },
    {
      "cell_type": "markdown",
      "metadata": {
        "id": "h0oR4-F8B5fs"
      },
      "source": [
        "Sample Input\n",
        "\n",
        "```\n",
        "blocks = [\n",
        "  {\n",
        "    \"gym\": false,\n",
        "    \"school\": true,\n",
        "    \"store\": false,\n",
        "  },\n",
        "  {\n",
        "    \"gym\": true,\n",
        "    \"school\": false,\n",
        "    \"store\": false,\n",
        "  },\n",
        "  {\n",
        "    \"gym\": true,\n",
        "    \"school\": true,\n",
        "    \"store\": false,\n",
        "  },\n",
        "  {\n",
        "    \"gym\": false,\n",
        "    \"school\": true,\n",
        "    \"store\": false,\n",
        "  },\n",
        "  {\n",
        "    \"gym\": false,\n",
        "    \"school\": true,\n",
        "    \"store\": true,\n",
        "  },\n",
        "]\n",
        "reqs = [\"gym\", \"school\", \"store\"]\n",
        "```\n",
        "\n"
      ]
    },
    {
      "cell_type": "markdown",
      "metadata": {
        "id": "cbNH_gh4B-Bn"
      },
      "source": [
        "Sample Output\n",
        "\n",
        "```\n",
        "3 // at index 3, the farthest you'd have to walk to reach a gym, a school, or a store is 1 block; at any other index, you'd have to walk farther\n",
        "```\n",
        "\n"
      ]
    },
    {
      "cell_type": "code",
      "metadata": {
        "id": "QuNsEdJCAg3Z"
      },
      "source": [
        "# Time O(b^2 * r)\n",
        "# Space O(1)\n",
        "# b = no. of block\n",
        "# r = no. of requirements\n",
        "\n",
        "def apartmentHunting(blocks, reqs):\n",
        "\tmin_farest_apartment_req_distance = len(blocks)\n",
        "\tfor apartment_idx in range(len(blocks)):\n",
        "\t\tfarest_apartment_req_distance = 0\n",
        "\t\tfor req in reqs:\n",
        "\t\t\tleft = apartment_idx\n",
        "\t\t\tright = apartment_idx\n",
        "\t\t\twhile True:\n",
        "\t\t\t\t# check left\n",
        "\t\t\t\tif left >= 0:\n",
        "\t\t\t\t\tif blocks[left][req]:\n",
        "\t\t\t\t\t\tif abs(left-apartment_idx) > farest_apartment_req_distance:\n",
        "\t\t\t\t\t\t\tfarest_apartment_req_distance = abs(left-apartment_idx)\n",
        "\t\t\t\t\t\tbreak\n",
        "\t\t\t\t\telse:\n",
        "\t\t\t\t\t\tleft -= 1\n",
        "\n",
        "\t\t\t\t# check right\n",
        "\t\t\t\tif right <= len(blocks) - 1:\n",
        "\t\t\t\t\tif blocks[right][req]:\n",
        "\t\t\t\t\t\tif abs(right-apartment_idx) > farest_apartment_req_distance:\n",
        "\t\t\t\t\t\t\tfarest_apartment_req_distance = abs(right-apartment_idx)\n",
        "\t\t\t\t\t\tbreak\n",
        "\t\t\t\t\telse:\n",
        "\t\t\t\t\t\tright += 1\n",
        "\n",
        "\t\tif min_farest_apartment_req_distance > farest_apartment_req_distance:\n",
        "\t\t\tmin_farest_apartment_req_distance = farest_apartment_req_distance\n",
        "\t\t\tmin_farest_apartment_req = apartment_idx\n",
        "\n",
        "\treturn min_farest_apartment_req"
      ],
      "execution_count": 1,
      "outputs": []
    },
    {
      "cell_type": "code",
      "metadata": {
        "id": "zH7j5y4OKZYw"
      },
      "source": [
        "blocks = [\n",
        "  {\n",
        "    \"gym\": False,\n",
        "    \"school\": True,\n",
        "    \"store\": False,\n",
        "  },\n",
        "  {\n",
        "    \"gym\": True,\n",
        "    \"school\": False,\n",
        "    \"store\": False,\n",
        "  },\n",
        "  {\n",
        "    \"gym\": True,\n",
        "    \"school\": True,\n",
        "    \"store\": False,\n",
        "  },\n",
        "  {\n",
        "    \"gym\": False,\n",
        "    \"school\": True,\n",
        "    \"store\": False,\n",
        "  },\n",
        "  {\n",
        "    \"gym\": False,\n",
        "    \"school\": True,\n",
        "    \"store\": True,\n",
        "  },\n",
        "]\n",
        "reqs = [\"gym\", \"school\", \"store\"]"
      ],
      "execution_count": 2,
      "outputs": []
    },
    {
      "cell_type": "code",
      "metadata": {
        "colab": {
          "base_uri": "https://localhost:8080/"
        },
        "id": "g1WuCOc2Kbk5",
        "outputId": "d005aa3a-36d1-4adc-da51-fa6c7453ac91"
      },
      "source": [
        "print(apartmentHunting(blocks, reqs))"
      ],
      "execution_count": 3,
      "outputs": [
        {
          "output_type": "stream",
          "name": "stdout",
          "text": [
            "3\n"
          ]
        }
      ]
    }
  ]
}