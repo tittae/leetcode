{
  "nbformat": 4,
  "nbformat_minor": 0,
  "metadata": {
    "colab": {
      "name": "Waterfall Streams (Very Hard).ipynb",
      "provenance": [],
      "collapsed_sections": [],
      "authorship_tag": "ABX9TyNitSkiFN34QLKcQHoboOtE",
      "include_colab_link": true
    },
    "kernelspec": {
      "name": "python3",
      "display_name": "Python 3"
    },
    "language_info": {
      "name": "python"
    }
  },
  "cells": [
    {
      "cell_type": "markdown",
      "metadata": {
        "id": "view-in-github",
        "colab_type": "text"
      },
      "source": [
        "<a href=\"https://colab.research.google.com/github/wisarootl/leetcode/blob/main/Waterfall_Streams_(Very_Hard).ipynb\" target=\"_parent\"><img src=\"https://colab.research.google.com/assets/colab-badge.svg\" alt=\"Open In Colab\"/></a>"
      ]
    },
    {
      "cell_type": "markdown",
      "source": [
        "# Waterfall Streams"
      ],
      "metadata": {
        "id": "LTL19PlqaTeo"
      }
    },
    {
      "cell_type": "markdown",
      "source": [
        "You're given a two-dimensional array that represents the structure of an indoor waterfall and a positive integer that represents the column that the waterfall's water source will start at. More specifically, the water source will start directly above the structure and will flow downwards.\n",
        "\n",
        "Each row in the array contains `0`s and `1`s, where a `0` represents a free space and a `1` represents a block that water can't pass through. You can imagine that the last row of the array contains buckets that the water will eventually flow into; thus, the last row of the array will always contain only `0`s. You can also imagine that there are walls on both sides of the structure, meaning that water will never leave the structure; it will either be trapped against a wall or flow into one of the buckets in the last row.\n",
        "\n",
        "As water flows downwards, if it hits a block, it splits evenly to the left and right-hand side of that block. In other words, 50% of the water flows left and 50% of it flows right. If a water stream is unable to flow to the left or to the right (because of a block or a wall), the water stream in question becomes trapped and can no longer continue to flow in that direction; it effectively gets stuck in the structure and can no longer flow downwards, meaning that 50% of the previous water stream is forever lost.\n",
        "\n",
        "Lastly, the input array will always contain at least two rows and one column, and the space directly below the water source (in the first row of the array) will always be empty, allowing the water to start flowing downwards.\n",
        "\n",
        "Write a function that returns the percentage of water inside each of the bottom buckets after the water has flowed through the entire structure.\n",
        "\n",
        "You can refer to the first 4.5 minutes of this question's video explanation for a visual example."
      ],
      "metadata": {
        "id": "6gXgqx1daU2V"
      }
    },
    {
      "cell_type": "markdown",
      "source": [
        "Sample Input\n",
        "\n",
        "```\n",
        "array = [\n",
        "  [0, 0, 0, 0, 0, 0, 0],\n",
        "  [1, 0, 0, 0, 0, 0, 0],\n",
        "  [0, 0, 1, 1, 1, 0, 0],\n",
        "  [0, 0, 0, 0, 0, 0, 0],\n",
        "  [1, 1, 1, 0, 0, 1, 0],\n",
        "  [0, 0, 0, 0, 0, 0, 1],\n",
        "  [0, 0, 0, 0, 0, 0, 0],\n",
        "]\n",
        "source = 3\n",
        "```\n",
        "\n"
      ],
      "metadata": {
        "id": "fRlHjCH-abhp"
      }
    },
    {
      "cell_type": "markdown",
      "source": [
        "Sample Output\n",
        "\n",
        "```\n",
        "[0, 0, 0, 25, 25, 0, 0]\n",
        "\n",
        "// The water will flow as follows:\n",
        "// [\n",
        "//   [0, 0, 0, ., 0, 0, 0],\n",
        "//   [1, ., ., ., ., ., 0],\n",
        "//   [0, ., 1, 1, 1, ., 0],\n",
        "//   [., ., ., ., ., ., .],\n",
        "//   [1, 1, 1, ., ., 1, 0],\n",
        "//   [0, 0, 0, ., ., 0, 1],\n",
        "//   [0, 0, 0, ., ., 0, 0],\n",
        "// ]\n",
        "```\n",
        "\n"
      ],
      "metadata": {
        "id": "kL-0hg0gaeLt"
      }
    },
    {
      "cell_type": "code",
      "execution_count": 1,
      "metadata": {
        "id": "wJ8diBaEZGTW"
      },
      "outputs": [],
      "source": [
        "# Time O(w^2 * h)\n",
        "# Space O(w)\n",
        "# w = width\n",
        "# h = height\n",
        "\n",
        "def waterfallStreams(array, source):\n",
        "  water_in_buckets = [0 for _ in range(len(array[0]))]\n",
        "  # init fringe\n",
        "  # node = [row, col, water_amount, direction]\n",
        "  fringe = [[0, source, 100, 'down']]\n",
        "  while True:\n",
        "    # is fringe empty\n",
        "    if len(fringe) == 0:\n",
        "      return  water_in_buckets\n",
        "\n",
        "    # pop front\n",
        "    front = fringe.pop()\n",
        "    front_row, front_col, front_water_amount, front_direction = front\n",
        "\n",
        "    # is goal\n",
        "    if front_row == len(array) - 1:\n",
        "      water_in_buckets[front_col] += front_water_amount\n",
        "      continue\n",
        "\n",
        "    # gen/insert successor\n",
        "    successors = get_successor(array, front_row, front_col, front_water_amount, front_direction)\n",
        "    fringe = fringe + successors\n",
        "\n",
        "\n",
        "def get_successor(array, row, col, water_amount, direction):\n",
        "  successors = []\n",
        "  if array[row + 1][col] == 0:\n",
        "    successors.append([row + 1, col, water_amount, 'down'])\n",
        "\n",
        "  elif direction == 'down':\n",
        "    if col != 0 and array[row][col - 1] == 0:\n",
        "      successors.append([row, col - 1, water_amount / 2, 'left'])\n",
        "    if col != len(array[0]) - 1 and array[row][col + 1] == 0:\n",
        "      successors.append([row, col + 1, water_amount / 2, 'right'])\n",
        "    \n",
        "  elif direction == 'left':\n",
        "    if col != 0 and array[row][col - 1] == 0:\n",
        "      successors.append([row, col - 1, water_amount, 'left'])\n",
        "    \n",
        "  elif direction == 'right':\n",
        "      if col != len(array[0]) - 1 and array[row][col + 1] == 0:\n",
        "        successors.append([row, col + 1, water_amount, 'right'])\n",
        "\n",
        "  return successors"
      ]
    },
    {
      "cell_type": "code",
      "source": [
        "array = [\n",
        "  [0, 0, 0, 0, 0, 0, 0],\n",
        "  [1, 0, 0, 0, 0, 0, 0],\n",
        "  [0, 0, 1, 1, 1, 0, 0],\n",
        "  [0, 0, 0, 0, 0, 0, 0],\n",
        "  [1, 1, 1, 0, 0, 1, 0],\n",
        "  [0, 0, 0, 0, 0, 0, 1],\n",
        "  [0, 0, 0, 0, 0, 0, 0],\n",
        "]\n",
        "source = 3\n",
        "waterfallStreams(array, source)"
      ],
      "metadata": {
        "colab": {
          "base_uri": "https://localhost:8080/"
        },
        "id": "bXQMPKzWai8d",
        "outputId": "fc54c424-bd2c-4172-cf4c-d886dd552cb1"
      },
      "execution_count": 2,
      "outputs": [
        {
          "output_type": "execute_result",
          "data": {
            "text/plain": [
              "[0, 0, 0, 25.0, 25.0, 0, 0]"
            ]
          },
          "metadata": {},
          "execution_count": 2
        }
      ]
    },
    {
      "cell_type": "code",
      "source": [
        "array = [\n",
        "    [0, 0, 0, 0, 0, 0, 0, 0, 0, 0, 0, 0, 0, 0],\n",
        "    [0, 0, 1, 1, 1, 1, 1, 1, 1, 1, 1, 1, 0, 0],\n",
        "    [0, 0, 0, 0, 0, 0, 0, 0, 0, 0, 0, 0, 0, 0],\n",
        "    [0, 0, 0, 0, 0, 0, 0, 0, 0, 0, 0, 0, 1, 0],\n",
        "    [0, 0, 0, 0, 0, 0, 0, 0, 0, 0, 0, 0, 0, 0],\n",
        "    [0, 1, 1, 1, 0, 0, 0, 0, 0, 0, 1, 1, 1, 0],\n",
        "    [0, 0, 0, 0, 0, 0, 0, 0, 0, 0, 0, 0, 0, 0],\n",
        "    [0, 0, 0, 1, 1, 1, 0, 0, 1, 1, 1, 0, 0, 0],\n",
        "    [0, 0, 0, 0, 0, 0, 0, 0, 0, 0, 0, 0, 0, 0],\n",
        "    [0, 1, 0, 0, 0, 0, 1, 1, 0, 0, 1, 1, 0, 0],\n",
        "    [0, 0, 0, 0, 0, 1, 0, 0, 1, 0, 0, 0, 0, 0],\n",
        "    [0, 0, 0, 0, 0, 0, 0, 0, 0, 0, 0, 0, 0, 0]\n",
        "  ]\n",
        "source = 8\n",
        "waterfallStreams(array, source)"
      ],
      "metadata": {
        "colab": {
          "base_uri": "https://localhost:8080/"
        },
        "id": "IoQBw1_TakIy",
        "outputId": "e5113651-c522-4f72-934d-0fcb11506788"
      },
      "execution_count": 3,
      "outputs": [
        {
          "output_type": "execute_result",
          "data": {
            "text/plain": [
              "[25.0, 0, 12.5, 0, 4.6875, 0, 0, 0, 0, 7.8125, 0, 0, 3.125, 37.5]"
            ]
          },
          "metadata": {},
          "execution_count": 3
        }
      ]
    }
  ]
}