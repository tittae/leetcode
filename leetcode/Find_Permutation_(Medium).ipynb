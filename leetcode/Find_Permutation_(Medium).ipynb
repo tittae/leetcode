{
  "nbformat": 4,
  "nbformat_minor": 0,
  "metadata": {
    "colab": {
      "name": "Find Permutation (Medium).ipynb",
      "provenance": [],
      "authorship_tag": "ABX9TyNGRIv/LdGK8uV/sEZAW2Tj",
      "include_colab_link": true
    },
    "kernelspec": {
      "name": "python3",
      "display_name": "Python 3"
    },
    "language_info": {
      "name": "python"
    }
  },
  "cells": [
    {
      "cell_type": "markdown",
      "metadata": {
        "id": "view-in-github",
        "colab_type": "text"
      },
      "source": [
        "<a href=\"https://colab.research.google.com/github/wisarootl/leetcode/blob/main/Find_Permutation_(Medium).ipynb\" target=\"_parent\"><img src=\"https://colab.research.google.com/assets/colab-badge.svg\" alt=\"Open In Colab\"/></a>"
      ]
    },
    {
      "cell_type": "markdown",
      "source": [
        "# Find Permutation"
      ],
      "metadata": {
        "id": "wy03FQZxMyXt"
      }
    },
    {
      "cell_type": "markdown",
      "source": [
        "A permutation perm of n integers of all the integers in the range [1, n] can be represented as a string s of length n - 1 where:\n",
        "\n",
        "- s[i] == 'I' if perm[i] < perm[i + 1], and\n",
        "- s[i] == 'D' if perm[i] > perm[i + 1].\n",
        "\n",
        "Given a string s, reconstruct the lexicographically smallest permutation perm and return it."
      ],
      "metadata": {
        "id": "CycDQVuVMztX"
      }
    },
    {
      "cell_type": "markdown",
      "source": [
        "Example 1:\n",
        "\n",
        "```\n",
        "Input: s = \"I\"\n",
        "Output: [1,2]\n",
        "Explanation: [1,2] is the only legal permutation that can represented by s, where the number 1 and 2 construct an increasing relationship.\n",
        "```\n",
        "\n"
      ],
      "metadata": {
        "id": "gtNM2YIQM4E1"
      }
    },
    {
      "cell_type": "markdown",
      "source": [
        "Example 2:\n",
        "\n",
        "```\n",
        "Input: s = \"DI\"\n",
        "Output: [2,1,3]\n",
        "Explanation: Both [2,1,3] and [3,1,2] can be represented as \"DI\", but since we want to find the smallest lexicographical permutation, you should return [2,1,3]\n",
        "```\n",
        "\n"
      ],
      "metadata": {
        "id": "5i7KfYKoM6Oa"
      }
    },
    {
      "cell_type": "markdown",
      "source": [
        "Constraints:\n",
        "\n",
        "```\n",
        "1 <= s.length <= 105\n",
        "s[i] is either 'I' or 'D'.\n",
        "```\n",
        "\n"
      ],
      "metadata": {
        "id": "moM4HlDZM9oy"
      }
    },
    {
      "cell_type": "code",
      "execution_count": 1,
      "metadata": {
        "id": "5bB7zJLjMwky"
      },
      "outputs": [],
      "source": [
        "class Solution:\n",
        "    def reverse(self,res, i, j):\n",
        "        while i<j:\n",
        "            res[i],res[j] = res[j], res[i]\n",
        "            i+=1\n",
        "            j-=1\n",
        "    \n",
        "    # Time = O(N)\n",
        "    # Space = O(1)\n",
        "    def findPermutation(self, s):        \n",
        "        res = [i+1 for i in range(len(s)+1)]\n",
        "        i = 0\n",
        "        while i < len(s):\n",
        "            j = i\n",
        "            while i<len(s) and s[i] == 'D':\n",
        "                i+=1\n",
        "            \n",
        "            self.reverse(res, j, i)\n",
        "            i+=1\n",
        "            \n",
        "        return res"
      ]
    },
    {
      "cell_type": "code",
      "source": [
        "s = \"I\"\n",
        "expected = [1, 2]\n",
        "\n",
        "output = Solution().findPermutation(s)\n",
        "print(output)\n",
        "assert output == expected"
      ],
      "metadata": {
        "colab": {
          "base_uri": "https://localhost:8080/"
        },
        "id": "gPjDo-9dNMjp",
        "outputId": "ca483654-e011-48f4-d933-bff8edd7ac9f"
      },
      "execution_count": 2,
      "outputs": [
        {
          "output_type": "stream",
          "name": "stdout",
          "text": [
            "[1, 2]\n"
          ]
        }
      ]
    },
    {
      "cell_type": "code",
      "source": [
        "s = \"DI\"\n",
        "expected = [2, 1, 3]\n",
        "\n",
        "output = Solution().findPermutation(s)\n",
        "print(output)\n",
        "assert output == expected"
      ],
      "metadata": {
        "colab": {
          "base_uri": "https://localhost:8080/"
        },
        "id": "hdU6C8ZlNpUk",
        "outputId": "b265b629-3b16-4ca6-be9b-3df548e6bc88"
      },
      "execution_count": 3,
      "outputs": [
        {
          "output_type": "stream",
          "name": "stdout",
          "text": [
            "[2, 1, 3]\n"
          ]
        }
      ]
    }
  ]
}