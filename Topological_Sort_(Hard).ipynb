{
  "nbformat": 4,
  "nbformat_minor": 0,
  "metadata": {
    "colab": {
      "name": "Topological Sort (Hard).ipynb",
      "provenance": [],
      "collapsed_sections": [],
      "authorship_tag": "ABX9TyPF1LVLNyvEiKvbVH0UqW+P",
      "include_colab_link": true
    },
    "kernelspec": {
      "name": "python3",
      "display_name": "Python 3"
    },
    "language_info": {
      "name": "python"
    }
  },
  "cells": [
    {
      "cell_type": "markdown",
      "metadata": {
        "id": "view-in-github",
        "colab_type": "text"
      },
      "source": [
        "<a href=\"https://colab.research.google.com/github/wisarootl/leetcode/blob/main/Topological_Sort_(Hard).ipynb\" target=\"_parent\"><img src=\"https://colab.research.google.com/assets/colab-badge.svg\" alt=\"Open In Colab\"/></a>"
      ]
    },
    {
      "cell_type": "markdown",
      "metadata": {
        "id": "i6lvC_6WEPwS"
      },
      "source": [
        "# Topological Sort"
      ]
    },
    {
      "cell_type": "markdown",
      "metadata": {
        "id": "wArYzAmGEPAW"
      },
      "source": [
        "You're given a list of arbitrary jobs that need to be completed; these jobs are represented by distinct integers. You're also given a list of dependencies. A dependency is represented as a pair of jobs where the first job is a prerequisite of the second one. In other words, the second job depends on the first one; it can only be completed once the first job is completed.\n",
        "\n",
        "Write a function that takes in a list of jobs and a list of dependencies and returns a list containing a valid order in which the given jobs can be completed. If no such order exists, the function should return an empty array."
      ]
    },
    {
      "cell_type": "markdown",
      "metadata": {
        "id": "IIOhQDQuETLu"
      },
      "source": [
        "Sample Input\n",
        "\n",
        "```\n",
        "jobs = [1, 2, 3, 4]\n",
        "deps = [[1, 2], [1, 3], [3, 2], [4, 2], [4, 3]]\n",
        "```\n",
        "\n"
      ]
    },
    {
      "cell_type": "markdown",
      "metadata": {
        "id": "gPsh7P0BEVoM"
      },
      "source": [
        "Sample Output\n",
        "\n",
        "```\n",
        "[1, 4, 3, 2] or [4, 1, 3, 2]\n",
        "```\n",
        "\n"
      ]
    },
    {
      "cell_type": "markdown",
      "metadata": {
        "id": "xfjG-xh65oge"
      },
      "source": [
        "## Solution"
      ]
    },
    {
      "cell_type": "code",
      "metadata": {
        "id": "zsxF25mvOOsE"
      },
      "source": [
        "def topologicalSort(jobs, deps):\n",
        "  reversed_adjacency_list = create_adjacency_list(deps, reverse = True)\n",
        "  processing_node = set()\n",
        "  visited_node = set()\n",
        "  topologically_sorted_node = []\n",
        "  cyclic_status = False\n",
        "\n",
        "  for job in jobs:\n",
        "    if job not in visited_node:\n",
        "      cyclic_status = dfs(job, reversed_adjacency_list, processing_node, \\\n",
        "        visited_node, topologically_sorted_node, cyclic_status)\n",
        "\n",
        "  return topologically_sorted_node if cyclic_status == False else []\n",
        "\n",
        "def dfs(node, adjacency_list, processing_node, visited_node, topologically_sorted_node, cyclic_status):\n",
        "  if node in visited_node:\n",
        "    return cyclic_status\n",
        "  if node in processing_node:\n",
        "    cyclic_status = True\n",
        "    return cyclic_status\n",
        "\n",
        "  processing_node.add(node)\n",
        "  if node in adjacency_list:\n",
        "    for target in adjacency_list[node]:\n",
        "      cyclic_status = dfs(target, adjacency_list, processing_node, \\\n",
        "                          visited_node, topologically_sorted_node, cyclic_status)\n",
        "\n",
        "  processing_node.remove(node)\n",
        "  visited_node.add(node)\n",
        "  topologically_sorted_node.append(node)\n",
        "  return cyclic_status\n",
        "\n",
        "def create_adjacency_list(deps, reverse = True):\n",
        "  if reverse: start_idx, end_idx = 1, 0\n",
        "  else: start_idx, end_idx = 0, 1\n",
        "  \n",
        "  adjacency_list = {}\n",
        "  for dep in deps:\n",
        "    if dep[start_idx] not in adjacency_list:\n",
        "      adjacency_list[dep[start_idx]] = []\n",
        "    adjacency_list[dep[start_idx]].append(dep[end_idx])\n",
        "\n",
        "  return adjacency_list"
      ],
      "execution_count": null,
      "outputs": []
    },
    {
      "cell_type": "code",
      "metadata": {
        "id": "mm-oFvjyOWz1"
      },
      "source": [
        "deps = [[1, 2], [1, 3], [1, 4], [1, 5], [1, 6], [1, 7], [2, 8], [3, 8], [4, 8], [5, 8], [6, 8], [7, 8], [2, 3], [2, 4], [5, 4], [7, 6], [6, 2], [6, 3], [6, 5], [5, 9], [9, 8], [8, 0], [4, 0], [5, 0], [9, 0], [2, 0], [3, 9], [3, 10], [10, 11], [11, 12], [2, 12]]\n",
        "jobs = [0, 1, 2, 3, 4, 5, 6, 7, 8, 9, 10, 11, 12]"
      ],
      "execution_count": null,
      "outputs": []
    },
    {
      "cell_type": "code",
      "metadata": {
        "colab": {
          "base_uri": "https://localhost:8080/"
        },
        "id": "q03N8kS7OZ-u",
        "outputId": "8fd0bb9d-8d66-4f74-f32b-c4810fa54c0a"
      },
      "source": [
        "print(topologicalSort(jobs, deps))"
      ],
      "execution_count": null,
      "outputs": [
        {
          "output_type": "stream",
          "name": "stdout",
          "text": [
            "[1, 7, 6, 2, 3, 5, 4, 9, 8, 0, 10, 11, 12]\n"
          ]
        }
      ]
    },
    {
      "cell_type": "code",
      "metadata": {
        "id": "BEsZZHsYSVSB"
      },
      "source": [
        "deps = [[3, 1], [8, 1], [8, 7], [5, 7], [5, 2], [1, 4], [6, 7], [1, 2], [7, 6]]\n",
        "jobs = [1, 2, 3, 4, 5, 6, 7, 8]"
      ],
      "execution_count": null,
      "outputs": []
    },
    {
      "cell_type": "code",
      "metadata": {
        "colab": {
          "base_uri": "https://localhost:8080/"
        },
        "id": "FgT16wfxSV1B",
        "outputId": "37155f64-eb57-48c3-cf01-fa6dc9643b25"
      },
      "source": [
        "print(topologicalSort(jobs, deps))"
      ],
      "execution_count": null,
      "outputs": [
        {
          "output_type": "stream",
          "name": "stdout",
          "text": [
            "[]\n"
          ]
        }
      ]
    }
  ]
}