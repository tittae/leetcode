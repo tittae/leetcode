{
  "nbformat": 4,
  "nbformat_minor": 0,
  "metadata": {
    "colab": {
      "name": "Max Subset Sum No Adjacent (Medium).ipynb",
      "provenance": [],
      "authorship_tag": "ABX9TyMuuJaIIdz0ms1jSc+gsnAs",
      "include_colab_link": true
    },
    "kernelspec": {
      "name": "python3",
      "display_name": "Python 3"
    },
    "language_info": {
      "name": "python"
    }
  },
  "cells": [
    {
      "cell_type": "markdown",
      "metadata": {
        "id": "view-in-github",
        "colab_type": "text"
      },
      "source": [
        "<a href=\"https://colab.research.google.com/github/wisarootl/leetcode/blob/main/Max_Subset_Sum_No_Adjacent_(Medium).ipynb\" target=\"_parent\"><img src=\"https://colab.research.google.com/assets/colab-badge.svg\" alt=\"Open In Colab\"/></a>"
      ]
    },
    {
      "cell_type": "markdown",
      "metadata": {
        "id": "KyEhcBXOVMNV"
      },
      "source": [
        "# Max Subset Sum No Adjacent"
      ]
    },
    {
      "cell_type": "markdown",
      "metadata": {
        "id": "EcSRmTWEVPEe"
      },
      "source": [
        "Write a function that takes in an array of positive integers and returns the maximum sum of non-adjacent elements in the array.\n",
        "\n",
        "If the input array is empty, the function should return `0`."
      ]
    },
    {
      "cell_type": "markdown",
      "metadata": {
        "id": "41FgiJFNVRtx"
      },
      "source": [
        "Sample Input\n",
        "\n",
        "```\n",
        "array = [75, 105, 120, 75, 90, 135]\n",
        "```\n",
        "\n"
      ]
    },
    {
      "cell_type": "markdown",
      "metadata": {
        "id": "hDpHJl_5VTak"
      },
      "source": [
        "Sample Output\n",
        "\n",
        "```\n",
        "330 // 75 + 120 + 135\n",
        "```\n",
        "\n"
      ]
    },
    {
      "cell_type": "code",
      "metadata": {
        "id": "o17_boxMVGlA"
      },
      "source": [
        "# Time O(N)\n",
        "# Space O(1)\n",
        "\n",
        "def maxSubsetSumNoAdjacent(array):\n",
        "\tif len(array) == 0:\n",
        "\t\treturn 0\n",
        "\telif len(array) == 1:\n",
        "\t\treturn array[0]\n",
        "\tmax_sum_second = array[0]\n",
        "\tmax_sum_first = max(array[0], array[1])\n",
        "\t\n",
        "\tfor i in range(2, len(array)):\n",
        "\t\tmax_sum_current = max(max_sum_first, max_sum_second + array[i])\n",
        "\t\tmax_sum_second = max_sum_first\n",
        "\t\tmax_sum_first = max_sum_current\n",
        "\n",
        "\treturn max_sum_first"
      ],
      "execution_count": null,
      "outputs": []
    },
    {
      "cell_type": "code",
      "metadata": {
        "colab": {
          "base_uri": "https://localhost:8080/"
        },
        "id": "vBLo8NTBWQli",
        "outputId": "ed363474-e130-4926-e0e5-ed94abeedc83"
      },
      "source": [
        "array = [75, 105, 120, 75, 90, 135]\n",
        "print(maxSubsetSumNoAdjacent(array))"
      ],
      "execution_count": null,
      "outputs": [
        {
          "output_type": "stream",
          "name": "stdout",
          "text": [
            "330\n"
          ]
        }
      ]
    },
    {
      "cell_type": "code",
      "metadata": {
        "colab": {
          "base_uri": "https://localhost:8080/"
        },
        "id": "1cuwU_G_a7p0",
        "outputId": "114f329b-6785-4d2c-df4e-4d7137bc8060"
      },
      "source": [
        "array = []\n",
        "print(maxSubsetSumNoAdjacent(array))\n",
        "\n",
        "array = [1]\n",
        "print(maxSubsetSumNoAdjacent(array))\n",
        "\n",
        "array = [1, 2]\n",
        "print(maxSubsetSumNoAdjacent(array))\n",
        "\n",
        "array = [1, 2, 3]\n",
        "print(maxSubsetSumNoAdjacent(array))\n",
        "\n",
        "array = [1, 15, 3]\n",
        "print(maxSubsetSumNoAdjacent(array))\n",
        "\n",
        "array = [7, 10, 12, 7, 9, 14]\n",
        "print(maxSubsetSumNoAdjacent(array))\n",
        "\n",
        "array = [4, 3, 5, 200, 5, 3]\n",
        "print(maxSubsetSumNoAdjacent(array))\n",
        "\n",
        "array = [10, 5, 20, 25, 15, 5, 5, 15]\n",
        "print(maxSubsetSumNoAdjacent(array))\n",
        "\n",
        "array = [10, 5, 20, 25, 15, 5, 5, 15, 3, 15, 5, 5, 15]\n",
        "print(maxSubsetSumNoAdjacent(array))\n",
        "\n",
        "array = [125, 210, 250, 120, 150, 300]\n",
        "print(maxSubsetSumNoAdjacent(array))\n",
        "\n",
        "array = [30, 25, 50, 55, 100]\n",
        "print(maxSubsetSumNoAdjacent(array))\n",
        "\n",
        "array = [30, 25, 50, 55, 100, 120]\n",
        "print(maxSubsetSumNoAdjacent(array))\n",
        "\n",
        "array = [7, 10, 12, 7, 9, 14, 15, 16, 25, 20, 4]\n",
        "print(maxSubsetSumNoAdjacent(array))\n"
      ],
      "execution_count": null,
      "outputs": [
        {
          "output_type": "stream",
          "name": "stdout",
          "text": [
            "0\n",
            "1\n",
            "2\n",
            "4\n",
            "15\n",
            "33\n",
            "207\n",
            "60\n",
            "90\n",
            "675\n",
            "180\n",
            "205\n",
            "72\n"
          ]
        }
      ]
    }
  ]
}