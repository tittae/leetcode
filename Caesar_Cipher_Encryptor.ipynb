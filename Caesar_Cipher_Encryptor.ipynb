{
  "nbformat": 4,
  "nbformat_minor": 0,
  "metadata": {
    "colab": {
      "name": "Caesar Cipher Encryptor.ipynb",
      "provenance": [],
      "collapsed_sections": [],
      "authorship_tag": "ABX9TyPUSm0TTgE+Sy0lqcl0Gjx+",
      "include_colab_link": true
    },
    "kernelspec": {
      "name": "python3",
      "display_name": "Python 3"
    },
    "language_info": {
      "name": "python"
    }
  },
  "cells": [
    {
      "cell_type": "markdown",
      "metadata": {
        "id": "view-in-github",
        "colab_type": "text"
      },
      "source": [
        "<a href=\"https://colab.research.google.com/github/tittae/leetcode/blob/main/Caesar_Cipher_Encryptor.ipynb\" target=\"_parent\"><img src=\"https://colab.research.google.com/assets/colab-badge.svg\" alt=\"Open In Colab\"/></a>"
      ]
    },
    {
      "cell_type": "markdown",
      "metadata": {
        "id": "-pDcbfJg9csp"
      },
      "source": [
        "# Caesar Cipher Encryptor"
      ]
    },
    {
      "cell_type": "markdown",
      "metadata": {
        "id": "frs88hEj9e15"
      },
      "source": [
        "Given a non-empty string of lowercase letters and a non-negative integer representing a key, write a function that returns a new string obtained by shifting every letter in the input string by k positions in the alphabet, where k is the key.\n",
        "\n",
        "Note that letters should \"wrap\" around the alphabet; in other words, the letter z shifted by one returns the letter a."
      ]
    },
    {
      "cell_type": "markdown",
      "metadata": {
        "id": "TQfQ6q_D9h_m"
      },
      "source": [
        "Sample Input\n",
        "\n",
        "```\n",
        "string = \"xyz\"\n",
        "key = 2\n",
        "```\n",
        "\n"
      ]
    },
    {
      "cell_type": "markdown",
      "metadata": {
        "id": "i29lBUPZ9mIH"
      },
      "source": [
        "Sample Output\n",
        "\n",
        "```\n",
        "\"zab\"\n",
        "```\n",
        "\n"
      ]
    },
    {
      "cell_type": "markdown",
      "metadata": {
        "id": "cfBvWDUmMgF3"
      },
      "source": [
        "## Solution (use unicode built-in function)"
      ]
    },
    {
      "cell_type": "code",
      "metadata": {
        "id": "uSlEZF3E9hec"
      },
      "source": [
        "# Time: O(n), Space O(n)\n",
        "\n",
        "def caesarCipherEncryptor(string, key):\n",
        "\tnew_letters = []\n",
        "\tfor char in string:\n",
        "\t\tencrypted_char_code = ord(char) + key\n",
        "\t\tencrypted_char_code = ((encrypted_char_code-97) % 26) + 97\n",
        "\t\tnew_letters.append(chr(encrypted_char_code))\n",
        "\t\t\n",
        "\treturn ''.join(new_letters)"
      ],
      "execution_count": null,
      "outputs": []
    },
    {
      "cell_type": "code",
      "metadata": {
        "id": "R4Kab3VD-Jyn"
      },
      "source": [
        "string = \"xyz\"\n",
        "key = 2"
      ],
      "execution_count": null,
      "outputs": []
    },
    {
      "cell_type": "code",
      "metadata": {
        "colab": {
          "base_uri": "https://localhost:8080/"
        },
        "id": "WDOZjJ62HXGz",
        "outputId": "f5cbedf7-7504-4284-9674-1493e86dd019"
      },
      "source": [
        "print(caesarCipherEncryptor(string, key))"
      ],
      "execution_count": null,
      "outputs": [
        {
          "output_type": "stream",
          "name": "stdout",
          "text": [
            "zab\n"
          ]
        }
      ]
    },
    {
      "cell_type": "markdown",
      "metadata": {
        "id": "l5dNx06OMXNI"
      },
      "source": [
        "## Solution (create manual alphabet list)"
      ]
    },
    {
      "cell_type": "code",
      "metadata": {
        "id": "WsZlCEpAMtUW"
      },
      "source": [
        "# Time: O(n), Space O(n)\n",
        "\n",
        "def caesarCipherEncryptor(string, key):\n",
        "  new_letters = []\n",
        "  alphabet = list('abcdefghijklmnopqrstuvwxyz')\n",
        "  for char in string:\n",
        "    encrypted_char_code = alphabet.index(char) + key\n",
        "    encrypted_char_code = encrypted_char_code % 26\n",
        "    new_letters.append(alphabet[encrypted_char_code])\n",
        "    \n",
        "  return ''.join(new_letters)"
      ],
      "execution_count": null,
      "outputs": []
    },
    {
      "cell_type": "code",
      "metadata": {
        "colab": {
          "base_uri": "https://localhost:8080/"
        },
        "id": "wJ83bIW-NGjm",
        "outputId": "5a84d0ec-e0f7-49e5-fa56-20f20752c5cb"
      },
      "source": [
        "string = \"xyz\"\n",
        "key = 2\n",
        "print(caesarCipherEncryptor(string, key))"
      ],
      "execution_count": null,
      "outputs": [
        {
          "output_type": "stream",
          "name": "stdout",
          "text": [
            "zab\n"
          ]
        }
      ]
    }
  ]
}