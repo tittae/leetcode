{
  "nbformat": 4,
  "nbformat_minor": 0,
  "metadata": {
    "colab": {
      "name": "Smallest String With A Given Numeric Value (Medium).ipynb",
      "provenance": [],
      "authorship_tag": "ABX9TyOM3Vpm3/A22BnEAdR4Gb9z",
      "include_colab_link": true
    },
    "kernelspec": {
      "name": "python3",
      "display_name": "Python 3"
    },
    "language_info": {
      "name": "python"
    }
  },
  "cells": [
    {
      "cell_type": "markdown",
      "metadata": {
        "id": "view-in-github",
        "colab_type": "text"
      },
      "source": [
        "<a href=\"https://colab.research.google.com/github/wisarootl/leetcode/blob/main/Smallest_String_With_A_Given_Numeric_Value_(Medium).ipynb\" target=\"_parent\"><img src=\"https://colab.research.google.com/assets/colab-badge.svg\" alt=\"Open In Colab\"/></a>"
      ]
    },
    {
      "cell_type": "markdown",
      "source": [
        "# Smallest String With A Given Numeric Value"
      ],
      "metadata": {
        "id": "I8_4-H1MTrlM"
      }
    },
    {
      "cell_type": "markdown",
      "source": [
        "The numeric value of a lowercase character is defined as its position (1-indexed) in the alphabet, so the numeric value of a is 1, the numeric value of b is 2, the numeric value of c is 3, and so on.\n",
        "\n",
        "The numeric value of a string consisting of lowercase characters is defined as the sum of its characters' numeric values. For example, the numeric value of the string \"abe\" is equal to 1 + 2 + 5 = 8.\n",
        "\n",
        "You are given two integers n and k. Return the lexicographically smallest string with length equal to n and numeric value equal to k.\n",
        "\n",
        "Note that a string x is lexicographically smaller than string y if x comes before y in dictionary order, that is, either x is a prefix of y, or if i is the first position such that x[i] != y[i], then x[i] comes before y[i] in alphabetic order."
      ],
      "metadata": {
        "id": "2gHbHqTXTtto"
      }
    },
    {
      "cell_type": "markdown",
      "source": [
        "Example 1:\n",
        "\n",
        "```\n",
        "Input: n = 3, k = 27\n",
        "Output: \"aay\"\n",
        "Explanation: The numeric value of the string is 1 + 1 + 25 = 27, and it is the smallest string with such a value and length equal to 3.\n",
        "```\n",
        "\n"
      ],
      "metadata": {
        "id": "zJLbv3aTTwBw"
      }
    },
    {
      "cell_type": "markdown",
      "source": [
        "Example 2:\n",
        "\n",
        "```\n",
        "Input: n = 5, k = 73\n",
        "Output: \"aaszz\"\n",
        "```\n",
        "\n"
      ],
      "metadata": {
        "id": "rOk8c7wnTyZ7"
      }
    },
    {
      "cell_type": "markdown",
      "source": [
        "Constraints:\n",
        "\n",
        "```\n",
        "1 <= n <= 105\n",
        "n <= k <= 26 * n\n",
        "```\n",
        "\n"
      ],
      "metadata": {
        "id": "-lHvTAtdT0wH"
      }
    },
    {
      "cell_type": "code",
      "execution_count": 1,
      "metadata": {
        "id": "ac0lDIMjTRTA"
      },
      "outputs": [],
      "source": [
        "# Time = O(n)\n",
        "# Space = O(1) excluding output\n",
        "# Space = O(n) including output\n",
        "\n",
        "class Solution:\n",
        "    def getSmallestString(self, n: int, k: int) -> str:\n",
        "        value_to_char = {idx + 1: char for idx, char in enumerate('abcdefghijklmnopqrstuvwxyz')}\n",
        "        output = [None for _ in range(n)]\n",
        "        for idx in reversed(range(n)):\n",
        "            value_of_char = min(26, k - (idx))\n",
        "            k -= value_of_char\n",
        "            output[idx] = value_to_char[value_of_char]\n",
        "        \n",
        "        return ''.join(output)"
      ]
    },
    {
      "cell_type": "code",
      "source": [
        "n = 3\n",
        "k = 27\n",
        "expected = 'aay'\n",
        "\n",
        "output = Solution().getSmallestString(n, k)\n",
        "print(output)\n",
        "assert output == expected"
      ],
      "metadata": {
        "colab": {
          "base_uri": "https://localhost:8080/"
        },
        "id": "36GkOiPETeaX",
        "outputId": "ba81b230-74d8-42dd-8a10-dd4e7f19321f"
      },
      "execution_count": 2,
      "outputs": [
        {
          "output_type": "stream",
          "name": "stdout",
          "text": [
            "aay\n"
          ]
        }
      ]
    },
    {
      "cell_type": "code",
      "source": [
        "n = 5\n",
        "k = 73\n",
        "expected = 'aaszz'\n",
        "\n",
        "output = Solution().getSmallestString(n, k)\n",
        "print(output)\n",
        "assert output == expected"
      ],
      "metadata": {
        "colab": {
          "base_uri": "https://localhost:8080/"
        },
        "id": "gXmtWhYFT30o",
        "outputId": "926b00c8-31ec-48c8-f8e0-f24abeb2fbce"
      },
      "execution_count": 3,
      "outputs": [
        {
          "output_type": "stream",
          "name": "stdout",
          "text": [
            "aaszz\n"
          ]
        }
      ]
    }
  ]
}