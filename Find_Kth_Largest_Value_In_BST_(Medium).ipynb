{
  "nbformat": 4,
  "nbformat_minor": 0,
  "metadata": {
    "colab": {
      "name": "Find Kth Largest Value In BST (Medium).ipynb",
      "provenance": [],
      "collapsed_sections": [],
      "authorship_tag": "ABX9TyMhAzjs86XMijsr7c9I3Von",
      "include_colab_link": true
    },
    "kernelspec": {
      "name": "python3",
      "display_name": "Python 3"
    },
    "language_info": {
      "name": "python"
    }
  },
  "cells": [
    {
      "cell_type": "markdown",
      "metadata": {
        "id": "view-in-github",
        "colab_type": "text"
      },
      "source": [
        "<a href=\"https://colab.research.google.com/github/wisarootl/leetcode/blob/main/Find_Kth_Largest_Value_In_BST_(Medium).ipynb\" target=\"_parent\"><img src=\"https://colab.research.google.com/assets/colab-badge.svg\" alt=\"Open In Colab\"/></a>"
      ]
    },
    {
      "cell_type": "code",
      "execution_count": null,
      "metadata": {
        "id": "z2z806StjPXy"
      },
      "outputs": [],
      "source": [
        "# This is an input class. Do not edit.\n",
        "class BST:\n",
        "\tdef __init__(self, value, left=None, right=None):\n",
        "\t\tself.value = value\n",
        "\t\tself.left = left\n",
        "\t\tself.right = right\n",
        "\n",
        "# Time O(n)\n",
        "# Space O(n)\n",
        "def findKthLargestValueInBst(tree, k):\n",
        "\ttraversal_order = []\n",
        "\treversed_inorder_traversal(tree, traversal_order)\n",
        "\treturn traversal_order[-k]\n",
        "\n",
        "def reversed_inorder_traversal(tree, traversal_order):\n",
        "\tif tree == None:\n",
        "\t\treturn\n",
        "\treversed_inorder_traversal(tree.left, traversal_order)\n",
        "\ttraversal_order.append(tree.value)\n",
        "\treversed_inorder_traversal(tree.right, traversal_order)"
      ]
    },
    {
      "cell_type": "code",
      "source": [
        "# This is an input class. Do not edit.\n",
        "class BST:\n",
        "  def __init__(self, value, left=None, right=None):\n",
        "    self.value = value\n",
        "    self.left = left\n",
        "    self.right = right\n",
        "\n",
        "# Time O(k)\n",
        "# Space O(1)\n",
        "def findKthLargestValueInBst(tree, k):\n",
        "  n = 0\n",
        "  k_largest = None\n",
        "  k_largest, n = reversed_inorder_traversal(tree, n, k, k_largest)\n",
        "  return k_largest\n",
        "\n",
        "def reversed_inorder_traversal(tree, n, k, k_largest):\n",
        "  if tree == None:\n",
        "    return k_largest, n\n",
        "  k_largest, n = reversed_inorder_traversal(tree.right, n, k, k_largest)\n",
        "  n += 1\n",
        "  if n == k:\n",
        "    k_largest = tree.value\n",
        "    return k_largest, n\n",
        "  k_largest, n = reversed_inorder_traversal(tree.left, n, k, k_largest)\n",
        "  return k_largest, n"
      ],
      "metadata": {
        "id": "-dtJ7bMEkZ3d"
      },
      "execution_count": 33,
      "outputs": []
    },
    {
      "cell_type": "code",
      "source": [
        "tree = BST(15)\n",
        "tree.left = BST(5)\n",
        "tree.right = BST(20)\n",
        "tree.left.left = BST(2)\n",
        "tree.left.right = BST(5)\n",
        "tree.right.left = BST(17)\n",
        "tree.right.right = BST(22)\n",
        "tree.left.left.left = BST(1)\n",
        "tree.left.left.right = BST(3)"
      ],
      "metadata": {
        "id": "gSgRF-fCkclf"
      },
      "execution_count": 36,
      "outputs": []
    },
    {
      "cell_type": "code",
      "source": [
        "print(findKthLargestValueInBst(tree, 3))"
      ],
      "metadata": {
        "colab": {
          "base_uri": "https://localhost:8080/"
        },
        "id": "LIecjaT8k4Fi",
        "outputId": "9b5c0937-e06d-42e6-f381-c79abe2d6c53"
      },
      "execution_count": 37,
      "outputs": [
        {
          "output_type": "stream",
          "name": "stdout",
          "text": [
            "17\n"
          ]
        }
      ]
    }
  ]
}