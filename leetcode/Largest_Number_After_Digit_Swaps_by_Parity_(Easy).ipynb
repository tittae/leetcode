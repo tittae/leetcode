{
  "cells": [
    {
      "cell_type": "markdown",
      "metadata": {
        "colab_type": "text",
        "id": "view-in-github"
      },
      "source": [
        "<a href=\"https://colab.research.google.com/github/wisarootl/leetcode/blob/main/Largest_Number_After_Digit_Swaps_by_Parity_(Easy).ipynb\" target=\"_parent\"><img src=\"https://colab.research.google.com/assets/colab-badge.svg\" alt=\"Open In Colab\"/></a>"
      ]
    },
    {
      "cell_type": "markdown",
      "metadata": {
        "id": "H9LcG3UKUy-0"
      },
      "source": [
        "# Largest Number After Digit Swaps by Parity"
      ]
    },
    {
      "cell_type": "markdown",
      "metadata": {
        "id": "zV9H3synUwSm"
      },
      "source": [
        "You are given a positive integer num. You may swap any two digits of num that have the same parity (i.e. both odd digits or both even digits).\n",
        "\n",
        "Return the largest possible value of num after any number of swaps."
      ]
    },
    {
      "cell_type": "markdown",
      "metadata": {
        "id": "9DTJf_roU1ri"
      },
      "source": [
        "Example 1:\n",
        "\n",
        "```\n",
        "Input: num = 1234\n",
        "Output: 3412\n",
        "Explanation: Swap the digit 3 with the digit 1, this results in the number 3214.\n",
        "Swap the digit 2 with the digit 4, this results in the number 3412.\n",
        "Note that there may be other sequences of swaps but it can be shown that 3412 is the largest possible number.\n",
        "Also note that we may not swap the digit 4 with the digit 1 since they are of different parities.\n",
        "```\n",
        "\n"
      ]
    },
    {
      "cell_type": "markdown",
      "metadata": {
        "id": "u5vnK5gDU3-m"
      },
      "source": [
        "Example 2:\n",
        "\n",
        "```\n",
        "Input: num = 65875\n",
        "Output: 87655\n",
        "Explanation: Swap the digit 8 with the digit 6, this results in the number 85675.\n",
        "Swap the first digit 5 with the digit 7, this results in the number 87655.\n",
        "Note that there may be other sequences of swaps but it can be shown that 87655 is the largest possible number.\n",
        "```\n",
        "\n"
      ]
    },
    {
      "cell_type": "markdown",
      "metadata": {
        "id": "ysCv2b_NU7vg"
      },
      "source": [
        "Constraints:\n",
        "\n",
        "```\n",
        "1 <= num <= 109\n",
        "```\n",
        "\n"
      ]
    },
    {
      "cell_type": "code",
      "execution_count": 1,
      "metadata": {
        "id": "fUuVsnsUUmU4"
      },
      "outputs": [],
      "source": [
        "# Time = O(n)\n",
        "# Space = O(n)\n",
        "\n",
        "class Solution:\n",
        "    def largestInteger(self, num):\n",
        "        num = list(str(num))\n",
        "        num_odd = []\n",
        "        num_even = []\n",
        "        \n",
        "        for idx in range(len(num)):\n",
        "            if int(num[idx]) % 2 == 0:\n",
        "                num_even.append(num[idx])\n",
        "            else:\n",
        "                num_odd.append(num[idx])\n",
        "                \n",
        "        num_odd.sort()\n",
        "        num_even.sort()\n",
        "        \n",
        "        new_num = []        \n",
        "        \n",
        "        for idx in range(len(num)):\n",
        "            if int(num[idx]) % 2 == 0:\n",
        "                new_num.append(num_even.pop())\n",
        "            else:\n",
        "                new_num.append(num_odd.pop())\n",
        "        \n",
        "        return int(''.join(new_num))"
      ]
    },
    {
      "cell_type": "code",
      "execution_count": 2,
      "metadata": {
        "colab": {
          "base_uri": "https://localhost:8080/"
        },
        "id": "qNvwRx7HVB2Q",
        "outputId": "cfd4a821-9da5-4de4-c0d2-3db26907ac58"
      },
      "outputs": [
        {
          "name": "stdout",
          "output_type": "stream",
          "text": [
            "3412\n"
          ]
        }
      ],
      "source": [
        "num = 1234\n",
        "expected = 3412\n",
        "\n",
        "output = Solution().largestInteger(num)\n",
        "print(output)\n",
        "assert output == expected"
      ]
    },
    {
      "cell_type": "code",
      "execution_count": 3,
      "metadata": {
        "colab": {
          "base_uri": "https://localhost:8080/"
        },
        "id": "fhzAQRljVRWc",
        "outputId": "2c8bd9a7-a500-42b0-ba3f-991a2892c56e"
      },
      "outputs": [
        {
          "name": "stdout",
          "output_type": "stream",
          "text": [
            "87655\n"
          ]
        }
      ],
      "source": [
        "num = 65875\n",
        "expected = 87655\n",
        "\n",
        "output = Solution().largestInteger(num)\n",
        "print(output)\n",
        "assert output == expected"
      ]
    },
    {
      "cell_type": "code",
      "execution_count": 4,
      "metadata": {
        "colab": {
          "base_uri": "https://localhost:8080/"
        },
        "id": "Yrw1x2bfVYKb",
        "outputId": "2d134ce6-fcaa-4273-b12e-8a3bc979db01"
      },
      "outputs": [
        {
          "name": "stdout",
          "output_type": "stream",
          "text": [
            "427\n"
          ]
        }
      ],
      "source": [
        "num = 247\n",
        "expected = 427\n",
        "\n",
        "output = Solution().largestInteger(num)\n",
        "print(output)\n",
        "assert output == expected"
      ]
    }
  ],
  "metadata": {
    "colab": {
      "authorship_tag": "ABX9TyNkBOba5pmpdn96rkbQBnUp",
      "include_colab_link": true,
      "name": "Largest Number After Digit Swaps by Parity (Easy).ipynb",
      "provenance": []
    },
    "kernelspec": {
      "display_name": "Python 3",
      "language": "python",
      "name": "python3"
    },
    "language_info": {
      "codemirror_mode": {
        "name": "ipython",
        "version": 3
      },
      "file_extension": ".py",
      "mimetype": "text/x-python",
      "name": "python",
      "nbconvert_exporter": "python",
      "pygments_lexer": "ipython3",
      "version": "3.10.4"
    },
    "vscode": {
      "interpreter": {
        "hash": "20ac7aad763b689ebdaff2f53a3073c7ed55a0f51860968fbf5603f714378c4e"
      }
    }
  },
  "nbformat": 4,
  "nbformat_minor": 0
}
