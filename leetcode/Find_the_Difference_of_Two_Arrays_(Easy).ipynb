{
  "nbformat": 4,
  "nbformat_minor": 0,
  "metadata": {
    "colab": {
      "name": "Find the Difference of Two Arrays (Easy).ipynb",
      "provenance": [],
      "authorship_tag": "ABX9TyPiwa1ftElC3A5enkFA2pKF",
      "include_colab_link": true
    },
    "kernelspec": {
      "name": "python3",
      "display_name": "Python 3"
    },
    "language_info": {
      "name": "python"
    }
  },
  "cells": [
    {
      "cell_type": "markdown",
      "metadata": {
        "id": "view-in-github",
        "colab_type": "text"
      },
      "source": [
        "<a href=\"https://colab.research.google.com/github/wisarootl/leetcode/blob/main/Find_the_Difference_of_Two_Arrays_(Easy).ipynb\" target=\"_parent\"><img src=\"https://colab.research.google.com/assets/colab-badge.svg\" alt=\"Open In Colab\"/></a>"
      ]
    },
    {
      "cell_type": "markdown",
      "source": [
        "# Find the Difference of Two Arrays"
      ],
      "metadata": {
        "id": "gWXuUVDT8l53"
      }
    },
    {
      "cell_type": "markdown",
      "source": [
        "Given two 0-indexed integer arrays nums1 and nums2, return a list answer of size 2 where:\n",
        "\n",
        "- answer[0] is a list of all distinct integers in nums1 which are not present in nums2.\n",
        "- answer[1] is a list of all distinct integers in nums2 which are not present in nums1.\n",
        "\n",
        "Note that the integers in the lists may be returned in any order."
      ],
      "metadata": {
        "id": "RBqflEMm8pUS"
      }
    },
    {
      "cell_type": "markdown",
      "source": [
        "Example 1:\n",
        "\n",
        "```\n",
        "Input: nums1 = [1,2,3], nums2 = [2,4,6]\n",
        "Output: [[1,3],[4,6]]\n",
        "Explanation:\n",
        "For nums1, nums1[1] = 2 is present at index 0 of nums2, whereas nums1[0] = 1 and nums1[2] = 3 are not present in nums2. Therefore, answer[0] = [1,3].\n",
        "For nums2, nums2[0] = 2 is present at index 1 of nums1, whereas nums2[1] = 4 and nums2[2] = 6 are not present in nums2. Therefore, answer[1] = [4,6].\n",
        "```\n",
        "\n",
        "Example 2:\n",
        "\n",
        "```\n",
        "Input: nums1 = [1,2,3,3], nums2 = [1,1,2,2]\n",
        "Output: [[3],[]]\n",
        "Explanation:\n",
        "For nums1, nums1[2] and nums1[3] are not present in nums2. Since nums1[2] == nums1[3], their value is only included once and answer[0] = [3].\n",
        "Every integer in nums2 is present in nums1. Therefore, answer[1] = [].\n",
        "```\n",
        "\n",
        "\n"
      ],
      "metadata": {
        "id": "VS3fjPo08rdR"
      }
    },
    {
      "cell_type": "markdown",
      "source": [
        "Constraints:\n",
        "\n",
        "```\n",
        "1 <= nums1.length, nums2.length <= 1000\n",
        "-1000 <= nums1[i], nums2[i] <= 1000\n",
        "```\n",
        "\n"
      ],
      "metadata": {
        "id": "IC7SjeI68wzy"
      }
    },
    {
      "cell_type": "code",
      "execution_count": 1,
      "metadata": {
        "id": "wZg8Mi7W8j38"
      },
      "outputs": [],
      "source": [
        "# Time O(n + m)\n",
        "# Space O(n + m)\n",
        "\n",
        "\n",
        "# n = len(nums1)\n",
        "# m = len(nums2)\n",
        "\n",
        "class Solution:\n",
        "    def findDifference(self, nums1, nums2):\n",
        "        nums1_set = set(nums1)\n",
        "        nums2_set = set(nums2)\n",
        "        \n",
        "        return [list(nums1_set.difference(nums2_set)), list(nums2_set.difference(nums1_set))]"
      ]
    },
    {
      "cell_type": "code",
      "source": [
        "nums1 = [1,2,3,3]\n",
        "nums2 = [1,1,2,2]\n",
        "expected = [[3],[]]\n",
        "\n",
        "output = Solution().findDifference(nums1, nums2)\n",
        "print(output)\n",
        "assert output == expected"
      ],
      "metadata": {
        "colab": {
          "base_uri": "https://localhost:8080/"
        },
        "id": "LdyWuE0v80Vc",
        "outputId": "a2c0e980-1e59-49b6-936f-0e3a5fb79cf5"
      },
      "execution_count": 2,
      "outputs": [
        {
          "output_type": "stream",
          "name": "stdout",
          "text": [
            "[[3], []]\n"
          ]
        }
      ]
    }
  ]
}