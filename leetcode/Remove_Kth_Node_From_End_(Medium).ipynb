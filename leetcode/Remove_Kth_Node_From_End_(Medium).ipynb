{
  "nbformat": 4,
  "nbformat_minor": 0,
  "metadata": {
    "colab": {
      "name": "Remove Kth Node From End (Medium).ipynb",
      "provenance": [],
      "authorship_tag": "ABX9TyNBJYMY8lsBj0QIOA6iBzhg",
      "include_colab_link": true
    },
    "kernelspec": {
      "name": "python3",
      "display_name": "Python 3"
    },
    "language_info": {
      "name": "python"
    }
  },
  "cells": [
    {
      "cell_type": "markdown",
      "metadata": {
        "id": "view-in-github",
        "colab_type": "text"
      },
      "source": [
        "<a href=\"https://colab.research.google.com/github/wisarootl/leetcode/blob/main/Remove_Kth_Node_From_End_(Medium).ipynb\" target=\"_parent\"><img src=\"https://colab.research.google.com/assets/colab-badge.svg\" alt=\"Open In Colab\"/></a>"
      ]
    },
    {
      "cell_type": "markdown",
      "source": [
        "# Remove Kth Node From End"
      ],
      "metadata": {
        "id": "TeMR_8SbElDK"
      }
    },
    {
      "cell_type": "markdown",
      "source": [
        "Write a function that takes in the head of a Singly Linked List and an integer `k` and removes the `k`th node from the end of the list.\n",
        "\n",
        "The removal should be done in place, meaning that the original data structure should be mutated (no new structure should be created).\n",
        "\n",
        "Furthermore, the input head of the linked list should remain the head of the linked list after the removal is done, even if the head is the node that's supposed to be removed. In other words, if the head is the node that's supposed to be removed, your function should simply mutate its `value` and `next` pointer.\n",
        "\n",
        "Note that your function doesn't need to return anything.\n",
        "\n",
        "You can assume that the input Linked List will always have at least two nodes and, more specifically, at least k nodes.\n",
        "\n",
        "Each `LinkedList` node has an integer `value` as well as a `next` node pointing to the next node in the list or to `None` / `null` if it's the tail of the list."
      ],
      "metadata": {
        "id": "QWmBdFBaEmrh"
      }
    },
    {
      "cell_type": "markdown",
      "source": [
        "Sample Input\n",
        "\n",
        "```\n",
        "head = 0 -> 1 -> 2 -> 3 -> 4 -> 5 -> 6 -> 7 -> 8 -> 9 // the head node with value 0\n",
        "k = 4\n",
        "```\n",
        "\n"
      ],
      "metadata": {
        "id": "G6T8tiEmEzTA"
      }
    },
    {
      "cell_type": "markdown",
      "source": [
        "Sample Output\n",
        "\n",
        "```\n",
        "// No output required.\n",
        "// The 4th node from the end of the list (the node with value 6) is removed.\n",
        "0 -> 1 -> 2 -> 3 -> 4 -> 5 -> 7 -> 8 -> 9\n",
        "```\n",
        "\n"
      ],
      "metadata": {
        "id": "qMsc57FuE2Kh"
      }
    },
    {
      "cell_type": "code",
      "execution_count": null,
      "metadata": {
        "id": "-aXhZdSuwAtg"
      },
      "outputs": [],
      "source": [
        "# This is an input class. Do not edit.\n",
        "class LinkedList:\n",
        "  def __init__(self, value):\n",
        "    self.value = value\n",
        "    self.next = None\n",
        "\n",
        "  def __str__(self):\n",
        "    node = self\n",
        "    output_str = ''\n",
        "    while node != None:\n",
        "      output_str = output_str + str(node.value)\n",
        "      if node.next != None:\n",
        "        output_str = output_str + ' -> '\n",
        "      node = node.next\n",
        "    return output_str\n",
        "\n",
        "# Time O(n)\n",
        "# Space O(1)\n",
        "def removeKthNodeFromEnd(head, k):\n",
        "  num_elements = linked_list_element_counter(head)\n",
        "  removal_position = num_elements - k\n",
        "  node = head\n",
        "  previous_node = None\n",
        "  while removal_position > 0:\n",
        "    previous_node = node\n",
        "    node = node.next\n",
        "    removal_position -= 1\n",
        "  if previous_node != None:\n",
        "    previous_node.next = node.next\n",
        "  else:\n",
        "    node.value = node.next.value\n",
        "    node.next = node.next.next\n",
        "    \n",
        "\n",
        "def linked_list_element_counter(head):\n",
        "  counter = 0\n",
        "  node = head\n",
        "  while node != None:\n",
        "    counter += 1\n",
        "    node = node.next\n",
        "  return counter"
      ]
    },
    {
      "cell_type": "code",
      "source": [
        "def create_link_list(array):\n",
        "  head = LinkedList(array[0])\n",
        "  node = head\n",
        "  for i in range(1, len(array)):\n",
        "    node.next = LinkedList(array[i])\n",
        "    node = node.next\n",
        "  return head"
      ],
      "metadata": {
        "id": "RarhR6AQwfQ3"
      },
      "execution_count": null,
      "outputs": []
    },
    {
      "cell_type": "code",
      "source": [
        "head = create_link_list(range(10))\n",
        "print(head)"
      ],
      "metadata": {
        "colab": {
          "base_uri": "https://localhost:8080/"
        },
        "id": "ish9cMMOwj0m",
        "outputId": "fd48f848-be4c-4165-cc59-31fa987090fa"
      },
      "execution_count": null,
      "outputs": [
        {
          "output_type": "stream",
          "name": "stdout",
          "text": [
            "0 -> 1 -> 2 -> 3 -> 4 -> 5 -> 6 -> 7 -> 8 -> 9\n"
          ]
        }
      ]
    },
    {
      "cell_type": "code",
      "source": [
        "k = 4\n",
        "removeKthNodeFromEnd(head, k)"
      ],
      "metadata": {
        "id": "nml7QrR_wtp6"
      },
      "execution_count": null,
      "outputs": []
    },
    {
      "cell_type": "code",
      "source": [
        "print(head)"
      ],
      "metadata": {
        "colab": {
          "base_uri": "https://localhost:8080/"
        },
        "id": "56JYdA-Iww5m",
        "outputId": "974779db-ef68-4c41-b78e-8fd9f21d2900"
      },
      "execution_count": null,
      "outputs": [
        {
          "output_type": "stream",
          "name": "stdout",
          "text": [
            "0 -> 1 -> 2 -> 3 -> 4 -> 5 -> 7 -> 8 -> 9\n"
          ]
        }
      ]
    },
    {
      "cell_type": "code",
      "source": [
        "# This is an input class. Do not edit.\n",
        "class LinkedList:\n",
        "  def __init__(self, value):\n",
        "    self.value = value\n",
        "    self.next = None\n",
        "\n",
        "  def __str__(self):\n",
        "    node = self\n",
        "    output_str = ''\n",
        "    while node != None:\n",
        "      output_str = output_str + str(node.value)\n",
        "      if node.next != None:\n",
        "        output_str = output_str + ' -> '\n",
        "      node = node.next\n",
        "    return output_str\n",
        "\n",
        "\n",
        "def removeKthNodeFromEnd(head, k):\n",
        "  first_pointer = head\n",
        "  second_pointer = head\n",
        "  while k != 0:\n",
        "    second_pointer = second_pointer.next\n",
        "    k -= 1\n",
        "\n",
        "  # second_pointer will be k node ahead of first_pointer\n",
        "  # Then, we move both until second_pointer.next = None\n",
        "  if second_pointer == None:\n",
        "    head.value = head.next.value\n",
        "    head.next = head.next.next\n",
        "    return\n",
        "  while second_pointer.next != None:\n",
        "    first_pointer = first_pointer.next\n",
        "    second_pointer = second_pointer.next\n",
        "  first_pointer.next = first_pointer.next.next"
      ],
      "metadata": {
        "id": "TfzPjGKi6fwJ"
      },
      "execution_count": null,
      "outputs": []
    },
    {
      "cell_type": "code",
      "source": [
        "head = create_link_list(range(10))\n",
        "print(head)"
      ],
      "metadata": {
        "colab": {
          "base_uri": "https://localhost:8080/"
        },
        "id": "Sueqsb366hiC",
        "outputId": "82b0acfb-5354-4873-8835-d55d6c309179"
      },
      "execution_count": null,
      "outputs": [
        {
          "output_type": "stream",
          "name": "stdout",
          "text": [
            "0 -> 1 -> 2 -> 3 -> 4 -> 5 -> 6 -> 7 -> 8 -> 9\n"
          ]
        }
      ]
    },
    {
      "cell_type": "code",
      "source": [
        "k = 4\n",
        "removeKthNodeFromEnd(head, k)"
      ],
      "metadata": {
        "id": "KGnKCm5q6iz5"
      },
      "execution_count": null,
      "outputs": []
    },
    {
      "cell_type": "code",
      "source": [
        "print(head)"
      ],
      "metadata": {
        "colab": {
          "base_uri": "https://localhost:8080/"
        },
        "id": "vI0_DLPV6ocg",
        "outputId": "1ad477df-e2a9-4669-bf6c-1d8f88f87b6c"
      },
      "execution_count": null,
      "outputs": [
        {
          "output_type": "stream",
          "name": "stdout",
          "text": [
            "0 -> 1 -> 2 -> 3 -> 4 -> 5 -> 7 -> 8 -> 9\n"
          ]
        }
      ]
    }
  ]
}