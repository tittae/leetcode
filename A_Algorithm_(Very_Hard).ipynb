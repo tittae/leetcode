{
  "nbformat": 4,
  "nbformat_minor": 0,
  "metadata": {
    "colab": {
      "name": "A* Algorithm (Very Hard).ipynb",
      "provenance": [],
      "authorship_tag": "ABX9TyNQNxe5RH0tm3C5tbb3jN/M",
      "include_colab_link": true
    },
    "kernelspec": {
      "name": "python3",
      "display_name": "Python 3"
    },
    "language_info": {
      "name": "python"
    }
  },
  "cells": [
    {
      "cell_type": "markdown",
      "metadata": {
        "id": "view-in-github",
        "colab_type": "text"
      },
      "source": [
        "<a href=\"https://colab.research.google.com/github/wisarootl/leetcode/blob/main/A_Algorithm_(Very_Hard).ipynb\" target=\"_parent\"><img src=\"https://colab.research.google.com/assets/colab-badge.svg\" alt=\"Open In Colab\"/></a>"
      ]
    },
    {
      "cell_type": "markdown",
      "source": [
        "You're given a two-dimensional array containing `0`s and `1`s, where each `0` represents a free space and each `1` represents an obstacle (a space that cannot be passed through). You can think of this array as a grid-shaped graph. You're also given four integers `startRow`, `startCol`, `endRow`, and `endCol`, representing the positions of a start node and an end node in the graph.\n",
        "\n",
        "Write a function that finds the shortest path between the start node and the end node using the A* search algorithm and returns it.\n",
        "\n",
        "The shortest path should be returned as an array of node positions, where each node position is an array of two elements: the `[row, col]` of the respective node in the graph. The output array should contain the start node's position, the end node's position, and all of the positions of the remaining nodes in the shortest path, and these node positions should be ordered from start node to end node.\n",
        "\n",
        "If there is no path from the start node to the end node, your function should return an empty array.\n",
        "\n",
        "Note that:\n",
        "\n",
        "From each node in the graph, you can only travel in four directions: up, left, down and right; you can't travel diagonally.\n",
        "The distance between all neighboring nodes in the graph is the same; you can treat it as a distance of 1.\n",
        "The start node and end node are guaranteed to be located in empty spaces (cells containing `0`).\n",
        "The start node and end node will never be out of bounds and will never overlap.\n",
        "There will be at most one shortest path from the start node to the end node.\n",
        "If you're unfamiliar with A*, we recommend watching the Conceptual Overview section of this question's video explanation before starting to code."
      ],
      "metadata": {
        "id": "K5-C0YwBKBxW"
      }
    },
    {
      "cell_type": "markdown",
      "source": [
        "Sample Input\n",
        "\n",
        "```\n",
        "startRow = 0\n",
        "startCol = 1\n",
        "endRow = 4\n",
        "endCol = 3\n",
        "graph = [\n",
        "  [0, 0, 0, 0, 0],\n",
        "  [0, 1, 1, 1, 0],\n",
        "  [0, 0, 0, 0, 0],\n",
        "  [1, 0, 1, 1, 1],\n",
        "  [0, 0, 0, 0, 0],\n",
        "]\n",
        "```\n",
        "\n"
      ],
      "metadata": {
        "id": "zBX0dHCcKPos"
      }
    },
    {
      "cell_type": "markdown",
      "source": [
        "Sample Output\n",
        "\n",
        "```\n",
        "[[0, 1], [0, 0], [1, 0], [2, 0], [2, 1], [3, 1], [4, 1], [4, 2], [4, 3]]\n",
        "\n",
        "// The shortest path can be clearly seen here:\n",
        "// [\n",
        "//   [., ., 0, 0, 0],\n",
        "//   [., 1, 1, 1, 0],\n",
        "//   [., ., 0, 0, 0],\n",
        "//   [1, ., 1, 1, 1],\n",
        "//   [0, ., ., ., 0],\n",
        "// ]\n",
        "```\n",
        "\n"
      ],
      "metadata": {
        "id": "FMsfiwoOKdKs"
      }
    },
    {
      "cell_type": "code",
      "execution_count": 45,
      "metadata": {
        "id": "lTfs3CQBJ-rZ"
      },
      "outputs": [],
      "source": [
        "def aStarAlgorithm(startRow, startCol, endRow, endCol, graph):\n",
        "  # init fringe\n",
        "  graph = init_graph(graph)\n",
        "\n",
        "  start_node = graph[startRow][startCol]\n",
        "  end_node = graph[endRow][endCol]\n",
        "  start_node.g = 0\n",
        "  start_node.f = cal_heuristic(start_node, end_node)\n",
        "\n",
        "  fringe = MinHeap([start_node])\n",
        "\n",
        "  while True:\n",
        "    # is fringe empty?\n",
        "    if fringe.heap == []:\n",
        "      break\n",
        "\n",
        "    # remove front\n",
        "    front = fringe.remove()\n",
        "\n",
        "    # is goal\n",
        "    if front == end_node:\n",
        "      break\n",
        "\n",
        "    # gen/insert successor\n",
        "    neighbors = get_neighbors(front, graph)\n",
        "    for neighbor in neighbors:\n",
        "      if neighbor.value == 1:\n",
        "        continue\n",
        "      \n",
        "      tentative_neighbor_g = front.g + 1\n",
        "      if tentative_neighbor_g >= neighbor.g:\n",
        "        continue\n",
        "      \n",
        "      neighbor.from_node = front\n",
        "      neighbor.g = tentative_neighbor_g\n",
        "      neighbor.f = neighbor.g + cal_heuristic(front, end_node)\n",
        "\n",
        "      if not fringe.is_contain(neighbor):\n",
        "        fringe.insert(neighbor)\n",
        "      else:\n",
        "        fringe.update(neighbor)\n",
        "\n",
        "  return trackback_path(end_node)\n",
        "\n",
        "def init_graph(graph):\n",
        "  new_graph = []\n",
        "\n",
        "  for i, row in enumerate(graph):\n",
        "    new_graph.append([])\n",
        "    for j, value in enumerate(row):\n",
        "      new_graph[i].append(Node(i, j, value))\n",
        "  \n",
        "  return new_graph\n",
        "\n",
        "def cal_heuristic(current_node, end_node):\n",
        "  return abs(current_node.row - end_node.row) + abs(current_node.col - end_node.col)\n",
        "\n",
        "def get_neighbors(current, graph):\n",
        "  neighbors = []\n",
        "  last_row = len(graph) - 1\n",
        "  last_col = len(graph[0]) - 1\n",
        "\n",
        "  if current.row <= last_row - 1: # down\n",
        "    neighbors.append(graph[current.row + 1][current.col])\n",
        "  \n",
        "  if current.row >= 1: # up\n",
        "    neighbors.append(graph[current.row - 1][current.col])\n",
        "    \n",
        "  if current.col <= last_col - 1: # right\n",
        "    neighbors.append(graph[current.row][current.col + 1])\n",
        "    \n",
        "  if current.col >= 1: # left\n",
        "    neighbors.append(graph[current.row][current.col - 1])\n",
        "  \n",
        "  return neighbors\n",
        "\n",
        "def trackback_path(end_node):\n",
        "  if end_node.from_node == None:\n",
        "    return []\n",
        "\n",
        "  current_node = end_node\n",
        "  path = []\n",
        "\n",
        "  while current_node != None:\n",
        "    path.append([current_node.row, current_node.col])\n",
        "    current_node = current_node.from_node\n",
        "  \n",
        "  return path[::-1]\n",
        "\n",
        "class Node:\n",
        "  def __init__(self, row, col, value):\n",
        "    self.id = (row, col)\n",
        "    self.row = row\n",
        "    self.col = col\n",
        "    self.value = value\n",
        "    self.g = float('inf')\n",
        "    self.f = float('inf')\n",
        "    self.from_node = None\n",
        "\n",
        "class MinHeap:\n",
        "  def __init__(self, array):\n",
        "    self.heap = self.build_heap(array)\n",
        "    self.node_position_in_heap = {node.id: idx for idx, node in enumerate(self.heap)}\n",
        "\n",
        "  def build_heap(self, array):\n",
        "    last_parent = (len(array) - 2) // 2\n",
        "    for idx in reversed(range(last_parent + 1)):\n",
        "      self.sift_down(idx, array)\n",
        "    return array\n",
        "  \n",
        "  def sift_down(self, idx, heap):\n",
        "    child_one_idx = (2 * idx) + 1\n",
        "    child_two_idx = (2 * idx) + 2\n",
        "    end_idx = len(heap) - 1\n",
        "    while child_one_idx <= end_idx:\n",
        "      if child_two_idx <= end_idx and heap[child_two_idx].f < heap[child_one_idx].f:\n",
        "        idx_to_swap = child_two_idx\n",
        "      else:\n",
        "        idx_to_swap = child_one_idx\n",
        "      \n",
        "      if heap[idx_to_swap].f < heap[idx].f:\n",
        "        self.swap(idx, idx_to_swap, heap)\n",
        "        idx = idx_to_swap\n",
        "        child_one_idx = (2 * idx) + 1\n",
        "        child_two_idx = (2 * idx) + 2\n",
        "      else:\n",
        "        return\n",
        "\n",
        "  def sift_up(self, idx, heap):\n",
        "    parent_idx = (idx - 1) // 2\n",
        "    while idx > 0 and heap[idx].f < heap[parent_idx].f:\n",
        "      self.swap(idx, parent_idx, heap)\n",
        "      idx = parent_idx\n",
        "      parent_idx = (idx - 1) // 2\n",
        "\n",
        "  def remove(self, idx = 0):\n",
        "    self.swap(idx, len(self.heap) - 1, self.heap)\n",
        "    removed_node = self.heap.pop()\n",
        "    del self.node_position_in_heap[removed_node.id]\n",
        "    self.sift_down(idx, self.heap)\n",
        "    return removed_node\n",
        "  \n",
        "  def insert(self, node):\n",
        "    self.heap.append(node)\n",
        "    self.node_position_in_heap[node.id] = len(self.heap) - 1\n",
        "    self.sift_up(len(self.heap) - 1, self.heap)\n",
        "  \n",
        "  def update(self, node):\n",
        "    self.sift_up(self.node_position_in_heap[node.id], self.heap)\n",
        "\n",
        "  def swap(self, i, j, heap):\n",
        "    self.node_position_in_heap[heap[i].id] = j\n",
        "    self.node_position_in_heap[heap[j].id] = i\n",
        "    heap[i], heap[j] = heap[j], heap[i]\n",
        "  \n",
        "  def is_contain(self, node):\n",
        "    return node.id in self.node_position_in_heap"
      ]
    },
    {
      "cell_type": "code",
      "source": [
        "startCol = 1\n",
        "startRow = 0\n",
        "endCol = 3\n",
        "endRow = 4\n",
        "graph = [\n",
        "    [0, 0, 0, 0, 0],\n",
        "    [0, 1, 1, 1, 0],\n",
        "    [0, 0, 0, 0, 0],\n",
        "    [1, 0, 1, 1, 1],\n",
        "    [0, 0, 0, 0, 0]\n",
        "  ]"
      ],
      "metadata": {
        "id": "8lS38VEOm5Sm"
      },
      "execution_count": 46,
      "outputs": []
    },
    {
      "cell_type": "code",
      "source": [
        "print(aStarAlgorithm(startRow, startCol, endRow, endCol, graph))"
      ],
      "metadata": {
        "colab": {
          "base_uri": "https://localhost:8080/"
        },
        "id": "El86aZZpnC3C",
        "outputId": "5e9b8e7b-2efe-48aa-ead5-3c4052259275"
      },
      "execution_count": 47,
      "outputs": [
        {
          "output_type": "stream",
          "name": "stdout",
          "text": [
            "[[0, 1], [0, 0], [1, 0], [2, 0], [2, 1], [3, 1], [4, 1], [4, 2], [4, 3]]\n"
          ]
        }
      ]
    },
    {
      "cell_type": "code",
      "source": [
        "startCol = 1\n",
        "startRow = 1\n",
        "endCol = 17\n",
        "endRow = 18\n",
        "graph = [\n",
        "    [0, 0, 0, 0, 1, 0, 0, 0, 0, 0, 0, 0, 0, 0, 0, 1, 0, 0, 0, 0],\n",
        "    [0, 0, 0, 0, 1, 0, 0, 1, 1, 1, 0, 0, 0, 0, 0, 1, 1, 0, 0, 0],\n",
        "    [0, 0, 0, 0, 1, 0, 0, 1, 0, 1, 0, 0, 1, 0, 0, 0, 1, 0, 0, 0],\n",
        "    [0, 0, 0, 0, 0, 0, 1, 0, 0, 0, 0, 1, 1, 0, 0, 0, 1, 1, 0, 0],\n",
        "    [0, 0, 0, 0, 1, 1, 0, 0, 0, 0, 1, 0, 0, 0, 0, 0, 0, 1, 0, 0],\n",
        "    [0, 0, 0, 0, 1, 0, 0, 0, 0, 1, 1, 0, 1, 1, 1, 0, 1, 1, 0, 0],\n",
        "    [0, 0, 0, 0, 1, 0, 0, 0, 0, 1, 0, 1, 1, 0, 0, 0, 1, 0, 0, 0],\n",
        "    [0, 0, 0, 0, 1, 0, 0, 0, 1, 0, 0, 1, 0, 0, 1, 1, 1, 0, 0, 0],\n",
        "    [0, 0, 0, 0, 1, 0, 0, 0, 1, 0, 0, 1, 0, 0, 1, 0, 0, 0, 0, 0],\n",
        "    [0, 0, 0, 0, 1, 0, 0, 0, 0, 0, 0, 1, 0, 1, 0, 0, 0, 0, 1, 0],\n",
        "    [0, 0, 0, 0, 1, 0, 1, 1, 0, 0, 0, 1, 0, 0, 0, 1, 1, 0, 1, 0],\n",
        "    [0, 0, 0, 0, 1, 1, 0, 1, 0, 0, 0, 1, 0, 0, 0, 1, 0, 0, 1, 0],\n",
        "    [0, 0, 0, 0, 1, 0, 0, 1, 0, 0, 1, 0, 0, 0, 0, 1, 0, 0, 1, 0],\n",
        "    [0, 0, 0, 1, 1, 0, 0, 1, 0, 0, 0, 0, 0, 0, 0, 1, 0, 0, 1, 0],\n",
        "    [0, 0, 0, 0, 0, 1, 1, 1, 1, 0, 0, 1, 0, 0, 0, 1, 0, 0, 1, 0],\n",
        "    [0, 0, 1, 1, 1, 0, 1, 1, 0, 0, 1, 0, 0, 0, 1, 0, 0, 0, 0, 0],\n",
        "    [0, 0, 1, 0, 0, 0, 1, 0, 0, 1, 1, 0, 1, 1, 1, 0, 1, 1, 1, 1],\n",
        "    [0, 0, 1, 0, 0, 0, 0, 1, 1, 0, 1, 1, 1, 0, 0, 0, 1, 0, 0, 0],\n",
        "    [0, 0, 1, 1, 0, 0, 1, 1, 0, 0, 0, 0, 0, 0, 0, 0, 1, 0, 0, 0],\n",
        "    [0, 1, 0, 0, 0, 0, 0, 0, 0, 0, 0, 0, 0, 0, 0, 0, 1, 0, 0, 0]\n",
        "  ]"
      ],
      "metadata": {
        "id": "fMzgiYw6mfHy"
      },
      "execution_count": 48,
      "outputs": []
    },
    {
      "cell_type": "code",
      "source": [
        "print(aStarAlgorithm(startRow, startCol, endRow, endCol, graph))"
      ],
      "metadata": {
        "colab": {
          "base_uri": "https://localhost:8080/"
        },
        "id": "PBiS3vqEmsmk",
        "outputId": "2b008daa-8b77-4387-a512-f36cfdf1541a"
      },
      "execution_count": 49,
      "outputs": [
        {
          "output_type": "stream",
          "name": "stdout",
          "text": [
            "[]\n"
          ]
        }
      ]
    }
  ]
}