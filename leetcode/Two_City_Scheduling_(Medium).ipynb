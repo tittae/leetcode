{
  "nbformat": 4,
  "nbformat_minor": 0,
  "metadata": {
    "colab": {
      "name": "Two City Scheduling (Medium).ipynb",
      "provenance": [],
      "authorship_tag": "ABX9TyNi9evEDjbZcQHLWTWo0V5F",
      "include_colab_link": true
    },
    "kernelspec": {
      "name": "python3",
      "display_name": "Python 3"
    },
    "language_info": {
      "name": "python"
    }
  },
  "cells": [
    {
      "cell_type": "markdown",
      "metadata": {
        "id": "view-in-github",
        "colab_type": "text"
      },
      "source": [
        "<a href=\"https://colab.research.google.com/github/wisarootl/leetcode/blob/main/Two_City_Scheduling_(Medium).ipynb\" target=\"_parent\"><img src=\"https://colab.research.google.com/assets/colab-badge.svg\" alt=\"Open In Colab\"/></a>"
      ]
    },
    {
      "cell_type": "markdown",
      "source": [
        "# Two City Scheduling"
      ],
      "metadata": {
        "id": "nhBk3Q4Ox4d2"
      }
    },
    {
      "cell_type": "markdown",
      "source": [
        "A company is planning to interview 2n people. Given the array costs where costs[i] = [aCosti, bCosti], the cost of flying the ith person to city a is aCosti, and the cost of flying the ith person to city b is bCosti.\n",
        "\n",
        "Return the minimum cost to fly every person to a city such that exactly n people arrive in each city."
      ],
      "metadata": {
        "id": "GtJ7w3pOx9yA"
      }
    },
    {
      "cell_type": "markdown",
      "source": [
        "Example 1:\n",
        "\n",
        "```\n",
        "Input: costs = [[10,20],[30,200],[400,50],[30,20]]\n",
        "Output: 110\n",
        "Explanation: \n",
        "The first person goes to city A for a cost of 10.\n",
        "The second person goes to city A for a cost of 30.\n",
        "The third person goes to city B for a cost of 50.\n",
        "The fourth person goes to city B for a cost of 20.\n",
        "\n",
        "The total minimum cost is 10 + 30 + 50 + 20 = 110 to have half the people interviewing in each city.\n",
        "```\n",
        "\n"
      ],
      "metadata": {
        "id": "enxiiji0x_5y"
      }
    },
    {
      "cell_type": "markdown",
      "source": [
        "Example 2:\n",
        "\n",
        "```\n",
        "Input: costs = [[259,770],[448,54],[926,667],[184,139],[840,118],[577,469]]\n",
        "Output: 1859\n",
        "```\n",
        "\n"
      ],
      "metadata": {
        "id": "JoaY6NkayCCK"
      }
    },
    {
      "cell_type": "markdown",
      "source": [
        "Example 3:\n",
        "\n",
        "```\n",
        "Input: costs = [[515,563],[451,713],[537,709],[343,819],[855,779],[457,60],[650,359],[631,42]]\n",
        "Output: 3086\n",
        "```\n",
        "\n"
      ],
      "metadata": {
        "id": "9Utth8BKyEGM"
      }
    },
    {
      "cell_type": "markdown",
      "source": [
        "Constraints:\n",
        "\n",
        "```\n",
        "2 * n == costs.length\n",
        "2 <= costs.length <= 100\n",
        "costs.length is even.\n",
        "1 <= aCosti, bCosti <= 1000\n",
        "```\n",
        "\n"
      ],
      "metadata": {
        "id": "b6rNBca3yGq_"
      }
    },
    {
      "cell_type": "markdown",
      "source": [
        "# Solution"
      ],
      "metadata": {
        "id": "sqZuX6Jj2Wy2"
      }
    },
    {
      "cell_type": "markdown",
      "source": [
        "- Sort by different cost between city a and b"
      ],
      "metadata": {
        "id": "QhBjft3l2X9s"
      }
    },
    {
      "cell_type": "code",
      "execution_count": 1,
      "metadata": {
        "id": "OPIDxZJix0z5"
      },
      "outputs": [],
      "source": [
        "# Time O(N log(N))\n",
        "# Space O(1)\n",
        "\n",
        "class Solution:\n",
        "    def twoCitySchedCost(self, costs):\n",
        "        costs.sort(key=lambda x: x[0] - x[1])\n",
        "        total_minimum_cost = 0\n",
        "        for idx in range(len(costs)):\n",
        "            if idx <= (len(costs) / 2) - 1:\n",
        "                total_minimum_cost += costs[idx][0]\n",
        "            else:\n",
        "                total_minimum_cost += costs[idx][1]\n",
        "        \n",
        "        return total_minimum_cost"
      ]
    },
    {
      "cell_type": "code",
      "source": [
        "costs = [[10,20],[30,200],[400,50],[30,20]]\n",
        "expected = 110\n",
        "\n",
        "output = Solution().twoCitySchedCost(costs)\n",
        "print(output)\n",
        "assert output == expected"
      ],
      "metadata": {
        "colab": {
          "base_uri": "https://localhost:8080/"
        },
        "id": "MMvWlgjHytuw",
        "outputId": "0679bf21-263f-4a0e-ec27-5b07407427d6"
      },
      "execution_count": 2,
      "outputs": [
        {
          "output_type": "stream",
          "name": "stdout",
          "text": [
            "110\n"
          ]
        }
      ]
    },
    {
      "cell_type": "code",
      "source": [
        "costs = [[259,770],[448,54],[926,667],[184,139],[840,118],[577,469]]\n",
        "expected = 1859\n",
        "\n",
        "output = Solution().twoCitySchedCost(costs)\n",
        "print(output)\n",
        "assert output == expected"
      ],
      "metadata": {
        "colab": {
          "base_uri": "https://localhost:8080/"
        },
        "id": "PaCP_L2Iy5TY",
        "outputId": "01b60e1a-266b-4a5b-abef-e7e4546030f6"
      },
      "execution_count": 3,
      "outputs": [
        {
          "output_type": "stream",
          "name": "stdout",
          "text": [
            "1859\n"
          ]
        }
      ]
    },
    {
      "cell_type": "code",
      "source": [
        "costs = [[515,563],[451,713],[537,709],[343,819],[855,779],[457,60],[650,359],[631,42]]\n",
        "expected = 3086\n",
        "\n",
        "output = Solution().twoCitySchedCost(costs)\n",
        "print(output)\n",
        "assert output == expected"
      ],
      "metadata": {
        "colab": {
          "base_uri": "https://localhost:8080/"
        },
        "id": "4T-2Lhppy72B",
        "outputId": "27b15eb4-910f-4e84-cd16-70fe443bda1a"
      },
      "execution_count": 4,
      "outputs": [
        {
          "output_type": "stream",
          "name": "stdout",
          "text": [
            "3086\n"
          ]
        }
      ]
    }
  ]
}