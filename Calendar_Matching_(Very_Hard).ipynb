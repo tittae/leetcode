{
  "nbformat": 4,
  "nbformat_minor": 0,
  "metadata": {
    "colab": {
      "name": "Calendar Matching (Very Hard).ipynb",
      "provenance": [],
      "authorship_tag": "ABX9TyNVCiYf3p0Hdbq4Im8rkSYE",
      "include_colab_link": true
    },
    "kernelspec": {
      "name": "python3",
      "display_name": "Python 3"
    },
    "language_info": {
      "name": "python"
    }
  },
  "cells": [
    {
      "cell_type": "markdown",
      "metadata": {
        "id": "view-in-github",
        "colab_type": "text"
      },
      "source": [
        "<a href=\"https://colab.research.google.com/github/wisarootl/leetcode/blob/main/Calendar_Matching_(Very_Hard).ipynb\" target=\"_parent\"><img src=\"https://colab.research.google.com/assets/colab-badge.svg\" alt=\"Open In Colab\"/></a>"
      ]
    },
    {
      "cell_type": "markdown",
      "source": [
        "# Calendar Matching"
      ],
      "metadata": {
        "id": "ABxFPWbRXP4F"
      }
    },
    {
      "cell_type": "markdown",
      "source": [
        "Imagine that you want to schedule a meeting of a certain duration with a co-worker. You have access to your calendar and your co-worker's calendar (both of which contain your respective meetings for the day, in the form of `[startTime, endTime]`), as well as both of your daily bounds (i.e., the earliest and latest times at which you're available for meetings every day, in the form of `[earliestTime, latestTime]`).\n",
        "\n",
        "Write a function that takes in your calendar, your daily bounds, your co-worker's calendar, your co-worker's daily bounds, and the duration of the meeting that you want to schedule, and that returns a list of all the time blocks (in the form of `[startTime, endTime]`) during which you could schedule the meeting, ordered from earliest time block to latest.\n",
        "\n",
        "Note that times will be given and should be returned in military time. For example: `8:30`, `9:01`, and `23:56`.\n",
        "\n",
        "Also note that the given calendar times will be sorted by start time in ascending order, as you would expect them to appear in a calendar application like Google Calendar."
      ],
      "metadata": {
        "id": "DX4lwO41W3K6"
      }
    },
    {
      "cell_type": "markdown",
      "source": [
        "Sample Input\n",
        "\n",
        "```\n",
        "calendar1 = [['9:00', '10:30'], ['12:00', '13:00'], ['16:00', '18:00']]\n",
        "dailyBounds1 = ['9:00', '20:00']\n",
        "calendar2 = [['10:00', '11:30'], ['12:30', '14:30'], ['14:30', '15:00'], ['16:00', '17:00']]\n",
        "dailyBounds2 = ['10:00', '18:30']\n",
        "meetingDuration = 30\n",
        "```\n",
        "\n"
      ],
      "metadata": {
        "id": "GMcFAwQRXGYs"
      }
    },
    {
      "cell_type": "markdown",
      "source": [
        "Sample Output\n",
        "\n",
        "```\n",
        "[['11:30', '12:00'], ['15:00', '16:00'], ['18:00', '18:30']]\n",
        "```\n",
        "\n"
      ],
      "metadata": {
        "id": "XJQO3D8iXKSG"
      }
    },
    {
      "cell_type": "markdown",
      "source": [
        "# Solution"
      ],
      "metadata": {
        "id": "q-sVxvMyXMZN"
      }
    },
    {
      "cell_type": "code",
      "execution_count": 1,
      "metadata": {
        "id": "OMLSpl6FBhYb"
      },
      "outputs": [],
      "source": [
        "# Time O(c1 + c2)\n",
        "# Space O(c1 + c2)\n",
        "\n",
        "def calendarMatching(calendar1, dailyBounds1, calendar2, dailyBounds2, meetingDuration):\n",
        "  calendar1 = update_calendar(calendar1, dailyBounds1)\n",
        "  calendar2 = update_calendar(calendar2, dailyBounds2)\n",
        "  merged_calendar = get_merged_calendar(calendar1, calendar2)\n",
        "  flatten_calendar = get_flatten_calendar(merged_calendar)\n",
        "  return get_common_availabilities(flatten_calendar, meetingDuration)\n",
        "\n",
        "def update_calendar(calendar, dailyBounds):\n",
        "  calendar.insert(0, ['0:00', dailyBounds[0]])\n",
        "  calendar.append([dailyBounds[1], '24:00'])\n",
        "  calendar = convert_calendar_to_min(calendar)\n",
        "  return calendar\n",
        "\n",
        "def convert_calendar_to_min(calendar):\n",
        "  return list(map(lambda time: [time_to_min(time[0]), time_to_min(time[1])] ,calendar))\n",
        "\n",
        "def time_to_min(time):\n",
        "  hour, min = list(map(int, time.split(':')))\n",
        "  return (hour * 60) + min\n",
        "\n",
        "def get_merged_calendar(calendar1, calendar2):\n",
        "  pointer1, pointer2 = 0, 0\n",
        "  merged_calendar = []\n",
        "  while pointer1 < len(calendar1) or pointer2 < len(calendar2):\n",
        "    if pointer1 < len(calendar1) and pointer2 < len(calendar2):\n",
        "      if calendar1[pointer1][0] <= calendar2[pointer2][0]:\n",
        "        merged_calendar.append(calendar1[pointer1])\n",
        "        pointer1 += 1\n",
        "      else:\n",
        "        merged_calendar.append(calendar2[pointer2])\n",
        "        pointer2 += 1\n",
        "    elif pointer1 < len(calendar1):\n",
        "      merged_calendar.append(calendar1[pointer1])\n",
        "      pointer1 += 1\n",
        "    elif pointer2 < len(calendar2):\n",
        "      merged_calendar.append(calendar2[pointer2])\n",
        "      pointer2 += 1\n",
        "  return merged_calendar\n",
        "\n",
        "def get_flatten_calendar(calendar):\n",
        "  flattened_calendar = [calendar[0][:]]\n",
        "  for i in range(1 , len(calendar)):\n",
        "    current_meeting = calendar[i]\n",
        "    previous_meeting = flattened_calendar[-1]\n",
        "    if previous_meeting[1] >= current_meeting[0]:\n",
        "      flattened_meeting = [min(previous_meeting[0], current_meeting[0]), max(previous_meeting[1], current_meeting[1])]\n",
        "      flattened_calendar[-1] = flattened_meeting\n",
        "    else:\n",
        "      flattened_calendar.append(current_meeting[:])\n",
        "  return flattened_calendar\n",
        "\n",
        "def get_common_availabilities(calendar, meetingDuration):\n",
        "  common_availabilities = []\n",
        "  for i in range(1, len(calendar)):\n",
        "    start = calendar[i - 1][1]\n",
        "    end = calendar[i][0]\n",
        "    if end - start >= meetingDuration:\n",
        "      common_availabilities.append([start, end])\n",
        "  return list(map(lambda minutes: [min_to_time(minutes[0]), min_to_time(minutes[1])], common_availabilities))\n",
        "\n",
        "def min_to_time(minutes):\n",
        "  hour = minutes // 60\n",
        "  minutes = minutes % 60\n",
        "  hour = str(hour)\n",
        "  minutes = '0' + str(minutes) if  minutes < 10 else str(minutes)\n",
        "  return hour + ':' + minutes\n"
      ]
    },
    {
      "cell_type": "code",
      "source": [
        "calendar1 = [['9:00', '10:30'], ['12:00', '13:00'], ['16:00', '18:00']]\n",
        "dailyBounds1 = ['9:00', '20:00']\n",
        "calendar2 = [['10:00', '11:30'], ['12:30', '14:30'], ['14:30', '15:00'], ['16:00', '17:00']]\n",
        "dailyBounds2 = ['10:00', '18:30']\n",
        "meetingDuration = 30\n",
        "calendarMatching(calendar1, dailyBounds1, calendar2, dailyBounds2, meetingDuration)"
      ],
      "metadata": {
        "colab": {
          "base_uri": "https://localhost:8080/"
        },
        "id": "Z6sOiij-S4t2",
        "outputId": "1892a296-972d-4cea-db71-a9b8dc1f1902"
      },
      "execution_count": 2,
      "outputs": [
        {
          "output_type": "execute_result",
          "data": {
            "text/plain": [
              "[['11:30', '12:00'], ['15:00', '16:00'], ['18:00', '18:30']]"
            ]
          },
          "metadata": {},
          "execution_count": 2
        }
      ]
    }
  ]
}