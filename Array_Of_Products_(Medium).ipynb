{
  "nbformat": 4,
  "nbformat_minor": 0,
  "metadata": {
    "colab": {
      "name": "Array Of Products (Medium).ipynb",
      "provenance": [],
      "authorship_tag": "ABX9TyPNWG7a2pX4TqJHslG0AHuL",
      "include_colab_link": true
    },
    "kernelspec": {
      "name": "python3",
      "display_name": "Python 3"
    },
    "language_info": {
      "name": "python"
    }
  },
  "cells": [
    {
      "cell_type": "markdown",
      "metadata": {
        "id": "view-in-github",
        "colab_type": "text"
      },
      "source": [
        "<a href=\"https://colab.research.google.com/github/tittae/leetcode/blob/main/Array_Of_Products_(Medium).ipynb\" target=\"_parent\"><img src=\"https://colab.research.google.com/assets/colab-badge.svg\" alt=\"Open In Colab\"/></a>"
      ]
    },
    {
      "cell_type": "markdown",
      "metadata": {
        "id": "v7da2fzPPJw2"
      },
      "source": [
        "# Array Of Products"
      ]
    },
    {
      "cell_type": "markdown",
      "metadata": {
        "id": "LIofLK1gPUa_"
      },
      "source": [
        "Write a function that takes in a non-empty array of integers and returns an array of the same length, where each element in the output array is equal to the product of every other number in the input array.\n",
        "\n",
        "In other words, the value at `output[i]` is equal to the product of every number in the input array other than `input[i]`.\n",
        "\n",
        "Note that you're expected to solve this problem without using division."
      ]
    },
    {
      "cell_type": "markdown",
      "metadata": {
        "id": "YZmiguCqPXm_"
      },
      "source": [
        "Sample Input\n",
        "\n",
        "```\n",
        "array = [5, 1, 4, 2]\n",
        "```\n",
        "\n"
      ]
    },
    {
      "cell_type": "markdown",
      "metadata": {
        "id": "ViSXGLAJPalK"
      },
      "source": [
        "Sample Output\n",
        "\n",
        "```\n",
        "[8, 40, 10, 20]\n",
        "```\n",
        "\n"
      ]
    },
    {
      "cell_type": "code",
      "metadata": {
        "id": "L_GnxoEGPH5n"
      },
      "source": [
        "# Time O(n)\n",
        "# Space O(1)\n",
        "\n",
        "def arrayOfProducts(array):\n",
        "\tproduct = 1\n",
        "\tzero_count = 0\n",
        "\n",
        "\tfor num in array:\n",
        "\t\tif num != 0:\n",
        "\t\t\tproduct *= num\n",
        "\t\telse:\n",
        "\t\t\tzero_count += 1\n",
        "\n",
        "\tfor i in range(len(array)):\n",
        "\t\tif zero_count == 0:\n",
        "\t\t\tarray[i] = product / array[i]\n",
        "\t\telif zero_count == 1:\n",
        "\t\t\tif array[i] == 0:\n",
        "\t\t\t\tarray[i] = product\n",
        "\t\t\telse:\n",
        "\t\t\t\tarray[i] = 0\n",
        "\t\telif zero_count >= 2:\n",
        "\t\t\tarray[i] = 0 \n",
        "\n",
        "\treturn array"
      ],
      "execution_count": 1,
      "outputs": []
    },
    {
      "cell_type": "code",
      "metadata": {
        "id": "0nLhjXpGTriV"
      },
      "source": [
        "array = [5, 1, 4, 2]"
      ],
      "execution_count": 2,
      "outputs": []
    },
    {
      "cell_type": "code",
      "metadata": {
        "colab": {
          "base_uri": "https://localhost:8080/"
        },
        "id": "58kZYwRjTtVm",
        "outputId": "e021bc52-2658-48e8-ee13-5508021ea74c"
      },
      "source": [
        "print(arrayOfProducts(array))"
      ],
      "execution_count": 3,
      "outputs": [
        {
          "output_type": "stream",
          "name": "stdout",
          "text": [
            "[8.0, 40.0, 10.0, 20.0]\n"
          ]
        }
      ]
    },
    {
      "cell_type": "markdown",
      "metadata": {
        "id": "Ipui9U84DkSZ"
      },
      "source": [
        "## Cleaner code but require more space (if it is not allowed for inplace operation)"
      ]
    },
    {
      "cell_type": "code",
      "metadata": {
        "id": "4m51kLzKDjjw"
      },
      "source": [
        "# Time O(n)\n",
        "# Space O(n)\n",
        "\n",
        "def arrayOfProducts(array):\n",
        "\tproducts = [1] * len(array)\n",
        "\t\n",
        "\t# left to right products\n",
        "\tproduct = 1\n",
        "\tfor idx in range(len(array)):\n",
        "\t\tproducts[idx] = product\n",
        "\t\tproduct *= array[idx]\n",
        "\n",
        "\t# right to left\n",
        "\tproduct = 1\n",
        "\tfor idx in reversed(range(len(array))):\n",
        "\t\tproducts[idx] *= product\n",
        "\t\tproduct *= array[idx]\n",
        "\n",
        "\treturn products"
      ],
      "execution_count": 4,
      "outputs": []
    },
    {
      "cell_type": "code",
      "metadata": {
        "id": "o93QsHq3Dv6T"
      },
      "source": [
        "array = [5, 1, 4, 2]"
      ],
      "execution_count": 5,
      "outputs": []
    },
    {
      "cell_type": "code",
      "metadata": {
        "colab": {
          "base_uri": "https://localhost:8080/"
        },
        "id": "V8B1ZB89Dw8Q",
        "outputId": "3c784b67-7527-46a6-ffdd-3b42e2ef9726"
      },
      "source": [
        "print(arrayOfProducts(array))"
      ],
      "execution_count": 6,
      "outputs": [
        {
          "output_type": "stream",
          "name": "stdout",
          "text": [
            "[8, 40, 10, 20]\n"
          ]
        }
      ]
    }
  ]
}