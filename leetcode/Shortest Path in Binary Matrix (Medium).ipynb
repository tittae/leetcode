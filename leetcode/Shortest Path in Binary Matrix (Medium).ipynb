{
 "cells": [
  {
   "cell_type": "markdown",
   "metadata": {},
   "source": [
    "# Shortest Path in Binary Matrix"
   ]
  },
  {
   "cell_type": "markdown",
   "metadata": {},
   "source": [
    "Given an n x n binary matrix grid, return the length of the shortest clear path in the matrix. If there is no clear path, return -1.\n",
    "\n",
    "A clear path in a binary matrix is a path from the top-left cell (i.e., (0, 0)) to the bottom-right cell (i.e., (n - 1, n - 1)) such that:\n",
    "\n",
    "- All the visited cells of the path are 0.\n",
    "- All the adjacent cells of the path are 8-directionally connected (i.e., they are different and they share an edge or a corner).\n",
    "\n",
    "The length of a clear path is the number of visited cells of this path."
   ]
  },
  {
   "cell_type": "markdown",
   "metadata": {},
   "source": [
    "Example 1:\n",
    "\n",
    "```\n",
    "Input: grid = [[0,1],\n",
    "               [1,0]]\n",
    "Output: 2\n",
    "```"
   ]
  },
  {
   "cell_type": "markdown",
   "metadata": {},
   "source": [
    "![image.png](data:image/png;base64,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)"
   ]
  },
  {
   "cell_type": "markdown",
   "metadata": {},
   "source": [
    "Example 2:\n",
    "\n",
    "```\n",
    "Input: grid = [[0,0,0],[1,1,0],[1,1,0]]\n",
    "Output: 4\n",
    "```"
   ]
  },
  {
   "cell_type": "markdown",
   "metadata": {},
   "source": [
    "Example 3:\n",
    "\n",
    "```\n",
    "Input: grid = [[1,0,0],\n",
    "               [1,1,0],\n",
    "               [1,1,0]]\n",
    "Output: -1\n",
    "```"
   ]
  },
  {
   "cell_type": "markdown",
   "metadata": {},
   "source": [
    "Constraints:\n",
    "\n",
    "```\n",
    "n == grid.length\n",
    "n == grid[i].length\n",
    "1 <= n <= 100\n",
    "grid[i][j] is 0 or 1\n",
    "```"
   ]
  },
  {
   "cell_type": "code",
   "execution_count": 4,
   "metadata": {},
   "outputs": [],
   "source": [
    "from collections import deque \n",
    "\n",
    "class Solution:\n",
    "    # Time = O(n)\n",
    "    # Space = O(n)\n",
    "    def shortestPathBinaryMatrix(self, grid: list[list[int]]) -> int:  \n",
    "        \n",
    "        max_row = len(grid) - 1\n",
    "        max_col = len(grid[0]) - 1\n",
    "        directions = [\n",
    "            (-1, -1), (-1, 0), (-1, 1), (0, -1), (0, 1), (1, -1), (1, 0), (1, 1)]\n",
    "        \n",
    "        # Helper function to find the neighbors of a given cell.\n",
    "        def get_neighbours(row, col):\n",
    "            for row_difference, col_difference in directions:\n",
    "                new_row = row + row_difference\n",
    "                new_col = col + col_difference\n",
    "                if not(0 <= new_row <= max_row and 0 <= new_col <= max_col):\n",
    "                    continue\n",
    "                if grid[new_row][new_col] != 0:\n",
    "                    continue\n",
    "                yield (new_row, new_col)\n",
    "        \n",
    "        # Check that the first and last cells are open. \n",
    "        if grid[0][0] != 0 or grid[max_row][max_col] != 0:\n",
    "            return -1\n",
    "        \n",
    "        # Set up the BFS.\n",
    "        queue = deque([(0, 0)])\n",
    "        visited = {(0, 0)}\n",
    "        current_distance = 1\n",
    "        \n",
    "        # Do the BFS.\n",
    "        while queue:\n",
    "            # Process all nodes at current_distance from the top-left cell.\n",
    "            nodes_of_current_distance = len(queue)\n",
    "            for _ in range(nodes_of_current_distance):\n",
    "                row, col = queue.popleft()\n",
    "                if (row, col) == (max_row, max_col):\n",
    "                    return current_distance\n",
    "                for neighbour in get_neighbours(row, col):\n",
    "                    if neighbour in visited:\n",
    "                        continue\n",
    "                    visited.add(neighbour)\n",
    "                    queue.append(neighbour)\n",
    "            # We'll now be processing all nodes at current_distance + 1\n",
    "            current_distance += 1\n",
    "                    \n",
    "        # There was no path.\n",
    "        return -1 \n",
    "        "
   ]
  },
  {
   "cell_type": "code",
   "execution_count": 6,
   "metadata": {},
   "outputs": [
    {
     "name": "stdout",
     "output_type": "stream",
     "text": [
      "2\n"
     ]
    }
   ],
   "source": [
    "grid = [[0,1],[1,0]]\n",
    "expected = 2\n",
    "\n",
    "output = Solution().shortestPathBinaryMatrix(grid)\n",
    "print(output)\n",
    "assert output == expected"
   ]
  },
  {
   "cell_type": "code",
   "execution_count": 7,
   "metadata": {},
   "outputs": [
    {
     "name": "stdout",
     "output_type": "stream",
     "text": [
      "4\n"
     ]
    }
   ],
   "source": [
    "grid = [[0,0,0],[1,1,0],[1,1,0]]\n",
    "expected = 4\n",
    "\n",
    "output = Solution().shortestPathBinaryMatrix(grid)\n",
    "print(output)\n",
    "assert output == expected"
   ]
  },
  {
   "cell_type": "code",
   "execution_count": 8,
   "metadata": {},
   "outputs": [
    {
     "name": "stdout",
     "output_type": "stream",
     "text": [
      "-1\n"
     ]
    }
   ],
   "source": [
    "grid = [[1,0,0],[1,1,0],[1,1,0]]\n",
    "expected = -1\n",
    "\n",
    "output = Solution().shortestPathBinaryMatrix(grid)\n",
    "print(output)\n",
    "assert output == expected\n",
    "\n",
    "\n",
    "\n"
   ]
  }
 ],
 "metadata": {
  "interpreter": {
   "hash": "20ac7aad763b689ebdaff2f53a3073c7ed55a0f51860968fbf5603f714378c4e"
  },
  "kernelspec": {
   "display_name": "Python 3.10.0 64-bit",
   "language": "python",
   "name": "python3"
  },
  "language_info": {
   "codemirror_mode": {
    "name": "ipython",
    "version": 3
   },
   "file_extension": ".py",
   "mimetype": "text/x-python",
   "name": "python",
   "nbconvert_exporter": "python",
   "pygments_lexer": "ipython3",
   "version": "3.10.0"
  },
  "orig_nbformat": 4
 },
 "nbformat": 4,
 "nbformat_minor": 2
}
