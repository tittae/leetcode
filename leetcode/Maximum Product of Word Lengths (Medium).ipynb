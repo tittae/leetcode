{
 "cells": [
  {
   "cell_type": "markdown",
   "metadata": {},
   "source": [
    "# Maximum Product of Word Lengths"
   ]
  },
  {
   "cell_type": "markdown",
   "metadata": {},
   "source": [
    "Given a string array words, return the maximum value of length(word[i]) * length(word[j]) where the two words do not share common letters. If no such two words exist, return 0."
   ]
  },
  {
   "cell_type": "markdown",
   "metadata": {},
   "source": [
    "Example 1:\n",
    "```\n",
    "Input: words = [\"abcw\",\"baz\",\"foo\",\"bar\",\"xtfn\",\"abcdef\"]\n",
    "Output: 16\n",
    "Explanation: The two words can be \"abcw\", \"xtfn\".\n",
    "```"
   ]
  },
  {
   "cell_type": "markdown",
   "metadata": {},
   "source": [
    "Example 2:\n",
    "```\n",
    "Input: words = [\"a\",\"ab\",\"abc\",\"d\",\"cd\",\"bcd\",\"abcd\"]\n",
    "Output: 4\n",
    "Explanation: The two words can be \"ab\", \"cd\".\n",
    "```"
   ]
  },
  {
   "cell_type": "markdown",
   "metadata": {},
   "source": [
    "Example 3:\n",
    "```\n",
    "Input: words = [\"a\",\"aa\",\"aaa\",\"aaaa\"]\n",
    "Output: 0\n",
    "Explanation: No such pair of words.\n",
    "```"
   ]
  },
  {
   "cell_type": "markdown",
   "metadata": {},
   "source": [
    "Constraints:\n",
    "```\n",
    "2 <= words.length <= 1000\n",
    "1 <= words[i].length <= 1000\n",
    "words[i] consists only of lowercase English letters.\n",
    "```"
   ]
  },
  {
   "cell_type": "code",
   "execution_count": 1,
   "metadata": {},
   "outputs": [],
   "source": [
    "from collections import defaultdict\n",
    "\n",
    "class Solution:\n",
    "    def maxProduct(self, words):\n",
    "        hashmap = defaultdict(int)\n",
    "        def bit_number(ch):\n",
    "            return ord(ch) - ord('a')\n",
    "        \n",
    "        for word in words:\n",
    "            bitmask = 0\n",
    "            for ch in word:\n",
    "                # add bit number bit_number in bitmask\n",
    "                bitmask |= 1 << bit_number(ch)\n",
    "            # there could be different words with the same bitmask\n",
    "            # ex. ab and aabb\n",
    "            \n",
    "            hashmap[bitmask] = max(hashmap[bitmask], len(word))\n",
    "        \n",
    "        max_prod = 0\n",
    "        for x in hashmap:\n",
    "            for y in hashmap:\n",
    "                # & here is bitwise operation. for example,\n",
    "                #  4 : 1 0\n",
    "                #  1 : 0 1\n",
    "                # 4&1: 0 0\n",
    "                if x & y == 0:\n",
    "                    max_prod = max(max_prod, hashmap[x] * hashmap[y])\n",
    "        return max_prod"
   ]
  },
  {
   "cell_type": "code",
   "execution_count": 2,
   "metadata": {},
   "outputs": [
    {
     "name": "stdout",
     "output_type": "stream",
     "text": [
      "16\n"
     ]
    }
   ],
   "source": [
    "words = [\"abcw\",\"baz\",\"foo\",\"bar\",\"xtfn\",\"abcdef\"]\n",
    "expected = 16\n",
    "\n",
    "output = Solution().maxProduct(words)\n",
    "print(output)\n",
    "assert expected == output"
   ]
  },
  {
   "cell_type": "code",
   "execution_count": 3,
   "metadata": {},
   "outputs": [
    {
     "name": "stdout",
     "output_type": "stream",
     "text": [
      "4\n"
     ]
    }
   ],
   "source": [
    "words = [\"a\",\"ab\",\"abc\",\"d\",\"cd\",\"bcd\",\"abcd\"]\n",
    "expected = 4\n",
    "\n",
    "output = Solution().maxProduct(words)\n",
    "print(output)\n",
    "assert expected == output"
   ]
  },
  {
   "cell_type": "code",
   "execution_count": 4,
   "metadata": {},
   "outputs": [
    {
     "name": "stdout",
     "output_type": "stream",
     "text": [
      "0\n"
     ]
    }
   ],
   "source": [
    "words = [\"a\",\"aa\",\"aaa\",\"aaaa\"]\n",
    "expected = 0\n",
    "\n",
    "output = Solution().maxProduct(words)\n",
    "print(output)\n",
    "assert expected == output\n",
    "\n"
   ]
  }
 ],
 "metadata": {
  "interpreter": {
   "hash": "3822405be9f5fb329f7270cbdcf73e762c62b3f383c5e71390a1a4648678c1cb"
  },
  "kernelspec": {
   "display_name": "Python 3.10.4 64-bit (windows store)",
   "language": "python",
   "name": "python3"
  },
  "language_info": {
   "codemirror_mode": {
    "name": "ipython",
    "version": 3
   },
   "file_extension": ".py",
   "mimetype": "text/x-python",
   "name": "python",
   "nbconvert_exporter": "python",
   "pygments_lexer": "ipython3",
   "version": "3.10.4"
  },
  "orig_nbformat": 4
 },
 "nbformat": 4,
 "nbformat_minor": 2
}
