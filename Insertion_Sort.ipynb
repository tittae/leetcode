{
  "nbformat": 4,
  "nbformat_minor": 0,
  "metadata": {
    "colab": {
      "name": "Insertion Sort.ipynb",
      "provenance": [],
      "authorship_tag": "ABX9TyMyvrw/kTD86XndLLUlSzww",
      "include_colab_link": true
    },
    "kernelspec": {
      "name": "python3",
      "display_name": "Python 3"
    },
    "language_info": {
      "name": "python"
    }
  },
  "cells": [
    {
      "cell_type": "markdown",
      "metadata": {
        "id": "view-in-github",
        "colab_type": "text"
      },
      "source": [
        "<a href=\"https://colab.research.google.com/github/tittae/leetcode/blob/main/Insertion_Sort.ipynb\" target=\"_parent\"><img src=\"https://colab.research.google.com/assets/colab-badge.svg\" alt=\"Open In Colab\"/></a>"
      ]
    },
    {
      "cell_type": "markdown",
      "metadata": {
        "id": "-k_xzrYbrpqP"
      },
      "source": [
        "# Insertion Sort"
      ]
    },
    {
      "cell_type": "markdown",
      "metadata": {
        "id": "NyTF4l1rrvGp"
      },
      "source": [
        "Write a function that takes in an array of integers and returns a sorted version of that array. Use the Insertion Sort algorithm to sort the array.\n",
        "\n",
        "If you're unfamiliar with Insertion Sort, we recommend watching the Conceptual Overview section of this question's video explanation before starting to code."
      ]
    },
    {
      "cell_type": "markdown",
      "metadata": {
        "id": "Smk6VZCIrwGT"
      },
      "source": [
        "Sample Input\n",
        "\n",
        "```\n",
        "array = [8, 5, 2, 9, 5, 6, 3]\n",
        "```\n",
        "\n"
      ]
    },
    {
      "cell_type": "markdown",
      "metadata": {
        "id": "Sn1nw708ryiC"
      },
      "source": [
        "Sample Output\n",
        "\n",
        "```\n",
        "[2, 3, 5, 5, 6, 8, 9]\n",
        "```\n",
        "\n"
      ]
    },
    {
      "cell_type": "code",
      "metadata": {
        "id": "QBwrnW4bruWS"
      },
      "source": [
        "def insertionSort(array):\n",
        "\tfor i in range(1, len(array)):\n",
        "\t\tj = i\n",
        "\t\twhile j > 0 and array[j] < array[j - 1]:\n",
        "\t\t\tswap(j, j - 1, array)\n",
        "\t\t\tj -= 1\n",
        "\t\t\n",
        "\treturn array\n",
        "\n",
        "def swap(i, j, array):\n",
        "\tarray[i], array[j] = array[j], array[i]"
      ],
      "execution_count": 1,
      "outputs": []
    },
    {
      "cell_type": "code",
      "metadata": {
        "id": "uQUV3yI22MjV"
      },
      "source": [
        "array = [8, 5, 2, 9, 5, 6, 3]"
      ],
      "execution_count": 2,
      "outputs": []
    },
    {
      "cell_type": "code",
      "metadata": {
        "colab": {
          "base_uri": "https://localhost:8080/"
        },
        "id": "85NC7WzyrkBP",
        "outputId": "a7b6dca2-2191-4186-ad9b-47260eb3e8d7"
      },
      "source": [
        "print(insertionSort(array))"
      ],
      "execution_count": 3,
      "outputs": [
        {
          "output_type": "stream",
          "name": "stdout",
          "text": [
            "[2, 3, 5, 5, 6, 8, 9]\n"
          ]
        }
      ]
    }
  ]
}