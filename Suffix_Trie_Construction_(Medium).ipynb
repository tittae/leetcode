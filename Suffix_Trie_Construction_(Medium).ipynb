{
  "nbformat": 4,
  "nbformat_minor": 0,
  "metadata": {
    "colab": {
      "name": "Suffix Trie Construction (Medium).ipynb",
      "provenance": [],
      "authorship_tag": "ABX9TyO1onPBUxuH1shLc67uGdO8",
      "include_colab_link": true
    },
    "kernelspec": {
      "name": "python3",
      "display_name": "Python 3"
    },
    "language_info": {
      "name": "python"
    }
  },
  "cells": [
    {
      "cell_type": "markdown",
      "metadata": {
        "id": "view-in-github",
        "colab_type": "text"
      },
      "source": [
        "<a href=\"https://colab.research.google.com/github/wisarootl/leetcode/blob/main/Suffix_Trie_Construction_(Medium).ipynb\" target=\"_parent\"><img src=\"https://colab.research.google.com/assets/colab-badge.svg\" alt=\"Open In Colab\"/></a>"
      ]
    },
    {
      "cell_type": "markdown",
      "metadata": {
        "id": "yd4h_2siSgr_"
      },
      "source": [
        "# Suffix Trie Construction"
      ]
    },
    {
      "cell_type": "markdown",
      "metadata": {
        "id": "zR-HNNbiSitO"
      },
      "source": [
        "Write a `SuffixTrie` class for a Suffix-Trie-like data structure. The class should have a `root` property set to be the root node of the trie and should support:\n",
        "\n",
        "Creating the trie from a string; this will be done by calling the `populateSuffixTrieFrom` method upon class instantiation, which should populate the `root` of the class.\n",
        "Searching for strings in the trie.\n",
        "Note that every string added to the trie should end with the special `endSymbol` character: `\"*\"`.\n",
        "\n",
        "If you're unfamiliar with Suffix Tries, we recommend watching the Conceptual Overview section of this question's video explanation before starting to code."
      ]
    },
    {
      "cell_type": "code",
      "metadata": {
        "id": "KnqC-GcoSber"
      },
      "source": [
        "# Do not edit the class below except for the\n",
        "# populateSuffixTrieFrom and contains methods.\n",
        "# Feel free to add new properties and methods\n",
        "# to the class.\n",
        "class SuffixTrie:\n",
        "  def __init__(self, string):\n",
        "    self.root = {}\n",
        "    self.endSymbol = \"*\"\n",
        "    self.populateSuffixTrieFrom(string)\n",
        "  \n",
        "  # Time = O(n^2)\n",
        "  # Space = O(n^2)\n",
        "  def populateSuffixTrieFrom(self, string):\n",
        "    for i in range(len(string)):\n",
        "      self.insert_substring_starting_at(i, string)\n",
        "\n",
        "  def insert_substring_starting_at(self, i, string):\n",
        "    node = self.root\n",
        "    for j in range(i, len(string)):\n",
        "      letter = string[j]\n",
        "      if letter not in node:\n",
        "        node[letter] = {}\n",
        "      node = node[letter]\n",
        "    node[self.endSymbol] = True\n",
        "\n",
        "  # Time = O(m) where m = no. fo searching string\n",
        "  # Space = O(1)\n",
        "  def contains(self, string):\n",
        "    node = self.root\n",
        "    for letter in string:\n",
        "      if letter not in node:\n",
        "        return False\n",
        "      node = node[letter]\n",
        "    return self.endSymbol in node\n"
      ],
      "execution_count": null,
      "outputs": []
    }
  ]
}