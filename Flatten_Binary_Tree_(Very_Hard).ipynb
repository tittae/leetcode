{
  "nbformat": 4,
  "nbformat_minor": 0,
  "metadata": {
    "colab": {
      "name": "Flatten Binary Tree (Very Hard).ipynb",
      "provenance": [],
      "collapsed_sections": [],
      "authorship_tag": "ABX9TyMl1gpKA1tcafr3heK97wCh",
      "include_colab_link": true
    },
    "kernelspec": {
      "name": "python3",
      "display_name": "Python 3"
    },
    "language_info": {
      "name": "python"
    }
  },
  "cells": [
    {
      "cell_type": "markdown",
      "metadata": {
        "id": "view-in-github",
        "colab_type": "text"
      },
      "source": [
        "<a href=\"https://colab.research.google.com/github/wisarootl/leetcode/blob/main/Flatten_Binary_Tree_(Very_Hard).ipynb\" target=\"_parent\"><img src=\"https://colab.research.google.com/assets/colab-badge.svg\" alt=\"Open In Colab\"/></a>"
      ]
    },
    {
      "cell_type": "markdown",
      "metadata": {
        "id": "109P7TUKR6G_"
      },
      "source": [
        "# Flatten Binary Tree"
      ]
    },
    {
      "cell_type": "markdown",
      "metadata": {
        "id": "KsbTpCMNR7ew"
      },
      "source": [
        "Write a function that takes in a Binary Tree, flattens it, and returns its leftmost node.\n",
        "\n",
        "A flattened Binary Tree is a structure that's nearly identical to a Doubly Linked List (except that nodes have `left` and `right` pointers instead of `prev` and `next` pointers), where nodes follow the original tree's left-to-right order.\n",
        "\n",
        "Note that if the input Binary Tree happens to be a valid Binary Search Tree, the nodes in the flattened tree will be sorted.\n",
        "\n",
        "The flattening should be done in place, meaning that the original data structure should be mutated (no new structure should be created).\n",
        "\n",
        "Each `BinaryTree` node has an integer `value`, a `left` child node, and a `right` child node. Children nodes can either be `BinaryTree` nodes themselves or `None` / `null`."
      ]
    },
    {
      "cell_type": "markdown",
      "metadata": {
        "id": "-pLxv1yh8DY9"
      },
      "source": [
        "Sample Input\n",
        "\n",
        "```\n",
        "tree =      1\n",
        "         /     \\\n",
        "        2       3\n",
        "      /   \\   /\n",
        "     4     5 6\n",
        "          / \\\n",
        "         7   8\n",
        "```\n",
        "\n"
      ]
    },
    {
      "cell_type": "markdown",
      "metadata": {
        "id": "ufJiW_EE8FUG"
      },
      "source": [
        "Sample Output\n",
        "\n",
        "```\n",
        "4 <-> 2 <-> 7 <-> 5 <-> 8 <-> 1 <-> 6 <-> 3\n",
        "```\n",
        "\n"
      ]
    },
    {
      "cell_type": "markdown",
      "metadata": {
        "id": "GfYYToat8K9a"
      },
      "source": [
        "## Solution 1 (Use auxiliary array)"
      ]
    },
    {
      "cell_type": "code",
      "metadata": {
        "id": "j_5w1_L9R5Ru"
      },
      "source": [
        "# This is the class of the input root. Do not edit it.\n",
        "class BinaryTree:\n",
        "    def __init__(self, value, left=None, right=None):\n",
        "        self.value = value\n",
        "        self.left = left\n",
        "        self.right = right\n",
        "\n",
        "\n",
        "def flattenBinaryTree(root):\n",
        "\tinorder_nodes = get_inorder_nodes(root, array = [])\n",
        "\tfor i in range(len(inorder_nodes) - 1):\n",
        "\t\tleft_node = inorder_nodes[i]\n",
        "\t\tright_node = inorder_nodes[i + 1]\n",
        "\t\tleft_node.right = right_node\n",
        "\t\tright_node.left = left_node\n",
        "\treturn inorder_nodes[0]\n",
        "\n",
        "def get_inorder_nodes(root, array = []):\n",
        "\tif root != None:\n",
        "\t\tget_inorder_nodes(root.left, array)\n",
        "\t\tarray.append(root)\n",
        "\t\tget_inorder_nodes(root.right, array)\n",
        "\n",
        "\treturn array"
      ],
      "execution_count": null,
      "outputs": []
    },
    {
      "cell_type": "code",
      "metadata": {
        "id": "7LU0EIObxWeo"
      },
      "source": [
        "root = BinaryTree(1)\n",
        "root.left = BinaryTree(2)\n",
        "root.right = BinaryTree(3)\n",
        "root.left.left = BinaryTree(4)\n",
        "root.left.right = BinaryTree(5)\n",
        "root.right.left = BinaryTree(6)\n",
        "root.left.right.left = BinaryTree(7)\n",
        "root.left.right.right = BinaryTree(8)"
      ],
      "execution_count": null,
      "outputs": []
    },
    {
      "cell_type": "code",
      "metadata": {
        "id": "S_wi-UOOySWq"
      },
      "source": [
        "flatted_tree = flattenBinaryTree(root)"
      ],
      "execution_count": null,
      "outputs": []
    },
    {
      "cell_type": "code",
      "metadata": {
        "colab": {
          "base_uri": "https://localhost:8080/"
        },
        "id": "Z_eZwax1yZEx",
        "outputId": "36fbf4f5-35b6-4c7e-99e7-b5a12fc97772"
      },
      "source": [
        "print(flatted_tree.left)\n",
        "print(flatted_tree.value)\n",
        "print(flatted_tree.right.value)"
      ],
      "execution_count": null,
      "outputs": [
        {
          "output_type": "stream",
          "name": "stdout",
          "text": [
            "None\n",
            "4\n",
            "2\n"
          ]
        }
      ]
    },
    {
      "cell_type": "code",
      "metadata": {
        "colab": {
          "base_uri": "https://localhost:8080/"
        },
        "id": "r2mnsuD8ycJQ",
        "outputId": "0da59c95-f349-44af-d7df-60ec27c93cd5"
      },
      "source": [
        "current_node = flatted_tree.right\n",
        "\n",
        "print(current_node.left.value)\n",
        "print(current_node.value)\n",
        "print(current_node.right.value)"
      ],
      "execution_count": null,
      "outputs": [
        {
          "output_type": "stream",
          "name": "stdout",
          "text": [
            "4\n",
            "2\n",
            "7\n"
          ]
        }
      ]
    },
    {
      "cell_type": "code",
      "metadata": {
        "colab": {
          "base_uri": "https://localhost:8080/"
        },
        "id": "QZWMtdvHyeTH",
        "outputId": "8c27e8f4-0c98-414c-b601-b64171fd63ad"
      },
      "source": [
        "current_node = flatted_tree.right.right\n",
        "\n",
        "print(current_node.left.value)\n",
        "print(current_node.value)\n",
        "print(current_node.right.value)"
      ],
      "execution_count": null,
      "outputs": [
        {
          "output_type": "stream",
          "name": "stdout",
          "text": [
            "2\n",
            "7\n",
            "5\n"
          ]
        }
      ]
    },
    {
      "cell_type": "code",
      "metadata": {
        "colab": {
          "base_uri": "https://localhost:8080/"
        },
        "id": "k-76V1LEygQs",
        "outputId": "0205472c-1dfe-4000-c1d0-ea73e517cbe3"
      },
      "source": [
        "current_node = flatted_tree.right.right.right\n",
        "\n",
        "print(current_node.left.value)\n",
        "print(current_node.value)\n",
        "print(current_node.right.value)"
      ],
      "execution_count": null,
      "outputs": [
        {
          "output_type": "stream",
          "name": "stdout",
          "text": [
            "7\n",
            "5\n",
            "8\n"
          ]
        }
      ]
    },
    {
      "cell_type": "markdown",
      "metadata": {
        "id": "Vlxx97Gn8Wwh"
      },
      "source": [
        "## Solution 2 (Not use auxiliary array)"
      ]
    },
    {
      "cell_type": "code",
      "metadata": {
        "id": "1_9wrIPp_VsE"
      },
      "source": [
        "# This is the class of the input root. Do not edit it.\n",
        "class BinaryTree:\n",
        "\t\tdef __init__(self, value, left=None, right=None):\n",
        "\t\t\t\tself.value = value\n",
        "\t\t\t\tself.left = left\n",
        "\t\t\t\tself.right = right\n",
        "\n",
        "# Time O(N)\n",
        "# Space O(d) : depth of tree and depth = lg n if it is balnance tree \n",
        "def flattenBinaryTree(root):\n",
        "\tleftmost, _ =  flatten_tree(root)\n",
        "\treturn leftmost\n",
        "\n",
        "def flatten_tree(node):\n",
        "\tif node.left == None:\n",
        "\t\tleftmost = node\n",
        "\telse:\n",
        "\t\tleftsubtree_leftmost, leftsubtree_rightmost = flatten_tree(node.left)\n",
        "\t\tconnect_nodes(leftsubtree_rightmost, node)\n",
        "\t\tleftmost = leftsubtree_leftmost\n",
        "\n",
        "\t\n",
        "\tif node.right == None:\n",
        "\t\trightmost = node\n",
        "\telse:\n",
        "\t\trightsubtree_leftmost, rightsubtree_rightmost = flatten_tree(node.right)\n",
        "\t\tconnect_nodes(node, rightsubtree_leftmost)\n",
        "\t\trightmost = rightsubtree_rightmost\n",
        "\t\n",
        "\treturn [leftmost, rightmost]\n",
        "\n",
        "def connect_nodes(left, right):\n",
        "\tleft.right = right\n",
        "\tright.left = left"
      ],
      "execution_count": null,
      "outputs": []
    },
    {
      "cell_type": "code",
      "metadata": {
        "id": "fU6mBolw_Xr2"
      },
      "source": [
        "root = BinaryTree(1)\n",
        "root.left = BinaryTree(2)\n",
        "root.right = BinaryTree(3)\n",
        "root.left.left = BinaryTree(4)\n",
        "root.left.right = BinaryTree(5)\n",
        "root.right.left = BinaryTree(6)\n",
        "root.left.right.left = BinaryTree(7)\n",
        "root.left.right.right = BinaryTree(8)"
      ],
      "execution_count": null,
      "outputs": []
    },
    {
      "cell_type": "code",
      "metadata": {
        "id": "hc449yVA_ZL3"
      },
      "source": [
        "flatted_tree = flattenBinaryTree(root)"
      ],
      "execution_count": null,
      "outputs": []
    },
    {
      "cell_type": "code",
      "metadata": {
        "colab": {
          "base_uri": "https://localhost:8080/"
        },
        "id": "b7aQy6hJ_bPF",
        "outputId": "93b3676b-8298-49c1-9d2b-9bf76d0d64ab"
      },
      "source": [
        "print(flatted_tree.left)\n",
        "print(flatted_tree.value)\n",
        "print(flatted_tree.right.value)"
      ],
      "execution_count": null,
      "outputs": [
        {
          "output_type": "stream",
          "name": "stdout",
          "text": [
            "None\n",
            "4\n",
            "2\n"
          ]
        }
      ]
    },
    {
      "cell_type": "code",
      "metadata": {
        "colab": {
          "base_uri": "https://localhost:8080/"
        },
        "id": "IzbNNlQI_ecS",
        "outputId": "fdfb6744-68f5-41a9-b2f2-9e7dcad4f63d"
      },
      "source": [
        "current_node = flatted_tree.right\n",
        "\n",
        "print(current_node.left.value)\n",
        "print(current_node.value)\n",
        "print(current_node.right.value)"
      ],
      "execution_count": null,
      "outputs": [
        {
          "output_type": "stream",
          "name": "stdout",
          "text": [
            "4\n",
            "2\n",
            "7\n"
          ]
        }
      ]
    },
    {
      "cell_type": "code",
      "metadata": {
        "colab": {
          "base_uri": "https://localhost:8080/"
        },
        "id": "MjM5lNSv_gzi",
        "outputId": "c183d2cf-71dc-4f0a-eed8-ea8e55bba86a"
      },
      "source": [
        "current_node = flatted_tree.right.right\n",
        "\n",
        "print(current_node.left.value)\n",
        "print(current_node.value)\n",
        "print(current_node.right.value)"
      ],
      "execution_count": null,
      "outputs": [
        {
          "output_type": "stream",
          "name": "stdout",
          "text": [
            "2\n",
            "7\n",
            "5\n"
          ]
        }
      ]
    },
    {
      "cell_type": "code",
      "metadata": {
        "id": "i4i-ISTN_lFR",
        "outputId": "200435ad-3e25-4b6e-f26c-e6cc1e1d813c",
        "colab": {
          "base_uri": "https://localhost:8080/"
        }
      },
      "source": [
        "current_node = flatted_tree.right.right.right\n",
        "\n",
        "print(current_node.left.value)\n",
        "print(current_node.value)\n",
        "print(current_node.right.value)"
      ],
      "execution_count": null,
      "outputs": [
        {
          "output_type": "stream",
          "name": "stdout",
          "text": [
            "7\n",
            "5\n",
            "8\n"
          ]
        }
      ]
    }
  ]
}