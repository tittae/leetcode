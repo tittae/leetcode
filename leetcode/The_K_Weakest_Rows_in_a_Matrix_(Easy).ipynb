{
  "cells": [
    {
      "cell_type": "markdown",
      "metadata": {
        "colab_type": "text",
        "id": "view-in-github"
      },
      "source": [
        "<a href=\"https://colab.research.google.com/github/wisarootl/leetcode/blob/main/The_K_Weakest_Rows_in_a_Matrix_(Easy).ipynb\" target=\"_parent\"><img src=\"https://colab.research.google.com/assets/colab-badge.svg\" alt=\"Open In Colab\"/></a>"
      ]
    },
    {
      "cell_type": "markdown",
      "metadata": {
        "id": "S0Qo_gjTzX7i"
      },
      "source": [
        "# The K Weakest Rows in a Matrix"
      ]
    },
    {
      "cell_type": "markdown",
      "metadata": {
        "id": "_iWLMYjLz-l8"
      },
      "source": [
        "You are given an m x n binary matrix mat of 1's (representing soldiers) and 0's (representing civilians). The soldiers are positioned in front of the civilians. That is, all the 1's will appear to the left of all the 0's in each row.\n",
        "\n",
        "A row i is weaker than a row j if one of the following is true:\n",
        "\n",
        "- The number of soldiers in row i is less than the number of soldiers in row j.\n",
        "- Both rows have the same number of soldiers and i < j.\n",
        "\n",
        "Return the indices of the k weakest rows in the matrix ordered from weakest to strongest"
      ]
    },
    {
      "cell_type": "markdown",
      "metadata": {
        "id": "obt3IMs30DhI"
      },
      "source": [
        "Example 1:\n",
        "\n",
        "```\n",
        "Input: mat = \n",
        "[[1,1,0,0,0],\n",
        " [1,1,1,1,0],\n",
        " [1,0,0,0,0],\n",
        " [1,1,0,0,0],\n",
        " [1,1,1,1,1]], \n",
        "k = 3\n",
        "Output: [2,0,3]\n",
        "Explanation: \n",
        "The number of soldiers in each row is: \n",
        "- Row 0: 2 \n",
        "- Row 1: 4 \n",
        "- Row 2: 1 \n",
        "- Row 3: 2 \n",
        "- Row 4: 5 \n",
        "The rows ordered from weakest to strongest are [2,0,3,1,4].\n",
        "```\n",
        "\n"
      ]
    },
    {
      "cell_type": "markdown",
      "metadata": {
        "id": "zM1sDHtt0Iir"
      },
      "source": [
        "Example 2:\n",
        "\n",
        "```\n",
        "Input: mat = \n",
        "[[1,0,0,0],\n",
        " [1,1,1,1],\n",
        " [1,0,0,0],\n",
        " [1,0,0,0]], \n",
        "k = 2\n",
        "Output: [0,2]\n",
        "Explanation: \n",
        "The number of soldiers in each row is: \n",
        "- Row 0: 1 \n",
        "- Row 1: 4 \n",
        "- Row 2: 1 \n",
        "- Row 3: 1 \n",
        "The rows ordered from weakest to strongest are [0,2,3,1].\n",
        "```\n",
        "\n"
      ]
    },
    {
      "cell_type": "markdown",
      "metadata": {
        "id": "WtDZvgIK0LTV"
      },
      "source": [
        "Constraints:\n",
        "\n",
        "```\n",
        "m == mat.length\n",
        "n == mat[i].length\n",
        "2 <= n, m <= 100\n",
        "1 <= k <= m\n",
        "matrix[i][j] is either 0 or 1.\n",
        "```\n",
        "\n"
      ]
    },
    {
      "cell_type": "markdown",
      "metadata": {
        "id": "BqNtTcjMuSTV"
      },
      "source": [
        "# Solution 1: Binary Search and Priority Queue"
      ]
    },
    {
      "cell_type": "code",
      "execution_count": 1,
      "metadata": {
        "id": "a6lcOcQglI6H"
      },
      "outputs": [],
      "source": [
        "import heapq\n",
        "\n",
        "# Time = O(m (log n + log k)) = O(m log(nk))\n",
        "# Space = O(k)\n",
        "\n",
        "# m = len(mat)\n",
        "# n - len(mat[0])\n",
        "\n",
        "class Solution:\n",
        "    def kWeakestRows(self, mat, k):\n",
        "        m = len(mat)\n",
        "        n = len(mat[0])\n",
        "        \n",
        "        priority_queue = []\n",
        "        for idx, row in enumerate(mat):\n",
        "            strength = binary_search_last_one(row)\n",
        "            \n",
        "            # max heap (use min heap with negative value)\n",
        "            node = [-strength, -idx]\n",
        "            if len(priority_queue) < k or node > priority_queue[0]:\n",
        "                heapq.heappush(priority_queue, node)\n",
        "            if len(priority_queue) > k:\n",
        "                heapq.heappop(priority_queue)\n",
        "        \n",
        "        index_weakest_row = []\n",
        "        while len(priority_queue) > 0:\n",
        "            strength, idx = heapq.heappop(priority_queue)\n",
        "            index_weakest_row.append(-idx)\n",
        "            \n",
        "        return list(reversed(index_weakest_row))\n",
        "        \n",
        "    \n",
        "def binary_search_last_one(row):\n",
        "    left_idx = 0\n",
        "    right_idx = len(row) - 1\n",
        "    while left_idx <= right_idx:\n",
        "        mid_idx = (left_idx + right_idx) // 2\n",
        "        # print(left_idx, mid_idx, right_idx)\n",
        "        if row[mid_idx] == 1:\n",
        "            if mid_idx < len(row) - 1:\n",
        "                if row[mid_idx + 1] == 1:\n",
        "                    left_idx = mid_idx + 1\n",
        "                else:\n",
        "                    return mid_idx\n",
        "            else:\n",
        "              return mid_idx\n",
        "        else:\n",
        "            right_idx = mid_idx - 1\n",
        "    # not found mean thal all are zero\n",
        "    return -1\n"
      ]
    },
    {
      "cell_type": "code",
      "execution_count": 2,
      "metadata": {
        "colab": {
          "base_uri": "https://localhost:8080/"
        },
        "id": "8RzQ84M9k91Q",
        "outputId": "c4814dd5-ee48-44d1-dc26-11480cb938bd"
      },
      "outputs": [
        {
          "name": "stdout",
          "output_type": "stream",
          "text": [
            "[1, 2, 3]\n"
          ]
        }
      ],
      "source": [
        "mat = [[1,1,1,1,1],[1,0,0,0,0],[1,1,0,0,0],[1,1,1,1,0],[1,1,1,1,1]]\n",
        "k = 3\n",
        "expected = [1,2,3]\n",
        "\n",
        "output = Solution().kWeakestRows(mat, k)\n",
        "print(output)\n",
        "assert output == expected"
      ]
    },
    {
      "cell_type": "code",
      "execution_count": 3,
      "metadata": {
        "colab": {
          "base_uri": "https://localhost:8080/"
        },
        "id": "vgH9BkCvo4S5",
        "outputId": "9085f449-e7a8-4f3d-f39b-04fc7f404609"
      },
      "outputs": [
        {
          "name": "stdout",
          "output_type": "stream",
          "text": [
            "[1, 0]\n"
          ]
        }
      ],
      "source": [
        "mat = [[1,0],[0,0],[1,0]]\n",
        "k = 2\n",
        "expected = [1,0]\n",
        "\n",
        "output = Solution().kWeakestRows(mat, k)\n",
        "print(output)\n",
        "assert output == expected"
      ]
    },
    {
      "cell_type": "markdown",
      "metadata": {
        "id": "kL9t6iCkuXwE"
      },
      "source": [
        "# Solution 2: Verical Iteration"
      ]
    },
    {
      "cell_type": "code",
      "execution_count": 4,
      "metadata": {
        "id": "S-hr4hNTue9w"
      },
      "outputs": [],
      "source": [
        "# Time O(n*m)\n",
        "# Space O(1) excluding output\n",
        "# Space O(k) including output\n",
        "\n",
        "class Solution:\n",
        "    def kWeakestRows(self, mat, k):\n",
        "      k_weakest_rows = []\n",
        "      for col_idx in range(len(mat[0])):\n",
        "        for row_idx in range(len(mat)):\n",
        "          if len(k_weakest_rows) == k:\n",
        "            break\n",
        "          if mat[row_idx][col_idx] == 0:\n",
        "            if col_idx == 0 or mat[row_idx][col_idx - 1] == 1:\n",
        "              k_weakest_rows.append(row_idx)\n",
        "      \n",
        "      # If there aren't enough, it's because some of the first k weakest rows\n",
        "      # are entirely 1's. We need to include the ones with the lowest indexes\n",
        "      # until we have at least k.\n",
        "      row_idx = 0\n",
        "      while len(k_weakest_rows) < k:\n",
        "        if mat[row_idx][-1] == 1:\n",
        "          k_weakest_rows.append(row_idx)\n",
        "        row_idx += 1\n",
        "\n",
        "      return k_weakest_rows\n"
      ]
    },
    {
      "cell_type": "code",
      "execution_count": 5,
      "metadata": {
        "colab": {
          "base_uri": "https://localhost:8080/"
        },
        "id": "FmUi7e2pvV5q",
        "outputId": "fba27e4e-9248-4791-91d3-b5f6fe7ed46f"
      },
      "outputs": [
        {
          "name": "stdout",
          "output_type": "stream",
          "text": [
            "[1, 2, 3]\n"
          ]
        }
      ],
      "source": [
        "mat = [[1,1,1,1,1],[1,0,0,0,0],[1,1,0,0,0],[1,1,1,1,0],[1,1,1,1,1]]\n",
        "k = 3\n",
        "expected = [1,2,3]\n",
        "\n",
        "output = Solution().kWeakestRows(mat, k)\n",
        "print(output)\n",
        "assert output == expected"
      ]
    },
    {
      "cell_type": "code",
      "execution_count": 6,
      "metadata": {
        "colab": {
          "base_uri": "https://localhost:8080/"
        },
        "id": "pWQkszsYvYkA",
        "outputId": "90fb33a3-b7f0-4681-ed5d-027b02df4c46"
      },
      "outputs": [
        {
          "name": "stdout",
          "output_type": "stream",
          "text": [
            "[1, 0]\n"
          ]
        }
      ],
      "source": [
        "mat = [[1,0],[0,0],[1,0]]\n",
        "k = 2\n",
        "expected = [1,0]\n",
        "\n",
        "output = Solution().kWeakestRows(mat, k)\n",
        "print(output)\n",
        "assert output == expected"
      ]
    },
    {
      "cell_type": "code",
      "execution_count": 7,
      "metadata": {
        "colab": {
          "base_uri": "https://localhost:8080/"
        },
        "id": "VpsIBxjvw97P",
        "outputId": "7a849bf5-5c84-4401-acc7-29a2d6879649"
      },
      "outputs": [
        {
          "name": "stdout",
          "output_type": "stream",
          "text": [
            "[0]\n"
          ]
        }
      ],
      "source": [
        "mat = [[1,1,1,1,1,1],[1,1,1,1,1,1],[1,1,1,1,1,1]]\n",
        "k = 1\n",
        "expected = [0]\n",
        "\n",
        "output = Solution().kWeakestRows(mat, k)\n",
        "print(output)\n",
        "assert output == expected"
      ]
    },
    {
      "cell_type": "code",
      "execution_count": 8,
      "metadata": {
        "colab": {
          "base_uri": "https://localhost:8080/"
        },
        "id": "wy3zZKVLxnox",
        "outputId": "9524cd51-f156-4063-fb9d-dd8d6179ea84"
      },
      "outputs": [
        {
          "name": "stdout",
          "output_type": "stream",
          "text": [
            "[1]\n"
          ]
        }
      ],
      "source": [
        "mat = [[1,1,1,1,0,0],[1,0,0,0,0,0],[1,1,1,1,1,1]]\n",
        "k = 1\n",
        "expected = [1]\n",
        "\n",
        "output = Solution().kWeakestRows(mat, k)\n",
        "print(output)\n",
        "assert output == expected"
      ]
    }
  ],
  "metadata": {
    "colab": {
      "authorship_tag": "ABX9TyMVsLm7lGs/j6qbx1BapLdM",
      "include_colab_link": true,
      "name": "The K Weakest Rows in a Matrix (Easy).ipynb",
      "provenance": []
    },
    "kernelspec": {
      "display_name": "Python 3",
      "name": "python3"
    },
    "language_info": {
      "name": "python"
    }
  },
  "nbformat": 4,
  "nbformat_minor": 0
}
