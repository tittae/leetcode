{
  "nbformat": 4,
  "nbformat_minor": 0,
  "metadata": {
    "colab": {
      "name": "Valid Parentheses (Medium).ipynb",
      "provenance": [],
      "authorship_tag": "ABX9TyNWX+WOUm5KMfPHHqqbN6Fc",
      "include_colab_link": true
    },
    "kernelspec": {
      "name": "python3",
      "display_name": "Python 3"
    },
    "language_info": {
      "name": "python"
    }
  },
  "cells": [
    {
      "cell_type": "markdown",
      "metadata": {
        "id": "view-in-github",
        "colab_type": "text"
      },
      "source": [
        "<a href=\"https://colab.research.google.com/github/wisarootl/leetcode/blob/main/Valid_Parentheses_(Medium).ipynb\" target=\"_parent\"><img src=\"https://colab.research.google.com/assets/colab-badge.svg\" alt=\"Open In Colab\"/></a>"
      ]
    },
    {
      "cell_type": "markdown",
      "source": [
        "# Valid Parentheses"
      ],
      "metadata": {
        "id": "hOVPVdyencND"
      }
    },
    {
      "cell_type": "markdown",
      "source": [
        "Given a string s containing just the characters `'('`, `')'`, `'{'`, `'}'`, `'['` and `']'`, determine if the input string is valid.\n",
        "\n",
        "An input string is valid if:\n",
        "\n",
        "1. Open brackets must be closed by the same type of brackets.\n",
        "2. Open brackets must be closed in the correct order."
      ],
      "metadata": {
        "id": "Wq1b9onanSsm"
      }
    },
    {
      "cell_type": "markdown",
      "source": [
        "```\n",
        "Example 1:\n",
        "\n",
        "Input: s = \"()\"\n",
        "Output: true\n",
        "```\n",
        "\n",
        "```\n",
        "Example 2:\n",
        "\n",
        "Input: s = \"()[]{}\"\n",
        "Output: true\n",
        "```\n",
        "\n",
        "```\n",
        "Example 3:\n",
        "\n",
        "Input: s = \"(]\"\n",
        "Output: false\n",
        "```"
      ],
      "metadata": {
        "id": "Ve3lYF7lnirc"
      }
    },
    {
      "cell_type": "markdown",
      "source": [
        "# Solution"
      ],
      "metadata": {
        "id": "IGF05m6DnduH"
      }
    },
    {
      "cell_type": "code",
      "execution_count": 2,
      "metadata": {
        "id": "cubRMRXSmcJj"
      },
      "outputs": [],
      "source": [
        "# Time O(n)\n",
        "# Space O(n)\n",
        "\n",
        "class Solution:\n",
        "    def isValid(self, s: str) -> bool:\n",
        "        open_to_close_brackets = {'(':')', '{':'}', '[':']'}\n",
        "        stack = []\n",
        "        for idx in range(len(s)):\n",
        "            bracket = s[idx]\n",
        "            if bracket in open_to_close_brackets:\n",
        "                stack.append(open_to_close_brackets[bracket])\n",
        "            else:\n",
        "                if len(stack) > 0 and bracket == stack[-1]:\n",
        "                    stack.pop()\n",
        "                else:\n",
        "                    return False\n",
        "        \n",
        "        return True if len(stack) == 0 else False"
      ]
    },
    {
      "cell_type": "code",
      "source": [
        "s = \"()\"\n",
        "Solution().isValid(s)"
      ],
      "metadata": {
        "colab": {
          "base_uri": "https://localhost:8080/"
        },
        "id": "RLKVPiEhmvIZ",
        "outputId": "e1deedfb-4b6d-4e0c-f74b-efd2a0a9d388"
      },
      "execution_count": 3,
      "outputs": [
        {
          "output_type": "execute_result",
          "data": {
            "text/plain": [
              "True"
            ]
          },
          "metadata": {},
          "execution_count": 3
        }
      ]
    },
    {
      "cell_type": "code",
      "source": [
        "s = \"()[]{}\"\n",
        "Solution().isValid(s)"
      ],
      "metadata": {
        "colab": {
          "base_uri": "https://localhost:8080/"
        },
        "id": "GgtfV_YinLBl",
        "outputId": "bdecf054-16be-4bc4-f4e9-73d8452c422d"
      },
      "execution_count": 4,
      "outputs": [
        {
          "output_type": "execute_result",
          "data": {
            "text/plain": [
              "True"
            ]
          },
          "metadata": {},
          "execution_count": 4
        }
      ]
    },
    {
      "cell_type": "code",
      "source": [
        "s = \"(]\"\n",
        "Solution().isValid(s)"
      ],
      "metadata": {
        "colab": {
          "base_uri": "https://localhost:8080/"
        },
        "id": "LBss_at0nRQD",
        "outputId": "eb47c49f-e0bd-42ef-8e09-4947a0654a1b"
      },
      "execution_count": 5,
      "outputs": [
        {
          "output_type": "execute_result",
          "data": {
            "text/plain": [
              "False"
            ]
          },
          "metadata": {},
          "execution_count": 5
        }
      ]
    }
  ]
}