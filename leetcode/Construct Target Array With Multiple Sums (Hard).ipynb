{
 "cells": [
  {
   "cell_type": "markdown",
   "metadata": {},
   "source": [
    "# Construct Target Array With Multiple Sums"
   ]
  },
  {
   "cell_type": "markdown",
   "metadata": {},
   "source": [
    "You are given an array target of n integers. From a starting array arr consisting of n 1's, you may perform the following procedure :\n",
    "\n",
    "- let x be the sum of all elements currently in your array.\n",
    "- choose index i, such that 0 <= i < n and set the value of arr at index i to x.\n",
    "- You may repeat this procedure as many times as needed.\n",
    "\n",
    "Return true if it is possible to construct the target array from arr, otherwise, return false."
   ]
  },
  {
   "cell_type": "markdown",
   "metadata": {},
   "source": [
    "Example 1:\n",
    "```\n",
    "Input: target = [9,3,5]\n",
    "Output: true\n",
    "Explanation: Start with arr = [1, 1, 1] \n",
    "[1, 1, 1], sum = 3 choose index 1\n",
    "[1, 3, 1], sum = 5 choose index 2\n",
    "[1, 3, 5], sum = 9 choose index 0\n",
    "[9, 3, 5] Done\n",
    "```"
   ]
  },
  {
   "cell_type": "markdown",
   "metadata": {},
   "source": [
    "Example 2:\n",
    "```\n",
    "Input: target = [1,1,1,2]\n",
    "Output: false\n",
    "Explanation: Impossible to create target array from [1,1,1,1].\n",
    "```"
   ]
  },
  {
   "cell_type": "markdown",
   "metadata": {},
   "source": [
    "Example 3:\n",
    "```\n",
    "Input: target = [8,5]\n",
    "Output: true\n",
    "```"
   ]
  },
  {
   "cell_type": "markdown",
   "metadata": {},
   "source": [
    "Constraints:\n",
    "```\n",
    "n == target.length\n",
    "1 <= n <= 5 * 104\n",
    "1 <= target[i] <= 109\n",
    "```"
   ]
  },
  {
   "cell_type": "code",
   "execution_count": 1,
   "metadata": {},
   "outputs": [],
   "source": [
    "import heapq\n",
    "from typing import *\n",
    "\n",
    "class Solution:\n",
    "    def isPossible(self, target: List[int]) -> bool:\n",
    "        \n",
    "        \n",
    "        # Handle the n = 1 case.\n",
    "        if len(target) == 1:\n",
    "            return target == [1]\n",
    "\n",
    "        total_sum = sum(target)\n",
    "\n",
    "        target = [-num for num in target]\n",
    "        heapq.heapify(target)\n",
    "        while -target[0] > 1:\n",
    "            largest = -target[0]\n",
    "            rest = total_sum - largest\n",
    "\n",
    "            # This will only occur if n = 2.\n",
    "            if rest == 1:\n",
    "                return True\n",
    "\n",
    "            x = largest % rest\n",
    "\n",
    "            # If x is now 0 (invalid) or didn't\n",
    "            # change, then we know this is impossible.\n",
    "            if x == 0 or x == largest:\n",
    "                return False\n",
    "            heapq.heapreplace(target, -x)\n",
    "            total_sum = total_sum - largest + x\n",
    "\n",
    "        return True"
   ]
  },
  {
   "cell_type": "code",
   "execution_count": 4,
   "metadata": {},
   "outputs": [
    {
     "name": "stdout",
     "output_type": "stream",
     "text": [
      "True\n"
     ]
    }
   ],
   "source": [
    "target = [9,3,5]\n",
    "expected = True\n",
    "\n",
    "output = Solution().isPossible(target)\n",
    "print(output)\n",
    "assert output == expected"
   ]
  },
  {
   "cell_type": "code",
   "execution_count": 5,
   "metadata": {},
   "outputs": [
    {
     "name": "stdout",
     "output_type": "stream",
     "text": [
      "False\n"
     ]
    }
   ],
   "source": [
    "target = [1,1,1,2]\n",
    "expected = False\n",
    "\n",
    "output = Solution().isPossible(target)\n",
    "print(output)\n",
    "assert output == expected"
   ]
  },
  {
   "cell_type": "code",
   "execution_count": 6,
   "metadata": {},
   "outputs": [
    {
     "name": "stdout",
     "output_type": "stream",
     "text": [
      "True\n"
     ]
    }
   ],
   "source": [
    "target = [8,5]\n",
    "expected = True\n",
    "\n",
    "output = Solution().isPossible(target)\n",
    "print(output)\n",
    "assert output == expected"
   ]
  }
 ],
 "metadata": {
  "kernelspec": {
   "display_name": "Python 3.10.5 64-bit (windows store)",
   "language": "python",
   "name": "python3"
  },
  "language_info": {
   "codemirror_mode": {
    "name": "ipython",
    "version": 3
   },
   "file_extension": ".py",
   "mimetype": "text/x-python",
   "name": "python",
   "nbconvert_exporter": "python",
   "pygments_lexer": "ipython3",
   "version": "3.10.5"
  },
  "orig_nbformat": 4,
  "vscode": {
   "interpreter": {
    "hash": "3822405be9f5fb329f7270cbdcf73e762c62b3f383c5e71390a1a4648678c1cb"
   }
  }
 },
 "nbformat": 4,
 "nbformat_minor": 2
}
