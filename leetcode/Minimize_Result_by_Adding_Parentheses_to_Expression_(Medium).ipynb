{
  "nbformat": 4,
  "nbformat_minor": 0,
  "metadata": {
    "colab": {
      "name": "Minimize Result by Adding Parentheses to Expression (Medium).ipynb",
      "provenance": [],
      "authorship_tag": "ABX9TyMpP93dBZzxC8W3kcqkoXCI",
      "include_colab_link": true
    },
    "kernelspec": {
      "name": "python3",
      "display_name": "Python 3"
    },
    "language_info": {
      "name": "python"
    }
  },
  "cells": [
    {
      "cell_type": "markdown",
      "metadata": {
        "id": "view-in-github",
        "colab_type": "text"
      },
      "source": [
        "<a href=\"https://colab.research.google.com/github/wisarootl/leetcode/blob/main/Minimize_Result_by_Adding_Parentheses_to_Expression_(Medium).ipynb\" target=\"_parent\"><img src=\"https://colab.research.google.com/assets/colab-badge.svg\" alt=\"Open In Colab\"/></a>"
      ]
    },
    {
      "cell_type": "markdown",
      "source": [
        "# Minimize Result by Adding Parentheses to Expression"
      ],
      "metadata": {
        "id": "XnP-EjxEfrng"
      }
    },
    {
      "cell_type": "markdown",
      "source": [
        "You are given a 0-indexed string expression of the form \"<num1>+<num2>\" where <num1> and <num2> represent positive integers.\n",
        "\n",
        "Add a pair of parentheses to expression such that after the addition of parentheses, expression is a valid mathematical expression and evaluates to the smallest possible value. The left parenthesis must be added to the left of '+' and the right parenthesis must be added to the right of '+'.\n",
        "\n",
        "Return expression after adding a pair of parentheses such that expression evaluates to the smallest possible value. If there are multiple answers that yield the same result, return any of them.\n",
        "\n",
        "The input has been generated such that the original value of expression, and the value of expression after adding any pair of parentheses that meets the requirements fits within a signed 32-bit integer."
      ],
      "metadata": {
        "id": "QG23uB9Ufsc3"
      }
    },
    {
      "cell_type": "markdown",
      "source": [
        "Example 1:\n",
        "\n",
        "```\n",
        "Input: expression = \"247+38\"\n",
        "Output: \"2(47+38)\"\n",
        "Explanation: The expression evaluates to 2 * (47 + 38) = 2 * 85 = 170.\n",
        "Note that \"2(4)7+38\" is invalid because the right parenthesis must be to the right of the '+'.\n",
        "It can be shown that 170 is the smallest possible value.\n",
        "```\n",
        "\n"
      ],
      "metadata": {
        "id": "adxTW-vEfuN0"
      }
    },
    {
      "cell_type": "markdown",
      "source": [
        "Example 2:\n",
        "\n",
        "```\n",
        "Input: expression = \"12+34\"\n",
        "Output: \"1(2+3)4\"\n",
        "Explanation: The expression evaluates to 1 * (2 + 3) * 4 = 1 * 5 * 4 = 20.\n",
        "```\n",
        "\n"
      ],
      "metadata": {
        "id": "kTpJS5exfwco"
      }
    },
    {
      "cell_type": "markdown",
      "source": [
        "Example 3:\n",
        "\n",
        "```\n",
        "Input: expression = \"999+999\"\n",
        "Output: \"(999+999)\"\n",
        "Explanation: The expression evaluates to 999 + 999 = 1998.\n",
        "```\n",
        "\n"
      ],
      "metadata": {
        "id": "3587wqwyfy-8"
      }
    },
    {
      "cell_type": "markdown",
      "source": [
        "Constraints:\n",
        "\n",
        "```\n",
        "3 <= expression.length <= 10\n",
        "expression consists of digits from '1' to '9' and '+'.\n",
        "expression starts and ends with digits.\n",
        "expression contains exactly one '+'.\n",
        "The original value of expression, and the value of expression after adding any pair of parentheses that meets the requirements fits within a signed 32-bit integer.\n",
        "```\n",
        "\n"
      ],
      "metadata": {
        "id": "B6Q8Ryqvf1gW"
      }
    },
    {
      "cell_type": "markdown",
      "source": [
        "# Solution"
      ],
      "metadata": {
        "id": "I_0qbSwFgLwb"
      }
    },
    {
      "cell_type": "code",
      "source": [
        "# Time = O(nm * (n+m))\n",
        "# space = O(n+m)\n",
        "\n",
        "# n = len bofore \"+\"\n",
        "# m = len after \"+\"\n",
        "\n",
        "\n",
        "class Solution(object):\n",
        "    def minimizeResult(self, expression):\n",
        "        \"\"\"\n",
        "        :type expression: str\n",
        "        :rtype: str\n",
        "        \"\"\"\n",
        "        first, second = expression.split('+')\n",
        "        score = float('inf')\n",
        "        res = ''\n",
        "        for i in range(len(first)):\n",
        "            num_1 = int(first[:i]) if i != 0 else 1\n",
        "            num_2 = int(first[i:])\n",
        "            for j in range(1, len(second) + 1):\n",
        "                num_3 = int(second[:j])\n",
        "                num_4 = int(second[j:]) if j != len(second) else 1\n",
        "                cur_score = num_1*(num_2 + num_3)*num_4\n",
        "                if cur_score < score:\n",
        "                    res = first[:i] + '(' + first[i:] + '+' + second[:j] + ')' + second[j:]\n",
        "                    score = cur_score\n",
        "\n",
        "        return res"
      ],
      "metadata": {
        "id": "LCvPGe7ZfrLA"
      },
      "execution_count": 1,
      "outputs": []
    },
    {
      "cell_type": "code",
      "execution_count": 2,
      "metadata": {
        "colab": {
          "base_uri": "https://localhost:8080/"
        },
        "id": "BnoYAlOZZ3Ue",
        "outputId": "93b6179f-8ac4-4397-ee80-b9ff6c564eeb"
      },
      "outputs": [
        {
          "output_type": "stream",
          "name": "stdout",
          "text": [
            "2(47+38)\n"
          ]
        }
      ],
      "source": [
        "expression = \"247+38\"\n",
        "expected = \"2(47+38)\"\n",
        "\n",
        "output = Solution().minimizeResult(expression)\n",
        "print(output)\n",
        "assert output == expected"
      ]
    },
    {
      "cell_type": "code",
      "source": [
        "expression = \"12+34\"\n",
        "expected = \"1(2+3)4\"\n",
        "\n",
        "output = Solution().minimizeResult(expression)\n",
        "print(output)\n",
        "assert output == expected"
      ],
      "metadata": {
        "colab": {
          "base_uri": "https://localhost:8080/"
        },
        "id": "7U8fFlVigGPm",
        "outputId": "1cc4f502-808e-40c7-ed8b-3d46d6058755"
      },
      "execution_count": 3,
      "outputs": [
        {
          "output_type": "stream",
          "name": "stdout",
          "text": [
            "1(2+3)4\n"
          ]
        }
      ]
    }
  ]
}