{
  "nbformat": 4,
  "nbformat_minor": 0,
  "metadata": {
    "colab": {
      "name": "Shorten Path (Hard).ipynb",
      "provenance": [],
      "collapsed_sections": [],
      "authorship_tag": "ABX9TyMro//Bnc1C959ImuA+RebL",
      "include_colab_link": true
    },
    "kernelspec": {
      "name": "python3",
      "display_name": "Python 3"
    },
    "language_info": {
      "name": "python"
    }
  },
  "cells": [
    {
      "cell_type": "markdown",
      "metadata": {
        "id": "view-in-github",
        "colab_type": "text"
      },
      "source": [
        "<a href=\"https://colab.research.google.com/github/wisarootl/leetcode/blob/main/Shorten_Path_(Hard).ipynb\" target=\"_parent\"><img src=\"https://colab.research.google.com/assets/colab-badge.svg\" alt=\"Open In Colab\"/></a>"
      ]
    },
    {
      "cell_type": "markdown",
      "source": [
        "# Shorten Path"
      ],
      "metadata": {
        "id": "sK4X_2_kid_b"
      }
    },
    {
      "cell_type": "markdown",
      "source": [
        "Write a function that takes in a non-empty string representing a valid Unix-shell path and returns a shortened version of that path.\n",
        "\n",
        "A path is a notation that represents the location of a file or directory in a file system.\n",
        "\n",
        "A path can be an absolute path, meaning that it starts at the root directory in a file system, or a relative path, meaning that it starts at the current directory in a file system.\n",
        "\n",
        "In a Unix-like operating system, a path is bound by the following rules:\n",
        "\n",
        "- The root directory is represented by a `/`. This means that if a path starts with `/`, it's an absolute path; if it doesn't, it's a relative path.\n",
        "- The symbol `/` otherwise represents the directory separator. This means that the path `/foo/bar` is the location of the directory bar inside the directory foo, which is itself located inside the root directory.\n",
        "- The symbol `..` represents the parent directory. This means that accessing files or directories in `/foo/bar/..` is equivalent to accessing files or directories in /foo.\n",
        "- The symbol `.` represents the current directory. This means that accessing files or directories in `/foo/bar/.` is equivalent to accessing files or directories in `/foo/bar`.\n",
        "- The symbols `/` and `.` can be repeated sequentially without consequence; the symbol `..` cannot, however, because repeating it sequentially means going further up in parent directories. For example, `/foo/bar/baz/././.` and `/foo/bar/baz` are equivalent paths, but `/foo/bar/baz/../../../` and /`foo/bar/baz` definitely aren't. The only exception is with the root directory: `/../../..` and `/` are equivalent, because the root directory has no parent directory, which means that repeatedly accessing parent directories does nothing.\n",
        "\n",
        "Note that the shortened version of the path must be equivalent to the original path. In other words, it must point to the same file or directory as the original path."
      ],
      "metadata": {
        "id": "HoaUGTsXigSc"
      }
    },
    {
      "cell_type": "markdown",
      "source": [
        "Sample Input\n",
        "\n",
        "```\n",
        "path = \"/foo/../test/../test/../foo//bar/./baz\"\n",
        "```\n",
        "\n"
      ],
      "metadata": {
        "id": "EcSEm1UAiodK"
      }
    },
    {
      "cell_type": "markdown",
      "source": [
        "Sample Output\n",
        "\n",
        "```\n",
        "\"/foo/bar/baz\" // This path is equivalent to the input path.\n",
        "```\n",
        "\n"
      ],
      "metadata": {
        "id": "n5W2zR5riq6R"
      }
    },
    {
      "cell_type": "code",
      "execution_count": 1,
      "metadata": {
        "id": "bMIsNWQxowRG"
      },
      "outputs": [],
      "source": [
        "# Time O(N)\n",
        "# Space O(N)\n",
        "\n",
        "def shortenPath(path):\n",
        "  start_with_slash = path[0] == '/'\n",
        "  tokens = path.split('/')\n",
        "  stack = []\n",
        "  if start_with_slash:\n",
        "    stack.append('')\n",
        "  for token in tokens:\n",
        "    if token == '..':\n",
        "      # beginning of relative path\n",
        "      if len(stack) == 0 or stack[-1] == '..':\n",
        "        stack.append(token)\n",
        "      # not root\n",
        "      elif stack[-1] != '':\n",
        "        stack.pop()\n",
        "    elif token == '.' or token == '':\n",
        "      pass\n",
        "    else:\n",
        "      stack.append(token)\n",
        "  \n",
        "  if len(stack) == 1 and stack[-1] == '':\n",
        "    return '/'\n",
        "\n",
        "  return '/'.join(stack)\t"
      ]
    },
    {
      "cell_type": "markdown",
      "source": [
        "# Test"
      ],
      "metadata": {
        "id": "7wjv8cxxugka"
      }
    },
    {
      "cell_type": "code",
      "source": [
        "path = \"/foo/../test/../test/../foo//bar/./baz\"\n",
        "expected = '/foo/bar/baz'\n",
        "output = shortenPath(path)\n",
        "print(output)\n",
        "output == expected"
      ],
      "metadata": {
        "colab": {
          "base_uri": "https://localhost:8080/"
        },
        "id": "0GS6PF3Qui4D",
        "outputId": "bd81ad90-37bd-495c-e100-1d2736075d0c"
      },
      "execution_count": 2,
      "outputs": [
        {
          "output_type": "stream",
          "name": "stdout",
          "text": [
            "/foo/bar/baz\n"
          ]
        },
        {
          "output_type": "execute_result",
          "data": {
            "text/plain": [
              "True"
            ]
          },
          "metadata": {},
          "execution_count": 2
        }
      ]
    },
    {
      "cell_type": "code",
      "source": [
        "path = \"/\"\n",
        "expected = \"/\"\n",
        "output = shortenPath(path)\n",
        "print(output)\n",
        "output == expected"
      ],
      "metadata": {
        "colab": {
          "base_uri": "https://localhost:8080/"
        },
        "id": "O-RDM51bviMv",
        "outputId": "c378f508-7656-4304-c3b0-6dc09ba08c37"
      },
      "execution_count": 3,
      "outputs": [
        {
          "output_type": "stream",
          "name": "stdout",
          "text": [
            "/\n"
          ]
        },
        {
          "output_type": "execute_result",
          "data": {
            "text/plain": [
              "True"
            ]
          },
          "metadata": {},
          "execution_count": 3
        }
      ]
    },
    {
      "cell_type": "code",
      "source": [
        "path = \"../../foo/bar/baz\"\n",
        "expected = '../../foo/bar/baz'\n",
        "output = shortenPath(path)\n",
        "print(output)\n",
        "output == expected"
      ],
      "metadata": {
        "colab": {
          "base_uri": "https://localhost:8080/"
        },
        "id": "xOuiwr3SgHrL",
        "outputId": "806378ef-4b9a-4ff4-a2d9-a92647bb420a"
      },
      "execution_count": 4,
      "outputs": [
        {
          "output_type": "stream",
          "name": "stdout",
          "text": [
            "../../foo/bar/baz\n"
          ]
        },
        {
          "output_type": "execute_result",
          "data": {
            "text/plain": [
              "True"
            ]
          },
          "metadata": {},
          "execution_count": 4
        }
      ]
    },
    {
      "cell_type": "code",
      "source": [
        "path = \"/../../foo/../../bar/baz\"\n",
        "expected = '/bar/baz'\n",
        "output = shortenPath(path)\n",
        "print(output)\n",
        "output == expected"
      ],
      "metadata": {
        "colab": {
          "base_uri": "https://localhost:8080/"
        },
        "id": "RQRcQSY0gQBv",
        "outputId": "4843aece-c200-479b-d727-7376e2e83202"
      },
      "execution_count": 5,
      "outputs": [
        {
          "output_type": "stream",
          "name": "stdout",
          "text": [
            "/bar/baz\n"
          ]
        },
        {
          "output_type": "execute_result",
          "data": {
            "text/plain": [
              "True"
            ]
          },
          "metadata": {},
          "execution_count": 5
        }
      ]
    }
  ]
}