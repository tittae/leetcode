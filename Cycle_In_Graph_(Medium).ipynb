{
  "nbformat": 4,
  "nbformat_minor": 0,
  "metadata": {
    "colab": {
      "name": "Cycle In Graph (Medium).ipynb",
      "provenance": [],
      "collapsed_sections": [],
      "authorship_tag": "ABX9TyMvYERF6Y8w2D2t8uLec1HE",
      "include_colab_link": true
    },
    "kernelspec": {
      "name": "python3",
      "display_name": "Python 3"
    },
    "language_info": {
      "name": "python"
    }
  },
  "cells": [
    {
      "cell_type": "markdown",
      "metadata": {
        "id": "view-in-github",
        "colab_type": "text"
      },
      "source": [
        "<a href=\"https://colab.research.google.com/github/wisarootl/leetcode/blob/main/Cycle_In_Graph_(Medium).ipynb\" target=\"_parent\"><img src=\"https://colab.research.google.com/assets/colab-badge.svg\" alt=\"Open In Colab\"/></a>"
      ]
    },
    {
      "cell_type": "markdown",
      "metadata": {
        "id": "RYAHzK7bdDwi"
      },
      "source": [
        "# Cycle In Graph"
      ]
    },
    {
      "cell_type": "markdown",
      "metadata": {
        "id": "BC_NU4uMdSXz"
      },
      "source": [
        "You're given a list of `edges` representing an unweighted, directed graph with at least one node. Write a function that returns a boolean representing whether the given graph contains a cycle.\n",
        "\n",
        "For the purpose of this question, a cycle is defined as any number of vertices, including just one vertex, that are connected in a closed chain. A cycle can also be defined as a chain of at least one vertex in which the first vertex is the same as the last.\n",
        "\n",
        "The given list is what's called an adjacency list, and it represents a graph. The number of vertices in the graph is equal to the length of `edges`, where each index `i` in `edges` contains vertex `i`'s outbound edges, in no particular order. Each individual edge is represented by a positive integer that denotes an index (a destination vertex) in the list that this vertex is connected to. Note that these edges are directed, meaning that you can only travel from a particular vertex to its destination, not the other way around (unless the destination vertex itself has an outbound edge to the original vertex).\n",
        "\n",
        "Also note that this graph may contain self-loops. A self-loop is an edge that has the same destination and origin; in other words, it's an edge that connects a vertex to itself. For the purpose of this question, a self-loop is considered a cycle.\n",
        "\n",
        "For a more detailed explanation, please refer to the Conceptual Overview section of this question's video explanation."
      ]
    },
    {
      "cell_type": "markdown",
      "metadata": {
        "id": "46x02QIRdbZ5"
      },
      "source": [
        "Sample Input\n",
        "\n",
        "```\n",
        "edges = [\n",
        "  [1, 3],\n",
        "  [2, 3, 4],\n",
        "  [0],\n",
        "  [],\n",
        "  [2, 5],\n",
        "  [],\n",
        "]\n",
        "```\n",
        "\n"
      ]
    },
    {
      "cell_type": "markdown",
      "metadata": {
        "id": "9iItrIBoddds"
      },
      "source": [
        "Sample Output\n",
        "\n",
        "```\n",
        "true \n",
        "// There are multiple cycles in this graph: \n",
        "// 1) 0 -> 1 -> 2 -> 0\n",
        "// 2) 0 -> 1 -> 4 -> 2 -> 0\n",
        "// 3) 1 -> 2 -> 0 -> 1\n",
        "// These are just 3 examples; there are more.\n",
        "```\n",
        "\n"
      ]
    },
    {
      "cell_type": "code",
      "metadata": {
        "id": "5ZIBUtzvdA3J"
      },
      "source": [
        "# Time O(V + E)\n",
        "# Space O(V + E) (store adjacency list O(E), visited_node & processing_node O(V))\n",
        "# to optimize the space, we may not need to create adjacency list and use the original edges array.\n",
        "\n",
        "def cycleInGraph(edges):\n",
        "\tadjacency_list = create_adjacency_list(edges)\n",
        "\tvisited_node = set()\n",
        "\tprocessing_node = set()\n",
        "\tcyclic_status = False\n",
        "\n",
        "\tfor node in adjacency_list.keys():\n",
        "\t\tif node not in visited_node:\n",
        "\t\t\tcyclic_status = dfs(node, adjacency_list, visited_node, processing_node, cyclic_status)\n",
        "\n",
        "\treturn cyclic_status\n",
        "\n",
        "def dfs(node, adjacency_list, visited_node, processing_node, cyclic_status):\n",
        "\tif node in visited_node:\n",
        "\t\treturn cyclic_status\n",
        "\tif node in processing_node:\n",
        "\t\tcyclic_status = True\n",
        "\t\treturn cyclic_status\n",
        "\n",
        "\tprocessing_node.add(node)\n",
        "\tfor target in adjacency_list[node]:\n",
        "\t\tcyclic_status = dfs(target, adjacency_list, visited_node, processing_node, cyclic_status)\n",
        "\n",
        "\tprocessing_node.remove(node)\n",
        "\tvisited_node.add(node)\n",
        "\n",
        "\treturn cyclic_status\n",
        "\n",
        "\n",
        "def create_adjacency_list(edges):\n",
        "\tadjacency_list = {}\n",
        "\tfor i in range(len(edges)):\n",
        "\t\tadjacency_list[i] = edges[i]\n",
        "\n",
        "\treturn adjacency_list"
      ],
      "execution_count": null,
      "outputs": []
    },
    {
      "cell_type": "code",
      "metadata": {
        "id": "-2AGWQ7xheh2"
      },
      "source": [
        "edges = [[1, 3], [2, 3, 4], [0], [], [2, 5], [],]"
      ],
      "execution_count": null,
      "outputs": []
    },
    {
      "cell_type": "code",
      "metadata": {
        "colab": {
          "base_uri": "https://localhost:8080/"
        },
        "id": "37jy8VDrhlDo",
        "outputId": "cf73c080-33cb-4763-ee72-945a54ed71c7"
      },
      "source": [
        "print(cycleInGraph(edges))"
      ],
      "execution_count": null,
      "outputs": [
        {
          "output_type": "stream",
          "name": "stdout",
          "text": [
            "True\n"
          ]
        }
      ]
    }
  ]
}