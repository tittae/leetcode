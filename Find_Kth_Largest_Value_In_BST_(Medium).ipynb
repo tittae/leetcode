{
  "nbformat": 4,
  "nbformat_minor": 0,
  "metadata": {
    "colab": {
      "name": "Find Kth Largest Value In BST (Medium).ipynb",
      "provenance": [],
      "collapsed_sections": [],
      "authorship_tag": "ABX9TyN7mBafPhHjSMmU1DgNBO3s",
      "include_colab_link": true
    },
    "kernelspec": {
      "name": "python3",
      "display_name": "Python 3"
    },
    "language_info": {
      "name": "python"
    }
  },
  "cells": [
    {
      "cell_type": "markdown",
      "metadata": {
        "id": "view-in-github",
        "colab_type": "text"
      },
      "source": [
        "<a href=\"https://colab.research.google.com/github/wisarootl/leetcode/blob/main/Find_Kth_Largest_Value_In_BST_(Medium).ipynb\" target=\"_parent\"><img src=\"https://colab.research.google.com/assets/colab-badge.svg\" alt=\"Open In Colab\"/></a>"
      ]
    },
    {
      "cell_type": "markdown",
      "source": [
        "# Find Kth Largest Value In BST"
      ],
      "metadata": {
        "id": "nh2EAZKLqZkl"
      }
    },
    {
      "cell_type": "markdown",
      "source": [
        "Write a function that takes in a Binary Search Tree (BST) and a positive integer `k` and returns the kth largest integer contained in the BST.\n",
        "\n",
        "You can assume that there will only be integer values in the BST and that `k` is less than or equal to the number of nodes in the tree.\n",
        "\n",
        "Also, for the purpose of this question, duplicate integers will be treated as distinct values. In other words, the second largest value in a BST containing values `{5, 7, 7}` will be `7`—not `5`.\n",
        "\n",
        "Each `BST` node has an integer `value`, a `left` child node, and a `right` child node. A node is said to be a valid `BST` node if and only if it satisfies the BST property: its `value` is strictly greater than the values of every node to its left; its `value` is less than or equal to the values of every node to its right; and its children nodes are either valid `BST` nodes themselves or `None` / `null`."
      ],
      "metadata": {
        "id": "WpU29fVdqbeY"
      }
    },
    {
      "cell_type": "markdown",
      "source": [
        "Sample Input\n",
        "\n",
        "```\n",
        "tree =   15\n",
        "       /     \\\n",
        "      5      20\n",
        "    /   \\   /   \\\n",
        "   2     5 17   22\n",
        " /   \\         \n",
        "1     3       \n",
        "k = 3\n",
        "```\n",
        "\n"
      ],
      "metadata": {
        "id": "xC_lYXuSqw-f"
      }
    },
    {
      "cell_type": "markdown",
      "source": [
        "Sample Output\n",
        "\n",
        "```\n",
        "17\n",
        "```\n",
        "\n"
      ],
      "metadata": {
        "id": "qHuh3quyqzgA"
      }
    },
    {
      "cell_type": "code",
      "execution_count": 1,
      "metadata": {
        "id": "z2z806StjPXy"
      },
      "outputs": [],
      "source": [
        "# This is an input class. Do not edit.\n",
        "class BST:\n",
        "\tdef __init__(self, value, left=None, right=None):\n",
        "\t\tself.value = value\n",
        "\t\tself.left = left\n",
        "\t\tself.right = right\n",
        "\n",
        "# Time O(n)\n",
        "# Space O(n)\n",
        "def findKthLargestValueInBst(tree, k):\n",
        "\ttraversal_order = []\n",
        "\treversed_inorder_traversal(tree, traversal_order)\n",
        "\treturn traversal_order[-k]\n",
        "\n",
        "def reversed_inorder_traversal(tree, traversal_order):\n",
        "\tif tree == None:\n",
        "\t\treturn\n",
        "\treversed_inorder_traversal(tree.left, traversal_order)\n",
        "\ttraversal_order.append(tree.value)\n",
        "\treversed_inorder_traversal(tree.right, traversal_order)"
      ]
    },
    {
      "cell_type": "code",
      "source": [
        "# This is an input class. Do not edit.\n",
        "class BST:\n",
        "  def __init__(self, value, left=None, right=None):\n",
        "    self.value = value\n",
        "    self.left = left\n",
        "    self.right = right\n",
        "\n",
        "# Time O(max(h, k))\n",
        "# Space O(h)\n",
        "def findKthLargestValueInBst(tree, k):\n",
        "  tree_info = {'visited_count':0, 'k_largest_value':None}\n",
        "  reversed_inorder_traversal(tree, k, tree_info)\n",
        "  return tree_info['k_largest_value']\n",
        "\n",
        "def reversed_inorder_traversal(tree, k, tree_info):\n",
        "  if tree == None:\n",
        "    return\n",
        "  reversed_inorder_traversal(tree.right, k, tree_info)\n",
        "\n",
        "  tree_info['visited_count'] += 1\n",
        "  if tree_info['visited_count'] == k:\n",
        "    tree_info['k_largest_value'] = tree.value\n",
        "\n",
        "  reversed_inorder_traversal(tree.left, k, tree_info)"
      ],
      "metadata": {
        "id": "-dtJ7bMEkZ3d"
      },
      "execution_count": 2,
      "outputs": []
    },
    {
      "cell_type": "code",
      "source": [
        "tree = BST(15)\n",
        "tree.left = BST(5)\n",
        "tree.right = BST(20)\n",
        "tree.left.left = BST(2)\n",
        "tree.left.right = BST(5)\n",
        "tree.right.left = BST(17)\n",
        "tree.right.right = BST(22)\n",
        "tree.left.left.left = BST(1)\n",
        "tree.left.left.right = BST(3)"
      ],
      "metadata": {
        "id": "gSgRF-fCkclf"
      },
      "execution_count": 3,
      "outputs": []
    },
    {
      "cell_type": "code",
      "source": [
        "print(findKthLargestValueInBst(tree, 3))"
      ],
      "metadata": {
        "colab": {
          "base_uri": "https://localhost:8080/"
        },
        "id": "LIecjaT8k4Fi",
        "outputId": "146fc563-d88b-45c4-b851-9696aa3fe1e2"
      },
      "execution_count": 4,
      "outputs": [
        {
          "output_type": "stream",
          "name": "stdout",
          "text": [
            "17\n"
          ]
        }
      ]
    }
  ]
}