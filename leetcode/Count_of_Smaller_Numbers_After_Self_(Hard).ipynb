{
  "nbformat": 4,
  "nbformat_minor": 0,
  "metadata": {
    "colab": {
      "name": "Count of Smaller Numbers After Self (Hard).ipynb",
      "provenance": [],
      "collapsed_sections": [],
      "authorship_tag": "ABX9TyNmOhUmwJNR2nTg+aUBZT3F",
      "include_colab_link": true
    },
    "kernelspec": {
      "name": "python3",
      "display_name": "Python 3"
    },
    "language_info": {
      "name": "python"
    }
  },
  "cells": [
    {
      "cell_type": "markdown",
      "metadata": {
        "id": "view-in-github",
        "colab_type": "text"
      },
      "source": [
        "<a href=\"https://colab.research.google.com/github/wisarootl/leetcode/blob/main/Count_of_Smaller_Numbers_After_Self_(Hard).ipynb\" target=\"_parent\"><img src=\"https://colab.research.google.com/assets/colab-badge.svg\" alt=\"Open In Colab\"/></a>"
      ]
    },
    {
      "cell_type": "markdown",
      "source": [
        "You are given an integer array nums and you have to return a new counts array. The counts array has the property where counts[i] is the number of smaller elements to the right of nums[i]."
      ],
      "metadata": {
        "id": "y6UEvKVGs2I5"
      }
    },
    {
      "cell_type": "markdown",
      "source": [
        "Example 1:\n",
        "\n",
        "```\n",
        "Input: nums = [5,2,6,1]\n",
        "Output: [2,1,1,0]\n",
        "Explanation:\n",
        "To the right of 5 there are 2 smaller elements (2 and 1).\n",
        "To the right of 2 there is only 1 smaller element (1).\n",
        "To the right of 6 there is 1 smaller element (1).\n",
        "To the right of 1 there is 0 smaller element.\n",
        "```\n",
        "\n"
      ],
      "metadata": {
        "id": "AKfkI9gas3qK"
      }
    },
    {
      "cell_type": "markdown",
      "source": [
        "Example 2:\n",
        "\n",
        "```\n",
        "Input: nums = [-1]\n",
        "Output: [0]\n",
        "```\n",
        "\n"
      ],
      "metadata": {
        "id": "aw9paik6s8SY"
      }
    },
    {
      "cell_type": "markdown",
      "source": [
        "Example 3:\n",
        "\n",
        "```\n",
        "Input: nums = [-1,-1]\n",
        "Output: [0,0]\n",
        "```\n",
        "\n"
      ],
      "metadata": {
        "id": "mWcF4IBNs-Uc"
      }
    },
    {
      "cell_type": "markdown",
      "source": [
        "Constraints:\n",
        "\n",
        "```\n",
        "1 <= nums.length <= 105\n",
        "-104 <= nums[i] <= 104\n",
        "```\n",
        "\n"
      ],
      "metadata": {
        "id": "OHBKl55vtAY8"
      }
    },
    {
      "cell_type": "markdown",
      "source": [
        "- Similar to \"Right Smaller Than\" question"
      ],
      "metadata": {
        "id": "WxYUC9yAst8Q"
      }
    },
    {
      "cell_type": "markdown",
      "source": [
        "# Solution 1: BST"
      ],
      "metadata": {
        "id": "DBIFauC7YQc3"
      }
    },
    {
      "cell_type": "code",
      "execution_count": 1,
      "metadata": {
        "id": "MXyeFHcnii_r"
      },
      "outputs": [],
      "source": [
        "# Time O(n logn) : Average and O(n^2) Worst\n",
        "# Space O(n)\n",
        "\n",
        "class Solution:\n",
        "    def countSmaller(self, nums):\n",
        "      if len(nums) == 0:\n",
        "        return []\n",
        "\n",
        "      count_smaller = [None for _ in nums]\n",
        "      bst = SpecialBst(nums[-1])\n",
        "      count_smaller[-1] = 0\n",
        "      for i in reversed(range(len(nums) - 1)):\n",
        "        smaller_count_at_insertion = bst.insert(nums[i])\n",
        "        count_smaller[i] = smaller_count_at_insertion\n",
        "      \n",
        "      return count_smaller\n",
        "      \n",
        "\n",
        "class SpecialBst():\n",
        "    def __init__(self, value):\n",
        "      self.value = value\n",
        "      self.left = None\n",
        "      self.right = None\n",
        "      self.left_node_count = 0\n",
        "\n",
        "    def insert(self, value, smaller_count_at_insertion = 0):\n",
        "      if value < self.value:\n",
        "        self.left_node_count += 1\n",
        "        if self.left == None:\n",
        "          self.left = SpecialBst(value)\n",
        "        else:\n",
        "          smaller_count_at_insertion = self.left.insert(value, smaller_count_at_insertion)\n",
        "      \n",
        "      else:\n",
        "        smaller_count_at_insertion += self.left_node_count\n",
        "        if value > self.value:\n",
        "          smaller_count_at_insertion += 1\n",
        "        if self.right == None:\n",
        "          self.right = SpecialBst(value)\n",
        "        else:\n",
        "          smaller_count_at_insertion = self.right.insert(value, smaller_count_at_insertion)\n",
        "      \n",
        "      return smaller_count_at_insertion"
      ]
    },
    {
      "cell_type": "code",
      "source": [
        "nums = [5,2,6,1]\n",
        "count_smaller = Solution().countSmaller(nums)\n",
        "print(count_smaller)"
      ],
      "metadata": {
        "colab": {
          "base_uri": "https://localhost:8080/"
        },
        "id": "ygErl-z0dYET",
        "outputId": "951be98b-59bd-40b7-bab7-705a75e1e445"
      },
      "execution_count": 2,
      "outputs": [
        {
          "output_type": "stream",
          "name": "stdout",
          "text": [
            "[2, 1, 1, 0]\n"
          ]
        }
      ]
    },
    {
      "cell_type": "markdown",
      "source": [
        "# Solution 2: AVL tree"
      ],
      "metadata": {
        "id": "MwOmob8FYN7q"
      }
    },
    {
      "cell_type": "markdown",
      "source": [
        "- AVL tree is self-balancing BST. Thus, worst case for insert/delete/search will be log(n)"
      ],
      "metadata": {
        "id": "9NQJN06Kdtfo"
      }
    },
    {
      "cell_type": "code",
      "source": [
        "# Time O(n logn) : Average and Worst\n",
        "# Space O(n)\n",
        "\n",
        "class Solution:\n",
        "    def countSmaller(self, nums):\n",
        "      if len(nums) == 0:\n",
        "        return []\n",
        "\n",
        "      count_smaller = [None for _ in nums]\n",
        "      tree = AvlTree()\n",
        "      tree.root, x = tree.insert(nums[-1], tree.root)\n",
        "      count_smaller[-1] = 0\n",
        "      for i in reversed(range(len(nums) - 1)):\n",
        "        tree.root, smaller_count_at_insertion = tree.insert(nums[i], tree.root)\n",
        "        count_smaller[i] = smaller_count_at_insertion\n",
        "      \n",
        "      return count_smaller\n",
        "\n",
        "class Node:\n",
        "    def __init__(self, value):\n",
        "        self.value = value\n",
        "        self.left = None\n",
        "        self.right = None\n",
        "        self.height = 1\n",
        "        self.left_node_count = 0\n",
        "        self.right_node_count = 0\n",
        "\n",
        "class AvlTree():\n",
        "  def __init__(self):\n",
        "    self.root = None\n",
        "  \n",
        "  def get_height(self, node):\n",
        "    return node.height if node != None else 0\n",
        "\n",
        "  def update_height(self, node):\n",
        "    return 1 + max(self.get_height(node.left), self.get_height(node.right))\n",
        "  \n",
        "  def get_balance(self, node):\n",
        "    return self.get_height(node.left) - self.get_height(node.right)\n",
        "  \n",
        "  def get_minimum_value_node(self, node):\n",
        "    while node.left != None:\n",
        "      none = node.left\n",
        "    return node\n",
        "  \n",
        "  def get_node_count(self, node):\n",
        "    if node != None:\n",
        "      return node.left_node_count + node.right_node_count + 1\n",
        "    return 0\n",
        "  \n",
        "  def rotate_right(self, node):\n",
        "    a = node.left\n",
        "    b = a.right\n",
        "    a.right = node\n",
        "    node.left = b\n",
        "    node.height = self.update_height(node)\n",
        "    a.height = self.update_height(a)\n",
        "\n",
        "    node.left_node_count = self.get_node_count(b)\n",
        "    a.right_node_count = self.get_node_count(node)\n",
        "\n",
        "    return a\n",
        "  \n",
        "  def rotate_left(self, node):\n",
        "    a = node.right\n",
        "    b = a.left\n",
        "    a.left = node\n",
        "    node.right = b\n",
        "    node.height = self.update_height(node)\n",
        "    a.height = self.update_height(a)\n",
        "\n",
        "    node.right_node_count = self.get_node_count(b)\n",
        "    a.left_node_count = self.get_node_count(node)\n",
        "\n",
        "    return a\n",
        "  \n",
        "  def insert(self, value, root, smaller_count_at_insertion = 0):\n",
        "    # Step 1 - perform ormal BST\n",
        "    if root == None:\n",
        "      return Node(value), smaller_count_at_insertion\n",
        "    elif value < root.value:\n",
        "      root.left_node_count += 1\n",
        "      root.left, smaller_count_at_insertion = self.insert(value, root.left, smaller_count_at_insertion)\n",
        "    elif value >= root.value:\n",
        "      smaller_count_at_insertion += root.left_node_count\n",
        "      if value > root.value: smaller_count_at_insertion += 1\n",
        "      root.right, smaller_count_at_insertion = self.insert(value, root.right, smaller_count_at_insertion)\n",
        "      root.right_node_count += 1\n",
        "\n",
        "    # Step 2 - update height and get balance\n",
        "    root.height = self.update_height(root)\n",
        "    balance = self.get_balance(root)\n",
        "\n",
        "    # Step 3 - perform rotation if not balance\n",
        "    if balance > 1 and value < root.left.value:\n",
        "      return self.rotate_right(root), smaller_count_at_insertion\n",
        "    elif balance < -1 and value > root.right.value:\n",
        "      return self.rotate_left(root), smaller_count_at_insertion\n",
        "    elif balance > 1 and value > root.left.value:\n",
        "      root.left = self.rotate_left(root.left)\n",
        "      return self.rotate_right(root), smaller_count_at_insertion\n",
        "    elif balance < -1 and value < root.right.value:\n",
        "      root.right = self.rotate_right(root.right)\n",
        "      return self.rotate_left(root), smaller_count_at_insertion\n",
        "\n",
        "    return root, smaller_count_at_insertion\n",
        "  \n",
        "  def preorder(self, root):\n",
        "    if root is None:\n",
        "        return\n",
        "    print(root.value, end=' ')\n",
        "    self.preorder(root.left)\n",
        "    self.preorder(root.right)"
      ],
      "metadata": {
        "id": "PSoezKKIq1a4"
      },
      "execution_count": 3,
      "outputs": []
    },
    {
      "cell_type": "code",
      "source": [
        "nums = [5,2,6,1]\n",
        "count_smaller = Solution().countSmaller(nums)\n",
        "print(count_smaller)"
      ],
      "metadata": {
        "colab": {
          "base_uri": "https://localhost:8080/"
        },
        "id": "tvldcaLvxdCa",
        "outputId": "cbba0f41-6c9e-4c68-ce8b-e698c90248d9"
      },
      "execution_count": 4,
      "outputs": [
        {
          "output_type": "stream",
          "name": "stdout",
          "text": [
            "[2, 1, 1, 0]\n"
          ]
        }
      ]
    },
    {
      "cell_type": "code",
      "source": [
        "nums = [-1]\n",
        "count_smaller = Solution().countSmaller(nums)\n",
        "print(count_smaller)"
      ],
      "metadata": {
        "colab": {
          "base_uri": "https://localhost:8080/"
        },
        "id": "O0WdxwKjU1F7",
        "outputId": "ba5ff52e-55c0-4501-c5af-4c8ed7ee27fd"
      },
      "execution_count": 5,
      "outputs": [
        {
          "output_type": "stream",
          "name": "stdout",
          "text": [
            "[0]\n"
          ]
        }
      ]
    },
    {
      "cell_type": "code",
      "source": [
        "nums = [-1, -1]\n",
        "count_smaller = Solution().countSmaller(nums)\n",
        "print(count_smaller)\n"
      ],
      "metadata": {
        "colab": {
          "base_uri": "https://localhost:8080/"
        },
        "id": "GPZNEpXHJaAE",
        "outputId": "ca397fc0-ef62-489d-c78c-45e731610699"
      },
      "execution_count": 6,
      "outputs": [
        {
          "output_type": "stream",
          "name": "stdout",
          "text": [
            "[0, 0]\n"
          ]
        }
      ]
    },
    {
      "cell_type": "code",
      "source": [
        "nums = []\n",
        "count_smaller = Solution().countSmaller(nums)\n",
        "print(count_smaller)"
      ],
      "metadata": {
        "colab": {
          "base_uri": "https://localhost:8080/"
        },
        "id": "6G2_Eg61Wk9f",
        "outputId": "dff03dbf-761c-413c-a407-8955955cc115"
      },
      "execution_count": 7,
      "outputs": [
        {
          "output_type": "stream",
          "name": "stdout",
          "text": [
            "[]\n"
          ]
        }
      ]
    },
    {
      "cell_type": "code",
      "source": [
        "nums = [8, 5, 11, -1, 3, 4, 2]\n",
        "count_smaller = Solution().countSmaller(nums)\n",
        "print(count_smaller)"
      ],
      "metadata": {
        "colab": {
          "base_uri": "https://localhost:8080/"
        },
        "id": "sRNXhN_QXAed",
        "outputId": "33d3eaec-68f1-4a19-ed9e-4d58d2965d38"
      },
      "execution_count": 8,
      "outputs": [
        {
          "output_type": "stream",
          "name": "stdout",
          "text": [
            "[5, 4, 4, 0, 1, 1, 0]\n"
          ]
        }
      ]
    },
    {
      "cell_type": "markdown",
      "source": [
        "# Solution 3: Merge Sort"
      ],
      "metadata": {
        "id": "Gpa4MVGlXh5x"
      }
    },
    {
      "cell_type": "markdown",
      "source": [
        "- count (j - mid) when append element form left array"
      ],
      "metadata": {
        "id": "Zl8h_TpXse3j"
      }
    },
    {
      "cell_type": "code",
      "source": [
        "# Time O(n log n)\n",
        "# Space O(n)\n",
        "\n",
        "class Solution:\n",
        "    def countSmaller(self, nums):\n",
        "        array = [[v, i] for i, v in enumerate(nums)]\n",
        "        result = [0 for _ in nums]\n",
        "        merge_sort(array, 0, len(nums), result)\n",
        "\n",
        "        return result\n",
        "\n",
        "# merge_sort [left, right)\n",
        "def merge_sort(array, left, right, result):\n",
        "  if right - left <= 1:\n",
        "    return\n",
        "  mid = (left + right) // 2\n",
        "  merge_sort(array, left, mid, result)\n",
        "  merge_sort(array, mid, right, result)\n",
        "  merge(array, left, right, mid, result)\n",
        "\n",
        "def merge(array, left, right, mid, result):\n",
        "  i = left\n",
        "  j = mid\n",
        "  sorted_temp = []\n",
        "  while i < mid and j < right:\n",
        "    if array[i][0] <= array[j][0]:\n",
        "      # (j - mid) numbers jump to left side of array[i]\n",
        "      result[array[i][1]] += j - mid\n",
        "      sorted_temp.append(array[i])\n",
        "      i += 1\n",
        "    else:\n",
        "      sorted_temp.append(array[j])\n",
        "      j += 1\n",
        "  \n",
        "  while i < mid:\n",
        "    result[array[i][1]] += j - mid\n",
        "    sorted_temp.append(array[i])\n",
        "    i += 1\n",
        "  while j < right:\n",
        "    sorted_temp.append(array[j])\n",
        "    j += 1\n",
        "    \n",
        "  for i in range(left, right):\n",
        "    array[i] = sorted_temp[i - left]"
      ],
      "metadata": {
        "id": "JjAbFEmrxcga"
      },
      "execution_count": 9,
      "outputs": []
    },
    {
      "cell_type": "code",
      "source": [
        "nums = [5,2,6,1]\n",
        "count_smaller = Solution().countSmaller(nums)\n",
        "print(count_smaller)"
      ],
      "metadata": {
        "colab": {
          "base_uri": "https://localhost:8080/"
        },
        "id": "M8Ya11_Tge68",
        "outputId": "62decdf6-059d-498b-bb1e-4e2cda464561"
      },
      "execution_count": 10,
      "outputs": [
        {
          "output_type": "stream",
          "name": "stdout",
          "text": [
            "[2, 1, 1, 0]\n"
          ]
        }
      ]
    },
    {
      "cell_type": "code",
      "source": [
        "nums = [8, 5, 11, -1, 3, 4, 2]\n",
        "count_smaller = Solution().countSmaller(nums)\n",
        "print(count_smaller)"
      ],
      "metadata": {
        "colab": {
          "base_uri": "https://localhost:8080/"
        },
        "id": "li_4niO9gi5i",
        "outputId": "4917a6ad-8fb2-4c2f-ac35-0c19fe1b3bb2"
      },
      "execution_count": 11,
      "outputs": [
        {
          "output_type": "stream",
          "name": "stdout",
          "text": [
            "[5, 4, 4, 0, 1, 1, 0]\n"
          ]
        }
      ]
    },
    {
      "cell_type": "code",
      "source": [
        "nums = [7, 2, 5, 4, 1, 6]\n",
        "count_smaller = Solution().countSmaller(nums)\n",
        "print(count_smaller)"
      ],
      "metadata": {
        "colab": {
          "base_uri": "https://localhost:8080/"
        },
        "id": "rxcOB1OShjBC",
        "outputId": "d2be82d3-09d9-450c-d2d3-a9976f159452"
      },
      "execution_count": 12,
      "outputs": [
        {
          "output_type": "stream",
          "name": "stdout",
          "text": [
            "[5, 1, 2, 1, 0, 0]\n"
          ]
        }
      ]
    },
    {
      "cell_type": "code",
      "source": [
        "nums = []\n",
        "count_smaller = Solution().countSmaller(nums)\n",
        "print(count_smaller)"
      ],
      "metadata": {
        "colab": {
          "base_uri": "https://localhost:8080/"
        },
        "id": "EETUaet4kO2L",
        "outputId": "3e309c76-16af-472b-c9e6-24ae2a868602"
      },
      "execution_count": 13,
      "outputs": [
        {
          "output_type": "stream",
          "name": "stdout",
          "text": [
            "[]\n"
          ]
        }
      ]
    },
    {
      "cell_type": "markdown",
      "source": [
        "![photo_2022-03-14_16-09-31.jpg](data:image/jpeg;base64,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)"
      ],
      "metadata": {
        "id": "MAVBqd0PsObw"
      }
    }
  ]
}