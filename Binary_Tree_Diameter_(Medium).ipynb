{
  "nbformat": 4,
  "nbformat_minor": 0,
  "metadata": {
    "colab": {
      "name": "Binary Tree Diameter (Medium).ipynb",
      "provenance": [],
      "collapsed_sections": [],
      "authorship_tag": "ABX9TyO7/6wk3jJGWYv9ATSSEkgo",
      "include_colab_link": true
    },
    "kernelspec": {
      "name": "python3",
      "display_name": "Python 3"
    },
    "language_info": {
      "name": "python"
    }
  },
  "cells": [
    {
      "cell_type": "markdown",
      "metadata": {
        "id": "view-in-github",
        "colab_type": "text"
      },
      "source": [
        "<a href=\"https://colab.research.google.com/github/wisarootl/leetcode/blob/main/Binary_Tree_Diameter_(Medium).ipynb\" target=\"_parent\"><img src=\"https://colab.research.google.com/assets/colab-badge.svg\" alt=\"Open In Colab\"/></a>"
      ]
    },
    {
      "cell_type": "markdown",
      "source": [
        "# Binary Tree Diameter"
      ],
      "metadata": {
        "id": "HuWWN7h8CmuJ"
      }
    },
    {
      "cell_type": "markdown",
      "source": [
        "Write a function that takes in a Binary Tree and returns its diameter. The diameter of a binary tree is defined as the length of its longest path, even if that path doesn't pass through the root of the tree.\n",
        "\n",
        "A path is a collection of connected nodes in a tree, where no node is connected to more than two other nodes. The length of a path is the number of edges between the path's first node and its last node.\n",
        "\n",
        "Each `BinaryTree` node has an integer `value`, a `left` child node, and a `right` child node. Children nodes can either be `BinaryTree` nodes themselves or `None` / `null`."
      ],
      "metadata": {
        "id": "m5nDxbw3C3Gj"
      }
    },
    {
      "cell_type": "code",
      "execution_count": 12,
      "metadata": {
        "id": "dE-_3F9I9p1s"
      },
      "outputs": [],
      "source": [
        "# This is an input class. Do not edit.\n",
        "class BinaryTree:\n",
        "  def __init__(self, value, left=None, right=None):\n",
        "    self.value = value\n",
        "    self.left = left\n",
        "    self.right = right\n",
        "\n",
        "# Time O(n)\n",
        "# Space O(d)\n",
        "def binaryTreeDiameter(tree):\n",
        "  max_diameter, _ = binaryTreeDiameterHelper(tree)\n",
        "  return max_diameter\n",
        "\n",
        "def binaryTreeDiameterHelper(tree):\n",
        "  if tree == None:\n",
        "    return 0, 0\n",
        "\n",
        "  left_diameter, left_height = binaryTreeDiameterHelper(tree.left)\n",
        "  right_diameter, right_height = binaryTreeDiameterHelper(tree.right)\n",
        "\n",
        "  max_height = max(left_height, right_height) + 1\n",
        "  new_diameter = left_height + right_height\n",
        "  max_diameter = max(left_diameter, right_diameter, new_diameter)\n",
        "\n",
        "  return max_diameter, max_height"
      ]
    },
    {
      "cell_type": "code",
      "source": [
        "tree = BinaryTree(1)\n",
        "tree.left = BinaryTree(3)\n",
        "tree.right = BinaryTree(2)\n",
        "tree.left.left  = BinaryTree(7)\n",
        "tree.left.right = BinaryTree(4)\n",
        "tree.left.left.left  = BinaryTree(8)\n",
        "tree.left.left.left.left  = BinaryTree(9)\n",
        "tree.left.right.right = BinaryTree(5)\n",
        "tree.left.right.right .right  = BinaryTree(6)"
      ],
      "metadata": {
        "id": "JNxXKLHG9t04"
      },
      "execution_count": 13,
      "outputs": []
    },
    {
      "cell_type": "code",
      "source": [
        "binaryTreeDiameter(tree)"
      ],
      "metadata": {
        "colab": {
          "base_uri": "https://localhost:8080/"
        },
        "id": "-S2D2x3E-F35",
        "outputId": "189a06fa-8dea-4bd1-fb80-268d53d69896"
      },
      "execution_count": 14,
      "outputs": [
        {
          "output_type": "execute_result",
          "data": {
            "text/plain": [
              "6"
            ]
          },
          "metadata": {},
          "execution_count": 14
        }
      ]
    }
  ]
}