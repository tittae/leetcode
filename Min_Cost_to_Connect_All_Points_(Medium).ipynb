{
  "nbformat": 4,
  "nbformat_minor": 0,
  "metadata": {
    "colab": {
      "name": "Min Cost to Connect All Points (Medium).ipynb",
      "provenance": [],
      "authorship_tag": "ABX9TyPg/+vYPU2Z1/uadm/DiSBI",
      "include_colab_link": true
    },
    "kernelspec": {
      "name": "python3",
      "display_name": "Python 3"
    },
    "language_info": {
      "name": "python"
    }
  },
  "cells": [
    {
      "cell_type": "markdown",
      "metadata": {
        "id": "view-in-github",
        "colab_type": "text"
      },
      "source": [
        "<a href=\"https://colab.research.google.com/github/wisarootl/leetcode/blob/main/Min_Cost_to_Connect_All_Points_(Medium).ipynb\" target=\"_parent\"><img src=\"https://colab.research.google.com/assets/colab-badge.svg\" alt=\"Open In Colab\"/></a>"
      ]
    },
    {
      "cell_type": "markdown",
      "source": [
        "# Min Cost to Connect All Points"
      ],
      "metadata": {
        "id": "sSXlcx5mV1Aj"
      }
    },
    {
      "cell_type": "markdown",
      "source": [
        "You are given an array points representing integer coordinates of some points on a 2D-plane, where points[i] = [xi, yi].\n",
        "\n",
        "The cost of connecting two points [xi, yi] and [xj, yj] is the manhattan distance between them: |xi - xj| + |yi - yj|, where |val| denotes the absolute value of val.\n",
        "\n",
        "Return the minimum cost to make all points connected. All points are connected if there is exactly one simple path between any two points.\n",
        "\n",
        " "
      ],
      "metadata": {
        "id": "-0MGgodHV19d"
      }
    },
    {
      "cell_type": "markdown",
      "source": [
        "![image.png](data:image/png;base64,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)"
      ],
      "metadata": {
        "id": "yPH6LU5eWAgo"
      }
    },
    {
      "cell_type": "markdown",
      "source": [
        "Example 1:\n",
        "\n",
        "```\n",
        "Input: points = [[0,0],[2,2],[3,10],[5,2],[7,0]]\n",
        "Output: 20\n",
        "```\n",
        "\n"
      ],
      "metadata": {
        "id": "mkdtYxykV3z8"
      }
    },
    {
      "cell_type": "markdown",
      "source": [
        "Example 2:\n",
        "\n",
        "```\n",
        "Input: points = [[3,12],[-2,5],[-4,1]]\n",
        "Output: 18\n",
        "```\n",
        "\n"
      ],
      "metadata": {
        "id": "_9t6yrmkWEl3"
      }
    },
    {
      "cell_type": "markdown",
      "source": [
        "Constraints:\n",
        "\n",
        "```\n",
        "1 <= points.length <= 1000\n",
        "-106 <= xi, yi <= 106\n",
        "All pairs (xi, yi) are distinct.\n",
        "```\n",
        "\n"
      ],
      "metadata": {
        "id": "SiWkdUcFWIwN"
      }
    },
    {
      "cell_type": "markdown",
      "source": [
        "# Solution : Prim's Algorithm"
      ],
      "metadata": {
        "id": "-kPF9cgfWxqV"
      }
    },
    {
      "cell_type": "markdown",
      "source": [
        "- Minimum Spannibg Tree (MST)\n",
        "- Prim's Algorithm"
      ],
      "metadata": {
        "id": "LPrj7Jy-W0aa"
      }
    },
    {
      "cell_type": "code",
      "execution_count": null,
      "metadata": {
        "id": "WxLMfutwVyEj"
      },
      "outputs": [],
      "source": [
        "class Solution:\n",
        "    # Time = O(n^2)\n",
        "    # Space = O(n)\n",
        "    def minCostConnectPoints(self, points):\n",
        "        n = len(points)\n",
        "        mst_cost = 0\n",
        "        edges_used = 0\n",
        "        \n",
        "        in_mst = [False] * n\n",
        "        min_dist = [float('inf')] * n\n",
        "        min_dist[0] = 0\n",
        "        \n",
        "        while edges_used < n:\n",
        "            curr_min_edge = float('inf')\n",
        "            curr_node = -1\n",
        "            \n",
        "            # Pick least weight node which is not in MST.\n",
        "            for node in range(n):\n",
        "                if not in_mst[node] and curr_min_edge > min_dist[node]:\n",
        "                    curr_min_edge = min_dist[node]\n",
        "                    curr_node = node\n",
        "            \n",
        "            mst_cost += curr_min_edge\n",
        "            edges_used += 1\n",
        "            in_mst[curr_node] = True\n",
        "            \n",
        "            # Update adjacent nodes of current node.\n",
        "            for next_node in range(n):\n",
        "                weight = abs(points[curr_node][0] - points[next_node][0]) +\\\n",
        "                         abs(points[curr_node][1] - points[next_node][1])\n",
        "                \n",
        "                if not in_mst[next_node] and min_dist[next_node] > weight:\n",
        "                    min_dist[next_node] = weight\n",
        "        \n",
        "        return mst_cost"
      ]
    },
    {
      "cell_type": "code",
      "source": [
        "points = [[0,0],[2,2],[3,10],[5,2],[7,0]]\n",
        "expected = 20\n",
        "\n",
        "output = Solution().minCostConnectPoints(points)\n",
        "print(output)\n",
        "assert output == expected"
      ],
      "metadata": {
        "colab": {
          "base_uri": "https://localhost:8080/"
        },
        "id": "pVVLXQOKWS10",
        "outputId": "d8158fdb-4089-46fb-d26b-f741a45bbcf0"
      },
      "execution_count": null,
      "outputs": [
        {
          "output_type": "stream",
          "name": "stdout",
          "text": [
            "20\n"
          ]
        }
      ]
    },
    {
      "cell_type": "code",
      "source": [
        "points = [[3,12],[-2,5],[-4,1]]\n",
        "expected = 18\n",
        "\n",
        "output = Solution().minCostConnectPoints(points)\n",
        "print(output)\n",
        "assert output == expected"
      ],
      "metadata": {
        "colab": {
          "base_uri": "https://localhost:8080/"
        },
        "id": "DTovXY81WtBU",
        "outputId": "aadc5465-0ff0-4765-b23d-bf3572b02884"
      },
      "execution_count": null,
      "outputs": [
        {
          "output_type": "stream",
          "name": "stdout",
          "text": [
            "18\n"
          ]
        }
      ]
    }
  ]
}