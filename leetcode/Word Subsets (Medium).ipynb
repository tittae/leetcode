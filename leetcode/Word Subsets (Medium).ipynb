{
 "cells": [
  {
   "cell_type": "code",
   "execution_count": null,
   "metadata": {},
   "outputs": [],
   "source": []
  },
  {
   "cell_type": "code",
   "execution_count": null,
   "metadata": {},
   "outputs": [],
   "source": [
    "class Solution:\n",
    "    # time = O(len(B))\n",
    "    def wordSubsets(self, A, B):\n",
    "        def count(word):\n",
    "            ans = [0] * 26\n",
    "            for letter in word:\n",
    "                ans[ord(letter) - ord('a')] += 1\n",
    "            return ans\n",
    "\n",
    "        bmax = [0] * 26\n",
    "        for b in B:\n",
    "            for i, c in enumerate(count(b)):\n",
    "                bmax[i] = max(bmax[i], c)\n",
    "\n",
    "        ans = []\n",
    "        for a in A:\n",
    "            if all(x >= y for x, y in zip(count(a), bmax)):\n",
    "                ans.append(a)\n",
    "        return ans\n",
    "        "
   ]
  }
 ],
 "metadata": {
  "language_info": {
   "name": "python"
  },
  "orig_nbformat": 4
 },
 "nbformat": 4,
 "nbformat_minor": 2
}
