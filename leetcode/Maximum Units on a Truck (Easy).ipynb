{
 "cells": [
  {
   "cell_type": "markdown",
   "metadata": {},
   "source": [
    "# Maximum Units on a Truck"
   ]
  },
  {
   "cell_type": "markdown",
   "metadata": {},
   "source": [
    "You are assigned to put some amount of boxes onto one truck. You are given a 2D array `boxTypes`, where `boxTypes[i] = [numberOfBoxes i, numberOfUnitsPerBox i]`:\n",
    "\n",
    "- `numberOfBoxes i `is the number of boxes of type `i`.\n",
    "- `numberOfUnitsPerBox i` is the number of units in each box of the type `i`.\n",
    "\n",
    "You are also given an integer `truckSize`, which is the maximum number of boxes that can be put on the truck. You can choose any boxes to put on the truck as long as the number of boxes does not exceed `truckSize`.\n",
    "\n",
    "Return the maximum total number of units that can be put on the truck."
   ]
  },
  {
   "cell_type": "markdown",
   "metadata": {},
   "source": [
    "Example 1:\n",
    "```\n",
    "Input: boxTypes = [[1,3],[2,2],[3,1]], truckSize = 4\n",
    "Output: 8\n",
    "Explanation: There are:\n",
    "- 1 box of the first type that contains 3 units.\n",
    "- 2 boxes of the second type that contain 2 units each.\n",
    "- 3 boxes of the third type that contain 1 unit each.\n",
    "You can take all the boxes of the first and second types, and one box of the third type.\n",
    "The total number of units will be = (1 * 3) + (2 * 2) + (1 * 1) = 8.\n",
    "```"
   ]
  },
  {
   "cell_type": "markdown",
   "metadata": {},
   "source": [
    "Example 2:\n",
    "```\n",
    "Input: boxTypes = [[5,10],[2,5],[4,7],[3,9]], truckSize = 10\n",
    "Output: 91 \n",
    "```"
   ]
  },
  {
   "cell_type": "markdown",
   "metadata": {},
   "source": [
    "Constraints:\n",
    "```\n",
    "1 <= boxTypes.length <= 1000\n",
    "1 <= numberOfBoxes i, numberOfUnitsPerBox i <= 1000\n",
    "1 <= truckSize <= 106\n",
    "```"
   ]
  },
  {
   "cell_type": "code",
   "execution_count": 1,
   "metadata": {},
   "outputs": [],
   "source": [
    "from typing import *\n",
    "\n",
    "class Solution:\n",
    "    def maximumUnits(self, boxTypes: List[List[int]], truckSize: int) -> int:\n",
    "        # Sort boxes so that boxes with the most units appear first\n",
    "        boxTypes.sort(key=lambda box: box[1], reverse=True)\n",
    "        \n",
    "        totalUnits = 0\n",
    "        for numberOfBoxes, unitsPerBox in boxTypes:\n",
    "            # Take as many boxes until we're out of space on the truck\n",
    "            # or we're out of boxes of this type\n",
    "            numBoxes = min(truckSize, numberOfBoxes)\n",
    "            totalUnits += numBoxes * unitsPerBox\n",
    "            truckSize -= numBoxes\n",
    "        return totalUnits"
   ]
  },
  {
   "cell_type": "code",
   "execution_count": 2,
   "metadata": {},
   "outputs": [
    {
     "name": "stdout",
     "output_type": "stream",
     "text": [
      "8\n"
     ]
    }
   ],
   "source": [
    "boxTypes = [[1,3],[2,2],[3,1]]\n",
    "truckSize = 4\n",
    "expected = 8\n",
    "\n",
    "output = Solution().maximumUnits(boxTypes, truckSize)\n",
    "print(output)\n",
    "assert output == expected"
   ]
  }
 ],
 "metadata": {
  "kernelspec": {
   "display_name": "Python 3.10.5 64-bit (windows store)",
   "language": "python",
   "name": "python3"
  },
  "language_info": {
   "codemirror_mode": {
    "name": "ipython",
    "version": 3
   },
   "file_extension": ".py",
   "mimetype": "text/x-python",
   "name": "python",
   "nbconvert_exporter": "python",
   "pygments_lexer": "ipython3",
   "version": "3.10.5"
  },
  "orig_nbformat": 4,
  "vscode": {
   "interpreter": {
    "hash": "3822405be9f5fb329f7270cbdcf73e762c62b3f383c5e71390a1a4648678c1cb"
   }
  }
 },
 "nbformat": 4,
 "nbformat_minor": 2
}
