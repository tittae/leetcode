{
  "cells": [
    {
      "cell_type": "markdown",
      "metadata": {
        "colab_type": "text",
        "id": "view-in-github"
      },
      "source": [
        "<a href=\"https://colab.research.google.com/github/wisarootl/leetcode/blob/main/First_Non_Repeating_Character_(Easy).ipynb\" target=\"_parent\"><img src=\"https://colab.research.google.com/assets/colab-badge.svg\" alt=\"Open In Colab\"/></a>"
      ]
    },
    {
      "cell_type": "markdown",
      "metadata": {
        "id": "ILe7W6h1RwzT"
      },
      "source": [
        "# First Non-Repeating Character"
      ]
    },
    {
      "cell_type": "markdown",
      "metadata": {
        "id": "v7z45utZRyX3"
      },
      "source": [
        "Write a function that takes in a string of lowercase English-alphabet letters and returns the index of the string's first non-repeating character.\n",
        "\n",
        "The first non-repeating character is the first character in a string that occurs only once.\n",
        "\n",
        "If the input string doesn't have any non-repeating characters, your function should return `-1`."
      ]
    },
    {
      "cell_type": "markdown",
      "metadata": {
        "id": "qZiPct56R0PI"
      },
      "source": [
        "Sample Input\n",
        "\n",
        "```\n",
        "string = \"abcdcaf\"\n",
        "```\n",
        "\n"
      ]
    },
    {
      "cell_type": "markdown",
      "metadata": {
        "id": "-s54AuE4R2iV"
      },
      "source": [
        "Sample Output\n",
        "\n",
        "```\n",
        "1 // The first non-repeating character is \"b\" and is found at index 1.\n",
        "```\n",
        "\n"
      ]
    },
    {
      "cell_type": "code",
      "execution_count": 1,
      "metadata": {
        "id": "w0u0MZBlRsm3"
      },
      "outputs": [],
      "source": [
        "# Time O(N), Space O(26) = O(1) only unique char which is 23 lower English-alphabet in this case\n",
        "\n",
        "def firstNonRepeatingCharacter(string):\n",
        "\tstring_count = char_count(string)\n",
        "\t\n",
        "\tfor idx, char in enumerate(string):\n",
        "\t\tif string_count[char] == 1:\n",
        "\t\t\treturn idx\n",
        "\treturn -1\n",
        "\n",
        "def char_count(string):\n",
        "\tcount = {}\n",
        "\tfor char in string:\n",
        "\t\tif char in count:\n",
        "\t\t\tcount[char] += 1\n",
        "\t\telse:\n",
        "\t\t\tcount[char] = 1\n",
        "\treturn count"
      ]
    },
    {
      "cell_type": "code",
      "execution_count": 2,
      "metadata": {
        "id": "wAYVjnEWTz7s"
      },
      "outputs": [],
      "source": [
        "string = \"abcdcaf\""
      ]
    },
    {
      "cell_type": "code",
      "execution_count": 3,
      "metadata": {
        "colab": {
          "base_uri": "https://localhost:8080/"
        },
        "id": "UzMMZagET0jf",
        "outputId": "26f697ba-8aca-4780-f7e0-a1ceee0fc5a0"
      },
      "outputs": [
        {
          "name": "stdout",
          "output_type": "stream",
          "text": [
            "1\n"
          ]
        }
      ],
      "source": [
        "print(firstNonRepeatingCharacter(string))"
      ]
    }
  ],
  "metadata": {
    "colab": {
      "authorship_tag": "ABX9TyMFBpvECOe+fe1EEEBIMHkw",
      "collapsed_sections": [],
      "include_colab_link": true,
      "name": "First Non-Repeating Character (Easy).ipynb",
      "provenance": []
    },
    "kernelspec": {
      "display_name": "Python 3",
      "language": "python",
      "name": "python3"
    },
    "language_info": {
      "codemirror_mode": {
        "name": "ipython",
        "version": 3
      },
      "file_extension": ".py",
      "mimetype": "text/x-python",
      "name": "python",
      "nbconvert_exporter": "python",
      "pygments_lexer": "ipython3",
      "version": "3.10.5"
    },
    "vscode": {
      "interpreter": {
        "hash": "992441bd4bc11ab83c63537935ea198062f55180155eaba570b8d7c82e005e8c"
      }
    }
  },
  "nbformat": 4,
  "nbformat_minor": 0
}
