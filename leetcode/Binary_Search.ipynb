{
  "cells": [
    {
      "cell_type": "markdown",
      "metadata": {
        "colab_type": "text",
        "id": "view-in-github"
      },
      "source": [
        "<a href=\"https://colab.research.google.com/github/tittae/leetcode/blob/main/Binary_Search.ipynb\" target=\"_parent\"><img src=\"https://colab.research.google.com/assets/colab-badge.svg\" alt=\"Open In Colab\"/></a>"
      ]
    },
    {
      "cell_type": "markdown",
      "metadata": {
        "id": "LlTeV-MGb86_"
      },
      "source": [
        "# Binary Search"
      ]
    },
    {
      "cell_type": "markdown",
      "metadata": {
        "id": "p_qhXbdyb-EZ"
      },
      "source": [
        "Write a function that takes in a sorted array of integers as well as a target integer. The function should use the Binary Search algorithm to determine if the target integer is contained in the array and should return its index if it is, otherwise -1.\n",
        "\n",
        "If you're unfamiliar with Binary Search, we recommend watching the Conceptual Overview section of this question's video explanation before starting to code."
      ]
    },
    {
      "cell_type": "markdown",
      "metadata": {
        "id": "JNTV7oE5cAdb"
      },
      "source": [
        "Sample Input\n",
        "\n",
        "```\n",
        "array = [0, 1, 21, 33, 45, 45, 61, 71, 72, 73]\n",
        "target = 33\n",
        "```\n",
        "\n"
      ]
    },
    {
      "cell_type": "markdown",
      "metadata": {
        "id": "HzFKUIXWcDPR"
      },
      "source": [
        "Sample Output\n",
        "\n",
        "```\n",
        "3\n",
        "```\n",
        "\n"
      ]
    },
    {
      "cell_type": "markdown",
      "metadata": {
        "id": "aOTMndfFgMaJ"
      },
      "source": [
        "## Solution (while loop)"
      ]
    },
    {
      "cell_type": "code",
      "execution_count": 1,
      "metadata": {
        "id": "wjFsxNB2b5qg"
      },
      "outputs": [],
      "source": [
        "# time: O(log(n)), space: O(1)\n",
        "\n",
        "def binarySearch(array, target):\n",
        "\tleft = 0\n",
        "\tright = len(array) - 1\n",
        "\twhile left <= right:\n",
        "\t\tmiddle = int((left + right) / 2)\n",
        "\t\tif array[middle] > target:\n",
        "\t\t\tright = middle - 1\n",
        "\t\telif array[middle] < target:\n",
        "\t\t\tleft = middle + 1\n",
        "\t\telse: # array[middle] == target\n",
        "\t\t\treturn middle\n",
        "\treturn -1"
      ]
    },
    {
      "cell_type": "code",
      "execution_count": 2,
      "metadata": {
        "id": "qW2nv_pydQD0"
      },
      "outputs": [],
      "source": [
        "array = [0, 1, 21, 33, 45, 45, 61, 71, 72, 73]\n",
        "target = 33"
      ]
    },
    {
      "cell_type": "code",
      "execution_count": 3,
      "metadata": {
        "colab": {
          "base_uri": "https://localhost:8080/"
        },
        "id": "xNkDuA_ndRT6",
        "outputId": "4441602f-a267-4d0c-ac48-dd2752e40745"
      },
      "outputs": [
        {
          "name": "stdout",
          "output_type": "stream",
          "text": [
            "3\n"
          ]
        }
      ],
      "source": [
        "print(binarySearch(array, target))"
      ]
    },
    {
      "cell_type": "markdown",
      "metadata": {
        "id": "EiJFZbkcgJI2"
      },
      "source": [
        "## Solution (recursive fuction)"
      ]
    },
    {
      "cell_type": "code",
      "execution_count": 4,
      "metadata": {
        "id": "h5SEWbe_gQG3"
      },
      "outputs": [],
      "source": [
        "# time: O(log(n)), space: O(1)\n",
        "\n",
        "def binarySearch(array, target):\n",
        "\tleft = 0\n",
        "\tright = len(array) - 1\n",
        "\treturn binarySearch_recursive(array, target, left, right)\n",
        "\n",
        "def binarySearch_recursive(array, target, left, right):\n",
        "\n",
        "\tif left > right:\n",
        "\t\treturn -1\n",
        "\tmiddle = (left + right) // 2\n",
        "\n",
        "\tif array[middle] > target:\n",
        "\t\tright = middle - 1\n",
        "\t\treturn binarySearch_recursive(array, target, left, right)\n",
        "\n",
        "\telif array[middle] < target:\n",
        "\t\tleft = middle + 1\n",
        "\t\treturn binarySearch_recursive(array, target, left, right)\n",
        "\t\t\n",
        "\telse: # array[middle] == target\n",
        "\t\treturn middle"
      ]
    },
    {
      "cell_type": "code",
      "execution_count": 5,
      "metadata": {
        "id": "3WWRSwMsgVPX"
      },
      "outputs": [],
      "source": [
        "array = [0, 1, 21, 33, 45, 45, 61, 71, 72, 73]\n",
        "target = 33"
      ]
    },
    {
      "cell_type": "code",
      "execution_count": 6,
      "metadata": {
        "colab": {
          "base_uri": "https://localhost:8080/"
        },
        "id": "wGjSUTvLgWmO",
        "outputId": "be1d20aa-77f9-4290-c236-27af09a00a72"
      },
      "outputs": [
        {
          "name": "stdout",
          "output_type": "stream",
          "text": [
            "3\n"
          ]
        }
      ],
      "source": [
        "print(binarySearch(array, target))"
      ]
    }
  ],
  "metadata": {
    "colab": {
      "authorship_tag": "ABX9TyNGkgdOhGBheRUM8VK4K5CN",
      "collapsed_sections": [],
      "include_colab_link": true,
      "name": "Binary Search.ipynb",
      "provenance": []
    },
    "kernelspec": {
      "display_name": "Python 3.10.8 64-bit (microsoft store)",
      "language": "python",
      "name": "python3"
    },
    "language_info": {
      "codemirror_mode": {
        "name": "ipython",
        "version": 3
      },
      "file_extension": ".py",
      "mimetype": "text/x-python",
      "name": "python",
      "nbconvert_exporter": "python",
      "pygments_lexer": "ipython3",
      "version": "3.10.8"
    },
    "vscode": {
      "interpreter": {
        "hash": "3822405be9f5fb329f7270cbdcf73e762c62b3f383c5e71390a1a4648678c1cb"
      }
    }
  },
  "nbformat": 4,
  "nbformat_minor": 0
}
