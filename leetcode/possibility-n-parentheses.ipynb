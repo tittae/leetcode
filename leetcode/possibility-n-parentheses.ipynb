{
 "cells": [
  {
   "cell_type": "markdown",
   "metadata": {},
   "source": [
    "# Possibility N Parentheses"
   ]
  },
  {
   "cell_type": "markdown",
   "metadata": {},
   "source": [
    "return all possibility of n parentheses pairs. order in list is not important\n",
    "\n",
    "```\n",
    "input = 0\n",
    "\n",
    "output = [\"\"]\n",
    "```\n",
    "\n",
    "```\n",
    "input = 1\n",
    "\n",
    "output = [\"()\"]\n",
    "```\n",
    "\n",
    "```\n",
    "input = 2\n",
    "\n",
    "output = [\"(())\", \"()()\"]\n",
    "```\n",
    "\n",
    "```\n",
    "input = 3\n",
    "\n",
    "output = [\"((()))\", \"()(())\", \"(())()\", \"()()()\"]\n",
    "```"
   ]
  },
  {
   "cell_type": "code",
   "execution_count": 12,
   "metadata": {},
   "outputs": [],
   "source": [
    "def generate_parentheses(n):\n",
    "    def generate_helper(current, left, right, result):\n",
    "        if left == 0 and right == 0:\n",
    "            result.append(current)\n",
    "            return\n",
    "        if left > 0:\n",
    "            generate_helper(current + '(', left - 1, right, result)\n",
    "        if right > left:\n",
    "            generate_helper(current + ')', left, right - 1, result)\n",
    "\n",
    "    result = []\n",
    "    generate_helper(\"\", n, n, result)\n",
    "    return result"
   ]
  },
  {
   "cell_type": "code",
   "execution_count": 22,
   "metadata": {},
   "outputs": [],
   "source": [
    "def test(n, expectation):\n",
    "  output = generate_parentheses(n)\n",
    "  assert set(output) == set(expectation), f\"output={output}\"\n",
    "  print(output)"
   ]
  },
  {
   "cell_type": "code",
   "execution_count": 17,
   "metadata": {},
   "outputs": [
    {
     "name": "stdout",
     "output_type": "stream",
     "text": [
      "['']\n"
     ]
    }
   ],
   "source": [
    "test(0, [''])"
   ]
  },
  {
   "cell_type": "code",
   "execution_count": 18,
   "metadata": {},
   "outputs": [
    {
     "name": "stdout",
     "output_type": "stream",
     "text": [
      "['()']\n"
     ]
    }
   ],
   "source": [
    "test(1, ['()'])"
   ]
  },
  {
   "cell_type": "code",
   "execution_count": 20,
   "metadata": {},
   "outputs": [
    {
     "name": "stdout",
     "output_type": "stream",
     "text": [
      "['(())', '()()']\n"
     ]
    }
   ],
   "source": [
    "test(2, ['(())', '()()'])"
   ]
  },
  {
   "cell_type": "code",
   "execution_count": 25,
   "metadata": {},
   "outputs": [
    {
     "name": "stdout",
     "output_type": "stream",
     "text": [
      "['((()))', '(()())', '(())()', '()(())', '()()()']\n"
     ]
    }
   ],
   "source": [
    "test(3, ['((()))', '(()())', '(())()', '()(())', '()()()'])"
   ]
  },
  {
   "cell_type": "code",
   "execution_count": 27,
   "metadata": {},
   "outputs": [
    {
     "name": "stdout",
     "output_type": "stream",
     "text": [
      "['(((())))', '((()()))', '((())())', '((()))()', '(()(()))', '(()()())', '(()())()', '(())(())', '(())()()', '()((()))', '()(()())', '()(())()', '()()(())', '()()()()']\n"
     ]
    }
   ],
   "source": [
    "test(\n",
    "    4,\n",
    "    [\n",
    "        \"(((())))\",\n",
    "        \"((()()))\",\n",
    "        \"((())())\",\n",
    "        \"((()))()\",\n",
    "        \"(()(()))\",\n",
    "        \"(()()())\",\n",
    "        \"(()())()\",\n",
    "        \"(())(())\",\n",
    "        \"(())()()\",\n",
    "        \"()((()))\",\n",
    "        \"()(()())\",\n",
    "        \"()(())()\",\n",
    "        \"()()(())\",\n",
    "        \"()()()()\",\n",
    "    ],\n",
    ")"
   ]
  }
 ],
 "metadata": {
  "kernelspec": {
   "display_name": "base",
   "language": "python",
   "name": "python3"
  },
  "language_info": {
   "codemirror_mode": {
    "name": "ipython",
    "version": 3
   },
   "file_extension": ".py",
   "mimetype": "text/x-python",
   "name": "python",
   "nbconvert_exporter": "python",
   "pygments_lexer": "ipython3",
   "version": "3.11.5"
  }
 },
 "nbformat": 4,
 "nbformat_minor": 2
}
