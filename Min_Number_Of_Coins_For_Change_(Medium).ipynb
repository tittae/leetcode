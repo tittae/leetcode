{
  "nbformat": 4,
  "nbformat_minor": 0,
  "metadata": {
    "colab": {
      "name": "Min Number Of Coins For Change (Medium).ipynb",
      "provenance": [],
      "authorship_tag": "ABX9TyNca8fmSiYt8TMjxTRcpcTr",
      "include_colab_link": true
    },
    "kernelspec": {
      "name": "python3",
      "display_name": "Python 3"
    },
    "language_info": {
      "name": "python"
    }
  },
  "cells": [
    {
      "cell_type": "markdown",
      "metadata": {
        "id": "view-in-github",
        "colab_type": "text"
      },
      "source": [
        "<a href=\"https://colab.research.google.com/github/wisarootl/leetcode/blob/main/Min_Number_Of_Coins_For_Change_(Medium).ipynb\" target=\"_parent\"><img src=\"https://colab.research.google.com/assets/colab-badge.svg\" alt=\"Open In Colab\"/></a>"
      ]
    },
    {
      "cell_type": "markdown",
      "metadata": {
        "id": "xc9gRsnDF8tk"
      },
      "source": [
        "# Min Number Of Coins For Change"
      ]
    },
    {
      "cell_type": "markdown",
      "metadata": {
        "id": "XRdoM_2MF678"
      },
      "source": [
        "Given an array of positive integers representing coin denominations and a single non-negative integer n representing a target amount of money, write a function that returns the smallest number of coins needed to make change for (to sum up to) that target amount using the given coin denominations.\n",
        "\n",
        "Note that you have access to an unlimited amount of coins. In other words, if the denominations are [1, 5, 10], you have access to an unlimited amount of 1s, 5s, and 10s.\n",
        "\n",
        "If it's impossible to make change for the target amount, return -1."
      ]
    },
    {
      "cell_type": "markdown",
      "metadata": {
        "id": "3Qclvs2YF92V"
      },
      "source": [
        "Sample Input\n",
        "\n",
        "```\n",
        "n = 7\n",
        "denoms = [1, 5, 10]\n",
        "```\n",
        "\n"
      ]
    },
    {
      "cell_type": "markdown",
      "metadata": {
        "id": "lt7IM3QsGASu"
      },
      "source": [
        "Sample Output\n",
        "\n",
        "```\n",
        "3 // 2x1 + 1x5\n",
        "```\n",
        "\n"
      ]
    },
    {
      "cell_type": "code",
      "metadata": {
        "id": "6UltXbUiF2cq"
      },
      "source": [
        "# Time O(n*d)\n",
        "# Space O(n)\n",
        "\n",
        "def minNumberOfCoinsForChange(n, denoms):\n",
        "\tmin_number_of_coin = [float('inf')] * (n + 1)\n",
        "\tmin_number_of_coin[0] = 0\n",
        "\tdenoms.sort()\n",
        "\n",
        "\tfor denom in denoms:\n",
        "\t\tfor amount in range(len(min_number_of_coin)):\n",
        "\t\t\tif amount >= denom:\n",
        "\t\t\t\tif min_number_of_coin[amount - denom] != float('inf'):\n",
        "\t\t\t\t\tmin_number_of_coin[amount] = min(min_number_of_coin[amount], 1 + min_number_of_coin[amount - denom])\n",
        "\n",
        "\treturn min_number_of_coin[-1] if min_number_of_coin[amount] != float('inf') else -1"
      ],
      "execution_count": 1,
      "outputs": []
    },
    {
      "cell_type": "code",
      "metadata": {
        "colab": {
          "base_uri": "https://localhost:8080/"
        },
        "id": "-cw4lv1nMciH",
        "outputId": "efc2494d-c1d3-4032-f9f2-a5e1aa140ea2"
      },
      "source": [
        "n = 7\n",
        "denoms = [1, 5, 10]\n",
        "print(minNumberOfCoinsForChange(n, denoms))"
      ],
      "execution_count": 2,
      "outputs": [
        {
          "output_type": "stream",
          "name": "stdout",
          "text": [
            "3\n"
          ]
        }
      ]
    }
  ]
}