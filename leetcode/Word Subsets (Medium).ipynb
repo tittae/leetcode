{
 "cells": [
  {
   "cell_type": "markdown",
   "metadata": {},
   "source": [
    "# Word Subsets"
   ]
  },
  {
   "cell_type": "markdown",
   "metadata": {},
   "source": [
    "You are given two string arrays words1 and words2.\n",
    "\n",
    "A string b is a subset of string a if every letter in b occurs in a including multiplicity.\n",
    "\n",
    "- For example, \"wrr\" is a subset of \"warrior\" but is not a subset of \"world\".\n",
    "\n",
    "A string a from words1 is universal if for every string b in words2, b is a subset of a.\n",
    "\n",
    "Return an array of all the universal strings in words1. You may return the answer in any order."
   ]
  },
  {
   "cell_type": "markdown",
   "metadata": {},
   "source": [
    "Example 1:\n",
    "\n",
    "```\n",
    "Input: words1 = [\"amazon\",\"apple\",\"facebook\",\"google\",\"leetcode\"], words2 = [\"e\",\"o\"]\n",
    "Output: [\"facebook\",\"google\",\"leetcode\"]\n",
    "```"
   ]
  },
  {
   "cell_type": "markdown",
   "metadata": {},
   "source": [
    "Example 2:\n",
    "\n",
    "```\n",
    "Input: words1 = [\"amazon\",\"apple\",\"facebook\",\"google\",\"leetcode\"], words2 = [\"l\",\"e\"]\n",
    "Output: [\"apple\",\"google\",\"leetcode\"]\n",
    "```"
   ]
  },
  {
   "cell_type": "markdown",
   "metadata": {},
   "source": [
    "Constraints:\n",
    "\n",
    "```\n",
    "1 <= words1.length, words2.length <= 104\n",
    "1 <= words1[i].length, words2[i].length <= 10\n",
    "words1[i] and words2[i] consist only of lowercase English letters.\n",
    "All the strings of words1 are unique.\n",
    "```"
   ]
  },
  {
   "cell_type": "code",
   "execution_count": 1,
   "metadata": {},
   "outputs": [],
   "source": [
    "class Solution:\n",
    "    # time = O(len(B) + len(A))\n",
    "    # space = O(len(A))\n",
    "    # len(A) = num of char if list A\n",
    "    # len(B) = num of char in list B\n",
    "    def wordSubsets(self, A, B):\n",
    "        def count(word):\n",
    "            ans = [0] * 26\n",
    "            for letter in word:\n",
    "                ans[ord(letter) - ord('a')] += 1\n",
    "            return ans\n",
    "\n",
    "        bmax = [0] * 26\n",
    "        for b in B:\n",
    "            for i, c in enumerate(count(b)):\n",
    "                bmax[i] = max(bmax[i], c)\n",
    "\n",
    "        ans = []\n",
    "        for a in A:\n",
    "            if all(x >= y for x, y in zip(count(a), bmax)):\n",
    "                ans.append(a)\n",
    "        return ans\n"
   ]
  },
  {
   "cell_type": "code",
   "execution_count": 2,
   "metadata": {},
   "outputs": [
    {
     "name": "stdout",
     "output_type": "stream",
     "text": [
      "['facebook', 'google', 'leetcode']\n"
     ]
    }
   ],
   "source": [
    "words1 = [\"amazon\",\"apple\",\"facebook\",\"google\",\"leetcode\"]\n",
    "words2 = [\"e\",\"o\"]\n",
    "expected = [\"facebook\",\"google\",\"leetcode\"]\n",
    "\n",
    "output = Solution().wordSubsets(words1, words2)\n",
    "print(output)\n",
    "assert output == expected"
   ]
  },
  {
   "cell_type": "code",
   "execution_count": 3,
   "metadata": {},
   "outputs": [
    {
     "name": "stdout",
     "output_type": "stream",
     "text": [
      "['apple', 'google', 'leetcode']\n"
     ]
    }
   ],
   "source": [
    "words1 = [\"amazon\",\"apple\",\"facebook\",\"google\",\"leetcode\"]\n",
    "words2 = [\"l\",\"e\"]\n",
    "expected = [\"apple\",\"google\",\"leetcode\"]\n",
    "\n",
    "output = Solution().wordSubsets(words1, words2)\n",
    "print(output)\n",
    "assert output == expected"
   ]
  }
 ],
 "metadata": {
  "kernelspec": {
   "display_name": "Python 3.10.4 64-bit",
   "language": "python",
   "name": "python3"
  },
  "language_info": {
   "codemirror_mode": {
    "name": "ipython",
    "version": 3
   },
   "file_extension": ".py",
   "mimetype": "text/x-python",
   "name": "python",
   "nbconvert_exporter": "python",
   "pygments_lexer": "ipython3",
   "version": "3.10.4"
  },
  "orig_nbformat": 4,
  "vscode": {
   "interpreter": {
    "hash": "20ac7aad763b689ebdaff2f53a3073c7ed55a0f51860968fbf5603f714378c4e"
   }
  }
 },
 "nbformat": 4,
 "nbformat_minor": 2
}
