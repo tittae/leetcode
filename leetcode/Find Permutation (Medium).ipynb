{
 "cells": [
  {
   "cell_type": "markdown",
   "metadata": {},
   "source": [
    "# Find Permutation"
   ]
  },
  {
   "cell_type": "markdown",
   "metadata": {},
   "source": [
    "A permutation perm of n integers of all the integers in the range [1, n] can be represented as a string s of length n - 1 where:\n",
    "\n",
    "- `s[i] == 'I'` if `perm[i] < perm[i + 1]`, and\n",
    "- `s[i] == 'D'` if `perm[i] > perm[i + 1]`.\n",
    "\n",
    "Given a string s, reconstruct the lexicographically smallest permutation perm and return it."
   ]
  },
  {
   "cell_type": "markdown",
   "metadata": {},
   "source": [
    "Example 1:\n",
    "\n",
    "```\n",
    "Input: s = \"I\"\n",
    "Output: [1,2]\n",
    "Explanation: [1,2] is the only legal permutation that can represented by s, where the number 1 and 2 construct an increasing relationship.\n",
    "```"
   ]
  },
  {
   "cell_type": "markdown",
   "metadata": {},
   "source": [
    "Example 2:\n",
    "\n",
    "```\n",
    "Input: s = \"DI\"\n",
    "Output: [2,1,3]\n",
    "Explanation: Both [2,1,3] and [3,1,2] can be represented as \"DI\", but since we want to find the smallest lexicographical permutation, you should return [2,1,3]\n",
    "```"
   ]
  },
  {
   "cell_type": "markdown",
   "metadata": {},
   "source": [
    "Constraints:\n",
    "\n",
    "```\n",
    "1 <= s.length <= 105\n",
    "s[i] is either 'I' or 'D'.\n",
    "```"
   ]
  },
  {
   "cell_type": "code",
   "execution_count": 1,
   "metadata": {},
   "outputs": [],
   "source": [
    "class Solution:\n",
    "    # time = O(n)\n",
    "    # space = O(1)\n",
    "    def findPermutation(self, s):\n",
    "        arr, cnt, n = list(range(1, len(s) + 2)), 0, len(s)\n",
    "        for i in range(n + 1):\n",
    "            if i < n and s[i] == \"D\":\n",
    "                cnt += 1\n",
    "            elif cnt:\n",
    "                arr[i - cnt:i + 1] =  reversed(arr[i - cnt:i + 1])\n",
    "                cnt = 0\n",
    "        return arr"
   ]
  },
  {
   "cell_type": "code",
   "execution_count": 2,
   "metadata": {},
   "outputs": [
    {
     "name": "stdout",
     "output_type": "stream",
     "text": [
      "[1, 2]\n"
     ]
    }
   ],
   "source": [
    "s = \"I\"\n",
    "expected = [1, 2]\n",
    "\n",
    "output = Solution().findPermutation(s)\n",
    "print(output)\n",
    "assert output == expected"
   ]
  },
  {
   "cell_type": "code",
   "execution_count": 3,
   "metadata": {},
   "outputs": [
    {
     "name": "stdout",
     "output_type": "stream",
     "text": [
      "[2, 1, 3]\n"
     ]
    }
   ],
   "source": [
    "s = \"DI\"\n",
    "expected = [2,1,3]\n",
    "\n",
    "output = Solution().findPermutation(s)\n",
    "print(output)\n",
    "assert output == expected\n",
    "\n",
    "\n"
   ]
  }
 ],
 "metadata": {
  "kernelspec": {
   "display_name": "Python 3.10.5 64-bit ('3.10.5')",
   "language": "python",
   "name": "python3"
  },
  "language_info": {
   "codemirror_mode": {
    "name": "ipython",
    "version": 3
   },
   "file_extension": ".py",
   "mimetype": "text/x-python",
   "name": "python",
   "nbconvert_exporter": "python",
   "pygments_lexer": "ipython3",
   "version": "3.10.5"
  },
  "orig_nbformat": 4,
  "vscode": {
   "interpreter": {
    "hash": "992441bd4bc11ab83c63537935ea198062f55180155eaba570b8d7c82e005e8c"
   }
  }
 },
 "nbformat": 4,
 "nbformat_minor": 2
}
