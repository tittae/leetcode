{
  "nbformat": 4,
  "nbformat_minor": 0,
  "metadata": {
    "colab": {
      "name": "Path With Maximum Minimum Value (Medium).ipynb",
      "provenance": [],
      "authorship_tag": "ABX9TyPRGuCP4fJ2cc/JEex1h9zo",
      "include_colab_link": true
    },
    "kernelspec": {
      "name": "python3",
      "display_name": "Python 3"
    },
    "language_info": {
      "name": "python"
    }
  },
  "cells": [
    {
      "cell_type": "markdown",
      "metadata": {
        "id": "view-in-github",
        "colab_type": "text"
      },
      "source": [
        "<a href=\"https://colab.research.google.com/github/wisarootl/leetcode/blob/main/Path_With_Maximum_Minimum_Value_(Medium).ipynb\" target=\"_parent\"><img src=\"https://colab.research.google.com/assets/colab-badge.svg\" alt=\"Open In Colab\"/></a>"
      ]
    },
    {
      "cell_type": "markdown",
      "source": [
        "# Path With Maximum Minimum Value"
      ],
      "metadata": {
        "id": "7aBmAql891Ij"
      }
    },
    {
      "cell_type": "markdown",
      "source": [
        "Given an m x n integer matrix grid, return the maximum score of a path starting at (0, 0) and ending at (m - 1, n - 1) moving in the 4 cardinal directions.\n",
        "\n",
        "The score of a path is the minimum value in that path.\n",
        "\n",
        "- For example, the score of the path 8 → 4 → 5 → 9 is 4."
      ],
      "metadata": {
        "id": "z7KtXaMH92ew"
      }
    },
    {
      "cell_type": "markdown",
      "source": [
        "https://leetcode.com/problems/path-with-maximum-minimum-value/"
      ],
      "metadata": {
        "id": "KAq3kb3KAuia"
      }
    },
    {
      "cell_type": "markdown",
      "source": [
        "# Solution"
      ],
      "metadata": {
        "id": "7zzteT_hBr0y"
      }
    },
    {
      "cell_type": "markdown",
      "source": [
        "greedy searching prioritize by next grid value"
      ],
      "metadata": {
        "id": "hzxPfJoSBtCY"
      }
    },
    {
      "cell_type": "code",
      "execution_count": 1,
      "metadata": {
        "id": "FM4H5eDC9zaM"
      },
      "outputs": [],
      "source": [
        "# Time = O(n*m log(n*m))\n",
        "# Space = O(n*m)\n",
        "\n",
        "# n = numbers of row\n",
        "# m = numbers of col\n",
        "# greedy searching prioritize by next grid value\n",
        "\n",
        "import heapq\n",
        "\n",
        "class Solution:\n",
        "    def maximumMinimumPath(self, grid):\n",
        "      num_row, num_col = len(grid), len(grid[0])\n",
        "      # init fringe\n",
        "      # node = [-value, row, col]\n",
        "      start_node = [-grid[0][0], 0, 0]\n",
        "      fringe = [start_node]\n",
        "      ans = float('inf')\n",
        "      visited = [[False for _ in range(num_col)] for _ in range(num_row)]\n",
        "\n",
        "      moving_directions = [[1, 0], [-1, 0], [0, 1], [0, -1]]\n",
        "\n",
        "      # while fringe != empty\n",
        "      while len(fringe) > 0:\n",
        "        # pop front\n",
        "        front = heapq.heappop(fringe)\n",
        "        front_val, front_row, front_col = front\n",
        "        \n",
        "        # is visited?\n",
        "        if visited[front_row][front_col]:\n",
        "          continue\n",
        "        visited[front_row][front_col] = True\n",
        "\n",
        "        # update / is goal?\n",
        "        ans = min(ans, -front_val)\n",
        "        if front_row == num_row - 1 and front_col == num_col - 1:\n",
        "          break\n",
        "        \n",
        "        # gen / insert successor\n",
        "        for moving_direction in moving_directions:\n",
        "          new_row = front_row + moving_direction[0]\n",
        "          new_col = front_col + moving_direction[1]\n",
        "\n",
        "          is_valid_location = 0 <= new_row and new_row <= num_row - 1 and 0 <= new_col and new_col <= num_col - 1 \n",
        "          if is_valid_location:\n",
        "            heapq.heappush(fringe, [-grid[new_row][new_col], new_row, new_col])\n",
        "      \n",
        "      return ans"
      ]
    },
    {
      "cell_type": "code",
      "source": [
        "grid = [[5,4,5],[1,2,6],[7,4,6]]\n",
        "expected = 4\n",
        "\n",
        "output = Solution().maximumMinimumPath(grid)\n",
        "print(output)\n",
        "assert output == expected"
      ],
      "metadata": {
        "colab": {
          "base_uri": "https://localhost:8080/"
        },
        "id": "WzZLbYZzAGxU",
        "outputId": "367a7ddf-35cf-4e10-d54e-b11936268824"
      },
      "execution_count": 2,
      "outputs": [
        {
          "output_type": "stream",
          "name": "stdout",
          "text": [
            "4\n"
          ]
        }
      ]
    },
    {
      "cell_type": "code",
      "source": [
        "grid = [[2,2,1,2,2,2],[1,2,2,2,1,2]]\n",
        "expected = 2\n",
        "\n",
        "output = Solution().maximumMinimumPath(grid)\n",
        "print(output)\n",
        "assert output == expected"
      ],
      "metadata": {
        "colab": {
          "base_uri": "https://localhost:8080/"
        },
        "id": "CfhCW6M_Acuo",
        "outputId": "9819a4bb-e4cc-4877-f7b6-fa3fd3a84acd"
      },
      "execution_count": 3,
      "outputs": [
        {
          "output_type": "stream",
          "name": "stdout",
          "text": [
            "2\n"
          ]
        }
      ]
    },
    {
      "cell_type": "code",
      "source": [
        "grid = [[3,4,6,3,4],[0,2,1,1,7],[8,8,3,2,7],[3,2,4,9,8],[4,1,2,0,0],[4,6,5,4,3]]\n",
        "expected = 3\n",
        "\n",
        "output = Solution().maximumMinimumPath(grid)\n",
        "print(output)\n",
        "assert output == expected"
      ],
      "metadata": {
        "colab": {
          "base_uri": "https://localhost:8080/"
        },
        "id": "fTnlOnzUAf3W",
        "outputId": "51da1398-ee42-438f-956c-d3c5202c4ce6"
      },
      "execution_count": 4,
      "outputs": [
        {
          "output_type": "stream",
          "name": "stdout",
          "text": [
            "3\n"
          ]
        }
      ]
    }
  ]
}