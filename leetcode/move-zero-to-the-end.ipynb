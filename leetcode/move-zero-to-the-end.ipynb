{
 "cells": [
  {
   "cell_type": "markdown",
   "metadata": {},
   "source": [
    "# Move zero to the end"
   ]
  },
  {
   "cell_type": "markdown",
   "metadata": {},
   "source": [
    "Move zero to the end while keep order of other number. Please do it inplace. O(N) time and O(1) space\n",
    "\n",
    "```\n",
    "numbers = [0, 1, 3, 0, 12]\n",
    "\n",
    "output = [1, 3, 12, 0, 0]\n",
    "```"
   ]
  },
  {
   "cell_type": "code",
   "execution_count": 13,
   "metadata": {},
   "outputs": [],
   "source": [
    "def move_zero_to_the_end(numbers):\n",
    "    first_zero_idx = 0\n",
    "\n",
    "    for idx in range(len(numbers)):\n",
    "        print(numbers, first_zero_idx, idx)\n",
    "        if numbers[idx] != 0:\n",
    "            numbers[first_zero_idx], numbers[idx] = (\n",
    "                numbers[idx],\n",
    "                numbers[first_zero_idx],\n",
    "            )\n",
    "            first_zero_idx += 1\n",
    "\n",
    "    return numbers"
   ]
  },
  {
   "cell_type": "code",
   "execution_count": 17,
   "metadata": {},
   "outputs": [],
   "source": [
    "def test(numbers, expectation):\n",
    "  output = move_zero_to_the_end(numbers)\n",
    "  assert output == expectation\n",
    "  print(output)"
   ]
  },
  {
   "cell_type": "code",
   "execution_count": 16,
   "metadata": {},
   "outputs": [
    {
     "name": "stdout",
     "output_type": "stream",
     "text": [
      "[0, 1, 3, 0, 12] 0 0\n",
      "[0, 1, 3, 0, 12] 0 1\n",
      "[1, 0, 3, 0, 12] 1 2\n",
      "[1, 3, 0, 0, 12] 2 3\n",
      "[1, 3, 0, 0, 12] 2 4\n"
     ]
    },
    {
     "data": {
      "text/plain": [
       "[1, 3, 12, 0, 0]"
      ]
     },
     "execution_count": 16,
     "metadata": {},
     "output_type": "execute_result"
    }
   ],
   "source": [
    "numbers = [0, 1, 3, 0, 12]\n",
    "expectation = [1, 3, 12, 0, 0]\n",
    "\n",
    "output = move_zero_to_the_end([0, 1, 3, 0, 12])\n",
    "\n",
    "assert output == expectation\n",
    "\n",
    "output"
   ]
  },
  {
   "cell_type": "code",
   "execution_count": 18,
   "metadata": {},
   "outputs": [
    {
     "name": "stdout",
     "output_type": "stream",
     "text": [
      "[0, 1, 3, 0, 12] 0 0\n",
      "[0, 1, 3, 0, 12] 0 1\n",
      "[1, 0, 3, 0, 12] 1 2\n",
      "[1, 3, 0, 0, 12] 2 3\n",
      "[1, 3, 0, 0, 12] 2 4\n",
      "[1, 3, 12, 0, 0]\n"
     ]
    }
   ],
   "source": [
    "test(numbers=[0, 1, 3, 0, 12], expectation=[1, 3, 12, 0, 0])"
   ]
  },
  {
   "cell_type": "code",
   "execution_count": 19,
   "metadata": {},
   "outputs": [
    {
     "name": "stdout",
     "output_type": "stream",
     "text": [
      "[1, 3, 12] 0 0\n",
      "[1, 3, 12] 1 1\n",
      "[1, 3, 12] 2 2\n",
      "[1, 3, 12]\n"
     ]
    }
   ],
   "source": [
    "test(numbers=[1, 3, 12], expectation=[1, 3, 12])"
   ]
  },
  {
   "cell_type": "code",
   "execution_count": 21,
   "metadata": {},
   "outputs": [
    {
     "name": "stdout",
     "output_type": "stream",
     "text": [
      "[0, 0, 1, 3, 12] 0 0\n",
      "[0, 0, 1, 3, 12] 0 1\n",
      "[0, 0, 1, 3, 12] 0 2\n",
      "[1, 0, 0, 3, 12] 1 3\n",
      "[1, 3, 0, 0, 12] 2 4\n",
      "[1, 3, 12, 0, 0]\n"
     ]
    }
   ],
   "source": [
    "test(numbers=[0, 0, 1, 3, 12], expectation=[1, 3, 12, 0, 0])"
   ]
  },
  {
   "cell_type": "code",
   "execution_count": 22,
   "metadata": {},
   "outputs": [
    {
     "name": "stdout",
     "output_type": "stream",
     "text": [
      "[0, 0, 0] 0 0\n",
      "[0, 0, 0] 0 1\n",
      "[0, 0, 0] 0 2\n",
      "[0, 0, 0]\n"
     ]
    }
   ],
   "source": [
    "test(numbers=[0, 0, 0], expectation=[0, 0, 0])"
   ]
  },
  {
   "cell_type": "code",
   "execution_count": 23,
   "metadata": {},
   "outputs": [
    {
     "name": "stdout",
     "output_type": "stream",
     "text": [
      "[]\n"
     ]
    }
   ],
   "source": [
    "test(numbers=[], expectation=[])"
   ]
  },
  {
   "cell_type": "code",
   "execution_count": 24,
   "metadata": {},
   "outputs": [
    {
     "name": "stdout",
     "output_type": "stream",
     "text": [
      "[1, 0, 0, 1, 3, 12] 0 0\n",
      "[1, 0, 0, 1, 3, 12] 1 1\n",
      "[1, 0, 0, 1, 3, 12] 1 2\n",
      "[1, 0, 0, 1, 3, 12] 1 3\n",
      "[1, 1, 0, 0, 3, 12] 2 4\n",
      "[1, 1, 3, 0, 0, 12] 3 5\n",
      "[1, 1, 3, 12, 0, 0]\n"
     ]
    }
   ],
   "source": [
    "test(numbers=[1, 0, 0, 1, 3, 12], expectation=[1, 1, 3, 12, 0, 0])"
   ]
  },
  {
   "cell_type": "code",
   "execution_count": null,
   "metadata": {},
   "outputs": [],
   "source": []
  }
 ],
 "metadata": {
  "kernelspec": {
   "display_name": "base",
   "language": "python",
   "name": "python3"
  },
  "language_info": {
   "codemirror_mode": {
    "name": "ipython",
    "version": 3
   },
   "file_extension": ".py",
   "mimetype": "text/x-python",
   "name": "python",
   "nbconvert_exporter": "python",
   "pygments_lexer": "ipython3",
   "version": "3.11.5"
  }
 },
 "nbformat": 4,
 "nbformat_minor": 2
}
