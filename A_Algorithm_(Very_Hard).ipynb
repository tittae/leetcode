{
  "nbformat": 4,
  "nbformat_minor": 0,
  "metadata": {
    "colab": {
      "name": "A* Algorithm (Very Hard).ipynb",
      "provenance": [],
      "authorship_tag": "ABX9TyNqyD8Jxl3AAri2mQxMfrTp",
      "include_colab_link": true
    },
    "kernelspec": {
      "name": "python3",
      "display_name": "Python 3"
    },
    "language_info": {
      "name": "python"
    }
  },
  "cells": [
    {
      "cell_type": "markdown",
      "metadata": {
        "id": "view-in-github",
        "colab_type": "text"
      },
      "source": [
        "<a href=\"https://colab.research.google.com/github/wisarootl/leetcode/blob/main/A_Algorithm_(Very_Hard).ipynb\" target=\"_parent\"><img src=\"https://colab.research.google.com/assets/colab-badge.svg\" alt=\"Open In Colab\"/></a>"
      ]
    },
    {
      "cell_type": "markdown",
      "source": [
        "You're given a two-dimensional array containing `0`s and `1`s, where each `0` represents a free space and each `1` represents an obstacle (a space that cannot be passed through). You can think of this array as a grid-shaped graph. You're also given four integers `startRow`, `startCol`, `endRow`, and `endCol`, representing the positions of a start node and an end node in the graph.\n",
        "\n",
        "Write a function that finds the shortest path between the start node and the end node using the A* search algorithm and returns it.\n",
        "\n",
        "The shortest path should be returned as an array of node positions, where each node position is an array of two elements: the `[row, col]` of the respective node in the graph. The output array should contain the start node's position, the end node's position, and all of the positions of the remaining nodes in the shortest path, and these node positions should be ordered from start node to end node.\n",
        "\n",
        "If there is no path from the start node to the end node, your function should return an empty array.\n",
        "\n",
        "Note that:\n",
        "\n",
        "From each node in the graph, you can only travel in four directions: up, left, down and right; you can't travel diagonally.\n",
        "The distance between all neighboring nodes in the graph is the same; you can treat it as a distance of 1.\n",
        "The start node and end node are guaranteed to be located in empty spaces (cells containing `0`).\n",
        "The start node and end node will never be out of bounds and will never overlap.\n",
        "There will be at most one shortest path from the start node to the end node.\n",
        "If you're unfamiliar with A*, we recommend watching the Conceptual Overview section of this question's video explanation before starting to code."
      ],
      "metadata": {
        "id": "K5-C0YwBKBxW"
      }
    },
    {
      "cell_type": "markdown",
      "source": [
        "Sample Input\n",
        "\n",
        "```\n",
        "startRow = 0\n",
        "startCol = 1\n",
        "endRow = 4\n",
        "endCol = 3\n",
        "graph = [\n",
        "  [0, 0, 0, 0, 0],\n",
        "  [0, 1, 1, 1, 0],\n",
        "  [0, 0, 0, 0, 0],\n",
        "  [1, 0, 1, 1, 1],\n",
        "  [0, 0, 0, 0, 0],\n",
        "]\n",
        "```\n",
        "\n"
      ],
      "metadata": {
        "id": "zBX0dHCcKPos"
      }
    },
    {
      "cell_type": "markdown",
      "source": [
        "Sample Output\n",
        "\n",
        "```\n",
        "[[0, 1], [0, 0], [1, 0], [2, 0], [2, 1], [3, 1], [4, 1], [4, 2], [4, 3]]\n",
        "\n",
        "// The shortest path can be clearly seen here:\n",
        "// [\n",
        "//   [., ., 0, 0, 0],\n",
        "//   [., 1, 1, 1, 0],\n",
        "//   [., ., 0, 0, 0],\n",
        "//   [1, ., 1, 1, 1],\n",
        "//   [0, ., ., ., 0],\n",
        "// ]\n",
        "```\n",
        "\n"
      ],
      "metadata": {
        "id": "FMsfiwoOKdKs"
      }
    },
    {
      "cell_type": "code",
      "execution_count": 1,
      "metadata": {
        "id": "lTfs3CQBJ-rZ"
      },
      "outputs": [],
      "source": [
        "def aStarAlgorithm(startRow, startCol, endRow, endCol, graph):\n",
        "  # init fringe\n",
        "  graph = init_graph(graph)\n",
        "\n",
        "  start_node = graph[startRow][startCol]\n",
        "  end_node = graph[endRow][endCol]\n",
        "  start_node.g = 0\n",
        "  start_node.f = cal_heuristic(start_node, end_node)\n",
        "\n",
        "  fringe = MinHeap([start_node])\n",
        "  \n",
        "  while True:\n",
        "    pass\n",
        "    # is fringe empty?\n",
        "\n",
        "    # remove front\n",
        "\n",
        "    # is goal\n",
        "\n",
        "    # gen/insert successor"
      ]
    },
    {
      "cell_type": "code",
      "source": [
        "def init_graph(graph):\n",
        "  new_graph = []\n",
        "\n",
        "  for i, row in enumerate(graph):\n",
        "    new_graph.append([])\n",
        "    for j, value in enumerate(row):\n",
        "      new_graph[i].append(Node(i, j, value))\n",
        "  \n",
        "  return new_graph"
      ],
      "metadata": {
        "id": "IOrA2meXUlSf"
      },
      "execution_count": null,
      "outputs": []
    },
    {
      "cell_type": "code",
      "source": [
        "def cal_heuristic(current_node, end_node):\n",
        "  return abs(current_node.row - end_node.row) + abs(current_node.col - end_node.col)"
      ],
      "metadata": {
        "id": "VUjp0BS0YPS8"
      },
      "execution_count": null,
      "outputs": []
    },
    {
      "cell_type": "code",
      "source": [
        "class Node:\n",
        "  def __init__(self, row, col, value):\n",
        "    self.id = (row, col)\n",
        "    self.row = row\n",
        "    self.col = col\n",
        "    self.value = value\n",
        "    self.g = float('inf')\n",
        "    self.f = float('inf')\n",
        "    self.from_node = None"
      ],
      "metadata": {
        "id": "ANq1anVOVFU6"
      },
      "execution_count": null,
      "outputs": []
    },
    {
      "cell_type": "code",
      "source": [
        "class MinHeap:\n",
        "  def __init__(self, array):\n",
        "    self.heap = self.build_heap(array)\n",
        "\n",
        "  def build_heap(self, array):\n",
        "    last_parent = (len(array) - 2) // 2\n",
        "    for idx in reversed(range(last_parent + 1)):\n",
        "      self.sift_down(idx, array)\n",
        "    return array\n",
        "  \n",
        "  def sift_down(self, idx, heap):\n",
        "    child_one_idx = (2 * idx) + 1\n",
        "    end_idx = len(heap) - 1\n",
        "    while child_one_idx <= end_idx:\n",
        "      child_two_idx = (2 * idx) + 2\n",
        "      if child_two_idx <= end_idx and heap[child_two_idx].f < heap[child_one_idx].f:\n",
        "        idx_to_swap = child_two_idx\n",
        "      else:\n",
        "        idx_to_swap = child_one_idx\n",
        "      \n",
        "      if heap[idx_to_swap].f < heap[idx].f:\n",
        "        "
      ],
      "metadata": {
        "id": "xKP73OUjYtOj"
      },
      "execution_count": null,
      "outputs": []
    }
  ]
}