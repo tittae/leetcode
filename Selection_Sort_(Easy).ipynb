{
  "nbformat": 4,
  "nbformat_minor": 0,
  "metadata": {
    "colab": {
      "name": "Selection Sort (Easy).ipynb",
      "provenance": [],
      "collapsed_sections": [],
      "authorship_tag": "ABX9TyNhpbCQiQ2e2/Ny0A5jq8X2",
      "include_colab_link": true
    },
    "kernelspec": {
      "name": "python3",
      "display_name": "Python 3"
    },
    "language_info": {
      "name": "python"
    }
  },
  "cells": [
    {
      "cell_type": "markdown",
      "metadata": {
        "id": "view-in-github",
        "colab_type": "text"
      },
      "source": [
        "<a href=\"https://colab.research.google.com/github/wisarootl/leetcode/blob/main/Selection_Sort_(Easy).ipynb\" target=\"_parent\"><img src=\"https://colab.research.google.com/assets/colab-badge.svg\" alt=\"Open In Colab\"/></a>"
      ]
    },
    {
      "cell_type": "markdown",
      "metadata": {
        "id": "-z_-hUeT4U3e"
      },
      "source": [
        "# Selection Sort"
      ]
    },
    {
      "cell_type": "markdown",
      "metadata": {
        "id": "DcFXAOv24WZ0"
      },
      "source": [
        "Write a function that takes in an array of integers and returns a sorted version of that array. Use the Selection Sort algorithm to sort the array.\n",
        "\n",
        "If you're unfamiliar with Selection Sort, we recommend watching the Conceptual Overview section of this question's video explanation before starting to code."
      ]
    },
    {
      "cell_type": "markdown",
      "metadata": {
        "id": "RnnB-qz34Yh0"
      },
      "source": [
        "Sample Input\n",
        "\n",
        "```\n",
        "array = [8, 5, 2, 9, 5, 6, 3]\n",
        "```\n",
        "\n"
      ]
    },
    {
      "cell_type": "markdown",
      "metadata": {
        "id": "yGqF56-m4bqG"
      },
      "source": [
        "Sample Output\n",
        "\n",
        "```\n",
        "[2, 3, 5, 5, 6, 8, 9]\n",
        "```\n",
        "\n"
      ]
    },
    {
      "cell_type": "code",
      "metadata": {
        "id": "ewfDhm3O4V5i"
      },
      "source": [
        "def selectionSort(array):\n",
        "\tfor current_idx in range(len(array) - 1):\n",
        "\t\tsmallest_idx = current_idx\n",
        "\t\tfor j in range(current_idx + 1, len(array)):\n",
        "\t\t\tif array[smallest_idx] > array[j]:\n",
        "\t\t\t\tsmallest_idx = j\n",
        "\t\tswap(smallest_idx, current_idx, array)\n",
        "\treturn array\n",
        "\n",
        "def swap(i, j, array):\n",
        "\tarray[i], array[j] = array[j], array[i]"
      ],
      "execution_count": null,
      "outputs": []
    },
    {
      "cell_type": "code",
      "metadata": {
        "id": "i9v5UMUj4SBF"
      },
      "source": [
        "array = [8, 5, 2, 9, 5, 6, 3]"
      ],
      "execution_count": null,
      "outputs": []
    },
    {
      "cell_type": "code",
      "metadata": {
        "colab": {
          "base_uri": "https://localhost:8080/"
        },
        "id": "XKodeMoP8ZB2",
        "outputId": "9d6f9b2a-de5c-4495-ccfa-fd04ef499366"
      },
      "source": [
        "print(selectionSort(array))"
      ],
      "execution_count": null,
      "outputs": [
        {
          "output_type": "stream",
          "name": "stdout",
          "text": [
            "[2, 3, 5, 5, 6, 8, 9]\n"
          ]
        }
      ]
    }
  ]
}