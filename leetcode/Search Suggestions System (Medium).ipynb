{
 "cells": [
  {
   "cell_type": "markdown",
   "metadata": {},
   "source": [
    "# Search Suggestions System"
   ]
  },
  {
   "cell_type": "markdown",
   "metadata": {},
   "source": [
    "You are given an array of strings `products` and a string `searchWord`.\n",
    "\n",
    "Design a system that suggests at most three `product` names from products after each character of `searchWord` is typed. Suggested products should have common prefix with `searchWord`. If there are more than three products with a common prefix return the three lexicographically minimums products.\n",
    "\n",
    "Return a list of lists of the suggested products after each character of `searchWord` is typed."
   ]
  },
  {
   "cell_type": "markdown",
   "metadata": {},
   "source": [
    "Example 1:\n",
    "\n",
    "```\n",
    "Input: products = [\"mobile\",\"mouse\",\"moneypot\",\"monitor\",\"mousepad\"], searchWord = \"mouse\"\n",
    "Output: [\n",
    "[\"mobile\",\"moneypot\",\"monitor\"],\n",
    "[\"mobile\",\"moneypot\",\"monitor\"],\n",
    "[\"mouse\",\"mousepad\"],\n",
    "[\"mouse\",\"mousepad\"],\n",
    "[\"mouse\",\"mousepad\"]\n",
    "]\n",
    "Explanation: products sorted lexicographically = [\"mobile\",\"moneypot\",\"monitor\",\"mouse\",\"mousepad\"]\n",
    "After typing m and mo all products match and we show user [\"mobile\",\"moneypot\",\"monitor\"]\n",
    "After typing mou, mous and mouse the system suggests [\"mouse\",\"mousepad\"]\n",
    "```"
   ]
  },
  {
   "cell_type": "markdown",
   "metadata": {},
   "source": [
    "Example 2:\n",
    "\n",
    "```\n",
    "Input: products = [\"havana\"], searchWord = \"havana\"\n",
    "Output: [[\"havana\"],[\"havana\"],[\"havana\"],[\"havana\"],[\"havana\"],[\"havana\"]]\n",
    "```"
   ]
  },
  {
   "cell_type": "markdown",
   "metadata": {},
   "source": [
    "Example 3:\n",
    "\n",
    "```\n",
    "Input: products = [\"bags\",\"baggage\",\"banner\",\"box\",\"cloths\"], searchWord = \"bags\"\n",
    "Output: [[\"baggage\",\"bags\",\"banner\"],[\"baggage\",\"bags\",\"banner\"],[\"baggage\",\"bags\"],[\"bags\"]]\n",
    "```"
   ]
  },
  {
   "cell_type": "markdown",
   "metadata": {},
   "source": [
    "Constraints:\n",
    "\n",
    "```\n",
    "1 <= products.length <= 1000\n",
    "1 <= products[i].length <= 3000\n",
    "1 <= sum(products[i].length) <= 2 * 104\n",
    "All the strings of products are unique.\n",
    "products[i] consists of lowercase English letters.\n",
    "1 <= searchWord.length <= 1000\n",
    "searchWord consists of lowercase English letters.\n",
    "```"
   ]
  },
  {
   "cell_type": "code",
   "execution_count": 1,
   "metadata": {},
   "outputs": [],
   "source": [
    "from collections import defaultdict\n",
    "\n",
    "class TrieNode:\n",
    "    def __init__(self):\n",
    "        self.ids = []\n",
    "        self.children = defaultdict(TrieNode)\n",
    "    \n",
    "    def add_id(self, word_id: int):\n",
    "        self.ids.append(word_id)\n",
    "\n",
    "\n",
    "class Trie:\n",
    "    def __init__(self, k: int):\n",
    "        self.root = TrieNode()\n",
    "        self.k = k\n",
    "    \n",
    "    def add_word(self, word_id: int, word: str):\n",
    "        node = self.root\n",
    "        for char in word:\n",
    "            node = node.children[char]\n",
    "            if len(node.ids) < self.k:\n",
    "                node.add_id(word_id)\n",
    "    \n",
    "\n",
    "class Solution:\n",
    "    # time = O(w*l + s*k)\n",
    "    # space = (26*n + s*k)\n",
    "    # w = len(words)\n",
    "    # l = max word length\n",
    "    # k = max. suggest producted (3)\n",
    "    # s = len(searchWord)\n",
    "    def suggestedProducts(self, words, searchWord):\n",
    "        words.sort()\n",
    "        trie = Trie(3)\n",
    "        for i, product in enumerate(words):\n",
    "            trie.add_word(i, product)\n",
    "        \n",
    "        result = []\n",
    "        node = trie.root\n",
    "        for char in searchWord:\n",
    "            if node is not None and char in node.children:\n",
    "                node = node.children[char]\n",
    "                result.append([words[i] for i in node.ids[:3]])\n",
    "            else:\n",
    "                node = None\n",
    "                result.append([])\n",
    "        \n",
    "        return result"
   ]
  },
  {
   "cell_type": "code",
   "execution_count": 2,
   "metadata": {},
   "outputs": [
    {
     "name": "stdout",
     "output_type": "stream",
     "text": [
      "[['mobile', 'moneypot', 'monitor'], ['mobile', 'moneypot', 'monitor'], ['mouse', 'mousepad'], ['mouse', 'mousepad'], ['mouse', 'mousepad']]\n"
     ]
    }
   ],
   "source": [
    "products = [\"mobile\",\"mouse\",\"moneypot\",\"monitor\",\"mousepad\"]\n",
    "searchWord = \"mouse\"\n",
    "\n",
    "expected = [\n",
    "            [\"mobile\",\"moneypot\",\"monitor\"],\n",
    "            [\"mobile\",\"moneypot\",\"monitor\"],\n",
    "            [\"mouse\",\"mousepad\"],\n",
    "            [\"mouse\",\"mousepad\"],\n",
    "            [\"mouse\",\"mousepad\"]\n",
    "           ]\n",
    "\n",
    "output = Solution().suggestedProducts(products, searchWord)\n",
    "print(output)\n",
    "assert output == expected"
   ]
  },
  {
   "cell_type": "code",
   "execution_count": 3,
   "metadata": {},
   "outputs": [
    {
     "name": "stdout",
     "output_type": "stream",
     "text": [
      "[['havana'], ['havana'], ['havana'], ['havana'], ['havana'], ['havana']]\n"
     ]
    }
   ],
   "source": [
    "products = [\"havana\"]\n",
    "searchWord = \"havana\"\n",
    "\n",
    "expected = [[\"havana\"],[\"havana\"],[\"havana\"],[\"havana\"],[\"havana\"],[\"havana\"]]\n",
    "\n",
    "output = Solution().suggestedProducts(products, searchWord)\n",
    "print(output)\n",
    "assert output == expected"
   ]
  },
  {
   "cell_type": "code",
   "execution_count": 4,
   "metadata": {},
   "outputs": [
    {
     "name": "stdout",
     "output_type": "stream",
     "text": [
      "[['baggage', 'bags', 'banner'], ['baggage', 'bags', 'banner'], ['baggage', 'bags'], ['bags']]\n"
     ]
    }
   ],
   "source": [
    "products = [\"bags\", \"baggage\", \"banner\", \"box\", \"cloths\"]\n",
    "searchWord = \"bags\"\n",
    "\n",
    "expected = [[\"baggage\", \"bags\", \"banner\"], [\"baggage\", \"bags\", \"banner\"], [\"baggage\", \"bags\"], [\"bags\"]]\n",
    "\n",
    "output = Solution().suggestedProducts(products, searchWord)\n",
    "print(output)\n",
    "assert output == expected"
   ]
  },
  {
   "cell_type": "code",
   "execution_count": 5,
   "metadata": {},
   "outputs": [
    {
     "name": "stdout",
     "output_type": "stream",
     "text": [
      "[[], [], [], []]\n"
     ]
    }
   ],
   "source": [
    "products = [\"bags\", \"baggage\", \"banner\", \"box\", \"cloths\"]\n",
    "searchWord = \"xxxx\"\n",
    "\n",
    "expected = [[], [], [], []]\n",
    "\n",
    "output = Solution().suggestedProducts(products, searchWord)\n",
    "print(output)\n",
    "assert output == expected"
   ]
  }
 ],
 "metadata": {
  "kernelspec": {
   "display_name": "Python 3.10.5 64-bit (windows store)",
   "language": "python",
   "name": "python3"
  },
  "language_info": {
   "codemirror_mode": {
    "name": "ipython",
    "version": 3
   },
   "file_extension": ".py",
   "mimetype": "text/x-python",
   "name": "python",
   "nbconvert_exporter": "python",
   "pygments_lexer": "ipython3",
   "version": "3.10.5"
  },
  "orig_nbformat": 4,
  "vscode": {
   "interpreter": {
    "hash": "3822405be9f5fb329f7270cbdcf73e762c62b3f383c5e71390a1a4648678c1cb"
   }
  }
 },
 "nbformat": 4,
 "nbformat_minor": 2
}
