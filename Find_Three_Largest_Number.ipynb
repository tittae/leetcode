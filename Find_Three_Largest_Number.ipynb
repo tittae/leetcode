{
  "nbformat": 4,
  "nbformat_minor": 0,
  "metadata": {
    "colab": {
      "name": "Find Three Largest Number.ipynb",
      "provenance": [],
      "authorship_tag": "ABX9TyPlvc0GkaUYJ0/F+eLl3WpN",
      "include_colab_link": true
    },
    "kernelspec": {
      "name": "python3",
      "display_name": "Python 3"
    },
    "language_info": {
      "name": "python"
    }
  },
  "cells": [
    {
      "cell_type": "markdown",
      "metadata": {
        "id": "view-in-github",
        "colab_type": "text"
      },
      "source": [
        "<a href=\"https://colab.research.google.com/github/tittae/leetcode/blob/main/Find_Three_Largest_Number.ipynb\" target=\"_parent\"><img src=\"https://colab.research.google.com/assets/colab-badge.svg\" alt=\"Open In Colab\"/></a>"
      ]
    },
    {
      "cell_type": "markdown",
      "metadata": {
        "id": "J4agFLCypIKY"
      },
      "source": [
        "# Find Three Largest Number"
      ]
    },
    {
      "cell_type": "markdown",
      "metadata": {
        "id": "qx8F4crvpJSZ"
      },
      "source": [
        "Write a function that takes in an array of at least three integers and, without sorting the input array, returns a sorted array of the three largest integers in the input array.\n",
        "\n",
        "The function should return duplicate integers if necessary; for example, it should return [10, 10, 12] for an input array of [10, 5, 9, 10, 12]."
      ]
    },
    {
      "cell_type": "markdown",
      "metadata": {
        "id": "H9YFfheypLiD"
      },
      "source": [
        "Sample Input\n",
        "\n",
        "```\n",
        "array = [141, 1, 17, -7, -17, -27, 18, 541, 8, 7, 7]\n",
        "```\n",
        "\n"
      ]
    },
    {
      "cell_type": "markdown",
      "metadata": {
        "id": "9PhvwZYhpNp3"
      },
      "source": [
        "Sample Output\n",
        "\n",
        "```\n",
        "[18, 141, 541]\n",
        "```\n",
        "\n"
      ]
    },
    {
      "cell_type": "code",
      "metadata": {
        "id": "sRvg3sZopHN7"
      },
      "source": [
        "# Time: O(n), Space O(1)\n",
        "def findThreeLargestNumbers(array):\n",
        "\tlargest_three = [float('-inf')] * 3\n",
        "\tfor i in range(len(array)):\n",
        "\t\tif array[i] > largest_three[0]:\n",
        "\t\t\tlargest_three[0] = array[i]\n",
        "\t\t\tlargest_three.sort()\n",
        "\treturn largest_three"
      ],
      "execution_count": 3,
      "outputs": []
    },
    {
      "cell_type": "code",
      "metadata": {
        "id": "CFxPq1y1rO1k"
      },
      "source": [
        "array = [141, 1, 17, -7, -17, -27, 18, 541, 8, 7, 7]"
      ],
      "execution_count": 4,
      "outputs": []
    },
    {
      "cell_type": "code",
      "metadata": {
        "colab": {
          "base_uri": "https://localhost:8080/"
        },
        "id": "Y6icSjrMriRv",
        "outputId": "3011d7ec-c76e-474b-dc2d-7a615f83ee36"
      },
      "source": [
        "print(findThreeLargestNumbers(array))"
      ],
      "execution_count": 6,
      "outputs": [
        {
          "output_type": "stream",
          "name": "stdout",
          "text": [
            "[18, 141, 541]\n"
          ]
        }
      ]
    }
  ]
}