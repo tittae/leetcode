{
  "nbformat": 4,
  "nbformat_minor": 0,
  "metadata": {
    "colab": {
      "name": "Simplify Path (Medium).ipynb",
      "provenance": [],
      "authorship_tag": "ABX9TyNtNW/s1ADzUDVrFOJsF9m3",
      "include_colab_link": true
    },
    "kernelspec": {
      "name": "python3",
      "display_name": "Python 3"
    },
    "language_info": {
      "name": "python"
    }
  },
  "cells": [
    {
      "cell_type": "markdown",
      "metadata": {
        "id": "view-in-github",
        "colab_type": "text"
      },
      "source": [
        "<a href=\"https://colab.research.google.com/github/wisarootl/leetcode/blob/main/Simplify_Path_(Medium).ipynb\" target=\"_parent\"><img src=\"https://colab.research.google.com/assets/colab-badge.svg\" alt=\"Open In Colab\"/></a>"
      ]
    },
    {
      "cell_type": "markdown",
      "source": [
        "# Simplify Path"
      ],
      "metadata": {
        "id": "yNbetRI-f5el"
      }
    },
    {
      "cell_type": "markdown",
      "source": [
        "Given a string path, which is an absolute path (starting with a slash '/') to a file or directory in a Unix-style file system, convert it to the simplified canonical path.\n",
        "\n",
        "In a Unix-style file system, a period '.' refers to the current directory, a double period '..' refers to the directory up a level, and any multiple consecutive slashes (i.e. '//') are treated as a single slash '/'. For this problem, any other format of periods such as '...' are treated as file/directory names.\n",
        "\n",
        "The canonical path should have the following format:\n",
        "\n",
        "- The path starts with a single slash '/'.\n",
        "- Any two directories are separated by a single slash '/'.\n",
        "- The path does not end with a trailing '/'.\n",
        "- The path only contains the directories on the path from the root directory to the target file or directory (i.e., no period '.' or double period '..')\n",
        "\n",
        "Return the simplified canonical path."
      ],
      "metadata": {
        "id": "13w5srkpf7Fh"
      }
    },
    {
      "cell_type": "markdown",
      "source": [
        "Example 1:\n",
        "\n",
        "```\n",
        "Input: path = \"/home/\"\n",
        "Output: \"/home\"\n",
        "Explanation: Note that there is no trailing slash after the last directory name.\n",
        "```\n",
        "\n"
      ],
      "metadata": {
        "id": "4Xt5IoV2gEEf"
      }
    },
    {
      "cell_type": "markdown",
      "source": [
        "Example 2:\n",
        "\n",
        "```\n",
        "Input: path = \"/../\"\n",
        "Output: \"/\"\n",
        "Explanation: Going one level up from the root directory is a no-op, as the root level is the highest level you can go.\n",
        "```\n",
        "\n"
      ],
      "metadata": {
        "id": "nSiFP30PgGJu"
      }
    },
    {
      "cell_type": "markdown",
      "source": [
        "Example 3:\n",
        "\n",
        "```\n",
        "Input: path = \"/home//foo/\"\n",
        "Output: \"/home/foo\"\n",
        "Explanation: In the canonical path, multiple consecutive slashes are replaced by a single one.\n",
        "```\n",
        "\n"
      ],
      "metadata": {
        "id": "sKbAwLcOgI31"
      }
    },
    {
      "cell_type": "markdown",
      "source": [
        "Constraints:\n",
        "\n",
        "```\n",
        "1 <= path.length <= 3000\n",
        "path consists of English letters, digits, period '.', slash '/' or '_'.\n",
        "path is a valid absolute Unix path.\n",
        "```\n",
        "\n"
      ],
      "metadata": {
        "id": "lXvsoInUgL9g"
      }
    },
    {
      "cell_type": "code",
      "execution_count": 1,
      "metadata": {
        "id": "i8-NR3Effynb"
      },
      "outputs": [],
      "source": [
        "# Time O(N)\n",
        "# Space O(N)\n",
        "\n",
        "# N = number of element of path.split('/')\n",
        "\n",
        "class Solution:\n",
        "    def simplifyPath(self, path: str) -> str:\n",
        "        splited_path = path.split('/')\n",
        "        stack = []\n",
        "        \n",
        "        for idx in range(len(splited_path)):\n",
        "            if splited_path[idx] == '..':\n",
        "                if len(stack) > 0:\n",
        "                    stack.pop()\n",
        "            elif splited_path[idx] == '' or splited_path[idx] == '.':\n",
        "                continue\n",
        "            else:\n",
        "                stack.append(splited_path[idx])\n",
        "        \n",
        "        return '/' + '/'.join(stack)"
      ]
    },
    {
      "cell_type": "code",
      "source": [
        "path = \"/home/\"\n",
        "expected = \"/home\"\n",
        "\n",
        "output = Solution().simplifyPath(path)\n",
        "print(output)\n",
        "assert output == expected"
      ],
      "metadata": {
        "colab": {
          "base_uri": "https://localhost:8080/"
        },
        "id": "TFDc3TQBgR3K",
        "outputId": "037e9e5c-7ad3-474d-bca7-2c36e4b38629"
      },
      "execution_count": 2,
      "outputs": [
        {
          "output_type": "stream",
          "name": "stdout",
          "text": [
            "/home\n"
          ]
        }
      ]
    },
    {
      "cell_type": "code",
      "source": [
        "path = \"/../\"\n",
        "expected = \"/\"\n",
        "\n",
        "output = Solution().simplifyPath(path)\n",
        "print(output)\n",
        "assert output == expected"
      ],
      "metadata": {
        "colab": {
          "base_uri": "https://localhost:8080/"
        },
        "id": "fw1kXWAkgeng",
        "outputId": "2f3b4593-2332-43a6-8158-d2c203ad542d"
      },
      "execution_count": 3,
      "outputs": [
        {
          "output_type": "stream",
          "name": "stdout",
          "text": [
            "/\n"
          ]
        }
      ]
    },
    {
      "cell_type": "code",
      "source": [
        "path = \"/home//foo/\"\n",
        "expected = \"/home/foo\"\n",
        "\n",
        "output = Solution().simplifyPath(path)\n",
        "print(output)\n",
        "assert output == expected"
      ],
      "metadata": {
        "colab": {
          "base_uri": "https://localhost:8080/"
        },
        "id": "BlC98mdjgh0k",
        "outputId": "52d8b85f-ef86-4c27-e7ab-c9a8e99a1a16"
      },
      "execution_count": 4,
      "outputs": [
        {
          "output_type": "stream",
          "name": "stdout",
          "text": [
            "/home/foo\n"
          ]
        }
      ]
    }
  ]
}