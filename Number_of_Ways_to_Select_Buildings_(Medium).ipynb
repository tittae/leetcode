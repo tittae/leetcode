{
  "nbformat": 4,
  "nbformat_minor": 0,
  "metadata": {
    "colab": {
      "name": "Number of Ways to Select Buildings (Medium).ipynb",
      "provenance": [],
      "collapsed_sections": [],
      "authorship_tag": "ABX9TyPBhnBqpVsaVuN2nNq8Ur8b",
      "include_colab_link": true
    },
    "kernelspec": {
      "name": "python3",
      "display_name": "Python 3"
    },
    "language_info": {
      "name": "python"
    }
  },
  "cells": [
    {
      "cell_type": "markdown",
      "metadata": {
        "id": "view-in-github",
        "colab_type": "text"
      },
      "source": [
        "<a href=\"https://colab.research.google.com/github/wisarootl/leetcode/blob/main/Number_of_Ways_to_Select_Buildings_(Medium).ipynb\" target=\"_parent\"><img src=\"https://colab.research.google.com/assets/colab-badge.svg\" alt=\"Open In Colab\"/></a>"
      ]
    },
    {
      "cell_type": "markdown",
      "source": [
        "You are given a 0-indexed binary string s which represents the types of buildings along a street where:\n",
        "\n",
        "- s[i] = '0' denotes that the ith building is an office and\n",
        "- s[i] = '1' denotes that the ith building is a restaurant.\n",
        "\n",
        "As a city official, you would like to select 3 buildings for random inspection. However, to ensure variety, no two consecutive buildings out of the selected buildings can be of the same type.\n",
        "\n",
        "- For example, given s = \"001101\", we cannot select the 1st, 3rd, and 5th buildings as that would form \"011\" which is not allowed due to having two consecutive buildings of the same type.\n",
        "\n",
        "Return the number of valid ways to select 3 buildings."
      ],
      "metadata": {
        "id": "oJYm0cwAlUOc"
      }
    },
    {
      "cell_type": "markdown",
      "source": [
        "Example 1:\n",
        "\n",
        "```\n",
        "Input: s = \"001101\"\n",
        "Output: 6\n",
        "Explanation: \n",
        "The following sets of indices selected are valid:\n",
        "- [0,2,4] from \"001101\" forms \"010\"\n",
        "- [0,3,4] from \"001101\" forms \"010\"\n",
        "- [1,2,4] from \"001101\" forms \"010\"\n",
        "- [1,3,4] from \"001101\" forms \"010\"\n",
        "- [2,4,5] from \"001101\" forms \"101\"\n",
        "- [3,4,5] from \"001101\" forms \"101\"\n",
        "No other selection is valid. Thus, there are 6 total ways.\n",
        "```\n",
        "\n"
      ],
      "metadata": {
        "id": "e7W7goOnlY6D"
      }
    },
    {
      "cell_type": "markdown",
      "source": [
        "Example 2:\n",
        "\n",
        "```\n",
        "Input: s = \"11100\"\n",
        "Output: 0\n",
        "Explanation: It can be shown that there are no valid selections.\n",
        "```\n",
        "\n"
      ],
      "metadata": {
        "id": "UxqSjBP1lboi"
      }
    },
    {
      "cell_type": "markdown",
      "source": [
        "Constraints:\n",
        "\n",
        "```\n",
        "3 <= s.length <= 105\n",
        "s[i] is either '0' or '1'.\n",
        "```\n",
        "\n"
      ],
      "metadata": {
        "id": "lLN_pYxble3W"
      }
    },
    {
      "cell_type": "markdown",
      "source": [
        "# Solution"
      ],
      "metadata": {
        "id": "NRZ0a7OYljYC"
      }
    },
    {
      "cell_type": "code",
      "execution_count": 2,
      "metadata": {
        "id": "8xe-0QwmlG5k"
      },
      "outputs": [],
      "source": [
        "# time O(N)\n",
        "# space O(1)\n",
        "\n",
        "class Solution:\n",
        "    def numberOfWays(self, s):\n",
        "        cache = {'0': 0, '10': 0, '010': 0, '1': 0, '01': 0, '101': 0}\n",
        "        for char in s:\n",
        "            if char == '0':\n",
        "                cache['0'] += 1\n",
        "                cache['10'] += cache['1']\n",
        "                cache['010'] += cache['01']\n",
        "                \n",
        "            elif char == '1':\n",
        "                cache['1'] += 1\n",
        "                cache['01'] += cache['0']\n",
        "                cache['101'] += cache['10']\n",
        "                \n",
        "        return cache['010'] + cache['101']"
      ]
    },
    {
      "cell_type": "code",
      "source": [
        "s = \"001101\"\n",
        "expected = 6\n",
        "\n",
        "output = Solution().numberOfWays(s)\n",
        "print(output)\n",
        "assert output == expected"
      ],
      "metadata": {
        "colab": {
          "base_uri": "https://localhost:8080/"
        },
        "id": "Al7VhCywlmux",
        "outputId": "116b2bc3-abbb-40f0-a1a0-9826fb86fd0d"
      },
      "execution_count": 3,
      "outputs": [
        {
          "output_type": "stream",
          "name": "stdout",
          "text": [
            "6\n"
          ]
        }
      ]
    },
    {
      "cell_type": "code",
      "source": [
        "s = \"11100\"\n",
        "expected = 0\n",
        "\n",
        "output = Solution().numberOfWays(s)\n",
        "print(output)\n",
        "assert output == expected"
      ],
      "metadata": {
        "colab": {
          "base_uri": "https://localhost:8080/"
        },
        "id": "xiZ1oG5gly1p",
        "outputId": "2c916a38-37b9-4610-b740-299627a5247c"
      },
      "execution_count": 4,
      "outputs": [
        {
          "output_type": "stream",
          "name": "stdout",
          "text": [
            "0\n"
          ]
        }
      ]
    }
  ]
}