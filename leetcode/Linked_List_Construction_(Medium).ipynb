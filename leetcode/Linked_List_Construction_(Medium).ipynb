{
  "nbformat": 4,
  "nbformat_minor": 0,
  "metadata": {
    "colab": {
      "name": "Linked List Construction (Medium).ipynb",
      "provenance": [],
      "collapsed_sections": [],
      "authorship_tag": "ABX9TyNBba7mwofTQ9tOSoOHPy73",
      "include_colab_link": true
    },
    "kernelspec": {
      "name": "python3",
      "display_name": "Python 3"
    },
    "language_info": {
      "name": "python"
    }
  },
  "cells": [
    {
      "cell_type": "markdown",
      "metadata": {
        "id": "view-in-github",
        "colab_type": "text"
      },
      "source": [
        "<a href=\"https://colab.research.google.com/github/wisarootl/leetcode/blob/main/Linked_List_Construction_(Medium).ipynb\" target=\"_parent\"><img src=\"https://colab.research.google.com/assets/colab-badge.svg\" alt=\"Open In Colab\"/></a>"
      ]
    },
    {
      "cell_type": "markdown",
      "source": [
        "# Linked List Construction"
      ],
      "metadata": {
        "id": "_Pjz0lqN3LDM"
      }
    },
    {
      "cell_type": "markdown",
      "source": [
        "Write a `DoublyLinkedList` class that has a `head` and a `tail`, both of which point to either a linked list `Node` or `None` / `null`. The class should support:\n",
        "\n",
        "- Setting the head and tail of the linked list.\n",
        "- Inserting nodes before and after other nodes as well as at given positions (the position of the head node is `1`).\n",
        "- Removing given nodes and removing nodes with given values.\n",
        "- Searching for nodes with given values.\n",
        "\n",
        "Note that the `setHead`, `setTail`, `insertBefore`, `insertAfter`, `insertAtPosition`, and `remove` methods all take in actual Nodes as input parameters—not integers (except for `insertAtPosition`, which also takes in an integer representing the position); this means that you don't need to create any new `Node`s in these methods. The input nodes can be either stand-alone nodes or nodes that are already in the linked list. If they're nodes that are already in the linked list, the methods will effectively be moving the nodes within the linked list. You won't be told if the input nodes are already in the linked list, so your code will have to defensively handle this scenario.\n",
        "\n",
        "If you're doing this problem in an untyped language like Python or JavaScript, you may want to look at the various function signatures in a typed language like Java or TypeScript to get a better idea of what each input parameter is.\n",
        "\n",
        "Each `Node` has an integer `value` as well as a `prev` node and a `next` node, both of which can point to either another node or `None` / `null`."
      ],
      "metadata": {
        "id": "5PeguEd43MRw"
      }
    },
    {
      "cell_type": "markdown",
      "source": [
        "Sample Usage\n",
        "\n",
        "```\n",
        "// Assume the following linked list has already been created:\n",
        "1 <-> 2 <-> 3 <-> 4 <-> 5\n",
        "// Assume that we also have the following stand-alone nodes:\n",
        "3, 3, 6\n",
        "setHead(4): 4 <-> 1 <-> 2 <-> 3 <-> 5 // set the existing node with value 4 as the head\n",
        "setTail(6): 4 <-> 1 <-> 2 <-> 3 <-> 5 <-> 6 // set the stand-alone node with value 6 as the tail\n",
        "insertBefore(6, 3): 4 <-> 1 <-> 2 <-> 5 <-> 3 <-> 6 // move the existing node with value 3 before the existing node with value 6\n",
        "insertAfter(6, 3): 4 <-> 1 <-> 2 <-> 5 <-> 3 <-> 6 <-> 3 // insert a stand-alone node with value 3 after the existing node with value 6\n",
        "insertAtPosition(1, 3): 3 <-> 4 <-> 1 <-> 2 <-> 5 <-> 3 <-> 6 <-> 3 // insert a stand-alone node with value 3 in position 1\n",
        "removeNodesWithValue(3): 4 <-> 1 <-> 2 <-> 5 <-> 6 // remove all nodes with value 3\n",
        "remove(2): 4 <-> 1 <-> 5 <-> 6 // remove the existing node with value 2\n",
        "containsNodeWithValue(5): true\n",
        "```\n",
        "\n"
      ],
      "metadata": {
        "id": "T9bbKeBH3qj-"
      }
    },
    {
      "cell_type": "code",
      "execution_count": 1,
      "metadata": {
        "id": "DgcHmL6rhjEC"
      },
      "outputs": [],
      "source": [
        "# This is an input class. Do not edit.\n",
        "class Node:\n",
        "    def __init__(self, value):\n",
        "        self.value = value\n",
        "        self.prev = None\n",
        "        self.next = None\n",
        "\n",
        "# Feel free to add new properties and methods to the class.\n",
        "class DoublyLinkedList:\n",
        "    def __init__(self):\n",
        "        self.head = None\n",
        "        self.tail = None\n",
        "\n",
        "    def setHead(self, node):\n",
        "        if self.head == None:\n",
        "          self.head = node\n",
        "          self.tail = node\n",
        "        else:\n",
        "          self.insertBefore(self.head, node)\n",
        "\n",
        "    def setTail(self, node):\n",
        "        if self.tail == None:\n",
        "          self.setHead(node)\n",
        "        else:\n",
        "          self.insertAfter(self.tail, node)\n",
        "\n",
        "    def insertBefore(self, node, nodeToInsert):\n",
        "        self.remove(nodeToInsert)\n",
        "        nodeToInsert.prev = node.prev\n",
        "        nodeToInsert.next = node\n",
        "        if node == self.head:\n",
        "          self.head = nodeToInsert\n",
        "        else:\n",
        "          node.prev.next = nodeToInsert\n",
        "        node.prev = nodeToInsert\n",
        "\n",
        "    def insertAfter(self, node, nodeToInsert):\n",
        "        self.remove(nodeToInsert)\n",
        "        nodeToInsert.next = node.next\n",
        "        nodeToInsert.prev = node\n",
        "        if node == self.tail:\n",
        "          self.tail = nodeToInsert\n",
        "        else:\n",
        "          node.next.prev = nodeToInsert\n",
        "        node.next = nodeToInsert\n",
        "\n",
        "    def insertAtPosition(self, position, nodeToInsert):\n",
        "        if position == 1:\n",
        "          self.setHead(nodeToInsert)\n",
        "          return\n",
        "        node = self.head\n",
        "        current_position = 1\n",
        "        while node != None and current_position < position:\n",
        "          node = node.next\n",
        "          current_position += 1\n",
        "        if node != None:\n",
        "          self.insertBefore(node, nodeToInsert)\n",
        "        else:\n",
        "          self.setTail(nodeToInsert)\n",
        "\n",
        "    def removeNodesWithValue(self, value):\n",
        "        node = self.head\n",
        "        while node != None:\n",
        "          node_to_remove = node\n",
        "          node = node.next\n",
        "          if node_to_remove.value == value:\n",
        "            self.remove(node_to_remove)\n",
        "\n",
        "    def remove(self, node):\n",
        "        if node == self.head:\n",
        "          self.head = node.next\n",
        "        if node == self.tail:\n",
        "          self.tail = node.prev\n",
        "        if node.prev != None:\n",
        "          node.prev.next = node.next\n",
        "        if node.next != None:\n",
        "          node.next.prev = node.prev\n",
        "        node.next = None\n",
        "        node.prev = None\n",
        "\n",
        "    def containsNodeWithValue(self, value):\n",
        "        node = self.head\n",
        "        while node != None:\n",
        "          if node.value == value:\n",
        "            return True\n",
        "          node = node.next\n",
        "        return False"
      ]
    },
    {
      "cell_type": "code",
      "source": [
        "def print_doubly_linked_list(doubly_linked_list):\n",
        "  print('head to tail')\n",
        "  node = doubly_linked_list.head\n",
        "  while node != None:\n",
        "    print(node.value, end = '')\n",
        "    node = node.next\n",
        "    if node != None:\n",
        "      print(' <-> ', end = '')\n",
        "  \n",
        "  print('\\n')\n",
        "  print('tail to head')\n",
        "  node = doubly_linked_list.tail\n",
        "  while node != None:\n",
        "    print(node.value, end = '')\n",
        "    node = node.prev\n",
        "    if node != None:\n",
        "      print(' <-> ', end = '')\n"
      ],
      "metadata": {
        "id": "MsEPPksG0AK_"
      },
      "execution_count": 2,
      "outputs": []
    },
    {
      "cell_type": "code",
      "source": [
        "# // Assume the following linked list has already been created:\n",
        "# 1 <-> 2 <-> 3 <-> 4 <-> 5\n",
        "\n",
        "liked_list = DoublyLinkedList()\n",
        "liked_list.setHead(Node(1))\n",
        "liked_list.insertAfter(liked_list.head, Node(2))\n",
        "liked_list.insertAfter(liked_list.head.next, Node(3))\n",
        "liked_list.insertAfter(liked_list.head.next.next, Node(4))\n",
        "liked_list.insertAfter(liked_list.head.next.next.next, Node(5))\n",
        "print_doubly_linked_list(liked_list)"
      ],
      "metadata": {
        "colab": {
          "base_uri": "https://localhost:8080/"
        },
        "id": "mpyD1kJVtKYz",
        "outputId": "1de28085-5f43-4b9c-da5d-7cd6ab5e17d3"
      },
      "execution_count": 3,
      "outputs": [
        {
          "output_type": "stream",
          "name": "stdout",
          "text": [
            "head to tail\n",
            "1 <-> 2 <-> 3 <-> 4 <-> 5\n",
            "\n",
            "tail to head\n",
            "5 <-> 4 <-> 3 <-> 2 <-> 1"
          ]
        }
      ]
    },
    {
      "cell_type": "code",
      "source": [
        "# setHead(4): 4 <-> 1 <-> 2 <-> 3 <-> 5 // set the existing node with value 4 as the head\n",
        "liked_list.setHead(liked_list.head.next.next.next)\n",
        "print_doubly_linked_list(liked_list)"
      ],
      "metadata": {
        "colab": {
          "base_uri": "https://localhost:8080/"
        },
        "id": "8HUB5a9u07bQ",
        "outputId": "fedf58da-85dd-4b47-8d5a-18614326a595"
      },
      "execution_count": 4,
      "outputs": [
        {
          "output_type": "stream",
          "name": "stdout",
          "text": [
            "head to tail\n",
            "4 <-> 1 <-> 2 <-> 3 <-> 5\n",
            "\n",
            "tail to head\n",
            "5 <-> 3 <-> 2 <-> 1 <-> 4"
          ]
        }
      ]
    },
    {
      "cell_type": "code",
      "source": [
        "# setTail(6): 4 <-> 1 <-> 2 <-> 3 <-> 5 <-> 6 // set the stand-alone node with value 6 as the tail\n",
        "liked_list.setTail(Node(6))\n",
        "print_doubly_linked_list(liked_list)"
      ],
      "metadata": {
        "colab": {
          "base_uri": "https://localhost:8080/"
        },
        "id": "TVCkYXXX1u8-",
        "outputId": "2cdf1f1e-745d-424a-c0ce-20923f4221bd"
      },
      "execution_count": 5,
      "outputs": [
        {
          "output_type": "stream",
          "name": "stdout",
          "text": [
            "head to tail\n",
            "4 <-> 1 <-> 2 <-> 3 <-> 5 <-> 6\n",
            "\n",
            "tail to head\n",
            "6 <-> 5 <-> 3 <-> 2 <-> 1 <-> 4"
          ]
        }
      ]
    },
    {
      "cell_type": "code",
      "source": [
        "# insertBefore(6, 3): 4 <-> 1 <-> 2 <-> 5 <-> 3 <-> 6 // move the existing node with value 3 before the existing node with value 6\n",
        "liked_list.insertBefore(liked_list.tail, liked_list.tail.prev.prev)\n",
        "print_doubly_linked_list(liked_list)"
      ],
      "metadata": {
        "colab": {
          "base_uri": "https://localhost:8080/"
        },
        "id": "OruAyFKZ1TON",
        "outputId": "30510a6f-fda9-4637-f39f-0a63806c94b0"
      },
      "execution_count": 6,
      "outputs": [
        {
          "output_type": "stream",
          "name": "stdout",
          "text": [
            "head to tail\n",
            "4 <-> 1 <-> 2 <-> 5 <-> 3 <-> 6\n",
            "\n",
            "tail to head\n",
            "6 <-> 3 <-> 5 <-> 2 <-> 1 <-> 4"
          ]
        }
      ]
    },
    {
      "cell_type": "code",
      "source": [
        "# insertAfter(6, 3): 4 <-> 1 <-> 2 <-> 5 <-> 3 <-> 6 <-> 3 // insert a stand-alone node with value 3 after the existing node with value 6\n",
        "liked_list.insertAfter(liked_list.tail, Node(3))\n",
        "print_doubly_linked_list(liked_list)"
      ],
      "metadata": {
        "colab": {
          "base_uri": "https://localhost:8080/"
        },
        "id": "7o-g_CuT2Xv0",
        "outputId": "6bcc51c5-798e-48f3-b78e-be99bd609965"
      },
      "execution_count": 7,
      "outputs": [
        {
          "output_type": "stream",
          "name": "stdout",
          "text": [
            "head to tail\n",
            "4 <-> 1 <-> 2 <-> 5 <-> 3 <-> 6 <-> 3\n",
            "\n",
            "tail to head\n",
            "3 <-> 6 <-> 3 <-> 5 <-> 2 <-> 1 <-> 4"
          ]
        }
      ]
    },
    {
      "cell_type": "code",
      "source": [
        "# insertAtPosition(1, 3): 3 <-> 4 <-> 1 <-> 2 <-> 5 <-> 3 <-> 6 <-> 3 // insert a stand-alone node with value 3 in position 1\n",
        "liked_list.insertAtPosition(1, Node(3))\n",
        "print_doubly_linked_list(liked_list)"
      ],
      "metadata": {
        "colab": {
          "base_uri": "https://localhost:8080/"
        },
        "id": "Bgy0u7IY2iWK",
        "outputId": "4ee0d08d-680d-4974-d762-3392121f7146"
      },
      "execution_count": 8,
      "outputs": [
        {
          "output_type": "stream",
          "name": "stdout",
          "text": [
            "head to tail\n",
            "3 <-> 4 <-> 1 <-> 2 <-> 5 <-> 3 <-> 6 <-> 3\n",
            "\n",
            "tail to head\n",
            "3 <-> 6 <-> 3 <-> 5 <-> 2 <-> 1 <-> 4 <-> 3"
          ]
        }
      ]
    },
    {
      "cell_type": "code",
      "source": [
        "# removeNodesWithValue(3): 4 <-> 1 <-> 2 <-> 5 <-> 6 // remove all nodes with value 3\n",
        "liked_list.removeNodesWithValue(3)\n",
        "print_doubly_linked_list(liked_list)"
      ],
      "metadata": {
        "colab": {
          "base_uri": "https://localhost:8080/"
        },
        "id": "USCz2gKd2rCf",
        "outputId": "f2941975-2b71-4079-8722-26e74f9f975a"
      },
      "execution_count": 9,
      "outputs": [
        {
          "output_type": "stream",
          "name": "stdout",
          "text": [
            "head to tail\n",
            "4 <-> 1 <-> 2 <-> 5 <-> 6\n",
            "\n",
            "tail to head\n",
            "6 <-> 5 <-> 2 <-> 1 <-> 4"
          ]
        }
      ]
    },
    {
      "cell_type": "code",
      "source": [
        "# remove(2): 4 <-> 1 <-> 5 <-> 6 // remove the existing node with value 2\n",
        "liked_list.remove(liked_list.head.next.next)\n",
        "print_doubly_linked_list(liked_list)"
      ],
      "metadata": {
        "colab": {
          "base_uri": "https://localhost:8080/"
        },
        "id": "jcJ__PE42wS9",
        "outputId": "29cbd6a1-3bd0-4363-f337-1c76a8fae950"
      },
      "execution_count": 10,
      "outputs": [
        {
          "output_type": "stream",
          "name": "stdout",
          "text": [
            "head to tail\n",
            "4 <-> 1 <-> 5 <-> 6\n",
            "\n",
            "tail to head\n",
            "6 <-> 5 <-> 1 <-> 4"
          ]
        }
      ]
    },
    {
      "cell_type": "code",
      "source": [
        "# containsNodeWithValue(5): true\n",
        "liked_list.containsNodeWithValue(5)"
      ],
      "metadata": {
        "colab": {
          "base_uri": "https://localhost:8080/"
        },
        "id": "lfXZYDUP2-KZ",
        "outputId": "64c003d5-6c50-4482-bbbd-2bfe8e6002a8"
      },
      "execution_count": 11,
      "outputs": [
        {
          "output_type": "execute_result",
          "data": {
            "text/plain": [
              "True"
            ]
          },
          "metadata": {},
          "execution_count": 11
        }
      ]
    },
    {
      "cell_type": "markdown",
      "source": [
        "# Python Library"
      ],
      "metadata": {
        "id": "p3S68NdyTX9a"
      }
    },
    {
      "cell_type": "code",
      "source": [
        "from collections import deque\n",
        "\n",
        "# initialising a deque() of arbitrary length\n",
        "linked_lst = deque()\n",
        "\n",
        "# filling deque() with elements\n",
        "linked_lst.append('first')\n",
        "linked_lst.append('second')\n",
        "linked_lst.append('third')\n",
        "\n",
        "print(\"elements in the linked_list:\")\n",
        "print(linked_lst)"
      ],
      "metadata": {
        "colab": {
          "base_uri": "https://localhost:8080/"
        },
        "id": "eogib0RRTa2y",
        "outputId": "6ef5e9b2-9e37-4638-b098-84d4b6c18f17"
      },
      "execution_count": 12,
      "outputs": [
        {
          "output_type": "stream",
          "name": "stdout",
          "text": [
            "elements in the linked_list:\n",
            "deque(['first', 'second', 'third'])\n"
          ]
        }
      ]
    },
    {
      "cell_type": "code",
      "source": [
        "# adding element at an arbitrary position\n",
        "linked_lst.insert(0, 'fourth')\n",
        "\n",
        "print(\"elements in the linked_list:\")\n",
        "print(linked_lst)"
      ],
      "metadata": {
        "colab": {
          "base_uri": "https://localhost:8080/"
        },
        "id": "Lm-4WIojT2Qy",
        "outputId": "2cb57d78-dfb0-40a6-bcd6-5e08e2669de0"
      },
      "execution_count": 13,
      "outputs": [
        {
          "output_type": "stream",
          "name": "stdout",
          "text": [
            "elements in the linked_list:\n",
            "deque(['fourth', 'first', 'second', 'third'])\n"
          ]
        }
      ]
    },
    {
      "cell_type": "code",
      "source": [
        "# pop left\n",
        "print(linked_lst.popleft())\n",
        "print(linked_lst)"
      ],
      "metadata": {
        "colab": {
          "base_uri": "https://localhost:8080/"
        },
        "id": "9_0XMfnvULxD",
        "outputId": "39bfcd65-1dc6-4059-c6c8-8c2f8f6ceeb8"
      },
      "execution_count": 14,
      "outputs": [
        {
          "output_type": "stream",
          "name": "stdout",
          "text": [
            "fourth\n",
            "deque(['first', 'second', 'third'])\n"
          ]
        }
      ]
    },
    {
      "cell_type": "code",
      "source": [
        "# deleting the last element\n",
        "print(linked_lst.pop())\n",
        "\n",
        "print(\"elements in the linked_list:\")\n",
        "print(linked_lst)"
      ],
      "metadata": {
        "colab": {
          "base_uri": "https://localhost:8080/"
        },
        "id": "1526E4W7T3rO",
        "outputId": "25540c7f-8489-473b-ee8f-29ae966d0380"
      },
      "execution_count": 15,
      "outputs": [
        {
          "output_type": "stream",
          "name": "stdout",
          "text": [
            "third\n",
            "elements in the linked_list:\n",
            "deque(['first', 'second'])\n"
          ]
        }
      ]
    },
    {
      "cell_type": "code",
      "source": [
        "# append left\n",
        "\n",
        "linked_lst.appendleft('fourth')\n",
        "print(linked_lst)"
      ],
      "metadata": {
        "colab": {
          "base_uri": "https://localhost:8080/"
        },
        "id": "PkEcYa-pUfJD",
        "outputId": "e7d36c79-cb2e-4f1b-bf89-7b0e868ea53c"
      },
      "execution_count": 16,
      "outputs": [
        {
          "output_type": "stream",
          "name": "stdout",
          "text": [
            "deque(['fourth', 'first', 'second'])\n"
          ]
        }
      ]
    },
    {
      "cell_type": "code",
      "source": [
        "# removing a specific element\n",
        "linked_lst.remove('first')\n",
        "\n",
        "print(\"elements in the linked_list:\")\n",
        "print(linked_lst)"
      ],
      "metadata": {
        "colab": {
          "base_uri": "https://localhost:8080/"
        },
        "id": "n-Q8Rw4OT5CD",
        "outputId": "7072ca31-b0ba-4841-b9a4-58a795ff3b9f"
      },
      "execution_count": 17,
      "outputs": [
        {
          "output_type": "stream",
          "name": "stdout",
          "text": [
            "elements in the linked_list:\n",
            "deque(['fourth', 'second'])\n"
          ]
        }
      ]
    }
  ]
}