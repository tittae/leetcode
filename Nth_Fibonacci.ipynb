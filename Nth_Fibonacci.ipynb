{
  "nbformat": 4,
  "nbformat_minor": 0,
  "metadata": {
    "colab": {
      "name": "Nth Fibonacci.ipynb",
      "provenance": [],
      "authorship_tag": "ABX9TyNZLXkhXWUp8O6rzD7oi26K",
      "include_colab_link": true
    },
    "kernelspec": {
      "name": "python3",
      "display_name": "Python 3"
    },
    "language_info": {
      "name": "python"
    }
  },
  "cells": [
    {
      "cell_type": "markdown",
      "metadata": {
        "id": "view-in-github",
        "colab_type": "text"
      },
      "source": [
        "<a href=\"https://colab.research.google.com/github/tittae/leetcode/blob/main/Nth_Fibonacci.ipynb\" target=\"_parent\"><img src=\"https://colab.research.google.com/assets/colab-badge.svg\" alt=\"Open In Colab\"/></a>"
      ]
    },
    {
      "cell_type": "markdown",
      "metadata": {
        "id": "A6e8qNRZw5V4"
      },
      "source": [
        "# Nth Fibonacci"
      ]
    },
    {
      "cell_type": "markdown",
      "metadata": {
        "id": "RPqn7czOw7H8"
      },
      "source": [
        "The Fibonacci sequence is defined as follows: the first number of the sequence is 0, the second number is 1, and the nth number is the sum of the (n - 1)th and (n - 2)th numbers. Write a function that takes in an integer n and returns the nth Fibonacci number.\n",
        "\n",
        "Important note: the Fibonacci sequence is often defined with its first two numbers as F0 = 0 and F1 = 1. For the purpose of this question, the first Fibonacci number is F0; therefore, `getNthFib(1)` is equal to F0, getNthFib(2) is equal to F1, etc.."
      ]
    },
    {
      "cell_type": "markdown",
      "metadata": {
        "id": "OfruaTqvw8qn"
      },
      "source": [
        "Sample Input #1\n",
        "\n",
        "```\n",
        "n = 2\n",
        "```\n",
        "\n"
      ]
    },
    {
      "cell_type": "markdown",
      "metadata": {
        "id": "wfDKriEKw_V2"
      },
      "source": [
        "Sample Output #1\n",
        "\n",
        "```\n",
        "1 // 0, 1\n",
        "```\n",
        "\n"
      ]
    },
    {
      "cell_type": "markdown",
      "metadata": {
        "id": "pNNACctTxGOQ"
      },
      "source": [
        "Sample Input #2\n",
        "\n",
        "```\n",
        "n = 6\n",
        "```\n",
        "\n"
      ]
    },
    {
      "cell_type": "markdown",
      "metadata": {
        "id": "EdkUWCvxxITQ"
      },
      "source": [
        "Sample Output #2\n",
        "\n",
        "```\n",
        "5 // 0, 1, 1, 2, 3, 5\n",
        "```\n",
        "\n"
      ]
    },
    {
      "cell_type": "code",
      "metadata": {
        "id": "z9EvY8-l_QLq"
      },
      "source": [
        "# Time: O(n), Space: O(1)\n",
        "\n",
        "def getNthFib(n):\n",
        "  if n == 1:\n",
        "    return 0\n",
        "  elif n == 2:\n",
        "    return 1\n",
        "  else:\n",
        "\n",
        "    last_two = [0, 1]\n",
        "    for i in range(3, n+1):\n",
        "      fn = last_two[0] + last_two[1]\n",
        "      last_two[0] = last_two[1]\n",
        "      last_two[1] = fn\n",
        "  return fn"
      ],
      "execution_count": 1,
      "outputs": []
    },
    {
      "cell_type": "code",
      "metadata": {
        "id": "8MOB0108Af43"
      },
      "source": [
        "def getNthFib(n):\n",
        "  last_two = [0, 1]\n",
        "  counter = 3\n",
        "  while counter <= n:\n",
        "    next_fib = last_two[0] + last_two[1]\n",
        "    last_two[0] = last_two[1]\n",
        "    last_two[1] = next_fib\n",
        "    counter += 1\n",
        "\n",
        "  return last_two[1] if n > 1 else last_two[0]"
      ],
      "execution_count": 2,
      "outputs": []
    },
    {
      "cell_type": "code",
      "metadata": {
        "colab": {
          "base_uri": "https://localhost:8080/"
        },
        "id": "10G9ta3nw0yB",
        "outputId": "5e01b6cb-6e22-441c-cd13-16c94217d8d8"
      },
      "source": [
        "for i in range(10)[1:]:\n",
        "  print(getNthFib(i), end=' ')"
      ],
      "execution_count": 3,
      "outputs": [
        {
          "output_type": "stream",
          "name": "stdout",
          "text": [
            "0 1 1 2 3 5 8 13 21 "
          ]
        }
      ]
    },
    {
      "cell_type": "markdown",
      "metadata": {
        "id": "Z0p6wHyB9jm8"
      },
      "source": [
        "## Solution (recursive w/o hash table)"
      ]
    },
    {
      "cell_type": "code",
      "metadata": {
        "id": "-4jqwIv39pjG"
      },
      "source": [
        "# Time: O(2^n), Space: O(n)\n",
        "def getNthFib(n):\n",
        "  # Write your code here.\n",
        "  if n == 1:\n",
        "    return 0\n",
        "  elif n == 2:\n",
        "    return 1\n",
        "  else:\n",
        "    return getNthFib(n - 1) + getNthFib(n - 2)"
      ],
      "execution_count": 4,
      "outputs": []
    },
    {
      "cell_type": "code",
      "metadata": {
        "colab": {
          "base_uri": "https://localhost:8080/"
        },
        "id": "fTlsThMu94rt",
        "outputId": "9fff01ea-6006-42d0-a031-f36c3775f93c"
      },
      "source": [
        "getNthFib(5)"
      ],
      "execution_count": 5,
      "outputs": [
        {
          "output_type": "execute_result",
          "data": {
            "text/plain": [
              "3"
            ]
          },
          "metadata": {},
          "execution_count": 5
        }
      ]
    },
    {
      "cell_type": "markdown",
      "metadata": {
        "id": "RWBbO75Y-JQd"
      },
      "source": [
        "## Solution (recurive w/ hash table)"
      ]
    },
    {
      "cell_type": "code",
      "metadata": {
        "id": "Q6h-ZOpp-bp1"
      },
      "source": [
        "def getNthFib(n, memoize={1:0, 2:1}):\n",
        "  # Write your code here.\n",
        "  if n not in memoize:\n",
        "    memoize[n] = getNthFib(n - 1, memoize) +  getNthFib(n - 2, memoize)\n",
        "  \n",
        "  return memoize[n]"
      ],
      "execution_count": 6,
      "outputs": []
    },
    {
      "cell_type": "code",
      "metadata": {
        "colab": {
          "base_uri": "https://localhost:8080/"
        },
        "id": "7TY68Lk9_LWg",
        "outputId": "0d227083-9612-4910-bd10-8b125c1b11f1"
      },
      "source": [
        "getNthFib(5)"
      ],
      "execution_count": 7,
      "outputs": [
        {
          "output_type": "execute_result",
          "data": {
            "text/plain": [
              "3"
            ]
          },
          "metadata": {},
          "execution_count": 7
        }
      ]
    }
  ]
}