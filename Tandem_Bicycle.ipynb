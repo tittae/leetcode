{
  "nbformat": 4,
  "nbformat_minor": 0,
  "metadata": {
    "colab": {
      "name": "Tandem Bicycle.ipynb",
      "provenance": [],
      "authorship_tag": "ABX9TyNT2VVafXo0PCTw9WbrIHws",
      "include_colab_link": true
    },
    "kernelspec": {
      "name": "python3",
      "display_name": "Python 3"
    },
    "language_info": {
      "name": "python"
    }
  },
  "cells": [
    {
      "cell_type": "markdown",
      "metadata": {
        "id": "view-in-github",
        "colab_type": "text"
      },
      "source": [
        "<a href=\"https://colab.research.google.com/github/tittae/leetcode/blob/main/Tandem_Bicycle.ipynb\" target=\"_parent\"><img src=\"https://colab.research.google.com/assets/colab-badge.svg\" alt=\"Open In Colab\"/></a>"
      ]
    },
    {
      "cell_type": "markdown",
      "metadata": {
        "id": "xlyIGgHoWAmQ"
      },
      "source": [
        "# Tandem Bicycle"
      ]
    },
    {
      "cell_type": "markdown",
      "metadata": {
        "id": "_rnJU3izWCBO"
      },
      "source": [
        "A tandem bicycle is a bicycle that's operated by two people: person A and person B. Both people pedal the bicycle, but the person that pedals faster dictates the speed of the bicycle. So if person A pedals at a speed of 5, and person B pedals at a speed of 4, the tandem bicycle moves at a speed of 5 (i.e., tandemSpeed = max(speedA, speedB)).\n",
        "\n",
        "You're given two lists of positive integers: one that contains the speeds of riders wearing red shirts and one that contains the speeds of riders wearing blue shirts. Each rider is represented by a single positive integer, which is the speed that they pedal a tandem bicycle at. Both lists have the same length, meaning that there are as many red-shirt riders as there are blue-shirt riders. Your goal is to pair every rider wearing a red shirt with a rider wearing a blue shirt to operate a tandem bicycle.\n",
        "\n",
        "Write a function that returns the maximum possible total speed or the minimum possible total speed of all of the tandem bicycles being ridden based on an input parameter, fastest. If fastest = true, your function should return the maximum possible total speed; otherwise it should return the minimum total speed.\n",
        "\n",
        "\"Total speed\" is defined as the sum of the speeds of all the tandem bicycles being ridden. For example, if there are 4 riders (2 red-shirt riders and 2 blue-shirt riders) who have speeds of 1, 3, 4, 5, and if they're paired on tandem bicycles as follows: [1, 4], [5, 3], then the total speed of these tandem bicycles is 4 + 5 = 9."
      ]
    },
    {
      "cell_type": "markdown",
      "metadata": {
        "id": "vOktVulrWElF"
      },
      "source": [
        "Sample Input\n",
        "\n",
        "```\n",
        "redShirtSpeeds = [5, 5, 3, 9, 2]\n",
        "blueShirtSpeeds = [3, 6, 7, 2, 1] \n",
        "fastest = true\n",
        "```\n",
        "\n"
      ]
    },
    {
      "cell_type": "markdown",
      "metadata": {
        "id": "B4kmmCEpWJXW"
      },
      "source": [
        "Sample Output\n",
        "\n",
        "```\n",
        "32\n",
        "```\n",
        "\n"
      ]
    },
    {
      "cell_type": "markdown",
      "metadata": {
        "id": "UuNwOl7OYy8n"
      },
      "source": [
        "## Solution"
      ]
    },
    {
      "cell_type": "code",
      "metadata": {
        "id": "qCAkYQVNU5NM"
      },
      "source": [
        "# Time: O(nlog(n)), Space: O(1)\n",
        "\n",
        "def tandemBicycle(redShirtSpeeds, blueShirtSpeeds, fastest):\n",
        "\t# Write your code here.\n",
        "\tredShirtSpeeds.sort()\n",
        "\tblueShirtSpeeds.sort()\n",
        "\t\n",
        "\tif fastest:\n",
        "\t\treverse_array_inplace(blueShirtSpeeds)\n",
        "\n",
        "\tspeed_sums = 0\n",
        "\n",
        "\tfor i in range(len(redShirtSpeeds)):\n",
        "\t\tspeed_sums += max(redShirtSpeeds[i], blueShirtSpeeds[i])\n",
        "\t\n",
        "\t\n",
        "\treturn speed_sums\n",
        "\n",
        "def reverse_array_inplace(array):\n",
        "\tleft = 0\n",
        "\tright = len(array) - 1\n",
        "\twhile left < right:\n",
        "\t\tarray[left], array[right] = array[right], array[left]\n",
        "\t\tleft += 1\n",
        "\t\tright -= 1"
      ],
      "execution_count": 1,
      "outputs": []
    },
    {
      "cell_type": "code",
      "metadata": {
        "id": "xYF0vrDiYn-n"
      },
      "source": [
        "redShirtSpeeds = [5, 5, 3, 9, 2]\n",
        "blueShirtSpeeds = [3, 6, 7, 2, 1] \n",
        "fastest = True"
      ],
      "execution_count": 2,
      "outputs": []
    },
    {
      "cell_type": "code",
      "metadata": {
        "colab": {
          "base_uri": "https://localhost:8080/"
        },
        "id": "phUZGLeIYpqI",
        "outputId": "63468f02-f0ef-4efb-8119-d6f3821df7a5"
      },
      "source": [
        "print(tandemBicycle(redShirtSpeeds, blueShirtSpeeds, fastest))"
      ],
      "execution_count": 3,
      "outputs": [
        {
          "output_type": "stream",
          "name": "stdout",
          "text": [
            "32\n"
          ]
        }
      ]
    }
  ]
}