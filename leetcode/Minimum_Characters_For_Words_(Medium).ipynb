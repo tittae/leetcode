{
  "cells": [
    {
      "cell_type": "markdown",
      "metadata": {
        "colab_type": "text",
        "id": "view-in-github"
      },
      "source": [
        "<a href=\"https://colab.research.google.com/github/wisarootl/leetcode/blob/main/Minimum_Characters_For_Words_(Medium).ipynb\" target=\"_parent\"><img src=\"https://colab.research.google.com/assets/colab-badge.svg\" alt=\"Open In Colab\"/></a>"
      ]
    },
    {
      "cell_type": "markdown",
      "metadata": {
        "id": "-jlYbjubohA7"
      },
      "source": [
        "# Minimum Characters For Words"
      ]
    },
    {
      "cell_type": "markdown",
      "metadata": {
        "id": "ITK8j4-2oiDc"
      },
      "source": [
        "Write a function that takes in an array of words and returns the smallest array of characters needed to form all of the words. The characters don't need to be in any particular order.\n",
        "\n",
        "For example, the characters `[\"y\", \"r\", \"o\", \"u\"]` are needed to form the words `[\"your\", \"you\", \"or\", \"yo\"]`.\n",
        "\n",
        "Note: the input words won't contain any spaces; however, they might contain punctuation and/or special characters."
      ]
    },
    {
      "cell_type": "markdown",
      "metadata": {
        "id": "AmCqOfIPokea"
      },
      "source": [
        "Sample Input\n",
        "\n",
        "```\n",
        "words = [\"this\", \"that\", \"did\", \"deed\", \"them!\", \"a\"]\n",
        "```\n",
        "\n"
      ]
    },
    {
      "cell_type": "markdown",
      "metadata": {
        "id": "oR9AUs9pom1J"
      },
      "source": [
        "Sample Output\n",
        "\n",
        "```\n",
        "[\"t\", \"t\", \"h\", \"i\", \"s\", \"a\", \"d\", \"d\", \"e\", \"e\", \"m\", \"!\"]\n",
        "// The characters could be ordered differently.\n",
        "```\n",
        "\n"
      ]
    },
    {
      "cell_type": "code",
      "execution_count": 1,
      "metadata": {
        "id": "Qd1Y3cftjs0e"
      },
      "outputs": [],
      "source": [
        "# Time O(w*l)\n",
        "# Space O(c)\n",
        "# w = # of word\n",
        "# l = len(longest word)\n",
        "# c = min char for all word\n",
        "\n",
        "def minimumCharactersForWords(words):\n",
        "  chars_count_all_words = {}\n",
        "  min_chars = []\n",
        "  for word in words:\n",
        "    chars_count = {}\n",
        "    for char in word:\n",
        "      if char not in chars_count:\n",
        "        chars_count[char] = 0\n",
        "      chars_count[char] += 1\n",
        "\n",
        "    for char, count in chars_count.items():\n",
        "      if char not in chars_count_all_words:\n",
        "        chars_count_all_words[char] = 0\n",
        "      chars_count_all_words[char] = max(chars_count_all_words[char], count)\n",
        "\n",
        "  for char, count in chars_count_all_words.items():\n",
        "    min_chars = min_chars + [char] * count\n",
        "  return min_chars"
      ]
    },
    {
      "cell_type": "code",
      "execution_count": 2,
      "metadata": {
        "colab": {
          "base_uri": "https://localhost:8080/"
        },
        "id": "84WQ6s2ykN6M",
        "outputId": "e5ac0e7e-c1fd-4652-d53f-3f9c4f7b25b2"
      },
      "outputs": [
        {
          "data": {
            "text/plain": [
              "['t', 't', 'h', 'i', 's', 'a', 'd', 'd', 'e', 'e', 'm', '!']"
            ]
          },
          "execution_count": 2,
          "metadata": {},
          "output_type": "execute_result"
        }
      ],
      "source": [
        "words = [\"this\", \"that\", \"did\", \"deed\", \"them!\", \"a\"]\n",
        "minimumCharactersForWords(words)"
      ]
    }
  ],
  "metadata": {
    "colab": {
      "authorship_tag": "ABX9TyNW1kk2KDM53q8HkBNo35SC",
      "collapsed_sections": [],
      "include_colab_link": true,
      "name": "Minimum Characters For Words (Medium).ipynb",
      "provenance": []
    },
    "kernelspec": {
      "display_name": "Python 3.10.8 64-bit (microsoft store)",
      "language": "python",
      "name": "python3"
    },
    "language_info": {
      "codemirror_mode": {
        "name": "ipython",
        "version": 3
      },
      "file_extension": ".py",
      "mimetype": "text/x-python",
      "name": "python",
      "nbconvert_exporter": "python",
      "pygments_lexer": "ipython3",
      "version": "3.10.8"
    },
    "vscode": {
      "interpreter": {
        "hash": "3822405be9f5fb329f7270cbdcf73e762c62b3f383c5e71390a1a4648678c1cb"
      }
    }
  },
  "nbformat": 4,
  "nbformat_minor": 0
}
