{
  "nbformat": 4,
  "nbformat_minor": 0,
  "metadata": {
    "colab": {
      "name": "Longest Increasing Subsequence (Very Hard).ipynb",
      "provenance": [],
      "authorship_tag": "ABX9TyN7gpEwZCgWppRt67zCWR7a",
      "include_colab_link": true
    },
    "kernelspec": {
      "name": "python3",
      "display_name": "Python 3"
    },
    "language_info": {
      "name": "python"
    }
  },
  "cells": [
    {
      "cell_type": "markdown",
      "metadata": {
        "id": "view-in-github",
        "colab_type": "text"
      },
      "source": [
        "<a href=\"https://colab.research.google.com/github/wisarootl/leetcode/blob/main/Longest_Increasing_Subsequence_(Very_Hard).ipynb\" target=\"_parent\"><img src=\"https://colab.research.google.com/assets/colab-badge.svg\" alt=\"Open In Colab\"/></a>"
      ]
    },
    {
      "cell_type": "markdown",
      "metadata": {
        "id": "Ue74UKR_h2tf"
      },
      "source": [
        "# Longest Increasing Subsequence"
      ]
    },
    {
      "cell_type": "markdown",
      "metadata": {
        "id": "w7kOqYWKh4Jx"
      },
      "source": [
        "Given a non-empty array of integers, write a function that returns the longest strictly-increasing subsequence in the array.\n",
        "\n",
        "A subsequence of an array is a set of numbers that aren't necessarily adjacent in the array but that are in the same order as they appear in the array. For instance, the numbers `[1, 3, 4]` form a subsequence of the array `[1, 2, 3, 4]`, and so do the numbers `[2, 4]`. Note that a single number in an array and the array itself are both valid subsequences of the array.\n",
        "\n",
        "You can assume that there will only be one longest increasing subsequence."
      ]
    },
    {
      "cell_type": "markdown",
      "metadata": {
        "id": "FeDUxhVAh9ei"
      },
      "source": [
        "Sample Input\n",
        "\n",
        "```\n",
        "array = [5, 7, -24, 12, 10, 2, 3, 12, 5, 6, 35]\n",
        "```\n",
        "\n"
      ]
    },
    {
      "cell_type": "markdown",
      "metadata": {
        "id": "4xLHzzWth_1i"
      },
      "source": [
        "Sample Output\n",
        "\n",
        "```\n",
        "[-24, 2, 3, 5, 6, 35]\n",
        "```\n",
        "\n"
      ]
    },
    {
      "cell_type": "code",
      "metadata": {
        "id": "iEiIHm5kh0K6"
      },
      "source": [
        "def longestIncreasingSubsequence(array):\n",
        "  lenghts = [1 for _ in range(len(array))]\n",
        "  previous_indexes = [None for _ in range(len(array))]\n",
        "  max_lenght = 0\n",
        "\n",
        "  for row in range(len(array)):\n",
        "    for col in range(row):\n",
        "      if array[row] > array[col] and lenghts[col] + 1 > lenghts[row]:\n",
        "        lenghts[row] = lenghts[col] + 1\n",
        "        previous_indexes[row] = col\n",
        "        max_lenght = max(max_lenght, lenghts[row])\n",
        "\n",
        "  return get_subsequence(lenghts, previous_indexes, array, max_lenght)\n",
        "\n",
        "def get_subsequence(lenghts, previous_indexes, array, max_lenght):\n",
        "  subsequence = []\n",
        "  for i in range(len(lenghts)):\n",
        "    if max_lenght == lenghts[i]:\n",
        "      break\n",
        "\n",
        "  while previous_indexes[i] != None:\n",
        "    subsequence.append(array[i])\n",
        "    i = previous_indexes[i]\n",
        "\n",
        "  subsequence.append(array[i])\n",
        "  return list(reversed(subsequence))"
      ],
      "execution_count": 1,
      "outputs": []
    },
    {
      "cell_type": "code",
      "metadata": {
        "colab": {
          "base_uri": "https://localhost:8080/"
        },
        "id": "wJhyIvbWiFFi",
        "outputId": "7cfcf315-2f80-4192-f71e-08a1727b3144"
      },
      "source": [
        "array = [5, 7, -24, 12, 10, 2, 3, 12, 5, 6, 35]\n",
        "print(longestIncreasingSubsequence(array))"
      ],
      "execution_count": 2,
      "outputs": [
        {
          "output_type": "stream",
          "name": "stdout",
          "text": [
            "[-24, 2, 3, 5, 6, 35]\n"
          ]
        }
      ]
    },
    {
      "cell_type": "code",
      "metadata": {
        "colab": {
          "base_uri": "https://localhost:8080/"
        },
        "id": "-P_bwRMK-Eg9",
        "outputId": "2898b9ca-1542-4ce0-d176-2aef3b2f232f"
      },
      "source": [
        "array = [3, 4, -1]\n",
        "print(longestIncreasingSubsequence(array))"
      ],
      "execution_count": 3,
      "outputs": [
        {
          "output_type": "stream",
          "name": "stdout",
          "text": [
            "[3, 4]\n"
          ]
        }
      ]
    }
  ]
}