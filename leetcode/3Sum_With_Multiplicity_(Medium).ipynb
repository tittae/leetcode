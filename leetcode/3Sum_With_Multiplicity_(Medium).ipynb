{
  "nbformat": 4,
  "nbformat_minor": 0,
  "metadata": {
    "colab": {
      "name": "3Sum With Multiplicity (Medium).ipynb",
      "provenance": [],
      "authorship_tag": "ABX9TyO0ZHnzuGrzRgji6khBw+fQ",
      "include_colab_link": true
    },
    "kernelspec": {
      "name": "python3",
      "display_name": "Python 3"
    },
    "language_info": {
      "name": "python"
    }
  },
  "cells": [
    {
      "cell_type": "markdown",
      "metadata": {
        "id": "view-in-github",
        "colab_type": "text"
      },
      "source": [
        "<a href=\"https://colab.research.google.com/github/wisarootl/leetcode/blob/main/3Sum_With_Multiplicity_(Medium).ipynb\" target=\"_parent\"><img src=\"https://colab.research.google.com/assets/colab-badge.svg\" alt=\"Open In Colab\"/></a>"
      ]
    },
    {
      "cell_type": "markdown",
      "source": [
        "# 3Sum With Multiplicity"
      ],
      "metadata": {
        "id": "Cqw_BgHNfIYp"
      }
    },
    {
      "cell_type": "markdown",
      "source": [
        "Given an integer array arr, and an integer target, return the number of tuples i, j, k such that i < j < k and arr[i] + arr[j] + arr[k] == target.\n",
        "\n",
        "As the answer can be very large, return it modulo 10**9 + 7."
      ],
      "metadata": {
        "id": "lnYaJOjnfGfd"
      }
    },
    {
      "cell_type": "markdown",
      "source": [
        "Example 1:\n",
        "\n",
        "```\n",
        "Input: arr = [1,1,2,2,3,3,4,4,5,5], target = 8\n",
        "Output: 20\n",
        "Explanation: \n",
        "Enumerating by the values (arr[i], arr[j], arr[k]):\n",
        "(1, 2, 5) occurs 8 times;\n",
        "(1, 3, 4) occurs 8 times;\n",
        "(2, 2, 4) occurs 2 times;\n",
        "(2, 3, 3) occurs 2 times.\n",
        "```\n",
        "\n"
      ],
      "metadata": {
        "id": "6F_1-0A-fKgR"
      }
    },
    {
      "cell_type": "markdown",
      "source": [
        "Example 2:\n",
        "\n",
        "```\n",
        "Input: arr = [1,1,2,2,2,2], target = 5\n",
        "Output: 12\n",
        "Explanation: \n",
        "arr[i] = 1, arr[j] = arr[k] = 2 occurs 12 times:\n",
        "We choose one 1 from [1,1] in 2 ways,\n",
        "and two 2s from [2,2,2,2] in 6 ways.\n",
        "```\n",
        "\n"
      ],
      "metadata": {
        "id": "hTBG3yUwfNIQ"
      }
    },
    {
      "cell_type": "markdown",
      "source": [
        "# Solution 1: Three Pointers"
      ],
      "metadata": {
        "id": "5LzFbKKofQOr"
      }
    },
    {
      "cell_type": "code",
      "execution_count": 1,
      "metadata": {
        "id": "UYjTT9ygatQ1"
      },
      "outputs": [],
      "source": [
        "# Time O(N^2)\n",
        "# Space O(1)\n",
        "\n",
        "class Solution:\n",
        "    def threeSumMulti(self, arr, target):\n",
        "        mod = 10**9 + 7\n",
        "        ans = 0\n",
        "        arr.sort()\n",
        "        \n",
        "        for i in range(len(arr)):\n",
        "            remaining = target - arr[i]\n",
        "            j = i + 1\n",
        "            k = len(arr) - 1\n",
        "            while j < k:\n",
        "                if arr[j] + arr[k] < remaining:\n",
        "                    j += 1\n",
        "                elif arr[j] + arr[k] > remaining:\n",
        "                    k -= 1\n",
        "                elif arr[j] != arr[k]:\n",
        "                    left = 1\n",
        "                    right = 1\n",
        "                    while j + 1 < k and arr[j] == arr[j + 1]:\n",
        "                        left += 1\n",
        "                        j += 1\n",
        "                    \n",
        "                    while k - 1 > j and arr[k] == arr[k - 1]:\n",
        "                        right += 1\n",
        "                        k -= 1\n",
        "                    \n",
        "                    ans += left * right\n",
        "                    j += 1\n",
        "                    k -= 1\n",
        "                else:\n",
        "                    ans += (k - j + 1) * (k - j) / 2\n",
        "                    break\n",
        "                    \n",
        "        return int(ans % mod)"
      ]
    },
    {
      "cell_type": "code",
      "source": [
        "arr = [1,1,2,2,3,3,4,4,5,5]\n",
        "target = 8\n",
        "expected = 20\n",
        "\n",
        "output = Solution().threeSumMulti(arr, target)\n",
        "print(output)\n",
        "assert output == expected"
      ],
      "metadata": {
        "colab": {
          "base_uri": "https://localhost:8080/"
        },
        "id": "WVP2PHasfWAN",
        "outputId": "56f521f7-e367-4568-a02f-fbc10244a456"
      },
      "execution_count": 2,
      "outputs": [
        {
          "output_type": "stream",
          "name": "stdout",
          "text": [
            "20\n"
          ]
        }
      ]
    },
    {
      "cell_type": "code",
      "source": [
        "arr = [1,1,2,2,2,2]\n",
        "target = 5\n",
        "expected = 12\n",
        "\n",
        "output = Solution().threeSumMulti(arr, target)\n",
        "print(output)\n",
        "assert output == expected"
      ],
      "metadata": {
        "colab": {
          "base_uri": "https://localhost:8080/"
        },
        "id": "b3E_XXzSfkRm",
        "outputId": "cdaf39ac-cd01-49af-d250-563e003c6907"
      },
      "execution_count": 3,
      "outputs": [
        {
          "output_type": "stream",
          "name": "stdout",
          "text": [
            "12\n"
          ]
        }
      ]
    },
    {
      "cell_type": "markdown",
      "source": [
        "# Solution 2"
      ],
      "metadata": {
        "id": "hxFsjfO8fpao"
      }
    },
    {
      "cell_type": "code",
      "source": [
        "import collections\n",
        "import itertools\n",
        "\n",
        "\n",
        "# Time = O(N + W^2)\n",
        "# Sapce = O(W)\n",
        "\n",
        "# W = distint value in arr. Therefore W is bounded by N.\n",
        "class Solution:\n",
        "    def threeSumMulti(self, A, target):\n",
        "        c = collections.Counter(A)\n",
        "        res = 0\n",
        "        for i, j in itertools.combinations_with_replacement(c, 2):\n",
        "            k = target - i - j\n",
        "            if i == j == k: \n",
        "              res += c[i] * (c[i] - 1) * (c[i] - 2) / 6\n",
        "              # combincation (n choose 3) = (n)!/(3)!(n-3)! = n(n-1)(n-2) / 6\n",
        "            elif i == j != k: \n",
        "              res += c[i] * (c[i] - 1) / 2 * c[k]\n",
        "              # combincation (n choos 2) = n!/2!(n-2)! = n(n-1)/2\n",
        "            elif k > i and k > j: \n",
        "              res += c[i] * c[j] * c[k]\n",
        "\n",
        "        return int(res % (10**9 + 7))"
      ],
      "metadata": {
        "id": "P8T1I9Tnf0Rx"
      },
      "execution_count": 4,
      "outputs": []
    },
    {
      "cell_type": "code",
      "source": [
        "arr = [1,1,2,2,3,3,4,4,5,5]\n",
        "target = 8\n",
        "expected = 20\n",
        "\n",
        "output = Solution().threeSumMulti(arr, target)\n",
        "print(output)\n",
        "assert output == expected"
      ],
      "metadata": {
        "colab": {
          "base_uri": "https://localhost:8080/"
        },
        "id": "FxE75atdf3Oi",
        "outputId": "28a42b72-36fc-4ca1-fb4f-884eebf00fce"
      },
      "execution_count": 5,
      "outputs": [
        {
          "output_type": "stream",
          "name": "stdout",
          "text": [
            "20\n"
          ]
        }
      ]
    },
    {
      "cell_type": "code",
      "source": [
        "arr = [1,1,2,2,2,2]\n",
        "target = 5\n",
        "expected = 12\n",
        "\n",
        "output = Solution().threeSumMulti(arr, target)\n",
        "print(output)\n",
        "assert output == expected"
      ],
      "metadata": {
        "colab": {
          "base_uri": "https://localhost:8080/"
        },
        "id": "PqqOk3ingBT1",
        "outputId": "68d7b2dc-7471-4f81-876a-77c9900e71ea"
      },
      "execution_count": 6,
      "outputs": [
        {
          "output_type": "stream",
          "name": "stdout",
          "text": [
            "12\n"
          ]
        }
      ]
    }
  ]
}