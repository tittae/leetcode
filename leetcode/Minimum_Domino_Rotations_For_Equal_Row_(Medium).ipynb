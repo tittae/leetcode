{
  "nbformat": 4,
  "nbformat_minor": 0,
  "metadata": {
    "colab": {
      "name": "Minimum Domino Rotations For Equal Row (Medium).ipynb",
      "provenance": [],
      "authorship_tag": "ABX9TyNhCrvIWiI+kPtOhGPGNn4S",
      "include_colab_link": true
    },
    "kernelspec": {
      "name": "python3",
      "display_name": "Python 3"
    },
    "language_info": {
      "name": "python"
    }
  },
  "cells": [
    {
      "cell_type": "markdown",
      "metadata": {
        "id": "view-in-github",
        "colab_type": "text"
      },
      "source": [
        "<a href=\"https://colab.research.google.com/github/wisarootl/leetcode/blob/main/Minimum_Domino_Rotations_For_Equal_Row_(Medium).ipynb\" target=\"_parent\"><img src=\"https://colab.research.google.com/assets/colab-badge.svg\" alt=\"Open In Colab\"/></a>"
      ]
    },
    {
      "cell_type": "markdown",
      "source": [
        "# Minimum Domino Rotations For Equal Row"
      ],
      "metadata": {
        "id": "_30td6sKCsBN"
      }
    },
    {
      "cell_type": "markdown",
      "source": [
        "In a row of dominoes, tops[i] and bottoms[i] represent the top and bottom halves of the ith domino. (A domino is a tile with two numbers from 1 to 6 - one on each half of the tile.)\n",
        "\n",
        "We may rotate the ith domino, so that tops[i] and bottoms[i] swap values.\n",
        "\n",
        "Return the minimum number of rotations so that all the values in tops are the same, or all the values in bottoms are the same.\n",
        "\n",
        "If it cannot be done, return -1."
      ],
      "metadata": {
        "id": "729-fO4jCs6H"
      }
    },
    {
      "cell_type": "markdown",
      "source": [
        "https://leetcode.com/problems/minimum-domino-rotations-for-equal-row/"
      ],
      "metadata": {
        "id": "3cqlUlrpCvH6"
      }
    },
    {
      "cell_type": "markdown",
      "source": [
        "Example 1:\n",
        "\n",
        "```\n",
        "Input: tops = [2,1,2,4,2,2], bottoms = [5,2,6,2,3,2]\n",
        "Output: 2\n",
        "Explanation: \n",
        "The first figure represents the dominoes as given by tops and bottoms: before we do any rotations.\n",
        "If we rotate the second and fourth dominoes, we can make every value in the top row equal to 2, as indicated by the second figure.\n",
        "```\n",
        "\n"
      ],
      "metadata": {
        "id": "BE6XYlYKCzVp"
      }
    },
    {
      "cell_type": "markdown",
      "source": [
        "Example 2:\n",
        "\n",
        "```\n",
        "Input: tops = [3,5,1,2,3], bottoms = [3,6,3,3,4]\n",
        "Output: -1\n",
        "Explanation: \n",
        "In this case, it is not possible to rotate the dominoes to make one row of values equal.\n",
        "```\n",
        "\n"
      ],
      "metadata": {
        "id": "-I-SjcgSC2dC"
      }
    },
    {
      "cell_type": "markdown",
      "source": [
        "Constraints:\n",
        "\n",
        "```\n",
        "2 <= tops.length <= 2 * 104\n",
        "bottoms.length == tops.length\n",
        "1 <= tops[i], bottoms[i] <= 6\n",
        "```\n",
        "\n"
      ],
      "metadata": {
        "id": "pnLALtr1C7Ey"
      }
    },
    {
      "cell_type": "code",
      "execution_count": 1,
      "metadata": {
        "id": "0dUwsqofCmuC"
      },
      "outputs": [],
      "source": [
        "# Time O(N)\n",
        "# Space O(1)\n",
        "\n",
        "class Solution:\n",
        "    def minDominoRotations(self, tops, bottoms):\n",
        "        rotation_count1 = minDominoRotations_helper(tops[0], tops, bottoms)\n",
        "        rotation_count2 = minDominoRotations_helper(bottoms[0], tops, bottoms)\n",
        "        min_rotation_count = min(rotation_count1, rotation_count2)\n",
        "        return min_rotation_count if min_rotation_count != float('inf') else -1\n",
        "        \n",
        "def minDominoRotations_helper(value, tops, bottom):\n",
        "    count_top = 0\n",
        "    count_bottom = 0\n",
        "    for idx in range(len(tops)):\n",
        "        if value == tops[idx] and value == bottom[idx]:\n",
        "            continue\n",
        "        elif value == tops[idx]:\n",
        "            count_top += 1\n",
        "        elif value == bottom[idx]:\n",
        "            count_bottom += 1\n",
        "        else:\n",
        "            return float('inf')\n",
        "    return min(count_top, count_bottom)"
      ]
    },
    {
      "cell_type": "code",
      "source": [
        "tops = [2,1,2,4,2,2]\n",
        "bottoms = [5,2,6,2,3,2]\n",
        "expected = 2\n",
        "\n",
        "output = Solution().minDominoRotations(tops, bottoms)\n",
        "print(output)\n",
        "assert output == expected"
      ],
      "metadata": {
        "colab": {
          "base_uri": "https://localhost:8080/"
        },
        "id": "PFSULjvWCxk7",
        "outputId": "b3489f95-a191-4be4-82e5-3375b54b4626"
      },
      "execution_count": 2,
      "outputs": [
        {
          "output_type": "stream",
          "name": "stdout",
          "text": [
            "2\n"
          ]
        }
      ]
    },
    {
      "cell_type": "code",
      "source": [
        "tops = [3,5,1,2,3]\n",
        "bottoms = [3,6,3,3,4]\n",
        "expected = -1\n",
        "\n",
        "output = Solution().minDominoRotations(tops, bottoms)\n",
        "print(output)\n",
        "assert output == expected"
      ],
      "metadata": {
        "colab": {
          "base_uri": "https://localhost:8080/"
        },
        "id": "OXW7WmqEDMKd",
        "outputId": "97f0fb84-e04f-44ae-f44d-e1e667ad6115"
      },
      "execution_count": 3,
      "outputs": [
        {
          "output_type": "stream",
          "name": "stdout",
          "text": [
            "-1\n"
          ]
        }
      ]
    }
  ]
}