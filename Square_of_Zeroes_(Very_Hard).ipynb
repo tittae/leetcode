{
  "nbformat": 4,
  "nbformat_minor": 0,
  "metadata": {
    "colab": {
      "name": "Square of Zeroes (Very Hard).ipynb",
      "provenance": [],
      "collapsed_sections": [],
      "authorship_tag": "ABX9TyNxh9xbkrIV9cILgulp9HE4",
      "include_colab_link": true
    },
    "kernelspec": {
      "name": "python3",
      "display_name": "Python 3"
    },
    "language_info": {
      "name": "python"
    }
  },
  "cells": [
    {
      "cell_type": "markdown",
      "metadata": {
        "id": "view-in-github",
        "colab_type": "text"
      },
      "source": [
        "<a href=\"https://colab.research.google.com/github/wisarootl/leetcode/blob/main/Square_of_Zeroes_(Very_Hard).ipynb\" target=\"_parent\"><img src=\"https://colab.research.google.com/assets/colab-badge.svg\" alt=\"Open In Colab\"/></a>"
      ]
    },
    {
      "cell_type": "code",
      "metadata": {
        "id": "sp6Is85X7AgK"
      },
      "source": [
        "def squareOfZeroes(matrix):\n",
        "\tpotential_square_from_valid_rows = set()\n",
        "\t\n",
        "\t# identify valid rows\n",
        "\tfor i in range(len(matrix)):\n",
        "\t\tfor j in range(i, len(matrix)):\n",
        "\t\t\tsquare_size = j - i + 1\n",
        "\t\t\tfor k in range(len(matrix[0]) - square_size + 1):\n",
        "\t\t\t\tif matrix[i][k:square_size] == [0] * square_size and matrix[j][k:square_size] == [0] * square_size:\n",
        "\t\t\t\t\tpotential_square_from_valid_rows.add((i, j, k, k + square_size - 1))\n",
        "\n",
        "\t# check valid col\n",
        "\tfor potential_square in potential_square_from_valid_rows:\n",
        "\t\trow1 = potential_square[0]\n",
        "\t\trow2 = potential_square[1]\n",
        "\t\tcol1 = potential_square[2]\n",
        "\t\tcol2 = potential_square[3]\n",
        "\t\tfor row in range(row1, row2 + 1):\n",
        "\t\t\tif matrix[row][col1] != 0 or matrix[row][col1] != 0:\n",
        "\t\t\t\tbreak\n",
        "\t\treturn True\n",
        "\treturn False"
      ],
      "execution_count": 9,
      "outputs": []
    },
    {
      "cell_type": "code",
      "metadata": {
        "colab": {
          "base_uri": "https://localhost:8080/"
        },
        "id": "MgbOhZ3n7Fjw",
        "outputId": "5d8490d5-8eed-4075-f46f-df4ff2a3eec3"
      },
      "source": [
        "matrix = [\n",
        "  [1, 1, 1, 0, 1, 0],\n",
        "  [0, 0, 0, 0, 0, 1],\n",
        "  [0, 1, 1, 1, 0, 1],\n",
        "  [0, 0, 0, 1, 0, 1],\n",
        "  [0, 1, 1, 1, 0, 1],\n",
        "  [0, 0, 0, 0, 0, 1],\n",
        "]\n",
        "print(squareOfZeroes(matrix))"
      ],
      "execution_count": 10,
      "outputs": [
        {
          "output_type": "stream",
          "name": "stdout",
          "text": [
            "True\n"
          ]
        }
      ]
    },
    {
      "cell_type": "code",
      "metadata": {
        "id": "oLZDFL-59bbO"
      },
      "source": [
        "matrix = [\n",
        "    [0, 1],\n",
        "    [0, 0]\n",
        "]"
      ],
      "execution_count": null,
      "outputs": []
    }
  ]
}