{
  "nbformat": 4,
  "nbformat_minor": 0,
  "metadata": {
    "colab": {
      "name": "Min Heap Construction (Medium).ipynb",
      "provenance": [],
      "collapsed_sections": [],
      "authorship_tag": "ABX9TyPCBZb9HzZVh1NgBHS/bAfz",
      "include_colab_link": true
    },
    "kernelspec": {
      "name": "python3",
      "display_name": "Python 3"
    },
    "language_info": {
      "name": "python"
    }
  },
  "cells": [
    {
      "cell_type": "markdown",
      "metadata": {
        "id": "view-in-github",
        "colab_type": "text"
      },
      "source": [
        "<a href=\"https://colab.research.google.com/github/wisarootl/leetcode/blob/main/Min_Heap_Construction_(Medium).ipynb\" target=\"_parent\"><img src=\"https://colab.research.google.com/assets/colab-badge.svg\" alt=\"Open In Colab\"/></a>"
      ]
    },
    {
      "cell_type": "code",
      "source": [
        "# Do not edit the class below except for the buildHeap,\n",
        "# siftDown, siftUp, peek, remove, and insert methods.\n",
        "# Feel free to add new properties and methods to the class.\n",
        "class MinHeap:\n",
        "  def __init__(self, array):\n",
        "    self.heap = self.buildHeap(array)\n",
        "\n",
        "  # time = O(n), space = O(1)\n",
        "  def buildHeap(self, array):\n",
        "    first_parent_idx = (len(array) - 2) // 2\n",
        "    for idx in reversed(range(first_parent_idx + 1)):\n",
        "      self.siftDown(idx, array)\n",
        "    return array\n",
        "\n",
        "  # time = O(log n), space = O(1)\n",
        "  def siftDown(self, idx, heap):\n",
        "    child_one_idx = (2 * idx) + 1\n",
        "    child_two_idx = (2 * idx) + 2\n",
        "    end_idx = len(heap) - 1\n",
        "    while child_one_idx <= end_idx:\n",
        "      if child_two_idx <= end_idx and heap[child_one_idx] > heap[child_two_idx]:\n",
        "        idx_to_swap = child_two_idx\n",
        "      else:\n",
        "        idx_to_swap = child_one_idx\n",
        "      if heap[idx_to_swap] < heap[idx]:\n",
        "        heap[idx_to_swap], heap[idx] = heap[idx], heap[idx_to_swap]\n",
        "        idx = idx_to_swap\n",
        "        child_one_idx = (2 * idx) + 1\n",
        "        child_two_idx = (2 * idx) + 2\n",
        "      else:\n",
        "        return\n",
        "\n",
        "  # time = O(log n), space = O(1)\n",
        "  def siftUp(self, idx, heap):\n",
        "    parent_idx = (idx - 1) // 2\n",
        "    while idx > 0 and heap[idx] < heap[parent_idx]:\n",
        "      heap[idx], heap[parent_idx] = heap[parent_idx], heap[idx]\n",
        "      idx = parent_idx\n",
        "      parent_idx = (idx - 1) // 2\n",
        "\n",
        "  # time = O(1), space = O(1)\n",
        "  def peek(self):\n",
        "    return self.heap[0]\n",
        "\n",
        "  # time = O(log n), space = O(1)\n",
        "  def remove(self, idx = 0):\n",
        "    self.heap[idx], self.heap[-1] = self.heap[-1], self.heap[idx]\n",
        "    removed_value = self.heap.pop()\n",
        "    self.siftDown(idx, self.heap)\n",
        "    return removed_value\n",
        "\n",
        "  # time = O(log n), space = O(1)\n",
        "  def insert(self, value):\n",
        "    self.heap.append(value)\n",
        "    self.siftUp(len(self.heap) - 1, self.heap)"
      ],
      "metadata": {
        "id": "tcp0AioHsDlh"
      },
      "execution_count": 16,
      "outputs": []
    },
    {
      "cell_type": "markdown",
      "source": [
        "## Test"
      ],
      "metadata": {
        "id": "AgwMhSvt3ETq"
      }
    },
    {
      "cell_type": "code",
      "execution_count": 2,
      "metadata": {
        "id": "c1XIW46gr-x0"
      },
      "outputs": [],
      "source": [
        "array = [48, 12, 24, 7, 8, -5, 24, 391, 24, 56, 2, 6, 8, 41]"
      ]
    },
    {
      "cell_type": "code",
      "source": [
        "heap = MinHeap(array)"
      ],
      "metadata": {
        "id": "3NjVnPC6sCSv"
      },
      "execution_count": 3,
      "outputs": []
    },
    {
      "cell_type": "code",
      "source": [
        "heap.heap"
      ],
      "metadata": {
        "colab": {
          "base_uri": "https://localhost:8080/"
        },
        "id": "qTRb7wU9sJzJ",
        "outputId": "fa11c75f-1964-4391-9b16-f375ea0f8b8e"
      },
      "execution_count": 4,
      "outputs": [
        {
          "output_type": "execute_result",
          "data": {
            "text/plain": [
              "[-5, 2, 6, 7, 8, 8, 24, 391, 24, 56, 12, 24, 48, 41]"
            ]
          },
          "metadata": {},
          "execution_count": 4
        }
      ]
    },
    {
      "cell_type": "code",
      "source": [
        "heap.buildHeap(array)"
      ],
      "metadata": {
        "colab": {
          "base_uri": "https://localhost:8080/"
        },
        "id": "JR-SudQM1H26",
        "outputId": "1bea118e-2122-4ab2-ad46-5829b56c238d"
      },
      "execution_count": 5,
      "outputs": [
        {
          "output_type": "execute_result",
          "data": {
            "text/plain": [
              "[-5, 2, 6, 7, 8, 8, 24, 391, 24, 56, 12, 24, 48, 41]"
            ]
          },
          "metadata": {},
          "execution_count": 5
        }
      ]
    },
    {
      "cell_type": "code",
      "source": [
        "heap.insert(76)\n",
        "heap.heap"
      ],
      "metadata": {
        "colab": {
          "base_uri": "https://localhost:8080/"
        },
        "id": "SLr_U61f1Qnv",
        "outputId": "6607c254-69cd-4eea-abaa-c5d45cd10ff7"
      },
      "execution_count": 6,
      "outputs": [
        {
          "output_type": "execute_result",
          "data": {
            "text/plain": [
              "[-5, 2, 6, 7, 8, 8, 24, 391, 24, 56, 12, 24, 48, 41, 76]"
            ]
          },
          "metadata": {},
          "execution_count": 6
        }
      ]
    },
    {
      "cell_type": "code",
      "source": [
        "heap.peek()"
      ],
      "metadata": {
        "colab": {
          "base_uri": "https://localhost:8080/"
        },
        "id": "gVFwqxEX2E89",
        "outputId": "f297cbc0-0245-4676-9e72-7c922104b5bc"
      },
      "execution_count": 7,
      "outputs": [
        {
          "output_type": "execute_result",
          "data": {
            "text/plain": [
              "-5"
            ]
          },
          "metadata": {},
          "execution_count": 7
        }
      ]
    },
    {
      "cell_type": "code",
      "source": [
        "heap.remove()"
      ],
      "metadata": {
        "colab": {
          "base_uri": "https://localhost:8080/"
        },
        "id": "eDKwPn-s2HM6",
        "outputId": "22997bbd-1df1-4dda-9eef-ac7944a7042f"
      },
      "execution_count": 8,
      "outputs": [
        {
          "output_type": "execute_result",
          "data": {
            "text/plain": [
              "-5"
            ]
          },
          "metadata": {},
          "execution_count": 8
        }
      ]
    },
    {
      "cell_type": "code",
      "source": [
        "heap.heap"
      ],
      "metadata": {
        "colab": {
          "base_uri": "https://localhost:8080/"
        },
        "id": "xTCgZGsu2QDj",
        "outputId": "8d5f936f-d551-40f4-f12d-1cb9e946ecd3"
      },
      "execution_count": 9,
      "outputs": [
        {
          "output_type": "execute_result",
          "data": {
            "text/plain": [
              "[2, 7, 6, 24, 8, 8, 24, 391, 76, 56, 12, 24, 48, 41]"
            ]
          },
          "metadata": {},
          "execution_count": 9
        }
      ]
    },
    {
      "cell_type": "code",
      "source": [
        "heap.peek()"
      ],
      "metadata": {
        "colab": {
          "base_uri": "https://localhost:8080/"
        },
        "id": "OhX-I4fr2S3n",
        "outputId": "5d32b1af-4062-4c0d-c8f5-eac5c1636870"
      },
      "execution_count": 10,
      "outputs": [
        {
          "output_type": "execute_result",
          "data": {
            "text/plain": [
              "2"
            ]
          },
          "metadata": {},
          "execution_count": 10
        }
      ]
    },
    {
      "cell_type": "code",
      "source": [
        "heap.remove()"
      ],
      "metadata": {
        "colab": {
          "base_uri": "https://localhost:8080/"
        },
        "id": "WfWAXSpP2WUj",
        "outputId": "0960279d-d972-42ec-8e2e-df1d7fe6a1f7"
      },
      "execution_count": 11,
      "outputs": [
        {
          "output_type": "execute_result",
          "data": {
            "text/plain": [
              "2"
            ]
          },
          "metadata": {},
          "execution_count": 11
        }
      ]
    },
    {
      "cell_type": "code",
      "source": [
        "heap.heap"
      ],
      "metadata": {
        "colab": {
          "base_uri": "https://localhost:8080/"
        },
        "id": "k6UHvqyn2XXA",
        "outputId": "f40a24db-608e-48be-d8a9-22b35a9d060b"
      },
      "execution_count": 12,
      "outputs": [
        {
          "output_type": "execute_result",
          "data": {
            "text/plain": [
              "[6, 7, 8, 24, 8, 24, 24, 391, 76, 56, 12, 41, 48]"
            ]
          },
          "metadata": {},
          "execution_count": 12
        }
      ]
    },
    {
      "cell_type": "code",
      "source": [
        "heap.peek()"
      ],
      "metadata": {
        "colab": {
          "base_uri": "https://localhost:8080/"
        },
        "id": "7jvdDx6K2ZVg",
        "outputId": "da189771-2fbf-4ed7-a78c-5f4b623e14e4"
      },
      "execution_count": 13,
      "outputs": [
        {
          "output_type": "execute_result",
          "data": {
            "text/plain": [
              "6"
            ]
          },
          "metadata": {},
          "execution_count": 13
        }
      ]
    },
    {
      "cell_type": "code",
      "source": [
        "heap.insert(87)\n",
        "heap.heap"
      ],
      "metadata": {
        "colab": {
          "base_uri": "https://localhost:8080/"
        },
        "id": "FDT7eFdR2Ued",
        "outputId": "ab19caaa-2548-4b63-c252-f62d2c9c1b83"
      },
      "execution_count": 14,
      "outputs": [
        {
          "output_type": "execute_result",
          "data": {
            "text/plain": [
              "[6, 7, 8, 24, 8, 24, 24, 391, 76, 56, 12, 41, 48, 87]"
            ]
          },
          "metadata": {},
          "execution_count": 14
        }
      ]
    },
    {
      "cell_type": "code",
      "source": [
        "heap.insert(2)\n",
        "heap.heap"
      ],
      "metadata": {
        "colab": {
          "base_uri": "https://localhost:8080/"
        },
        "id": "1g52lFxL2eMV",
        "outputId": "c8e175af-fe3d-41ac-e447-812b12434abd"
      },
      "execution_count": 15,
      "outputs": [
        {
          "output_type": "execute_result",
          "data": {
            "text/plain": [
              "[2, 7, 6, 24, 8, 24, 8, 391, 76, 56, 12, 41, 48, 87, 24]"
            ]
          },
          "metadata": {},
          "execution_count": 15
        }
      ]
    }
  ]
}