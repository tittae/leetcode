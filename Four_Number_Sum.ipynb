{
  "nbformat": 4,
  "nbformat_minor": 0,
  "metadata": {
    "colab": {
      "name": "Four Number Sum.ipynb",
      "provenance": [],
      "collapsed_sections": [],
      "authorship_tag": "ABX9TyPU+Q+pj6nQo/wlLcl5phGI",
      "include_colab_link": true
    },
    "kernelspec": {
      "name": "python3",
      "display_name": "Python 3"
    },
    "language_info": {
      "name": "python"
    }
  },
  "cells": [
    {
      "cell_type": "markdown",
      "metadata": {
        "id": "view-in-github",
        "colab_type": "text"
      },
      "source": [
        "<a href=\"https://colab.research.google.com/github/tittae/leetcode/blob/main/Four_Number_Sum.ipynb\" target=\"_parent\"><img src=\"https://colab.research.google.com/assets/colab-badge.svg\" alt=\"Open In Colab\"/></a>"
      ]
    },
    {
      "cell_type": "markdown",
      "metadata": {
        "id": "_Rhy9sqHNpCD"
      },
      "source": [
        "# Four Number Sum"
      ]
    },
    {
      "cell_type": "markdown",
      "metadata": {
        "id": "F0sdUTWmNyjo"
      },
      "source": [
        "Write a function that takes in a non-empty array of distinct integers and an integer representing a target sum. The function should find all quadruplets in the array that sum up to the target sum and return a two-dimensional array of all these quadruplets in no particular order.\n",
        "\n",
        "If no four numbers sum up to the target sum, the function should return an empty array."
      ]
    },
    {
      "cell_type": "markdown",
      "metadata": {
        "id": "mSC3uJZXNzKw"
      },
      "source": [
        "Sample Input\n",
        "\n",
        "```\n",
        "array = [7, 6, 4, -1, 1, 2]\n",
        "targetSum = 16\n",
        "```\n",
        "\n"
      ]
    },
    {
      "cell_type": "markdown",
      "metadata": {
        "id": "H_fiPjxWN10Q"
      },
      "source": [
        "Sample Output\n",
        "\n",
        "```\n",
        "[[7, 6, 4, -1], [7, 6, 1, 2]] // the quadruplets could be ordered differently\n",
        "```\n",
        "\n"
      ]
    },
    {
      "cell_type": "markdown",
      "metadata": {
        "id": "dE1TSPyFQR0u"
      },
      "source": [
        "## Solution"
      ]
    },
    {
      "cell_type": "code",
      "metadata": {
        "id": "2jt-6RTcNq-j"
      },
      "source": [
        "# Time: O(N^2), Space O(n) store output\n",
        "\n",
        "def fourNumberSum(array, targetSum):\n",
        "\tarray.sort()\n",
        "\tarray_fourNumberSum = []\n",
        "\tfor idx1 in range(len(array) - 3):\n",
        "\t\tfor idx2 in range(idx1 + 1, len(array) - 2):\n",
        "\t\t\tleft = idx2 + 1\n",
        "\t\t\tright = len(array) - 1\n",
        "\t\t\twhile left < right:\n",
        "\t\t\t\tcurrent_sum = array[idx1] + array[idx2] + array[left] + array[right]\n",
        "\t\t\t\tif targetSum == current_sum:\n",
        "\t\t\t\t\tarray_fourNumberSum.append([array[idx1], array[idx2], array[left], array[right]])\n",
        "\t\t\t\t\tleft += 1\n",
        "\t\t\t\t\tright -= 1\n",
        "\t\t\t\telif targetSum > current_sum:\n",
        "\t\t\t\t\tleft += 1\n",
        "\t\t\t\telif targetSum < current_sum:\n",
        "\t\t\t\t\tright -=1\n",
        "\treturn array_fourNumberSum\n",
        "\n"
      ],
      "execution_count": 1,
      "outputs": []
    },
    {
      "cell_type": "code",
      "metadata": {
        "id": "fZV16cqcQP8Y"
      },
      "source": [
        "array = [7, 6, 4, -1, 1, 2]\n",
        "targetSum = 16"
      ],
      "execution_count": 2,
      "outputs": []
    },
    {
      "cell_type": "code",
      "metadata": {
        "colab": {
          "base_uri": "https://localhost:8080/"
        },
        "id": "wwQGy3N-QRN9",
        "outputId": "f7cf4f5d-2910-4d3f-95aa-be91d16e3ae7"
      },
      "source": [
        "print(fourNumberSum(array, targetSum))"
      ],
      "execution_count": 3,
      "outputs": [
        {
          "output_type": "stream",
          "name": "stdout",
          "text": [
            "[[-1, 4, 6, 7], [1, 2, 6, 7]]\n"
          ]
        }
      ]
    },
    {
      "cell_type": "markdown",
      "metadata": {
        "id": "TnxfWSaTQT_f"
      },
      "source": [
        "## Solution (Generalize N-sum)"
      ]
    },
    {
      "cell_type": "code",
      "metadata": {
        "id": "cyNvsKftNowz"
      },
      "source": [
        "# Time: O(n^2) it will run faster in average due to early termination (pruing)\n",
        "# n = no. of element in array\n",
        "# Space: O(N + n)\n",
        "# N = no. of Nsum. \n",
        "# O(N) is from depth of recursion \n",
        "# O(n) is to store output\n",
        "\n",
        "def fourNumberSum(array, targetSum):\n",
        "    def findNsum(array, targetSum, N, result, results):\n",
        "        if len(array) < N or N < 2 or targetSum < array[0]*N or targetSum > array[-1]*N:  # early termination\n",
        "            return\n",
        "        if N == 2: # two pointers solve sorted 2-sum problem\n",
        "            l,r = 0,len(array)-1\n",
        "            while l < r:\n",
        "                s = array[l] + array[r]\n",
        "                if s == targetSum:\n",
        "                    results.append(result + [array[l], array[r]])\n",
        "                    l += 1\n",
        "                    while l < r and array[l] == array[l-1]:\n",
        "                        l += 1\n",
        "                elif s < targetSum:\n",
        "                    l += 1\n",
        "                else:\n",
        "                    r -= 1\n",
        "        else: # recursively reduce N\n",
        "            for i in range(len(array)-N+1):\n",
        "                if i == 0 or (i > 0 and array[i-1] != array[i]):\n",
        "                    findNsum(array[i+1:], targetSum-array[i], N-1, result+[array[i]], results)\n",
        "\n",
        "    results = []\n",
        "    findNsum(sorted(array), targetSum, 4, [], results)\n",
        "    return results"
      ],
      "execution_count": 4,
      "outputs": []
    },
    {
      "cell_type": "code",
      "metadata": {
        "id": "RHyLGyuuQLMt"
      },
      "source": [
        "array = [7, 6, 4, -1, 1, 2]\n",
        "targetSum = 16"
      ],
      "execution_count": 5,
      "outputs": []
    },
    {
      "cell_type": "code",
      "metadata": {
        "colab": {
          "base_uri": "https://localhost:8080/"
        },
        "id": "3HoYldfQQN0n",
        "outputId": "0356960a-887b-4380-c7e2-9d3291641765"
      },
      "source": [
        "print(fourNumberSum(array, targetSum))"
      ],
      "execution_count": 6,
      "outputs": [
        {
          "output_type": "stream",
          "name": "stdout",
          "text": [
            "[[-1, 4, 6, 7], [1, 2, 6, 7]]\n"
          ]
        }
      ]
    }
  ]
}