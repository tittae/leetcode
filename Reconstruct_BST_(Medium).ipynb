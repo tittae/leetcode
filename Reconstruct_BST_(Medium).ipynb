{
  "nbformat": 4,
  "nbformat_minor": 0,
  "metadata": {
    "colab": {
      "name": "Reconstruct BST (Medium).ipynb",
      "provenance": [],
      "authorship_tag": "ABX9TyOLh08UdihYGkWLcyFy3BTc",
      "include_colab_link": true
    },
    "kernelspec": {
      "name": "python3",
      "display_name": "Python 3"
    },
    "language_info": {
      "name": "python"
    }
  },
  "cells": [
    {
      "cell_type": "markdown",
      "metadata": {
        "id": "view-in-github",
        "colab_type": "text"
      },
      "source": [
        "<a href=\"https://colab.research.google.com/github/wisarootl/leetcode/blob/main/Reconstruct_BST_(Medium).ipynb\" target=\"_parent\"><img src=\"https://colab.research.google.com/assets/colab-badge.svg\" alt=\"Open In Colab\"/></a>"
      ]
    },
    {
      "cell_type": "code",
      "execution_count": 1,
      "metadata": {
        "id": "5ThyPo5U7zmY"
      },
      "outputs": [],
      "source": [
        "class BST:\n",
        "\tdef __init__(self, value, left=None, right=None):\n",
        "\t\tself.value = value\n",
        "\t\tself.left = left\n",
        "\t\tself.right = right\n",
        "\n",
        "\tdef insert(self, value):\n",
        "\t\tif value >= self.value:\n",
        "\t\t\tif self.right == None:\n",
        "\t\t\t\tself.right = BST(value)\n",
        "\t\t\telse:\n",
        "\t\t\t\tself.right.insert(value)\n",
        "\t\telse:\n",
        "\t\t\tif self.left == None:\n",
        "\t\t\t\tself.left = BST(value)\n",
        "\t\t\telse:\n",
        "\t\t\t\tself.left.insert(value)\n",
        "\t\t\t\n",
        "# Time O(nlog(n))\n",
        "# Space O(n)\n",
        "def reconstructBst(preOrderTraversalValues):\n",
        "\troot = BST(preOrderTraversalValues[0])\n",
        "\t\n",
        "\tfor i in range(1, len(preOrderTraversalValues)):\n",
        "\t\troot.insert(preOrderTraversalValues[i])\n",
        "\n",
        "\treturn root"
      ]
    },
    {
      "cell_type": "code",
      "source": [
        "preOrderTraversalValues = [10, 4, 2, 1, 5, 17, 19, 18]\n",
        "root = reconstructBst(preOrderTraversalValues)\n",
        "print(root.value)\n",
        "print(root.left.value)\n",
        "print(root.right.value)"
      ],
      "metadata": {
        "colab": {
          "base_uri": "https://localhost:8080/"
        },
        "id": "YRXYCmmU78aO",
        "outputId": "0d0a3c0d-d7f4-46b3-f422-156edb61e4f3"
      },
      "execution_count": 5,
      "outputs": [
        {
          "output_type": "stream",
          "name": "stdout",
          "text": [
            "10\n",
            "4\n",
            "17\n"
          ]
        }
      ]
    }
  ]
}