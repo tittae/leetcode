{
  "nbformat": 4,
  "nbformat_minor": 0,
  "metadata": {
    "colab": {
      "name": "Water Area (Hard).ipynb",
      "provenance": [],
      "authorship_tag": "ABX9TyNDT1kX0rrtKXWkn5c6iTvy",
      "include_colab_link": true
    },
    "kernelspec": {
      "name": "python3",
      "display_name": "Python 3"
    },
    "language_info": {
      "name": "python"
    }
  },
  "cells": [
    {
      "cell_type": "markdown",
      "metadata": {
        "id": "view-in-github",
        "colab_type": "text"
      },
      "source": [
        "<a href=\"https://colab.research.google.com/github/wisarootl/leetcode/blob/main/Water_Area_(Hard).ipynb\" target=\"_parent\"><img src=\"https://colab.research.google.com/assets/colab-badge.svg\" alt=\"Open In Colab\"/></a>"
      ]
    },
    {
      "cell_type": "markdown",
      "metadata": {
        "id": "bhEhcWMvUdmC"
      },
      "source": [
        "# Water Area"
      ]
    },
    {
      "cell_type": "markdown",
      "metadata": {
        "id": "_bI2IQaMUcxn"
      },
      "source": [
        "You're given an array of non-negative integers where each non-zero integer represents the height of a pillar of width 1. Imagine water being poured over all of the pillars; write a function that returns the surface area of the water trapped between the pillars viewed from the front. Note that spilled water should be ignored.\n",
        "\n",
        "You can refer to the first three minutes of this question's video explanation for a visual example."
      ]
    },
    {
      "cell_type": "markdown",
      "metadata": {
        "id": "5hDHdK40UgK1"
      },
      "source": [
        "Sample Input\n",
        "\n",
        "```\n",
        "heights = [0, 8, 0, 0, 5, 0, 0, 10, 0, 0, 1, 1, 0, 3]\n",
        "```\n",
        "\n"
      ]
    },
    {
      "cell_type": "markdown",
      "metadata": {
        "id": "gBl4cZOAUjOp"
      },
      "source": [
        "Sample Output\n",
        "\n",
        "```\n",
        "48\n",
        "\n",
        "// Below is a visual representation of the sample input.\n",
        "// The dots and vertical lines represent trapped water and pillars, respectively.\n",
        "// Note that there are 48 dots.\n",
        "//        |\n",
        "//        |\n",
        "//  |.....|\n",
        "//  |.....|\n",
        "//  |.....|\n",
        "//  |..|..|\n",
        "//  |..|..|\n",
        "//  |..|..|.....|\n",
        "//  |..|..|.....|\n",
        "// _|..|..|..||.|\n",
        "```\n",
        "\n"
      ]
    },
    {
      "cell_type": "code",
      "metadata": {
        "id": "X7xGReP4UXvu"
      },
      "source": [
        "def waterArea(heights):\n",
        "  left_to_right_water_heights = [0 for _ in range(len(heights))]\n",
        "  right_to_left_water_heights = [0 for _ in range(len(heights))]\n",
        "  water_surface_area = 0\n",
        "  \n",
        "  max_pillar = 0\n",
        "  for i in range(len(heights)):\n",
        "    max_pillar = max(max_pillar, heights[i])\n",
        "    left_to_right_water_heights[i] = max_pillar - heights[i]\n",
        "  \n",
        "  max_pillar = 0\n",
        "  for i in reversed(range(len(heights))):\n",
        "    max_pillar = max(max_pillar, heights[i])\n",
        "    right_to_left_water_heights[i] = max_pillar - heights[i]\n",
        "  \n",
        "  \n",
        "  for i in range(len(heights)):\n",
        "    water_surface_area += min(left_to_right_water_heights[i], right_to_left_water_heights[i])\n",
        "\n",
        "  return water_surface_area"
      ],
      "execution_count": 1,
      "outputs": []
    },
    {
      "cell_type": "code",
      "metadata": {
        "colab": {
          "base_uri": "https://localhost:8080/"
        },
        "id": "kbxjmgZyY_A_",
        "outputId": "7296ee72-38af-4be0-b1be-d732ef064b0b"
      },
      "source": [
        "heights = [0, 8, 0, 0, 5, 0, 0, 10, 0, 0, 1, 1, 0, 3]\n",
        "print(waterArea(heights))"
      ],
      "execution_count": 2,
      "outputs": [
        {
          "output_type": "stream",
          "name": "stdout",
          "text": [
            "48\n"
          ]
        }
      ]
    },
    {
      "cell_type": "code",
      "metadata": {
        "id": "bd2drl6ddcLM"
      },
      "source": [
        "def waterArea(heights):\n",
        "\tif len(heights) == 0:\n",
        "\t\treturn 0\n",
        "\n",
        "\tleft_idx = 0\n",
        "\tright_idx = len(heights) - 1\n",
        "\tmax_left_pillar = heights[left_idx]\n",
        "\tmax_right_pillar = heights[right_idx]\n",
        "\twater_surface_area = 0\n",
        "\n",
        "\twhile left_idx < right_idx:\n",
        "\t\tif heights[left_idx] < heights[right_idx]:\n",
        "\t\t\tleft_idx += 1\n",
        "\t\t\tmax_left_pillar = max(max_left_pillar, heights[left_idx])\n",
        "\t\t\twater_surface_area += max_left_pillar - heights[left_idx]\n",
        "\t\telse:\n",
        "\t\t\tright_idx -= 1\n",
        "\t\t\tmax_right_pillar = max(max_right_pillar, heights[right_idx])\n",
        "\t\t\twater_surface_area += max_right_pillar - heights[right_idx]\n",
        "\n",
        "\treturn water_surface_area"
      ],
      "execution_count": 3,
      "outputs": []
    },
    {
      "cell_type": "code",
      "metadata": {
        "colab": {
          "base_uri": "https://localhost:8080/"
        },
        "id": "LhY7Beaod-ff",
        "outputId": "c404c31a-b79d-443e-fc3e-168f89086f5a"
      },
      "source": [
        "heights = [0, 8, 0, 0, 5, 0, 0, 10, 0, 0, 1, 1, 0, 3]\n",
        "print(waterArea(heights))"
      ],
      "execution_count": 4,
      "outputs": [
        {
          "output_type": "stream",
          "name": "stdout",
          "text": [
            "48\n"
          ]
        }
      ]
    }
  ]
}