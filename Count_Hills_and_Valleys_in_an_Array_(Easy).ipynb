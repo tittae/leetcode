{
  "nbformat": 4,
  "nbformat_minor": 0,
  "metadata": {
    "colab": {
      "name": "Count Hills and Valleys in an Array (Easy).ipynb",
      "provenance": [],
      "authorship_tag": "ABX9TyNs0XOws9XchBY2N9JP3Oo6",
      "include_colab_link": true
    },
    "kernelspec": {
      "name": "python3",
      "display_name": "Python 3"
    },
    "language_info": {
      "name": "python"
    }
  },
  "cells": [
    {
      "cell_type": "markdown",
      "metadata": {
        "id": "view-in-github",
        "colab_type": "text"
      },
      "source": [
        "<a href=\"https://colab.research.google.com/github/wisarootl/leetcode/blob/main/Count_Hills_and_Valleys_in_an_Array_(Easy).ipynb\" target=\"_parent\"><img src=\"https://colab.research.google.com/assets/colab-badge.svg\" alt=\"Open In Colab\"/></a>"
      ]
    },
    {
      "cell_type": "markdown",
      "source": [
        "# Count Hills and Valleys in an Array"
      ],
      "metadata": {
        "id": "1UihRu-rmaOM"
      }
    },
    {
      "cell_type": "markdown",
      "source": [
        "You are given a 0-indexed integer array nums. An index i is part of a hill in nums if the closest non-equal neighbors of i are smaller than nums[i]. Similarly, an index i is part of a valley in nums if the closest non-equal neighbors of i are larger than nums[i]. Adjacent indices i and j are part of the same hill or valley if nums[i] == nums[j].\n",
        "\n",
        "Note that for an index to be part of a hill or valley, it must have a non-equal neighbor on both the left and right of the index.\n",
        "\n",
        "Return the number of hills and valleys in nums."
      ],
      "metadata": {
        "id": "ZPx41Q9OmoJX"
      }
    },
    {
      "cell_type": "markdown",
      "source": [
        "Example 1:\n",
        "\n",
        "```\n",
        "Input: nums = [2,4,1,1,6,5]\n",
        "Output: 3\n",
        "Explanation:\n",
        "At index 0: There is no non-equal neighbor of 2 on the left, so index 0 is neither a hill nor a valley.\n",
        "At index 1: The closest non-equal neighbors of 4 are 2 and 1. Since 4 > 2 and 4 > 1, index 1 is a hill. \n",
        "At index 2: The closest non-equal neighbors of 1 are 4 and 6. Since 1 < 4 and 1 < 6, index 2 is a valley.\n",
        "At index 3: The closest non-equal neighbors of 1 are 4 and 6. Since 1 < 4 and 1 < 6, index 3 is a valley, but note that it is part of the same valley as index 2.\n",
        "At index 4: The closest non-equal neighbors of 6 are 1 and 5. Since 6 > 1 and 6 > 5, index 4 is a hill.\n",
        "At index 5: There is no non-equal neighbor of 5 on the right, so index 5 is neither a hill nor a valley. \n",
        "There are 3 hills and valleys so we return 3.\n",
        "```\n",
        "\n"
      ],
      "metadata": {
        "id": "GLTwvnLfmprL"
      }
    },
    {
      "cell_type": "markdown",
      "source": [
        "Example 2:\n",
        "\n",
        "```\n",
        "Input: nums = [6,6,5,5,4,1]\n",
        "Output: 0\n",
        "Explanation:\n",
        "At index 0: There is no non-equal neighbor of 6 on the left, so index 0 is neither a hill nor a valley.\n",
        "At index 1: There is no non-equal neighbor of 6 on the left, so index 1 is neither a hill nor a valley.\n",
        "At index 2: The closest non-equal neighbors of 5 are 6 and 4. Since 5 < 6 and 5 > 4, index 2 is neither a hill nor a valley.\n",
        "At index 3: The closest non-equal neighbors of 5 are 6 and 4. Since 5 < 6 and 5 > 4, index 3 is neither a hill nor a valley.\n",
        "At index 4: The closest non-equal neighbors of 4 are 5 and 1. Since 4 < 5 and 4 > 1, index 4 is neither a hill nor a valley.\n",
        "At index 5: There is no non-equal neighbor of 1 on the right, so index 5 is neither a hill nor a valley.\n",
        "There are 0 hills and valleys so we return 0.\n",
        "```\n",
        "\n"
      ],
      "metadata": {
        "id": "awz0wkQFmsTf"
      }
    },
    {
      "cell_type": "markdown",
      "source": [
        "Constraints:\n",
        "\n",
        "```\n",
        "3 <= nums.length <= 100\n",
        "1 <= nums[i] <= 100\n",
        "```\n",
        "\n"
      ],
      "metadata": {
        "id": "baJxrvc8mu-Y"
      }
    },
    {
      "cell_type": "code",
      "execution_count": 1,
      "metadata": {
        "id": "ro5YWu3YMkh1"
      },
      "outputs": [],
      "source": [
        "# Time = O(N)\n",
        "# Space = O(1)\n",
        "\n",
        "class Solution:\n",
        "    def countHillValley(self, nums):\n",
        "        idx = 1\n",
        "        count = 0\n",
        "        while idx <= len(nums) - 2:\n",
        "            \n",
        "            next_non_equal_idx = idx + 1\n",
        "            while next_non_equal_idx <= len(nums) - 1 and nums[idx] == nums[next_non_equal_idx]:\n",
        "                next_non_equal_idx += 1\n",
        "            \n",
        "            if next_non_equal_idx > len(nums) - 1:\n",
        "                break\n",
        "                \n",
        "            # is hill?\n",
        "            if nums[idx] > nums[idx - 1] and nums[idx] > nums[next_non_equal_idx]:\n",
        "                count += 1\n",
        "            # is valley\n",
        "            elif nums[idx] < nums[idx - 1] and nums[idx] < nums[next_non_equal_idx]:\n",
        "                count += 1\n",
        "            \n",
        "            idx = next_non_equal_idx\n",
        "        \n",
        "        return count"
      ]
    },
    {
      "cell_type": "code",
      "source": [
        "nums = [2,4,1,1,6,5]\n",
        "\n",
        "output = Solution().countHillValley(nums)\n",
        "print(output)"
      ],
      "metadata": {
        "colab": {
          "base_uri": "https://localhost:8080/"
        },
        "id": "-5QcfJGmMl95",
        "outputId": "4d9e2c56-2e1c-42b1-bd5b-919e2aa74f8a"
      },
      "execution_count": 2,
      "outputs": [
        {
          "output_type": "stream",
          "name": "stdout",
          "text": [
            "3\n"
          ]
        }
      ]
    },
    {
      "cell_type": "code",
      "source": [
        "nums = [6,6,5,5,4,1]\n",
        "\n",
        "output = Solution().countHillValley(nums)\n",
        "print(output)"
      ],
      "metadata": {
        "colab": {
          "base_uri": "https://localhost:8080/"
        },
        "id": "G2qwMAzkNAd_",
        "outputId": "4a5012e8-e9e5-4e86-a51b-bc999484fd4e"
      },
      "execution_count": 3,
      "outputs": [
        {
          "output_type": "stream",
          "name": "stdout",
          "text": [
            "0\n"
          ]
        }
      ]
    }
  ]
}