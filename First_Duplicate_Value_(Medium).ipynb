{
  "nbformat": 4,
  "nbformat_minor": 0,
  "metadata": {
    "colab": {
      "name": "First Duplicate Value (Medium).ipynb",
      "provenance": [],
      "authorship_tag": "ABX9TyPOR6lWJFAoHd43W4QjN3ok",
      "include_colab_link": true
    },
    "kernelspec": {
      "name": "python3",
      "display_name": "Python 3"
    },
    "language_info": {
      "name": "python"
    }
  },
  "cells": [
    {
      "cell_type": "markdown",
      "metadata": {
        "id": "view-in-github",
        "colab_type": "text"
      },
      "source": [
        "<a href=\"https://colab.research.google.com/github/wisarootl/leetcode/blob/main/First_Duplicate_Value_(Medium).ipynb\" target=\"_parent\"><img src=\"https://colab.research.google.com/assets/colab-badge.svg\" alt=\"Open In Colab\"/></a>"
      ]
    },
    {
      "cell_type": "markdown",
      "metadata": {
        "id": "CaNotq7hOPQ2"
      },
      "source": [
        "# First Duplicate Value"
      ]
    },
    {
      "cell_type": "markdown",
      "metadata": {
        "id": "RlU5A1PfOQVA"
      },
      "source": [
        "Given an array of integers between `1` and `n`, inclusive, where `n` is the length of the array, write a function that returns the first integer that appears more than once (when the array is read from left to right).\n",
        "\n",
        "In other words, out of all the integers that might occur more than once in the input array, your function should return the one whose first duplicate value has the minimum index.\n",
        "\n",
        "If no integer appears more than once, your function should return `-1`.\n",
        "\n",
        "Note that you're allowed to mutate the input array."
      ]
    },
    {
      "cell_type": "markdown",
      "metadata": {
        "id": "-226NVXrudpK"
      },
      "source": [
        "Sample Input #1\n",
        "\n",
        "```\n",
        "array = [2, 1, 5, 2, 3, 3, 4]\n",
        "```\n",
        "\n"
      ]
    },
    {
      "cell_type": "markdown",
      "metadata": {
        "id": "tFBIC0oQufU6"
      },
      "source": [
        "Sample Output #1\n",
        "\n",
        "```\n",
        "2 // 2 is the first integer that appears more than once.\n",
        "// 3 also appears more than once, but the second 3 appears after the second 2.\n",
        "```\n",
        "\n"
      ]
    },
    {
      "cell_type": "markdown",
      "metadata": {
        "id": "YhXIiRAeujGS"
      },
      "source": [
        "Sample Input #2\n",
        "\n",
        "```\n",
        "array = [2, 1, 5, 3, 3, 2, 4]\n",
        "```\n",
        "\n"
      ]
    },
    {
      "cell_type": "markdown",
      "metadata": {
        "id": "dmdKBS1aulv-"
      },
      "source": [
        "Sample Output #2\n",
        "\n",
        "```\n",
        "3 // 3 is the first integer that appears more than once.\n",
        "// 2 also appears more than once, but the second 2 appears after the second 3.\n",
        "```\n",
        "\n"
      ]
    },
    {
      "cell_type": "code",
      "metadata": {
        "id": "ZMjQvKKtOM6w"
      },
      "source": [
        "# Brute Force\n",
        "# time O(N^2)\n",
        "# space O(1)\n",
        "\n",
        "def firstDuplicateValue(array):\n",
        "\tmin_j = float('inf')\n",
        "\tfor i in range(len(array) - 1):\n",
        "\t\tfor j in range(i + 1, len(array)):\n",
        "\t\t\tif array[i] == array[j]:\n",
        "\t\t\t\tmin_j = min(j, min_j)\n",
        "\t\t\t\t\n",
        "\treturn array[min_j] if min_j != float('inf') else -1"
      ],
      "execution_count": null,
      "outputs": []
    },
    {
      "cell_type": "code",
      "metadata": {
        "id": "WKs-RzwgOF_e"
      },
      "source": [
        "# Better for time-complexity but use more space\n",
        "# time O(N)\n",
        "# space O(N)\n",
        "\n",
        "def firstDuplicateValue(array):\n",
        "\tseen = set()\n",
        "\tfor value in array:\n",
        "\t\tif value in seen:\n",
        "\t\t\treturn value\n",
        "\t\tseen.add(value)\n",
        "\treturn -1"
      ],
      "execution_count": null,
      "outputs": []
    },
    {
      "cell_type": "code",
      "metadata": {
        "id": "w040eJOl36ul"
      },
      "source": [
        "# most optimal soltion and use the properties if the list that\n",
        "# - it contain only integer between 0 and n\n",
        "# - n is lenght of array\n",
        "# meaning that we can have index 0-(n-1) to represent all the value\n",
        "# So, we iterate from left to right and we mutate the value at index = abs(value) - 1 to the negative\n",
        "# This is to record that we have found that value. If there is a duplicate value it will try to change the value in that index to negative again\n",
        "# So, we check prior that if it already negative, it mean that we already seen this value prior. We can conclude that it is duplicate\n",
        "\n",
        "# time O(N)\n",
        "# space O(1)\n",
        "\n",
        "def firstDuplicateValue(array):\n",
        "\tfor value in array:\n",
        "\t\tidx = abs(value) - 1\n",
        "\t\tif array[idx] < 0:\n",
        "\t\t\treturn abs(value)\n",
        "\t\tarray[idx] *= -1\n",
        "\treturn -1"
      ],
      "execution_count": null,
      "outputs": []
    },
    {
      "cell_type": "code",
      "metadata": {
        "colab": {
          "base_uri": "https://localhost:8080/"
        },
        "id": "kfL9YSwI5W9O",
        "outputId": "282e8ea1-e7f8-465d-b373-5d66e62a0842"
      },
      "source": [
        "array = [2, 1, 5, 2, 3, 3, 4]\n",
        "print(firstDuplicateValue(array))"
      ],
      "execution_count": null,
      "outputs": [
        {
          "output_type": "stream",
          "name": "stdout",
          "text": [
            "2\n"
          ]
        }
      ]
    },
    {
      "cell_type": "code",
      "metadata": {
        "colab": {
          "base_uri": "https://localhost:8080/"
        },
        "id": "kmq9rdcO5ZxL",
        "outputId": "7416a1fb-03cd-4414-c4b5-9f2e5a78b4ae"
      },
      "source": [
        "array = [2, 1, 5, 3, 3, 2, 4]\n",
        "print(firstDuplicateValue(array))"
      ],
      "execution_count": null,
      "outputs": [
        {
          "output_type": "stream",
          "name": "stdout",
          "text": [
            "3\n"
          ]
        }
      ]
    },
    {
      "cell_type": "code",
      "metadata": {
        "colab": {
          "base_uri": "https://localhost:8080/"
        },
        "id": "CiPmitpL5y8S",
        "outputId": "4786ed27-a66f-441d-fd7b-c3eb68feae70"
      },
      "source": [
        "array = [2, 1, 5, 2, 3, 3, 4]\n",
        "print(firstDuplicateValue(array))\n",
        "array = [2, 1, 5, 3, 3, 2, 4]\n",
        "print(firstDuplicateValue(array))\n",
        "array = [1, 1, 2, 3, 3, 2, 2]\n",
        "print(firstDuplicateValue(array))\n",
        "array = [3, 1, 3, 1, 1, 4, 4]\n",
        "print(firstDuplicateValue(array))\n",
        "array = []\n",
        "print(firstDuplicateValue(array))\n",
        "array = [1]\n",
        "print(firstDuplicateValue(array))\n",
        "array = [1, 1]\n",
        "print(firstDuplicateValue(array))\n",
        "array = [1, 2, 3, 4, 5, 6, 7, 8, 9, 10, 10]\n",
        "print(firstDuplicateValue(array))\n",
        "array = [2, 1, 1]\n",
        "print(firstDuplicateValue(array))\n",
        "array = [2, 2, 2, 2, 2, 2, 2, 2, 2]\n",
        "print(firstDuplicateValue(array))\n",
        "array = [1, 2, 3, 4, 5, 6, 7, 8, 9, 10]\n",
        "print(firstDuplicateValue(array))\n",
        "array = [7, 6, 5, 3, 6, 4, 3, 5, 2]\n",
        "print(firstDuplicateValue(array))\n",
        "array = [9, 13, 6, 2, 3, 5, 5, 5, 3, 2, 2, 2, 2, 4, 3]\n",
        "print(firstDuplicateValue(array))\n",
        "array = [23, 21, 22, 5, 3, 13, 11, 16, 5, 11, 9, 14, 23, 3, 2, 2, 5, 11, 6, 11, 23, 8, 1]\n",
        "print(firstDuplicateValue(array))\n",
        "array = [8, 20, 4, 12, 14, 9, 19, 17, 14, 20, 22, 9, 6, 15, 1, 15, 10, 9, 17, 7, 22, 17]\n",
        "print(firstDuplicateValue(array))\n",
        "array = [3, 3, 2]\n",
        "print(firstDuplicateValue(array))\n",
        "array = [6, 6, 5, 1, 3, 7, 7, 8]\n",
        "print(firstDuplicateValue(array))\n",
        "array = [23, 25, 9, 26, 2, 19, 24, 18, 25, 17, 13, 3, 14, 17, 9, 20, 26, 15, 21, 2, 6, 11, 2, 12, 23, 5, 4, 20]\n",
        "print(firstDuplicateValue(array))\n",
        "array = [12, 22, 6, 18, 5, 17, 18, 22, 22, 4, 6, 14, 12, 8, 5, 6, 10, 7, 13, 22, 17, 18]\n",
        "print(firstDuplicateValue(array))\n",
        "array = [16, 6, 6, 18, 6, 13, 28, 9, 3, 26, 10, 2, 23, 5, 20, 21, 11, 20, 6, 11, 26, 20, 26, 25, 13, 3, 12, 4]\n",
        "print(firstDuplicateValue(array))\n",
        "array = [15, 2, 6, 3, 3, 22, 14, 16, 6, 21, 4, 16, 2, 17, 9, 13, 1, 3, 5, 6, 1, 2, 23, 16, 16]\n",
        "print(firstDuplicateValue(array))\n",
        "array = [4, 7, 9, 7, 1, 3, 2, 3, 1, 12, 12, 5]\n",
        "print(firstDuplicateValue(array))\n",
        "array = [9, 21, 9, 22, 3, 23, 4, 26, 7, 11, 25, 25, 19, 13, 23, 28, 5, 23, 19, 13, 10, 26, 28, 9, 28, 16, 7, 13, 22]\n",
        "print(firstDuplicateValue(array))\n",
        "array = [29, 3, 23, 16, 1, 22, 21, 14, 15, 21, 12, 27, 9, 12, 11, 3, 22, 5, 21, 24, 14, 26, 11, 5, 21, 25, 15, 19, 13, 4]\n",
        "print(firstDuplicateValue(array))\n",
        "array = [13, 2, 8, 8, 10, 11, 13, 11, 9, 13, 4, 5, 7]\n",
        "print(firstDuplicateValue(array))\n",
        "array = [4, 7, 7, 14, 14, 10, 15, 14, 14, 16, 14, 11, 5, 12, 17, 7, 1, 6, 13]\n",
        "print(firstDuplicateValue(array))\n",
        "array = [2, 5, 1, 4, 1]\n",
        "print(firstDuplicateValue(array))\n",
        "array = [11, 10, 5, 3, 1, 7, 10, 6, 10, 11, 7]\n",
        "print(firstDuplicateValue(array))\n",
        "array = [2, 13, 3, 9, 1, 9, 1, 11, 11, 5, 3, 1, 9, 12]\n",
        "print(firstDuplicateValue(array))\n",
        "array = [3, 3, 1, 1]\n",
        "print(firstDuplicateValue(array))\n",
        "array = [26, 18, 21, 26, 26, 16, 16, 3, 19, 9, 10, 24, 21, 9, 8, 11, 17, 21, 18, 22, 17, 27, 6, 7, 6, 10, 4]\n",
        "print(firstDuplicateValue(array))\n",
        "array = [27, 16, 15, 21, 10, 21, 3, 21, 5, 12, 27, 24, 20, 26, 5, 13, 26, 22, 26, 8, 23, 10, 14, 17, 7, 5, 3]\n",
        "print(firstDuplicateValue(array))\n",
        "array = [11, 6, 1, 1, 4, 19, 10, 12, 19, 8, 12, 15, 26, 9, 6, 20, 17, 12, 26, 15, 25, 18, 26, 5, 3, 5, 16, 5]\n",
        "print(firstDuplicateValue(array))\n",
        "array = [16, 22, 20, 22, 26, 19, 8, 17, 18, 24, 17, 19, 19, 11, 18, 13, 10, 20, 6, 23, 20, 19, 21, 6, 17, 7]\n",
        "print(firstDuplicateValue(array))\n",
        "array = [11, 13, 6, 12, 4, 15, 4, 9, 3, 10, 5, 8, 15, 5, 8]\n",
        "print(firstDuplicateValue(array))\n",
        "array = [7, 9, 5, 6, 4, 11, 2, 8, 2, 5, 1]\n",
        "print(firstDuplicateValue(array))\n",
        "array = [8, 1, 5, 2, 9, 12, 9, 6, 9, 9, 5, 13, 5, 9]\n",
        "print(firstDuplicateValue(array))\n",
        "array = [11, 5, 2, 7, 11, 11, 3, 11, 4, 2, 9]\n",
        "print(firstDuplicateValue(array))\n",
        "array = [2, 22, 3, 20, 18, 8, 29, 25, 7, 12, 12, 17, 1, 28, 3, 6, 11, 2, 28, 16, 23, 27, 8, 28, 4, 29, 24, 12, 29]\n",
        "print(firstDuplicateValue(array))\n",
        "array = [5, 1, 3, 5, 1]\n",
        "print(firstDuplicateValue(array))\n",
        "array = [20, 12, 3, 18, 9, 16, 4, 18, 6, 19, 14, 23, 10, 13, 6, 1, 22, 11, 11, 16, 13, 15, 17, 19, 14, 12, 20]\n",
        "print(firstDuplicateValue(array))\n",
        "array = [23, 15, 11, 5, 13, 11, 9, 9, 13, 8, 22, 12, 2, 24, 6, 2, 15, 24, 12, 9, 13, 13, 22, 18]\n",
        "print(firstDuplicateValue(array))\n",
        "array = [4, 1, 5, 1, 4]\n",
        "print(firstDuplicateValue(array))\n",
        "array = [7, 14, 4, 6, 17, 17, 3, 14, 1, 16, 18, 4, 12, 13, 8, 19, 1, 2, 4, 14]\n",
        "print(firstDuplicateValue(array))\n",
        "array = [5, 6, 6, 4, 3, 5]\n",
        "print(firstDuplicateValue(array))\n",
        "array = [3, 2, 3, 1]\n",
        "print(firstDuplicateValue(array))\n",
        "array = [9, 12, 14, 6, 14, 2, 4, 9, 13, 2, 10, 5, 7, 1]\n",
        "print(firstDuplicateValue(array))\n",
        "array = [9, 2, 11, 5, 6, 8, 10, 15, 5, 7, 11, 6, 19, 19, 14, 15, 3, 9, 16]\n",
        "print(firstDuplicateValue(array))\n",
        "array = [2, 6, 1, 7, 1, 6, 6]\n",
        "print(firstDuplicateValue(array))\n",
        "array = [6, 3, 1, 8, 2, 2, 1, 7, 10, 8, 6, 4]\n",
        "print(firstDuplicateValue(array))\n",
        "array = [21, 17, 1, 8, 22, 8, 22, 8, 23, 3, 21, 5, 18, 2, 8, 21, 21, 22, 10, 24, 13, 4, 20, 24]\n",
        "print(firstDuplicateValue(array))\n",
        "array = [16, 9, 13, 10, 18, 17, 11, 5, 11, 4, 2, 16, 15, 6, 3, 7, 15, 10, 1]\n",
        "print(firstDuplicateValue(array))\n",
        "array = [5, 5, 5, 4, 6, 6, 2]\n",
        "print(firstDuplicateValue(array))\n",
        "array = [5, 3, 8, 2, 9, 6, 8, 1, 6]\n",
        "print(firstDuplicateValue(array))\n",
        "array = [5, 5, 1, 5, 3, 7, 4, 4]\n",
        "print(firstDuplicateValue(array))\n",
        "array = [19, 4, 1, 6, 2, 5, 20, 13, 8, 6, 11, 12, 12, 12, 11, 18, 7, 13, 6, 10]\n",
        "print(firstDuplicateValue(array))\n",
        "array = [3, 11, 11, 10, 11, 8, 8, 11, 10, 11, 10, 8, 10]\n",
        "print(firstDuplicateValue(array))\n",
        "array = [15, 3, 15, 6, 13, 3, 12, 10, 17, 8, 13, 1, 12, 9, 14, 7, 16]\n",
        "print(firstDuplicateValue(array))\n",
        "array = [2, 2, 2]\n",
        "print(firstDuplicateValue(array))\n",
        "array = [11, 6, 8, 8, 8, 9, 10, 6, 4, 1, 10, 1, 6]\n",
        "print(firstDuplicateValue(array))\n",
        "array = [2, 3, 16, 9, 11, 14, 13, 1, 10, 12, 5, 17, 4, 16, 10, 5, 4]\n",
        "print(firstDuplicateValue(array))\n",
        "array = [13, 4, 10, 10, 8, 13, 13, 7, 11, 6, 3, 2, 11]\n",
        "print(firstDuplicateValue(array))\n",
        "array = [6, 15, 7, 10, 9, 14, 10, 1, 10, 1, 2, 11, 1, 6, 8]\n",
        "print(firstDuplicateValue(array))"
      ],
      "execution_count": null,
      "outputs": [
        {
          "output_type": "stream",
          "name": "stdout",
          "text": [
            "2\n",
            "3\n",
            "1\n",
            "3\n",
            "-1\n",
            "-1\n",
            "1\n",
            "10\n",
            "1\n",
            "2\n",
            "-1\n",
            "6\n",
            "5\n",
            "5\n",
            "14\n",
            "3\n",
            "6\n",
            "25\n",
            "18\n",
            "6\n",
            "3\n",
            "7\n",
            "9\n",
            "21\n",
            "8\n",
            "7\n",
            "1\n",
            "10\n",
            "9\n",
            "3\n",
            "26\n",
            "21\n",
            "1\n",
            "22\n",
            "4\n",
            "2\n",
            "9\n",
            "11\n",
            "12\n",
            "5\n",
            "18\n",
            "11\n",
            "1\n",
            "17\n",
            "6\n",
            "3\n",
            "14\n",
            "5\n",
            "1\n",
            "2\n",
            "8\n",
            "11\n",
            "5\n",
            "8\n",
            "5\n",
            "6\n",
            "11\n",
            "15\n",
            "2\n",
            "8\n",
            "16\n",
            "10\n",
            "10\n"
          ]
        }
      ]
    }
  ]
}