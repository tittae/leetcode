{
  "nbformat": 4,
  "nbformat_minor": 0,
  "metadata": {
    "colab": {
      "name": "Kth Smallest Element in a BST (Medium).ipynb",
      "provenance": [],
      "authorship_tag": "ABX9TyOTj3RlJdcVYBhBfXT6BQOb",
      "include_colab_link": true
    },
    "kernelspec": {
      "name": "python3",
      "display_name": "Python 3"
    },
    "language_info": {
      "name": "python"
    }
  },
  "cells": [
    {
      "cell_type": "markdown",
      "metadata": {
        "id": "view-in-github",
        "colab_type": "text"
      },
      "source": [
        "<a href=\"https://colab.research.google.com/github/wisarootl/leetcode/blob/main/Kth_Smallest_Element_in_a_BST_(Medium).ipynb\" target=\"_parent\"><img src=\"https://colab.research.google.com/assets/colab-badge.svg\" alt=\"Open In Colab\"/></a>"
      ]
    },
    {
      "cell_type": "markdown",
      "source": [
        "# Kth Smallest Element in a BST"
      ],
      "metadata": {
        "id": "l0HGW0GENKWn"
      }
    },
    {
      "cell_type": "markdown",
      "source": [
        "Given the root of a binary search tree, and an integer k, return the kth smallest value (1-indexed) of all the values of the nodes in the tree."
      ],
      "metadata": {
        "id": "sdUPo32UNLCR"
      }
    },
    {
      "cell_type": "markdown",
      "source": [
        "Example 1:\n",
        "\n",
        "\n",
        "```\n",
        "   3\n",
        "  / \\\n",
        " 1   4\n",
        "  \\\n",
        "   2\n",
        "Input: root = [3,1,4,null,2], k = 1\n",
        "Output: 1\n",
        "```\n",
        "\n"
      ],
      "metadata": {
        "id": "_xGZWJIjNMqg"
      }
    },
    {
      "cell_type": "markdown",
      "source": [
        "Example 2:\n",
        "\n",
        "```\n",
        "      5\n",
        "     / \\\n",
        "    3   6\n",
        "   / \\ \n",
        "  2   4\n",
        " /\n",
        "1\n",
        "\n",
        "Input: root = [5,3,6,2,4,null,null,1], k = 3\n",
        "Output: 3\n",
        "```\n",
        "\n"
      ],
      "metadata": {
        "id": "t8OHqbuoNZng"
      }
    },
    {
      "cell_type": "markdown",
      "source": [
        "Constraints:\n",
        "\n",
        "```\n",
        "The number of nodes in the tree is n.\n",
        "1 <= k <= n <= 104\n",
        "0 <= Node.val <= 104\n",
        "```\n",
        "\n"
      ],
      "metadata": {
        "id": "Ha2gG7h3Npm5"
      }
    },
    {
      "cell_type": "code",
      "execution_count": null,
      "metadata": {
        "id": "MRSf-IGQNAKB"
      },
      "outputs": [],
      "source": [
        "# Definition for a binary tree node.\n",
        "class TreeNode:\n",
        "    def __init__(self, val=0, left=None, right=None):\n",
        "        self.val = val\n",
        "        self.left = left\n",
        "        self.right = right\n",
        "        \n",
        "class Solution:\n",
        "    def __init__(self):\n",
        "        self.remaining_k = None\n",
        "    \n",
        "    # Time = O(h + k)\n",
        "    # Space = O(h)\n",
        "    # h = height of tree\n",
        "    \n",
        "    def kthSmallest(self, root, k):\n",
        "        self.remaining_k = k\n",
        "        return self.inorder_traversal(root)\n",
        "    \n",
        "    def inorder_traversal(self, node):\n",
        "        if node == None:\n",
        "            return\n",
        "        kth_element = self.inorder_traversal(node.left)\n",
        "        if kth_element != None:\n",
        "            return kth_element\n",
        "        self.remaining_k -= 1\n",
        "        if self.remaining_k == 0:\n",
        "            return node.val\n",
        "        kth_element = self.inorder_traversal(node.right)\n",
        "        return kth_element"
      ]
    },
    {
      "cell_type": "code",
      "source": [
        "root = TreeNode(3)\n",
        "root.left = TreeNode(1)\n",
        "root.left.right = TreeNode(2)\n",
        "root.right = TreeNode(4)\n",
        "\n",
        "k = 1\n",
        "\n",
        "expected = 1\n",
        "\n",
        "output = Solution().kthSmallest(root, k)\n",
        "print(output)\n",
        "assert output == expected"
      ],
      "metadata": {
        "colab": {
          "base_uri": "https://localhost:8080/"
        },
        "id": "1wIrPwGkNw0D",
        "outputId": "9977277a-6ad7-4ef1-812e-7c33afe22906"
      },
      "execution_count": null,
      "outputs": [
        {
          "output_type": "stream",
          "name": "stdout",
          "text": [
            "1\n"
          ]
        }
      ]
    },
    {
      "cell_type": "code",
      "source": [
        "root = TreeNode(5)\n",
        "root.left = TreeNode(3)\n",
        "root.right = TreeNode(6)\n",
        "root.left.left = TreeNode(2)\n",
        "root.left.right = TreeNode(4)\n",
        "root.left.left.left = TreeNode(1)\n",
        "\n",
        "k = 3\n",
        "\n",
        "expected = 3\n",
        "\n",
        "output = Solution().kthSmallest(root, k)\n",
        "print(output)\n",
        "assert output == expected"
      ],
      "metadata": {
        "colab": {
          "base_uri": "https://localhost:8080/"
        },
        "id": "u9eB_sBrOVLV",
        "outputId": "3988272f-80b6-4c87-e386-738caf0a67a5"
      },
      "execution_count": null,
      "outputs": [
        {
          "output_type": "stream",
          "name": "stdout",
          "text": [
            "3\n"
          ]
        }
      ]
    }
  ]
}