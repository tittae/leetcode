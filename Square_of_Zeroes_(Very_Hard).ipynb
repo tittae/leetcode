{
  "nbformat": 4,
  "nbformat_minor": 0,
  "metadata": {
    "colab": {
      "name": "Square of Zeroes (Very Hard).ipynb",
      "provenance": [],
      "collapsed_sections": [],
      "authorship_tag": "ABX9TyM52UVxBlBFYH+OfjdCdmME",
      "include_colab_link": true
    },
    "kernelspec": {
      "name": "python3",
      "display_name": "Python 3"
    },
    "language_info": {
      "name": "python"
    }
  },
  "cells": [
    {
      "cell_type": "markdown",
      "metadata": {
        "id": "view-in-github",
        "colab_type": "text"
      },
      "source": [
        "<a href=\"https://colab.research.google.com/github/wisarootl/leetcode/blob/main/Square_of_Zeroes_(Very_Hard).ipynb\" target=\"_parent\"><img src=\"https://colab.research.google.com/assets/colab-badge.svg\" alt=\"Open In Colab\"/></a>"
      ]
    },
    {
      "cell_type": "markdown",
      "metadata": {
        "id": "0TZXlkQ9EwRX"
      },
      "source": [
        "## Solution 1"
      ]
    },
    {
      "cell_type": "markdown",
      "metadata": {
        "id": "ojQpmpI8FAqd"
      },
      "source": [
        "- iterate 3 nested loop to identify all square\n",
        "- each square iterate 2 series for loop O(n) to check all perimeter whert it is all 0 or not."
      ]
    },
    {
      "cell_type": "code",
      "metadata": {
        "id": "dtKRRueDEzl2"
      },
      "source": [
        "# Time O(n^4)\n",
        "# Space O(1)\n",
        "\n",
        "def squareOfZeroes(matrix):\n",
        "  n = len(matrix)\n",
        "  for row1 in range(n):\n",
        "    for col1 in range(n):\n",
        "      square_size = 2\n",
        "      while square_size <= n - col1 and square_size <= n - row1:\n",
        "        row2 = row1 + square_size - 1\n",
        "        col2 = col1 + square_size - 1\n",
        "        # time O(n)\n",
        "        if is_zeroes_perimeter(matrix, row1, row2, col1, col2):\n",
        "          return True\n",
        "        square_size += 1\n",
        "  return False\n",
        "\n",
        "def is_zeroes_perimeter(matrix, row1, row2, col1, col2):\n",
        "  for row in range(row1, row2 + 1):\n",
        "    if matrix[row][col1] != 0 or matrix[row][col2] != 0:\n",
        "      return False\n",
        "  for col in range(col1, col2 + 1):\n",
        "    if matrix[row1][col] != 0 or matrix[row2][col] != 0:\n",
        "      return False\n",
        "  return True"
      ],
      "execution_count": 3,
      "outputs": []
    },
    {
      "cell_type": "code",
      "metadata": {
        "colab": {
          "base_uri": "https://localhost:8080/"
        },
        "id": "j_2VLHEdE2Rw",
        "outputId": "9613beaa-1d87-41bf-d47f-28a9b0ab36ff"
      },
      "source": [
        "matrix = [\n",
        "  [1, 1, 1, 0, 1, 0],\n",
        "  [0, 0, 0, 0, 0, 1],\n",
        "  [0, 1, 1, 1, 0, 1],\n",
        "  [0, 0, 0, 1, 0, 1],\n",
        "  [0, 1, 1, 1, 0, 1],\n",
        "  [0, 0, 0, 0, 0, 1],\n",
        "]\n",
        "print(squareOfZeroes(matrix))"
      ],
      "execution_count": 4,
      "outputs": [
        {
          "output_type": "stream",
          "name": "stdout",
          "text": [
            "True\n"
          ]
        }
      ]
    },
    {
      "cell_type": "markdown",
      "metadata": {
        "id": "I4bz6eDEKnNB"
      },
      "source": [
        "## Solution 2"
      ]
    },
    {
      "cell_type": "code",
      "metadata": {
        "id": "mzmGuysxKqMT"
      },
      "source": [
        "def squareOfZeroes(matrix):\n",
        "\tinfo_matrix = compute_zoroes_above_left(matrix)\n",
        "\tn = len(matrix)\n",
        "\tfor row1 in range(n):\n",
        "\t\tfor col1 in range(n):\n",
        "\t\t\tsquare_size = 2\n",
        "\t\t\twhile square_size <= n - col1 and square_size <= n - row1:\n",
        "\t\t\t\trow2 = row1 + square_size - 1\n",
        "\t\t\t\tcol2 = col1 + square_size - 1\n",
        "\t\t\t\tif is_zeroes_perimeter(info_matrix, row1, row2, col1, col2):\n",
        "\t\t\t\t\treturn True\n",
        "\t\t\t\tsquare_size += 1\n",
        "\treturn False\n",
        "\n",
        "def is_zeroes_perimeter(info_matrix, row1, row2, col1, col2):\n",
        "\tsquare_size = row2 - row1 + 1\n",
        "\thas_top = info_matrix[row1][col2]['num_zeroes_left'] >= square_size\n",
        "\thas_bottom = info_matrix[row2][col2]['num_zeroes_left'] >= square_size\n",
        "\thas_left = info_matrix[row2][col1]['num_zeroes_above'] >= square_size\n",
        "\thas_right = info_matrix[row2][col2]['num_zeroes_above'] >= square_size\n",
        "\treturn has_top and has_bottom and has_left and has_right\n",
        "\n",
        "def compute_zoroes_above_left(matrix):\n",
        "\tn = len(matrix)\n",
        "\tinfo_matrix = [[0 for _ in range(n)] for _ in range(n)]\n",
        "\n",
        "\tfor row in range(n):\n",
        "\t\tfor col in range(n):\n",
        "\t\t\tnum_zeroes = 1 if matrix[row][col] == 0 else 0\n",
        "\t\t\tinfo_matrix[row][col] = {'num_zeroes_above': num_zeroes, 'num_zeroes_left': num_zeroes}\n",
        "\n",
        "\tfor row in range(n):\n",
        "\t\tfor col in range(n):\n",
        "\t\t\tif matrix[row][col] == 1:\n",
        "\t\t\t\tcontinue\n",
        "\t\t\tif row > 0:\n",
        "\t\t\t\tinfo_matrix[row][col]['num_zeroes_above'] += info_matrix[row - 1][col]['num_zeroes_above']\n",
        "\t\t\tif col > 0:\n",
        "\t\t\t\tinfo_matrix[row][col]['num_zeroes_left'] += info_matrix[row][col - 1]['num_zeroes_left']\n",
        "\n",
        "\treturn info_matrix"
      ],
      "execution_count": 5,
      "outputs": []
    },
    {
      "cell_type": "code",
      "metadata": {
        "colab": {
          "base_uri": "https://localhost:8080/"
        },
        "id": "TfyGooDDKrp5",
        "outputId": "45efe2c6-de52-406b-f816-8f3ae9c9aab8"
      },
      "source": [
        "matrix = [\n",
        "  [1, 1, 1, 0, 1, 0],\n",
        "  [0, 0, 0, 0, 0, 1],\n",
        "  [0, 1, 1, 1, 0, 1],\n",
        "  [0, 0, 0, 1, 0, 1],\n",
        "  [0, 1, 1, 1, 0, 1],\n",
        "  [0, 0, 0, 0, 0, 1],\n",
        "]\n",
        "print(squareOfZeroes(matrix))"
      ],
      "execution_count": 6,
      "outputs": [
        {
          "output_type": "stream",
          "name": "stdout",
          "text": [
            "True\n"
          ]
        }
      ]
    }
  ]
}