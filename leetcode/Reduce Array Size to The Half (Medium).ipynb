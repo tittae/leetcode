{
 "cells": [
  {
   "cell_type": "markdown",
   "metadata": {},
   "source": [
    "# Reduce Array Size to The Half"
   ]
  },
  {
   "cell_type": "markdown",
   "metadata": {},
   "source": [
    "You are given an integer array `arr`. You can choose a set of integers and remove all the occurrences of these integers in the array.\n",
    "\n",
    "Return the minimum size of the set so that at least half of the integers of the array are removed."
   ]
  },
  {
   "cell_type": "markdown",
   "metadata": {},
   "source": [
    "Example 1:\n",
    "\n",
    "```\n",
    "Input: arr = [3,3,3,3,5,5,5,2,2,7]\n",
    "Output: 2\n",
    "Explanation: Choosing {3,7} will make the new array [5,5,5,2,2] which has size 5 (i.e equal to half of the size of the old array).\n",
    "Possible sets of size 2 are {3,5},{3,2},{5,2}.\n",
    "Choosing set {2,7} is not possible as it will make the new array [3,3,3,3,5,5,5] which has a size greater than half of the size of the old array.\n",
    "```"
   ]
  },
  {
   "cell_type": "markdown",
   "metadata": {},
   "source": [
    "Example 2:\n",
    "\n",
    "```\n",
    "Input: arr = [7,7,7,7,7,7]\n",
    "Output: 1\n",
    "Explanation: The only possible set you can choose is {7}. This will make the new array empty.\n",
    "```"
   ]
  },
  {
   "cell_type": "markdown",
   "metadata": {},
   "source": [
    "Constraints:\n",
    "\n",
    "```\n",
    "2 <= arr.length <= 105\n",
    "arr.length is even.\n",
    "1 <= arr[i] <= 105\n",
    "```"
   ]
  },
  {
   "cell_type": "code",
   "execution_count": 1,
   "metadata": {},
   "outputs": [],
   "source": [
    "import collections\n",
    "from typing import *\n",
    "\n",
    "class Solution:\n",
    "    def minSetSize(self, arr: List[int]) -> int:\n",
    "        # In Python, we can use the built-in Counter class.\n",
    "        counts = collections.Counter(arr)\n",
    "\n",
    "        # Extract the counts in reverse-sorted order.\n",
    "        # most_common gives (number, count) pairs, reverse sorted on count.\n",
    "        counts = [count for number, count in counts.items()]\n",
    "        counts.sort(reverse=True)\n",
    "\n",
    "        # Remove numbers until at least half are removed.\n",
    "        total_removed = 0\n",
    "        set_size = 0\n",
    "        for count in counts:\n",
    "            total_removed += count\n",
    "            set_size += 1\n",
    "            if (total_removed >= len(arr) // 2):\n",
    "                break\n",
    "\n",
    "        return set_size"
   ]
  },
  {
   "cell_type": "code",
   "execution_count": 3,
   "metadata": {},
   "outputs": [
    {
     "name": "stdout",
     "output_type": "stream",
     "text": [
      "2\n"
     ]
    }
   ],
   "source": [
    "arr = [3,3,3,3,5,5,5,2,2,7]\n",
    "expected = 2\n",
    "\n",
    "output = Solution().minSetSize(arr)\n",
    "print(output)\n",
    "assert output == expected"
   ]
  },
  {
   "cell_type": "code",
   "execution_count": 4,
   "metadata": {},
   "outputs": [
    {
     "name": "stdout",
     "output_type": "stream",
     "text": [
      "1\n"
     ]
    }
   ],
   "source": [
    "arr = [7,7,7,7,7,7]\n",
    "expected = 1\n",
    "\n",
    "output = Solution().minSetSize(arr)\n",
    "print(output)\n",
    "assert output == expected"
   ]
  }
 ],
 "metadata": {
  "kernelspec": {
   "display_name": "Python 3.10.5 64-bit ('3.10.5')",
   "language": "python",
   "name": "python3"
  },
  "language_info": {
   "codemirror_mode": {
    "name": "ipython",
    "version": 3
   },
   "file_extension": ".py",
   "mimetype": "text/x-python",
   "name": "python",
   "nbconvert_exporter": "python",
   "pygments_lexer": "ipython3",
   "version": "3.10.5"
  },
  "orig_nbformat": 4,
  "vscode": {
   "interpreter": {
    "hash": "992441bd4bc11ab83c63537935ea198062f55180155eaba570b8d7c82e005e8c"
   }
  }
 },
 "nbformat": 4,
 "nbformat_minor": 2
}
