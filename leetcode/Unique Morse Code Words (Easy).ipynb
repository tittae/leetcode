{
 "cells": [
  {
   "cell_type": "markdown",
   "metadata": {},
   "source": [
    "# Unique Morse Code Words"
   ]
  },
  {
   "cell_type": "markdown",
   "metadata": {},
   "source": [
    "International Morse Code defines a standard encoding where each letter is mapped to a series of dots and dashes, as follows:\n",
    "\n",
    "- 'a' maps to \".-\",\n",
    "- 'b' maps to \"-...\",\n",
    "- 'c' maps to \"-.-.\", and so on.\n",
    "\n",
    "For convenience, the full table for the 26 letters of the English alphabet is given below:\n",
    "\n",
    "```\n",
    "[\".-\",\"-...\",\"-.-.\",\"-..\",\".\",\"..-.\",\"--.\",\"....\",\"..\",\".---\",\"-.-\",\".-..\",\"--\",\"-.\",\"---\",\".--.\",\"--.-\",\".-.\",\"...\",\"-\",\"..-\",\"...-\",\".--\",\"-..-\",\"-.--\",\"--..\"]\n",
    "```\n",
    "\n",
    "Given an array of strings words where each word can be written as a concatenation of the Morse code of each letter.\n",
    "\n",
    "- For example, \"cab\" can be written as `\"-.-..--...\"`, which is the concatenation of `\"-.-.\"`, `\".-\"`, and `\"-...\".` We will call such a concatenation the transformation of a word.\n",
    "\n",
    "Return the number of different transformations among all words we have."
   ]
  },
  {
   "cell_type": "markdown",
   "metadata": {},
   "source": [
    "Example 1:\n",
    "\n",
    "```\n",
    "Input: words = [\"gin\",\"zen\",\"gig\",\"msg\"]\n",
    "Output: 2\n",
    "Explanation: The transformation of each word is:\n",
    "\"gin\" -> \"--...-.\"\n",
    "\"zen\" -> \"--...-.\"\n",
    "\"gig\" -> \"--...--.\"\n",
    "\"msg\" -> \"--...--.\"\n",
    "There are 2 different transformations: \"--...-.\" and \"--...--.\".\n",
    "```"
   ]
  },
  {
   "cell_type": "markdown",
   "metadata": {},
   "source": [
    "Example 2:\n",
    "\n",
    "```\n",
    "Input: words = [\"a\"]\n",
    "Output: 1\n",
    "```"
   ]
  },
  {
   "cell_type": "markdown",
   "metadata": {},
   "source": [
    "Constraints:\n",
    "\n",
    "```\n",
    "1 <= words.length <= 100\n",
    "1 <= words[i].length <= 12\n",
    "words[i] consists of lowercase English letters.\n",
    "```"
   ]
  },
  {
   "cell_type": "code",
   "execution_count": 1,
   "metadata": {},
   "outputs": [],
   "source": [
    "from typing import *\n",
    "\n",
    "class Solution:\n",
    "    \n",
    "    # time = O(n)\n",
    "    # space = O(n)\n",
    "    def uniqueMorseRepresentations(self, words: List[str]) -> int:\n",
    "\n",
    "        MORSE = [\".-\",\"-...\",\"-.-.\",\"-..\",\".\",\"..-.\",\"--.\",\n",
    "                 \"....\",\"..\",\".---\",\"-.-\",\".-..\",\"--\",\"-.\",\n",
    "                 \"---\",\".--.\",\"--.-\",\".-.\",\"...\",\"-\",\"..-\",\n",
    "                 \"...-\",\".--\",\"-..-\",\"-.--\",\"--..\"]\n",
    "\n",
    "        seen = {\"\".join(MORSE[ord(c) - ord('a')] for c in word)\n",
    "                for word in words}\n",
    "\n",
    "        return len(seen)\n",
    "        \n"
   ]
  },
  {
   "cell_type": "code",
   "execution_count": 2,
   "metadata": {},
   "outputs": [
    {
     "name": "stdout",
     "output_type": "stream",
     "text": [
      "2\n"
     ]
    }
   ],
   "source": [
    "words = [\"gin\",\"zen\",\"gig\",\"msg\"]\n",
    "expected = 2\n",
    "\n",
    "output = Solution().uniqueMorseRepresentations(words)\n",
    "print(output)\n",
    "assert output == expected"
   ]
  },
  {
   "cell_type": "code",
   "execution_count": 3,
   "metadata": {},
   "outputs": [
    {
     "name": "stdout",
     "output_type": "stream",
     "text": [
      "1\n"
     ]
    }
   ],
   "source": [
    "words = [\"a\"]\n",
    "expected = 1\n",
    "\n",
    "output = Solution().uniqueMorseRepresentations(words)\n",
    "print(output)\n",
    "assert output == expected"
   ]
  }
 ],
 "metadata": {
  "kernelspec": {
   "display_name": "Python 3.10.5 64-bit ('3.10.5')",
   "language": "python",
   "name": "python3"
  },
  "language_info": {
   "codemirror_mode": {
    "name": "ipython",
    "version": 3
   },
   "file_extension": ".py",
   "mimetype": "text/x-python",
   "name": "python",
   "nbconvert_exporter": "python",
   "pygments_lexer": "ipython3",
   "version": "3.10.5"
  },
  "orig_nbformat": 4,
  "vscode": {
   "interpreter": {
    "hash": "992441bd4bc11ab83c63537935ea198062f55180155eaba570b8d7c82e005e8c"
   }
  }
 },
 "nbformat": 4,
 "nbformat_minor": 2
}
