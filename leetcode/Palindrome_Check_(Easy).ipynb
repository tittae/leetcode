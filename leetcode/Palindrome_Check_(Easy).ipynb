{
  "nbformat": 4,
  "nbformat_minor": 0,
  "metadata": {
    "colab": {
      "name": "Palindrome Check (Easy).ipynb",
      "provenance": [],
      "collapsed_sections": [],
      "authorship_tag": "ABX9TyOlJZEnpdZU9H3KNVDrGrnS",
      "include_colab_link": true
    },
    "kernelspec": {
      "name": "python3",
      "display_name": "Python 3"
    },
    "language_info": {
      "name": "python"
    }
  },
  "cells": [
    {
      "cell_type": "markdown",
      "metadata": {
        "id": "view-in-github",
        "colab_type": "text"
      },
      "source": [
        "<a href=\"https://colab.research.google.com/github/wisarootl/leetcode/blob/main/Palindrome_Check_(Easy).ipynb\" target=\"_parent\"><img src=\"https://colab.research.google.com/assets/colab-badge.svg\" alt=\"Open In Colab\"/></a>"
      ]
    },
    {
      "cell_type": "markdown",
      "metadata": {
        "id": "nvvZqp6nugev"
      },
      "source": [
        "# Palindrome Check\n"
      ]
    },
    {
      "cell_type": "markdown",
      "metadata": {
        "id": "1B9PlnjUulee"
      },
      "source": [
        "Write a function that takes in a non-empty string and that returns a boolean representing whether the string is a palindrome.\n",
        "\n",
        "A palindrome is defined as a string that's written the same forward and backward. Note that single-character strings are palindromes."
      ]
    },
    {
      "cell_type": "markdown",
      "metadata": {
        "id": "4uXaZk_3unP3"
      },
      "source": [
        "Palindrome Check\n",
        "\n",
        "```\n",
        "string = \"abcdcba\"\n",
        "```\n",
        "\n"
      ]
    },
    {
      "cell_type": "markdown",
      "metadata": {
        "id": "BDtqe442uqfU"
      },
      "source": [
        "Sample Output\n",
        "\n",
        "```\n",
        "true // it's written the same forward and backward\n",
        "```\n",
        "\n"
      ]
    },
    {
      "cell_type": "code",
      "metadata": {
        "id": "0GesD2uVuR7o"
      },
      "source": [
        "# Time: O(N), Space O(1)\n",
        "\n",
        "def isPalindrome(string):\n",
        "\tleft = 0\n",
        "\tright = len(string) - 1\n",
        "\twhile left <= right:\n",
        "\t\tif string[left] != string[right]:\n",
        "\t\t\treturn False\n",
        "\t\tleft += 1\n",
        "\t\tright -= 1\n",
        "\n",
        "\treturn True"
      ],
      "execution_count": null,
      "outputs": []
    },
    {
      "cell_type": "code",
      "metadata": {
        "id": "paV5yg2kv9-4"
      },
      "source": [
        "string = \"abcdcba\""
      ],
      "execution_count": null,
      "outputs": []
    },
    {
      "cell_type": "code",
      "metadata": {
        "colab": {
          "base_uri": "https://localhost:8080/"
        },
        "id": "cieM1JPIyOQu",
        "outputId": "310de1db-0c4a-4c72-80fc-ea96b80a352c"
      },
      "source": [
        "print(isPalindrome(string))"
      ],
      "execution_count": null,
      "outputs": [
        {
          "output_type": "stream",
          "name": "stdout",
          "text": [
            "True\n"
          ]
        }
      ]
    }
  ]
}