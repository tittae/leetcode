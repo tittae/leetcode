{
 "cells": [
  {
   "cell_type": "markdown",
   "metadata": {},
   "source": [
    "# Short Encoding of Words"
   ]
  },
  {
   "cell_type": "markdown",
   "metadata": {},
   "source": [
    "A valid encoding of an array of `words` is any reference string `s` and array of indices indices such that:\n",
    "\n",
    "- `words.length == indices.length`\n",
    "- The reference string `s` ends with the `'#'` character.\n",
    "- For each index `indices[i]`, the substring of s starting from `indices[i]` and up to (but not including) the next '#' character is equal to `words[i]`.\n",
    "\n",
    "Given an array of `words`, return the length of the shortest reference string `s` possible of any valid encoding of words.\n",
    "\n",
    " "
   ]
  },
  {
   "cell_type": "markdown",
   "metadata": {},
   "source": [
    "Example 1:\n",
    "```\n",
    "Input: words = [\"time\", \"me\", \"bell\"]\n",
    "Output: 10\n",
    "Explanation: A valid encoding would be s = \"time#bell#\" and indices = [0, 2, 5].\n",
    "words[0] = \"time\", the substring of s starting from indices[0] = 0 to the next '#' is underlined in \"time#bell#\"\n",
    "words[1] = \"me\", the substring of s starting from indices[1] = 2 to the next '#' is underlined in \"time#bell#\"\n",
    "words[2] = \"bell\", the substring of s starting from indices[2] = 5 to the next '#' is underlined in \"time#bell#\"\n",
    "```"
   ]
  },
  {
   "cell_type": "markdown",
   "metadata": {},
   "source": [
    "Example 2:\n",
    "```\n",
    "Input: words = [\"t\"]\n",
    "Output: 2\n",
    "Explanation: A valid encoding would be s = \"t#\" and indices = [0].\n",
    "```"
   ]
  },
  {
   "cell_type": "markdown",
   "metadata": {},
   "source": [
    "Constraints:\n",
    "```\n",
    "1 <= words.length <= 2000\n",
    "1 <= words[i].length <= 7\n",
    "words[i] consists of only lowercase letters.\n",
    "```"
   ]
  },
  {
   "cell_type": "code",
   "execution_count": 5,
   "metadata": {},
   "outputs": [],
   "source": [
    "import collections\n",
    "import functools\n",
    "\n",
    "class Solution(object):\n",
    "    # time = O(w*l)\n",
    "    # space = O(w*l)\n",
    "    # w = len(words)\n",
    "    # l = max length of word in words\n",
    "    def minimumLengthEncoding(self, words):\n",
    "        words = list(set(words)) #remove duplicates\n",
    "        #Trie is a nested dictionary with nodes created\n",
    "        # when fetched entries are missing\n",
    "        Trie = lambda: collections.defaultdict(Trie)\n",
    "        trie = Trie()\n",
    "\n",
    "        #reduce(..., S, trie) is trie[S[0]][S[1]][S[2]][...][S[S.length - 1]]\n",
    "        nodes = [functools.reduce(dict.__getitem__, word[::-1], trie)\n",
    "                 for word in words]\n",
    "\n",
    "        #Add word to the answer if it's node has no neighbors\n",
    "        return sum(len(word) + 1\n",
    "                   for i, word in enumerate(words)\n",
    "                   if len(nodes[i]) == 0)"
   ]
  },
  {
   "cell_type": "code",
   "execution_count": 6,
   "metadata": {},
   "outputs": [
    {
     "name": "stdout",
     "output_type": "stream",
     "text": [
      "10\n"
     ]
    }
   ],
   "source": [
    "words = [\"time\", \"me\", \"bell\"]\n",
    "expected = 10\n",
    "\n",
    "output = Solution().minimumLengthEncoding(words)\n",
    "print(output)\n",
    "assert output == expected"
   ]
  },
  {
   "cell_type": "code",
   "execution_count": 7,
   "metadata": {},
   "outputs": [
    {
     "name": "stdout",
     "output_type": "stream",
     "text": [
      "2\n"
     ]
    }
   ],
   "source": [
    "words = [\"t\"]\n",
    "expected = 2\n",
    "\n",
    "output = Solution().minimumLengthEncoding(words)\n",
    "print(output)\n",
    "assert output == expected"
   ]
  }
 ],
 "metadata": {
  "kernelspec": {
   "display_name": "Python 3.10.5 64-bit (windows store)",
   "language": "python",
   "name": "python3"
  },
  "language_info": {
   "codemirror_mode": {
    "name": "ipython",
    "version": 3
   },
   "file_extension": ".py",
   "mimetype": "text/x-python",
   "name": "python",
   "nbconvert_exporter": "python",
   "pygments_lexer": "ipython3",
   "version": "3.10.5"
  },
  "orig_nbformat": 4,
  "vscode": {
   "interpreter": {
    "hash": "3822405be9f5fb329f7270cbdcf73e762c62b3f383c5e71390a1a4648678c1cb"
   }
  }
 },
 "nbformat": 4,
 "nbformat_minor": 2
}
