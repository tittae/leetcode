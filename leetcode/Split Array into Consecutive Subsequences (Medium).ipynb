{
 "cells": [
  {
   "cell_type": "markdown",
   "metadata": {},
   "source": [
    "# Split Array into Consecutive Subsequences"
   ]
  },
  {
   "cell_type": "markdown",
   "metadata": {},
   "source": [
    "You are given an integer array nums that is sorted in non-decreasing order.\n",
    "\n",
    "Determine if it is possible to split nums into one or more subsequences such that both of the following conditions are true:\n",
    "\n",
    "- Each subsequence is a consecutive increasing sequence (i.e. each integer is exactly one more than the previous integer).\n",
    "- All subsequences have a length of 3 or more.\n",
    "\n",
    "Return true if you can split nums according to the above conditions, or false otherwise.\n",
    "\n",
    "A subsequence of an array is a new array that is formed from the original array by deleting some (can be none) of the elements without disturbing the relative positions of the remaining elements. (i.e., `[1,3,5]` is a subsequence of `[1,2,3,4,5]` while `[1,3,2]` is not).\n",
    "\n"
   ]
  },
  {
   "cell_type": "markdown",
   "metadata": {},
   "source": [
    "Example 1:\n",
    "\n",
    "```\n",
    "Input: nums = [1,2,3,3,4,5]\n",
    "Output: true\n",
    "Explanation: nums can be split into the following subsequences:\n",
    "[1,2,3,3,4,5] --> 1, 2, 3\n",
    "[1,2,3,3,4,5] --> 3, 4, 5\n",
    "```"
   ]
  },
  {
   "cell_type": "markdown",
   "metadata": {},
   "source": [
    "Example 2:\n",
    "\n",
    "```\n",
    "Input: nums = [1,2,3,3,4,4,5,5]\n",
    "Output: true\n",
    "Explanation: nums can be split into the following subsequences:\n",
    "[1,2,3,3,4,4,5,5] --> 1, 2, 3, 4, 5\n",
    "[1,2,3,3,4,4,5,5] --> 3, 4, 5\n",
    "```"
   ]
  },
  {
   "cell_type": "markdown",
   "metadata": {},
   "source": [
    "Example 3:\n",
    "\n",
    "```\n",
    "Input: nums = [1,2,3,4,4,5]\n",
    "Output: false\n",
    "Explanation: It is impossible to split nums into consecutive increasing subsequences of length 3 or more.\n",
    "```"
   ]
  },
  {
   "cell_type": "markdown",
   "metadata": {},
   "source": [
    "Constraints:\n",
    "\n",
    "```\n",
    "1 <= nums.length <= 104\n",
    "-1000 <= nums[i] <= 1000\n",
    "nums is sorted in non-decreasing order.\n",
    "```"
   ]
  },
  {
   "cell_type": "code",
   "execution_count": 1,
   "metadata": {},
   "outputs": [],
   "source": [
    "import collections\n",
    "\n",
    "class Solution:\n",
    "    # time = O(n)\n",
    "    # space = O(n)\n",
    "    def isPossible(self, A):\n",
    "        left = collections.Counter(A)\n",
    "        end = collections.Counter()\n",
    "\n",
    "        for i in A:\n",
    "            if not left[i]: continue\n",
    "            left[i] -= 1\n",
    "            if end[i - 1] > 0:\n",
    "                end[i - 1] -= 1\n",
    "                end[i] += 1\n",
    "            elif left[i + 1] and left[i + 2]:\n",
    "                left[i + 1] -= 1\n",
    "                left[i + 2] -= 1\n",
    "                end[i + 2] += 1\n",
    "            else:\n",
    "                return False\n",
    "\n",
    "        return True"
   ]
  },
  {
   "cell_type": "code",
   "execution_count": 2,
   "metadata": {},
   "outputs": [
    {
     "name": "stdout",
     "output_type": "stream",
     "text": [
      "True\n"
     ]
    }
   ],
   "source": [
    "nums = [1,2,3,3,4,5]\n",
    "expected = True\n",
    "\n",
    "output = Solution().isPossible(nums)\n",
    "print(output)\n",
    "assert output == expected"
   ]
  },
  {
   "cell_type": "code",
   "execution_count": 3,
   "metadata": {},
   "outputs": [
    {
     "name": "stdout",
     "output_type": "stream",
     "text": [
      "True\n"
     ]
    }
   ],
   "source": [
    "nums = [1,2,3,3,4,4,5,5]\n",
    "expected = True\n",
    "\n",
    "output = Solution().isPossible(nums)\n",
    "print(output)\n",
    "assert output == expected"
   ]
  },
  {
   "cell_type": "code",
   "execution_count": 4,
   "metadata": {},
   "outputs": [
    {
     "name": "stdout",
     "output_type": "stream",
     "text": [
      "False\n"
     ]
    }
   ],
   "source": [
    "nums = [1,2,3,4,4,5]\n",
    "expected = False\n",
    "\n",
    "output = Solution().isPossible(nums)\n",
    "print(output)\n",
    "assert output == expected"
   ]
  }
 ],
 "metadata": {
  "kernelspec": {
   "display_name": "Python 3.10.5 64-bit ('3.10.5')",
   "language": "python",
   "name": "python3"
  },
  "language_info": {
   "codemirror_mode": {
    "name": "ipython",
    "version": 3
   },
   "file_extension": ".py",
   "mimetype": "text/x-python",
   "name": "python",
   "nbconvert_exporter": "python",
   "pygments_lexer": "ipython3",
   "version": "3.10.5"
  },
  "orig_nbformat": 4,
  "vscode": {
   "interpreter": {
    "hash": "992441bd4bc11ab83c63537935ea198062f55180155eaba570b8d7c82e005e8c"
   }
  }
 },
 "nbformat": 4,
 "nbformat_minor": 2
}
