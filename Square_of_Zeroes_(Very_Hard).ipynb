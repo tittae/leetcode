{
  "nbformat": 4,
  "nbformat_minor": 0,
  "metadata": {
    "colab": {
      "name": "Square of Zeroes (Very Hard).ipynb",
      "provenance": [],
      "collapsed_sections": [],
      "authorship_tag": "ABX9TyM5oNFDXUm/Cb3xnzq4/TMQ",
      "include_colab_link": true
    },
    "kernelspec": {
      "name": "python3",
      "display_name": "Python 3"
    },
    "language_info": {
      "name": "python"
    }
  },
  "cells": [
    {
      "cell_type": "markdown",
      "metadata": {
        "id": "view-in-github",
        "colab_type": "text"
      },
      "source": [
        "<a href=\"https://colab.research.google.com/github/wisarootl/leetcode/blob/main/Square_of_Zeroes_(Very_Hard).ipynb\" target=\"_parent\"><img src=\"https://colab.research.google.com/assets/colab-badge.svg\" alt=\"Open In Colab\"/></a>"
      ]
    },
    {
      "cell_type": "code",
      "metadata": {
        "id": "sp6Is85X7AgK"
      },
      "source": [
        "def squareOfZeroes(matrix):\n",
        "  potential_square_from_valid_rows = set()\n",
        "  \n",
        "  # identify valid rows\n",
        "  # Time O(n^3)\n",
        "  # Space O(n^3)\n",
        "  for i in range(len(matrix)):\n",
        "    for j in range(i + 1, len(matrix)):\n",
        "      square_size = j - i + 1\n",
        "      for k in range(len(matrix[0]) - square_size + 1):\n",
        "        if matrix[i][k:k + square_size] == [0] * square_size and matrix[j][k:k + square_size] == [0] * square_size:\n",
        "          potential_square_from_valid_rows.add((i, j, k, k + square_size - 1))\n",
        "\n",
        "  # check valid col\n",
        "  # Time O()\n",
        "  for potential_square in potential_square_from_valid_rows:\n",
        "    row1 = potential_square[0]\n",
        "    row2 = potential_square[1]\n",
        "    col1 = potential_square[2]\n",
        "    col2 = potential_square[3]\n",
        "    for row in range(row1, row2 + 1):\n",
        "      if matrix[row][col1] == 0 and matrix[row][col2] == 0:\n",
        "        if row == row2:\n",
        "          return True\n",
        "      elif matrix[row][col1] != 0 or matrix[row][col2] != 0:\n",
        "        break\n",
        "  return False"
      ],
      "execution_count": 54,
      "outputs": []
    },
    {
      "cell_type": "code",
      "metadata": {
        "colab": {
          "base_uri": "https://localhost:8080/"
        },
        "id": "MgbOhZ3n7Fjw",
        "outputId": "e4296f7f-4c9f-4a00-f296-26c3287e7417"
      },
      "source": [
        "matrix = [\n",
        "  [1, 1, 1, 0, 1, 0],\n",
        "  [0, 0, 0, 0, 0, 1],\n",
        "  [0, 1, 1, 1, 0, 1],\n",
        "  [0, 0, 0, 1, 0, 1],\n",
        "  [0, 1, 1, 1, 0, 1],\n",
        "  [0, 0, 0, 0, 0, 1],\n",
        "]\n",
        "print(squareOfZeroes(matrix))"
      ],
      "execution_count": 41,
      "outputs": [
        {
          "output_type": "stream",
          "name": "stdout",
          "text": [
            "{(1, 3, 0, 2), (3, 5, 0, 2), (1, 5, 0, 4)}\n",
            "(1, 3, 0, 2)\n",
            "True\n"
          ]
        }
      ]
    },
    {
      "cell_type": "code",
      "metadata": {
        "colab": {
          "base_uri": "https://localhost:8080/"
        },
        "id": "oLZDFL-59bbO",
        "outputId": "d95597af-9aa6-4535-b358-62062adf9bce"
      },
      "source": [
        "matrix = [\n",
        "    [1, 1, 1, 0, 1, 0],\n",
        "    [0, 0, 0, 0, 0, 1],\n",
        "    [0, 1, 1, 1, 0, 1],\n",
        "    [0, 0, 0, 1, 1, 1],\n",
        "    [0, 1, 1, 1, 0, 1],\n",
        "    [0, 0, 0, 0, 0, 1]\n",
        "  ]\n",
        "print(squareOfZeroes(matrix))"
      ],
      "execution_count": 55,
      "outputs": [
        {
          "output_type": "stream",
          "name": "stdout",
          "text": [
            "{(1, 3, 0, 2), (3, 5, 0, 2), (1, 5, 0, 4)}\n",
            "False\n"
          ]
        }
      ]
    }
  ]
}