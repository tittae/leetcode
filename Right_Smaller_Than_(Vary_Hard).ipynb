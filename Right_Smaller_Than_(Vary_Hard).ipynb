{
  "nbformat": 4,
  "nbformat_minor": 0,
  "metadata": {
    "colab": {
      "name": "Right Smaller Than (Vary Hard).ipynb",
      "provenance": [],
      "authorship_tag": "ABX9TyOlA81X7PJwj72+mgoBKXz9",
      "include_colab_link": true
    },
    "kernelspec": {
      "name": "python3",
      "display_name": "Python 3"
    },
    "language_info": {
      "name": "python"
    }
  },
  "cells": [
    {
      "cell_type": "markdown",
      "metadata": {
        "id": "view-in-github",
        "colab_type": "text"
      },
      "source": [
        "<a href=\"https://colab.research.google.com/github/tittae/leetcode/blob/main/Right_Smaller_Than_(Vary_Hard).ipynb\" target=\"_parent\"><img src=\"https://colab.research.google.com/assets/colab-badge.svg\" alt=\"Open In Colab\"/></a>"
      ]
    },
    {
      "cell_type": "markdown",
      "metadata": {
        "id": "KWHxBTwKWj5D"
      },
      "source": [
        "Write a function that takes in an array of integers and returns an array of the same length, where each element in the output array corresponds to the number of integers in the input array that are to the right of the relevant index and that are strictly smaller than the integer at that index.\n",
        "\n",
        "In other words, the value at `output[i]` represents the number of integers that are to the right of `i` and that are strictly smaller than `input[i]`."
      ]
    },
    {
      "cell_type": "markdown",
      "metadata": {
        "id": "bVUzk-z7WpXf"
      },
      "source": [
        "Sample Input\n",
        "\n",
        "```\n",
        "array = [8, 5, 11, -1, 3, 4, 2]\n",
        "```\n",
        "\n"
      ]
    },
    {
      "cell_type": "markdown",
      "metadata": {
        "id": "i2zxWM-WWrHM"
      },
      "source": [
        "Sample Output\n",
        "\n",
        "```\n",
        "[5, 4, 4, 0, 1, 1, 0]\n",
        "// There are 5 integers smaller than 8 to the right of it.\n",
        "// There are 4 integers smaller than 5 to the right of it.\n",
        "// There are 4 integers smaller than 11 to the right of it.\n",
        "// Etc..\n",
        "```\n",
        "\n"
      ]
    },
    {
      "cell_type": "code",
      "metadata": {
        "id": "FlSQHri6Wgfw"
      },
      "source": [
        "def rightSmallerThan(array):\n",
        "\tif len(array) == 0:\n",
        "\t\treturn []\n",
        "\t\n",
        "\tright_smaller_count = array[:]\n",
        "\tlast_idx = len(array) - 1\n",
        "\tbst = special_bst(array[last_idx])\n",
        "\tright_smaller_count[last_idx] = 0\n",
        "\tfor i in reversed(range(len(array) - 1)):\n",
        "\t\tbst.insert(array[i], i, right_smaller_count)\n",
        "\n",
        "\treturn right_smaller_count\n",
        "\n",
        "class special_bst():\n",
        "\tdef __init__(self, value):\n",
        "\t\tself.value = value\n",
        "\t\tself.left = None\n",
        "\t\tself.right = None\n",
        "\t\tself.left_node_count = 0\n",
        "\n",
        "\tdef insert(self, value, idx, right_smaller_count, smaller_count_at_insertion = 0):\n",
        "\t\tif value < self.value:\n",
        "\t\t\tself.left_node_count += 1\n",
        "\t\t\tif self.left == None:\n",
        "\t\t\t\tself.left = special_bst(value)\n",
        "\t\t\t\tright_smaller_count[idx] = smaller_count_at_insertion\n",
        "\t\t\telse:\t\n",
        "\t\t\t\tself.left.insert(value, idx, right_smaller_count, smaller_count_at_insertion)\n",
        "\n",
        "\t\telse:\n",
        "\t\t\tsmaller_count_at_insertion += self.left_node_count\n",
        "\t\t\tif value > self.value:\n",
        "\t\t\t\tsmaller_count_at_insertion += 1\n",
        "\t\t\tif self.right == None:\n",
        "\t\t\t\tself.right = special_bst(value)\n",
        "\t\t\t\tright_smaller_count[idx] = smaller_count_at_insertion\n",
        "\t\t\telse:\n",
        "\t\t\t\tself.right.insert(value, idx, right_smaller_count, smaller_count_at_insertion)"
      ],
      "execution_count": 1,
      "outputs": []
    },
    {
      "cell_type": "code",
      "metadata": {
        "id": "fl5hLysKuKu9"
      },
      "source": [
        "array = [8, 5, 11, -1, 3, 4, 2]"
      ],
      "execution_count": 2,
      "outputs": []
    },
    {
      "cell_type": "code",
      "metadata": {
        "colab": {
          "base_uri": "https://localhost:8080/"
        },
        "id": "QtyIpQSquMJL",
        "outputId": "0d0c23b3-ec26-4069-9775-c82a9ae552f6"
      },
      "source": [
        "print(rightSmallerThan(array))"
      ],
      "execution_count": 3,
      "outputs": [
        {
          "output_type": "stream",
          "name": "stdout",
          "text": [
            "[5, 4, 4, 0, 1, 1, 0]\n"
          ]
        }
      ]
    },
    {
      "cell_type": "code",
      "metadata": {
        "colab": {
          "base_uri": "https://localhost:8080/"
        },
        "id": "Faxj0OKLubJ8",
        "outputId": "03fb6884-bd5d-41a6-f04b-cde9e3aa54c1"
      },
      "source": [
        "# ---------- Test Case 1 ----------\n",
        "array = [8, 5, 11, -1, 3, 4, 2]\n",
        "print(rightSmallerThan(array))\n",
        "\n",
        "# ---------- Test Case 2 ----------\n",
        "array = []\n",
        "print(rightSmallerThan(array))\n",
        "\n",
        "# ---------- Test Case 3 ----------\n",
        "array = [1]\n",
        "print(rightSmallerThan(array))\n",
        "\n",
        "# ---------- Test Case 4 ----------\n",
        "array = [0, 1, 1, 2, 3, 5, 8, 13]\n",
        "print(rightSmallerThan(array))\n",
        "\n",
        "# ---------- Test Case 5 ----------\n",
        "array = [13, 8, 5, 3, 2, 1, 1, 0]\n",
        "print(rightSmallerThan(array))\n",
        "\n",
        "# ---------- Test Case 6 ----------\n",
        "array = [8, 5, 2, 9, 5, 6, 3]\n",
        "print(rightSmallerThan(array))"
      ],
      "execution_count": 4,
      "outputs": [
        {
          "output_type": "stream",
          "name": "stdout",
          "text": [
            "[5, 4, 4, 0, 1, 1, 0]\n",
            "[]\n",
            "[0]\n",
            "[0, 0, 0, 0, 0, 0, 0, 0]\n",
            "[7, 6, 5, 4, 3, 1, 1, 0]\n",
            "[5, 2, 0, 3, 1, 1, 0]\n"
          ]
        }
      ]
    }
  ]
}